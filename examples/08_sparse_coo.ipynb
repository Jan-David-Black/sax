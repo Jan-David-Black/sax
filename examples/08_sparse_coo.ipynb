{
 "cells": [
  {
   "cell_type": "markdown",
   "id": "2bfd16a0-0ef5-4d82-9beb-9840f691e6d3",
   "metadata": {},
   "source": [
    "## Sparse COO"
   ]
  },
  {
   "cell_type": "markdown",
   "id": "1527743d-d44d-40d2-af44-388b5861fad9",
   "metadata": {},
   "source": [
    "> The most efficient S-representation is the COO representation. It's however also the least user friendly:"
   ]
  },
  {
   "cell_type": "code",
   "execution_count": null,
   "id": "364360b8-f53c-45f1-ac14-51cefee2fec1",
   "metadata": {},
   "outputs": [],
   "source": [
    "# hide\n",
    "import sax\n",
    "import jax.numpy as jnp"
   ]
  },
  {
   "cell_type": "code",
   "execution_count": null,
   "id": "441ffa75-e5f0-408b-8eee-9d4304ac4c21",
   "metadata": {},
   "outputs": [],
   "source": [
    "def my_coo(*, wl=1.5):\n",
    "    num_input_ports = 4\n",
    "    num_output_ports = 1\n",
    "    pm = {\n",
    "        **{f\"in{i}\": i for i in range(num_input_ports)},\n",
    "        **{f\"out{i}\": i + num_input_ports for i in range(num_output_ports)},\n",
    "    }\n",
    "    thru = jnp.ones(num_input_ports)\n",
    "    i = jnp.arange(0, num_input_ports, 1)\n",
    "    j = jnp.zeros_like(i) + num_input_ports\n",
    "\n",
    "    # make reciprocal\n",
    "    i, j = jnp.concatenate([i, j]), jnp.concatenate([j, i])\n",
    "    thru = jnp.concatenate([thru, thru], 0)\n",
    "    return (i, j, thru, pm)"
   ]
  },
  {
   "cell_type": "code",
   "execution_count": null,
   "id": "db714fb4-a262-45db-9fed-7f1b4a406c7b",
   "metadata": {},
   "outputs": [],
   "source": [
    "circuit, _ = sax.circuit(\n",
    "    netlist={\n",
    "        \"instances\": {\n",
    "            \"coo\": \"coo\",\n",
    "        },\n",
    "        \"connections\": {},\n",
    "        \"ports\": {\n",
    "            \"in0\": \"coo,in0\",\n",
    "            \"out0\": \"coo,out0\",\n",
    "        },\n",
    "    },\n",
    "    models={\n",
    "        \"coo\": my_coo,\n",
    "    },\n",
    "    backend=\"klu\",\n",
    "    return_type=\"scoo\",\n",
    ")"
   ]
  },
  {
   "cell_type": "code",
   "execution_count": null,
   "id": "69cfc75e-623c-4171-a296-ea10afbc6afb",
   "metadata": {},
   "outputs": [],
   "source": [
    "circuit()"
   ]
  },
  {
   "cell_type": "code",
   "execution_count": null,
   "id": "ef096d6a-6851-4089-b327-7063378a3ed5",
   "metadata": {},
   "outputs": [],
   "source": [
    "sax.sdict(circuit())"
   ]
  }
 ],
 "metadata": {
  "kernelspec": {
   "display_name": "Python 3 (ipykernel)",
   "language": "python",
   "name": "python3"
  },
  "language_info": {
   "codemirror_mode": {
    "name": "ipython",
    "version": 3
   },
   "file_extension": ".py",
   "mimetype": "text/x-python",
   "name": "python",
   "nbconvert_exporter": "python",
   "pygments_lexer": "ipython3",
   "version": "3.10.12"
  }
 },
 "nbformat": 4,
 "nbformat_minor": 5
}

{
  "cells": [
    {
      "cell_type": "code",
      "execution_count": 1,
      "id": "1fcf6e6f6c040836",
      "metadata": {
        "execution": {
          "iopub.execute_input": "2022-08-10T14:58:08.619473Z",
          "iopub.status.busy": "2022-08-10T14:58:08.619038Z",
          "iopub.status.idle": "2022-08-10T14:58:08.621618Z",
          "shell.execute_reply": "2022-08-10T14:58:08.621153Z"
        },
        "papermill": {
          "duration": 0.018586,
          "end_time": "2022-08-10T14:58:08.621719",
          "exception": false,
          "start_time": "2022-08-10T14:58:08.603133",
          "status": "completed"
        },
        "tags": [
          "remove-cell"
        ]
      },
      "outputs": [],
      "source": []
    },
    {
      "cell_type": "markdown",
      "id": "b4250b31",
      "metadata": {
        "papermill": {
          "duration": 0.01115,
          "end_time": "2022-08-10T14:58:08.644652",
          "exception": false,
          "start_time": "2022-08-10T14:58:08.633502",
          "status": "completed"
        },
        "tags": []
      },
      "source": [
        "# SAX init\n",
        "\n",
        "> Import everything into the `sax` namespace:"
      ]
    },
    {
      "cell_type": "code",
      "execution_count": 2,
      "id": "4ab8b25bacff83a4",
      "metadata": {
        "execution": {
          "iopub.execute_input": "2022-08-10T14:58:08.674298Z",
          "iopub.status.busy": "2022-08-10T14:58:08.673890Z",
          "iopub.status.idle": "2022-08-10T14:58:09.345243Z",
          "shell.execute_reply": "2022-08-10T14:58:09.344524Z"
        },
        "papermill": {
          "duration": 0.689534,
          "end_time": "2022-08-10T14:58:09.345349",
          "exception": false,
          "start_time": "2022-08-10T14:58:08.655815",
          "status": "completed"
        },
        "tags": [
          "remove-cell"
        ]
      },
      "outputs": [],
      "source": [
        "import matplotlib.pyplot as plt\n",
        "from fastcore.test import test_eq\n",
        "from pytest import approx, raises\n",
        "\n",
        "import os, sys; sys.stderr = open(os.devnull, \"w\")"
      ]
    },
    {
      "cell_type": "code",
      "execution_count": 3,
      "id": "7b81bc83df7ee8e3",
      "metadata": {
        "execution": {
          "iopub.execute_input": "2022-08-10T14:58:09.372306Z",
          "iopub.status.busy": "2022-08-10T14:58:09.371514Z",
          "iopub.status.idle": "2022-08-10T14:58:09.372772Z",
          "shell.execute_reply": "2022-08-10T14:58:09.373092Z"
        },
        "papermill": {
          "duration": 0.016031,
          "end_time": "2022-08-10T14:58:09.373207",
          "exception": false,
          "start_time": "2022-08-10T14:58:09.357176",
          "status": "completed"
        },
        "tags": [
          "remove-cell"
        ]
      },
      "outputs": [],
      "source": [
        "__author__ = \"Floris Laporte\"\n",
        "__version__ = \"0.7.3\""
      ]
    },
    {
      "cell_type": "code",
      "execution_count": 4,
      "id": "8607105995ced04a",
      "metadata": {
        "execution": {
          "iopub.execute_input": "2022-08-10T14:58:09.399323Z",
          "iopub.status.busy": "2022-08-10T14:58:09.398904Z",
          "iopub.status.idle": "2022-08-10T14:58:09.399921Z",
          "shell.execute_reply": "2022-08-10T14:58:09.400252Z"
        },
        "papermill": {
          "duration": 0.015714,
          "end_time": "2022-08-10T14:58:09.400362",
          "exception": false,
          "start_time": "2022-08-10T14:58:09.384648",
          "status": "completed"
        },
        "tags": [
          "remove-cell"
        ]
      },
      "outputs": [],
      "source": [
        "from __future__ import annotations"
      ]
    },
    {
      "cell_type": "markdown",
      "id": "fe77e5e3",
      "metadata": {
        "papermill": {
          "duration": 0.011537,
          "end_time": "2022-08-10T14:58:09.423427",
          "exception": false,
          "start_time": "2022-08-10T14:58:09.411890",
          "status": "completed"
        },
        "tags": []
      },
      "source": [
        "## External\n",
        "\n",
        "utils from other packages available in SAX for convenience:"
      ]
    },
    {
      "cell_type": "code",
      "execution_count": 5,
      "id": "40a24a59e04abf8e",
      "metadata": {
        "execution": {
          "iopub.execute_input": "2022-08-10T14:58:09.450101Z",
          "iopub.status.busy": "2022-08-10T14:58:09.449692Z",
          "iopub.status.idle": "2022-08-10T14:58:09.995871Z",
          "shell.execute_reply": "2022-08-10T14:58:09.995492Z"
        },
        "papermill": {
          "duration": 0.56102,
          "end_time": "2022-08-10T14:58:09.995977",
          "exception": false,
          "start_time": "2022-08-10T14:58:09.434957",
          "status": "completed"
        },
        "tags": []
      },
      "outputs": [],
      "source": [
        "from functools import partial as partial\n",
        "from math import pi as pi\n",
        "\n",
        "from scipy.constants import c as c\n",
        "\n",
        "try:\n",
        "    from flax.core.frozen_dict import FrozenDict as FrozenDict\n",
        "except ImportError:\n",
        "    FrozenDict = dict"
      ]
    },
    {
      "cell_type": "markdown",
      "id": "3d3bde86",
      "metadata": {
        "papermill": {
          "duration": 0.012104,
          "end_time": "2022-08-10T14:58:10.020026",
          "exception": false,
          "start_time": "2022-08-10T14:58:10.007922",
          "status": "completed"
        },
        "tags": []
      },
      "source": [
        "## Typing"
      ]
    },
    {
      "cell_type": "code",
      "execution_count": 6,
      "id": "a2e99c9e98f6b9cf",
      "metadata": {
        "execution": {
          "iopub.execute_input": "2022-08-10T14:58:10.045852Z",
          "iopub.status.busy": "2022-08-10T14:58:10.045431Z",
          "iopub.status.idle": "2022-08-10T14:58:10.136688Z",
          "shell.execute_reply": "2022-08-10T14:58:10.136310Z"
        },
        "papermill": {
          "duration": 0.105049,
          "end_time": "2022-08-10T14:58:10.136794",
          "exception": false,
          "start_time": "2022-08-10T14:58:10.031745",
          "status": "completed"
        },
        "tags": []
      },
      "outputs": [],
      "source": [
        "\n",
        "from sax import typing_ as typing\n",
        "from sax.typing_ import (\n",
        "    Array as Array,\n",
        "    ComplexFloat as ComplexFloat,\n",
        "    Float as Float,\n",
        "    Instance as Instance,\n",
        "    Instances as Instances,\n",
        "    LogicalNetlist as LogicalNetlist,\n",
        "    Model as Model,\n",
        "    ModelFactory as ModelFactory,\n",
        "    Models as Models,\n",
        "    Netlist as Netlist,\n",
        "    SCoo as SCoo,\n",
        "    SDense as SDense,\n",
        "    SDict as SDict,\n",
        "    Settings as Settings,\n",
        "    SType as SType,\n",
        "    is_complex as is_complex,\n",
        "    is_complex_float as is_complex_float,\n",
        "    is_float as is_float,\n",
        "    is_instance as is_instance,\n",
        "    is_mixedmode as is_mixedmode,\n",
        "    is_model as is_model,\n",
        "    is_model_factory as is_model_factory,\n",
        "    is_multimode as is_multimode,\n",
        "    is_netlist as is_netlist,\n",
        "    is_scoo as is_scoo,\n",
        "    is_sdense as is_sdense,\n",
        "    is_sdict as is_sdict,\n",
        "    is_singlemode as is_singlemode,\n",
        "    modelfactory as modelfactory,\n",
        "    scoo as scoo,\n",
        "    sdense as sdense,\n",
        "    sdict as sdict,\n",
        "    validate_model as validate_model,\n",
        ")"
      ]
    },
    {
      "cell_type": "markdown",
      "id": "345808d3",
      "metadata": {
        "papermill": {
          "duration": 0.012119,
          "end_time": "2022-08-10T14:58:10.160855",
          "exception": false,
          "start_time": "2022-08-10T14:58:10.148736",
          "status": "completed"
        },
        "tags": []
      },
      "source": [
        "## Utils"
      ]
    },
    {
      "cell_type": "code",
      "execution_count": 7,
      "id": "9cbad10345ecefdd",
      "metadata": {
        "execution": {
          "iopub.execute_input": "2022-08-10T14:58:10.187078Z",
          "iopub.status.busy": "2022-08-10T14:58:10.186628Z",
          "iopub.status.idle": "2022-08-10T14:58:10.190586Z",
          "shell.execute_reply": "2022-08-10T14:58:10.190267Z"
        },
        "papermill": {
          "duration": 0.017887,
          "end_time": "2022-08-10T14:58:10.190696",
          "exception": false,
          "start_time": "2022-08-10T14:58:10.172809",
          "status": "completed"
        },
        "tags": []
      },
      "outputs": [],
      "source": [
        "\n",
        "from sax import utils as utils\n",
        "from sax.utils import (\n",
        "    block_diag as block_diag,\n",
        "    clean_string as clean_string,\n",
        "    copy_settings as copy_settings,\n",
        "    flatten_dict as flatten_dict,\n",
        "    get_inputs_outputs as get_inputs_outputs,\n",
        "    get_port_combinations as get_port_combinations,\n",
        "    get_ports as get_ports,\n",
        "    get_settings as get_settings,\n",
        "    grouped_interp as grouped_interp,\n",
        "    merge_dicts as merge_dicts,\n",
        "    mode_combinations as mode_combinations,\n",
        "    reciprocal as reciprocal,\n",
        "    rename_params as rename_params,\n",
        "    rename_ports as rename_ports,\n",
        "    try_float as try_float,\n",
        "    unflatten_dict as unflatten_dict,\n",
        "    update_settings as update_settings,\n",
        "    validate_multimode as validate_multimode,\n",
        "    validate_not_mixedmode as validate_not_mixedmode,\n",
        "    validate_sdict as validate_sdict,\n",
        "    validate_settings as validate_settings,\n",
        ")"
      ]
    },
    {
      "cell_type": "markdown",
      "id": "d80b6784",
      "metadata": {
        "papermill": {
          "duration": 0.011666,
          "end_time": "2022-08-10T14:58:10.213885",
          "exception": false,
          "start_time": "2022-08-10T14:58:10.202219",
          "status": "completed"
        },
        "tags": []
      },
      "source": [
        "## Caching"
      ]
    },
    {
      "cell_type": "code",
      "execution_count": 8,
      "id": "45592ac297e32b1b",
      "metadata": {
        "execution": {
          "iopub.execute_input": "2022-08-10T14:58:10.240471Z",
          "iopub.status.busy": "2022-08-10T14:58:10.240053Z",
          "iopub.status.idle": "2022-08-10T14:58:10.241674Z",
          "shell.execute_reply": "2022-08-10T14:58:10.241347Z"
        },
        "papermill": {
          "duration": 0.016178,
          "end_time": "2022-08-10T14:58:10.241761",
          "exception": false,
          "start_time": "2022-08-10T14:58:10.225583",
          "status": "completed"
        },
        "tags": []
      },
      "outputs": [],
      "source": [
        "\n",
        "from sax import caching as caching\n",
        "from sax.caching import (\n",
        "    cache as cache, \n",
        "    cache_clear as cache_clear,\n",
        ")"
      ]
    },
    {
      "cell_type": "markdown",
      "id": "23287a09",
      "metadata": {
        "papermill": {
          "duration": 0.011612,
          "end_time": "2022-08-10T14:58:10.265159",
          "exception": false,
          "start_time": "2022-08-10T14:58:10.253547",
          "status": "completed"
        },
        "tags": []
      },
      "source": [
        "## Multimode"
      ]
    },
    {
      "cell_type": "code",
      "execution_count": 9,
      "id": "f9202864021fd0b2",
      "metadata": {
        "execution": {
          "iopub.execute_input": "2022-08-10T14:58:10.291588Z",
          "iopub.status.busy": "2022-08-10T14:58:10.291177Z",
          "iopub.status.idle": "2022-08-10T14:58:10.292385Z",
          "shell.execute_reply": "2022-08-10T14:58:10.292698Z"
        },
        "papermill": {
          "duration": 0.016007,
          "end_time": "2022-08-10T14:58:10.292801",
          "exception": false,
          "start_time": "2022-08-10T14:58:10.276794",
          "status": "completed"
        },
        "tags": []
      },
      "outputs": [],
      "source": [
        "\n",
        "from sax import multimode as multimode\n",
        "from sax.multimode import (\n",
        "    multimode as multimode,\n",
        "    singlemode as singlemode,\n",
        ")"
      ]
    },
    {
      "cell_type": "markdown",
      "id": "c794abf0",
      "metadata": {
        "papermill": {
          "duration": 0.01182,
          "end_time": "2022-08-10T14:58:10.316520",
          "exception": false,
          "start_time": "2022-08-10T14:58:10.304700",
          "status": "completed"
        },
        "tags": []
      },
      "source": [
        "## Models"
      ]
    },
    {
      "cell_type": "code",
      "execution_count": 10,
      "id": "982471124d70bbba",
      "metadata": {
        "execution": {
          "iopub.execute_input": "2022-08-10T14:58:10.343216Z",
          "iopub.status.busy": "2022-08-10T14:58:10.342811Z",
          "iopub.status.idle": "2022-08-10T14:58:10.344257Z",
          "shell.execute_reply": "2022-08-10T14:58:10.343925Z"
        },
        "papermill": {
          "duration": 0.016057,
          "end_time": "2022-08-10T14:58:10.344342",
          "exception": false,
          "start_time": "2022-08-10T14:58:10.328285",
          "status": "completed"
        },
        "tags": []
      },
      "outputs": [],
      "source": [
        "\n",
        "from sax import models as models\n",
        "from sax.models import get_models as get_models, passthru as passthru"
      ]
    },
    {
      "cell_type": "markdown",
      "id": "b94feb62",
      "metadata": {
        "papermill": {
          "duration": 0.011759,
          "end_time": "2022-08-10T14:58:10.368035",
          "exception": false,
          "start_time": "2022-08-10T14:58:10.356276",
          "status": "completed"
        },
        "tags": []
      },
      "source": [
        "## Netlist"
      ]
    },
    {
      "cell_type": "code",
      "execution_count": 11,
      "id": "7f1ce9570dfd26d9",
      "metadata": {
        "execution": {
          "iopub.execute_input": "2022-08-10T14:58:10.395054Z",
          "iopub.status.busy": "2022-08-10T14:58:10.394620Z",
          "iopub.status.idle": "2022-08-10T14:58:10.396413Z",
          "shell.execute_reply": "2022-08-10T14:58:10.396721Z"
        },
        "papermill": {
          "duration": 0.016976,
          "end_time": "2022-08-10T14:58:10.396826",
          "exception": false,
          "start_time": "2022-08-10T14:58:10.379850",
          "status": "completed"
        },
        "tags": []
      },
      "outputs": [],
      "source": [
        "\n",
        "from sax import netlist as netlist\n",
        "from sax.netlist import (\n",
        "    logical_netlist as logical_netlist,\n",
        "    netlist as netlist,\n",
        "    netlist_from_yaml as netlist_from_yaml,\n",
        ")"
      ]
    },
    {
      "cell_type": "markdown",
      "id": "5792b5e9",
      "metadata": {
        "papermill": {
          "duration": 0.011857,
          "end_time": "2022-08-10T14:58:10.420759",
          "exception": false,
          "start_time": "2022-08-10T14:58:10.408902",
          "status": "completed"
        },
        "tags": []
      },
      "source": [
        "## Circuit"
      ]
    },
    {
      "cell_type": "code",
      "execution_count": 12,
      "id": "23b1914f2e5de268",
      "metadata": {
        "execution": {
          "iopub.execute_input": "2022-08-10T14:58:10.448297Z",
          "iopub.status.busy": "2022-08-10T14:58:10.447888Z",
          "iopub.status.idle": "2022-08-10T14:58:10.449507Z",
          "shell.execute_reply": "2022-08-10T14:58:10.449164Z"
        },
        "papermill": {
          "duration": 0.016838,
          "end_time": "2022-08-10T14:58:10.449592",
          "exception": false,
          "start_time": "2022-08-10T14:58:10.432754",
          "status": "completed"
        },
        "tags": []
      },
      "outputs": [],
      "source": [
        "\n",
        "from sax import circuit as circuit\n",
        "from sax.circuit import (\n",
        "    circuit as circuit,\n",
        "    circuit_from_gdsfactory as circuit_from_gdsfactory,\n",
        "    circuit_from_netlist as circuit_from_netlist,\n",
        "    circuit_from_yaml as circuit_from_yaml,\n",
        ")"
      ]
    },
    {
      "cell_type": "markdown",
      "id": "e2d7c9fc",
      "metadata": {
        "papermill": {
          "duration": 0.012055,
          "end_time": "2022-08-10T14:58:10.473828",
          "exception": false,
          "start_time": "2022-08-10T14:58:10.461773",
          "status": "completed"
        },
        "tags": []
      },
      "source": [
        "## Backend"
      ]
    },
    {
      "cell_type": "code",
      "execution_count": 13,
      "id": "044c6148042923bf",
      "metadata": {
        "execution": {
          "iopub.execute_input": "2022-08-10T14:58:10.501132Z",
          "iopub.status.busy": "2022-08-10T14:58:10.500727Z",
          "iopub.status.idle": "2022-08-10T14:58:10.502397Z",
          "shell.execute_reply": "2022-08-10T14:58:10.502061Z"
        },
        "papermill": {
          "duration": 0.016579,
          "end_time": "2022-08-10T14:58:10.502483",
          "exception": false,
          "start_time": "2022-08-10T14:58:10.485904",
          "status": "completed"
        },
        "tags": []
      },
      "outputs": [],
      "source": [
        "\n",
        "from sax import backends as backends"
      ]
    },
    {
      "cell_type": "markdown",
      "id": "3ecf363e",
      "metadata": {
        "papermill": {
          "duration": 0.012033,
          "end_time": "2022-08-10T14:58:10.526840",
          "exception": false,
          "start_time": "2022-08-10T14:58:10.514807",
          "status": "completed"
        },
        "tags": []
      },
      "source": [
        "## Patches"
      ]
    },
    {
      "cell_type": "code",
      "execution_count": 14,
      "id": "f7855f3b11041296",
      "metadata": {
        "execution": {
          "iopub.execute_input": "2022-08-10T14:58:10.554204Z",
          "iopub.status.busy": "2022-08-10T14:58:10.553800Z",
          "iopub.status.idle": "2022-08-10T14:58:10.554996Z",
          "shell.execute_reply": "2022-08-10T14:58:10.555325Z"
        },
        "papermill": {
          "duration": 0.016417,
          "end_time": "2022-08-10T14:58:10.555429",
          "exception": false,
          "start_time": "2022-08-10T14:58:10.539012",
          "status": "completed"
        },
        "tags": []
      },
      "outputs": [],
      "source": [
        "\n",
        "from sax import patched as _patched"
      ]
    }
  ],
  "metadata": {
    "kernelspec": {
      "display_name": "sax",
      "language": "python",
      "name": "sax"
    },
    "language_info": {
      "codemirror_mode": {
        "name": "ipython",
        "version": 3
      },
      "file_extension": ".py",
      "mimetype": "text/x-python",
      "name": "python",
      "nbconvert_exporter": "python",
      "pygments_lexer": "ipython3",
      "version": "3.9.0"
    },
    "papermill": {
      "default_parameters": {},
      "duration": 4.362917,
      "end_time": "2022-08-10T14:58:11.843606",
      "environment_variables": {},
      "exception": null,
      "input_path": "./nbs/99_init.ipynb",
      "output_path": "./nbs/99_init.ipynb",
      "parameters": {},
      "start_time": "2022-08-10T14:58:07.480689",
      "version": "2.3.4"
    }
  },
  "nbformat": 4,
  "nbformat_minor": 5
}
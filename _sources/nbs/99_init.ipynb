{
  "cells": [
    {
      "cell_type": "code",
      "execution_count": 1,
      "id": "9461849808e5f930",
      "metadata": {
        "execution": {
          "iopub.execute_input": "2022-08-04T04:32:59.192590Z",
          "iopub.status.busy": "2022-08-04T04:32:59.192144Z",
          "iopub.status.idle": "2022-08-04T04:32:59.194747Z",
          "shell.execute_reply": "2022-08-04T04:32:59.195062Z"
        },
        "papermill": {
          "duration": 0.020504,
          "end_time": "2022-08-04T04:32:59.195269",
          "exception": false,
          "start_time": "2022-08-04T04:32:59.174765",
          "status": "completed"
        },
        "tags": [
          "remove-cell"
        ]
      },
      "outputs": [],
      "source": []
    },
    {
      "cell_type": "markdown",
      "id": "b4250b31",
      "metadata": {
        "papermill": {
          "duration": 0.01055,
          "end_time": "2022-08-04T04:32:59.217127",
          "exception": false,
          "start_time": "2022-08-04T04:32:59.206577",
          "status": "completed"
        },
        "tags": []
      },
      "source": [
        "# SAX init\n",
        "\n",
        "> Import everything into the `sax` namespace:"
      ]
    },
    {
      "cell_type": "code",
      "execution_count": 2,
      "id": "09890f9957d88c98",
      "metadata": {
        "execution": {
          "iopub.execute_input": "2022-08-04T04:32:59.246869Z",
          "iopub.status.busy": "2022-08-04T04:32:59.245906Z",
          "iopub.status.idle": "2022-08-04T04:32:59.938970Z",
          "shell.execute_reply": "2022-08-04T04:32:59.938495Z"
        },
        "papermill": {
          "duration": 0.711273,
          "end_time": "2022-08-04T04:32:59.939103",
          "exception": false,
          "start_time": "2022-08-04T04:32:59.227830",
          "status": "completed"
        },
        "tags": [
          "remove-cell"
        ]
      },
      "outputs": [],
      "source": [
        "import matplotlib.pyplot as plt\n",
        "from fastcore.test import test_eq\n",
        "from pytest import approx, raises\n",
        "\n",
        "import os, sys; sys.stderr = open(os.devnull, \"w\")"
      ]
    },
    {
      "cell_type": "code",
      "execution_count": 3,
      "id": "c2e25bd8261f0121",
      "metadata": {
        "execution": {
          "iopub.execute_input": "2022-08-04T04:32:59.966073Z",
          "iopub.status.busy": "2022-08-04T04:32:59.965578Z",
          "iopub.status.idle": "2022-08-04T04:32:59.966727Z",
          "shell.execute_reply": "2022-08-04T04:32:59.967038Z"
        },
        "papermill": {
          "duration": 0.015568,
          "end_time": "2022-08-04T04:32:59.967166",
          "exception": false,
          "start_time": "2022-08-04T04:32:59.951598",
          "status": "completed"
        },
        "tags": [
          "remove-cell"
        ]
      },
      "outputs": [],
      "source": [
        "__author__ = \"Floris Laporte\"\n",
        "__version__ = \"0.7.2\""
      ]
    },
    {
      "cell_type": "code",
      "execution_count": 4,
      "id": "e020fa1e6bee1906",
      "metadata": {
        "execution": {
          "iopub.execute_input": "2022-08-04T04:32:59.991895Z",
          "iopub.status.busy": "2022-08-04T04:32:59.991410Z",
          "iopub.status.idle": "2022-08-04T04:32:59.994328Z",
          "shell.execute_reply": "2022-08-04T04:32:59.993913Z"
        },
        "papermill": {
          "duration": 0.01653,
          "end_time": "2022-08-04T04:32:59.994430",
          "exception": false,
          "start_time": "2022-08-04T04:32:59.977900",
          "status": "completed"
        },
        "tags": [
          "remove-cell"
        ]
      },
      "outputs": [],
      "source": [
        "from __future__ import annotations"
      ]
    },
    {
      "cell_type": "markdown",
      "id": "fe77e5e3",
      "metadata": {
        "papermill": {
          "duration": 0.010904,
          "end_time": "2022-08-04T04:33:00.016593",
          "exception": false,
          "start_time": "2022-08-04T04:33:00.005689",
          "status": "completed"
        },
        "tags": []
      },
      "source": [
        "## External\n",
        "\n",
        "utils from other packages available in SAX for convenience:"
      ]
    },
    {
      "cell_type": "code",
      "execution_count": 5,
      "id": "221c55f3786c59f7",
      "metadata": {
        "execution": {
          "iopub.execute_input": "2022-08-04T04:33:00.042031Z",
          "iopub.status.busy": "2022-08-04T04:33:00.041508Z",
          "iopub.status.idle": "2022-08-04T04:33:00.644958Z",
          "shell.execute_reply": "2022-08-04T04:33:00.644488Z"
        },
        "papermill": {
          "duration": 0.617722,
          "end_time": "2022-08-04T04:33:00.645095",
          "exception": false,
          "start_time": "2022-08-04T04:33:00.027373",
          "status": "completed"
        },
        "tags": []
      },
      "outputs": [],
      "source": [
        "from functools import partial as partial\n",
        "from math import pi as pi\n",
        "\n",
        "from scipy.constants import c as c\n",
        "\n",
        "try:\n",
        "    from flax.core.frozen_dict import FrozenDict as FrozenDict\n",
        "except ImportError:\n",
        "    FrozenDict = dict"
      ]
    },
    {
      "cell_type": "markdown",
      "id": "3d3bde86",
      "metadata": {
        "papermill": {
          "duration": 0.011306,
          "end_time": "2022-08-04T04:33:00.668114",
          "exception": false,
          "start_time": "2022-08-04T04:33:00.656808",
          "status": "completed"
        },
        "tags": []
      },
      "source": [
        "## Typing"
      ]
    },
    {
      "cell_type": "code",
      "execution_count": 6,
      "id": "e764967d0bcd90d7",
      "metadata": {
        "execution": {
          "iopub.execute_input": "2022-08-04T04:33:00.695594Z",
          "iopub.status.busy": "2022-08-04T04:33:00.695147Z",
          "iopub.status.idle": "2022-08-04T04:33:00.787631Z",
          "shell.execute_reply": "2022-08-04T04:33:00.787178Z"
        },
        "papermill": {
          "duration": 0.108625,
          "end_time": "2022-08-04T04:33:00.787762",
          "exception": false,
          "start_time": "2022-08-04T04:33:00.679137",
          "status": "completed"
        },
        "tags": []
      },
      "outputs": [],
      "source": [
        "\n",
        "from sax import typing_ as typing\n",
        "from sax.typing_ import (\n",
        "    Array as Array,\n",
        "    ComplexFloat as ComplexFloat,\n",
        "    Float as Float,\n",
        "    Instance as Instance,\n",
        "    Instances as Instances,\n",
        "    LogicalNetlist as LogicalNetlist,\n",
        "    Model as Model,\n",
        "    ModelFactory as ModelFactory,\n",
        "    Models as Models,\n",
        "    Netlist as Netlist,\n",
        "    SCoo as SCoo,\n",
        "    SDense as SDense,\n",
        "    SDict as SDict,\n",
        "    Settings as Settings,\n",
        "    SType as SType,\n",
        "    is_complex as is_complex,\n",
        "    is_complex_float as is_complex_float,\n",
        "    is_float as is_float,\n",
        "    is_instance as is_instance,\n",
        "    is_mixedmode as is_mixedmode,\n",
        "    is_model as is_model,\n",
        "    is_model_factory as is_model_factory,\n",
        "    is_multimode as is_multimode,\n",
        "    is_netlist as is_netlist,\n",
        "    is_scoo as is_scoo,\n",
        "    is_sdense as is_sdense,\n",
        "    is_sdict as is_sdict,\n",
        "    is_singlemode as is_singlemode,\n",
        "    modelfactory as modelfactory,\n",
        "    scoo as scoo,\n",
        "    sdense as sdense,\n",
        "    sdict as sdict,\n",
        "    validate_model as validate_model,\n",
        ")"
      ]
    },
    {
      "cell_type": "markdown",
      "id": "345808d3",
      "metadata": {
        "papermill": {
          "duration": 0.011703,
          "end_time": "2022-08-04T04:33:00.811041",
          "exception": false,
          "start_time": "2022-08-04T04:33:00.799338",
          "status": "completed"
        },
        "tags": []
      },
      "source": [
        "## Utils"
      ]
    },
    {
      "cell_type": "code",
      "execution_count": 7,
      "id": "6d9b639bd9d9e571",
      "metadata": {
        "execution": {
          "iopub.execute_input": "2022-08-04T04:33:00.839246Z",
          "iopub.status.busy": "2022-08-04T04:33:00.838793Z",
          "iopub.status.idle": "2022-08-04T04:33:00.839873Z",
          "shell.execute_reply": "2022-08-04T04:33:00.840259Z"
        },
        "papermill": {
          "duration": 0.018141,
          "end_time": "2022-08-04T04:33:00.840387",
          "exception": false,
          "start_time": "2022-08-04T04:33:00.822246",
          "status": "completed"
        },
        "tags": []
      },
      "outputs": [],
      "source": [
        "\n",
        "from sax import utils as utils\n",
        "from sax.utils import (\n",
        "    block_diag as block_diag,\n",
        "    clean_string as clean_string,\n",
        "    copy_settings as copy_settings,\n",
        "    flatten_dict as flatten_dict,\n",
        "    get_inputs_outputs as get_inputs_outputs,\n",
        "    get_port_combinations as get_port_combinations,\n",
        "    get_ports as get_ports,\n",
        "    get_settings as get_settings,\n",
        "    grouped_interp as grouped_interp,\n",
        "    merge_dicts as merge_dicts,\n",
        "    mode_combinations as mode_combinations,\n",
        "    reciprocal as reciprocal,\n",
        "    rename_params as rename_params,\n",
        "    rename_ports as rename_ports,\n",
        "    try_float as try_float,\n",
        "    unflatten_dict as unflatten_dict,\n",
        "    update_settings as update_settings,\n",
        "    validate_multimode as validate_multimode,\n",
        "    validate_not_mixedmode as validate_not_mixedmode,\n",
        "    validate_sdict as validate_sdict,\n",
        "    validate_settings as validate_settings,\n",
        ")"
      ]
    },
    {
      "cell_type": "markdown",
      "id": "d80b6784",
      "metadata": {
        "papermill": {
          "duration": 0.011235,
          "end_time": "2022-08-04T04:33:00.862746",
          "exception": false,
          "start_time": "2022-08-04T04:33:00.851511",
          "status": "completed"
        },
        "tags": []
      },
      "source": [
        "## Caching"
      ]
    },
    {
      "cell_type": "code",
      "execution_count": 8,
      "id": "1cf8697271f603d0",
      "metadata": {
        "execution": {
          "iopub.execute_input": "2022-08-04T04:33:00.888785Z",
          "iopub.status.busy": "2022-08-04T04:33:00.888353Z",
          "iopub.status.idle": "2022-08-04T04:33:00.889976Z",
          "shell.execute_reply": "2022-08-04T04:33:00.890370Z"
        },
        "papermill": {
          "duration": 0.016514,
          "end_time": "2022-08-04T04:33:00.890494",
          "exception": false,
          "start_time": "2022-08-04T04:33:00.873980",
          "status": "completed"
        },
        "tags": []
      },
      "outputs": [],
      "source": [
        "\n",
        "from sax import caching as caching\n",
        "from sax.caching import (\n",
        "    cache as cache, \n",
        "    cache_clear as cache_clear,\n",
        ")"
      ]
    },
    {
      "cell_type": "markdown",
      "id": "23287a09",
      "metadata": {
        "papermill": {
          "duration": 0.011436,
          "end_time": "2022-08-04T04:33:00.913185",
          "exception": false,
          "start_time": "2022-08-04T04:33:00.901749",
          "status": "completed"
        },
        "tags": []
      },
      "source": [
        "## Multimode"
      ]
    },
    {
      "cell_type": "code",
      "execution_count": 9,
      "id": "992e66fb916fd0df",
      "metadata": {
        "execution": {
          "iopub.execute_input": "2022-08-04T04:33:00.939385Z",
          "iopub.status.busy": "2022-08-04T04:33:00.938758Z",
          "iopub.status.idle": "2022-08-04T04:33:00.940540Z",
          "shell.execute_reply": "2022-08-04T04:33:00.940175Z"
        },
        "papermill": {
          "duration": 0.016302,
          "end_time": "2022-08-04T04:33:00.940631",
          "exception": false,
          "start_time": "2022-08-04T04:33:00.924329",
          "status": "completed"
        },
        "tags": []
      },
      "outputs": [],
      "source": [
        "\n",
        "from sax import multimode as multimode\n",
        "from sax.multimode import (\n",
        "    multimode as multimode,\n",
        "    singlemode as singlemode,\n",
        ")"
      ]
    },
    {
      "cell_type": "markdown",
      "id": "c794abf0",
      "metadata": {
        "papermill": {
          "duration": 0.011366,
          "end_time": "2022-08-04T04:33:00.963356",
          "exception": false,
          "start_time": "2022-08-04T04:33:00.951990",
          "status": "completed"
        },
        "tags": []
      },
      "source": [
        "## Models"
      ]
    },
    {
      "cell_type": "code",
      "execution_count": 10,
      "id": "b0065e6b1662955f",
      "metadata": {
        "execution": {
          "iopub.execute_input": "2022-08-04T04:33:00.989266Z",
          "iopub.status.busy": "2022-08-04T04:33:00.988638Z",
          "iopub.status.idle": "2022-08-04T04:33:00.990059Z",
          "shell.execute_reply": "2022-08-04T04:33:00.990463Z"
        },
        "papermill": {
          "duration": 0.016093,
          "end_time": "2022-08-04T04:33:00.990572",
          "exception": false,
          "start_time": "2022-08-04T04:33:00.974479",
          "status": "completed"
        },
        "tags": []
      },
      "outputs": [],
      "source": [
        "\n",
        "from sax import models as models\n",
        "from sax.models import get_models as get_models, passthru as passthru"
      ]
    },
    {
      "cell_type": "markdown",
      "id": "b94feb62",
      "metadata": {
        "papermill": {
          "duration": 0.011143,
          "end_time": "2022-08-04T04:33:01.013157",
          "exception": false,
          "start_time": "2022-08-04T04:33:01.002014",
          "status": "completed"
        },
        "tags": []
      },
      "source": [
        "## Netlist"
      ]
    },
    {
      "cell_type": "code",
      "execution_count": 11,
      "id": "80694bb3bf254318",
      "metadata": {
        "execution": {
          "iopub.execute_input": "2022-08-04T04:33:01.039128Z",
          "iopub.status.busy": "2022-08-04T04:33:01.038704Z",
          "iopub.status.idle": "2022-08-04T04:33:01.040405Z",
          "shell.execute_reply": "2022-08-04T04:33:01.040069Z"
        },
        "papermill": {
          "duration": 0.016191,
          "end_time": "2022-08-04T04:33:01.040500",
          "exception": false,
          "start_time": "2022-08-04T04:33:01.024309",
          "status": "completed"
        },
        "tags": []
      },
      "outputs": [],
      "source": [
        "\n",
        "from sax import netlist as netlist\n",
        "from sax.netlist import (\n",
        "    logical_netlist as logical_netlist,\n",
        "    netlist as netlist,\n",
        "    netlist_from_yaml as netlist_from_yaml,\n",
        ")"
      ]
    },
    {
      "cell_type": "markdown",
      "id": "5792b5e9",
      "metadata": {
        "papermill": {
          "duration": 0.011356,
          "end_time": "2022-08-04T04:33:01.063252",
          "exception": false,
          "start_time": "2022-08-04T04:33:01.051896",
          "status": "completed"
        },
        "tags": []
      },
      "source": [
        "## Circuit"
      ]
    },
    {
      "cell_type": "code",
      "execution_count": 12,
      "id": "9b0c5fbe8739889c",
      "metadata": {
        "execution": {
          "iopub.execute_input": "2022-08-04T04:33:01.089488Z",
          "iopub.status.busy": "2022-08-04T04:33:01.089028Z",
          "iopub.status.idle": "2022-08-04T04:33:01.091233Z",
          "shell.execute_reply": "2022-08-04T04:33:01.090891Z"
        },
        "papermill": {
          "duration": 0.0168,
          "end_time": "2022-08-04T04:33:01.091327",
          "exception": false,
          "start_time": "2022-08-04T04:33:01.074527",
          "status": "completed"
        },
        "tags": []
      },
      "outputs": [],
      "source": [
        "\n",
        "from sax import circuit as circuit\n",
        "from sax.circuit import (\n",
        "    circuit as circuit,\n",
        "    circuit_from_gdsfactory as circuit_from_gdsfactory,\n",
        "    circuit_from_netlist as circuit_from_netlist,\n",
        "    circuit_from_yaml as circuit_from_yaml,\n",
        ")"
      ]
    },
    {
      "cell_type": "markdown",
      "id": "e2d7c9fc",
      "metadata": {
        "papermill": {
          "duration": 0.011523,
          "end_time": "2022-08-04T04:33:01.114514",
          "exception": false,
          "start_time": "2022-08-04T04:33:01.102991",
          "status": "completed"
        },
        "tags": []
      },
      "source": [
        "## Backend"
      ]
    },
    {
      "cell_type": "code",
      "execution_count": 13,
      "id": "1e0c71f27e98e43d",
      "metadata": {
        "execution": {
          "iopub.execute_input": "2022-08-04T04:33:01.140594Z",
          "iopub.status.busy": "2022-08-04T04:33:01.140149Z",
          "iopub.status.idle": "2022-08-04T04:33:01.141883Z",
          "shell.execute_reply": "2022-08-04T04:33:01.141460Z"
        },
        "papermill": {
          "duration": 0.016028,
          "end_time": "2022-08-04T04:33:01.141973",
          "exception": false,
          "start_time": "2022-08-04T04:33:01.125945",
          "status": "completed"
        },
        "tags": []
      },
      "outputs": [],
      "source": [
        "\n",
        "from sax import backends as backends"
      ]
    },
    {
      "cell_type": "markdown",
      "id": "3ecf363e",
      "metadata": {
        "papermill": {
          "duration": 0.011458,
          "end_time": "2022-08-04T04:33:01.165023",
          "exception": false,
          "start_time": "2022-08-04T04:33:01.153565",
          "status": "completed"
        },
        "tags": []
      },
      "source": [
        "## Patches"
      ]
    },
    {
      "cell_type": "code",
      "execution_count": 14,
      "id": "18c39734db64c35f",
      "metadata": {
        "execution": {
          "iopub.execute_input": "2022-08-04T04:33:01.191381Z",
          "iopub.status.busy": "2022-08-04T04:33:01.190960Z",
          "iopub.status.idle": "2022-08-04T04:33:01.192298Z",
          "shell.execute_reply": "2022-08-04T04:33:01.192629Z"
        },
        "papermill": {
          "duration": 0.016206,
          "end_time": "2022-08-04T04:33:01.192736",
          "exception": false,
          "start_time": "2022-08-04T04:33:01.176530",
          "status": "completed"
        },
        "tags": []
      },
      "outputs": [],
      "source": [
        "\n",
        "from sax import patched as _patched"
      ]
    }
  ],
  "metadata": {
    "kernelspec": {
      "display_name": "sax",
      "language": "python",
      "name": "sax"
    },
    "language_info": {
      "codemirror_mode": {
        "name": "ipython",
        "version": 3
      },
      "file_extension": ".py",
      "mimetype": "text/x-python",
      "name": "python",
      "nbconvert_exporter": "python",
      "pygments_lexer": "ipython3",
      "version": "3.9.0"
    },
    "papermill": {
      "default_parameters": {},
      "duration": 4.385127,
      "end_time": "2022-08-04T04:33:02.412578",
      "environment_variables": {},
      "exception": null,
      "input_path": "./nbs/99_init.ipynb",
      "output_path": "./nbs/99_init.ipynb",
      "parameters": {},
      "start_time": "2022-08-04T04:32:58.027451",
      "version": "2.3.4"
    }
  },
  "nbformat": 4,
  "nbformat_minor": 5
}
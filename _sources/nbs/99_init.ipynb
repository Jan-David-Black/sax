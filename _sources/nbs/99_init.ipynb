{
  "cells": [
    {
      "cell_type": "code",
      "execution_count": 1,
      "id": "822f2cf9f4880dc9",
      "metadata": {
        "execution": {
          "iopub.execute_input": "2022-08-17T03:22:48.447340Z",
          "iopub.status.busy": "2022-08-17T03:22:48.446900Z",
          "iopub.status.idle": "2022-08-17T03:22:48.450118Z",
          "shell.execute_reply": "2022-08-17T03:22:48.450438Z"
        },
        "papermill": {
          "duration": 0.017765,
          "end_time": "2022-08-17T03:22:48.450623",
          "exception": false,
          "start_time": "2022-08-17T03:22:48.432858",
          "status": "completed"
        },
        "tags": [
          "remove-cell"
        ]
      },
      "outputs": [],
      "source": []
    },
    {
      "cell_type": "markdown",
      "id": "b4250b31",
      "metadata": {
        "papermill": {
          "duration": 0.009622,
          "end_time": "2022-08-17T03:22:48.470356",
          "exception": false,
          "start_time": "2022-08-17T03:22:48.460734",
          "status": "completed"
        },
        "tags": []
      },
      "source": [
        "# SAX init\n",
        "\n",
        "> Import everything into the `sax` namespace:"
      ]
    },
    {
      "cell_type": "code",
      "execution_count": 2,
      "id": "827c11207d741127",
      "metadata": {
        "execution": {
          "iopub.execute_input": "2022-08-17T03:22:48.497086Z",
          "iopub.status.busy": "2022-08-17T03:22:48.496649Z",
          "iopub.status.idle": "2022-08-17T03:22:49.176768Z",
          "shell.execute_reply": "2022-08-17T03:22:49.176397Z"
        },
        "papermill": {
          "duration": 0.696974,
          "end_time": "2022-08-17T03:22:49.176875",
          "exception": false,
          "start_time": "2022-08-17T03:22:48.479901",
          "status": "completed"
        },
        "tags": [
          "remove-cell"
        ]
      },
      "outputs": [],
      "source": [
        "import matplotlib.pyplot as plt\n",
        "from fastcore.test import test_eq\n",
        "from pytest import approx, raises\n",
        "\n",
        "import os, sys; sys.stderr = open(os.devnull, \"w\")"
      ]
    },
    {
      "cell_type": "code",
      "execution_count": 3,
      "id": "2ce451e3c5da1e94",
      "metadata": {
        "execution": {
          "iopub.execute_input": "2022-08-17T03:22:49.199013Z",
          "iopub.status.busy": "2022-08-17T03:22:49.198589Z",
          "iopub.status.idle": "2022-08-17T03:22:49.201529Z",
          "shell.execute_reply": "2022-08-17T03:22:49.201183Z"
        },
        "papermill": {
          "duration": 0.014864,
          "end_time": "2022-08-17T03:22:49.201625",
          "exception": false,
          "start_time": "2022-08-17T03:22:49.186761",
          "status": "completed"
        },
        "tags": [
          "remove-cell"
        ]
      },
      "outputs": [],
      "source": [
        "from __future__ import annotations\n",
        "\n",
        "__author__ = \"Floris Laporte\"\n",
        "__version__ = \"0.8.0\""
      ]
    },
    {
      "cell_type": "markdown",
      "id": "fe77e5e3",
      "metadata": {
        "papermill": {
          "duration": 0.009594,
          "end_time": "2022-08-17T03:22:49.220879",
          "exception": false,
          "start_time": "2022-08-17T03:22:49.211285",
          "status": "completed"
        },
        "tags": []
      },
      "source": [
        "## External\n",
        "\n",
        "utils from other packages available in SAX for convenience:"
      ]
    },
    {
      "cell_type": "code",
      "execution_count": 4,
      "id": "fc055706d91f7f9c",
      "metadata": {
        "execution": {
          "iopub.execute_input": "2022-08-17T03:22:49.244029Z",
          "iopub.status.busy": "2022-08-17T03:22:49.243600Z",
          "iopub.status.idle": "2022-08-17T03:22:49.803245Z",
          "shell.execute_reply": "2022-08-17T03:22:49.802864Z"
        },
        "papermill": {
          "duration": 0.572654,
          "end_time": "2022-08-17T03:22:49.803352",
          "exception": false,
          "start_time": "2022-08-17T03:22:49.230698",
          "status": "completed"
        },
        "tags": []
      },
      "outputs": [],
      "source": [
        "from functools import partial as partial\n",
        "from math import pi as pi\n",
        "\n",
        "from scipy.constants import c as c\n",
        "\n",
        "try:\n",
        "    from flax.core.frozen_dict import FrozenDict as FrozenDict\n",
        "except ImportError:\n",
        "    FrozenDict = dict"
      ]
    },
    {
      "cell_type": "markdown",
      "id": "3d3bde86",
      "metadata": {
        "papermill": {
          "duration": 0.010169,
          "end_time": "2022-08-17T03:22:49.823599",
          "exception": false,
          "start_time": "2022-08-17T03:22:49.813430",
          "status": "completed"
        },
        "tags": []
      },
      "source": [
        "## Typing"
      ]
    },
    {
      "cell_type": "code",
      "execution_count": 5,
      "id": "cabb746835928b8f",
      "metadata": {
        "execution": {
          "iopub.execute_input": "2022-08-17T03:22:49.848427Z",
          "iopub.status.busy": "2022-08-17T03:22:49.847999Z",
          "iopub.status.idle": "2022-08-17T03:22:50.016546Z",
          "shell.execute_reply": "2022-08-17T03:22:50.016171Z"
        },
        "papermill": {
          "duration": 0.18329,
          "end_time": "2022-08-17T03:22:50.016651",
          "exception": false,
          "start_time": "2022-08-17T03:22:49.833361",
          "status": "completed"
        },
        "tags": []
      },
      "outputs": [],
      "source": [
        "\n",
        "from sax import typing_ as typing\n",
        "from sax.typing_ import (\n",
        "    Array as Array,\n",
        "    ComplexFloat as ComplexFloat,\n",
        "    Float as Float,\n",
        "    Instance as Instance,\n",
        "    Instances as Instances,\n",
        "    LogicalNetlist as LogicalNetlist,\n",
        "    Model as Model,\n",
        "    ModelFactory as ModelFactory,\n",
        "    Models as Models,\n",
        "    Netlist as Netlist,\n",
        "    SCoo as SCoo,\n",
        "    SDense as SDense,\n",
        "    SDict as SDict,\n",
        "    Settings as Settings,\n",
        "    SType as SType,\n",
        "    is_complex as is_complex,\n",
        "    is_complex_float as is_complex_float,\n",
        "    is_float as is_float,\n",
        "    is_instance as is_instance,\n",
        "    is_mixedmode as is_mixedmode,\n",
        "    is_model as is_model,\n",
        "    is_model_factory as is_model_factory,\n",
        "    is_multimode as is_multimode,\n",
        "    is_netlist as is_netlist,\n",
        "    is_scoo as is_scoo,\n",
        "    is_sdense as is_sdense,\n",
        "    is_sdict as is_sdict,\n",
        "    is_singlemode as is_singlemode,\n",
        "    modelfactory as modelfactory,\n",
        "    scoo as scoo,\n",
        "    sdense as sdense,\n",
        "    sdict as sdict,\n",
        "    validate_model as validate_model,\n",
        ")"
      ]
    },
    {
      "cell_type": "markdown",
      "id": "345808d3",
      "metadata": {
        "papermill": {
          "duration": 0.010281,
          "end_time": "2022-08-17T03:22:50.036972",
          "exception": false,
          "start_time": "2022-08-17T03:22:50.026691",
          "status": "completed"
        },
        "tags": []
      },
      "source": [
        "## Utils"
      ]
    },
    {
      "cell_type": "code",
      "execution_count": 6,
      "id": "f694721e4341496c",
      "metadata": {
        "execution": {
          "iopub.execute_input": "2022-08-17T03:22:50.062001Z",
          "iopub.status.busy": "2022-08-17T03:22:50.061559Z",
          "iopub.status.idle": "2022-08-17T03:22:50.063210Z",
          "shell.execute_reply": "2022-08-17T03:22:50.062885Z"
        },
        "papermill": {
          "duration": 0.016553,
          "end_time": "2022-08-17T03:22:50.063307",
          "exception": false,
          "start_time": "2022-08-17T03:22:50.046754",
          "status": "completed"
        },
        "tags": []
      },
      "outputs": [],
      "source": [
        "\n",
        "from sax import utils as utils\n",
        "from sax.utils import (\n",
        "    block_diag as block_diag,\n",
        "    clean_string as clean_string,\n",
        "    copy_settings as copy_settings,\n",
        "    flatten_dict as flatten_dict,\n",
        "    get_inputs_outputs as get_inputs_outputs,\n",
        "    get_port_combinations as get_port_combinations,\n",
        "    get_ports as get_ports,\n",
        "    get_settings as get_settings,\n",
        "    grouped_interp as grouped_interp,\n",
        "    merge_dicts as merge_dicts,\n",
        "    mode_combinations as mode_combinations,\n",
        "    reciprocal as reciprocal,\n",
        "    rename_params as rename_params,\n",
        "    rename_ports as rename_ports,\n",
        "    try_float as try_float,\n",
        "    unflatten_dict as unflatten_dict,\n",
        "    update_settings as update_settings,\n",
        "    validate_multimode as validate_multimode,\n",
        "    validate_not_mixedmode as validate_not_mixedmode,\n",
        "    validate_sdict as validate_sdict,\n",
        "    validate_settings as validate_settings,\n",
        ")"
      ]
    },
    {
      "cell_type": "markdown",
      "id": "d80b6784",
      "metadata": {
        "papermill": {
          "duration": 0.009804,
          "end_time": "2022-08-17T03:22:50.082942",
          "exception": false,
          "start_time": "2022-08-17T03:22:50.073138",
          "status": "completed"
        },
        "tags": []
      },
      "source": [
        "## Caching"
      ]
    },
    {
      "cell_type": "code",
      "execution_count": 7,
      "id": "29e9abb89eb34406",
      "metadata": {
        "execution": {
          "iopub.execute_input": "2022-08-17T03:22:50.106163Z",
          "iopub.status.busy": "2022-08-17T03:22:50.105741Z",
          "iopub.status.idle": "2022-08-17T03:22:50.107259Z",
          "shell.execute_reply": "2022-08-17T03:22:50.106933Z"
        },
        "papermill": {
          "duration": 0.014513,
          "end_time": "2022-08-17T03:22:50.107353",
          "exception": false,
          "start_time": "2022-08-17T03:22:50.092840",
          "status": "completed"
        },
        "tags": []
      },
      "outputs": [],
      "source": [
        "\n",
        "from sax import caching as caching\n",
        "from sax.caching import (\n",
        "    cache as cache, \n",
        "    cache_clear as cache_clear,\n",
        ")"
      ]
    },
    {
      "cell_type": "markdown",
      "id": "23287a09",
      "metadata": {
        "papermill": {
          "duration": 0.009944,
          "end_time": "2022-08-17T03:22:50.127217",
          "exception": false,
          "start_time": "2022-08-17T03:22:50.117273",
          "status": "completed"
        },
        "tags": []
      },
      "source": [
        "## Multimode"
      ]
    },
    {
      "cell_type": "code",
      "execution_count": 8,
      "id": "f677f666b82166a6",
      "metadata": {
        "execution": {
          "iopub.execute_input": "2022-08-17T03:22:50.150628Z",
          "iopub.status.busy": "2022-08-17T03:22:50.150205Z",
          "iopub.status.idle": "2022-08-17T03:22:50.151439Z",
          "shell.execute_reply": "2022-08-17T03:22:50.151779Z"
        },
        "papermill": {
          "duration": 0.014645,
          "end_time": "2022-08-17T03:22:50.151886",
          "exception": false,
          "start_time": "2022-08-17T03:22:50.137241",
          "status": "completed"
        },
        "tags": []
      },
      "outputs": [],
      "source": [
        "\n",
        "from sax import multimode as multimode\n",
        "from sax.multimode import (\n",
        "    multimode as multimode,\n",
        "    singlemode as singlemode,\n",
        ")"
      ]
    },
    {
      "cell_type": "markdown",
      "id": "c794abf0",
      "metadata": {
        "papermill": {
          "duration": 0.010007,
          "end_time": "2022-08-17T03:22:50.171968",
          "exception": false,
          "start_time": "2022-08-17T03:22:50.161961",
          "status": "completed"
        },
        "tags": []
      },
      "source": [
        "## Models"
      ]
    },
    {
      "cell_type": "code",
      "execution_count": 9,
      "id": "000dcb72393a3782",
      "metadata": {
        "execution": {
          "iopub.execute_input": "2022-08-17T03:22:50.195418Z",
          "iopub.status.busy": "2022-08-17T03:22:50.194999Z",
          "iopub.status.idle": "2022-08-17T03:22:50.196524Z",
          "shell.execute_reply": "2022-08-17T03:22:50.196189Z"
        },
        "papermill": {
          "duration": 0.01466,
          "end_time": "2022-08-17T03:22:50.196616",
          "exception": false,
          "start_time": "2022-08-17T03:22:50.181956",
          "status": "completed"
        },
        "tags": []
      },
      "outputs": [],
      "source": [
        "\n",
        "from sax import models as models\n",
        "from sax.models import get_models as get_models, passthru as passthru"
      ]
    },
    {
      "cell_type": "markdown",
      "id": "b94feb62",
      "metadata": {
        "papermill": {
          "duration": 0.010043,
          "end_time": "2022-08-17T03:22:50.216752",
          "exception": false,
          "start_time": "2022-08-17T03:22:50.206709",
          "status": "completed"
        },
        "tags": []
      },
      "source": [
        "## Netlist"
      ]
    },
    {
      "cell_type": "code",
      "execution_count": 10,
      "id": "1daa8b66232ed70e",
      "metadata": {
        "execution": {
          "iopub.execute_input": "2022-08-17T03:22:50.239897Z",
          "iopub.status.busy": "2022-08-17T03:22:50.239485Z",
          "iopub.status.idle": "2022-08-17T03:22:50.241041Z",
          "shell.execute_reply": "2022-08-17T03:22:50.240634Z"
        },
        "papermill": {
          "duration": 0.014395,
          "end_time": "2022-08-17T03:22:50.241132",
          "exception": false,
          "start_time": "2022-08-17T03:22:50.226737",
          "status": "completed"
        },
        "tags": []
      },
      "outputs": [],
      "source": [
        "\n",
        "from sax.netlist import netlist as netlist"
      ]
    },
    {
      "cell_type": "markdown",
      "id": "5792b5e9",
      "metadata": {
        "papermill": {
          "duration": 0.010002,
          "end_time": "2022-08-17T03:22:50.261311",
          "exception": false,
          "start_time": "2022-08-17T03:22:50.251309",
          "status": "completed"
        },
        "tags": []
      },
      "source": [
        "## Circuit"
      ]
    },
    {
      "cell_type": "code",
      "execution_count": 11,
      "id": "05a92000316fb777",
      "metadata": {
        "execution": {
          "iopub.execute_input": "2022-08-17T03:22:50.284829Z",
          "iopub.status.busy": "2022-08-17T03:22:50.284425Z",
          "iopub.status.idle": "2022-08-17T03:22:50.286008Z",
          "shell.execute_reply": "2022-08-17T03:22:50.285666Z"
        },
        "papermill": {
          "duration": 0.0147,
          "end_time": "2022-08-17T03:22:50.286096",
          "exception": false,
          "start_time": "2022-08-17T03:22:50.271396",
          "status": "completed"
        },
        "tags": []
      },
      "outputs": [],
      "source": [
        "\n",
        "from sax.circuit import circuit as circuit"
      ]
    },
    {
      "cell_type": "markdown",
      "id": "e2d7c9fc",
      "metadata": {
        "papermill": {
          "duration": 0.010077,
          "end_time": "2022-08-17T03:22:50.306397",
          "exception": false,
          "start_time": "2022-08-17T03:22:50.296320",
          "status": "completed"
        },
        "tags": []
      },
      "source": [
        "## Backend"
      ]
    },
    {
      "cell_type": "code",
      "execution_count": 12,
      "id": "a6620339703f55a6",
      "metadata": {
        "execution": {
          "iopub.execute_input": "2022-08-17T03:22:50.329878Z",
          "iopub.status.busy": "2022-08-17T03:22:50.329407Z",
          "iopub.status.idle": "2022-08-17T03:22:50.330530Z",
          "shell.execute_reply": "2022-08-17T03:22:50.330839Z"
        },
        "papermill": {
          "duration": 0.014409,
          "end_time": "2022-08-17T03:22:50.330946",
          "exception": false,
          "start_time": "2022-08-17T03:22:50.316537",
          "status": "completed"
        },
        "tags": []
      },
      "outputs": [],
      "source": [
        "\n",
        "from sax import backends as backends"
      ]
    },
    {
      "cell_type": "markdown",
      "id": "3ecf363e",
      "metadata": {
        "papermill": {
          "duration": 0.010139,
          "end_time": "2022-08-17T03:22:50.351271",
          "exception": false,
          "start_time": "2022-08-17T03:22:50.341132",
          "status": "completed"
        },
        "tags": []
      },
      "source": [
        "## Patches"
      ]
    },
    {
      "cell_type": "code",
      "execution_count": 13,
      "id": "1ef56fbb99da2083",
      "metadata": {
        "execution": {
          "iopub.execute_input": "2022-08-17T03:22:50.374889Z",
          "iopub.status.busy": "2022-08-17T03:22:50.374468Z",
          "iopub.status.idle": "2022-08-17T03:22:50.376004Z",
          "shell.execute_reply": "2022-08-17T03:22:50.375669Z"
        },
        "papermill": {
          "duration": 0.014465,
          "end_time": "2022-08-17T03:22:50.376087",
          "exception": false,
          "start_time": "2022-08-17T03:22:50.361622",
          "status": "completed"
        },
        "tags": []
      },
      "outputs": [],
      "source": [
        "\n",
        "from sax import patched as _patched"
      ]
    }
  ],
  "metadata": {
    "kernelspec": {
      "display_name": "sax",
      "language": "python",
      "name": "sax"
    },
    "language_info": {
      "codemirror_mode": {
        "name": "ipython",
        "version": 3
      },
      "file_extension": ".py",
      "mimetype": "text/x-python",
      "name": "python",
      "nbconvert_exporter": "python",
      "pygments_lexer": "ipython3",
      "version": "3.9.0"
    },
    "papermill": {
      "default_parameters": {},
      "duration": 4.376038,
      "end_time": "2022-08-17T03:22:51.673270",
      "environment_variables": {},
      "exception": null,
      "input_path": "./nbs/99_init.ipynb",
      "output_path": "./nbs/99_init.ipynb",
      "parameters": {},
      "start_time": "2022-08-17T03:22:47.297232",
      "version": "2.3.4"
    }
  },
  "nbformat": 4,
  "nbformat_minor": 5
}
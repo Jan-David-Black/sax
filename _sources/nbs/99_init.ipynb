{
  "cells": [
    {
      "cell_type": "code",
      "execution_count": 1,
      "id": "76b8692701f27872",
      "metadata": {
        "execution": {
          "iopub.execute_input": "2022-08-16T04:18:58.856724Z",
          "iopub.status.busy": "2022-08-16T04:18:58.856204Z",
          "iopub.status.idle": "2022-08-16T04:18:58.858315Z",
          "shell.execute_reply": "2022-08-16T04:18:58.857746Z"
        },
        "papermill": {
          "duration": 0.017188,
          "end_time": "2022-08-16T04:18:58.858419",
          "exception": false,
          "start_time": "2022-08-16T04:18:58.841231",
          "status": "completed"
        },
        "tags": [
          "remove-cell"
        ]
      },
      "outputs": [],
      "source": []
    },
    {
      "cell_type": "markdown",
      "id": "b4250b31",
      "metadata": {
        "papermill": {
          "duration": 0.0092,
          "end_time": "2022-08-16T04:18:58.877364",
          "exception": false,
          "start_time": "2022-08-16T04:18:58.868164",
          "status": "completed"
        },
        "tags": []
      },
      "source": [
        "# SAX init\n",
        "\n",
        "> Import everything into the `sax` namespace:"
      ]
    },
    {
      "cell_type": "code",
      "execution_count": 2,
      "id": "cbb60ca25b87232a",
      "metadata": {
        "execution": {
          "iopub.execute_input": "2022-08-16T04:18:58.902890Z",
          "iopub.status.busy": "2022-08-16T04:18:58.902426Z",
          "iopub.status.idle": "2022-08-16T04:18:59.576280Z",
          "shell.execute_reply": "2022-08-16T04:18:59.575793Z"
        },
        "papermill": {
          "duration": 0.690024,
          "end_time": "2022-08-16T04:18:59.576408",
          "exception": false,
          "start_time": "2022-08-16T04:18:58.886384",
          "status": "completed"
        },
        "tags": [
          "remove-cell"
        ]
      },
      "outputs": [],
      "source": [
        "import matplotlib.pyplot as plt\n",
        "from fastcore.test import test_eq\n",
        "from pytest import approx, raises\n",
        "\n",
        "import os, sys; sys.stderr = open(os.devnull, \"w\")"
      ]
    },
    {
      "cell_type": "code",
      "execution_count": 3,
      "id": "7afd7379f6139753",
      "metadata": {
        "execution": {
          "iopub.execute_input": "2022-08-16T04:18:59.599788Z",
          "iopub.status.busy": "2022-08-16T04:18:59.598793Z",
          "iopub.status.idle": "2022-08-16T04:18:59.600281Z",
          "shell.execute_reply": "2022-08-16T04:18:59.600605Z"
        },
        "papermill": {
          "duration": 0.014402,
          "end_time": "2022-08-16T04:18:59.600715",
          "exception": false,
          "start_time": "2022-08-16T04:18:59.586313",
          "status": "completed"
        },
        "tags": [
          "remove-cell"
        ]
      },
      "outputs": [],
      "source": [
        "from __future__ import annotations\n",
        "\n",
        "__author__ = \"Floris Laporte\"\n",
        "__version__ = \"0.8.0\""
      ]
    },
    {
      "cell_type": "markdown",
      "id": "fe77e5e3",
      "metadata": {
        "papermill": {
          "duration": 0.009131,
          "end_time": "2022-08-16T04:18:59.619080",
          "exception": false,
          "start_time": "2022-08-16T04:18:59.609949",
          "status": "completed"
        },
        "tags": []
      },
      "source": [
        "## External\n",
        "\n",
        "utils from other packages available in SAX for convenience:"
      ]
    },
    {
      "cell_type": "code",
      "execution_count": 4,
      "id": "04a51a875eedc376",
      "metadata": {
        "execution": {
          "iopub.execute_input": "2022-08-16T04:18:59.641498Z",
          "iopub.status.busy": "2022-08-16T04:18:59.641080Z",
          "iopub.status.idle": "2022-08-16T04:19:00.221485Z",
          "shell.execute_reply": "2022-08-16T04:19:00.221047Z"
        },
        "papermill": {
          "duration": 0.593254,
          "end_time": "2022-08-16T04:19:00.221610",
          "exception": false,
          "start_time": "2022-08-16T04:18:59.628356",
          "status": "completed"
        },
        "tags": []
      },
      "outputs": [],
      "source": [
        "from functools import partial as partial\n",
        "from math import pi as pi\n",
        "\n",
        "from scipy.constants import c as c\n",
        "\n",
        "try:\n",
        "    from flax.core.frozen_dict import FrozenDict as FrozenDict\n",
        "except ImportError:\n",
        "    FrozenDict = dict"
      ]
    },
    {
      "cell_type": "markdown",
      "id": "3d3bde86",
      "metadata": {
        "papermill": {
          "duration": 0.009731,
          "end_time": "2022-08-16T04:19:00.242020",
          "exception": false,
          "start_time": "2022-08-16T04:19:00.232289",
          "status": "completed"
        },
        "tags": []
      },
      "source": [
        "## Typing"
      ]
    },
    {
      "cell_type": "code",
      "execution_count": 5,
      "id": "d3727b64258cfce1",
      "metadata": {
        "execution": {
          "iopub.execute_input": "2022-08-16T04:19:00.266691Z",
          "iopub.status.busy": "2022-08-16T04:19:00.266238Z",
          "iopub.status.idle": "2022-08-16T04:19:00.437977Z",
          "shell.execute_reply": "2022-08-16T04:19:00.437174Z"
        },
        "papermill": {
          "duration": 0.18674,
          "end_time": "2022-08-16T04:19:00.438096",
          "exception": false,
          "start_time": "2022-08-16T04:19:00.251356",
          "status": "completed"
        },
        "tags": []
      },
      "outputs": [],
      "source": [
        "\n",
        "from sax import typing_ as typing\n",
        "from sax.typing_ import (\n",
        "    Array as Array,\n",
        "    ComplexFloat as ComplexFloat,\n",
        "    Float as Float,\n",
        "    Instance as Instance,\n",
        "    Instances as Instances,\n",
        "    LogicalNetlist as LogicalNetlist,\n",
        "    Model as Model,\n",
        "    ModelFactory as ModelFactory,\n",
        "    Models as Models,\n",
        "    Netlist as Netlist,\n",
        "    SCoo as SCoo,\n",
        "    SDense as SDense,\n",
        "    SDict as SDict,\n",
        "    Settings as Settings,\n",
        "    SType as SType,\n",
        "    is_complex as is_complex,\n",
        "    is_complex_float as is_complex_float,\n",
        "    is_float as is_float,\n",
        "    is_instance as is_instance,\n",
        "    is_mixedmode as is_mixedmode,\n",
        "    is_model as is_model,\n",
        "    is_model_factory as is_model_factory,\n",
        "    is_multimode as is_multimode,\n",
        "    is_netlist as is_netlist,\n",
        "    is_scoo as is_scoo,\n",
        "    is_sdense as is_sdense,\n",
        "    is_sdict as is_sdict,\n",
        "    is_singlemode as is_singlemode,\n",
        "    modelfactory as modelfactory,\n",
        "    scoo as scoo,\n",
        "    sdense as sdense,\n",
        "    sdict as sdict,\n",
        "    validate_model as validate_model,\n",
        ")"
      ]
    },
    {
      "cell_type": "markdown",
      "id": "345808d3",
      "metadata": {
        "papermill": {
          "duration": 0.00969,
          "end_time": "2022-08-16T04:19:00.457422",
          "exception": false,
          "start_time": "2022-08-16T04:19:00.447732",
          "status": "completed"
        },
        "tags": []
      },
      "source": [
        "## Utils"
      ]
    },
    {
      "cell_type": "code",
      "execution_count": 6,
      "id": "644e1a992bdf5d15",
      "metadata": {
        "execution": {
          "iopub.execute_input": "2022-08-16T04:19:00.481851Z",
          "iopub.status.busy": "2022-08-16T04:19:00.481411Z",
          "iopub.status.idle": "2022-08-16T04:19:00.483116Z",
          "shell.execute_reply": "2022-08-16T04:19:00.482754Z"
        },
        "papermill": {
          "duration": 0.016462,
          "end_time": "2022-08-16T04:19:00.483206",
          "exception": false,
          "start_time": "2022-08-16T04:19:00.466744",
          "status": "completed"
        },
        "tags": []
      },
      "outputs": [],
      "source": [
        "\n",
        "from sax import utils as utils\n",
        "from sax.utils import (\n",
        "    block_diag as block_diag,\n",
        "    clean_string as clean_string,\n",
        "    copy_settings as copy_settings,\n",
        "    flatten_dict as flatten_dict,\n",
        "    get_inputs_outputs as get_inputs_outputs,\n",
        "    get_port_combinations as get_port_combinations,\n",
        "    get_ports as get_ports,\n",
        "    get_settings as get_settings,\n",
        "    grouped_interp as grouped_interp,\n",
        "    merge_dicts as merge_dicts,\n",
        "    mode_combinations as mode_combinations,\n",
        "    reciprocal as reciprocal,\n",
        "    rename_params as rename_params,\n",
        "    rename_ports as rename_ports,\n",
        "    try_float as try_float,\n",
        "    unflatten_dict as unflatten_dict,\n",
        "    update_settings as update_settings,\n",
        "    validate_multimode as validate_multimode,\n",
        "    validate_not_mixedmode as validate_not_mixedmode,\n",
        "    validate_sdict as validate_sdict,\n",
        "    validate_settings as validate_settings,\n",
        ")"
      ]
    },
    {
      "cell_type": "markdown",
      "id": "d80b6784",
      "metadata": {
        "papermill": {
          "duration": 0.009459,
          "end_time": "2022-08-16T04:19:00.501948",
          "exception": false,
          "start_time": "2022-08-16T04:19:00.492489",
          "status": "completed"
        },
        "tags": []
      },
      "source": [
        "## Caching"
      ]
    },
    {
      "cell_type": "code",
      "execution_count": 7,
      "id": "a125e59af378aa70",
      "metadata": {
        "execution": {
          "iopub.execute_input": "2022-08-16T04:19:00.524131Z",
          "iopub.status.busy": "2022-08-16T04:19:00.523706Z",
          "iopub.status.idle": "2022-08-16T04:19:00.525630Z",
          "shell.execute_reply": "2022-08-16T04:19:00.525294Z"
        },
        "papermill": {
          "duration": 0.014215,
          "end_time": "2022-08-16T04:19:00.525721",
          "exception": false,
          "start_time": "2022-08-16T04:19:00.511506",
          "status": "completed"
        },
        "tags": []
      },
      "outputs": [],
      "source": [
        "\n",
        "from sax import caching as caching\n",
        "from sax.caching import (\n",
        "    cache as cache, \n",
        "    cache_clear as cache_clear,\n",
        ")"
      ]
    },
    {
      "cell_type": "markdown",
      "id": "23287a09",
      "metadata": {
        "papermill": {
          "duration": 0.009547,
          "end_time": "2022-08-16T04:19:00.544719",
          "exception": false,
          "start_time": "2022-08-16T04:19:00.535172",
          "status": "completed"
        },
        "tags": []
      },
      "source": [
        "## Multimode"
      ]
    },
    {
      "cell_type": "code",
      "execution_count": 8,
      "id": "14473b080cf190f5",
      "metadata": {
        "execution": {
          "iopub.execute_input": "2022-08-16T04:19:00.567018Z",
          "iopub.status.busy": "2022-08-16T04:19:00.566600Z",
          "iopub.status.idle": "2022-08-16T04:19:00.568256Z",
          "shell.execute_reply": "2022-08-16T04:19:00.567895Z"
        },
        "papermill": {
          "duration": 0.014026,
          "end_time": "2022-08-16T04:19:00.568342",
          "exception": false,
          "start_time": "2022-08-16T04:19:00.554316",
          "status": "completed"
        },
        "tags": []
      },
      "outputs": [],
      "source": [
        "\n",
        "from sax import multimode as multimode\n",
        "from sax.multimode import (\n",
        "    multimode as multimode,\n",
        "    singlemode as singlemode,\n",
        ")"
      ]
    },
    {
      "cell_type": "markdown",
      "id": "c794abf0",
      "metadata": {
        "papermill": {
          "duration": 0.009574,
          "end_time": "2022-08-16T04:19:00.587420",
          "exception": false,
          "start_time": "2022-08-16T04:19:00.577846",
          "status": "completed"
        },
        "tags": []
      },
      "source": [
        "## Models"
      ]
    },
    {
      "cell_type": "code",
      "execution_count": 9,
      "id": "96dab5db4f6867fd",
      "metadata": {
        "execution": {
          "iopub.execute_input": "2022-08-16T04:19:00.609879Z",
          "iopub.status.busy": "2022-08-16T04:19:00.609259Z",
          "iopub.status.idle": "2022-08-16T04:19:00.610669Z",
          "shell.execute_reply": "2022-08-16T04:19:00.611004Z"
        },
        "papermill": {
          "duration": 0.014132,
          "end_time": "2022-08-16T04:19:00.611108",
          "exception": false,
          "start_time": "2022-08-16T04:19:00.596976",
          "status": "completed"
        },
        "tags": []
      },
      "outputs": [],
      "source": [
        "\n",
        "from sax import models as models\n",
        "from sax.models import get_models as get_models, passthru as passthru"
      ]
    },
    {
      "cell_type": "markdown",
      "id": "b94feb62",
      "metadata": {
        "papermill": {
          "duration": 0.009546,
          "end_time": "2022-08-16T04:19:00.630390",
          "exception": false,
          "start_time": "2022-08-16T04:19:00.620844",
          "status": "completed"
        },
        "tags": []
      },
      "source": [
        "## Netlist"
      ]
    },
    {
      "cell_type": "code",
      "execution_count": 10,
      "id": "033daf5cab97257a",
      "metadata": {
        "execution": {
          "iopub.execute_input": "2022-08-16T04:19:00.652464Z",
          "iopub.status.busy": "2022-08-16T04:19:00.652050Z",
          "iopub.status.idle": "2022-08-16T04:19:00.653870Z",
          "shell.execute_reply": "2022-08-16T04:19:00.653516Z"
        },
        "papermill": {
          "duration": 0.013999,
          "end_time": "2022-08-16T04:19:00.653955",
          "exception": false,
          "start_time": "2022-08-16T04:19:00.639956",
          "status": "completed"
        },
        "tags": []
      },
      "outputs": [],
      "source": [
        "\n",
        "from sax.netlist import netlist as netlist"
      ]
    },
    {
      "cell_type": "markdown",
      "id": "5792b5e9",
      "metadata": {
        "papermill": {
          "duration": 0.009727,
          "end_time": "2022-08-16T04:19:00.673530",
          "exception": false,
          "start_time": "2022-08-16T04:19:00.663803",
          "status": "completed"
        },
        "tags": []
      },
      "source": [
        "## Circuit"
      ]
    },
    {
      "cell_type": "code",
      "execution_count": 11,
      "id": "4c53aa239006f973",
      "metadata": {
        "execution": {
          "iopub.execute_input": "2022-08-16T04:19:00.696020Z",
          "iopub.status.busy": "2022-08-16T04:19:00.695581Z",
          "iopub.status.idle": "2022-08-16T04:19:00.697399Z",
          "shell.execute_reply": "2022-08-16T04:19:00.697755Z"
        },
        "papermill": {
          "duration": 0.014586,
          "end_time": "2022-08-16T04:19:00.697857",
          "exception": false,
          "start_time": "2022-08-16T04:19:00.683271",
          "status": "completed"
        },
        "tags": []
      },
      "outputs": [],
      "source": [
        "\n",
        "from sax.circuit import circuit as circuit"
      ]
    },
    {
      "cell_type": "markdown",
      "id": "e2d7c9fc",
      "metadata": {
        "papermill": {
          "duration": 0.009753,
          "end_time": "2022-08-16T04:19:00.717329",
          "exception": false,
          "start_time": "2022-08-16T04:19:00.707576",
          "status": "completed"
        },
        "tags": []
      },
      "source": [
        "## Backend"
      ]
    },
    {
      "cell_type": "code",
      "execution_count": 12,
      "id": "f1c7a962153ebba5",
      "metadata": {
        "execution": {
          "iopub.execute_input": "2022-08-16T04:19:00.740032Z",
          "iopub.status.busy": "2022-08-16T04:19:00.739601Z",
          "iopub.status.idle": "2022-08-16T04:19:00.740824Z",
          "shell.execute_reply": "2022-08-16T04:19:00.741180Z"
        },
        "papermill": {
          "duration": 0.014215,
          "end_time": "2022-08-16T04:19:00.741284",
          "exception": false,
          "start_time": "2022-08-16T04:19:00.727069",
          "status": "completed"
        },
        "tags": []
      },
      "outputs": [],
      "source": [
        "\n",
        "from sax import backends as backends"
      ]
    },
    {
      "cell_type": "markdown",
      "id": "3ecf363e",
      "metadata": {
        "papermill": {
          "duration": 0.009891,
          "end_time": "2022-08-16T04:19:00.761021",
          "exception": false,
          "start_time": "2022-08-16T04:19:00.751130",
          "status": "completed"
        },
        "tags": []
      },
      "source": [
        "## Patches"
      ]
    },
    {
      "cell_type": "code",
      "execution_count": 13,
      "id": "1be0e2d3b7e2cb70",
      "metadata": {
        "execution": {
          "iopub.execute_input": "2022-08-16T04:19:00.783210Z",
          "iopub.status.busy": "2022-08-16T04:19:00.782795Z",
          "iopub.status.idle": "2022-08-16T04:19:00.785322Z",
          "shell.execute_reply": "2022-08-16T04:19:00.784965Z"
        },
        "papermill": {
          "duration": 0.014335,
          "end_time": "2022-08-16T04:19:00.785408",
          "exception": false,
          "start_time": "2022-08-16T04:19:00.771073",
          "status": "completed"
        },
        "tags": []
      },
      "outputs": [],
      "source": [
        "\n",
        "from sax import patched as _patched"
      ]
    }
  ],
  "metadata": {
    "kernelspec": {
      "display_name": "sax",
      "language": "python",
      "name": "sax"
    },
    "language_info": {
      "codemirror_mode": {
        "name": "ipython",
        "version": 3
      },
      "file_extension": ".py",
      "mimetype": "text/x-python",
      "name": "python",
      "nbconvert_exporter": "python",
      "pygments_lexer": "ipython3",
      "version": "3.9.0"
    },
    "papermill": {
      "default_parameters": {},
      "duration": 4.374841,
      "end_time": "2022-08-16T04:19:02.079692",
      "environment_variables": {},
      "exception": null,
      "input_path": "./nbs/99_init.ipynb",
      "output_path": "./nbs/99_init.ipynb",
      "parameters": {},
      "start_time": "2022-08-16T04:18:57.704851",
      "version": "2.3.4"
    }
  },
  "nbformat": 4,
  "nbformat_minor": 5
}
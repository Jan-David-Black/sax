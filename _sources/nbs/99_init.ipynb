{
  "cells": [
    {
      "cell_type": "code",
      "execution_count": 1,
      "id": "a773d2dc30adfc7d",
      "metadata": {
        "execution": {
          "iopub.execute_input": "2022-08-04T05:48:56.170273Z",
          "iopub.status.busy": "2022-08-04T05:48:56.169756Z",
          "iopub.status.idle": "2022-08-04T05:48:56.173005Z",
          "shell.execute_reply": "2022-08-04T05:48:56.172487Z"
        },
        "papermill": {
          "duration": 0.024793,
          "end_time": "2022-08-04T05:48:56.173128",
          "exception": false,
          "start_time": "2022-08-04T05:48:56.148335",
          "status": "completed"
        },
        "tags": [
          "remove-cell"
        ]
      },
      "outputs": [],
      "source": []
    },
    {
      "cell_type": "markdown",
      "id": "b4250b31",
      "metadata": {
        "papermill": {
          "duration": 0.012668,
          "end_time": "2022-08-04T05:48:56.198749",
          "exception": false,
          "start_time": "2022-08-04T05:48:56.186081",
          "status": "completed"
        },
        "tags": []
      },
      "source": [
        "# SAX init\n",
        "\n",
        "> Import everything into the `sax` namespace:"
      ]
    },
    {
      "cell_type": "code",
      "execution_count": 2,
      "id": "80726bcff39ff0f1",
      "metadata": {
        "execution": {
          "iopub.execute_input": "2022-08-04T05:48:56.233043Z",
          "iopub.status.busy": "2022-08-04T05:48:56.232531Z",
          "iopub.status.idle": "2022-08-04T05:48:57.046438Z",
          "shell.execute_reply": "2022-08-04T05:48:57.045448Z"
        },
        "papermill": {
          "duration": 0.835318,
          "end_time": "2022-08-04T05:48:57.046596",
          "exception": false,
          "start_time": "2022-08-04T05:48:56.211278",
          "status": "completed"
        },
        "tags": [
          "remove-cell"
        ]
      },
      "outputs": [],
      "source": [
        "import matplotlib.pyplot as plt\n",
        "from fastcore.test import test_eq\n",
        "from pytest import approx, raises\n",
        "\n",
        "import os, sys; sys.stderr = open(os.devnull, \"w\")"
      ]
    },
    {
      "cell_type": "code",
      "execution_count": 3,
      "id": "162a1352acf1301c",
      "metadata": {
        "execution": {
          "iopub.execute_input": "2022-08-04T05:48:57.076921Z",
          "iopub.status.busy": "2022-08-04T05:48:57.075791Z",
          "iopub.status.idle": "2022-08-04T05:48:57.077496Z",
          "shell.execute_reply": "2022-08-04T05:48:57.077881Z"
        },
        "papermill": {
          "duration": 0.018322,
          "end_time": "2022-08-04T05:48:57.078018",
          "exception": false,
          "start_time": "2022-08-04T05:48:57.059696",
          "status": "completed"
        },
        "tags": [
          "remove-cell"
        ]
      },
      "outputs": [],
      "source": [
        "__author__ = \"Floris Laporte\"\n",
        "__version__ = \"0.7.3\""
      ]
    },
    {
      "cell_type": "code",
      "execution_count": 4,
      "id": "f5eccfa519d53330",
      "metadata": {
        "execution": {
          "iopub.execute_input": "2022-08-04T05:48:57.111547Z",
          "iopub.status.busy": "2022-08-04T05:48:57.111043Z",
          "iopub.status.idle": "2022-08-04T05:48:57.113026Z",
          "shell.execute_reply": "2022-08-04T05:48:57.112619Z"
        },
        "papermill": {
          "duration": 0.018511,
          "end_time": "2022-08-04T05:48:57.113139",
          "exception": false,
          "start_time": "2022-08-04T05:48:57.094628",
          "status": "completed"
        },
        "tags": [
          "remove-cell"
        ]
      },
      "outputs": [],
      "source": [
        "from __future__ import annotations"
      ]
    },
    {
      "cell_type": "markdown",
      "id": "fe77e5e3",
      "metadata": {
        "papermill": {
          "duration": 0.012935,
          "end_time": "2022-08-04T05:48:57.138955",
          "exception": false,
          "start_time": "2022-08-04T05:48:57.126020",
          "status": "completed"
        },
        "tags": []
      },
      "source": [
        "## External\n",
        "\n",
        "utils from other packages available in SAX for convenience:"
      ]
    },
    {
      "cell_type": "code",
      "execution_count": 5,
      "id": "8b37479e85061b8f",
      "metadata": {
        "execution": {
          "iopub.execute_input": "2022-08-04T05:48:57.170403Z",
          "iopub.status.busy": "2022-08-04T05:48:57.169894Z",
          "iopub.status.idle": "2022-08-04T05:48:57.881484Z",
          "shell.execute_reply": "2022-08-04T05:48:57.880356Z"
        },
        "papermill": {
          "duration": 0.730014,
          "end_time": "2022-08-04T05:48:57.881620",
          "exception": false,
          "start_time": "2022-08-04T05:48:57.151606",
          "status": "completed"
        },
        "tags": []
      },
      "outputs": [],
      "source": [
        "from functools import partial as partial\n",
        "from math import pi as pi\n",
        "\n",
        "from scipy.constants import c as c\n",
        "\n",
        "try:\n",
        "    from flax.core.frozen_dict import FrozenDict as FrozenDict\n",
        "except ImportError:\n",
        "    FrozenDict = dict"
      ]
    },
    {
      "cell_type": "markdown",
      "id": "3d3bde86",
      "metadata": {
        "papermill": {
          "duration": 0.013178,
          "end_time": "2022-08-04T05:48:57.908094",
          "exception": false,
          "start_time": "2022-08-04T05:48:57.894916",
          "status": "completed"
        },
        "tags": []
      },
      "source": [
        "## Typing"
      ]
    },
    {
      "cell_type": "code",
      "execution_count": 6,
      "id": "059587dca7f1170e",
      "metadata": {
        "execution": {
          "iopub.execute_input": "2022-08-04T05:48:57.940671Z",
          "iopub.status.busy": "2022-08-04T05:48:57.940141Z",
          "iopub.status.idle": "2022-08-04T05:48:58.050690Z",
          "shell.execute_reply": "2022-08-04T05:48:58.050102Z"
        },
        "papermill": {
          "duration": 0.129797,
          "end_time": "2022-08-04T05:48:58.050850",
          "exception": false,
          "start_time": "2022-08-04T05:48:57.921053",
          "status": "completed"
        },
        "tags": []
      },
      "outputs": [],
      "source": [
        "\n",
        "from sax import typing_ as typing\n",
        "from sax.typing_ import (\n",
        "    Array as Array,\n",
        "    ComplexFloat as ComplexFloat,\n",
        "    Float as Float,\n",
        "    Instance as Instance,\n",
        "    Instances as Instances,\n",
        "    LogicalNetlist as LogicalNetlist,\n",
        "    Model as Model,\n",
        "    ModelFactory as ModelFactory,\n",
        "    Models as Models,\n",
        "    Netlist as Netlist,\n",
        "    SCoo as SCoo,\n",
        "    SDense as SDense,\n",
        "    SDict as SDict,\n",
        "    Settings as Settings,\n",
        "    SType as SType,\n",
        "    is_complex as is_complex,\n",
        "    is_complex_float as is_complex_float,\n",
        "    is_float as is_float,\n",
        "    is_instance as is_instance,\n",
        "    is_mixedmode as is_mixedmode,\n",
        "    is_model as is_model,\n",
        "    is_model_factory as is_model_factory,\n",
        "    is_multimode as is_multimode,\n",
        "    is_netlist as is_netlist,\n",
        "    is_scoo as is_scoo,\n",
        "    is_sdense as is_sdense,\n",
        "    is_sdict as is_sdict,\n",
        "    is_singlemode as is_singlemode,\n",
        "    modelfactory as modelfactory,\n",
        "    scoo as scoo,\n",
        "    sdense as sdense,\n",
        "    sdict as sdict,\n",
        "    validate_model as validate_model,\n",
        ")"
      ]
    },
    {
      "cell_type": "markdown",
      "id": "345808d3",
      "metadata": {
        "papermill": {
          "duration": 0.013439,
          "end_time": "2022-08-04T05:48:58.079299",
          "exception": false,
          "start_time": "2022-08-04T05:48:58.065860",
          "status": "completed"
        },
        "tags": []
      },
      "source": [
        "## Utils"
      ]
    },
    {
      "cell_type": "code",
      "execution_count": 7,
      "id": "d7fd593344ec5717",
      "metadata": {
        "execution": {
          "iopub.execute_input": "2022-08-04T05:48:58.111765Z",
          "iopub.status.busy": "2022-08-04T05:48:58.111230Z",
          "iopub.status.idle": "2022-08-04T05:48:58.112282Z",
          "shell.execute_reply": "2022-08-04T05:48:58.112689Z"
        },
        "papermill": {
          "duration": 0.020498,
          "end_time": "2022-08-04T05:48:58.112831",
          "exception": false,
          "start_time": "2022-08-04T05:48:58.092333",
          "status": "completed"
        },
        "tags": []
      },
      "outputs": [],
      "source": [
        "\n",
        "from sax import utils as utils\n",
        "from sax.utils import (\n",
        "    block_diag as block_diag,\n",
        "    clean_string as clean_string,\n",
        "    copy_settings as copy_settings,\n",
        "    flatten_dict as flatten_dict,\n",
        "    get_inputs_outputs as get_inputs_outputs,\n",
        "    get_port_combinations as get_port_combinations,\n",
        "    get_ports as get_ports,\n",
        "    get_settings as get_settings,\n",
        "    grouped_interp as grouped_interp,\n",
        "    merge_dicts as merge_dicts,\n",
        "    mode_combinations as mode_combinations,\n",
        "    reciprocal as reciprocal,\n",
        "    rename_params as rename_params,\n",
        "    rename_ports as rename_ports,\n",
        "    try_float as try_float,\n",
        "    unflatten_dict as unflatten_dict,\n",
        "    update_settings as update_settings,\n",
        "    validate_multimode as validate_multimode,\n",
        "    validate_not_mixedmode as validate_not_mixedmode,\n",
        "    validate_sdict as validate_sdict,\n",
        "    validate_settings as validate_settings,\n",
        ")"
      ]
    },
    {
      "cell_type": "markdown",
      "id": "d80b6784",
      "metadata": {
        "papermill": {
          "duration": 0.013034,
          "end_time": "2022-08-04T05:48:58.138827",
          "exception": false,
          "start_time": "2022-08-04T05:48:58.125793",
          "status": "completed"
        },
        "tags": []
      },
      "source": [
        "## Caching"
      ]
    },
    {
      "cell_type": "code",
      "execution_count": 8,
      "id": "c9088fdb56d016dc",
      "metadata": {
        "execution": {
          "iopub.execute_input": "2022-08-04T05:48:58.169064Z",
          "iopub.status.busy": "2022-08-04T05:48:58.168557Z",
          "iopub.status.idle": "2022-08-04T05:48:58.170765Z",
          "shell.execute_reply": "2022-08-04T05:48:58.170320Z"
        },
        "papermill": {
          "duration": 0.018966,
          "end_time": "2022-08-04T05:48:58.170885",
          "exception": false,
          "start_time": "2022-08-04T05:48:58.151919",
          "status": "completed"
        },
        "tags": []
      },
      "outputs": [],
      "source": [
        "\n",
        "from sax import caching as caching\n",
        "from sax.caching import (\n",
        "    cache as cache, \n",
        "    cache_clear as cache_clear,\n",
        ")"
      ]
    },
    {
      "cell_type": "markdown",
      "id": "23287a09",
      "metadata": {
        "papermill": {
          "duration": 0.012824,
          "end_time": "2022-08-04T05:48:58.196672",
          "exception": false,
          "start_time": "2022-08-04T05:48:58.183848",
          "status": "completed"
        },
        "tags": []
      },
      "source": [
        "## Multimode"
      ]
    },
    {
      "cell_type": "code",
      "execution_count": 9,
      "id": "b37d5fc6b8953677",
      "metadata": {
        "execution": {
          "iopub.execute_input": "2022-08-04T05:48:58.226681Z",
          "iopub.status.busy": "2022-08-04T05:48:58.225875Z",
          "iopub.status.idle": "2022-08-04T05:48:58.229448Z",
          "shell.execute_reply": "2022-08-04T05:48:58.228973Z"
        },
        "papermill": {
          "duration": 0.019471,
          "end_time": "2022-08-04T05:48:58.229580",
          "exception": false,
          "start_time": "2022-08-04T05:48:58.210109",
          "status": "completed"
        },
        "tags": []
      },
      "outputs": [],
      "source": [
        "\n",
        "from sax import multimode as multimode\n",
        "from sax.multimode import (\n",
        "    multimode as multimode,\n",
        "    singlemode as singlemode,\n",
        ")"
      ]
    },
    {
      "cell_type": "markdown",
      "id": "c794abf0",
      "metadata": {
        "papermill": {
          "duration": 0.015343,
          "end_time": "2022-08-04T05:48:58.260040",
          "exception": false,
          "start_time": "2022-08-04T05:48:58.244697",
          "status": "completed"
        },
        "tags": []
      },
      "source": [
        "## Models"
      ]
    },
    {
      "cell_type": "code",
      "execution_count": 10,
      "id": "04259ef7cb0a5125",
      "metadata": {
        "execution": {
          "iopub.execute_input": "2022-08-04T05:48:58.295528Z",
          "iopub.status.busy": "2022-08-04T05:48:58.294980Z",
          "iopub.status.idle": "2022-08-04T05:48:58.296472Z",
          "shell.execute_reply": "2022-08-04T05:48:58.296931Z"
        },
        "papermill": {
          "duration": 0.022294,
          "end_time": "2022-08-04T05:48:58.297097",
          "exception": false,
          "start_time": "2022-08-04T05:48:58.274803",
          "status": "completed"
        },
        "tags": []
      },
      "outputs": [],
      "source": [
        "\n",
        "from sax import models as models\n",
        "from sax.models import get_models as get_models, passthru as passthru"
      ]
    },
    {
      "cell_type": "markdown",
      "id": "b94feb62",
      "metadata": {
        "papermill": {
          "duration": 0.015669,
          "end_time": "2022-08-04T05:48:58.327501",
          "exception": false,
          "start_time": "2022-08-04T05:48:58.311832",
          "status": "completed"
        },
        "tags": []
      },
      "source": [
        "## Netlist"
      ]
    },
    {
      "cell_type": "code",
      "execution_count": 11,
      "id": "c75264103b3f7ac8",
      "metadata": {
        "execution": {
          "iopub.execute_input": "2022-08-04T05:48:58.363628Z",
          "iopub.status.busy": "2022-08-04T05:48:58.362835Z",
          "iopub.status.idle": "2022-08-04T05:48:58.364535Z",
          "shell.execute_reply": "2022-08-04T05:48:58.364941Z"
        },
        "papermill": {
          "duration": 0.022355,
          "end_time": "2022-08-04T05:48:58.365088",
          "exception": false,
          "start_time": "2022-08-04T05:48:58.342733",
          "status": "completed"
        },
        "tags": []
      },
      "outputs": [],
      "source": [
        "\n",
        "from sax import netlist as netlist\n",
        "from sax.netlist import (\n",
        "    logical_netlist as logical_netlist,\n",
        "    netlist as netlist,\n",
        "    netlist_from_yaml as netlist_from_yaml,\n",
        ")"
      ]
    },
    {
      "cell_type": "markdown",
      "id": "5792b5e9",
      "metadata": {
        "papermill": {
          "duration": 0.013435,
          "end_time": "2022-08-04T05:48:58.393155",
          "exception": false,
          "start_time": "2022-08-04T05:48:58.379720",
          "status": "completed"
        },
        "tags": []
      },
      "source": [
        "## Circuit"
      ]
    },
    {
      "cell_type": "code",
      "execution_count": 12,
      "id": "db01acdcdfcd2361",
      "metadata": {
        "execution": {
          "iopub.execute_input": "2022-08-04T05:48:58.427070Z",
          "iopub.status.busy": "2022-08-04T05:48:58.426378Z",
          "iopub.status.idle": "2022-08-04T05:48:58.427609Z",
          "shell.execute_reply": "2022-08-04T05:48:58.427992Z"
        },
        "papermill": {
          "duration": 0.021525,
          "end_time": "2022-08-04T05:48:58.428140",
          "exception": false,
          "start_time": "2022-08-04T05:48:58.406615",
          "status": "completed"
        },
        "tags": []
      },
      "outputs": [],
      "source": [
        "\n",
        "from sax import circuit as circuit\n",
        "from sax.circuit import (\n",
        "    circuit as circuit,\n",
        "    circuit_from_gdsfactory as circuit_from_gdsfactory,\n",
        "    circuit_from_netlist as circuit_from_netlist,\n",
        "    circuit_from_yaml as circuit_from_yaml,\n",
        ")"
      ]
    },
    {
      "cell_type": "markdown",
      "id": "e2d7c9fc",
      "metadata": {
        "papermill": {
          "duration": 0.013933,
          "end_time": "2022-08-04T05:48:58.455888",
          "exception": false,
          "start_time": "2022-08-04T05:48:58.441955",
          "status": "completed"
        },
        "tags": []
      },
      "source": [
        "## Backend"
      ]
    },
    {
      "cell_type": "code",
      "execution_count": 13,
      "id": "a3b1d79270dda498",
      "metadata": {
        "execution": {
          "iopub.execute_input": "2022-08-04T05:48:58.487430Z",
          "iopub.status.busy": "2022-08-04T05:48:58.486903Z",
          "iopub.status.idle": "2022-08-04T05:48:58.488023Z",
          "shell.execute_reply": "2022-08-04T05:48:58.488483Z"
        },
        "papermill": {
          "duration": 0.019228,
          "end_time": "2022-08-04T05:48:58.488628",
          "exception": false,
          "start_time": "2022-08-04T05:48:58.469400",
          "status": "completed"
        },
        "tags": []
      },
      "outputs": [],
      "source": [
        "\n",
        "from sax import backends as backends"
      ]
    },
    {
      "cell_type": "markdown",
      "id": "3ecf363e",
      "metadata": {
        "papermill": {
          "duration": 0.013634,
          "end_time": "2022-08-04T05:48:58.516091",
          "exception": false,
          "start_time": "2022-08-04T05:48:58.502457",
          "status": "completed"
        },
        "tags": []
      },
      "source": [
        "## Patches"
      ]
    },
    {
      "cell_type": "code",
      "execution_count": 14,
      "id": "77c846afc3a1e22f",
      "metadata": {
        "execution": {
          "iopub.execute_input": "2022-08-04T05:48:58.547689Z",
          "iopub.status.busy": "2022-08-04T05:48:58.547176Z",
          "iopub.status.idle": "2022-08-04T05:48:58.548290Z",
          "shell.execute_reply": "2022-08-04T05:48:58.548750Z"
        },
        "papermill": {
          "duration": 0.019099,
          "end_time": "2022-08-04T05:48:58.548887",
          "exception": false,
          "start_time": "2022-08-04T05:48:58.529788",
          "status": "completed"
        },
        "tags": []
      },
      "outputs": [],
      "source": [
        "\n",
        "from sax import patched as _patched"
      ]
    }
  ],
  "metadata": {
    "kernelspec": {
      "display_name": "sax",
      "language": "python",
      "name": "sax"
    },
    "language_info": {
      "codemirror_mode": {
        "name": "ipython",
        "version": 3
      },
      "file_extension": ".py",
      "mimetype": "text/x-python",
      "name": "python",
      "nbconvert_exporter": "python",
      "pygments_lexer": "ipython3",
      "version": "3.9.0"
    },
    "papermill": {
      "default_parameters": {},
      "duration": 4.226991,
      "end_time": "2022-08-04T05:48:58.970453",
      "environment_variables": {},
      "exception": null,
      "input_path": "./nbs/99_init.ipynb",
      "output_path": "./nbs/99_init.ipynb",
      "parameters": {},
      "start_time": "2022-08-04T05:48:54.743462",
      "version": "2.3.4"
    }
  },
  "nbformat": 4,
  "nbformat_minor": 5
}
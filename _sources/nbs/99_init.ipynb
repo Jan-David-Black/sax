{
  "cells": [
    {
      "cell_type": "code",
      "execution_count": 1,
      "id": "34d2c73a323f6d58",
      "metadata": {
        "execution": {
          "iopub.execute_input": "2022-08-07T05:30:49.763388Z",
          "iopub.status.busy": "2022-08-07T05:30:49.762946Z",
          "iopub.status.idle": "2022-08-07T05:30:49.765463Z",
          "shell.execute_reply": "2022-08-07T05:30:49.765852Z"
        },
        "papermill": {
          "duration": 0.019257,
          "end_time": "2022-08-07T05:30:49.766049",
          "exception": false,
          "start_time": "2022-08-07T05:30:49.746792",
          "status": "completed"
        },
        "tags": [
          "remove-cell"
        ]
      },
      "outputs": [],
      "source": []
    },
    {
      "cell_type": "markdown",
      "id": "b4250b31",
      "metadata": {
        "papermill": {
          "duration": 0.010685,
          "end_time": "2022-08-07T05:30:49.787968",
          "exception": false,
          "start_time": "2022-08-07T05:30:49.777283",
          "status": "completed"
        },
        "tags": []
      },
      "source": [
        "# SAX init\n",
        "\n",
        "> Import everything into the `sax` namespace:"
      ]
    },
    {
      "cell_type": "code",
      "execution_count": 2,
      "id": "842776ba675bf2dd",
      "metadata": {
        "execution": {
          "iopub.execute_input": "2022-08-07T05:30:49.817332Z",
          "iopub.status.busy": "2022-08-07T05:30:49.816455Z",
          "iopub.status.idle": "2022-08-07T05:30:50.503873Z",
          "shell.execute_reply": "2022-08-07T05:30:50.503436Z"
        },
        "papermill": {
          "duration": 0.705338,
          "end_time": "2022-08-07T05:30:50.503988",
          "exception": false,
          "start_time": "2022-08-07T05:30:49.798650",
          "status": "completed"
        },
        "tags": [
          "remove-cell"
        ]
      },
      "outputs": [],
      "source": [
        "import matplotlib.pyplot as plt\n",
        "from fastcore.test import test_eq\n",
        "from pytest import approx, raises\n",
        "\n",
        "import os, sys; sys.stderr = open(os.devnull, \"w\")"
      ]
    },
    {
      "cell_type": "code",
      "execution_count": 3,
      "id": "2c6b7960702146d5",
      "metadata": {
        "execution": {
          "iopub.execute_input": "2022-08-07T05:30:50.529788Z",
          "iopub.status.busy": "2022-08-07T05:30:50.528865Z",
          "iopub.status.idle": "2022-08-07T05:30:50.530284Z",
          "shell.execute_reply": "2022-08-07T05:30:50.530609Z"
        },
        "papermill": {
          "duration": 0.015527,
          "end_time": "2022-08-07T05:30:50.530722",
          "exception": false,
          "start_time": "2022-08-07T05:30:50.515195",
          "status": "completed"
        },
        "tags": [
          "remove-cell"
        ]
      },
      "outputs": [],
      "source": [
        "__author__ = \"Floris Laporte\"\n",
        "__version__ = \"0.7.3\""
      ]
    },
    {
      "cell_type": "code",
      "execution_count": 4,
      "id": "e067114a88d4ee5a",
      "metadata": {
        "execution": {
          "iopub.execute_input": "2022-08-07T05:30:50.555466Z",
          "iopub.status.busy": "2022-08-07T05:30:50.555053Z",
          "iopub.status.idle": "2022-08-07T05:30:50.556729Z",
          "shell.execute_reply": "2022-08-07T05:30:50.556286Z"
        },
        "papermill": {
          "duration": 0.01533,
          "end_time": "2022-08-07T05:30:50.556822",
          "exception": false,
          "start_time": "2022-08-07T05:30:50.541492",
          "status": "completed"
        },
        "tags": [
          "remove-cell"
        ]
      },
      "outputs": [],
      "source": [
        "from __future__ import annotations"
      ]
    },
    {
      "cell_type": "markdown",
      "id": "fe77e5e3",
      "metadata": {
        "papermill": {
          "duration": 0.010983,
          "end_time": "2022-08-07T05:30:50.578728",
          "exception": false,
          "start_time": "2022-08-07T05:30:50.567745",
          "status": "completed"
        },
        "tags": []
      },
      "source": [
        "## External\n",
        "\n",
        "utils from other packages available in SAX for convenience:"
      ]
    },
    {
      "cell_type": "code",
      "execution_count": 5,
      "id": "22267e5092d84909",
      "metadata": {
        "execution": {
          "iopub.execute_input": "2022-08-07T05:30:50.605468Z",
          "iopub.status.busy": "2022-08-07T05:30:50.605045Z",
          "iopub.status.idle": "2022-08-07T05:30:51.222064Z",
          "shell.execute_reply": "2022-08-07T05:30:51.221615Z"
        },
        "papermill": {
          "duration": 0.632579,
          "end_time": "2022-08-07T05:30:51.222178",
          "exception": false,
          "start_time": "2022-08-07T05:30:50.589599",
          "status": "completed"
        },
        "tags": []
      },
      "outputs": [],
      "source": [
        "from functools import partial as partial\n",
        "from math import pi as pi\n",
        "\n",
        "from scipy.constants import c as c\n",
        "\n",
        "try:\n",
        "    from flax.core.frozen_dict import FrozenDict as FrozenDict\n",
        "except ImportError:\n",
        "    FrozenDict = dict"
      ]
    },
    {
      "cell_type": "markdown",
      "id": "3d3bde86",
      "metadata": {
        "papermill": {
          "duration": 0.011665,
          "end_time": "2022-08-07T05:30:51.245515",
          "exception": false,
          "start_time": "2022-08-07T05:30:51.233850",
          "status": "completed"
        },
        "tags": []
      },
      "source": [
        "## Typing"
      ]
    },
    {
      "cell_type": "code",
      "execution_count": 6,
      "id": "2b8bd3ca3aeca9fc",
      "metadata": {
        "execution": {
          "iopub.execute_input": "2022-08-07T05:30:51.273280Z",
          "iopub.status.busy": "2022-08-07T05:30:51.272823Z",
          "iopub.status.idle": "2022-08-07T05:30:51.364904Z",
          "shell.execute_reply": "2022-08-07T05:30:51.364417Z"
        },
        "papermill": {
          "duration": 0.108454,
          "end_time": "2022-08-07T05:30:51.365037",
          "exception": false,
          "start_time": "2022-08-07T05:30:51.256583",
          "status": "completed"
        },
        "tags": []
      },
      "outputs": [],
      "source": [
        "\n",
        "from sax import typing_ as typing\n",
        "from sax.typing_ import (\n",
        "    Array as Array,\n",
        "    ComplexFloat as ComplexFloat,\n",
        "    Float as Float,\n",
        "    Instance as Instance,\n",
        "    Instances as Instances,\n",
        "    LogicalNetlist as LogicalNetlist,\n",
        "    Model as Model,\n",
        "    ModelFactory as ModelFactory,\n",
        "    Models as Models,\n",
        "    Netlist as Netlist,\n",
        "    SCoo as SCoo,\n",
        "    SDense as SDense,\n",
        "    SDict as SDict,\n",
        "    Settings as Settings,\n",
        "    SType as SType,\n",
        "    is_complex as is_complex,\n",
        "    is_complex_float as is_complex_float,\n",
        "    is_float as is_float,\n",
        "    is_instance as is_instance,\n",
        "    is_mixedmode as is_mixedmode,\n",
        "    is_model as is_model,\n",
        "    is_model_factory as is_model_factory,\n",
        "    is_multimode as is_multimode,\n",
        "    is_netlist as is_netlist,\n",
        "    is_scoo as is_scoo,\n",
        "    is_sdense as is_sdense,\n",
        "    is_sdict as is_sdict,\n",
        "    is_singlemode as is_singlemode,\n",
        "    modelfactory as modelfactory,\n",
        "    scoo as scoo,\n",
        "    sdense as sdense,\n",
        "    sdict as sdict,\n",
        "    validate_model as validate_model,\n",
        ")"
      ]
    },
    {
      "cell_type": "markdown",
      "id": "345808d3",
      "metadata": {
        "papermill": {
          "duration": 0.011501,
          "end_time": "2022-08-07T05:30:51.389138",
          "exception": false,
          "start_time": "2022-08-07T05:30:51.377637",
          "status": "completed"
        },
        "tags": []
      },
      "source": [
        "## Utils"
      ]
    },
    {
      "cell_type": "code",
      "execution_count": 7,
      "id": "f912b7c01aa5cb59",
      "metadata": {
        "execution": {
          "iopub.execute_input": "2022-08-07T05:30:51.416252Z",
          "iopub.status.busy": "2022-08-07T05:30:51.415814Z",
          "iopub.status.idle": "2022-08-07T05:30:51.417376Z",
          "shell.execute_reply": "2022-08-07T05:30:51.416955Z"
        },
        "papermill": {
          "duration": 0.017267,
          "end_time": "2022-08-07T05:30:51.417469",
          "exception": false,
          "start_time": "2022-08-07T05:30:51.400202",
          "status": "completed"
        },
        "tags": []
      },
      "outputs": [],
      "source": [
        "\n",
        "from sax import utils as utils\n",
        "from sax.utils import (\n",
        "    block_diag as block_diag,\n",
        "    clean_string as clean_string,\n",
        "    copy_settings as copy_settings,\n",
        "    flatten_dict as flatten_dict,\n",
        "    get_inputs_outputs as get_inputs_outputs,\n",
        "    get_port_combinations as get_port_combinations,\n",
        "    get_ports as get_ports,\n",
        "    get_settings as get_settings,\n",
        "    grouped_interp as grouped_interp,\n",
        "    merge_dicts as merge_dicts,\n",
        "    mode_combinations as mode_combinations,\n",
        "    reciprocal as reciprocal,\n",
        "    rename_params as rename_params,\n",
        "    rename_ports as rename_ports,\n",
        "    try_float as try_float,\n",
        "    unflatten_dict as unflatten_dict,\n",
        "    update_settings as update_settings,\n",
        "    validate_multimode as validate_multimode,\n",
        "    validate_not_mixedmode as validate_not_mixedmode,\n",
        "    validate_sdict as validate_sdict,\n",
        "    validate_settings as validate_settings,\n",
        ")"
      ]
    },
    {
      "cell_type": "markdown",
      "id": "d80b6784",
      "metadata": {
        "papermill": {
          "duration": 0.011096,
          "end_time": "2022-08-07T05:30:51.439681",
          "exception": false,
          "start_time": "2022-08-07T05:30:51.428585",
          "status": "completed"
        },
        "tags": []
      },
      "source": [
        "## Caching"
      ]
    },
    {
      "cell_type": "code",
      "execution_count": 8,
      "id": "a6a5edb29e70d77f",
      "metadata": {
        "execution": {
          "iopub.execute_input": "2022-08-07T05:30:51.465762Z",
          "iopub.status.busy": "2022-08-07T05:30:51.465334Z",
          "iopub.status.idle": "2022-08-07T05:30:51.466834Z",
          "shell.execute_reply": "2022-08-07T05:30:51.467169Z"
        },
        "papermill": {
          "duration": 0.016367,
          "end_time": "2022-08-07T05:30:51.467278",
          "exception": false,
          "start_time": "2022-08-07T05:30:51.450911",
          "status": "completed"
        },
        "tags": []
      },
      "outputs": [],
      "source": [
        "\n",
        "from sax import caching as caching\n",
        "from sax.caching import (\n",
        "    cache as cache, \n",
        "    cache_clear as cache_clear,\n",
        ")"
      ]
    },
    {
      "cell_type": "markdown",
      "id": "23287a09",
      "metadata": {
        "papermill": {
          "duration": 0.011224,
          "end_time": "2022-08-07T05:30:51.489779",
          "exception": false,
          "start_time": "2022-08-07T05:30:51.478555",
          "status": "completed"
        },
        "tags": []
      },
      "source": [
        "## Multimode"
      ]
    },
    {
      "cell_type": "code",
      "execution_count": 9,
      "id": "1a5caaec7eb4711f",
      "metadata": {
        "execution": {
          "iopub.execute_input": "2022-08-07T05:30:51.515404Z",
          "iopub.status.busy": "2022-08-07T05:30:51.514985Z",
          "iopub.status.idle": "2022-08-07T05:30:51.516293Z",
          "shell.execute_reply": "2022-08-07T05:30:51.516631Z"
        },
        "papermill": {
          "duration": 0.01585,
          "end_time": "2022-08-07T05:30:51.516746",
          "exception": false,
          "start_time": "2022-08-07T05:30:51.500896",
          "status": "completed"
        },
        "tags": []
      },
      "outputs": [],
      "source": [
        "\n",
        "from sax import multimode as multimode\n",
        "from sax.multimode import (\n",
        "    multimode as multimode,\n",
        "    singlemode as singlemode,\n",
        ")"
      ]
    },
    {
      "cell_type": "markdown",
      "id": "c794abf0",
      "metadata": {
        "papermill": {
          "duration": 0.011263,
          "end_time": "2022-08-07T05:30:51.539182",
          "exception": false,
          "start_time": "2022-08-07T05:30:51.527919",
          "status": "completed"
        },
        "tags": []
      },
      "source": [
        "## Models"
      ]
    },
    {
      "cell_type": "code",
      "execution_count": 10,
      "id": "51f3aaab208ecba1",
      "metadata": {
        "execution": {
          "iopub.execute_input": "2022-08-07T05:30:51.564860Z",
          "iopub.status.busy": "2022-08-07T05:30:51.564393Z",
          "iopub.status.idle": "2022-08-07T05:30:51.565750Z",
          "shell.execute_reply": "2022-08-07T05:30:51.566079Z"
        },
        "papermill": {
          "duration": 0.015837,
          "end_time": "2022-08-07T05:30:51.566183",
          "exception": false,
          "start_time": "2022-08-07T05:30:51.550346",
          "status": "completed"
        },
        "tags": []
      },
      "outputs": [],
      "source": [
        "\n",
        "from sax import models as models\n",
        "from sax.models import get_models as get_models, passthru as passthru"
      ]
    },
    {
      "cell_type": "markdown",
      "id": "b94feb62",
      "metadata": {
        "papermill": {
          "duration": 0.011246,
          "end_time": "2022-08-07T05:30:51.588810",
          "exception": false,
          "start_time": "2022-08-07T05:30:51.577564",
          "status": "completed"
        },
        "tags": []
      },
      "source": [
        "## Netlist"
      ]
    },
    {
      "cell_type": "code",
      "execution_count": 11,
      "id": "4e779a0d771562db",
      "metadata": {
        "execution": {
          "iopub.execute_input": "2022-08-07T05:30:51.615159Z",
          "iopub.status.busy": "2022-08-07T05:30:51.614609Z",
          "iopub.status.idle": "2022-08-07T05:30:51.616801Z",
          "shell.execute_reply": "2022-08-07T05:30:51.616356Z"
        },
        "papermill": {
          "duration": 0.016702,
          "end_time": "2022-08-07T05:30:51.616893",
          "exception": false,
          "start_time": "2022-08-07T05:30:51.600191",
          "status": "completed"
        },
        "tags": []
      },
      "outputs": [],
      "source": [
        "\n",
        "from sax import netlist as netlist\n",
        "from sax.netlist import (\n",
        "    logical_netlist as logical_netlist,\n",
        "    netlist as netlist,\n",
        "    netlist_from_yaml as netlist_from_yaml,\n",
        ")"
      ]
    },
    {
      "cell_type": "markdown",
      "id": "5792b5e9",
      "metadata": {
        "papermill": {
          "duration": 0.01136,
          "end_time": "2022-08-07T05:30:51.639701",
          "exception": false,
          "start_time": "2022-08-07T05:30:51.628341",
          "status": "completed"
        },
        "tags": []
      },
      "source": [
        "## Circuit"
      ]
    },
    {
      "cell_type": "code",
      "execution_count": 12,
      "id": "0319fa3d8950a7c3",
      "metadata": {
        "execution": {
          "iopub.execute_input": "2022-08-07T05:30:51.666058Z",
          "iopub.status.busy": "2022-08-07T05:30:51.665639Z",
          "iopub.status.idle": "2022-08-07T05:30:51.667009Z",
          "shell.execute_reply": "2022-08-07T05:30:51.667337Z"
        },
        "papermill": {
          "duration": 0.016384,
          "end_time": "2022-08-07T05:30:51.667439",
          "exception": false,
          "start_time": "2022-08-07T05:30:51.651055",
          "status": "completed"
        },
        "tags": []
      },
      "outputs": [],
      "source": [
        "\n",
        "from sax import circuit as circuit\n",
        "from sax.circuit import (\n",
        "    circuit as circuit,\n",
        "    circuit_from_gdsfactory as circuit_from_gdsfactory,\n",
        "    circuit_from_netlist as circuit_from_netlist,\n",
        "    circuit_from_yaml as circuit_from_yaml,\n",
        ")"
      ]
    },
    {
      "cell_type": "markdown",
      "id": "e2d7c9fc",
      "metadata": {
        "papermill": {
          "duration": 0.011525,
          "end_time": "2022-08-07T05:30:51.690542",
          "exception": false,
          "start_time": "2022-08-07T05:30:51.679017",
          "status": "completed"
        },
        "tags": []
      },
      "source": [
        "## Backend"
      ]
    },
    {
      "cell_type": "code",
      "execution_count": 13,
      "id": "596720a7da1849ca",
      "metadata": {
        "execution": {
          "iopub.execute_input": "2022-08-07T05:30:51.716755Z",
          "iopub.status.busy": "2022-08-07T05:30:51.716293Z",
          "iopub.status.idle": "2022-08-07T05:30:51.717959Z",
          "shell.execute_reply": "2022-08-07T05:30:51.717540Z"
        },
        "papermill": {
          "duration": 0.015865,
          "end_time": "2022-08-07T05:30:51.718048",
          "exception": false,
          "start_time": "2022-08-07T05:30:51.702183",
          "status": "completed"
        },
        "tags": []
      },
      "outputs": [],
      "source": [
        "\n",
        "from sax import backends as backends"
      ]
    },
    {
      "cell_type": "markdown",
      "id": "3ecf363e",
      "metadata": {
        "papermill": {
          "duration": 0.011564,
          "end_time": "2022-08-07T05:30:51.741286",
          "exception": false,
          "start_time": "2022-08-07T05:30:51.729722",
          "status": "completed"
        },
        "tags": []
      },
      "source": [
        "## Patches"
      ]
    },
    {
      "cell_type": "code",
      "execution_count": 14,
      "id": "4d64b04f1ffd2c60",
      "metadata": {
        "execution": {
          "iopub.execute_input": "2022-08-07T05:30:51.767670Z",
          "iopub.status.busy": "2022-08-07T05:30:51.767245Z",
          "iopub.status.idle": "2022-08-07T05:30:51.768987Z",
          "shell.execute_reply": "2022-08-07T05:30:51.768617Z"
        },
        "papermill": {
          "duration": 0.016199,
          "end_time": "2022-08-07T05:30:51.769075",
          "exception": false,
          "start_time": "2022-08-07T05:30:51.752876",
          "status": "completed"
        },
        "tags": []
      },
      "outputs": [],
      "source": [
        "\n",
        "from sax import patched as _patched"
      ]
    }
  ],
  "metadata": {
    "kernelspec": {
      "display_name": "sax",
      "language": "python",
      "name": "sax"
    },
    "language_info": {
      "codemirror_mode": {
        "name": "ipython",
        "version": 3
      },
      "file_extension": ".py",
      "mimetype": "text/x-python",
      "name": "python",
      "nbconvert_exporter": "python",
      "pygments_lexer": "ipython3",
      "version": "3.9.0"
    },
    "papermill": {
      "default_parameters": {},
      "duration": 4.375327,
      "end_time": "2022-08-07T05:30:52.985884",
      "environment_variables": {},
      "exception": null,
      "input_path": "./nbs/99_init.ipynb",
      "output_path": "./nbs/99_init.ipynb",
      "parameters": {},
      "start_time": "2022-08-07T05:30:48.610557",
      "version": "2.3.4"
    }
  },
  "nbformat": 4,
  "nbformat_minor": 5
}
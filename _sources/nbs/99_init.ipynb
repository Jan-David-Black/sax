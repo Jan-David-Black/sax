{
  "cells": [
    {
      "cell_type": "code",
      "execution_count": 1,
      "id": "414ff156b34fb4ff",
      "metadata": {
        "execution": {
          "iopub.execute_input": "2022-08-10T16:01:39.701130Z",
          "iopub.status.busy": "2022-08-10T16:01:39.700693Z",
          "iopub.status.idle": "2022-08-10T16:01:39.703530Z",
          "shell.execute_reply": "2022-08-10T16:01:39.703116Z"
        },
        "papermill": {
          "duration": 0.01936,
          "end_time": "2022-08-10T16:01:39.703656",
          "exception": false,
          "start_time": "2022-08-10T16:01:39.684296",
          "status": "completed"
        },
        "tags": [
          "remove-cell"
        ]
      },
      "outputs": [],
      "source": []
    },
    {
      "cell_type": "markdown",
      "id": "b4250b31",
      "metadata": {
        "papermill": {
          "duration": 0.01043,
          "end_time": "2022-08-10T16:01:39.724915",
          "exception": false,
          "start_time": "2022-08-10T16:01:39.714485",
          "status": "completed"
        },
        "tags": []
      },
      "source": [
        "# SAX init\n",
        "\n",
        "> Import everything into the `sax` namespace:"
      ]
    },
    {
      "cell_type": "code",
      "execution_count": 2,
      "id": "214eb3bed3293749",
      "metadata": {
        "execution": {
          "iopub.execute_input": "2022-08-10T16:01:39.753467Z",
          "iopub.status.busy": "2022-08-10T16:01:39.752441Z",
          "iopub.status.idle": "2022-08-10T16:01:40.433213Z",
          "shell.execute_reply": "2022-08-10T16:01:40.432754Z"
        },
        "papermill": {
          "duration": 0.698263,
          "end_time": "2022-08-10T16:01:40.433360",
          "exception": false,
          "start_time": "2022-08-10T16:01:39.735097",
          "status": "completed"
        },
        "tags": [
          "remove-cell"
        ]
      },
      "outputs": [],
      "source": [
        "import matplotlib.pyplot as plt\n",
        "from fastcore.test import test_eq\n",
        "from pytest import approx, raises\n",
        "\n",
        "import os, sys; sys.stderr = open(os.devnull, \"w\")"
      ]
    },
    {
      "cell_type": "code",
      "execution_count": 3,
      "id": "76746c16d977b4ac",
      "metadata": {
        "execution": {
          "iopub.execute_input": "2022-08-10T16:01:40.458717Z",
          "iopub.status.busy": "2022-08-10T16:01:40.458283Z",
          "iopub.status.idle": "2022-08-10T16:01:40.460028Z",
          "shell.execute_reply": "2022-08-10T16:01:40.459651Z"
        },
        "papermill": {
          "duration": 0.015837,
          "end_time": "2022-08-10T16:01:40.460127",
          "exception": false,
          "start_time": "2022-08-10T16:01:40.444290",
          "status": "completed"
        },
        "tags": [
          "remove-cell"
        ]
      },
      "outputs": [],
      "source": [
        "from __future__ import annotations\n",
        "\n",
        "__author__ = \"Floris Laporte\"\n",
        "__version__ = \"0.7.3\""
      ]
    },
    {
      "cell_type": "markdown",
      "id": "fe77e5e3",
      "metadata": {
        "papermill": {
          "duration": 0.010456,
          "end_time": "2022-08-10T16:01:40.480961",
          "exception": false,
          "start_time": "2022-08-10T16:01:40.470505",
          "status": "completed"
        },
        "tags": []
      },
      "source": [
        "## External\n",
        "\n",
        "utils from other packages available in SAX for convenience:"
      ]
    },
    {
      "cell_type": "code",
      "execution_count": 4,
      "id": "cfc79bc349427d0f",
      "metadata": {
        "execution": {
          "iopub.execute_input": "2022-08-10T16:01:40.505358Z",
          "iopub.status.busy": "2022-08-10T16:01:40.504937Z",
          "iopub.status.idle": "2022-08-10T16:01:41.106721Z",
          "shell.execute_reply": "2022-08-10T16:01:41.105926Z"
        },
        "papermill": {
          "duration": 0.615598,
          "end_time": "2022-08-10T16:01:41.106855",
          "exception": false,
          "start_time": "2022-08-10T16:01:40.491257",
          "status": "completed"
        },
        "tags": []
      },
      "outputs": [],
      "source": [
        "from functools import partial as partial\n",
        "from math import pi as pi\n",
        "\n",
        "from scipy.constants import c as c\n",
        "\n",
        "try:\n",
        "    from flax.core.frozen_dict import FrozenDict as FrozenDict\n",
        "except ImportError:\n",
        "    FrozenDict = dict"
      ]
    },
    {
      "cell_type": "markdown",
      "id": "3d3bde86",
      "metadata": {
        "papermill": {
          "duration": 0.010593,
          "end_time": "2022-08-10T16:01:41.128392",
          "exception": false,
          "start_time": "2022-08-10T16:01:41.117799",
          "status": "completed"
        },
        "tags": []
      },
      "source": [
        "## Typing"
      ]
    },
    {
      "cell_type": "code",
      "execution_count": 5,
      "id": "ce2bbabf20932d0f",
      "metadata": {
        "execution": {
          "iopub.execute_input": "2022-08-10T16:01:41.155122Z",
          "iopub.status.busy": "2022-08-10T16:01:41.154683Z",
          "iopub.status.idle": "2022-08-10T16:01:41.245434Z",
          "shell.execute_reply": "2022-08-10T16:01:41.245010Z"
        },
        "papermill": {
          "duration": 0.106583,
          "end_time": "2022-08-10T16:01:41.245558",
          "exception": false,
          "start_time": "2022-08-10T16:01:41.138975",
          "status": "completed"
        },
        "tags": []
      },
      "outputs": [],
      "source": [
        "\n",
        "from sax import typing_ as typing\n",
        "from sax.typing_ import (\n",
        "    Array as Array,\n",
        "    ComplexFloat as ComplexFloat,\n",
        "    Float as Float,\n",
        "    Instance as Instance,\n",
        "    Instances as Instances,\n",
        "    LogicalNetlist as LogicalNetlist,\n",
        "    Model as Model,\n",
        "    ModelFactory as ModelFactory,\n",
        "    Models as Models,\n",
        "    Netlist as Netlist,\n",
        "    SCoo as SCoo,\n",
        "    SDense as SDense,\n",
        "    SDict as SDict,\n",
        "    Settings as Settings,\n",
        "    SType as SType,\n",
        "    is_complex as is_complex,\n",
        "    is_complex_float as is_complex_float,\n",
        "    is_float as is_float,\n",
        "    is_instance as is_instance,\n",
        "    is_mixedmode as is_mixedmode,\n",
        "    is_model as is_model,\n",
        "    is_model_factory as is_model_factory,\n",
        "    is_multimode as is_multimode,\n",
        "    is_netlist as is_netlist,\n",
        "    is_scoo as is_scoo,\n",
        "    is_sdense as is_sdense,\n",
        "    is_sdict as is_sdict,\n",
        "    is_singlemode as is_singlemode,\n",
        "    modelfactory as modelfactory,\n",
        "    scoo as scoo,\n",
        "    sdense as sdense,\n",
        "    sdict as sdict,\n",
        "    validate_model as validate_model,\n",
        ")"
      ]
    },
    {
      "cell_type": "markdown",
      "id": "345808d3",
      "metadata": {
        "papermill": {
          "duration": 0.010709,
          "end_time": "2022-08-10T16:01:41.267474",
          "exception": false,
          "start_time": "2022-08-10T16:01:41.256765",
          "status": "completed"
        },
        "tags": []
      },
      "source": [
        "## Utils"
      ]
    },
    {
      "cell_type": "code",
      "execution_count": 6,
      "id": "b954485c533904d6",
      "metadata": {
        "execution": {
          "iopub.execute_input": "2022-08-10T16:01:41.293440Z",
          "iopub.status.busy": "2022-08-10T16:01:41.293003Z",
          "iopub.status.idle": "2022-08-10T16:01:41.294646Z",
          "shell.execute_reply": "2022-08-10T16:01:41.294290Z"
        },
        "papermill": {
          "duration": 0.016689,
          "end_time": "2022-08-10T16:01:41.294737",
          "exception": false,
          "start_time": "2022-08-10T16:01:41.278048",
          "status": "completed"
        },
        "tags": []
      },
      "outputs": [],
      "source": [
        "\n",
        "from sax import utils as utils\n",
        "from sax.utils import (\n",
        "    block_diag as block_diag,\n",
        "    clean_string as clean_string,\n",
        "    copy_settings as copy_settings,\n",
        "    flatten_dict as flatten_dict,\n",
        "    get_inputs_outputs as get_inputs_outputs,\n",
        "    get_port_combinations as get_port_combinations,\n",
        "    get_ports as get_ports,\n",
        "    get_settings as get_settings,\n",
        "    grouped_interp as grouped_interp,\n",
        "    merge_dicts as merge_dicts,\n",
        "    mode_combinations as mode_combinations,\n",
        "    reciprocal as reciprocal,\n",
        "    rename_params as rename_params,\n",
        "    rename_ports as rename_ports,\n",
        "    try_float as try_float,\n",
        "    unflatten_dict as unflatten_dict,\n",
        "    update_settings as update_settings,\n",
        "    validate_multimode as validate_multimode,\n",
        "    validate_not_mixedmode as validate_not_mixedmode,\n",
        "    validate_sdict as validate_sdict,\n",
        "    validate_settings as validate_settings,\n",
        ")"
      ]
    },
    {
      "cell_type": "markdown",
      "id": "d80b6784",
      "metadata": {
        "papermill": {
          "duration": 0.010604,
          "end_time": "2022-08-10T16:01:41.315832",
          "exception": false,
          "start_time": "2022-08-10T16:01:41.305228",
          "status": "completed"
        },
        "tags": []
      },
      "source": [
        "## Caching"
      ]
    },
    {
      "cell_type": "code",
      "execution_count": 7,
      "id": "1248364f0c902e38",
      "metadata": {
        "execution": {
          "iopub.execute_input": "2022-08-10T16:01:41.340553Z",
          "iopub.status.busy": "2022-08-10T16:01:41.340133Z",
          "iopub.status.idle": "2022-08-10T16:01:41.341634Z",
          "shell.execute_reply": "2022-08-10T16:01:41.342021Z"
        },
        "papermill": {
          "duration": 0.01575,
          "end_time": "2022-08-10T16:01:41.342132",
          "exception": false,
          "start_time": "2022-08-10T16:01:41.326382",
          "status": "completed"
        },
        "tags": []
      },
      "outputs": [],
      "source": [
        "\n",
        "from sax import caching as caching\n",
        "from sax.caching import (\n",
        "    cache as cache, \n",
        "    cache_clear as cache_clear,\n",
        ")"
      ]
    },
    {
      "cell_type": "markdown",
      "id": "23287a09",
      "metadata": {
        "papermill": {
          "duration": 0.010539,
          "end_time": "2022-08-10T16:01:41.363474",
          "exception": false,
          "start_time": "2022-08-10T16:01:41.352935",
          "status": "completed"
        },
        "tags": []
      },
      "source": [
        "## Multimode"
      ]
    },
    {
      "cell_type": "code",
      "execution_count": 8,
      "id": "a12e13188553450e",
      "metadata": {
        "execution": {
          "iopub.execute_input": "2022-08-10T16:01:41.388148Z",
          "iopub.status.busy": "2022-08-10T16:01:41.387717Z",
          "iopub.status.idle": "2022-08-10T16:01:41.389241Z",
          "shell.execute_reply": "2022-08-10T16:01:41.388888Z"
        },
        "papermill": {
          "duration": 0.01508,
          "end_time": "2022-08-10T16:01:41.389331",
          "exception": false,
          "start_time": "2022-08-10T16:01:41.374251",
          "status": "completed"
        },
        "tags": []
      },
      "outputs": [],
      "source": [
        "\n",
        "from sax import multimode as multimode\n",
        "from sax.multimode import (\n",
        "    multimode as multimode,\n",
        "    singlemode as singlemode,\n",
        ")"
      ]
    },
    {
      "cell_type": "markdown",
      "id": "c794abf0",
      "metadata": {
        "papermill": {
          "duration": 0.010756,
          "end_time": "2022-08-10T16:01:41.410789",
          "exception": false,
          "start_time": "2022-08-10T16:01:41.400033",
          "status": "completed"
        },
        "tags": []
      },
      "source": [
        "## Models"
      ]
    },
    {
      "cell_type": "code",
      "execution_count": 9,
      "id": "6941a5f2839a384a",
      "metadata": {
        "execution": {
          "iopub.execute_input": "2022-08-10T16:01:41.435462Z",
          "iopub.status.busy": "2022-08-10T16:01:41.435046Z",
          "iopub.status.idle": "2022-08-10T16:01:41.436419Z",
          "shell.execute_reply": "2022-08-10T16:01:41.436745Z"
        },
        "papermill": {
          "duration": 0.0154,
          "end_time": "2022-08-10T16:01:41.436851",
          "exception": false,
          "start_time": "2022-08-10T16:01:41.421451",
          "status": "completed"
        },
        "tags": []
      },
      "outputs": [],
      "source": [
        "\n",
        "from sax import models as models\n",
        "from sax.models import get_models as get_models, passthru as passthru"
      ]
    },
    {
      "cell_type": "markdown",
      "id": "b94feb62",
      "metadata": {
        "papermill": {
          "duration": 0.010702,
          "end_time": "2022-08-10T16:01:41.458328",
          "exception": false,
          "start_time": "2022-08-10T16:01:41.447626",
          "status": "completed"
        },
        "tags": []
      },
      "source": [
        "## Netlist"
      ]
    },
    {
      "cell_type": "code",
      "execution_count": 10,
      "id": "a2242cd6c047a8b3",
      "metadata": {
        "execution": {
          "iopub.execute_input": "2022-08-10T16:01:41.483206Z",
          "iopub.status.busy": "2022-08-10T16:01:41.482792Z",
          "iopub.status.idle": "2022-08-10T16:01:41.484061Z",
          "shell.execute_reply": "2022-08-10T16:01:41.484368Z"
        },
        "papermill": {
          "duration": 0.015255,
          "end_time": "2022-08-10T16:01:41.484478",
          "exception": false,
          "start_time": "2022-08-10T16:01:41.469223",
          "status": "completed"
        },
        "tags": []
      },
      "outputs": [],
      "source": [
        "\n",
        "from sax import netlist as netlist\n",
        "from sax.netlist import (\n",
        "    logical_netlist as logical_netlist,\n",
        "    netlist as netlist,\n",
        "    netlist_from_yaml as netlist_from_yaml,\n",
        ")"
      ]
    },
    {
      "cell_type": "markdown",
      "id": "5792b5e9",
      "metadata": {
        "papermill": {
          "duration": 0.010915,
          "end_time": "2022-08-10T16:01:41.506425",
          "exception": false,
          "start_time": "2022-08-10T16:01:41.495510",
          "status": "completed"
        },
        "tags": []
      },
      "source": [
        "## Circuit"
      ]
    },
    {
      "cell_type": "code",
      "execution_count": 11,
      "id": "31c95dcc0e0d32d8",
      "metadata": {
        "execution": {
          "iopub.execute_input": "2022-08-10T16:01:41.531624Z",
          "iopub.status.busy": "2022-08-10T16:01:41.531212Z",
          "iopub.status.idle": "2022-08-10T16:01:41.532523Z",
          "shell.execute_reply": "2022-08-10T16:01:41.532910Z"
        },
        "papermill": {
          "duration": 0.015769,
          "end_time": "2022-08-10T16:01:41.533014",
          "exception": false,
          "start_time": "2022-08-10T16:01:41.517245",
          "status": "completed"
        },
        "tags": []
      },
      "outputs": [],
      "source": [
        "\n",
        "from sax import circuit as circuit\n",
        "from sax.circuit import (\n",
        "    circuit as circuit,\n",
        "    circuit_from_gdsfactory as circuit_from_gdsfactory,\n",
        "    circuit_from_netlist as circuit_from_netlist,\n",
        "    circuit_from_yaml as circuit_from_yaml,\n",
        ")"
      ]
    },
    {
      "cell_type": "markdown",
      "id": "e2d7c9fc",
      "metadata": {
        "papermill": {
          "duration": 0.011011,
          "end_time": "2022-08-10T16:01:41.555024",
          "exception": false,
          "start_time": "2022-08-10T16:01:41.544013",
          "status": "completed"
        },
        "tags": []
      },
      "source": [
        "## Backend"
      ]
    },
    {
      "cell_type": "code",
      "execution_count": 12,
      "id": "b62080a3f323a43b",
      "metadata": {
        "execution": {
          "iopub.execute_input": "2022-08-10T16:01:41.579773Z",
          "iopub.status.busy": "2022-08-10T16:01:41.579328Z",
          "iopub.status.idle": "2022-08-10T16:01:41.581278Z",
          "shell.execute_reply": "2022-08-10T16:01:41.580930Z"
        },
        "papermill": {
          "duration": 0.015372,
          "end_time": "2022-08-10T16:01:41.581365",
          "exception": false,
          "start_time": "2022-08-10T16:01:41.565993",
          "status": "completed"
        },
        "tags": []
      },
      "outputs": [],
      "source": [
        "\n",
        "from sax import backends as backends"
      ]
    },
    {
      "cell_type": "markdown",
      "id": "3ecf363e",
      "metadata": {
        "papermill": {
          "duration": 0.011146,
          "end_time": "2022-08-10T16:01:41.603535",
          "exception": false,
          "start_time": "2022-08-10T16:01:41.592389",
          "status": "completed"
        },
        "tags": []
      },
      "source": [
        "## Patches"
      ]
    },
    {
      "cell_type": "code",
      "execution_count": 13,
      "id": "d7b74125eb1226b3",
      "metadata": {
        "execution": {
          "iopub.execute_input": "2022-08-10T16:01:41.628529Z",
          "iopub.status.busy": "2022-08-10T16:01:41.628121Z",
          "iopub.status.idle": "2022-08-10T16:01:41.629358Z",
          "shell.execute_reply": "2022-08-10T16:01:41.629681Z"
        },
        "papermill": {
          "duration": 0.015163,
          "end_time": "2022-08-10T16:01:41.629783",
          "exception": false,
          "start_time": "2022-08-10T16:01:41.614620",
          "status": "completed"
        },
        "tags": []
      },
      "outputs": [],
      "source": [
        "\n",
        "from sax import patched as _patched"
      ]
    }
  ],
  "metadata": {
    "kernelspec": {
      "display_name": "sax",
      "language": "python",
      "name": "sax"
    },
    "language_info": {
      "codemirror_mode": {
        "name": "ipython",
        "version": 3
      },
      "file_extension": ".py",
      "mimetype": "text/x-python",
      "name": "python",
      "nbconvert_exporter": "python",
      "pygments_lexer": "ipython3",
      "version": "3.9.0"
    },
    "papermill": {
      "default_parameters": {},
      "duration": 4.37955,
      "end_time": "2022-08-10T16:01:42.925570",
      "environment_variables": {},
      "exception": null,
      "input_path": "./nbs/99_init.ipynb",
      "output_path": "./nbs/99_init.ipynb",
      "parameters": {},
      "start_time": "2022-08-10T16:01:38.546020",
      "version": "2.3.4"
    }
  },
  "nbformat": 4,
  "nbformat_minor": 5
}
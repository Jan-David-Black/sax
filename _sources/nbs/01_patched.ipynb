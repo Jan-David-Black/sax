{
  "cells": [
    {
      "cell_type": "code",
      "execution_count": 1,
      "id": "6176e08dae07f542",
      "metadata": {
        "execution": {
          "iopub.execute_input": "2022-08-10T16:01:52.202089Z",
          "iopub.status.busy": "2022-08-10T16:01:52.201639Z",
          "iopub.status.idle": "2022-08-10T16:01:52.204604Z",
          "shell.execute_reply": "2022-08-10T16:01:52.204188Z"
        },
        "papermill": {
          "duration": 0.01364,
          "end_time": "2022-08-10T16:01:52.204724",
          "exception": false,
          "start_time": "2022-08-10T16:01:52.191084",
          "status": "completed"
        },
        "tags": [
          "remove-cell"
        ]
      },
      "outputs": [],
      "source": []
    },
    {
      "cell_type": "markdown",
      "id": "62619887-4d1d-4218-8259-9dbe991cfded",
      "metadata": {
        "papermill": {
          "duration": 0.005159,
          "end_time": "2022-08-10T16:01:52.215472",
          "exception": false,
          "start_time": "2022-08-10T16:01:52.210313",
          "status": "completed"
        },
        "tags": []
      },
      "source": [
        "# Patched\n",
        "\n",
        "> We patch some library and objects that don't belong to SAX. Don't worry, it's nothing substantial."
      ]
    },
    {
      "cell_type": "code",
      "execution_count": 2,
      "id": "d999d1211595ff3c",
      "metadata": {
        "execution": {
          "iopub.execute_input": "2022-08-10T16:01:52.233660Z",
          "iopub.status.busy": "2022-08-10T16:01:52.233239Z",
          "iopub.status.idle": "2022-08-10T16:01:52.915180Z",
          "shell.execute_reply": "2022-08-10T16:01:52.914722Z"
        },
        "papermill": {
          "duration": 0.694897,
          "end_time": "2022-08-10T16:01:52.915312",
          "exception": false,
          "start_time": "2022-08-10T16:01:52.220415",
          "status": "completed"
        },
        "tags": [
          "remove-cell"
        ]
      },
      "outputs": [],
      "source": [
        "import matplotlib.pyplot as plt\n",
        "from fastcore.test import test_eq\n",
        "from pytest import approx, raises\n",
        "\n",
        "import os, sys; sys.stderr = open(os.devnull, \"w\")"
      ]
    },
    {
      "cell_type": "code",
      "execution_count": 3,
      "id": "466573053489175e",
      "metadata": {
        "execution": {
          "iopub.execute_input": "2022-08-10T16:01:52.930802Z",
          "iopub.status.busy": "2022-08-10T16:01:52.930360Z",
          "iopub.status.idle": "2022-08-10T16:01:53.611661Z",
          "shell.execute_reply": "2022-08-10T16:01:53.611194Z"
        },
        "papermill": {
          "duration": 0.690969,
          "end_time": "2022-08-10T16:01:53.611893",
          "exception": false,
          "start_time": "2022-08-10T16:01:52.920924",
          "status": "completed"
        },
        "tags": [
          "hide-input"
        ]
      },
      "outputs": [],
      "source": [
        "from __future__ import annotations\n",
        "\n",
        "import re\n",
        "from textwrap import dedent\n",
        "\n",
        "from fastcore.basics import patch_to\n",
        "from sax.typing_ import is_complex_float, is_float\n",
        "\n",
        "try:\n",
        "    import jax.numpy as jnp\n",
        "    from flax.core import FrozenDict\n",
        "    from jaxlib.xla_extension import DeviceArray\n",
        "    JAX_AVAILABLE = True\n",
        "except (ImportError, ModuleNotFoundError):\n",
        "    import numpy as jnp\n",
        "    DeviceArray = jnp.ndarray\n",
        "    FrozenDict = dict\n",
        "    JAX_AVAILABLE = False"
      ]
    },
    {
      "cell_type": "markdown",
      "id": "e37bb974-621b-4fc2-b4a8-d3f51d4f72ad",
      "metadata": {
        "papermill": {
          "duration": 0.005551,
          "end_time": "2022-08-10T16:01:53.623616",
          "exception": false,
          "start_time": "2022-08-10T16:01:53.618065",
          "status": "completed"
        },
        "tags": []
      },
      "source": [
        "Paching `FrozenDict` to have the same repr as a normal dict:"
      ]
    },
    {
      "cell_type": "code",
      "execution_count": 4,
      "id": "4cfa2325c7d7bcf8",
      "metadata": {
        "execution": {
          "iopub.execute_input": "2022-08-10T16:01:53.637853Z",
          "iopub.status.busy": "2022-08-10T16:01:53.635751Z",
          "iopub.status.idle": "2022-08-10T16:01:53.639254Z",
          "shell.execute_reply": "2022-08-10T16:01:53.639564Z"
        },
        "papermill": {
          "duration": 0.010905,
          "end_time": "2022-08-10T16:01:53.639699",
          "exception": false,
          "start_time": "2022-08-10T16:01:53.628794",
          "status": "completed"
        },
        "tags": [
          "remove-cell"
        ]
      },
      "outputs": [],
      "source": [
        "\n",
        "if JAX_AVAILABLE:\n",
        "    @patch_to(FrozenDict)\n",
        "    def __repr__(self):  # type: ignore\n",
        "        _dict = lambda d: dict(\n",
        "            {k: (v if not isinstance(v, self.__class__) else dict(v)) for k, v in d.items()}\n",
        "        )\n",
        "        return f\"{self.__class__.__name__}({dict.__repr__(_dict(self))})\""
      ]
    },
    {
      "cell_type": "markdown",
      "id": "4484b223-c22e-4537-8f90-df47ef31d086",
      "metadata": {
        "papermill": {
          "duration": 0.005149,
          "end_time": "2022-08-10T16:01:53.649974",
          "exception": false,
          "start_time": "2022-08-10T16:01:53.644825",
          "status": "completed"
        },
        "tags": []
      },
      "source": [
        "Patching `DeviceArray` to have less verbose reprs for 0-D arrays:"
      ]
    },
    {
      "cell_type": "code",
      "execution_count": 5,
      "id": "350d43ad83fb3939",
      "metadata": {
        "execution": {
          "iopub.execute_input": "2022-08-10T16:01:53.662479Z",
          "iopub.status.busy": "2022-08-10T16:01:53.662061Z",
          "iopub.status.idle": "2022-08-10T16:01:53.668470Z",
          "shell.execute_reply": "2022-08-10T16:01:53.668120Z"
        },
        "papermill": {
          "duration": 0.013423,
          "end_time": "2022-08-10T16:01:53.668560",
          "exception": false,
          "start_time": "2022-08-10T16:01:53.655137",
          "status": "completed"
        },
        "tags": [
          "remove-cell"
        ]
      },
      "outputs": [],
      "source": [
        "if JAX_AVAILABLE:\n",
        "    @patch_to(DeviceArray)\n",
        "    def __repr__(self):  # type: ignore\n",
        "        if self.ndim == 0 and is_float(self):\n",
        "            v = float(self)\n",
        "            return repr(round(v, 5)) if abs(v) > 1e-4 else repr(v)\n",
        "        elif self.ndim == 0 and is_complex_float(self):\n",
        "            r, i = float(self.real), float(self.imag)\n",
        "            r = round(r, 5) if abs(r) > 1e-4 else r\n",
        "            i = round(i, 5) if abs(i) > 1e-4 else i\n",
        "            s = repr(r + 1j * i)\n",
        "            if s[0] == \"(\" and s[-1] == \")\":\n",
        "                s = s[1:-1]\n",
        "            return s\n",
        "        else:\n",
        "            s = super(self.__class__, self).__repr__()\n",
        "            s = s.replace(\"DeviceArray(\", \"      array(\")\n",
        "            s = re.sub(r\", dtype=.*[,)]\", \"\", s)\n",
        "            s = re.sub(r\" weak_type=.*[,)]\", \"\", s)\n",
        "            return dedent(s)+\")\""
      ]
    },
    {
      "cell_type": "code",
      "execution_count": 6,
      "id": "5f6c14e4-723e-4ad9-9b20-fde3d7b7f86f",
      "metadata": {
        "execution": {
          "iopub.execute_input": "2022-08-10T16:01:53.682401Z",
          "iopub.status.busy": "2022-08-10T16:01:53.680690Z",
          "iopub.status.idle": "2022-08-10T16:01:53.708846Z",
          "shell.execute_reply": "2022-08-10T16:01:53.709161Z"
        },
        "papermill": {
          "duration": 0.035544,
          "end_time": "2022-08-10T16:01:53.709284",
          "exception": false,
          "start_time": "2022-08-10T16:01:53.673740",
          "status": "completed"
        },
        "tags": []
      },
      "outputs": [
        {
          "data": {
            "text/plain": [
              "array(3)"
            ]
          },
          "execution_count": 6,
          "metadata": {},
          "output_type": "execute_result"
        }
      ],
      "source": [
        "jnp.array(3)"
      ]
    },
    {
      "cell_type": "code",
      "execution_count": 7,
      "id": "02676641-cddd-4f70-8138-b4530dd318cd",
      "metadata": {
        "execution": {
          "iopub.execute_input": "2022-08-10T16:01:53.725427Z",
          "iopub.status.busy": "2022-08-10T16:01:53.725001Z",
          "iopub.status.idle": "2022-08-10T16:01:53.726634Z",
          "shell.execute_reply": "2022-08-10T16:01:53.726963Z"
        },
        "papermill": {
          "duration": 0.011828,
          "end_time": "2022-08-10T16:01:53.727069",
          "exception": false,
          "start_time": "2022-08-10T16:01:53.715241",
          "status": "completed"
        },
        "tags": []
      },
      "outputs": [
        {
          "data": {
            "text/plain": [
              "array([3, 4, 5])"
            ]
          },
          "execution_count": 7,
          "metadata": {},
          "output_type": "execute_result"
        }
      ],
      "source": [
        "jnp.array([3, 4, 5])"
      ]
    }
  ],
  "metadata": {
    "kernelspec": {
      "display_name": "Python 3 (ipykernel)",
      "language": "python",
      "name": "python3"
    },
    "language_info": {
      "codemirror_mode": {
        "name": "ipython",
        "version": 3
      },
      "file_extension": ".py",
      "mimetype": "text/x-python",
      "name": "python",
      "nbconvert_exporter": "python",
      "pygments_lexer": "ipython3",
      "version": "3.9.0"
    },
    "papermill": {
      "default_parameters": {},
      "duration": 3.073219,
      "end_time": "2022-08-10T16:01:54.139406",
      "environment_variables": {},
      "exception": null,
      "input_path": "./nbs/01_patched.ipynb",
      "output_path": "./nbs/01_patched.ipynb",
      "parameters": {},
      "start_time": "2022-08-10T16:01:51.066187",
      "version": "2.3.4"
    }
  },
  "nbformat": 4,
  "nbformat_minor": 5
}
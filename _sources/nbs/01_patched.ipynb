{
  "cells": [
    {
      "cell_type": "code",
      "execution_count": 1,
      "id": "65240d4e8b911e8a",
      "metadata": {
        "execution": {
          "iopub.execute_input": "2022-08-16T04:19:11.150479Z",
          "iopub.status.busy": "2022-08-16T04:19:11.150031Z",
          "iopub.status.idle": "2022-08-16T04:19:11.152131Z",
          "shell.execute_reply": "2022-08-16T04:19:11.151720Z"
        },
        "papermill": {
          "duration": 0.012927,
          "end_time": "2022-08-16T04:19:11.152242",
          "exception": false,
          "start_time": "2022-08-16T04:19:11.139315",
          "status": "completed"
        },
        "tags": [
          "remove-cell"
        ]
      },
      "outputs": [],
      "source": []
    },
    {
      "cell_type": "markdown",
      "id": "62619887-4d1d-4218-8259-9dbe991cfded",
      "metadata": {
        "papermill": {
          "duration": 0.004711,
          "end_time": "2022-08-16T04:19:11.162063",
          "exception": false,
          "start_time": "2022-08-16T04:19:11.157352",
          "status": "completed"
        },
        "tags": []
      },
      "source": [
        "# Patched\n",
        "\n",
        "> We patch some library and objects that don't belong to SAX. Don't worry, it's nothing substantial."
      ]
    },
    {
      "cell_type": "code",
      "execution_count": 2,
      "id": "4dfefd3b619a6b40",
      "metadata": {
        "execution": {
          "iopub.execute_input": "2022-08-16T04:19:11.178501Z",
          "iopub.status.busy": "2022-08-16T04:19:11.178089Z",
          "iopub.status.idle": "2022-08-16T04:19:11.854711Z",
          "shell.execute_reply": "2022-08-16T04:19:11.854278Z"
        },
        "papermill": {
          "duration": 0.688204,
          "end_time": "2022-08-16T04:19:11.854836",
          "exception": false,
          "start_time": "2022-08-16T04:19:11.166632",
          "status": "completed"
        },
        "tags": [
          "remove-cell"
        ]
      },
      "outputs": [],
      "source": [
        "import matplotlib.pyplot as plt\n",
        "from fastcore.test import test_eq\n",
        "from pytest import approx, raises\n",
        "\n",
        "import os, sys; sys.stderr = open(os.devnull, \"w\")"
      ]
    },
    {
      "cell_type": "code",
      "execution_count": 3,
      "id": "9ea5702a9d9e2d21",
      "metadata": {
        "execution": {
          "iopub.execute_input": "2022-08-16T04:19:11.869857Z",
          "iopub.status.busy": "2022-08-16T04:19:11.869415Z",
          "iopub.status.idle": "2022-08-16T04:19:12.608446Z",
          "shell.execute_reply": "2022-08-16T04:19:12.608788Z"
        },
        "papermill": {
          "duration": 0.748524,
          "end_time": "2022-08-16T04:19:12.608931",
          "exception": false,
          "start_time": "2022-08-16T04:19:11.860407",
          "status": "completed"
        },
        "tags": [
          "hide-input"
        ]
      },
      "outputs": [],
      "source": [
        "from __future__ import annotations\n",
        "\n",
        "import re\n",
        "from textwrap import dedent\n",
        "\n",
        "from fastcore.basics import patch_to\n",
        "from sax.typing_ import is_complex_float, is_float\n",
        "\n",
        "try:\n",
        "    import jax.numpy as jnp\n",
        "    from flax.core import FrozenDict\n",
        "    from jaxlib.xla_extension import DeviceArray\n",
        "    JAX_AVAILABLE = True\n",
        "except (ImportError, ModuleNotFoundError):\n",
        "    import numpy as jnp\n",
        "    DeviceArray = jnp.ndarray\n",
        "    FrozenDict = dict\n",
        "    JAX_AVAILABLE = False"
      ]
    },
    {
      "cell_type": "markdown",
      "id": "e37bb974-621b-4fc2-b4a8-d3f51d4f72ad",
      "metadata": {
        "papermill": {
          "duration": 0.005072,
          "end_time": "2022-08-16T04:19:12.618936",
          "exception": false,
          "start_time": "2022-08-16T04:19:12.613864",
          "status": "completed"
        },
        "tags": []
      },
      "source": [
        "Paching `FrozenDict` to have the same repr as a normal dict:"
      ]
    },
    {
      "cell_type": "code",
      "execution_count": 4,
      "id": "6e81cb45758f136b",
      "metadata": {
        "execution": {
          "iopub.execute_input": "2022-08-16T04:19:12.632366Z",
          "iopub.status.busy": "2022-08-16T04:19:12.631940Z",
          "iopub.status.idle": "2022-08-16T04:19:12.633566Z",
          "shell.execute_reply": "2022-08-16T04:19:12.633214Z"
        },
        "papermill": {
          "duration": 0.010147,
          "end_time": "2022-08-16T04:19:12.633652",
          "exception": false,
          "start_time": "2022-08-16T04:19:12.623505",
          "status": "completed"
        },
        "tags": [
          "remove-cell"
        ]
      },
      "outputs": [],
      "source": [
        "\n",
        "if JAX_AVAILABLE:\n",
        "    @patch_to(FrozenDict)\n",
        "    def __repr__(self):  # type: ignore\n",
        "        _dict = lambda d: dict(\n",
        "            {k: (v if not isinstance(v, self.__class__) else dict(v)) for k, v in d.items()}\n",
        "        )\n",
        "        return f\"{self.__class__.__name__}({dict.__repr__(_dict(self))})\""
      ]
    },
    {
      "cell_type": "markdown",
      "id": "4484b223-c22e-4537-8f90-df47ef31d086",
      "metadata": {
        "papermill": {
          "duration": 0.004572,
          "end_time": "2022-08-16T04:19:12.642934",
          "exception": false,
          "start_time": "2022-08-16T04:19:12.638362",
          "status": "completed"
        },
        "tags": []
      },
      "source": [
        "Patching `DeviceArray` to have less verbose reprs for 0-D arrays:"
      ]
    },
    {
      "cell_type": "code",
      "execution_count": 5,
      "id": "2d8600e87fd58955",
      "metadata": {
        "execution": {
          "iopub.execute_input": "2022-08-16T04:19:12.658394Z",
          "iopub.status.busy": "2022-08-16T04:19:12.657977Z",
          "iopub.status.idle": "2022-08-16T04:19:12.659519Z",
          "shell.execute_reply": "2022-08-16T04:19:12.659107Z"
        },
        "papermill": {
          "duration": 0.012014,
          "end_time": "2022-08-16T04:19:12.659632",
          "exception": false,
          "start_time": "2022-08-16T04:19:12.647618",
          "status": "completed"
        },
        "tags": [
          "remove-cell"
        ]
      },
      "outputs": [],
      "source": [
        "if JAX_AVAILABLE:\n",
        "    @patch_to(DeviceArray)\n",
        "    def __repr__(self):  # type: ignore\n",
        "        if self.ndim == 0 and is_float(self):\n",
        "            v = float(self)\n",
        "            return repr(round(v, 5)) if abs(v) > 1e-4 else repr(v)\n",
        "        elif self.ndim == 0 and is_complex_float(self):\n",
        "            r, i = float(self.real), float(self.imag)\n",
        "            r = round(r, 5) if abs(r) > 1e-4 else r\n",
        "            i = round(i, 5) if abs(i) > 1e-4 else i\n",
        "            s = repr(r + 1j * i)\n",
        "            if s[0] == \"(\" and s[-1] == \")\":\n",
        "                s = s[1:-1]\n",
        "            return s\n",
        "        else:\n",
        "            s = super(self.__class__, self).__repr__()\n",
        "            s = s.replace(\"DeviceArray(\", \"      array(\")\n",
        "            s = re.sub(r\", dtype=.*[,)]\", \"\", s)\n",
        "            s = re.sub(r\" weak_type=.*[,)]\", \"\", s)\n",
        "            return dedent(s)+\")\""
      ]
    },
    {
      "cell_type": "code",
      "execution_count": 6,
      "id": "5f6c14e4-723e-4ad9-9b20-fde3d7b7f86f",
      "metadata": {
        "execution": {
          "iopub.execute_input": "2022-08-16T04:19:12.672485Z",
          "iopub.status.busy": "2022-08-16T04:19:12.672076Z",
          "iopub.status.idle": "2022-08-16T04:19:12.699385Z",
          "shell.execute_reply": "2022-08-16T04:19:12.699026Z"
        },
        "papermill": {
          "duration": 0.035133,
          "end_time": "2022-08-16T04:19:12.699475",
          "exception": false,
          "start_time": "2022-08-16T04:19:12.664342",
          "status": "completed"
        },
        "tags": []
      },
      "outputs": [
        {
          "data": {
            "text/plain": [
              "array(3)"
            ]
          },
          "execution_count": 6,
          "metadata": {},
          "output_type": "execute_result"
        }
      ],
      "source": [
        "jnp.array(3)"
      ]
    },
    {
      "cell_type": "code",
      "execution_count": 7,
      "id": "02676641-cddd-4f70-8138-b4530dd318cd",
      "metadata": {
        "execution": {
          "iopub.execute_input": "2022-08-16T04:19:12.714263Z",
          "iopub.status.busy": "2022-08-16T04:19:12.713845Z",
          "iopub.status.idle": "2022-08-16T04:19:12.717555Z",
          "shell.execute_reply": "2022-08-16T04:19:12.717201Z"
        },
        "papermill": {
          "duration": 0.012834,
          "end_time": "2022-08-16T04:19:12.717641",
          "exception": false,
          "start_time": "2022-08-16T04:19:12.704807",
          "status": "completed"
        },
        "tags": []
      },
      "outputs": [
        {
          "data": {
            "text/plain": [
              "array([3, 4, 5])"
            ]
          },
          "execution_count": 7,
          "metadata": {},
          "output_type": "execute_result"
        }
      ],
      "source": [
        "jnp.array([3, 4, 5])"
      ]
    }
  ],
  "metadata": {
    "kernelspec": {
      "display_name": "Python 3 (ipykernel)",
      "language": "python",
      "name": "python3"
    },
    "language_info": {
      "codemirror_mode": {
        "name": "ipython",
        "version": 3
      },
      "file_extension": ".py",
      "mimetype": "text/x-python",
      "name": "python",
      "nbconvert_exporter": "python",
      "pygments_lexer": "ipython3",
      "version": "3.9.0"
    },
    "papermill": {
      "default_parameters": {},
      "duration": 3.016342,
      "end_time": "2022-08-16T04:19:13.029660",
      "environment_variables": {},
      "exception": null,
      "input_path": "./nbs/01_patched.ipynb",
      "output_path": "./nbs/01_patched.ipynb",
      "parameters": {},
      "start_time": "2022-08-16T04:19:10.013318",
      "version": "2.3.4"
    }
  },
  "nbformat": 4,
  "nbformat_minor": 5
}
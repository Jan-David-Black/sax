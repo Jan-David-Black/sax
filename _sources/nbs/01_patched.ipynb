{
  "cells": [
    {
      "cell_type": "code",
      "execution_count": 1,
      "id": "03ee402ea278b3fc",
      "metadata": {
        "execution": {
          "iopub.execute_input": "2022-08-04T04:33:12.849792Z",
          "iopub.status.busy": "2022-08-04T04:33:12.849319Z",
          "iopub.status.idle": "2022-08-04T04:33:12.852251Z",
          "shell.execute_reply": "2022-08-04T04:33:12.851812Z"
        },
        "papermill": {
          "duration": 0.014268,
          "end_time": "2022-08-04T04:33:12.852366",
          "exception": false,
          "start_time": "2022-08-04T04:33:12.838098",
          "status": "completed"
        },
        "tags": [
          "remove-cell"
        ]
      },
      "outputs": [],
      "source": []
    },
    {
      "cell_type": "markdown",
      "id": "62619887-4d1d-4218-8259-9dbe991cfded",
      "metadata": {
        "papermill": {
          "duration": 0.005186,
          "end_time": "2022-08-04T04:33:12.863313",
          "exception": false,
          "start_time": "2022-08-04T04:33:12.858127",
          "status": "completed"
        },
        "tags": []
      },
      "source": [
        "# Patched\n",
        "\n",
        "> We patch some library and objects that don't belong to SAX. Don't worry, it's nothing substantial."
      ]
    },
    {
      "cell_type": "code",
      "execution_count": 2,
      "id": "bfd41ec9a19849f1",
      "metadata": {
        "execution": {
          "iopub.execute_input": "2022-08-04T04:33:12.881784Z",
          "iopub.status.busy": "2022-08-04T04:33:12.881357Z",
          "iopub.status.idle": "2022-08-04T04:33:13.574640Z",
          "shell.execute_reply": "2022-08-04T04:33:13.574171Z"
        },
        "papermill": {
          "duration": 0.706383,
          "end_time": "2022-08-04T04:33:13.574776",
          "exception": false,
          "start_time": "2022-08-04T04:33:12.868393",
          "status": "completed"
        },
        "tags": [
          "remove-cell"
        ]
      },
      "outputs": [],
      "source": [
        "import matplotlib.pyplot as plt\n",
        "from fastcore.test import test_eq\n",
        "from pytest import approx, raises\n",
        "\n",
        "import os, sys; sys.stderr = open(os.devnull, \"w\")"
      ]
    },
    {
      "cell_type": "code",
      "execution_count": 3,
      "id": "61612f87b0085372",
      "metadata": {
        "execution": {
          "iopub.execute_input": "2022-08-04T04:33:13.593225Z",
          "iopub.status.busy": "2022-08-04T04:33:13.591457Z",
          "iopub.status.idle": "2022-08-04T04:33:14.327019Z",
          "shell.execute_reply": "2022-08-04T04:33:14.326604Z"
        },
        "papermill": {
          "duration": 0.746099,
          "end_time": "2022-08-04T04:33:14.327141",
          "exception": false,
          "start_time": "2022-08-04T04:33:13.581042",
          "status": "completed"
        },
        "tags": [
          "hide-input"
        ]
      },
      "outputs": [],
      "source": [
        "from __future__ import annotations\n",
        "\n",
        "import re\n",
        "from textwrap import dedent\n",
        "\n",
        "from fastcore.basics import patch_to\n",
        "from sax.typing_ import is_complex_float, is_float\n",
        "\n",
        "try:\n",
        "    import jax.numpy as jnp\n",
        "    from flax.core import FrozenDict\n",
        "    from jaxlib.xla_extension import DeviceArray\n",
        "    JAX_AVAILABLE = True\n",
        "except (ImportError, ModuleNotFoundError):\n",
        "    import numpy as jnp\n",
        "    DeviceArray = jnp.ndarray\n",
        "    FrozenDict = dict\n",
        "    JAX_AVAILABLE = False"
      ]
    },
    {
      "cell_type": "markdown",
      "id": "e37bb974-621b-4fc2-b4a8-d3f51d4f72ad",
      "metadata": {
        "papermill": {
          "duration": 0.005853,
          "end_time": "2022-08-04T04:33:14.338719",
          "exception": false,
          "start_time": "2022-08-04T04:33:14.332866",
          "status": "completed"
        },
        "tags": []
      },
      "source": [
        "Paching `FrozenDict` to have the same repr as a normal dict:"
      ]
    },
    {
      "cell_type": "code",
      "execution_count": 4,
      "id": "2c4cafcd1d2de822",
      "metadata": {
        "execution": {
          "iopub.execute_input": "2022-08-04T04:33:14.354712Z",
          "iopub.status.busy": "2022-08-04T04:33:14.354256Z",
          "iopub.status.idle": "2022-08-04T04:33:14.355441Z",
          "shell.execute_reply": "2022-08-04T04:33:14.355774Z"
        },
        "papermill": {
          "duration": 0.011772,
          "end_time": "2022-08-04T04:33:14.355903",
          "exception": false,
          "start_time": "2022-08-04T04:33:14.344131",
          "status": "completed"
        },
        "tags": [
          "remove-cell"
        ]
      },
      "outputs": [],
      "source": [
        "\n",
        "if JAX_AVAILABLE:\n",
        "    @patch_to(FrozenDict)\n",
        "    def __repr__(self):  # type: ignore\n",
        "        _dict = lambda d: dict(\n",
        "            {k: (v if not isinstance(v, self.__class__) else dict(v)) for k, v in d.items()}\n",
        "        )\n",
        "        return f\"{self.__class__.__name__}({dict.__repr__(_dict(self))})\""
      ]
    },
    {
      "cell_type": "markdown",
      "id": "4484b223-c22e-4537-8f90-df47ef31d086",
      "metadata": {
        "papermill": {
          "duration": 0.005345,
          "end_time": "2022-08-04T04:33:14.366669",
          "exception": false,
          "start_time": "2022-08-04T04:33:14.361324",
          "status": "completed"
        },
        "tags": []
      },
      "source": [
        "Patching `DeviceArray` to have less verbose reprs for 0-D arrays:"
      ]
    },
    {
      "cell_type": "code",
      "execution_count": 5,
      "id": "b45078bb82cfefbc",
      "metadata": {
        "execution": {
          "iopub.execute_input": "2022-08-04T04:33:14.383988Z",
          "iopub.status.busy": "2022-08-04T04:33:14.379615Z",
          "iopub.status.idle": "2022-08-04T04:33:14.385655Z",
          "shell.execute_reply": "2022-08-04T04:33:14.385298Z"
        },
        "papermill": {
          "duration": 0.01372,
          "end_time": "2022-08-04T04:33:14.385759",
          "exception": false,
          "start_time": "2022-08-04T04:33:14.372039",
          "status": "completed"
        },
        "tags": [
          "remove-cell"
        ]
      },
      "outputs": [],
      "source": [
        "if JAX_AVAILABLE:\n",
        "    @patch_to(DeviceArray)\n",
        "    def __repr__(self):  # type: ignore\n",
        "        if self.ndim == 0 and is_float(self):\n",
        "            v = float(self)\n",
        "            return repr(round(v, 5)) if abs(v) > 1e-4 else repr(v)\n",
        "        elif self.ndim == 0 and is_complex_float(self):\n",
        "            r, i = float(self.real), float(self.imag)\n",
        "            r = round(r, 5) if abs(r) > 1e-4 else r\n",
        "            i = round(i, 5) if abs(i) > 1e-4 else i\n",
        "            s = repr(r + 1j * i)\n",
        "            if s[0] == \"(\" and s[-1] == \")\":\n",
        "                s = s[1:-1]\n",
        "            return s\n",
        "        else:\n",
        "            s = super(self.__class__, self).__repr__()\n",
        "            s = s.replace(\"DeviceArray(\", \"      array(\")\n",
        "            s = re.sub(r\", dtype=.*[,)]\", \"\", s)\n",
        "            s = re.sub(r\" weak_type=.*[,)]\", \"\", s)\n",
        "            return dedent(s)+\")\""
      ]
    },
    {
      "cell_type": "code",
      "execution_count": 6,
      "id": "5f6c14e4-723e-4ad9-9b20-fde3d7b7f86f",
      "metadata": {
        "execution": {
          "iopub.execute_input": "2022-08-04T04:33:14.400843Z",
          "iopub.status.busy": "2022-08-04T04:33:14.400420Z",
          "iopub.status.idle": "2022-08-04T04:33:14.428733Z",
          "shell.execute_reply": "2022-08-04T04:33:14.429127Z"
        },
        "papermill": {
          "duration": 0.038175,
          "end_time": "2022-08-04T04:33:14.429307",
          "exception": false,
          "start_time": "2022-08-04T04:33:14.391132",
          "status": "completed"
        },
        "tags": []
      },
      "outputs": [
        {
          "data": {
            "text/plain": [
              "array(3)"
            ]
          },
          "execution_count": 6,
          "metadata": {},
          "output_type": "execute_result"
        }
      ],
      "source": [
        "jnp.array(3)"
      ]
    },
    {
      "cell_type": "code",
      "execution_count": 7,
      "id": "02676641-cddd-4f70-8138-b4530dd318cd",
      "metadata": {
        "execution": {
          "iopub.execute_input": "2022-08-04T04:33:14.447828Z",
          "iopub.status.busy": "2022-08-04T04:33:14.447360Z",
          "iopub.status.idle": "2022-08-04T04:33:14.448992Z",
          "shell.execute_reply": "2022-08-04T04:33:14.449346Z"
        },
        "papermill": {
          "duration": 0.013181,
          "end_time": "2022-08-04T04:33:14.449466",
          "exception": false,
          "start_time": "2022-08-04T04:33:14.436285",
          "status": "completed"
        },
        "tags": []
      },
      "outputs": [
        {
          "data": {
            "text/plain": [
              "array([3, 4, 5])"
            ]
          },
          "execution_count": 7,
          "metadata": {},
          "output_type": "execute_result"
        }
      ],
      "source": [
        "jnp.array([3, 4, 5])"
      ]
    }
  ],
  "metadata": {
    "kernelspec": {
      "display_name": "Python 3 (ipykernel)",
      "language": "python",
      "name": "python3"
    },
    "language_info": {
      "codemirror_mode": {
        "name": "ipython",
        "version": 3
      },
      "file_extension": ".py",
      "mimetype": "text/x-python",
      "name": "python",
      "nbconvert_exporter": "python",
      "pygments_lexer": "ipython3",
      "version": "3.9.0"
    },
    "papermill": {
      "default_parameters": {},
      "duration": 3.161147,
      "end_time": "2022-08-04T04:33:14.863118",
      "environment_variables": {},
      "exception": null,
      "input_path": "./nbs/01_patched.ipynb",
      "output_path": "./nbs/01_patched.ipynb",
      "parameters": {},
      "start_time": "2022-08-04T04:33:11.701971",
      "version": "2.3.4"
    }
  },
  "nbformat": 4,
  "nbformat_minor": 5
}
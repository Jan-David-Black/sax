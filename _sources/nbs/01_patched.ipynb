{
  "cells": [
    {
      "cell_type": "code",
      "execution_count": 1,
      "id": "52ef02afebee853f",
      "metadata": {
        "execution": {
          "iopub.execute_input": "2022-08-07T05:31:02.567699Z",
          "iopub.status.busy": "2022-08-07T05:31:02.567253Z",
          "iopub.status.idle": "2022-08-07T05:31:02.569962Z",
          "shell.execute_reply": "2022-08-07T05:31:02.569537Z"
        },
        "papermill": {
          "duration": 0.013816,
          "end_time": "2022-08-07T05:31:02.570078",
          "exception": false,
          "start_time": "2022-08-07T05:31:02.556262",
          "status": "completed"
        },
        "tags": [
          "remove-cell"
        ]
      },
      "outputs": [],
      "source": []
    },
    {
      "cell_type": "markdown",
      "id": "62619887-4d1d-4218-8259-9dbe991cfded",
      "metadata": {
        "papermill": {
          "duration": 0.005002,
          "end_time": "2022-08-07T05:31:02.580656",
          "exception": false,
          "start_time": "2022-08-07T05:31:02.575654",
          "status": "completed"
        },
        "tags": []
      },
      "source": [
        "# Patched\n",
        "\n",
        "> We patch some library and objects that don't belong to SAX. Don't worry, it's nothing substantial."
      ]
    },
    {
      "cell_type": "code",
      "execution_count": 2,
      "id": "20fab32e072561d3",
      "metadata": {
        "execution": {
          "iopub.execute_input": "2022-08-07T05:31:02.599072Z",
          "iopub.status.busy": "2022-08-07T05:31:02.598640Z",
          "iopub.status.idle": "2022-08-07T05:31:03.290989Z",
          "shell.execute_reply": "2022-08-07T05:31:03.291401Z"
        },
        "papermill": {
          "duration": 0.705969,
          "end_time": "2022-08-07T05:31:03.291573",
          "exception": false,
          "start_time": "2022-08-07T05:31:02.585604",
          "status": "completed"
        },
        "tags": [
          "remove-cell"
        ]
      },
      "outputs": [],
      "source": [
        "import matplotlib.pyplot as plt\n",
        "from fastcore.test import test_eq\n",
        "from pytest import approx, raises\n",
        "\n",
        "import os, sys; sys.stderr = open(os.devnull, \"w\")"
      ]
    },
    {
      "cell_type": "code",
      "execution_count": 3,
      "id": "4630bc7d6f9f8374",
      "metadata": {
        "execution": {
          "iopub.execute_input": "2022-08-07T05:31:03.307116Z",
          "iopub.status.busy": "2022-08-07T05:31:03.306678Z",
          "iopub.status.idle": "2022-08-07T05:31:03.998395Z",
          "shell.execute_reply": "2022-08-07T05:31:03.997931Z"
        },
        "papermill": {
          "duration": 0.701372,
          "end_time": "2022-08-07T05:31:03.998529",
          "exception": false,
          "start_time": "2022-08-07T05:31:03.297157",
          "status": "completed"
        },
        "tags": [
          "hide-input"
        ]
      },
      "outputs": [],
      "source": [
        "from __future__ import annotations\n",
        "\n",
        "import re\n",
        "from textwrap import dedent\n",
        "\n",
        "from fastcore.basics import patch_to\n",
        "from sax.typing_ import is_complex_float, is_float\n",
        "\n",
        "try:\n",
        "    import jax.numpy as jnp\n",
        "    from flax.core import FrozenDict\n",
        "    from jaxlib.xla_extension import DeviceArray\n",
        "    JAX_AVAILABLE = True\n",
        "except (ImportError, ModuleNotFoundError):\n",
        "    import numpy as jnp\n",
        "    DeviceArray = jnp.ndarray\n",
        "    FrozenDict = dict\n",
        "    JAX_AVAILABLE = False"
      ]
    },
    {
      "cell_type": "markdown",
      "id": "e37bb974-621b-4fc2-b4a8-d3f51d4f72ad",
      "metadata": {
        "papermill": {
          "duration": 0.005918,
          "end_time": "2022-08-07T05:31:04.010631",
          "exception": false,
          "start_time": "2022-08-07T05:31:04.004713",
          "status": "completed"
        },
        "tags": []
      },
      "source": [
        "Paching `FrozenDict` to have the same repr as a normal dict:"
      ]
    },
    {
      "cell_type": "code",
      "execution_count": 4,
      "id": "8415ef47212ae54d",
      "metadata": {
        "execution": {
          "iopub.execute_input": "2022-08-07T05:31:04.025277Z",
          "iopub.status.busy": "2022-08-07T05:31:04.024828Z",
          "iopub.status.idle": "2022-08-07T05:31:04.027278Z",
          "shell.execute_reply": "2022-08-07T05:31:04.027599Z"
        },
        "papermill": {
          "duration": 0.011928,
          "end_time": "2022-08-07T05:31:04.027720",
          "exception": false,
          "start_time": "2022-08-07T05:31:04.015792",
          "status": "completed"
        },
        "tags": [
          "remove-cell"
        ]
      },
      "outputs": [],
      "source": [
        "\n",
        "if JAX_AVAILABLE:\n",
        "    @patch_to(FrozenDict)\n",
        "    def __repr__(self):  # type: ignore\n",
        "        _dict = lambda d: dict(\n",
        "            {k: (v if not isinstance(v, self.__class__) else dict(v)) for k, v in d.items()}\n",
        "        )\n",
        "        return f\"{self.__class__.__name__}({dict.__repr__(_dict(self))})\""
      ]
    },
    {
      "cell_type": "markdown",
      "id": "4484b223-c22e-4537-8f90-df47ef31d086",
      "metadata": {
        "papermill": {
          "duration": 0.005116,
          "end_time": "2022-08-07T05:31:04.037995",
          "exception": false,
          "start_time": "2022-08-07T05:31:04.032879",
          "status": "completed"
        },
        "tags": []
      },
      "source": [
        "Patching `DeviceArray` to have less verbose reprs for 0-D arrays:"
      ]
    },
    {
      "cell_type": "code",
      "execution_count": 5,
      "id": "8d9985430997b0a8",
      "metadata": {
        "execution": {
          "iopub.execute_input": "2022-08-07T05:31:04.054985Z",
          "iopub.status.busy": "2022-08-07T05:31:04.054519Z",
          "iopub.status.idle": "2022-08-07T05:31:04.055642Z",
          "shell.execute_reply": "2022-08-07T05:31:04.056002Z"
        },
        "papermill": {
          "duration": 0.012955,
          "end_time": "2022-08-07T05:31:04.056114",
          "exception": false,
          "start_time": "2022-08-07T05:31:04.043159",
          "status": "completed"
        },
        "tags": [
          "remove-cell"
        ]
      },
      "outputs": [],
      "source": [
        "if JAX_AVAILABLE:\n",
        "    @patch_to(DeviceArray)\n",
        "    def __repr__(self):  # type: ignore\n",
        "        if self.ndim == 0 and is_float(self):\n",
        "            v = float(self)\n",
        "            return repr(round(v, 5)) if abs(v) > 1e-4 else repr(v)\n",
        "        elif self.ndim == 0 and is_complex_float(self):\n",
        "            r, i = float(self.real), float(self.imag)\n",
        "            r = round(r, 5) if abs(r) > 1e-4 else r\n",
        "            i = round(i, 5) if abs(i) > 1e-4 else i\n",
        "            s = repr(r + 1j * i)\n",
        "            if s[0] == \"(\" and s[-1] == \")\":\n",
        "                s = s[1:-1]\n",
        "            return s\n",
        "        else:\n",
        "            s = super(self.__class__, self).__repr__()\n",
        "            s = s.replace(\"DeviceArray(\", \"      array(\")\n",
        "            s = re.sub(r\", dtype=.*[,)]\", \"\", s)\n",
        "            s = re.sub(r\" weak_type=.*[,)]\", \"\", s)\n",
        "            return dedent(s)+\")\""
      ]
    },
    {
      "cell_type": "code",
      "execution_count": 6,
      "id": "5f6c14e4-723e-4ad9-9b20-fde3d7b7f86f",
      "metadata": {
        "execution": {
          "iopub.execute_input": "2022-08-07T05:31:04.068733Z",
          "iopub.status.busy": "2022-08-07T05:31:04.068291Z",
          "iopub.status.idle": "2022-08-07T05:31:04.096226Z",
          "shell.execute_reply": "2022-08-07T05:31:04.096655Z"
        },
        "papermill": {
          "duration": 0.035476,
          "end_time": "2022-08-07T05:31:04.096798",
          "exception": false,
          "start_time": "2022-08-07T05:31:04.061322",
          "status": "completed"
        },
        "tags": []
      },
      "outputs": [
        {
          "data": {
            "text/plain": [
              "array(3)"
            ]
          },
          "execution_count": 6,
          "metadata": {},
          "output_type": "execute_result"
        }
      ],
      "source": [
        "jnp.array(3)"
      ]
    },
    {
      "cell_type": "code",
      "execution_count": 7,
      "id": "02676641-cddd-4f70-8138-b4530dd318cd",
      "metadata": {
        "execution": {
          "iopub.execute_input": "2022-08-07T05:31:04.113615Z",
          "iopub.status.busy": "2022-08-07T05:31:04.113183Z",
          "iopub.status.idle": "2022-08-07T05:31:04.116422Z",
          "shell.execute_reply": "2022-08-07T05:31:04.116028Z"
        },
        "papermill": {
          "duration": 0.012983,
          "end_time": "2022-08-07T05:31:04.116512",
          "exception": false,
          "start_time": "2022-08-07T05:31:04.103529",
          "status": "completed"
        },
        "tags": []
      },
      "outputs": [
        {
          "data": {
            "text/plain": [
              "array([3, 4, 5])"
            ]
          },
          "execution_count": 7,
          "metadata": {},
          "output_type": "execute_result"
        }
      ],
      "source": [
        "jnp.array([3, 4, 5])"
      ]
    }
  ],
  "metadata": {
    "kernelspec": {
      "display_name": "Python 3 (ipykernel)",
      "language": "python",
      "name": "python3"
    },
    "language_info": {
      "codemirror_mode": {
        "name": "ipython",
        "version": 3
      },
      "file_extension": ".py",
      "mimetype": "text/x-python",
      "name": "python",
      "nbconvert_exporter": "python",
      "pygments_lexer": "ipython3",
      "version": "3.9.0"
    },
    "papermill": {
      "default_parameters": {},
      "duration": 3.262465,
      "end_time": "2022-08-07T05:31:04.530638",
      "environment_variables": {},
      "exception": null,
      "input_path": "./nbs/01_patched.ipynb",
      "output_path": "./nbs/01_patched.ipynb",
      "parameters": {},
      "start_time": "2022-08-07T05:31:01.268173",
      "version": "2.3.4"
    }
  },
  "nbformat": 4,
  "nbformat_minor": 5
}
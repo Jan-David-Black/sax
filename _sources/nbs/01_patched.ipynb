{
  "cells": [
    {
      "cell_type": "code",
      "execution_count": 1,
      "id": "4e71d7097d2f6338",
      "metadata": {
        "execution": {
          "iopub.execute_input": "2022-08-17T03:21:05.482820Z",
          "iopub.status.busy": "2022-08-17T03:21:05.482386Z",
          "iopub.status.idle": "2022-08-17T03:21:05.484435Z",
          "shell.execute_reply": "2022-08-17T03:21:05.484789Z"
        },
        "papermill": {
          "duration": 0.011585,
          "end_time": "2022-08-17T03:21:05.484959",
          "exception": false,
          "start_time": "2022-08-17T03:21:05.473374",
          "status": "completed"
        },
        "tags": [
          "remove-cell"
        ]
      },
      "outputs": [],
      "source": []
    },
    {
      "cell_type": "markdown",
      "id": "62619887-4d1d-4218-8259-9dbe991cfded",
      "metadata": {
        "papermill": {
          "duration": 0.004795,
          "end_time": "2022-08-17T03:21:05.495027",
          "exception": false,
          "start_time": "2022-08-17T03:21:05.490232",
          "status": "completed"
        },
        "tags": []
      },
      "source": [
        "# Patched\n",
        "\n",
        "> We patch some library and objects that don't belong to SAX. Don't worry, it's nothing substantial."
      ]
    },
    {
      "cell_type": "code",
      "execution_count": 2,
      "id": "12ccc558d2e01b42",
      "metadata": {
        "execution": {
          "iopub.execute_input": "2022-08-17T03:21:05.511796Z",
          "iopub.status.busy": "2022-08-17T03:21:05.511376Z",
          "iopub.status.idle": "2022-08-17T03:21:06.188563Z",
          "shell.execute_reply": "2022-08-17T03:21:06.188191Z"
        },
        "papermill": {
          "duration": 0.688935,
          "end_time": "2022-08-17T03:21:06.188672",
          "exception": false,
          "start_time": "2022-08-17T03:21:05.499737",
          "status": "completed"
        },
        "tags": [
          "remove-cell"
        ]
      },
      "outputs": [],
      "source": [
        "import matplotlib.pyplot as plt\n",
        "from fastcore.test import test_eq\n",
        "from pytest import approx, raises\n",
        "\n",
        "import os, sys; sys.stderr = open(os.devnull, \"w\")"
      ]
    },
    {
      "cell_type": "code",
      "execution_count": 3,
      "id": "6cc689f5febeefb3",
      "metadata": {
        "execution": {
          "iopub.execute_input": "2022-08-17T03:21:06.204801Z",
          "iopub.status.busy": "2022-08-17T03:21:06.202951Z",
          "iopub.status.idle": "2022-08-17T03:21:06.930813Z",
          "shell.execute_reply": "2022-08-17T03:21:06.930417Z"
        },
        "papermill": {
          "duration": 0.737154,
          "end_time": "2022-08-17T03:21:06.930916",
          "exception": false,
          "start_time": "2022-08-17T03:21:06.193762",
          "status": "completed"
        },
        "tags": [
          "hide-input"
        ]
      },
      "outputs": [],
      "source": [
        "from __future__ import annotations\n",
        "\n",
        "import re\n",
        "from textwrap import dedent\n",
        "\n",
        "from fastcore.basics import patch_to\n",
        "from sax.typing_ import is_complex_float, is_float\n",
        "\n",
        "try:\n",
        "    import jax.numpy as jnp\n",
        "    from flax.core import FrozenDict\n",
        "    from jaxlib.xla_extension import DeviceArray\n",
        "    JAX_AVAILABLE = True\n",
        "except (ImportError, ModuleNotFoundError):\n",
        "    import numpy as jnp\n",
        "    DeviceArray = jnp.ndarray\n",
        "    FrozenDict = dict\n",
        "    JAX_AVAILABLE = False"
      ]
    },
    {
      "cell_type": "markdown",
      "id": "e37bb974-621b-4fc2-b4a8-d3f51d4f72ad",
      "metadata": {
        "papermill": {
          "duration": 0.005045,
          "end_time": "2022-08-17T03:21:06.941179",
          "exception": false,
          "start_time": "2022-08-17T03:21:06.936134",
          "status": "completed"
        },
        "tags": []
      },
      "source": [
        "Paching `FrozenDict` to have the same repr as a normal dict:"
      ]
    },
    {
      "cell_type": "code",
      "execution_count": 4,
      "id": "8e9b126c1959395e",
      "metadata": {
        "execution": {
          "iopub.execute_input": "2022-08-17T03:21:06.955581Z",
          "iopub.status.busy": "2022-08-17T03:21:06.954652Z",
          "iopub.status.idle": "2022-08-17T03:21:06.956054Z",
          "shell.execute_reply": "2022-08-17T03:21:06.956366Z"
        },
        "papermill": {
          "duration": 0.010601,
          "end_time": "2022-08-17T03:21:06.956477",
          "exception": false,
          "start_time": "2022-08-17T03:21:06.945876",
          "status": "completed"
        },
        "tags": [
          "remove-cell"
        ]
      },
      "outputs": [],
      "source": [
        "\n",
        "if JAX_AVAILABLE:\n",
        "    @patch_to(FrozenDict)\n",
        "    def __repr__(self):  # type: ignore\n",
        "        _dict = lambda d: dict(\n",
        "            {k: (v if not isinstance(v, self.__class__) else dict(v)) for k, v in d.items()}\n",
        "        )\n",
        "        return f\"{self.__class__.__name__}({dict.__repr__(_dict(self))})\""
      ]
    },
    {
      "cell_type": "markdown",
      "id": "4484b223-c22e-4537-8f90-df47ef31d086",
      "metadata": {
        "papermill": {
          "duration": 0.004773,
          "end_time": "2022-08-17T03:21:06.966224",
          "exception": false,
          "start_time": "2022-08-17T03:21:06.961451",
          "status": "completed"
        },
        "tags": []
      },
      "source": [
        "Patching `DeviceArray` to have less verbose reprs for 0-D arrays:"
      ]
    },
    {
      "cell_type": "code",
      "execution_count": 5,
      "id": "9301e4990306fef4",
      "metadata": {
        "execution": {
          "iopub.execute_input": "2022-08-17T03:21:06.982386Z",
          "iopub.status.busy": "2022-08-17T03:21:06.981644Z",
          "iopub.status.idle": "2022-08-17T03:21:06.982833Z",
          "shell.execute_reply": "2022-08-17T03:21:06.983203Z"
        },
        "papermill": {
          "duration": 0.012261,
          "end_time": "2022-08-17T03:21:06.983312",
          "exception": false,
          "start_time": "2022-08-17T03:21:06.971051",
          "status": "completed"
        },
        "tags": [
          "remove-cell"
        ]
      },
      "outputs": [],
      "source": [
        "if JAX_AVAILABLE:\n",
        "    @patch_to(DeviceArray)\n",
        "    def __repr__(self):  # type: ignore\n",
        "        if self.ndim == 0 and is_float(self):\n",
        "            v = float(self)\n",
        "            return repr(round(v, 5)) if abs(v) > 1e-4 else repr(v)\n",
        "        elif self.ndim == 0 and is_complex_float(self):\n",
        "            r, i = float(self.real), float(self.imag)\n",
        "            r = round(r, 5) if abs(r) > 1e-4 else r\n",
        "            i = round(i, 5) if abs(i) > 1e-4 else i\n",
        "            s = repr(r + 1j * i)\n",
        "            if s[0] == \"(\" and s[-1] == \")\":\n",
        "                s = s[1:-1]\n",
        "            return s\n",
        "        else:\n",
        "            s = super(self.__class__, self).__repr__()\n",
        "            s = s.replace(\"DeviceArray(\", \"      array(\")\n",
        "            s = re.sub(r\", dtype=.*[,)]\", \"\", s)\n",
        "            s = re.sub(r\" weak_type=.*[,)]\", \"\", s)\n",
        "            return dedent(s)+\")\""
      ]
    },
    {
      "cell_type": "code",
      "execution_count": 6,
      "id": "5f6c14e4-723e-4ad9-9b20-fde3d7b7f86f",
      "metadata": {
        "execution": {
          "iopub.execute_input": "2022-08-17T03:21:06.996889Z",
          "iopub.status.busy": "2022-08-17T03:21:06.996474Z",
          "iopub.status.idle": "2022-08-17T03:21:07.021418Z",
          "shell.execute_reply": "2022-08-17T03:21:07.021073Z"
        },
        "papermill": {
          "duration": 0.033268,
          "end_time": "2022-08-17T03:21:07.021539",
          "exception": false,
          "start_time": "2022-08-17T03:21:06.988271",
          "status": "completed"
        },
        "tags": []
      },
      "outputs": [
        {
          "data": {
            "text/plain": [
              "array(3)"
            ]
          },
          "execution_count": 6,
          "metadata": {},
          "output_type": "execute_result"
        }
      ],
      "source": [
        "jnp.array(3)"
      ]
    },
    {
      "cell_type": "code",
      "execution_count": 7,
      "id": "02676641-cddd-4f70-8138-b4530dd318cd",
      "metadata": {
        "execution": {
          "iopub.execute_input": "2022-08-17T03:21:07.036834Z",
          "iopub.status.busy": "2022-08-17T03:21:07.036392Z",
          "iopub.status.idle": "2022-08-17T03:21:07.039519Z",
          "shell.execute_reply": "2022-08-17T03:21:07.039191Z"
        },
        "papermill": {
          "duration": 0.012524,
          "end_time": "2022-08-17T03:21:07.039613",
          "exception": false,
          "start_time": "2022-08-17T03:21:07.027089",
          "status": "completed"
        },
        "tags": []
      },
      "outputs": [
        {
          "data": {
            "text/plain": [
              "array([3, 4, 5])"
            ]
          },
          "execution_count": 7,
          "metadata": {},
          "output_type": "execute_result"
        }
      ],
      "source": [
        "jnp.array([3, 4, 5])"
      ]
    }
  ],
  "metadata": {
    "kernelspec": {
      "display_name": "Python 3 (ipykernel)",
      "language": "python",
      "name": "python3"
    },
    "language_info": {
      "codemirror_mode": {
        "name": "ipython",
        "version": 3
      },
      "file_extension": ".py",
      "mimetype": "text/x-python",
      "name": "python",
      "nbconvert_exporter": "python",
      "pygments_lexer": "ipython3",
      "version": "3.9.0"
    },
    "papermill": {
      "default_parameters": {},
      "duration": 3.004279,
      "end_time": "2022-08-17T03:21:07.350507",
      "environment_variables": {},
      "exception": null,
      "input_path": "./nbs/01_patched.ipynb",
      "output_path": "./nbs/01_patched.ipynb",
      "parameters": {},
      "start_time": "2022-08-17T03:21:04.346228",
      "version": "2.3.4"
    }
  },
  "nbformat": 4,
  "nbformat_minor": 5
}
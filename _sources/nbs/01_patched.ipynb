{
  "cells": [
    {
      "cell_type": "code",
      "execution_count": 1,
      "id": "0e9fbd2d4df27218",
      "metadata": {
        "execution": {
          "iopub.execute_input": "2022-08-04T05:49:10.730236Z",
          "iopub.status.busy": "2022-08-04T05:49:10.729718Z",
          "iopub.status.idle": "2022-08-04T05:49:10.734225Z",
          "shell.execute_reply": "2022-08-04T05:49:10.733735Z"
        },
        "papermill": {
          "duration": 0.016456,
          "end_time": "2022-08-04T05:49:10.734361",
          "exception": false,
          "start_time": "2022-08-04T05:49:10.717905",
          "status": "completed"
        },
        "tags": [
          "remove-cell"
        ]
      },
      "outputs": [],
      "source": []
    },
    {
      "cell_type": "markdown",
      "id": "62619887-4d1d-4218-8259-9dbe991cfded",
      "metadata": {
        "papermill": {
          "duration": 0.006284,
          "end_time": "2022-08-04T05:49:10.747428",
          "exception": false,
          "start_time": "2022-08-04T05:49:10.741144",
          "status": "completed"
        },
        "tags": []
      },
      "source": [
        "# Patched\n",
        "\n",
        "> We patch some library and objects that don't belong to SAX. Don't worry, it's nothing substantial."
      ]
    },
    {
      "cell_type": "code",
      "execution_count": 2,
      "id": "52439e230467de59",
      "metadata": {
        "execution": {
          "iopub.execute_input": "2022-08-04T05:49:10.769329Z",
          "iopub.status.busy": "2022-08-04T05:49:10.768783Z",
          "iopub.status.idle": "2022-08-04T05:49:11.585671Z",
          "shell.execute_reply": "2022-08-04T05:49:11.585150Z"
        },
        "papermill": {
          "duration": 0.831124,
          "end_time": "2022-08-04T05:49:11.585820",
          "exception": false,
          "start_time": "2022-08-04T05:49:10.754696",
          "status": "completed"
        },
        "tags": [
          "remove-cell"
        ]
      },
      "outputs": [],
      "source": [
        "import matplotlib.pyplot as plt\n",
        "from fastcore.test import test_eq\n",
        "from pytest import approx, raises\n",
        "\n",
        "import os, sys; sys.stderr = open(os.devnull, \"w\")"
      ]
    },
    {
      "cell_type": "code",
      "execution_count": 3,
      "id": "f3c4876f8b8a92a7",
      "metadata": {
        "execution": {
          "iopub.execute_input": "2022-08-04T05:49:11.604145Z",
          "iopub.status.busy": "2022-08-04T05:49:11.603630Z",
          "iopub.status.idle": "2022-08-04T05:49:12.417155Z",
          "shell.execute_reply": "2022-08-04T05:49:12.417568Z"
        },
        "papermill": {
          "duration": 0.825249,
          "end_time": "2022-08-04T05:49:12.417741",
          "exception": false,
          "start_time": "2022-08-04T05:49:11.592492",
          "status": "completed"
        },
        "tags": [
          "hide-input"
        ]
      },
      "outputs": [],
      "source": [
        "from __future__ import annotations\n",
        "\n",
        "import re\n",
        "from textwrap import dedent\n",
        "\n",
        "from fastcore.basics import patch_to\n",
        "from sax.typing_ import is_complex_float, is_float\n",
        "\n",
        "try:\n",
        "    import jax.numpy as jnp\n",
        "    from flax.core import FrozenDict\n",
        "    from jaxlib.xla_extension import DeviceArray\n",
        "    JAX_AVAILABLE = True\n",
        "except (ImportError, ModuleNotFoundError):\n",
        "    import numpy as jnp\n",
        "    DeviceArray = jnp.ndarray\n",
        "    FrozenDict = dict\n",
        "    JAX_AVAILABLE = False"
      ]
    },
    {
      "cell_type": "markdown",
      "id": "e37bb974-621b-4fc2-b4a8-d3f51d4f72ad",
      "metadata": {
        "papermill": {
          "duration": 0.007107,
          "end_time": "2022-08-04T05:49:12.432542",
          "exception": false,
          "start_time": "2022-08-04T05:49:12.425435",
          "status": "completed"
        },
        "tags": []
      },
      "source": [
        "Paching `FrozenDict` to have the same repr as a normal dict:"
      ]
    },
    {
      "cell_type": "code",
      "execution_count": 4,
      "id": "912ed4ec486b148b",
      "metadata": {
        "execution": {
          "iopub.execute_input": "2022-08-04T05:49:12.451311Z",
          "iopub.status.busy": "2022-08-04T05:49:12.448883Z",
          "iopub.status.idle": "2022-08-04T05:49:12.453146Z",
          "shell.execute_reply": "2022-08-04T05:49:12.452741Z"
        },
        "papermill": {
          "duration": 0.013614,
          "end_time": "2022-08-04T05:49:12.453261",
          "exception": false,
          "start_time": "2022-08-04T05:49:12.439647",
          "status": "completed"
        },
        "tags": [
          "remove-cell"
        ]
      },
      "outputs": [],
      "source": [
        "\n",
        "if JAX_AVAILABLE:\n",
        "    @patch_to(FrozenDict)\n",
        "    def __repr__(self):  # type: ignore\n",
        "        _dict = lambda d: dict(\n",
        "            {k: (v if not isinstance(v, self.__class__) else dict(v)) for k, v in d.items()}\n",
        "        )\n",
        "        return f\"{self.__class__.__name__}({dict.__repr__(_dict(self))})\""
      ]
    },
    {
      "cell_type": "markdown",
      "id": "4484b223-c22e-4537-8f90-df47ef31d086",
      "metadata": {
        "papermill": {
          "duration": 0.006156,
          "end_time": "2022-08-04T05:49:12.465599",
          "exception": false,
          "start_time": "2022-08-04T05:49:12.459443",
          "status": "completed"
        },
        "tags": []
      },
      "source": [
        "Patching `DeviceArray` to have less verbose reprs for 0-D arrays:"
      ]
    },
    {
      "cell_type": "code",
      "execution_count": 5,
      "id": "bbd085c1d8ba23c4",
      "metadata": {
        "execution": {
          "iopub.execute_input": "2022-08-04T05:49:12.485453Z",
          "iopub.status.busy": "2022-08-04T05:49:12.484938Z",
          "iopub.status.idle": "2022-08-04T05:49:12.486095Z",
          "shell.execute_reply": "2022-08-04T05:49:12.486572Z"
        },
        "papermill": {
          "duration": 0.014893,
          "end_time": "2022-08-04T05:49:12.486705",
          "exception": false,
          "start_time": "2022-08-04T05:49:12.471812",
          "status": "completed"
        },
        "tags": [
          "remove-cell"
        ]
      },
      "outputs": [],
      "source": [
        "if JAX_AVAILABLE:\n",
        "    @patch_to(DeviceArray)\n",
        "    def __repr__(self):  # type: ignore\n",
        "        if self.ndim == 0 and is_float(self):\n",
        "            v = float(self)\n",
        "            return repr(round(v, 5)) if abs(v) > 1e-4 else repr(v)\n",
        "        elif self.ndim == 0 and is_complex_float(self):\n",
        "            r, i = float(self.real), float(self.imag)\n",
        "            r = round(r, 5) if abs(r) > 1e-4 else r\n",
        "            i = round(i, 5) if abs(i) > 1e-4 else i\n",
        "            s = repr(r + 1j * i)\n",
        "            if s[0] == \"(\" and s[-1] == \")\":\n",
        "                s = s[1:-1]\n",
        "            return s\n",
        "        else:\n",
        "            s = super(self.__class__, self).__repr__()\n",
        "            s = s.replace(\"DeviceArray(\", \"      array(\")\n",
        "            s = re.sub(r\", dtype=.*[,)]\", \"\", s)\n",
        "            s = re.sub(r\" weak_type=.*[,)]\", \"\", s)\n",
        "            return dedent(s)+\")\""
      ]
    },
    {
      "cell_type": "code",
      "execution_count": 6,
      "id": "5f6c14e4-723e-4ad9-9b20-fde3d7b7f86f",
      "metadata": {
        "execution": {
          "iopub.execute_input": "2022-08-04T05:49:12.503530Z",
          "iopub.status.busy": "2022-08-04T05:49:12.503040Z",
          "iopub.status.idle": "2022-08-04T05:49:12.535403Z",
          "shell.execute_reply": "2022-08-04T05:49:12.535843Z"
        },
        "papermill": {
          "duration": 0.043022,
          "end_time": "2022-08-04T05:49:12.535998",
          "exception": false,
          "start_time": "2022-08-04T05:49:12.492976",
          "status": "completed"
        },
        "tags": []
      },
      "outputs": [
        {
          "data": {
            "text/plain": [
              "array(3)"
            ]
          },
          "execution_count": 6,
          "metadata": {},
          "output_type": "execute_result"
        }
      ],
      "source": [
        "jnp.array(3)"
      ]
    },
    {
      "cell_type": "code",
      "execution_count": 7,
      "id": "02676641-cddd-4f70-8138-b4530dd318cd",
      "metadata": {
        "execution": {
          "iopub.execute_input": "2022-08-04T05:49:12.559470Z",
          "iopub.status.busy": "2022-08-04T05:49:12.558958Z",
          "iopub.status.idle": "2022-08-04T05:49:12.560985Z",
          "shell.execute_reply": "2022-08-04T05:49:12.561408Z"
        },
        "papermill": {
          "duration": 0.015093,
          "end_time": "2022-08-04T05:49:12.561545",
          "exception": false,
          "start_time": "2022-08-04T05:49:12.546452",
          "status": "completed"
        },
        "tags": []
      },
      "outputs": [
        {
          "data": {
            "text/plain": [
              "array([3, 4, 5])"
            ]
          },
          "execution_count": 7,
          "metadata": {},
          "output_type": "execute_result"
        }
      ],
      "source": [
        "jnp.array([3, 4, 5])"
      ]
    }
  ],
  "metadata": {
    "kernelspec": {
      "display_name": "Python 3 (ipykernel)",
      "language": "python",
      "name": "python3"
    },
    "language_info": {
      "codemirror_mode": {
        "name": "ipython",
        "version": 3
      },
      "file_extension": ".py",
      "mimetype": "text/x-python",
      "name": "python",
      "nbconvert_exporter": "python",
      "pygments_lexer": "ipython3",
      "version": "3.9.0"
    },
    "papermill": {
      "default_parameters": {},
      "duration": 3.770325,
      "end_time": "2022-08-04T05:49:12.975395",
      "environment_variables": {},
      "exception": null,
      "input_path": "./nbs/01_patched.ipynb",
      "output_path": "./nbs/01_patched.ipynb",
      "parameters": {},
      "start_time": "2022-08-04T05:49:09.205070",
      "version": "2.3.4"
    }
  },
  "nbformat": 4,
  "nbformat_minor": 5
}
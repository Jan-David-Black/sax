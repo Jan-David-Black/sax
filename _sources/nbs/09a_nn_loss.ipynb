{
  "cells": [
    {
      "cell_type": "code",
      "execution_count": 1,
      "id": "b36e033b3b33c40a",
      "metadata": {
        "execution": {
          "iopub.execute_input": "2022-08-17T03:21:08.878248Z",
          "iopub.status.busy": "2022-08-17T03:21:08.877800Z",
          "iopub.status.idle": "2022-08-17T03:21:08.879764Z",
          "shell.execute_reply": "2022-08-17T03:21:08.880070Z"
        },
        "papermill": {
          "duration": 0.010672,
          "end_time": "2022-08-17T03:21:08.880249",
          "exception": false,
          "start_time": "2022-08-17T03:21:08.869577",
          "status": "completed"
        },
        "tags": [
          "remove-cell"
        ]
      },
      "outputs": [],
      "source": []
    },
    {
      "cell_type": "markdown",
      "id": "3cf6720e",
      "metadata": {
        "papermill": {
          "duration": 0.003922,
          "end_time": "2022-08-17T03:21:08.888624",
          "exception": false,
          "start_time": "2022-08-17T03:21:08.884702",
          "status": "completed"
        },
        "tags": []
      },
      "source": [
        "# Loss\n",
        "\n",
        "> loss functions and utilitites for SAX neural networks"
      ]
    },
    {
      "cell_type": "code",
      "execution_count": 2,
      "id": "b620d709cd04f1fd",
      "metadata": {
        "execution": {
          "iopub.execute_input": "2022-08-17T03:21:08.903740Z",
          "iopub.status.busy": "2022-08-17T03:21:08.903329Z",
          "iopub.status.idle": "2022-08-17T03:21:09.584324Z",
          "shell.execute_reply": "2022-08-17T03:21:09.583948Z"
        },
        "papermill": {
          "duration": 0.691953,
          "end_time": "2022-08-17T03:21:09.584430",
          "exception": false,
          "start_time": "2022-08-17T03:21:08.892477",
          "status": "completed"
        },
        "tags": [
          "remove-cell"
        ]
      },
      "outputs": [],
      "source": [
        "import matplotlib.pyplot as plt\n",
        "from fastcore.test import test_eq\n",
        "from pytest import approx, raises\n",
        "\n",
        "import os, sys; sys.stderr = open(os.devnull, \"w\")"
      ]
    },
    {
      "cell_type": "code",
      "execution_count": 3,
      "id": "3bef6f73323e99f2",
      "metadata": {
        "execution": {
          "iopub.execute_input": "2022-08-17T03:21:09.596275Z",
          "iopub.status.busy": "2022-08-17T03:21:09.595828Z",
          "iopub.status.idle": "2022-08-17T03:21:10.316888Z",
          "shell.execute_reply": "2022-08-17T03:21:10.316497Z"
        },
        "papermill": {
          "duration": 0.728334,
          "end_time": "2022-08-17T03:21:10.316988",
          "exception": false,
          "start_time": "2022-08-17T03:21:09.588654",
          "status": "completed"
        },
        "tags": [
          "hide-input"
        ]
      },
      "outputs": [],
      "source": [
        "from __future__ import annotations\n",
        "\n",
        "from typing import Dict\n",
        "\n",
        "import jax.numpy as jnp\n",
        "from sax.typing_ import ComplexFloat"
      ]
    },
    {
      "cell_type": "markdown",
      "id": "f4521cce8881e158",
      "metadata": {},
      "source": [
        ":::{eval-rst}\n",
        ".. autofunction:: sax.nn.loss.mse\n",
        ":::\n"
      ]
    },
    {
      "cell_type": "code",
      "execution_count": 4,
      "id": "023ac259f118756d",
      "metadata": {
        "execution": {
          "iopub.execute_input": "2022-08-17T03:21:10.423510Z",
          "iopub.status.busy": "2022-08-17T03:21:10.423067Z",
          "iopub.status.idle": "2022-08-17T03:21:10.425966Z",
          "shell.execute_reply": "2022-08-17T03:21:10.425595Z"
        },
        "papermill": {
          "duration": 0.062289,
          "end_time": "2022-08-17T03:21:10.426063",
          "exception": false,
          "start_time": "2022-08-17T03:21:10.363774",
          "status": "completed"
        },
        "tags": [
          "hide-input"
        ]
      },
      "outputs": [],
      "source": [
        "\n",
        "def mse(x: ComplexFloat, y: ComplexFloat) -> float:\n",
        "    \"\"\"mean squared error\"\"\"\n",
        "    return ((x - y) ** 2).mean()"
      ]
    },
    {
      "cell_type": "markdown",
      "id": "0eb23550497d906d",
      "metadata": {},
      "source": [
        ":::{eval-rst}\n",
        ".. autofunction:: sax.nn.loss.huber_loss\n",
        ":::\n"
      ]
    },
    {
      "cell_type": "code",
      "execution_count": 5,
      "id": "1452a53ead445377",
      "metadata": {
        "execution": {
          "iopub.execute_input": "2022-08-17T03:21:10.518744Z",
          "iopub.status.busy": "2022-08-17T03:21:10.518314Z",
          "iopub.status.idle": "2022-08-17T03:21:10.521750Z",
          "shell.execute_reply": "2022-08-17T03:21:10.521399Z"
        },
        "papermill": {
          "duration": 0.055277,
          "end_time": "2022-08-17T03:21:10.521844",
          "exception": false,
          "start_time": "2022-08-17T03:21:10.466567",
          "status": "completed"
        },
        "tags": [
          "hide-input"
        ]
      },
      "outputs": [],
      "source": [
        "\n",
        "def huber_loss(x: ComplexFloat, y: ComplexFloat, delta: float=0.5) -> float:\n",
        "    \"\"\"huber loss\"\"\"\n",
        "    return ((delta ** 2) * ((1.0 + ((x - y) / delta) ** 2) ** 0.5 - 1.0)).mean()"
      ]
    },
    {
      "cell_type": "markdown",
      "id": "98d84861",
      "metadata": {
        "papermill": {
          "duration": 0.004703,
          "end_time": "2022-08-17T03:21:10.566792",
          "exception": false,
          "start_time": "2022-08-17T03:21:10.562089",
          "status": "completed"
        },
        "tags": []
      },
      "source": [
        "The huber loss is like the mean squared error close to zero and mean\n",
        "absolute error for outliers"
      ]
    },
    {
      "cell_type": "markdown",
      "id": "44518089c1359089",
      "metadata": {},
      "source": [
        ":::{eval-rst}\n",
        ".. autofunction:: sax.nn.loss.l2_reg\n",
        ":::\n"
      ]
    },
    {
      "cell_type": "code",
      "execution_count": 6,
      "id": "473c961cf93cf792",
      "metadata": {
        "execution": {
          "iopub.execute_input": "2022-08-17T03:21:10.577224Z",
          "iopub.status.busy": "2022-08-17T03:21:10.576787Z",
          "iopub.status.idle": "2022-08-17T03:21:10.581643Z",
          "shell.execute_reply": "2022-08-17T03:21:10.581301Z"
        },
        "papermill": {
          "duration": 0.010713,
          "end_time": "2022-08-17T03:21:10.581735",
          "exception": false,
          "start_time": "2022-08-17T03:21:10.571022",
          "status": "completed"
        },
        "tags": [
          "hide-input"
        ]
      },
      "outputs": [],
      "source": [
        "\n",
        "def l2_reg(weights: Dict[str, ComplexFloat]) -> float:\n",
        "    \"\"\"L2 regularization loss\"\"\"\n",
        "    numel = 0\n",
        "    loss = 0.0\n",
        "    for w in (v for k, v in weights.items() if k[0] in (\"w\", \"b\")):\n",
        "        numel = numel + w.size\n",
        "        loss = loss + (jnp.abs(w) ** 2).sum()\n",
        "    return loss / numel"
      ]
    }
  ],
  "metadata": {
    "kernelspec": {
      "display_name": "sax",
      "language": "python",
      "name": "sax"
    },
    "language_info": {
      "codemirror_mode": {
        "name": "ipython",
        "version": 3
      },
      "file_extension": ".py",
      "mimetype": "text/x-python",
      "name": "python",
      "nbconvert_exporter": "python",
      "pygments_lexer": "ipython3",
      "version": "3.9.0"
    },
    "papermill": {
      "default_parameters": {},
      "duration": 3.150528,
      "end_time": "2022-08-17T03:21:10.892294",
      "environment_variables": {},
      "exception": null,
      "input_path": "./nbs/09a_nn_loss.ipynb",
      "output_path": "./nbs/09a_nn_loss.ipynb",
      "parameters": {},
      "start_time": "2022-08-17T03:21:07.741766",
      "version": "2.3.4"
    }
  },
  "nbformat": 4,
  "nbformat_minor": 5
}
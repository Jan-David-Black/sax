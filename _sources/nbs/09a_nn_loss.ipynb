{
  "cells": [
    {
      "cell_type": "code",
      "execution_count": 1,
      "id": "d00ab6a55bdf1014",
      "metadata": {
        "execution": {
          "iopub.execute_input": "2022-08-04T04:31:57.336818Z",
          "iopub.status.busy": "2022-08-04T04:31:57.336352Z",
          "iopub.status.idle": "2022-08-04T04:31:57.338774Z",
          "shell.execute_reply": "2022-08-04T04:31:57.339150Z"
        },
        "papermill": {
          "duration": 0.013291,
          "end_time": "2022-08-04T04:31:57.339366",
          "exception": false,
          "start_time": "2022-08-04T04:31:57.326075",
          "status": "completed"
        },
        "tags": [
          "remove-cell"
        ]
      },
      "outputs": [],
      "source": []
    },
    {
      "cell_type": "markdown",
      "id": "3cf6720e",
      "metadata": {
        "papermill": {
          "duration": 0.004319,
          "end_time": "2022-08-04T04:31:57.348646",
          "exception": false,
          "start_time": "2022-08-04T04:31:57.344327",
          "status": "completed"
        },
        "tags": []
      },
      "source": [
        "# NN - Loss\n",
        "\n",
        "> loss functions and utilitites for SAX neural networks"
      ]
    },
    {
      "cell_type": "code",
      "execution_count": 2,
      "id": "7d7c2db67e2dd6ac",
      "metadata": {
        "execution": {
          "iopub.execute_input": "2022-08-04T04:31:57.364997Z",
          "iopub.status.busy": "2022-08-04T04:31:57.364533Z",
          "iopub.status.idle": "2022-08-04T04:31:58.077158Z",
          "shell.execute_reply": "2022-08-04T04:31:58.076295Z"
        },
        "papermill": {
          "duration": 0.724414,
          "end_time": "2022-08-04T04:31:58.077330",
          "exception": false,
          "start_time": "2022-08-04T04:31:57.352916",
          "status": "completed"
        },
        "tags": [
          "remove-cell"
        ]
      },
      "outputs": [],
      "source": [
        "import matplotlib.pyplot as plt\n",
        "from fastcore.test import test_eq\n",
        "from pytest import approx, raises\n",
        "\n",
        "import os, sys; sys.stderr = open(os.devnull, \"w\")"
      ]
    },
    {
      "cell_type": "code",
      "execution_count": 3,
      "id": "1a99f875bb3bef98",
      "metadata": {
        "execution": {
          "iopub.execute_input": "2022-08-04T04:31:58.094410Z",
          "iopub.status.busy": "2022-08-04T04:31:58.093959Z",
          "iopub.status.idle": "2022-08-04T04:31:58.818147Z",
          "shell.execute_reply": "2022-08-04T04:31:58.817363Z"
        },
        "papermill": {
          "duration": 0.73615,
          "end_time": "2022-08-04T04:31:58.818286",
          "exception": false,
          "start_time": "2022-08-04T04:31:58.082136",
          "status": "completed"
        },
        "tags": [
          "hide-input"
        ]
      },
      "outputs": [],
      "source": [
        "from __future__ import annotations\n",
        "\n",
        "from typing import Dict\n",
        "\n",
        "import jax.numpy as jnp\n",
        "from sax.typing_ import ComplexFloat"
      ]
    },
    {
      "cell_type": "markdown",
      "id": "967eb6453b3fa804",
      "metadata": {},
      "source": [
        ":::{eval-rst}\n",
        ".. autofunction:: sax.nn.loss.mse\n",
        ":::\n"
      ]
    },
    {
      "cell_type": "code",
      "execution_count": 4,
      "id": "9ed1720a3708cd40",
      "metadata": {
        "execution": {
          "iopub.execute_input": "2022-08-04T04:31:58.833890Z",
          "iopub.status.busy": "2022-08-04T04:31:58.832962Z",
          "iopub.status.idle": "2022-08-04T04:31:58.834466Z",
          "shell.execute_reply": "2022-08-04T04:31:58.834800Z"
        },
        "papermill": {
          "duration": 0.01113,
          "end_time": "2022-08-04T04:31:58.834925",
          "exception": false,
          "start_time": "2022-08-04T04:31:58.823795",
          "status": "completed"
        },
        "tags": [
          "hide-input"
        ]
      },
      "outputs": [],
      "source": [
        "\n",
        "def mse(x: ComplexFloat, y: ComplexFloat) -> float:\n",
        "    \"\"\"mean squared error\"\"\"\n",
        "    return ((x - y) ** 2).mean()"
      ]
    },
    {
      "cell_type": "markdown",
      "id": "9fe6cc380e80638b",
      "metadata": {},
      "source": [
        ":::{eval-rst}\n",
        ".. autofunction:: sax.nn.loss.huber_loss\n",
        ":::\n"
      ]
    },
    {
      "cell_type": "code",
      "execution_count": 5,
      "id": "889f1eff1392209d",
      "metadata": {
        "execution": {
          "iopub.execute_input": "2022-08-04T04:31:58.848550Z",
          "iopub.status.busy": "2022-08-04T04:31:58.847892Z",
          "iopub.status.idle": "2022-08-04T04:31:58.849657Z",
          "shell.execute_reply": "2022-08-04T04:31:58.849261Z"
        },
        "papermill": {
          "duration": 0.010208,
          "end_time": "2022-08-04T04:31:58.849762",
          "exception": false,
          "start_time": "2022-08-04T04:31:58.839554",
          "status": "completed"
        },
        "tags": [
          "hide-input"
        ]
      },
      "outputs": [],
      "source": [
        "\n",
        "def huber_loss(x: ComplexFloat, y: ComplexFloat, delta: float=0.5) -> float:\n",
        "    \"\"\"huber loss\"\"\"\n",
        "    return ((delta ** 2) * ((1.0 + ((x - y) / delta) ** 2) ** 0.5 - 1.0)).mean()"
      ]
    },
    {
      "cell_type": "markdown",
      "id": "98d84861",
      "metadata": {
        "papermill": {
          "duration": 0.004498,
          "end_time": "2022-08-04T04:31:58.858882",
          "exception": false,
          "start_time": "2022-08-04T04:31:58.854384",
          "status": "completed"
        },
        "tags": []
      },
      "source": [
        "The huber loss is like the mean squared error close to zero and mean\n",
        "absolute error for outliers"
      ]
    },
    {
      "cell_type": "markdown",
      "id": "de73a3dca50de014",
      "metadata": {},
      "source": [
        ":::{eval-rst}\n",
        ".. autofunction:: sax.nn.loss.l2_reg\n",
        ":::\n"
      ]
    },
    {
      "cell_type": "code",
      "execution_count": 6,
      "id": "29f4af6a593147f8",
      "metadata": {
        "execution": {
          "iopub.execute_input": "2022-08-04T04:31:58.872582Z",
          "iopub.status.busy": "2022-08-04T04:31:58.872143Z",
          "iopub.status.idle": "2022-08-04T04:31:58.874214Z",
          "shell.execute_reply": "2022-08-04T04:31:58.873869Z"
        },
        "papermill": {
          "duration": 0.010866,
          "end_time": "2022-08-04T04:31:58.874314",
          "exception": false,
          "start_time": "2022-08-04T04:31:58.863448",
          "status": "completed"
        },
        "tags": [
          "hide-input"
        ]
      },
      "outputs": [],
      "source": [
        "\n",
        "def l2_reg(weights: Dict[str, ComplexFloat]) -> float:\n",
        "    \"\"\"L2 regularization loss\"\"\"\n",
        "    numel = 0\n",
        "    loss = 0.0\n",
        "    for w in (v for k, v in weights.items() if k[0] in (\"w\", \"b\")):\n",
        "        numel = numel + w.size\n",
        "        loss = loss + (jnp.abs(w) ** 2).sum()\n",
        "    return loss / numel"
      ]
    }
  ],
  "metadata": {
    "kernelspec": {
      "display_name": "sax",
      "language": "python",
      "name": "sax"
    },
    "language_info": {
      "codemirror_mode": {
        "name": "ipython",
        "version": 3
      },
      "file_extension": ".py",
      "mimetype": "text/x-python",
      "name": "python",
      "nbconvert_exporter": "python",
      "pygments_lexer": "ipython3",
      "version": "3.9.0"
    },
    "papermill": {
      "default_parameters": {},
      "duration": 3.197976,
      "end_time": "2022-08-04T04:31:59.386205",
      "environment_variables": {},
      "exception": null,
      "input_path": "./nbs/09a_nn_loss.ipynb",
      "output_path": "./nbs/09a_nn_loss.ipynb",
      "parameters": {},
      "start_time": "2022-08-04T04:31:56.188229",
      "version": "2.3.4"
    }
  },
  "nbformat": 4,
  "nbformat_minor": 5
}
{
  "cells": [
    {
      "cell_type": "code",
      "execution_count": 1,
      "id": "081a3108dc303be0",
      "metadata": {
        "execution": {
          "iopub.execute_input": "2022-08-10T14:57:13.357694Z",
          "iopub.status.busy": "2022-08-10T14:57:13.357269Z",
          "iopub.status.idle": "2022-08-10T14:57:13.359838Z",
          "shell.execute_reply": "2022-08-10T14:57:13.359450Z"
        },
        "papermill": {
          "duration": 0.011336,
          "end_time": "2022-08-10T14:57:13.359943",
          "exception": false,
          "start_time": "2022-08-10T14:57:13.348607",
          "status": "completed"
        },
        "tags": [
          "remove-cell"
        ]
      },
      "outputs": [],
      "source": []
    },
    {
      "cell_type": "markdown",
      "id": "3cf6720e",
      "metadata": {
        "papermill": {
          "duration": 0.004357,
          "end_time": "2022-08-10T14:57:13.369253",
          "exception": false,
          "start_time": "2022-08-10T14:57:13.364896",
          "status": "completed"
        },
        "tags": []
      },
      "source": [
        "# NN - Loss\n",
        "\n",
        "> loss functions and utilitites for SAX neural networks"
      ]
    },
    {
      "cell_type": "code",
      "execution_count": 2,
      "id": "83cdcdcbfc69055d",
      "metadata": {
        "execution": {
          "iopub.execute_input": "2022-08-10T14:57:13.385103Z",
          "iopub.status.busy": "2022-08-10T14:57:13.384682Z",
          "iopub.status.idle": "2022-08-10T14:57:14.057974Z",
          "shell.execute_reply": "2022-08-10T14:57:14.057604Z"
        },
        "papermill": {
          "duration": 0.684438,
          "end_time": "2022-08-10T14:57:14.058079",
          "exception": false,
          "start_time": "2022-08-10T14:57:13.373641",
          "status": "completed"
        },
        "tags": [
          "remove-cell"
        ]
      },
      "outputs": [],
      "source": [
        "import matplotlib.pyplot as plt\n",
        "from fastcore.test import test_eq\n",
        "from pytest import approx, raises\n",
        "\n",
        "import os, sys; sys.stderr = open(os.devnull, \"w\")"
      ]
    },
    {
      "cell_type": "code",
      "execution_count": 3,
      "id": "de6acf44e5b757bb",
      "metadata": {
        "execution": {
          "iopub.execute_input": "2022-08-10T14:57:14.071219Z",
          "iopub.status.busy": "2022-08-10T14:57:14.070781Z",
          "iopub.status.idle": "2022-08-10T14:57:14.710495Z",
          "shell.execute_reply": "2022-08-10T14:57:14.710120Z"
        },
        "papermill": {
          "duration": 0.647737,
          "end_time": "2022-08-10T14:57:14.710598",
          "exception": false,
          "start_time": "2022-08-10T14:57:14.062861",
          "status": "completed"
        },
        "tags": [
          "hide-input"
        ]
      },
      "outputs": [],
      "source": [
        "from __future__ import annotations\n",
        "\n",
        "from typing import Dict\n",
        "\n",
        "import jax.numpy as jnp\n",
        "from sax.typing_ import ComplexFloat"
      ]
    },
    {
      "cell_type": "markdown",
      "id": "5b902697b12696e1",
      "metadata": {},
      "source": [
        ":::{eval-rst}\n",
        ".. autofunction:: sax.nn.loss.mse\n",
        ":::\n"
      ]
    },
    {
      "cell_type": "code",
      "execution_count": 4,
      "id": "f8c56951c2de3bc8",
      "metadata": {
        "execution": {
          "iopub.execute_input": "2022-08-10T14:57:14.723871Z",
          "iopub.status.busy": "2022-08-10T14:57:14.723440Z",
          "iopub.status.idle": "2022-08-10T14:57:14.726033Z",
          "shell.execute_reply": "2022-08-10T14:57:14.725696Z"
        },
        "papermill": {
          "duration": 0.01065,
          "end_time": "2022-08-10T14:57:14.726125",
          "exception": false,
          "start_time": "2022-08-10T14:57:14.715475",
          "status": "completed"
        },
        "tags": [
          "hide-input"
        ]
      },
      "outputs": [],
      "source": [
        "\n",
        "def mse(x: ComplexFloat, y: ComplexFloat) -> float:\n",
        "    \"\"\"mean squared error\"\"\"\n",
        "    return ((x - y) ** 2).mean()"
      ]
    },
    {
      "cell_type": "markdown",
      "id": "b101233e0e07a6f9",
      "metadata": {},
      "source": [
        ":::{eval-rst}\n",
        ".. autofunction:: sax.nn.loss.huber_loss\n",
        ":::\n"
      ]
    },
    {
      "cell_type": "code",
      "execution_count": 5,
      "id": "6726eca8d4781975",
      "metadata": {
        "execution": {
          "iopub.execute_input": "2022-08-10T14:57:14.739196Z",
          "iopub.status.busy": "2022-08-10T14:57:14.738372Z",
          "iopub.status.idle": "2022-08-10T14:57:14.739669Z",
          "shell.execute_reply": "2022-08-10T14:57:14.739975Z"
        },
        "papermill": {
          "duration": 0.009324,
          "end_time": "2022-08-10T14:57:14.740074",
          "exception": false,
          "start_time": "2022-08-10T14:57:14.730750",
          "status": "completed"
        },
        "tags": [
          "hide-input"
        ]
      },
      "outputs": [],
      "source": [
        "\n",
        "def huber_loss(x: ComplexFloat, y: ComplexFloat, delta: float=0.5) -> float:\n",
        "    \"\"\"huber loss\"\"\"\n",
        "    return ((delta ** 2) * ((1.0 + ((x - y) / delta) ** 2) ** 0.5 - 1.0)).mean()"
      ]
    },
    {
      "cell_type": "markdown",
      "id": "98d84861",
      "metadata": {
        "papermill": {
          "duration": 0.004661,
          "end_time": "2022-08-10T14:57:14.749485",
          "exception": false,
          "start_time": "2022-08-10T14:57:14.744824",
          "status": "completed"
        },
        "tags": []
      },
      "source": [
        "The huber loss is like the mean squared error close to zero and mean\n",
        "absolute error for outliers"
      ]
    },
    {
      "cell_type": "markdown",
      "id": "8beb936f8a348513",
      "metadata": {},
      "source": [
        ":::{eval-rst}\n",
        ".. autofunction:: sax.nn.loss.l2_reg\n",
        ":::\n"
      ]
    },
    {
      "cell_type": "code",
      "execution_count": 6,
      "id": "6bb4361e3bc26d1c",
      "metadata": {
        "execution": {
          "iopub.execute_input": "2022-08-10T14:57:14.763225Z",
          "iopub.status.busy": "2022-08-10T14:57:14.762486Z",
          "iopub.status.idle": "2022-08-10T14:57:14.763727Z",
          "shell.execute_reply": "2022-08-10T14:57:14.764043Z"
        },
        "papermill": {
          "duration": 0.009927,
          "end_time": "2022-08-10T14:57:14.764140",
          "exception": false,
          "start_time": "2022-08-10T14:57:14.754213",
          "status": "completed"
        },
        "tags": [
          "hide-input"
        ]
      },
      "outputs": [],
      "source": [
        "\n",
        "def l2_reg(weights: Dict[str, ComplexFloat]) -> float:\n",
        "    \"\"\"L2 regularization loss\"\"\"\n",
        "    numel = 0\n",
        "    loss = 0.0\n",
        "    for w in (v for k, v in weights.items() if k[0] in (\"w\", \"b\")):\n",
        "        numel = numel + w.size\n",
        "        loss = loss + (jnp.abs(w) ** 2).sum()\n",
        "    return loss / numel"
      ]
    }
  ],
  "metadata": {
    "kernelspec": {
      "display_name": "sax",
      "language": "python",
      "name": "sax"
    },
    "language_info": {
      "codemirror_mode": {
        "name": "ipython",
        "version": 3
      },
      "file_extension": ".py",
      "mimetype": "text/x-python",
      "name": "python",
      "nbconvert_exporter": "python",
      "pygments_lexer": "ipython3",
      "version": "3.9.0"
    },
    "papermill": {
      "default_parameters": {},
      "duration": 2.837352,
      "end_time": "2022-08-10T14:57:15.073675",
      "environment_variables": {},
      "exception": null,
      "input_path": "./nbs/09a_nn_loss.ipynb",
      "output_path": "./nbs/09a_nn_loss.ipynb",
      "parameters": {},
      "start_time": "2022-08-10T14:57:12.236323",
      "version": "2.3.4"
    }
  },
  "nbformat": 4,
  "nbformat_minor": 5
}
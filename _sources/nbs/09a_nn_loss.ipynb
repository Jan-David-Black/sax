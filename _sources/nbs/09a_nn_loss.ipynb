{
  "cells": [
    {
      "cell_type": "code",
      "execution_count": 1,
      "id": "c4d593d91a1a8321",
      "metadata": {
        "execution": {
          "iopub.execute_input": "2022-08-10T16:00:40.707290Z",
          "iopub.status.busy": "2022-08-10T16:00:40.706853Z",
          "iopub.status.idle": "2022-08-10T16:00:40.710841Z",
          "shell.execute_reply": "2022-08-10T16:00:40.710423Z"
        },
        "papermill": {
          "duration": 0.013511,
          "end_time": "2022-08-10T16:00:40.710961",
          "exception": false,
          "start_time": "2022-08-10T16:00:40.697450",
          "status": "completed"
        },
        "tags": [
          "remove-cell"
        ]
      },
      "outputs": [],
      "source": []
    },
    {
      "cell_type": "markdown",
      "id": "3cf6720e",
      "metadata": {
        "papermill": {
          "duration": 0.004443,
          "end_time": "2022-08-10T16:00:40.720286",
          "exception": false,
          "start_time": "2022-08-10T16:00:40.715843",
          "status": "completed"
        },
        "tags": []
      },
      "source": [
        "# Loss\n",
        "\n",
        "> loss functions and utilitites for SAX neural networks"
      ]
    },
    {
      "cell_type": "code",
      "execution_count": 2,
      "id": "32dba643b5caf54c",
      "metadata": {
        "execution": {
          "iopub.execute_input": "2022-08-10T16:00:40.737137Z",
          "iopub.status.busy": "2022-08-10T16:00:40.736720Z",
          "iopub.status.idle": "2022-08-10T16:00:41.429412Z",
          "shell.execute_reply": "2022-08-10T16:00:41.429783Z"
        },
        "papermill": {
          "duration": 0.705427,
          "end_time": "2022-08-10T16:00:41.429939",
          "exception": false,
          "start_time": "2022-08-10T16:00:40.724512",
          "status": "completed"
        },
        "tags": [
          "remove-cell"
        ]
      },
      "outputs": [],
      "source": [
        "import matplotlib.pyplot as plt\n",
        "from fastcore.test import test_eq\n",
        "from pytest import approx, raises\n",
        "\n",
        "import os, sys; sys.stderr = open(os.devnull, \"w\")"
      ]
    },
    {
      "cell_type": "code",
      "execution_count": 3,
      "id": "b12b542bc87db46d",
      "metadata": {
        "execution": {
          "iopub.execute_input": "2022-08-10T16:00:41.444011Z",
          "iopub.status.busy": "2022-08-10T16:00:41.443533Z",
          "iopub.status.idle": "2022-08-10T16:00:42.136180Z",
          "shell.execute_reply": "2022-08-10T16:00:42.135648Z"
        },
        "papermill": {
          "duration": 0.701414,
          "end_time": "2022-08-10T16:00:42.136322",
          "exception": false,
          "start_time": "2022-08-10T16:00:41.434908",
          "status": "completed"
        },
        "tags": [
          "hide-input"
        ]
      },
      "outputs": [],
      "source": [
        "from __future__ import annotations\n",
        "\n",
        "from typing import Dict\n",
        "\n",
        "import jax.numpy as jnp\n",
        "from sax.typing_ import ComplexFloat"
      ]
    },
    {
      "cell_type": "markdown",
      "id": "2e70131e180d3b27",
      "metadata": {},
      "source": [
        ":::{eval-rst}\n",
        ".. autofunction:: sax.nn.loss.mse\n",
        ":::\n"
      ]
    },
    {
      "cell_type": "code",
      "execution_count": 4,
      "id": "a8f0f1c94a794be6",
      "metadata": {
        "execution": {
          "iopub.execute_input": "2022-08-10T16:00:42.150718Z",
          "iopub.status.busy": "2022-08-10T16:00:42.149879Z",
          "iopub.status.idle": "2022-08-10T16:00:42.151271Z",
          "shell.execute_reply": "2022-08-10T16:00:42.151601Z"
        },
        "papermill": {
          "duration": 0.010257,
          "end_time": "2022-08-10T16:00:42.151734",
          "exception": false,
          "start_time": "2022-08-10T16:00:42.141477",
          "status": "completed"
        },
        "tags": [
          "hide-input"
        ]
      },
      "outputs": [],
      "source": [
        "\n",
        "def mse(x: ComplexFloat, y: ComplexFloat) -> float:\n",
        "    \"\"\"mean squared error\"\"\"\n",
        "    return ((x - y) ** 2).mean()"
      ]
    },
    {
      "cell_type": "markdown",
      "id": "2f407c382668bc43",
      "metadata": {},
      "source": [
        ":::{eval-rst}\n",
        ".. autofunction:: sax.nn.loss.huber_loss\n",
        ":::\n"
      ]
    },
    {
      "cell_type": "code",
      "execution_count": 5,
      "id": "7626333e76022ca6",
      "metadata": {
        "execution": {
          "iopub.execute_input": "2022-08-10T16:00:42.164122Z",
          "iopub.status.busy": "2022-08-10T16:00:42.163691Z",
          "iopub.status.idle": "2022-08-10T16:00:42.165332Z",
          "shell.execute_reply": "2022-08-10T16:00:42.164999Z"
        },
        "papermill": {
          "duration": 0.009238,
          "end_time": "2022-08-10T16:00:42.165423",
          "exception": false,
          "start_time": "2022-08-10T16:00:42.156185",
          "status": "completed"
        },
        "tags": [
          "hide-input"
        ]
      },
      "outputs": [],
      "source": [
        "\n",
        "def huber_loss(x: ComplexFloat, y: ComplexFloat, delta: float=0.5) -> float:\n",
        "    \"\"\"huber loss\"\"\"\n",
        "    return ((delta ** 2) * ((1.0 + ((x - y) / delta) ** 2) ** 0.5 - 1.0)).mean()"
      ]
    },
    {
      "cell_type": "markdown",
      "id": "98d84861",
      "metadata": {
        "papermill": {
          "duration": 0.00448,
          "end_time": "2022-08-10T16:00:42.174513",
          "exception": false,
          "start_time": "2022-08-10T16:00:42.170033",
          "status": "completed"
        },
        "tags": []
      },
      "source": [
        "The huber loss is like the mean squared error close to zero and mean\n",
        "absolute error for outliers"
      ]
    },
    {
      "cell_type": "markdown",
      "id": "98d4bf82908e687f",
      "metadata": {},
      "source": [
        ":::{eval-rst}\n",
        ".. autofunction:: sax.nn.loss.l2_reg\n",
        ":::\n"
      ]
    },
    {
      "cell_type": "code",
      "execution_count": 6,
      "id": "780fed578b8c2518",
      "metadata": {
        "execution": {
          "iopub.execute_input": "2022-08-10T16:00:42.187876Z",
          "iopub.status.busy": "2022-08-10T16:00:42.187426Z",
          "iopub.status.idle": "2022-08-10T16:00:42.188707Z",
          "shell.execute_reply": "2022-08-10T16:00:42.189102Z"
        },
        "papermill": {
          "duration": 0.01018,
          "end_time": "2022-08-10T16:00:42.189205",
          "exception": false,
          "start_time": "2022-08-10T16:00:42.179025",
          "status": "completed"
        },
        "tags": [
          "hide-input"
        ]
      },
      "outputs": [],
      "source": [
        "\n",
        "def l2_reg(weights: Dict[str, ComplexFloat]) -> float:\n",
        "    \"\"\"L2 regularization loss\"\"\"\n",
        "    numel = 0\n",
        "    loss = 0.0\n",
        "    for w in (v for k, v in weights.items() if k[0] in (\"w\", \"b\")):\n",
        "        numel = numel + w.size\n",
        "        loss = loss + (jnp.abs(w) ** 2).sum()\n",
        "    return loss / numel"
      ]
    }
  ],
  "metadata": {
    "kernelspec": {
      "display_name": "sax",
      "language": "python",
      "name": "sax"
    },
    "language_info": {
      "codemirror_mode": {
        "name": "ipython",
        "version": 3
      },
      "file_extension": ".py",
      "mimetype": "text/x-python",
      "name": "python",
      "nbconvert_exporter": "python",
      "pygments_lexer": "ipython3",
      "version": "3.9.0"
    },
    "papermill": {
      "default_parameters": {},
      "duration": 2.92564,
      "end_time": "2022-08-10T16:00:42.499056",
      "environment_variables": {},
      "exception": null,
      "input_path": "./nbs/09a_nn_loss.ipynb",
      "output_path": "./nbs/09a_nn_loss.ipynb",
      "parameters": {},
      "start_time": "2022-08-10T16:00:39.573416",
      "version": "2.3.4"
    }
  },
  "nbformat": 4,
  "nbformat_minor": 5
}
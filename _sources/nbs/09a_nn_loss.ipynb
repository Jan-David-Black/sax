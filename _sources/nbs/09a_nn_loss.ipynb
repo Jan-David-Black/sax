{
  "cells": [
    {
      "cell_type": "code",
      "execution_count": 1,
      "id": "844c536295a882ab",
      "metadata": {
        "execution": {
          "iopub.execute_input": "2022-08-16T04:17:59.796804Z",
          "iopub.status.busy": "2022-08-16T04:17:59.796369Z",
          "iopub.status.idle": "2022-08-16T04:17:59.798587Z",
          "shell.execute_reply": "2022-08-16T04:17:59.798901Z"
        },
        "papermill": {
          "duration": 0.01223,
          "end_time": "2022-08-16T04:17:59.799087",
          "exception": false,
          "start_time": "2022-08-16T04:17:59.786857",
          "status": "completed"
        },
        "tags": [
          "remove-cell"
        ]
      },
      "outputs": [],
      "source": []
    },
    {
      "cell_type": "markdown",
      "id": "3cf6720e",
      "metadata": {
        "papermill": {
          "duration": 0.003795,
          "end_time": "2022-08-16T04:17:59.807229",
          "exception": false,
          "start_time": "2022-08-16T04:17:59.803434",
          "status": "completed"
        },
        "tags": []
      },
      "source": [
        "# Loss\n",
        "\n",
        "> loss functions and utilitites for SAX neural networks"
      ]
    },
    {
      "cell_type": "code",
      "execution_count": 2,
      "id": "65bfbe9444846fab",
      "metadata": {
        "execution": {
          "iopub.execute_input": "2022-08-16T04:17:59.816961Z",
          "iopub.status.busy": "2022-08-16T04:17:59.816552Z",
          "iopub.status.idle": "2022-08-16T04:18:00.494964Z",
          "shell.execute_reply": "2022-08-16T04:18:00.494521Z"
        },
        "papermill": {
          "duration": 0.684017,
          "end_time": "2022-08-16T04:18:00.495089",
          "exception": false,
          "start_time": "2022-08-16T04:17:59.811072",
          "status": "completed"
        },
        "tags": [
          "remove-cell"
        ]
      },
      "outputs": [],
      "source": [
        "import matplotlib.pyplot as plt\n",
        "from fastcore.test import test_eq\n",
        "from pytest import approx, raises\n",
        "\n",
        "import os, sys; sys.stderr = open(os.devnull, \"w\")"
      ]
    },
    {
      "cell_type": "code",
      "execution_count": 3,
      "id": "7d8442fca67f026b",
      "metadata": {
        "execution": {
          "iopub.execute_input": "2022-08-16T04:18:00.508983Z",
          "iopub.status.busy": "2022-08-16T04:18:00.508546Z",
          "iopub.status.idle": "2022-08-16T04:18:01.241994Z",
          "shell.execute_reply": "2022-08-16T04:18:01.241557Z"
        },
        "papermill": {
          "duration": 0.741157,
          "end_time": "2022-08-16T04:18:01.242121",
          "exception": false,
          "start_time": "2022-08-16T04:18:00.500964",
          "status": "completed"
        },
        "tags": [
          "hide-input"
        ]
      },
      "outputs": [],
      "source": [
        "from __future__ import annotations\n",
        "\n",
        "from typing import Dict\n",
        "\n",
        "import jax.numpy as jnp\n",
        "from sax.typing_ import ComplexFloat"
      ]
    },
    {
      "cell_type": "markdown",
      "id": "40cf638ef4d23f44",
      "metadata": {},
      "source": [
        ":::{eval-rst}\n",
        ".. autofunction:: sax.nn.loss.mse\n",
        ":::\n"
      ]
    },
    {
      "cell_type": "code",
      "execution_count": 4,
      "id": "5991e94a897f9a04",
      "metadata": {
        "execution": {
          "iopub.execute_input": "2022-08-16T04:18:01.255131Z",
          "iopub.status.busy": "2022-08-16T04:18:01.254703Z",
          "iopub.status.idle": "2022-08-16T04:18:01.258150Z",
          "shell.execute_reply": "2022-08-16T04:18:01.257811Z"
        },
        "papermill": {
          "duration": 0.011221,
          "end_time": "2022-08-16T04:18:01.258243",
          "exception": false,
          "start_time": "2022-08-16T04:18:01.247022",
          "status": "completed"
        },
        "tags": [
          "hide-input"
        ]
      },
      "outputs": [],
      "source": [
        "\n",
        "def mse(x: ComplexFloat, y: ComplexFloat) -> float:\n",
        "    \"\"\"mean squared error\"\"\"\n",
        "    return ((x - y) ** 2).mean()"
      ]
    },
    {
      "cell_type": "markdown",
      "id": "5314e7e32587155c",
      "metadata": {},
      "source": [
        ":::{eval-rst}\n",
        ".. autofunction:: sax.nn.loss.huber_loss\n",
        ":::\n"
      ]
    },
    {
      "cell_type": "code",
      "execution_count": 5,
      "id": "9a0a2be94939843f",
      "metadata": {
        "execution": {
          "iopub.execute_input": "2022-08-16T04:18:01.269996Z",
          "iopub.status.busy": "2022-08-16T04:18:01.269356Z",
          "iopub.status.idle": "2022-08-16T04:18:01.270770Z",
          "shell.execute_reply": "2022-08-16T04:18:01.271097Z"
        },
        "papermill": {
          "duration": 0.008969,
          "end_time": "2022-08-16T04:18:01.271203",
          "exception": false,
          "start_time": "2022-08-16T04:18:01.262234",
          "status": "completed"
        },
        "tags": [
          "hide-input"
        ]
      },
      "outputs": [],
      "source": [
        "\n",
        "def huber_loss(x: ComplexFloat, y: ComplexFloat, delta: float=0.5) -> float:\n",
        "    \"\"\"huber loss\"\"\"\n",
        "    return ((delta ** 2) * ((1.0 + ((x - y) / delta) ** 2) ** 0.5 - 1.0)).mean()"
      ]
    },
    {
      "cell_type": "markdown",
      "id": "98d84861",
      "metadata": {
        "papermill": {
          "duration": 0.004071,
          "end_time": "2022-08-16T04:18:01.279348",
          "exception": false,
          "start_time": "2022-08-16T04:18:01.275277",
          "status": "completed"
        },
        "tags": []
      },
      "source": [
        "The huber loss is like the mean squared error close to zero and mean\n",
        "absolute error for outliers"
      ]
    },
    {
      "cell_type": "markdown",
      "id": "5b29d6f3348a455f",
      "metadata": {},
      "source": [
        ":::{eval-rst}\n",
        ".. autofunction:: sax.nn.loss.l2_reg\n",
        ":::\n"
      ]
    },
    {
      "cell_type": "code",
      "execution_count": 6,
      "id": "c1dd50faa5437b4b",
      "metadata": {
        "execution": {
          "iopub.execute_input": "2022-08-16T04:18:01.292610Z",
          "iopub.status.busy": "2022-08-16T04:18:01.291834Z",
          "iopub.status.idle": "2022-08-16T04:18:01.293200Z",
          "shell.execute_reply": "2022-08-16T04:18:01.293530Z"
        },
        "papermill": {
          "duration": 0.010224,
          "end_time": "2022-08-16T04:18:01.293631",
          "exception": false,
          "start_time": "2022-08-16T04:18:01.283407",
          "status": "completed"
        },
        "tags": [
          "hide-input"
        ]
      },
      "outputs": [],
      "source": [
        "\n",
        "def l2_reg(weights: Dict[str, ComplexFloat]) -> float:\n",
        "    \"\"\"L2 regularization loss\"\"\"\n",
        "    numel = 0\n",
        "    loss = 0.0\n",
        "    for w in (v for k, v in weights.items() if k[0] in (\"w\", \"b\")):\n",
        "        numel = numel + w.size\n",
        "        loss = loss + (jnp.abs(w) ** 2).sum()\n",
        "    return loss / numel"
      ]
    }
  ],
  "metadata": {
    "kernelspec": {
      "display_name": "sax",
      "language": "python",
      "name": "sax"
    },
    "language_info": {
      "codemirror_mode": {
        "name": "ipython",
        "version": 3
      },
      "file_extension": ".py",
      "mimetype": "text/x-python",
      "name": "python",
      "nbconvert_exporter": "python",
      "pygments_lexer": "ipython3",
      "version": "3.9.0"
    },
    "papermill": {
      "default_parameters": {},
      "duration": 2.943028,
      "end_time": "2022-08-16T04:18:01.604953",
      "environment_variables": {},
      "exception": null,
      "input_path": "./nbs/09a_nn_loss.ipynb",
      "output_path": "./nbs/09a_nn_loss.ipynb",
      "parameters": {},
      "start_time": "2022-08-16T04:17:58.661925",
      "version": "2.3.4"
    }
  },
  "nbformat": 4,
  "nbformat_minor": 5
}
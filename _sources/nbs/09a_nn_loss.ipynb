{
  "cells": [
    {
      "cell_type": "code",
      "execution_count": 1,
      "id": "c9b38fe06fce50f4",
      "metadata": {
        "execution": {
          "iopub.execute_input": "2022-08-04T05:47:45.343838Z",
          "iopub.status.busy": "2022-08-04T05:47:45.343304Z",
          "iopub.status.idle": "2022-08-04T05:47:45.347363Z",
          "shell.execute_reply": "2022-08-04T05:47:45.346874Z"
        },
        "papermill": {
          "duration": 0.015557,
          "end_time": "2022-08-04T05:47:45.347500",
          "exception": false,
          "start_time": "2022-08-04T05:47:45.331943",
          "status": "completed"
        },
        "tags": [
          "remove-cell"
        ]
      },
      "outputs": [],
      "source": []
    },
    {
      "cell_type": "markdown",
      "id": "3cf6720e",
      "metadata": {
        "papermill": {
          "duration": 0.005045,
          "end_time": "2022-08-04T05:47:45.358177",
          "exception": false,
          "start_time": "2022-08-04T05:47:45.353132",
          "status": "completed"
        },
        "tags": []
      },
      "source": [
        "# NN - Loss\n",
        "\n",
        "> loss functions and utilitites for SAX neural networks"
      ]
    },
    {
      "cell_type": "code",
      "execution_count": 2,
      "id": "e7fed7405769a5fa",
      "metadata": {
        "execution": {
          "iopub.execute_input": "2022-08-04T05:47:45.377326Z",
          "iopub.status.busy": "2022-08-04T05:47:45.376775Z",
          "iopub.status.idle": "2022-08-04T05:47:46.193547Z",
          "shell.execute_reply": "2022-08-04T05:47:46.192892Z"
        },
        "papermill": {
          "duration": 0.830588,
          "end_time": "2022-08-04T05:47:46.193695",
          "exception": false,
          "start_time": "2022-08-04T05:47:45.363107",
          "status": "completed"
        },
        "tags": [
          "remove-cell"
        ]
      },
      "outputs": [],
      "source": [
        "import matplotlib.pyplot as plt\n",
        "from fastcore.test import test_eq\n",
        "from pytest import approx, raises\n",
        "\n",
        "import os, sys; sys.stderr = open(os.devnull, \"w\")"
      ]
    },
    {
      "cell_type": "code",
      "execution_count": 3,
      "id": "234688ec46b80512",
      "metadata": {
        "execution": {
          "iopub.execute_input": "2022-08-04T05:47:46.210440Z",
          "iopub.status.busy": "2022-08-04T05:47:46.209909Z",
          "iopub.status.idle": "2022-08-04T05:47:47.031431Z",
          "shell.execute_reply": "2022-08-04T05:47:47.030957Z"
        },
        "papermill": {
          "duration": 0.831592,
          "end_time": "2022-08-04T05:47:47.031565",
          "exception": false,
          "start_time": "2022-08-04T05:47:46.199973",
          "status": "completed"
        },
        "tags": [
          "hide-input"
        ]
      },
      "outputs": [],
      "source": [
        "from __future__ import annotations\n",
        "\n",
        "from typing import Dict\n",
        "\n",
        "import jax.numpy as jnp\n",
        "from sax.typing_ import ComplexFloat"
      ]
    },
    {
      "cell_type": "markdown",
      "id": "296aed5990f83829",
      "metadata": {},
      "source": [
        ":::{eval-rst}\n",
        ".. autofunction:: sax.nn.loss.mse\n",
        ":::\n"
      ]
    },
    {
      "cell_type": "code",
      "execution_count": 4,
      "id": "0d364148caafc45b",
      "metadata": {
        "execution": {
          "iopub.execute_input": "2022-08-04T05:47:47.051235Z",
          "iopub.status.busy": "2022-08-04T05:47:47.050047Z",
          "iopub.status.idle": "2022-08-04T05:47:47.051960Z",
          "shell.execute_reply": "2022-08-04T05:47:47.052449Z"
        },
        "papermill": {
          "duration": 0.014137,
          "end_time": "2022-08-04T05:47:47.052607",
          "exception": false,
          "start_time": "2022-08-04T05:47:47.038470",
          "status": "completed"
        },
        "tags": [
          "hide-input"
        ]
      },
      "outputs": [],
      "source": [
        "\n",
        "def mse(x: ComplexFloat, y: ComplexFloat) -> float:\n",
        "    \"\"\"mean squared error\"\"\"\n",
        "    return ((x - y) ** 2).mean()"
      ]
    },
    {
      "cell_type": "markdown",
      "id": "2c897f863078001e",
      "metadata": {},
      "source": [
        ":::{eval-rst}\n",
        ".. autofunction:: sax.nn.loss.huber_loss\n",
        ":::\n"
      ]
    },
    {
      "cell_type": "code",
      "execution_count": 5,
      "id": "c15353a758f29aab",
      "metadata": {
        "execution": {
          "iopub.execute_input": "2022-08-04T05:47:47.070336Z",
          "iopub.status.busy": "2022-08-04T05:47:47.069788Z",
          "iopub.status.idle": "2022-08-04T05:47:47.071911Z",
          "shell.execute_reply": "2022-08-04T05:47:47.071500Z"
        },
        "papermill": {
          "duration": 0.013279,
          "end_time": "2022-08-04T05:47:47.072035",
          "exception": false,
          "start_time": "2022-08-04T05:47:47.058756",
          "status": "completed"
        },
        "tags": [
          "hide-input"
        ]
      },
      "outputs": [],
      "source": [
        "\n",
        "def huber_loss(x: ComplexFloat, y: ComplexFloat, delta: float=0.5) -> float:\n",
        "    \"\"\"huber loss\"\"\"\n",
        "    return ((delta ** 2) * ((1.0 + ((x - y) / delta) ** 2) ** 0.5 - 1.0)).mean()"
      ]
    },
    {
      "cell_type": "markdown",
      "id": "98d84861",
      "metadata": {
        "papermill": {
          "duration": 0.005417,
          "end_time": "2022-08-04T05:47:47.082945",
          "exception": false,
          "start_time": "2022-08-04T05:47:47.077528",
          "status": "completed"
        },
        "tags": []
      },
      "source": [
        "The huber loss is like the mean squared error close to zero and mean\n",
        "absolute error for outliers"
      ]
    },
    {
      "cell_type": "markdown",
      "id": "56159339c0baf9ea",
      "metadata": {},
      "source": [
        ":::{eval-rst}\n",
        ".. autofunction:: sax.nn.loss.l2_reg\n",
        ":::\n"
      ]
    },
    {
      "cell_type": "code",
      "execution_count": 6,
      "id": "87fab08b70d39188",
      "metadata": {
        "execution": {
          "iopub.execute_input": "2022-08-04T05:47:47.099340Z",
          "iopub.status.busy": "2022-08-04T05:47:47.098815Z",
          "iopub.status.idle": "2022-08-04T05:47:47.100394Z",
          "shell.execute_reply": "2022-08-04T05:47:47.100788Z"
        },
        "papermill": {
          "duration": 0.012666,
          "end_time": "2022-08-04T05:47:47.100930",
          "exception": false,
          "start_time": "2022-08-04T05:47:47.088264",
          "status": "completed"
        },
        "tags": [
          "hide-input"
        ]
      },
      "outputs": [],
      "source": [
        "\n",
        "def l2_reg(weights: Dict[str, ComplexFloat]) -> float:\n",
        "    \"\"\"L2 regularization loss\"\"\"\n",
        "    numel = 0\n",
        "    loss = 0.0\n",
        "    for w in (v for k, v in weights.items() if k[0] in (\"w\", \"b\")):\n",
        "        numel = numel + w.size\n",
        "        loss = loss + (jnp.abs(w) ** 2).sum()\n",
        "    return loss / numel"
      ]
    }
  ],
  "metadata": {
    "kernelspec": {
      "display_name": "sax",
      "language": "python",
      "name": "sax"
    },
    "language_info": {
      "codemirror_mode": {
        "name": "ipython",
        "version": 3
      },
      "file_extension": ".py",
      "mimetype": "text/x-python",
      "name": "python",
      "nbconvert_exporter": "python",
      "pygments_lexer": "ipython3",
      "version": "3.9.0"
    },
    "papermill": {
      "default_parameters": {},
      "duration": 4.446531,
      "end_time": "2022-08-04T05:47:48.262357",
      "environment_variables": {},
      "exception": null,
      "input_path": "./nbs/09a_nn_loss.ipynb",
      "output_path": "./nbs/09a_nn_loss.ipynb",
      "parameters": {},
      "start_time": "2022-08-04T05:47:43.815826",
      "version": "2.3.4"
    }
  },
  "nbformat": 4,
  "nbformat_minor": 5
}
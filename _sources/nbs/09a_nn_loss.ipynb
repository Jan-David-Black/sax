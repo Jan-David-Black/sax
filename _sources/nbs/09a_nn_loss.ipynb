{
  "cells": [
    {
      "cell_type": "code",
      "execution_count": 1,
      "id": "f5727fb9aab47e6e",
      "metadata": {
        "execution": {
          "iopub.execute_input": "2022-08-07T05:29:51.058917Z",
          "iopub.status.busy": "2022-08-07T05:29:51.058396Z",
          "iopub.status.idle": "2022-08-07T05:29:51.062357Z",
          "shell.execute_reply": "2022-08-07T05:29:51.062703Z"
        },
        "papermill": {
          "duration": 0.013309,
          "end_time": "2022-08-07T05:29:51.062923",
          "exception": false,
          "start_time": "2022-08-07T05:29:51.049614",
          "status": "completed"
        },
        "tags": [
          "remove-cell"
        ]
      },
      "outputs": [],
      "source": []
    },
    {
      "cell_type": "markdown",
      "id": "3cf6720e",
      "metadata": {
        "papermill": {
          "duration": 0.004284,
          "end_time": "2022-08-07T05:29:51.072130",
          "exception": false,
          "start_time": "2022-08-07T05:29:51.067846",
          "status": "completed"
        },
        "tags": []
      },
      "source": [
        "# NN - Loss\n",
        "\n",
        "> loss functions and utilitites for SAX neural networks"
      ]
    },
    {
      "cell_type": "code",
      "execution_count": 2,
      "id": "d20af929cf552986",
      "metadata": {
        "execution": {
          "iopub.execute_input": "2022-08-07T05:29:51.088541Z",
          "iopub.status.busy": "2022-08-07T05:29:51.088112Z",
          "iopub.status.idle": "2022-08-07T05:29:51.777044Z",
          "shell.execute_reply": "2022-08-07T05:29:51.776526Z"
        },
        "papermill": {
          "duration": 0.700785,
          "end_time": "2022-08-07T05:29:51.777184",
          "exception": false,
          "start_time": "2022-08-07T05:29:51.076399",
          "status": "completed"
        },
        "tags": [
          "remove-cell"
        ]
      },
      "outputs": [],
      "source": [
        "import matplotlib.pyplot as plt\n",
        "from fastcore.test import test_eq\n",
        "from pytest import approx, raises\n",
        "\n",
        "import os, sys; sys.stderr = open(os.devnull, \"w\")"
      ]
    },
    {
      "cell_type": "code",
      "execution_count": 3,
      "id": "ba5ea4af44a3b6ed",
      "metadata": {
        "execution": {
          "iopub.execute_input": "2022-08-07T05:29:51.791322Z",
          "iopub.status.busy": "2022-08-07T05:29:51.790864Z",
          "iopub.status.idle": "2022-08-07T05:29:52.495780Z",
          "shell.execute_reply": "2022-08-07T05:29:52.495293Z"
        },
        "papermill": {
          "duration": 0.713614,
          "end_time": "2022-08-07T05:29:52.495908",
          "exception": false,
          "start_time": "2022-08-07T05:29:51.782294",
          "status": "completed"
        },
        "tags": [
          "hide-input"
        ]
      },
      "outputs": [],
      "source": [
        "from __future__ import annotations\n",
        "\n",
        "from typing import Dict\n",
        "\n",
        "import jax.numpy as jnp\n",
        "from sax.typing_ import ComplexFloat"
      ]
    },
    {
      "cell_type": "markdown",
      "id": "21815fa669cb9f1a",
      "metadata": {},
      "source": [
        ":::{eval-rst}\n",
        ".. autofunction:: sax.nn.loss.mse\n",
        ":::\n"
      ]
    },
    {
      "cell_type": "code",
      "execution_count": 4,
      "id": "9bbcdcc318414d16",
      "metadata": {
        "execution": {
          "iopub.execute_input": "2022-08-07T05:29:52.510067Z",
          "iopub.status.busy": "2022-08-07T05:29:52.508298Z",
          "iopub.status.idle": "2022-08-07T05:29:52.511562Z",
          "shell.execute_reply": "2022-08-07T05:29:52.511872Z"
        },
        "papermill": {
          "duration": 0.010675,
          "end_time": "2022-08-07T05:29:52.511990",
          "exception": false,
          "start_time": "2022-08-07T05:29:52.501315",
          "status": "completed"
        },
        "tags": [
          "hide-input"
        ]
      },
      "outputs": [],
      "source": [
        "\n",
        "def mse(x: ComplexFloat, y: ComplexFloat) -> float:\n",
        "    \"\"\"mean squared error\"\"\"\n",
        "    return ((x - y) ** 2).mean()"
      ]
    },
    {
      "cell_type": "markdown",
      "id": "061a4a3ed77020ff",
      "metadata": {},
      "source": [
        ":::{eval-rst}\n",
        ".. autofunction:: sax.nn.loss.huber_loss\n",
        ":::\n"
      ]
    },
    {
      "cell_type": "code",
      "execution_count": 5,
      "id": "4f65e4dfb38dc036",
      "metadata": {
        "execution": {
          "iopub.execute_input": "2022-08-07T05:29:52.524340Z",
          "iopub.status.busy": "2022-08-07T05:29:52.523915Z",
          "iopub.status.idle": "2022-08-07T05:29:52.525834Z",
          "shell.execute_reply": "2022-08-07T05:29:52.525492Z"
        },
        "papermill": {
          "duration": 0.009579,
          "end_time": "2022-08-07T05:29:52.525927",
          "exception": false,
          "start_time": "2022-08-07T05:29:52.516348",
          "status": "completed"
        },
        "tags": [
          "hide-input"
        ]
      },
      "outputs": [],
      "source": [
        "\n",
        "def huber_loss(x: ComplexFloat, y: ComplexFloat, delta: float=0.5) -> float:\n",
        "    \"\"\"huber loss\"\"\"\n",
        "    return ((delta ** 2) * ((1.0 + ((x - y) / delta) ** 2) ** 0.5 - 1.0)).mean()"
      ]
    },
    {
      "cell_type": "markdown",
      "id": "98d84861",
      "metadata": {
        "papermill": {
          "duration": 0.004379,
          "end_time": "2022-08-07T05:29:52.534778",
          "exception": false,
          "start_time": "2022-08-07T05:29:52.530399",
          "status": "completed"
        },
        "tags": []
      },
      "source": [
        "The huber loss is like the mean squared error close to zero and mean\n",
        "absolute error for outliers"
      ]
    },
    {
      "cell_type": "markdown",
      "id": "af6f7a7fee4fd733",
      "metadata": {},
      "source": [
        ":::{eval-rst}\n",
        ".. autofunction:: sax.nn.loss.l2_reg\n",
        ":::\n"
      ]
    },
    {
      "cell_type": "code",
      "execution_count": 6,
      "id": "f426bffb0f1055a3",
      "metadata": {
        "execution": {
          "iopub.execute_input": "2022-08-07T05:29:52.547934Z",
          "iopub.status.busy": "2022-08-07T05:29:52.547515Z",
          "iopub.status.idle": "2022-08-07T05:29:52.548881Z",
          "shell.execute_reply": "2022-08-07T05:29:52.549212Z"
        },
        "papermill": {
          "duration": 0.010111,
          "end_time": "2022-08-07T05:29:52.549315",
          "exception": false,
          "start_time": "2022-08-07T05:29:52.539204",
          "status": "completed"
        },
        "tags": [
          "hide-input"
        ]
      },
      "outputs": [],
      "source": [
        "\n",
        "def l2_reg(weights: Dict[str, ComplexFloat]) -> float:\n",
        "    \"\"\"L2 regularization loss\"\"\"\n",
        "    numel = 0\n",
        "    loss = 0.0\n",
        "    for w in (v for k, v in weights.items() if k[0] in (\"w\", \"b\")):\n",
        "        numel = numel + w.size\n",
        "        loss = loss + (jnp.abs(w) ** 2).sum()\n",
        "    return loss / numel"
      ]
    }
  ],
  "metadata": {
    "kernelspec": {
      "display_name": "sax",
      "language": "python",
      "name": "sax"
    },
    "language_info": {
      "codemirror_mode": {
        "name": "ipython",
        "version": 3
      },
      "file_extension": ".py",
      "mimetype": "text/x-python",
      "name": "python",
      "nbconvert_exporter": "python",
      "pygments_lexer": "ipython3",
      "version": "3.9.0"
    },
    "papermill": {
      "default_parameters": {},
      "duration": 3.042641,
      "end_time": "2022-08-07T05:29:52.959860",
      "environment_variables": {},
      "exception": null,
      "input_path": "./nbs/09a_nn_loss.ipynb",
      "output_path": "./nbs/09a_nn_loss.ipynb",
      "parameters": {},
      "start_time": "2022-08-07T05:29:49.917219",
      "version": "2.3.4"
    }
  },
  "nbformat": 4,
  "nbformat_minor": 5
}
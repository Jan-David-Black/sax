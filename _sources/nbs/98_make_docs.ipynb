{
  "cells": [
    {
      "cell_type": "code",
      "execution_count": 1,
      "id": "0ee06d2fc4716dce",
      "metadata": {
        "execution": {
          "iopub.execute_input": "2022-08-04T05:47:50.323842Z",
          "iopub.status.busy": "2022-08-04T05:47:50.323191Z",
          "iopub.status.idle": "2022-08-04T05:47:50.325769Z",
          "shell.execute_reply": "2022-08-04T05:47:50.326198Z"
        },
        "papermill": {
          "duration": 0.024868,
          "end_time": "2022-08-04T05:47:50.326417",
          "exception": false,
          "start_time": "2022-08-04T05:47:50.301549",
          "status": "completed"
        },
        "tags": [
          "remove-cell"
        ]
      },
      "outputs": [],
      "source": []
    },
    {
      "cell_type": "markdown",
      "id": "7f878cbc-3e90-4ceb-8633-79250de6d6b8",
      "metadata": {
        "papermill": {
          "duration": 0.012446,
          "end_time": "2022-08-04T05:47:50.352095",
          "exception": false,
          "start_time": "2022-08-04T05:47:50.339649",
          "status": "completed"
        },
        "tags": []
      },
      "source": [
        "# SAX make docs\n",
        "> CLI: build jupyter-books based docs"
      ]
    },
    {
      "cell_type": "code",
      "execution_count": 2,
      "id": "5fdb012e190d21fe",
      "metadata": {
        "execution": {
          "iopub.execute_input": "2022-08-04T05:47:50.388185Z",
          "iopub.status.busy": "2022-08-04T05:47:50.386871Z",
          "iopub.status.idle": "2022-08-04T05:47:50.391712Z",
          "shell.execute_reply": "2022-08-04T05:47:50.391301Z"
        },
        "papermill": {
          "duration": 0.027084,
          "end_time": "2022-08-04T05:47:50.391834",
          "exception": false,
          "start_time": "2022-08-04T05:47:50.364750",
          "status": "completed"
        },
        "tags": [
          "remove-cell"
        ]
      },
      "outputs": [],
      "source": [
        "import glob\n",
        "import json\n",
        "import os\n",
        "import re\n",
        "import secrets\n",
        "import shutil\n",
        "import subprocess\n",
        "import sys\n",
        "from typing import Dict, Union\n",
        "\n",
        "from fastcore.imports import IN_IPYTHON"
      ]
    },
    {
      "cell_type": "code",
      "execution_count": 3,
      "id": "2c289234ad814a8c",
      "metadata": {
        "execution": {
          "iopub.execute_input": "2022-08-04T05:47:50.422888Z",
          "iopub.status.busy": "2022-08-04T05:47:50.422332Z",
          "iopub.status.idle": "2022-08-04T05:47:50.424315Z",
          "shell.execute_reply": "2022-08-04T05:47:50.423918Z"
        },
        "papermill": {
          "duration": 0.019804,
          "end_time": "2022-08-04T05:47:50.424431",
          "exception": false,
          "start_time": "2022-08-04T05:47:50.404627",
          "status": "completed"
        },
        "tags": [
          "hide-input"
        ]
      },
      "outputs": [],
      "source": [
        "MAGIC_COMMENTS = {\n",
        "    \"default_exp\": \"remove-cell\",\n",
        "    \"exporti\": \"remove-cell\",\n",
        "    \"export\": \"hide-input\",\n",
        "    \"exports\": None,\n",
        "    \"hide\": \"remove-cell\",\n",
        "    \"hide_input\": \"remove-input\",\n",
        "    \"hide_output\": \"remove-output\",\n",
        "    \"collapse_input\": \"hide-input\",\n",
        "    \"collapse_output\": \"hide-output\",\n",
        "}"
      ]
    },
    {
      "cell_type": "code",
      "execution_count": 4,
      "id": "126e12221b01cfdb",
      "metadata": {
        "execution": {
          "iopub.execute_input": "2022-08-04T05:47:50.455283Z",
          "iopub.status.busy": "2022-08-04T05:47:50.454766Z",
          "iopub.status.idle": "2022-08-04T05:47:50.457082Z",
          "shell.execute_reply": "2022-08-04T05:47:50.456680Z"
        },
        "papermill": {
          "duration": 0.019833,
          "end_time": "2022-08-04T05:47:50.457196",
          "exception": false,
          "start_time": "2022-08-04T05:47:50.437363",
          "status": "completed"
        },
        "tags": [
          "hide-input"
        ]
      },
      "outputs": [],
      "source": [
        "if IN_IPYTHON:\n",
        "    ROOT = os.path.abspath('..')\n",
        "else:\n",
        "    ROOT = os.path.abspath('.')"
      ]
    },
    {
      "cell_type": "markdown",
      "id": "682fb799a1fd90b4",
      "metadata": {},
      "source": [
        ":::{eval-rst}\n",
        ".. autofunction:: sax.make_docs.load_nb\n",
        ":::\n"
      ]
    },
    {
      "cell_type": "code",
      "execution_count": 5,
      "id": "c11da81144d97090",
      "metadata": {
        "execution": {
          "iopub.execute_input": "2022-08-04T05:47:50.489278Z",
          "iopub.status.busy": "2022-08-04T05:47:50.488554Z",
          "iopub.status.idle": "2022-08-04T05:47:50.493580Z",
          "shell.execute_reply": "2022-08-04T05:47:50.493038Z"
        },
        "papermill": {
          "duration": 0.022873,
          "end_time": "2022-08-04T05:47:50.493712",
          "exception": false,
          "start_time": "2022-08-04T05:47:50.470839",
          "status": "completed"
        },
        "tags": [
          "hide-input"
        ]
      },
      "outputs": [],
      "source": [
        "def load_nb(path: str) -> Dict:\n",
        "    \"\"\" load a jupyter notebook as dictionary\n",
        "\n",
        "    Args:\n",
        "        path: the path of the notebook to load\n",
        "\n",
        "    Returns:\n",
        "        the notebook represented as a dictionary\n",
        "    \"\"\"\n",
        "    with open(path, \"r\") as file:\n",
        "        nb = json.load(file)\n",
        "    return nb"
      ]
    },
    {
      "cell_type": "markdown",
      "id": "5892e8d165c9b559",
      "metadata": {},
      "source": [
        ":::{eval-rst}\n",
        ".. autofunction:: sax.make_docs.repository_path\n",
        ":::\n"
      ]
    },
    {
      "cell_type": "code",
      "execution_count": 6,
      "id": "1b9be75754689852",
      "metadata": {
        "execution": {
          "iopub.execute_input": "2022-08-04T05:47:50.540369Z",
          "iopub.status.busy": "2022-08-04T05:47:50.539670Z",
          "iopub.status.idle": "2022-08-04T05:47:50.541154Z",
          "shell.execute_reply": "2022-08-04T05:47:50.541722Z"
        },
        "papermill": {
          "duration": 0.031904,
          "end_time": "2022-08-04T05:47:50.541882",
          "exception": false,
          "start_time": "2022-08-04T05:47:50.509978",
          "status": "completed"
        },
        "tags": [
          "hide-input"
        ]
      },
      "outputs": [],
      "source": [
        "def repository_path(*path_parts: str, not_exist_ok: bool=False) -> str:\n",
        "    \"\"\" Get and validate a path in the modelbuild repository\n",
        "\n",
        "    Args:\n",
        "        *path_parts: the path parts that will be joined together\n",
        "            relative to the root of the repository.\n",
        "        not_exist_ok: skip validation if True\n",
        "\n",
        "    Returns:\n",
        "        the absolute path of the referenced file.\n",
        "    \"\"\"\n",
        "    if not (os.path.exists(path:=os.path.join(ROOT, \"docs\"))):\n",
        "        raise FileNotFoundError(f\"docs path {path!r} not found!\")\n",
        "    if not (os.path.exists(path:=os.path.join(ROOT, \"nbs\"))):\n",
        "        raise FileNotFoundError(f\"nbs path {path!r} not found!\")\n",
        "    if not (os.path.exists(path:=os.path.join(ROOT, \"sax\"))):\n",
        "        raise FileNotFoundError(f\"sax path {path!r} not found!\")\n",
        "\n",
        "    path = os.path.join(ROOT, *path_parts)\n",
        "    if not not_exist_ok and not os.path.exists(path):\n",
        "        raise FileNotFoundError(f\"Path {path!r} does not exist.\")\n",
        "\n",
        "    return path"
      ]
    },
    {
      "cell_type": "markdown",
      "id": "c9cb9b65cda44c29",
      "metadata": {},
      "source": [
        ":::{eval-rst}\n",
        ".. autofunction:: sax.make_docs.docs_path\n",
        ":::\n"
      ]
    },
    {
      "cell_type": "code",
      "execution_count": 7,
      "id": "78a43d92615eab79",
      "metadata": {
        "execution": {
          "iopub.execute_input": "2022-08-04T05:47:50.578852Z",
          "iopub.status.busy": "2022-08-04T05:47:50.578095Z",
          "iopub.status.idle": "2022-08-04T05:47:50.579815Z",
          "shell.execute_reply": "2022-08-04T05:47:50.580383Z"
        },
        "papermill": {
          "duration": 0.022949,
          "end_time": "2022-08-04T05:47:50.580550",
          "exception": false,
          "start_time": "2022-08-04T05:47:50.557601",
          "status": "completed"
        },
        "tags": [
          "hide-input"
        ]
      },
      "outputs": [],
      "source": [
        "def docs_path(*path_parts: str, not_exist_ok: bool=False) -> str:\n",
        "    return repository_path('docs', *path_parts, not_exist_ok=not_exist_ok)"
      ]
    },
    {
      "cell_type": "markdown",
      "id": "57615349e444fd3a",
      "metadata": {},
      "source": [
        ":::{eval-rst}\n",
        ".. autofunction:: sax.make_docs.save_nb\n",
        ":::\n"
      ]
    },
    {
      "cell_type": "code",
      "execution_count": 8,
      "id": "d7de416acb1231af",
      "metadata": {
        "execution": {
          "iopub.execute_input": "2022-08-04T05:47:50.618000Z",
          "iopub.status.busy": "2022-08-04T05:47:50.617053Z",
          "iopub.status.idle": "2022-08-04T05:47:50.618466Z",
          "shell.execute_reply": "2022-08-04T05:47:50.617520Z"
        },
        "papermill": {
          "duration": 0.023195,
          "end_time": "2022-08-04T05:47:50.618611",
          "exception": false,
          "start_time": "2022-08-04T05:47:50.595416",
          "status": "completed"
        },
        "tags": [
          "hide-input"
        ]
      },
      "outputs": [],
      "source": [
        "def save_nb(nb: Dict, path: str) -> str:\n",
        "    \"\"\" save a dictionary as a jupyter notebook\n",
        "\n",
        "    Args:\n",
        "        nb: the dictionary to convert into an ipynb file\n",
        "        path: the path to save the notebook under\n",
        "\n",
        "    Returns:\n",
        "        the path where the notebook was saved.\n",
        "    \"\"\"\n",
        "    path = os.path.abspath(path)\n",
        "    os.makedirs(os.path.dirname(path), exist_ok=True)\n",
        "    with open(path, \"w\") as file:\n",
        "        json.dump(nb, file, indent=2)\n",
        "    return path"
      ]
    },
    {
      "cell_type": "markdown",
      "id": "3d3370471703ed93",
      "metadata": {},
      "source": [
        ":::{eval-rst}\n",
        ".. autofunction:: sax.make_docs.strip_metadata\n",
        ":::\n"
      ]
    },
    {
      "cell_type": "code",
      "execution_count": 9,
      "id": "47ecb764dfaabd9e",
      "metadata": {
        "execution": {
          "iopub.execute_input": "2022-08-04T05:47:50.652080Z",
          "iopub.status.busy": "2022-08-04T05:47:50.651555Z",
          "iopub.status.idle": "2022-08-04T05:47:50.653423Z",
          "shell.execute_reply": "2022-08-04T05:47:50.652993Z"
        },
        "papermill": {
          "duration": 0.021137,
          "end_time": "2022-08-04T05:47:50.653534",
          "exception": false,
          "start_time": "2022-08-04T05:47:50.632397",
          "status": "completed"
        },
        "tags": [
          "hide-input"
        ]
      },
      "outputs": [],
      "source": [
        "def strip_metadata(nb: Union[Dict, str]) -> Union[Dict,str]:\n",
        "    path = ''\n",
        "    if isinstance(nb, str):\n",
        "        path = nb\n",
        "        nb = load_nb(nb)\n",
        "    for cell in nb['cells']:\n",
        "        if not 'metadata' in cell:\n",
        "            continue\n",
        "        cell['metadata'] = {}\n",
        "    if path:\n",
        "        return save_nb(nb, path)\n",
        "    return path"
      ]
    },
    {
      "cell_type": "code",
      "execution_count": 10,
      "id": "0867b85e1a859f93",
      "metadata": {
        "execution": {
          "iopub.execute_input": "2022-08-04T05:47:50.685608Z",
          "iopub.status.busy": "2022-08-04T05:47:50.685011Z",
          "iopub.status.idle": "2022-08-04T05:47:50.688111Z",
          "shell.execute_reply": "2022-08-04T05:47:50.688509Z"
        },
        "papermill": {
          "duration": 0.02174,
          "end_time": "2022-08-04T05:47:50.688660",
          "exception": false,
          "start_time": "2022-08-04T05:47:50.666920",
          "status": "completed"
        },
        "tags": [
          "remove-cell"
        ]
      },
      "outputs": [],
      "source": [
        "def iter_code_cells(nb):\n",
        "    for cell in nb.get('cells', []):\n",
        "        if not cell.get(\"cell_type\", \"\") == \"code\":\n",
        "            continue\n",
        "        yield cell"
      ]
    },
    {
      "cell_type": "code",
      "execution_count": 11,
      "id": "9b0c678d87ea28f2",
      "metadata": {
        "execution": {
          "iopub.execute_input": "2022-08-04T05:47:50.720819Z",
          "iopub.status.busy": "2022-08-04T05:47:50.720305Z",
          "iopub.status.idle": "2022-08-04T05:47:50.722632Z",
          "shell.execute_reply": "2022-08-04T05:47:50.722172Z"
        },
        "papermill": {
          "duration": 0.020205,
          "end_time": "2022-08-04T05:47:50.722752",
          "exception": false,
          "start_time": "2022-08-04T05:47:50.702547",
          "status": "completed"
        },
        "tags": [
          "remove-cell"
        ]
      },
      "outputs": [],
      "source": [
        "def first_code_cell(nb):\n",
        "    try:\n",
        "        return next(iter_code_cells(nb))\n",
        "    except StopIteration:\n",
        "        return None"
      ]
    },
    {
      "cell_type": "code",
      "execution_count": 12,
      "id": "86446ab86591981d",
      "metadata": {
        "execution": {
          "iopub.execute_input": "2022-08-04T05:47:50.755394Z",
          "iopub.status.busy": "2022-08-04T05:47:50.754844Z",
          "iopub.status.idle": "2022-08-04T05:47:50.757377Z",
          "shell.execute_reply": "2022-08-04T05:47:50.756542Z"
        },
        "papermill": {
          "duration": 0.020892,
          "end_time": "2022-08-04T05:47:50.757505",
          "exception": false,
          "start_time": "2022-08-04T05:47:50.736613",
          "status": "completed"
        },
        "tags": [
          "remove-cell"
        ]
      },
      "outputs": [],
      "source": [
        "def get_default_exp(nb):\n",
        "    first_cell = first_code_cell(nb) or {}\n",
        "    first_source = first_cell.get('source', [])\n",
        "    first_line = \"\" if not first_source else first_source[0]\n",
        "    default_exp = first_line.split(\"default_exp\")[-1].strip()\n",
        "    return default_exp"
      ]
    },
    {
      "cell_type": "code",
      "execution_count": 13,
      "id": "88842f90b70ba434",
      "metadata": {
        "execution": {
          "iopub.execute_input": "2022-08-04T05:47:50.790194Z",
          "iopub.status.busy": "2022-08-04T05:47:50.789291Z",
          "iopub.status.idle": "2022-08-04T05:47:50.793755Z",
          "shell.execute_reply": "2022-08-04T05:47:50.793319Z"
        },
        "papermill": {
          "duration": 0.021748,
          "end_time": "2022-08-04T05:47:50.793999",
          "exception": false,
          "start_time": "2022-08-04T05:47:50.772251",
          "status": "completed"
        },
        "tags": [
          "remove-cell"
        ]
      },
      "outputs": [],
      "source": [
        "def iter_function_names(source):\n",
        "    for line in source:\n",
        "        if not line.startswith(\"def \"):\n",
        "            continue\n",
        "        if line.startswith(\"def _\"):\n",
        "            continue\n",
        "        yield line.split(\"def \")[1].split(\"(\")[0]"
      ]
    },
    {
      "cell_type": "markdown",
      "id": "dc3cb9fcd6007db4",
      "metadata": {},
      "source": [
        ":::{eval-rst}\n",
        ".. autofunction:: sax.make_docs.docs_copy_nb\n",
        ":::\n"
      ]
    },
    {
      "cell_type": "code",
      "execution_count": 14,
      "id": "044ce087bc6c9b28",
      "metadata": {
        "execution": {
          "iopub.execute_input": "2022-08-04T05:47:50.836636Z",
          "iopub.status.busy": "2022-08-04T05:47:50.836091Z",
          "iopub.status.idle": "2022-08-04T05:47:50.837758Z",
          "shell.execute_reply": "2022-08-04T05:47:50.838124Z"
        },
        "papermill": {
          "duration": 0.028434,
          "end_time": "2022-08-04T05:47:50.838277",
          "exception": false,
          "start_time": "2022-08-04T05:47:50.809843",
          "status": "completed"
        },
        "tags": [
          "hide-input"
        ]
      },
      "outputs": [],
      "source": [
        "def docs_copy_nb(relpath, docsrelpath=None):\n",
        "    \"\"\"copy a single notebook from src to dst with modified docs metadata.\"\"\"\n",
        "    src = repository_path(relpath)\n",
        "    dst = docs_path((docsrelpath or relpath), not_exist_ok=True)\n",
        "    nb = load_nb(src)\n",
        "    nb_new = {**nb}\n",
        "    nb_new[\"cells\"] = []\n",
        "    module = get_default_exp(nb)\n",
        "\n",
        "    for cell in nb.get('cells', []):\n",
        "        if not cell.get(\"cell_type\", \"\") == \"code\":\n",
        "            nb_new[\"cells\"].append(cell)\n",
        "            continue\n",
        "            \n",
        "        cell_tags = cell.get(\"metadata\", {}).get(\"tags\", [])\n",
        "        source = cell.get(\"source\") or [\"\"]\n",
        "        line = source[0].strip()\n",
        "        \n",
        "        if not line.startswith(\"#\"):\n",
        "            nb_new[\"cells\"].append(cell)\n",
        "            continue\n",
        "            \n",
        "        keys = [k.strip() for k in line.split(\" \")]\n",
        "        keys = [k for k in keys if k in MAGIC_COMMENTS]\n",
        "        if keys:\n",
        "            del source[0]\n",
        "        for key in keys:\n",
        "            tag = MAGIC_COMMENTS[key]\n",
        "            if tag:\n",
        "                cell_tags.append(tag)\n",
        "        if len(cell_tags) > 0:\n",
        "            cell[\"metadata\"][\"tags\"] = cell_tags\n",
        "\n",
        "        if not 'remove-cell' in cell_tags:\n",
        "            for function_name in iter_function_names(source):\n",
        "                extra_cell = {\n",
        "                    \"cell_type\": \"markdown\",\n",
        "                    \"id\": secrets.token_hex(8),\n",
        "                    \"metadata\": {},\n",
        "                    \"source\": [\n",
        "                        \":::{eval-rst}\\n\",\n",
        "                        f\".. autofunction:: sax.{module}.{function_name}\\n\",\n",
        "                        \":::\\n\"\n",
        "                    ],\n",
        "                }\n",
        "                nb_new[\"cells\"].append(extra_cell)\n",
        "\n",
        "        cell[\"id\"] = secrets.token_hex(8)\n",
        "        nb_new[\"cells\"].append(cell)\n",
        "\n",
        "    os.makedirs(os.path.dirname(dst), exist_ok=True)\n",
        "    save_nb(nb_new, dst)\n",
        "    return dst"
      ]
    },
    {
      "cell_type": "markdown",
      "id": "e1f93687ae1c9e74",
      "metadata": {},
      "source": [
        ":::{eval-rst}\n",
        ".. autofunction:: sax.make_docs.list_notebooks\n",
        ":::\n"
      ]
    },
    {
      "cell_type": "markdown",
      "id": "8075f8672a720a41",
      "metadata": {},
      "source": [
        ":::{eval-rst}\n",
        ".. autofunction:: sax.make_docs.list_zips\n",
        ":::\n"
      ]
    },
    {
      "cell_type": "code",
      "execution_count": 15,
      "id": "3788eacb8fc73616",
      "metadata": {
        "execution": {
          "iopub.execute_input": "2022-08-04T05:47:50.871248Z",
          "iopub.status.busy": "2022-08-04T05:47:50.870722Z",
          "iopub.status.idle": "2022-08-04T05:47:50.872013Z",
          "shell.execute_reply": "2022-08-04T05:47:50.872429Z"
        },
        "papermill": {
          "duration": 0.020622,
          "end_time": "2022-08-04T05:47:50.872575",
          "exception": false,
          "start_time": "2022-08-04T05:47:50.851953",
          "status": "completed"
        },
        "tags": [
          "hide-input"
        ]
      },
      "outputs": [],
      "source": [
        "def list_notebooks(dir):\n",
        "    return glob.glob(os.path.join(dir, \"**/*.ipynb\"), recursive=True)\n",
        "\n",
        "def list_zips(dir):\n",
        "    return glob.glob(os.path.join(dir, \"**/*.zip\"), recursive=True)"
      ]
    },
    {
      "cell_type": "markdown",
      "id": "c169a71cf3b3fc93",
      "metadata": {},
      "source": [
        ":::{eval-rst}\n",
        ".. autofunction:: sax.make_docs.docs_copy_dir\n",
        ":::\n"
      ]
    },
    {
      "cell_type": "code",
      "execution_count": 16,
      "id": "35c8389645ae00b6",
      "metadata": {
        "execution": {
          "iopub.execute_input": "2022-08-04T05:47:50.906687Z",
          "iopub.status.busy": "2022-08-04T05:47:50.906104Z",
          "iopub.status.idle": "2022-08-04T05:47:50.908442Z",
          "shell.execute_reply": "2022-08-04T05:47:50.908040Z"
        },
        "papermill": {
          "duration": 0.022253,
          "end_time": "2022-08-04T05:47:50.908562",
          "exception": false,
          "start_time": "2022-08-04T05:47:50.886309",
          "status": "completed"
        },
        "tags": [
          "hide-input"
        ]
      },
      "outputs": [],
      "source": [
        "def docs_copy_dir(relpath):\n",
        "    main_src = repository_path(relpath)\n",
        "    for src in list_notebooks(main_src):\n",
        "        rel = os.path.relpath(src, repository_path())\n",
        "        docs_copy_nb(rel)\n",
        "    for src in list_zips(main_src):\n",
        "        rel = os.path.relpath(src, repository_path())\n",
        "        dst = docs_path(\"_build\", \"html\", rel, not_exist_ok=True)\n",
        "        os.makedirs(os.path.dirname(dst), exist_ok=True)\n",
        "        shutil.copy2(src, dst)"
      ]
    },
    {
      "cell_type": "markdown",
      "id": "230f43dbdc762154",
      "metadata": {},
      "source": [
        ":::{eval-rst}\n",
        ".. autofunction:: sax.make_docs.docs_copy_simulations\n",
        ":::\n"
      ]
    },
    {
      "cell_type": "code",
      "execution_count": 17,
      "id": "958559cd8594de15",
      "metadata": {
        "execution": {
          "iopub.execute_input": "2022-08-04T05:47:50.943812Z",
          "iopub.status.busy": "2022-08-04T05:47:50.943280Z",
          "iopub.status.idle": "2022-08-04T05:47:50.945309Z",
          "shell.execute_reply": "2022-08-04T05:47:50.944873Z"
        },
        "papermill": {
          "duration": 0.022832,
          "end_time": "2022-08-04T05:47:50.945427",
          "exception": false,
          "start_time": "2022-08-04T05:47:50.922595",
          "status": "completed"
        },
        "tags": [
          "hide-input"
        ]
      },
      "outputs": [],
      "source": [
        "def docs_copy_simulations():\n",
        "    with_results, without_results = {}, {}\n",
        "    for fn in os.listdir(simulations_path()):\n",
        "        sim, ext = os.path.splitext(fn)\n",
        "        if ext != \".ipynb\":\n",
        "            continue\n",
        "        try:\n",
        "            with_results[sim] = get_nominal_result(sim)\n",
        "        except FileNotFoundError:\n",
        "            without_results[sim] = {'hash': None, 'params': get_default_params(simulations_path(f\"{sim}.ipynb\"))}\n",
        "        except ValueError:\n",
        "            without_results[sim] = {'hash': None, 'params': get_default_params(simulations_path(f\"{sim}.ipynb\"))}\n",
        "            #raise\n",
        "        \n",
        "    for k, r in with_results.items():\n",
        "        docs_copy_nb(f\"results/{k}/{r['hash']}/_simulated.ipynb\", f\"simulations/{k}.ipynb\")\n",
        "        \n",
        "    for k, r in without_results.items():\n",
        "        docs_copy_nb(f\"simulations/{k}.ipynb\", f\"simulations/{k}.ipynb\")\n",
        "        \n",
        "    shutil.copytree(simulations_path(\"img\"), docs_path(\"_build\", \"html\", \"simulations\", \"img\", not_exist_ok=True), dirs_exist_ok=True)\n",
        "    return with_results, without_results"
      ]
    },
    {
      "cell_type": "markdown",
      "id": "1c036dbbc236acbb",
      "metadata": {},
      "source": [
        ":::{eval-rst}\n",
        ".. autofunction:: sax.make_docs.get_toc_part\n",
        ":::\n"
      ]
    },
    {
      "cell_type": "code",
      "execution_count": 18,
      "id": "09aae6d248deda0a",
      "metadata": {
        "execution": {
          "iopub.execute_input": "2022-08-04T05:47:50.978988Z",
          "iopub.status.busy": "2022-08-04T05:47:50.978425Z",
          "iopub.status.idle": "2022-08-04T05:47:50.980934Z",
          "shell.execute_reply": "2022-08-04T05:47:50.980534Z"
        },
        "papermill": {
          "duration": 0.021707,
          "end_time": "2022-08-04T05:47:50.981049",
          "exception": false,
          "start_time": "2022-08-04T05:47:50.959342",
          "status": "completed"
        },
        "tags": [
          "hide-input"
        ]
      },
      "outputs": [],
      "source": [
        "def get_toc_part(toc, caption):\n",
        "    parts = [p for p in toc[\"parts\"] if caption == p[\"caption\"]]\n",
        "    try:\n",
        "        return parts[0]\n",
        "    except IndexError:\n",
        "        raise ValueError(f\"No TOC part with caption {caption!r} found.\")"
      ]
    },
    {
      "cell_type": "markdown",
      "id": "038735ac21f2959a",
      "metadata": {},
      "source": [
        ":::{eval-rst}\n",
        ".. autofunction:: sax.make_docs.make_docs\n",
        ":::\n"
      ]
    },
    {
      "cell_type": "code",
      "execution_count": 19,
      "id": "3d198ce818b05daf",
      "metadata": {
        "execution": {
          "iopub.execute_input": "2022-08-04T05:47:51.015178Z",
          "iopub.status.busy": "2022-08-04T05:47:51.014652Z",
          "iopub.status.idle": "2022-08-04T05:47:51.015703Z",
          "shell.execute_reply": "2022-08-04T05:47:51.016214Z"
        },
        "papermill": {
          "duration": 0.02142,
          "end_time": "2022-08-04T05:47:51.016362",
          "exception": false,
          "start_time": "2022-08-04T05:47:50.994942",
          "status": "completed"
        },
        "tags": [
          "hide-input"
        ]
      },
      "outputs": [],
      "source": [
        "def make_docs():\n",
        "    docs_copy_nb(\"index.ipynb\")\n",
        "    docs_copy_dir(\"nbs\")\n",
        "    docs_copy_dir(\"examples\")\n",
        "    os.chdir(docs_path())\n",
        "    subprocess.check_call([sys.executable.replace(\"python\", \"jupyter-book\"), \"build\", \".\"])"
      ]
    },
    {
      "cell_type": "code",
      "execution_count": 20,
      "id": "4855415d0ff3aa63",
      "metadata": {
        "execution": {
          "iopub.execute_input": "2022-08-04T05:47:51.049288Z",
          "iopub.status.busy": "2022-08-04T05:47:51.048766Z",
          "iopub.status.idle": "2022-08-04T05:47:51.050555Z",
          "shell.execute_reply": "2022-08-04T05:47:51.051039Z"
        },
        "papermill": {
          "duration": 0.020625,
          "end_time": "2022-08-04T05:47:51.051179",
          "exception": false,
          "start_time": "2022-08-04T05:47:51.030554",
          "status": "completed"
        },
        "tags": [
          "hide-input"
        ]
      },
      "outputs": [],
      "source": [
        "if __name__ == '__main__' and not IN_IPYTHON:\n",
        "    make_docs()"
      ]
    }
  ],
  "metadata": {
    "kernelspec": {
      "display_name": "sax",
      "language": "python",
      "name": "sax"
    },
    "language_info": {
      "codemirror_mode": {
        "name": "ipython",
        "version": 3
      },
      "file_extension": ".py",
      "mimetype": "text/x-python",
      "name": "python",
      "nbconvert_exporter": "python",
      "pygments_lexer": "ipython3",
      "version": "3.9.0"
    },
    "papermill": {
      "default_parameters": {},
      "duration": 3.451201,
      "end_time": "2022-08-04T05:47:52.230131",
      "environment_variables": {},
      "exception": null,
      "input_path": "./nbs/98_make_docs.ipynb",
      "output_path": "./nbs/98_make_docs.ipynb",
      "parameters": {},
      "start_time": "2022-08-04T05:47:48.778930",
      "version": "2.3.4"
    }
  },
  "nbformat": 4,
  "nbformat_minor": 5
}
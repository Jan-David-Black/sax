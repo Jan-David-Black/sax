{
  "cells": [
    {
      "cell_type": "code",
      "execution_count": 1,
      "id": "ab1378b18d1f2c3a",
      "metadata": {
        "execution": {
          "iopub.execute_input": "2022-08-07T05:29:54.521592Z",
          "iopub.status.busy": "2022-08-07T05:29:54.521149Z",
          "iopub.status.idle": "2022-08-07T05:29:54.524135Z",
          "shell.execute_reply": "2022-08-07T05:29:54.523688Z"
        },
        "papermill": {
          "duration": 0.02097,
          "end_time": "2022-08-07T05:29:54.524251",
          "exception": false,
          "start_time": "2022-08-07T05:29:54.503281",
          "status": "completed"
        },
        "tags": [
          "remove-cell"
        ]
      },
      "outputs": [],
      "source": []
    },
    {
      "cell_type": "markdown",
      "id": "7f878cbc-3e90-4ceb-8633-79250de6d6b8",
      "metadata": {
        "papermill": {
          "duration": 0.010484,
          "end_time": "2022-08-07T05:29:54.545901",
          "exception": false,
          "start_time": "2022-08-07T05:29:54.535417",
          "status": "completed"
        },
        "tags": []
      },
      "source": [
        "# SAX make docs\n",
        "> CLI: build jupyter-books based docs"
      ]
    },
    {
      "cell_type": "code",
      "execution_count": 2,
      "id": "1d0964359df582bb",
      "metadata": {
        "execution": {
          "iopub.execute_input": "2022-08-07T05:29:54.574565Z",
          "iopub.status.busy": "2022-08-07T05:29:54.573168Z",
          "iopub.status.idle": "2022-08-07T05:29:54.577573Z",
          "shell.execute_reply": "2022-08-07T05:29:54.577213Z"
        },
        "papermill": {
          "duration": 0.021223,
          "end_time": "2022-08-07T05:29:54.577663",
          "exception": false,
          "start_time": "2022-08-07T05:29:54.556440",
          "status": "completed"
        },
        "tags": [
          "remove-cell"
        ]
      },
      "outputs": [],
      "source": [
        "import glob\n",
        "import json\n",
        "import os\n",
        "import re\n",
        "import secrets\n",
        "import shutil\n",
        "import subprocess\n",
        "import sys\n",
        "from typing import Dict, Union\n",
        "\n",
        "from fastcore.imports import IN_IPYTHON"
      ]
    },
    {
      "cell_type": "code",
      "execution_count": 3,
      "id": "6cbe4298002735aa",
      "metadata": {
        "execution": {
          "iopub.execute_input": "2022-08-07T05:29:54.602784Z",
          "iopub.status.busy": "2022-08-07T05:29:54.602364Z",
          "iopub.status.idle": "2022-08-07T05:29:54.604320Z",
          "shell.execute_reply": "2022-08-07T05:29:54.603989Z"
        },
        "papermill": {
          "duration": 0.016054,
          "end_time": "2022-08-07T05:29:54.604411",
          "exception": false,
          "start_time": "2022-08-07T05:29:54.588357",
          "status": "completed"
        },
        "tags": [
          "hide-input"
        ]
      },
      "outputs": [],
      "source": [
        "MAGIC_COMMENTS = {\n",
        "    \"default_exp\": \"remove-cell\",\n",
        "    \"exporti\": \"remove-cell\",\n",
        "    \"export\": \"hide-input\",\n",
        "    \"exports\": None,\n",
        "    \"hide\": \"remove-cell\",\n",
        "    \"hide_input\": \"remove-input\",\n",
        "    \"hide_output\": \"remove-output\",\n",
        "    \"collapse_input\": \"hide-input\",\n",
        "    \"collapse_output\": \"hide-output\",\n",
        "}"
      ]
    },
    {
      "cell_type": "code",
      "execution_count": 4,
      "id": "b31114585c393433",
      "metadata": {
        "execution": {
          "iopub.execute_input": "2022-08-07T05:29:54.629032Z",
          "iopub.status.busy": "2022-08-07T05:29:54.628602Z",
          "iopub.status.idle": "2022-08-07T05:29:54.630183Z",
          "shell.execute_reply": "2022-08-07T05:29:54.630538Z"
        },
        "papermill": {
          "duration": 0.015669,
          "end_time": "2022-08-07T05:29:54.630646",
          "exception": false,
          "start_time": "2022-08-07T05:29:54.614977",
          "status": "completed"
        },
        "tags": [
          "hide-input"
        ]
      },
      "outputs": [],
      "source": [
        "if IN_IPYTHON:\n",
        "    ROOT = os.path.abspath('..')\n",
        "else:\n",
        "    ROOT = os.path.abspath('.')"
      ]
    },
    {
      "cell_type": "markdown",
      "id": "b81bab5c1213a55a",
      "metadata": {},
      "source": [
        ":::{eval-rst}\n",
        ".. autofunction:: sax.make_docs.load_nb\n",
        ":::\n"
      ]
    },
    {
      "cell_type": "code",
      "execution_count": 5,
      "id": "c3fe399d9ccedd4d",
      "metadata": {
        "execution": {
          "iopub.execute_input": "2022-08-07T05:29:54.656544Z",
          "iopub.status.busy": "2022-08-07T05:29:54.656121Z",
          "iopub.status.idle": "2022-08-07T05:29:54.657934Z",
          "shell.execute_reply": "2022-08-07T05:29:54.657580Z"
        },
        "papermill": {
          "duration": 0.016342,
          "end_time": "2022-08-07T05:29:54.658020",
          "exception": false,
          "start_time": "2022-08-07T05:29:54.641678",
          "status": "completed"
        },
        "tags": [
          "hide-input"
        ]
      },
      "outputs": [],
      "source": [
        "def load_nb(path: str) -> Dict:\n",
        "    \"\"\" load a jupyter notebook as dictionary\n",
        "\n",
        "    Args:\n",
        "        path: the path of the notebook to load\n",
        "\n",
        "    Returns:\n",
        "        the notebook represented as a dictionary\n",
        "    \"\"\"\n",
        "    with open(path, \"r\") as file:\n",
        "        nb = json.load(file)\n",
        "    return nb"
      ]
    },
    {
      "cell_type": "markdown",
      "id": "456535a7ccf69de3",
      "metadata": {},
      "source": [
        ":::{eval-rst}\n",
        ".. autofunction:: sax.make_docs.repository_path\n",
        ":::\n"
      ]
    },
    {
      "cell_type": "code",
      "execution_count": 6,
      "id": "80ae06ab9e089ee8",
      "metadata": {
        "execution": {
          "iopub.execute_input": "2022-08-07T05:29:54.685155Z",
          "iopub.status.busy": "2022-08-07T05:29:54.684726Z",
          "iopub.status.idle": "2022-08-07T05:29:54.686577Z",
          "shell.execute_reply": "2022-08-07T05:29:54.686882Z"
        },
        "papermill": {
          "duration": 0.01817,
          "end_time": "2022-08-07T05:29:54.686989",
          "exception": false,
          "start_time": "2022-08-07T05:29:54.668819",
          "status": "completed"
        },
        "tags": [
          "hide-input"
        ]
      },
      "outputs": [],
      "source": [
        "def repository_path(*path_parts: str, not_exist_ok: bool=False) -> str:\n",
        "    \"\"\" Get and validate a path in the modelbuild repository\n",
        "\n",
        "    Args:\n",
        "        *path_parts: the path parts that will be joined together\n",
        "            relative to the root of the repository.\n",
        "        not_exist_ok: skip validation if True\n",
        "\n",
        "    Returns:\n",
        "        the absolute path of the referenced file.\n",
        "    \"\"\"\n",
        "    if not (os.path.exists(path:=os.path.join(ROOT, \"docs\"))):\n",
        "        raise FileNotFoundError(f\"docs path {path!r} not found!\")\n",
        "    if not (os.path.exists(path:=os.path.join(ROOT, \"nbs\"))):\n",
        "        raise FileNotFoundError(f\"nbs path {path!r} not found!\")\n",
        "    if not (os.path.exists(path:=os.path.join(ROOT, \"sax\"))):\n",
        "        raise FileNotFoundError(f\"sax path {path!r} not found!\")\n",
        "\n",
        "    path = os.path.join(ROOT, *path_parts)\n",
        "    if not not_exist_ok and not os.path.exists(path):\n",
        "        raise FileNotFoundError(f\"Path {path!r} does not exist.\")\n",
        "\n",
        "    return path"
      ]
    },
    {
      "cell_type": "markdown",
      "id": "b5454618671ce5f1",
      "metadata": {},
      "source": [
        ":::{eval-rst}\n",
        ".. autofunction:: sax.make_docs.docs_path\n",
        ":::\n"
      ]
    },
    {
      "cell_type": "code",
      "execution_count": 7,
      "id": "c9c7eeee130680ee",
      "metadata": {
        "execution": {
          "iopub.execute_input": "2022-08-07T05:29:54.712252Z",
          "iopub.status.busy": "2022-08-07T05:29:54.711828Z",
          "iopub.status.idle": "2022-08-07T05:29:54.713778Z",
          "shell.execute_reply": "2022-08-07T05:29:54.713421Z"
        },
        "papermill": {
          "duration": 0.016021,
          "end_time": "2022-08-07T05:29:54.713866",
          "exception": false,
          "start_time": "2022-08-07T05:29:54.697845",
          "status": "completed"
        },
        "tags": [
          "hide-input"
        ]
      },
      "outputs": [],
      "source": [
        "def docs_path(*path_parts: str, not_exist_ok: bool=False) -> str:\n",
        "    return repository_path('docs', *path_parts, not_exist_ok=not_exist_ok)"
      ]
    },
    {
      "cell_type": "markdown",
      "id": "99fbf2bf60490cc9",
      "metadata": {},
      "source": [
        ":::{eval-rst}\n",
        ".. autofunction:: sax.make_docs.save_nb\n",
        ":::\n"
      ]
    },
    {
      "cell_type": "code",
      "execution_count": 8,
      "id": "46d34109730986c5",
      "metadata": {
        "execution": {
          "iopub.execute_input": "2022-08-07T05:29:54.740684Z",
          "iopub.status.busy": "2022-08-07T05:29:54.740228Z",
          "iopub.status.idle": "2022-08-07T05:29:54.742284Z",
          "shell.execute_reply": "2022-08-07T05:29:54.742639Z"
        },
        "papermill": {
          "duration": 0.017739,
          "end_time": "2022-08-07T05:29:54.742752",
          "exception": false,
          "start_time": "2022-08-07T05:29:54.725013",
          "status": "completed"
        },
        "tags": [
          "hide-input"
        ]
      },
      "outputs": [],
      "source": [
        "def save_nb(nb: Dict, path: str) -> str:\n",
        "    \"\"\" save a dictionary as a jupyter notebook\n",
        "\n",
        "    Args:\n",
        "        nb: the dictionary to convert into an ipynb file\n",
        "        path: the path to save the notebook under\n",
        "\n",
        "    Returns:\n",
        "        the path where the notebook was saved.\n",
        "    \"\"\"\n",
        "    path = os.path.abspath(path)\n",
        "    os.makedirs(os.path.dirname(path), exist_ok=True)\n",
        "    with open(path, \"w\") as file:\n",
        "        json.dump(nb, file, indent=2)\n",
        "    return path"
      ]
    },
    {
      "cell_type": "markdown",
      "id": "fc64001af1bd7c48",
      "metadata": {},
      "source": [
        ":::{eval-rst}\n",
        ".. autofunction:: sax.make_docs.strip_metadata\n",
        ":::\n"
      ]
    },
    {
      "cell_type": "code",
      "execution_count": 9,
      "id": "862bf8de8d365629",
      "metadata": {
        "execution": {
          "iopub.execute_input": "2022-08-07T05:29:54.769757Z",
          "iopub.status.busy": "2022-08-07T05:29:54.769340Z",
          "iopub.status.idle": "2022-08-07T05:29:54.770993Z",
          "shell.execute_reply": "2022-08-07T05:29:54.771321Z"
        },
        "papermill": {
          "duration": 0.017371,
          "end_time": "2022-08-07T05:29:54.771432",
          "exception": false,
          "start_time": "2022-08-07T05:29:54.754061",
          "status": "completed"
        },
        "tags": [
          "hide-input"
        ]
      },
      "outputs": [],
      "source": [
        "def strip_metadata(nb: Union[Dict, str]) -> Union[Dict,str]:\n",
        "    path = ''\n",
        "    if isinstance(nb, str):\n",
        "        path = nb\n",
        "        nb = load_nb(nb)\n",
        "    for cell in nb['cells']:\n",
        "        if not 'metadata' in cell:\n",
        "            continue\n",
        "        cell['metadata'] = {}\n",
        "    if path:\n",
        "        return save_nb(nb, path)\n",
        "    return path"
      ]
    },
    {
      "cell_type": "code",
      "execution_count": 10,
      "id": "7ccaff58a83ca38c",
      "metadata": {
        "execution": {
          "iopub.execute_input": "2022-08-07T05:29:54.796025Z",
          "iopub.status.busy": "2022-08-07T05:29:54.795607Z",
          "iopub.status.idle": "2022-08-07T05:29:54.798891Z",
          "shell.execute_reply": "2022-08-07T05:29:54.799195Z"
        },
        "papermill": {
          "duration": 0.016711,
          "end_time": "2022-08-07T05:29:54.799304",
          "exception": false,
          "start_time": "2022-08-07T05:29:54.782593",
          "status": "completed"
        },
        "tags": [
          "remove-cell"
        ]
      },
      "outputs": [],
      "source": [
        "def iter_code_cells(nb):\n",
        "    for cell in nb.get('cells', []):\n",
        "        if not cell.get(\"cell_type\", \"\") == \"code\":\n",
        "            continue\n",
        "        yield cell"
      ]
    },
    {
      "cell_type": "code",
      "execution_count": 11,
      "id": "5a59bf00335a6778",
      "metadata": {
        "execution": {
          "iopub.execute_input": "2022-08-07T05:29:54.825246Z",
          "iopub.status.busy": "2022-08-07T05:29:54.824828Z",
          "iopub.status.idle": "2022-08-07T05:29:54.826786Z",
          "shell.execute_reply": "2022-08-07T05:29:54.826456Z"
        },
        "papermill": {
          "duration": 0.016362,
          "end_time": "2022-08-07T05:29:54.826876",
          "exception": false,
          "start_time": "2022-08-07T05:29:54.810514",
          "status": "completed"
        },
        "tags": [
          "remove-cell"
        ]
      },
      "outputs": [],
      "source": [
        "def first_code_cell(nb):\n",
        "    try:\n",
        "        return next(iter_code_cells(nb))\n",
        "    except StopIteration:\n",
        "        return None"
      ]
    },
    {
      "cell_type": "code",
      "execution_count": 12,
      "id": "464c9bf68694354b",
      "metadata": {
        "execution": {
          "iopub.execute_input": "2022-08-07T05:29:54.853463Z",
          "iopub.status.busy": "2022-08-07T05:29:54.853044Z",
          "iopub.status.idle": "2022-08-07T05:29:54.855172Z",
          "shell.execute_reply": "2022-08-07T05:29:54.854839Z"
        },
        "papermill": {
          "duration": 0.017035,
          "end_time": "2022-08-07T05:29:54.855260",
          "exception": false,
          "start_time": "2022-08-07T05:29:54.838225",
          "status": "completed"
        },
        "tags": [
          "remove-cell"
        ]
      },
      "outputs": [],
      "source": [
        "def get_default_exp(nb):\n",
        "    first_cell = first_code_cell(nb) or {}\n",
        "    first_source = first_cell.get('source', [])\n",
        "    first_line = \"\" if not first_source else first_source[0]\n",
        "    default_exp = first_line.split(\"default_exp\")[-1].strip()\n",
        "    return default_exp"
      ]
    },
    {
      "cell_type": "code",
      "execution_count": 13,
      "id": "3f0080155a3734b3",
      "metadata": {
        "execution": {
          "iopub.execute_input": "2022-08-07T05:29:54.882776Z",
          "iopub.status.busy": "2022-08-07T05:29:54.882344Z",
          "iopub.status.idle": "2022-08-07T05:29:54.883995Z",
          "shell.execute_reply": "2022-08-07T05:29:54.884346Z"
        },
        "papermill": {
          "duration": 0.017492,
          "end_time": "2022-08-07T05:29:54.884456",
          "exception": false,
          "start_time": "2022-08-07T05:29:54.866964",
          "status": "completed"
        },
        "tags": [
          "remove-cell"
        ]
      },
      "outputs": [],
      "source": [
        "def iter_function_names(source):\n",
        "    for line in source:\n",
        "        if not line.startswith(\"def \"):\n",
        "            continue\n",
        "        if line.startswith(\"def _\"):\n",
        "            continue\n",
        "        yield line.split(\"def \")[1].split(\"(\")[0]"
      ]
    },
    {
      "cell_type": "markdown",
      "id": "16dfec28f98dae5a",
      "metadata": {},
      "source": [
        ":::{eval-rst}\n",
        ".. autofunction:: sax.make_docs.docs_copy_nb\n",
        ":::\n"
      ]
    },
    {
      "cell_type": "code",
      "execution_count": 14,
      "id": "6febc119bc25e596",
      "metadata": {
        "execution": {
          "iopub.execute_input": "2022-08-07T05:29:54.909795Z",
          "iopub.status.busy": "2022-08-07T05:29:54.909362Z",
          "iopub.status.idle": "2022-08-07T05:29:54.918676Z",
          "shell.execute_reply": "2022-08-07T05:29:54.919031Z"
        },
        "papermill": {
          "duration": 0.023082,
          "end_time": "2022-08-07T05:29:54.919143",
          "exception": false,
          "start_time": "2022-08-07T05:29:54.896061",
          "status": "completed"
        },
        "tags": [
          "hide-input"
        ]
      },
      "outputs": [],
      "source": [
        "def docs_copy_nb(relpath, docsrelpath=None):\n",
        "    \"\"\"copy a single notebook from src to dst with modified docs metadata.\"\"\"\n",
        "    src = repository_path(relpath)\n",
        "    dst = docs_path((docsrelpath or relpath), not_exist_ok=True)\n",
        "    nb = load_nb(src)\n",
        "    nb_new = {**nb}\n",
        "    nb_new[\"cells\"] = []\n",
        "    module = get_default_exp(nb)\n",
        "\n",
        "    for cell in nb.get('cells', []):\n",
        "        if not cell.get(\"cell_type\", \"\") == \"code\":\n",
        "            nb_new[\"cells\"].append(cell)\n",
        "            continue\n",
        "            \n",
        "        cell_tags = cell.get(\"metadata\", {}).get(\"tags\", [])\n",
        "        source = cell.get(\"source\") or [\"\"]\n",
        "        line = source[0].strip()\n",
        "        \n",
        "        if not line.startswith(\"#\"):\n",
        "            nb_new[\"cells\"].append(cell)\n",
        "            continue\n",
        "            \n",
        "        keys = [k.strip() for k in line.split(\" \")]\n",
        "        keys = [k for k in keys if k in MAGIC_COMMENTS]\n",
        "        if keys:\n",
        "            del source[0]\n",
        "        for key in keys:\n",
        "            tag = MAGIC_COMMENTS[key]\n",
        "            if tag:\n",
        "                cell_tags.append(tag)\n",
        "        if len(cell_tags) > 0:\n",
        "            cell[\"metadata\"][\"tags\"] = cell_tags\n",
        "\n",
        "        if not 'remove-cell' in cell_tags:\n",
        "            for function_name in iter_function_names(source):\n",
        "                extra_cell = {\n",
        "                    \"cell_type\": \"markdown\",\n",
        "                    \"id\": secrets.token_hex(8),\n",
        "                    \"metadata\": {},\n",
        "                    \"source\": [\n",
        "                        \":::{eval-rst}\\n\",\n",
        "                        f\".. autofunction:: sax.{module}.{function_name}\\n\",\n",
        "                        \":::\\n\"\n",
        "                    ],\n",
        "                }\n",
        "                nb_new[\"cells\"].append(extra_cell)\n",
        "\n",
        "        cell[\"id\"] = secrets.token_hex(8)\n",
        "        nb_new[\"cells\"].append(cell)\n",
        "\n",
        "    os.makedirs(os.path.dirname(dst), exist_ok=True)\n",
        "    save_nb(nb_new, dst)\n",
        "    return dst"
      ]
    },
    {
      "cell_type": "markdown",
      "id": "7a2aaa0afd14a496",
      "metadata": {},
      "source": [
        ":::{eval-rst}\n",
        ".. autofunction:: sax.make_docs.list_notebooks\n",
        ":::\n"
      ]
    },
    {
      "cell_type": "markdown",
      "id": "32e32f4c35c9f573",
      "metadata": {},
      "source": [
        ":::{eval-rst}\n",
        ".. autofunction:: sax.make_docs.list_zips\n",
        ":::\n"
      ]
    },
    {
      "cell_type": "code",
      "execution_count": 15,
      "id": "4ff20645d0855c85",
      "metadata": {
        "execution": {
          "iopub.execute_input": "2022-08-07T05:29:54.945881Z",
          "iopub.status.busy": "2022-08-07T05:29:54.945466Z",
          "iopub.status.idle": "2022-08-07T05:29:54.947569Z",
          "shell.execute_reply": "2022-08-07T05:29:54.947216Z"
        },
        "papermill": {
          "duration": 0.016968,
          "end_time": "2022-08-07T05:29:54.947656",
          "exception": false,
          "start_time": "2022-08-07T05:29:54.930688",
          "status": "completed"
        },
        "tags": [
          "hide-input"
        ]
      },
      "outputs": [],
      "source": [
        "def list_notebooks(dir):\n",
        "    return glob.glob(os.path.join(dir, \"**/*.ipynb\"), recursive=True)\n",
        "\n",
        "def list_zips(dir):\n",
        "    return glob.glob(os.path.join(dir, \"**/*.zip\"), recursive=True)"
      ]
    },
    {
      "cell_type": "markdown",
      "id": "e65c65c9d6fecde2",
      "metadata": {},
      "source": [
        ":::{eval-rst}\n",
        ".. autofunction:: sax.make_docs.docs_copy_dir\n",
        ":::\n"
      ]
    },
    {
      "cell_type": "code",
      "execution_count": 16,
      "id": "ff1bc8a7f48d0b07",
      "metadata": {
        "execution": {
          "iopub.execute_input": "2022-08-07T05:29:54.975474Z",
          "iopub.status.busy": "2022-08-07T05:29:54.975060Z",
          "iopub.status.idle": "2022-08-07T05:29:54.977088Z",
          "shell.execute_reply": "2022-08-07T05:29:54.976752Z"
        },
        "papermill": {
          "duration": 0.01798,
          "end_time": "2022-08-07T05:29:54.977176",
          "exception": false,
          "start_time": "2022-08-07T05:29:54.959196",
          "status": "completed"
        },
        "tags": [
          "hide-input"
        ]
      },
      "outputs": [],
      "source": [
        "def docs_copy_dir(relpath):\n",
        "    main_src = repository_path(relpath)\n",
        "    for src in list_notebooks(main_src):\n",
        "        rel = os.path.relpath(src, repository_path())\n",
        "        docs_copy_nb(rel)\n",
        "    for src in list_zips(main_src):\n",
        "        rel = os.path.relpath(src, repository_path())\n",
        "        dst = docs_path(\"_build\", \"html\", rel, not_exist_ok=True)\n",
        "        os.makedirs(os.path.dirname(dst), exist_ok=True)\n",
        "        shutil.copy2(src, dst)"
      ]
    },
    {
      "cell_type": "markdown",
      "id": "ef9f486515518e07",
      "metadata": {},
      "source": [
        ":::{eval-rst}\n",
        ".. autofunction:: sax.make_docs.docs_copy_simulations\n",
        ":::\n"
      ]
    },
    {
      "cell_type": "code",
      "execution_count": 17,
      "id": "85f0aeb19306fad9",
      "metadata": {
        "execution": {
          "iopub.execute_input": "2022-08-07T05:29:55.006344Z",
          "iopub.status.busy": "2022-08-07T05:29:55.005911Z",
          "iopub.status.idle": "2022-08-07T05:29:55.007564Z",
          "shell.execute_reply": "2022-08-07T05:29:55.007896Z"
        },
        "papermill": {
          "duration": 0.019079,
          "end_time": "2022-08-07T05:29:55.007998",
          "exception": false,
          "start_time": "2022-08-07T05:29:54.988919",
          "status": "completed"
        },
        "tags": [
          "hide-input"
        ]
      },
      "outputs": [],
      "source": [
        "def docs_copy_simulations():\n",
        "    with_results, without_results = {}, {}\n",
        "    for fn in os.listdir(simulations_path()):\n",
        "        sim, ext = os.path.splitext(fn)\n",
        "        if ext != \".ipynb\":\n",
        "            continue\n",
        "        try:\n",
        "            with_results[sim] = get_nominal_result(sim)\n",
        "        except FileNotFoundError:\n",
        "            without_results[sim] = {'hash': None, 'params': get_default_params(simulations_path(f\"{sim}.ipynb\"))}\n",
        "        except ValueError:\n",
        "            without_results[sim] = {'hash': None, 'params': get_default_params(simulations_path(f\"{sim}.ipynb\"))}\n",
        "            #raise\n",
        "        \n",
        "    for k, r in with_results.items():\n",
        "        docs_copy_nb(f\"results/{k}/{r['hash']}/_simulated.ipynb\", f\"simulations/{k}.ipynb\")\n",
        "        \n",
        "    for k, r in without_results.items():\n",
        "        docs_copy_nb(f\"simulations/{k}.ipynb\", f\"simulations/{k}.ipynb\")\n",
        "        \n",
        "    shutil.copytree(simulations_path(\"img\"), docs_path(\"_build\", \"html\", \"simulations\", \"img\", not_exist_ok=True), dirs_exist_ok=True)\n",
        "    return with_results, without_results"
      ]
    },
    {
      "cell_type": "markdown",
      "id": "594b7ebd58657a87",
      "metadata": {},
      "source": [
        ":::{eval-rst}\n",
        ".. autofunction:: sax.make_docs.get_toc_part\n",
        ":::\n"
      ]
    },
    {
      "cell_type": "code",
      "execution_count": 18,
      "id": "70861ad490bb308b",
      "metadata": {
        "execution": {
          "iopub.execute_input": "2022-08-07T05:29:55.035602Z",
          "iopub.status.busy": "2022-08-07T05:29:55.035183Z",
          "iopub.status.idle": "2022-08-07T05:29:55.036843Z",
          "shell.execute_reply": "2022-08-07T05:29:55.037183Z"
        },
        "papermill": {
          "duration": 0.017499,
          "end_time": "2022-08-07T05:29:55.037289",
          "exception": false,
          "start_time": "2022-08-07T05:29:55.019790",
          "status": "completed"
        },
        "tags": [
          "hide-input"
        ]
      },
      "outputs": [],
      "source": [
        "def get_toc_part(toc, caption):\n",
        "    parts = [p for p in toc[\"parts\"] if caption == p[\"caption\"]]\n",
        "    try:\n",
        "        return parts[0]\n",
        "    except IndexError:\n",
        "        raise ValueError(f\"No TOC part with caption {caption!r} found.\")"
      ]
    },
    {
      "cell_type": "markdown",
      "id": "4f8c1af84dca40e9",
      "metadata": {},
      "source": [
        ":::{eval-rst}\n",
        ".. autofunction:: sax.make_docs.make_docs\n",
        ":::\n"
      ]
    },
    {
      "cell_type": "code",
      "execution_count": 19,
      "id": "6071990318daaba3",
      "metadata": {
        "execution": {
          "iopub.execute_input": "2022-08-07T05:29:55.064985Z",
          "iopub.status.busy": "2022-08-07T05:29:55.064510Z",
          "iopub.status.idle": "2022-08-07T05:29:55.066185Z",
          "shell.execute_reply": "2022-08-07T05:29:55.066491Z"
        },
        "papermill": {
          "duration": 0.017401,
          "end_time": "2022-08-07T05:29:55.066599",
          "exception": false,
          "start_time": "2022-08-07T05:29:55.049198",
          "status": "completed"
        },
        "tags": [
          "hide-input"
        ]
      },
      "outputs": [],
      "source": [
        "def make_docs():\n",
        "    docs_copy_nb(\"index.ipynb\")\n",
        "    docs_copy_dir(\"nbs\")\n",
        "    docs_copy_dir(\"examples\")\n",
        "    os.chdir(docs_path())\n",
        "    subprocess.check_call([sys.executable.replace(\"python\", \"jupyter-book\"), \"build\", \".\"])"
      ]
    },
    {
      "cell_type": "code",
      "execution_count": 20,
      "id": "c4e440c0205debf9",
      "metadata": {
        "execution": {
          "iopub.execute_input": "2022-08-07T05:29:55.093849Z",
          "iopub.status.busy": "2022-08-07T05:29:55.093433Z",
          "iopub.status.idle": "2022-08-07T05:29:55.095092Z",
          "shell.execute_reply": "2022-08-07T05:29:55.095424Z"
        },
        "papermill": {
          "duration": 0.016954,
          "end_time": "2022-08-07T05:29:55.095527",
          "exception": false,
          "start_time": "2022-08-07T05:29:55.078573",
          "status": "completed"
        },
        "tags": [
          "hide-input"
        ]
      },
      "outputs": [],
      "source": [
        "if __name__ == '__main__' and not IN_IPYTHON:\n",
        "    make_docs()"
      ]
    }
  ],
  "metadata": {
    "kernelspec": {
      "display_name": "sax",
      "language": "python",
      "name": "sax"
    },
    "language_info": {
      "codemirror_mode": {
        "name": "ipython",
        "version": 3
      },
      "file_extension": ".py",
      "mimetype": "text/x-python",
      "name": "python",
      "nbconvert_exporter": "python",
      "pygments_lexer": "ipython3",
      "version": "3.9.0"
    },
    "papermill": {
      "default_parameters": {},
      "duration": 1.947132,
      "end_time": "2022-08-07T05:29:55.314648",
      "environment_variables": {},
      "exception": null,
      "input_path": "./nbs/98_make_docs.ipynb",
      "output_path": "./nbs/98_make_docs.ipynb",
      "parameters": {},
      "start_time": "2022-08-07T05:29:53.367516",
      "version": "2.3.4"
    }
  },
  "nbformat": 4,
  "nbformat_minor": 5
}
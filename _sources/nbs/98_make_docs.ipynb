{
  "cells": [
    {
      "cell_type": "code",
      "execution_count": 1,
      "id": "587498f8940c3329",
      "metadata": {
        "execution": {
          "iopub.execute_input": "2022-08-10T14:57:16.593538Z",
          "iopub.status.busy": "2022-08-10T14:57:16.593109Z",
          "iopub.status.idle": "2022-08-10T14:57:16.595359Z",
          "shell.execute_reply": "2022-08-10T14:57:16.594948Z"
        },
        "papermill": {
          "duration": 0.019064,
          "end_time": "2022-08-10T14:57:16.595471",
          "exception": false,
          "start_time": "2022-08-10T14:57:16.576407",
          "status": "completed"
        },
        "tags": [
          "remove-cell"
        ]
      },
      "outputs": [],
      "source": []
    },
    {
      "cell_type": "markdown",
      "id": "7f878cbc-3e90-4ceb-8633-79250de6d6b8",
      "metadata": {
        "papermill": {
          "duration": 0.011058,
          "end_time": "2022-08-10T14:57:16.618260",
          "exception": false,
          "start_time": "2022-08-10T14:57:16.607202",
          "status": "completed"
        },
        "tags": []
      },
      "source": [
        "# SAX make docs\n",
        "> CLI: build jupyter-books based docs"
      ]
    },
    {
      "cell_type": "code",
      "execution_count": 2,
      "id": "8ea6b07ebc3e0a94",
      "metadata": {
        "execution": {
          "iopub.execute_input": "2022-08-10T14:57:16.647837Z",
          "iopub.status.busy": "2022-08-10T14:57:16.647417Z",
          "iopub.status.idle": "2022-08-10T14:57:16.650532Z",
          "shell.execute_reply": "2022-08-10T14:57:16.650121Z"
        },
        "papermill": {
          "duration": 0.021318,
          "end_time": "2022-08-10T14:57:16.650624",
          "exception": false,
          "start_time": "2022-08-10T14:57:16.629306",
          "status": "completed"
        },
        "tags": [
          "remove-cell"
        ]
      },
      "outputs": [],
      "source": [
        "import glob\n",
        "import json\n",
        "import os\n",
        "import re\n",
        "import secrets\n",
        "import shutil\n",
        "import subprocess\n",
        "import sys\n",
        "from typing import Dict, Union\n",
        "\n",
        "from fastcore.imports import IN_IPYTHON"
      ]
    },
    {
      "cell_type": "code",
      "execution_count": 3,
      "id": "450a3947a9a59e9e",
      "metadata": {
        "execution": {
          "iopub.execute_input": "2022-08-10T14:57:16.676653Z",
          "iopub.status.busy": "2022-08-10T14:57:16.676226Z",
          "iopub.status.idle": "2022-08-10T14:57:16.677791Z",
          "shell.execute_reply": "2022-08-10T14:57:16.677448Z"
        },
        "papermill": {
          "duration": 0.016159,
          "end_time": "2022-08-10T14:57:16.677881",
          "exception": false,
          "start_time": "2022-08-10T14:57:16.661722",
          "status": "completed"
        },
        "tags": [
          "hide-input"
        ]
      },
      "outputs": [],
      "source": [
        "MAGIC_COMMENTS = {\n",
        "    \"default_exp\": \"remove-cell\",\n",
        "    \"exporti\": \"remove-cell\",\n",
        "    \"export\": \"hide-input\",\n",
        "    \"exports\": None,\n",
        "    \"hide\": \"remove-cell\",\n",
        "    \"hide_input\": \"remove-input\",\n",
        "    \"hide_output\": \"remove-output\",\n",
        "    \"collapse_input\": \"hide-input\",\n",
        "    \"collapse_output\": \"hide-output\",\n",
        "}"
      ]
    },
    {
      "cell_type": "code",
      "execution_count": 4,
      "id": "4d42f86cc9bdb913",
      "metadata": {
        "execution": {
          "iopub.execute_input": "2022-08-10T14:57:16.703518Z",
          "iopub.status.busy": "2022-08-10T14:57:16.703113Z",
          "iopub.status.idle": "2022-08-10T14:57:16.704462Z",
          "shell.execute_reply": "2022-08-10T14:57:16.704758Z"
        },
        "papermill": {
          "duration": 0.015886,
          "end_time": "2022-08-10T14:57:16.704869",
          "exception": false,
          "start_time": "2022-08-10T14:57:16.688983",
          "status": "completed"
        },
        "tags": [
          "hide-input"
        ]
      },
      "outputs": [],
      "source": [
        "if IN_IPYTHON:\n",
        "    ROOT = os.path.abspath('..')\n",
        "else:\n",
        "    ROOT = os.path.abspath('.')"
      ]
    },
    {
      "cell_type": "markdown",
      "id": "968434a3ee691cdc",
      "metadata": {},
      "source": [
        ":::{eval-rst}\n",
        ".. autofunction:: sax.make_docs.load_nb\n",
        ":::\n"
      ]
    },
    {
      "cell_type": "code",
      "execution_count": 5,
      "id": "31fa84c165e7c13f",
      "metadata": {
        "execution": {
          "iopub.execute_input": "2022-08-10T14:57:16.731571Z",
          "iopub.status.busy": "2022-08-10T14:57:16.731145Z",
          "iopub.status.idle": "2022-08-10T14:57:16.732777Z",
          "shell.execute_reply": "2022-08-10T14:57:16.732426Z"
        },
        "papermill": {
          "duration": 0.016615,
          "end_time": "2022-08-10T14:57:16.732869",
          "exception": false,
          "start_time": "2022-08-10T14:57:16.716254",
          "status": "completed"
        },
        "tags": [
          "hide-input"
        ]
      },
      "outputs": [],
      "source": [
        "def load_nb(path: str) -> Dict:\n",
        "    \"\"\" load a jupyter notebook as dictionary\n",
        "\n",
        "    Args:\n",
        "        path: the path of the notebook to load\n",
        "\n",
        "    Returns:\n",
        "        the notebook represented as a dictionary\n",
        "    \"\"\"\n",
        "    with open(path, \"r\") as file:\n",
        "        nb = json.load(file)\n",
        "    return nb"
      ]
    },
    {
      "cell_type": "markdown",
      "id": "38da0adc366b9b42",
      "metadata": {},
      "source": [
        ":::{eval-rst}\n",
        ".. autofunction:: sax.make_docs.repository_path\n",
        ":::\n"
      ]
    },
    {
      "cell_type": "code",
      "execution_count": 6,
      "id": "4eca533d1c8a72b6",
      "metadata": {
        "execution": {
          "iopub.execute_input": "2022-08-10T14:57:16.761292Z",
          "iopub.status.busy": "2022-08-10T14:57:16.760858Z",
          "iopub.status.idle": "2022-08-10T14:57:16.762707Z",
          "shell.execute_reply": "2022-08-10T14:57:16.762361Z"
        },
        "papermill": {
          "duration": 0.0185,
          "end_time": "2022-08-10T14:57:16.762803",
          "exception": false,
          "start_time": "2022-08-10T14:57:16.744303",
          "status": "completed"
        },
        "tags": [
          "hide-input"
        ]
      },
      "outputs": [],
      "source": [
        "def repository_path(*path_parts: str, not_exist_ok: bool=False) -> str:\n",
        "    \"\"\" Get and validate a path in the modelbuild repository\n",
        "\n",
        "    Args:\n",
        "        *path_parts: the path parts that will be joined together\n",
        "            relative to the root of the repository.\n",
        "        not_exist_ok: skip validation if True\n",
        "\n",
        "    Returns:\n",
        "        the absolute path of the referenced file.\n",
        "    \"\"\"\n",
        "    if not (os.path.exists(path:=os.path.join(ROOT, \"docs\"))):\n",
        "        raise FileNotFoundError(f\"docs path {path!r} not found!\")\n",
        "    if not (os.path.exists(path:=os.path.join(ROOT, \"nbs\"))):\n",
        "        raise FileNotFoundError(f\"nbs path {path!r} not found!\")\n",
        "    if not (os.path.exists(path:=os.path.join(ROOT, \"sax\"))):\n",
        "        raise FileNotFoundError(f\"sax path {path!r} not found!\")\n",
        "\n",
        "    path = os.path.join(ROOT, *path_parts)\n",
        "    if not not_exist_ok and not os.path.exists(path):\n",
        "        raise FileNotFoundError(f\"Path {path!r} does not exist.\")\n",
        "\n",
        "    return path"
      ]
    },
    {
      "cell_type": "markdown",
      "id": "cc53234c1629770d",
      "metadata": {},
      "source": [
        ":::{eval-rst}\n",
        ".. autofunction:: sax.make_docs.docs_path\n",
        ":::\n"
      ]
    },
    {
      "cell_type": "code",
      "execution_count": 7,
      "id": "e5223282defef3ef",
      "metadata": {
        "execution": {
          "iopub.execute_input": "2022-08-10T14:57:16.789330Z",
          "iopub.status.busy": "2022-08-10T14:57:16.788914Z",
          "iopub.status.idle": "2022-08-10T14:57:16.790700Z",
          "shell.execute_reply": "2022-08-10T14:57:16.790327Z"
        },
        "papermill": {
          "duration": 0.016528,
          "end_time": "2022-08-10T14:57:16.790792",
          "exception": false,
          "start_time": "2022-08-10T14:57:16.774264",
          "status": "completed"
        },
        "tags": [
          "hide-input"
        ]
      },
      "outputs": [],
      "source": [
        "def docs_path(*path_parts: str, not_exist_ok: bool=False) -> str:\n",
        "    return repository_path('docs', *path_parts, not_exist_ok=not_exist_ok)"
      ]
    },
    {
      "cell_type": "markdown",
      "id": "e3db85d2cdf42cc2",
      "metadata": {},
      "source": [
        ":::{eval-rst}\n",
        ".. autofunction:: sax.make_docs.save_nb\n",
        ":::\n"
      ]
    },
    {
      "cell_type": "code",
      "execution_count": 8,
      "id": "6894f97bc071ad56",
      "metadata": {
        "execution": {
          "iopub.execute_input": "2022-08-10T14:57:16.818427Z",
          "iopub.status.busy": "2022-08-10T14:57:16.818010Z",
          "iopub.status.idle": "2022-08-10T14:57:16.819493Z",
          "shell.execute_reply": "2022-08-10T14:57:16.819812Z"
        },
        "papermill": {
          "duration": 0.017489,
          "end_time": "2022-08-10T14:57:16.819925",
          "exception": false,
          "start_time": "2022-08-10T14:57:16.802436",
          "status": "completed"
        },
        "tags": [
          "hide-input"
        ]
      },
      "outputs": [],
      "source": [
        "def save_nb(nb: Dict, path: str) -> str:\n",
        "    \"\"\" save a dictionary as a jupyter notebook\n",
        "\n",
        "    Args:\n",
        "        nb: the dictionary to convert into an ipynb file\n",
        "        path: the path to save the notebook under\n",
        "\n",
        "    Returns:\n",
        "        the path where the notebook was saved.\n",
        "    \"\"\"\n",
        "    path = os.path.abspath(path)\n",
        "    os.makedirs(os.path.dirname(path), exist_ok=True)\n",
        "    with open(path, \"w\") as file:\n",
        "        json.dump(nb, file, indent=2)\n",
        "    return path"
      ]
    },
    {
      "cell_type": "markdown",
      "id": "4b5f86ab2ba61c31",
      "metadata": {},
      "source": [
        ":::{eval-rst}\n",
        ".. autofunction:: sax.make_docs.strip_metadata\n",
        ":::\n"
      ]
    },
    {
      "cell_type": "code",
      "execution_count": 9,
      "id": "c58984227cb4f160",
      "metadata": {
        "execution": {
          "iopub.execute_input": "2022-08-10T14:57:16.845916Z",
          "iopub.status.busy": "2022-08-10T14:57:16.845501Z",
          "iopub.status.idle": "2022-08-10T14:57:16.849506Z",
          "shell.execute_reply": "2022-08-10T14:57:16.849838Z"
        },
        "papermill": {
          "duration": 0.018063,
          "end_time": "2022-08-10T14:57:16.849960",
          "exception": false,
          "start_time": "2022-08-10T14:57:16.831897",
          "status": "completed"
        },
        "tags": [
          "hide-input"
        ]
      },
      "outputs": [],
      "source": [
        "def strip_metadata(nb: Union[Dict, str]) -> Union[Dict,str]:\n",
        "    path = ''\n",
        "    if isinstance(nb, str):\n",
        "        path = nb\n",
        "        nb = load_nb(nb)\n",
        "    for cell in nb['cells']:\n",
        "        if not 'metadata' in cell:\n",
        "            continue\n",
        "        cell['metadata'] = {}\n",
        "    if path:\n",
        "        return save_nb(nb, path)\n",
        "    return path"
      ]
    },
    {
      "cell_type": "code",
      "execution_count": 10,
      "id": "13753a4b1e7959d7",
      "metadata": {
        "execution": {
          "iopub.execute_input": "2022-08-10T14:57:16.877474Z",
          "iopub.status.busy": "2022-08-10T14:57:16.877045Z",
          "iopub.status.idle": "2022-08-10T14:57:16.878922Z",
          "shell.execute_reply": "2022-08-10T14:57:16.878504Z"
        },
        "papermill": {
          "duration": 0.017246,
          "end_time": "2022-08-10T14:57:16.879018",
          "exception": false,
          "start_time": "2022-08-10T14:57:16.861772",
          "status": "completed"
        },
        "tags": [
          "remove-cell"
        ]
      },
      "outputs": [],
      "source": [
        "def iter_code_cells(nb):\n",
        "    for cell in nb.get('cells', []):\n",
        "        if not cell.get(\"cell_type\", \"\") == \"code\":\n",
        "            continue\n",
        "        yield cell"
      ]
    },
    {
      "cell_type": "code",
      "execution_count": 11,
      "id": "3d02e52cfa58441e",
      "metadata": {
        "execution": {
          "iopub.execute_input": "2022-08-10T14:57:16.904936Z",
          "iopub.status.busy": "2022-08-10T14:57:16.904537Z",
          "iopub.status.idle": "2022-08-10T14:57:16.907764Z",
          "shell.execute_reply": "2022-08-10T14:57:16.907421Z"
        },
        "papermill": {
          "duration": 0.016999,
          "end_time": "2022-08-10T14:57:16.907861",
          "exception": false,
          "start_time": "2022-08-10T14:57:16.890862",
          "status": "completed"
        },
        "tags": [
          "remove-cell"
        ]
      },
      "outputs": [],
      "source": [
        "def first_code_cell(nb):\n",
        "    try:\n",
        "        return next(iter_code_cells(nb))\n",
        "    except StopIteration:\n",
        "        return None"
      ]
    },
    {
      "cell_type": "code",
      "execution_count": 12,
      "id": "56bf4bf0cf54ce9e",
      "metadata": {
        "execution": {
          "iopub.execute_input": "2022-08-10T14:57:16.935765Z",
          "iopub.status.busy": "2022-08-10T14:57:16.935353Z",
          "iopub.status.idle": "2022-08-10T14:57:16.937186Z",
          "shell.execute_reply": "2022-08-10T14:57:16.936848Z"
        },
        "papermill": {
          "duration": 0.017434,
          "end_time": "2022-08-10T14:57:16.937280",
          "exception": false,
          "start_time": "2022-08-10T14:57:16.919846",
          "status": "completed"
        },
        "tags": [
          "remove-cell"
        ]
      },
      "outputs": [],
      "source": [
        "def get_default_exp(nb):\n",
        "    first_cell = first_code_cell(nb) or {}\n",
        "    first_source = first_cell.get('source', [])\n",
        "    first_line = \"\" if not first_source else first_source[0]\n",
        "    default_exp = first_line.split(\"default_exp\")[-1].strip()\n",
        "    return default_exp"
      ]
    },
    {
      "cell_type": "code",
      "execution_count": 13,
      "id": "82da14adafcfd4ae",
      "metadata": {
        "execution": {
          "iopub.execute_input": "2022-08-10T14:57:16.965246Z",
          "iopub.status.busy": "2022-08-10T14:57:16.964827Z",
          "iopub.status.idle": "2022-08-10T14:57:16.966514Z",
          "shell.execute_reply": "2022-08-10T14:57:16.966187Z"
        },
        "papermill": {
          "duration": 0.017222,
          "end_time": "2022-08-10T14:57:16.966608",
          "exception": false,
          "start_time": "2022-08-10T14:57:16.949386",
          "status": "completed"
        },
        "tags": [
          "remove-cell"
        ]
      },
      "outputs": [],
      "source": [
        "def iter_function_names(source):\n",
        "    for line in source:\n",
        "        if not line.startswith(\"def \"):\n",
        "            continue\n",
        "        if line.startswith(\"def _\"):\n",
        "            continue\n",
        "        yield line.split(\"def \")[1].split(\"(\")[0]"
      ]
    },
    {
      "cell_type": "markdown",
      "id": "ae02bf4040c3db35",
      "metadata": {},
      "source": [
        ":::{eval-rst}\n",
        ".. autofunction:: sax.make_docs.docs_copy_nb\n",
        ":::\n"
      ]
    },
    {
      "cell_type": "code",
      "execution_count": 14,
      "id": "74d36c672dc94d61",
      "metadata": {
        "execution": {
          "iopub.execute_input": "2022-08-10T14:57:16.999005Z",
          "iopub.status.busy": "2022-08-10T14:57:16.998534Z",
          "iopub.status.idle": "2022-08-10T14:57:17.000142Z",
          "shell.execute_reply": "2022-08-10T14:57:17.000452Z"
        },
        "papermill": {
          "duration": 0.021894,
          "end_time": "2022-08-10T14:57:17.000571",
          "exception": false,
          "start_time": "2022-08-10T14:57:16.978677",
          "status": "completed"
        },
        "tags": [
          "hide-input"
        ]
      },
      "outputs": [],
      "source": [
        "def docs_copy_nb(relpath, docsrelpath=None):\n",
        "    \"\"\"copy a single notebook from src to dst with modified docs metadata.\"\"\"\n",
        "    src = repository_path(relpath)\n",
        "    dst = docs_path((docsrelpath or relpath), not_exist_ok=True)\n",
        "    nb = load_nb(src)\n",
        "    nb_new = {**nb}\n",
        "    nb_new[\"cells\"] = []\n",
        "    module = get_default_exp(nb)\n",
        "\n",
        "    for cell in nb.get('cells', []):\n",
        "        if not cell.get(\"cell_type\", \"\") == \"code\":\n",
        "            nb_new[\"cells\"].append(cell)\n",
        "            continue\n",
        "            \n",
        "        cell_tags = cell.get(\"metadata\", {}).get(\"tags\", [])\n",
        "        source = cell.get(\"source\") or [\"\"]\n",
        "        line = source[0].strip()\n",
        "        \n",
        "        if not line.startswith(\"#\"):\n",
        "            nb_new[\"cells\"].append(cell)\n",
        "            continue\n",
        "            \n",
        "        keys = [k.strip() for k in line.split(\" \")]\n",
        "        keys = [k for k in keys if k in MAGIC_COMMENTS]\n",
        "        if keys:\n",
        "            del source[0]\n",
        "        for key in keys:\n",
        "            tag = MAGIC_COMMENTS[key]\n",
        "            if tag:\n",
        "                cell_tags.append(tag)\n",
        "        if len(cell_tags) > 0:\n",
        "            cell[\"metadata\"][\"tags\"] = cell_tags\n",
        "\n",
        "        if not 'remove-cell' in cell_tags:\n",
        "            for function_name in iter_function_names(source):\n",
        "                extra_cell = {\n",
        "                    \"cell_type\": \"markdown\",\n",
        "                    \"id\": secrets.token_hex(8),\n",
        "                    \"metadata\": {},\n",
        "                    \"source\": [\n",
        "                        \":::{eval-rst}\\n\",\n",
        "                        f\".. autofunction:: sax.{module}.{function_name}\\n\",\n",
        "                        \":::\\n\"\n",
        "                    ],\n",
        "                }\n",
        "                nb_new[\"cells\"].append(extra_cell)\n",
        "\n",
        "        cell[\"id\"] = secrets.token_hex(8)\n",
        "        nb_new[\"cells\"].append(cell)\n",
        "\n",
        "    os.makedirs(os.path.dirname(dst), exist_ok=True)\n",
        "    save_nb(nb_new, dst)\n",
        "    return dst"
      ]
    },
    {
      "cell_type": "markdown",
      "id": "334e474a14d96295",
      "metadata": {},
      "source": [
        ":::{eval-rst}\n",
        ".. autofunction:: sax.make_docs.list_notebooks\n",
        ":::\n"
      ]
    },
    {
      "cell_type": "markdown",
      "id": "0f84ad2c94523806",
      "metadata": {},
      "source": [
        ":::{eval-rst}\n",
        ".. autofunction:: sax.make_docs.list_zips\n",
        ":::\n"
      ]
    },
    {
      "cell_type": "code",
      "execution_count": 15,
      "id": "d5e95716cda9fbe7",
      "metadata": {
        "execution": {
          "iopub.execute_input": "2022-08-10T14:57:17.028263Z",
          "iopub.status.busy": "2022-08-10T14:57:17.027850Z",
          "iopub.status.idle": "2022-08-10T14:57:17.029612Z",
          "shell.execute_reply": "2022-08-10T14:57:17.029283Z"
        },
        "papermill": {
          "duration": 0.017162,
          "end_time": "2022-08-10T14:57:17.029702",
          "exception": false,
          "start_time": "2022-08-10T14:57:17.012540",
          "status": "completed"
        },
        "tags": [
          "hide-input"
        ]
      },
      "outputs": [],
      "source": [
        "def list_notebooks(dir):\n",
        "    return glob.glob(os.path.join(dir, \"**/*.ipynb\"), recursive=True)\n",
        "\n",
        "def list_zips(dir):\n",
        "    return glob.glob(os.path.join(dir, \"**/*.zip\"), recursive=True)"
      ]
    },
    {
      "cell_type": "markdown",
      "id": "8b1678cd196f972d",
      "metadata": {},
      "source": [
        ":::{eval-rst}\n",
        ".. autofunction:: sax.make_docs.docs_copy_dir\n",
        ":::\n"
      ]
    },
    {
      "cell_type": "code",
      "execution_count": 16,
      "id": "d8ecb33923d552c4",
      "metadata": {
        "execution": {
          "iopub.execute_input": "2022-08-10T14:57:17.058137Z",
          "iopub.status.busy": "2022-08-10T14:57:17.057725Z",
          "iopub.status.idle": "2022-08-10T14:57:17.059510Z",
          "shell.execute_reply": "2022-08-10T14:57:17.059167Z"
        },
        "papermill": {
          "duration": 0.01778,
          "end_time": "2022-08-10T14:57:17.059599",
          "exception": false,
          "start_time": "2022-08-10T14:57:17.041819",
          "status": "completed"
        },
        "tags": [
          "hide-input"
        ]
      },
      "outputs": [],
      "source": [
        "def docs_copy_dir(relpath):\n",
        "    main_src = repository_path(relpath)\n",
        "    for src in list_notebooks(main_src):\n",
        "        rel = os.path.relpath(src, repository_path())\n",
        "        docs_copy_nb(rel)\n",
        "    for src in list_zips(main_src):\n",
        "        rel = os.path.relpath(src, repository_path())\n",
        "        dst = docs_path(\"_build\", \"html\", rel, not_exist_ok=True)\n",
        "        os.makedirs(os.path.dirname(dst), exist_ok=True)\n",
        "        shutil.copy2(src, dst)"
      ]
    },
    {
      "cell_type": "markdown",
      "id": "b8017a85ca1b1ebf",
      "metadata": {},
      "source": [
        ":::{eval-rst}\n",
        ".. autofunction:: sax.make_docs.docs_copy_simulations\n",
        ":::\n"
      ]
    },
    {
      "cell_type": "code",
      "execution_count": 17,
      "id": "1642e559db585094",
      "metadata": {
        "execution": {
          "iopub.execute_input": "2022-08-10T14:57:17.090411Z",
          "iopub.status.busy": "2022-08-10T14:57:17.089969Z",
          "iopub.status.idle": "2022-08-10T14:57:17.091743Z",
          "shell.execute_reply": "2022-08-10T14:57:17.091399Z"
        },
        "papermill": {
          "duration": 0.019856,
          "end_time": "2022-08-10T14:57:17.091830",
          "exception": false,
          "start_time": "2022-08-10T14:57:17.071974",
          "status": "completed"
        },
        "tags": [
          "hide-input"
        ]
      },
      "outputs": [],
      "source": [
        "def docs_copy_simulations():\n",
        "    with_results, without_results = {}, {}\n",
        "    for fn in os.listdir(simulations_path()):\n",
        "        sim, ext = os.path.splitext(fn)\n",
        "        if ext != \".ipynb\":\n",
        "            continue\n",
        "        try:\n",
        "            with_results[sim] = get_nominal_result(sim)\n",
        "        except FileNotFoundError:\n",
        "            without_results[sim] = {'hash': None, 'params': get_default_params(simulations_path(f\"{sim}.ipynb\"))}\n",
        "        except ValueError:\n",
        "            without_results[sim] = {'hash': None, 'params': get_default_params(simulations_path(f\"{sim}.ipynb\"))}\n",
        "            #raise\n",
        "        \n",
        "    for k, r in with_results.items():\n",
        "        docs_copy_nb(f\"results/{k}/{r['hash']}/_simulated.ipynb\", f\"simulations/{k}.ipynb\")\n",
        "        \n",
        "    for k, r in without_results.items():\n",
        "        docs_copy_nb(f\"simulations/{k}.ipynb\", f\"simulations/{k}.ipynb\")\n",
        "        \n",
        "    shutil.copytree(simulations_path(\"img\"), docs_path(\"_build\", \"html\", \"simulations\", \"img\", not_exist_ok=True), dirs_exist_ok=True)\n",
        "    return with_results, without_results"
      ]
    },
    {
      "cell_type": "markdown",
      "id": "e855b68568ea5066",
      "metadata": {},
      "source": [
        ":::{eval-rst}\n",
        ".. autofunction:: sax.make_docs.get_toc_part\n",
        ":::\n"
      ]
    },
    {
      "cell_type": "code",
      "execution_count": 18,
      "id": "1434445f6ac05b85",
      "metadata": {
        "execution": {
          "iopub.execute_input": "2022-08-10T14:57:17.119906Z",
          "iopub.status.busy": "2022-08-10T14:57:17.119490Z",
          "iopub.status.idle": "2022-08-10T14:57:17.121244Z",
          "shell.execute_reply": "2022-08-10T14:57:17.120906Z"
        },
        "papermill": {
          "duration": 0.017278,
          "end_time": "2022-08-10T14:57:17.121331",
          "exception": false,
          "start_time": "2022-08-10T14:57:17.104053",
          "status": "completed"
        },
        "tags": [
          "hide-input"
        ]
      },
      "outputs": [],
      "source": [
        "def get_toc_part(toc, caption):\n",
        "    parts = [p for p in toc[\"parts\"] if caption == p[\"caption\"]]\n",
        "    try:\n",
        "        return parts[0]\n",
        "    except IndexError:\n",
        "        raise ValueError(f\"No TOC part with caption {caption!r} found.\")"
      ]
    },
    {
      "cell_type": "markdown",
      "id": "61d82b73e0df2226",
      "metadata": {},
      "source": [
        ":::{eval-rst}\n",
        ".. autofunction:: sax.make_docs.make_docs\n",
        ":::\n"
      ]
    },
    {
      "cell_type": "code",
      "execution_count": 19,
      "id": "64c1c7fbebd8f9c9",
      "metadata": {
        "execution": {
          "iopub.execute_input": "2022-08-10T14:57:17.149363Z",
          "iopub.status.busy": "2022-08-10T14:57:17.148948Z",
          "iopub.status.idle": "2022-08-10T14:57:17.150778Z",
          "shell.execute_reply": "2022-08-10T14:57:17.150433Z"
        },
        "papermill": {
          "duration": 0.017242,
          "end_time": "2022-08-10T14:57:17.150868",
          "exception": false,
          "start_time": "2022-08-10T14:57:17.133626",
          "status": "completed"
        },
        "tags": [
          "hide-input"
        ]
      },
      "outputs": [],
      "source": [
        "def make_docs():\n",
        "    docs_copy_nb(\"index.ipynb\")\n",
        "    docs_copy_dir(\"nbs\")\n",
        "    docs_copy_dir(\"examples\")\n",
        "    os.chdir(docs_path())\n",
        "    subprocess.check_call([sys.executable.replace(\"python\", \"jupyter-book\"), \"build\", \".\"])"
      ]
    },
    {
      "cell_type": "code",
      "execution_count": 20,
      "id": "26ec0abf564c79e9",
      "metadata": {
        "execution": {
          "iopub.execute_input": "2022-08-10T14:57:17.178920Z",
          "iopub.status.busy": "2022-08-10T14:57:17.178480Z",
          "iopub.status.idle": "2022-08-10T14:57:17.179869Z",
          "shell.execute_reply": "2022-08-10T14:57:17.180177Z"
        },
        "papermill": {
          "duration": 0.017,
          "end_time": "2022-08-10T14:57:17.180280",
          "exception": false,
          "start_time": "2022-08-10T14:57:17.163280",
          "status": "completed"
        },
        "tags": [
          "hide-input"
        ]
      },
      "outputs": [],
      "source": [
        "if __name__ == '__main__' and not IN_IPYTHON:\n",
        "    make_docs()"
      ]
    }
  ],
  "metadata": {
    "kernelspec": {
      "display_name": "sax",
      "language": "python",
      "name": "sax"
    },
    "language_info": {
      "codemirror_mode": {
        "name": "ipython",
        "version": 3
      },
      "file_extension": ".py",
      "mimetype": "text/x-python",
      "name": "python",
      "nbconvert_exporter": "python",
      "pygments_lexer": "ipython3",
      "version": "3.9.0"
    },
    "papermill": {
      "default_parameters": {},
      "duration": 1.842869,
      "end_time": "2022-08-10T14:57:17.297965",
      "environment_variables": {},
      "exception": null,
      "input_path": "./nbs/98_make_docs.ipynb",
      "output_path": "./nbs/98_make_docs.ipynb",
      "parameters": {},
      "start_time": "2022-08-10T14:57:15.455096",
      "version": "2.3.4"
    }
  },
  "nbformat": 4,
  "nbformat_minor": 5
}
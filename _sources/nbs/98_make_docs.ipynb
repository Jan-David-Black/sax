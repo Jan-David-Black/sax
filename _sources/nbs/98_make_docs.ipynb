{
  "cells": [
    {
      "cell_type": "code",
      "execution_count": 1,
      "id": "ec0de55a9b2c9446",
      "metadata": {
        "execution": {
          "iopub.execute_input": "2022-08-10T16:00:44.195038Z",
          "iopub.status.busy": "2022-08-10T16:00:44.194588Z",
          "iopub.status.idle": "2022-08-10T16:00:44.197537Z",
          "shell.execute_reply": "2022-08-10T16:00:44.197120Z"
        },
        "papermill": {
          "duration": 0.019205,
          "end_time": "2022-08-10T16:00:44.197658",
          "exception": false,
          "start_time": "2022-08-10T16:00:44.178453",
          "status": "completed"
        },
        "tags": [
          "remove-cell"
        ]
      },
      "outputs": [],
      "source": []
    },
    {
      "cell_type": "markdown",
      "id": "7f878cbc-3e90-4ceb-8633-79250de6d6b8",
      "metadata": {
        "papermill": {
          "duration": 0.010491,
          "end_time": "2022-08-10T16:00:44.219186",
          "exception": false,
          "start_time": "2022-08-10T16:00:44.208695",
          "status": "completed"
        },
        "tags": []
      },
      "source": [
        "# SAX make docs\n",
        "> CLI: build jupyter-books based docs"
      ]
    },
    {
      "cell_type": "code",
      "execution_count": 2,
      "id": "ea1fdd6922104589",
      "metadata": {
        "execution": {
          "iopub.execute_input": "2022-08-10T16:00:44.249555Z",
          "iopub.status.busy": "2022-08-10T16:00:44.249119Z",
          "iopub.status.idle": "2022-08-10T16:00:44.252604Z",
          "shell.execute_reply": "2022-08-10T16:00:44.252236Z"
        },
        "papermill": {
          "duration": 0.023079,
          "end_time": "2022-08-10T16:00:44.252706",
          "exception": false,
          "start_time": "2022-08-10T16:00:44.229627",
          "status": "completed"
        },
        "tags": [
          "remove-cell"
        ]
      },
      "outputs": [],
      "source": [
        "from __future__ import annotations\n",
        "\n",
        "import glob\n",
        "import json\n",
        "import os\n",
        "import re\n",
        "import secrets\n",
        "import shutil\n",
        "import subprocess\n",
        "import sys\n",
        "from typing import Dict, Union\n",
        "\n",
        "from fastcore.imports import IN_IPYTHON"
      ]
    },
    {
      "cell_type": "code",
      "execution_count": 3,
      "id": "f3b8b03c4345df9b",
      "metadata": {
        "execution": {
          "iopub.execute_input": "2022-08-10T16:00:44.278175Z",
          "iopub.status.busy": "2022-08-10T16:00:44.277747Z",
          "iopub.status.idle": "2022-08-10T16:00:44.279983Z",
          "shell.execute_reply": "2022-08-10T16:00:44.279613Z"
        },
        "papermill": {
          "duration": 0.016906,
          "end_time": "2022-08-10T16:00:44.280090",
          "exception": false,
          "start_time": "2022-08-10T16:00:44.263184",
          "status": "completed"
        },
        "tags": [
          "hide-input"
        ]
      },
      "outputs": [],
      "source": [
        "MAGIC_COMMENTS = {\n",
        "    \"default_exp\": \"remove-cell\",\n",
        "    \"exporti\": \"remove-cell\",\n",
        "    \"export\": \"hide-input\",\n",
        "    \"exports\": None,\n",
        "    \"hide\": \"remove-cell\",\n",
        "    \"hide_input\": \"remove-input\",\n",
        "    \"hide_output\": \"remove-output\",\n",
        "    \"collapse_input\": \"hide-input\",\n",
        "    \"collapse_output\": \"hide-output\",\n",
        "}"
      ]
    },
    {
      "cell_type": "code",
      "execution_count": 4,
      "id": "6e56d79f8a75d8de",
      "metadata": {
        "execution": {
          "iopub.execute_input": "2022-08-10T16:00:44.305100Z",
          "iopub.status.busy": "2022-08-10T16:00:44.304676Z",
          "iopub.status.idle": "2022-08-10T16:00:44.306630Z",
          "shell.execute_reply": "2022-08-10T16:00:44.306270Z"
        },
        "papermill": {
          "duration": 0.016172,
          "end_time": "2022-08-10T16:00:44.306728",
          "exception": false,
          "start_time": "2022-08-10T16:00:44.290556",
          "status": "completed"
        },
        "tags": [
          "hide-input"
        ]
      },
      "outputs": [],
      "source": [
        "if IN_IPYTHON:\n",
        "    ROOT = os.path.abspath('..')\n",
        "else:\n",
        "    ROOT = os.path.abspath('.')"
      ]
    },
    {
      "cell_type": "markdown",
      "id": "9d49b8db7ea75e0d",
      "metadata": {},
      "source": [
        ":::{eval-rst}\n",
        ".. autofunction:: sax.make_docs.load_nb\n",
        ":::\n"
      ]
    },
    {
      "cell_type": "code",
      "execution_count": 5,
      "id": "bf01579a61540e4d",
      "metadata": {
        "execution": {
          "iopub.execute_input": "2022-08-10T16:00:44.330545Z",
          "iopub.status.busy": "2022-08-10T16:00:44.330123Z",
          "iopub.status.idle": "2022-08-10T16:00:44.333883Z",
          "shell.execute_reply": "2022-08-10T16:00:44.333526Z"
        },
        "papermill": {
          "duration": 0.016515,
          "end_time": "2022-08-10T16:00:44.333975",
          "exception": false,
          "start_time": "2022-08-10T16:00:44.317460",
          "status": "completed"
        },
        "tags": [
          "hide-input"
        ]
      },
      "outputs": [],
      "source": [
        "def load_nb(path: str) -> Dict:\n",
        "    \"\"\" load a jupyter notebook as dictionary\n",
        "\n",
        "    Args:\n",
        "        path: the path of the notebook to load\n",
        "\n",
        "    Returns:\n",
        "        the notebook represented as a dictionary\n",
        "    \"\"\"\n",
        "    with open(path, \"r\") as file:\n",
        "        nb = json.load(file)\n",
        "    return nb"
      ]
    },
    {
      "cell_type": "markdown",
      "id": "35883d62f5fc267a",
      "metadata": {},
      "source": [
        ":::{eval-rst}\n",
        ".. autofunction:: sax.make_docs.repository_path\n",
        ":::\n"
      ]
    },
    {
      "cell_type": "code",
      "execution_count": 6,
      "id": "3788b5cbd71965c8",
      "metadata": {
        "execution": {
          "iopub.execute_input": "2022-08-10T16:00:44.360808Z",
          "iopub.status.busy": "2022-08-10T16:00:44.360384Z",
          "iopub.status.idle": "2022-08-10T16:00:44.361967Z",
          "shell.execute_reply": "2022-08-10T16:00:44.362362Z"
        },
        "papermill": {
          "duration": 0.017944,
          "end_time": "2022-08-10T16:00:44.362472",
          "exception": false,
          "start_time": "2022-08-10T16:00:44.344528",
          "status": "completed"
        },
        "tags": [
          "hide-input"
        ]
      },
      "outputs": [],
      "source": [
        "def repository_path(*path_parts: str, not_exist_ok: bool=False) -> str:\n",
        "    \"\"\" Get and validate a path in the modelbuild repository\n",
        "\n",
        "    Args:\n",
        "        *path_parts: the path parts that will be joined together\n",
        "            relative to the root of the repository.\n",
        "        not_exist_ok: skip validation if True\n",
        "\n",
        "    Returns:\n",
        "        the absolute path of the referenced file.\n",
        "    \"\"\"\n",
        "    if not (os.path.exists(path:=os.path.join(ROOT, \"docs\"))):\n",
        "        raise FileNotFoundError(f\"docs path {path!r} not found!\")\n",
        "    if not (os.path.exists(path:=os.path.join(ROOT, \"nbs\"))):\n",
        "        raise FileNotFoundError(f\"nbs path {path!r} not found!\")\n",
        "    if not (os.path.exists(path:=os.path.join(ROOT, \"sax\"))):\n",
        "        raise FileNotFoundError(f\"sax path {path!r} not found!\")\n",
        "\n",
        "    path = os.path.join(ROOT, *path_parts)\n",
        "    if not not_exist_ok and not os.path.exists(path):\n",
        "        raise FileNotFoundError(f\"Path {path!r} does not exist.\")\n",
        "\n",
        "    return path"
      ]
    },
    {
      "cell_type": "markdown",
      "id": "0343f13e0253a729",
      "metadata": {},
      "source": [
        ":::{eval-rst}\n",
        ".. autofunction:: sax.make_docs.docs_path\n",
        ":::\n"
      ]
    },
    {
      "cell_type": "code",
      "execution_count": 7,
      "id": "4aaa030486e6c6e3",
      "metadata": {
        "execution": {
          "iopub.execute_input": "2022-08-10T16:00:44.387263Z",
          "iopub.status.busy": "2022-08-10T16:00:44.386846Z",
          "iopub.status.idle": "2022-08-10T16:00:44.388675Z",
          "shell.execute_reply": "2022-08-10T16:00:44.389028Z"
        },
        "papermill": {
          "duration": 0.01598,
          "end_time": "2022-08-10T16:00:44.389135",
          "exception": false,
          "start_time": "2022-08-10T16:00:44.373155",
          "status": "completed"
        },
        "tags": [
          "hide-input"
        ]
      },
      "outputs": [],
      "source": [
        "def docs_path(*path_parts: str, not_exist_ok: bool=False) -> str:\n",
        "    return repository_path('docs', *path_parts, not_exist_ok=not_exist_ok)"
      ]
    },
    {
      "cell_type": "markdown",
      "id": "37a44a29e006fe50",
      "metadata": {},
      "source": [
        ":::{eval-rst}\n",
        ".. autofunction:: sax.make_docs.save_nb\n",
        ":::\n"
      ]
    },
    {
      "cell_type": "code",
      "execution_count": 8,
      "id": "1c9564691b59e440",
      "metadata": {
        "execution": {
          "iopub.execute_input": "2022-08-10T16:00:44.414653Z",
          "iopub.status.busy": "2022-08-10T16:00:44.414229Z",
          "iopub.status.idle": "2022-08-10T16:00:44.416506Z",
          "shell.execute_reply": "2022-08-10T16:00:44.416137Z"
        },
        "papermill": {
          "duration": 0.016602,
          "end_time": "2022-08-10T16:00:44.416596",
          "exception": false,
          "start_time": "2022-08-10T16:00:44.399994",
          "status": "completed"
        },
        "tags": [
          "hide-input"
        ]
      },
      "outputs": [],
      "source": [
        "def save_nb(nb: Dict, path: str) -> str:\n",
        "    \"\"\" save a dictionary as a jupyter notebook\n",
        "\n",
        "    Args:\n",
        "        nb: the dictionary to convert into an ipynb file\n",
        "        path: the path to save the notebook under\n",
        "\n",
        "    Returns:\n",
        "        the path where the notebook was saved.\n",
        "    \"\"\"\n",
        "    path = os.path.abspath(path)\n",
        "    os.makedirs(os.path.dirname(path), exist_ok=True)\n",
        "    with open(path, \"w\") as file:\n",
        "        json.dump(nb, file, indent=2)\n",
        "    return path"
      ]
    },
    {
      "cell_type": "markdown",
      "id": "2c7bde36bf135ca3",
      "metadata": {},
      "source": [
        ":::{eval-rst}\n",
        ".. autofunction:: sax.make_docs.strip_metadata\n",
        ":::\n"
      ]
    },
    {
      "cell_type": "code",
      "execution_count": 9,
      "id": "b09d67b2090a7c0b",
      "metadata": {
        "execution": {
          "iopub.execute_input": "2022-08-10T16:00:44.442386Z",
          "iopub.status.busy": "2022-08-10T16:00:44.441967Z",
          "iopub.status.idle": "2022-08-10T16:00:44.444014Z",
          "shell.execute_reply": "2022-08-10T16:00:44.443628Z"
        },
        "papermill": {
          "duration": 0.016398,
          "end_time": "2022-08-10T16:00:44.444105",
          "exception": false,
          "start_time": "2022-08-10T16:00:44.427707",
          "status": "completed"
        },
        "tags": [
          "hide-input"
        ]
      },
      "outputs": [],
      "source": [
        "def strip_metadata(nb: Union[Dict, str]) -> Union[Dict,str]:\n",
        "    path = ''\n",
        "    if isinstance(nb, str):\n",
        "        path = nb\n",
        "        nb = load_nb(nb)\n",
        "    for cell in nb['cells']:\n",
        "        if not 'metadata' in cell:\n",
        "            continue\n",
        "        cell['metadata'] = {}\n",
        "    if path:\n",
        "        return save_nb(nb, path)\n",
        "    return path"
      ]
    },
    {
      "cell_type": "code",
      "execution_count": 10,
      "id": "efa542ead9e51861",
      "metadata": {
        "execution": {
          "iopub.execute_input": "2022-08-10T16:00:44.469503Z",
          "iopub.status.busy": "2022-08-10T16:00:44.469088Z",
          "iopub.status.idle": "2022-08-10T16:00:44.470955Z",
          "shell.execute_reply": "2022-08-10T16:00:44.471263Z"
        },
        "papermill": {
          "duration": 0.016384,
          "end_time": "2022-08-10T16:00:44.471373",
          "exception": false,
          "start_time": "2022-08-10T16:00:44.454989",
          "status": "completed"
        },
        "tags": [
          "remove-cell"
        ]
      },
      "outputs": [],
      "source": [
        "def iter_code_cells(nb):\n",
        "    for cell in nb.get('cells', []):\n",
        "        if not cell.get(\"cell_type\", \"\") == \"code\":\n",
        "            continue\n",
        "        yield cell"
      ]
    },
    {
      "cell_type": "code",
      "execution_count": 11,
      "id": "eb205b7a2d776ba9",
      "metadata": {
        "execution": {
          "iopub.execute_input": "2022-08-10T16:00:44.496790Z",
          "iopub.status.busy": "2022-08-10T16:00:44.496373Z",
          "iopub.status.idle": "2022-08-10T16:00:44.498263Z",
          "shell.execute_reply": "2022-08-10T16:00:44.497929Z"
        },
        "papermill": {
          "duration": 0.016006,
          "end_time": "2022-08-10T16:00:44.498356",
          "exception": false,
          "start_time": "2022-08-10T16:00:44.482350",
          "status": "completed"
        },
        "tags": [
          "remove-cell"
        ]
      },
      "outputs": [],
      "source": [
        "def first_code_cell(nb):\n",
        "    try:\n",
        "        return next(iter_code_cells(nb))\n",
        "    except StopIteration:\n",
        "        return None"
      ]
    },
    {
      "cell_type": "code",
      "execution_count": 12,
      "id": "068573c99e7ea124",
      "metadata": {
        "execution": {
          "iopub.execute_input": "2022-08-10T16:00:44.524391Z",
          "iopub.status.busy": "2022-08-10T16:00:44.523966Z",
          "iopub.status.idle": "2022-08-10T16:00:44.525865Z",
          "shell.execute_reply": "2022-08-10T16:00:44.525503Z"
        },
        "papermill": {
          "duration": 0.016628,
          "end_time": "2022-08-10T16:00:44.525955",
          "exception": false,
          "start_time": "2022-08-10T16:00:44.509327",
          "status": "completed"
        },
        "tags": [
          "remove-cell"
        ]
      },
      "outputs": [],
      "source": [
        "def get_default_exp(nb):\n",
        "    first_cell = first_code_cell(nb) or {}\n",
        "    first_source = first_cell.get('source', [])\n",
        "    first_line = \"\" if not first_source else first_source[0]\n",
        "    default_exp = first_line.split(\"default_exp\")[-1].strip()\n",
        "    return default_exp"
      ]
    },
    {
      "cell_type": "code",
      "execution_count": 13,
      "id": "8de8d37eab7169ed",
      "metadata": {
        "execution": {
          "iopub.execute_input": "2022-08-10T16:00:44.551865Z",
          "iopub.status.busy": "2022-08-10T16:00:44.551412Z",
          "iopub.status.idle": "2022-08-10T16:00:44.553164Z",
          "shell.execute_reply": "2022-08-10T16:00:44.553475Z"
        },
        "papermill": {
          "duration": 0.016304,
          "end_time": "2022-08-10T16:00:44.553580",
          "exception": false,
          "start_time": "2022-08-10T16:00:44.537276",
          "status": "completed"
        },
        "tags": [
          "remove-cell"
        ]
      },
      "outputs": [],
      "source": [
        "def iter_function_names(source):\n",
        "    for line in source:\n",
        "        if not line.startswith(\"def \"):\n",
        "            continue\n",
        "        if line.startswith(\"def _\"):\n",
        "            continue\n",
        "        yield line.split(\"def \")[1].split(\"(\")[0]"
      ]
    },
    {
      "cell_type": "markdown",
      "id": "056cbe1a85bd547a",
      "metadata": {},
      "source": [
        ":::{eval-rst}\n",
        ".. autofunction:: sax.make_docs.docs_copy_nb\n",
        ":::\n"
      ]
    },
    {
      "cell_type": "code",
      "execution_count": 14,
      "id": "886271eb8a444853",
      "metadata": {
        "execution": {
          "iopub.execute_input": "2022-08-10T16:00:44.584534Z",
          "iopub.status.busy": "2022-08-10T16:00:44.584097Z",
          "iopub.status.idle": "2022-08-10T16:00:44.586181Z",
          "shell.execute_reply": "2022-08-10T16:00:44.585846Z"
        },
        "papermill": {
          "duration": 0.021285,
          "end_time": "2022-08-10T16:00:44.586270",
          "exception": false,
          "start_time": "2022-08-10T16:00:44.564985",
          "status": "completed"
        },
        "tags": [
          "hide-input"
        ]
      },
      "outputs": [],
      "source": [
        "def docs_copy_nb(relpath, docsrelpath=None):\n",
        "    \"\"\"copy a single notebook from src to dst with modified docs metadata.\"\"\"\n",
        "    src = repository_path(relpath)\n",
        "    dst = docs_path((docsrelpath or relpath), not_exist_ok=True)\n",
        "    nb = load_nb(src)\n",
        "    nb_new = {**nb}\n",
        "    nb_new[\"cells\"] = []\n",
        "    module = get_default_exp(nb)\n",
        "\n",
        "    for cell in nb.get('cells', []):\n",
        "        if not cell.get(\"cell_type\", \"\") == \"code\":\n",
        "            nb_new[\"cells\"].append(cell)\n",
        "            continue\n",
        "            \n",
        "        cell_tags = cell.get(\"metadata\", {}).get(\"tags\", [])\n",
        "        source = cell.get(\"source\") or [\"\"]\n",
        "        line = source[0].strip()\n",
        "        \n",
        "        if not line.startswith(\"#\"):\n",
        "            nb_new[\"cells\"].append(cell)\n",
        "            continue\n",
        "            \n",
        "        keys = [k.strip() for k in line.split(\" \")]\n",
        "        keys = [k for k in keys if k in MAGIC_COMMENTS]\n",
        "        if keys:\n",
        "            del source[0]\n",
        "        for key in keys:\n",
        "            tag = MAGIC_COMMENTS[key]\n",
        "            if tag:\n",
        "                cell_tags.append(tag)\n",
        "        if len(cell_tags) > 0:\n",
        "            cell[\"metadata\"][\"tags\"] = cell_tags\n",
        "\n",
        "        if not 'remove-cell' in cell_tags:\n",
        "            for function_name in iter_function_names(source):\n",
        "                extra_cell = {\n",
        "                    \"cell_type\": \"markdown\",\n",
        "                    \"id\": secrets.token_hex(8),\n",
        "                    \"metadata\": {},\n",
        "                    \"source\": [\n",
        "                        \":::{eval-rst}\\n\",\n",
        "                        f\".. autofunction:: sax.{module}.{function_name}\\n\",\n",
        "                        \":::\\n\"\n",
        "                    ],\n",
        "                }\n",
        "                nb_new[\"cells\"].append(extra_cell)\n",
        "\n",
        "        cell[\"id\"] = secrets.token_hex(8)\n",
        "        nb_new[\"cells\"].append(cell)\n",
        "\n",
        "    os.makedirs(os.path.dirname(dst), exist_ok=True)\n",
        "    save_nb(nb_new, dst)\n",
        "    return dst"
      ]
    },
    {
      "cell_type": "markdown",
      "id": "6a91b2be84e33e4b",
      "metadata": {},
      "source": [
        ":::{eval-rst}\n",
        ".. autofunction:: sax.make_docs.list_notebooks\n",
        ":::\n"
      ]
    },
    {
      "cell_type": "markdown",
      "id": "92a3eac2d9ab48e3",
      "metadata": {},
      "source": [
        ":::{eval-rst}\n",
        ".. autofunction:: sax.make_docs.list_zips\n",
        ":::\n"
      ]
    },
    {
      "cell_type": "code",
      "execution_count": 15,
      "id": "403c5e0fba95fb05",
      "metadata": {
        "execution": {
          "iopub.execute_input": "2022-08-10T16:00:44.612618Z",
          "iopub.status.busy": "2022-08-10T16:00:44.612203Z",
          "iopub.status.idle": "2022-08-10T16:00:44.613808Z",
          "shell.execute_reply": "2022-08-10T16:00:44.614117Z"
        },
        "papermill": {
          "duration": 0.01665,
          "end_time": "2022-08-10T16:00:44.614224",
          "exception": false,
          "start_time": "2022-08-10T16:00:44.597574",
          "status": "completed"
        },
        "tags": [
          "hide-input"
        ]
      },
      "outputs": [],
      "source": [
        "def list_notebooks(dir):\n",
        "    return glob.glob(os.path.join(dir, \"**/*.ipynb\"), recursive=True)\n",
        "\n",
        "def list_zips(dir):\n",
        "    return glob.glob(os.path.join(dir, \"**/*.zip\"), recursive=True)"
      ]
    },
    {
      "cell_type": "markdown",
      "id": "127b21cd85080b41",
      "metadata": {},
      "source": [
        ":::{eval-rst}\n",
        ".. autofunction:: sax.make_docs.docs_copy_dir\n",
        ":::\n"
      ]
    },
    {
      "cell_type": "code",
      "execution_count": 16,
      "id": "65380defdd7b03bc",
      "metadata": {
        "execution": {
          "iopub.execute_input": "2022-08-10T16:00:44.641466Z",
          "iopub.status.busy": "2022-08-10T16:00:44.641049Z",
          "iopub.status.idle": "2022-08-10T16:00:44.642895Z",
          "shell.execute_reply": "2022-08-10T16:00:44.642544Z"
        },
        "papermill": {
          "duration": 0.017287,
          "end_time": "2022-08-10T16:00:44.642980",
          "exception": false,
          "start_time": "2022-08-10T16:00:44.625693",
          "status": "completed"
        },
        "tags": [
          "hide-input"
        ]
      },
      "outputs": [],
      "source": [
        "def docs_copy_dir(relpath):\n",
        "    main_src = repository_path(relpath)\n",
        "    for src in list_notebooks(main_src):\n",
        "        rel = os.path.relpath(src, repository_path())\n",
        "        docs_copy_nb(rel)\n",
        "    for src in list_zips(main_src):\n",
        "        rel = os.path.relpath(src, repository_path())\n",
        "        dst = docs_path(\"_build\", \"html\", rel, not_exist_ok=True)\n",
        "        os.makedirs(os.path.dirname(dst), exist_ok=True)\n",
        "        shutil.copy2(src, dst)"
      ]
    },
    {
      "cell_type": "markdown",
      "id": "1c5186a90daf31c1",
      "metadata": {},
      "source": [
        ":::{eval-rst}\n",
        ".. autofunction:: sax.make_docs.docs_copy_simulations\n",
        ":::\n"
      ]
    },
    {
      "cell_type": "code",
      "execution_count": 17,
      "id": "b2e58c47dbf999b1",
      "metadata": {
        "execution": {
          "iopub.execute_input": "2022-08-10T16:00:44.671501Z",
          "iopub.status.busy": "2022-08-10T16:00:44.671072Z",
          "iopub.status.idle": "2022-08-10T16:00:44.672823Z",
          "shell.execute_reply": "2022-08-10T16:00:44.673135Z"
        },
        "papermill": {
          "duration": 0.018686,
          "end_time": "2022-08-10T16:00:44.673242",
          "exception": false,
          "start_time": "2022-08-10T16:00:44.654556",
          "status": "completed"
        },
        "tags": [
          "hide-input"
        ]
      },
      "outputs": [],
      "source": [
        "def docs_copy_simulations():\n",
        "    with_results, without_results = {}, {}\n",
        "    for fn in os.listdir(simulations_path()):\n",
        "        sim, ext = os.path.splitext(fn)\n",
        "        if ext != \".ipynb\":\n",
        "            continue\n",
        "        try:\n",
        "            with_results[sim] = get_nominal_result(sim)\n",
        "        except FileNotFoundError:\n",
        "            without_results[sim] = {'hash': None, 'params': get_default_params(simulations_path(f\"{sim}.ipynb\"))}\n",
        "        except ValueError:\n",
        "            without_results[sim] = {'hash': None, 'params': get_default_params(simulations_path(f\"{sim}.ipynb\"))}\n",
        "            #raise\n",
        "        \n",
        "    for k, r in with_results.items():\n",
        "        docs_copy_nb(f\"results/{k}/{r['hash']}/_simulated.ipynb\", f\"simulations/{k}.ipynb\")\n",
        "        \n",
        "    for k, r in without_results.items():\n",
        "        docs_copy_nb(f\"simulations/{k}.ipynb\", f\"simulations/{k}.ipynb\")\n",
        "        \n",
        "    shutil.copytree(simulations_path(\"img\"), docs_path(\"_build\", \"html\", \"simulations\", \"img\", not_exist_ok=True), dirs_exist_ok=True)\n",
        "    return with_results, without_results"
      ]
    },
    {
      "cell_type": "markdown",
      "id": "7c0f84858d3f8f9f",
      "metadata": {},
      "source": [
        ":::{eval-rst}\n",
        ".. autofunction:: sax.make_docs.get_toc_part\n",
        ":::\n"
      ]
    },
    {
      "cell_type": "code",
      "execution_count": 18,
      "id": "5090f2e76e441cea",
      "metadata": {
        "execution": {
          "iopub.execute_input": "2022-08-10T16:00:44.700113Z",
          "iopub.status.busy": "2022-08-10T16:00:44.699648Z",
          "iopub.status.idle": "2022-08-10T16:00:44.701160Z",
          "shell.execute_reply": "2022-08-10T16:00:44.701488Z"
        },
        "papermill": {
          "duration": 0.016762,
          "end_time": "2022-08-10T16:00:44.701590",
          "exception": false,
          "start_time": "2022-08-10T16:00:44.684828",
          "status": "completed"
        },
        "tags": [
          "hide-input"
        ]
      },
      "outputs": [],
      "source": [
        "def get_toc_part(toc, caption):\n",
        "    parts = [p for p in toc[\"parts\"] if caption == p[\"caption\"]]\n",
        "    try:\n",
        "        return parts[0]\n",
        "    except IndexError:\n",
        "        raise ValueError(f\"No TOC part with caption {caption!r} found.\")"
      ]
    },
    {
      "cell_type": "markdown",
      "id": "5e3a7262b3c848f2",
      "metadata": {},
      "source": [
        ":::{eval-rst}\n",
        ".. autofunction:: sax.make_docs.make_docs\n",
        ":::\n"
      ]
    },
    {
      "cell_type": "code",
      "execution_count": 19,
      "id": "d51b8eed622de640",
      "metadata": {
        "execution": {
          "iopub.execute_input": "2022-08-10T16:00:44.728563Z",
          "iopub.status.busy": "2022-08-10T16:00:44.728149Z",
          "iopub.status.idle": "2022-08-10T16:00:44.730068Z",
          "shell.execute_reply": "2022-08-10T16:00:44.729716Z"
        },
        "papermill": {
          "duration": 0.016886,
          "end_time": "2022-08-10T16:00:44.730155",
          "exception": false,
          "start_time": "2022-08-10T16:00:44.713269",
          "status": "completed"
        },
        "tags": [
          "hide-input"
        ]
      },
      "outputs": [],
      "source": [
        "def make_docs():\n",
        "    docs_copy_nb(\"index.ipynb\")\n",
        "    docs_copy_dir(\"nbs\")\n",
        "    docs_copy_dir(\"examples\")\n",
        "    os.chdir(docs_path())\n",
        "    subprocess.check_call([sys.executable.replace(\"python\", \"jupyter-book\"), \"build\", \".\"])"
      ]
    },
    {
      "cell_type": "code",
      "execution_count": 20,
      "id": "ba916c0993b9f814",
      "metadata": {
        "execution": {
          "iopub.execute_input": "2022-08-10T16:00:44.757002Z",
          "iopub.status.busy": "2022-08-10T16:00:44.756590Z",
          "iopub.status.idle": "2022-08-10T16:00:44.758225Z",
          "shell.execute_reply": "2022-08-10T16:00:44.758556Z"
        },
        "papermill": {
          "duration": 0.016894,
          "end_time": "2022-08-10T16:00:44.758660",
          "exception": false,
          "start_time": "2022-08-10T16:00:44.741766",
          "status": "completed"
        },
        "tags": [
          "hide-input"
        ]
      },
      "outputs": [],
      "source": [
        "if __name__ == '__main__' and not IN_IPYTHON:\n",
        "    make_docs()"
      ]
    }
  ],
  "metadata": {
    "kernelspec": {
      "display_name": "sax",
      "language": "python",
      "name": "sax"
    },
    "language_info": {
      "codemirror_mode": {
        "name": "ipython",
        "version": 3
      },
      "file_extension": ".py",
      "mimetype": "text/x-python",
      "name": "python",
      "nbconvert_exporter": "python",
      "pygments_lexer": "ipython3",
      "version": "3.9.0"
    },
    "papermill": {
      "default_parameters": {},
      "duration": 1.980053,
      "end_time": "2022-08-10T16:00:44.876309",
      "environment_variables": {},
      "exception": null,
      "input_path": "./nbs/98_make_docs.ipynb",
      "output_path": "./nbs/98_make_docs.ipynb",
      "parameters": {},
      "start_time": "2022-08-10T16:00:42.896256",
      "version": "2.3.4"
    }
  },
  "nbformat": 4,
  "nbformat_minor": 5
}
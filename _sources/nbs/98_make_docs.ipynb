{
  "cells": [
    {
      "cell_type": "code",
      "execution_count": 1,
      "id": "72880e512db9d001",
      "metadata": {
        "execution": {
          "iopub.execute_input": "2022-08-04T04:32:01.154360Z",
          "iopub.status.busy": "2022-08-04T04:32:01.153902Z",
          "iopub.status.idle": "2022-08-04T04:32:01.156766Z",
          "shell.execute_reply": "2022-08-04T04:32:01.156293Z"
        },
        "papermill": {
          "duration": 0.020241,
          "end_time": "2022-08-04T04:32:01.156891",
          "exception": false,
          "start_time": "2022-08-04T04:32:01.136650",
          "status": "completed"
        },
        "tags": [
          "remove-cell"
        ]
      },
      "outputs": [],
      "source": []
    },
    {
      "cell_type": "markdown",
      "id": "7f878cbc-3e90-4ceb-8633-79250de6d6b8",
      "metadata": {
        "papermill": {
          "duration": 0.010439,
          "end_time": "2022-08-04T04:32:01.178369",
          "exception": false,
          "start_time": "2022-08-04T04:32:01.167930",
          "status": "completed"
        },
        "tags": []
      },
      "source": [
        "# SAX make docs\n",
        "> CLI: build jupyter-books based docs"
      ]
    },
    {
      "cell_type": "code",
      "execution_count": 2,
      "id": "105c69f0589c522d",
      "metadata": {
        "execution": {
          "iopub.execute_input": "2022-08-04T04:32:01.206737Z",
          "iopub.status.busy": "2022-08-04T04:32:01.206216Z",
          "iopub.status.idle": "2022-08-04T04:32:01.210583Z",
          "shell.execute_reply": "2022-08-04T04:32:01.210237Z"
        },
        "papermill": {
          "duration": 0.02194,
          "end_time": "2022-08-04T04:32:01.210680",
          "exception": false,
          "start_time": "2022-08-04T04:32:01.188740",
          "status": "completed"
        },
        "tags": [
          "remove-cell"
        ]
      },
      "outputs": [],
      "source": [
        "import glob\n",
        "import json\n",
        "import os\n",
        "import re\n",
        "import secrets\n",
        "import shutil\n",
        "import subprocess\n",
        "import sys\n",
        "from typing import Dict, Union\n",
        "\n",
        "from fastcore.imports import IN_IPYTHON"
      ]
    },
    {
      "cell_type": "code",
      "execution_count": 3,
      "id": "cb00d402d62ed650",
      "metadata": {
        "execution": {
          "iopub.execute_input": "2022-08-04T04:32:01.235650Z",
          "iopub.status.busy": "2022-08-04T04:32:01.235222Z",
          "iopub.status.idle": "2022-08-04T04:32:01.237058Z",
          "shell.execute_reply": "2022-08-04T04:32:01.236718Z"
        },
        "papermill": {
          "duration": 0.015914,
          "end_time": "2022-08-04T04:32:01.237160",
          "exception": false,
          "start_time": "2022-08-04T04:32:01.221246",
          "status": "completed"
        },
        "tags": [
          "hide-input"
        ]
      },
      "outputs": [],
      "source": [
        "MAGIC_COMMENTS = {\n",
        "    \"default_exp\": \"remove-cell\",\n",
        "    \"exporti\": \"remove-cell\",\n",
        "    \"export\": \"hide-input\",\n",
        "    \"exports\": None,\n",
        "    \"hide\": \"remove-cell\",\n",
        "    \"hide_input\": \"remove-input\",\n",
        "    \"hide_output\": \"remove-output\",\n",
        "    \"collapse_input\": \"hide-input\",\n",
        "    \"collapse_output\": \"hide-output\",\n",
        "}"
      ]
    },
    {
      "cell_type": "code",
      "execution_count": 4,
      "id": "a5b07cb44d7733b6",
      "metadata": {
        "execution": {
          "iopub.execute_input": "2022-08-04T04:32:01.260117Z",
          "iopub.status.busy": "2022-08-04T04:32:01.259689Z",
          "iopub.status.idle": "2022-08-04T04:32:01.262823Z",
          "shell.execute_reply": "2022-08-04T04:32:01.263229Z"
        },
        "papermill": {
          "duration": 0.015839,
          "end_time": "2022-08-04T04:32:01.263351",
          "exception": false,
          "start_time": "2022-08-04T04:32:01.247512",
          "status": "completed"
        },
        "tags": [
          "hide-input"
        ]
      },
      "outputs": [],
      "source": [
        "if IN_IPYTHON:\n",
        "    ROOT = os.path.abspath('..')\n",
        "else:\n",
        "    ROOT = os.path.abspath('.')"
      ]
    },
    {
      "cell_type": "markdown",
      "id": "ab634e1f7ee039ab",
      "metadata": {},
      "source": [
        ":::{eval-rst}\n",
        ".. autofunction:: sax.make_docs.load_nb\n",
        ":::\n"
      ]
    },
    {
      "cell_type": "code",
      "execution_count": 5,
      "id": "0bccc88e05147e3e",
      "metadata": {
        "execution": {
          "iopub.execute_input": "2022-08-04T04:32:01.289353Z",
          "iopub.status.busy": "2022-08-04T04:32:01.287319Z",
          "iopub.status.idle": "2022-08-04T04:32:01.290865Z",
          "shell.execute_reply": "2022-08-04T04:32:01.291177Z"
        },
        "papermill": {
          "duration": 0.016936,
          "end_time": "2022-08-04T04:32:01.291297",
          "exception": false,
          "start_time": "2022-08-04T04:32:01.274361",
          "status": "completed"
        },
        "tags": [
          "hide-input"
        ]
      },
      "outputs": [],
      "source": [
        "def load_nb(path: str) -> Dict:\n",
        "    \"\"\" load a jupyter notebook as dictionary\n",
        "\n",
        "    Args:\n",
        "        path: the path of the notebook to load\n",
        "\n",
        "    Returns:\n",
        "        the notebook represented as a dictionary\n",
        "    \"\"\"\n",
        "    with open(path, \"r\") as file:\n",
        "        nb = json.load(file)\n",
        "    return nb"
      ]
    },
    {
      "cell_type": "markdown",
      "id": "821bed02c6473cf3",
      "metadata": {},
      "source": [
        ":::{eval-rst}\n",
        ".. autofunction:: sax.make_docs.repository_path\n",
        ":::\n"
      ]
    },
    {
      "cell_type": "code",
      "execution_count": 6,
      "id": "de0fc50cfd8d5fe9",
      "metadata": {
        "execution": {
          "iopub.execute_input": "2022-08-04T04:32:01.318115Z",
          "iopub.status.busy": "2022-08-04T04:32:01.317690Z",
          "iopub.status.idle": "2022-08-04T04:32:01.319521Z",
          "shell.execute_reply": "2022-08-04T04:32:01.319874Z"
        },
        "papermill": {
          "duration": 0.018121,
          "end_time": "2022-08-04T04:32:01.319984",
          "exception": false,
          "start_time": "2022-08-04T04:32:01.301863",
          "status": "completed"
        },
        "tags": [
          "hide-input"
        ]
      },
      "outputs": [],
      "source": [
        "def repository_path(*path_parts: str, not_exist_ok: bool=False) -> str:\n",
        "    \"\"\" Get and validate a path in the modelbuild repository\n",
        "\n",
        "    Args:\n",
        "        *path_parts: the path parts that will be joined together\n",
        "            relative to the root of the repository.\n",
        "        not_exist_ok: skip validation if True\n",
        "\n",
        "    Returns:\n",
        "        the absolute path of the referenced file.\n",
        "    \"\"\"\n",
        "    if not (os.path.exists(path:=os.path.join(ROOT, \"docs\"))):\n",
        "        raise FileNotFoundError(f\"docs path {path!r} not found!\")\n",
        "    if not (os.path.exists(path:=os.path.join(ROOT, \"nbs\"))):\n",
        "        raise FileNotFoundError(f\"nbs path {path!r} not found!\")\n",
        "    if not (os.path.exists(path:=os.path.join(ROOT, \"sax\"))):\n",
        "        raise FileNotFoundError(f\"sax path {path!r} not found!\")\n",
        "\n",
        "    path = os.path.join(ROOT, *path_parts)\n",
        "    if not not_exist_ok and not os.path.exists(path):\n",
        "        raise FileNotFoundError(f\"Path {path!r} does not exist.\")\n",
        "\n",
        "    return path"
      ]
    },
    {
      "cell_type": "markdown",
      "id": "10ffe4d72130ced9",
      "metadata": {},
      "source": [
        ":::{eval-rst}\n",
        ".. autofunction:: sax.make_docs.docs_path\n",
        ":::\n"
      ]
    },
    {
      "cell_type": "code",
      "execution_count": 7,
      "id": "d6736a7cf9de4d04",
      "metadata": {
        "execution": {
          "iopub.execute_input": "2022-08-04T04:32:01.346164Z",
          "iopub.status.busy": "2022-08-04T04:32:01.345729Z",
          "iopub.status.idle": "2022-08-04T04:32:01.347333Z",
          "shell.execute_reply": "2022-08-04T04:32:01.347708Z"
        },
        "papermill": {
          "duration": 0.01692,
          "end_time": "2022-08-04T04:32:01.347834",
          "exception": false,
          "start_time": "2022-08-04T04:32:01.330914",
          "status": "completed"
        },
        "tags": [
          "hide-input"
        ]
      },
      "outputs": [],
      "source": [
        "def docs_path(*path_parts: str, not_exist_ok: bool=False) -> str:\n",
        "    return repository_path('docs', *path_parts, not_exist_ok=not_exist_ok)"
      ]
    },
    {
      "cell_type": "markdown",
      "id": "7a3a5f9e287c33c8",
      "metadata": {},
      "source": [
        ":::{eval-rst}\n",
        ".. autofunction:: sax.make_docs.save_nb\n",
        ":::\n"
      ]
    },
    {
      "cell_type": "code",
      "execution_count": 8,
      "id": "bbb7c04811c26a6a",
      "metadata": {
        "execution": {
          "iopub.execute_input": "2022-08-04T04:32:01.374374Z",
          "iopub.status.busy": "2022-08-04T04:32:01.373941Z",
          "iopub.status.idle": "2022-08-04T04:32:01.375982Z",
          "shell.execute_reply": "2022-08-04T04:32:01.375631Z"
        },
        "papermill": {
          "duration": 0.017343,
          "end_time": "2022-08-04T04:32:01.376083",
          "exception": false,
          "start_time": "2022-08-04T04:32:01.358740",
          "status": "completed"
        },
        "tags": [
          "hide-input"
        ]
      },
      "outputs": [],
      "source": [
        "def save_nb(nb: Dict, path: str) -> str:\n",
        "    \"\"\" save a dictionary as a jupyter notebook\n",
        "\n",
        "    Args:\n",
        "        nb: the dictionary to convert into an ipynb file\n",
        "        path: the path to save the notebook under\n",
        "\n",
        "    Returns:\n",
        "        the path where the notebook was saved.\n",
        "    \"\"\"\n",
        "    path = os.path.abspath(path)\n",
        "    os.makedirs(os.path.dirname(path), exist_ok=True)\n",
        "    with open(path, \"w\") as file:\n",
        "        json.dump(nb, file, indent=2)\n",
        "    return path"
      ]
    },
    {
      "cell_type": "markdown",
      "id": "aa6d16e651c27af4",
      "metadata": {},
      "source": [
        ":::{eval-rst}\n",
        ".. autofunction:: sax.make_docs.strip_metadata\n",
        ":::\n"
      ]
    },
    {
      "cell_type": "code",
      "execution_count": 9,
      "id": "abd019cb84462757",
      "metadata": {
        "execution": {
          "iopub.execute_input": "2022-08-04T04:32:01.403659Z",
          "iopub.status.busy": "2022-08-04T04:32:01.403223Z",
          "iopub.status.idle": "2022-08-04T04:32:01.404821Z",
          "shell.execute_reply": "2022-08-04T04:32:01.405225Z"
        },
        "papermill": {
          "duration": 0.018156,
          "end_time": "2022-08-04T04:32:01.405370",
          "exception": false,
          "start_time": "2022-08-04T04:32:01.387214",
          "status": "completed"
        },
        "tags": [
          "hide-input"
        ]
      },
      "outputs": [],
      "source": [
        "def strip_metadata(nb: Union[Dict, str]) -> Union[Dict,str]:\n",
        "    path = ''\n",
        "    if isinstance(nb, str):\n",
        "        path = nb\n",
        "        nb = load_nb(nb)\n",
        "    for cell in nb['cells']:\n",
        "        if not 'metadata' in cell:\n",
        "            continue\n",
        "        cell['metadata'] = {}\n",
        "    if path:\n",
        "        return save_nb(nb, path)\n",
        "    return path"
      ]
    },
    {
      "cell_type": "code",
      "execution_count": 10,
      "id": "fab73ebc31e08994",
      "metadata": {
        "execution": {
          "iopub.execute_input": "2022-08-04T04:32:01.431790Z",
          "iopub.status.busy": "2022-08-04T04:32:01.431345Z",
          "iopub.status.idle": "2022-08-04T04:32:01.433462Z",
          "shell.execute_reply": "2022-08-04T04:32:01.433058Z"
        },
        "papermill": {
          "duration": 0.017242,
          "end_time": "2022-08-04T04:32:01.433569",
          "exception": false,
          "start_time": "2022-08-04T04:32:01.416327",
          "status": "completed"
        },
        "tags": [
          "remove-cell"
        ]
      },
      "outputs": [],
      "source": [
        "def iter_code_cells(nb):\n",
        "    for cell in nb.get('cells', []):\n",
        "        if not cell.get(\"cell_type\", \"\") == \"code\":\n",
        "            continue\n",
        "        yield cell"
      ]
    },
    {
      "cell_type": "code",
      "execution_count": 11,
      "id": "2959f4f36fd151ff",
      "metadata": {
        "execution": {
          "iopub.execute_input": "2022-08-04T04:32:01.460154Z",
          "iopub.status.busy": "2022-08-04T04:32:01.459723Z",
          "iopub.status.idle": "2022-08-04T04:32:01.462946Z",
          "shell.execute_reply": "2022-08-04T04:32:01.462599Z"
        },
        "papermill": {
          "duration": 0.01799,
          "end_time": "2022-08-04T04:32:01.463050",
          "exception": false,
          "start_time": "2022-08-04T04:32:01.445060",
          "status": "completed"
        },
        "tags": [
          "remove-cell"
        ]
      },
      "outputs": [],
      "source": [
        "def first_code_cell(nb):\n",
        "    try:\n",
        "        return next(iter_code_cells(nb))\n",
        "    except StopIteration:\n",
        "        return None"
      ]
    },
    {
      "cell_type": "code",
      "execution_count": 12,
      "id": "ea299ebeaef80bdb",
      "metadata": {
        "execution": {
          "iopub.execute_input": "2022-08-04T04:32:01.490100Z",
          "iopub.status.busy": "2022-08-04T04:32:01.489651Z",
          "iopub.status.idle": "2022-08-04T04:32:01.491646Z",
          "shell.execute_reply": "2022-08-04T04:32:01.491300Z"
        },
        "papermill": {
          "duration": 0.017562,
          "end_time": "2022-08-04T04:32:01.491748",
          "exception": false,
          "start_time": "2022-08-04T04:32:01.474186",
          "status": "completed"
        },
        "tags": [
          "remove-cell"
        ]
      },
      "outputs": [],
      "source": [
        "def get_default_exp(nb):\n",
        "    first_cell = first_code_cell(nb) or {}\n",
        "    first_source = first_cell.get('source', [])\n",
        "    first_line = \"\" if not first_source else first_source[0]\n",
        "    default_exp = first_line.split(\"default_exp\")[-1].strip()\n",
        "    return default_exp"
      ]
    },
    {
      "cell_type": "code",
      "execution_count": 13,
      "id": "262f64c7d08e0cc5",
      "metadata": {
        "execution": {
          "iopub.execute_input": "2022-08-04T04:32:01.518981Z",
          "iopub.status.busy": "2022-08-04T04:32:01.518547Z",
          "iopub.status.idle": "2022-08-04T04:32:01.520074Z",
          "shell.execute_reply": "2022-08-04T04:32:01.520411Z"
        },
        "papermill": {
          "duration": 0.017254,
          "end_time": "2022-08-04T04:32:01.520530",
          "exception": false,
          "start_time": "2022-08-04T04:32:01.503276",
          "status": "completed"
        },
        "tags": [
          "remove-cell"
        ]
      },
      "outputs": [],
      "source": [
        "def iter_function_names(source):\n",
        "    for line in source:\n",
        "        if not line.startswith(\"def \"):\n",
        "            continue\n",
        "        if line.startswith(\"def _\"):\n",
        "            continue\n",
        "        yield line.split(\"def \")[1].split(\"(\")[0]"
      ]
    },
    {
      "cell_type": "markdown",
      "id": "4a35b37ec7d43a43",
      "metadata": {},
      "source": [
        ":::{eval-rst}\n",
        ".. autofunction:: sax.make_docs.docs_copy_nb\n",
        ":::\n"
      ]
    },
    {
      "cell_type": "code",
      "execution_count": 14,
      "id": "a343832cf4898351",
      "metadata": {
        "execution": {
          "iopub.execute_input": "2022-08-04T04:32:01.553409Z",
          "iopub.status.busy": "2022-08-04T04:32:01.552902Z",
          "iopub.status.idle": "2022-08-04T04:32:01.554868Z",
          "shell.execute_reply": "2022-08-04T04:32:01.554504Z"
        },
        "papermill": {
          "duration": 0.022937,
          "end_time": "2022-08-04T04:32:01.554977",
          "exception": false,
          "start_time": "2022-08-04T04:32:01.532040",
          "status": "completed"
        },
        "tags": [
          "hide-input"
        ]
      },
      "outputs": [],
      "source": [
        "def docs_copy_nb(relpath, docsrelpath=None):\n",
        "    \"\"\"copy a single notebook from src to dst with modified docs metadata.\"\"\"\n",
        "    src = repository_path(relpath)\n",
        "    dst = docs_path((docsrelpath or relpath), not_exist_ok=True)\n",
        "    nb = load_nb(src)\n",
        "    nb_new = {**nb}\n",
        "    nb_new[\"cells\"] = []\n",
        "    module = get_default_exp(nb)\n",
        "\n",
        "    for cell in nb.get('cells', []):\n",
        "        if not cell.get(\"cell_type\", \"\") == \"code\":\n",
        "            nb_new[\"cells\"].append(cell)\n",
        "            continue\n",
        "            \n",
        "        cell_tags = cell.get(\"metadata\", {}).get(\"tags\", [])\n",
        "        source = cell.get(\"source\") or [\"\"]\n",
        "        line = source[0].strip()\n",
        "        \n",
        "        if not line.startswith(\"#\"):\n",
        "            nb_new[\"cells\"].append(cell)\n",
        "            continue\n",
        "            \n",
        "        keys = [k.strip() for k in line.split(\" \")]\n",
        "        keys = [k for k in keys if k in MAGIC_COMMENTS]\n",
        "        if keys:\n",
        "            del source[0]\n",
        "        for key in keys:\n",
        "            tag = MAGIC_COMMENTS[key]\n",
        "            if tag:\n",
        "                cell_tags.append(tag)\n",
        "        if len(cell_tags) > 0:\n",
        "            cell[\"metadata\"][\"tags\"] = cell_tags\n",
        "\n",
        "        if not 'remove-cell' in cell_tags:\n",
        "            for function_name in iter_function_names(source):\n",
        "                extra_cell = {\n",
        "                    \"cell_type\": \"markdown\",\n",
        "                    \"id\": secrets.token_hex(8),\n",
        "                    \"metadata\": {},\n",
        "                    \"source\": [\n",
        "                        \":::{eval-rst}\\n\",\n",
        "                        f\".. autofunction:: sax.{module}.{function_name}\\n\",\n",
        "                        \":::\\n\"\n",
        "                    ],\n",
        "                }\n",
        "                nb_new[\"cells\"].append(extra_cell)\n",
        "\n",
        "        cell[\"id\"] = secrets.token_hex(8)\n",
        "        nb_new[\"cells\"].append(cell)\n",
        "\n",
        "    os.makedirs(os.path.dirname(dst), exist_ok=True)\n",
        "    save_nb(nb_new, dst)\n",
        "    return dst"
      ]
    },
    {
      "cell_type": "markdown",
      "id": "f720e8cc5ba568fa",
      "metadata": {},
      "source": [
        ":::{eval-rst}\n",
        ".. autofunction:: sax.make_docs.list_notebooks\n",
        ":::\n"
      ]
    },
    {
      "cell_type": "markdown",
      "id": "305f0bec982b0447",
      "metadata": {},
      "source": [
        ":::{eval-rst}\n",
        ".. autofunction:: sax.make_docs.list_zips\n",
        ":::\n"
      ]
    },
    {
      "cell_type": "code",
      "execution_count": 15,
      "id": "98f7fa21c7bdf1ee",
      "metadata": {
        "execution": {
          "iopub.execute_input": "2022-08-04T04:32:01.582504Z",
          "iopub.status.busy": "2022-08-04T04:32:01.581996Z",
          "iopub.status.idle": "2022-08-04T04:32:01.583813Z",
          "shell.execute_reply": "2022-08-04T04:32:01.583378Z"
        },
        "papermill": {
          "duration": 0.017355,
          "end_time": "2022-08-04T04:32:01.583910",
          "exception": false,
          "start_time": "2022-08-04T04:32:01.566555",
          "status": "completed"
        },
        "tags": [
          "hide-input"
        ]
      },
      "outputs": [],
      "source": [
        "def list_notebooks(dir):\n",
        "    return glob.glob(os.path.join(dir, \"**/*.ipynb\"), recursive=True)\n",
        "\n",
        "def list_zips(dir):\n",
        "    return glob.glob(os.path.join(dir, \"**/*.zip\"), recursive=True)"
      ]
    },
    {
      "cell_type": "markdown",
      "id": "f13e32bd37198274",
      "metadata": {},
      "source": [
        ":::{eval-rst}\n",
        ".. autofunction:: sax.make_docs.docs_copy_dir\n",
        ":::\n"
      ]
    },
    {
      "cell_type": "code",
      "execution_count": 16,
      "id": "ab98c99c9cde131b",
      "metadata": {
        "execution": {
          "iopub.execute_input": "2022-08-04T04:32:01.612074Z",
          "iopub.status.busy": "2022-08-04T04:32:01.611642Z",
          "iopub.status.idle": "2022-08-04T04:32:01.613622Z",
          "shell.execute_reply": "2022-08-04T04:32:01.613222Z"
        },
        "papermill": {
          "duration": 0.018316,
          "end_time": "2022-08-04T04:32:01.613719",
          "exception": false,
          "start_time": "2022-08-04T04:32:01.595403",
          "status": "completed"
        },
        "tags": [
          "hide-input"
        ]
      },
      "outputs": [],
      "source": [
        "def docs_copy_dir(relpath):\n",
        "    main_src = repository_path(relpath)\n",
        "    for src in list_notebooks(main_src):\n",
        "        rel = os.path.relpath(src, repository_path())\n",
        "        docs_copy_nb(rel)\n",
        "    for src in list_zips(main_src):\n",
        "        rel = os.path.relpath(src, repository_path())\n",
        "        dst = docs_path(\"_build\", \"html\", rel, not_exist_ok=True)\n",
        "        os.makedirs(os.path.dirname(dst), exist_ok=True)\n",
        "        shutil.copy2(src, dst)"
      ]
    },
    {
      "cell_type": "markdown",
      "id": "e99ae92fabc70cf2",
      "metadata": {},
      "source": [
        ":::{eval-rst}\n",
        ".. autofunction:: sax.make_docs.docs_copy_simulations\n",
        ":::\n"
      ]
    },
    {
      "cell_type": "code",
      "execution_count": 17,
      "id": "61dc89b5ce84467f",
      "metadata": {
        "execution": {
          "iopub.execute_input": "2022-08-04T04:32:01.643512Z",
          "iopub.status.busy": "2022-08-04T04:32:01.643054Z",
          "iopub.status.idle": "2022-08-04T04:32:01.644841Z",
          "shell.execute_reply": "2022-08-04T04:32:01.645183Z"
        },
        "papermill": {
          "duration": 0.019911,
          "end_time": "2022-08-04T04:32:01.645334",
          "exception": false,
          "start_time": "2022-08-04T04:32:01.625423",
          "status": "completed"
        },
        "tags": [
          "hide-input"
        ]
      },
      "outputs": [],
      "source": [
        "def docs_copy_simulations():\n",
        "    with_results, without_results = {}, {}\n",
        "    for fn in os.listdir(simulations_path()):\n",
        "        sim, ext = os.path.splitext(fn)\n",
        "        if ext != \".ipynb\":\n",
        "            continue\n",
        "        try:\n",
        "            with_results[sim] = get_nominal_result(sim)\n",
        "        except FileNotFoundError:\n",
        "            without_results[sim] = {'hash': None, 'params': get_default_params(simulations_path(f\"{sim}.ipynb\"))}\n",
        "        except ValueError:\n",
        "            without_results[sim] = {'hash': None, 'params': get_default_params(simulations_path(f\"{sim}.ipynb\"))}\n",
        "            #raise\n",
        "        \n",
        "    for k, r in with_results.items():\n",
        "        docs_copy_nb(f\"results/{k}/{r['hash']}/_simulated.ipynb\", f\"simulations/{k}.ipynb\")\n",
        "        \n",
        "    for k, r in without_results.items():\n",
        "        docs_copy_nb(f\"simulations/{k}.ipynb\", f\"simulations/{k}.ipynb\")\n",
        "        \n",
        "    shutil.copytree(simulations_path(\"img\"), docs_path(\"_build\", \"html\", \"simulations\", \"img\", not_exist_ok=True), dirs_exist_ok=True)\n",
        "    return with_results, without_results"
      ]
    },
    {
      "cell_type": "markdown",
      "id": "779b7eba9effb7bd",
      "metadata": {},
      "source": [
        ":::{eval-rst}\n",
        ".. autofunction:: sax.make_docs.get_toc_part\n",
        ":::\n"
      ]
    },
    {
      "cell_type": "code",
      "execution_count": 18,
      "id": "e71c15aef6072da2",
      "metadata": {
        "execution": {
          "iopub.execute_input": "2022-08-04T04:32:01.673580Z",
          "iopub.status.busy": "2022-08-04T04:32:01.673094Z",
          "iopub.status.idle": "2022-08-04T04:32:01.674869Z",
          "shell.execute_reply": "2022-08-04T04:32:01.674437Z"
        },
        "papermill": {
          "duration": 0.017892,
          "end_time": "2022-08-04T04:32:01.674968",
          "exception": false,
          "start_time": "2022-08-04T04:32:01.657076",
          "status": "completed"
        },
        "tags": [
          "hide-input"
        ]
      },
      "outputs": [],
      "source": [
        "def get_toc_part(toc, caption):\n",
        "    parts = [p for p in toc[\"parts\"] if caption == p[\"caption\"]]\n",
        "    try:\n",
        "        return parts[0]\n",
        "    except IndexError:\n",
        "        raise ValueError(f\"No TOC part with caption {caption!r} found.\")"
      ]
    },
    {
      "cell_type": "markdown",
      "id": "641dc1a059dcf73f",
      "metadata": {},
      "source": [
        ":::{eval-rst}\n",
        ".. autofunction:: sax.make_docs.make_docs\n",
        ":::\n"
      ]
    },
    {
      "cell_type": "code",
      "execution_count": 19,
      "id": "796c45fffa7b310f",
      "metadata": {
        "execution": {
          "iopub.execute_input": "2022-08-04T04:32:01.702942Z",
          "iopub.status.busy": "2022-08-04T04:32:01.702510Z",
          "iopub.status.idle": "2022-08-04T04:32:01.704159Z",
          "shell.execute_reply": "2022-08-04T04:32:01.704518Z"
        },
        "papermill": {
          "duration": 0.017892,
          "end_time": "2022-08-04T04:32:01.704640",
          "exception": false,
          "start_time": "2022-08-04T04:32:01.686748",
          "status": "completed"
        },
        "tags": [
          "hide-input"
        ]
      },
      "outputs": [],
      "source": [
        "def make_docs():\n",
        "    docs_copy_nb(\"index.ipynb\")\n",
        "    docs_copy_dir(\"nbs\")\n",
        "    docs_copy_dir(\"examples\")\n",
        "    os.chdir(docs_path())\n",
        "    subprocess.check_call([sys.executable.replace(\"python\", \"jupyter-book\"), \"build\", \".\"])"
      ]
    },
    {
      "cell_type": "code",
      "execution_count": 20,
      "id": "5a8412bfd36edbf7",
      "metadata": {
        "execution": {
          "iopub.execute_input": "2022-08-04T04:32:01.732059Z",
          "iopub.status.busy": "2022-08-04T04:32:01.731613Z",
          "iopub.status.idle": "2022-08-04T04:32:01.733821Z",
          "shell.execute_reply": "2022-08-04T04:32:01.733469Z"
        },
        "papermill": {
          "duration": 0.017376,
          "end_time": "2022-08-04T04:32:01.733928",
          "exception": false,
          "start_time": "2022-08-04T04:32:01.716552",
          "status": "completed"
        },
        "tags": [
          "hide-input"
        ]
      },
      "outputs": [],
      "source": [
        "if __name__ == '__main__' and not IN_IPYTHON:\n",
        "    make_docs()"
      ]
    }
  ],
  "metadata": {
    "kernelspec": {
      "display_name": "sax",
      "language": "python",
      "name": "sax"
    },
    "language_info": {
      "codemirror_mode": {
        "name": "ipython",
        "version": 3
      },
      "file_extension": ".py",
      "mimetype": "text/x-python",
      "name": "python",
      "nbconvert_exporter": "python",
      "pygments_lexer": "ipython3",
      "version": "3.9.0"
    },
    "papermill": {
      "default_parameters": {},
      "duration": 2.124391,
      "end_time": "2022-08-04T04:32:01.953751",
      "environment_variables": {},
      "exception": null,
      "input_path": "./nbs/98_make_docs.ipynb",
      "output_path": "./nbs/98_make_docs.ipynb",
      "parameters": {},
      "start_time": "2022-08-04T04:31:59.829360",
      "version": "2.3.4"
    }
  },
  "nbformat": 4,
  "nbformat_minor": 5
}
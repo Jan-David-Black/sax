{
  "cells": [
    {
      "cell_type": "code",
      "execution_count": 1,
      "id": "148f6ec431230764",
      "metadata": {
        "execution": {
          "iopub.execute_input": "2022-08-17T03:22:02.307917Z",
          "iopub.status.busy": "2022-08-17T03:22:02.307463Z",
          "iopub.status.idle": "2022-08-17T03:22:02.309483Z",
          "shell.execute_reply": "2022-08-17T03:22:02.309062Z"
        },
        "papermill": {
          "duration": 0.016872,
          "end_time": "2022-08-17T03:22:02.309591",
          "exception": false,
          "start_time": "2022-08-17T03:22:02.292719",
          "status": "completed"
        },
        "tags": [
          "remove-cell"
        ]
      },
      "outputs": [],
      "source": []
    },
    {
      "cell_type": "markdown",
      "id": "7f878cbc-3e90-4ceb-8633-79250de6d6b8",
      "metadata": {
        "papermill": {
          "duration": 0.009749,
          "end_time": "2022-08-17T03:22:02.329423",
          "exception": false,
          "start_time": "2022-08-17T03:22:02.319674",
          "status": "completed"
        },
        "tags": []
      },
      "source": [
        "# SAX make docs\n",
        "> CLI: build jupyter-books based docs"
      ]
    },
    {
      "cell_type": "code",
      "execution_count": 2,
      "id": "8bcbf71357d7ad96",
      "metadata": {
        "execution": {
          "iopub.execute_input": "2022-08-17T03:22:02.355542Z",
          "iopub.status.busy": "2022-08-17T03:22:02.355122Z",
          "iopub.status.idle": "2022-08-17T03:22:02.358023Z",
          "shell.execute_reply": "2022-08-17T03:22:02.357699Z"
        },
        "papermill": {
          "duration": 0.019356,
          "end_time": "2022-08-17T03:22:02.358112",
          "exception": false,
          "start_time": "2022-08-17T03:22:02.338756",
          "status": "completed"
        },
        "tags": [
          "remove-cell"
        ]
      },
      "outputs": [],
      "source": [
        "from __future__ import annotations\n",
        "\n",
        "import glob\n",
        "import json\n",
        "import os\n",
        "import re\n",
        "import secrets\n",
        "import shutil\n",
        "import subprocess\n",
        "import sys\n",
        "from typing import Dict, Union\n",
        "\n",
        "from fastcore.imports import IN_IPYTHON"
      ]
    },
    {
      "cell_type": "code",
      "execution_count": 3,
      "id": "cfaf3d46f7983021",
      "metadata": {
        "execution": {
          "iopub.execute_input": "2022-08-17T03:22:02.380463Z",
          "iopub.status.busy": "2022-08-17T03:22:02.380043Z",
          "iopub.status.idle": "2022-08-17T03:22:02.381751Z",
          "shell.execute_reply": "2022-08-17T03:22:02.381409Z"
        },
        "papermill": {
          "duration": 0.014318,
          "end_time": "2022-08-17T03:22:02.381841",
          "exception": false,
          "start_time": "2022-08-17T03:22:02.367523",
          "status": "completed"
        },
        "tags": [
          "hide-input"
        ]
      },
      "outputs": [],
      "source": [
        "MAGIC_COMMENTS = {\n",
        "    \"default_exp\": \"remove-cell\",\n",
        "    \"exporti\": \"remove-cell\",\n",
        "    \"export\": \"hide-input\",\n",
        "    \"exports\": None,\n",
        "    \"hide\": \"remove-cell\",\n",
        "    \"hide_input\": \"remove-input\",\n",
        "    \"hide_output\": \"remove-output\",\n",
        "    \"collapse_input\": \"hide-input\",\n",
        "    \"collapse_output\": \"hide-output\",\n",
        "}"
      ]
    },
    {
      "cell_type": "code",
      "execution_count": 4,
      "id": "ad08829e95c76572",
      "metadata": {
        "execution": {
          "iopub.execute_input": "2022-08-17T03:22:02.403859Z",
          "iopub.status.busy": "2022-08-17T03:22:02.403454Z",
          "iopub.status.idle": "2022-08-17T03:22:02.405120Z",
          "shell.execute_reply": "2022-08-17T03:22:02.404810Z"
        },
        "papermill": {
          "duration": 0.013832,
          "end_time": "2022-08-17T03:22:02.405206",
          "exception": false,
          "start_time": "2022-08-17T03:22:02.391374",
          "status": "completed"
        },
        "tags": [
          "hide-input"
        ]
      },
      "outputs": [],
      "source": [
        "if IN_IPYTHON:\n",
        "    ROOT = os.path.abspath('..')\n",
        "else:\n",
        "    ROOT = os.path.abspath('.')"
      ]
    },
    {
      "cell_type": "markdown",
      "id": "90fc57fe4ca21e74",
      "metadata": {},
      "source": [
        ":::{eval-rst}\n",
        ".. autofunction:: sax.make_docs.load_nb\n",
        ":::\n"
      ]
    },
    {
      "cell_type": "code",
      "execution_count": 5,
      "id": "057dbc50e74c1068",
      "metadata": {
        "execution": {
          "iopub.execute_input": "2022-08-17T03:22:02.428057Z",
          "iopub.status.busy": "2022-08-17T03:22:02.427654Z",
          "iopub.status.idle": "2022-08-17T03:22:02.429284Z",
          "shell.execute_reply": "2022-08-17T03:22:02.429618Z"
        },
        "papermill": {
          "duration": 0.014724,
          "end_time": "2022-08-17T03:22:02.429725",
          "exception": false,
          "start_time": "2022-08-17T03:22:02.415001",
          "status": "completed"
        },
        "tags": [
          "hide-input"
        ]
      },
      "outputs": [],
      "source": [
        "def load_nb(path: str) -> Dict:\n",
        "    \"\"\" load a jupyter notebook as dictionary\n",
        "\n",
        "    Args:\n",
        "        path: the path of the notebook to load\n",
        "\n",
        "    Returns:\n",
        "        the notebook represented as a dictionary\n",
        "    \"\"\"\n",
        "    with open(path, \"r\") as file:\n",
        "        nb = json.load(file)\n",
        "    return nb"
      ]
    },
    {
      "cell_type": "markdown",
      "id": "dc81ffa0124ad3da",
      "metadata": {},
      "source": [
        ":::{eval-rst}\n",
        ".. autofunction:: sax.make_docs.repository_path\n",
        ":::\n"
      ]
    },
    {
      "cell_type": "code",
      "execution_count": 6,
      "id": "fce2cc69a0e93a5c",
      "metadata": {
        "execution": {
          "iopub.execute_input": "2022-08-17T03:22:02.454158Z",
          "iopub.status.busy": "2022-08-17T03:22:02.453723Z",
          "iopub.status.idle": "2022-08-17T03:22:02.455299Z",
          "shell.execute_reply": "2022-08-17T03:22:02.454983Z"
        },
        "papermill": {
          "duration": 0.01595,
          "end_time": "2022-08-17T03:22:02.455383",
          "exception": false,
          "start_time": "2022-08-17T03:22:02.439433",
          "status": "completed"
        },
        "tags": [
          "hide-input"
        ]
      },
      "outputs": [],
      "source": [
        "def repository_path(*path_parts: str, not_exist_ok: bool=False) -> str:\n",
        "    \"\"\" Get and validate a path in the modelbuild repository\n",
        "\n",
        "    Args:\n",
        "        *path_parts: the path parts that will be joined together\n",
        "            relative to the root of the repository.\n",
        "        not_exist_ok: skip validation if True\n",
        "\n",
        "    Returns:\n",
        "        the absolute path of the referenced file.\n",
        "    \"\"\"\n",
        "    if not (os.path.exists(path:=os.path.join(ROOT, \"docs\"))):\n",
        "        raise FileNotFoundError(f\"docs path {path!r} not found!\")\n",
        "    if not (os.path.exists(path:=os.path.join(ROOT, \"nbs\"))):\n",
        "        raise FileNotFoundError(f\"nbs path {path!r} not found!\")\n",
        "    if not (os.path.exists(path:=os.path.join(ROOT, \"sax\"))):\n",
        "        raise FileNotFoundError(f\"sax path {path!r} not found!\")\n",
        "\n",
        "    path = os.path.join(ROOT, *path_parts)\n",
        "    if not not_exist_ok and not os.path.exists(path):\n",
        "        raise FileNotFoundError(f\"Path {path!r} does not exist.\")\n",
        "\n",
        "    return path"
      ]
    },
    {
      "cell_type": "markdown",
      "id": "798a81ea77281492",
      "metadata": {},
      "source": [
        ":::{eval-rst}\n",
        ".. autofunction:: sax.make_docs.docs_path\n",
        ":::\n"
      ]
    },
    {
      "cell_type": "code",
      "execution_count": 7,
      "id": "db5c7718b74aedb5",
      "metadata": {
        "execution": {
          "iopub.execute_input": "2022-08-17T03:22:02.477980Z",
          "iopub.status.busy": "2022-08-17T03:22:02.477566Z",
          "iopub.status.idle": "2022-08-17T03:22:02.479265Z",
          "shell.execute_reply": "2022-08-17T03:22:02.478943Z"
        },
        "papermill": {
          "duration": 0.014175,
          "end_time": "2022-08-17T03:22:02.479352",
          "exception": false,
          "start_time": "2022-08-17T03:22:02.465177",
          "status": "completed"
        },
        "tags": [
          "hide-input"
        ]
      },
      "outputs": [],
      "source": [
        "def docs_path(*path_parts: str, not_exist_ok: bool=False) -> str:\n",
        "    return repository_path('docs', *path_parts, not_exist_ok=not_exist_ok)"
      ]
    },
    {
      "cell_type": "markdown",
      "id": "7fe84c739ec57827",
      "metadata": {},
      "source": [
        ":::{eval-rst}\n",
        ".. autofunction:: sax.make_docs.save_nb\n",
        ":::\n"
      ]
    },
    {
      "cell_type": "code",
      "execution_count": 8,
      "id": "f7b4e27cef8c8941",
      "metadata": {
        "execution": {
          "iopub.execute_input": "2022-08-17T03:22:02.502996Z",
          "iopub.status.busy": "2022-08-17T03:22:02.502584Z",
          "iopub.status.idle": "2022-08-17T03:22:02.504391Z",
          "shell.execute_reply": "2022-08-17T03:22:02.504061Z"
        },
        "papermill": {
          "duration": 0.015318,
          "end_time": "2022-08-17T03:22:02.504482",
          "exception": false,
          "start_time": "2022-08-17T03:22:02.489164",
          "status": "completed"
        },
        "tags": [
          "hide-input"
        ]
      },
      "outputs": [],
      "source": [
        "def save_nb(nb: Dict, path: str) -> str:\n",
        "    \"\"\" save a dictionary as a jupyter notebook\n",
        "\n",
        "    Args:\n",
        "        nb: the dictionary to convert into an ipynb file\n",
        "        path: the path to save the notebook under\n",
        "\n",
        "    Returns:\n",
        "        the path where the notebook was saved.\n",
        "    \"\"\"\n",
        "    path = os.path.abspath(path)\n",
        "    os.makedirs(os.path.dirname(path), exist_ok=True)\n",
        "    with open(path, \"w\") as file:\n",
        "        json.dump(nb, file, indent=2)\n",
        "    return path"
      ]
    },
    {
      "cell_type": "markdown",
      "id": "d960f765e47ca02d",
      "metadata": {},
      "source": [
        ":::{eval-rst}\n",
        ".. autofunction:: sax.make_docs.strip_metadata\n",
        ":::\n"
      ]
    },
    {
      "cell_type": "code",
      "execution_count": 9,
      "id": "22d2b37dbb4c7840",
      "metadata": {
        "execution": {
          "iopub.execute_input": "2022-08-17T03:22:02.528458Z",
          "iopub.status.busy": "2022-08-17T03:22:02.528036Z",
          "iopub.status.idle": "2022-08-17T03:22:02.529996Z",
          "shell.execute_reply": "2022-08-17T03:22:02.529647Z"
        },
        "papermill": {
          "duration": 0.015584,
          "end_time": "2022-08-17T03:22:02.530083",
          "exception": false,
          "start_time": "2022-08-17T03:22:02.514499",
          "status": "completed"
        },
        "tags": [
          "hide-input"
        ]
      },
      "outputs": [],
      "source": [
        "def strip_metadata(nb: Union[Dict, str]) -> Union[Dict,str]:\n",
        "    path = ''\n",
        "    if isinstance(nb, str):\n",
        "        path = nb\n",
        "        nb = load_nb(nb)\n",
        "    for cell in nb['cells']:\n",
        "        if not 'metadata' in cell:\n",
        "            continue\n",
        "        cell['metadata'] = {}\n",
        "    if path:\n",
        "        return save_nb(nb, path)\n",
        "    return path"
      ]
    },
    {
      "cell_type": "code",
      "execution_count": 10,
      "id": "9e1f2d3038589345",
      "metadata": {
        "execution": {
          "iopub.execute_input": "2022-08-17T03:22:02.554168Z",
          "iopub.status.busy": "2022-08-17T03:22:02.553750Z",
          "iopub.status.idle": "2022-08-17T03:22:02.555195Z",
          "shell.execute_reply": "2022-08-17T03:22:02.555490Z"
        },
        "papermill": {
          "duration": 0.015156,
          "end_time": "2022-08-17T03:22:02.555600",
          "exception": false,
          "start_time": "2022-08-17T03:22:02.540444",
          "status": "completed"
        },
        "tags": [
          "remove-cell"
        ]
      },
      "outputs": [],
      "source": [
        "def iter_code_cells(nb):\n",
        "    for cell in nb.get('cells', []):\n",
        "        if not cell.get(\"cell_type\", \"\") == \"code\":\n",
        "            continue\n",
        "        yield cell"
      ]
    },
    {
      "cell_type": "code",
      "execution_count": 11,
      "id": "c4d3b41cc228da88",
      "metadata": {
        "execution": {
          "iopub.execute_input": "2022-08-17T03:22:02.579224Z",
          "iopub.status.busy": "2022-08-17T03:22:02.578519Z",
          "iopub.status.idle": "2022-08-17T03:22:02.580610Z",
          "shell.execute_reply": "2022-08-17T03:22:02.580294Z"
        },
        "papermill": {
          "duration": 0.014963,
          "end_time": "2022-08-17T03:22:02.580697",
          "exception": false,
          "start_time": "2022-08-17T03:22:02.565734",
          "status": "completed"
        },
        "tags": [
          "remove-cell"
        ]
      },
      "outputs": [],
      "source": [
        "def first_code_cell(nb):\n",
        "    try:\n",
        "        return next(iter_code_cells(nb))\n",
        "    except StopIteration:\n",
        "        return None"
      ]
    },
    {
      "cell_type": "code",
      "execution_count": 12,
      "id": "eaa25ba930071abf",
      "metadata": {
        "execution": {
          "iopub.execute_input": "2022-08-17T03:22:02.604363Z",
          "iopub.status.busy": "2022-08-17T03:22:02.603942Z",
          "iopub.status.idle": "2022-08-17T03:22:02.605774Z",
          "shell.execute_reply": "2022-08-17T03:22:02.605433Z"
        },
        "papermill": {
          "duration": 0.014997,
          "end_time": "2022-08-17T03:22:02.605862",
          "exception": false,
          "start_time": "2022-08-17T03:22:02.590865",
          "status": "completed"
        },
        "tags": [
          "remove-cell"
        ]
      },
      "outputs": [],
      "source": [
        "def get_default_exp(nb):\n",
        "    first_cell = first_code_cell(nb) or {}\n",
        "    first_source = first_cell.get('source', [])\n",
        "    first_line = \"\" if not first_source else first_source[0]\n",
        "    default_exp = first_line.split(\"default_exp\")[-1].strip()\n",
        "    return default_exp"
      ]
    },
    {
      "cell_type": "code",
      "execution_count": 13,
      "id": "41e4624e1b120bc9",
      "metadata": {
        "execution": {
          "iopub.execute_input": "2022-08-17T03:22:02.630029Z",
          "iopub.status.busy": "2022-08-17T03:22:02.629618Z",
          "iopub.status.idle": "2022-08-17T03:22:02.631408Z",
          "shell.execute_reply": "2022-08-17T03:22:02.631071Z"
        },
        "papermill": {
          "duration": 0.015279,
          "end_time": "2022-08-17T03:22:02.631492",
          "exception": false,
          "start_time": "2022-08-17T03:22:02.616213",
          "status": "completed"
        },
        "tags": [
          "remove-cell"
        ]
      },
      "outputs": [],
      "source": [
        "def iter_function_names(source):\n",
        "    for line in source:\n",
        "        if not line.startswith(\"def \"):\n",
        "            continue\n",
        "        if line.startswith(\"def _\"):\n",
        "            continue\n",
        "        yield line.split(\"def \")[1].split(\"(\")[0]"
      ]
    },
    {
      "cell_type": "markdown",
      "id": "86f4d3059056470d",
      "metadata": {},
      "source": [
        ":::{eval-rst}\n",
        ".. autofunction:: sax.make_docs.docs_copy_nb\n",
        ":::\n"
      ]
    },
    {
      "cell_type": "code",
      "execution_count": 14,
      "id": "90d17134f1b12090",
      "metadata": {
        "execution": {
          "iopub.execute_input": "2022-08-17T03:22:02.660098Z",
          "iopub.status.busy": "2022-08-17T03:22:02.659665Z",
          "iopub.status.idle": "2022-08-17T03:22:02.661718Z",
          "shell.execute_reply": "2022-08-17T03:22:02.661363Z"
        },
        "papermill": {
          "duration": 0.019885,
          "end_time": "2022-08-17T03:22:02.661810",
          "exception": false,
          "start_time": "2022-08-17T03:22:02.641925",
          "status": "completed"
        },
        "tags": [
          "hide-input"
        ]
      },
      "outputs": [],
      "source": [
        "def docs_copy_nb(relpath, docsrelpath=None):\n",
        "    \"\"\"copy a single notebook from src to dst with modified docs metadata.\"\"\"\n",
        "    src = repository_path(relpath)\n",
        "    dst = docs_path((docsrelpath or relpath), not_exist_ok=True)\n",
        "    nb = load_nb(src)\n",
        "    nb_new = {**nb}\n",
        "    nb_new[\"cells\"] = []\n",
        "    module = get_default_exp(nb)\n",
        "\n",
        "    for cell in nb.get('cells', []):\n",
        "        if not cell.get(\"cell_type\", \"\") == \"code\":\n",
        "            nb_new[\"cells\"].append(cell)\n",
        "            continue\n",
        "            \n",
        "        cell_tags = cell.get(\"metadata\", {}).get(\"tags\", [])\n",
        "        source = cell.get(\"source\") or [\"\"]\n",
        "        line = source[0].strip()\n",
        "        \n",
        "        if not line.startswith(\"#\"):\n",
        "            nb_new[\"cells\"].append(cell)\n",
        "            continue\n",
        "            \n",
        "        keys = [k.strip() for k in line.split(\" \")]\n",
        "        keys = [k for k in keys if k in MAGIC_COMMENTS]\n",
        "        if keys:\n",
        "            del source[0]\n",
        "        for key in keys:\n",
        "            tag = MAGIC_COMMENTS[key]\n",
        "            if tag:\n",
        "                cell_tags.append(tag)\n",
        "        if len(cell_tags) > 0:\n",
        "            cell[\"metadata\"][\"tags\"] = cell_tags\n",
        "\n",
        "        if not 'remove-cell' in cell_tags:\n",
        "            for function_name in iter_function_names(source):\n",
        "                extra_cell = {\n",
        "                    \"cell_type\": \"markdown\",\n",
        "                    \"id\": secrets.token_hex(8),\n",
        "                    \"metadata\": {},\n",
        "                    \"source\": [\n",
        "                        \":::{eval-rst}\\n\",\n",
        "                        f\".. autofunction:: sax.{module}.{function_name}\\n\",\n",
        "                        \":::\\n\"\n",
        "                    ],\n",
        "                }\n",
        "                nb_new[\"cells\"].append(extra_cell)\n",
        "\n",
        "        cell[\"id\"] = secrets.token_hex(8)\n",
        "        nb_new[\"cells\"].append(cell)\n",
        "\n",
        "    os.makedirs(os.path.dirname(dst), exist_ok=True)\n",
        "    save_nb(nb_new, dst)\n",
        "    return dst"
      ]
    },
    {
      "cell_type": "markdown",
      "id": "af0ce8da022ef580",
      "metadata": {},
      "source": [
        ":::{eval-rst}\n",
        ".. autofunction:: sax.make_docs.list_notebooks\n",
        ":::\n"
      ]
    },
    {
      "cell_type": "markdown",
      "id": "e8aeab13c060f82a",
      "metadata": {},
      "source": [
        ":::{eval-rst}\n",
        ".. autofunction:: sax.make_docs.list_zips\n",
        ":::\n"
      ]
    },
    {
      "cell_type": "code",
      "execution_count": 15,
      "id": "89ebd33ace2f4627",
      "metadata": {
        "execution": {
          "iopub.execute_input": "2022-08-17T03:22:02.685956Z",
          "iopub.status.busy": "2022-08-17T03:22:02.685526Z",
          "iopub.status.idle": "2022-08-17T03:22:02.687147Z",
          "shell.execute_reply": "2022-08-17T03:22:02.686803Z"
        },
        "papermill": {
          "duration": 0.015147,
          "end_time": "2022-08-17T03:22:02.687236",
          "exception": false,
          "start_time": "2022-08-17T03:22:02.672089",
          "status": "completed"
        },
        "tags": [
          "hide-input"
        ]
      },
      "outputs": [],
      "source": [
        "def list_notebooks(dir):\n",
        "    return glob.glob(os.path.join(dir, \"**/*.ipynb\"), recursive=True)\n",
        "\n",
        "def list_zips(dir):\n",
        "    return glob.glob(os.path.join(dir, \"**/*.zip\"), recursive=True)"
      ]
    },
    {
      "cell_type": "markdown",
      "id": "21fe67e22c9531e7",
      "metadata": {},
      "source": [
        ":::{eval-rst}\n",
        ".. autofunction:: sax.make_docs.docs_copy_dir\n",
        ":::\n"
      ]
    },
    {
      "cell_type": "code",
      "execution_count": 16,
      "id": "b360a46a00bae4ab",
      "metadata": {
        "execution": {
          "iopub.execute_input": "2022-08-17T03:22:02.712164Z",
          "iopub.status.busy": "2022-08-17T03:22:02.711739Z",
          "iopub.status.idle": "2022-08-17T03:22:02.713409Z",
          "shell.execute_reply": "2022-08-17T03:22:02.713008Z"
        },
        "papermill": {
          "duration": 0.015889,
          "end_time": "2022-08-17T03:22:02.713515",
          "exception": false,
          "start_time": "2022-08-17T03:22:02.697626",
          "status": "completed"
        },
        "tags": [
          "hide-input"
        ]
      },
      "outputs": [],
      "source": [
        "def docs_copy_dir(relpath):\n",
        "    main_src = repository_path(relpath)\n",
        "    for src in list_notebooks(main_src):\n",
        "        rel = os.path.relpath(src, repository_path())\n",
        "        docs_copy_nb(rel)\n",
        "    for src in list_zips(main_src):\n",
        "        rel = os.path.relpath(src, repository_path())\n",
        "        dst = docs_path(\"_build\", \"html\", rel, not_exist_ok=True)\n",
        "        os.makedirs(os.path.dirname(dst), exist_ok=True)\n",
        "        shutil.copy2(src, dst)"
      ]
    },
    {
      "cell_type": "markdown",
      "id": "45d528c3e54dff22",
      "metadata": {},
      "source": [
        ":::{eval-rst}\n",
        ".. autofunction:: sax.make_docs.docs_copy_simulations\n",
        ":::\n"
      ]
    },
    {
      "cell_type": "code",
      "execution_count": 17,
      "id": "d7823e7d3479db25",
      "metadata": {
        "execution": {
          "iopub.execute_input": "2022-08-17T03:22:02.740070Z",
          "iopub.status.busy": "2022-08-17T03:22:02.739646Z",
          "iopub.status.idle": "2022-08-17T03:22:02.741324Z",
          "shell.execute_reply": "2022-08-17T03:22:02.741004Z"
        },
        "papermill": {
          "duration": 0.017349,
          "end_time": "2022-08-17T03:22:02.741413",
          "exception": false,
          "start_time": "2022-08-17T03:22:02.724064",
          "status": "completed"
        },
        "tags": [
          "hide-input"
        ]
      },
      "outputs": [],
      "source": [
        "def docs_copy_simulations():\n",
        "    with_results, without_results = {}, {}\n",
        "    for fn in os.listdir(simulations_path()):\n",
        "        sim, ext = os.path.splitext(fn)\n",
        "        if ext != \".ipynb\":\n",
        "            continue\n",
        "        try:\n",
        "            with_results[sim] = get_nominal_result(sim)\n",
        "        except FileNotFoundError:\n",
        "            without_results[sim] = {'hash': None, 'params': get_default_params(simulations_path(f\"{sim}.ipynb\"))}\n",
        "        except ValueError:\n",
        "            without_results[sim] = {'hash': None, 'params': get_default_params(simulations_path(f\"{sim}.ipynb\"))}\n",
        "            #raise\n",
        "        \n",
        "    for k, r in with_results.items():\n",
        "        docs_copy_nb(f\"results/{k}/{r['hash']}/_simulated.ipynb\", f\"simulations/{k}.ipynb\")\n",
        "        \n",
        "    for k, r in without_results.items():\n",
        "        docs_copy_nb(f\"simulations/{k}.ipynb\", f\"simulations/{k}.ipynb\")\n",
        "        \n",
        "    shutil.copytree(simulations_path(\"img\"), docs_path(\"_build\", \"html\", \"simulations\", \"img\", not_exist_ok=True), dirs_exist_ok=True)\n",
        "    return with_results, without_results"
      ]
    },
    {
      "cell_type": "markdown",
      "id": "a66ad65e21da06cc",
      "metadata": {},
      "source": [
        ":::{eval-rst}\n",
        ".. autofunction:: sax.make_docs.get_toc_part\n",
        ":::\n"
      ]
    },
    {
      "cell_type": "code",
      "execution_count": 18,
      "id": "599667501defd90a",
      "metadata": {
        "execution": {
          "iopub.execute_input": "2022-08-17T03:22:02.766404Z",
          "iopub.status.busy": "2022-08-17T03:22:02.765979Z",
          "iopub.status.idle": "2022-08-17T03:22:02.767705Z",
          "shell.execute_reply": "2022-08-17T03:22:02.767379Z"
        },
        "papermill": {
          "duration": 0.015706,
          "end_time": "2022-08-17T03:22:02.767795",
          "exception": false,
          "start_time": "2022-08-17T03:22:02.752089",
          "status": "completed"
        },
        "tags": [
          "hide-input"
        ]
      },
      "outputs": [],
      "source": [
        "def get_toc_part(toc, caption):\n",
        "    parts = [p for p in toc[\"parts\"] if caption == p[\"caption\"]]\n",
        "    try:\n",
        "        return parts[0]\n",
        "    except IndexError:\n",
        "        raise ValueError(f\"No TOC part with caption {caption!r} found.\")"
      ]
    },
    {
      "cell_type": "markdown",
      "id": "4e801ed5febba558",
      "metadata": {},
      "source": [
        ":::{eval-rst}\n",
        ".. autofunction:: sax.make_docs.make_docs\n",
        ":::\n"
      ]
    },
    {
      "cell_type": "code",
      "execution_count": 19,
      "id": "cba99e330fe15565",
      "metadata": {
        "execution": {
          "iopub.execute_input": "2022-08-17T03:22:02.792675Z",
          "iopub.status.busy": "2022-08-17T03:22:02.792246Z",
          "iopub.status.idle": "2022-08-17T03:22:02.793912Z",
          "shell.execute_reply": "2022-08-17T03:22:02.793560Z"
        },
        "papermill": {
          "duration": 0.01554,
          "end_time": "2022-08-17T03:22:02.793999",
          "exception": false,
          "start_time": "2022-08-17T03:22:02.778459",
          "status": "completed"
        },
        "tags": [
          "hide-input"
        ]
      },
      "outputs": [],
      "source": [
        "def make_docs():\n",
        "    docs_copy_nb(\"index.ipynb\")\n",
        "    docs_copy_dir(\"nbs\")\n",
        "    docs_copy_dir(\"examples\")\n",
        "    os.chdir(docs_path())\n",
        "    subprocess.check_call([sys.executable.replace(\"python\", \"jupyter-book\"), \"build\", \".\"])"
      ]
    },
    {
      "cell_type": "code",
      "execution_count": 20,
      "id": "b274cbed5ad14d38",
      "metadata": {
        "execution": {
          "iopub.execute_input": "2022-08-17T03:22:02.819178Z",
          "iopub.status.busy": "2022-08-17T03:22:02.818754Z",
          "iopub.status.idle": "2022-08-17T03:22:02.820519Z",
          "shell.execute_reply": "2022-08-17T03:22:02.820195Z"
        },
        "papermill": {
          "duration": 0.015753,
          "end_time": "2022-08-17T03:22:02.820616",
          "exception": false,
          "start_time": "2022-08-17T03:22:02.804863",
          "status": "completed"
        },
        "tags": [
          "hide-input"
        ]
      },
      "outputs": [],
      "source": [
        "if __name__ == '__main__' and not IN_IPYTHON:\n",
        "    make_docs()"
      ]
    }
  ],
  "metadata": {
    "kernelspec": {
      "display_name": "sax",
      "language": "python",
      "name": "sax"
    },
    "language_info": {
      "codemirror_mode": {
        "name": "ipython",
        "version": 3
      },
      "file_extension": ".py",
      "mimetype": "text/x-python",
      "name": "python",
      "nbconvert_exporter": "python",
      "pygments_lexer": "ipython3",
      "version": "3.9.0"
    },
    "papermill": {
      "default_parameters": {},
      "duration": 1.777171,
      "end_time": "2022-08-17T03:22:02.936174",
      "environment_variables": {},
      "exception": null,
      "input_path": "./nbs/98_make_docs.ipynb",
      "output_path": "./nbs/98_make_docs.ipynb",
      "parameters": {},
      "start_time": "2022-08-17T03:22:01.159003",
      "version": "2.3.4"
    }
  },
  "nbformat": 4,
  "nbformat_minor": 5
}
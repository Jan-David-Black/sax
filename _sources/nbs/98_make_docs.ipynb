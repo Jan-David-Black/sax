{
  "cells": [
    {
      "cell_type": "code",
      "execution_count": 1,
      "id": "67d41603a6f6e327",
      "metadata": {
        "execution": {
          "iopub.execute_input": "2022-08-16T04:18:03.174335Z",
          "iopub.status.busy": "2022-08-16T04:18:03.173887Z",
          "iopub.status.idle": "2022-08-16T04:18:03.176682Z",
          "shell.execute_reply": "2022-08-16T04:18:03.176266Z"
        },
        "papermill": {
          "duration": 0.042947,
          "end_time": "2022-08-16T04:18:03.176792",
          "exception": false,
          "start_time": "2022-08-16T04:18:03.133845",
          "status": "completed"
        },
        "tags": [
          "remove-cell"
        ]
      },
      "outputs": [],
      "source": []
    },
    {
      "cell_type": "markdown",
      "id": "7f878cbc-3e90-4ceb-8633-79250de6d6b8",
      "metadata": {
        "papermill": {
          "duration": 0.024724,
          "end_time": "2022-08-16T04:18:03.235896",
          "exception": false,
          "start_time": "2022-08-16T04:18:03.211172",
          "status": "completed"
        },
        "tags": []
      },
      "source": [
        "# SAX make docs\n",
        "> CLI: build jupyter-books based docs"
      ]
    },
    {
      "cell_type": "code",
      "execution_count": 2,
      "id": "9516286594d529df",
      "metadata": {
        "execution": {
          "iopub.execute_input": "2022-08-16T04:18:03.262130Z",
          "iopub.status.busy": "2022-08-16T04:18:03.260240Z",
          "iopub.status.idle": "2022-08-16T04:18:03.265276Z",
          "shell.execute_reply": "2022-08-16T04:18:03.264935Z"
        },
        "papermill": {
          "duration": 0.020277,
          "end_time": "2022-08-16T04:18:03.265370",
          "exception": false,
          "start_time": "2022-08-16T04:18:03.245093",
          "status": "completed"
        },
        "tags": [
          "remove-cell"
        ]
      },
      "outputs": [],
      "source": [
        "from __future__ import annotations\n",
        "\n",
        "import glob\n",
        "import json\n",
        "import os\n",
        "import re\n",
        "import secrets\n",
        "import shutil\n",
        "import subprocess\n",
        "import sys\n",
        "from typing import Dict, Union\n",
        "\n",
        "from fastcore.imports import IN_IPYTHON"
      ]
    },
    {
      "cell_type": "code",
      "execution_count": 3,
      "id": "2966ce95255bd10f",
      "metadata": {
        "execution": {
          "iopub.execute_input": "2022-08-16T04:18:03.287364Z",
          "iopub.status.busy": "2022-08-16T04:18:03.286946Z",
          "iopub.status.idle": "2022-08-16T04:18:03.288843Z",
          "shell.execute_reply": "2022-08-16T04:18:03.288493Z"
        },
        "papermill": {
          "duration": 0.014452,
          "end_time": "2022-08-16T04:18:03.288931",
          "exception": false,
          "start_time": "2022-08-16T04:18:03.274479",
          "status": "completed"
        },
        "tags": [
          "hide-input"
        ]
      },
      "outputs": [],
      "source": [
        "MAGIC_COMMENTS = {\n",
        "    \"default_exp\": \"remove-cell\",\n",
        "    \"exporti\": \"remove-cell\",\n",
        "    \"export\": \"hide-input\",\n",
        "    \"exports\": None,\n",
        "    \"hide\": \"remove-cell\",\n",
        "    \"hide_input\": \"remove-input\",\n",
        "    \"hide_output\": \"remove-output\",\n",
        "    \"collapse_input\": \"hide-input\",\n",
        "    \"collapse_output\": \"hide-output\",\n",
        "}"
      ]
    },
    {
      "cell_type": "code",
      "execution_count": 4,
      "id": "3280b2a328a67746",
      "metadata": {
        "execution": {
          "iopub.execute_input": "2022-08-16T04:18:03.310584Z",
          "iopub.status.busy": "2022-08-16T04:18:03.310173Z",
          "iopub.status.idle": "2022-08-16T04:18:03.312095Z",
          "shell.execute_reply": "2022-08-16T04:18:03.311736Z"
        },
        "papermill": {
          "duration": 0.01399,
          "end_time": "2022-08-16T04:18:03.312179",
          "exception": false,
          "start_time": "2022-08-16T04:18:03.298189",
          "status": "completed"
        },
        "tags": [
          "hide-input"
        ]
      },
      "outputs": [],
      "source": [
        "if IN_IPYTHON:\n",
        "    ROOT = os.path.abspath('..')\n",
        "else:\n",
        "    ROOT = os.path.abspath('.')"
      ]
    },
    {
      "cell_type": "markdown",
      "id": "86331f066aa9b790",
      "metadata": {},
      "source": [
        ":::{eval-rst}\n",
        ".. autofunction:: sax.make_docs.load_nb\n",
        ":::\n"
      ]
    },
    {
      "cell_type": "code",
      "execution_count": 5,
      "id": "5f2243963d41d435",
      "metadata": {
        "execution": {
          "iopub.execute_input": "2022-08-16T04:18:03.333081Z",
          "iopub.status.busy": "2022-08-16T04:18:03.332668Z",
          "iopub.status.idle": "2022-08-16T04:18:03.336640Z",
          "shell.execute_reply": "2022-08-16T04:18:03.336312Z"
        },
        "papermill": {
          "duration": 0.015222,
          "end_time": "2022-08-16T04:18:03.336727",
          "exception": false,
          "start_time": "2022-08-16T04:18:03.321505",
          "status": "completed"
        },
        "tags": [
          "hide-input"
        ]
      },
      "outputs": [],
      "source": [
        "def load_nb(path: str) -> Dict:\n",
        "    \"\"\" load a jupyter notebook as dictionary\n",
        "\n",
        "    Args:\n",
        "        path: the path of the notebook to load\n",
        "\n",
        "    Returns:\n",
        "        the notebook represented as a dictionary\n",
        "    \"\"\"\n",
        "    with open(path, \"r\") as file:\n",
        "        nb = json.load(file)\n",
        "    return nb"
      ]
    },
    {
      "cell_type": "markdown",
      "id": "7a10d297b0264eb5",
      "metadata": {},
      "source": [
        ":::{eval-rst}\n",
        ".. autofunction:: sax.make_docs.repository_path\n",
        ":::\n"
      ]
    },
    {
      "cell_type": "code",
      "execution_count": 6,
      "id": "f6299aa94841ff15",
      "metadata": {
        "execution": {
          "iopub.execute_input": "2022-08-16T04:18:03.360468Z",
          "iopub.status.busy": "2022-08-16T04:18:03.360049Z",
          "iopub.status.idle": "2022-08-16T04:18:03.362038Z",
          "shell.execute_reply": "2022-08-16T04:18:03.361708Z"
        },
        "papermill": {
          "duration": 0.016082,
          "end_time": "2022-08-16T04:18:03.362125",
          "exception": false,
          "start_time": "2022-08-16T04:18:03.346043",
          "status": "completed"
        },
        "tags": [
          "hide-input"
        ]
      },
      "outputs": [],
      "source": [
        "def repository_path(*path_parts: str, not_exist_ok: bool=False) -> str:\n",
        "    \"\"\" Get and validate a path in the modelbuild repository\n",
        "\n",
        "    Args:\n",
        "        *path_parts: the path parts that will be joined together\n",
        "            relative to the root of the repository.\n",
        "        not_exist_ok: skip validation if True\n",
        "\n",
        "    Returns:\n",
        "        the absolute path of the referenced file.\n",
        "    \"\"\"\n",
        "    if not (os.path.exists(path:=os.path.join(ROOT, \"docs\"))):\n",
        "        raise FileNotFoundError(f\"docs path {path!r} not found!\")\n",
        "    if not (os.path.exists(path:=os.path.join(ROOT, \"nbs\"))):\n",
        "        raise FileNotFoundError(f\"nbs path {path!r} not found!\")\n",
        "    if not (os.path.exists(path:=os.path.join(ROOT, \"sax\"))):\n",
        "        raise FileNotFoundError(f\"sax path {path!r} not found!\")\n",
        "\n",
        "    path = os.path.join(ROOT, *path_parts)\n",
        "    if not not_exist_ok and not os.path.exists(path):\n",
        "        raise FileNotFoundError(f\"Path {path!r} does not exist.\")\n",
        "\n",
        "    return path"
      ]
    },
    {
      "cell_type": "markdown",
      "id": "3681a21f0d3994fb",
      "metadata": {},
      "source": [
        ":::{eval-rst}\n",
        ".. autofunction:: sax.make_docs.docs_path\n",
        ":::\n"
      ]
    },
    {
      "cell_type": "code",
      "execution_count": 7,
      "id": "b84acf79cfad856c",
      "metadata": {
        "execution": {
          "iopub.execute_input": "2022-08-16T04:18:03.384247Z",
          "iopub.status.busy": "2022-08-16T04:18:03.383827Z",
          "iopub.status.idle": "2022-08-16T04:18:03.385645Z",
          "shell.execute_reply": "2022-08-16T04:18:03.385294Z"
        },
        "papermill": {
          "duration": 0.013869,
          "end_time": "2022-08-16T04:18:03.385729",
          "exception": false,
          "start_time": "2022-08-16T04:18:03.371860",
          "status": "completed"
        },
        "tags": [
          "hide-input"
        ]
      },
      "outputs": [],
      "source": [
        "def docs_path(*path_parts: str, not_exist_ok: bool=False) -> str:\n",
        "    return repository_path('docs', *path_parts, not_exist_ok=not_exist_ok)"
      ]
    },
    {
      "cell_type": "markdown",
      "id": "523b85f0922e06c2",
      "metadata": {},
      "source": [
        ":::{eval-rst}\n",
        ".. autofunction:: sax.make_docs.save_nb\n",
        ":::\n"
      ]
    },
    {
      "cell_type": "code",
      "execution_count": 8,
      "id": "0ad4a762e8fbf217",
      "metadata": {
        "execution": {
          "iopub.execute_input": "2022-08-16T04:18:03.408755Z",
          "iopub.status.busy": "2022-08-16T04:18:03.408337Z",
          "iopub.status.idle": "2022-08-16T04:18:03.410259Z",
          "shell.execute_reply": "2022-08-16T04:18:03.409909Z"
        },
        "papermill": {
          "duration": 0.015179,
          "end_time": "2022-08-16T04:18:03.410345",
          "exception": false,
          "start_time": "2022-08-16T04:18:03.395166",
          "status": "completed"
        },
        "tags": [
          "hide-input"
        ]
      },
      "outputs": [],
      "source": [
        "def save_nb(nb: Dict, path: str) -> str:\n",
        "    \"\"\" save a dictionary as a jupyter notebook\n",
        "\n",
        "    Args:\n",
        "        nb: the dictionary to convert into an ipynb file\n",
        "        path: the path to save the notebook under\n",
        "\n",
        "    Returns:\n",
        "        the path where the notebook was saved.\n",
        "    \"\"\"\n",
        "    path = os.path.abspath(path)\n",
        "    os.makedirs(os.path.dirname(path), exist_ok=True)\n",
        "    with open(path, \"w\") as file:\n",
        "        json.dump(nb, file, indent=2)\n",
        "    return path"
      ]
    },
    {
      "cell_type": "markdown",
      "id": "9dd225ad82edf8c3",
      "metadata": {},
      "source": [
        ":::{eval-rst}\n",
        ".. autofunction:: sax.make_docs.strip_metadata\n",
        ":::\n"
      ]
    },
    {
      "cell_type": "code",
      "execution_count": 9,
      "id": "46d849fd1c3c5534",
      "metadata": {
        "execution": {
          "iopub.execute_input": "2022-08-16T04:18:03.433507Z",
          "iopub.status.busy": "2022-08-16T04:18:03.433097Z",
          "iopub.status.idle": "2022-08-16T04:18:03.435157Z",
          "shell.execute_reply": "2022-08-16T04:18:03.434826Z"
        },
        "papermill": {
          "duration": 0.015369,
          "end_time": "2022-08-16T04:18:03.435243",
          "exception": false,
          "start_time": "2022-08-16T04:18:03.419874",
          "status": "completed"
        },
        "tags": [
          "hide-input"
        ]
      },
      "outputs": [],
      "source": [
        "def strip_metadata(nb: Union[Dict, str]) -> Union[Dict,str]:\n",
        "    path = ''\n",
        "    if isinstance(nb, str):\n",
        "        path = nb\n",
        "        nb = load_nb(nb)\n",
        "    for cell in nb['cells']:\n",
        "        if not 'metadata' in cell:\n",
        "            continue\n",
        "        cell['metadata'] = {}\n",
        "    if path:\n",
        "        return save_nb(nb, path)\n",
        "    return path"
      ]
    },
    {
      "cell_type": "code",
      "execution_count": 10,
      "id": "cc6f1ad985fad05a",
      "metadata": {
        "execution": {
          "iopub.execute_input": "2022-08-16T04:18:03.458162Z",
          "iopub.status.busy": "2022-08-16T04:18:03.457751Z",
          "iopub.status.idle": "2022-08-16T04:18:03.459664Z",
          "shell.execute_reply": "2022-08-16T04:18:03.459304Z"
        },
        "papermill": {
          "duration": 0.014774,
          "end_time": "2022-08-16T04:18:03.459754",
          "exception": false,
          "start_time": "2022-08-16T04:18:03.444980",
          "status": "completed"
        },
        "tags": [
          "remove-cell"
        ]
      },
      "outputs": [],
      "source": [
        "def iter_code_cells(nb):\n",
        "    for cell in nb.get('cells', []):\n",
        "        if not cell.get(\"cell_type\", \"\") == \"code\":\n",
        "            continue\n",
        "        yield cell"
      ]
    },
    {
      "cell_type": "code",
      "execution_count": 11,
      "id": "5633c666fb1fd3fc",
      "metadata": {
        "execution": {
          "iopub.execute_input": "2022-08-16T04:18:03.482305Z",
          "iopub.status.busy": "2022-08-16T04:18:03.481894Z",
          "iopub.status.idle": "2022-08-16T04:18:03.483721Z",
          "shell.execute_reply": "2022-08-16T04:18:03.483365Z"
        },
        "papermill": {
          "duration": 0.014438,
          "end_time": "2022-08-16T04:18:03.483812",
          "exception": false,
          "start_time": "2022-08-16T04:18:03.469374",
          "status": "completed"
        },
        "tags": [
          "remove-cell"
        ]
      },
      "outputs": [],
      "source": [
        "def first_code_cell(nb):\n",
        "    try:\n",
        "        return next(iter_code_cells(nb))\n",
        "    except StopIteration:\n",
        "        return None"
      ]
    },
    {
      "cell_type": "code",
      "execution_count": 12,
      "id": "179bf075a6a96f57",
      "metadata": {
        "execution": {
          "iopub.execute_input": "2022-08-16T04:18:03.507175Z",
          "iopub.status.busy": "2022-08-16T04:18:03.506761Z",
          "iopub.status.idle": "2022-08-16T04:18:03.508729Z",
          "shell.execute_reply": "2022-08-16T04:18:03.508396Z"
        },
        "papermill": {
          "duration": 0.015238,
          "end_time": "2022-08-16T04:18:03.508819",
          "exception": false,
          "start_time": "2022-08-16T04:18:03.493581",
          "status": "completed"
        },
        "tags": [
          "remove-cell"
        ]
      },
      "outputs": [],
      "source": [
        "def get_default_exp(nb):\n",
        "    first_cell = first_code_cell(nb) or {}\n",
        "    first_source = first_cell.get('source', [])\n",
        "    first_line = \"\" if not first_source else first_source[0]\n",
        "    default_exp = first_line.split(\"default_exp\")[-1].strip()\n",
        "    return default_exp"
      ]
    },
    {
      "cell_type": "code",
      "execution_count": 13,
      "id": "5fcbe240488e9c09",
      "metadata": {
        "execution": {
          "iopub.execute_input": "2022-08-16T04:18:03.532362Z",
          "iopub.status.busy": "2022-08-16T04:18:03.531940Z",
          "iopub.status.idle": "2022-08-16T04:18:03.534108Z",
          "shell.execute_reply": "2022-08-16T04:18:03.533754Z"
        },
        "papermill": {
          "duration": 0.015535,
          "end_time": "2022-08-16T04:18:03.534194",
          "exception": false,
          "start_time": "2022-08-16T04:18:03.518659",
          "status": "completed"
        },
        "tags": [
          "remove-cell"
        ]
      },
      "outputs": [],
      "source": [
        "def iter_function_names(source):\n",
        "    for line in source:\n",
        "        if not line.startswith(\"def \"):\n",
        "            continue\n",
        "        if line.startswith(\"def _\"):\n",
        "            continue\n",
        "        yield line.split(\"def \")[1].split(\"(\")[0]"
      ]
    },
    {
      "cell_type": "markdown",
      "id": "e482ab3b7710d603",
      "metadata": {},
      "source": [
        ":::{eval-rst}\n",
        ".. autofunction:: sax.make_docs.docs_copy_nb\n",
        ":::\n"
      ]
    },
    {
      "cell_type": "code",
      "execution_count": 14,
      "id": "548dc3caa6e7a834",
      "metadata": {
        "execution": {
          "iopub.execute_input": "2022-08-16T04:18:03.562479Z",
          "iopub.status.busy": "2022-08-16T04:18:03.562049Z",
          "iopub.status.idle": "2022-08-16T04:18:03.564123Z",
          "shell.execute_reply": "2022-08-16T04:18:03.563763Z"
        },
        "papermill": {
          "duration": 0.020196,
          "end_time": "2022-08-16T04:18:03.564209",
          "exception": false,
          "start_time": "2022-08-16T04:18:03.544013",
          "status": "completed"
        },
        "tags": [
          "hide-input"
        ]
      },
      "outputs": [],
      "source": [
        "def docs_copy_nb(relpath, docsrelpath=None):\n",
        "    \"\"\"copy a single notebook from src to dst with modified docs metadata.\"\"\"\n",
        "    src = repository_path(relpath)\n",
        "    dst = docs_path((docsrelpath or relpath), not_exist_ok=True)\n",
        "    nb = load_nb(src)\n",
        "    nb_new = {**nb}\n",
        "    nb_new[\"cells\"] = []\n",
        "    module = get_default_exp(nb)\n",
        "\n",
        "    for cell in nb.get('cells', []):\n",
        "        if not cell.get(\"cell_type\", \"\") == \"code\":\n",
        "            nb_new[\"cells\"].append(cell)\n",
        "            continue\n",
        "            \n",
        "        cell_tags = cell.get(\"metadata\", {}).get(\"tags\", [])\n",
        "        source = cell.get(\"source\") or [\"\"]\n",
        "        line = source[0].strip()\n",
        "        \n",
        "        if not line.startswith(\"#\"):\n",
        "            nb_new[\"cells\"].append(cell)\n",
        "            continue\n",
        "            \n",
        "        keys = [k.strip() for k in line.split(\" \")]\n",
        "        keys = [k for k in keys if k in MAGIC_COMMENTS]\n",
        "        if keys:\n",
        "            del source[0]\n",
        "        for key in keys:\n",
        "            tag = MAGIC_COMMENTS[key]\n",
        "            if tag:\n",
        "                cell_tags.append(tag)\n",
        "        if len(cell_tags) > 0:\n",
        "            cell[\"metadata\"][\"tags\"] = cell_tags\n",
        "\n",
        "        if not 'remove-cell' in cell_tags:\n",
        "            for function_name in iter_function_names(source):\n",
        "                extra_cell = {\n",
        "                    \"cell_type\": \"markdown\",\n",
        "                    \"id\": secrets.token_hex(8),\n",
        "                    \"metadata\": {},\n",
        "                    \"source\": [\n",
        "                        \":::{eval-rst}\\n\",\n",
        "                        f\".. autofunction:: sax.{module}.{function_name}\\n\",\n",
        "                        \":::\\n\"\n",
        "                    ],\n",
        "                }\n",
        "                nb_new[\"cells\"].append(extra_cell)\n",
        "\n",
        "        cell[\"id\"] = secrets.token_hex(8)\n",
        "        nb_new[\"cells\"].append(cell)\n",
        "\n",
        "    os.makedirs(os.path.dirname(dst), exist_ok=True)\n",
        "    save_nb(nb_new, dst)\n",
        "    return dst"
      ]
    },
    {
      "cell_type": "markdown",
      "id": "9c8ecebfce065f7e",
      "metadata": {},
      "source": [
        ":::{eval-rst}\n",
        ".. autofunction:: sax.make_docs.list_notebooks\n",
        ":::\n"
      ]
    },
    {
      "cell_type": "markdown",
      "id": "03e9592c5f611fa6",
      "metadata": {},
      "source": [
        ":::{eval-rst}\n",
        ".. autofunction:: sax.make_docs.list_zips\n",
        ":::\n"
      ]
    },
    {
      "cell_type": "code",
      "execution_count": 15,
      "id": "afec925b139bafbe",
      "metadata": {
        "execution": {
          "iopub.execute_input": "2022-08-16T04:18:03.587846Z",
          "iopub.status.busy": "2022-08-16T04:18:03.587388Z",
          "iopub.status.idle": "2022-08-16T04:18:03.588873Z",
          "shell.execute_reply": "2022-08-16T04:18:03.589201Z"
        },
        "papermill": {
          "duration": 0.01514,
          "end_time": "2022-08-16T04:18:03.589304",
          "exception": false,
          "start_time": "2022-08-16T04:18:03.574164",
          "status": "completed"
        },
        "tags": [
          "hide-input"
        ]
      },
      "outputs": [],
      "source": [
        "def list_notebooks(dir):\n",
        "    return glob.glob(os.path.join(dir, \"**/*.ipynb\"), recursive=True)\n",
        "\n",
        "def list_zips(dir):\n",
        "    return glob.glob(os.path.join(dir, \"**/*.zip\"), recursive=True)"
      ]
    },
    {
      "cell_type": "markdown",
      "id": "3d615df79bdeb1fa",
      "metadata": {},
      "source": [
        ":::{eval-rst}\n",
        ".. autofunction:: sax.make_docs.docs_copy_dir\n",
        ":::\n"
      ]
    },
    {
      "cell_type": "code",
      "execution_count": 16,
      "id": "c84feb080513aba5",
      "metadata": {
        "execution": {
          "iopub.execute_input": "2022-08-16T04:18:03.613704Z",
          "iopub.status.busy": "2022-08-16T04:18:03.613285Z",
          "iopub.status.idle": "2022-08-16T04:18:03.615182Z",
          "shell.execute_reply": "2022-08-16T04:18:03.614829Z"
        },
        "papermill": {
          "duration": 0.015983,
          "end_time": "2022-08-16T04:18:03.615267",
          "exception": false,
          "start_time": "2022-08-16T04:18:03.599284",
          "status": "completed"
        },
        "tags": [
          "hide-input"
        ]
      },
      "outputs": [],
      "source": [
        "def docs_copy_dir(relpath):\n",
        "    main_src = repository_path(relpath)\n",
        "    for src in list_notebooks(main_src):\n",
        "        rel = os.path.relpath(src, repository_path())\n",
        "        docs_copy_nb(rel)\n",
        "    for src in list_zips(main_src):\n",
        "        rel = os.path.relpath(src, repository_path())\n",
        "        dst = docs_path(\"_build\", \"html\", rel, not_exist_ok=True)\n",
        "        os.makedirs(os.path.dirname(dst), exist_ok=True)\n",
        "        shutil.copy2(src, dst)"
      ]
    },
    {
      "cell_type": "markdown",
      "id": "3af37ce6995b12de",
      "metadata": {},
      "source": [
        ":::{eval-rst}\n",
        ".. autofunction:: sax.make_docs.docs_copy_simulations\n",
        ":::\n"
      ]
    },
    {
      "cell_type": "code",
      "execution_count": 17,
      "id": "8b39bb25572a4d7a",
      "metadata": {
        "execution": {
          "iopub.execute_input": "2022-08-16T04:18:03.641440Z",
          "iopub.status.busy": "2022-08-16T04:18:03.641015Z",
          "iopub.status.idle": "2022-08-16T04:18:03.642884Z",
          "shell.execute_reply": "2022-08-16T04:18:03.642552Z"
        },
        "papermill": {
          "duration": 0.017539,
          "end_time": "2022-08-16T04:18:03.642973",
          "exception": false,
          "start_time": "2022-08-16T04:18:03.625434",
          "status": "completed"
        },
        "tags": [
          "hide-input"
        ]
      },
      "outputs": [],
      "source": [
        "def docs_copy_simulations():\n",
        "    with_results, without_results = {}, {}\n",
        "    for fn in os.listdir(simulations_path()):\n",
        "        sim, ext = os.path.splitext(fn)\n",
        "        if ext != \".ipynb\":\n",
        "            continue\n",
        "        try:\n",
        "            with_results[sim] = get_nominal_result(sim)\n",
        "        except FileNotFoundError:\n",
        "            without_results[sim] = {'hash': None, 'params': get_default_params(simulations_path(f\"{sim}.ipynb\"))}\n",
        "        except ValueError:\n",
        "            without_results[sim] = {'hash': None, 'params': get_default_params(simulations_path(f\"{sim}.ipynb\"))}\n",
        "            #raise\n",
        "        \n",
        "    for k, r in with_results.items():\n",
        "        docs_copy_nb(f\"results/{k}/{r['hash']}/_simulated.ipynb\", f\"simulations/{k}.ipynb\")\n",
        "        \n",
        "    for k, r in without_results.items():\n",
        "        docs_copy_nb(f\"simulations/{k}.ipynb\", f\"simulations/{k}.ipynb\")\n",
        "        \n",
        "    shutil.copytree(simulations_path(\"img\"), docs_path(\"_build\", \"html\", \"simulations\", \"img\", not_exist_ok=True), dirs_exist_ok=True)\n",
        "    return with_results, without_results"
      ]
    },
    {
      "cell_type": "markdown",
      "id": "68dd4f12f339e147",
      "metadata": {},
      "source": [
        ":::{eval-rst}\n",
        ".. autofunction:: sax.make_docs.get_toc_part\n",
        ":::\n"
      ]
    },
    {
      "cell_type": "code",
      "execution_count": 18,
      "id": "215b3d08f6c3dbd6",
      "metadata": {
        "execution": {
          "iopub.execute_input": "2022-08-16T04:18:03.667031Z",
          "iopub.status.busy": "2022-08-16T04:18:03.666620Z",
          "iopub.status.idle": "2022-08-16T04:18:03.668569Z",
          "shell.execute_reply": "2022-08-16T04:18:03.668242Z"
        },
        "papermill": {
          "duration": 0.015529,
          "end_time": "2022-08-16T04:18:03.668657",
          "exception": false,
          "start_time": "2022-08-16T04:18:03.653128",
          "status": "completed"
        },
        "tags": [
          "hide-input"
        ]
      },
      "outputs": [],
      "source": [
        "def get_toc_part(toc, caption):\n",
        "    parts = [p for p in toc[\"parts\"] if caption == p[\"caption\"]]\n",
        "    try:\n",
        "        return parts[0]\n",
        "    except IndexError:\n",
        "        raise ValueError(f\"No TOC part with caption {caption!r} found.\")"
      ]
    },
    {
      "cell_type": "markdown",
      "id": "45b2a56f2313df12",
      "metadata": {},
      "source": [
        ":::{eval-rst}\n",
        ".. autofunction:: sax.make_docs.make_docs\n",
        ":::\n"
      ]
    },
    {
      "cell_type": "code",
      "execution_count": 19,
      "id": "d6b49b4c68532196",
      "metadata": {
        "execution": {
          "iopub.execute_input": "2022-08-16T04:18:03.692754Z",
          "iopub.status.busy": "2022-08-16T04:18:03.692341Z",
          "iopub.status.idle": "2022-08-16T04:18:03.694393Z",
          "shell.execute_reply": "2022-08-16T04:18:03.694067Z"
        },
        "papermill": {
          "duration": 0.015464,
          "end_time": "2022-08-16T04:18:03.694481",
          "exception": false,
          "start_time": "2022-08-16T04:18:03.679017",
          "status": "completed"
        },
        "tags": [
          "hide-input"
        ]
      },
      "outputs": [],
      "source": [
        "def make_docs():\n",
        "    docs_copy_nb(\"index.ipynb\")\n",
        "    docs_copy_dir(\"nbs\")\n",
        "    docs_copy_dir(\"examples\")\n",
        "    os.chdir(docs_path())\n",
        "    subprocess.check_call([sys.executable.replace(\"python\", \"jupyter-book\"), \"build\", \".\"])"
      ]
    },
    {
      "cell_type": "code",
      "execution_count": 20,
      "id": "aea444858987e767",
      "metadata": {
        "execution": {
          "iopub.execute_input": "2022-08-16T04:18:03.717997Z",
          "iopub.status.busy": "2022-08-16T04:18:03.717592Z",
          "iopub.status.idle": "2022-08-16T04:18:03.719149Z",
          "shell.execute_reply": "2022-08-16T04:18:03.719496Z"
        },
        "papermill": {
          "duration": 0.014837,
          "end_time": "2022-08-16T04:18:03.719626",
          "exception": false,
          "start_time": "2022-08-16T04:18:03.704789",
          "status": "completed"
        },
        "tags": [
          "hide-input"
        ]
      },
      "outputs": [],
      "source": [
        "if __name__ == '__main__' and not IN_IPYTHON:\n",
        "    make_docs()"
      ]
    }
  ],
  "metadata": {
    "kernelspec": {
      "display_name": "sax",
      "language": "python",
      "name": "sax"
    },
    "language_info": {
      "codemirror_mode": {
        "name": "ipython",
        "version": 3
      },
      "file_extension": ".py",
      "mimetype": "text/x-python",
      "name": "python",
      "nbconvert_exporter": "python",
      "pygments_lexer": "ipython3",
      "version": "3.9.0"
    },
    "papermill": {
      "default_parameters": {},
      "duration": 1.833162,
      "end_time": "2022-08-16T04:18:03.834987",
      "environment_variables": {},
      "exception": null,
      "input_path": "./nbs/98_make_docs.ipynb",
      "output_path": "./nbs/98_make_docs.ipynb",
      "parameters": {},
      "start_time": "2022-08-16T04:18:02.001825",
      "version": "2.3.4"
    }
  },
  "nbformat": 4,
  "nbformat_minor": 5
}
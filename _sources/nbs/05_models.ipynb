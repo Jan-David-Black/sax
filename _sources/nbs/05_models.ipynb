{
  "cells": [
    {
      "cell_type": "code",
      "execution_count": 1,
      "id": "0bdd586caca128d8",
      "metadata": {
        "execution": {
          "iopub.execute_input": "2022-08-04T05:49:47.347835Z",
          "iopub.status.busy": "2022-08-04T05:49:47.347325Z",
          "iopub.status.idle": "2022-08-04T05:49:47.350433Z",
          "shell.execute_reply": "2022-08-04T05:49:47.349959Z"
        },
        "papermill": {
          "duration": 0.028886,
          "end_time": "2022-08-04T05:49:47.350590",
          "exception": false,
          "start_time": "2022-08-04T05:49:47.321704",
          "status": "completed"
        },
        "tags": [
          "remove-cell"
        ]
      },
      "outputs": [],
      "source": []
    },
    {
      "cell_type": "markdown",
      "id": "986cb864",
      "metadata": {
        "papermill": {
          "duration": 0.020302,
          "end_time": "2022-08-04T05:49:47.391367",
          "exception": false,
          "start_time": "2022-08-04T05:49:47.371065",
          "status": "completed"
        },
        "tags": []
      },
      "source": [
        "# Models\n",
        "\n",
        "> Default SAX Models"
      ]
    },
    {
      "cell_type": "code",
      "execution_count": 2,
      "id": "d25961c48d6913c6",
      "metadata": {
        "execution": {
          "iopub.execute_input": "2022-08-04T05:49:47.433960Z",
          "iopub.status.busy": "2022-08-04T05:49:47.433250Z",
          "iopub.status.idle": "2022-08-04T05:49:47.444724Z",
          "shell.execute_reply": "2022-08-04T05:49:47.445091Z"
        },
        "papermill": {
          "duration": 0.033966,
          "end_time": "2022-08-04T05:49:47.445230",
          "exception": false,
          "start_time": "2022-08-04T05:49:47.411264",
          "status": "completed"
        },
        "tags": [
          "remove-cell"
        ]
      },
      "outputs": [],
      "source": [
        "import os, sys; sys.stderr = open(os.devnull, \"w\")"
      ]
    },
    {
      "cell_type": "code",
      "execution_count": 3,
      "id": "e49e79535a57e368",
      "metadata": {
        "execution": {
          "iopub.execute_input": "2022-08-04T05:49:47.491579Z",
          "iopub.status.busy": "2022-08-04T05:49:47.491056Z",
          "iopub.status.idle": "2022-08-04T05:49:48.334130Z",
          "shell.execute_reply": "2022-08-04T05:49:48.333366Z"
        },
        "papermill": {
          "duration": 0.868635,
          "end_time": "2022-08-04T05:49:48.334310",
          "exception": false,
          "start_time": "2022-08-04T05:49:47.465675",
          "status": "completed"
        },
        "tags": [
          "hide-input"
        ]
      },
      "outputs": [],
      "source": [
        "from __future__ import annotations\n",
        "\n",
        "import warnings\n",
        "from types import SimpleNamespace\n",
        "from typing import Optional, Tuple\n",
        "\n",
        "import sax\n",
        "from sax.caching import cache\n",
        "from sax.typing_ import Model, SCoo, SDict\n",
        "from sax.utils import get_inputs_outputs, reciprocal\n",
        "\n",
        "try:\n",
        "    import jax\n",
        "    import jax.numpy as jnp\n",
        "    JAX_AVAILABLE = True\n",
        "except ImportError:\n",
        "    import numpy as jnp\n",
        "    \n",
        "    def jit(func, *args, **kwargs):\n",
        "        warnings.warn(\"[NO JAX] skipping jit! Please install JAX!\")\n",
        "        return func\n",
        "    \n",
        "    jax = SimpleNamespace(jit=jit)\n",
        "    \n",
        "    JAX_AVAILABLE = False"
      ]
    },
    {
      "cell_type": "markdown",
      "id": "efa9b619",
      "metadata": {
        "papermill": {
          "duration": 0.021277,
          "end_time": "2022-08-04T05:49:48.377320",
          "exception": false,
          "start_time": "2022-08-04T05:49:48.356043",
          "status": "completed"
        },
        "tags": []
      },
      "source": [
        "## Standard Models"
      ]
    },
    {
      "cell_type": "markdown",
      "id": "2a57c35e6c4795f7",
      "metadata": {},
      "source": [
        ":::{eval-rst}\n",
        ".. autofunction:: sax.models.straight\n",
        ":::\n"
      ]
    },
    {
      "cell_type": "code",
      "execution_count": 4,
      "id": "7480b97ed6d8b3f4",
      "metadata": {
        "execution": {
          "iopub.execute_input": "2022-08-04T05:49:48.421284Z",
          "iopub.status.busy": "2022-08-04T05:49:48.420522Z",
          "iopub.status.idle": "2022-08-04T05:49:48.428984Z",
          "shell.execute_reply": "2022-08-04T05:49:48.429345Z"
        },
        "papermill": {
          "duration": 0.031852,
          "end_time": "2022-08-04T05:49:48.429481",
          "exception": false,
          "start_time": "2022-08-04T05:49:48.397629",
          "status": "completed"
        },
        "tags": [
          "hide-input"
        ]
      },
      "outputs": [],
      "source": [
        "\n",
        "def straight(\n",
        "    *,\n",
        "    wl: float = 1.55,\n",
        "    wl0: float = 1.55,\n",
        "    neff: float = 2.34,\n",
        "    ng: float = 3.4,\n",
        "    length: float = 10.0,\n",
        "    loss: float = 0.0\n",
        ") -> SDict:\n",
        "    \"\"\"a simple straight waveguide model\"\"\"\n",
        "    dwl = wl - wl0\n",
        "    dneff_dwl = (ng - neff) / wl0\n",
        "    neff = neff - dwl * dneff_dwl\n",
        "    phase = 2 * jnp.pi * neff * length / wl\n",
        "    amplitude = jnp.asarray(10 ** (-loss * length / 20), dtype=complex)\n",
        "    transmission =  amplitude * jnp.exp(1j * phase)\n",
        "    sdict = reciprocal(\n",
        "        {\n",
        "            (\"in0\", \"out0\"): transmission,\n",
        "        }\n",
        "    )\n",
        "    return sdict"
      ]
    },
    {
      "cell_type": "code",
      "execution_count": 5,
      "id": "a99cec57",
      "metadata": {
        "execution": {
          "iopub.execute_input": "2022-08-04T05:49:48.477205Z",
          "iopub.status.busy": "2022-08-04T05:49:48.476548Z",
          "iopub.status.idle": "2022-08-04T05:49:48.557482Z",
          "shell.execute_reply": "2022-08-04T05:49:48.557902Z"
        },
        "papermill": {
          "duration": 0.107638,
          "end_time": "2022-08-04T05:49:48.558057",
          "exception": false,
          "start_time": "2022-08-04T05:49:48.450419",
          "status": "completed"
        },
        "tags": []
      },
      "outputs": [
        {
          "data": {
            "text/plain": [
              "{('in0', 'out0'): 0.82076+0.57127j, ('out0', 'in0'): 0.82076+0.57127j}"
            ]
          },
          "execution_count": 5,
          "metadata": {},
          "output_type": "execute_result"
        }
      ],
      "source": [
        "straight()"
      ]
    },
    {
      "cell_type": "markdown",
      "id": "9e37e4db761a32f9",
      "metadata": {},
      "source": [
        ":::{eval-rst}\n",
        ".. autofunction:: sax.models.coupler\n",
        ":::\n"
      ]
    },
    {
      "cell_type": "code",
      "execution_count": 6,
      "id": "268c5fc463d7d585",
      "metadata": {
        "execution": {
          "iopub.execute_input": "2022-08-04T05:49:48.609280Z",
          "iopub.status.busy": "2022-08-04T05:49:48.608767Z",
          "iopub.status.idle": "2022-08-04T05:49:48.611061Z",
          "shell.execute_reply": "2022-08-04T05:49:48.610653Z"
        },
        "papermill": {
          "duration": 0.029605,
          "end_time": "2022-08-04T05:49:48.611176",
          "exception": false,
          "start_time": "2022-08-04T05:49:48.581571",
          "status": "completed"
        },
        "tags": [
          "hide-input"
        ]
      },
      "outputs": [],
      "source": [
        "\n",
        "def coupler(*, coupling: float = 0.5) -> SDict:\n",
        "    \"\"\"a simple coupler model\"\"\"\n",
        "    kappa = coupling ** 0.5\n",
        "    tau = (1 - coupling) ** 0.5\n",
        "    sdict = reciprocal(\n",
        "        {\n",
        "            (\"in0\", \"out0\"): tau,\n",
        "            (\"in0\", \"out1\"): 1j * kappa,\n",
        "            (\"in1\", \"out0\"): 1j * kappa,\n",
        "            (\"in1\", \"out1\"): tau,\n",
        "        }\n",
        "    )\n",
        "    return sdict"
      ]
    },
    {
      "cell_type": "code",
      "execution_count": 7,
      "id": "5fd87a22",
      "metadata": {
        "execution": {
          "iopub.execute_input": "2022-08-04T05:49:48.658334Z",
          "iopub.status.busy": "2022-08-04T05:49:48.657838Z",
          "iopub.status.idle": "2022-08-04T05:49:48.662075Z",
          "shell.execute_reply": "2022-08-04T05:49:48.661648Z"
        },
        "papermill": {
          "duration": 0.030235,
          "end_time": "2022-08-04T05:49:48.662187",
          "exception": false,
          "start_time": "2022-08-04T05:49:48.631952",
          "status": "completed"
        },
        "tags": []
      },
      "outputs": [
        {
          "data": {
            "text/plain": [
              "{('in0', 'out0'): 0.7071067811865476,\n",
              " ('in0', 'out1'): 0.7071067811865476j,\n",
              " ('in1', 'out0'): 0.7071067811865476j,\n",
              " ('in1', 'out1'): 0.7071067811865476,\n",
              " ('out0', 'in0'): 0.7071067811865476,\n",
              " ('out1', 'in0'): 0.7071067811865476j,\n",
              " ('out0', 'in1'): 0.7071067811865476j,\n",
              " ('out1', 'in1'): 0.7071067811865476}"
            ]
          },
          "execution_count": 7,
          "metadata": {},
          "output_type": "execute_result"
        }
      ],
      "source": [
        "coupler()"
      ]
    },
    {
      "cell_type": "markdown",
      "id": "ca06c12f",
      "metadata": {
        "papermill": {
          "duration": 0.021327,
          "end_time": "2022-08-04T05:49:48.704978",
          "exception": false,
          "start_time": "2022-08-04T05:49:48.683651",
          "status": "completed"
        },
        "tags": []
      },
      "source": [
        "## Model Factories"
      ]
    },
    {
      "cell_type": "code",
      "execution_count": 8,
      "id": "9f6be42452ab2818",
      "metadata": {
        "execution": {
          "iopub.execute_input": "2022-08-04T05:49:48.756035Z",
          "iopub.status.busy": "2022-08-04T05:49:48.755516Z",
          "iopub.status.idle": "2022-08-04T05:49:48.757252Z",
          "shell.execute_reply": "2022-08-04T05:49:48.757718Z"
        },
        "papermill": {
          "duration": 0.03178,
          "end_time": "2022-08-04T05:49:48.757854",
          "exception": false,
          "start_time": "2022-08-04T05:49:48.726074",
          "status": "completed"
        },
        "tags": [
          "remove-cell"
        ]
      },
      "outputs": [],
      "source": [
        "\n",
        "def _validate_ports(ports, num_inputs, num_outputs, diagonal) -> Tuple[Tuple[str,...], Tuple[str,...], int, int]:\n",
        "    if ports is None:\n",
        "        if num_inputs is None or num_outputs is None:\n",
        "            raise ValueError(\n",
        "                \"if not ports given, you must specify how many input ports \"\n",
        "                \"and how many output ports a model has.\"\n",
        "            )\n",
        "        input_ports = [f\"in{i}\" for i in range(num_inputs)]\n",
        "        output_ports = [f\"out{i}\" for i in range(num_outputs)]\n",
        "    else:\n",
        "        if num_inputs is not None:\n",
        "            if num_outputs is None:\n",
        "                raise ValueError(\n",
        "                    \"if num_inputs is given, num_outputs should be given as well.\"\n",
        "                )\n",
        "        if num_outputs is not None:\n",
        "            if num_inputs is None:\n",
        "                raise ValueError(\n",
        "                    \"if num_outputs is given, num_inputs should be given as well.\"\n",
        "                )\n",
        "        if num_inputs is not None and num_outputs is not None:\n",
        "            if num_inputs + num_outputs != len(ports):\n",
        "                raise ValueError(\"num_inputs + num_outputs != len(ports)\")\n",
        "            input_ports = ports[:num_inputs]\n",
        "            output_ports = ports[num_inputs:]\n",
        "        else:\n",
        "            input_ports, output_ports = get_inputs_outputs(ports)\n",
        "            num_inputs = len(input_ports)\n",
        "            num_outputs = len(output_ports)\n",
        "            \n",
        "    if diagonal:\n",
        "        if num_inputs != num_outputs:\n",
        "            raise ValueError(\n",
        "                \"Can only have a diagonal passthru if number of input ports equals the number of output ports!\"\n",
        "            )\n",
        "    return input_ports, output_ports, num_inputs, num_outputs"
      ]
    },
    {
      "cell_type": "markdown",
      "id": "1cbad14f06133261",
      "metadata": {},
      "source": [
        ":::{eval-rst}\n",
        ".. autofunction:: sax.models.unitary\n",
        ":::\n"
      ]
    },
    {
      "cell_type": "code",
      "execution_count": 9,
      "id": "1555a46e2522c5bd",
      "metadata": {
        "execution": {
          "iopub.execute_input": "2022-08-04T05:49:48.814110Z",
          "iopub.status.busy": "2022-08-04T05:49:48.808821Z",
          "iopub.status.idle": "2022-08-04T05:49:48.816286Z",
          "shell.execute_reply": "2022-08-04T05:49:48.815858Z"
        },
        "papermill": {
          "duration": 0.037307,
          "end_time": "2022-08-04T05:49:48.816397",
          "exception": false,
          "start_time": "2022-08-04T05:49:48.779090",
          "status": "completed"
        },
        "tags": [
          "hide-input"
        ]
      },
      "outputs": [],
      "source": [
        "\n",
        "@cache\n",
        "def unitary(\n",
        "    num_inputs: Optional[int] = None,\n",
        "    num_outputs: Optional[int] = None,\n",
        "    ports: Optional[Tuple[str, ...]] = None,\n",
        "    *,\n",
        "    jit=True,\n",
        "    reciprocal=True,\n",
        "    diagonal=False,\n",
        ") -> Model:\n",
        "    input_ports, output_ports, num_inputs, num_outputs = _validate_ports(ports, num_inputs, num_outputs, diagonal)\n",
        "    assert num_inputs is not None and num_outputs is not None\n",
        "    \n",
        "    # let's create the squared S-matrix:\n",
        "    N = max(num_inputs, num_outputs)\n",
        "    S = jnp.zeros((2*N, 2*N), dtype=float)\n",
        "\n",
        "    if not diagonal:\n",
        "        if JAX_AVAILABLE:\n",
        "            S = S.at[:N, N:].set(1)\n",
        "        else:\n",
        "            S[:N, N:] = 1\n",
        "    else:\n",
        "        r = jnp.arange(N, dtype=int) # reciprocal only works if num_inputs == num_outputs!\n",
        "        if JAX_AVAILABLE:\n",
        "            S = S.at[r, N+r].set(1)\n",
        "        else:\n",
        "            S[r, N+r] = 1\n",
        "\n",
        "    if reciprocal:\n",
        "        if not diagonal:\n",
        "            if JAX_AVAILABLE:\n",
        "                S = S.at[N:, :N].set(1)\n",
        "            else:\n",
        "                S[N:, :N] = 1\n",
        "        else:\n",
        "            r = jnp.arange(N, dtype=int) # reciprocal only works if num_inputs == num_outputs!\n",
        "            if JAX_AVAILABLE:\n",
        "                S = S.at[N+r, r].set(1)\n",
        "            else:\n",
        "                S[N+r, r] = 1\n",
        "\n",
        "    # Now we need to normalize the squared S-matrix\n",
        "    U, s, V = jnp.linalg.svd(S, full_matrices=False)\n",
        "    S = jnp.sqrt(U@jnp.diag(jnp.where(s > 1e-12, 1, 0))@V)\n",
        "    \n",
        "    # Now create subset of this matrix we're interested in:\n",
        "    r = jnp.concatenate([jnp.arange(num_inputs, dtype=int), N+jnp.arange(num_outputs, dtype=int)], 0)\n",
        "    S = S[r, :][:, r]\n",
        "\n",
        "    # let's convert it in SCOO format:\n",
        "    Si, Sj = jnp.where(S > 1e-6)\n",
        "    Sx = S[Si, Sj]\n",
        "    \n",
        "    # the last missing piece is a port map:\n",
        "    pm = {\n",
        "        **{p: i for i, p in enumerate(input_ports)},\n",
        "        **{p: i + num_inputs for i, p in enumerate(output_ports)},\n",
        "    }\n",
        "    \n",
        "    def func(wl: float = 1.5) -> SCoo:\n",
        "        wl_ = jnp.asarray(wl)\n",
        "        Sx_ = jnp.broadcast_to(Sx, (*wl_.shape, *Sx.shape))\n",
        "        return Si, Sj, Sx_, pm\n",
        "\n",
        "    func.__name__ = f\"unitary_{num_inputs}_{num_outputs}\"\n",
        "    func.__qualname__ = f\"unitary_{num_inputs}_{num_outputs}\"\n",
        "    if jit:\n",
        "        return jax.jit(func)\n",
        "    return func"
      ]
    },
    {
      "cell_type": "markdown",
      "id": "327febf2-70d5-48ed-8b39-bac2d9727db5",
      "metadata": {
        "papermill": {
          "duration": 0.021697,
          "end_time": "2022-08-04T05:49:48.859426",
          "exception": false,
          "start_time": "2022-08-04T05:49:48.837729",
          "status": "completed"
        },
        "tags": []
      },
      "source": [
        "A unitary model returns an `SCoo` by default:"
      ]
    },
    {
      "cell_type": "code",
      "execution_count": 10,
      "id": "e95bacdd",
      "metadata": {
        "execution": {
          "iopub.execute_input": "2022-08-04T05:49:48.911823Z",
          "iopub.status.busy": "2022-08-04T05:49:48.911317Z",
          "iopub.status.idle": "2022-08-04T05:49:49.866084Z",
          "shell.execute_reply": "2022-08-04T05:49:49.866460Z"
        },
        "papermill": {
          "duration": 0.986097,
          "end_time": "2022-08-04T05:49:49.866644",
          "exception": false,
          "start_time": "2022-08-04T05:49:48.880547",
          "status": "completed"
        },
        "tags": []
      },
      "outputs": [
        {
          "data": {
            "text/plain": [
              "(array([0, 0, 0, 1, 1, 1, 2, 2, 3, 3, 3]),\n",
              " array([0, 2, 3, 1, 2, 3, 0, 1, 0, 1, 3]),\n",
              " array([4.9899322e-01, 9.6622550e-01, 2.5769794e-01, 4.9899328e-01,\n",
              "        2.5769794e-01, 9.6622562e-01, 7.0710677e-01, 7.0710677e-01,\n",
              "        7.0710677e-01, 7.0710677e-01, 2.3246315e-04]),\n",
              " {'in0': array(0), 'in1': array(1), 'out0': array(2), 'out1': array(3)})"
            ]
          },
          "execution_count": 10,
          "metadata": {},
          "output_type": "execute_result"
        }
      ],
      "source": [
        "unitary_model = unitary(2, 2)\n",
        "unitary_model() # a unitary model returns an SCoo by default"
      ]
    },
    {
      "cell_type": "markdown",
      "id": "01ff2567-9b0e-4686-acb4-47cfb11b06ce",
      "metadata": {
        "papermill": {
          "duration": 0.021678,
          "end_time": "2022-08-04T05:49:49.909092",
          "exception": false,
          "start_time": "2022-08-04T05:49:49.887414",
          "status": "completed"
        },
        "tags": []
      },
      "source": [
        "As you probably already know, it's very easy to convert a model returning any `Stype` into a model returning an `SDict` as follows:"
      ]
    },
    {
      "cell_type": "code",
      "execution_count": 11,
      "id": "260dda8c-7e44-4f3f-b96c-e742daaf2885",
      "metadata": {
        "execution": {
          "iopub.execute_input": "2022-08-04T05:49:49.974686Z",
          "iopub.status.busy": "2022-08-04T05:49:49.974140Z",
          "iopub.status.idle": "2022-08-04T05:49:50.062609Z",
          "shell.execute_reply": "2022-08-04T05:49:50.063182Z"
        },
        "papermill": {
          "duration": 0.132323,
          "end_time": "2022-08-04T05:49:50.063378",
          "exception": false,
          "start_time": "2022-08-04T05:49:49.931055",
          "status": "completed"
        },
        "tags": []
      },
      "outputs": [
        {
          "data": {
            "text/plain": [
              "{('in0', 'in0'): 0.49899,\n",
              " ('in0', 'out0'): 0.96623,\n",
              " ('in0', 'out1'): 0.2577,\n",
              " ('in1', 'in1'): 0.49899,\n",
              " ('in1', 'out0'): 0.2577,\n",
              " ('in1', 'out1'): 0.96623,\n",
              " ('out0', 'in0'): 0.70711,\n",
              " ('out0', 'in1'): 0.70711,\n",
              " ('out1', 'in0'): 0.70711,\n",
              " ('out1', 'in1'): 0.70711,\n",
              " ('out1', 'out1'): 0.00023}"
            ]
          },
          "execution_count": 11,
          "metadata": {},
          "output_type": "execute_result"
        }
      ],
      "source": [
        "unitary_sdict_model = sax.sdict(unitary_model)\n",
        "unitary_sdict_model()"
      ]
    },
    {
      "cell_type": "markdown",
      "id": "e9a1a46b-b10a-471b-b835-7b6d8d49175a",
      "metadata": {
        "papermill": {
          "duration": 0.022334,
          "end_time": "2022-08-04T05:49:50.108427",
          "exception": false,
          "start_time": "2022-08-04T05:49:50.086093",
          "status": "completed"
        },
        "tags": []
      },
      "source": [
        "If we need custom port names, we can also just specify them explicitly:"
      ]
    },
    {
      "cell_type": "code",
      "execution_count": 12,
      "id": "66abe9b0",
      "metadata": {
        "execution": {
          "iopub.execute_input": "2022-08-04T05:49:50.159447Z",
          "iopub.status.busy": "2022-08-04T05:49:50.156989Z",
          "iopub.status.idle": "2022-08-04T05:49:50.174764Z",
          "shell.execute_reply": "2022-08-04T05:49:50.175221Z"
        },
        "papermill": {
          "duration": 0.043829,
          "end_time": "2022-08-04T05:49:50.175362",
          "exception": false,
          "start_time": "2022-08-04T05:49:50.131533",
          "status": "completed"
        },
        "tags": []
      },
      "outputs": [
        {
          "data": {
            "text/plain": [
              "(array([0, 0, 0, 1, 1, 1, 2, 2, 3, 3, 3]),\n",
              " array([0, 2, 3, 1, 2, 3, 0, 1, 0, 1, 3]),\n",
              " array([4.9899322e-01, 9.6622550e-01, 2.5769794e-01, 4.9899328e-01,\n",
              "        2.5769794e-01, 9.6622562e-01, 7.0710677e-01, 7.0710677e-01,\n",
              "        7.0710677e-01, 7.0710677e-01, 2.3246315e-04]),\n",
              " {'in0': array(0), 'in1': array(1), 'out0': array(2), 'out1': array(3)})"
            ]
          },
          "execution_count": 12,
          "metadata": {},
          "output_type": "execute_result"
        }
      ],
      "source": [
        "unitary_model = unitary(ports=(\"in0\", \"in1\", \"out0\", \"out1\"))\n",
        "unitary_model()"
      ]
    },
    {
      "cell_type": "markdown",
      "id": "ebf14c1c-ccfb-44e6-8572-18b366ffab91",
      "metadata": {
        "papermill": {
          "duration": 0.022691,
          "end_time": "2022-08-04T05:49:50.220663",
          "exception": false,
          "start_time": "2022-08-04T05:49:50.197972",
          "status": "completed"
        },
        "tags": []
      },
      "source": [
        "A unitary model will by default split a signal at an input port equally over all output ports. However, if there are an equal number of input ports as output ports we can in stead create a passthru by setting the `diagonal` flag to `True`:"
      ]
    },
    {
      "cell_type": "code",
      "execution_count": 13,
      "id": "7c1d61a3",
      "metadata": {
        "execution": {
          "iopub.execute_input": "2022-08-04T05:49:50.277002Z",
          "iopub.status.busy": "2022-08-04T05:49:50.271170Z",
          "iopub.status.idle": "2022-08-04T05:49:50.638079Z",
          "shell.execute_reply": "2022-08-04T05:49:50.638820Z"
        },
        "papermill": {
          "duration": 0.395646,
          "end_time": "2022-08-04T05:49:50.638977",
          "exception": false,
          "start_time": "2022-08-04T05:49:50.243331",
          "status": "completed"
        },
        "tags": []
      },
      "outputs": [
        {
          "data": {
            "text/plain": [
              "{('in0', 'out0'): 1.0,\n",
              " ('in1', 'out1'): 1.0,\n",
              " ('out0', 'in0'): 1.0,\n",
              " ('out1', 'in1'): 1.0}"
            ]
          },
          "execution_count": 13,
          "metadata": {},
          "output_type": "execute_result"
        }
      ],
      "source": [
        "passthru_model = unitary(2, 2, diagonal=True)\n",
        "sax.sdict(passthru_model())"
      ]
    },
    {
      "cell_type": "code",
      "execution_count": 14,
      "id": "7f93b145",
      "metadata": {
        "execution": {
          "iopub.execute_input": "2022-08-04T05:49:50.695942Z",
          "iopub.status.busy": "2022-08-04T05:49:50.694032Z",
          "iopub.status.idle": "2022-08-04T05:49:51.766830Z",
          "shell.execute_reply": "2022-08-04T05:49:51.767213Z"
        },
        "papermill": {
          "duration": 1.104806,
          "end_time": "2022-08-04T05:49:51.767372",
          "exception": false,
          "start_time": "2022-08-04T05:49:50.662566",
          "status": "completed"
        },
        "tags": []
      },
      "outputs": [
        {
          "data": {
            "text/plain": [
              "{('in0', 'in0'): 0.89409,\n",
              " ('in0', 'out0'): 0.44721,\n",
              " ('in0', 'out1'): 0.44721,\n",
              " ('in0', 'out2'): 0.44721,\n",
              " ('in0', 'out3'): 0.44721,\n",
              " ('in0', 'out4'): 0.44721,\n",
              " ('out0', 'in0'): 0.45508,\n",
              " ('out0', 'out0'): 7.339056901400909e-05,\n",
              " ('out0', 'out1'): 7.339056901400909e-05,\n",
              " ('out0', 'out2'): 7.339056901400909e-05,\n",
              " ('out0', 'out3'): 7.339056901400909e-05,\n",
              " ('out0', 'out4'): 7.339056901400909e-05,\n",
              " ('out1', 'in0'): 0.45508,\n",
              " ('out1', 'out0'): 7.339056901400909e-05,\n",
              " ('out1', 'out1'): 7.339056901400909e-05,\n",
              " ('out1', 'out2'): 7.339056901400909e-05,\n",
              " ('out1', 'out3'): 7.339056901400909e-05,\n",
              " ('out1', 'out4'): 7.339056901400909e-05,\n",
              " ('out2', 'in0'): 0.45508,\n",
              " ('out2', 'out0'): 7.339056901400909e-05,\n",
              " ('out2', 'out1'): 7.339056901400909e-05,\n",
              " ('out2', 'out2'): 7.339056901400909e-05,\n",
              " ('out2', 'out3'): 7.339056901400909e-05,\n",
              " ('out2', 'out4'): 7.339056901400909e-05,\n",
              " ('out3', 'in0'): 0.45508,\n",
              " ('out3', 'out0'): 7.339056901400909e-05,\n",
              " ('out3', 'out1'): 7.339056901400909e-05,\n",
              " ('out3', 'out2'): 7.339056901400909e-05,\n",
              " ('out3', 'out3'): 7.339056901400909e-05,\n",
              " ('out3', 'out4'): 7.339056901400909e-05,\n",
              " ('out4', 'in0'): 0.41426,\n",
              " ('out4', 'out0'): 0.00012,\n",
              " ('out4', 'out1'): 0.00012,\n",
              " ('out4', 'out2'): 0.00012,\n",
              " ('out4', 'out3'): 0.00012,\n",
              " ('out4', 'out4'): 0.00012}"
            ]
          },
          "execution_count": 14,
          "metadata": {},
          "output_type": "execute_result"
        }
      ],
      "source": [
        "ports_in=['in0']\n",
        "ports_out=['out0', 'out1', 'out2', 'out3', 'out4']\n",
        "model = unitary(\n",
        "    ports=tuple(ports_in+ports_out), jit=True, reciprocal=True\n",
        ")\n",
        "model = sax.sdict(model)\n",
        "model()"
      ]
    },
    {
      "cell_type": "markdown",
      "id": "8b149d44-5487-4e50-a2f2-1ad0aca99dac",
      "metadata": {
        "papermill": {
          "duration": 0.023459,
          "end_time": "2022-08-04T05:49:51.814374",
          "exception": false,
          "start_time": "2022-08-04T05:49:51.790915",
          "status": "completed"
        },
        "tags": []
      },
      "source": [
        "Because this is a pretty common usecase we have a dedicated model factory for this as well. This passthru component just takes the number of links (`'in{i}' -> 'out{i]'`) as input. Alternatively, as before, one can also specify the port names directly but one needs to ensure that `len(ports) == 2*num_links`."
      ]
    },
    {
      "cell_type": "markdown",
      "id": "2d07fcd88683cbcc",
      "metadata": {},
      "source": [
        ":::{eval-rst}\n",
        ".. autofunction:: sax.models.passthru\n",
        ":::\n"
      ]
    },
    {
      "cell_type": "code",
      "execution_count": 15,
      "id": "797fd868b7492ba3",
      "metadata": {
        "execution": {
          "iopub.execute_input": "2022-08-04T05:49:51.868208Z",
          "iopub.status.busy": "2022-08-04T05:49:51.867693Z",
          "iopub.status.idle": "2022-08-04T05:49:51.869068Z",
          "shell.execute_reply": "2022-08-04T05:49:51.869460Z"
        },
        "papermill": {
          "duration": 0.031571,
          "end_time": "2022-08-04T05:49:51.869607",
          "exception": false,
          "start_time": "2022-08-04T05:49:51.838036",
          "status": "completed"
        },
        "tags": [
          "hide-input"
        ]
      },
      "outputs": [],
      "source": [
        "@cache\n",
        "def passthru(\n",
        "    num_links: Optional[int] = None,\n",
        "    ports: Optional[Tuple[str, ...]] = None,\n",
        "    *,\n",
        "    jit=True,\n",
        "    reciprocal=True,\n",
        ") -> Model:\n",
        "    passthru = unitary(num_links, num_links, ports, jit=jit, reciprocal=reciprocal, diagonal=True)\n",
        "    passthru.__name__ = f\"passthru_{num_links}_{num_links}\"\n",
        "    passthru.__qualname__ = f\"passthru_{num_links}_{num_links}\"\n",
        "    if jit:\n",
        "        return jax.jit(passthru)\n",
        "    return passthru"
      ]
    },
    {
      "cell_type": "code",
      "execution_count": 16,
      "id": "9e8b6cd7-56d4-4697-9a6e-33c929f3d853",
      "metadata": {
        "execution": {
          "iopub.execute_input": "2022-08-04T05:49:51.925630Z",
          "iopub.status.busy": "2022-08-04T05:49:51.920564Z",
          "iopub.status.idle": "2022-08-04T05:49:52.608659Z",
          "shell.execute_reply": "2022-08-04T05:49:52.609040Z"
        },
        "papermill": {
          "duration": 0.7162,
          "end_time": "2022-08-04T05:49:52.609205",
          "exception": false,
          "start_time": "2022-08-04T05:49:51.893005",
          "status": "completed"
        },
        "tags": []
      },
      "outputs": [
        {
          "data": {
            "text/plain": [
              "{('in0', 'out0'): 1.0,\n",
              " ('in1', 'out1'): 1.0,\n",
              " ('in2', 'out2'): 1.0,\n",
              " ('out0', 'in0'): 1.0,\n",
              " ('out1', 'in1'): 1.0,\n",
              " ('out2', 'in2'): 1.0}"
            ]
          },
          "execution_count": 16,
          "metadata": {},
          "output_type": "execute_result"
        }
      ],
      "source": [
        "passthru_model = passthru(3)\n",
        "passthru_sdict_model = sax.sdict(passthru_model)\n",
        "passthru_sdict_model()"
      ]
    },
    {
      "cell_type": "code",
      "execution_count": 17,
      "id": "690e718c-2d84-4177-b8ad-ff39cf8c4691",
      "metadata": {
        "execution": {
          "iopub.execute_input": "2022-08-04T05:49:52.663257Z",
          "iopub.status.busy": "2022-08-04T05:49:52.662745Z",
          "iopub.status.idle": "2022-08-04T05:49:54.687570Z",
          "shell.execute_reply": "2022-08-04T05:49:54.687127Z"
        },
        "papermill": {
          "duration": 2.054593,
          "end_time": "2022-08-04T05:49:54.687686",
          "exception": false,
          "start_time": "2022-08-04T05:49:52.633093",
          "status": "completed"
        },
        "tags": []
      },
      "outputs": [
        {
          "data": {
            "text/plain": [
              "{('in0', 'in0'): 0.49904,\n",
              " ('out0', 'out0'): 0.49904,\n",
              " ('in0', 'out0'): 0.86544,\n",
              " ('out0', 'in0'): 0.86544}"
            ]
          },
          "execution_count": 17,
          "metadata": {},
          "output_type": "execute_result"
        }
      ],
      "source": [
        "mzi = sax.circuit(\n",
        "    instances={\n",
        "        \"lft\": unitary(1, 2),\n",
        "        \"top\": unitary(1, 1),\n",
        "        \"rgt\": unitary(1, 2),\n",
        "    },\n",
        "    connections={\n",
        "        \"lft,out0\": \"rgt,out0\",\n",
        "        \"lft,out1\": \"top,in0\",\n",
        "        \"top,out0\": \"rgt,out1\",\n",
        "    },\n",
        "    ports = {\n",
        "        \"in0\": \"lft,in0\",\n",
        "        \"out0\": \"rgt,in0\",\n",
        "    }\n",
        ")\n",
        "mzi()"
      ]
    },
    {
      "cell_type": "markdown",
      "id": "2010556efbba3353",
      "metadata": {},
      "source": [
        ":::{eval-rst}\n",
        ".. autofunction:: sax.models.copier\n",
        ":::\n"
      ]
    },
    {
      "cell_type": "code",
      "execution_count": 18,
      "id": "f665e08fd2b47334",
      "metadata": {
        "execution": {
          "iopub.execute_input": "2022-08-04T05:49:54.748678Z",
          "iopub.status.busy": "2022-08-04T05:49:54.745005Z",
          "iopub.status.idle": "2022-08-04T05:49:54.750561Z",
          "shell.execute_reply": "2022-08-04T05:49:54.750129Z"
        },
        "papermill": {
          "duration": 0.038594,
          "end_time": "2022-08-04T05:49:54.750682",
          "exception": false,
          "start_time": "2022-08-04T05:49:54.712088",
          "status": "completed"
        },
        "tags": [
          "hide-input"
        ]
      },
      "outputs": [],
      "source": [
        "\n",
        "@cache\n",
        "def copier(\n",
        "    num_inputs: Optional[int] = None,\n",
        "    num_outputs: Optional[int] = None,\n",
        "    ports: Optional[Tuple[str, ...]] = None,\n",
        "    *,\n",
        "    jit=True,\n",
        "    reciprocal=True,\n",
        "    diagonal=False,\n",
        ") -> Model:\n",
        "        \n",
        "    input_ports, output_ports, num_inputs, num_outputs = _validate_ports(ports, num_inputs, num_outputs, diagonal)\n",
        "    assert num_inputs is not None and num_outputs is not None\n",
        "    \n",
        "    # let's create the squared S-matrix:\n",
        "    S = jnp.zeros((num_inputs+num_outputs, num_inputs+num_outputs), dtype=float)\n",
        "\n",
        "    if not diagonal:\n",
        "        if JAX_AVAILABLE:\n",
        "            S = S.at[:num_inputs, num_inputs:].set(1)\n",
        "        else:\n",
        "            S[:num_inputs, num_inputs:] = 1\n",
        "    else:\n",
        "        r = jnp.arange(num_inputs, dtype=int) # == range(num_outputs) # reciprocal only works if num_inputs == num_outputs!\n",
        "        if JAX_AVAILABLE:\n",
        "            S = S.at[r, num_inputs+r].set(1)\n",
        "        else:\n",
        "            S[r, num_inputs+r] = 1\n",
        "\n",
        "    if reciprocal:\n",
        "        if not diagonal:\n",
        "            if JAX_AVAILABLE:\n",
        "                S = S.at[num_inputs:, :num_inputs].set(1)\n",
        "            else:\n",
        "                S[num_inputs:, :num_inputs] = 1\n",
        "        else:\n",
        "            r = jnp.arange(num_inputs, dtype=int) # == range(num_outputs) # reciprocal only works if num_inputs == num_outputs!\n",
        "            if JAX_AVAILABLE:\n",
        "                S = S.at[num_inputs+r, r].set(1)\n",
        "            else:\n",
        "                S[num_inputs+r, r] = 1\n",
        "\n",
        "    # let's convert it in SCOO format:\n",
        "    Si, Sj = jnp.where(S > 1e-6)\n",
        "    Sx = S[Si, Sj]\n",
        "    \n",
        "    # the last missing piece is a port map:\n",
        "    pm = {\n",
        "        **{p: i for i, p in enumerate(input_ports)},\n",
        "        **{p: i + num_inputs for i, p in enumerate(output_ports)},\n",
        "    }\n",
        "    \n",
        "    def func(wl: float = 1.5) -> SCoo:\n",
        "        wl_ = jnp.asarray(wl)\n",
        "        Sx_ = jnp.broadcast_to(Sx, (*wl_.shape, *Sx.shape))\n",
        "        return Si, Sj, Sx_, pm\n",
        "\n",
        "    func.__name__ = f\"unitary_{num_inputs}_{num_outputs}\"\n",
        "    func.__qualname__ = f\"unitary_{num_inputs}_{num_outputs}\"\n",
        "    if jit:\n",
        "        return jax.jit(func)\n",
        "    return func"
      ]
    },
    {
      "cell_type": "markdown",
      "id": "77014d0f-1a08-4b4b-a011-cf11cd9684b8",
      "metadata": {
        "papermill": {
          "duration": 0.02412,
          "end_time": "2022-08-04T05:49:54.798894",
          "exception": false,
          "start_time": "2022-08-04T05:49:54.774774",
          "status": "completed"
        },
        "tags": []
      },
      "source": [
        "A copier model is like a unitary model, but copies the input signal over all output signals. Hence, if the model has multiple output ports, this model can be considered to introduce gain. That said, it can sometimes be a useful component."
      ]
    },
    {
      "cell_type": "code",
      "execution_count": 19,
      "id": "c2a61a9f-51ea-455f-a66f-94719b43520e",
      "metadata": {
        "execution": {
          "iopub.execute_input": "2022-08-04T05:49:54.853041Z",
          "iopub.status.busy": "2022-08-04T05:49:54.852488Z",
          "iopub.status.idle": "2022-08-04T05:49:55.135700Z",
          "shell.execute_reply": "2022-08-04T05:49:55.136371Z"
        },
        "papermill": {
          "duration": 0.313137,
          "end_time": "2022-08-04T05:49:55.136613",
          "exception": false,
          "start_time": "2022-08-04T05:49:54.823476",
          "status": "completed"
        },
        "tags": []
      },
      "outputs": [
        {
          "data": {
            "text/plain": [
              "(array([0, 0, 1, 1, 2, 2, 3, 3]),\n",
              " array([2, 3, 2, 3, 0, 1, 0, 1]),\n",
              " array([1., 1., 1., 1., 1., 1., 1., 1.]),\n",
              " {'in0': array(0), 'in1': array(1), 'out0': array(2), 'out1': array(3)})"
            ]
          },
          "execution_count": 19,
          "metadata": {},
          "output_type": "execute_result"
        }
      ],
      "source": [
        "copier_model = copier(2, 2)\n",
        "copier_model() # a copier model returns an SCoo by default"
      ]
    },
    {
      "cell_type": "markdown",
      "id": "fbd51c6c-c059-4717-9dae-447becc7e8d5",
      "metadata": {
        "papermill": {
          "duration": 0.025555,
          "end_time": "2022-08-04T05:49:55.189333",
          "exception": false,
          "start_time": "2022-08-04T05:49:55.163778",
          "status": "completed"
        },
        "tags": []
      },
      "source": [
        "As you probably already know, it's very easy to convert a model returning any `Stype` into a model returning an `SDict` as follows:"
      ]
    },
    {
      "cell_type": "code",
      "execution_count": 20,
      "id": "becda099-b5d9-494c-a6b2-9828be10c4a5",
      "metadata": {
        "execution": {
          "iopub.execute_input": "2022-08-04T05:49:55.261845Z",
          "iopub.status.busy": "2022-08-04T05:49:55.258201Z",
          "iopub.status.idle": "2022-08-04T05:49:55.305158Z",
          "shell.execute_reply": "2022-08-04T05:49:55.305616Z"
        },
        "papermill": {
          "duration": 0.091521,
          "end_time": "2022-08-04T05:49:55.305787",
          "exception": false,
          "start_time": "2022-08-04T05:49:55.214266",
          "status": "completed"
        },
        "tags": []
      },
      "outputs": [
        {
          "data": {
            "text/plain": [
              "{('in0', 'out0'): 1.0,\n",
              " ('in0', 'out1'): 1.0,\n",
              " ('in1', 'out0'): 1.0,\n",
              " ('in1', 'out1'): 1.0,\n",
              " ('out0', 'in0'): 1.0,\n",
              " ('out0', 'in1'): 1.0,\n",
              " ('out1', 'in0'): 1.0,\n",
              " ('out1', 'in1'): 1.0}"
            ]
          },
          "execution_count": 20,
          "metadata": {},
          "output_type": "execute_result"
        }
      ],
      "source": [
        "copier_sdict_model = sax.sdict(copier_model)\n",
        "copier_sdict_model()"
      ]
    },
    {
      "cell_type": "markdown",
      "id": "1ad16d1b-f685-4ab9-a8c4-41efbbdae4fa",
      "metadata": {
        "papermill": {
          "duration": 0.024866,
          "end_time": "2022-08-04T05:49:55.356466",
          "exception": false,
          "start_time": "2022-08-04T05:49:55.331600",
          "status": "completed"
        },
        "tags": []
      },
      "source": [
        "If we need custom port names, we can also just specify them explicitly:"
      ]
    },
    {
      "cell_type": "code",
      "execution_count": 21,
      "id": "297d1e45-b881-440b-b887-b38c5517596e",
      "metadata": {
        "execution": {
          "iopub.execute_input": "2022-08-04T05:49:55.410870Z",
          "iopub.status.busy": "2022-08-04T05:49:55.410327Z",
          "iopub.status.idle": "2022-08-04T05:49:55.428709Z",
          "shell.execute_reply": "2022-08-04T05:49:55.428210Z"
        },
        "papermill": {
          "duration": 0.047305,
          "end_time": "2022-08-04T05:49:55.428821",
          "exception": false,
          "start_time": "2022-08-04T05:49:55.381516",
          "status": "completed"
        },
        "tags": []
      },
      "outputs": [
        {
          "data": {
            "text/plain": [
              "(array([0, 0, 1, 1, 2, 2, 3, 3]),\n",
              " array([2, 3, 2, 3, 0, 1, 0, 1]),\n",
              " array([1., 1., 1., 1., 1., 1., 1., 1.]),\n",
              " {'in0': array(0), 'in1': array(1), 'out0': array(2), 'out1': array(3)})"
            ]
          },
          "execution_count": 21,
          "metadata": {},
          "output_type": "execute_result"
        }
      ],
      "source": [
        "copier_model = copier(ports=(\"in0\", \"in1\", \"out0\", \"out1\"))\n",
        "copier_model()"
      ]
    },
    {
      "cell_type": "code",
      "execution_count": 22,
      "id": "608d7114-03ac-4f5f-9790-cf65379d81dd",
      "metadata": {
        "execution": {
          "iopub.execute_input": "2022-08-04T05:49:55.485633Z",
          "iopub.status.busy": "2022-08-04T05:49:55.485151Z",
          "iopub.status.idle": "2022-08-04T05:49:55.521527Z",
          "shell.execute_reply": "2022-08-04T05:49:55.521983Z"
        },
        "papermill": {
          "duration": 0.067755,
          "end_time": "2022-08-04T05:49:55.522142",
          "exception": false,
          "start_time": "2022-08-04T05:49:55.454387",
          "status": "completed"
        },
        "tags": []
      },
      "outputs": [
        {
          "data": {
            "text/plain": [
              "{('in0', 'in0'): 0.89409,\n",
              " ('in0', 'out0'): 0.44721,\n",
              " ('in0', 'out1'): 0.44721,\n",
              " ('in0', 'out2'): 0.44721,\n",
              " ('in0', 'out3'): 0.44721,\n",
              " ('in0', 'out4'): 0.44721,\n",
              " ('out0', 'in0'): 0.45508,\n",
              " ('out0', 'out0'): 7.339056901400909e-05,\n",
              " ('out0', 'out1'): 7.339056901400909e-05,\n",
              " ('out0', 'out2'): 7.339056901400909e-05,\n",
              " ('out0', 'out3'): 7.339056901400909e-05,\n",
              " ('out0', 'out4'): 7.339056901400909e-05,\n",
              " ('out1', 'in0'): 0.45508,\n",
              " ('out1', 'out0'): 7.339056901400909e-05,\n",
              " ('out1', 'out1'): 7.339056901400909e-05,\n",
              " ('out1', 'out2'): 7.339056901400909e-05,\n",
              " ('out1', 'out3'): 7.339056901400909e-05,\n",
              " ('out1', 'out4'): 7.339056901400909e-05,\n",
              " ('out2', 'in0'): 0.45508,\n",
              " ('out2', 'out0'): 7.339056901400909e-05,\n",
              " ('out2', 'out1'): 7.339056901400909e-05,\n",
              " ('out2', 'out2'): 7.339056901400909e-05,\n",
              " ('out2', 'out3'): 7.339056901400909e-05,\n",
              " ('out2', 'out4'): 7.339056901400909e-05,\n",
              " ('out3', 'in0'): 0.45508,\n",
              " ('out3', 'out0'): 7.339056901400909e-05,\n",
              " ('out3', 'out1'): 7.339056901400909e-05,\n",
              " ('out3', 'out2'): 7.339056901400909e-05,\n",
              " ('out3', 'out3'): 7.339056901400909e-05,\n",
              " ('out3', 'out4'): 7.339056901400909e-05,\n",
              " ('out4', 'in0'): 0.41426,\n",
              " ('out4', 'out0'): 0.00012,\n",
              " ('out4', 'out1'): 0.00012,\n",
              " ('out4', 'out2'): 0.00012,\n",
              " ('out4', 'out3'): 0.00012,\n",
              " ('out4', 'out4'): 0.00012}"
            ]
          },
          "execution_count": 22,
          "metadata": {},
          "output_type": "execute_result"
        }
      ],
      "source": [
        "ports_in=['in0']\n",
        "ports_out=['out0', 'out1', 'out2', 'out3', 'out4']\n",
        "model = unitary(\n",
        "    ports=tuple(ports_in+ports_out), jit=True, reciprocal=True\n",
        ")\n",
        "model = sax.sdict(model)\n",
        "model()"
      ]
    },
    {
      "cell_type": "markdown",
      "id": "6d024e5b-95a9-44e5-9dbc-4980249e73a7",
      "metadata": {
        "papermill": {
          "duration": 0.025433,
          "end_time": "2022-08-04T05:49:55.573720",
          "exception": false,
          "start_time": "2022-08-04T05:49:55.548287",
          "status": "completed"
        },
        "tags": []
      },
      "source": [
        "Because this is a pretty common usecase we have a dedicated model factory for this as well. This passthru component just takes the number of links (`'in{i}' -> 'out{i]'`) as input. Alternatively, as before, one can also specify the port names directly but one needs to ensure that `len(ports) == 2*num_links`."
      ]
    },
    {
      "cell_type": "markdown",
      "id": "a5564eac775c5259",
      "metadata": {},
      "source": [
        ":::{eval-rst}\n",
        ".. autofunction:: sax.models.passthru\n",
        ":::\n"
      ]
    },
    {
      "cell_type": "code",
      "execution_count": 23,
      "id": "4162ddc507fef59c",
      "metadata": {
        "execution": {
          "iopub.execute_input": "2022-08-04T05:49:55.630736Z",
          "iopub.status.busy": "2022-08-04T05:49:55.630205Z",
          "iopub.status.idle": "2022-08-04T05:49:55.631525Z",
          "shell.execute_reply": "2022-08-04T05:49:55.631906Z"
        },
        "papermill": {
          "duration": 0.032647,
          "end_time": "2022-08-04T05:49:55.632041",
          "exception": false,
          "start_time": "2022-08-04T05:49:55.599394",
          "status": "completed"
        },
        "tags": [
          "hide-input"
        ]
      },
      "outputs": [],
      "source": [
        "@cache\n",
        "def passthru(\n",
        "    num_links: Optional[int] = None,\n",
        "    ports: Optional[Tuple[str, ...]] = None,\n",
        "    *,\n",
        "    jit=True,\n",
        "    reciprocal=True,\n",
        ") -> Model:\n",
        "    passthru = unitary(num_links, num_links, ports, jit=jit, reciprocal=reciprocal, diagonal=True)\n",
        "    passthru.__name__ = f\"passthru_{num_links}_{num_links}\"\n",
        "    passthru.__qualname__ = f\"passthru_{num_links}_{num_links}\"\n",
        "    if jit:\n",
        "        return jax.jit(passthru)\n",
        "    return passthru"
      ]
    },
    {
      "cell_type": "code",
      "execution_count": 24,
      "id": "4a063810-224b-446c-a59d-12a20b56e82e",
      "metadata": {
        "execution": {
          "iopub.execute_input": "2022-08-04T05:49:55.688396Z",
          "iopub.status.busy": "2022-08-04T05:49:55.687901Z",
          "iopub.status.idle": "2022-08-04T05:49:55.697035Z",
          "shell.execute_reply": "2022-08-04T05:49:55.696639Z"
        },
        "papermill": {
          "duration": 0.039776,
          "end_time": "2022-08-04T05:49:55.697149",
          "exception": false,
          "start_time": "2022-08-04T05:49:55.657373",
          "status": "completed"
        },
        "tags": []
      },
      "outputs": [
        {
          "data": {
            "text/plain": [
              "{('in0', 'out0'): 1.0,\n",
              " ('in1', 'out1'): 1.0,\n",
              " ('in2', 'out2'): 1.0,\n",
              " ('out0', 'in0'): 1.0,\n",
              " ('out1', 'in1'): 1.0,\n",
              " ('out2', 'in2'): 1.0}"
            ]
          },
          "execution_count": 24,
          "metadata": {},
          "output_type": "execute_result"
        }
      ],
      "source": [
        "passthru_model = passthru(3)\n",
        "passthru_sdict_model = sax.sdict(passthru_model)\n",
        "passthru_sdict_model()"
      ]
    },
    {
      "cell_type": "code",
      "execution_count": 25,
      "id": "9b2be9a8-1b06-4b60-ac44-853d49b3e9f6",
      "metadata": {
        "execution": {
          "iopub.execute_input": "2022-08-04T05:49:55.761549Z",
          "iopub.status.busy": "2022-08-04T05:49:55.759640Z",
          "iopub.status.idle": "2022-08-04T05:49:55.780238Z",
          "shell.execute_reply": "2022-08-04T05:49:55.779567Z"
        },
        "papermill": {
          "duration": 0.056884,
          "end_time": "2022-08-04T05:49:55.780360",
          "exception": false,
          "start_time": "2022-08-04T05:49:55.723476",
          "status": "completed"
        },
        "tags": []
      },
      "outputs": [
        {
          "data": {
            "text/plain": [
              "{('in0', 'in0'): 0.49904,\n",
              " ('out0', 'out0'): 0.49904,\n",
              " ('in0', 'out0'): 0.86544,\n",
              " ('out0', 'in0'): 0.86544}"
            ]
          },
          "execution_count": 25,
          "metadata": {},
          "output_type": "execute_result"
        }
      ],
      "source": [
        "mzi = sax.circuit(\n",
        "    instances={\n",
        "        \"lft\": unitary(1, 2),\n",
        "        \"top\": unitary(1, 1),\n",
        "        \"rgt\": unitary(1, 2),\n",
        "    },\n",
        "    connections={\n",
        "        \"lft,out0\": \"rgt,out0\",\n",
        "        \"lft,out1\": \"top,in0\",\n",
        "        \"top,out0\": \"rgt,out1\",\n",
        "    },\n",
        "    ports = {\n",
        "        \"in0\": \"lft,in0\",\n",
        "        \"out0\": \"rgt,in0\",\n",
        "    }\n",
        ")\n",
        "mzi()"
      ]
    },
    {
      "cell_type": "markdown",
      "id": "bb6e94aa",
      "metadata": {
        "papermill": {
          "duration": 0.026752,
          "end_time": "2022-08-04T05:49:55.833520",
          "exception": false,
          "start_time": "2022-08-04T05:49:55.806768",
          "status": "completed"
        },
        "tags": []
      },
      "source": [
        "## All Models"
      ]
    },
    {
      "cell_type": "markdown",
      "id": "0c6fbd0f82df0fd7",
      "metadata": {},
      "source": [
        ":::{eval-rst}\n",
        ".. autofunction:: sax.models.get_models\n",
        ":::\n"
      ]
    },
    {
      "cell_type": "code",
      "execution_count": 26,
      "id": "6450c2bb2ebeaedb",
      "metadata": {
        "execution": {
          "iopub.execute_input": "2022-08-04T05:49:55.891715Z",
          "iopub.status.busy": "2022-08-04T05:49:55.891211Z",
          "iopub.status.idle": "2022-08-04T05:49:55.893400Z",
          "shell.execute_reply": "2022-08-04T05:49:55.893784Z"
        },
        "papermill": {
          "duration": 0.034133,
          "end_time": "2022-08-04T05:49:55.893924",
          "exception": false,
          "start_time": "2022-08-04T05:49:55.859791",
          "status": "completed"
        },
        "tags": []
      },
      "outputs": [],
      "source": [
        "\n",
        "models = {\n",
        "    \"copier\": copier,\n",
        "    \"coupler\": coupler,\n",
        "    \"passthru\": passthru,\n",
        "    \"straight\": straight,\n",
        "    \"unitary\": unitary,\n",
        "}\n",
        "\n",
        "def get_models(copy: bool=True):\n",
        "    if copy:\n",
        "        return {**models}\n",
        "    return models"
      ]
    }
  ],
  "metadata": {
    "kernelspec": {
      "display_name": "sax-np",
      "language": "python",
      "name": "sax-np"
    },
    "language_info": {
      "codemirror_mode": {
        "name": "ipython",
        "version": 3
      },
      "file_extension": ".py",
      "mimetype": "text/x-python",
      "name": "python",
      "nbconvert_exporter": "python",
      "pygments_lexer": "ipython3",
      "version": "3.9.0"
    },
    "papermill": {
      "default_parameters": {},
      "duration": 10.346764,
      "end_time": "2022-08-04T05:49:56.329375",
      "environment_variables": {},
      "exception": null,
      "input_path": "./nbs/05_models.ipynb",
      "output_path": "./nbs/05_models.ipynb",
      "parameters": {},
      "start_time": "2022-08-04T05:49:45.982611",
      "version": "2.3.4"
    }
  },
  "nbformat": 4,
  "nbformat_minor": 5
}
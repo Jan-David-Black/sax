{
  "cells": [
    {
      "cell_type": "code",
      "execution_count": 1,
      "id": "fc749737a5766d77",
      "metadata": {
        "execution": {
          "iopub.execute_input": "2022-08-10T14:58:50.933471Z",
          "iopub.status.busy": "2022-08-10T14:58:50.933044Z",
          "iopub.status.idle": "2022-08-10T14:58:50.935187Z",
          "shell.execute_reply": "2022-08-10T14:58:50.934786Z"
        },
        "papermill": {
          "duration": 0.02481,
          "end_time": "2022-08-10T14:58:50.935295",
          "exception": false,
          "start_time": "2022-08-10T14:58:50.910485",
          "status": "completed"
        },
        "tags": [
          "remove-cell"
        ]
      },
      "outputs": [],
      "source": []
    },
    {
      "cell_type": "markdown",
      "id": "986cb864",
      "metadata": {
        "papermill": {
          "duration": 0.017971,
          "end_time": "2022-08-10T14:58:50.971471",
          "exception": false,
          "start_time": "2022-08-10T14:58:50.953500",
          "status": "completed"
        },
        "tags": []
      },
      "source": [
        "# Models\n",
        "\n",
        "> Default SAX Models"
      ]
    },
    {
      "cell_type": "code",
      "execution_count": 2,
      "id": "3c51f87b74e45877",
      "metadata": {
        "execution": {
          "iopub.execute_input": "2022-08-10T14:58:51.014292Z",
          "iopub.status.busy": "2022-08-10T14:58:51.013878Z",
          "iopub.status.idle": "2022-08-10T14:58:51.015701Z",
          "shell.execute_reply": "2022-08-10T14:58:51.015361Z"
        },
        "papermill": {
          "duration": 0.026493,
          "end_time": "2022-08-10T14:58:51.015789",
          "exception": false,
          "start_time": "2022-08-10T14:58:50.989296",
          "status": "completed"
        },
        "tags": [
          "remove-cell"
        ]
      },
      "outputs": [],
      "source": [
        "import os, sys; sys.stderr = open(os.devnull, \"w\")"
      ]
    },
    {
      "cell_type": "code",
      "execution_count": 3,
      "id": "02bc58ae663c47b1",
      "metadata": {
        "execution": {
          "iopub.execute_input": "2022-08-10T14:58:51.056494Z",
          "iopub.status.busy": "2022-08-10T14:58:51.055707Z",
          "iopub.status.idle": "2022-08-10T14:58:51.725022Z",
          "shell.execute_reply": "2022-08-10T14:58:51.725368Z"
        },
        "papermill": {
          "duration": 0.69172,
          "end_time": "2022-08-10T14:58:51.725493",
          "exception": false,
          "start_time": "2022-08-10T14:58:51.033773",
          "status": "completed"
        },
        "tags": [
          "hide-input"
        ]
      },
      "outputs": [],
      "source": [
        "from __future__ import annotations\n",
        "\n",
        "import warnings\n",
        "from types import SimpleNamespace\n",
        "from typing import Optional, Tuple\n",
        "\n",
        "import sax\n",
        "from sax.caching import cache\n",
        "from sax.typing_ import Model, SCoo, SDict\n",
        "from sax.utils import get_inputs_outputs, reciprocal\n",
        "\n",
        "try:\n",
        "    import jax\n",
        "    import jax.numpy as jnp\n",
        "    JAX_AVAILABLE = True\n",
        "except ImportError:\n",
        "    import numpy as jnp\n",
        "    \n",
        "    def jit(func, *args, **kwargs):\n",
        "        warnings.warn(\"[NO JAX] skipping jit! Please install JAX!\")\n",
        "        return func\n",
        "    \n",
        "    jax = SimpleNamespace(jit=jit)\n",
        "    \n",
        "    JAX_AVAILABLE = False"
      ]
    },
    {
      "cell_type": "markdown",
      "id": "efa9b619",
      "metadata": {
        "papermill": {
          "duration": 0.018737,
          "end_time": "2022-08-10T14:58:51.762694",
          "exception": false,
          "start_time": "2022-08-10T14:58:51.743957",
          "status": "completed"
        },
        "tags": []
      },
      "source": [
        "## Standard Models"
      ]
    },
    {
      "cell_type": "markdown",
      "id": "465a11a41a36016e",
      "metadata": {},
      "source": [
        ":::{eval-rst}\n",
        ".. autofunction:: sax.models.straight\n",
        ":::\n"
      ]
    },
    {
      "cell_type": "code",
      "execution_count": 4,
      "id": "a31fdf45bb49ef93",
      "metadata": {
        "execution": {
          "iopub.execute_input": "2022-08-10T14:58:51.804125Z",
          "iopub.status.busy": "2022-08-10T14:58:51.803697Z",
          "iopub.status.idle": "2022-08-10T14:58:51.805231Z",
          "shell.execute_reply": "2022-08-10T14:58:51.804906Z"
        },
        "papermill": {
          "duration": 0.02467,
          "end_time": "2022-08-10T14:58:51.805319",
          "exception": false,
          "start_time": "2022-08-10T14:58:51.780649",
          "status": "completed"
        },
        "tags": [
          "hide-input"
        ]
      },
      "outputs": [],
      "source": [
        "\n",
        "def straight(\n",
        "    *,\n",
        "    wl: float = 1.55,\n",
        "    wl0: float = 1.55,\n",
        "    neff: float = 2.34,\n",
        "    ng: float = 3.4,\n",
        "    length: float = 10.0,\n",
        "    loss: float = 0.0\n",
        ") -> SDict:\n",
        "    \"\"\"a simple straight waveguide model\"\"\"\n",
        "    dwl = wl - wl0\n",
        "    dneff_dwl = (ng - neff) / wl0\n",
        "    neff = neff - dwl * dneff_dwl\n",
        "    phase = 2 * jnp.pi * neff * length / wl\n",
        "    amplitude = jnp.asarray(10 ** (-loss * length / 20), dtype=complex)\n",
        "    transmission =  amplitude * jnp.exp(1j * phase)\n",
        "    sdict = reciprocal(\n",
        "        {\n",
        "            (\"in0\", \"out0\"): transmission,\n",
        "        }\n",
        "    )\n",
        "    return sdict"
      ]
    },
    {
      "cell_type": "code",
      "execution_count": 5,
      "id": "a99cec57",
      "metadata": {
        "execution": {
          "iopub.execute_input": "2022-08-10T14:58:51.844720Z",
          "iopub.status.busy": "2022-08-10T14:58:51.844304Z",
          "iopub.status.idle": "2022-08-10T14:58:51.909397Z",
          "shell.execute_reply": "2022-08-10T14:58:51.909726Z"
        },
        "papermill": {
          "duration": 0.086337,
          "end_time": "2022-08-10T14:58:51.909851",
          "exception": false,
          "start_time": "2022-08-10T14:58:51.823514",
          "status": "completed"
        },
        "tags": []
      },
      "outputs": [
        {
          "data": {
            "text/plain": [
              "{('in0', 'out0'): 0.82076+0.57127j, ('out0', 'in0'): 0.82076+0.57127j}"
            ]
          },
          "execution_count": 5,
          "metadata": {},
          "output_type": "execute_result"
        }
      ],
      "source": [
        "straight()"
      ]
    },
    {
      "cell_type": "markdown",
      "id": "34e337660d7448c0",
      "metadata": {},
      "source": [
        ":::{eval-rst}\n",
        ".. autofunction:: sax.models.coupler\n",
        ":::\n"
      ]
    },
    {
      "cell_type": "code",
      "execution_count": 6,
      "id": "f679283013007b12",
      "metadata": {
        "execution": {
          "iopub.execute_input": "2022-08-10T14:58:51.952124Z",
          "iopub.status.busy": "2022-08-10T14:58:51.951678Z",
          "iopub.status.idle": "2022-08-10T14:58:51.952750Z",
          "shell.execute_reply": "2022-08-10T14:58:51.953061Z"
        },
        "papermill": {
          "duration": 0.024401,
          "end_time": "2022-08-10T14:58:51.953174",
          "exception": false,
          "start_time": "2022-08-10T14:58:51.928773",
          "status": "completed"
        },
        "tags": [
          "hide-input"
        ]
      },
      "outputs": [],
      "source": [
        "\n",
        "def coupler(*, coupling: float = 0.5) -> SDict:\n",
        "    \"\"\"a simple coupler model\"\"\"\n",
        "    kappa = coupling ** 0.5\n",
        "    tau = (1 - coupling) ** 0.5\n",
        "    sdict = reciprocal(\n",
        "        {\n",
        "            (\"in0\", \"out0\"): tau,\n",
        "            (\"in0\", \"out1\"): 1j * kappa,\n",
        "            (\"in1\", \"out0\"): 1j * kappa,\n",
        "            (\"in1\", \"out1\"): tau,\n",
        "        }\n",
        "    )\n",
        "    return sdict"
      ]
    },
    {
      "cell_type": "code",
      "execution_count": 7,
      "id": "5fd87a22",
      "metadata": {
        "execution": {
          "iopub.execute_input": "2022-08-10T14:58:51.994456Z",
          "iopub.status.busy": "2022-08-10T14:58:51.994045Z",
          "iopub.status.idle": "2022-08-10T14:58:51.995557Z",
          "shell.execute_reply": "2022-08-10T14:58:51.995867Z"
        },
        "papermill": {
          "duration": 0.024096,
          "end_time": "2022-08-10T14:58:51.995972",
          "exception": false,
          "start_time": "2022-08-10T14:58:51.971876",
          "status": "completed"
        },
        "tags": []
      },
      "outputs": [
        {
          "data": {
            "text/plain": [
              "{('in0', 'out0'): 0.7071067811865476,\n",
              " ('in0', 'out1'): 0.7071067811865476j,\n",
              " ('in1', 'out0'): 0.7071067811865476j,\n",
              " ('in1', 'out1'): 0.7071067811865476,\n",
              " ('out0', 'in0'): 0.7071067811865476,\n",
              " ('out1', 'in0'): 0.7071067811865476j,\n",
              " ('out0', 'in1'): 0.7071067811865476j,\n",
              " ('out1', 'in1'): 0.7071067811865476}"
            ]
          },
          "execution_count": 7,
          "metadata": {},
          "output_type": "execute_result"
        }
      ],
      "source": [
        "coupler()"
      ]
    },
    {
      "cell_type": "markdown",
      "id": "ca06c12f",
      "metadata": {
        "papermill": {
          "duration": 0.018896,
          "end_time": "2022-08-10T14:58:52.033700",
          "exception": false,
          "start_time": "2022-08-10T14:58:52.014804",
          "status": "completed"
        },
        "tags": []
      },
      "source": [
        "## Model Factories"
      ]
    },
    {
      "cell_type": "code",
      "execution_count": 8,
      "id": "5cebe6c7d6a4c30f",
      "metadata": {
        "execution": {
          "iopub.execute_input": "2022-08-10T14:58:52.078746Z",
          "iopub.status.busy": "2022-08-10T14:58:52.078289Z",
          "iopub.status.idle": "2022-08-10T14:58:52.079517Z",
          "shell.execute_reply": "2022-08-10T14:58:52.079828Z"
        },
        "papermill": {
          "duration": 0.027187,
          "end_time": "2022-08-10T14:58:52.079934",
          "exception": false,
          "start_time": "2022-08-10T14:58:52.052747",
          "status": "completed"
        },
        "tags": [
          "remove-cell"
        ]
      },
      "outputs": [],
      "source": [
        "\n",
        "def _validate_ports(ports, num_inputs, num_outputs, diagonal) -> Tuple[Tuple[str,...], Tuple[str,...], int, int]:\n",
        "    if ports is None:\n",
        "        if num_inputs is None or num_outputs is None:\n",
        "            raise ValueError(\n",
        "                \"if not ports given, you must specify how many input ports \"\n",
        "                \"and how many output ports a model has.\"\n",
        "            )\n",
        "        input_ports = [f\"in{i}\" for i in range(num_inputs)]\n",
        "        output_ports = [f\"out{i}\" for i in range(num_outputs)]\n",
        "    else:\n",
        "        if num_inputs is not None:\n",
        "            if num_outputs is None:\n",
        "                raise ValueError(\n",
        "                    \"if num_inputs is given, num_outputs should be given as well.\"\n",
        "                )\n",
        "        if num_outputs is not None:\n",
        "            if num_inputs is None:\n",
        "                raise ValueError(\n",
        "                    \"if num_outputs is given, num_inputs should be given as well.\"\n",
        "                )\n",
        "        if num_inputs is not None and num_outputs is not None:\n",
        "            if num_inputs + num_outputs != len(ports):\n",
        "                raise ValueError(\"num_inputs + num_outputs != len(ports)\")\n",
        "            input_ports = ports[:num_inputs]\n",
        "            output_ports = ports[num_inputs:]\n",
        "        else:\n",
        "            input_ports, output_ports = get_inputs_outputs(ports)\n",
        "            num_inputs = len(input_ports)\n",
        "            num_outputs = len(output_ports)\n",
        "            \n",
        "    if diagonal:\n",
        "        if num_inputs != num_outputs:\n",
        "            raise ValueError(\n",
        "                \"Can only have a diagonal passthru if number of input ports equals the number of output ports!\"\n",
        "            )\n",
        "    return input_ports, output_ports, num_inputs, num_outputs"
      ]
    },
    {
      "cell_type": "markdown",
      "id": "ddf68032cd133ae8",
      "metadata": {},
      "source": [
        ":::{eval-rst}\n",
        ".. autofunction:: sax.models.unitary\n",
        ":::\n"
      ]
    },
    {
      "cell_type": "code",
      "execution_count": 9,
      "id": "c29fb2481326beb8",
      "metadata": {
        "execution": {
          "iopub.execute_input": "2022-08-10T14:58:52.119999Z",
          "iopub.status.busy": "2022-08-10T14:58:52.119578Z",
          "iopub.status.idle": "2022-08-10T14:58:52.129925Z",
          "shell.execute_reply": "2022-08-10T14:58:52.130220Z"
        },
        "papermill": {
          "duration": 0.03153,
          "end_time": "2022-08-10T14:58:52.130331",
          "exception": false,
          "start_time": "2022-08-10T14:58:52.098801",
          "status": "completed"
        },
        "tags": [
          "hide-input"
        ]
      },
      "outputs": [],
      "source": [
        "\n",
        "@cache\n",
        "def unitary(\n",
        "    num_inputs: Optional[int] = None,\n",
        "    num_outputs: Optional[int] = None,\n",
        "    ports: Optional[Tuple[str, ...]] = None,\n",
        "    *,\n",
        "    jit=True,\n",
        "    reciprocal=True,\n",
        "    diagonal=False,\n",
        ") -> Model:\n",
        "    input_ports, output_ports, num_inputs, num_outputs = _validate_ports(ports, num_inputs, num_outputs, diagonal)\n",
        "    assert num_inputs is not None and num_outputs is not None\n",
        "    \n",
        "    # let's create the squared S-matrix:\n",
        "    N = max(num_inputs, num_outputs)\n",
        "    S = jnp.zeros((2*N, 2*N), dtype=float)\n",
        "\n",
        "    if not diagonal:\n",
        "        if JAX_AVAILABLE:\n",
        "            S = S.at[:N, N:].set(1)\n",
        "        else:\n",
        "            S[:N, N:] = 1\n",
        "    else:\n",
        "        r = jnp.arange(N, dtype=int) # reciprocal only works if num_inputs == num_outputs!\n",
        "        if JAX_AVAILABLE:\n",
        "            S = S.at[r, N+r].set(1)\n",
        "        else:\n",
        "            S[r, N+r] = 1\n",
        "\n",
        "    if reciprocal:\n",
        "        if not diagonal:\n",
        "            if JAX_AVAILABLE:\n",
        "                S = S.at[N:, :N].set(1)\n",
        "            else:\n",
        "                S[N:, :N] = 1\n",
        "        else:\n",
        "            r = jnp.arange(N, dtype=int) # reciprocal only works if num_inputs == num_outputs!\n",
        "            if JAX_AVAILABLE:\n",
        "                S = S.at[N+r, r].set(1)\n",
        "            else:\n",
        "                S[N+r, r] = 1\n",
        "\n",
        "    # Now we need to normalize the squared S-matrix\n",
        "    U, s, V = jnp.linalg.svd(S, full_matrices=False)\n",
        "    S = jnp.sqrt(U@jnp.diag(jnp.where(s > 1e-12, 1, 0))@V)\n",
        "    \n",
        "    # Now create subset of this matrix we're interested in:\n",
        "    r = jnp.concatenate([jnp.arange(num_inputs, dtype=int), N+jnp.arange(num_outputs, dtype=int)], 0)\n",
        "    S = S[r, :][:, r]\n",
        "\n",
        "    # let's convert it in SCOO format:\n",
        "    Si, Sj = jnp.where(S > 1e-6)\n",
        "    Sx = S[Si, Sj]\n",
        "    \n",
        "    # the last missing piece is a port map:\n",
        "    pm = {\n",
        "        **{p: i for i, p in enumerate(input_ports)},\n",
        "        **{p: i + num_inputs for i, p in enumerate(output_ports)},\n",
        "    }\n",
        "    \n",
        "    def func(wl: float = 1.5) -> SCoo:\n",
        "        wl_ = jnp.asarray(wl)\n",
        "        Sx_ = jnp.broadcast_to(Sx, (*wl_.shape, *Sx.shape))\n",
        "        return Si, Sj, Sx_, pm\n",
        "\n",
        "    func.__name__ = f\"unitary_{num_inputs}_{num_outputs}\"\n",
        "    func.__qualname__ = f\"unitary_{num_inputs}_{num_outputs}\"\n",
        "    if jit:\n",
        "        return jax.jit(func)\n",
        "    return func"
      ]
    },
    {
      "cell_type": "markdown",
      "id": "327febf2-70d5-48ed-8b39-bac2d9727db5",
      "metadata": {
        "papermill": {
          "duration": 0.01938,
          "end_time": "2022-08-10T14:58:52.168967",
          "exception": false,
          "start_time": "2022-08-10T14:58:52.149587",
          "status": "completed"
        },
        "tags": []
      },
      "source": [
        "A unitary model returns an `SCoo` by default:"
      ]
    },
    {
      "cell_type": "code",
      "execution_count": 10,
      "id": "e95bacdd",
      "metadata": {
        "execution": {
          "iopub.execute_input": "2022-08-10T14:58:52.214641Z",
          "iopub.status.busy": "2022-08-10T14:58:52.214237Z",
          "iopub.status.idle": "2022-08-10T14:58:53.013973Z",
          "shell.execute_reply": "2022-08-10T14:58:53.014276Z"
        },
        "papermill": {
          "duration": 0.826323,
          "end_time": "2022-08-10T14:58:53.014403",
          "exception": false,
          "start_time": "2022-08-10T14:58:52.188080",
          "status": "completed"
        },
        "tags": []
      },
      "outputs": [
        {
          "data": {
            "text/plain": [
              "(array([0, 0, 0, 1, 1, 1, 2, 2, 3, 3, 3]),\n",
              " array([0, 2, 3, 1, 2, 3, 0, 1, 0, 1, 3]),\n",
              " array([4.9899322e-01, 9.6622550e-01, 2.5769794e-01, 4.9899328e-01,\n",
              "        2.5769794e-01, 9.6622562e-01, 7.0710677e-01, 7.0710677e-01,\n",
              "        7.0710677e-01, 7.0710677e-01, 2.3246315e-04]),\n",
              " {'in0': array(0), 'in1': array(1), 'out0': array(2), 'out1': array(3)})"
            ]
          },
          "execution_count": 10,
          "metadata": {},
          "output_type": "execute_result"
        }
      ],
      "source": [
        "unitary_model = unitary(2, 2)\n",
        "unitary_model() # a unitary model returns an SCoo by default"
      ]
    },
    {
      "cell_type": "markdown",
      "id": "01ff2567-9b0e-4686-acb4-47cfb11b06ce",
      "metadata": {
        "papermill": {
          "duration": 0.019595,
          "end_time": "2022-08-10T14:58:53.053400",
          "exception": false,
          "start_time": "2022-08-10T14:58:53.033805",
          "status": "completed"
        },
        "tags": []
      },
      "source": [
        "As you probably already know, it's very easy to convert a model returning any `Stype` into a model returning an `SDict` as follows:"
      ]
    },
    {
      "cell_type": "code",
      "execution_count": 11,
      "id": "260dda8c-7e44-4f3f-b96c-e742daaf2885",
      "metadata": {
        "execution": {
          "iopub.execute_input": "2022-08-10T14:58:53.107308Z",
          "iopub.status.busy": "2022-08-10T14:58:53.102118Z",
          "iopub.status.idle": "2022-08-10T14:58:53.186734Z",
          "shell.execute_reply": "2022-08-10T14:58:53.187068Z"
        },
        "papermill": {
          "duration": 0.113958,
          "end_time": "2022-08-10T14:58:53.187194",
          "exception": false,
          "start_time": "2022-08-10T14:58:53.073236",
          "status": "completed"
        },
        "tags": []
      },
      "outputs": [
        {
          "data": {
            "text/plain": [
              "{('in0', 'in0'): 0.49899,\n",
              " ('in0', 'out0'): 0.96623,\n",
              " ('in0', 'out1'): 0.2577,\n",
              " ('in1', 'in1'): 0.49899,\n",
              " ('in1', 'out0'): 0.2577,\n",
              " ('in1', 'out1'): 0.96623,\n",
              " ('out0', 'in0'): 0.70711,\n",
              " ('out0', 'in1'): 0.70711,\n",
              " ('out1', 'in0'): 0.70711,\n",
              " ('out1', 'in1'): 0.70711,\n",
              " ('out1', 'out1'): 0.00023}"
            ]
          },
          "execution_count": 11,
          "metadata": {},
          "output_type": "execute_result"
        }
      ],
      "source": [
        "unitary_sdict_model = sax.sdict(unitary_model)\n",
        "unitary_sdict_model()"
      ]
    },
    {
      "cell_type": "markdown",
      "id": "e9a1a46b-b10a-471b-b835-7b6d8d49175a",
      "metadata": {
        "papermill": {
          "duration": 0.019635,
          "end_time": "2022-08-10T14:58:53.226646",
          "exception": false,
          "start_time": "2022-08-10T14:58:53.207011",
          "status": "completed"
        },
        "tags": []
      },
      "source": [
        "If we need custom port names, we can also just specify them explicitly:"
      ]
    },
    {
      "cell_type": "code",
      "execution_count": 12,
      "id": "66abe9b0",
      "metadata": {
        "execution": {
          "iopub.execute_input": "2022-08-10T14:58:53.272226Z",
          "iopub.status.busy": "2022-08-10T14:58:53.270903Z",
          "iopub.status.idle": "2022-08-10T14:58:53.286156Z",
          "shell.execute_reply": "2022-08-10T14:58:53.285448Z"
        },
        "papermill": {
          "duration": 0.038998,
          "end_time": "2022-08-10T14:58:53.286250",
          "exception": false,
          "start_time": "2022-08-10T14:58:53.247252",
          "status": "completed"
        },
        "tags": []
      },
      "outputs": [
        {
          "data": {
            "text/plain": [
              "(array([0, 0, 0, 1, 1, 1, 2, 2, 3, 3, 3]),\n",
              " array([0, 2, 3, 1, 2, 3, 0, 1, 0, 1, 3]),\n",
              " array([4.9899322e-01, 9.6622550e-01, 2.5769794e-01, 4.9899328e-01,\n",
              "        2.5769794e-01, 9.6622562e-01, 7.0710677e-01, 7.0710677e-01,\n",
              "        7.0710677e-01, 7.0710677e-01, 2.3246315e-04]),\n",
              " {'in0': array(0), 'in1': array(1), 'out0': array(2), 'out1': array(3)})"
            ]
          },
          "execution_count": 12,
          "metadata": {},
          "output_type": "execute_result"
        }
      ],
      "source": [
        "unitary_model = unitary(ports=(\"in0\", \"in1\", \"out0\", \"out1\"))\n",
        "unitary_model()"
      ]
    },
    {
      "cell_type": "markdown",
      "id": "ebf14c1c-ccfb-44e6-8572-18b366ffab91",
      "metadata": {
        "papermill": {
          "duration": 0.020226,
          "end_time": "2022-08-10T14:58:53.326613",
          "exception": false,
          "start_time": "2022-08-10T14:58:53.306387",
          "status": "completed"
        },
        "tags": []
      },
      "source": [
        "A unitary model will by default split a signal at an input port equally over all output ports. However, if there are an equal number of input ports as output ports we can in stead create a passthru by setting the `diagonal` flag to `True`:"
      ]
    },
    {
      "cell_type": "code",
      "execution_count": 13,
      "id": "7c1d61a3",
      "metadata": {
        "execution": {
          "iopub.execute_input": "2022-08-10T14:58:53.374621Z",
          "iopub.status.busy": "2022-08-10T14:58:53.371134Z",
          "iopub.status.idle": "2022-08-10T14:58:53.666208Z",
          "shell.execute_reply": "2022-08-10T14:58:53.666516Z"
        },
        "papermill": {
          "duration": 0.319795,
          "end_time": "2022-08-10T14:58:53.666644",
          "exception": false,
          "start_time": "2022-08-10T14:58:53.346849",
          "status": "completed"
        },
        "tags": []
      },
      "outputs": [
        {
          "data": {
            "text/plain": [
              "{('in0', 'out0'): 1.0,\n",
              " ('in1', 'out1'): 1.0,\n",
              " ('out0', 'in0'): 1.0,\n",
              " ('out1', 'in1'): 1.0}"
            ]
          },
          "execution_count": 13,
          "metadata": {},
          "output_type": "execute_result"
        }
      ],
      "source": [
        "passthru_model = unitary(2, 2, diagonal=True)\n",
        "sax.sdict(passthru_model())"
      ]
    },
    {
      "cell_type": "code",
      "execution_count": 14,
      "id": "7f93b145",
      "metadata": {
        "execution": {
          "iopub.execute_input": "2022-08-10T14:58:53.714935Z",
          "iopub.status.busy": "2022-08-10T14:58:53.714511Z",
          "iopub.status.idle": "2022-08-10T14:58:54.593291Z",
          "shell.execute_reply": "2022-08-10T14:58:54.593601Z"
        },
        "papermill": {
          "duration": 0.906469,
          "end_time": "2022-08-10T14:58:54.593727",
          "exception": false,
          "start_time": "2022-08-10T14:58:53.687258",
          "status": "completed"
        },
        "tags": []
      },
      "outputs": [
        {
          "data": {
            "text/plain": [
              "{('in0', 'in0'): 0.89409,\n",
              " ('in0', 'out0'): 0.44721,\n",
              " ('in0', 'out1'): 0.44721,\n",
              " ('in0', 'out2'): 0.44721,\n",
              " ('in0', 'out3'): 0.44721,\n",
              " ('in0', 'out4'): 0.44721,\n",
              " ('out0', 'in0'): 0.45508,\n",
              " ('out0', 'out0'): 7.339056901400909e-05,\n",
              " ('out0', 'out1'): 7.339056901400909e-05,\n",
              " ('out0', 'out2'): 7.339056901400909e-05,\n",
              " ('out0', 'out3'): 7.339056901400909e-05,\n",
              " ('out0', 'out4'): 7.339056901400909e-05,\n",
              " ('out1', 'in0'): 0.45508,\n",
              " ('out1', 'out0'): 7.339056901400909e-05,\n",
              " ('out1', 'out1'): 7.339056901400909e-05,\n",
              " ('out1', 'out2'): 7.339056901400909e-05,\n",
              " ('out1', 'out3'): 7.339056901400909e-05,\n",
              " ('out1', 'out4'): 7.339056901400909e-05,\n",
              " ('out2', 'in0'): 0.45508,\n",
              " ('out2', 'out0'): 7.339056901400909e-05,\n",
              " ('out2', 'out1'): 7.339056901400909e-05,\n",
              " ('out2', 'out2'): 7.339056901400909e-05,\n",
              " ('out2', 'out3'): 7.339056901400909e-05,\n",
              " ('out2', 'out4'): 7.339056901400909e-05,\n",
              " ('out3', 'in0'): 0.45508,\n",
              " ('out3', 'out0'): 7.339056901400909e-05,\n",
              " ('out3', 'out1'): 7.339056901400909e-05,\n",
              " ('out3', 'out2'): 7.339056901400909e-05,\n",
              " ('out3', 'out3'): 7.339056901400909e-05,\n",
              " ('out3', 'out4'): 7.339056901400909e-05,\n",
              " ('out4', 'in0'): 0.41426,\n",
              " ('out4', 'out0'): 0.00012,\n",
              " ('out4', 'out1'): 0.00012,\n",
              " ('out4', 'out2'): 0.00012,\n",
              " ('out4', 'out3'): 0.00012,\n",
              " ('out4', 'out4'): 0.00012}"
            ]
          },
          "execution_count": 14,
          "metadata": {},
          "output_type": "execute_result"
        }
      ],
      "source": [
        "ports_in=['in0']\n",
        "ports_out=['out0', 'out1', 'out2', 'out3', 'out4']\n",
        "model = unitary(\n",
        "    ports=tuple(ports_in+ports_out), jit=True, reciprocal=True\n",
        ")\n",
        "model = sax.sdict(model)\n",
        "model()"
      ]
    },
    {
      "cell_type": "markdown",
      "id": "8b149d44-5487-4e50-a2f2-1ad0aca99dac",
      "metadata": {
        "papermill": {
          "duration": 0.02079,
          "end_time": "2022-08-10T14:58:54.635687",
          "exception": false,
          "start_time": "2022-08-10T14:58:54.614897",
          "status": "completed"
        },
        "tags": []
      },
      "source": [
        "Because this is a pretty common usecase we have a dedicated model factory for this as well. This passthru component just takes the number of links (`'in{i}' -> 'out{i]'`) as input. Alternatively, as before, one can also specify the port names directly but one needs to ensure that `len(ports) == 2*num_links`."
      ]
    },
    {
      "cell_type": "markdown",
      "id": "f2e1204acc4623e9",
      "metadata": {},
      "source": [
        ":::{eval-rst}\n",
        ".. autofunction:: sax.models.passthru\n",
        ":::\n"
      ]
    },
    {
      "cell_type": "code",
      "execution_count": 15,
      "id": "321ee169b202d9d1",
      "metadata": {
        "execution": {
          "iopub.execute_input": "2022-08-10T14:58:54.682214Z",
          "iopub.status.busy": "2022-08-10T14:58:54.681624Z",
          "iopub.status.idle": "2022-08-10T14:58:54.683268Z",
          "shell.execute_reply": "2022-08-10T14:58:54.682951Z"
        },
        "papermill": {
          "duration": 0.026862,
          "end_time": "2022-08-10T14:58:54.683358",
          "exception": false,
          "start_time": "2022-08-10T14:58:54.656496",
          "status": "completed"
        },
        "tags": [
          "hide-input"
        ]
      },
      "outputs": [],
      "source": [
        "@cache\n",
        "def passthru(\n",
        "    num_links: Optional[int] = None,\n",
        "    ports: Optional[Tuple[str, ...]] = None,\n",
        "    *,\n",
        "    jit=True,\n",
        "    reciprocal=True,\n",
        ") -> Model:\n",
        "    passthru = unitary(num_links, num_links, ports, jit=jit, reciprocal=reciprocal, diagonal=True)\n",
        "    passthru.__name__ = f\"passthru_{num_links}_{num_links}\"\n",
        "    passthru.__qualname__ = f\"passthru_{num_links}_{num_links}\"\n",
        "    if jit:\n",
        "        return jax.jit(passthru)\n",
        "    return passthru"
      ]
    },
    {
      "cell_type": "code",
      "execution_count": 16,
      "id": "9e8b6cd7-56d4-4697-9a6e-33c929f3d853",
      "metadata": {
        "execution": {
          "iopub.execute_input": "2022-08-10T14:58:54.731973Z",
          "iopub.status.busy": "2022-08-10T14:58:54.731574Z",
          "iopub.status.idle": "2022-08-10T14:58:55.277465Z",
          "shell.execute_reply": "2022-08-10T14:58:55.277777Z"
        },
        "papermill": {
          "duration": 0.573954,
          "end_time": "2022-08-10T14:58:55.277905",
          "exception": false,
          "start_time": "2022-08-10T14:58:54.703951",
          "status": "completed"
        },
        "tags": []
      },
      "outputs": [
        {
          "data": {
            "text/plain": [
              "{('in0', 'out0'): 1.0,\n",
              " ('in1', 'out1'): 1.0,\n",
              " ('in2', 'out2'): 1.0,\n",
              " ('out0', 'in0'): 1.0,\n",
              " ('out1', 'in1'): 1.0,\n",
              " ('out2', 'in2'): 1.0}"
            ]
          },
          "execution_count": 16,
          "metadata": {},
          "output_type": "execute_result"
        }
      ],
      "source": [
        "passthru_model = passthru(3)\n",
        "passthru_sdict_model = sax.sdict(passthru_model)\n",
        "passthru_sdict_model()"
      ]
    },
    {
      "cell_type": "code",
      "execution_count": 17,
      "id": "690e718c-2d84-4177-b8ad-ff39cf8c4691",
      "metadata": {
        "execution": {
          "iopub.execute_input": "2022-08-10T14:58:55.322950Z",
          "iopub.status.busy": "2022-08-10T14:58:55.322491Z",
          "iopub.status.idle": "2022-08-10T14:58:56.926049Z",
          "shell.execute_reply": "2022-08-10T14:58:56.926358Z"
        },
        "papermill": {
          "duration": 1.627338,
          "end_time": "2022-08-10T14:58:56.926485",
          "exception": false,
          "start_time": "2022-08-10T14:58:55.299147",
          "status": "completed"
        },
        "tags": []
      },
      "outputs": [
        {
          "data": {
            "text/plain": [
              "{('in0', 'in0'): 0.49904,\n",
              " ('out0', 'out0'): 0.49904,\n",
              " ('in0', 'out0'): 0.86544,\n",
              " ('out0', 'in0'): 0.86544}"
            ]
          },
          "execution_count": 17,
          "metadata": {},
          "output_type": "execute_result"
        }
      ],
      "source": [
        "mzi = sax.circuit(\n",
        "    instances={\n",
        "        \"lft\": unitary(1, 2),\n",
        "        \"top\": unitary(1, 1),\n",
        "        \"rgt\": unitary(1, 2),\n",
        "    },\n",
        "    connections={\n",
        "        \"lft,out0\": \"rgt,out0\",\n",
        "        \"lft,out1\": \"top,in0\",\n",
        "        \"top,out0\": \"rgt,out1\",\n",
        "    },\n",
        "    ports = {\n",
        "        \"in0\": \"lft,in0\",\n",
        "        \"out0\": \"rgt,in0\",\n",
        "    }\n",
        ")\n",
        "mzi()"
      ]
    },
    {
      "cell_type": "markdown",
      "id": "8e1a959249ee8aaf",
      "metadata": {},
      "source": [
        ":::{eval-rst}\n",
        ".. autofunction:: sax.models.copier\n",
        ":::\n"
      ]
    },
    {
      "cell_type": "code",
      "execution_count": 18,
      "id": "e013f5bcab023e21",
      "metadata": {
        "execution": {
          "iopub.execute_input": "2022-08-10T14:58:56.979277Z",
          "iopub.status.busy": "2022-08-10T14:58:56.972410Z",
          "iopub.status.idle": "2022-08-10T14:58:56.981560Z",
          "shell.execute_reply": "2022-08-10T14:58:56.981186Z"
        },
        "papermill": {
          "duration": 0.033437,
          "end_time": "2022-08-10T14:58:56.981652",
          "exception": false,
          "start_time": "2022-08-10T14:58:56.948215",
          "status": "completed"
        },
        "tags": [
          "hide-input"
        ]
      },
      "outputs": [],
      "source": [
        "\n",
        "@cache\n",
        "def copier(\n",
        "    num_inputs: Optional[int] = None,\n",
        "    num_outputs: Optional[int] = None,\n",
        "    ports: Optional[Tuple[str, ...]] = None,\n",
        "    *,\n",
        "    jit=True,\n",
        "    reciprocal=True,\n",
        "    diagonal=False,\n",
        ") -> Model:\n",
        "        \n",
        "    input_ports, output_ports, num_inputs, num_outputs = _validate_ports(ports, num_inputs, num_outputs, diagonal)\n",
        "    assert num_inputs is not None and num_outputs is not None\n",
        "    \n",
        "    # let's create the squared S-matrix:\n",
        "    S = jnp.zeros((num_inputs+num_outputs, num_inputs+num_outputs), dtype=float)\n",
        "\n",
        "    if not diagonal:\n",
        "        if JAX_AVAILABLE:\n",
        "            S = S.at[:num_inputs, num_inputs:].set(1)\n",
        "        else:\n",
        "            S[:num_inputs, num_inputs:] = 1\n",
        "    else:\n",
        "        r = jnp.arange(num_inputs, dtype=int) # == range(num_outputs) # reciprocal only works if num_inputs == num_outputs!\n",
        "        if JAX_AVAILABLE:\n",
        "            S = S.at[r, num_inputs+r].set(1)\n",
        "        else:\n",
        "            S[r, num_inputs+r] = 1\n",
        "\n",
        "    if reciprocal:\n",
        "        if not diagonal:\n",
        "            if JAX_AVAILABLE:\n",
        "                S = S.at[num_inputs:, :num_inputs].set(1)\n",
        "            else:\n",
        "                S[num_inputs:, :num_inputs] = 1\n",
        "        else:\n",
        "            r = jnp.arange(num_inputs, dtype=int) # == range(num_outputs) # reciprocal only works if num_inputs == num_outputs!\n",
        "            if JAX_AVAILABLE:\n",
        "                S = S.at[num_inputs+r, r].set(1)\n",
        "            else:\n",
        "                S[num_inputs+r, r] = 1\n",
        "\n",
        "    # let's convert it in SCOO format:\n",
        "    Si, Sj = jnp.where(S > 1e-6)\n",
        "    Sx = S[Si, Sj]\n",
        "    \n",
        "    # the last missing piece is a port map:\n",
        "    pm = {\n",
        "        **{p: i for i, p in enumerate(input_ports)},\n",
        "        **{p: i + num_inputs for i, p in enumerate(output_ports)},\n",
        "    }\n",
        "    \n",
        "    def func(wl: float = 1.5) -> SCoo:\n",
        "        wl_ = jnp.asarray(wl)\n",
        "        Sx_ = jnp.broadcast_to(Sx, (*wl_.shape, *Sx.shape))\n",
        "        return Si, Sj, Sx_, pm\n",
        "\n",
        "    func.__name__ = f\"unitary_{num_inputs}_{num_outputs}\"\n",
        "    func.__qualname__ = f\"unitary_{num_inputs}_{num_outputs}\"\n",
        "    if jit:\n",
        "        return jax.jit(func)\n",
        "    return func"
      ]
    },
    {
      "cell_type": "markdown",
      "id": "77014d0f-1a08-4b4b-a011-cf11cd9684b8",
      "metadata": {
        "papermill": {
          "duration": 0.021541,
          "end_time": "2022-08-10T14:58:57.024758",
          "exception": false,
          "start_time": "2022-08-10T14:58:57.003217",
          "status": "completed"
        },
        "tags": []
      },
      "source": [
        "A copier model is like a unitary model, but copies the input signal over all output signals. Hence, if the model has multiple output ports, this model can be considered to introduce gain. That said, it can sometimes be a useful component."
      ]
    },
    {
      "cell_type": "code",
      "execution_count": 19,
      "id": "c2a61a9f-51ea-455f-a66f-94719b43520e",
      "metadata": {
        "execution": {
          "iopub.execute_input": "2022-08-10T14:58:57.072086Z",
          "iopub.status.busy": "2022-08-10T14:58:57.070958Z",
          "iopub.status.idle": "2022-08-10T14:58:57.305065Z",
          "shell.execute_reply": "2022-08-10T14:58:57.305374Z"
        },
        "papermill": {
          "duration": 0.259297,
          "end_time": "2022-08-10T14:58:57.305502",
          "exception": false,
          "start_time": "2022-08-10T14:58:57.046205",
          "status": "completed"
        },
        "tags": []
      },
      "outputs": [
        {
          "data": {
            "text/plain": [
              "(array([0, 0, 1, 1, 2, 2, 3, 3]),\n",
              " array([2, 3, 2, 3, 0, 1, 0, 1]),\n",
              " array([1., 1., 1., 1., 1., 1., 1., 1.]),\n",
              " {'in0': array(0), 'in1': array(1), 'out0': array(2), 'out1': array(3)})"
            ]
          },
          "execution_count": 19,
          "metadata": {},
          "output_type": "execute_result"
        }
      ],
      "source": [
        "copier_model = copier(2, 2)\n",
        "copier_model() # a copier model returns an SCoo by default"
      ]
    },
    {
      "cell_type": "markdown",
      "id": "fbd51c6c-c059-4717-9dae-447becc7e8d5",
      "metadata": {
        "papermill": {
          "duration": 0.022181,
          "end_time": "2022-08-10T14:58:57.349783",
          "exception": false,
          "start_time": "2022-08-10T14:58:57.327602",
          "status": "completed"
        },
        "tags": []
      },
      "source": [
        "As you probably already know, it's very easy to convert a model returning any `Stype` into a model returning an `SDict` as follows:"
      ]
    },
    {
      "cell_type": "code",
      "execution_count": 20,
      "id": "becda099-b5d9-494c-a6b2-9828be10c4a5",
      "metadata": {
        "execution": {
          "iopub.execute_input": "2022-08-10T14:58:57.402918Z",
          "iopub.status.busy": "2022-08-10T14:58:57.402465Z",
          "iopub.status.idle": "2022-08-10T14:58:57.445389Z",
          "shell.execute_reply": "2022-08-10T14:58:57.445739Z"
        },
        "papermill": {
          "duration": 0.074087,
          "end_time": "2022-08-10T14:58:57.445863",
          "exception": false,
          "start_time": "2022-08-10T14:58:57.371776",
          "status": "completed"
        },
        "tags": []
      },
      "outputs": [
        {
          "data": {
            "text/plain": [
              "{('in0', 'out0'): 1.0,\n",
              " ('in0', 'out1'): 1.0,\n",
              " ('in1', 'out0'): 1.0,\n",
              " ('in1', 'out1'): 1.0,\n",
              " ('out0', 'in0'): 1.0,\n",
              " ('out0', 'in1'): 1.0,\n",
              " ('out1', 'in0'): 1.0,\n",
              " ('out1', 'in1'): 1.0}"
            ]
          },
          "execution_count": 20,
          "metadata": {},
          "output_type": "execute_result"
        }
      ],
      "source": [
        "copier_sdict_model = sax.sdict(copier_model)\n",
        "copier_sdict_model()"
      ]
    },
    {
      "cell_type": "markdown",
      "id": "1ad16d1b-f685-4ab9-a8c4-41efbbdae4fa",
      "metadata": {
        "papermill": {
          "duration": 0.022657,
          "end_time": "2022-08-10T14:58:57.490970",
          "exception": false,
          "start_time": "2022-08-10T14:58:57.468313",
          "status": "completed"
        },
        "tags": []
      },
      "source": [
        "If we need custom port names, we can also just specify them explicitly:"
      ]
    },
    {
      "cell_type": "code",
      "execution_count": 21,
      "id": "297d1e45-b881-440b-b887-b38c5517596e",
      "metadata": {
        "execution": {
          "iopub.execute_input": "2022-08-10T14:58:57.540257Z",
          "iopub.status.busy": "2022-08-10T14:58:57.538901Z",
          "iopub.status.idle": "2022-08-10T14:58:57.550139Z",
          "shell.execute_reply": "2022-08-10T14:58:57.549803Z"
        },
        "papermill": {
          "duration": 0.037032,
          "end_time": "2022-08-10T14:58:57.550235",
          "exception": false,
          "start_time": "2022-08-10T14:58:57.513203",
          "status": "completed"
        },
        "tags": []
      },
      "outputs": [
        {
          "data": {
            "text/plain": [
              "(array([0, 0, 1, 1, 2, 2, 3, 3]),\n",
              " array([2, 3, 2, 3, 0, 1, 0, 1]),\n",
              " array([1., 1., 1., 1., 1., 1., 1., 1.]),\n",
              " {'in0': array(0), 'in1': array(1), 'out0': array(2), 'out1': array(3)})"
            ]
          },
          "execution_count": 21,
          "metadata": {},
          "output_type": "execute_result"
        }
      ],
      "source": [
        "copier_model = copier(ports=(\"in0\", \"in1\", \"out0\", \"out1\"))\n",
        "copier_model()"
      ]
    },
    {
      "cell_type": "code",
      "execution_count": 22,
      "id": "608d7114-03ac-4f5f-9790-cf65379d81dd",
      "metadata": {
        "execution": {
          "iopub.execute_input": "2022-08-10T14:58:57.599976Z",
          "iopub.status.busy": "2022-08-10T14:58:57.599569Z",
          "iopub.status.idle": "2022-08-10T14:58:57.628177Z",
          "shell.execute_reply": "2022-08-10T14:58:57.627842Z"
        },
        "papermill": {
          "duration": 0.055491,
          "end_time": "2022-08-10T14:58:57.628277",
          "exception": false,
          "start_time": "2022-08-10T14:58:57.572786",
          "status": "completed"
        },
        "tags": []
      },
      "outputs": [
        {
          "data": {
            "text/plain": [
              "{('in0', 'in0'): 0.89409,\n",
              " ('in0', 'out0'): 0.44721,\n",
              " ('in0', 'out1'): 0.44721,\n",
              " ('in0', 'out2'): 0.44721,\n",
              " ('in0', 'out3'): 0.44721,\n",
              " ('in0', 'out4'): 0.44721,\n",
              " ('out0', 'in0'): 0.45508,\n",
              " ('out0', 'out0'): 7.339056901400909e-05,\n",
              " ('out0', 'out1'): 7.339056901400909e-05,\n",
              " ('out0', 'out2'): 7.339056901400909e-05,\n",
              " ('out0', 'out3'): 7.339056901400909e-05,\n",
              " ('out0', 'out4'): 7.339056901400909e-05,\n",
              " ('out1', 'in0'): 0.45508,\n",
              " ('out1', 'out0'): 7.339056901400909e-05,\n",
              " ('out1', 'out1'): 7.339056901400909e-05,\n",
              " ('out1', 'out2'): 7.339056901400909e-05,\n",
              " ('out1', 'out3'): 7.339056901400909e-05,\n",
              " ('out1', 'out4'): 7.339056901400909e-05,\n",
              " ('out2', 'in0'): 0.45508,\n",
              " ('out2', 'out0'): 7.339056901400909e-05,\n",
              " ('out2', 'out1'): 7.339056901400909e-05,\n",
              " ('out2', 'out2'): 7.339056901400909e-05,\n",
              " ('out2', 'out3'): 7.339056901400909e-05,\n",
              " ('out2', 'out4'): 7.339056901400909e-05,\n",
              " ('out3', 'in0'): 0.45508,\n",
              " ('out3', 'out0'): 7.339056901400909e-05,\n",
              " ('out3', 'out1'): 7.339056901400909e-05,\n",
              " ('out3', 'out2'): 7.339056901400909e-05,\n",
              " ('out3', 'out3'): 7.339056901400909e-05,\n",
              " ('out3', 'out4'): 7.339056901400909e-05,\n",
              " ('out4', 'in0'): 0.41426,\n",
              " ('out4', 'out0'): 0.00012,\n",
              " ('out4', 'out1'): 0.00012,\n",
              " ('out4', 'out2'): 0.00012,\n",
              " ('out4', 'out3'): 0.00012,\n",
              " ('out4', 'out4'): 0.00012}"
            ]
          },
          "execution_count": 22,
          "metadata": {},
          "output_type": "execute_result"
        }
      ],
      "source": [
        "ports_in=['in0']\n",
        "ports_out=['out0', 'out1', 'out2', 'out3', 'out4']\n",
        "model = unitary(\n",
        "    ports=tuple(ports_in+ports_out), jit=True, reciprocal=True\n",
        ")\n",
        "model = sax.sdict(model)\n",
        "model()"
      ]
    },
    {
      "cell_type": "markdown",
      "id": "6d024e5b-95a9-44e5-9dbc-4980249e73a7",
      "metadata": {
        "papermill": {
          "duration": 0.022837,
          "end_time": "2022-08-10T14:58:57.674104",
          "exception": false,
          "start_time": "2022-08-10T14:58:57.651267",
          "status": "completed"
        },
        "tags": []
      },
      "source": [
        "Because this is a pretty common usecase we have a dedicated model factory for this as well. This passthru component just takes the number of links (`'in{i}' -> 'out{i]'`) as input. Alternatively, as before, one can also specify the port names directly but one needs to ensure that `len(ports) == 2*num_links`."
      ]
    },
    {
      "cell_type": "markdown",
      "id": "94d7a3fc7b9ced80",
      "metadata": {},
      "source": [
        ":::{eval-rst}\n",
        ".. autofunction:: sax.models.passthru\n",
        ":::\n"
      ]
    },
    {
      "cell_type": "code",
      "execution_count": 23,
      "id": "7f0dc356860260ff",
      "metadata": {
        "execution": {
          "iopub.execute_input": "2022-08-10T14:58:57.724453Z",
          "iopub.status.busy": "2022-08-10T14:58:57.724048Z",
          "iopub.status.idle": "2022-08-10T14:58:57.725582Z",
          "shell.execute_reply": "2022-08-10T14:58:57.725252Z"
        },
        "papermill": {
          "duration": 0.028644,
          "end_time": "2022-08-10T14:58:57.725669",
          "exception": false,
          "start_time": "2022-08-10T14:58:57.697025",
          "status": "completed"
        },
        "tags": [
          "hide-input"
        ]
      },
      "outputs": [],
      "source": [
        "@cache\n",
        "def passthru(\n",
        "    num_links: Optional[int] = None,\n",
        "    ports: Optional[Tuple[str, ...]] = None,\n",
        "    *,\n",
        "    jit=True,\n",
        "    reciprocal=True,\n",
        ") -> Model:\n",
        "    passthru = unitary(num_links, num_links, ports, jit=jit, reciprocal=reciprocal, diagonal=True)\n",
        "    passthru.__name__ = f\"passthru_{num_links}_{num_links}\"\n",
        "    passthru.__qualname__ = f\"passthru_{num_links}_{num_links}\"\n",
        "    if jit:\n",
        "        return jax.jit(passthru)\n",
        "    return passthru"
      ]
    },
    {
      "cell_type": "code",
      "execution_count": 24,
      "id": "4a063810-224b-446c-a59d-12a20b56e82e",
      "metadata": {
        "execution": {
          "iopub.execute_input": "2022-08-10T14:58:57.775431Z",
          "iopub.status.busy": "2022-08-10T14:58:57.775002Z",
          "iopub.status.idle": "2022-08-10T14:58:57.782562Z",
          "shell.execute_reply": "2022-08-10T14:58:57.782236Z"
        },
        "papermill": {
          "duration": 0.034254,
          "end_time": "2022-08-10T14:58:57.782672",
          "exception": false,
          "start_time": "2022-08-10T14:58:57.748418",
          "status": "completed"
        },
        "tags": []
      },
      "outputs": [
        {
          "data": {
            "text/plain": [
              "{('in0', 'out0'): 1.0,\n",
              " ('in1', 'out1'): 1.0,\n",
              " ('in2', 'out2'): 1.0,\n",
              " ('out0', 'in0'): 1.0,\n",
              " ('out1', 'in1'): 1.0,\n",
              " ('out2', 'in2'): 1.0}"
            ]
          },
          "execution_count": 24,
          "metadata": {},
          "output_type": "execute_result"
        }
      ],
      "source": [
        "passthru_model = passthru(3)\n",
        "passthru_sdict_model = sax.sdict(passthru_model)\n",
        "passthru_sdict_model()"
      ]
    },
    {
      "cell_type": "code",
      "execution_count": 25,
      "id": "9b2be9a8-1b06-4b60-ac44-853d49b3e9f6",
      "metadata": {
        "execution": {
          "iopub.execute_input": "2022-08-10T14:58:57.837039Z",
          "iopub.status.busy": "2022-08-10T14:58:57.836591Z",
          "iopub.status.idle": "2022-08-10T14:58:57.851779Z",
          "shell.execute_reply": "2022-08-10T14:58:57.851457Z"
        },
        "papermill": {
          "duration": 0.045851,
          "end_time": "2022-08-10T14:58:57.851873",
          "exception": false,
          "start_time": "2022-08-10T14:58:57.806022",
          "status": "completed"
        },
        "tags": []
      },
      "outputs": [
        {
          "data": {
            "text/plain": [
              "{('in0', 'in0'): 0.49904,\n",
              " ('out0', 'out0'): 0.49904,\n",
              " ('in0', 'out0'): 0.86544,\n",
              " ('out0', 'in0'): 0.86544}"
            ]
          },
          "execution_count": 25,
          "metadata": {},
          "output_type": "execute_result"
        }
      ],
      "source": [
        "mzi = sax.circuit(\n",
        "    instances={\n",
        "        \"lft\": unitary(1, 2),\n",
        "        \"top\": unitary(1, 1),\n",
        "        \"rgt\": unitary(1, 2),\n",
        "    },\n",
        "    connections={\n",
        "        \"lft,out0\": \"rgt,out0\",\n",
        "        \"lft,out1\": \"top,in0\",\n",
        "        \"top,out0\": \"rgt,out1\",\n",
        "    },\n",
        "    ports = {\n",
        "        \"in0\": \"lft,in0\",\n",
        "        \"out0\": \"rgt,in0\",\n",
        "    }\n",
        ")\n",
        "mzi()"
      ]
    },
    {
      "cell_type": "markdown",
      "id": "bb6e94aa",
      "metadata": {
        "papermill": {
          "duration": 0.023654,
          "end_time": "2022-08-10T14:58:57.899137",
          "exception": false,
          "start_time": "2022-08-10T14:58:57.875483",
          "status": "completed"
        },
        "tags": []
      },
      "source": [
        "## All Models"
      ]
    },
    {
      "cell_type": "markdown",
      "id": "408f6308c48637bf",
      "metadata": {},
      "source": [
        ":::{eval-rst}\n",
        ".. autofunction:: sax.models.get_models\n",
        ":::\n"
      ]
    },
    {
      "cell_type": "code",
      "execution_count": 26,
      "id": "7226d09f855a4f02",
      "metadata": {
        "execution": {
          "iopub.execute_input": "2022-08-10T14:58:57.951076Z",
          "iopub.status.busy": "2022-08-10T14:58:57.950305Z",
          "iopub.status.idle": "2022-08-10T14:58:57.951645Z",
          "shell.execute_reply": "2022-08-10T14:58:57.951954Z"
        },
        "papermill": {
          "duration": 0.029089,
          "end_time": "2022-08-10T14:58:57.952063",
          "exception": false,
          "start_time": "2022-08-10T14:58:57.922974",
          "status": "completed"
        },
        "tags": []
      },
      "outputs": [],
      "source": [
        "\n",
        "models = {\n",
        "    \"copier\": copier,\n",
        "    \"coupler\": coupler,\n",
        "    \"passthru\": passthru,\n",
        "    \"straight\": straight,\n",
        "    \"unitary\": unitary,\n",
        "}\n",
        "\n",
        "def get_models(copy: bool=True):\n",
        "    if copy:\n",
        "        return {**models}\n",
        "    return models"
      ]
    }
  ],
  "metadata": {
    "kernelspec": {
      "display_name": "sax-np",
      "language": "python",
      "name": "sax-np"
    },
    "language_info": {
      "codemirror_mode": {
        "name": "ipython",
        "version": 3
      },
      "file_extension": ".py",
      "mimetype": "text/x-python",
      "name": "python",
      "nbconvert_exporter": "python",
      "pygments_lexer": "ipython3",
      "version": "3.9.0"
    },
    "papermill": {
      "default_parameters": {},
      "duration": 9.373078,
      "end_time": "2022-08-10T14:58:59.156773",
      "environment_variables": {},
      "exception": null,
      "input_path": "./nbs/05_models.ipynb",
      "output_path": "./nbs/05_models.ipynb",
      "parameters": {},
      "start_time": "2022-08-10T14:58:49.783695",
      "version": "2.3.4"
    }
  },
  "nbformat": 4,
  "nbformat_minor": 5
}
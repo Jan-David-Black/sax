{
  "cells": [
    {
      "cell_type": "code",
      "execution_count": 1,
      "id": "6776499d04a75f33",
      "metadata": {
        "execution": {
          "iopub.execute_input": "2022-08-04T04:33:44.782575Z",
          "iopub.status.busy": "2022-08-04T04:33:44.782017Z",
          "iopub.status.idle": "2022-08-04T04:33:44.785033Z",
          "shell.execute_reply": "2022-08-04T04:33:44.785381Z"
        },
        "papermill": {
          "duration": 0.02637,
          "end_time": "2022-08-04T04:33:44.785600",
          "exception": false,
          "start_time": "2022-08-04T04:33:44.759230",
          "status": "completed"
        },
        "tags": [
          "remove-cell"
        ]
      },
      "outputs": [],
      "source": []
    },
    {
      "cell_type": "markdown",
      "id": "986cb864",
      "metadata": {
        "papermill": {
          "duration": 0.017629,
          "end_time": "2022-08-04T04:33:44.821137",
          "exception": false,
          "start_time": "2022-08-04T04:33:44.803508",
          "status": "completed"
        },
        "tags": []
      },
      "source": [
        "# Models\n",
        "\n",
        "> Default SAX Models"
      ]
    },
    {
      "cell_type": "code",
      "execution_count": 2,
      "id": "e0e5bfe377973fe1",
      "metadata": {
        "execution": {
          "iopub.execute_input": "2022-08-04T04:33:44.864682Z",
          "iopub.status.busy": "2022-08-04T04:33:44.863810Z",
          "iopub.status.idle": "2022-08-04T04:33:44.866786Z",
          "shell.execute_reply": "2022-08-04T04:33:44.866416Z"
        },
        "papermill": {
          "duration": 0.028251,
          "end_time": "2022-08-04T04:33:44.866894",
          "exception": false,
          "start_time": "2022-08-04T04:33:44.838643",
          "status": "completed"
        },
        "tags": [
          "remove-cell"
        ]
      },
      "outputs": [],
      "source": [
        "import os, sys; sys.stderr = open(os.devnull, \"w\")"
      ]
    },
    {
      "cell_type": "code",
      "execution_count": 3,
      "id": "5e587bc2a356b44d",
      "metadata": {
        "execution": {
          "iopub.execute_input": "2022-08-04T04:33:44.907703Z",
          "iopub.status.busy": "2022-08-04T04:33:44.907232Z",
          "iopub.status.idle": "2022-08-04T04:33:45.669601Z",
          "shell.execute_reply": "2022-08-04T04:33:45.668742Z"
        },
        "papermill": {
          "duration": 0.78532,
          "end_time": "2022-08-04T04:33:45.669731",
          "exception": false,
          "start_time": "2022-08-04T04:33:44.884411",
          "status": "completed"
        },
        "tags": [
          "hide-input"
        ]
      },
      "outputs": [],
      "source": [
        "from __future__ import annotations\n",
        "\n",
        "import warnings\n",
        "from types import SimpleNamespace\n",
        "from typing import Optional, Tuple\n",
        "\n",
        "import sax\n",
        "from sax.caching import cache\n",
        "from sax.typing_ import Model, SCoo, SDict\n",
        "from sax.utils import get_inputs_outputs, reciprocal\n",
        "\n",
        "try:\n",
        "    import jax\n",
        "    import jax.numpy as jnp\n",
        "    JAX_AVAILABLE = True\n",
        "except ImportError:\n",
        "    import numpy as jnp\n",
        "    \n",
        "    def jit(func, *args, **kwargs):\n",
        "        warnings.warn(\"[NO JAX] skipping jit! Please install JAX!\")\n",
        "        return func\n",
        "    \n",
        "    jax = SimpleNamespace(jit=jit)\n",
        "    \n",
        "    JAX_AVAILABLE = False"
      ]
    },
    {
      "cell_type": "markdown",
      "id": "efa9b619",
      "metadata": {
        "papermill": {
          "duration": 0.017908,
          "end_time": "2022-08-04T04:33:45.705702",
          "exception": false,
          "start_time": "2022-08-04T04:33:45.687794",
          "status": "completed"
        },
        "tags": []
      },
      "source": [
        "## Standard Models"
      ]
    },
    {
      "cell_type": "markdown",
      "id": "351be5df8c8ba3f4",
      "metadata": {},
      "source": [
        ":::{eval-rst}\n",
        ".. autofunction:: sax.models.straight\n",
        ":::\n"
      ]
    },
    {
      "cell_type": "code",
      "execution_count": 4,
      "id": "4f3e352bec6fd2f0",
      "metadata": {
        "execution": {
          "iopub.execute_input": "2022-08-04T04:33:45.746636Z",
          "iopub.status.busy": "2022-08-04T04:33:45.745903Z",
          "iopub.status.idle": "2022-08-04T04:33:45.748200Z",
          "shell.execute_reply": "2022-08-04T04:33:45.748523Z"
        },
        "papermill": {
          "duration": 0.025625,
          "end_time": "2022-08-04T04:33:45.748662",
          "exception": false,
          "start_time": "2022-08-04T04:33:45.723037",
          "status": "completed"
        },
        "tags": [
          "hide-input"
        ]
      },
      "outputs": [],
      "source": [
        "\n",
        "def straight(\n",
        "    *,\n",
        "    wl: float = 1.55,\n",
        "    wl0: float = 1.55,\n",
        "    neff: float = 2.34,\n",
        "    ng: float = 3.4,\n",
        "    length: float = 10.0,\n",
        "    loss: float = 0.0\n",
        ") -> SDict:\n",
        "    \"\"\"a simple straight waveguide model\"\"\"\n",
        "    dwl = wl - wl0\n",
        "    dneff_dwl = (ng - neff) / wl0\n",
        "    neff = neff - dwl * dneff_dwl\n",
        "    phase = 2 * jnp.pi * neff * length / wl\n",
        "    amplitude = jnp.asarray(10 ** (-loss * length / 20), dtype=complex)\n",
        "    transmission =  amplitude * jnp.exp(1j * phase)\n",
        "    sdict = reciprocal(\n",
        "        {\n",
        "            (\"in0\", \"out0\"): transmission,\n",
        "        }\n",
        "    )\n",
        "    return sdict"
      ]
    },
    {
      "cell_type": "code",
      "execution_count": 5,
      "id": "a99cec57",
      "metadata": {
        "execution": {
          "iopub.execute_input": "2022-08-04T04:33:45.788223Z",
          "iopub.status.busy": "2022-08-04T04:33:45.787778Z",
          "iopub.status.idle": "2022-08-04T04:33:45.858765Z",
          "shell.execute_reply": "2022-08-04T04:33:45.859160Z"
        },
        "papermill": {
          "duration": 0.092841,
          "end_time": "2022-08-04T04:33:45.859314",
          "exception": false,
          "start_time": "2022-08-04T04:33:45.766473",
          "status": "completed"
        },
        "tags": []
      },
      "outputs": [
        {
          "data": {
            "text/plain": [
              "{('in0', 'out0'): 0.82076+0.57127j, ('out0', 'in0'): 0.82076+0.57127j}"
            ]
          },
          "execution_count": 5,
          "metadata": {},
          "output_type": "execute_result"
        }
      ],
      "source": [
        "straight()"
      ]
    },
    {
      "cell_type": "markdown",
      "id": "bf6fc732111a5b30",
      "metadata": {},
      "source": [
        ":::{eval-rst}\n",
        ".. autofunction:: sax.models.coupler\n",
        ":::\n"
      ]
    },
    {
      "cell_type": "code",
      "execution_count": 6,
      "id": "9ff3c5bf894231db",
      "metadata": {
        "execution": {
          "iopub.execute_input": "2022-08-04T04:33:45.902036Z",
          "iopub.status.busy": "2022-08-04T04:33:45.901543Z",
          "iopub.status.idle": "2022-08-04T04:33:45.903317Z",
          "shell.execute_reply": "2022-08-04T04:33:45.903634Z"
        },
        "papermill": {
          "duration": 0.025663,
          "end_time": "2022-08-04T04:33:45.903768",
          "exception": false,
          "start_time": "2022-08-04T04:33:45.878105",
          "status": "completed"
        },
        "tags": [
          "hide-input"
        ]
      },
      "outputs": [],
      "source": [
        "\n",
        "def coupler(*, coupling: float = 0.5) -> SDict:\n",
        "    \"\"\"a simple coupler model\"\"\"\n",
        "    kappa = coupling ** 0.5\n",
        "    tau = (1 - coupling) ** 0.5\n",
        "    sdict = reciprocal(\n",
        "        {\n",
        "            (\"in0\", \"out0\"): tau,\n",
        "            (\"in0\", \"out1\"): 1j * kappa,\n",
        "            (\"in1\", \"out0\"): 1j * kappa,\n",
        "            (\"in1\", \"out1\"): tau,\n",
        "        }\n",
        "    )\n",
        "    return sdict"
      ]
    },
    {
      "cell_type": "code",
      "execution_count": 7,
      "id": "5fd87a22",
      "metadata": {
        "execution": {
          "iopub.execute_input": "2022-08-04T04:33:45.944932Z",
          "iopub.status.busy": "2022-08-04T04:33:45.944495Z",
          "iopub.status.idle": "2022-08-04T04:33:45.946072Z",
          "shell.execute_reply": "2022-08-04T04:33:45.946462Z"
        },
        "papermill": {
          "duration": 0.024555,
          "end_time": "2022-08-04T04:33:45.946587",
          "exception": false,
          "start_time": "2022-08-04T04:33:45.922032",
          "status": "completed"
        },
        "tags": []
      },
      "outputs": [
        {
          "data": {
            "text/plain": [
              "{('in0', 'out0'): 0.7071067811865476,\n",
              " ('in0', 'out1'): 0.7071067811865476j,\n",
              " ('in1', 'out0'): 0.7071067811865476j,\n",
              " ('in1', 'out1'): 0.7071067811865476,\n",
              " ('out0', 'in0'): 0.7071067811865476,\n",
              " ('out1', 'in0'): 0.7071067811865476j,\n",
              " ('out0', 'in1'): 0.7071067811865476j,\n",
              " ('out1', 'in1'): 0.7071067811865476}"
            ]
          },
          "execution_count": 7,
          "metadata": {},
          "output_type": "execute_result"
        }
      ],
      "source": [
        "coupler()"
      ]
    },
    {
      "cell_type": "markdown",
      "id": "ca06c12f",
      "metadata": {
        "papermill": {
          "duration": 0.018173,
          "end_time": "2022-08-04T04:33:45.983618",
          "exception": false,
          "start_time": "2022-08-04T04:33:45.965445",
          "status": "completed"
        },
        "tags": []
      },
      "source": [
        "## Model Factories"
      ]
    },
    {
      "cell_type": "code",
      "execution_count": 8,
      "id": "ef068bc41d2d6593",
      "metadata": {
        "execution": {
          "iopub.execute_input": "2022-08-04T04:33:46.028254Z",
          "iopub.status.busy": "2022-08-04T04:33:46.025970Z",
          "iopub.status.idle": "2022-08-04T04:33:46.029930Z",
          "shell.execute_reply": "2022-08-04T04:33:46.029550Z"
        },
        "papermill": {
          "duration": 0.027606,
          "end_time": "2022-08-04T04:33:46.030030",
          "exception": false,
          "start_time": "2022-08-04T04:33:46.002424",
          "status": "completed"
        },
        "tags": [
          "remove-cell"
        ]
      },
      "outputs": [],
      "source": [
        "\n",
        "def _validate_ports(ports, num_inputs, num_outputs, diagonal) -> Tuple[Tuple[str,...], Tuple[str,...], int, int]:\n",
        "    if ports is None:\n",
        "        if num_inputs is None or num_outputs is None:\n",
        "            raise ValueError(\n",
        "                \"if not ports given, you must specify how many input ports \"\n",
        "                \"and how many output ports a model has.\"\n",
        "            )\n",
        "        input_ports = [f\"in{i}\" for i in range(num_inputs)]\n",
        "        output_ports = [f\"out{i}\" for i in range(num_outputs)]\n",
        "    else:\n",
        "        if num_inputs is not None:\n",
        "            if num_outputs is None:\n",
        "                raise ValueError(\n",
        "                    \"if num_inputs is given, num_outputs should be given as well.\"\n",
        "                )\n",
        "        if num_outputs is not None:\n",
        "            if num_inputs is None:\n",
        "                raise ValueError(\n",
        "                    \"if num_outputs is given, num_inputs should be given as well.\"\n",
        "                )\n",
        "        if num_inputs is not None and num_outputs is not None:\n",
        "            if num_inputs + num_outputs != len(ports):\n",
        "                raise ValueError(\"num_inputs + num_outputs != len(ports)\")\n",
        "            input_ports = ports[:num_inputs]\n",
        "            output_ports = ports[num_inputs:]\n",
        "        else:\n",
        "            input_ports, output_ports = get_inputs_outputs(ports)\n",
        "            num_inputs = len(input_ports)\n",
        "            num_outputs = len(output_ports)\n",
        "            \n",
        "    if diagonal:\n",
        "        if num_inputs != num_outputs:\n",
        "            raise ValueError(\n",
        "                \"Can only have a diagonal passthru if number of input ports equals the number of output ports!\"\n",
        "            )\n",
        "    return input_ports, output_ports, num_inputs, num_outputs"
      ]
    },
    {
      "cell_type": "markdown",
      "id": "3d8e337c7fde1b2d",
      "metadata": {},
      "source": [
        ":::{eval-rst}\n",
        ".. autofunction:: sax.models.unitary\n",
        ":::\n"
      ]
    },
    {
      "cell_type": "code",
      "execution_count": 9,
      "id": "595c34d547555c05",
      "metadata": {
        "execution": {
          "iopub.execute_input": "2022-08-04T04:33:46.080113Z",
          "iopub.status.busy": "2022-08-04T04:33:46.079623Z",
          "iopub.status.idle": "2022-08-04T04:33:46.080929Z",
          "shell.execute_reply": "2022-08-04T04:33:46.081295Z"
        },
        "papermill": {
          "duration": 0.033142,
          "end_time": "2022-08-04T04:33:46.081435",
          "exception": false,
          "start_time": "2022-08-04T04:33:46.048293",
          "status": "completed"
        },
        "tags": [
          "hide-input"
        ]
      },
      "outputs": [],
      "source": [
        "\n",
        "@cache\n",
        "def unitary(\n",
        "    num_inputs: Optional[int] = None,\n",
        "    num_outputs: Optional[int] = None,\n",
        "    ports: Optional[Tuple[str, ...]] = None,\n",
        "    *,\n",
        "    jit=True,\n",
        "    reciprocal=True,\n",
        "    diagonal=False,\n",
        ") -> Model:\n",
        "    input_ports, output_ports, num_inputs, num_outputs = _validate_ports(ports, num_inputs, num_outputs, diagonal)\n",
        "    assert num_inputs is not None and num_outputs is not None\n",
        "    \n",
        "    # let's create the squared S-matrix:\n",
        "    N = max(num_inputs, num_outputs)\n",
        "    S = jnp.zeros((2*N, 2*N), dtype=float)\n",
        "\n",
        "    if not diagonal:\n",
        "        if JAX_AVAILABLE:\n",
        "            S = S.at[:N, N:].set(1)\n",
        "        else:\n",
        "            S[:N, N:] = 1\n",
        "    else:\n",
        "        r = jnp.arange(N, dtype=int) # reciprocal only works if num_inputs == num_outputs!\n",
        "        if JAX_AVAILABLE:\n",
        "            S = S.at[r, N+r].set(1)\n",
        "        else:\n",
        "            S[r, N+r] = 1\n",
        "\n",
        "    if reciprocal:\n",
        "        if not diagonal:\n",
        "            if JAX_AVAILABLE:\n",
        "                S = S.at[N:, :N].set(1)\n",
        "            else:\n",
        "                S[N:, :N] = 1\n",
        "        else:\n",
        "            r = jnp.arange(N, dtype=int) # reciprocal only works if num_inputs == num_outputs!\n",
        "            if JAX_AVAILABLE:\n",
        "                S = S.at[N+r, r].set(1)\n",
        "            else:\n",
        "                S[N+r, r] = 1\n",
        "\n",
        "    # Now we need to normalize the squared S-matrix\n",
        "    U, s, V = jnp.linalg.svd(S, full_matrices=False)\n",
        "    S = jnp.sqrt(U@jnp.diag(jnp.where(s > 1e-12, 1, 0))@V)\n",
        "    \n",
        "    # Now create subset of this matrix we're interested in:\n",
        "    r = jnp.concatenate([jnp.arange(num_inputs, dtype=int), N+jnp.arange(num_outputs, dtype=int)], 0)\n",
        "    S = S[r, :][:, r]\n",
        "\n",
        "    # let's convert it in SCOO format:\n",
        "    Si, Sj = jnp.where(S > 1e-6)\n",
        "    Sx = S[Si, Sj]\n",
        "    \n",
        "    # the last missing piece is a port map:\n",
        "    pm = {\n",
        "        **{p: i for i, p in enumerate(input_ports)},\n",
        "        **{p: i + num_inputs for i, p in enumerate(output_ports)},\n",
        "    }\n",
        "    \n",
        "    def func(wl: float = 1.5) -> SCoo:\n",
        "        wl_ = jnp.asarray(wl)\n",
        "        Sx_ = jnp.broadcast_to(Sx, (*wl_.shape, *Sx.shape))\n",
        "        return Si, Sj, Sx_, pm\n",
        "\n",
        "    func.__name__ = f\"unitary_{num_inputs}_{num_outputs}\"\n",
        "    func.__qualname__ = f\"unitary_{num_inputs}_{num_outputs}\"\n",
        "    if jit:\n",
        "        return jax.jit(func)\n",
        "    return func"
      ]
    },
    {
      "cell_type": "markdown",
      "id": "327febf2-70d5-48ed-8b39-bac2d9727db5",
      "metadata": {
        "papermill": {
          "duration": 0.018576,
          "end_time": "2022-08-04T04:33:46.118556",
          "exception": false,
          "start_time": "2022-08-04T04:33:46.099980",
          "status": "completed"
        },
        "tags": []
      },
      "source": [
        "A unitary model returns an `SCoo` by default:"
      ]
    },
    {
      "cell_type": "code",
      "execution_count": 10,
      "id": "e95bacdd",
      "metadata": {
        "execution": {
          "iopub.execute_input": "2022-08-04T04:33:46.166177Z",
          "iopub.status.busy": "2022-08-04T04:33:46.165703Z",
          "iopub.status.idle": "2022-08-04T04:33:47.021532Z",
          "shell.execute_reply": "2022-08-04T04:33:47.021958Z"
        },
        "papermill": {
          "duration": 0.884391,
          "end_time": "2022-08-04T04:33:47.022103",
          "exception": false,
          "start_time": "2022-08-04T04:33:46.137712",
          "status": "completed"
        },
        "tags": []
      },
      "outputs": [
        {
          "data": {
            "text/plain": [
              "(array([0, 0, 0, 1, 1, 1, 2, 2, 3, 3, 3]),\n",
              " array([0, 2, 3, 1, 2, 3, 0, 1, 0, 1, 3]),\n",
              " array([4.9899322e-01, 9.6622550e-01, 2.5769794e-01, 4.9899328e-01,\n",
              "        2.5769794e-01, 9.6622562e-01, 7.0710677e-01, 7.0710677e-01,\n",
              "        7.0710677e-01, 7.0710677e-01, 2.3246315e-04]),\n",
              " {'in0': array(0), 'in1': array(1), 'out0': array(2), 'out1': array(3)})"
            ]
          },
          "execution_count": 10,
          "metadata": {},
          "output_type": "execute_result"
        }
      ],
      "source": [
        "unitary_model = unitary(2, 2)\n",
        "unitary_model() # a unitary model returns an SCoo by default"
      ]
    },
    {
      "cell_type": "markdown",
      "id": "01ff2567-9b0e-4686-acb4-47cfb11b06ce",
      "metadata": {
        "papermill": {
          "duration": 0.019001,
          "end_time": "2022-08-04T04:33:47.060084",
          "exception": false,
          "start_time": "2022-08-04T04:33:47.041083",
          "status": "completed"
        },
        "tags": []
      },
      "source": [
        "As you probably already know, it's very easy to convert a model returning any `Stype` into a model returning an `SDict` as follows:"
      ]
    },
    {
      "cell_type": "code",
      "execution_count": 11,
      "id": "260dda8c-7e44-4f3f-b96c-e742daaf2885",
      "metadata": {
        "execution": {
          "iopub.execute_input": "2022-08-04T04:33:47.117631Z",
          "iopub.status.busy": "2022-08-04T04:33:47.112942Z",
          "iopub.status.idle": "2022-08-04T04:33:47.198967Z",
          "shell.execute_reply": "2022-08-04T04:33:47.199388Z"
        },
        "papermill": {
          "duration": 0.120275,
          "end_time": "2022-08-04T04:33:47.199533",
          "exception": false,
          "start_time": "2022-08-04T04:33:47.079258",
          "status": "completed"
        },
        "tags": []
      },
      "outputs": [
        {
          "data": {
            "text/plain": [
              "{('in0', 'in0'): 0.49899,\n",
              " ('in0', 'out0'): 0.96623,\n",
              " ('in0', 'out1'): 0.2577,\n",
              " ('in1', 'in1'): 0.49899,\n",
              " ('in1', 'out0'): 0.2577,\n",
              " ('in1', 'out1'): 0.96623,\n",
              " ('out0', 'in0'): 0.70711,\n",
              " ('out0', 'in1'): 0.70711,\n",
              " ('out1', 'in0'): 0.70711,\n",
              " ('out1', 'in1'): 0.70711,\n",
              " ('out1', 'out1'): 0.00023}"
            ]
          },
          "execution_count": 11,
          "metadata": {},
          "output_type": "execute_result"
        }
      ],
      "source": [
        "unitary_sdict_model = sax.sdict(unitary_model)\n",
        "unitary_sdict_model()"
      ]
    },
    {
      "cell_type": "markdown",
      "id": "e9a1a46b-b10a-471b-b835-7b6d8d49175a",
      "metadata": {
        "papermill": {
          "duration": 0.020194,
          "end_time": "2022-08-04T04:33:47.238986",
          "exception": false,
          "start_time": "2022-08-04T04:33:47.218792",
          "status": "completed"
        },
        "tags": []
      },
      "source": [
        "If we need custom port names, we can also just specify them explicitly:"
      ]
    },
    {
      "cell_type": "code",
      "execution_count": 12,
      "id": "66abe9b0",
      "metadata": {
        "execution": {
          "iopub.execute_input": "2022-08-04T04:33:47.282778Z",
          "iopub.status.busy": "2022-08-04T04:33:47.282124Z",
          "iopub.status.idle": "2022-08-04T04:33:47.297392Z",
          "shell.execute_reply": "2022-08-04T04:33:47.296956Z"
        },
        "papermill": {
          "duration": 0.039313,
          "end_time": "2022-08-04T04:33:47.297511",
          "exception": false,
          "start_time": "2022-08-04T04:33:47.258198",
          "status": "completed"
        },
        "tags": []
      },
      "outputs": [
        {
          "data": {
            "text/plain": [
              "(array([0, 0, 0, 1, 1, 1, 2, 2, 3, 3, 3]),\n",
              " array([0, 2, 3, 1, 2, 3, 0, 1, 0, 1, 3]),\n",
              " array([4.9899322e-01, 9.6622550e-01, 2.5769794e-01, 4.9899328e-01,\n",
              "        2.5769794e-01, 9.6622562e-01, 7.0710677e-01, 7.0710677e-01,\n",
              "        7.0710677e-01, 7.0710677e-01, 2.3246315e-04]),\n",
              " {'in0': array(0), 'in1': array(1), 'out0': array(2), 'out1': array(3)})"
            ]
          },
          "execution_count": 12,
          "metadata": {},
          "output_type": "execute_result"
        }
      ],
      "source": [
        "unitary_model = unitary(ports=(\"in0\", \"in1\", \"out0\", \"out1\"))\n",
        "unitary_model()"
      ]
    },
    {
      "cell_type": "markdown",
      "id": "ebf14c1c-ccfb-44e6-8572-18b366ffab91",
      "metadata": {
        "papermill": {
          "duration": 0.01961,
          "end_time": "2022-08-04T04:33:47.336760",
          "exception": false,
          "start_time": "2022-08-04T04:33:47.317150",
          "status": "completed"
        },
        "tags": []
      },
      "source": [
        "A unitary model will by default split a signal at an input port equally over all output ports. However, if there are an equal number of input ports as output ports we can in stead create a passthru by setting the `diagonal` flag to `True`:"
      ]
    },
    {
      "cell_type": "code",
      "execution_count": 13,
      "id": "7c1d61a3",
      "metadata": {
        "execution": {
          "iopub.execute_input": "2022-08-04T04:33:47.380945Z",
          "iopub.status.busy": "2022-08-04T04:33:47.380479Z",
          "iopub.status.idle": "2022-08-04T04:33:47.713443Z",
          "shell.execute_reply": "2022-08-04T04:33:47.712983Z"
        },
        "papermill": {
          "duration": 0.357271,
          "end_time": "2022-08-04T04:33:47.713578",
          "exception": false,
          "start_time": "2022-08-04T04:33:47.356307",
          "status": "completed"
        },
        "tags": []
      },
      "outputs": [
        {
          "data": {
            "text/plain": [
              "{('in0', 'out0'): 1.0,\n",
              " ('in1', 'out1'): 1.0,\n",
              " ('out0', 'in0'): 1.0,\n",
              " ('out1', 'in1'): 1.0}"
            ]
          },
          "execution_count": 13,
          "metadata": {},
          "output_type": "execute_result"
        }
      ],
      "source": [
        "passthru_model = unitary(2, 2, diagonal=True)\n",
        "sax.sdict(passthru_model())"
      ]
    },
    {
      "cell_type": "code",
      "execution_count": 14,
      "id": "7f93b145",
      "metadata": {
        "execution": {
          "iopub.execute_input": "2022-08-04T04:33:47.765073Z",
          "iopub.status.busy": "2022-08-04T04:33:47.764593Z",
          "iopub.status.idle": "2022-08-04T04:33:48.739346Z",
          "shell.execute_reply": "2022-08-04T04:33:48.739676Z"
        },
        "papermill": {
          "duration": 1.005288,
          "end_time": "2022-08-04T04:33:48.739826",
          "exception": false,
          "start_time": "2022-08-04T04:33:47.734538",
          "status": "completed"
        },
        "tags": []
      },
      "outputs": [
        {
          "data": {
            "text/plain": [
              "{('in0', 'in0'): 0.89409,\n",
              " ('in0', 'out0'): 0.44721,\n",
              " ('in0', 'out1'): 0.44721,\n",
              " ('in0', 'out2'): 0.44721,\n",
              " ('in0', 'out3'): 0.44721,\n",
              " ('in0', 'out4'): 0.44721,\n",
              " ('out0', 'in0'): 0.45508,\n",
              " ('out0', 'out0'): 7.339056901400909e-05,\n",
              " ('out0', 'out1'): 7.339056901400909e-05,\n",
              " ('out0', 'out2'): 7.339056901400909e-05,\n",
              " ('out0', 'out3'): 7.339056901400909e-05,\n",
              " ('out0', 'out4'): 7.339056901400909e-05,\n",
              " ('out1', 'in0'): 0.45508,\n",
              " ('out1', 'out0'): 7.339056901400909e-05,\n",
              " ('out1', 'out1'): 7.339056901400909e-05,\n",
              " ('out1', 'out2'): 7.339056901400909e-05,\n",
              " ('out1', 'out3'): 7.339056901400909e-05,\n",
              " ('out1', 'out4'): 7.339056901400909e-05,\n",
              " ('out2', 'in0'): 0.45508,\n",
              " ('out2', 'out0'): 7.339056901400909e-05,\n",
              " ('out2', 'out1'): 7.339056901400909e-05,\n",
              " ('out2', 'out2'): 7.339056901400909e-05,\n",
              " ('out2', 'out3'): 7.339056901400909e-05,\n",
              " ('out2', 'out4'): 7.339056901400909e-05,\n",
              " ('out3', 'in0'): 0.45508,\n",
              " ('out3', 'out0'): 7.339056901400909e-05,\n",
              " ('out3', 'out1'): 7.339056901400909e-05,\n",
              " ('out3', 'out2'): 7.339056901400909e-05,\n",
              " ('out3', 'out3'): 7.339056901400909e-05,\n",
              " ('out3', 'out4'): 7.339056901400909e-05,\n",
              " ('out4', 'in0'): 0.41426,\n",
              " ('out4', 'out0'): 0.00012,\n",
              " ('out4', 'out1'): 0.00012,\n",
              " ('out4', 'out2'): 0.00012,\n",
              " ('out4', 'out3'): 0.00012,\n",
              " ('out4', 'out4'): 0.00012}"
            ]
          },
          "execution_count": 14,
          "metadata": {},
          "output_type": "execute_result"
        }
      ],
      "source": [
        "ports_in=['in0']\n",
        "ports_out=['out0', 'out1', 'out2', 'out3', 'out4']\n",
        "model = unitary(\n",
        "    ports=tuple(ports_in+ports_out), jit=True, reciprocal=True\n",
        ")\n",
        "model = sax.sdict(model)\n",
        "model()"
      ]
    },
    {
      "cell_type": "markdown",
      "id": "8b149d44-5487-4e50-a2f2-1ad0aca99dac",
      "metadata": {
        "papermill": {
          "duration": 0.020349,
          "end_time": "2022-08-04T04:33:48.780630",
          "exception": false,
          "start_time": "2022-08-04T04:33:48.760281",
          "status": "completed"
        },
        "tags": []
      },
      "source": [
        "Because this is a pretty common usecase we have a dedicated model factory for this as well. This passthru component just takes the number of links (`'in{i}' -> 'out{i]'`) as input. Alternatively, as before, one can also specify the port names directly but one needs to ensure that `len(ports) == 2*num_links`."
      ]
    },
    {
      "cell_type": "markdown",
      "id": "5623d0111ea6dbd7",
      "metadata": {},
      "source": [
        ":::{eval-rst}\n",
        ".. autofunction:: sax.models.passthru\n",
        ":::\n"
      ]
    },
    {
      "cell_type": "code",
      "execution_count": 15,
      "id": "3a4d1ded3f5b512a",
      "metadata": {
        "execution": {
          "iopub.execute_input": "2022-08-04T04:33:48.828831Z",
          "iopub.status.busy": "2022-08-04T04:33:48.827922Z",
          "iopub.status.idle": "2022-08-04T04:33:48.829364Z",
          "shell.execute_reply": "2022-08-04T04:33:48.829703Z"
        },
        "papermill": {
          "duration": 0.028338,
          "end_time": "2022-08-04T04:33:48.829836",
          "exception": false,
          "start_time": "2022-08-04T04:33:48.801498",
          "status": "completed"
        },
        "tags": [
          "hide-input"
        ]
      },
      "outputs": [],
      "source": [
        "@cache\n",
        "def passthru(\n",
        "    num_links: Optional[int] = None,\n",
        "    ports: Optional[Tuple[str, ...]] = None,\n",
        "    *,\n",
        "    jit=True,\n",
        "    reciprocal=True,\n",
        ") -> Model:\n",
        "    passthru = unitary(num_links, num_links, ports, jit=jit, reciprocal=reciprocal, diagonal=True)\n",
        "    passthru.__name__ = f\"passthru_{num_links}_{num_links}\"\n",
        "    passthru.__qualname__ = f\"passthru_{num_links}_{num_links}\"\n",
        "    if jit:\n",
        "        return jax.jit(passthru)\n",
        "    return passthru"
      ]
    },
    {
      "cell_type": "code",
      "execution_count": 16,
      "id": "9e8b6cd7-56d4-4697-9a6e-33c929f3d853",
      "metadata": {
        "execution": {
          "iopub.execute_input": "2022-08-04T04:33:48.880252Z",
          "iopub.status.busy": "2022-08-04T04:33:48.879790Z",
          "iopub.status.idle": "2022-08-04T04:33:49.478698Z",
          "shell.execute_reply": "2022-08-04T04:33:49.479025Z"
        },
        "papermill": {
          "duration": 0.628862,
          "end_time": "2022-08-04T04:33:49.479180",
          "exception": false,
          "start_time": "2022-08-04T04:33:48.850318",
          "status": "completed"
        },
        "tags": []
      },
      "outputs": [
        {
          "data": {
            "text/plain": [
              "{('in0', 'out0'): 1.0,\n",
              " ('in1', 'out1'): 1.0,\n",
              " ('in2', 'out2'): 1.0,\n",
              " ('out0', 'in0'): 1.0,\n",
              " ('out1', 'in1'): 1.0,\n",
              " ('out2', 'in2'): 1.0}"
            ]
          },
          "execution_count": 16,
          "metadata": {},
          "output_type": "execute_result"
        }
      ],
      "source": [
        "passthru_model = passthru(3)\n",
        "passthru_sdict_model = sax.sdict(passthru_model)\n",
        "passthru_sdict_model()"
      ]
    },
    {
      "cell_type": "code",
      "execution_count": 17,
      "id": "690e718c-2d84-4177-b8ad-ff39cf8c4691",
      "metadata": {
        "execution": {
          "iopub.execute_input": "2022-08-04T04:33:49.527636Z",
          "iopub.status.busy": "2022-08-04T04:33:49.527184Z",
          "iopub.status.idle": "2022-08-04T04:33:51.383119Z",
          "shell.execute_reply": "2022-08-04T04:33:51.383443Z"
        },
        "papermill": {
          "duration": 1.88274,
          "end_time": "2022-08-04T04:33:51.383595",
          "exception": false,
          "start_time": "2022-08-04T04:33:49.500855",
          "status": "completed"
        },
        "tags": []
      },
      "outputs": [
        {
          "data": {
            "text/plain": [
              "{('in0', 'in0'): 0.49904,\n",
              " ('out0', 'out0'): 0.49904,\n",
              " ('out0', 'in0'): 0.86544,\n",
              " ('in0', 'out0'): 0.86544}"
            ]
          },
          "execution_count": 17,
          "metadata": {},
          "output_type": "execute_result"
        }
      ],
      "source": [
        "mzi = sax.circuit(\n",
        "    instances={\n",
        "        \"lft\": unitary(1, 2),\n",
        "        \"top\": unitary(1, 1),\n",
        "        \"rgt\": unitary(1, 2),\n",
        "    },\n",
        "    connections={\n",
        "        \"lft,out0\": \"rgt,out0\",\n",
        "        \"lft,out1\": \"top,in0\",\n",
        "        \"top,out0\": \"rgt,out1\",\n",
        "    },\n",
        "    ports = {\n",
        "        \"in0\": \"lft,in0\",\n",
        "        \"out0\": \"rgt,in0\",\n",
        "    }\n",
        ")\n",
        "mzi()"
      ]
    },
    {
      "cell_type": "markdown",
      "id": "266d595f7659c31a",
      "metadata": {},
      "source": [
        ":::{eval-rst}\n",
        ".. autofunction:: sax.models.copier\n",
        ":::\n"
      ]
    },
    {
      "cell_type": "code",
      "execution_count": 18,
      "id": "50c89c1a6da0933b",
      "metadata": {
        "execution": {
          "iopub.execute_input": "2022-08-04T04:33:51.438067Z",
          "iopub.status.busy": "2022-08-04T04:33:51.437531Z",
          "iopub.status.idle": "2022-08-04T04:33:51.439102Z",
          "shell.execute_reply": "2022-08-04T04:33:51.438755Z"
        },
        "papermill": {
          "duration": 0.034205,
          "end_time": "2022-08-04T04:33:51.439212",
          "exception": false,
          "start_time": "2022-08-04T04:33:51.405007",
          "status": "completed"
        },
        "tags": [
          "hide-input"
        ]
      },
      "outputs": [],
      "source": [
        "\n",
        "@cache\n",
        "def copier(\n",
        "    num_inputs: Optional[int] = None,\n",
        "    num_outputs: Optional[int] = None,\n",
        "    ports: Optional[Tuple[str, ...]] = None,\n",
        "    *,\n",
        "    jit=True,\n",
        "    reciprocal=True,\n",
        "    diagonal=False,\n",
        ") -> Model:\n",
        "        \n",
        "    input_ports, output_ports, num_inputs, num_outputs = _validate_ports(ports, num_inputs, num_outputs, diagonal)\n",
        "    assert num_inputs is not None and num_outputs is not None\n",
        "    \n",
        "    # let's create the squared S-matrix:\n",
        "    S = jnp.zeros((num_inputs+num_outputs, num_inputs+num_outputs), dtype=float)\n",
        "\n",
        "    if not diagonal:\n",
        "        if JAX_AVAILABLE:\n",
        "            S = S.at[:num_inputs, num_inputs:].set(1)\n",
        "        else:\n",
        "            S[:num_inputs, num_inputs:] = 1\n",
        "    else:\n",
        "        r = jnp.arange(num_inputs, dtype=int) # == range(num_outputs) # reciprocal only works if num_inputs == num_outputs!\n",
        "        if JAX_AVAILABLE:\n",
        "            S = S.at[r, num_inputs+r].set(1)\n",
        "        else:\n",
        "            S[r, num_inputs+r] = 1\n",
        "\n",
        "    if reciprocal:\n",
        "        if not diagonal:\n",
        "            if JAX_AVAILABLE:\n",
        "                S = S.at[num_inputs:, :num_inputs].set(1)\n",
        "            else:\n",
        "                S[num_inputs:, :num_inputs] = 1\n",
        "        else:\n",
        "            r = jnp.arange(num_inputs, dtype=int) # == range(num_outputs) # reciprocal only works if num_inputs == num_outputs!\n",
        "            if JAX_AVAILABLE:\n",
        "                S = S.at[num_inputs+r, r].set(1)\n",
        "            else:\n",
        "                S[num_inputs+r, r] = 1\n",
        "\n",
        "    # let's convert it in SCOO format:\n",
        "    Si, Sj = jnp.where(S > 1e-6)\n",
        "    Sx = S[Si, Sj]\n",
        "    \n",
        "    # the last missing piece is a port map:\n",
        "    pm = {\n",
        "        **{p: i for i, p in enumerate(input_ports)},\n",
        "        **{p: i + num_inputs for i, p in enumerate(output_ports)},\n",
        "    }\n",
        "    \n",
        "    def func(wl: float = 1.5) -> SCoo:\n",
        "        wl_ = jnp.asarray(wl)\n",
        "        Sx_ = jnp.broadcast_to(Sx, (*wl_.shape, *Sx.shape))\n",
        "        return Si, Sj, Sx_, pm\n",
        "\n",
        "    func.__name__ = f\"unitary_{num_inputs}_{num_outputs}\"\n",
        "    func.__qualname__ = f\"unitary_{num_inputs}_{num_outputs}\"\n",
        "    if jit:\n",
        "        return jax.jit(func)\n",
        "    return func"
      ]
    },
    {
      "cell_type": "markdown",
      "id": "77014d0f-1a08-4b4b-a011-cf11cd9684b8",
      "metadata": {
        "papermill": {
          "duration": 0.021236,
          "end_time": "2022-08-04T04:33:51.481509",
          "exception": false,
          "start_time": "2022-08-04T04:33:51.460273",
          "status": "completed"
        },
        "tags": []
      },
      "source": [
        "A copier model is like a unitary model, but copies the input signal over all output signals. Hence, if the model has multiple output ports, this model can be considered to introduce gain. That said, it can sometimes be a useful component."
      ]
    },
    {
      "cell_type": "code",
      "execution_count": 19,
      "id": "c2a61a9f-51ea-455f-a66f-94719b43520e",
      "metadata": {
        "execution": {
          "iopub.execute_input": "2022-08-04T04:33:51.528142Z",
          "iopub.status.busy": "2022-08-04T04:33:51.527652Z",
          "iopub.status.idle": "2022-08-04T04:33:51.799896Z",
          "shell.execute_reply": "2022-08-04T04:33:51.799455Z"
        },
        "papermill": {
          "duration": 0.297565,
          "end_time": "2022-08-04T04:33:51.800025",
          "exception": false,
          "start_time": "2022-08-04T04:33:51.502460",
          "status": "completed"
        },
        "tags": []
      },
      "outputs": [
        {
          "data": {
            "text/plain": [
              "(array([0, 0, 1, 1, 2, 2, 3, 3]),\n",
              " array([2, 3, 2, 3, 0, 1, 0, 1]),\n",
              " array([1., 1., 1., 1., 1., 1., 1., 1.]),\n",
              " {'in0': array(0), 'in1': array(1), 'out0': array(2), 'out1': array(3)})"
            ]
          },
          "execution_count": 19,
          "metadata": {},
          "output_type": "execute_result"
        }
      ],
      "source": [
        "copier_model = copier(2, 2)\n",
        "copier_model() # a copier model returns an SCoo by default"
      ]
    },
    {
      "cell_type": "markdown",
      "id": "fbd51c6c-c059-4717-9dae-447becc7e8d5",
      "metadata": {
        "papermill": {
          "duration": 0.021828,
          "end_time": "2022-08-04T04:33:51.843713",
          "exception": false,
          "start_time": "2022-08-04T04:33:51.821885",
          "status": "completed"
        },
        "tags": []
      },
      "source": [
        "As you probably already know, it's very easy to convert a model returning any `Stype` into a model returning an `SDict` as follows:"
      ]
    },
    {
      "cell_type": "code",
      "execution_count": 20,
      "id": "becda099-b5d9-494c-a6b2-9828be10c4a5",
      "metadata": {
        "execution": {
          "iopub.execute_input": "2022-08-04T04:33:51.903426Z",
          "iopub.status.busy": "2022-08-04T04:33:51.901296Z",
          "iopub.status.idle": "2022-08-04T04:33:51.943188Z",
          "shell.execute_reply": "2022-08-04T04:33:51.943531Z"
        },
        "papermill": {
          "duration": 0.078422,
          "end_time": "2022-08-04T04:33:51.943678",
          "exception": false,
          "start_time": "2022-08-04T04:33:51.865256",
          "status": "completed"
        },
        "tags": []
      },
      "outputs": [
        {
          "data": {
            "text/plain": [
              "{('in0', 'out0'): 1.0,\n",
              " ('in0', 'out1'): 1.0,\n",
              " ('in1', 'out0'): 1.0,\n",
              " ('in1', 'out1'): 1.0,\n",
              " ('out0', 'in0'): 1.0,\n",
              " ('out0', 'in1'): 1.0,\n",
              " ('out1', 'in0'): 1.0,\n",
              " ('out1', 'in1'): 1.0}"
            ]
          },
          "execution_count": 20,
          "metadata": {},
          "output_type": "execute_result"
        }
      ],
      "source": [
        "copier_sdict_model = sax.sdict(copier_model)\n",
        "copier_sdict_model()"
      ]
    },
    {
      "cell_type": "markdown",
      "id": "1ad16d1b-f685-4ab9-a8c4-41efbbdae4fa",
      "metadata": {
        "papermill": {
          "duration": 0.021875,
          "end_time": "2022-08-04T04:33:51.987556",
          "exception": false,
          "start_time": "2022-08-04T04:33:51.965681",
          "status": "completed"
        },
        "tags": []
      },
      "source": [
        "If we need custom port names, we can also just specify them explicitly:"
      ]
    },
    {
      "cell_type": "code",
      "execution_count": 21,
      "id": "297d1e45-b881-440b-b887-b38c5517596e",
      "metadata": {
        "execution": {
          "iopub.execute_input": "2022-08-04T04:33:52.037074Z",
          "iopub.status.busy": "2022-08-04T04:33:52.036620Z",
          "iopub.status.idle": "2022-08-04T04:33:52.048072Z",
          "shell.execute_reply": "2022-08-04T04:33:52.047712Z"
        },
        "papermill": {
          "duration": 0.038647,
          "end_time": "2022-08-04T04:33:52.048180",
          "exception": false,
          "start_time": "2022-08-04T04:33:52.009533",
          "status": "completed"
        },
        "tags": []
      },
      "outputs": [
        {
          "data": {
            "text/plain": [
              "(array([0, 0, 1, 1, 2, 2, 3, 3]),\n",
              " array([2, 3, 2, 3, 0, 1, 0, 1]),\n",
              " array([1., 1., 1., 1., 1., 1., 1., 1.]),\n",
              " {'in0': array(0), 'in1': array(1), 'out0': array(2), 'out1': array(3)})"
            ]
          },
          "execution_count": 21,
          "metadata": {},
          "output_type": "execute_result"
        }
      ],
      "source": [
        "copier_model = copier(ports=(\"in0\", \"in1\", \"out0\", \"out1\"))\n",
        "copier_model()"
      ]
    },
    {
      "cell_type": "code",
      "execution_count": 22,
      "id": "608d7114-03ac-4f5f-9790-cf65379d81dd",
      "metadata": {
        "execution": {
          "iopub.execute_input": "2022-08-04T04:33:52.098342Z",
          "iopub.status.busy": "2022-08-04T04:33:52.097889Z",
          "iopub.status.idle": "2022-08-04T04:33:52.129512Z",
          "shell.execute_reply": "2022-08-04T04:33:52.129910Z"
        },
        "papermill": {
          "duration": 0.059585,
          "end_time": "2022-08-04T04:33:52.130068",
          "exception": false,
          "start_time": "2022-08-04T04:33:52.070483",
          "status": "completed"
        },
        "tags": []
      },
      "outputs": [
        {
          "data": {
            "text/plain": [
              "{('in0', 'in0'): 0.89409,\n",
              " ('in0', 'out0'): 0.44721,\n",
              " ('in0', 'out1'): 0.44721,\n",
              " ('in0', 'out2'): 0.44721,\n",
              " ('in0', 'out3'): 0.44721,\n",
              " ('in0', 'out4'): 0.44721,\n",
              " ('out0', 'in0'): 0.45508,\n",
              " ('out0', 'out0'): 7.339056901400909e-05,\n",
              " ('out0', 'out1'): 7.339056901400909e-05,\n",
              " ('out0', 'out2'): 7.339056901400909e-05,\n",
              " ('out0', 'out3'): 7.339056901400909e-05,\n",
              " ('out0', 'out4'): 7.339056901400909e-05,\n",
              " ('out1', 'in0'): 0.45508,\n",
              " ('out1', 'out0'): 7.339056901400909e-05,\n",
              " ('out1', 'out1'): 7.339056901400909e-05,\n",
              " ('out1', 'out2'): 7.339056901400909e-05,\n",
              " ('out1', 'out3'): 7.339056901400909e-05,\n",
              " ('out1', 'out4'): 7.339056901400909e-05,\n",
              " ('out2', 'in0'): 0.45508,\n",
              " ('out2', 'out0'): 7.339056901400909e-05,\n",
              " ('out2', 'out1'): 7.339056901400909e-05,\n",
              " ('out2', 'out2'): 7.339056901400909e-05,\n",
              " ('out2', 'out3'): 7.339056901400909e-05,\n",
              " ('out2', 'out4'): 7.339056901400909e-05,\n",
              " ('out3', 'in0'): 0.45508,\n",
              " ('out3', 'out0'): 7.339056901400909e-05,\n",
              " ('out3', 'out1'): 7.339056901400909e-05,\n",
              " ('out3', 'out2'): 7.339056901400909e-05,\n",
              " ('out3', 'out3'): 7.339056901400909e-05,\n",
              " ('out3', 'out4'): 7.339056901400909e-05,\n",
              " ('out4', 'in0'): 0.41426,\n",
              " ('out4', 'out0'): 0.00012,\n",
              " ('out4', 'out1'): 0.00012,\n",
              " ('out4', 'out2'): 0.00012,\n",
              " ('out4', 'out3'): 0.00012,\n",
              " ('out4', 'out4'): 0.00012}"
            ]
          },
          "execution_count": 22,
          "metadata": {},
          "output_type": "execute_result"
        }
      ],
      "source": [
        "ports_in=['in0']\n",
        "ports_out=['out0', 'out1', 'out2', 'out3', 'out4']\n",
        "model = unitary(\n",
        "    ports=tuple(ports_in+ports_out), jit=True, reciprocal=True\n",
        ")\n",
        "model = sax.sdict(model)\n",
        "model()"
      ]
    },
    {
      "cell_type": "markdown",
      "id": "6d024e5b-95a9-44e5-9dbc-4980249e73a7",
      "metadata": {
        "papermill": {
          "duration": 0.022485,
          "end_time": "2022-08-04T04:33:52.175720",
          "exception": false,
          "start_time": "2022-08-04T04:33:52.153235",
          "status": "completed"
        },
        "tags": []
      },
      "source": [
        "Because this is a pretty common usecase we have a dedicated model factory for this as well. This passthru component just takes the number of links (`'in{i}' -> 'out{i]'`) as input. Alternatively, as before, one can also specify the port names directly but one needs to ensure that `len(ports) == 2*num_links`."
      ]
    },
    {
      "cell_type": "markdown",
      "id": "153777c180bb57e9",
      "metadata": {},
      "source": [
        ":::{eval-rst}\n",
        ".. autofunction:: sax.models.passthru\n",
        ":::\n"
      ]
    },
    {
      "cell_type": "code",
      "execution_count": 23,
      "id": "0aa908d9b37ab8bf",
      "metadata": {
        "execution": {
          "iopub.execute_input": "2022-08-04T04:33:52.226589Z",
          "iopub.status.busy": "2022-08-04T04:33:52.226124Z",
          "iopub.status.idle": "2022-08-04T04:33:52.227371Z",
          "shell.execute_reply": "2022-08-04T04:33:52.227708Z"
        },
        "papermill": {
          "duration": 0.029432,
          "end_time": "2022-08-04T04:33:52.227854",
          "exception": false,
          "start_time": "2022-08-04T04:33:52.198422",
          "status": "completed"
        },
        "tags": [
          "hide-input"
        ]
      },
      "outputs": [],
      "source": [
        "@cache\n",
        "def passthru(\n",
        "    num_links: Optional[int] = None,\n",
        "    ports: Optional[Tuple[str, ...]] = None,\n",
        "    *,\n",
        "    jit=True,\n",
        "    reciprocal=True,\n",
        ") -> Model:\n",
        "    passthru = unitary(num_links, num_links, ports, jit=jit, reciprocal=reciprocal, diagonal=True)\n",
        "    passthru.__name__ = f\"passthru_{num_links}_{num_links}\"\n",
        "    passthru.__qualname__ = f\"passthru_{num_links}_{num_links}\"\n",
        "    if jit:\n",
        "        return jax.jit(passthru)\n",
        "    return passthru"
      ]
    },
    {
      "cell_type": "code",
      "execution_count": 24,
      "id": "4a063810-224b-446c-a59d-12a20b56e82e",
      "metadata": {
        "execution": {
          "iopub.execute_input": "2022-08-04T04:33:52.277392Z",
          "iopub.status.busy": "2022-08-04T04:33:52.276890Z",
          "iopub.status.idle": "2022-08-04T04:33:52.285793Z",
          "shell.execute_reply": "2022-08-04T04:33:52.285422Z"
        },
        "papermill": {
          "duration": 0.035547,
          "end_time": "2022-08-04T04:33:52.285903",
          "exception": false,
          "start_time": "2022-08-04T04:33:52.250356",
          "status": "completed"
        },
        "tags": []
      },
      "outputs": [
        {
          "data": {
            "text/plain": [
              "{('in0', 'out0'): 1.0,\n",
              " ('in1', 'out1'): 1.0,\n",
              " ('in2', 'out2'): 1.0,\n",
              " ('out0', 'in0'): 1.0,\n",
              " ('out1', 'in1'): 1.0,\n",
              " ('out2', 'in2'): 1.0}"
            ]
          },
          "execution_count": 24,
          "metadata": {},
          "output_type": "execute_result"
        }
      ],
      "source": [
        "passthru_model = passthru(3)\n",
        "passthru_sdict_model = sax.sdict(passthru_model)\n",
        "passthru_sdict_model()"
      ]
    },
    {
      "cell_type": "code",
      "execution_count": 25,
      "id": "9b2be9a8-1b06-4b60-ac44-853d49b3e9f6",
      "metadata": {
        "execution": {
          "iopub.execute_input": "2022-08-04T04:33:52.341716Z",
          "iopub.status.busy": "2022-08-04T04:33:52.341224Z",
          "iopub.status.idle": "2022-08-04T04:33:52.356739Z",
          "shell.execute_reply": "2022-08-04T04:33:52.356381Z"
        },
        "papermill": {
          "duration": 0.047756,
          "end_time": "2022-08-04T04:33:52.356845",
          "exception": false,
          "start_time": "2022-08-04T04:33:52.309089",
          "status": "completed"
        },
        "tags": []
      },
      "outputs": [
        {
          "data": {
            "text/plain": [
              "{('in0', 'in0'): 0.49904,\n",
              " ('out0', 'out0'): 0.49904,\n",
              " ('out0', 'in0'): 0.86544,\n",
              " ('in0', 'out0'): 0.86544}"
            ]
          },
          "execution_count": 25,
          "metadata": {},
          "output_type": "execute_result"
        }
      ],
      "source": [
        "mzi = sax.circuit(\n",
        "    instances={\n",
        "        \"lft\": unitary(1, 2),\n",
        "        \"top\": unitary(1, 1),\n",
        "        \"rgt\": unitary(1, 2),\n",
        "    },\n",
        "    connections={\n",
        "        \"lft,out0\": \"rgt,out0\",\n",
        "        \"lft,out1\": \"top,in0\",\n",
        "        \"top,out0\": \"rgt,out1\",\n",
        "    },\n",
        "    ports = {\n",
        "        \"in0\": \"lft,in0\",\n",
        "        \"out0\": \"rgt,in0\",\n",
        "    }\n",
        ")\n",
        "mzi()"
      ]
    },
    {
      "cell_type": "markdown",
      "id": "bb6e94aa",
      "metadata": {
        "papermill": {
          "duration": 0.023392,
          "end_time": "2022-08-04T04:33:52.403302",
          "exception": false,
          "start_time": "2022-08-04T04:33:52.379910",
          "status": "completed"
        },
        "tags": []
      },
      "source": [
        "## All Models"
      ]
    },
    {
      "cell_type": "markdown",
      "id": "1f72468f1ed83ee3",
      "metadata": {},
      "source": [
        ":::{eval-rst}\n",
        ".. autofunction:: sax.models.get_models\n",
        ":::\n"
      ]
    },
    {
      "cell_type": "code",
      "execution_count": 26,
      "id": "43d6c1ef0ade47c0",
      "metadata": {
        "execution": {
          "iopub.execute_input": "2022-08-04T04:33:52.454815Z",
          "iopub.status.busy": "2022-08-04T04:33:52.454353Z",
          "iopub.status.idle": "2022-08-04T04:33:52.455518Z",
          "shell.execute_reply": "2022-08-04T04:33:52.455834Z"
        },
        "papermill": {
          "duration": 0.029252,
          "end_time": "2022-08-04T04:33:52.455969",
          "exception": false,
          "start_time": "2022-08-04T04:33:52.426717",
          "status": "completed"
        },
        "tags": []
      },
      "outputs": [],
      "source": [
        "\n",
        "models = {\n",
        "    \"copier\": copier,\n",
        "    \"coupler\": coupler,\n",
        "    \"passthru\": passthru,\n",
        "    \"straight\": straight,\n",
        "    \"unitary\": unitary,\n",
        "}\n",
        "\n",
        "def get_models(copy: bool=True):\n",
        "    if copy:\n",
        "        return {**models}\n",
        "    return models"
      ]
    }
  ],
  "metadata": {
    "kernelspec": {
      "display_name": "sax-np",
      "language": "python",
      "name": "sax-np"
    },
    "language_info": {
      "codemirror_mode": {
        "name": "ipython",
        "version": 3
      },
      "file_extension": ".py",
      "mimetype": "text/x-python",
      "name": "python",
      "nbconvert_exporter": "python",
      "pygments_lexer": "ipython3",
      "version": "3.9.0"
    },
    "papermill": {
      "default_parameters": {},
      "duration": 9.28097,
      "end_time": "2022-08-04T04:33:52.887514",
      "environment_variables": {},
      "exception": null,
      "input_path": "./nbs/05_models.ipynb",
      "output_path": "./nbs/05_models.ipynb",
      "parameters": {},
      "start_time": "2022-08-04T04:33:43.606544",
      "version": "2.3.4"
    }
  },
  "nbformat": 4,
  "nbformat_minor": 5
}
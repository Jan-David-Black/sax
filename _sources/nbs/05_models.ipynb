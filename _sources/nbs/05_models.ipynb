{
  "cells": [
    {
      "cell_type": "code",
      "execution_count": 1,
      "id": "1f5e5a539ce505fd",
      "metadata": {
        "execution": {
          "iopub.execute_input": "2022-08-07T05:31:34.263685Z",
          "iopub.status.busy": "2022-08-07T05:31:34.263229Z",
          "iopub.status.idle": "2022-08-07T05:31:34.266180Z",
          "shell.execute_reply": "2022-08-07T05:31:34.265731Z"
        },
        "papermill": {
          "duration": 0.02642,
          "end_time": "2022-08-07T05:31:34.266294",
          "exception": false,
          "start_time": "2022-08-07T05:31:34.239874",
          "status": "completed"
        },
        "tags": [
          "remove-cell"
        ]
      },
      "outputs": [],
      "source": []
    },
    {
      "cell_type": "markdown",
      "id": "986cb864",
      "metadata": {
        "papermill": {
          "duration": 0.017106,
          "end_time": "2022-08-07T05:31:34.300972",
          "exception": false,
          "start_time": "2022-08-07T05:31:34.283866",
          "status": "completed"
        },
        "tags": []
      },
      "source": [
        "# Models\n",
        "\n",
        "> Default SAX Models"
      ]
    },
    {
      "cell_type": "code",
      "execution_count": 2,
      "id": "8692168e4a1bf814",
      "metadata": {
        "execution": {
          "iopub.execute_input": "2022-08-07T05:31:34.342492Z",
          "iopub.status.busy": "2022-08-07T05:31:34.341171Z",
          "iopub.status.idle": "2022-08-07T05:31:34.344368Z",
          "shell.execute_reply": "2022-08-07T05:31:34.344027Z"
        },
        "papermill": {
          "duration": 0.026448,
          "end_time": "2022-08-07T05:31:34.344464",
          "exception": false,
          "start_time": "2022-08-07T05:31:34.318016",
          "status": "completed"
        },
        "tags": [
          "remove-cell"
        ]
      },
      "outputs": [],
      "source": [
        "import os, sys; sys.stderr = open(os.devnull, \"w\")"
      ]
    },
    {
      "cell_type": "code",
      "execution_count": 3,
      "id": "d2d0f51d5166c07c",
      "metadata": {
        "execution": {
          "iopub.execute_input": "2022-08-07T05:31:34.383303Z",
          "iopub.status.busy": "2022-08-07T05:31:34.382866Z",
          "iopub.status.idle": "2022-08-07T05:31:35.116072Z",
          "shell.execute_reply": "2022-08-07T05:31:35.115227Z"
        },
        "papermill": {
          "duration": 0.754718,
          "end_time": "2022-08-07T05:31:35.116207",
          "exception": false,
          "start_time": "2022-08-07T05:31:34.361489",
          "status": "completed"
        },
        "tags": [
          "hide-input"
        ]
      },
      "outputs": [],
      "source": [
        "from __future__ import annotations\n",
        "\n",
        "import warnings\n",
        "from types import SimpleNamespace\n",
        "from typing import Optional, Tuple\n",
        "\n",
        "import sax\n",
        "from sax.caching import cache\n",
        "from sax.typing_ import Model, SCoo, SDict\n",
        "from sax.utils import get_inputs_outputs, reciprocal\n",
        "\n",
        "try:\n",
        "    import jax\n",
        "    import jax.numpy as jnp\n",
        "    JAX_AVAILABLE = True\n",
        "except ImportError:\n",
        "    import numpy as jnp\n",
        "    \n",
        "    def jit(func, *args, **kwargs):\n",
        "        warnings.warn(\"[NO JAX] skipping jit! Please install JAX!\")\n",
        "        return func\n",
        "    \n",
        "    jax = SimpleNamespace(jit=jit)\n",
        "    \n",
        "    JAX_AVAILABLE = False"
      ]
    },
    {
      "cell_type": "markdown",
      "id": "efa9b619",
      "metadata": {
        "papermill": {
          "duration": 0.017463,
          "end_time": "2022-08-07T05:31:35.151478",
          "exception": false,
          "start_time": "2022-08-07T05:31:35.134015",
          "status": "completed"
        },
        "tags": []
      },
      "source": [
        "## Standard Models"
      ]
    },
    {
      "cell_type": "markdown",
      "id": "a90a6172bdc6420e",
      "metadata": {},
      "source": [
        ":::{eval-rst}\n",
        ".. autofunction:: sax.models.straight\n",
        ":::\n"
      ]
    },
    {
      "cell_type": "code",
      "execution_count": 4,
      "id": "8fdc762436fe4ec9",
      "metadata": {
        "execution": {
          "iopub.execute_input": "2022-08-07T05:31:35.192104Z",
          "iopub.status.busy": "2022-08-07T05:31:35.191636Z",
          "iopub.status.idle": "2022-08-07T05:31:35.193640Z",
          "shell.execute_reply": "2022-08-07T05:31:35.193292Z"
        },
        "papermill": {
          "duration": 0.025149,
          "end_time": "2022-08-07T05:31:35.193745",
          "exception": false,
          "start_time": "2022-08-07T05:31:35.168596",
          "status": "completed"
        },
        "tags": [
          "hide-input"
        ]
      },
      "outputs": [],
      "source": [
        "\n",
        "def straight(\n",
        "    *,\n",
        "    wl: float = 1.55,\n",
        "    wl0: float = 1.55,\n",
        "    neff: float = 2.34,\n",
        "    ng: float = 3.4,\n",
        "    length: float = 10.0,\n",
        "    loss: float = 0.0\n",
        ") -> SDict:\n",
        "    \"\"\"a simple straight waveguide model\"\"\"\n",
        "    dwl = wl - wl0\n",
        "    dneff_dwl = (ng - neff) / wl0\n",
        "    neff = neff - dwl * dneff_dwl\n",
        "    phase = 2 * jnp.pi * neff * length / wl\n",
        "    amplitude = jnp.asarray(10 ** (-loss * length / 20), dtype=complex)\n",
        "    transmission =  amplitude * jnp.exp(1j * phase)\n",
        "    sdict = reciprocal(\n",
        "        {\n",
        "            (\"in0\", \"out0\"): transmission,\n",
        "        }\n",
        "    )\n",
        "    return sdict"
      ]
    },
    {
      "cell_type": "code",
      "execution_count": 5,
      "id": "a99cec57",
      "metadata": {
        "execution": {
          "iopub.execute_input": "2022-08-07T05:31:35.231737Z",
          "iopub.status.busy": "2022-08-07T05:31:35.231313Z",
          "iopub.status.idle": "2022-08-07T05:31:35.297590Z",
          "shell.execute_reply": "2022-08-07T05:31:35.297982Z"
        },
        "papermill": {
          "duration": 0.087073,
          "end_time": "2022-08-07T05:31:35.298135",
          "exception": false,
          "start_time": "2022-08-07T05:31:35.211062",
          "status": "completed"
        },
        "tags": []
      },
      "outputs": [
        {
          "data": {
            "text/plain": [
              "{('in0', 'out0'): 0.82076+0.57127j, ('out0', 'in0'): 0.82076+0.57127j}"
            ]
          },
          "execution_count": 5,
          "metadata": {},
          "output_type": "execute_result"
        }
      ],
      "source": [
        "straight()"
      ]
    },
    {
      "cell_type": "markdown",
      "id": "a4f8878070a02a4a",
      "metadata": {},
      "source": [
        ":::{eval-rst}\n",
        ".. autofunction:: sax.models.coupler\n",
        ":::\n"
      ]
    },
    {
      "cell_type": "code",
      "execution_count": 6,
      "id": "ff8dda81853e094b",
      "metadata": {
        "execution": {
          "iopub.execute_input": "2022-08-07T05:31:35.341406Z",
          "iopub.status.busy": "2022-08-07T05:31:35.340954Z",
          "iopub.status.idle": "2022-08-07T05:31:35.342150Z",
          "shell.execute_reply": "2022-08-07T05:31:35.342486Z"
        },
        "papermill": {
          "duration": 0.024663,
          "end_time": "2022-08-07T05:31:35.342608",
          "exception": false,
          "start_time": "2022-08-07T05:31:35.317945",
          "status": "completed"
        },
        "tags": [
          "hide-input"
        ]
      },
      "outputs": [],
      "source": [
        "\n",
        "def coupler(*, coupling: float = 0.5) -> SDict:\n",
        "    \"\"\"a simple coupler model\"\"\"\n",
        "    kappa = coupling ** 0.5\n",
        "    tau = (1 - coupling) ** 0.5\n",
        "    sdict = reciprocal(\n",
        "        {\n",
        "            (\"in0\", \"out0\"): tau,\n",
        "            (\"in0\", \"out1\"): 1j * kappa,\n",
        "            (\"in1\", \"out0\"): 1j * kappa,\n",
        "            (\"in1\", \"out1\"): tau,\n",
        "        }\n",
        "    )\n",
        "    return sdict"
      ]
    },
    {
      "cell_type": "code",
      "execution_count": 7,
      "id": "5fd87a22",
      "metadata": {
        "execution": {
          "iopub.execute_input": "2022-08-07T05:31:35.382911Z",
          "iopub.status.busy": "2022-08-07T05:31:35.382413Z",
          "iopub.status.idle": "2022-08-07T05:31:35.385810Z",
          "shell.execute_reply": "2022-08-07T05:31:35.385365Z"
        },
        "papermill": {
          "duration": 0.025425,
          "end_time": "2022-08-07T05:31:35.385917",
          "exception": false,
          "start_time": "2022-08-07T05:31:35.360492",
          "status": "completed"
        },
        "tags": []
      },
      "outputs": [
        {
          "data": {
            "text/plain": [
              "{('in0', 'out0'): 0.7071067811865476,\n",
              " ('in0', 'out1'): 0.7071067811865476j,\n",
              " ('in1', 'out0'): 0.7071067811865476j,\n",
              " ('in1', 'out1'): 0.7071067811865476,\n",
              " ('out0', 'in0'): 0.7071067811865476,\n",
              " ('out1', 'in0'): 0.7071067811865476j,\n",
              " ('out0', 'in1'): 0.7071067811865476j,\n",
              " ('out1', 'in1'): 0.7071067811865476}"
            ]
          },
          "execution_count": 7,
          "metadata": {},
          "output_type": "execute_result"
        }
      ],
      "source": [
        "coupler()"
      ]
    },
    {
      "cell_type": "markdown",
      "id": "ca06c12f",
      "metadata": {
        "papermill": {
          "duration": 0.017989,
          "end_time": "2022-08-07T05:31:35.422136",
          "exception": false,
          "start_time": "2022-08-07T05:31:35.404147",
          "status": "completed"
        },
        "tags": []
      },
      "source": [
        "## Model Factories"
      ]
    },
    {
      "cell_type": "code",
      "execution_count": 8,
      "id": "4337353af9e81f64",
      "metadata": {
        "execution": {
          "iopub.execute_input": "2022-08-07T05:31:35.465877Z",
          "iopub.status.busy": "2022-08-07T05:31:35.465370Z",
          "iopub.status.idle": "2022-08-07T05:31:35.466542Z",
          "shell.execute_reply": "2022-08-07T05:31:35.466953Z"
        },
        "papermill": {
          "duration": 0.026715,
          "end_time": "2022-08-07T05:31:35.467080",
          "exception": false,
          "start_time": "2022-08-07T05:31:35.440365",
          "status": "completed"
        },
        "tags": [
          "remove-cell"
        ]
      },
      "outputs": [],
      "source": [
        "\n",
        "def _validate_ports(ports, num_inputs, num_outputs, diagonal) -> Tuple[Tuple[str,...], Tuple[str,...], int, int]:\n",
        "    if ports is None:\n",
        "        if num_inputs is None or num_outputs is None:\n",
        "            raise ValueError(\n",
        "                \"if not ports given, you must specify how many input ports \"\n",
        "                \"and how many output ports a model has.\"\n",
        "            )\n",
        "        input_ports = [f\"in{i}\" for i in range(num_inputs)]\n",
        "        output_ports = [f\"out{i}\" for i in range(num_outputs)]\n",
        "    else:\n",
        "        if num_inputs is not None:\n",
        "            if num_outputs is None:\n",
        "                raise ValueError(\n",
        "                    \"if num_inputs is given, num_outputs should be given as well.\"\n",
        "                )\n",
        "        if num_outputs is not None:\n",
        "            if num_inputs is None:\n",
        "                raise ValueError(\n",
        "                    \"if num_outputs is given, num_inputs should be given as well.\"\n",
        "                )\n",
        "        if num_inputs is not None and num_outputs is not None:\n",
        "            if num_inputs + num_outputs != len(ports):\n",
        "                raise ValueError(\"num_inputs + num_outputs != len(ports)\")\n",
        "            input_ports = ports[:num_inputs]\n",
        "            output_ports = ports[num_inputs:]\n",
        "        else:\n",
        "            input_ports, output_ports = get_inputs_outputs(ports)\n",
        "            num_inputs = len(input_ports)\n",
        "            num_outputs = len(output_ports)\n",
        "            \n",
        "    if diagonal:\n",
        "        if num_inputs != num_outputs:\n",
        "            raise ValueError(\n",
        "                \"Can only have a diagonal passthru if number of input ports equals the number of output ports!\"\n",
        "            )\n",
        "    return input_ports, output_ports, num_inputs, num_outputs"
      ]
    },
    {
      "cell_type": "markdown",
      "id": "1dbe1480a1d0343f",
      "metadata": {},
      "source": [
        ":::{eval-rst}\n",
        ".. autofunction:: sax.models.unitary\n",
        ":::\n"
      ]
    },
    {
      "cell_type": "code",
      "execution_count": 9,
      "id": "f27a09b6000b6ddf",
      "metadata": {
        "execution": {
          "iopub.execute_input": "2022-08-07T05:31:35.506697Z",
          "iopub.status.busy": "2022-08-07T05:31:35.506244Z",
          "iopub.status.idle": "2022-08-07T05:31:35.517958Z",
          "shell.execute_reply": "2022-08-07T05:31:35.518289Z"
        },
        "papermill": {
          "duration": 0.032797,
          "end_time": "2022-08-07T05:31:35.518426",
          "exception": false,
          "start_time": "2022-08-07T05:31:35.485629",
          "status": "completed"
        },
        "tags": [
          "hide-input"
        ]
      },
      "outputs": [],
      "source": [
        "\n",
        "@cache\n",
        "def unitary(\n",
        "    num_inputs: Optional[int] = None,\n",
        "    num_outputs: Optional[int] = None,\n",
        "    ports: Optional[Tuple[str, ...]] = None,\n",
        "    *,\n",
        "    jit=True,\n",
        "    reciprocal=True,\n",
        "    diagonal=False,\n",
        ") -> Model:\n",
        "    input_ports, output_ports, num_inputs, num_outputs = _validate_ports(ports, num_inputs, num_outputs, diagonal)\n",
        "    assert num_inputs is not None and num_outputs is not None\n",
        "    \n",
        "    # let's create the squared S-matrix:\n",
        "    N = max(num_inputs, num_outputs)\n",
        "    S = jnp.zeros((2*N, 2*N), dtype=float)\n",
        "\n",
        "    if not diagonal:\n",
        "        if JAX_AVAILABLE:\n",
        "            S = S.at[:N, N:].set(1)\n",
        "        else:\n",
        "            S[:N, N:] = 1\n",
        "    else:\n",
        "        r = jnp.arange(N, dtype=int) # reciprocal only works if num_inputs == num_outputs!\n",
        "        if JAX_AVAILABLE:\n",
        "            S = S.at[r, N+r].set(1)\n",
        "        else:\n",
        "            S[r, N+r] = 1\n",
        "\n",
        "    if reciprocal:\n",
        "        if not diagonal:\n",
        "            if JAX_AVAILABLE:\n",
        "                S = S.at[N:, :N].set(1)\n",
        "            else:\n",
        "                S[N:, :N] = 1\n",
        "        else:\n",
        "            r = jnp.arange(N, dtype=int) # reciprocal only works if num_inputs == num_outputs!\n",
        "            if JAX_AVAILABLE:\n",
        "                S = S.at[N+r, r].set(1)\n",
        "            else:\n",
        "                S[N+r, r] = 1\n",
        "\n",
        "    # Now we need to normalize the squared S-matrix\n",
        "    U, s, V = jnp.linalg.svd(S, full_matrices=False)\n",
        "    S = jnp.sqrt(U@jnp.diag(jnp.where(s > 1e-12, 1, 0))@V)\n",
        "    \n",
        "    # Now create subset of this matrix we're interested in:\n",
        "    r = jnp.concatenate([jnp.arange(num_inputs, dtype=int), N+jnp.arange(num_outputs, dtype=int)], 0)\n",
        "    S = S[r, :][:, r]\n",
        "\n",
        "    # let's convert it in SCOO format:\n",
        "    Si, Sj = jnp.where(S > 1e-6)\n",
        "    Sx = S[Si, Sj]\n",
        "    \n",
        "    # the last missing piece is a port map:\n",
        "    pm = {\n",
        "        **{p: i for i, p in enumerate(input_ports)},\n",
        "        **{p: i + num_inputs for i, p in enumerate(output_ports)},\n",
        "    }\n",
        "    \n",
        "    def func(wl: float = 1.5) -> SCoo:\n",
        "        wl_ = jnp.asarray(wl)\n",
        "        Sx_ = jnp.broadcast_to(Sx, (*wl_.shape, *Sx.shape))\n",
        "        return Si, Sj, Sx_, pm\n",
        "\n",
        "    func.__name__ = f\"unitary_{num_inputs}_{num_outputs}\"\n",
        "    func.__qualname__ = f\"unitary_{num_inputs}_{num_outputs}\"\n",
        "    if jit:\n",
        "        return jax.jit(func)\n",
        "    return func"
      ]
    },
    {
      "cell_type": "markdown",
      "id": "327febf2-70d5-48ed-8b39-bac2d9727db5",
      "metadata": {
        "papermill": {
          "duration": 0.018521,
          "end_time": "2022-08-07T05:31:35.555459",
          "exception": false,
          "start_time": "2022-08-07T05:31:35.536938",
          "status": "completed"
        },
        "tags": []
      },
      "source": [
        "A unitary model returns an `SCoo` by default:"
      ]
    },
    {
      "cell_type": "code",
      "execution_count": 10,
      "id": "e95bacdd",
      "metadata": {
        "execution": {
          "iopub.execute_input": "2022-08-07T05:31:35.602793Z",
          "iopub.status.busy": "2022-08-07T05:31:35.602336Z",
          "iopub.status.idle": "2022-08-07T05:31:36.396068Z",
          "shell.execute_reply": "2022-08-07T05:31:36.395623Z"
        },
        "papermill": {
          "duration": 0.822185,
          "end_time": "2022-08-07T05:31:36.396196",
          "exception": false,
          "start_time": "2022-08-07T05:31:35.574011",
          "status": "completed"
        },
        "tags": []
      },
      "outputs": [
        {
          "data": {
            "text/plain": [
              "(array([0, 0, 0, 1, 1, 1, 2, 2, 3, 3, 3]),\n",
              " array([0, 2, 3, 1, 2, 3, 0, 1, 0, 1, 3]),\n",
              " array([4.9899322e-01, 9.6622550e-01, 2.5769794e-01, 4.9899328e-01,\n",
              "        2.5769794e-01, 9.6622562e-01, 7.0710677e-01, 7.0710677e-01,\n",
              "        7.0710677e-01, 7.0710677e-01, 2.3246315e-04]),\n",
              " {'in0': array(0), 'in1': array(1), 'out0': array(2), 'out1': array(3)})"
            ]
          },
          "execution_count": 10,
          "metadata": {},
          "output_type": "execute_result"
        }
      ],
      "source": [
        "unitary_model = unitary(2, 2)\n",
        "unitary_model() # a unitary model returns an SCoo by default"
      ]
    },
    {
      "cell_type": "markdown",
      "id": "01ff2567-9b0e-4686-acb4-47cfb11b06ce",
      "metadata": {
        "papermill": {
          "duration": 0.018481,
          "end_time": "2022-08-07T05:31:36.434332",
          "exception": false,
          "start_time": "2022-08-07T05:31:36.415851",
          "status": "completed"
        },
        "tags": []
      },
      "source": [
        "As you probably already know, it's very easy to convert a model returning any `Stype` into a model returning an `SDict` as follows:"
      ]
    },
    {
      "cell_type": "code",
      "execution_count": 11,
      "id": "260dda8c-7e44-4f3f-b96c-e742daaf2885",
      "metadata": {
        "execution": {
          "iopub.execute_input": "2022-08-07T05:31:36.489375Z",
          "iopub.status.busy": "2022-08-07T05:31:36.480444Z",
          "iopub.status.idle": "2022-08-07T05:31:36.565801Z",
          "shell.execute_reply": "2022-08-07T05:31:36.566196Z"
        },
        "papermill": {
          "duration": 0.113504,
          "end_time": "2022-08-07T05:31:36.566359",
          "exception": false,
          "start_time": "2022-08-07T05:31:36.452855",
          "status": "completed"
        },
        "tags": []
      },
      "outputs": [
        {
          "data": {
            "text/plain": [
              "{('in0', 'in0'): 0.49899,\n",
              " ('in0', 'out0'): 0.96623,\n",
              " ('in0', 'out1'): 0.2577,\n",
              " ('in1', 'in1'): 0.49899,\n",
              " ('in1', 'out0'): 0.2577,\n",
              " ('in1', 'out1'): 0.96623,\n",
              " ('out0', 'in0'): 0.70711,\n",
              " ('out0', 'in1'): 0.70711,\n",
              " ('out1', 'in0'): 0.70711,\n",
              " ('out1', 'in1'): 0.70711,\n",
              " ('out1', 'out1'): 0.00023}"
            ]
          },
          "execution_count": 11,
          "metadata": {},
          "output_type": "execute_result"
        }
      ],
      "source": [
        "unitary_sdict_model = sax.sdict(unitary_model)\n",
        "unitary_sdict_model()"
      ]
    },
    {
      "cell_type": "markdown",
      "id": "e9a1a46b-b10a-471b-b835-7b6d8d49175a",
      "metadata": {
        "papermill": {
          "duration": 0.019715,
          "end_time": "2022-08-07T05:31:36.605287",
          "exception": false,
          "start_time": "2022-08-07T05:31:36.585572",
          "status": "completed"
        },
        "tags": []
      },
      "source": [
        "If we need custom port names, we can also just specify them explicitly:"
      ]
    },
    {
      "cell_type": "code",
      "execution_count": 12,
      "id": "66abe9b0",
      "metadata": {
        "execution": {
          "iopub.execute_input": "2022-08-07T05:31:36.649089Z",
          "iopub.status.busy": "2022-08-07T05:31:36.647973Z",
          "iopub.status.idle": "2022-08-07T05:31:36.663481Z",
          "shell.execute_reply": "2022-08-07T05:31:36.663108Z"
        },
        "papermill": {
          "duration": 0.039302,
          "end_time": "2022-08-07T05:31:36.663578",
          "exception": false,
          "start_time": "2022-08-07T05:31:36.624276",
          "status": "completed"
        },
        "tags": []
      },
      "outputs": [
        {
          "data": {
            "text/plain": [
              "(array([0, 0, 0, 1, 1, 1, 2, 2, 3, 3, 3]),\n",
              " array([0, 2, 3, 1, 2, 3, 0, 1, 0, 1, 3]),\n",
              " array([4.9899322e-01, 9.6622550e-01, 2.5769794e-01, 4.9899328e-01,\n",
              "        2.5769794e-01, 9.6622562e-01, 7.0710677e-01, 7.0710677e-01,\n",
              "        7.0710677e-01, 7.0710677e-01, 2.3246315e-04]),\n",
              " {'in0': array(0), 'in1': array(1), 'out0': array(2), 'out1': array(3)})"
            ]
          },
          "execution_count": 12,
          "metadata": {},
          "output_type": "execute_result"
        }
      ],
      "source": [
        "unitary_model = unitary(ports=(\"in0\", \"in1\", \"out0\", \"out1\"))\n",
        "unitary_model()"
      ]
    },
    {
      "cell_type": "markdown",
      "id": "ebf14c1c-ccfb-44e6-8572-18b366ffab91",
      "metadata": {
        "papermill": {
          "duration": 0.019193,
          "end_time": "2022-08-07T05:31:36.701940",
          "exception": false,
          "start_time": "2022-08-07T05:31:36.682747",
          "status": "completed"
        },
        "tags": []
      },
      "source": [
        "A unitary model will by default split a signal at an input port equally over all output ports. However, if there are an equal number of input ports as output ports we can in stead create a passthru by setting the `diagonal` flag to `True`:"
      ]
    },
    {
      "cell_type": "code",
      "execution_count": 13,
      "id": "7c1d61a3",
      "metadata": {
        "execution": {
          "iopub.execute_input": "2022-08-07T05:31:36.748937Z",
          "iopub.status.busy": "2022-08-07T05:31:36.745136Z",
          "iopub.status.idle": "2022-08-07T05:31:37.043075Z",
          "shell.execute_reply": "2022-08-07T05:31:37.043547Z"
        },
        "papermill": {
          "duration": 0.322629,
          "end_time": "2022-08-07T05:31:37.043751",
          "exception": false,
          "start_time": "2022-08-07T05:31:36.721122",
          "status": "completed"
        },
        "tags": []
      },
      "outputs": [
        {
          "data": {
            "text/plain": [
              "{('in0', 'out0'): 1.0,\n",
              " ('in1', 'out1'): 1.0,\n",
              " ('out0', 'in0'): 1.0,\n",
              " ('out1', 'in1'): 1.0}"
            ]
          },
          "execution_count": 13,
          "metadata": {},
          "output_type": "execute_result"
        }
      ],
      "source": [
        "passthru_model = unitary(2, 2, diagonal=True)\n",
        "sax.sdict(passthru_model())"
      ]
    },
    {
      "cell_type": "code",
      "execution_count": 14,
      "id": "7f93b145",
      "metadata": {
        "execution": {
          "iopub.execute_input": "2022-08-07T05:31:37.092357Z",
          "iopub.status.busy": "2022-08-07T05:31:37.091143Z",
          "iopub.status.idle": "2022-08-07T05:31:37.979994Z",
          "shell.execute_reply": "2022-08-07T05:31:37.980342Z"
        },
        "papermill": {
          "duration": 0.916825,
          "end_time": "2022-08-07T05:31:37.980487",
          "exception": false,
          "start_time": "2022-08-07T05:31:37.063662",
          "status": "completed"
        },
        "tags": []
      },
      "outputs": [
        {
          "data": {
            "text/plain": [
              "{('in0', 'in0'): 0.89409,\n",
              " ('in0', 'out0'): 0.44721,\n",
              " ('in0', 'out1'): 0.44721,\n",
              " ('in0', 'out2'): 0.44721,\n",
              " ('in0', 'out3'): 0.44721,\n",
              " ('in0', 'out4'): 0.44721,\n",
              " ('out0', 'in0'): 0.45508,\n",
              " ('out0', 'out0'): 7.339056901400909e-05,\n",
              " ('out0', 'out1'): 7.339056901400909e-05,\n",
              " ('out0', 'out2'): 7.339056901400909e-05,\n",
              " ('out0', 'out3'): 7.339056901400909e-05,\n",
              " ('out0', 'out4'): 7.339056901400909e-05,\n",
              " ('out1', 'in0'): 0.45508,\n",
              " ('out1', 'out0'): 7.339056901400909e-05,\n",
              " ('out1', 'out1'): 7.339056901400909e-05,\n",
              " ('out1', 'out2'): 7.339056901400909e-05,\n",
              " ('out1', 'out3'): 7.339056901400909e-05,\n",
              " ('out1', 'out4'): 7.339056901400909e-05,\n",
              " ('out2', 'in0'): 0.45508,\n",
              " ('out2', 'out0'): 7.339056901400909e-05,\n",
              " ('out2', 'out1'): 7.339056901400909e-05,\n",
              " ('out2', 'out2'): 7.339056901400909e-05,\n",
              " ('out2', 'out3'): 7.339056901400909e-05,\n",
              " ('out2', 'out4'): 7.339056901400909e-05,\n",
              " ('out3', 'in0'): 0.45508,\n",
              " ('out3', 'out0'): 7.339056901400909e-05,\n",
              " ('out3', 'out1'): 7.339056901400909e-05,\n",
              " ('out3', 'out2'): 7.339056901400909e-05,\n",
              " ('out3', 'out3'): 7.339056901400909e-05,\n",
              " ('out3', 'out4'): 7.339056901400909e-05,\n",
              " ('out4', 'in0'): 0.41426,\n",
              " ('out4', 'out0'): 0.00012,\n",
              " ('out4', 'out1'): 0.00012,\n",
              " ('out4', 'out2'): 0.00012,\n",
              " ('out4', 'out3'): 0.00012,\n",
              " ('out4', 'out4'): 0.00012}"
            ]
          },
          "execution_count": 14,
          "metadata": {},
          "output_type": "execute_result"
        }
      ],
      "source": [
        "ports_in=['in0']\n",
        "ports_out=['out0', 'out1', 'out2', 'out3', 'out4']\n",
        "model = unitary(\n",
        "    ports=tuple(ports_in+ports_out), jit=True, reciprocal=True\n",
        ")\n",
        "model = sax.sdict(model)\n",
        "model()"
      ]
    },
    {
      "cell_type": "markdown",
      "id": "8b149d44-5487-4e50-a2f2-1ad0aca99dac",
      "metadata": {
        "papermill": {
          "duration": 0.019793,
          "end_time": "2022-08-07T05:31:38.020516",
          "exception": false,
          "start_time": "2022-08-07T05:31:38.000723",
          "status": "completed"
        },
        "tags": []
      },
      "source": [
        "Because this is a pretty common usecase we have a dedicated model factory for this as well. This passthru component just takes the number of links (`'in{i}' -> 'out{i]'`) as input. Alternatively, as before, one can also specify the port names directly but one needs to ensure that `len(ports) == 2*num_links`."
      ]
    },
    {
      "cell_type": "markdown",
      "id": "78ec6702aa271d1f",
      "metadata": {},
      "source": [
        ":::{eval-rst}\n",
        ".. autofunction:: sax.models.passthru\n",
        ":::\n"
      ]
    },
    {
      "cell_type": "code",
      "execution_count": 15,
      "id": "e66fc2c036e76b01",
      "metadata": {
        "execution": {
          "iopub.execute_input": "2022-08-07T05:31:38.066206Z",
          "iopub.status.busy": "2022-08-07T05:31:38.065505Z",
          "iopub.status.idle": "2022-08-07T05:31:38.066875Z",
          "shell.execute_reply": "2022-08-07T05:31:38.067231Z"
        },
        "papermill": {
          "duration": 0.026988,
          "end_time": "2022-08-07T05:31:38.067359",
          "exception": false,
          "start_time": "2022-08-07T05:31:38.040371",
          "status": "completed"
        },
        "tags": [
          "hide-input"
        ]
      },
      "outputs": [],
      "source": [
        "@cache\n",
        "def passthru(\n",
        "    num_links: Optional[int] = None,\n",
        "    ports: Optional[Tuple[str, ...]] = None,\n",
        "    *,\n",
        "    jit=True,\n",
        "    reciprocal=True,\n",
        ") -> Model:\n",
        "    passthru = unitary(num_links, num_links, ports, jit=jit, reciprocal=reciprocal, diagonal=True)\n",
        "    passthru.__name__ = f\"passthru_{num_links}_{num_links}\"\n",
        "    passthru.__qualname__ = f\"passthru_{num_links}_{num_links}\"\n",
        "    if jit:\n",
        "        return jax.jit(passthru)\n",
        "    return passthru"
      ]
    },
    {
      "cell_type": "code",
      "execution_count": 16,
      "id": "9e8b6cd7-56d4-4697-9a6e-33c929f3d853",
      "metadata": {
        "execution": {
          "iopub.execute_input": "2022-08-07T05:31:38.115694Z",
          "iopub.status.busy": "2022-08-07T05:31:38.115268Z",
          "iopub.status.idle": "2022-08-07T05:31:38.665738Z",
          "shell.execute_reply": "2022-08-07T05:31:38.665320Z"
        },
        "papermill": {
          "duration": 0.578657,
          "end_time": "2022-08-07T05:31:38.665865",
          "exception": false,
          "start_time": "2022-08-07T05:31:38.087208",
          "status": "completed"
        },
        "tags": []
      },
      "outputs": [
        {
          "data": {
            "text/plain": [
              "{('in0', 'out0'): 1.0,\n",
              " ('in1', 'out1'): 1.0,\n",
              " ('in2', 'out2'): 1.0,\n",
              " ('out0', 'in0'): 1.0,\n",
              " ('out1', 'in1'): 1.0,\n",
              " ('out2', 'in2'): 1.0}"
            ]
          },
          "execution_count": 16,
          "metadata": {},
          "output_type": "execute_result"
        }
      ],
      "source": [
        "passthru_model = passthru(3)\n",
        "passthru_sdict_model = sax.sdict(passthru_model)\n",
        "passthru_sdict_model()"
      ]
    },
    {
      "cell_type": "code",
      "execution_count": 17,
      "id": "690e718c-2d84-4177-b8ad-ff39cf8c4691",
      "metadata": {
        "execution": {
          "iopub.execute_input": "2022-08-07T05:31:38.714142Z",
          "iopub.status.busy": "2022-08-07T05:31:38.713700Z",
          "iopub.status.idle": "2022-08-07T05:31:40.349316Z",
          "shell.execute_reply": "2022-08-07T05:31:40.349636Z"
        },
        "papermill": {
          "duration": 1.662629,
          "end_time": "2022-08-07T05:31:40.349784",
          "exception": false,
          "start_time": "2022-08-07T05:31:38.687155",
          "status": "completed"
        },
        "tags": []
      },
      "outputs": [
        {
          "data": {
            "text/plain": [
              "{('in0', 'in0'): 0.49904,\n",
              " ('out0', 'out0'): 0.49904,\n",
              " ('in0', 'out0'): 0.86544,\n",
              " ('out0', 'in0'): 0.86544}"
            ]
          },
          "execution_count": 17,
          "metadata": {},
          "output_type": "execute_result"
        }
      ],
      "source": [
        "mzi = sax.circuit(\n",
        "    instances={\n",
        "        \"lft\": unitary(1, 2),\n",
        "        \"top\": unitary(1, 1),\n",
        "        \"rgt\": unitary(1, 2),\n",
        "    },\n",
        "    connections={\n",
        "        \"lft,out0\": \"rgt,out0\",\n",
        "        \"lft,out1\": \"top,in0\",\n",
        "        \"top,out0\": \"rgt,out1\",\n",
        "    },\n",
        "    ports = {\n",
        "        \"in0\": \"lft,in0\",\n",
        "        \"out0\": \"rgt,in0\",\n",
        "    }\n",
        ")\n",
        "mzi()"
      ]
    },
    {
      "cell_type": "markdown",
      "id": "ddeaa87ea6b6a8b0",
      "metadata": {},
      "source": [
        ":::{eval-rst}\n",
        ".. autofunction:: sax.models.copier\n",
        ":::\n"
      ]
    },
    {
      "cell_type": "code",
      "execution_count": 18,
      "id": "1975e00f101bb5da",
      "metadata": {
        "execution": {
          "iopub.execute_input": "2022-08-07T05:31:40.394975Z",
          "iopub.status.busy": "2022-08-07T05:31:40.394503Z",
          "iopub.status.idle": "2022-08-07T05:31:40.404314Z",
          "shell.execute_reply": "2022-08-07T05:31:40.403933Z"
        },
        "papermill": {
          "duration": 0.033539,
          "end_time": "2022-08-07T05:31:40.404419",
          "exception": false,
          "start_time": "2022-08-07T05:31:40.370880",
          "status": "completed"
        },
        "tags": [
          "hide-input"
        ]
      },
      "outputs": [],
      "source": [
        "\n",
        "@cache\n",
        "def copier(\n",
        "    num_inputs: Optional[int] = None,\n",
        "    num_outputs: Optional[int] = None,\n",
        "    ports: Optional[Tuple[str, ...]] = None,\n",
        "    *,\n",
        "    jit=True,\n",
        "    reciprocal=True,\n",
        "    diagonal=False,\n",
        ") -> Model:\n",
        "        \n",
        "    input_ports, output_ports, num_inputs, num_outputs = _validate_ports(ports, num_inputs, num_outputs, diagonal)\n",
        "    assert num_inputs is not None and num_outputs is not None\n",
        "    \n",
        "    # let's create the squared S-matrix:\n",
        "    S = jnp.zeros((num_inputs+num_outputs, num_inputs+num_outputs), dtype=float)\n",
        "\n",
        "    if not diagonal:\n",
        "        if JAX_AVAILABLE:\n",
        "            S = S.at[:num_inputs, num_inputs:].set(1)\n",
        "        else:\n",
        "            S[:num_inputs, num_inputs:] = 1\n",
        "    else:\n",
        "        r = jnp.arange(num_inputs, dtype=int) # == range(num_outputs) # reciprocal only works if num_inputs == num_outputs!\n",
        "        if JAX_AVAILABLE:\n",
        "            S = S.at[r, num_inputs+r].set(1)\n",
        "        else:\n",
        "            S[r, num_inputs+r] = 1\n",
        "\n",
        "    if reciprocal:\n",
        "        if not diagonal:\n",
        "            if JAX_AVAILABLE:\n",
        "                S = S.at[num_inputs:, :num_inputs].set(1)\n",
        "            else:\n",
        "                S[num_inputs:, :num_inputs] = 1\n",
        "        else:\n",
        "            r = jnp.arange(num_inputs, dtype=int) # == range(num_outputs) # reciprocal only works if num_inputs == num_outputs!\n",
        "            if JAX_AVAILABLE:\n",
        "                S = S.at[num_inputs+r, r].set(1)\n",
        "            else:\n",
        "                S[num_inputs+r, r] = 1\n",
        "\n",
        "    # let's convert it in SCOO format:\n",
        "    Si, Sj = jnp.where(S > 1e-6)\n",
        "    Sx = S[Si, Sj]\n",
        "    \n",
        "    # the last missing piece is a port map:\n",
        "    pm = {\n",
        "        **{p: i for i, p in enumerate(input_ports)},\n",
        "        **{p: i + num_inputs for i, p in enumerate(output_ports)},\n",
        "    }\n",
        "    \n",
        "    def func(wl: float = 1.5) -> SCoo:\n",
        "        wl_ = jnp.asarray(wl)\n",
        "        Sx_ = jnp.broadcast_to(Sx, (*wl_.shape, *Sx.shape))\n",
        "        return Si, Sj, Sx_, pm\n",
        "\n",
        "    func.__name__ = f\"unitary_{num_inputs}_{num_outputs}\"\n",
        "    func.__qualname__ = f\"unitary_{num_inputs}_{num_outputs}\"\n",
        "    if jit:\n",
        "        return jax.jit(func)\n",
        "    return func"
      ]
    },
    {
      "cell_type": "markdown",
      "id": "77014d0f-1a08-4b4b-a011-cf11cd9684b8",
      "metadata": {
        "papermill": {
          "duration": 0.020861,
          "end_time": "2022-08-07T05:31:40.445970",
          "exception": false,
          "start_time": "2022-08-07T05:31:40.425109",
          "status": "completed"
        },
        "tags": []
      },
      "source": [
        "A copier model is like a unitary model, but copies the input signal over all output signals. Hence, if the model has multiple output ports, this model can be considered to introduce gain. That said, it can sometimes be a useful component."
      ]
    },
    {
      "cell_type": "code",
      "execution_count": 19,
      "id": "c2a61a9f-51ea-455f-a66f-94719b43520e",
      "metadata": {
        "execution": {
          "iopub.execute_input": "2022-08-07T05:31:40.494326Z",
          "iopub.status.busy": "2022-08-07T05:31:40.492582Z",
          "iopub.status.idle": "2022-08-07T05:31:40.738436Z",
          "shell.execute_reply": "2022-08-07T05:31:40.738759Z"
        },
        "papermill": {
          "duration": 0.272265,
          "end_time": "2022-08-07T05:31:40.738910",
          "exception": false,
          "start_time": "2022-08-07T05:31:40.466645",
          "status": "completed"
        },
        "tags": []
      },
      "outputs": [
        {
          "data": {
            "text/plain": [
              "(array([0, 0, 1, 1, 2, 2, 3, 3]),\n",
              " array([2, 3, 2, 3, 0, 1, 0, 1]),\n",
              " array([1., 1., 1., 1., 1., 1., 1., 1.]),\n",
              " {'in0': array(0), 'in1': array(1), 'out0': array(2), 'out1': array(3)})"
            ]
          },
          "execution_count": 19,
          "metadata": {},
          "output_type": "execute_result"
        }
      ],
      "source": [
        "copier_model = copier(2, 2)\n",
        "copier_model() # a copier model returns an SCoo by default"
      ]
    },
    {
      "cell_type": "markdown",
      "id": "fbd51c6c-c059-4717-9dae-447becc7e8d5",
      "metadata": {
        "papermill": {
          "duration": 0.021477,
          "end_time": "2022-08-07T05:31:40.781899",
          "exception": false,
          "start_time": "2022-08-07T05:31:40.760422",
          "status": "completed"
        },
        "tags": []
      },
      "source": [
        "As you probably already know, it's very easy to convert a model returning any `Stype` into a model returning an `SDict` as follows:"
      ]
    },
    {
      "cell_type": "code",
      "execution_count": 20,
      "id": "becda099-b5d9-494c-a6b2-9828be10c4a5",
      "metadata": {
        "execution": {
          "iopub.execute_input": "2022-08-07T05:31:40.840137Z",
          "iopub.status.busy": "2022-08-07T05:31:40.838482Z",
          "iopub.status.idle": "2022-08-07T05:31:40.877556Z",
          "shell.execute_reply": "2022-08-07T05:31:40.877942Z"
        },
        "papermill": {
          "duration": 0.075006,
          "end_time": "2022-08-07T05:31:40.878092",
          "exception": false,
          "start_time": "2022-08-07T05:31:40.803086",
          "status": "completed"
        },
        "tags": []
      },
      "outputs": [
        {
          "data": {
            "text/plain": [
              "{('in0', 'out0'): 1.0,\n",
              " ('in0', 'out1'): 1.0,\n",
              " ('in1', 'out0'): 1.0,\n",
              " ('in1', 'out1'): 1.0,\n",
              " ('out0', 'in0'): 1.0,\n",
              " ('out0', 'in1'): 1.0,\n",
              " ('out1', 'in0'): 1.0,\n",
              " ('out1', 'in1'): 1.0}"
            ]
          },
          "execution_count": 20,
          "metadata": {},
          "output_type": "execute_result"
        }
      ],
      "source": [
        "copier_sdict_model = sax.sdict(copier_model)\n",
        "copier_sdict_model()"
      ]
    },
    {
      "cell_type": "markdown",
      "id": "1ad16d1b-f685-4ab9-a8c4-41efbbdae4fa",
      "metadata": {
        "papermill": {
          "duration": 0.021861,
          "end_time": "2022-08-07T05:31:40.921810",
          "exception": false,
          "start_time": "2022-08-07T05:31:40.899949",
          "status": "completed"
        },
        "tags": []
      },
      "source": [
        "If we need custom port names, we can also just specify them explicitly:"
      ]
    },
    {
      "cell_type": "code",
      "execution_count": 21,
      "id": "297d1e45-b881-440b-b887-b38c5517596e",
      "metadata": {
        "execution": {
          "iopub.execute_input": "2022-08-07T05:31:40.969128Z",
          "iopub.status.busy": "2022-08-07T05:31:40.968487Z",
          "iopub.status.idle": "2022-08-07T05:31:40.980631Z",
          "shell.execute_reply": "2022-08-07T05:31:40.980262Z"
        },
        "papermill": {
          "duration": 0.037529,
          "end_time": "2022-08-07T05:31:40.980739",
          "exception": false,
          "start_time": "2022-08-07T05:31:40.943210",
          "status": "completed"
        },
        "tags": []
      },
      "outputs": [
        {
          "data": {
            "text/plain": [
              "(array([0, 0, 1, 1, 2, 2, 3, 3]),\n",
              " array([2, 3, 2, 3, 0, 1, 0, 1]),\n",
              " array([1., 1., 1., 1., 1., 1., 1., 1.]),\n",
              " {'in0': array(0), 'in1': array(1), 'out0': array(2), 'out1': array(3)})"
            ]
          },
          "execution_count": 21,
          "metadata": {},
          "output_type": "execute_result"
        }
      ],
      "source": [
        "copier_model = copier(ports=(\"in0\", \"in1\", \"out0\", \"out1\"))\n",
        "copier_model()"
      ]
    },
    {
      "cell_type": "code",
      "execution_count": 22,
      "id": "608d7114-03ac-4f5f-9790-cf65379d81dd",
      "metadata": {
        "execution": {
          "iopub.execute_input": "2022-08-07T05:31:41.028646Z",
          "iopub.status.busy": "2022-08-07T05:31:41.028200Z",
          "iopub.status.idle": "2022-08-07T05:31:41.061062Z",
          "shell.execute_reply": "2022-08-07T05:31:41.061451Z"
        },
        "papermill": {
          "duration": 0.059167,
          "end_time": "2022-08-07T05:31:41.061590",
          "exception": false,
          "start_time": "2022-08-07T05:31:41.002423",
          "status": "completed"
        },
        "tags": []
      },
      "outputs": [
        {
          "data": {
            "text/plain": [
              "{('in0', 'in0'): 0.89409,\n",
              " ('in0', 'out0'): 0.44721,\n",
              " ('in0', 'out1'): 0.44721,\n",
              " ('in0', 'out2'): 0.44721,\n",
              " ('in0', 'out3'): 0.44721,\n",
              " ('in0', 'out4'): 0.44721,\n",
              " ('out0', 'in0'): 0.45508,\n",
              " ('out0', 'out0'): 7.339056901400909e-05,\n",
              " ('out0', 'out1'): 7.339056901400909e-05,\n",
              " ('out0', 'out2'): 7.339056901400909e-05,\n",
              " ('out0', 'out3'): 7.339056901400909e-05,\n",
              " ('out0', 'out4'): 7.339056901400909e-05,\n",
              " ('out1', 'in0'): 0.45508,\n",
              " ('out1', 'out0'): 7.339056901400909e-05,\n",
              " ('out1', 'out1'): 7.339056901400909e-05,\n",
              " ('out1', 'out2'): 7.339056901400909e-05,\n",
              " ('out1', 'out3'): 7.339056901400909e-05,\n",
              " ('out1', 'out4'): 7.339056901400909e-05,\n",
              " ('out2', 'in0'): 0.45508,\n",
              " ('out2', 'out0'): 7.339056901400909e-05,\n",
              " ('out2', 'out1'): 7.339056901400909e-05,\n",
              " ('out2', 'out2'): 7.339056901400909e-05,\n",
              " ('out2', 'out3'): 7.339056901400909e-05,\n",
              " ('out2', 'out4'): 7.339056901400909e-05,\n",
              " ('out3', 'in0'): 0.45508,\n",
              " ('out3', 'out0'): 7.339056901400909e-05,\n",
              " ('out3', 'out1'): 7.339056901400909e-05,\n",
              " ('out3', 'out2'): 7.339056901400909e-05,\n",
              " ('out3', 'out3'): 7.339056901400909e-05,\n",
              " ('out3', 'out4'): 7.339056901400909e-05,\n",
              " ('out4', 'in0'): 0.41426,\n",
              " ('out4', 'out0'): 0.00012,\n",
              " ('out4', 'out1'): 0.00012,\n",
              " ('out4', 'out2'): 0.00012,\n",
              " ('out4', 'out3'): 0.00012,\n",
              " ('out4', 'out4'): 0.00012}"
            ]
          },
          "execution_count": 22,
          "metadata": {},
          "output_type": "execute_result"
        }
      ],
      "source": [
        "ports_in=['in0']\n",
        "ports_out=['out0', 'out1', 'out2', 'out3', 'out4']\n",
        "model = unitary(\n",
        "    ports=tuple(ports_in+ports_out), jit=True, reciprocal=True\n",
        ")\n",
        "model = sax.sdict(model)\n",
        "model()"
      ]
    },
    {
      "cell_type": "markdown",
      "id": "6d024e5b-95a9-44e5-9dbc-4980249e73a7",
      "metadata": {
        "papermill": {
          "duration": 0.022004,
          "end_time": "2022-08-07T05:31:41.105731",
          "exception": false,
          "start_time": "2022-08-07T05:31:41.083727",
          "status": "completed"
        },
        "tags": []
      },
      "source": [
        "Because this is a pretty common usecase we have a dedicated model factory for this as well. This passthru component just takes the number of links (`'in{i}' -> 'out{i]'`) as input. Alternatively, as before, one can also specify the port names directly but one needs to ensure that `len(ports) == 2*num_links`."
      ]
    },
    {
      "cell_type": "markdown",
      "id": "e65150393da146db",
      "metadata": {},
      "source": [
        ":::{eval-rst}\n",
        ".. autofunction:: sax.models.passthru\n",
        ":::\n"
      ]
    },
    {
      "cell_type": "code",
      "execution_count": 23,
      "id": "439b758ebfe98380",
      "metadata": {
        "execution": {
          "iopub.execute_input": "2022-08-07T05:31:41.154893Z",
          "iopub.status.busy": "2022-08-07T05:31:41.154452Z",
          "iopub.status.idle": "2022-08-07T05:31:41.155956Z",
          "shell.execute_reply": "2022-08-07T05:31:41.156346Z"
        },
        "papermill": {
          "duration": 0.028649,
          "end_time": "2022-08-07T05:31:41.156460",
          "exception": false,
          "start_time": "2022-08-07T05:31:41.127811",
          "status": "completed"
        },
        "tags": [
          "hide-input"
        ]
      },
      "outputs": [],
      "source": [
        "@cache\n",
        "def passthru(\n",
        "    num_links: Optional[int] = None,\n",
        "    ports: Optional[Tuple[str, ...]] = None,\n",
        "    *,\n",
        "    jit=True,\n",
        "    reciprocal=True,\n",
        ") -> Model:\n",
        "    passthru = unitary(num_links, num_links, ports, jit=jit, reciprocal=reciprocal, diagonal=True)\n",
        "    passthru.__name__ = f\"passthru_{num_links}_{num_links}\"\n",
        "    passthru.__qualname__ = f\"passthru_{num_links}_{num_links}\"\n",
        "    if jit:\n",
        "        return jax.jit(passthru)\n",
        "    return passthru"
      ]
    },
    {
      "cell_type": "code",
      "execution_count": 24,
      "id": "4a063810-224b-446c-a59d-12a20b56e82e",
      "metadata": {
        "execution": {
          "iopub.execute_input": "2022-08-07T05:31:41.204404Z",
          "iopub.status.busy": "2022-08-07T05:31:41.203979Z",
          "iopub.status.idle": "2022-08-07T05:31:41.211699Z",
          "shell.execute_reply": "2022-08-07T05:31:41.212010Z"
        },
        "papermill": {
          "duration": 0.033806,
          "end_time": "2022-08-07T05:31:41.212122",
          "exception": false,
          "start_time": "2022-08-07T05:31:41.178316",
          "status": "completed"
        },
        "tags": []
      },
      "outputs": [
        {
          "data": {
            "text/plain": [
              "{('in0', 'out0'): 1.0,\n",
              " ('in1', 'out1'): 1.0,\n",
              " ('in2', 'out2'): 1.0,\n",
              " ('out0', 'in0'): 1.0,\n",
              " ('out1', 'in1'): 1.0,\n",
              " ('out2', 'in2'): 1.0}"
            ]
          },
          "execution_count": 24,
          "metadata": {},
          "output_type": "execute_result"
        }
      ],
      "source": [
        "passthru_model = passthru(3)\n",
        "passthru_sdict_model = sax.sdict(passthru_model)\n",
        "passthru_sdict_model()"
      ]
    },
    {
      "cell_type": "code",
      "execution_count": 25,
      "id": "9b2be9a8-1b06-4b60-ac44-853d49b3e9f6",
      "metadata": {
        "execution": {
          "iopub.execute_input": "2022-08-07T05:31:41.265724Z",
          "iopub.status.busy": "2022-08-07T05:31:41.264356Z",
          "iopub.status.idle": "2022-08-07T05:31:41.280861Z",
          "shell.execute_reply": "2022-08-07T05:31:41.280468Z"
        },
        "papermill": {
          "duration": 0.046266,
          "end_time": "2022-08-07T05:31:41.280956",
          "exception": false,
          "start_time": "2022-08-07T05:31:41.234690",
          "status": "completed"
        },
        "tags": []
      },
      "outputs": [
        {
          "data": {
            "text/plain": [
              "{('in0', 'in0'): 0.49904,\n",
              " ('out0', 'out0'): 0.49904,\n",
              " ('in0', 'out0'): 0.86544,\n",
              " ('out0', 'in0'): 0.86544}"
            ]
          },
          "execution_count": 25,
          "metadata": {},
          "output_type": "execute_result"
        }
      ],
      "source": [
        "mzi = sax.circuit(\n",
        "    instances={\n",
        "        \"lft\": unitary(1, 2),\n",
        "        \"top\": unitary(1, 1),\n",
        "        \"rgt\": unitary(1, 2),\n",
        "    },\n",
        "    connections={\n",
        "        \"lft,out0\": \"rgt,out0\",\n",
        "        \"lft,out1\": \"top,in0\",\n",
        "        \"top,out0\": \"rgt,out1\",\n",
        "    },\n",
        "    ports = {\n",
        "        \"in0\": \"lft,in0\",\n",
        "        \"out0\": \"rgt,in0\",\n",
        "    }\n",
        ")\n",
        "mzi()"
      ]
    },
    {
      "cell_type": "markdown",
      "id": "bb6e94aa",
      "metadata": {
        "papermill": {
          "duration": 0.022926,
          "end_time": "2022-08-07T05:31:41.326614",
          "exception": false,
          "start_time": "2022-08-07T05:31:41.303688",
          "status": "completed"
        },
        "tags": []
      },
      "source": [
        "## All Models"
      ]
    },
    {
      "cell_type": "markdown",
      "id": "68f710492a0c5fe6",
      "metadata": {},
      "source": [
        ":::{eval-rst}\n",
        ".. autofunction:: sax.models.get_models\n",
        ":::\n"
      ]
    },
    {
      "cell_type": "code",
      "execution_count": 26,
      "id": "1c03ab953a529439",
      "metadata": {
        "execution": {
          "iopub.execute_input": "2022-08-07T05:31:41.377672Z",
          "iopub.status.busy": "2022-08-07T05:31:41.376776Z",
          "iopub.status.idle": "2022-08-07T05:31:41.378167Z",
          "shell.execute_reply": "2022-08-07T05:31:41.378493Z"
        },
        "papermill": {
          "duration": 0.028978,
          "end_time": "2022-08-07T05:31:41.378616",
          "exception": false,
          "start_time": "2022-08-07T05:31:41.349638",
          "status": "completed"
        },
        "tags": []
      },
      "outputs": [],
      "source": [
        "\n",
        "models = {\n",
        "    \"copier\": copier,\n",
        "    \"coupler\": coupler,\n",
        "    \"passthru\": passthru,\n",
        "    \"straight\": straight,\n",
        "    \"unitary\": unitary,\n",
        "}\n",
        "\n",
        "def get_models(copy: bool=True):\n",
        "    if copy:\n",
        "        return {**models}\n",
        "    return models"
      ]
    }
  ],
  "metadata": {
    "kernelspec": {
      "display_name": "sax-np",
      "language": "python",
      "name": "sax-np"
    },
    "language_info": {
      "codemirror_mode": {
        "name": "ipython",
        "version": 3
      },
      "file_extension": ".py",
      "mimetype": "text/x-python",
      "name": "python",
      "nbconvert_exporter": "python",
      "pygments_lexer": "ipython3",
      "version": "3.9.0"
    },
    "papermill": {
      "default_parameters": {},
      "duration": 9.395707,
      "end_time": "2022-08-07T05:31:42.488888",
      "environment_variables": {},
      "exception": null,
      "input_path": "./nbs/05_models.ipynb",
      "output_path": "./nbs/05_models.ipynb",
      "parameters": {},
      "start_time": "2022-08-07T05:31:33.093181",
      "version": "2.3.4"
    }
  },
  "nbformat": 4,
  "nbformat_minor": 5
}
{
  "cells": [
    {
      "cell_type": "code",
      "execution_count": 1,
      "id": "55bc5f62f141dbe4",
      "metadata": {
        "execution": {
          "iopub.execute_input": "2022-08-10T16:02:23.687943Z",
          "iopub.status.busy": "2022-08-10T16:02:23.687455Z",
          "iopub.status.idle": "2022-08-10T16:02:23.689923Z",
          "shell.execute_reply": "2022-08-10T16:02:23.690316Z"
        },
        "papermill": {
          "duration": 0.026195,
          "end_time": "2022-08-10T16:02:23.690509",
          "exception": false,
          "start_time": "2022-08-10T16:02:23.664314",
          "status": "completed"
        },
        "tags": [
          "remove-cell"
        ]
      },
      "outputs": [],
      "source": []
    },
    {
      "cell_type": "markdown",
      "id": "986cb864",
      "metadata": {
        "papermill": {
          "duration": 0.017036,
          "end_time": "2022-08-10T16:02:23.724895",
          "exception": false,
          "start_time": "2022-08-10T16:02:23.707859",
          "status": "completed"
        },
        "tags": []
      },
      "source": [
        "# Models\n",
        "\n",
        "> Default SAX Models"
      ]
    },
    {
      "cell_type": "code",
      "execution_count": 2,
      "id": "133dee509f9b6cd0",
      "metadata": {
        "execution": {
          "iopub.execute_input": "2022-08-10T16:02:23.766128Z",
          "iopub.status.busy": "2022-08-10T16:02:23.765712Z",
          "iopub.status.idle": "2022-08-10T16:02:23.767266Z",
          "shell.execute_reply": "2022-08-10T16:02:23.766936Z"
        },
        "papermill": {
          "duration": 0.025629,
          "end_time": "2022-08-10T16:02:23.767380",
          "exception": false,
          "start_time": "2022-08-10T16:02:23.741751",
          "status": "completed"
        },
        "tags": [
          "remove-cell"
        ]
      },
      "outputs": [],
      "source": [
        "import os, sys; sys.stderr = open(os.devnull, \"w\")"
      ]
    },
    {
      "cell_type": "code",
      "execution_count": 3,
      "id": "fe7c087aab309e85",
      "metadata": {
        "execution": {
          "iopub.execute_input": "2022-08-10T16:02:23.806119Z",
          "iopub.status.busy": "2022-08-10T16:02:23.805486Z",
          "iopub.status.idle": "2022-08-10T16:02:24.526262Z",
          "shell.execute_reply": "2022-08-10T16:02:24.525820Z"
        },
        "papermill": {
          "duration": 0.742068,
          "end_time": "2022-08-10T16:02:24.526379",
          "exception": false,
          "start_time": "2022-08-10T16:02:23.784311",
          "status": "completed"
        },
        "tags": [
          "hide-input"
        ]
      },
      "outputs": [],
      "source": [
        "from __future__ import annotations\n",
        "\n",
        "import warnings\n",
        "from types import SimpleNamespace\n",
        "from typing import Optional, Tuple\n",
        "\n",
        "import sax\n",
        "from sax.caching import cache\n",
        "from sax.typing_ import Model, SCoo, SDict\n",
        "from sax.utils import get_inputs_outputs, reciprocal\n",
        "\n",
        "try:\n",
        "    import jax\n",
        "    import jax.numpy as jnp\n",
        "    JAX_AVAILABLE = True\n",
        "except ImportError:\n",
        "    import numpy as jnp\n",
        "    \n",
        "    def jit(func, *args, **kwargs):\n",
        "        warnings.warn(\"[NO JAX] skipping jit! Please install JAX!\")\n",
        "        return func\n",
        "    \n",
        "    jax = SimpleNamespace(jit=jit)\n",
        "    \n",
        "    JAX_AVAILABLE = False"
      ]
    },
    {
      "cell_type": "markdown",
      "id": "efa9b619",
      "metadata": {
        "papermill": {
          "duration": 0.017359,
          "end_time": "2022-08-10T16:02:24.561334",
          "exception": false,
          "start_time": "2022-08-10T16:02:24.543975",
          "status": "completed"
        },
        "tags": []
      },
      "source": [
        "## Standard Models"
      ]
    },
    {
      "cell_type": "markdown",
      "id": "3804711d3506999a",
      "metadata": {},
      "source": [
        ":::{eval-rst}\n",
        ".. autofunction:: sax.models.straight\n",
        ":::\n"
      ]
    },
    {
      "cell_type": "code",
      "execution_count": 4,
      "id": "19c087b0cb3500b3",
      "metadata": {
        "execution": {
          "iopub.execute_input": "2022-08-10T16:02:24.601192Z",
          "iopub.status.busy": "2022-08-10T16:02:24.600749Z",
          "iopub.status.idle": "2022-08-10T16:02:24.601811Z",
          "shell.execute_reply": "2022-08-10T16:02:24.602198Z"
        },
        "papermill": {
          "duration": 0.024132,
          "end_time": "2022-08-10T16:02:24.602312",
          "exception": false,
          "start_time": "2022-08-10T16:02:24.578180",
          "status": "completed"
        },
        "tags": [
          "hide-input"
        ]
      },
      "outputs": [],
      "source": [
        "\n",
        "def straight(\n",
        "    *,\n",
        "    wl: float = 1.55,\n",
        "    wl0: float = 1.55,\n",
        "    neff: float = 2.34,\n",
        "    ng: float = 3.4,\n",
        "    length: float = 10.0,\n",
        "    loss: float = 0.0\n",
        ") -> SDict:\n",
        "    \"\"\"a simple straight waveguide model\"\"\"\n",
        "    dwl = wl - wl0\n",
        "    dneff_dwl = (ng - neff) / wl0\n",
        "    neff = neff - dwl * dneff_dwl\n",
        "    phase = 2 * jnp.pi * neff * length / wl\n",
        "    amplitude = jnp.asarray(10 ** (-loss * length / 20), dtype=complex)\n",
        "    transmission =  amplitude * jnp.exp(1j * phase)\n",
        "    sdict = reciprocal(\n",
        "        {\n",
        "            (\"in0\", \"out0\"): transmission,\n",
        "        }\n",
        "    )\n",
        "    return sdict"
      ]
    },
    {
      "cell_type": "code",
      "execution_count": 5,
      "id": "a99cec57",
      "metadata": {
        "execution": {
          "iopub.execute_input": "2022-08-10T16:02:24.639963Z",
          "iopub.status.busy": "2022-08-10T16:02:24.639509Z",
          "iopub.status.idle": "2022-08-10T16:02:24.706238Z",
          "shell.execute_reply": "2022-08-10T16:02:24.705814Z"
        },
        "papermill": {
          "duration": 0.086701,
          "end_time": "2022-08-10T16:02:24.706366",
          "exception": false,
          "start_time": "2022-08-10T16:02:24.619665",
          "status": "completed"
        },
        "tags": []
      },
      "outputs": [
        {
          "data": {
            "text/plain": [
              "{('in0', 'out0'): 0.82076+0.57127j, ('out0', 'in0'): 0.82076+0.57127j}"
            ]
          },
          "execution_count": 5,
          "metadata": {},
          "output_type": "execute_result"
        }
      ],
      "source": [
        "straight()"
      ]
    },
    {
      "cell_type": "markdown",
      "id": "99aa47987c0edd22",
      "metadata": {},
      "source": [
        ":::{eval-rst}\n",
        ".. autofunction:: sax.models.coupler\n",
        ":::\n"
      ]
    },
    {
      "cell_type": "code",
      "execution_count": 6,
      "id": "a675a2773df8ae62",
      "metadata": {
        "execution": {
          "iopub.execute_input": "2022-08-10T16:02:24.747908Z",
          "iopub.status.busy": "2022-08-10T16:02:24.747361Z",
          "iopub.status.idle": "2022-08-10T16:02:24.750064Z",
          "shell.execute_reply": "2022-08-10T16:02:24.749675Z"
        },
        "papermill": {
          "duration": 0.024809,
          "end_time": "2022-08-10T16:02:24.750175",
          "exception": false,
          "start_time": "2022-08-10T16:02:24.725366",
          "status": "completed"
        },
        "tags": [
          "hide-input"
        ]
      },
      "outputs": [],
      "source": [
        "\n",
        "def coupler(*, coupling: float = 0.5) -> SDict:\n",
        "    \"\"\"a simple coupler model\"\"\"\n",
        "    kappa = coupling ** 0.5\n",
        "    tau = (1 - coupling) ** 0.5\n",
        "    sdict = reciprocal(\n",
        "        {\n",
        "            (\"in0\", \"out0\"): tau,\n",
        "            (\"in0\", \"out1\"): 1j * kappa,\n",
        "            (\"in1\", \"out0\"): 1j * kappa,\n",
        "            (\"in1\", \"out1\"): tau,\n",
        "        }\n",
        "    )\n",
        "    return sdict"
      ]
    },
    {
      "cell_type": "code",
      "execution_count": 7,
      "id": "5fd87a22",
      "metadata": {
        "execution": {
          "iopub.execute_input": "2022-08-10T16:02:24.790010Z",
          "iopub.status.busy": "2022-08-10T16:02:24.789584Z",
          "iopub.status.idle": "2022-08-10T16:02:24.791349Z",
          "shell.execute_reply": "2022-08-10T16:02:24.791712Z"
        },
        "papermill": {
          "duration": 0.02372,
          "end_time": "2022-08-10T16:02:24.791831",
          "exception": false,
          "start_time": "2022-08-10T16:02:24.768111",
          "status": "completed"
        },
        "tags": []
      },
      "outputs": [
        {
          "data": {
            "text/plain": [
              "{('in0', 'out0'): 0.7071067811865476,\n",
              " ('in0', 'out1'): 0.7071067811865476j,\n",
              " ('in1', 'out0'): 0.7071067811865476j,\n",
              " ('in1', 'out1'): 0.7071067811865476,\n",
              " ('out0', 'in0'): 0.7071067811865476,\n",
              " ('out1', 'in0'): 0.7071067811865476j,\n",
              " ('out0', 'in1'): 0.7071067811865476j,\n",
              " ('out1', 'in1'): 0.7071067811865476}"
            ]
          },
          "execution_count": 7,
          "metadata": {},
          "output_type": "execute_result"
        }
      ],
      "source": [
        "coupler()"
      ]
    },
    {
      "cell_type": "markdown",
      "id": "ca06c12f",
      "metadata": {
        "papermill": {
          "duration": 0.018227,
          "end_time": "2022-08-10T16:02:24.827833",
          "exception": false,
          "start_time": "2022-08-10T16:02:24.809606",
          "status": "completed"
        },
        "tags": []
      },
      "source": [
        "## Model Factories"
      ]
    },
    {
      "cell_type": "code",
      "execution_count": 8,
      "id": "2ec6608abf4d37ae",
      "metadata": {
        "execution": {
          "iopub.execute_input": "2022-08-10T16:02:24.870939Z",
          "iopub.status.busy": "2022-08-10T16:02:24.868310Z",
          "iopub.status.idle": "2022-08-10T16:02:24.872638Z",
          "shell.execute_reply": "2022-08-10T16:02:24.872160Z"
        },
        "papermill": {
          "duration": 0.026666,
          "end_time": "2022-08-10T16:02:24.872741",
          "exception": false,
          "start_time": "2022-08-10T16:02:24.846075",
          "status": "completed"
        },
        "tags": [
          "remove-cell"
        ]
      },
      "outputs": [],
      "source": [
        "\n",
        "def _validate_ports(ports, num_inputs, num_outputs, diagonal) -> Tuple[Tuple[str,...], Tuple[str,...], int, int]:\n",
        "    if ports is None:\n",
        "        if num_inputs is None or num_outputs is None:\n",
        "            raise ValueError(\n",
        "                \"if not ports given, you must specify how many input ports \"\n",
        "                \"and how many output ports a model has.\"\n",
        "            )\n",
        "        input_ports = [f\"in{i}\" for i in range(num_inputs)]\n",
        "        output_ports = [f\"out{i}\" for i in range(num_outputs)]\n",
        "    else:\n",
        "        if num_inputs is not None:\n",
        "            if num_outputs is None:\n",
        "                raise ValueError(\n",
        "                    \"if num_inputs is given, num_outputs should be given as well.\"\n",
        "                )\n",
        "        if num_outputs is not None:\n",
        "            if num_inputs is None:\n",
        "                raise ValueError(\n",
        "                    \"if num_outputs is given, num_inputs should be given as well.\"\n",
        "                )\n",
        "        if num_inputs is not None and num_outputs is not None:\n",
        "            if num_inputs + num_outputs != len(ports):\n",
        "                raise ValueError(\"num_inputs + num_outputs != len(ports)\")\n",
        "            input_ports = ports[:num_inputs]\n",
        "            output_ports = ports[num_inputs:]\n",
        "        else:\n",
        "            input_ports, output_ports = get_inputs_outputs(ports)\n",
        "            num_inputs = len(input_ports)\n",
        "            num_outputs = len(output_ports)\n",
        "            \n",
        "    if diagonal:\n",
        "        if num_inputs != num_outputs:\n",
        "            raise ValueError(\n",
        "                \"Can only have a diagonal passthru if number of input ports equals the number of output ports!\"\n",
        "            )\n",
        "    return input_ports, output_ports, num_inputs, num_outputs"
      ]
    },
    {
      "cell_type": "markdown",
      "id": "c92bfbd987d0b11f",
      "metadata": {},
      "source": [
        ":::{eval-rst}\n",
        ".. autofunction:: sax.models.unitary\n",
        ":::\n"
      ]
    },
    {
      "cell_type": "code",
      "execution_count": 9,
      "id": "a0587f2d725e2977",
      "metadata": {
        "execution": {
          "iopub.execute_input": "2022-08-10T16:02:24.920869Z",
          "iopub.status.busy": "2022-08-10T16:02:24.916195Z",
          "iopub.status.idle": "2022-08-10T16:02:24.922528Z",
          "shell.execute_reply": "2022-08-10T16:02:24.922192Z"
        },
        "papermill": {
          "duration": 0.031583,
          "end_time": "2022-08-10T16:02:24.922620",
          "exception": false,
          "start_time": "2022-08-10T16:02:24.891037",
          "status": "completed"
        },
        "tags": [
          "hide-input"
        ]
      },
      "outputs": [],
      "source": [
        "\n",
        "@cache\n",
        "def unitary(\n",
        "    num_inputs: Optional[int] = None,\n",
        "    num_outputs: Optional[int] = None,\n",
        "    ports: Optional[Tuple[str, ...]] = None,\n",
        "    *,\n",
        "    jit=True,\n",
        "    reciprocal=True,\n",
        "    diagonal=False,\n",
        ") -> Model:\n",
        "    input_ports, output_ports, num_inputs, num_outputs = _validate_ports(ports, num_inputs, num_outputs, diagonal)\n",
        "    assert num_inputs is not None and num_outputs is not None\n",
        "    \n",
        "    # let's create the squared S-matrix:\n",
        "    N = max(num_inputs, num_outputs)\n",
        "    S = jnp.zeros((2*N, 2*N), dtype=float)\n",
        "\n",
        "    if not diagonal:\n",
        "        if JAX_AVAILABLE:\n",
        "            S = S.at[:N, N:].set(1)\n",
        "        else:\n",
        "            S[:N, N:] = 1\n",
        "    else:\n",
        "        r = jnp.arange(N, dtype=int) # reciprocal only works if num_inputs == num_outputs!\n",
        "        if JAX_AVAILABLE:\n",
        "            S = S.at[r, N+r].set(1)\n",
        "        else:\n",
        "            S[r, N+r] = 1\n",
        "\n",
        "    if reciprocal:\n",
        "        if not diagonal:\n",
        "            if JAX_AVAILABLE:\n",
        "                S = S.at[N:, :N].set(1)\n",
        "            else:\n",
        "                S[N:, :N] = 1\n",
        "        else:\n",
        "            r = jnp.arange(N, dtype=int) # reciprocal only works if num_inputs == num_outputs!\n",
        "            if JAX_AVAILABLE:\n",
        "                S = S.at[N+r, r].set(1)\n",
        "            else:\n",
        "                S[N+r, r] = 1\n",
        "\n",
        "    # Now we need to normalize the squared S-matrix\n",
        "    U, s, V = jnp.linalg.svd(S, full_matrices=False)\n",
        "    S = jnp.sqrt(U@jnp.diag(jnp.where(s > 1e-12, 1, 0))@V)\n",
        "    \n",
        "    # Now create subset of this matrix we're interested in:\n",
        "    r = jnp.concatenate([jnp.arange(num_inputs, dtype=int), N+jnp.arange(num_outputs, dtype=int)], 0)\n",
        "    S = S[r, :][:, r]\n",
        "\n",
        "    # let's convert it in SCOO format:\n",
        "    Si, Sj = jnp.where(S > 1e-6)\n",
        "    Sx = S[Si, Sj]\n",
        "    \n",
        "    # the last missing piece is a port map:\n",
        "    pm = {\n",
        "        **{p: i for i, p in enumerate(input_ports)},\n",
        "        **{p: i + num_inputs for i, p in enumerate(output_ports)},\n",
        "    }\n",
        "    \n",
        "    def func(wl: float = 1.5) -> SCoo:\n",
        "        wl_ = jnp.asarray(wl)\n",
        "        Sx_ = jnp.broadcast_to(Sx, (*wl_.shape, *Sx.shape))\n",
        "        return Si, Sj, Sx_, pm\n",
        "\n",
        "    func.__name__ = f\"unitary_{num_inputs}_{num_outputs}\"\n",
        "    func.__qualname__ = f\"unitary_{num_inputs}_{num_outputs}\"\n",
        "    if jit:\n",
        "        return jax.jit(func)\n",
        "    return func"
      ]
    },
    {
      "cell_type": "markdown",
      "id": "327febf2-70d5-48ed-8b39-bac2d9727db5",
      "metadata": {
        "papermill": {
          "duration": 0.017818,
          "end_time": "2022-08-10T16:02:24.958162",
          "exception": false,
          "start_time": "2022-08-10T16:02:24.940344",
          "status": "completed"
        },
        "tags": []
      },
      "source": [
        "A unitary model returns an `SCoo` by default:"
      ]
    },
    {
      "cell_type": "code",
      "execution_count": 10,
      "id": "e95bacdd",
      "metadata": {
        "execution": {
          "iopub.execute_input": "2022-08-10T16:02:25.001596Z",
          "iopub.status.busy": "2022-08-10T16:02:25.001177Z",
          "iopub.status.idle": "2022-08-10T16:02:25.765712Z",
          "shell.execute_reply": "2022-08-10T16:02:25.766132Z"
        },
        "papermill": {
          "duration": 0.790139,
          "end_time": "2022-08-10T16:02:25.766270",
          "exception": false,
          "start_time": "2022-08-10T16:02:24.976131",
          "status": "completed"
        },
        "tags": []
      },
      "outputs": [
        {
          "data": {
            "text/plain": [
              "(array([0, 0, 0, 1, 1, 1, 2, 2, 3, 3, 3]),\n",
              " array([0, 2, 3, 1, 2, 3, 0, 1, 0, 1, 3]),\n",
              " array([4.9899322e-01, 9.6622550e-01, 2.5769794e-01, 4.9899328e-01,\n",
              "        2.5769794e-01, 9.6622562e-01, 7.0710677e-01, 7.0710677e-01,\n",
              "        7.0710677e-01, 7.0710677e-01, 2.3246315e-04]),\n",
              " {'in0': array(0), 'in1': array(1), 'out0': array(2), 'out1': array(3)})"
            ]
          },
          "execution_count": 10,
          "metadata": {},
          "output_type": "execute_result"
        }
      ],
      "source": [
        "unitary_model = unitary(2, 2)\n",
        "unitary_model() # a unitary model returns an SCoo by default"
      ]
    },
    {
      "cell_type": "markdown",
      "id": "01ff2567-9b0e-4686-acb4-47cfb11b06ce",
      "metadata": {
        "papermill": {
          "duration": 0.018459,
          "end_time": "2022-08-10T16:02:25.803322",
          "exception": false,
          "start_time": "2022-08-10T16:02:25.784863",
          "status": "completed"
        },
        "tags": []
      },
      "source": [
        "As you probably already know, it's very easy to convert a model returning any `Stype` into a model returning an `SDict` as follows:"
      ]
    },
    {
      "cell_type": "code",
      "execution_count": 11,
      "id": "260dda8c-7e44-4f3f-b96c-e742daaf2885",
      "metadata": {
        "execution": {
          "iopub.execute_input": "2022-08-10T16:02:25.857768Z",
          "iopub.status.busy": "2022-08-10T16:02:25.848750Z",
          "iopub.status.idle": "2022-08-10T16:02:25.926909Z",
          "shell.execute_reply": "2022-08-10T16:02:25.926541Z"
        },
        "papermill": {
          "duration": 0.105143,
          "end_time": "2022-08-10T16:02:25.927020",
          "exception": false,
          "start_time": "2022-08-10T16:02:25.821877",
          "status": "completed"
        },
        "tags": []
      },
      "outputs": [
        {
          "data": {
            "text/plain": [
              "{('in0', 'in0'): 0.49899,\n",
              " ('in0', 'out0'): 0.96623,\n",
              " ('in0', 'out1'): 0.2577,\n",
              " ('in1', 'in1'): 0.49899,\n",
              " ('in1', 'out0'): 0.2577,\n",
              " ('in1', 'out1'): 0.96623,\n",
              " ('out0', 'in0'): 0.70711,\n",
              " ('out0', 'in1'): 0.70711,\n",
              " ('out1', 'in0'): 0.70711,\n",
              " ('out1', 'in1'): 0.70711,\n",
              " ('out1', 'out1'): 0.00023}"
            ]
          },
          "execution_count": 11,
          "metadata": {},
          "output_type": "execute_result"
        }
      ],
      "source": [
        "unitary_sdict_model = sax.sdict(unitary_model)\n",
        "unitary_sdict_model()"
      ]
    },
    {
      "cell_type": "markdown",
      "id": "e9a1a46b-b10a-471b-b835-7b6d8d49175a",
      "metadata": {
        "papermill": {
          "duration": 0.01964,
          "end_time": "2022-08-10T16:02:25.965779",
          "exception": false,
          "start_time": "2022-08-10T16:02:25.946139",
          "status": "completed"
        },
        "tags": []
      },
      "source": [
        "If we need custom port names, we can also just specify them explicitly:"
      ]
    },
    {
      "cell_type": "code",
      "execution_count": 12,
      "id": "66abe9b0",
      "metadata": {
        "execution": {
          "iopub.execute_input": "2022-08-10T16:02:26.009111Z",
          "iopub.status.busy": "2022-08-10T16:02:26.008600Z",
          "iopub.status.idle": "2022-08-10T16:02:26.022282Z",
          "shell.execute_reply": "2022-08-10T16:02:26.022616Z"
        },
        "papermill": {
          "duration": 0.037977,
          "end_time": "2022-08-10T16:02:26.022740",
          "exception": false,
          "start_time": "2022-08-10T16:02:25.984763",
          "status": "completed"
        },
        "tags": []
      },
      "outputs": [
        {
          "data": {
            "text/plain": [
              "(array([0, 0, 0, 1, 1, 1, 2, 2, 3, 3, 3]),\n",
              " array([0, 2, 3, 1, 2, 3, 0, 1, 0, 1, 3]),\n",
              " array([4.9899322e-01, 9.6622550e-01, 2.5769794e-01, 4.9899328e-01,\n",
              "        2.5769794e-01, 9.6622562e-01, 7.0710677e-01, 7.0710677e-01,\n",
              "        7.0710677e-01, 7.0710677e-01, 2.3246315e-04]),\n",
              " {'in0': array(0), 'in1': array(1), 'out0': array(2), 'out1': array(3)})"
            ]
          },
          "execution_count": 12,
          "metadata": {},
          "output_type": "execute_result"
        }
      ],
      "source": [
        "unitary_model = unitary(ports=(\"in0\", \"in1\", \"out0\", \"out1\"))\n",
        "unitary_model()"
      ]
    },
    {
      "cell_type": "markdown",
      "id": "ebf14c1c-ccfb-44e6-8572-18b366ffab91",
      "metadata": {
        "papermill": {
          "duration": 0.019079,
          "end_time": "2022-08-10T16:02:26.060937",
          "exception": false,
          "start_time": "2022-08-10T16:02:26.041858",
          "status": "completed"
        },
        "tags": []
      },
      "source": [
        "A unitary model will by default split a signal at an input port equally over all output ports. However, if there are an equal number of input ports as output ports we can in stead create a passthru by setting the `diagonal` flag to `True`:"
      ]
    },
    {
      "cell_type": "code",
      "execution_count": 13,
      "id": "7c1d61a3",
      "metadata": {
        "execution": {
          "iopub.execute_input": "2022-08-10T16:02:26.104011Z",
          "iopub.status.busy": "2022-08-10T16:02:26.103537Z",
          "iopub.status.idle": "2022-08-10T16:02:26.392040Z",
          "shell.execute_reply": "2022-08-10T16:02:26.392405Z"
        },
        "papermill": {
          "duration": 0.312516,
          "end_time": "2022-08-10T16:02:26.392569",
          "exception": false,
          "start_time": "2022-08-10T16:02:26.080053",
          "status": "completed"
        },
        "tags": []
      },
      "outputs": [
        {
          "data": {
            "text/plain": [
              "{('in0', 'out0'): 1.0,\n",
              " ('in1', 'out1'): 1.0,\n",
              " ('out0', 'in0'): 1.0,\n",
              " ('out1', 'in1'): 1.0}"
            ]
          },
          "execution_count": 13,
          "metadata": {},
          "output_type": "execute_result"
        }
      ],
      "source": [
        "passthru_model = unitary(2, 2, diagonal=True)\n",
        "sax.sdict(passthru_model())"
      ]
    },
    {
      "cell_type": "code",
      "execution_count": 14,
      "id": "7f93b145",
      "metadata": {
        "execution": {
          "iopub.execute_input": "2022-08-10T16:02:26.440673Z",
          "iopub.status.busy": "2022-08-10T16:02:26.440226Z",
          "iopub.status.idle": "2022-08-10T16:02:27.301683Z",
          "shell.execute_reply": "2022-08-10T16:02:27.301997Z"
        },
        "papermill": {
          "duration": 0.887723,
          "end_time": "2022-08-10T16:02:27.302145",
          "exception": false,
          "start_time": "2022-08-10T16:02:26.414422",
          "status": "completed"
        },
        "tags": []
      },
      "outputs": [
        {
          "data": {
            "text/plain": [
              "{('in0', 'in0'): 0.89409,\n",
              " ('in0', 'out0'): 0.44721,\n",
              " ('in0', 'out1'): 0.44721,\n",
              " ('in0', 'out2'): 0.44721,\n",
              " ('in0', 'out3'): 0.44721,\n",
              " ('in0', 'out4'): 0.44721,\n",
              " ('out0', 'in0'): 0.45508,\n",
              " ('out0', 'out0'): 7.339056901400909e-05,\n",
              " ('out0', 'out1'): 7.339056901400909e-05,\n",
              " ('out0', 'out2'): 7.339056901400909e-05,\n",
              " ('out0', 'out3'): 7.339056901400909e-05,\n",
              " ('out0', 'out4'): 7.339056901400909e-05,\n",
              " ('out1', 'in0'): 0.45508,\n",
              " ('out1', 'out0'): 7.339056901400909e-05,\n",
              " ('out1', 'out1'): 7.339056901400909e-05,\n",
              " ('out1', 'out2'): 7.339056901400909e-05,\n",
              " ('out1', 'out3'): 7.339056901400909e-05,\n",
              " ('out1', 'out4'): 7.339056901400909e-05,\n",
              " ('out2', 'in0'): 0.45508,\n",
              " ('out2', 'out0'): 7.339056901400909e-05,\n",
              " ('out2', 'out1'): 7.339056901400909e-05,\n",
              " ('out2', 'out2'): 7.339056901400909e-05,\n",
              " ('out2', 'out3'): 7.339056901400909e-05,\n",
              " ('out2', 'out4'): 7.339056901400909e-05,\n",
              " ('out3', 'in0'): 0.45508,\n",
              " ('out3', 'out0'): 7.339056901400909e-05,\n",
              " ('out3', 'out1'): 7.339056901400909e-05,\n",
              " ('out3', 'out2'): 7.339056901400909e-05,\n",
              " ('out3', 'out3'): 7.339056901400909e-05,\n",
              " ('out3', 'out4'): 7.339056901400909e-05,\n",
              " ('out4', 'in0'): 0.41426,\n",
              " ('out4', 'out0'): 0.00012,\n",
              " ('out4', 'out1'): 0.00012,\n",
              " ('out4', 'out2'): 0.00012,\n",
              " ('out4', 'out3'): 0.00012,\n",
              " ('out4', 'out4'): 0.00012}"
            ]
          },
          "execution_count": 14,
          "metadata": {},
          "output_type": "execute_result"
        }
      ],
      "source": [
        "ports_in=['in0']\n",
        "ports_out=['out0', 'out1', 'out2', 'out3', 'out4']\n",
        "model = unitary(\n",
        "    ports=tuple(ports_in+ports_out), jit=True, reciprocal=True\n",
        ")\n",
        "model = sax.sdict(model)\n",
        "model()"
      ]
    },
    {
      "cell_type": "markdown",
      "id": "8b149d44-5487-4e50-a2f2-1ad0aca99dac",
      "metadata": {
        "papermill": {
          "duration": 0.019817,
          "end_time": "2022-08-10T16:02:27.341957",
          "exception": false,
          "start_time": "2022-08-10T16:02:27.322140",
          "status": "completed"
        },
        "tags": []
      },
      "source": [
        "Because this is a pretty common usecase we have a dedicated model factory for this as well. This passthru component just takes the number of links (`'in{i}' -> 'out{i]'`) as input. Alternatively, as before, one can also specify the port names directly but one needs to ensure that `len(ports) == 2*num_links`."
      ]
    },
    {
      "cell_type": "markdown",
      "id": "bc7fe43a14333ffc",
      "metadata": {},
      "source": [
        ":::{eval-rst}\n",
        ".. autofunction:: sax.models.passthru\n",
        ":::\n"
      ]
    },
    {
      "cell_type": "code",
      "execution_count": 15,
      "id": "f2ce4125f14dbde0",
      "metadata": {
        "execution": {
          "iopub.execute_input": "2022-08-10T16:02:27.386852Z",
          "iopub.status.busy": "2022-08-10T16:02:27.386209Z",
          "iopub.status.idle": "2022-08-10T16:02:27.387452Z",
          "shell.execute_reply": "2022-08-10T16:02:27.387867Z"
        },
        "papermill": {
          "duration": 0.026211,
          "end_time": "2022-08-10T16:02:27.387987",
          "exception": false,
          "start_time": "2022-08-10T16:02:27.361776",
          "status": "completed"
        },
        "tags": [
          "hide-input"
        ]
      },
      "outputs": [],
      "source": [
        "@cache\n",
        "def passthru(\n",
        "    num_links: Optional[int] = None,\n",
        "    ports: Optional[Tuple[str, ...]] = None,\n",
        "    *,\n",
        "    jit=True,\n",
        "    reciprocal=True,\n",
        ") -> Model:\n",
        "    passthru = unitary(num_links, num_links, ports, jit=jit, reciprocal=reciprocal, diagonal=True)\n",
        "    passthru.__name__ = f\"passthru_{num_links}_{num_links}\"\n",
        "    passthru.__qualname__ = f\"passthru_{num_links}_{num_links}\"\n",
        "    if jit:\n",
        "        return jax.jit(passthru)\n",
        "    return passthru"
      ]
    },
    {
      "cell_type": "code",
      "execution_count": 16,
      "id": "9e8b6cd7-56d4-4697-9a6e-33c929f3d853",
      "metadata": {
        "execution": {
          "iopub.execute_input": "2022-08-10T16:02:27.435653Z",
          "iopub.status.busy": "2022-08-10T16:02:27.434772Z",
          "iopub.status.idle": "2022-08-10T16:02:27.963843Z",
          "shell.execute_reply": "2022-08-10T16:02:27.963365Z"
        },
        "papermill": {
          "duration": 0.556357,
          "end_time": "2022-08-10T16:02:27.963962",
          "exception": false,
          "start_time": "2022-08-10T16:02:27.407605",
          "status": "completed"
        },
        "tags": []
      },
      "outputs": [
        {
          "data": {
            "text/plain": [
              "{('in0', 'out0'): 1.0,\n",
              " ('in1', 'out1'): 1.0,\n",
              " ('in2', 'out2'): 1.0,\n",
              " ('out0', 'in0'): 1.0,\n",
              " ('out1', 'in1'): 1.0,\n",
              " ('out2', 'in2'): 1.0}"
            ]
          },
          "execution_count": 16,
          "metadata": {},
          "output_type": "execute_result"
        }
      ],
      "source": [
        "passthru_model = passthru(3)\n",
        "passthru_sdict_model = sax.sdict(passthru_model)\n",
        "passthru_sdict_model()"
      ]
    },
    {
      "cell_type": "code",
      "execution_count": 17,
      "id": "690e718c-2d84-4177-b8ad-ff39cf8c4691",
      "metadata": {
        "execution": {
          "iopub.execute_input": "2022-08-10T16:02:28.011074Z",
          "iopub.status.busy": "2022-08-10T16:02:28.009440Z",
          "iopub.status.idle": "2022-08-10T16:02:29.609310Z",
          "shell.execute_reply": "2022-08-10T16:02:29.609623Z"
        },
        "papermill": {
          "duration": 1.625241,
          "end_time": "2022-08-10T16:02:29.609768",
          "exception": false,
          "start_time": "2022-08-10T16:02:27.984527",
          "status": "completed"
        },
        "tags": []
      },
      "outputs": [
        {
          "data": {
            "text/plain": [
              "{('in0', 'in0'): 0.49904,\n",
              " ('out0', 'out0'): 0.49904,\n",
              " ('out0', 'in0'): 0.86544,\n",
              " ('in0', 'out0'): 0.86544}"
            ]
          },
          "execution_count": 17,
          "metadata": {},
          "output_type": "execute_result"
        }
      ],
      "source": [
        "mzi = sax.circuit(\n",
        "    instances={\n",
        "        \"lft\": unitary(1, 2),\n",
        "        \"top\": unitary(1, 1),\n",
        "        \"rgt\": unitary(1, 2),\n",
        "    },\n",
        "    connections={\n",
        "        \"lft,out0\": \"rgt,out0\",\n",
        "        \"lft,out1\": \"top,in0\",\n",
        "        \"top,out0\": \"rgt,out1\",\n",
        "    },\n",
        "    ports = {\n",
        "        \"in0\": \"lft,in0\",\n",
        "        \"out0\": \"rgt,in0\",\n",
        "    }\n",
        ")\n",
        "mzi()"
      ]
    },
    {
      "cell_type": "markdown",
      "id": "e4166e66744d6d21",
      "metadata": {},
      "source": [
        ":::{eval-rst}\n",
        ".. autofunction:: sax.models.copier\n",
        ":::\n"
      ]
    },
    {
      "cell_type": "code",
      "execution_count": 18,
      "id": "2667889b41e470fc",
      "metadata": {
        "execution": {
          "iopub.execute_input": "2022-08-10T16:02:29.662483Z",
          "iopub.status.busy": "2022-08-10T16:02:29.654350Z",
          "iopub.status.idle": "2022-08-10T16:02:29.663856Z",
          "shell.execute_reply": "2022-08-10T16:02:29.664222Z"
        },
        "papermill": {
          "duration": 0.033547,
          "end_time": "2022-08-10T16:02:29.664351",
          "exception": false,
          "start_time": "2022-08-10T16:02:29.630804",
          "status": "completed"
        },
        "tags": [
          "hide-input"
        ]
      },
      "outputs": [],
      "source": [
        "\n",
        "@cache\n",
        "def copier(\n",
        "    num_inputs: Optional[int] = None,\n",
        "    num_outputs: Optional[int] = None,\n",
        "    ports: Optional[Tuple[str, ...]] = None,\n",
        "    *,\n",
        "    jit=True,\n",
        "    reciprocal=True,\n",
        "    diagonal=False,\n",
        ") -> Model:\n",
        "        \n",
        "    input_ports, output_ports, num_inputs, num_outputs = _validate_ports(ports, num_inputs, num_outputs, diagonal)\n",
        "    assert num_inputs is not None and num_outputs is not None\n",
        "    \n",
        "    # let's create the squared S-matrix:\n",
        "    S = jnp.zeros((num_inputs+num_outputs, num_inputs+num_outputs), dtype=float)\n",
        "\n",
        "    if not diagonal:\n",
        "        if JAX_AVAILABLE:\n",
        "            S = S.at[:num_inputs, num_inputs:].set(1)\n",
        "        else:\n",
        "            S[:num_inputs, num_inputs:] = 1\n",
        "    else:\n",
        "        r = jnp.arange(num_inputs, dtype=int) # == range(num_outputs) # reciprocal only works if num_inputs == num_outputs!\n",
        "        if JAX_AVAILABLE:\n",
        "            S = S.at[r, num_inputs+r].set(1)\n",
        "        else:\n",
        "            S[r, num_inputs+r] = 1\n",
        "\n",
        "    if reciprocal:\n",
        "        if not diagonal:\n",
        "            if JAX_AVAILABLE:\n",
        "                S = S.at[num_inputs:, :num_inputs].set(1)\n",
        "            else:\n",
        "                S[num_inputs:, :num_inputs] = 1\n",
        "        else:\n",
        "            r = jnp.arange(num_inputs, dtype=int) # == range(num_outputs) # reciprocal only works if num_inputs == num_outputs!\n",
        "            if JAX_AVAILABLE:\n",
        "                S = S.at[num_inputs+r, r].set(1)\n",
        "            else:\n",
        "                S[num_inputs+r, r] = 1\n",
        "\n",
        "    # let's convert it in SCOO format:\n",
        "    Si, Sj = jnp.where(S > 1e-6)\n",
        "    Sx = S[Si, Sj]\n",
        "    \n",
        "    # the last missing piece is a port map:\n",
        "    pm = {\n",
        "        **{p: i for i, p in enumerate(input_ports)},\n",
        "        **{p: i + num_inputs for i, p in enumerate(output_ports)},\n",
        "    }\n",
        "    \n",
        "    def func(wl: float = 1.5) -> SCoo:\n",
        "        wl_ = jnp.asarray(wl)\n",
        "        Sx_ = jnp.broadcast_to(Sx, (*wl_.shape, *Sx.shape))\n",
        "        return Si, Sj, Sx_, pm\n",
        "\n",
        "    func.__name__ = f\"unitary_{num_inputs}_{num_outputs}\"\n",
        "    func.__qualname__ = f\"unitary_{num_inputs}_{num_outputs}\"\n",
        "    if jit:\n",
        "        return jax.jit(func)\n",
        "    return func"
      ]
    },
    {
      "cell_type": "markdown",
      "id": "77014d0f-1a08-4b4b-a011-cf11cd9684b8",
      "metadata": {
        "papermill": {
          "duration": 0.020675,
          "end_time": "2022-08-10T16:02:29.705630",
          "exception": false,
          "start_time": "2022-08-10T16:02:29.684955",
          "status": "completed"
        },
        "tags": []
      },
      "source": [
        "A copier model is like a unitary model, but copies the input signal over all output signals. Hence, if the model has multiple output ports, this model can be considered to introduce gain. That said, it can sometimes be a useful component."
      ]
    },
    {
      "cell_type": "code",
      "execution_count": 19,
      "id": "c2a61a9f-51ea-455f-a66f-94719b43520e",
      "metadata": {
        "execution": {
          "iopub.execute_input": "2022-08-10T16:02:29.751632Z",
          "iopub.status.busy": "2022-08-10T16:02:29.751016Z",
          "iopub.status.idle": "2022-08-10T16:02:29.991712Z",
          "shell.execute_reply": "2022-08-10T16:02:29.992039Z"
        },
        "papermill": {
          "duration": 0.266018,
          "end_time": "2022-08-10T16:02:29.992189",
          "exception": false,
          "start_time": "2022-08-10T16:02:29.726171",
          "status": "completed"
        },
        "tags": []
      },
      "outputs": [
        {
          "data": {
            "text/plain": [
              "(array([0, 0, 1, 1, 2, 2, 3, 3]),\n",
              " array([2, 3, 2, 3, 0, 1, 0, 1]),\n",
              " array([1., 1., 1., 1., 1., 1., 1., 1.]),\n",
              " {'in0': array(0), 'in1': array(1), 'out0': array(2), 'out1': array(3)})"
            ]
          },
          "execution_count": 19,
          "metadata": {},
          "output_type": "execute_result"
        }
      ],
      "source": [
        "copier_model = copier(2, 2)\n",
        "copier_model() # a copier model returns an SCoo by default"
      ]
    },
    {
      "cell_type": "markdown",
      "id": "fbd51c6c-c059-4717-9dae-447becc7e8d5",
      "metadata": {
        "papermill": {
          "duration": 0.021328,
          "end_time": "2022-08-10T16:02:30.034989",
          "exception": false,
          "start_time": "2022-08-10T16:02:30.013661",
          "status": "completed"
        },
        "tags": []
      },
      "source": [
        "As you probably already know, it's very easy to convert a model returning any `Stype` into a model returning an `SDict` as follows:"
      ]
    },
    {
      "cell_type": "code",
      "execution_count": 20,
      "id": "becda099-b5d9-494c-a6b2-9828be10c4a5",
      "metadata": {
        "execution": {
          "iopub.execute_input": "2022-08-10T16:02:30.094324Z",
          "iopub.status.busy": "2022-08-10T16:02:30.091520Z",
          "iopub.status.idle": "2022-08-10T16:02:30.135033Z",
          "shell.execute_reply": "2022-08-10T16:02:30.135351Z"
        },
        "papermill": {
          "duration": 0.079494,
          "end_time": "2022-08-10T16:02:30.135498",
          "exception": false,
          "start_time": "2022-08-10T16:02:30.056004",
          "status": "completed"
        },
        "tags": []
      },
      "outputs": [
        {
          "data": {
            "text/plain": [
              "{('in0', 'out0'): 1.0,\n",
              " ('in0', 'out1'): 1.0,\n",
              " ('in1', 'out0'): 1.0,\n",
              " ('in1', 'out1'): 1.0,\n",
              " ('out0', 'in0'): 1.0,\n",
              " ('out0', 'in1'): 1.0,\n",
              " ('out1', 'in0'): 1.0,\n",
              " ('out1', 'in1'): 1.0}"
            ]
          },
          "execution_count": 20,
          "metadata": {},
          "output_type": "execute_result"
        }
      ],
      "source": [
        "copier_sdict_model = sax.sdict(copier_model)\n",
        "copier_sdict_model()"
      ]
    },
    {
      "cell_type": "markdown",
      "id": "1ad16d1b-f685-4ab9-a8c4-41efbbdae4fa",
      "metadata": {
        "papermill": {
          "duration": 0.02182,
          "end_time": "2022-08-10T16:02:30.179097",
          "exception": false,
          "start_time": "2022-08-10T16:02:30.157277",
          "status": "completed"
        },
        "tags": []
      },
      "source": [
        "If we need custom port names, we can also just specify them explicitly:"
      ]
    },
    {
      "cell_type": "code",
      "execution_count": 21,
      "id": "297d1e45-b881-440b-b887-b38c5517596e",
      "metadata": {
        "execution": {
          "iopub.execute_input": "2022-08-10T16:02:30.227981Z",
          "iopub.status.busy": "2022-08-10T16:02:30.227491Z",
          "iopub.status.idle": "2022-08-10T16:02:30.239507Z",
          "shell.execute_reply": "2022-08-10T16:02:30.239156Z"
        },
        "papermill": {
          "duration": 0.038995,
          "end_time": "2022-08-10T16:02:30.239619",
          "exception": false,
          "start_time": "2022-08-10T16:02:30.200624",
          "status": "completed"
        },
        "tags": []
      },
      "outputs": [
        {
          "data": {
            "text/plain": [
              "(array([0, 0, 1, 1, 2, 2, 3, 3]),\n",
              " array([2, 3, 2, 3, 0, 1, 0, 1]),\n",
              " array([1., 1., 1., 1., 1., 1., 1., 1.]),\n",
              " {'in0': array(0), 'in1': array(1), 'out0': array(2), 'out1': array(3)})"
            ]
          },
          "execution_count": 21,
          "metadata": {},
          "output_type": "execute_result"
        }
      ],
      "source": [
        "copier_model = copier(ports=(\"in0\", \"in1\", \"out0\", \"out1\"))\n",
        "copier_model()"
      ]
    },
    {
      "cell_type": "code",
      "execution_count": 22,
      "id": "608d7114-03ac-4f5f-9790-cf65379d81dd",
      "metadata": {
        "execution": {
          "iopub.execute_input": "2022-08-10T16:02:30.289179Z",
          "iopub.status.busy": "2022-08-10T16:02:30.288748Z",
          "iopub.status.idle": "2022-08-10T16:02:30.320010Z",
          "shell.execute_reply": "2022-08-10T16:02:30.320369Z"
        },
        "papermill": {
          "duration": 0.058763,
          "end_time": "2022-08-10T16:02:30.320520",
          "exception": false,
          "start_time": "2022-08-10T16:02:30.261757",
          "status": "completed"
        },
        "tags": []
      },
      "outputs": [
        {
          "data": {
            "text/plain": [
              "{('in0', 'in0'): 0.89409,\n",
              " ('in0', 'out0'): 0.44721,\n",
              " ('in0', 'out1'): 0.44721,\n",
              " ('in0', 'out2'): 0.44721,\n",
              " ('in0', 'out3'): 0.44721,\n",
              " ('in0', 'out4'): 0.44721,\n",
              " ('out0', 'in0'): 0.45508,\n",
              " ('out0', 'out0'): 7.339056901400909e-05,\n",
              " ('out0', 'out1'): 7.339056901400909e-05,\n",
              " ('out0', 'out2'): 7.339056901400909e-05,\n",
              " ('out0', 'out3'): 7.339056901400909e-05,\n",
              " ('out0', 'out4'): 7.339056901400909e-05,\n",
              " ('out1', 'in0'): 0.45508,\n",
              " ('out1', 'out0'): 7.339056901400909e-05,\n",
              " ('out1', 'out1'): 7.339056901400909e-05,\n",
              " ('out1', 'out2'): 7.339056901400909e-05,\n",
              " ('out1', 'out3'): 7.339056901400909e-05,\n",
              " ('out1', 'out4'): 7.339056901400909e-05,\n",
              " ('out2', 'in0'): 0.45508,\n",
              " ('out2', 'out0'): 7.339056901400909e-05,\n",
              " ('out2', 'out1'): 7.339056901400909e-05,\n",
              " ('out2', 'out2'): 7.339056901400909e-05,\n",
              " ('out2', 'out3'): 7.339056901400909e-05,\n",
              " ('out2', 'out4'): 7.339056901400909e-05,\n",
              " ('out3', 'in0'): 0.45508,\n",
              " ('out3', 'out0'): 7.339056901400909e-05,\n",
              " ('out3', 'out1'): 7.339056901400909e-05,\n",
              " ('out3', 'out2'): 7.339056901400909e-05,\n",
              " ('out3', 'out3'): 7.339056901400909e-05,\n",
              " ('out3', 'out4'): 7.339056901400909e-05,\n",
              " ('out4', 'in0'): 0.41426,\n",
              " ('out4', 'out0'): 0.00012,\n",
              " ('out4', 'out1'): 0.00012,\n",
              " ('out4', 'out2'): 0.00012,\n",
              " ('out4', 'out3'): 0.00012,\n",
              " ('out4', 'out4'): 0.00012}"
            ]
          },
          "execution_count": 22,
          "metadata": {},
          "output_type": "execute_result"
        }
      ],
      "source": [
        "ports_in=['in0']\n",
        "ports_out=['out0', 'out1', 'out2', 'out3', 'out4']\n",
        "model = unitary(\n",
        "    ports=tuple(ports_in+ports_out), jit=True, reciprocal=True\n",
        ")\n",
        "model = sax.sdict(model)\n",
        "model()"
      ]
    },
    {
      "cell_type": "markdown",
      "id": "6d024e5b-95a9-44e5-9dbc-4980249e73a7",
      "metadata": {
        "papermill": {
          "duration": 0.021988,
          "end_time": "2022-08-10T16:02:30.364657",
          "exception": false,
          "start_time": "2022-08-10T16:02:30.342669",
          "status": "completed"
        },
        "tags": []
      },
      "source": [
        "Because this is a pretty common usecase we have a dedicated model factory for this as well. This passthru component just takes the number of links (`'in{i}' -> 'out{i]'`) as input. Alternatively, as before, one can also specify the port names directly but one needs to ensure that `len(ports) == 2*num_links`."
      ]
    },
    {
      "cell_type": "markdown",
      "id": "8f5c2775cd570ade",
      "metadata": {},
      "source": [
        ":::{eval-rst}\n",
        ".. autofunction:: sax.models.passthru\n",
        ":::\n"
      ]
    },
    {
      "cell_type": "code",
      "execution_count": 23,
      "id": "230f329672adbed2",
      "metadata": {
        "execution": {
          "iopub.execute_input": "2022-08-10T16:02:30.414296Z",
          "iopub.status.busy": "2022-08-10T16:02:30.413829Z",
          "iopub.status.idle": "2022-08-10T16:02:30.416439Z",
          "shell.execute_reply": "2022-08-10T16:02:30.416773Z"
        },
        "papermill": {
          "duration": 0.030217,
          "end_time": "2022-08-10T16:02:30.416906",
          "exception": false,
          "start_time": "2022-08-10T16:02:30.386689",
          "status": "completed"
        },
        "tags": [
          "hide-input"
        ]
      },
      "outputs": [],
      "source": [
        "@cache\n",
        "def passthru(\n",
        "    num_links: Optional[int] = None,\n",
        "    ports: Optional[Tuple[str, ...]] = None,\n",
        "    *,\n",
        "    jit=True,\n",
        "    reciprocal=True,\n",
        ") -> Model:\n",
        "    passthru = unitary(num_links, num_links, ports, jit=jit, reciprocal=reciprocal, diagonal=True)\n",
        "    passthru.__name__ = f\"passthru_{num_links}_{num_links}\"\n",
        "    passthru.__qualname__ = f\"passthru_{num_links}_{num_links}\"\n",
        "    if jit:\n",
        "        return jax.jit(passthru)\n",
        "    return passthru"
      ]
    },
    {
      "cell_type": "code",
      "execution_count": 24,
      "id": "4a063810-224b-446c-a59d-12a20b56e82e",
      "metadata": {
        "execution": {
          "iopub.execute_input": "2022-08-10T16:02:30.465284Z",
          "iopub.status.busy": "2022-08-10T16:02:30.464850Z",
          "iopub.status.idle": "2022-08-10T16:02:30.473245Z",
          "shell.execute_reply": "2022-08-10T16:02:30.472876Z"
        },
        "papermill": {
          "duration": 0.034548,
          "end_time": "2022-08-10T16:02:30.473347",
          "exception": false,
          "start_time": "2022-08-10T16:02:30.438799",
          "status": "completed"
        },
        "tags": []
      },
      "outputs": [
        {
          "data": {
            "text/plain": [
              "{('in0', 'out0'): 1.0,\n",
              " ('in1', 'out1'): 1.0,\n",
              " ('in2', 'out2'): 1.0,\n",
              " ('out0', 'in0'): 1.0,\n",
              " ('out1', 'in1'): 1.0,\n",
              " ('out2', 'in2'): 1.0}"
            ]
          },
          "execution_count": 24,
          "metadata": {},
          "output_type": "execute_result"
        }
      ],
      "source": [
        "passthru_model = passthru(3)\n",
        "passthru_sdict_model = sax.sdict(passthru_model)\n",
        "passthru_sdict_model()"
      ]
    },
    {
      "cell_type": "code",
      "execution_count": 25,
      "id": "9b2be9a8-1b06-4b60-ac44-853d49b3e9f6",
      "metadata": {
        "execution": {
          "iopub.execute_input": "2022-08-10T16:02:30.528812Z",
          "iopub.status.busy": "2022-08-10T16:02:30.528351Z",
          "iopub.status.idle": "2022-08-10T16:02:30.543975Z",
          "shell.execute_reply": "2022-08-10T16:02:30.543571Z"
        },
        "papermill": {
          "duration": 0.047844,
          "end_time": "2022-08-10T16:02:30.544086",
          "exception": false,
          "start_time": "2022-08-10T16:02:30.496242",
          "status": "completed"
        },
        "tags": []
      },
      "outputs": [
        {
          "data": {
            "text/plain": [
              "{('in0', 'in0'): 0.49904,\n",
              " ('out0', 'out0'): 0.49904,\n",
              " ('out0', 'in0'): 0.86544,\n",
              " ('in0', 'out0'): 0.86544}"
            ]
          },
          "execution_count": 25,
          "metadata": {},
          "output_type": "execute_result"
        }
      ],
      "source": [
        "mzi = sax.circuit(\n",
        "    instances={\n",
        "        \"lft\": unitary(1, 2),\n",
        "        \"top\": unitary(1, 1),\n",
        "        \"rgt\": unitary(1, 2),\n",
        "    },\n",
        "    connections={\n",
        "        \"lft,out0\": \"rgt,out0\",\n",
        "        \"lft,out1\": \"top,in0\",\n",
        "        \"top,out0\": \"rgt,out1\",\n",
        "    },\n",
        "    ports = {\n",
        "        \"in0\": \"lft,in0\",\n",
        "        \"out0\": \"rgt,in0\",\n",
        "    }\n",
        ")\n",
        "mzi()"
      ]
    },
    {
      "cell_type": "markdown",
      "id": "bb6e94aa",
      "metadata": {
        "papermill": {
          "duration": 0.022655,
          "end_time": "2022-08-10T16:02:30.589401",
          "exception": false,
          "start_time": "2022-08-10T16:02:30.566746",
          "status": "completed"
        },
        "tags": []
      },
      "source": [
        "## All Models"
      ]
    },
    {
      "cell_type": "markdown",
      "id": "94dab383ba27fcef",
      "metadata": {},
      "source": [
        ":::{eval-rst}\n",
        ".. autofunction:: sax.models.get_models\n",
        ":::\n"
      ]
    },
    {
      "cell_type": "code",
      "execution_count": 26,
      "id": "9ef5289915b85ff5",
      "metadata": {
        "execution": {
          "iopub.execute_input": "2022-08-10T16:02:30.639419Z",
          "iopub.status.busy": "2022-08-10T16:02:30.638981Z",
          "iopub.status.idle": "2022-08-10T16:02:30.640826Z",
          "shell.execute_reply": "2022-08-10T16:02:30.640467Z"
        },
        "papermill": {
          "duration": 0.028815,
          "end_time": "2022-08-10T16:02:30.640933",
          "exception": false,
          "start_time": "2022-08-10T16:02:30.612118",
          "status": "completed"
        },
        "tags": []
      },
      "outputs": [],
      "source": [
        "\n",
        "models = {\n",
        "    \"copier\": copier,\n",
        "    \"coupler\": coupler,\n",
        "    \"passthru\": passthru,\n",
        "    \"straight\": straight,\n",
        "    \"unitary\": unitary,\n",
        "}\n",
        "\n",
        "def get_models(copy: bool=True):\n",
        "    if copy:\n",
        "        return {**models}\n",
        "    return models"
      ]
    }
  ],
  "metadata": {
    "kernelspec": {
      "display_name": "sax",
      "language": "python",
      "name": "sax"
    },
    "language_info": {
      "codemirror_mode": {
        "name": "ipython",
        "version": 3
      },
      "file_extension": ".py",
      "mimetype": "text/x-python",
      "name": "python",
      "nbconvert_exporter": "python",
      "pygments_lexer": "ipython3",
      "version": "3.9.0"
    },
    "papermill": {
      "default_parameters": {},
      "duration": 9.38589,
      "end_time": "2022-08-10T16:02:31.911409",
      "environment_variables": {},
      "exception": null,
      "input_path": "./nbs/05_models.ipynb",
      "output_path": "./nbs/05_models.ipynb",
      "parameters": {},
      "start_time": "2022-08-10T16:02:22.525519",
      "version": "2.3.4"
    }
  },
  "nbformat": 4,
  "nbformat_minor": 5
}
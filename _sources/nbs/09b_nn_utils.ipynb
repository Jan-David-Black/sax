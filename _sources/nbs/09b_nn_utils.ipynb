{
  "cells": [
    {
      "cell_type": "code",
      "execution_count": 1,
      "id": "954627ec40671052",
      "metadata": {
        "execution": {
          "iopub.execute_input": "2022-08-04T04:33:16.430352Z",
          "iopub.status.busy": "2022-08-04T04:33:16.429890Z",
          "iopub.status.idle": "2022-08-04T04:33:16.432597Z",
          "shell.execute_reply": "2022-08-04T04:33:16.432177Z"
        },
        "papermill": {
          "duration": 0.01436,
          "end_time": "2022-08-04T04:33:16.432715",
          "exception": false,
          "start_time": "2022-08-04T04:33:16.418355",
          "status": "completed"
        },
        "tags": [
          "remove-cell"
        ]
      },
      "outputs": [],
      "source": []
    },
    {
      "cell_type": "markdown",
      "id": "3ac7a21d",
      "metadata": {
        "papermill": {
          "duration": 0.005542,
          "end_time": "2022-08-04T04:33:16.444159",
          "exception": false,
          "start_time": "2022-08-04T04:33:16.438617",
          "status": "completed"
        },
        "tags": []
      },
      "source": [
        "# NN - Utils\n",
        "\n",
        "> loss functions and utilitites for SAX neural networks"
      ]
    },
    {
      "cell_type": "code",
      "execution_count": 2,
      "id": "8c16ec1118b50536",
      "metadata": {
        "execution": {
          "iopub.execute_input": "2022-08-04T04:33:16.462799Z",
          "iopub.status.busy": "2022-08-04T04:33:16.462375Z",
          "iopub.status.idle": "2022-08-04T04:33:17.167078Z",
          "shell.execute_reply": "2022-08-04T04:33:17.166604Z"
        },
        "papermill": {
          "duration": 0.717819,
          "end_time": "2022-08-04T04:33:17.167212",
          "exception": false,
          "start_time": "2022-08-04T04:33:16.449393",
          "status": "completed"
        },
        "tags": [
          "remove-cell"
        ]
      },
      "outputs": [],
      "source": [
        "import matplotlib.pyplot as plt\n",
        "from fastcore.test import test_eq\n",
        "from pytest import approx, raises\n",
        "\n",
        "import os, sys; sys.stderr = open(os.devnull, \"w\")"
      ]
    },
    {
      "cell_type": "code",
      "execution_count": 3,
      "id": "6dfb9e41f3caa825",
      "metadata": {
        "execution": {
          "iopub.execute_input": "2022-08-04T04:33:17.182987Z",
          "iopub.status.busy": "2022-08-04T04:33:17.181379Z",
          "iopub.status.idle": "2022-08-04T04:33:18.289073Z",
          "shell.execute_reply": "2022-08-04T04:33:18.288202Z"
        },
        "papermill": {
          "duration": 1.115924,
          "end_time": "2022-08-04T04:33:18.289206",
          "exception": false,
          "start_time": "2022-08-04T04:33:17.173282",
          "status": "completed"
        },
        "tags": [
          "hide-input"
        ]
      },
      "outputs": [],
      "source": [
        "from __future__ import annotations\n",
        "\n",
        "from collections import namedtuple\n",
        "from typing import Tuple\n",
        "\n",
        "import jax.numpy as jnp\n",
        "import pandas as pd\n",
        "from sax.typing_ import ComplexFloat"
      ]
    },
    {
      "cell_type": "markdown",
      "id": "d634812c5701d83f",
      "metadata": {},
      "source": [
        ":::{eval-rst}\n",
        ".. autofunction:: sax.nn.utils.cartesian_product\n",
        ":::\n"
      ]
    },
    {
      "cell_type": "code",
      "execution_count": 4,
      "id": "ce5b5baac4b8592c",
      "metadata": {
        "execution": {
          "iopub.execute_input": "2022-08-04T04:33:18.306192Z",
          "iopub.status.busy": "2022-08-04T04:33:18.305725Z",
          "iopub.status.idle": "2022-08-04T04:33:18.306776Z",
          "shell.execute_reply": "2022-08-04T04:33:18.307131Z"
        },
        "papermill": {
          "duration": 0.012215,
          "end_time": "2022-08-04T04:33:18.307259",
          "exception": false,
          "start_time": "2022-08-04T04:33:18.295044",
          "status": "completed"
        },
        "tags": [
          "hide-input"
        ]
      },
      "outputs": [],
      "source": [
        "def cartesian_product(*arrays: ComplexFloat) -> ComplexFloat:\n",
        "    \"\"\"calculate the n-dimensional cartesian product of an arbitrary number of arrays\"\"\"\n",
        "    ixarrays = jnp.ix_(*arrays)\n",
        "    barrays = jnp.broadcast_arrays(*ixarrays)\n",
        "    sarrays = jnp.stack(barrays, -1)\n",
        "    assert isinstance(sarrays, jnp.ndarray)\n",
        "    product = sarrays.reshape(-1, sarrays.shape[-1])\n",
        "    assert isinstance(product, jnp.ndarray)\n",
        "    return product"
      ]
    },
    {
      "cell_type": "markdown",
      "id": "438795008335cef9",
      "metadata": {},
      "source": [
        ":::{eval-rst}\n",
        ".. autofunction:: sax.nn.utils.denormalize\n",
        ":::\n"
      ]
    },
    {
      "cell_type": "code",
      "execution_count": 5,
      "id": "db923a241be2b374",
      "metadata": {
        "execution": {
          "iopub.execute_input": "2022-08-04T04:33:18.322650Z",
          "iopub.status.busy": "2022-08-04T04:33:18.322001Z",
          "iopub.status.idle": "2022-08-04T04:33:18.323461Z",
          "shell.execute_reply": "2022-08-04T04:33:18.323776Z"
        },
        "papermill": {
          "duration": 0.010985,
          "end_time": "2022-08-04T04:33:18.323896",
          "exception": false,
          "start_time": "2022-08-04T04:33:18.312911",
          "status": "completed"
        },
        "tags": [
          "hide-input"
        ]
      },
      "outputs": [],
      "source": [
        "def denormalize(x: ComplexFloat, mean: ComplexFloat = 0.0, std: ComplexFloat = 1.0) -> ComplexFloat:\n",
        "    \"\"\"denormalize an array with a given mean and standard deviation\"\"\"\n",
        "    return x * std + mean"
      ]
    },
    {
      "cell_type": "code",
      "execution_count": 6,
      "id": "ec509b0910e72085",
      "metadata": {
        "execution": {
          "iopub.execute_input": "2022-08-04T04:33:18.338597Z",
          "iopub.status.busy": "2022-08-04T04:33:18.338177Z",
          "iopub.status.idle": "2022-08-04T04:33:18.339475Z",
          "shell.execute_reply": "2022-08-04T04:33:18.339811Z"
        },
        "papermill": {
          "duration": 0.010442,
          "end_time": "2022-08-04T04:33:18.339923",
          "exception": false,
          "start_time": "2022-08-04T04:33:18.329481",
          "status": "completed"
        },
        "tags": [
          "remove-cell"
        ]
      },
      "outputs": [],
      "source": [
        "norm = namedtuple(\"norm\", (\"mean\", \"std\"))"
      ]
    },
    {
      "cell_type": "markdown",
      "id": "6507ce5a7d6a700c",
      "metadata": {},
      "source": [
        ":::{eval-rst}\n",
        ".. autofunction:: sax.nn.utils.get_normalization\n",
        ":::\n"
      ]
    },
    {
      "cell_type": "code",
      "execution_count": 7,
      "id": "7b0e344dc3739cc4",
      "metadata": {
        "execution": {
          "iopub.execute_input": "2022-08-04T04:33:18.355202Z",
          "iopub.status.busy": "2022-08-04T04:33:18.354773Z",
          "iopub.status.idle": "2022-08-04T04:33:18.356677Z",
          "shell.execute_reply": "2022-08-04T04:33:18.356336Z"
        },
        "papermill": {
          "duration": 0.01117,
          "end_time": "2022-08-04T04:33:18.356777",
          "exception": false,
          "start_time": "2022-08-04T04:33:18.345607",
          "status": "completed"
        },
        "tags": [
          "hide-input"
        ]
      },
      "outputs": [],
      "source": [
        "def get_normalization(x: ComplexFloat):\n",
        "    \"\"\"Get mean and standard deviation for a given array\"\"\"\n",
        "    if isinstance(x, (complex, float)):\n",
        "        return x, 0.0\n",
        "    return norm(x.mean(0), x.std(0))"
      ]
    },
    {
      "cell_type": "markdown",
      "id": "0fd803760b98a980",
      "metadata": {},
      "source": [
        ":::{eval-rst}\n",
        ".. autofunction:: sax.nn.utils.get_df_columns\n",
        ":::\n"
      ]
    },
    {
      "cell_type": "code",
      "execution_count": 8,
      "id": "bd2767f050404b4a",
      "metadata": {
        "execution": {
          "iopub.execute_input": "2022-08-04T04:33:18.372589Z",
          "iopub.status.busy": "2022-08-04T04:33:18.372155Z",
          "iopub.status.idle": "2022-08-04T04:33:18.374089Z",
          "shell.execute_reply": "2022-08-04T04:33:18.373738Z"
        },
        "papermill": {
          "duration": 0.011706,
          "end_time": "2022-08-04T04:33:18.374193",
          "exception": false,
          "start_time": "2022-08-04T04:33:18.362487",
          "status": "completed"
        },
        "tags": [
          "hide-input"
        ]
      },
      "outputs": [],
      "source": [
        "def get_df_columns(df: pd.DataFrame, *names: str) -> Tuple[ComplexFloat, ...]:\n",
        "    \"\"\"Get certain columns from a pandas DataFrame as jax.numpy arrays\"\"\"\n",
        "    tup = namedtuple(\"params\", names)\n",
        "    params_list = []\n",
        "    for name in names:\n",
        "        column_np = df[name].values\n",
        "        column_jnp = jnp.array(column_np)\n",
        "        assert isinstance(column_jnp, jnp.ndarray)\n",
        "        params_list.append(column_jnp.ravel())\n",
        "    return tup(*params_list)"
      ]
    },
    {
      "cell_type": "markdown",
      "id": "639787998ab4f91d",
      "metadata": {},
      "source": [
        ":::{eval-rst}\n",
        ".. autofunction:: sax.nn.utils.normalize\n",
        ":::\n"
      ]
    },
    {
      "cell_type": "code",
      "execution_count": 9,
      "id": "2ae1655e688fe5c0",
      "metadata": {
        "execution": {
          "iopub.execute_input": "2022-08-04T04:33:18.389674Z",
          "iopub.status.busy": "2022-08-04T04:33:18.389204Z",
          "iopub.status.idle": "2022-08-04T04:33:18.391115Z",
          "shell.execute_reply": "2022-08-04T04:33:18.391482Z"
        },
        "papermill": {
          "duration": 0.011633,
          "end_time": "2022-08-04T04:33:18.391598",
          "exception": false,
          "start_time": "2022-08-04T04:33:18.379965",
          "status": "completed"
        },
        "tags": [
          "hide-input"
        ]
      },
      "outputs": [],
      "source": [
        "def normalize(\n",
        "    x: ComplexFloat, mean: ComplexFloat = 0.0, std: ComplexFloat = 1.0\n",
        ") -> ComplexFloat:\n",
        "    \"\"\"normalize an array with a given mean and standard deviation\"\"\"\n",
        "    return (x - mean) / std"
      ]
    }
  ],
  "metadata": {
    "kernelspec": {
      "display_name": "sax",
      "language": "python",
      "name": "sax"
    },
    "language_info": {
      "codemirror_mode": {
        "name": "ipython",
        "version": 3
      },
      "file_extension": ".py",
      "mimetype": "text/x-python",
      "name": "python",
      "nbconvert_exporter": "python",
      "pygments_lexer": "ipython3",
      "version": "3.9.0"
    },
    "papermill": {
      "default_parameters": {},
      "duration": 4.373154,
      "end_time": "2022-08-04T04:33:19.656142",
      "environment_variables": {},
      "exception": null,
      "input_path": "./nbs/09b_nn_utils.ipynb",
      "output_path": "./nbs/09b_nn_utils.ipynb",
      "parameters": {},
      "start_time": "2022-08-04T04:33:15.282988",
      "version": "2.3.4"
    }
  },
  "nbformat": 4,
  "nbformat_minor": 5
}
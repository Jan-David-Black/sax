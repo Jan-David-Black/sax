{
  "cells": [
    {
      "cell_type": "code",
      "execution_count": 1,
      "id": "0a2b27b663c71d95",
      "metadata": {
        "execution": {
          "iopub.execute_input": "2022-08-17T03:21:47.702513Z",
          "iopub.status.busy": "2022-08-17T03:21:47.702054Z",
          "iopub.status.idle": "2022-08-17T03:21:47.705771Z",
          "shell.execute_reply": "2022-08-17T03:21:47.705330Z"
        },
        "papermill": {
          "duration": 0.013038,
          "end_time": "2022-08-17T03:21:47.705888",
          "exception": false,
          "start_time": "2022-08-17T03:21:47.692850",
          "status": "completed"
        },
        "tags": [
          "remove-cell"
        ]
      },
      "outputs": [],
      "source": []
    },
    {
      "cell_type": "markdown",
      "id": "3ac7a21d",
      "metadata": {
        "papermill": {
          "duration": 0.005017,
          "end_time": "2022-08-17T03:21:47.716495",
          "exception": false,
          "start_time": "2022-08-17T03:21:47.711478",
          "status": "completed"
        },
        "tags": []
      },
      "source": [
        "# Utils\n",
        "\n",
        "> loss functions and utilitites for SAX neural networks"
      ]
    },
    {
      "cell_type": "code",
      "execution_count": 2,
      "id": "980a1eac9dbfcbe8",
      "metadata": {
        "execution": {
          "iopub.execute_input": "2022-08-17T03:21:47.734127Z",
          "iopub.status.busy": "2022-08-17T03:21:47.733679Z",
          "iopub.status.idle": "2022-08-17T03:21:48.417579Z",
          "shell.execute_reply": "2022-08-17T03:21:48.417177Z"
        },
        "papermill": {
          "duration": 0.696143,
          "end_time": "2022-08-17T03:21:48.417689",
          "exception": false,
          "start_time": "2022-08-17T03:21:47.721546",
          "status": "completed"
        },
        "tags": [
          "remove-cell"
        ]
      },
      "outputs": [],
      "source": [
        "import matplotlib.pyplot as plt\n",
        "from fastcore.test import test_eq\n",
        "from pytest import approx, raises\n",
        "\n",
        "import os, sys; sys.stderr = open(os.devnull, \"w\")"
      ]
    },
    {
      "cell_type": "code",
      "execution_count": 3,
      "id": "92086e2aeac31bfb",
      "metadata": {
        "execution": {
          "iopub.execute_input": "2022-08-17T03:21:48.431530Z",
          "iopub.status.busy": "2022-08-17T03:21:48.430142Z",
          "iopub.status.idle": "2022-08-17T03:21:49.500344Z",
          "shell.execute_reply": "2022-08-17T03:21:49.499581Z"
        },
        "papermill": {
          "duration": 1.077526,
          "end_time": "2022-08-17T03:21:49.500461",
          "exception": false,
          "start_time": "2022-08-17T03:21:48.422935",
          "status": "completed"
        },
        "tags": [
          "hide-input"
        ]
      },
      "outputs": [],
      "source": [
        "from __future__ import annotations\n",
        "\n",
        "from collections import namedtuple\n",
        "from typing import Tuple\n",
        "\n",
        "import jax.numpy as jnp\n",
        "import pandas as pd\n",
        "from sax.typing_ import ComplexFloat"
      ]
    },
    {
      "cell_type": "markdown",
      "id": "ef20f50999ab2a74",
      "metadata": {},
      "source": [
        ":::{eval-rst}\n",
        ".. autofunction:: sax.nn.utils.cartesian_product\n",
        ":::\n"
      ]
    },
    {
      "cell_type": "code",
      "execution_count": 4,
      "id": "91c613d280fd5f6c",
      "metadata": {
        "execution": {
          "iopub.execute_input": "2022-08-17T03:21:49.516300Z",
          "iopub.status.busy": "2022-08-17T03:21:49.515527Z",
          "iopub.status.idle": "2022-08-17T03:21:49.516798Z",
          "shell.execute_reply": "2022-08-17T03:21:49.517120Z"
        },
        "papermill": {
          "duration": 0.011332,
          "end_time": "2022-08-17T03:21:49.517230",
          "exception": false,
          "start_time": "2022-08-17T03:21:49.505898",
          "status": "completed"
        },
        "tags": [
          "hide-input"
        ]
      },
      "outputs": [],
      "source": [
        "def cartesian_product(*arrays: ComplexFloat) -> ComplexFloat:\n",
        "    \"\"\"calculate the n-dimensional cartesian product of an arbitrary number of arrays\"\"\"\n",
        "    ixarrays = jnp.ix_(*arrays)\n",
        "    barrays = jnp.broadcast_arrays(*ixarrays)\n",
        "    sarrays = jnp.stack(barrays, -1)\n",
        "    assert isinstance(sarrays, jnp.ndarray)\n",
        "    product = sarrays.reshape(-1, sarrays.shape[-1])\n",
        "    assert isinstance(product, jnp.ndarray)\n",
        "    return product"
      ]
    },
    {
      "cell_type": "markdown",
      "id": "88ffe78dbcd130a2",
      "metadata": {},
      "source": [
        ":::{eval-rst}\n",
        ".. autofunction:: sax.nn.utils.denormalize\n",
        ":::\n"
      ]
    },
    {
      "cell_type": "code",
      "execution_count": 5,
      "id": "dab14b0d27091210",
      "metadata": {
        "execution": {
          "iopub.execute_input": "2022-08-17T03:21:49.531470Z",
          "iopub.status.busy": "2022-08-17T03:21:49.530542Z",
          "iopub.status.idle": "2022-08-17T03:21:49.531947Z",
          "shell.execute_reply": "2022-08-17T03:21:49.532256Z"
        },
        "papermill": {
          "duration": 0.010005,
          "end_time": "2022-08-17T03:21:49.532368",
          "exception": false,
          "start_time": "2022-08-17T03:21:49.522363",
          "status": "completed"
        },
        "tags": [
          "hide-input"
        ]
      },
      "outputs": [],
      "source": [
        "def denormalize(x: ComplexFloat, mean: ComplexFloat = 0.0, std: ComplexFloat = 1.0) -> ComplexFloat:\n",
        "    \"\"\"denormalize an array with a given mean and standard deviation\"\"\"\n",
        "    return x * std + mean"
      ]
    },
    {
      "cell_type": "code",
      "execution_count": 6,
      "id": "ab13221f935fec09",
      "metadata": {
        "execution": {
          "iopub.execute_input": "2022-08-17T03:21:49.545642Z",
          "iopub.status.busy": "2022-08-17T03:21:49.544493Z",
          "iopub.status.idle": "2022-08-17T03:21:49.547207Z",
          "shell.execute_reply": "2022-08-17T03:21:49.546877Z"
        },
        "papermill": {
          "duration": 0.009686,
          "end_time": "2022-08-17T03:21:49.547298",
          "exception": false,
          "start_time": "2022-08-17T03:21:49.537612",
          "status": "completed"
        },
        "tags": [
          "remove-cell"
        ]
      },
      "outputs": [],
      "source": [
        "norm = namedtuple(\"norm\", (\"mean\", \"std\"))"
      ]
    },
    {
      "cell_type": "markdown",
      "id": "db7aa278f258ab93",
      "metadata": {},
      "source": [
        ":::{eval-rst}\n",
        ".. autofunction:: sax.nn.utils.get_normalization\n",
        ":::\n"
      ]
    },
    {
      "cell_type": "code",
      "execution_count": 7,
      "id": "8323a5149bc308c9",
      "metadata": {
        "execution": {
          "iopub.execute_input": "2022-08-17T03:21:49.561285Z",
          "iopub.status.busy": "2022-08-17T03:21:49.560794Z",
          "iopub.status.idle": "2022-08-17T03:21:49.561847Z",
          "shell.execute_reply": "2022-08-17T03:21:49.562235Z"
        },
        "papermill": {
          "duration": 0.009809,
          "end_time": "2022-08-17T03:21:49.562344",
          "exception": false,
          "start_time": "2022-08-17T03:21:49.552535",
          "status": "completed"
        },
        "tags": [
          "hide-input"
        ]
      },
      "outputs": [],
      "source": [
        "def get_normalization(x: ComplexFloat):\n",
        "    \"\"\"Get mean and standard deviation for a given array\"\"\"\n",
        "    if isinstance(x, (complex, float)):\n",
        "        return x, 0.0\n",
        "    return norm(x.mean(0), x.std(0))"
      ]
    },
    {
      "cell_type": "markdown",
      "id": "6fafd2d87e48c023",
      "metadata": {},
      "source": [
        ":::{eval-rst}\n",
        ".. autofunction:: sax.nn.utils.get_df_columns\n",
        ":::\n"
      ]
    },
    {
      "cell_type": "code",
      "execution_count": 8,
      "id": "d26557e678482dde",
      "metadata": {
        "execution": {
          "iopub.execute_input": "2022-08-17T03:21:49.577281Z",
          "iopub.status.busy": "2022-08-17T03:21:49.576863Z",
          "iopub.status.idle": "2022-08-17T03:21:49.577943Z",
          "shell.execute_reply": "2022-08-17T03:21:49.578254Z"
        },
        "papermill": {
          "duration": 0.010747,
          "end_time": "2022-08-17T03:21:49.578360",
          "exception": false,
          "start_time": "2022-08-17T03:21:49.567613",
          "status": "completed"
        },
        "tags": [
          "hide-input"
        ]
      },
      "outputs": [],
      "source": [
        "def get_df_columns(df: pd.DataFrame, *names: str) -> Tuple[ComplexFloat, ...]:\n",
        "    \"\"\"Get certain columns from a pandas DataFrame as jax.numpy arrays\"\"\"\n",
        "    tup = namedtuple(\"params\", names)\n",
        "    params_list = []\n",
        "    for name in names:\n",
        "        column_np = df[name].values\n",
        "        column_jnp = jnp.array(column_np)\n",
        "        assert isinstance(column_jnp, jnp.ndarray)\n",
        "        params_list.append(column_jnp.ravel())\n",
        "    return tup(*params_list)"
      ]
    },
    {
      "cell_type": "markdown",
      "id": "9f695ccf7c65e1e2",
      "metadata": {},
      "source": [
        ":::{eval-rst}\n",
        ".. autofunction:: sax.nn.utils.normalize\n",
        ":::\n"
      ]
    },
    {
      "cell_type": "code",
      "execution_count": 9,
      "id": "4888ac658f1c05f5",
      "metadata": {
        "execution": {
          "iopub.execute_input": "2022-08-17T03:21:49.590920Z",
          "iopub.status.busy": "2022-08-17T03:21:49.590489Z",
          "iopub.status.idle": "2022-08-17T03:21:49.593415Z",
          "shell.execute_reply": "2022-08-17T03:21:49.593746Z"
        },
        "papermill": {
          "duration": 0.010146,
          "end_time": "2022-08-17T03:21:49.593858",
          "exception": false,
          "start_time": "2022-08-17T03:21:49.583712",
          "status": "completed"
        },
        "tags": [
          "hide-input"
        ]
      },
      "outputs": [],
      "source": [
        "def normalize(\n",
        "    x: ComplexFloat, mean: ComplexFloat = 0.0, std: ComplexFloat = 1.0\n",
        ") -> ComplexFloat:\n",
        "    \"\"\"normalize an array with a given mean and standard deviation\"\"\"\n",
        "    return (x - mean) / std"
      ]
    }
  ],
  "metadata": {
    "kernelspec": {
      "display_name": "sax",
      "language": "python",
      "name": "sax"
    },
    "language_info": {
      "codemirror_mode": {
        "name": "ipython",
        "version": 3
      },
      "file_extension": ".py",
      "mimetype": "text/x-python",
      "name": "python",
      "nbconvert_exporter": "python",
      "pygments_lexer": "ipython3",
      "version": "3.9.0"
    },
    "papermill": {
      "default_parameters": {},
      "duration": 4.382122,
      "end_time": "2022-08-17T03:21:50.937978",
      "environment_variables": {},
      "exception": null,
      "input_path": "./nbs/09b_nn_utils.ipynb",
      "output_path": "./nbs/09b_nn_utils.ipynb",
      "parameters": {},
      "start_time": "2022-08-17T03:21:46.555856",
      "version": "2.3.4"
    }
  },
  "nbformat": 4,
  "nbformat_minor": 5
}
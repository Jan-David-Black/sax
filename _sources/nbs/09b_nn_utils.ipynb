{
  "cells": [
    {
      "cell_type": "code",
      "execution_count": 1,
      "id": "8fe58b97b78878f5",
      "metadata": {
        "execution": {
          "iopub.execute_input": "2022-08-07T05:31:06.089364Z",
          "iopub.status.busy": "2022-08-07T05:31:06.088904Z",
          "iopub.status.idle": "2022-08-07T05:31:06.090820Z",
          "shell.execute_reply": "2022-08-07T05:31:06.091223Z"
        },
        "papermill": {
          "duration": 0.014652,
          "end_time": "2022-08-07T05:31:06.091417",
          "exception": false,
          "start_time": "2022-08-07T05:31:06.076765",
          "status": "completed"
        },
        "tags": [
          "remove-cell"
        ]
      },
      "outputs": [],
      "source": []
    },
    {
      "cell_type": "markdown",
      "id": "3ac7a21d",
      "metadata": {
        "papermill": {
          "duration": 0.005421,
          "end_time": "2022-08-07T05:31:06.102859",
          "exception": false,
          "start_time": "2022-08-07T05:31:06.097438",
          "status": "completed"
        },
        "tags": []
      },
      "source": [
        "# NN - Utils\n",
        "\n",
        "> loss functions and utilitites for SAX neural networks"
      ]
    },
    {
      "cell_type": "code",
      "execution_count": 2,
      "id": "c6caf7a6bc6a8594",
      "metadata": {
        "execution": {
          "iopub.execute_input": "2022-08-07T05:31:06.121647Z",
          "iopub.status.busy": "2022-08-07T05:31:06.120579Z",
          "iopub.status.idle": "2022-08-07T05:31:06.806459Z",
          "shell.execute_reply": "2022-08-07T05:31:06.806025Z"
        },
        "papermill": {
          "duration": 0.698446,
          "end_time": "2022-08-07T05:31:06.806584",
          "exception": false,
          "start_time": "2022-08-07T05:31:06.108138",
          "status": "completed"
        },
        "tags": [
          "remove-cell"
        ]
      },
      "outputs": [],
      "source": [
        "import matplotlib.pyplot as plt\n",
        "from fastcore.test import test_eq\n",
        "from pytest import approx, raises\n",
        "\n",
        "import os, sys; sys.stderr = open(os.devnull, \"w\")"
      ]
    },
    {
      "cell_type": "code",
      "execution_count": 3,
      "id": "79d4821d7bfe43e9",
      "metadata": {
        "execution": {
          "iopub.execute_input": "2022-08-07T05:31:06.822390Z",
          "iopub.status.busy": "2022-08-07T05:31:06.821949Z",
          "iopub.status.idle": "2022-08-07T05:31:07.877401Z",
          "shell.execute_reply": "2022-08-07T05:31:07.877812Z"
        },
        "papermill": {
          "duration": 1.065589,
          "end_time": "2022-08-07T05:31:07.877980",
          "exception": false,
          "start_time": "2022-08-07T05:31:06.812391",
          "status": "completed"
        },
        "tags": [
          "hide-input"
        ]
      },
      "outputs": [],
      "source": [
        "from __future__ import annotations\n",
        "\n",
        "from collections import namedtuple\n",
        "from typing import Tuple\n",
        "\n",
        "import jax.numpy as jnp\n",
        "import pandas as pd\n",
        "from sax.typing_ import ComplexFloat"
      ]
    },
    {
      "cell_type": "markdown",
      "id": "17ba9790ebe16737",
      "metadata": {},
      "source": [
        ":::{eval-rst}\n",
        ".. autofunction:: sax.nn.utils.cartesian_product\n",
        ":::\n"
      ]
    },
    {
      "cell_type": "code",
      "execution_count": 4,
      "id": "3a50c3773f1a5b3f",
      "metadata": {
        "execution": {
          "iopub.execute_input": "2022-08-07T05:31:07.892950Z",
          "iopub.status.busy": "2022-08-07T05:31:07.892457Z",
          "iopub.status.idle": "2022-08-07T05:31:07.896748Z",
          "shell.execute_reply": "2022-08-07T05:31:07.897072Z"
        },
        "papermill": {
          "duration": 0.012734,
          "end_time": "2022-08-07T05:31:07.897190",
          "exception": false,
          "start_time": "2022-08-07T05:31:07.884456",
          "status": "completed"
        },
        "tags": [
          "hide-input"
        ]
      },
      "outputs": [],
      "source": [
        "def cartesian_product(*arrays: ComplexFloat) -> ComplexFloat:\n",
        "    \"\"\"calculate the n-dimensional cartesian product of an arbitrary number of arrays\"\"\"\n",
        "    ixarrays = jnp.ix_(*arrays)\n",
        "    barrays = jnp.broadcast_arrays(*ixarrays)\n",
        "    sarrays = jnp.stack(barrays, -1)\n",
        "    assert isinstance(sarrays, jnp.ndarray)\n",
        "    product = sarrays.reshape(-1, sarrays.shape[-1])\n",
        "    assert isinstance(product, jnp.ndarray)\n",
        "    return product"
      ]
    },
    {
      "cell_type": "markdown",
      "id": "9482347b464dda18",
      "metadata": {},
      "source": [
        ":::{eval-rst}\n",
        ".. autofunction:: sax.nn.utils.denormalize\n",
        ":::\n"
      ]
    },
    {
      "cell_type": "code",
      "execution_count": 5,
      "id": "ab237d89f672712a",
      "metadata": {
        "execution": {
          "iopub.execute_input": "2022-08-07T05:31:07.911680Z",
          "iopub.status.busy": "2022-08-07T05:31:07.911251Z",
          "iopub.status.idle": "2022-08-07T05:31:07.912978Z",
          "shell.execute_reply": "2022-08-07T05:31:07.912625Z"
        },
        "papermill": {
          "duration": 0.010243,
          "end_time": "2022-08-07T05:31:07.913075",
          "exception": false,
          "start_time": "2022-08-07T05:31:07.902832",
          "status": "completed"
        },
        "tags": [
          "hide-input"
        ]
      },
      "outputs": [],
      "source": [
        "def denormalize(x: ComplexFloat, mean: ComplexFloat = 0.0, std: ComplexFloat = 1.0) -> ComplexFloat:\n",
        "    \"\"\"denormalize an array with a given mean and standard deviation\"\"\"\n",
        "    return x * std + mean"
      ]
    },
    {
      "cell_type": "code",
      "execution_count": 6,
      "id": "984fdfb00cb9f9f6",
      "metadata": {
        "execution": {
          "iopub.execute_input": "2022-08-07T05:31:07.927451Z",
          "iopub.status.busy": "2022-08-07T05:31:07.927024Z",
          "iopub.status.idle": "2022-08-07T05:31:07.928940Z",
          "shell.execute_reply": "2022-08-07T05:31:07.928541Z"
        },
        "papermill": {
          "duration": 0.01034,
          "end_time": "2022-08-07T05:31:07.929032",
          "exception": false,
          "start_time": "2022-08-07T05:31:07.918692",
          "status": "completed"
        },
        "tags": [
          "remove-cell"
        ]
      },
      "outputs": [],
      "source": [
        "norm = namedtuple(\"norm\", (\"mean\", \"std\"))"
      ]
    },
    {
      "cell_type": "markdown",
      "id": "301258569e90dd88",
      "metadata": {},
      "source": [
        ":::{eval-rst}\n",
        ".. autofunction:: sax.nn.utils.get_normalization\n",
        ":::\n"
      ]
    },
    {
      "cell_type": "code",
      "execution_count": 7,
      "id": "758359f53f76c816",
      "metadata": {
        "execution": {
          "iopub.execute_input": "2022-08-07T05:31:07.943930Z",
          "iopub.status.busy": "2022-08-07T05:31:07.943505Z",
          "iopub.status.idle": "2022-08-07T05:31:07.945112Z",
          "shell.execute_reply": "2022-08-07T05:31:07.944764Z"
        },
        "papermill": {
          "duration": 0.010452,
          "end_time": "2022-08-07T05:31:07.945205",
          "exception": false,
          "start_time": "2022-08-07T05:31:07.934753",
          "status": "completed"
        },
        "tags": [
          "hide-input"
        ]
      },
      "outputs": [],
      "source": [
        "def get_normalization(x: ComplexFloat):\n",
        "    \"\"\"Get mean and standard deviation for a given array\"\"\"\n",
        "    if isinstance(x, (complex, float)):\n",
        "        return x, 0.0\n",
        "    return norm(x.mean(0), x.std(0))"
      ]
    },
    {
      "cell_type": "markdown",
      "id": "d8758ebab8ce69f9",
      "metadata": {},
      "source": [
        ":::{eval-rst}\n",
        ".. autofunction:: sax.nn.utils.get_df_columns\n",
        ":::\n"
      ]
    },
    {
      "cell_type": "code",
      "execution_count": 8,
      "id": "28dd1b9360040ae8",
      "metadata": {
        "execution": {
          "iopub.execute_input": "2022-08-07T05:31:07.960705Z",
          "iopub.status.busy": "2022-08-07T05:31:07.960255Z",
          "iopub.status.idle": "2022-08-07T05:31:07.962037Z",
          "shell.execute_reply": "2022-08-07T05:31:07.961683Z"
        },
        "papermill": {
          "duration": 0.011201,
          "end_time": "2022-08-07T05:31:07.962125",
          "exception": false,
          "start_time": "2022-08-07T05:31:07.950924",
          "status": "completed"
        },
        "tags": [
          "hide-input"
        ]
      },
      "outputs": [],
      "source": [
        "def get_df_columns(df: pd.DataFrame, *names: str) -> Tuple[ComplexFloat, ...]:\n",
        "    \"\"\"Get certain columns from a pandas DataFrame as jax.numpy arrays\"\"\"\n",
        "    tup = namedtuple(\"params\", names)\n",
        "    params_list = []\n",
        "    for name in names:\n",
        "        column_np = df[name].values\n",
        "        column_jnp = jnp.array(column_np)\n",
        "        assert isinstance(column_jnp, jnp.ndarray)\n",
        "        params_list.append(column_jnp.ravel())\n",
        "    return tup(*params_list)"
      ]
    },
    {
      "cell_type": "markdown",
      "id": "ee26104d71420f42",
      "metadata": {},
      "source": [
        ":::{eval-rst}\n",
        ".. autofunction:: sax.nn.utils.normalize\n",
        ":::\n"
      ]
    },
    {
      "cell_type": "code",
      "execution_count": 9,
      "id": "a0acbec92d973d27",
      "metadata": {
        "execution": {
          "iopub.execute_input": "2022-08-07T05:31:07.977208Z",
          "iopub.status.busy": "2022-08-07T05:31:07.976782Z",
          "iopub.status.idle": "2022-08-07T05:31:07.978489Z",
          "shell.execute_reply": "2022-08-07T05:31:07.978039Z"
        },
        "papermill": {
          "duration": 0.010614,
          "end_time": "2022-08-07T05:31:07.978577",
          "exception": false,
          "start_time": "2022-08-07T05:31:07.967963",
          "status": "completed"
        },
        "tags": [
          "hide-input"
        ]
      },
      "outputs": [],
      "source": [
        "def normalize(\n",
        "    x: ComplexFloat, mean: ComplexFloat = 0.0, std: ComplexFloat = 1.0\n",
        ") -> ComplexFloat:\n",
        "    \"\"\"normalize an array with a given mean and standard deviation\"\"\"\n",
        "    return (x - mean) / std"
      ]
    }
  ],
  "metadata": {
    "kernelspec": {
      "display_name": "sax",
      "language": "python",
      "name": "sax"
    },
    "language_info": {
      "codemirror_mode": {
        "name": "ipython",
        "version": 3
      },
      "file_extension": ".py",
      "mimetype": "text/x-python",
      "name": "python",
      "nbconvert_exporter": "python",
      "pygments_lexer": "ipython3",
      "version": "3.9.0"
    },
    "papermill": {
      "default_parameters": {},
      "duration": 4.377069,
      "end_time": "2022-08-07T05:31:09.314301",
      "environment_variables": {},
      "exception": null,
      "input_path": "./nbs/09b_nn_utils.ipynb",
      "output_path": "./nbs/09b_nn_utils.ipynb",
      "parameters": {},
      "start_time": "2022-08-07T05:31:04.937232",
      "version": "2.3.4"
    }
  },
  "nbformat": 4,
  "nbformat_minor": 5
}
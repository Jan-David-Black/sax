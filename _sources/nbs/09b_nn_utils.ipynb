{
  "cells": [
    {
      "cell_type": "code",
      "execution_count": 1,
      "id": "faefc5a304a6b2b4",
      "metadata": {
        "execution": {
          "iopub.execute_input": "2022-08-10T16:01:55.682304Z",
          "iopub.status.busy": "2022-08-10T16:01:55.681862Z",
          "iopub.status.idle": "2022-08-10T16:01:55.684436Z",
          "shell.execute_reply": "2022-08-10T16:01:55.684799Z"
        },
        "papermill": {
          "duration": 0.014778,
          "end_time": "2022-08-10T16:01:55.684997",
          "exception": false,
          "start_time": "2022-08-10T16:01:55.670219",
          "status": "completed"
        },
        "tags": [
          "remove-cell"
        ]
      },
      "outputs": [],
      "source": []
    },
    {
      "cell_type": "markdown",
      "id": "3ac7a21d",
      "metadata": {
        "papermill": {
          "duration": 0.005588,
          "end_time": "2022-08-10T16:01:55.696508",
          "exception": false,
          "start_time": "2022-08-10T16:01:55.690920",
          "status": "completed"
        },
        "tags": []
      },
      "source": [
        "# Utils\n",
        "\n",
        "> loss functions and utilitites for SAX neural networks"
      ]
    },
    {
      "cell_type": "code",
      "execution_count": 2,
      "id": "4604805d42359984",
      "metadata": {
        "execution": {
          "iopub.execute_input": "2022-08-10T16:01:55.709189Z",
          "iopub.status.busy": "2022-08-10T16:01:55.708776Z",
          "iopub.status.idle": "2022-08-10T16:01:56.400564Z",
          "shell.execute_reply": "2022-08-10T16:01:56.400090Z"
        },
        "papermill": {
          "duration": 0.698933,
          "end_time": "2022-08-10T16:01:56.400697",
          "exception": false,
          "start_time": "2022-08-10T16:01:55.701764",
          "status": "completed"
        },
        "tags": [
          "remove-cell"
        ]
      },
      "outputs": [],
      "source": [
        "import matplotlib.pyplot as plt\n",
        "from fastcore.test import test_eq\n",
        "from pytest import approx, raises\n",
        "\n",
        "import os, sys; sys.stderr = open(os.devnull, \"w\")"
      ]
    },
    {
      "cell_type": "code",
      "execution_count": 3,
      "id": "e0699e6b1f8049cd",
      "metadata": {
        "execution": {
          "iopub.execute_input": "2022-08-10T16:01:56.416393Z",
          "iopub.status.busy": "2022-08-10T16:01:56.415952Z",
          "iopub.status.idle": "2022-08-10T16:01:57.461255Z",
          "shell.execute_reply": "2022-08-10T16:01:57.460792Z"
        },
        "papermill": {
          "duration": 1.054472,
          "end_time": "2022-08-10T16:01:57.461381",
          "exception": false,
          "start_time": "2022-08-10T16:01:56.406909",
          "status": "completed"
        },
        "tags": [
          "hide-input"
        ]
      },
      "outputs": [],
      "source": [
        "from __future__ import annotations\n",
        "\n",
        "from collections import namedtuple\n",
        "from typing import Tuple\n",
        "\n",
        "import jax.numpy as jnp\n",
        "import pandas as pd\n",
        "from sax.typing_ import ComplexFloat"
      ]
    },
    {
      "cell_type": "markdown",
      "id": "de12412ebddc946b",
      "metadata": {},
      "source": [
        ":::{eval-rst}\n",
        ".. autofunction:: sax.nn.utils.cartesian_product\n",
        ":::\n"
      ]
    },
    {
      "cell_type": "code",
      "execution_count": 4,
      "id": "53a791599374962d",
      "metadata": {
        "execution": {
          "iopub.execute_input": "2022-08-10T16:01:57.478827Z",
          "iopub.status.busy": "2022-08-10T16:01:57.478364Z",
          "iopub.status.idle": "2022-08-10T16:01:57.479375Z",
          "shell.execute_reply": "2022-08-10T16:01:57.479775Z"
        },
        "papermill": {
          "duration": 0.011826,
          "end_time": "2022-08-10T16:01:57.479885",
          "exception": false,
          "start_time": "2022-08-10T16:01:57.468059",
          "status": "completed"
        },
        "tags": [
          "hide-input"
        ]
      },
      "outputs": [],
      "source": [
        "def cartesian_product(*arrays: ComplexFloat) -> ComplexFloat:\n",
        "    \"\"\"calculate the n-dimensional cartesian product of an arbitrary number of arrays\"\"\"\n",
        "    ixarrays = jnp.ix_(*arrays)\n",
        "    barrays = jnp.broadcast_arrays(*ixarrays)\n",
        "    sarrays = jnp.stack(barrays, -1)\n",
        "    assert isinstance(sarrays, jnp.ndarray)\n",
        "    product = sarrays.reshape(-1, sarrays.shape[-1])\n",
        "    assert isinstance(product, jnp.ndarray)\n",
        "    return product"
      ]
    },
    {
      "cell_type": "markdown",
      "id": "9dac6dbc9ff5f150",
      "metadata": {},
      "source": [
        ":::{eval-rst}\n",
        ".. autofunction:: sax.nn.utils.denormalize\n",
        ":::\n"
      ]
    },
    {
      "cell_type": "code",
      "execution_count": 5,
      "id": "beaa15e7e734e1cb",
      "metadata": {
        "execution": {
          "iopub.execute_input": "2022-08-10T16:01:57.494074Z",
          "iopub.status.busy": "2022-08-10T16:01:57.493652Z",
          "iopub.status.idle": "2022-08-10T16:01:57.496426Z",
          "shell.execute_reply": "2022-08-10T16:01:57.496095Z"
        },
        "papermill": {
          "duration": 0.01109,
          "end_time": "2022-08-10T16:01:57.496514",
          "exception": false,
          "start_time": "2022-08-10T16:01:57.485424",
          "status": "completed"
        },
        "tags": [
          "hide-input"
        ]
      },
      "outputs": [],
      "source": [
        "def denormalize(x: ComplexFloat, mean: ComplexFloat = 0.0, std: ComplexFloat = 1.0) -> ComplexFloat:\n",
        "    \"\"\"denormalize an array with a given mean and standard deviation\"\"\"\n",
        "    return x * std + mean"
      ]
    },
    {
      "cell_type": "code",
      "execution_count": 6,
      "id": "212180d6812ceb1a",
      "metadata": {
        "execution": {
          "iopub.execute_input": "2022-08-10T16:01:57.510635Z",
          "iopub.status.busy": "2022-08-10T16:01:57.510223Z",
          "iopub.status.idle": "2022-08-10T16:01:57.512077Z",
          "shell.execute_reply": "2022-08-10T16:01:57.511738Z"
        },
        "papermill": {
          "duration": 0.010138,
          "end_time": "2022-08-10T16:01:57.512165",
          "exception": false,
          "start_time": "2022-08-10T16:01:57.502027",
          "status": "completed"
        },
        "tags": [
          "remove-cell"
        ]
      },
      "outputs": [],
      "source": [
        "norm = namedtuple(\"norm\", (\"mean\", \"std\"))"
      ]
    },
    {
      "cell_type": "markdown",
      "id": "20f1d22723fbdaeb",
      "metadata": {},
      "source": [
        ":::{eval-rst}\n",
        ".. autofunction:: sax.nn.utils.get_normalization\n",
        ":::\n"
      ]
    },
    {
      "cell_type": "code",
      "execution_count": 7,
      "id": "a017d9698b558747",
      "metadata": {
        "execution": {
          "iopub.execute_input": "2022-08-10T16:01:57.526685Z",
          "iopub.status.busy": "2022-08-10T16:01:57.526269Z",
          "iopub.status.idle": "2022-08-10T16:01:57.527758Z",
          "shell.execute_reply": "2022-08-10T16:01:57.528116Z"
        },
        "papermill": {
          "duration": 0.010407,
          "end_time": "2022-08-10T16:01:57.528216",
          "exception": false,
          "start_time": "2022-08-10T16:01:57.517809",
          "status": "completed"
        },
        "tags": [
          "hide-input"
        ]
      },
      "outputs": [],
      "source": [
        "def get_normalization(x: ComplexFloat):\n",
        "    \"\"\"Get mean and standard deviation for a given array\"\"\"\n",
        "    if isinstance(x, (complex, float)):\n",
        "        return x, 0.0\n",
        "    return norm(x.mean(0), x.std(0))"
      ]
    },
    {
      "cell_type": "markdown",
      "id": "03d708e6abf253ad",
      "metadata": {},
      "source": [
        ":::{eval-rst}\n",
        ".. autofunction:: sax.nn.utils.get_df_columns\n",
        ":::\n"
      ]
    },
    {
      "cell_type": "code",
      "execution_count": 8,
      "id": "fc0593c1375deb51",
      "metadata": {
        "execution": {
          "iopub.execute_input": "2022-08-10T16:01:57.543983Z",
          "iopub.status.busy": "2022-08-10T16:01:57.543525Z",
          "iopub.status.idle": "2022-08-10T16:01:57.545206Z",
          "shell.execute_reply": "2022-08-10T16:01:57.544878Z"
        },
        "papermill": {
          "duration": 0.011395,
          "end_time": "2022-08-10T16:01:57.545294",
          "exception": false,
          "start_time": "2022-08-10T16:01:57.533899",
          "status": "completed"
        },
        "tags": [
          "hide-input"
        ]
      },
      "outputs": [],
      "source": [
        "def get_df_columns(df: pd.DataFrame, *names: str) -> Tuple[ComplexFloat, ...]:\n",
        "    \"\"\"Get certain columns from a pandas DataFrame as jax.numpy arrays\"\"\"\n",
        "    tup = namedtuple(\"params\", names)\n",
        "    params_list = []\n",
        "    for name in names:\n",
        "        column_np = df[name].values\n",
        "        column_jnp = jnp.array(column_np)\n",
        "        assert isinstance(column_jnp, jnp.ndarray)\n",
        "        params_list.append(column_jnp.ravel())\n",
        "    return tup(*params_list)"
      ]
    },
    {
      "cell_type": "markdown",
      "id": "68732161425fb091",
      "metadata": {},
      "source": [
        ":::{eval-rst}\n",
        ".. autofunction:: sax.nn.utils.normalize\n",
        ":::\n"
      ]
    },
    {
      "cell_type": "code",
      "execution_count": 9,
      "id": "27e478dd184f2460",
      "metadata": {
        "execution": {
          "iopub.execute_input": "2022-08-10T16:01:57.558953Z",
          "iopub.status.busy": "2022-08-10T16:01:57.558543Z",
          "iopub.status.idle": "2022-08-10T16:01:57.561657Z",
          "shell.execute_reply": "2022-08-10T16:01:57.561324Z"
        },
        "papermill": {
          "duration": 0.010673,
          "end_time": "2022-08-10T16:01:57.561744",
          "exception": false,
          "start_time": "2022-08-10T16:01:57.551071",
          "status": "completed"
        },
        "tags": [
          "hide-input"
        ]
      },
      "outputs": [],
      "source": [
        "def normalize(\n",
        "    x: ComplexFloat, mean: ComplexFloat = 0.0, std: ComplexFloat = 1.0\n",
        ") -> ComplexFloat:\n",
        "    \"\"\"normalize an array with a given mean and standard deviation\"\"\"\n",
        "    return (x - mean) / std"
      ]
    }
  ],
  "metadata": {
    "kernelspec": {
      "display_name": "sax",
      "language": "python",
      "name": "sax"
    },
    "language_info": {
      "codemirror_mode": {
        "name": "ipython",
        "version": 3
      },
      "file_extension": ".py",
      "mimetype": "text/x-python",
      "name": "python",
      "nbconvert_exporter": "python",
      "pygments_lexer": "ipython3",
      "version": "3.9.0"
    },
    "papermill": {
      "default_parameters": {},
      "duration": 4.369245,
      "end_time": "2022-08-10T16:01:58.908627",
      "environment_variables": {},
      "exception": null,
      "input_path": "./nbs/09b_nn_utils.ipynb",
      "output_path": "./nbs/09b_nn_utils.ipynb",
      "parameters": {},
      "start_time": "2022-08-10T16:01:54.539382",
      "version": "2.3.4"
    }
  },
  "nbformat": 4,
  "nbformat_minor": 5
}
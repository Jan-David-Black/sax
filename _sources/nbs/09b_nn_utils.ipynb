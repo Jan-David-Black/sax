{
  "cells": [
    {
      "cell_type": "code",
      "execution_count": 1,
      "id": "be748d8900f5b68d",
      "metadata": {
        "execution": {
          "iopub.execute_input": "2022-08-10T14:58:24.292516Z",
          "iopub.status.busy": "2022-08-10T14:58:24.292088Z",
          "iopub.status.idle": "2022-08-10T14:58:24.294249Z",
          "shell.execute_reply": "2022-08-10T14:58:24.294613Z"
        },
        "papermill": {
          "duration": 0.012521,
          "end_time": "2022-08-10T14:58:24.294805",
          "exception": false,
          "start_time": "2022-08-10T14:58:24.282284",
          "status": "completed"
        },
        "tags": [
          "remove-cell"
        ]
      },
      "outputs": [],
      "source": []
    },
    {
      "cell_type": "markdown",
      "id": "3ac7a21d",
      "metadata": {
        "papermill": {
          "duration": 0.005518,
          "end_time": "2022-08-10T14:58:24.306551",
          "exception": false,
          "start_time": "2022-08-10T14:58:24.301033",
          "status": "completed"
        },
        "tags": []
      },
      "source": [
        "# NN - Utils\n",
        "\n",
        "> loss functions and utilitites for SAX neural networks"
      ]
    },
    {
      "cell_type": "code",
      "execution_count": 2,
      "id": "744664260dbd8ac5",
      "metadata": {
        "execution": {
          "iopub.execute_input": "2022-08-10T14:58:24.324824Z",
          "iopub.status.busy": "2022-08-10T14:58:24.324415Z",
          "iopub.status.idle": "2022-08-10T14:58:24.999273Z",
          "shell.execute_reply": "2022-08-10T14:58:24.998896Z"
        },
        "papermill": {
          "duration": 0.687316,
          "end_time": "2022-08-10T14:58:24.999379",
          "exception": false,
          "start_time": "2022-08-10T14:58:24.312063",
          "status": "completed"
        },
        "tags": [
          "remove-cell"
        ]
      },
      "outputs": [],
      "source": [
        "import matplotlib.pyplot as plt\n",
        "from fastcore.test import test_eq\n",
        "from pytest import approx, raises\n",
        "\n",
        "import os, sys; sys.stderr = open(os.devnull, \"w\")"
      ]
    },
    {
      "cell_type": "code",
      "execution_count": 3,
      "id": "ed2e5d0d87d67135",
      "metadata": {
        "execution": {
          "iopub.execute_input": "2022-08-10T14:58:25.014646Z",
          "iopub.status.busy": "2022-08-10T14:58:25.013353Z",
          "iopub.status.idle": "2022-08-10T14:58:25.973295Z",
          "shell.execute_reply": "2022-08-10T14:58:25.972895Z"
        },
        "papermill": {
          "duration": 0.968013,
          "end_time": "2022-08-10T14:58:25.973403",
          "exception": false,
          "start_time": "2022-08-10T14:58:25.005390",
          "status": "completed"
        },
        "tags": [
          "hide-input"
        ]
      },
      "outputs": [],
      "source": [
        "from __future__ import annotations\n",
        "\n",
        "from collections import namedtuple\n",
        "from typing import Tuple\n",
        "\n",
        "import jax.numpy as jnp\n",
        "import pandas as pd\n",
        "from sax.typing_ import ComplexFloat"
      ]
    },
    {
      "cell_type": "markdown",
      "id": "b9f6cc59e129a54b",
      "metadata": {},
      "source": [
        ":::{eval-rst}\n",
        ".. autofunction:: sax.nn.utils.cartesian_product\n",
        ":::\n"
      ]
    },
    {
      "cell_type": "code",
      "execution_count": 4,
      "id": "ec5824dcc9be7fc2",
      "metadata": {
        "execution": {
          "iopub.execute_input": "2022-08-10T14:58:25.990041Z",
          "iopub.status.busy": "2022-08-10T14:58:25.989617Z",
          "iopub.status.idle": "2022-08-10T14:58:25.991137Z",
          "shell.execute_reply": "2022-08-10T14:58:25.990799Z"
        },
        "papermill": {
          "duration": 0.011791,
          "end_time": "2022-08-10T14:58:25.991224",
          "exception": false,
          "start_time": "2022-08-10T14:58:25.979433",
          "status": "completed"
        },
        "tags": [
          "hide-input"
        ]
      },
      "outputs": [],
      "source": [
        "def cartesian_product(*arrays: ComplexFloat) -> ComplexFloat:\n",
        "    \"\"\"calculate the n-dimensional cartesian product of an arbitrary number of arrays\"\"\"\n",
        "    ixarrays = jnp.ix_(*arrays)\n",
        "    barrays = jnp.broadcast_arrays(*ixarrays)\n",
        "    sarrays = jnp.stack(barrays, -1)\n",
        "    assert isinstance(sarrays, jnp.ndarray)\n",
        "    product = sarrays.reshape(-1, sarrays.shape[-1])\n",
        "    assert isinstance(product, jnp.ndarray)\n",
        "    return product"
      ]
    },
    {
      "cell_type": "markdown",
      "id": "8750f1290dba5a7b",
      "metadata": {},
      "source": [
        ":::{eval-rst}\n",
        ".. autofunction:: sax.nn.utils.denormalize\n",
        ":::\n"
      ]
    },
    {
      "cell_type": "code",
      "execution_count": 5,
      "id": "a1b8ad8216f28988",
      "metadata": {
        "execution": {
          "iopub.execute_input": "2022-08-10T14:58:26.004714Z",
          "iopub.status.busy": "2022-08-10T14:58:26.004314Z",
          "iopub.status.idle": "2022-08-10T14:58:26.007426Z",
          "shell.execute_reply": "2022-08-10T14:58:26.007091Z"
        },
        "papermill": {
          "duration": 0.0104,
          "end_time": "2022-08-10T14:58:26.007512",
          "exception": false,
          "start_time": "2022-08-10T14:58:25.997112",
          "status": "completed"
        },
        "tags": [
          "hide-input"
        ]
      },
      "outputs": [],
      "source": [
        "def denormalize(x: ComplexFloat, mean: ComplexFloat = 0.0, std: ComplexFloat = 1.0) -> ComplexFloat:\n",
        "    \"\"\"denormalize an array with a given mean and standard deviation\"\"\"\n",
        "    return x * std + mean"
      ]
    },
    {
      "cell_type": "code",
      "execution_count": 6,
      "id": "73295a977a37fc85",
      "metadata": {
        "execution": {
          "iopub.execute_input": "2022-08-10T14:58:26.022228Z",
          "iopub.status.busy": "2022-08-10T14:58:26.021822Z",
          "iopub.status.idle": "2022-08-10T14:58:26.023485Z",
          "shell.execute_reply": "2022-08-10T14:58:26.023163Z"
        },
        "papermill": {
          "duration": 0.010126,
          "end_time": "2022-08-10T14:58:26.023573",
          "exception": false,
          "start_time": "2022-08-10T14:58:26.013447",
          "status": "completed"
        },
        "tags": [
          "remove-cell"
        ]
      },
      "outputs": [],
      "source": [
        "norm = namedtuple(\"norm\", (\"mean\", \"std\"))"
      ]
    },
    {
      "cell_type": "markdown",
      "id": "83a0ba05941d1095",
      "metadata": {},
      "source": [
        ":::{eval-rst}\n",
        ".. autofunction:: sax.nn.utils.get_normalization\n",
        ":::\n"
      ]
    },
    {
      "cell_type": "code",
      "execution_count": 7,
      "id": "f90543b1e6f931f9",
      "metadata": {
        "execution": {
          "iopub.execute_input": "2022-08-10T14:58:26.039198Z",
          "iopub.status.busy": "2022-08-10T14:58:26.038480Z",
          "iopub.status.idle": "2022-08-10T14:58:26.039698Z",
          "shell.execute_reply": "2022-08-10T14:58:26.040028Z"
        },
        "papermill": {
          "duration": 0.010534,
          "end_time": "2022-08-10T14:58:26.040130",
          "exception": false,
          "start_time": "2022-08-10T14:58:26.029596",
          "status": "completed"
        },
        "tags": [
          "hide-input"
        ]
      },
      "outputs": [],
      "source": [
        "def get_normalization(x: ComplexFloat):\n",
        "    \"\"\"Get mean and standard deviation for a given array\"\"\"\n",
        "    if isinstance(x, (complex, float)):\n",
        "        return x, 0.0\n",
        "    return norm(x.mean(0), x.std(0))"
      ]
    },
    {
      "cell_type": "markdown",
      "id": "e01ec441d016ca38",
      "metadata": {},
      "source": [
        ":::{eval-rst}\n",
        ".. autofunction:: sax.nn.utils.get_df_columns\n",
        ":::\n"
      ]
    },
    {
      "cell_type": "code",
      "execution_count": 8,
      "id": "490df50c50f6f090",
      "metadata": {
        "execution": {
          "iopub.execute_input": "2022-08-10T14:58:26.056308Z",
          "iopub.status.busy": "2022-08-10T14:58:26.055868Z",
          "iopub.status.idle": "2022-08-10T14:58:26.057695Z",
          "shell.execute_reply": "2022-08-10T14:58:26.057367Z"
        },
        "papermill": {
          "duration": 0.011641,
          "end_time": "2022-08-10T14:58:26.057787",
          "exception": false,
          "start_time": "2022-08-10T14:58:26.046146",
          "status": "completed"
        },
        "tags": [
          "hide-input"
        ]
      },
      "outputs": [],
      "source": [
        "def get_df_columns(df: pd.DataFrame, *names: str) -> Tuple[ComplexFloat, ...]:\n",
        "    \"\"\"Get certain columns from a pandas DataFrame as jax.numpy arrays\"\"\"\n",
        "    tup = namedtuple(\"params\", names)\n",
        "    params_list = []\n",
        "    for name in names:\n",
        "        column_np = df[name].values\n",
        "        column_jnp = jnp.array(column_np)\n",
        "        assert isinstance(column_jnp, jnp.ndarray)\n",
        "        params_list.append(column_jnp.ravel())\n",
        "    return tup(*params_list)"
      ]
    },
    {
      "cell_type": "markdown",
      "id": "6ba61e2bb7d66820",
      "metadata": {},
      "source": [
        ":::{eval-rst}\n",
        ".. autofunction:: sax.nn.utils.normalize\n",
        ":::\n"
      ]
    },
    {
      "cell_type": "code",
      "execution_count": 9,
      "id": "11b28175a32dd31b",
      "metadata": {
        "execution": {
          "iopub.execute_input": "2022-08-10T14:58:26.073891Z",
          "iopub.status.busy": "2022-08-10T14:58:26.073457Z",
          "iopub.status.idle": "2022-08-10T14:58:26.074523Z",
          "shell.execute_reply": "2022-08-10T14:58:26.074856Z"
        },
        "papermill": {
          "duration": 0.010874,
          "end_time": "2022-08-10T14:58:26.074962",
          "exception": false,
          "start_time": "2022-08-10T14:58:26.064088",
          "status": "completed"
        },
        "tags": [
          "hide-input"
        ]
      },
      "outputs": [],
      "source": [
        "def normalize(\n",
        "    x: ComplexFloat, mean: ComplexFloat = 0.0, std: ComplexFloat = 1.0\n",
        ") -> ComplexFloat:\n",
        "    \"\"\"normalize an array with a given mean and standard deviation\"\"\"\n",
        "    return (x - mean) / std"
      ]
    }
  ],
  "metadata": {
    "kernelspec": {
      "display_name": "sax",
      "language": "python",
      "name": "sax"
    },
    "language_info": {
      "codemirror_mode": {
        "name": "ipython",
        "version": 3
      },
      "file_extension": ".py",
      "mimetype": "text/x-python",
      "name": "python",
      "nbconvert_exporter": "python",
      "pygments_lexer": "ipython3",
      "version": "3.9.0"
    },
    "papermill": {
      "default_parameters": {},
      "duration": 3.222134,
      "end_time": "2022-08-10T14:58:26.386388",
      "environment_variables": {},
      "exception": null,
      "input_path": "./nbs/09b_nn_utils.ipynb",
      "output_path": "./nbs/09b_nn_utils.ipynb",
      "parameters": {},
      "start_time": "2022-08-10T14:58:23.164254",
      "version": "2.3.4"
    }
  },
  "nbformat": 4,
  "nbformat_minor": 5
}
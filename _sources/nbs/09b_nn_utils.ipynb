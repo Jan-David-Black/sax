{
  "cells": [
    {
      "cell_type": "code",
      "execution_count": 1,
      "id": "26e6f47847f96d45",
      "metadata": {
        "execution": {
          "iopub.execute_input": "2022-08-16T04:19:14.569207Z",
          "iopub.status.busy": "2022-08-16T04:19:14.568771Z",
          "iopub.status.idle": "2022-08-16T04:19:14.571410Z",
          "shell.execute_reply": "2022-08-16T04:19:14.571009Z"
        },
        "papermill": {
          "duration": 0.011756,
          "end_time": "2022-08-16T04:19:14.571517",
          "exception": false,
          "start_time": "2022-08-16T04:19:14.559761",
          "status": "completed"
        },
        "tags": [
          "remove-cell"
        ]
      },
      "outputs": [],
      "source": []
    },
    {
      "cell_type": "markdown",
      "id": "3ac7a21d",
      "metadata": {
        "papermill": {
          "duration": 0.004744,
          "end_time": "2022-08-16T04:19:14.581568",
          "exception": false,
          "start_time": "2022-08-16T04:19:14.576824",
          "status": "completed"
        },
        "tags": []
      },
      "source": [
        "# Utils\n",
        "\n",
        "> loss functions and utilitites for SAX neural networks"
      ]
    },
    {
      "cell_type": "code",
      "execution_count": 2,
      "id": "7fa562d3e4f727da",
      "metadata": {
        "execution": {
          "iopub.execute_input": "2022-08-16T04:19:14.598328Z",
          "iopub.status.busy": "2022-08-16T04:19:14.597920Z",
          "iopub.status.idle": "2022-08-16T04:19:15.272757Z",
          "shell.execute_reply": "2022-08-16T04:19:15.272312Z"
        },
        "papermill": {
          "duration": 0.686513,
          "end_time": "2022-08-16T04:19:15.272882",
          "exception": false,
          "start_time": "2022-08-16T04:19:14.586369",
          "status": "completed"
        },
        "tags": [
          "remove-cell"
        ]
      },
      "outputs": [],
      "source": [
        "import matplotlib.pyplot as plt\n",
        "from fastcore.test import test_eq\n",
        "from pytest import approx, raises\n",
        "\n",
        "import os, sys; sys.stderr = open(os.devnull, \"w\")"
      ]
    },
    {
      "cell_type": "code",
      "execution_count": 3,
      "id": "fe6015c0eaadabb7",
      "metadata": {
        "execution": {
          "iopub.execute_input": "2022-08-16T04:19:15.287071Z",
          "iopub.status.busy": "2022-08-16T04:19:15.285030Z",
          "iopub.status.idle": "2022-08-16T04:19:16.365679Z",
          "shell.execute_reply": "2022-08-16T04:19:16.364855Z"
        },
        "papermill": {
          "duration": 1.087789,
          "end_time": "2022-08-16T04:19:16.365803",
          "exception": false,
          "start_time": "2022-08-16T04:19:15.278014",
          "status": "completed"
        },
        "tags": [
          "hide-input"
        ]
      },
      "outputs": [],
      "source": [
        "from __future__ import annotations\n",
        "\n",
        "from collections import namedtuple\n",
        "from typing import Tuple\n",
        "\n",
        "import jax.numpy as jnp\n",
        "import pandas as pd\n",
        "from sax.typing_ import ComplexFloat"
      ]
    },
    {
      "cell_type": "markdown",
      "id": "6b0d8fe1477c266e",
      "metadata": {},
      "source": [
        ":::{eval-rst}\n",
        ".. autofunction:: sax.nn.utils.cartesian_product\n",
        ":::\n"
      ]
    },
    {
      "cell_type": "code",
      "execution_count": 4,
      "id": "80bc81fdb8e82746",
      "metadata": {
        "execution": {
          "iopub.execute_input": "2022-08-16T04:19:16.381025Z",
          "iopub.status.busy": "2022-08-16T04:19:16.380182Z",
          "iopub.status.idle": "2022-08-16T04:19:16.381517Z",
          "shell.execute_reply": "2022-08-16T04:19:16.381851Z"
        },
        "papermill": {
          "duration": 0.011007,
          "end_time": "2022-08-16T04:19:16.381959",
          "exception": false,
          "start_time": "2022-08-16T04:19:16.370952",
          "status": "completed"
        },
        "tags": [
          "hide-input"
        ]
      },
      "outputs": [],
      "source": [
        "def cartesian_product(*arrays: ComplexFloat) -> ComplexFloat:\n",
        "    \"\"\"calculate the n-dimensional cartesian product of an arbitrary number of arrays\"\"\"\n",
        "    ixarrays = jnp.ix_(*arrays)\n",
        "    barrays = jnp.broadcast_arrays(*ixarrays)\n",
        "    sarrays = jnp.stack(barrays, -1)\n",
        "    assert isinstance(sarrays, jnp.ndarray)\n",
        "    product = sarrays.reshape(-1, sarrays.shape[-1])\n",
        "    assert isinstance(product, jnp.ndarray)\n",
        "    return product"
      ]
    },
    {
      "cell_type": "markdown",
      "id": "9c83540ae70cdee3",
      "metadata": {},
      "source": [
        ":::{eval-rst}\n",
        ".. autofunction:: sax.nn.utils.denormalize\n",
        ":::\n"
      ]
    },
    {
      "cell_type": "code",
      "execution_count": 5,
      "id": "28f08cace0934c02",
      "metadata": {
        "execution": {
          "iopub.execute_input": "2022-08-16T04:19:16.394965Z",
          "iopub.status.busy": "2022-08-16T04:19:16.394552Z",
          "iopub.status.idle": "2022-08-16T04:19:16.397253Z",
          "shell.execute_reply": "2022-08-16T04:19:16.396874Z"
        },
        "papermill": {
          "duration": 0.010564,
          "end_time": "2022-08-16T04:19:16.397341",
          "exception": false,
          "start_time": "2022-08-16T04:19:16.386777",
          "status": "completed"
        },
        "tags": [
          "hide-input"
        ]
      },
      "outputs": [],
      "source": [
        "def denormalize(x: ComplexFloat, mean: ComplexFloat = 0.0, std: ComplexFloat = 1.0) -> ComplexFloat:\n",
        "    \"\"\"denormalize an array with a given mean and standard deviation\"\"\"\n",
        "    return x * std + mean"
      ]
    },
    {
      "cell_type": "code",
      "execution_count": 6,
      "id": "1180590a4d970b2a",
      "metadata": {
        "execution": {
          "iopub.execute_input": "2022-08-16T04:19:16.410334Z",
          "iopub.status.busy": "2022-08-16T04:19:16.409887Z",
          "iopub.status.idle": "2022-08-16T04:19:16.411028Z",
          "shell.execute_reply": "2022-08-16T04:19:16.411351Z"
        },
        "papermill": {
          "duration": 0.009157,
          "end_time": "2022-08-16T04:19:16.411452",
          "exception": false,
          "start_time": "2022-08-16T04:19:16.402295",
          "status": "completed"
        },
        "tags": [
          "remove-cell"
        ]
      },
      "outputs": [],
      "source": [
        "norm = namedtuple(\"norm\", (\"mean\", \"std\"))"
      ]
    },
    {
      "cell_type": "markdown",
      "id": "7dca6e8c19057e4d",
      "metadata": {},
      "source": [
        ":::{eval-rst}\n",
        ".. autofunction:: sax.nn.utils.get_normalization\n",
        ":::\n"
      ]
    },
    {
      "cell_type": "code",
      "execution_count": 7,
      "id": "c4a2cc3476f71d35",
      "metadata": {
        "execution": {
          "iopub.execute_input": "2022-08-16T04:19:16.425254Z",
          "iopub.status.busy": "2022-08-16T04:19:16.424836Z",
          "iopub.status.idle": "2022-08-16T04:19:16.427505Z",
          "shell.execute_reply": "2022-08-16T04:19:16.427151Z"
        },
        "papermill": {
          "duration": 0.011196,
          "end_time": "2022-08-16T04:19:16.427620",
          "exception": false,
          "start_time": "2022-08-16T04:19:16.416424",
          "status": "completed"
        },
        "tags": [
          "hide-input"
        ]
      },
      "outputs": [],
      "source": [
        "def get_normalization(x: ComplexFloat):\n",
        "    \"\"\"Get mean and standard deviation for a given array\"\"\"\n",
        "    if isinstance(x, (complex, float)):\n",
        "        return x, 0.0\n",
        "    return norm(x.mean(0), x.std(0))"
      ]
    },
    {
      "cell_type": "markdown",
      "id": "fa8de20cc10ecc2a",
      "metadata": {},
      "source": [
        ":::{eval-rst}\n",
        ".. autofunction:: sax.nn.utils.get_df_columns\n",
        ":::\n"
      ]
    },
    {
      "cell_type": "code",
      "execution_count": 8,
      "id": "bfc073133426c7de",
      "metadata": {
        "execution": {
          "iopub.execute_input": "2022-08-16T04:19:16.442238Z",
          "iopub.status.busy": "2022-08-16T04:19:16.441618Z",
          "iopub.status.idle": "2022-08-16T04:19:16.442966Z",
          "shell.execute_reply": "2022-08-16T04:19:16.443293Z"
        },
        "papermill": {
          "duration": 0.01068,
          "end_time": "2022-08-16T04:19:16.443393",
          "exception": false,
          "start_time": "2022-08-16T04:19:16.432713",
          "status": "completed"
        },
        "tags": [
          "hide-input"
        ]
      },
      "outputs": [],
      "source": [
        "def get_df_columns(df: pd.DataFrame, *names: str) -> Tuple[ComplexFloat, ...]:\n",
        "    \"\"\"Get certain columns from a pandas DataFrame as jax.numpy arrays\"\"\"\n",
        "    tup = namedtuple(\"params\", names)\n",
        "    params_list = []\n",
        "    for name in names:\n",
        "        column_np = df[name].values\n",
        "        column_jnp = jnp.array(column_np)\n",
        "        assert isinstance(column_jnp, jnp.ndarray)\n",
        "        params_list.append(column_jnp.ravel())\n",
        "    return tup(*params_list)"
      ]
    },
    {
      "cell_type": "markdown",
      "id": "921f33465f72ecc9",
      "metadata": {},
      "source": [
        ":::{eval-rst}\n",
        ".. autofunction:: sax.nn.utils.normalize\n",
        ":::\n"
      ]
    },
    {
      "cell_type": "code",
      "execution_count": 9,
      "id": "001ef0cc9f94c63f",
      "metadata": {
        "execution": {
          "iopub.execute_input": "2022-08-16T04:19:16.456885Z",
          "iopub.status.busy": "2022-08-16T04:19:16.456472Z",
          "iopub.status.idle": "2022-08-16T04:19:16.459222Z",
          "shell.execute_reply": "2022-08-16T04:19:16.458892Z"
        },
        "papermill": {
          "duration": 0.010741,
          "end_time": "2022-08-16T04:19:16.459310",
          "exception": false,
          "start_time": "2022-08-16T04:19:16.448569",
          "status": "completed"
        },
        "tags": [
          "hide-input"
        ]
      },
      "outputs": [],
      "source": [
        "def normalize(\n",
        "    x: ComplexFloat, mean: ComplexFloat = 0.0, std: ComplexFloat = 1.0\n",
        ") -> ComplexFloat:\n",
        "    \"\"\"normalize an array with a given mean and standard deviation\"\"\"\n",
        "    return (x - mean) / std"
      ]
    }
  ],
  "metadata": {
    "kernelspec": {
      "display_name": "sax",
      "language": "python",
      "name": "sax"
    },
    "language_info": {
      "codemirror_mode": {
        "name": "ipython",
        "version": 3
      },
      "file_extension": ".py",
      "mimetype": "text/x-python",
      "name": "python",
      "nbconvert_exporter": "python",
      "pygments_lexer": "ipython3",
      "version": "3.9.0"
    },
    "papermill": {
      "default_parameters": {},
      "duration": 4.370416,
      "end_time": "2022-08-16T04:19:17.798021",
      "environment_variables": {},
      "exception": null,
      "input_path": "./nbs/09b_nn_utils.ipynb",
      "output_path": "./nbs/09b_nn_utils.ipynb",
      "parameters": {},
      "start_time": "2022-08-16T04:19:13.427605",
      "version": "2.3.4"
    }
  },
  "nbformat": 4,
  "nbformat_minor": 5
}
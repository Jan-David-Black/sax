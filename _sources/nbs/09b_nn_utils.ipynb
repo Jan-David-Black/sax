{
  "cells": [
    {
      "cell_type": "code",
      "execution_count": 1,
      "id": "c88d6df833be3787",
      "metadata": {
        "execution": {
          "iopub.execute_input": "2022-08-04T05:49:14.993954Z",
          "iopub.status.busy": "2022-08-04T05:49:14.993416Z",
          "iopub.status.idle": "2022-08-04T05:49:14.996438Z",
          "shell.execute_reply": "2022-08-04T05:49:14.995943Z"
        },
        "papermill": {
          "duration": 0.016329,
          "end_time": "2022-08-04T05:49:14.996579",
          "exception": false,
          "start_time": "2022-08-04T05:49:14.980250",
          "status": "completed"
        },
        "tags": [
          "remove-cell"
        ]
      },
      "outputs": [],
      "source": []
    },
    {
      "cell_type": "markdown",
      "id": "3ac7a21d",
      "metadata": {
        "papermill": {
          "duration": 0.006319,
          "end_time": "2022-08-04T05:49:15.010057",
          "exception": false,
          "start_time": "2022-08-04T05:49:15.003738",
          "status": "completed"
        },
        "tags": []
      },
      "source": [
        "# NN - Utils\n",
        "\n",
        "> loss functions and utilitites for SAX neural networks"
      ]
    },
    {
      "cell_type": "code",
      "execution_count": 2,
      "id": "94c79b3c2e1456f2",
      "metadata": {
        "execution": {
          "iopub.execute_input": "2022-08-04T05:49:15.033949Z",
          "iopub.status.busy": "2022-08-04T05:49:15.033381Z",
          "iopub.status.idle": "2022-08-04T05:49:15.859886Z",
          "shell.execute_reply": "2022-08-04T05:49:15.860294Z"
        },
        "papermill": {
          "duration": 0.844135,
          "end_time": "2022-08-04T05:49:15.860463",
          "exception": false,
          "start_time": "2022-08-04T05:49:15.016328",
          "status": "completed"
        },
        "tags": [
          "remove-cell"
        ]
      },
      "outputs": [],
      "source": [
        "import matplotlib.pyplot as plt\n",
        "from fastcore.test import test_eq\n",
        "from pytest import approx, raises\n",
        "\n",
        "import os, sys; sys.stderr = open(os.devnull, \"w\")"
      ]
    },
    {
      "cell_type": "code",
      "execution_count": 3,
      "id": "a889967de25c0546",
      "metadata": {
        "execution": {
          "iopub.execute_input": "2022-08-04T05:49:15.878736Z",
          "iopub.status.busy": "2022-08-04T05:49:15.876939Z",
          "iopub.status.idle": "2022-08-04T05:49:17.107102Z",
          "shell.execute_reply": "2022-08-04T05:49:17.106045Z"
        },
        "papermill": {
          "duration": 1.239672,
          "end_time": "2022-08-04T05:49:17.107244",
          "exception": false,
          "start_time": "2022-08-04T05:49:15.867572",
          "status": "completed"
        },
        "tags": [
          "hide-input"
        ]
      },
      "outputs": [],
      "source": [
        "from __future__ import annotations\n",
        "\n",
        "from collections import namedtuple\n",
        "from typing import Tuple\n",
        "\n",
        "import jax.numpy as jnp\n",
        "import pandas as pd\n",
        "from sax.typing_ import ComplexFloat"
      ]
    },
    {
      "cell_type": "markdown",
      "id": "8241a7d12f5f73ea",
      "metadata": {},
      "source": [
        ":::{eval-rst}\n",
        ".. autofunction:: sax.nn.utils.cartesian_product\n",
        ":::\n"
      ]
    },
    {
      "cell_type": "code",
      "execution_count": 4,
      "id": "112e2dd23e1ff084",
      "metadata": {
        "execution": {
          "iopub.execute_input": "2022-08-04T05:49:17.126495Z",
          "iopub.status.busy": "2022-08-04T05:49:17.125967Z",
          "iopub.status.idle": "2022-08-04T05:49:17.127046Z",
          "shell.execute_reply": "2022-08-04T05:49:17.127509Z"
        },
        "papermill": {
          "duration": 0.013653,
          "end_time": "2022-08-04T05:49:17.127647",
          "exception": false,
          "start_time": "2022-08-04T05:49:17.113994",
          "status": "completed"
        },
        "tags": [
          "hide-input"
        ]
      },
      "outputs": [],
      "source": [
        "def cartesian_product(*arrays: ComplexFloat) -> ComplexFloat:\n",
        "    \"\"\"calculate the n-dimensional cartesian product of an arbitrary number of arrays\"\"\"\n",
        "    ixarrays = jnp.ix_(*arrays)\n",
        "    barrays = jnp.broadcast_arrays(*ixarrays)\n",
        "    sarrays = jnp.stack(barrays, -1)\n",
        "    assert isinstance(sarrays, jnp.ndarray)\n",
        "    product = sarrays.reshape(-1, sarrays.shape[-1])\n",
        "    assert isinstance(product, jnp.ndarray)\n",
        "    return product"
      ]
    },
    {
      "cell_type": "markdown",
      "id": "c256363502b61477",
      "metadata": {},
      "source": [
        ":::{eval-rst}\n",
        ".. autofunction:: sax.nn.utils.denormalize\n",
        ":::\n"
      ]
    },
    {
      "cell_type": "code",
      "execution_count": 5,
      "id": "e65c21cf3e63b32d",
      "metadata": {
        "execution": {
          "iopub.execute_input": "2022-08-04T05:49:17.146005Z",
          "iopub.status.busy": "2022-08-04T05:49:17.145051Z",
          "iopub.status.idle": "2022-08-04T05:49:17.146616Z",
          "shell.execute_reply": "2022-08-04T05:49:17.147011Z"
        },
        "papermill": {
          "duration": 0.012855,
          "end_time": "2022-08-04T05:49:17.147147",
          "exception": false,
          "start_time": "2022-08-04T05:49:17.134292",
          "status": "completed"
        },
        "tags": [
          "hide-input"
        ]
      },
      "outputs": [],
      "source": [
        "def denormalize(x: ComplexFloat, mean: ComplexFloat = 0.0, std: ComplexFloat = 1.0) -> ComplexFloat:\n",
        "    \"\"\"denormalize an array with a given mean and standard deviation\"\"\"\n",
        "    return x * std + mean"
      ]
    },
    {
      "cell_type": "code",
      "execution_count": 6,
      "id": "05ea7ccecc5b8068",
      "metadata": {
        "execution": {
          "iopub.execute_input": "2022-08-04T05:49:17.164646Z",
          "iopub.status.busy": "2022-08-04T05:49:17.163216Z",
          "iopub.status.idle": "2022-08-04T05:49:17.166497Z",
          "shell.execute_reply": "2022-08-04T05:49:17.166965Z"
        },
        "papermill": {
          "duration": 0.013291,
          "end_time": "2022-08-04T05:49:17.167103",
          "exception": false,
          "start_time": "2022-08-04T05:49:17.153812",
          "status": "completed"
        },
        "tags": [
          "remove-cell"
        ]
      },
      "outputs": [],
      "source": [
        "norm = namedtuple(\"norm\", (\"mean\", \"std\"))"
      ]
    },
    {
      "cell_type": "markdown",
      "id": "cf424637446b17f7",
      "metadata": {},
      "source": [
        ":::{eval-rst}\n",
        ".. autofunction:: sax.nn.utils.get_normalization\n",
        ":::\n"
      ]
    },
    {
      "cell_type": "code",
      "execution_count": 7,
      "id": "e852a4d3c60ba153",
      "metadata": {
        "execution": {
          "iopub.execute_input": "2022-08-04T05:49:17.185370Z",
          "iopub.status.busy": "2022-08-04T05:49:17.184856Z",
          "iopub.status.idle": "2022-08-04T05:49:17.185949Z",
          "shell.execute_reply": "2022-08-04T05:49:17.186410Z"
        },
        "papermill": {
          "duration": 0.012617,
          "end_time": "2022-08-04T05:49:17.186580",
          "exception": false,
          "start_time": "2022-08-04T05:49:17.173963",
          "status": "completed"
        },
        "tags": [
          "hide-input"
        ]
      },
      "outputs": [],
      "source": [
        "def get_normalization(x: ComplexFloat):\n",
        "    \"\"\"Get mean and standard deviation for a given array\"\"\"\n",
        "    if isinstance(x, (complex, float)):\n",
        "        return x, 0.0\n",
        "    return norm(x.mean(0), x.std(0))"
      ]
    },
    {
      "cell_type": "markdown",
      "id": "b5eb49f9b36dc008",
      "metadata": {},
      "source": [
        ":::{eval-rst}\n",
        ".. autofunction:: sax.nn.utils.get_df_columns\n",
        ":::\n"
      ]
    },
    {
      "cell_type": "code",
      "execution_count": 8,
      "id": "ef06339f3486053b",
      "metadata": {
        "execution": {
          "iopub.execute_input": "2022-08-04T05:49:17.205405Z",
          "iopub.status.busy": "2022-08-04T05:49:17.204896Z",
          "iopub.status.idle": "2022-08-04T05:49:17.207096Z",
          "shell.execute_reply": "2022-08-04T05:49:17.206678Z"
        },
        "papermill": {
          "duration": 0.0139,
          "end_time": "2022-08-04T05:49:17.207211",
          "exception": false,
          "start_time": "2022-08-04T05:49:17.193311",
          "status": "completed"
        },
        "tags": [
          "hide-input"
        ]
      },
      "outputs": [],
      "source": [
        "def get_df_columns(df: pd.DataFrame, *names: str) -> Tuple[ComplexFloat, ...]:\n",
        "    \"\"\"Get certain columns from a pandas DataFrame as jax.numpy arrays\"\"\"\n",
        "    tup = namedtuple(\"params\", names)\n",
        "    params_list = []\n",
        "    for name in names:\n",
        "        column_np = df[name].values\n",
        "        column_jnp = jnp.array(column_np)\n",
        "        assert isinstance(column_jnp, jnp.ndarray)\n",
        "        params_list.append(column_jnp.ravel())\n",
        "    return tup(*params_list)"
      ]
    },
    {
      "cell_type": "markdown",
      "id": "1a67d96cf9fe0b87",
      "metadata": {},
      "source": [
        ":::{eval-rst}\n",
        ".. autofunction:: sax.nn.utils.normalize\n",
        ":::\n"
      ]
    },
    {
      "cell_type": "code",
      "execution_count": 9,
      "id": "7feebfcf1de2bcaf",
      "metadata": {
        "execution": {
          "iopub.execute_input": "2022-08-04T05:49:17.225847Z",
          "iopub.status.busy": "2022-08-04T05:49:17.225335Z",
          "iopub.status.idle": "2022-08-04T05:49:17.227399Z",
          "shell.execute_reply": "2022-08-04T05:49:17.226965Z"
        },
        "papermill": {
          "duration": 0.013211,
          "end_time": "2022-08-04T05:49:17.227509",
          "exception": false,
          "start_time": "2022-08-04T05:49:17.214298",
          "status": "completed"
        },
        "tags": [
          "hide-input"
        ]
      },
      "outputs": [],
      "source": [
        "def normalize(\n",
        "    x: ComplexFloat, mean: ComplexFloat = 0.0, std: ComplexFloat = 1.0\n",
        ") -> ComplexFloat:\n",
        "    \"\"\"normalize an array with a given mean and standard deviation\"\"\"\n",
        "    return (x - mean) / std"
      ]
    }
  ],
  "metadata": {
    "kernelspec": {
      "display_name": "sax",
      "language": "python",
      "name": "sax"
    },
    "language_info": {
      "codemirror_mode": {
        "name": "ipython",
        "version": 3
      },
      "file_extension": ".py",
      "mimetype": "text/x-python",
      "name": "python",
      "nbconvert_exporter": "python",
      "pygments_lexer": "ipython3",
      "version": "3.9.0"
    },
    "papermill": {
      "default_parameters": {},
      "duration": 4.28338,
      "end_time": "2022-08-04T05:49:17.742503",
      "environment_variables": {},
      "exception": null,
      "input_path": "./nbs/09b_nn_utils.ipynb",
      "output_path": "./nbs/09b_nn_utils.ipynb",
      "parameters": {},
      "start_time": "2022-08-04T05:49:13.459123",
      "version": "2.3.4"
    }
  },
  "nbformat": 4,
  "nbformat_minor": 5
}
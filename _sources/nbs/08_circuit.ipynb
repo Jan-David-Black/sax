{
  "cells": [
    {
      "cell_type": "code",
      "execution_count": 1,
      "id": "d8a5371a60d22ef9",
      "metadata": {
        "execution": {
          "iopub.execute_input": "2022-08-17T03:21:52.499494Z",
          "iopub.status.busy": "2022-08-17T03:21:52.499066Z",
          "iopub.status.idle": "2022-08-17T03:21:52.501516Z",
          "shell.execute_reply": "2022-08-17T03:21:52.501090Z"
        },
        "papermill": {
          "duration": 0.022811,
          "end_time": "2022-08-17T03:21:52.501637",
          "exception": false,
          "start_time": "2022-08-17T03:21:52.478826",
          "status": "completed"
        },
        "tags": [
          "remove-cell"
        ]
      },
      "outputs": [],
      "source": []
    },
    {
      "cell_type": "markdown",
      "id": "2c9c99fe",
      "metadata": {
        "papermill": {
          "duration": 0.015547,
          "end_time": "2022-08-17T03:21:52.533276",
          "exception": false,
          "start_time": "2022-08-17T03:21:52.517729",
          "status": "completed"
        },
        "tags": []
      },
      "source": [
        "# Circuit\n",
        "\n",
        "> SAX Circuits"
      ]
    },
    {
      "cell_type": "markdown",
      "id": "0648dc6e-c0bd-45db-810a-d0c40af04837",
      "metadata": {
        "papermill": {
          "duration": 0.015534,
          "end_time": "2022-08-17T03:21:52.564322",
          "exception": false,
          "start_time": "2022-08-17T03:21:52.548788",
          "status": "completed"
        },
        "tags": []
      },
      "source": [
        "Let's start where we left off (see [Netlist](06_netlist.ipynb))."
      ]
    },
    {
      "cell_type": "code",
      "execution_count": 2,
      "id": "5a1dd6d72bcf9802",
      "metadata": {
        "execution": {
          "iopub.execute_input": "2022-08-17T03:21:52.604091Z",
          "iopub.status.busy": "2022-08-17T03:21:52.603655Z",
          "iopub.status.idle": "2022-08-17T03:21:53.367284Z",
          "shell.execute_reply": "2022-08-17T03:21:53.367627Z"
        },
        "papermill": {
          "duration": 0.787822,
          "end_time": "2022-08-17T03:21:53.367768",
          "exception": false,
          "start_time": "2022-08-17T03:21:52.579946",
          "status": "completed"
        },
        "tags": [
          "hide-input"
        ]
      },
      "outputs": [],
      "source": [
        "from __future__ import annotations\n",
        "\n",
        "import os\n",
        "import shutil\n",
        "import sys\n",
        "from functools import partial\n",
        "from typing import Any, Dict, List, NamedTuple, Optional, Tuple, Union\n",
        "\n",
        "import black\n",
        "import networkx as nx\n",
        "import numpy as np\n",
        "from pydantic import ValidationError\n",
        "from sax import reciprocal\n",
        "from sax.backends import circuit_backends\n",
        "from sax.multimode import multimode, singlemode\n",
        "from sax.netlist import Netlist, RecursiveNetlist\n",
        "from sax.typing_ import Model, Settings, SType\n",
        "from sax.utils import _replace_kwargs, get_settings, merge_dicts, update_settings"
      ]
    },
    {
      "cell_type": "markdown",
      "id": "45ad2306-1ead-4b8c-b91e-c02ce4569b3a",
      "metadata": {
        "papermill": {
          "duration": 0.01627,
          "end_time": "2022-08-17T03:21:53.400002",
          "exception": false,
          "start_time": "2022-08-17T03:21:53.383732",
          "status": "completed"
        },
        "tags": []
      },
      "source": [
        "Let's start by creating a simple recursive netlist with gdsfactory.\n",
        "\n",
        ":::{note}\n",
        "We are using gdsfactory to create our netlist because it allows us to see the circuit we want to simulate and because we're striving to have a compatible netlist implementation in SAX.\n",
        "\n",
        "However... gdsfactory is not a dependency of SAX. You can also define your circuits by hand (see [SAX Quick Start](../examples/01_quick_start.ipynb) or you can use another tool to programmatically construct your netlists.\n",
        ":::"
      ]
    },
    {
      "cell_type": "code",
      "execution_count": 3,
      "id": "804a1c9b-c02b-4af6-ba3d-858f76634a69",
      "metadata": {
        "execution": {
          "iopub.execute_input": "2022-08-17T03:21:53.437057Z",
          "iopub.status.busy": "2022-08-17T03:21:53.436625Z",
          "iopub.status.idle": "2022-08-17T03:21:55.209271Z",
          "shell.execute_reply": "2022-08-17T03:21:55.208899Z"
        },
        "papermill": {
          "duration": 1.793738,
          "end_time": "2022-08-17T03:21:55.209384",
          "exception": false,
          "start_time": "2022-08-17T03:21:53.415646",
          "status": "completed"
        },
        "tags": []
      },
      "outputs": [
        {
          "name": "stderr",
          "output_type": "stream",
          "text": [
            "2022-08-17 03:21:53.624 | INFO     | gdsfactory.config:<module>:53 - Load '/opt/conda/lib/python3.9/site-packages/gdsfactory' 5.18.2\n"
          ]
        },
        {
          "data": {
            "image/png": "[encoded data removed]",
            "text/plain": [
              "<Figure size 432x288 with 1 Axes>"
            ]
          },
          "metadata": {
            "needs_background": "light"
          },
          "output_type": "display_data"
        },
        {
          "data": {
            "text/html": [
              "twomzi: uid 0, ports ['o1', 'o2'], aliases [], 0 polygons, 2 references"
            ],
            "text/plain": [
              "twomzi: uid 0, ports ['o1', 'o2'], aliases [], 0 polygons, 2 references"
            ]
          },
          "metadata": {},
          "output_type": "display_data"
        }
      ],
      "source": [
        "import gdsfactory as gf\n",
        "from IPython.display import display\n",
        "from gdsfactory.components import mzi\n",
        "from gdsfactory.get_netlist import get_netlist_recursive, get_netlist_dict, get_netlist_yaml, get_netlist\n",
        "\n",
        "@gf.cell\n",
        "def twomzi():\n",
        "    c = gf.Component()\n",
        "    \n",
        "    # instances\n",
        "    mzi1 = mzi(delta_length=10)\n",
        "    mzi2 = mzi(delta_length=20)\n",
        "    \n",
        "    # references\n",
        "    mzi1_ = (c << mzi1)\n",
        "    mzi2_ = (c << mzi2)\n",
        "    \n",
        "    # connections\n",
        "    mzi2_.connect('o1', mzi1_.ports['o2'])\n",
        "    \n",
        "    # ports\n",
        "    c.add_port('o1', port=mzi1_.ports['o1'])\n",
        "    c.add_port('o2', port=mzi2_.ports['o2'])\n",
        "    return c\n",
        "\n",
        "comp  = twomzi()\n",
        "display(comp)\n",
        "recnet = RecursiveNetlist.parse_obj(get_netlist_recursive(comp, get_netlist_func=partial(get_netlist_dict, full_settings=True)))\n",
        "flatnet = recnet.__root__['mzi_delta_length10']"
      ]
    },
    {
      "cell_type": "markdown",
      "id": "2b2a38fb-c83e-4b71-b195-ecca485fb0a3",
      "metadata": {
        "papermill": {
          "duration": 0.017287,
          "end_time": "2022-08-17T03:21:55.244350",
          "exception": false,
          "start_time": "2022-08-17T03:21:55.227063",
          "status": "completed"
        },
        "tags": []
      },
      "source": [
        "To be able to model this device we'll need some SAX dummy models:"
      ]
    },
    {
      "cell_type": "code",
      "execution_count": 4,
      "id": "81676ba845acf8bc",
      "metadata": {
        "execution": {
          "iopub.execute_input": "2022-08-17T03:21:55.283346Z",
          "iopub.status.busy": "2022-08-17T03:21:55.282915Z",
          "iopub.status.idle": "2022-08-17T03:21:55.284969Z",
          "shell.execute_reply": "2022-08-17T03:21:55.284627Z"
        },
        "papermill": {
          "duration": 0.023877,
          "end_time": "2022-08-17T03:21:55.285066",
          "exception": false,
          "start_time": "2022-08-17T03:21:55.261189",
          "status": "completed"
        },
        "tags": [
          "remove-cell"
        ]
      },
      "outputs": [],
      "source": [
        "def bend_euler(\n",
        "    angle=90.0,\n",
        "    p=0.5,\n",
        "    # cross_section=\"strip\",\n",
        "    # direction=\"ccw\",\n",
        "    # with_bbox=True,\n",
        "    # with_arc_floorplan=True,\n",
        "    # npoints=720,\n",
        "):\n",
        "    return reciprocal({\n",
        "        ('o1', 'o2'): 1.0\n",
        "    })"
      ]
    },
    {
      "cell_type": "code",
      "execution_count": 5,
      "id": "ed3474302d894254",
      "metadata": {
        "execution": {
          "iopub.execute_input": "2022-08-17T03:21:55.323560Z",
          "iopub.status.busy": "2022-08-17T03:21:55.323135Z",
          "iopub.status.idle": "2022-08-17T03:21:55.325167Z",
          "shell.execute_reply": "2022-08-17T03:21:55.324825Z"
        },
        "papermill": {
          "duration": 0.023016,
          "end_time": "2022-08-17T03:21:55.325263",
          "exception": false,
          "start_time": "2022-08-17T03:21:55.302247",
          "status": "completed"
        },
        "tags": [
          "remove-cell"
        ]
      },
      "outputs": [],
      "source": [
        "def mmi1x2(\n",
        "    width=0.5,\n",
        "    width_taper= 1.0,\n",
        "    length_taper= 10.0,\n",
        "    length_mmi= 5.5,\n",
        "    width_mmi= 2.5,\n",
        "    gap_mmi= 0.25,\n",
        "    # cross_section= strip,\n",
        "    # taper= {function= taper},\n",
        "    # with_bbox= True,\n",
        "):\n",
        "    return reciprocal({\n",
        "        ('o1', 'o2'): 0.45**0.5,\n",
        "        ('o1', 'o3'): 0.45**0.5,\n",
        "    })"
      ]
    },
    {
      "cell_type": "code",
      "execution_count": 6,
      "id": "b73eea1764f15421",
      "metadata": {
        "execution": {
          "iopub.execute_input": "2022-08-17T03:21:55.363682Z",
          "iopub.status.busy": "2022-08-17T03:21:55.362032Z",
          "iopub.status.idle": "2022-08-17T03:21:55.365591Z",
          "shell.execute_reply": "2022-08-17T03:21:55.365243Z"
        },
        "papermill": {
          "duration": 0.023296,
          "end_time": "2022-08-17T03:21:55.365691",
          "exception": false,
          "start_time": "2022-08-17T03:21:55.342395",
          "status": "completed"
        },
        "tags": [
          "remove-cell"
        ]
      },
      "outputs": [],
      "source": [
        "def mmi2x2(\n",
        "    width=0.5,\n",
        "    width_taper= 1.0,\n",
        "    length_taper= 10.0,\n",
        "    length_mmi= 5.5,\n",
        "    width_mmi= 2.5,\n",
        "    gap_mmi= 0.25,\n",
        "    # cross_section= strip,\n",
        "    # taper= {function= taper},\n",
        "    # with_bbox= True,\n",
        "):\n",
        "    return reciprocal({\n",
        "        ('o1', 'o3'): 0.45**0.5,\n",
        "        ('o1', 'o4'): 1j * 0.45**0.5,\n",
        "        ('o2', 'o3'): 1j * 0.45**0.5,\n",
        "        ('o2', 'o4'): 0.45**0.5,\n",
        "    })"
      ]
    },
    {
      "cell_type": "code",
      "execution_count": 7,
      "id": "3aa568d993761f69",
      "metadata": {
        "execution": {
          "iopub.execute_input": "2022-08-17T03:21:55.403612Z",
          "iopub.status.busy": "2022-08-17T03:21:55.403182Z",
          "iopub.status.idle": "2022-08-17T03:21:55.405084Z",
          "shell.execute_reply": "2022-08-17T03:21:55.404760Z"
        },
        "papermill": {
          "duration": 0.022386,
          "end_time": "2022-08-17T03:21:55.405177",
          "exception": false,
          "start_time": "2022-08-17T03:21:55.382791",
          "status": "completed"
        },
        "tags": [
          "remove-cell"
        ]
      },
      "outputs": [],
      "source": [
        "def straight(\n",
        "    length=0.01,\n",
        "    #npoints=2,\n",
        "    #with_bbox=True,\n",
        "    #cross_section=...\n",
        "):\n",
        "    return reciprocal({\n",
        "        ('o1', 'o2'): 1.0\n",
        "    })"
      ]
    },
    {
      "cell_type": "markdown",
      "id": "8efe90e4-dfe6-40bd-aa0a-26c74738d688",
      "metadata": {
        "papermill": {
          "duration": 0.017102,
          "end_time": "2022-08-17T03:21:55.439438",
          "exception": false,
          "start_time": "2022-08-17T03:21:55.422336",
          "status": "completed"
        },
        "tags": []
      },
      "source": [
        "In SAX, we usually aggregate the available models in a models dictionary:"
      ]
    },
    {
      "cell_type": "code",
      "execution_count": 8,
      "id": "c1ac9132-0ee2-443b-98f4-f790234551b0",
      "metadata": {
        "execution": {
          "iopub.execute_input": "2022-08-17T03:21:55.478079Z",
          "iopub.status.busy": "2022-08-17T03:21:55.477648Z",
          "iopub.status.idle": "2022-08-17T03:21:55.479079Z",
          "shell.execute_reply": "2022-08-17T03:21:55.479413Z"
        },
        "papermill": {
          "duration": 0.022507,
          "end_time": "2022-08-17T03:21:55.479527",
          "exception": false,
          "start_time": "2022-08-17T03:21:55.457020",
          "status": "completed"
        },
        "tags": []
      },
      "outputs": [],
      "source": [
        "models = {\n",
        "    'straight': straight,\n",
        "    'bend_euler': bend_euler,\n",
        "    'mmi1x2': mmi1x2,\n",
        "}"
      ]
    },
    {
      "cell_type": "markdown",
      "id": "3df7d9b6-acbb-4406-a3c8-8a9ad09db768",
      "metadata": {
        "papermill": {
          "duration": 0.017344,
          "end_time": "2022-08-17T03:21:55.514176",
          "exception": false,
          "start_time": "2022-08-17T03:21:55.496832",
          "status": "completed"
        },
        "tags": []
      },
      "source": [
        "We can now represent our recursive netlist model as a Directed Acyclic Graph:"
      ]
    },
    {
      "cell_type": "markdown",
      "id": "4f9f820d0dca0306",
      "metadata": {},
      "source": [
        ":::{eval-rst}\n",
        ".. autofunction:: sax.circuit.create_dag\n",
        ":::\n"
      ]
    },
    {
      "cell_type": "code",
      "execution_count": 9,
      "id": "f70c73f03be73ba8",
      "metadata": {
        "execution": {
          "iopub.execute_input": "2022-08-17T03:21:55.555540Z",
          "iopub.status.busy": "2022-08-17T03:21:55.555115Z",
          "iopub.status.idle": "2022-08-17T03:21:55.556683Z",
          "shell.execute_reply": "2022-08-17T03:21:55.556978Z"
        },
        "papermill": {
          "duration": 0.025554,
          "end_time": "2022-08-17T03:21:55.557098",
          "exception": false,
          "start_time": "2022-08-17T03:21:55.531544",
          "status": "completed"
        },
        "tags": [
          "hide-input"
        ]
      },
      "outputs": [],
      "source": [
        "def create_dag(\n",
        "    netlist: RecursiveNetlist,\n",
        "    models: Optional[Dict[str, Any]] = None,\n",
        "):\n",
        "    if models is None:\n",
        "        models = {}\n",
        "    assert isinstance(models, dict)\n",
        "    \n",
        "    all_models = {}\n",
        "    g = nx.DiGraph()\n",
        "\n",
        "    for model_name, netlist in netlist.dict()['__root__'].items():\n",
        "        if not model_name in all_models:\n",
        "            all_models[model_name] = models.get(model_name, netlist)\n",
        "            g.add_node(model_name)\n",
        "        if model_name in models:\n",
        "            continue\n",
        "        for instance in netlist['instances'].values():\n",
        "            component = instance['component']\n",
        "            if not component in all_models:\n",
        "                all_models[component] = models.get(component, None)\n",
        "                g.add_node(component)\n",
        "            g.add_edge(model_name, component)\n",
        "            \n",
        "    return g"
      ]
    },
    {
      "cell_type": "markdown",
      "id": "676fcd252fe06bb2",
      "metadata": {},
      "source": [
        ":::{eval-rst}\n",
        ".. autofunction:: sax.circuit.draw_dag\n",
        ":::\n"
      ]
    },
    {
      "cell_type": "code",
      "execution_count": 10,
      "id": "5db46930ba2fc0e6",
      "metadata": {
        "execution": {
          "iopub.execute_input": "2022-08-17T03:21:55.599688Z",
          "iopub.status.busy": "2022-08-17T03:21:55.599257Z",
          "iopub.status.idle": "2022-08-17T03:21:55.601140Z",
          "shell.execute_reply": "2022-08-17T03:21:55.600803Z"
        },
        "papermill": {
          "duration": 0.02666,
          "end_time": "2022-08-17T03:21:55.601239",
          "exception": false,
          "start_time": "2022-08-17T03:21:55.574579",
          "status": "completed"
        },
        "tags": [
          "hide-input"
        ]
      },
      "outputs": [],
      "source": [
        "\n",
        "def draw_dag(dag, with_labels=True, **kwargs):\n",
        "    _patch_path()\n",
        "    if shutil.which('dot'):\n",
        "        return nx.draw(dag, nx.nx_pydot.pydot_layout(dag, prog='dot'), with_labels=with_labels, **kwargs)\n",
        "    else:\n",
        "        return nx.draw(dag, _my_dag_pos(dag), with_labels=with_labels, **kwargs)\n",
        "    \n",
        "def _patch_path():\n",
        "    os_paths = {p: None for p in os.environ.get('PATH', '').split(os.pathsep)}\n",
        "    sys_paths = {p: None for p in sys.path}\n",
        "    other_paths = {os.path.dirname(sys.executable): None}\n",
        "    os.environ['PATH'] = os.pathsep.join({**os_paths, **sys_paths, **other_paths})\n",
        "\n",
        "def _my_dag_pos(dag):\n",
        "    # inferior to pydot\n",
        "    in_degree = {}\n",
        "    for k, v in dag.in_degree():\n",
        "        if v not in in_degree:\n",
        "            in_degree[v] = []\n",
        "        in_degree[v].append(k)\n",
        "\n",
        "    widths = {k: len(vs) for k, vs in in_degree.items()}\n",
        "    width = max(widths.values())\n",
        "    height = max(widths) + 1\n",
        "    \n",
        "    horizontal_pos = {k: np.linspace(0, 1, w+2)[1:-1]*width for k, w in widths.items()}\n",
        "\n",
        "    pos = {}\n",
        "    for k, vs in in_degree.items():\n",
        "        for x, v in zip(horizontal_pos[k], vs):\n",
        "            pos[v] = (x, -k)\n",
        "    return pos"
      ]
    },
    {
      "cell_type": "code",
      "execution_count": 11,
      "id": "b6d6e06e-b501-4d3e-8eb6-0d7117abf8e8",
      "metadata": {
        "execution": {
          "iopub.execute_input": "2022-08-17T03:21:55.641957Z",
          "iopub.status.busy": "2022-08-17T03:21:55.641533Z",
          "iopub.status.idle": "2022-08-17T03:21:55.942921Z",
          "shell.execute_reply": "2022-08-17T03:21:55.943566Z"
        },
        "papermill": {
          "duration": 0.324942,
          "end_time": "2022-08-17T03:21:55.943704",
          "exception": false,
          "start_time": "2022-08-17T03:21:55.618762",
          "status": "completed"
        },
        "tags": []
      },
      "outputs": [
        {
          "data": {
            "image/png": "[encoded data removed]",
            "text/plain": [
              "<Figure size 432x288 with 1 Axes>"
            ]
          },
          "metadata": {},
          "output_type": "display_data"
        }
      ],
      "source": [
        "dag = create_dag(recnet, models)\n",
        "draw_dag(dag)"
      ]
    },
    {
      "cell_type": "markdown",
      "id": "d081c64c-c42c-467e-885d-6e8db2cf64cc",
      "metadata": {
        "papermill": {
          "duration": 0.018604,
          "end_time": "2022-08-17T03:21:55.981460",
          "exception": false,
          "start_time": "2022-08-17T03:21:55.962856",
          "status": "completed"
        },
        "tags": []
      },
      "source": [
        "Note that the DAG depends on the models we supply. We could for example stub one of the sub-netlists by a pre-defined model:"
      ]
    },
    {
      "cell_type": "code",
      "execution_count": 12,
      "id": "ebb11e68-ecc3-4d00-9870-b6682e06c39f",
      "metadata": {
        "execution": {
          "iopub.execute_input": "2022-08-17T03:21:56.024771Z",
          "iopub.status.busy": "2022-08-17T03:21:56.024330Z",
          "iopub.status.idle": "2022-08-17T03:21:56.172933Z",
          "shell.execute_reply": "2022-08-17T03:21:56.173578Z"
        },
        "papermill": {
          "duration": 0.173605,
          "end_time": "2022-08-17T03:21:56.173713",
          "exception": false,
          "start_time": "2022-08-17T03:21:56.000108",
          "status": "completed"
        },
        "tags": []
      },
      "outputs": [
        {
          "data": {
            "image/png": "[encoded data removed]",
            "text/plain": [
              "<Figure size 432x288 with 1 Axes>"
            ]
          },
          "metadata": {},
          "output_type": "display_data"
        }
      ],
      "source": [
        "dag_ = create_dag(recnet, {**models, 'mzi_delta_length10': mmi2x2})\n",
        "draw_dag(dag_, with_labels=True)"
      ]
    },
    {
      "cell_type": "markdown",
      "id": "b68c2f1a-f062-4f8a-89a5-8608524a5c06",
      "metadata": {
        "papermill": {
          "duration": 0.019139,
          "end_time": "2022-08-17T03:21:56.213268",
          "exception": false,
          "start_time": "2022-08-17T03:21:56.194129",
          "status": "completed"
        },
        "tags": []
      },
      "source": [
        "This is useful if we for example pre-calculated a certain model."
      ]
    },
    {
      "cell_type": "markdown",
      "id": "020381f6-872f-4aea-8822-ef1096553dc2",
      "metadata": {
        "papermill": {
          "duration": 0.019124,
          "end_time": "2022-08-17T03:21:56.251547",
          "exception": false,
          "start_time": "2022-08-17T03:21:56.232423",
          "status": "completed"
        },
        "tags": []
      },
      "source": [
        "We can easily find the root of the DAG:"
      ]
    },
    {
      "cell_type": "markdown",
      "id": "546168f0495de2c0",
      "metadata": {},
      "source": [
        ":::{eval-rst}\n",
        ".. autofunction:: sax.circuit.find_root\n",
        ":::\n"
      ]
    },
    {
      "cell_type": "code",
      "execution_count": 13,
      "id": "7c430300230232d6",
      "metadata": {
        "execution": {
          "iopub.execute_input": "2022-08-17T03:21:56.294369Z",
          "iopub.status.busy": "2022-08-17T03:21:56.293934Z",
          "iopub.status.idle": "2022-08-17T03:21:56.295624Z",
          "shell.execute_reply": "2022-08-17T03:21:56.295940Z"
        },
        "papermill": {
          "duration": 0.025272,
          "end_time": "2022-08-17T03:21:56.296056",
          "exception": false,
          "start_time": "2022-08-17T03:21:56.270784",
          "status": "completed"
        },
        "tags": [
          "hide-input"
        ]
      },
      "outputs": [],
      "source": [
        "def find_root(g):\n",
        "    nodes = [n for n, d in g.in_degree() if d == 0]\n",
        "    return nodes"
      ]
    },
    {
      "cell_type": "code",
      "execution_count": 14,
      "id": "11728146-6b54-48f2-acac-c8a5fa4e3b0f",
      "metadata": {
        "execution": {
          "iopub.execute_input": "2022-08-17T03:21:56.337130Z",
          "iopub.status.busy": "2022-08-17T03:21:56.336723Z",
          "iopub.status.idle": "2022-08-17T03:21:56.340870Z",
          "shell.execute_reply": "2022-08-17T03:21:56.340536Z"
        },
        "papermill": {
          "duration": 0.025579,
          "end_time": "2022-08-17T03:21:56.340964",
          "exception": false,
          "start_time": "2022-08-17T03:21:56.315385",
          "status": "completed"
        },
        "tags": []
      },
      "outputs": [
        {
          "data": {
            "text/plain": [
              "['twomzi']"
            ]
          },
          "execution_count": 14,
          "metadata": {},
          "output_type": "execute_result"
        }
      ],
      "source": [
        "find_root(dag)"
      ]
    },
    {
      "cell_type": "markdown",
      "id": "4e8065d2-19c8-444a-b1c2-ea3c62f90e0a",
      "metadata": {
        "papermill": {
          "duration": 0.019376,
          "end_time": "2022-08-17T03:21:56.379698",
          "exception": false,
          "start_time": "2022-08-17T03:21:56.360322",
          "status": "completed"
        },
        "tags": []
      },
      "source": [
        "Similarly we can find the leaves:"
      ]
    },
    {
      "cell_type": "markdown",
      "id": "16b3a5e703d46aa6",
      "metadata": {},
      "source": [
        ":::{eval-rst}\n",
        ".. autofunction:: sax.circuit.find_leaves\n",
        ":::\n"
      ]
    },
    {
      "cell_type": "code",
      "execution_count": 15,
      "id": "1887d250d9742ebc",
      "metadata": {
        "execution": {
          "iopub.execute_input": "2022-08-17T03:21:56.422199Z",
          "iopub.status.busy": "2022-08-17T03:21:56.421784Z",
          "iopub.status.idle": "2022-08-17T03:21:56.423568Z",
          "shell.execute_reply": "2022-08-17T03:21:56.423223Z"
        },
        "papermill": {
          "duration": 0.024503,
          "end_time": "2022-08-17T03:21:56.423658",
          "exception": false,
          "start_time": "2022-08-17T03:21:56.399155",
          "status": "completed"
        },
        "tags": [
          "hide-input"
        ]
      },
      "outputs": [],
      "source": [
        "def find_leaves(g):\n",
        "    nodes = [n for n, d in g.out_degree() if d == 0]\n",
        "    return nodes"
      ]
    },
    {
      "cell_type": "code",
      "execution_count": 16,
      "id": "7fa9afff-26b5-44cb-90bf-a32ef5e95bf5",
      "metadata": {
        "execution": {
          "iopub.execute_input": "2022-08-17T03:21:56.466752Z",
          "iopub.status.busy": "2022-08-17T03:21:56.466332Z",
          "iopub.status.idle": "2022-08-17T03:21:56.468642Z",
          "shell.execute_reply": "2022-08-17T03:21:56.468299Z"
        },
        "papermill": {
          "duration": 0.025385,
          "end_time": "2022-08-17T03:21:56.468732",
          "exception": false,
          "start_time": "2022-08-17T03:21:56.443347",
          "status": "completed"
        },
        "tags": []
      },
      "outputs": [
        {
          "data": {
            "text/plain": [
              "['bend_euler', 'mmi1x2', 'straight']"
            ]
          },
          "execution_count": 16,
          "metadata": {},
          "output_type": "execute_result"
        }
      ],
      "source": [
        "find_leaves(dag)"
      ]
    },
    {
      "cell_type": "markdown",
      "id": "59fb221d-951d-44df-a5d9-487a8b4dc4f8",
      "metadata": {
        "papermill": {
          "duration": 0.020017,
          "end_time": "2022-08-17T03:21:56.508689",
          "exception": false,
          "start_time": "2022-08-17T03:21:56.488672",
          "status": "completed"
        },
        "tags": []
      },
      "source": [
        "To be able to simulate the circuit, we need to supply a model for each of the leaves in the dependency DAG. Let's write a validator that checks this"
      ]
    },
    {
      "cell_type": "code",
      "execution_count": 17,
      "id": "a0473c5b3b15285c",
      "metadata": {
        "execution": {
          "iopub.execute_input": "2022-08-17T03:21:56.553636Z",
          "iopub.status.busy": "2022-08-17T03:21:56.553175Z",
          "iopub.status.idle": "2022-08-17T03:21:56.554897Z",
          "shell.execute_reply": "2022-08-17T03:21:56.554500Z"
        },
        "papermill": {
          "duration": 0.026219,
          "end_time": "2022-08-17T03:21:56.554986",
          "exception": false,
          "start_time": "2022-08-17T03:21:56.528767",
          "status": "completed"
        },
        "tags": [
          "hide-input"
        ]
      },
      "outputs": [],
      "source": [
        "def _validate_models(models, dag):\n",
        "    required_models = find_leaves(dag)\n",
        "    missing_models = [m for m in required_models if m not in models]\n",
        "    if missing_models:\n",
        "        model_diff = {\n",
        "            \"Missing Models\": missing_models,\n",
        "            \"Given Models\": list(models),\n",
        "            \"Required Models\": required_models,\n",
        "        }\n",
        "        raise ValueError(\n",
        "            \"Missing models. The following models are still missing to build the circuit:\\n\"\n",
        "            f\"{black.format_str(repr(model_diff), mode=black.Mode())}\"\n",
        "        )\n",
        "    return {**models} # shallow copy"
      ]
    },
    {
      "cell_type": "code",
      "execution_count": 18,
      "id": "a97dbe93-a53f-4525-b721-2f329692cdc9",
      "metadata": {
        "execution": {
          "iopub.execute_input": "2022-08-17T03:21:56.598826Z",
          "iopub.status.busy": "2022-08-17T03:21:56.598415Z",
          "iopub.status.idle": "2022-08-17T03:21:56.600221Z",
          "shell.execute_reply": "2022-08-17T03:21:56.599857Z"
        },
        "papermill": {
          "duration": 0.025074,
          "end_time": "2022-08-17T03:21:56.600311",
          "exception": false,
          "start_time": "2022-08-17T03:21:56.575237",
          "status": "completed"
        },
        "tags": []
      },
      "outputs": [],
      "source": [
        "models = _validate_models(models, dag)"
      ]
    },
    {
      "cell_type": "markdown",
      "id": "e9f30a86-aa00-4f51-8b93-3440edc0b46b",
      "metadata": {
        "papermill": {
          "duration": 0.020029,
          "end_time": "2022-08-17T03:21:56.640471",
          "exception": false,
          "start_time": "2022-08-17T03:21:56.620442",
          "status": "completed"
        },
        "tags": []
      },
      "source": [
        "We can now dow a bottom-up simulation. Since at the bottom of the DAG, our circuit is always flat (i.e. not hierarchical) we can implement a minimal `_flat_circuit` definition, which only needs to work on a flat (non-hierarchical circuit):"
      ]
    },
    {
      "cell_type": "code",
      "execution_count": 19,
      "id": "e81d99651a5c9ced",
      "metadata": {
        "execution": {
          "iopub.execute_input": "2022-08-17T03:21:56.688253Z",
          "iopub.status.busy": "2022-08-17T03:21:56.687805Z",
          "iopub.status.idle": "2022-08-17T03:21:56.690677Z",
          "shell.execute_reply": "2022-08-17T03:21:56.690329Z"
        },
        "papermill": {
          "duration": 0.030129,
          "end_time": "2022-08-17T03:21:56.690771",
          "exception": false,
          "start_time": "2022-08-17T03:21:56.660642",
          "status": "completed"
        },
        "tags": [
          "hide-input"
        ]
      },
      "outputs": [],
      "source": [
        "def _flat_circuit(instances, connections, ports, models, backend):\n",
        "    evaluate_circuit = circuit_backends[backend]\n",
        "\n",
        "    inst2model = {k: models[inst.component] for k, inst in instances.items()}\n",
        "\n",
        "    model_settings = {name: get_settings(model) for name, model in inst2model.items()}\n",
        "    netlist_settings = {\n",
        "        name: {k: v for k, v in inst.settings.items() if k in model_settings[name]}\n",
        "        for name, inst in instances.items()\n",
        "    }\n",
        "    default_settings = merge_dicts(model_settings, netlist_settings)\n",
        "\n",
        "    def _circuit(**settings: Settings) -> SType:\n",
        "        settings = merge_dicts(default_settings, settings)\n",
        "        settings = _forward_global_settings(inst2model, settings)\n",
        "\n",
        "        instances: Dict[str, SType] = {}\n",
        "        for inst_name, model in inst2model.items():\n",
        "            instances[inst_name] = model(**settings.get(inst_name, {}))\n",
        "        S = evaluate_circuit(instances, connections, ports)\n",
        "        return S\n",
        "\n",
        "    _replace_kwargs(_circuit, **default_settings)\n",
        "\n",
        "    return _circuit\n",
        "\n",
        "def _forward_global_settings(instances, settings):\n",
        "    global_settings = {}\n",
        "    for k in list(settings.keys()):\n",
        "        if k in instances:\n",
        "            continue\n",
        "        global_settings[k] = settings.pop(k)\n",
        "    if global_settings:\n",
        "        settings = update_settings(settings, **global_settings)\n",
        "    return settings"
      ]
    },
    {
      "cell_type": "code",
      "execution_count": 20,
      "id": "1f415c32-70e4-4b40-a9e2-051fc187cbb9",
      "metadata": {
        "execution": {
          "iopub.execute_input": "2022-08-17T03:21:56.737137Z",
          "iopub.status.busy": "2022-08-17T03:21:56.736716Z",
          "iopub.status.idle": "2022-08-17T03:21:56.748805Z",
          "shell.execute_reply": "2022-08-17T03:21:56.748450Z"
        },
        "papermill": {
          "duration": 0.037754,
          "end_time": "2022-08-17T03:21:56.748910",
          "exception": false,
          "start_time": "2022-08-17T03:21:56.711156",
          "status": "completed"
        },
        "tags": []
      },
      "outputs": [
        {
          "name": "stderr",
          "output_type": "stream",
          "text": [
            "WARNING:absl:No GPU/TPU found, falling back to CPU. (Set TF_CPP_MIN_LOG_LEVEL=0 and rerun for more info.)\n"
          ]
        }
      ],
      "source": [
        "flatnet = recnet.__root__['mzi_delta_length10']\n",
        "single_mzi = _flat_circuit(flatnet.instances, flatnet.connections, flatnet.ports, models, \"default\")"
      ]
    },
    {
      "cell_type": "markdown",
      "id": "c4f3375c-baa3-433f-924a-eff50557bf9f",
      "metadata": {
        "papermill": {
          "duration": 0.020402,
          "end_time": "2022-08-17T03:21:56.789938",
          "exception": false,
          "start_time": "2022-08-17T03:21:56.769536",
          "status": "completed"
        },
        "tags": []
      },
      "source": [
        "The resulting circuit is just another SAX model (i.e. a python function) returing an SType:"
      ]
    },
    {
      "cell_type": "code",
      "execution_count": 21,
      "id": "058740c4-439b-4b00-91e7-15e3e7b6679c",
      "metadata": {
        "execution": {
          "iopub.execute_input": "2022-08-17T03:21:56.849409Z",
          "iopub.status.busy": "2022-08-17T03:21:56.844360Z",
          "iopub.status.idle": "2022-08-17T03:21:56.877519Z",
          "shell.execute_reply": "2022-08-17T03:21:56.877150Z"
        },
        "papermill": {
          "duration": 0.067271,
          "end_time": "2022-08-17T03:21:56.877625",
          "exception": false,
          "start_time": "2022-08-17T03:21:56.810354",
          "status": "completed"
        },
        "tags": []
      },
      "outputs": [],
      "source": [
        "single_mzi?"
      ]
    },
    {
      "cell_type": "markdown",
      "id": "2b2bbe9f-29ac-413a-b0a4-6c51da8689cb",
      "metadata": {
        "papermill": {
          "duration": 0.020556,
          "end_time": "2022-08-17T03:21:56.918856",
          "exception": false,
          "start_time": "2022-08-17T03:21:56.898300",
          "status": "completed"
        },
        "tags": []
      },
      "source": [
        "Let's 'execute' the circuit:"
      ]
    },
    {
      "cell_type": "code",
      "execution_count": 22,
      "id": "8784bf1b-933f-4dd6-b77b-bf47618168b4",
      "metadata": {
        "execution": {
          "iopub.execute_input": "2022-08-17T03:21:56.977503Z",
          "iopub.status.busy": "2022-08-17T03:21:56.972352Z",
          "iopub.status.idle": "2022-08-17T03:21:57.008402Z",
          "shell.execute_reply": "2022-08-17T03:21:57.008064Z"
        },
        "papermill": {
          "duration": 0.06923,
          "end_time": "2022-08-17T03:21:57.008506",
          "exception": false,
          "start_time": "2022-08-17T03:21:56.939276",
          "status": "completed"
        },
        "tags": []
      },
      "outputs": [
        {
          "data": {
            "text/plain": [
              "{('o1', 'o1'): 0.0, ('o2', 'o2'): 0.0, ('o1', 'o2'): 0.9, ('o2', 'o1'): 0.9}"
            ]
          },
          "execution_count": 22,
          "metadata": {},
          "output_type": "execute_result"
        }
      ],
      "source": [
        "single_mzi()"
      ]
    },
    {
      "cell_type": "markdown",
      "id": "c852f384-c830-47f5-aa75-ee274abbcc35",
      "metadata": {
        "papermill": {
          "duration": 0.021025,
          "end_time": "2022-08-17T03:21:57.050603",
          "exception": false,
          "start_time": "2022-08-17T03:21:57.029578",
          "status": "completed"
        },
        "tags": []
      },
      "source": [
        "Now that we can handle flat circuits the extension to hierarchical circuits is not so difficult:"
      ]
    },
    {
      "cell_type": "markdown",
      "id": "fd9841745140650c",
      "metadata": {},
      "source": [
        ":::{eval-rst}\n",
        ".. autofunction:: sax.circuit.circuit\n",
        ":::\n"
      ]
    },
    {
      "cell_type": "code",
      "execution_count": 23,
      "id": "9b5f9361351a1a72",
      "metadata": {
        "execution": {
          "iopub.execute_input": "2022-08-17T03:21:57.109532Z",
          "iopub.status.busy": "2022-08-17T03:21:57.098034Z",
          "iopub.status.idle": "2022-08-17T03:21:57.111347Z",
          "shell.execute_reply": "2022-08-17T03:21:57.110992Z"
        },
        "papermill": {
          "duration": 0.040074,
          "end_time": "2022-08-17T03:21:57.111441",
          "exception": false,
          "start_time": "2022-08-17T03:21:57.071367",
          "status": "completed"
        },
        "tags": [
          "hide-input"
        ]
      },
      "outputs": [],
      "source": [
        "def circuit(\n",
        "    netlist: Union[Netlist, RecursiveNetlist],\n",
        "    models: Optional[Dict[str, Model]] = None,\n",
        "    modes: Optional[List[str]] = None,\n",
        "    backend: str = \"default\",\n",
        ") -> Tuple[Model, CircuitInfo]:\n",
        "    netlist, instance_models = _extract_instance_models(netlist) # TODO: do this *after* recursive netlist parsing.\n",
        "    recnet: RecursiveNetlist = _validate_net(netlist)\n",
        "    dependency_dag: nx.DiGraph = _validate_dag(create_dag(recnet, models))  # directed acyclic graph\n",
        "    models = _validate_models({**(models or {}), **instance_models}, dependency_dag)\n",
        "    modes = _validate_modes(modes)\n",
        "    backend = _validate_circuit_backend(backend)\n",
        "\n",
        "    circuit = None\n",
        "    new_models = {}\n",
        "    current_models = {}\n",
        "    model_names = list(nx.topological_sort(dependency_dag))[::-1]\n",
        "    for model_name in model_names:\n",
        "        if model_name in models:\n",
        "            new_models[model_name] = models[model_name]\n",
        "            continue\n",
        "\n",
        "        flatnet = recnet.__root__[model_name]\n",
        "\n",
        "        connections, ports, new_models = _make_singlemode_or_multimode(\n",
        "            flatnet, modes, new_models\n",
        "        )\n",
        "        current_models.update(new_models)\n",
        "        new_models = {}\n",
        "\n",
        "        current_models[model_name] = circuit = _flat_circuit(\n",
        "            flatnet.instances, connections, ports, current_models, backend\n",
        "        )\n",
        "\n",
        "    assert circuit is not None\n",
        "    return circuit, CircuitInfo(dag=dependency_dag, models=current_models)\n",
        "\n",
        "\n",
        "class CircuitInfo(NamedTuple):\n",
        "    dag: nx.DiGraph\n",
        "    models: Dict[str, Model]\n",
        "\n",
        "\n",
        "def _extract_instance_models(netlist):\n",
        "    if not isinstance(netlist, dict):\n",
        "        netlist = netlist.dict()\n",
        "    if '__root__' in netlist:\n",
        "        netlist = netlist['__root__']\n",
        "    if 'instances' in netlist:\n",
        "        netlist = {'top_level': netlist}\n",
        "    netlist = {**netlist}\n",
        "        \n",
        "    models = {}\n",
        "    for netname, net in netlist.items():\n",
        "        net = {**net}\n",
        "        net['instances'] = {**net['instances']}\n",
        "        for name, inst in net['instances'].items():\n",
        "            if callable(inst):\n",
        "                settings = get_settings(inst)\n",
        "                if isinstance(inst, partial) and inst.args:\n",
        "                    raise ValueError(\"SAX circuits and netlists don't support partials with positional arguments.\")\n",
        "                while isinstance(inst, partial):\n",
        "                    inst = inst.func\n",
        "                models[inst.__name__] = inst\n",
        "                net['instances'][name] = {\n",
        "                    'component': inst.__name__,\n",
        "                    'settings': settings\n",
        "                }\n",
        "        netlist[netname] = net\n",
        "    return netlist, models\n",
        "\n",
        "\n",
        "def _validate_circuit_backend(backend):\n",
        "    backend = backend.lower()\n",
        "    # assert valid circuit_backend\n",
        "    if backend not in circuit_backends:\n",
        "        raise KeyError(\n",
        "            f\"circuit backend {backend} not found. Allowed circuit backends: \"\n",
        "            f\"{', '.join(circuit_backends.keys())}.\"\n",
        "        )\n",
        "    return backend\n",
        "\n",
        "\n",
        "def _validate_modes(modes) -> List[str]:\n",
        "    if modes is None:\n",
        "        return [\"te\"]\n",
        "    elif not modes:\n",
        "        return [\"te\"]\n",
        "    elif isinstance(modes, str):\n",
        "        return [modes]\n",
        "    elif all(isinstance(m, str) for m in modes):\n",
        "        return modes\n",
        "    else:\n",
        "        raise ValueError(f\"Invalid modes given: {modes}\")\n",
        "\n",
        "\n",
        "def _validate_net(netlist: Union[Netlist, RecursiveNetlist]) -> RecursiveNetlist:\n",
        "    if isinstance(netlist, dict):\n",
        "        try:\n",
        "            netlist = Netlist.parse_obj(netlist)\n",
        "        except ValidationError:\n",
        "            netlist = RecursiveNetlist.parse_obj(netlist)\n",
        "    if isinstance(netlist, Netlist):\n",
        "        netlist = RecursiveNetlist(__root__={\"top_level\": netlist})\n",
        "    return netlist\n",
        "\n",
        "\n",
        "def _validate_dag(dag):\n",
        "    nodes = find_root(dag)\n",
        "    if len(nodes) > 1:\n",
        "        raise ValueError(f\"Multiple top_levels found in netlist: {nodes}\")\n",
        "    if len(nodes) < 1:\n",
        "        raise ValueError(f\"Netlist does not contain any nodes.\")\n",
        "    if not dag.is_directed():\n",
        "        raise ValueError(\"Netlist dependency cycles detected!\")\n",
        "    return dag\n",
        "\n",
        "\n",
        "def _make_singlemode_or_multimode(netlist, modes, models):\n",
        "    if len(modes) == 1:\n",
        "        connections, ports, models = _make_singlemode(netlist, modes[0], models)\n",
        "    else:\n",
        "        connections, ports, models = _make_multimode(netlist, modes, models)\n",
        "    return connections, ports, models\n",
        "\n",
        "\n",
        "def _make_singlemode(netlist, mode, models):\n",
        "    models = {k: singlemode(m, mode=mode) for k, m in models.items()}\n",
        "    return netlist.connections, netlist.ports, models\n",
        "\n",
        "\n",
        "def _make_multimode(netlist, modes, models):\n",
        "    models = {k: multimode(m, modes=modes) for k, m in models.items()}\n",
        "    connections = {\n",
        "        f\"{p1}@{mode}\": f\"{p2}@{mode}\"\n",
        "        for p1, p2 in netlist.connections.items()\n",
        "        for mode in modes\n",
        "    }\n",
        "    ports = {\n",
        "        f\"{p1}@{mode}\": f\"{p2}@{mode}\"\n",
        "        for p1, p2 in netlist.ports.items()\n",
        "        for mode in modes\n",
        "    }\n",
        "    return connections, ports, models"
      ]
    },
    {
      "cell_type": "code",
      "execution_count": 24,
      "id": "6d133b49-6f26-4e01-bcd9-7ca1b76dc55d",
      "metadata": {
        "execution": {
          "iopub.execute_input": "2022-08-17T03:21:57.166659Z",
          "iopub.status.busy": "2022-08-17T03:21:57.166226Z",
          "iopub.status.idle": "2022-08-17T03:21:57.203472Z",
          "shell.execute_reply": "2022-08-17T03:21:57.203095Z"
        },
        "papermill": {
          "duration": 0.071081,
          "end_time": "2022-08-17T03:21:57.203569",
          "exception": false,
          "start_time": "2022-08-17T03:21:57.132488",
          "status": "completed"
        },
        "tags": []
      },
      "outputs": [
        {
          "data": {
            "text/plain": [
              "{('o1', 'o1'): 0.0, ('o2', 'o2'): 0.0, ('o1', 'o2'): 0.81, ('o2', 'o1'): 0.81}"
            ]
          },
          "execution_count": 24,
          "metadata": {},
          "output_type": "execute_result"
        }
      ],
      "source": [
        "double_mzi, info = circuit(recnet, models)\n",
        "double_mzi()"
      ]
    }
  ],
  "metadata": {
    "kernelspec": {
      "display_name": "sax",
      "language": "python",
      "name": "sax"
    },
    "language_info": {
      "codemirror_mode": {
        "name": "ipython",
        "version": 3
      },
      "file_extension": ".py",
      "mimetype": "text/x-python",
      "name": "python",
      "nbconvert_exporter": "python",
      "pygments_lexer": "ipython3",
      "version": "3.9.0"
    },
    "papermill": {
      "default_parameters": {},
      "duration": 9.388989,
      "end_time": "2022-08-17T03:22:00.729580",
      "environment_variables": {},
      "exception": null,
      "input_path": "./nbs/08_circuit.ipynb",
      "output_path": "./nbs/08_circuit.ipynb",
      "parameters": {},
      "start_time": "2022-08-17T03:21:51.340591",
      "version": "2.3.4"
    }
  },
  "nbformat": 4,
  "nbformat_minor": 5
}
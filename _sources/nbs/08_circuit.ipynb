{
  "cells": [
    {
      "cell_type": "code",
      "execution_count": 1,
      "id": "4546ba8ed3b6590a",
      "metadata": {
        "execution": {
          "iopub.execute_input": "2022-08-16T04:19:36.341250Z",
          "iopub.status.busy": "2022-08-16T04:19:36.340808Z",
          "iopub.status.idle": "2022-08-16T04:19:36.343941Z",
          "shell.execute_reply": "2022-08-16T04:19:36.343505Z"
        },
        "papermill": {
          "duration": 0.023356,
          "end_time": "2022-08-16T04:19:36.344052",
          "exception": false,
          "start_time": "2022-08-16T04:19:36.320696",
          "status": "completed"
        },
        "tags": [
          "remove-cell"
        ]
      },
      "outputs": [],
      "source": []
    },
    {
      "cell_type": "markdown",
      "id": "2c9c99fe",
      "metadata": {
        "papermill": {
          "duration": 0.015027,
          "end_time": "2022-08-16T04:19:36.374427",
          "exception": false,
          "start_time": "2022-08-16T04:19:36.359400",
          "status": "completed"
        },
        "tags": []
      },
      "source": [
        "# Circuit\n",
        "\n",
        "> SAX Circuits"
      ]
    },
    {
      "cell_type": "markdown",
      "id": "0648dc6e-c0bd-45db-810a-d0c40af04837",
      "metadata": {
        "papermill": {
          "duration": 0.014894,
          "end_time": "2022-08-16T04:19:36.404112",
          "exception": false,
          "start_time": "2022-08-16T04:19:36.389218",
          "status": "completed"
        },
        "tags": []
      },
      "source": [
        "Let's start where we left off (see [Netlist](06_netlist.ipynb))."
      ]
    },
    {
      "cell_type": "code",
      "execution_count": 2,
      "id": "48ea40681195078b",
      "metadata": {
        "execution": {
          "iopub.execute_input": "2022-08-16T04:19:36.443212Z",
          "iopub.status.busy": "2022-08-16T04:19:36.441138Z",
          "iopub.status.idle": "2022-08-16T04:19:37.232236Z",
          "shell.execute_reply": "2022-08-16T04:19:37.231122Z"
        },
        "papermill": {
          "duration": 0.813258,
          "end_time": "2022-08-16T04:19:37.232358",
          "exception": false,
          "start_time": "2022-08-16T04:19:36.419100",
          "status": "completed"
        },
        "tags": [
          "hide-input"
        ]
      },
      "outputs": [],
      "source": [
        "from __future__ import annotations\n",
        "\n",
        "import os\n",
        "import shutil\n",
        "import sys\n",
        "from functools import partial\n",
        "from typing import Any, Dict, List, NamedTuple, Optional, Tuple, Union\n",
        "\n",
        "import black\n",
        "import networkx as nx\n",
        "import numpy as np\n",
        "from pydantic import ValidationError\n",
        "from sax import reciprocal\n",
        "from sax.backends import circuit_backends\n",
        "from sax.multimode import multimode, singlemode\n",
        "from sax.netlist import Netlist, RecursiveNetlist\n",
        "from sax.typing_ import Model, Settings, SType\n",
        "from sax.utils import _replace_kwargs, get_settings, merge_dicts, update_settings"
      ]
    },
    {
      "cell_type": "markdown",
      "id": "45ad2306-1ead-4b8c-b91e-c02ce4569b3a",
      "metadata": {
        "papermill": {
          "duration": 0.015253,
          "end_time": "2022-08-16T04:19:37.263033",
          "exception": false,
          "start_time": "2022-08-16T04:19:37.247780",
          "status": "completed"
        },
        "tags": []
      },
      "source": [
        "Let's start by creating a simple recursive netlist with gdsfactory.\n",
        "\n",
        ":::{note}\n",
        "We are using gdsfactory to create our netlist because it allows us to see the circuit we want to simulate and because we're striving to have a compatible netlist implementation in SAX.\n",
        "\n",
        "However... gdsfactory is not a dependency of SAX. You can also define your circuits by hand (see [SAX Quick Start](../examples/01_quick_start.ipynb) or you can use another tool to programmatically construct your netlists.\n",
        ":::"
      ]
    },
    {
      "cell_type": "code",
      "execution_count": 3,
      "id": "804a1c9b-c02b-4af6-ba3d-858f76634a69",
      "metadata": {
        "execution": {
          "iopub.execute_input": "2022-08-16T04:19:37.298904Z",
          "iopub.status.busy": "2022-08-16T04:19:37.298478Z",
          "iopub.status.idle": "2022-08-16T04:19:39.072705Z",
          "shell.execute_reply": "2022-08-16T04:19:39.073047Z"
        },
        "papermill": {
          "duration": 1.795272,
          "end_time": "2022-08-16T04:19:39.073195",
          "exception": false,
          "start_time": "2022-08-16T04:19:37.277923",
          "status": "completed"
        },
        "tags": []
      },
      "outputs": [
        {
          "name": "stderr",
          "output_type": "stream",
          "text": [
            "2022-08-16 04:19:37.487 | INFO     | gdsfactory.config:<module>:53 - Load '/opt/conda/lib/python3.9/site-packages/gdsfactory' 5.18.2\n"
          ]
        },
        {
          "data": {
            "image/png": "[encoded data removed]",
            "text/plain": [
              "<Figure size 432x288 with 1 Axes>"
            ]
          },
          "metadata": {
            "needs_background": "light"
          },
          "output_type": "display_data"
        },
        {
          "data": {
            "text/html": [
              "twomzi: uid 0, ports ['o1', 'o2'], aliases [], 0 polygons, 2 references"
            ],
            "text/plain": [
              "twomzi: uid 0, ports ['o1', 'o2'], aliases [], 0 polygons, 2 references"
            ]
          },
          "metadata": {},
          "output_type": "display_data"
        }
      ],
      "source": [
        "import gdsfactory as gf\n",
        "from IPython.display import display\n",
        "from gdsfactory.components import mzi\n",
        "from gdsfactory.get_netlist import get_netlist_recursive, get_netlist_dict, get_netlist_yaml, get_netlist\n",
        "\n",
        "@gf.cell\n",
        "def twomzi():\n",
        "    c = gf.Component()\n",
        "    \n",
        "    # instances\n",
        "    mzi1 = mzi(delta_length=10)\n",
        "    mzi2 = mzi(delta_length=20)\n",
        "    \n",
        "    # references\n",
        "    mzi1_ = (c << mzi1)\n",
        "    mzi2_ = (c << mzi2)\n",
        "    \n",
        "    # connections\n",
        "    mzi2_.connect('o1', mzi1_.ports['o2'])\n",
        "    \n",
        "    # ports\n",
        "    c.add_port('o1', port=mzi1_.ports['o1'])\n",
        "    c.add_port('o2', port=mzi2_.ports['o2'])\n",
        "    return c\n",
        "\n",
        "comp  = twomzi()\n",
        "display(comp)\n",
        "recnet = RecursiveNetlist.parse_obj(get_netlist_recursive(comp, get_netlist_func=partial(get_netlist_dict, full_settings=True)))\n",
        "flatnet = recnet.__root__['mzi_delta_length10']"
      ]
    },
    {
      "cell_type": "markdown",
      "id": "2b2a38fb-c83e-4b71-b195-ecca485fb0a3",
      "metadata": {
        "papermill": {
          "duration": 0.016533,
          "end_time": "2022-08-16T04:19:39.106818",
          "exception": false,
          "start_time": "2022-08-16T04:19:39.090285",
          "status": "completed"
        },
        "tags": []
      },
      "source": [
        "To be able to model this device we'll need some SAX dummy models:"
      ]
    },
    {
      "cell_type": "code",
      "execution_count": 4,
      "id": "6b1b5fb2c7987691",
      "metadata": {
        "execution": {
          "iopub.execute_input": "2022-08-16T04:19:39.144499Z",
          "iopub.status.busy": "2022-08-16T04:19:39.144066Z",
          "iopub.status.idle": "2022-08-16T04:19:39.147104Z",
          "shell.execute_reply": "2022-08-16T04:19:39.146762Z"
        },
        "papermill": {
          "duration": 0.024199,
          "end_time": "2022-08-16T04:19:39.147202",
          "exception": false,
          "start_time": "2022-08-16T04:19:39.123003",
          "status": "completed"
        },
        "tags": [
          "remove-cell"
        ]
      },
      "outputs": [],
      "source": [
        "def bend_euler(\n",
        "    angle=90.0,\n",
        "    p=0.5,\n",
        "    # cross_section=\"strip\",\n",
        "    # direction=\"ccw\",\n",
        "    # with_bbox=True,\n",
        "    # with_arc_floorplan=True,\n",
        "    # npoints=720,\n",
        "):\n",
        "    return reciprocal({\n",
        "        ('o1', 'o2'): 1.0\n",
        "    })"
      ]
    },
    {
      "cell_type": "code",
      "execution_count": 5,
      "id": "2828afd1a53ea1c7",
      "metadata": {
        "execution": {
          "iopub.execute_input": "2022-08-16T04:19:39.183386Z",
          "iopub.status.busy": "2022-08-16T04:19:39.182964Z",
          "iopub.status.idle": "2022-08-16T04:19:39.184948Z",
          "shell.execute_reply": "2022-08-16T04:19:39.185261Z"
        },
        "papermill": {
          "duration": 0.022065,
          "end_time": "2022-08-16T04:19:39.185374",
          "exception": false,
          "start_time": "2022-08-16T04:19:39.163309",
          "status": "completed"
        },
        "tags": [
          "remove-cell"
        ]
      },
      "outputs": [],
      "source": [
        "def mmi1x2(\n",
        "    width=0.5,\n",
        "    width_taper= 1.0,\n",
        "    length_taper= 10.0,\n",
        "    length_mmi= 5.5,\n",
        "    width_mmi= 2.5,\n",
        "    gap_mmi= 0.25,\n",
        "    # cross_section= strip,\n",
        "    # taper= {function= taper},\n",
        "    # with_bbox= True,\n",
        "):\n",
        "    return reciprocal({\n",
        "        ('o1', 'o2'): 0.45**0.5,\n",
        "        ('o1', 'o3'): 0.45**0.5,\n",
        "    })"
      ]
    },
    {
      "cell_type": "code",
      "execution_count": 6,
      "id": "f55c5d2e3463b043",
      "metadata": {
        "execution": {
          "iopub.execute_input": "2022-08-16T04:19:39.222449Z",
          "iopub.status.busy": "2022-08-16T04:19:39.222033Z",
          "iopub.status.idle": "2022-08-16T04:19:39.223645Z",
          "shell.execute_reply": "2022-08-16T04:19:39.224005Z"
        },
        "papermill": {
          "duration": 0.022249,
          "end_time": "2022-08-16T04:19:39.224109",
          "exception": false,
          "start_time": "2022-08-16T04:19:39.201860",
          "status": "completed"
        },
        "tags": [
          "remove-cell"
        ]
      },
      "outputs": [],
      "source": [
        "def mmi2x2(\n",
        "    width=0.5,\n",
        "    width_taper= 1.0,\n",
        "    length_taper= 10.0,\n",
        "    length_mmi= 5.5,\n",
        "    width_mmi= 2.5,\n",
        "    gap_mmi= 0.25,\n",
        "    # cross_section= strip,\n",
        "    # taper= {function= taper},\n",
        "    # with_bbox= True,\n",
        "):\n",
        "    return reciprocal({\n",
        "        ('o1', 'o3'): 0.45**0.5,\n",
        "        ('o1', 'o4'): 1j * 0.45**0.5,\n",
        "        ('o2', 'o3'): 1j * 0.45**0.5,\n",
        "        ('o2', 'o4'): 0.45**0.5,\n",
        "    })"
      ]
    },
    {
      "cell_type": "code",
      "execution_count": 7,
      "id": "768a3b2c9dadc057",
      "metadata": {
        "execution": {
          "iopub.execute_input": "2022-08-16T04:19:39.260075Z",
          "iopub.status.busy": "2022-08-16T04:19:39.259657Z",
          "iopub.status.idle": "2022-08-16T04:19:39.261156Z",
          "shell.execute_reply": "2022-08-16T04:19:39.261486Z"
        },
        "papermill": {
          "duration": 0.021273,
          "end_time": "2022-08-16T04:19:39.261589",
          "exception": false,
          "start_time": "2022-08-16T04:19:39.240316",
          "status": "completed"
        },
        "tags": [
          "remove-cell"
        ]
      },
      "outputs": [],
      "source": [
        "def straight(\n",
        "    length=0.01,\n",
        "    #npoints=2,\n",
        "    #with_bbox=True,\n",
        "    #cross_section=...\n",
        "):\n",
        "    return reciprocal({\n",
        "        ('o1', 'o2'): 1.0\n",
        "    })"
      ]
    },
    {
      "cell_type": "markdown",
      "id": "8efe90e4-dfe6-40bd-aa0a-26c74738d688",
      "metadata": {
        "papermill": {
          "duration": 0.016472,
          "end_time": "2022-08-16T04:19:39.294556",
          "exception": false,
          "start_time": "2022-08-16T04:19:39.278084",
          "status": "completed"
        },
        "tags": []
      },
      "source": [
        "In SAX, we usually aggregate the available models in a models dictionary:"
      ]
    },
    {
      "cell_type": "code",
      "execution_count": 8,
      "id": "c1ac9132-0ee2-443b-98f4-f790234551b0",
      "metadata": {
        "execution": {
          "iopub.execute_input": "2022-08-16T04:19:39.330763Z",
          "iopub.status.busy": "2022-08-16T04:19:39.330356Z",
          "iopub.status.idle": "2022-08-16T04:19:39.332325Z",
          "shell.execute_reply": "2022-08-16T04:19:39.331993Z"
        },
        "papermill": {
          "duration": 0.021082,
          "end_time": "2022-08-16T04:19:39.332416",
          "exception": false,
          "start_time": "2022-08-16T04:19:39.311334",
          "status": "completed"
        },
        "tags": []
      },
      "outputs": [],
      "source": [
        "models = {\n",
        "    'straight': straight,\n",
        "    'bend_euler': bend_euler,\n",
        "    'mmi1x2': mmi1x2,\n",
        "}"
      ]
    },
    {
      "cell_type": "markdown",
      "id": "3df7d9b6-acbb-4406-a3c8-8a9ad09db768",
      "metadata": {
        "papermill": {
          "duration": 0.016656,
          "end_time": "2022-08-16T04:19:39.365434",
          "exception": false,
          "start_time": "2022-08-16T04:19:39.348778",
          "status": "completed"
        },
        "tags": []
      },
      "source": [
        "We can now represent our recursive netlist model as a Directed Acyclic Graph:"
      ]
    },
    {
      "cell_type": "markdown",
      "id": "9f8a92c4886a83b1",
      "metadata": {},
      "source": [
        ":::{eval-rst}\n",
        ".. autofunction:: sax.circuit.create_dag\n",
        ":::\n"
      ]
    },
    {
      "cell_type": "code",
      "execution_count": 9,
      "id": "33f52046ce601045",
      "metadata": {
        "execution": {
          "iopub.execute_input": "2022-08-16T04:19:39.405924Z",
          "iopub.status.busy": "2022-08-16T04:19:39.405482Z",
          "iopub.status.idle": "2022-08-16T04:19:39.407039Z",
          "shell.execute_reply": "2022-08-16T04:19:39.407367Z"
        },
        "papermill": {
          "duration": 0.025387,
          "end_time": "2022-08-16T04:19:39.407483",
          "exception": false,
          "start_time": "2022-08-16T04:19:39.382096",
          "status": "completed"
        },
        "tags": [
          "hide-input"
        ]
      },
      "outputs": [],
      "source": [
        "def create_dag(\n",
        "    netlist: RecursiveNetlist,\n",
        "    models: Optional[Dict[str, Any]] = None,\n",
        "):\n",
        "    if models is None:\n",
        "        models = {}\n",
        "    assert isinstance(models, dict)\n",
        "    \n",
        "    all_models = {}\n",
        "    g = nx.DiGraph()\n",
        "\n",
        "    for model_name, netlist in netlist.dict()['__root__'].items():\n",
        "        if not model_name in all_models:\n",
        "            all_models[model_name] = models.get(model_name, netlist)\n",
        "            g.add_node(model_name)\n",
        "        if model_name in models:\n",
        "            continue\n",
        "        for instance in netlist['instances'].values():\n",
        "            component = instance['component']\n",
        "            if not component in all_models:\n",
        "                all_models[component] = models.get(component, None)\n",
        "                g.add_node(component)\n",
        "            g.add_edge(model_name, component)\n",
        "            \n",
        "    return g"
      ]
    },
    {
      "cell_type": "markdown",
      "id": "b19a397b723ea938",
      "metadata": {},
      "source": [
        ":::{eval-rst}\n",
        ".. autofunction:: sax.circuit.draw_dag\n",
        ":::\n"
      ]
    },
    {
      "cell_type": "code",
      "execution_count": 10,
      "id": "f34652e6990ae90d",
      "metadata": {
        "execution": {
          "iopub.execute_input": "2022-08-16T04:19:39.448498Z",
          "iopub.status.busy": "2022-08-16T04:19:39.448072Z",
          "iopub.status.idle": "2022-08-16T04:19:39.449655Z",
          "shell.execute_reply": "2022-08-16T04:19:39.450003Z"
        },
        "papermill": {
          "duration": 0.025877,
          "end_time": "2022-08-16T04:19:39.450114",
          "exception": false,
          "start_time": "2022-08-16T04:19:39.424237",
          "status": "completed"
        },
        "tags": [
          "hide-input"
        ]
      },
      "outputs": [],
      "source": [
        "\n",
        "def draw_dag(dag, with_labels=True, **kwargs):\n",
        "    _patch_path()\n",
        "    if shutil.which('dot'):\n",
        "        return nx.draw(dag, nx.nx_pydot.pydot_layout(dag, prog='dot'), with_labels=with_labels, **kwargs)\n",
        "    else:\n",
        "        return nx.draw(dag, _my_dag_pos(dag), with_labels=with_labels, **kwargs)\n",
        "    \n",
        "def _patch_path():\n",
        "    os_paths = {p: None for p in os.environ.get('PATH', '').split(os.pathsep)}\n",
        "    sys_paths = {p: None for p in sys.path}\n",
        "    other_paths = {os.path.dirname(sys.executable): None}\n",
        "    os.environ['PATH'] = os.pathsep.join({**os_paths, **sys_paths, **other_paths})\n",
        "\n",
        "def _my_dag_pos(dag):\n",
        "    # inferior to pydot\n",
        "    in_degree = {}\n",
        "    for k, v in dag.in_degree():\n",
        "        if v not in in_degree:\n",
        "            in_degree[v] = []\n",
        "        in_degree[v].append(k)\n",
        "\n",
        "    widths = {k: len(vs) for k, vs in in_degree.items()}\n",
        "    width = max(widths.values())\n",
        "    height = max(widths) + 1\n",
        "    \n",
        "    horizontal_pos = {k: np.linspace(0, 1, w+2)[1:-1]*width for k, w in widths.items()}\n",
        "\n",
        "    pos = {}\n",
        "    for k, vs in in_degree.items():\n",
        "        for x, v in zip(horizontal_pos[k], vs):\n",
        "            pos[v] = (x, -k)\n",
        "    return pos"
      ]
    },
    {
      "cell_type": "code",
      "execution_count": 11,
      "id": "b6d6e06e-b501-4d3e-8eb6-0d7117abf8e8",
      "metadata": {
        "execution": {
          "iopub.execute_input": "2022-08-16T04:19:39.485796Z",
          "iopub.status.busy": "2022-08-16T04:19:39.485380Z",
          "iopub.status.idle": "2022-08-16T04:19:39.600465Z",
          "shell.execute_reply": "2022-08-16T04:19:39.600870Z"
        },
        "papermill": {
          "duration": 0.134264,
          "end_time": "2022-08-16T04:19:39.601004",
          "exception": false,
          "start_time": "2022-08-16T04:19:39.466740",
          "status": "completed"
        },
        "tags": []
      },
      "outputs": [
        {
          "data": {
            "image/png": "[encoded data removed]",
            "text/plain": [
              "<Figure size 432x288 with 1 Axes>"
            ]
          },
          "metadata": {},
          "output_type": "display_data"
        }
      ],
      "source": [
        "dag = create_dag(recnet, models)\n",
        "draw_dag(dag)"
      ]
    },
    {
      "cell_type": "markdown",
      "id": "d081c64c-c42c-467e-885d-6e8db2cf64cc",
      "metadata": {
        "papermill": {
          "duration": 0.017525,
          "end_time": "2022-08-16T04:19:39.636169",
          "exception": false,
          "start_time": "2022-08-16T04:19:39.618644",
          "status": "completed"
        },
        "tags": []
      },
      "source": [
        "Note that the DAG depends on the models we supply. We could for example stub one of the sub-netlists by a pre-defined model:"
      ]
    },
    {
      "cell_type": "code",
      "execution_count": 12,
      "id": "ebb11e68-ecc3-4d00-9870-b6682e06c39f",
      "metadata": {
        "execution": {
          "iopub.execute_input": "2022-08-16T04:19:39.677305Z",
          "iopub.status.busy": "2022-08-16T04:19:39.673622Z",
          "iopub.status.idle": "2022-08-16T04:19:39.767709Z",
          "shell.execute_reply": "2022-08-16T04:19:39.768119Z"
        },
        "papermill": {
          "duration": 0.114429,
          "end_time": "2022-08-16T04:19:39.768250",
          "exception": false,
          "start_time": "2022-08-16T04:19:39.653821",
          "status": "completed"
        },
        "tags": []
      },
      "outputs": [
        {
          "data": {
            "image/png": "[encoded data removed]",
            "text/plain": [
              "<Figure size 432x288 with 1 Axes>"
            ]
          },
          "metadata": {},
          "output_type": "display_data"
        }
      ],
      "source": [
        "dag_ = create_dag(recnet, {**models, 'mzi_delta_length10': mmi2x2})\n",
        "draw_dag(dag_, with_labels=True)"
      ]
    },
    {
      "cell_type": "markdown",
      "id": "b68c2f1a-f062-4f8a-89a5-8608524a5c06",
      "metadata": {
        "papermill": {
          "duration": 0.018089,
          "end_time": "2022-08-16T04:19:39.804789",
          "exception": false,
          "start_time": "2022-08-16T04:19:39.786700",
          "status": "completed"
        },
        "tags": []
      },
      "source": [
        "This is useful if we for example pre-calculated a certain model."
      ]
    },
    {
      "cell_type": "markdown",
      "id": "020381f6-872f-4aea-8822-ef1096553dc2",
      "metadata": {
        "papermill": {
          "duration": 0.018239,
          "end_time": "2022-08-16T04:19:39.841026",
          "exception": false,
          "start_time": "2022-08-16T04:19:39.822787",
          "status": "completed"
        },
        "tags": []
      },
      "source": [
        "We can easily find the root of the DAG:"
      ]
    },
    {
      "cell_type": "markdown",
      "id": "d237d4897c94fe48",
      "metadata": {},
      "source": [
        ":::{eval-rst}\n",
        ".. autofunction:: sax.circuit.find_root\n",
        ":::\n"
      ]
    },
    {
      "cell_type": "code",
      "execution_count": 13,
      "id": "97c16583e24cd873",
      "metadata": {
        "execution": {
          "iopub.execute_input": "2022-08-16T04:19:39.880330Z",
          "iopub.status.busy": "2022-08-16T04:19:39.879917Z",
          "iopub.status.idle": "2022-08-16T04:19:39.882113Z",
          "shell.execute_reply": "2022-08-16T04:19:39.881777Z"
        },
        "papermill": {
          "duration": 0.023254,
          "end_time": "2022-08-16T04:19:39.882205",
          "exception": false,
          "start_time": "2022-08-16T04:19:39.858951",
          "status": "completed"
        },
        "tags": [
          "hide-input"
        ]
      },
      "outputs": [],
      "source": [
        "def find_root(g):\n",
        "    nodes = [n for n, d in g.in_degree() if d == 0]\n",
        "    return nodes"
      ]
    },
    {
      "cell_type": "code",
      "execution_count": 14,
      "id": "11728146-6b54-48f2-acac-c8a5fa4e3b0f",
      "metadata": {
        "execution": {
          "iopub.execute_input": "2022-08-16T04:19:39.920458Z",
          "iopub.status.busy": "2022-08-16T04:19:39.920047Z",
          "iopub.status.idle": "2022-08-16T04:19:39.924025Z",
          "shell.execute_reply": "2022-08-16T04:19:39.923690Z"
        },
        "papermill": {
          "duration": 0.023982,
          "end_time": "2022-08-16T04:19:39.924116",
          "exception": false,
          "start_time": "2022-08-16T04:19:39.900134",
          "status": "completed"
        },
        "tags": []
      },
      "outputs": [
        {
          "data": {
            "text/plain": [
              "['twomzi']"
            ]
          },
          "execution_count": 14,
          "metadata": {},
          "output_type": "execute_result"
        }
      ],
      "source": [
        "find_root(dag)"
      ]
    },
    {
      "cell_type": "markdown",
      "id": "4e8065d2-19c8-444a-b1c2-ea3c62f90e0a",
      "metadata": {
        "papermill": {
          "duration": 0.018639,
          "end_time": "2022-08-16T04:19:39.961173",
          "exception": false,
          "start_time": "2022-08-16T04:19:39.942534",
          "status": "completed"
        },
        "tags": []
      },
      "source": [
        "Similarly we can find the leaves:"
      ]
    },
    {
      "cell_type": "markdown",
      "id": "83a8b5f16e26ef91",
      "metadata": {},
      "source": [
        ":::{eval-rst}\n",
        ".. autofunction:: sax.circuit.find_leaves\n",
        ":::\n"
      ]
    },
    {
      "cell_type": "code",
      "execution_count": 15,
      "id": "898cf65f15de2ffa",
      "metadata": {
        "execution": {
          "iopub.execute_input": "2022-08-16T04:19:40.001403Z",
          "iopub.status.busy": "2022-08-16T04:19:40.000991Z",
          "iopub.status.idle": "2022-08-16T04:19:40.002572Z",
          "shell.execute_reply": "2022-08-16T04:19:40.002898Z"
        },
        "papermill": {
          "duration": 0.023597,
          "end_time": "2022-08-16T04:19:40.003004",
          "exception": false,
          "start_time": "2022-08-16T04:19:39.979407",
          "status": "completed"
        },
        "tags": [
          "hide-input"
        ]
      },
      "outputs": [],
      "source": [
        "def find_leaves(g):\n",
        "    nodes = [n for n, d in g.out_degree() if d == 0]\n",
        "    return nodes"
      ]
    },
    {
      "cell_type": "code",
      "execution_count": 16,
      "id": "7fa9afff-26b5-44cb-90bf-a32ef5e95bf5",
      "metadata": {
        "execution": {
          "iopub.execute_input": "2022-08-16T04:19:40.043131Z",
          "iopub.status.busy": "2022-08-16T04:19:40.042722Z",
          "iopub.status.idle": "2022-08-16T04:19:40.045228Z",
          "shell.execute_reply": "2022-08-16T04:19:40.044875Z"
        },
        "papermill": {
          "duration": 0.023915,
          "end_time": "2022-08-16T04:19:40.045316",
          "exception": false,
          "start_time": "2022-08-16T04:19:40.021401",
          "status": "completed"
        },
        "tags": []
      },
      "outputs": [
        {
          "data": {
            "text/plain": [
              "['bend_euler', 'mmi1x2', 'straight']"
            ]
          },
          "execution_count": 16,
          "metadata": {},
          "output_type": "execute_result"
        }
      ],
      "source": [
        "find_leaves(dag)"
      ]
    },
    {
      "cell_type": "markdown",
      "id": "59fb221d-951d-44df-a5d9-487a8b4dc4f8",
      "metadata": {
        "papermill": {
          "duration": 0.019053,
          "end_time": "2022-08-16T04:19:40.083439",
          "exception": false,
          "start_time": "2022-08-16T04:19:40.064386",
          "status": "completed"
        },
        "tags": []
      },
      "source": [
        "To be able to simulate the circuit, we need to supply a model for each of the leaves in the dependency DAG. Let's write a validator that checks this"
      ]
    },
    {
      "cell_type": "code",
      "execution_count": 17,
      "id": "d4a6dfc7344d56ce",
      "metadata": {
        "execution": {
          "iopub.execute_input": "2022-08-16T04:19:40.126570Z",
          "iopub.status.busy": "2022-08-16T04:19:40.126128Z",
          "iopub.status.idle": "2022-08-16T04:19:40.128047Z",
          "shell.execute_reply": "2022-08-16T04:19:40.127678Z"
        },
        "papermill": {
          "duration": 0.025711,
          "end_time": "2022-08-16T04:19:40.128146",
          "exception": false,
          "start_time": "2022-08-16T04:19:40.102435",
          "status": "completed"
        },
        "tags": [
          "hide-input"
        ]
      },
      "outputs": [],
      "source": [
        "def _validate_models(models, dag):\n",
        "    required_models = find_leaves(dag)\n",
        "    missing_models = [m for m in required_models if m not in models]\n",
        "    if missing_models:\n",
        "        model_diff = {\n",
        "            \"Missing Models\": missing_models,\n",
        "            \"Given Models\": list(models),\n",
        "            \"Required Models\": required_models,\n",
        "        }\n",
        "        raise ValueError(\n",
        "            \"Missing models. The following models are still missing to build the circuit:\\n\"\n",
        "            f\"{black.format_str(repr(model_diff), mode=black.Mode())}\"\n",
        "        )\n",
        "    return {**models} # shallow copy"
      ]
    },
    {
      "cell_type": "code",
      "execution_count": 18,
      "id": "a97dbe93-a53f-4525-b721-2f329692cdc9",
      "metadata": {
        "execution": {
          "iopub.execute_input": "2022-08-16T04:19:40.169819Z",
          "iopub.status.busy": "2022-08-16T04:19:40.169397Z",
          "iopub.status.idle": "2022-08-16T04:19:40.171728Z",
          "shell.execute_reply": "2022-08-16T04:19:40.171362Z"
        },
        "papermill": {
          "duration": 0.0246,
          "end_time": "2022-08-16T04:19:40.171834",
          "exception": false,
          "start_time": "2022-08-16T04:19:40.147234",
          "status": "completed"
        },
        "tags": []
      },
      "outputs": [],
      "source": [
        "models = _validate_models(models, dag)"
      ]
    },
    {
      "cell_type": "markdown",
      "id": "e9f30a86-aa00-4f51-8b93-3440edc0b46b",
      "metadata": {
        "papermill": {
          "duration": 0.01902,
          "end_time": "2022-08-16T04:19:40.210077",
          "exception": false,
          "start_time": "2022-08-16T04:19:40.191057",
          "status": "completed"
        },
        "tags": []
      },
      "source": [
        "We can now dow a bottom-up simulation. Since at the bottom of the DAG, our circuit is always flat (i.e. not hierarchical) we can implement a minimal `_flat_circuit` definition, which only needs to work on a flat (non-hierarchical circuit):"
      ]
    },
    {
      "cell_type": "code",
      "execution_count": 19,
      "id": "d12b6dbe7fc06745",
      "metadata": {
        "execution": {
          "iopub.execute_input": "2022-08-16T04:19:40.359190Z",
          "iopub.status.busy": "2022-08-16T04:19:40.358007Z",
          "iopub.status.idle": "2022-08-16T04:19:40.359743Z",
          "shell.execute_reply": "2022-08-16T04:19:40.360105Z"
        },
        "papermill": {
          "duration": 0.131193,
          "end_time": "2022-08-16T04:19:40.360246",
          "exception": false,
          "start_time": "2022-08-16T04:19:40.229053",
          "status": "completed"
        },
        "tags": [
          "hide-input"
        ]
      },
      "outputs": [],
      "source": [
        "def _flat_circuit(instances, connections, ports, models, backend):\n",
        "    evaluate_circuit = circuit_backends[backend]\n",
        "\n",
        "    inst2model = {k: models[inst.component] for k, inst in instances.items()}\n",
        "\n",
        "    model_settings = {name: get_settings(model) for name, model in inst2model.items()}\n",
        "    netlist_settings = {\n",
        "        name: {k: v for k, v in inst.settings.items() if k in model_settings[name]}\n",
        "        for name, inst in instances.items()\n",
        "    }\n",
        "    default_settings = merge_dicts(model_settings, netlist_settings)\n",
        "\n",
        "    def _circuit(**settings: Settings) -> SType:\n",
        "        settings = merge_dicts(default_settings, settings)\n",
        "        settings = _forward_global_settings(inst2model, settings)\n",
        "\n",
        "        instances: Dict[str, SType] = {}\n",
        "        for inst_name, model in inst2model.items():\n",
        "            instances[inst_name] = model(**settings.get(inst_name, {}))\n",
        "        S = evaluate_circuit(instances, connections, ports)\n",
        "        return S\n",
        "\n",
        "    _replace_kwargs(_circuit, **default_settings)\n",
        "\n",
        "    return _circuit\n",
        "\n",
        "def _forward_global_settings(instances, settings):\n",
        "    global_settings = {}\n",
        "    for k in list(settings.keys()):\n",
        "        if k in instances:\n",
        "            continue\n",
        "        global_settings[k] = settings.pop(k)\n",
        "    if global_settings:\n",
        "        settings = update_settings(settings, **global_settings)\n",
        "    return settings"
      ]
    },
    {
      "cell_type": "code",
      "execution_count": 20,
      "id": "1f415c32-70e4-4b40-a9e2-051fc187cbb9",
      "metadata": {
        "execution": {
          "iopub.execute_input": "2022-08-16T04:19:40.403391Z",
          "iopub.status.busy": "2022-08-16T04:19:40.402971Z",
          "iopub.status.idle": "2022-08-16T04:19:40.414450Z",
          "shell.execute_reply": "2022-08-16T04:19:40.414782Z"
        },
        "papermill": {
          "duration": 0.03491,
          "end_time": "2022-08-16T04:19:40.414906",
          "exception": false,
          "start_time": "2022-08-16T04:19:40.379996",
          "status": "completed"
        },
        "tags": []
      },
      "outputs": [
        {
          "name": "stderr",
          "output_type": "stream",
          "text": [
            "WARNING:absl:No GPU/TPU found, falling back to CPU. (Set TF_CPP_MIN_LOG_LEVEL=0 and rerun for more info.)\n"
          ]
        }
      ],
      "source": [
        "flatnet = recnet.__root__['mzi_delta_length10']\n",
        "single_mzi = _flat_circuit(flatnet.instances, flatnet.connections, flatnet.ports, models, \"default\")"
      ]
    },
    {
      "cell_type": "markdown",
      "id": "c4f3375c-baa3-433f-924a-eff50557bf9f",
      "metadata": {
        "papermill": {
          "duration": 0.019493,
          "end_time": "2022-08-16T04:19:40.453825",
          "exception": false,
          "start_time": "2022-08-16T04:19:40.434332",
          "status": "completed"
        },
        "tags": []
      },
      "source": [
        "The resulting circuit is just another SAX model (i.e. a python function) returing an SType:"
      ]
    },
    {
      "cell_type": "code",
      "execution_count": 21,
      "id": "058740c4-439b-4b00-91e7-15e3e7b6679c",
      "metadata": {
        "execution": {
          "iopub.execute_input": "2022-08-16T04:19:40.526422Z",
          "iopub.status.busy": "2022-08-16T04:19:40.500501Z",
          "iopub.status.idle": "2022-08-16T04:19:40.538004Z",
          "shell.execute_reply": "2022-08-16T04:19:40.538369Z"
        },
        "papermill": {
          "duration": 0.06547,
          "end_time": "2022-08-16T04:19:40.538491",
          "exception": false,
          "start_time": "2022-08-16T04:19:40.473021",
          "status": "completed"
        },
        "tags": []
      },
      "outputs": [],
      "source": [
        "single_mzi?"
      ]
    },
    {
      "cell_type": "markdown",
      "id": "2b2bbe9f-29ac-413a-b0a4-6c51da8689cb",
      "metadata": {
        "papermill": {
          "duration": 0.019763,
          "end_time": "2022-08-16T04:19:40.577703",
          "exception": false,
          "start_time": "2022-08-16T04:19:40.557940",
          "status": "completed"
        },
        "tags": []
      },
      "source": [
        "Let's 'execute' the circuit:"
      ]
    },
    {
      "cell_type": "code",
      "execution_count": 22,
      "id": "8784bf1b-933f-4dd6-b77b-bf47618168b4",
      "metadata": {
        "execution": {
          "iopub.execute_input": "2022-08-16T04:19:40.638482Z",
          "iopub.status.busy": "2022-08-16T04:19:40.624033Z",
          "iopub.status.idle": "2022-08-16T04:19:40.665040Z",
          "shell.execute_reply": "2022-08-16T04:19:40.665379Z"
        },
        "papermill": {
          "duration": 0.068327,
          "end_time": "2022-08-16T04:19:40.665509",
          "exception": false,
          "start_time": "2022-08-16T04:19:40.597182",
          "status": "completed"
        },
        "tags": []
      },
      "outputs": [
        {
          "data": {
            "text/plain": [
              "{('o1', 'o1'): 0.0, ('o2', 'o2'): 0.0, ('o2', 'o1'): 0.9, ('o1', 'o2'): 0.9}"
            ]
          },
          "execution_count": 22,
          "metadata": {},
          "output_type": "execute_result"
        }
      ],
      "source": [
        "single_mzi()"
      ]
    },
    {
      "cell_type": "markdown",
      "id": "c852f384-c830-47f5-aa75-ee274abbcc35",
      "metadata": {
        "papermill": {
          "duration": 0.019937,
          "end_time": "2022-08-16T04:19:40.705514",
          "exception": false,
          "start_time": "2022-08-16T04:19:40.685577",
          "status": "completed"
        },
        "tags": []
      },
      "source": [
        "Now that we can handle flat circuits the extension to hierarchical circuits is not so difficult:"
      ]
    },
    {
      "cell_type": "markdown",
      "id": "6f8b14d84474c6bd",
      "metadata": {},
      "source": [
        ":::{eval-rst}\n",
        ".. autofunction:: sax.circuit.circuit\n",
        ":::\n"
      ]
    },
    {
      "cell_type": "code",
      "execution_count": 23,
      "id": "22b844a4c5104b82",
      "metadata": {
        "execution": {
          "iopub.execute_input": "2022-08-16T04:19:40.748178Z",
          "iopub.status.busy": "2022-08-16T04:19:40.747692Z",
          "iopub.status.idle": "2022-08-16T04:19:40.765340Z",
          "shell.execute_reply": "2022-08-16T04:19:40.764973Z"
        },
        "papermill": {
          "duration": 0.039973,
          "end_time": "2022-08-16T04:19:40.765442",
          "exception": false,
          "start_time": "2022-08-16T04:19:40.725469",
          "status": "completed"
        },
        "tags": [
          "hide-input"
        ]
      },
      "outputs": [],
      "source": [
        "def circuit(\n",
        "    netlist: Union[Netlist, RecursiveNetlist],\n",
        "    models: Optional[Dict[str, Model]] = None,\n",
        "    modes: Optional[List[str]] = None,\n",
        "    backend: str = \"default\",\n",
        ") -> Tuple[Model, CircuitInfo]:\n",
        "    netlist, instance_models = _extract_instance_models(netlist) # TODO: do this *after* recursive netlist parsing.\n",
        "    recnet: RecursiveNetlist = _validate_net(netlist)\n",
        "    dependency_dag: nx.DiGraph = _validate_dag(create_dag(recnet, models))  # directed acyclic graph\n",
        "    models = _validate_models({**(models or {}), **instance_models}, dependency_dag)\n",
        "    modes = _validate_modes(modes)\n",
        "    backend = _validate_circuit_backend(backend)\n",
        "\n",
        "    circuit = None\n",
        "    new_models = {}\n",
        "    current_models = {}\n",
        "    model_names = list(nx.topological_sort(dependency_dag))[::-1]\n",
        "    for model_name in model_names:\n",
        "        if model_name in models:\n",
        "            new_models[model_name] = models[model_name]\n",
        "            continue\n",
        "\n",
        "        flatnet = recnet.__root__[model_name]\n",
        "\n",
        "        connections, ports, new_models = _make_singlemode_or_multimode(\n",
        "            flatnet, modes, new_models\n",
        "        )\n",
        "        current_models.update(new_models)\n",
        "        new_models = {}\n",
        "\n",
        "        current_models[model_name] = circuit = _flat_circuit(\n",
        "            flatnet.instances, connections, ports, current_models, backend\n",
        "        )\n",
        "\n",
        "    assert circuit is not None\n",
        "    return circuit, CircuitInfo(dag=dependency_dag, models=current_models)\n",
        "\n",
        "\n",
        "class CircuitInfo(NamedTuple):\n",
        "    dag: nx.DiGraph\n",
        "    models: Dict[str, Model]\n",
        "\n",
        "\n",
        "def _extract_instance_models(netlist):\n",
        "    if not isinstance(netlist, dict):\n",
        "        netlist = netlist.dict()\n",
        "    if '__root__' in netlist:\n",
        "        netlist = netlist['__root__']\n",
        "    if 'instances' in netlist:\n",
        "        netlist = {'top_level': netlist}\n",
        "    netlist = {**netlist}\n",
        "        \n",
        "    models = {}\n",
        "    for netname, net in netlist.items():\n",
        "        net = {**net}\n",
        "        net['instances'] = {**net['instances']}\n",
        "        for name, inst in net['instances'].items():\n",
        "            if callable(inst):\n",
        "                settings = get_settings(inst)\n",
        "                if isinstance(inst, partial) and inst.args:\n",
        "                    raise ValueError(\"SAX circuits and netlists don't support partials with positional arguments.\")\n",
        "                while isinstance(inst, partial):\n",
        "                    inst = inst.func\n",
        "                models[inst.__name__] = inst\n",
        "                net['instances'][name] = {\n",
        "                    'component': inst.__name__,\n",
        "                    'settings': settings\n",
        "                }\n",
        "        netlist[netname] = net\n",
        "    return netlist, models\n",
        "\n",
        "\n",
        "def _validate_circuit_backend(backend):\n",
        "    backend = backend.lower()\n",
        "    # assert valid circuit_backend\n",
        "    if backend not in circuit_backends:\n",
        "        raise KeyError(\n",
        "            f\"circuit backend {backend} not found. Allowed circuit backends: \"\n",
        "            f\"{', '.join(circuit_backends.keys())}.\"\n",
        "        )\n",
        "    return backend\n",
        "\n",
        "\n",
        "def _validate_modes(modes) -> List[str]:\n",
        "    if modes is None:\n",
        "        return [\"te\"]\n",
        "    elif not modes:\n",
        "        return [\"te\"]\n",
        "    elif isinstance(modes, str):\n",
        "        return [modes]\n",
        "    elif all(isinstance(m, str) for m in modes):\n",
        "        return modes\n",
        "    else:\n",
        "        raise ValueError(f\"Invalid modes given: {modes}\")\n",
        "\n",
        "\n",
        "def _validate_net(netlist: Union[Netlist, RecursiveNetlist]) -> RecursiveNetlist:\n",
        "    if isinstance(netlist, dict):\n",
        "        try:\n",
        "            netlist = Netlist.parse_obj(netlist)\n",
        "        except ValidationError:\n",
        "            netlist = RecursiveNetlist.parse_obj(netlist)\n",
        "    if isinstance(netlist, Netlist):\n",
        "        netlist = RecursiveNetlist(__root__={\"top_level\": netlist})\n",
        "    return netlist\n",
        "\n",
        "\n",
        "def _validate_dag(dag):\n",
        "    nodes = find_root(dag)\n",
        "    if len(nodes) > 1:\n",
        "        raise ValueError(f\"Multiple top_levels found in netlist: {nodes}\")\n",
        "    if len(nodes) < 1:\n",
        "        raise ValueError(f\"Netlist does not contain any nodes.\")\n",
        "    if not dag.is_directed():\n",
        "        raise ValueError(\"Netlist dependency cycles detected!\")\n",
        "    return dag\n",
        "\n",
        "\n",
        "def _make_singlemode_or_multimode(netlist, modes, models):\n",
        "    if len(modes) == 1:\n",
        "        connections, ports, models = _make_singlemode(netlist, modes[0], models)\n",
        "    else:\n",
        "        connections, ports, models = _make_multimode(netlist, modes, models)\n",
        "    return connections, ports, models\n",
        "\n",
        "\n",
        "def _make_singlemode(netlist, mode, models):\n",
        "    models = {k: singlemode(m, mode=mode) for k, m in models.items()}\n",
        "    return netlist.connections, netlist.ports, models\n",
        "\n",
        "\n",
        "def _make_multimode(netlist, modes, models):\n",
        "    models = {k: multimode(m, modes=modes) for k, m in models.items()}\n",
        "    connections = {\n",
        "        f\"{p1}@{mode}\": f\"{p2}@{mode}\"\n",
        "        for p1, p2 in netlist.connections.items()\n",
        "        for mode in modes\n",
        "    }\n",
        "    ports = {\n",
        "        f\"{p1}@{mode}\": f\"{p2}@{mode}\"\n",
        "        for p1, p2 in netlist.ports.items()\n",
        "        for mode in modes\n",
        "    }\n",
        "    return connections, ports, models"
      ]
    },
    {
      "cell_type": "code",
      "execution_count": 24,
      "id": "6d133b49-6f26-4e01-bcd9-7ca1b76dc55d",
      "metadata": {
        "execution": {
          "iopub.execute_input": "2022-08-16T04:19:40.818098Z",
          "iopub.status.busy": "2022-08-16T04:19:40.813034Z",
          "iopub.status.idle": "2022-08-16T04:19:40.853045Z",
          "shell.execute_reply": "2022-08-16T04:19:40.852622Z"
        },
        "papermill": {
          "duration": 0.067808,
          "end_time": "2022-08-16T04:19:40.853162",
          "exception": false,
          "start_time": "2022-08-16T04:19:40.785354",
          "status": "completed"
        },
        "tags": []
      },
      "outputs": [
        {
          "data": {
            "text/plain": [
              "{('o1', 'o1'): 0.0, ('o2', 'o2'): 0.0, ('o2', 'o1'): 0.81, ('o1', 'o2'): 0.81}"
            ]
          },
          "execution_count": 24,
          "metadata": {},
          "output_type": "execute_result"
        }
      ],
      "source": [
        "double_mzi, info = circuit(recnet, models)\n",
        "double_mzi()"
      ]
    }
  ],
  "metadata": {
    "kernelspec": {
      "display_name": "sax",
      "language": "python",
      "name": "sax"
    },
    "language_info": {
      "codemirror_mode": {
        "name": "ipython",
        "version": 3
      },
      "file_extension": ".py",
      "mimetype": "text/x-python",
      "name": "python",
      "nbconvert_exporter": "python",
      "pygments_lexer": "ipython3",
      "version": "3.9.0"
    },
    "papermill": {
      "default_parameters": {},
      "duration": 8.389311,
      "end_time": "2022-08-16T04:19:43.564877",
      "environment_variables": {},
      "exception": null,
      "input_path": "./nbs/08_circuit.ipynb",
      "output_path": "./nbs/08_circuit.ipynb",
      "parameters": {},
      "start_time": "2022-08-16T04:19:35.175566",
      "version": "2.3.4"
    }
  },
  "nbformat": 4,
  "nbformat_minor": 5
}
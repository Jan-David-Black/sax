{
  "cells": [
    {
      "cell_type": "code",
      "execution_count": 1,
      "id": "fc2098c00e1fcf48",
      "metadata": {
        "execution": {
          "iopub.execute_input": "2022-08-10T16:02:18.509866Z",
          "iopub.status.busy": "2022-08-10T16:02:18.509416Z",
          "iopub.status.idle": "2022-08-10T16:02:18.511782Z",
          "shell.execute_reply": "2022-08-10T16:02:18.512160Z"
        },
        "papermill": {
          "duration": 0.015486,
          "end_time": "2022-08-10T16:02:18.512351",
          "exception": false,
          "start_time": "2022-08-10T16:02:18.496865",
          "status": "completed"
        },
        "tags": [
          "remove-cell"
        ]
      },
      "outputs": [],
      "source": []
    },
    {
      "cell_type": "markdown",
      "id": "2c9c99fe",
      "metadata": {
        "papermill": {
          "duration": 0.006288,
          "end_time": "2022-08-10T16:02:18.525507",
          "exception": false,
          "start_time": "2022-08-10T16:02:18.519219",
          "status": "completed"
        },
        "tags": []
      },
      "source": [
        "# Circuit\n",
        "\n",
        "> SAX Circuits"
      ]
    },
    {
      "cell_type": "code",
      "execution_count": 2,
      "id": "25695e2e06d4889f",
      "metadata": {
        "execution": {
          "iopub.execute_input": "2022-08-10T16:02:18.545993Z",
          "iopub.status.busy": "2022-08-10T16:02:18.545576Z",
          "iopub.status.idle": "2022-08-10T16:02:18.609082Z",
          "shell.execute_reply": "2022-08-10T16:02:18.608719Z"
        },
        "papermill": {
          "duration": 0.077413,
          "end_time": "2022-08-10T16:02:18.609179",
          "exception": false,
          "start_time": "2022-08-10T16:02:18.531766",
          "status": "completed"
        },
        "tags": [
          "remove-cell"
        ]
      },
      "outputs": [],
      "source": [
        "from pytest import approx\n",
        "\n",
        "import os, sys; sys.stderr = open(os.devnull, \"w\")"
      ]
    },
    {
      "cell_type": "code",
      "execution_count": 3,
      "id": "324ba1e524e53717",
      "metadata": {
        "execution": {
          "iopub.execute_input": "2022-08-10T16:02:18.625866Z",
          "iopub.status.busy": "2022-08-10T16:02:18.623272Z",
          "iopub.status.idle": "2022-08-10T16:02:19.347748Z",
          "shell.execute_reply": "2022-08-10T16:02:19.346879Z"
        },
        "papermill": {
          "duration": 0.732451,
          "end_time": "2022-08-10T16:02:19.347890",
          "exception": false,
          "start_time": "2022-08-10T16:02:18.615439",
          "status": "completed"
        },
        "tags": [
          "hide-input"
        ]
      },
      "outputs": [],
      "source": [
        "from __future__ import annotations\n",
        "\n",
        "from functools import partial\n",
        "from typing import Dict, Optional, Tuple, Union, cast\n",
        "\n",
        "from sax.backends import circuit_backends\n",
        "from sax.models import coupler, straight\n",
        "from sax.multimode import multimode, singlemode\n",
        "from sax.netlist import LogicalNetlist, Netlist, logical_netlist, netlist_from_yaml\n",
        "from sax.typing_ import Instances, Model, Models, Netlist, Settings, SType, is_netlist\n",
        "from sax.utils import _replace_kwargs, get_settings, merge_dicts, update_settings\n",
        "\n",
        "try:\n",
        "    import jax.numpy as jnp\n",
        "    JAX_AVAILABLE = True\n",
        "except ImportError:\n",
        "    import numpy as jnp\n",
        "    JAX_AVAILABLE = False"
      ]
    },
    {
      "cell_type": "markdown",
      "id": "16b626384bea365f",
      "metadata": {},
      "source": [
        ":::{eval-rst}\n",
        ".. autofunction:: sax.circuit.circuit\n",
        ":::\n"
      ]
    },
    {
      "cell_type": "code",
      "execution_count": 4,
      "id": "9d3932a13593b489",
      "metadata": {
        "execution": {
          "iopub.execute_input": "2022-08-10T16:02:19.372717Z",
          "iopub.status.busy": "2022-08-10T16:02:19.368688Z",
          "iopub.status.idle": "2022-08-10T16:02:19.374348Z",
          "shell.execute_reply": "2022-08-10T16:02:19.374003Z"
        },
        "papermill": {
          "duration": 0.019741,
          "end_time": "2022-08-10T16:02:19.374450",
          "exception": false,
          "start_time": "2022-08-10T16:02:19.354709",
          "status": "completed"
        },
        "tags": [
          "hide-input"
        ]
      },
      "outputs": [],
      "source": [
        "\n",
        "def circuit(\n",
        "    *,\n",
        "    instances: Instances,\n",
        "    connections: Dict[str, str],\n",
        "    ports: Dict[str, str],\n",
        "    models: Optional[Models] = None,\n",
        "    modes: Optional[Tuple[str, ...]] = None,\n",
        "    settings: Optional[Settings] = None,\n",
        "    backend: str = \"default\",\n",
        "    default_models=None,\n",
        ") -> Model:\n",
        "    # assert valid circuit_backend\n",
        "    if backend not in circuit_backends:\n",
        "        raise KeyError(\n",
        "            f\"circuit backend {backend} not found. Allowed circuit backends: \"\n",
        "            f\"{', '.join(circuit_backends.keys())}.\"\n",
        "        )\n",
        "\n",
        "    evaluate_circuit = circuit_backends[backend]\n",
        "\n",
        "    _netlist, _settings, _models = logical_netlist(\n",
        "        instances=instances,\n",
        "        connections=connections,\n",
        "        ports=ports,\n",
        "        models=models,\n",
        "        settings=settings,\n",
        "        default_models=default_models,\n",
        "    )\n",
        "\n",
        "    for name in list(_models.keys()):\n",
        "        if is_netlist(_models[name]):\n",
        "            netlist_model = cast(LogicalNetlist, _models.pop(name))\n",
        "            instance_model_names = set(netlist_model[\"instances\"].values())\n",
        "            instance_models = {k: _models[k] for k in instance_model_names}\n",
        "            netlist_func = circuit_from_netlist(\n",
        "                netlist=netlist_model,\n",
        "                models=instance_models,\n",
        "                backend=backend,\n",
        "                modes=modes,\n",
        "                settings=None,  # settings are already integrated in netlist by now.\n",
        "                default_models=default_models,\n",
        "            )\n",
        "            _models[name] = netlist_func\n",
        "\n",
        "    if modes is not None:\n",
        "        maybe_multimode = partial(multimode, modes=modes)\n",
        "        connections = {\n",
        "            f\"{p1}@{mode}\": f\"{p2}@{mode}\"\n",
        "            for p1, p2 in _netlist[\"connections\"].items()\n",
        "            for mode in modes\n",
        "        }\n",
        "        ports = {\n",
        "            f\"{p1}@{mode}\": f\"{p2}@{mode}\"\n",
        "            for p1, p2 in _netlist[\"ports\"].items()\n",
        "            for mode in modes\n",
        "        }\n",
        "    else:\n",
        "        maybe_multimode = partial(singlemode, mode=\"te\")\n",
        "        connections = _netlist[\"connections\"]\n",
        "        ports = _netlist[\"ports\"]\n",
        "\n",
        "    def _circuit(**settings: Settings) -> SType:\n",
        "        settings = merge_dicts(_settings, settings)\n",
        "        global_settings = {}\n",
        "        for k in list(settings.keys()):\n",
        "            if k in _netlist[\"instances\"]:\n",
        "                continue\n",
        "            global_settings[k] = settings.pop(k)\n",
        "        if global_settings:\n",
        "            settings = cast(\n",
        "                Dict[str, Settings], update_settings(settings, **global_settings)\n",
        "            )\n",
        "        instances: Dict[str, SType] = {}\n",
        "        for name, model_name in _netlist[\"instances\"].items():\n",
        "            model = cast(Model, _models[model_name])\n",
        "            instances[name] = cast(\n",
        "                SType, maybe_multimode(model(**settings.get(name, {})))\n",
        "            )\n",
        "        S = evaluate_circuit(instances, connections, ports)\n",
        "        return S\n",
        "\n",
        "    settings = {\n",
        "        name: get_settings(cast(Model, _models[model]))\n",
        "        for name, model in _netlist[\"instances\"].items()\n",
        "    }\n",
        "    settings = merge_dicts(settings, _settings)\n",
        "    _replace_kwargs(_circuit, **settings)\n",
        "\n",
        "    return _circuit"
      ]
    },
    {
      "cell_type": "code",
      "execution_count": 5,
      "id": "9c6be0ea",
      "metadata": {
        "execution": {
          "iopub.execute_input": "2022-08-10T16:02:19.393084Z",
          "iopub.status.busy": "2022-08-10T16:02:19.392657Z",
          "iopub.status.idle": "2022-08-10T16:02:19.442168Z",
          "shell.execute_reply": "2022-08-10T16:02:19.441761Z"
        },
        "papermill": {
          "duration": 0.061373,
          "end_time": "2022-08-10T16:02:19.442269",
          "exception": false,
          "start_time": "2022-08-10T16:02:19.380896",
          "status": "completed"
        },
        "tags": []
      },
      "outputs": [],
      "source": [
        "mzi = circuit(\n",
        "    instances={\n",
        "        \"lft\": \"coupler\",\n",
        "        \"top\": \"straight\",\n",
        "        \"btm\": \"straight\",\n",
        "        \"rgt\": \"coupler\",\n",
        "    },\n",
        "    connections={\n",
        "        \"lft,out0\": \"btm,in0\",\n",
        "        \"btm,out0\": \"rgt,in0\",\n",
        "        \"lft,out1\": \"top,in0\",\n",
        "        \"top,out0\": \"rgt,in1\",\n",
        "    },\n",
        "    ports={\n",
        "        \"in0\": \"lft,in0\",\n",
        "        \"in1\": \"lft,in1\",\n",
        "        \"out0\": \"rgt,out0\",\n",
        "        \"out1\": \"rgt,out1\",\n",
        "    },\n",
        "    models={\n",
        "        \"straight\": straight,\n",
        "        \"coupler\": coupler,\n",
        "    }\n",
        ")\n",
        "\n",
        "mzi?"
      ]
    },
    {
      "cell_type": "code",
      "execution_count": 6,
      "id": "bca34a72",
      "metadata": {
        "execution": {
          "iopub.execute_input": "2022-08-10T16:02:19.462988Z",
          "iopub.status.busy": "2022-08-10T16:02:19.462558Z",
          "iopub.status.idle": "2022-08-10T16:02:21.697870Z",
          "shell.execute_reply": "2022-08-10T16:02:21.697405Z"
        },
        "papermill": {
          "duration": 2.249106,
          "end_time": "2022-08-10T16:02:21.698007",
          "exception": false,
          "start_time": "2022-08-10T16:02:19.448901",
          "status": "completed"
        },
        "tags": []
      },
      "outputs": [],
      "source": [
        "result = mzi(top={\"length\": 25.0}, btm={\"length\": 15.0})\n",
        "result = {k: approx(jnp.abs(v)) for k, v in result.items()}"
      ]
    },
    {
      "cell_type": "markdown",
      "id": "1aa16b00b8e46ac7",
      "metadata": {},
      "source": [
        ":::{eval-rst}\n",
        ".. autofunction:: sax.circuit.circuit_from_netlist\n",
        ":::\n"
      ]
    },
    {
      "cell_type": "code",
      "execution_count": 7,
      "id": "cccd67073d838dfb",
      "metadata": {
        "execution": {
          "iopub.execute_input": "2022-08-10T16:02:21.718423Z",
          "iopub.status.busy": "2022-08-10T16:02:21.715284Z",
          "iopub.status.idle": "2022-08-10T16:02:21.720196Z",
          "shell.execute_reply": "2022-08-10T16:02:21.719776Z"
        },
        "papermill": {
          "duration": 0.014169,
          "end_time": "2022-08-10T16:02:21.720291",
          "exception": false,
          "start_time": "2022-08-10T16:02:21.706122",
          "status": "completed"
        },
        "tags": [
          "hide-input"
        ]
      },
      "outputs": [],
      "source": [
        "\n",
        "def circuit_from_netlist(\n",
        "    netlist: Union[LogicalNetlist, Netlist],\n",
        "    *,\n",
        "    models: Optional[Models] = None,\n",
        "    modes: Optional[Tuple[str, ...]] = None,\n",
        "    settings: Optional[Settings] = None,\n",
        "    backend: str = \"default\",\n",
        "    default_models=None,\n",
        ") -> Model:\n",
        "    \"\"\"create a circuit model function from a netlist \"\"\"\n",
        "    instances = netlist[\"instances\"]\n",
        "    connections = netlist[\"connections\"]\n",
        "    ports = netlist[\"ports\"]\n",
        "    _circuit = circuit(\n",
        "        instances=instances,\n",
        "        connections=connections,\n",
        "        ports=ports,\n",
        "        models=models,\n",
        "        modes=modes,\n",
        "        settings=settings,\n",
        "        backend=backend,\n",
        "        default_models=default_models,\n",
        "    )\n",
        "    return _circuit"
      ]
    },
    {
      "cell_type": "markdown",
      "id": "34d7295c",
      "metadata": {
        "papermill": {
          "duration": 0.006744,
          "end_time": "2022-08-10T16:02:21.733742",
          "exception": false,
          "start_time": "2022-08-10T16:02:21.726998",
          "status": "completed"
        },
        "tags": []
      },
      "source": [
        "> Example"
      ]
    },
    {
      "cell_type": "code",
      "execution_count": 8,
      "id": "d29f070a",
      "metadata": {
        "execution": {
          "iopub.execute_input": "2022-08-10T16:02:21.763175Z",
          "iopub.status.busy": "2022-08-10T16:02:21.762533Z",
          "iopub.status.idle": "2022-08-10T16:02:21.763964Z",
          "shell.execute_reply": "2022-08-10T16:02:21.764302Z"
        },
        "papermill": {
          "duration": 0.023801,
          "end_time": "2022-08-10T16:02:21.764417",
          "exception": false,
          "start_time": "2022-08-10T16:02:21.740616",
          "status": "completed"
        },
        "tags": []
      },
      "outputs": [],
      "source": [
        "mzi = circuit_from_netlist(\n",
        "    netlist = {\n",
        "        \"instances\": {\n",
        "            \"lft\": \"coupler\",\n",
        "            \"top\": \"straight\",\n",
        "            \"btm\": \"straight\",\n",
        "            \"rgt\": \"coupler\",\n",
        "        },\n",
        "        \"connections\": {\n",
        "            \"lft,out0\": \"btm,in0\",\n",
        "            \"btm,out0\": \"rgt,in0\",\n",
        "            \"lft,out1\": \"top,in0\",\n",
        "            \"top,out0\": \"rgt,in1\",\n",
        "        },\n",
        "        \"ports\": {\n",
        "            \"in0\": \"lft,in0\",\n",
        "            \"in1\": \"lft,in1\",\n",
        "            \"out0\": \"rgt,out0\",\n",
        "            \"out1\": \"rgt,out1\",\n",
        "        },\n",
        "    },\n",
        "    models={\n",
        "        \"straight\": straight,\n",
        "        \"coupler\": coupler,\n",
        "    }\n",
        ")\n",
        "\n",
        "mzi?"
      ]
    },
    {
      "cell_type": "markdown",
      "id": "1cbc76e028be3722",
      "metadata": {},
      "source": [
        ":::{eval-rst}\n",
        ".. autofunction:: sax.circuit.circuit_from_yaml\n",
        ":::\n"
      ]
    },
    {
      "cell_type": "code",
      "execution_count": 9,
      "id": "86aeaf101eeccb58",
      "metadata": {
        "execution": {
          "iopub.execute_input": "2022-08-10T16:02:21.782966Z",
          "iopub.status.busy": "2022-08-10T16:02:21.782532Z",
          "iopub.status.idle": "2022-08-10T16:02:21.783792Z",
          "shell.execute_reply": "2022-08-10T16:02:21.784193Z"
        },
        "papermill": {
          "duration": 0.013086,
          "end_time": "2022-08-10T16:02:21.784297",
          "exception": false,
          "start_time": "2022-08-10T16:02:21.771211",
          "status": "completed"
        },
        "tags": [
          "hide-input"
        ]
      },
      "outputs": [],
      "source": [
        "def circuit_from_yaml(\n",
        "    yaml: str,\n",
        "    *,\n",
        "    models: Optional[Models] = None,\n",
        "    modes: Optional[Tuple[str, ...]] = None,\n",
        "    settings: Optional[Settings] = None,\n",
        "    backend: str = \"default\",\n",
        "    default_models=None,\n",
        ") -> Model:\n",
        "    \"\"\"Load a sax circuit from yaml definition\n",
        "\n",
        "    Args:\n",
        "        yaml: the yaml string to load\n",
        "        models: a dictionary which maps component names to model functions\n",
        "        modes: the modes of the simulation (if not given, single mode\n",
        "            operation is assumed).\n",
        "        settings: override netlist instance settings. Use this setting to set\n",
        "            global settings like for example the wavelength 'wl'.\n",
        "        backend: \"default\" or \"klu\". How the circuit S-parameters are\n",
        "            calculated.  \"klu\" is a CPU-only method which generally speaking is\n",
        "            much faster for large circuits but cannot be jitted or used for autograd.\n",
        "    \"\"\"\n",
        "    netlist, models = netlist_from_yaml(yaml=yaml, models=models, settings=settings)\n",
        "    circuit = circuit_from_netlist(\n",
        "        netlist=netlist,\n",
        "        models=models,\n",
        "        modes=modes,\n",
        "        settings=None,  # settings are already integrated in the netlist by now\n",
        "        backend=backend,\n",
        "        default_models=default_models,\n",
        "    )\n",
        "    return circuit"
      ]
    },
    {
      "cell_type": "markdown",
      "id": "a03efd33a713b929",
      "metadata": {},
      "source": [
        ":::{eval-rst}\n",
        ".. autofunction:: sax.circuit.circuit_from_gdsfactory\n",
        ":::\n"
      ]
    },
    {
      "cell_type": "code",
      "execution_count": 10,
      "id": "9379e43c8426f0e6",
      "metadata": {
        "execution": {
          "iopub.execute_input": "2022-08-10T16:02:21.802343Z",
          "iopub.status.busy": "2022-08-10T16:02:21.801916Z",
          "iopub.status.idle": "2022-08-10T16:02:21.803495Z",
          "shell.execute_reply": "2022-08-10T16:02:21.803141Z"
        },
        "papermill": {
          "duration": 0.012446,
          "end_time": "2022-08-10T16:02:21.803584",
          "exception": false,
          "start_time": "2022-08-10T16:02:21.791138",
          "status": "completed"
        },
        "tags": [
          "hide-input"
        ]
      },
      "outputs": [],
      "source": [
        "def circuit_from_gdsfactory(\n",
        "    component,\n",
        "    *,\n",
        "    models: Optional[Models] = None,\n",
        "    modes: Optional[Tuple[str, ...]] = None,\n",
        "    settings: Optional[Settings] = None,\n",
        "    backend: str = \"default\",\n",
        "    default_models=None,\n",
        ") -> Model:\n",
        "    \"\"\"Load a sax circuit from a GDSFactory component\"\"\"\n",
        "    circuit = circuit_from_netlist(\n",
        "        component.get_netlist_dict(),\n",
        "        models=models,\n",
        "        modes=modes,\n",
        "        settings=settings,\n",
        "        backend=backend,\n",
        "        default_models=default_models,\n",
        "    )\n",
        "    return circuit"
      ]
    }
  ],
  "metadata": {
    "kernelspec": {
      "display_name": "sax",
      "language": "python",
      "name": "sax"
    },
    "language_info": {
      "codemirror_mode": {
        "name": "ipython",
        "version": 3
      },
      "file_extension": ".py",
      "mimetype": "text/x-python",
      "name": "python",
      "nbconvert_exporter": "python",
      "pygments_lexer": "ipython3",
      "version": "3.9.0"
    },
    "papermill": {
      "default_parameters": {},
      "duration": 4.754065,
      "end_time": "2022-08-10T16:02:22.116828",
      "environment_variables": {},
      "exception": null,
      "input_path": "./nbs/08_circuit.ipynb",
      "output_path": "./nbs/08_circuit.ipynb",
      "parameters": {},
      "start_time": "2022-08-10T16:02:17.362763",
      "version": "2.3.4"
    }
  },
  "nbformat": 4,
  "nbformat_minor": 5
}
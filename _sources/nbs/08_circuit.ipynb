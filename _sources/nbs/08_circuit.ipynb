{
  "cells": [
    {
      "cell_type": "code",
      "execution_count": 1,
      "id": "6fd4bdd3839e1e70",
      "metadata": {
        "execution": {
          "iopub.execute_input": "2022-08-07T05:31:28.919371Z",
          "iopub.status.busy": "2022-08-07T05:31:28.918873Z",
          "iopub.status.idle": "2022-08-07T05:31:28.921645Z",
          "shell.execute_reply": "2022-08-07T05:31:28.921215Z"
        },
        "papermill": {
          "duration": 0.015667,
          "end_time": "2022-08-07T05:31:28.921772",
          "exception": false,
          "start_time": "2022-08-07T05:31:28.906105",
          "status": "completed"
        },
        "tags": [
          "remove-cell"
        ]
      },
      "outputs": [],
      "source": []
    },
    {
      "cell_type": "markdown",
      "id": "2c9c99fe",
      "metadata": {
        "papermill": {
          "duration": 0.006606,
          "end_time": "2022-08-07T05:31:28.935519",
          "exception": false,
          "start_time": "2022-08-07T05:31:28.928913",
          "status": "completed"
        },
        "tags": []
      },
      "source": [
        "# Circuit\n",
        "\n",
        "> SAX Circuits"
      ]
    },
    {
      "cell_type": "code",
      "execution_count": 2,
      "id": "e37bfe55038c3045",
      "metadata": {
        "execution": {
          "iopub.execute_input": "2022-08-07T05:31:28.957043Z",
          "iopub.status.busy": "2022-08-07T05:31:28.956595Z",
          "iopub.status.idle": "2022-08-07T05:31:29.020827Z",
          "shell.execute_reply": "2022-08-07T05:31:29.020336Z"
        },
        "papermill": {
          "duration": 0.079097,
          "end_time": "2022-08-07T05:31:29.020969",
          "exception": false,
          "start_time": "2022-08-07T05:31:28.941872",
          "status": "completed"
        },
        "tags": [
          "remove-cell"
        ]
      },
      "outputs": [],
      "source": [
        "from pytest import approx\n",
        "\n",
        "import os, sys; sys.stderr = open(os.devnull, \"w\")"
      ]
    },
    {
      "cell_type": "code",
      "execution_count": 3,
      "id": "8916b8926403b87b",
      "metadata": {
        "execution": {
          "iopub.execute_input": "2022-08-07T05:31:29.040545Z",
          "iopub.status.busy": "2022-08-07T05:31:29.040079Z",
          "iopub.status.idle": "2022-08-07T05:31:29.777214Z",
          "shell.execute_reply": "2022-08-07T05:31:29.776326Z"
        },
        "papermill": {
          "duration": 0.748833,
          "end_time": "2022-08-07T05:31:29.777355",
          "exception": false,
          "start_time": "2022-08-07T05:31:29.028522",
          "status": "completed"
        },
        "tags": [
          "hide-input"
        ]
      },
      "outputs": [],
      "source": [
        "from __future__ import annotations\n",
        "\n",
        "from functools import partial\n",
        "from typing import Dict, Optional, Tuple, Union, cast\n",
        "\n",
        "from sax.backends import circuit_backends\n",
        "from sax.models import coupler, straight\n",
        "from sax.multimode import multimode, singlemode\n",
        "from sax.netlist import LogicalNetlist, Netlist, logical_netlist, netlist_from_yaml\n",
        "from sax.typing_ import Instances, Model, Models, Netlist, Settings, SType, is_netlist\n",
        "from sax.utils import _replace_kwargs, get_settings, merge_dicts, update_settings\n",
        "\n",
        "try:\n",
        "    import jax.numpy as jnp\n",
        "    JAX_AVAILABLE = True\n",
        "except ImportError:\n",
        "    import numpy as jnp\n",
        "    JAX_AVAILABLE = False"
      ]
    },
    {
      "cell_type": "markdown",
      "id": "5dde5fb9860b3f7b",
      "metadata": {},
      "source": [
        ":::{eval-rst}\n",
        ".. autofunction:: sax.circuit.circuit\n",
        ":::\n"
      ]
    },
    {
      "cell_type": "code",
      "execution_count": 4,
      "id": "e48ab1d1aa7b6ead",
      "metadata": {
        "execution": {
          "iopub.execute_input": "2022-08-07T05:31:29.802871Z",
          "iopub.status.busy": "2022-08-07T05:31:29.793671Z",
          "iopub.status.idle": "2022-08-07T05:31:29.804610Z",
          "shell.execute_reply": "2022-08-07T05:31:29.804234Z"
        },
        "papermill": {
          "duration": 0.02033,
          "end_time": "2022-08-07T05:31:29.804720",
          "exception": false,
          "start_time": "2022-08-07T05:31:29.784390",
          "status": "completed"
        },
        "tags": [
          "hide-input"
        ]
      },
      "outputs": [],
      "source": [
        "\n",
        "def circuit(\n",
        "    *,\n",
        "    instances: Instances,\n",
        "    connections: Dict[str, str],\n",
        "    ports: Dict[str, str],\n",
        "    models: Optional[Models] = None,\n",
        "    modes: Optional[Tuple[str, ...]] = None,\n",
        "    settings: Optional[Settings] = None,\n",
        "    backend: str = \"default\",\n",
        "    default_models=None,\n",
        ") -> Model:\n",
        "    # assert valid circuit_backend\n",
        "    if backend not in circuit_backends:\n",
        "        raise KeyError(\n",
        "            f\"circuit backend {backend} not found. Allowed circuit backends: \"\n",
        "            f\"{', '.join(circuit_backends.keys())}.\"\n",
        "        )\n",
        "\n",
        "    evaluate_circuit = circuit_backends[backend]\n",
        "\n",
        "    _netlist, _settings, _models = logical_netlist(\n",
        "        instances=instances,\n",
        "        connections=connections,\n",
        "        ports=ports,\n",
        "        models=models,\n",
        "        settings=settings,\n",
        "        default_models=default_models,\n",
        "    )\n",
        "\n",
        "    for name in list(_models.keys()):\n",
        "        if is_netlist(_models[name]):\n",
        "            netlist_model = cast(LogicalNetlist, _models.pop(name))\n",
        "            instance_model_names = set(netlist_model[\"instances\"].values())\n",
        "            instance_models = {k: _models[k] for k in instance_model_names}\n",
        "            netlist_func = circuit_from_netlist(\n",
        "                netlist=netlist_model,\n",
        "                models=instance_models,\n",
        "                backend=backend,\n",
        "                modes=modes,\n",
        "                settings=None,  # settings are already integrated in netlist by now.\n",
        "                default_models=default_models,\n",
        "            )\n",
        "            _models[name] = netlist_func\n",
        "\n",
        "    if modes is not None:\n",
        "        maybe_multimode = partial(multimode, modes=modes)\n",
        "        connections = {\n",
        "            f\"{p1}@{mode}\": f\"{p2}@{mode}\"\n",
        "            for p1, p2 in _netlist[\"connections\"].items()\n",
        "            for mode in modes\n",
        "        }\n",
        "        ports = {\n",
        "            f\"{p1}@{mode}\": f\"{p2}@{mode}\"\n",
        "            for p1, p2 in _netlist[\"ports\"].items()\n",
        "            for mode in modes\n",
        "        }\n",
        "    else:\n",
        "        maybe_multimode = partial(singlemode, mode=\"te\")\n",
        "        connections = _netlist[\"connections\"]\n",
        "        ports = _netlist[\"ports\"]\n",
        "\n",
        "    def _circuit(**settings: Settings) -> SType:\n",
        "        settings = merge_dicts(_settings, settings)\n",
        "        global_settings = {}\n",
        "        for k in list(settings.keys()):\n",
        "            if k in _netlist[\"instances\"]:\n",
        "                continue\n",
        "            global_settings[k] = settings.pop(k)\n",
        "        if global_settings:\n",
        "            settings = cast(\n",
        "                Dict[str, Settings], update_settings(settings, **global_settings)\n",
        "            )\n",
        "        instances: Dict[str, SType] = {}\n",
        "        for name, model_name in _netlist[\"instances\"].items():\n",
        "            model = cast(Model, _models[model_name])\n",
        "            instances[name] = cast(\n",
        "                SType, maybe_multimode(model(**settings.get(name, {})))\n",
        "            )\n",
        "        S = evaluate_circuit(instances, connections, ports)\n",
        "        return S\n",
        "\n",
        "    settings = {\n",
        "        name: get_settings(cast(Model, _models[model]))\n",
        "        for name, model in _netlist[\"instances\"].items()\n",
        "    }\n",
        "    settings = merge_dicts(settings, _settings)\n",
        "    _replace_kwargs(_circuit, **settings)\n",
        "\n",
        "    return _circuit"
      ]
    },
    {
      "cell_type": "code",
      "execution_count": 5,
      "id": "9c6be0ea",
      "metadata": {
        "execution": {
          "iopub.execute_input": "2022-08-07T05:31:29.824309Z",
          "iopub.status.busy": "2022-08-07T05:31:29.823857Z",
          "iopub.status.idle": "2022-08-07T05:31:29.874487Z",
          "shell.execute_reply": "2022-08-07T05:31:29.873993Z"
        },
        "papermill": {
          "duration": 0.06315,
          "end_time": "2022-08-07T05:31:29.874616",
          "exception": false,
          "start_time": "2022-08-07T05:31:29.811466",
          "status": "completed"
        },
        "tags": []
      },
      "outputs": [],
      "source": [
        "mzi = circuit(\n",
        "    instances={\n",
        "        \"lft\": \"coupler\",\n",
        "        \"top\": \"straight\",\n",
        "        \"btm\": \"straight\",\n",
        "        \"rgt\": \"coupler\",\n",
        "    },\n",
        "    connections={\n",
        "        \"lft,out0\": \"btm,in0\",\n",
        "        \"btm,out0\": \"rgt,in0\",\n",
        "        \"lft,out1\": \"top,in0\",\n",
        "        \"top,out0\": \"rgt,in1\",\n",
        "    },\n",
        "    ports={\n",
        "        \"in0\": \"lft,in0\",\n",
        "        \"in1\": \"lft,in1\",\n",
        "        \"out0\": \"rgt,out0\",\n",
        "        \"out1\": \"rgt,out1\",\n",
        "    },\n",
        "    models={\n",
        "        \"straight\": straight,\n",
        "        \"coupler\": coupler,\n",
        "    }\n",
        ")\n",
        "\n",
        "mzi?"
      ]
    },
    {
      "cell_type": "code",
      "execution_count": 6,
      "id": "bca34a72",
      "metadata": {
        "execution": {
          "iopub.execute_input": "2022-08-07T05:31:29.897823Z",
          "iopub.status.busy": "2022-08-07T05:31:29.897015Z",
          "iopub.status.idle": "2022-08-07T05:31:32.247829Z",
          "shell.execute_reply": "2022-08-07T05:31:32.248231Z"
        },
        "papermill": {
          "duration": 2.365779,
          "end_time": "2022-08-07T05:31:32.248405",
          "exception": false,
          "start_time": "2022-08-07T05:31:29.882626",
          "status": "completed"
        },
        "tags": []
      },
      "outputs": [],
      "source": [
        "result = mzi(top={\"length\": 25.0}, btm={\"length\": 15.0})\n",
        "result = {k: approx(jnp.abs(v)) for k, v in result.items()}"
      ]
    },
    {
      "cell_type": "markdown",
      "id": "8357118a01a0faa5",
      "metadata": {},
      "source": [
        ":::{eval-rst}\n",
        ".. autofunction:: sax.circuit.circuit_from_netlist\n",
        ":::\n"
      ]
    },
    {
      "cell_type": "code",
      "execution_count": 7,
      "id": "8ec56fd4ac38dc8f",
      "metadata": {
        "execution": {
          "iopub.execute_input": "2022-08-07T05:31:32.268842Z",
          "iopub.status.busy": "2022-08-07T05:31:32.268351Z",
          "iopub.status.idle": "2022-08-07T05:31:32.269559Z",
          "shell.execute_reply": "2022-08-07T05:31:32.269868Z"
        },
        "papermill": {
          "duration": 0.014214,
          "end_time": "2022-08-07T05:31:32.269988",
          "exception": false,
          "start_time": "2022-08-07T05:31:32.255774",
          "status": "completed"
        },
        "tags": [
          "hide-input"
        ]
      },
      "outputs": [],
      "source": [
        "\n",
        "def circuit_from_netlist(\n",
        "    netlist: Union[LogicalNetlist, Netlist],\n",
        "    *,\n",
        "    models: Optional[Models] = None,\n",
        "    modes: Optional[Tuple[str, ...]] = None,\n",
        "    settings: Optional[Settings] = None,\n",
        "    backend: str = \"default\",\n",
        "    default_models=None,\n",
        ") -> Model:\n",
        "    \"\"\"create a circuit model function from a netlist \"\"\"\n",
        "    instances = netlist[\"instances\"]\n",
        "    connections = netlist[\"connections\"]\n",
        "    ports = netlist[\"ports\"]\n",
        "    _circuit = circuit(\n",
        "        instances=instances,\n",
        "        connections=connections,\n",
        "        ports=ports,\n",
        "        models=models,\n",
        "        modes=modes,\n",
        "        settings=settings,\n",
        "        backend=backend,\n",
        "        default_models=default_models,\n",
        "    )\n",
        "    return _circuit"
      ]
    },
    {
      "cell_type": "markdown",
      "id": "34d7295c",
      "metadata": {
        "papermill": {
          "duration": 0.006792,
          "end_time": "2022-08-07T05:31:32.283674",
          "exception": false,
          "start_time": "2022-08-07T05:31:32.276882",
          "status": "completed"
        },
        "tags": []
      },
      "source": [
        "> Example"
      ]
    },
    {
      "cell_type": "code",
      "execution_count": 8,
      "id": "d29f070a",
      "metadata": {
        "execution": {
          "iopub.execute_input": "2022-08-07T05:31:32.299532Z",
          "iopub.status.busy": "2022-08-07T05:31:32.299098Z",
          "iopub.status.idle": "2022-08-07T05:31:32.313396Z",
          "shell.execute_reply": "2022-08-07T05:31:32.313042Z"
        },
        "papermill": {
          "duration": 0.023021,
          "end_time": "2022-08-07T05:31:32.313497",
          "exception": false,
          "start_time": "2022-08-07T05:31:32.290476",
          "status": "completed"
        },
        "tags": []
      },
      "outputs": [],
      "source": [
        "mzi = circuit_from_netlist(\n",
        "    netlist = {\n",
        "        \"instances\": {\n",
        "            \"lft\": \"coupler\",\n",
        "            \"top\": \"straight\",\n",
        "            \"btm\": \"straight\",\n",
        "            \"rgt\": \"coupler\",\n",
        "        },\n",
        "        \"connections\": {\n",
        "            \"lft,out0\": \"btm,in0\",\n",
        "            \"btm,out0\": \"rgt,in0\",\n",
        "            \"lft,out1\": \"top,in0\",\n",
        "            \"top,out0\": \"rgt,in1\",\n",
        "        },\n",
        "        \"ports\": {\n",
        "            \"in0\": \"lft,in0\",\n",
        "            \"in1\": \"lft,in1\",\n",
        "            \"out0\": \"rgt,out0\",\n",
        "            \"out1\": \"rgt,out1\",\n",
        "        },\n",
        "    },\n",
        "    models={\n",
        "        \"straight\": straight,\n",
        "        \"coupler\": coupler,\n",
        "    }\n",
        ")\n",
        "\n",
        "mzi?"
      ]
    },
    {
      "cell_type": "markdown",
      "id": "6e6cce2f6420e4b7",
      "metadata": {},
      "source": [
        ":::{eval-rst}\n",
        ".. autofunction:: sax.circuit.circuit_from_yaml\n",
        ":::\n"
      ]
    },
    {
      "cell_type": "code",
      "execution_count": 9,
      "id": "ba4b99b8ff254a8f",
      "metadata": {
        "execution": {
          "iopub.execute_input": "2022-08-07T05:31:32.332617Z",
          "iopub.status.busy": "2022-08-07T05:31:32.332145Z",
          "iopub.status.idle": "2022-08-07T05:31:32.333915Z",
          "shell.execute_reply": "2022-08-07T05:31:32.334230Z"
        },
        "papermill": {
          "duration": 0.013814,
          "end_time": "2022-08-07T05:31:32.334343",
          "exception": false,
          "start_time": "2022-08-07T05:31:32.320529",
          "status": "completed"
        },
        "tags": [
          "hide-input"
        ]
      },
      "outputs": [],
      "source": [
        "def circuit_from_yaml(\n",
        "    yaml: str,\n",
        "    *,\n",
        "    models: Optional[Models] = None,\n",
        "    modes: Optional[Tuple[str, ...]] = None,\n",
        "    settings: Optional[Settings] = None,\n",
        "    backend: str = \"default\",\n",
        "    default_models=None,\n",
        ") -> Model:\n",
        "    \"\"\"Load a sax circuit from yaml definition\n",
        "\n",
        "    Args:\n",
        "        yaml: the yaml string to load\n",
        "        models: a dictionary which maps component names to model functions\n",
        "        modes: the modes of the simulation (if not given, single mode\n",
        "            operation is assumed).\n",
        "        settings: override netlist instance settings. Use this setting to set\n",
        "            global settings like for example the wavelength 'wl'.\n",
        "        backend: \"default\" or \"klu\". How the circuit S-parameters are\n",
        "            calculated.  \"klu\" is a CPU-only method which generally speaking is\n",
        "            much faster for large circuits but cannot be jitted or used for autograd.\n",
        "    \"\"\"\n",
        "    netlist, models = netlist_from_yaml(yaml=yaml, models=models, settings=settings)\n",
        "    circuit = circuit_from_netlist(\n",
        "        netlist=netlist,\n",
        "        models=models,\n",
        "        modes=modes,\n",
        "        settings=None,  # settings are already integrated in the netlist by now\n",
        "        backend=backend,\n",
        "        default_models=default_models,\n",
        "    )\n",
        "    return circuit"
      ]
    },
    {
      "cell_type": "markdown",
      "id": "a00dc2966f56f271",
      "metadata": {},
      "source": [
        ":::{eval-rst}\n",
        ".. autofunction:: sax.circuit.circuit_from_gdsfactory\n",
        ":::\n"
      ]
    },
    {
      "cell_type": "code",
      "execution_count": 10,
      "id": "54a4ef5aa1d59829",
      "metadata": {
        "execution": {
          "iopub.execute_input": "2022-08-07T05:31:32.350479Z",
          "iopub.status.busy": "2022-08-07T05:31:32.350058Z",
          "iopub.status.idle": "2022-08-07T05:31:32.354003Z",
          "shell.execute_reply": "2022-08-07T05:31:32.353667Z"
        },
        "papermill": {
          "duration": 0.012718,
          "end_time": "2022-08-07T05:31:32.354097",
          "exception": false,
          "start_time": "2022-08-07T05:31:32.341379",
          "status": "completed"
        },
        "tags": [
          "hide-input"
        ]
      },
      "outputs": [],
      "source": [
        "def circuit_from_gdsfactory(\n",
        "    component,\n",
        "    *,\n",
        "    models: Optional[Models] = None,\n",
        "    modes: Optional[Tuple[str, ...]] = None,\n",
        "    settings: Optional[Settings] = None,\n",
        "    backend: str = \"default\",\n",
        "    default_models=None,\n",
        ") -> Model:\n",
        "    \"\"\"Load a sax circuit from a GDSFactory component\"\"\"\n",
        "    circuit = circuit_from_netlist(\n",
        "        component.get_netlist_dict(),\n",
        "        models=models,\n",
        "        modes=modes,\n",
        "        settings=settings,\n",
        "        backend=backend,\n",
        "        default_models=default_models,\n",
        "    )\n",
        "    return circuit"
      ]
    }
  ],
  "metadata": {
    "kernelspec": {
      "display_name": "sax",
      "language": "python",
      "name": "sax"
    },
    "language_info": {
      "codemirror_mode": {
        "name": "ipython",
        "version": 3
      },
      "file_extension": ".py",
      "mimetype": "text/x-python",
      "name": "python",
      "nbconvert_exporter": "python",
      "pygments_lexer": "ipython3",
      "version": "3.9.0"
    },
    "papermill": {
      "default_parameters": {},
      "duration": 4.901311,
      "end_time": "2022-08-07T05:31:32.667059",
      "environment_variables": {},
      "exception": null,
      "input_path": "./nbs/08_circuit.ipynb",
      "output_path": "./nbs/08_circuit.ipynb",
      "parameters": {},
      "start_time": "2022-08-07T05:31:27.765748",
      "version": "2.3.4"
    }
  },
  "nbformat": 4,
  "nbformat_minor": 5
}
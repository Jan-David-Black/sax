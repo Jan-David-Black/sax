{
  "cells": [
    {
      "cell_type": "code",
      "execution_count": 1,
      "id": "d2efdd1d38e3f8ac",
      "metadata": {
        "execution": {
          "iopub.execute_input": "2022-08-04T05:48:22.695901Z",
          "iopub.status.busy": "2022-08-04T05:48:22.695382Z",
          "iopub.status.idle": "2022-08-04T05:48:22.698674Z",
          "shell.execute_reply": "2022-08-04T05:48:22.698165Z"
        },
        "papermill": {
          "duration": 0.016402,
          "end_time": "2022-08-04T05:48:22.698809",
          "exception": false,
          "start_time": "2022-08-04T05:48:22.682407",
          "status": "completed"
        },
        "tags": [
          "remove-cell"
        ]
      },
      "outputs": [],
      "source": []
    },
    {
      "cell_type": "markdown",
      "id": "a0489f95",
      "metadata": {
        "papermill": {
          "duration": 0.007198,
          "end_time": "2022-08-04T05:48:22.713789",
          "exception": false,
          "start_time": "2022-08-04T05:48:22.706591",
          "status": "completed"
        },
        "tags": []
      },
      "source": [
        "# NN - IO\n",
        "\n",
        "> IO Utilitites for SAX neural networks"
      ]
    },
    {
      "cell_type": "code",
      "execution_count": 2,
      "id": "511077f28e0e0014",
      "metadata": {
        "execution": {
          "iopub.execute_input": "2022-08-04T05:48:22.738395Z",
          "iopub.status.busy": "2022-08-04T05:48:22.737873Z",
          "iopub.status.idle": "2022-08-04T05:48:23.554148Z",
          "shell.execute_reply": "2022-08-04T05:48:23.553243Z"
        },
        "papermill": {
          "duration": 0.833426,
          "end_time": "2022-08-04T05:48:23.554297",
          "exception": false,
          "start_time": "2022-08-04T05:48:22.720871",
          "status": "completed"
        },
        "tags": [
          "remove-cell"
        ]
      },
      "outputs": [],
      "source": [
        "import matplotlib.pyplot as plt\n",
        "from fastcore.test import test_eq\n",
        "from pytest import approx, raises\n",
        "\n",
        "import os, sys; sys.stderr = open(os.devnull, \"w\")"
      ]
    },
    {
      "cell_type": "code",
      "execution_count": 3,
      "id": "7bff03b2fd376a71",
      "metadata": {
        "execution": {
          "iopub.execute_input": "2022-08-04T05:48:23.574580Z",
          "iopub.status.busy": "2022-08-04T05:48:23.573902Z",
          "iopub.status.idle": "2022-08-04T05:48:24.813944Z",
          "shell.execute_reply": "2022-08-04T05:48:24.813060Z"
        },
        "papermill": {
          "duration": 1.252086,
          "end_time": "2022-08-04T05:48:24.814083",
          "exception": false,
          "start_time": "2022-08-04T05:48:23.561997",
          "status": "completed"
        },
        "tags": [
          "hide-input"
        ]
      },
      "outputs": [],
      "source": [
        "from __future__ import annotations\n",
        "\n",
        "import json\n",
        "import os\n",
        "import re\n",
        "from typing import Callable, Dict, List, Optional, Tuple\n",
        "\n",
        "import jax.numpy as jnp\n",
        "from sax.nn.core import dense, preprocess\n",
        "from sax.nn.utils import norm\n",
        "from sax.typing_ import ComplexFloat"
      ]
    },
    {
      "cell_type": "markdown",
      "id": "39dc6604b0ade720",
      "metadata": {},
      "source": [
        ":::{eval-rst}\n",
        ".. autofunction:: sax.nn.io.load_nn_weights_json\n",
        ":::\n"
      ]
    },
    {
      "cell_type": "code",
      "execution_count": 4,
      "id": "f34ba4e622c7c7b0",
      "metadata": {
        "execution": {
          "iopub.execute_input": "2022-08-04T05:48:24.836299Z",
          "iopub.status.busy": "2022-08-04T05:48:24.835058Z",
          "iopub.status.idle": "2022-08-04T05:48:24.836899Z",
          "shell.execute_reply": "2022-08-04T05:48:24.837303Z"
        },
        "papermill": {
          "duration": 0.015739,
          "end_time": "2022-08-04T05:48:24.837442",
          "exception": false,
          "start_time": "2022-08-04T05:48:24.821703",
          "status": "completed"
        },
        "tags": [
          "hide-input"
        ]
      },
      "outputs": [],
      "source": [
        "\n",
        "def load_nn_weights_json(path: str) -> Dict[str, ComplexFloat]:\n",
        "    \"\"\"Load json weights from given path\"\"\"\n",
        "    path = os.path.abspath(os.path.expanduser(path))\n",
        "    weights = {}\n",
        "    if os.path.exists(path):\n",
        "        with open(path, \"r\") as file:\n",
        "            for k, v in json.load(file).items():\n",
        "                _v = jnp.array(v, dtype=float)\n",
        "                assert isinstance(_v, jnp.ndarray)\n",
        "                weights[k] = _v\n",
        "    return weights"
      ]
    },
    {
      "cell_type": "markdown",
      "id": "bb20b84e70081c26",
      "metadata": {},
      "source": [
        ":::{eval-rst}\n",
        ".. autofunction:: sax.nn.io.save_nn_weights_json\n",
        ":::\n"
      ]
    },
    {
      "cell_type": "code",
      "execution_count": 5,
      "id": "d2bd14125c6b32b9",
      "metadata": {
        "execution": {
          "iopub.execute_input": "2022-08-04T05:48:24.858154Z",
          "iopub.status.busy": "2022-08-04T05:48:24.857637Z",
          "iopub.status.idle": "2022-08-04T05:48:24.858747Z",
          "shell.execute_reply": "2022-08-04T05:48:24.859217Z"
        },
        "papermill": {
          "duration": 0.014281,
          "end_time": "2022-08-04T05:48:24.859349",
          "exception": false,
          "start_time": "2022-08-04T05:48:24.845068",
          "status": "completed"
        },
        "tags": [
          "hide-input"
        ]
      },
      "outputs": [],
      "source": [
        "def save_nn_weights_json(weights: Dict[str, ComplexFloat], path: str):\n",
        "    \"\"\"Save json weights to given path\"\"\"\n",
        "    path = os.path.abspath(os.path.expanduser(path))\n",
        "    os.makedirs(os.path.dirname(path), exist_ok=True)\n",
        "    with open(path, \"w\") as file:\n",
        "        _weights = {}\n",
        "        for k, v in weights.items():\n",
        "            v = jnp.atleast_1d(jnp.array(v))\n",
        "            assert isinstance(v, jnp.ndarray)\n",
        "            _weights[k] = v.tolist()\n",
        "        json.dump(_weights, file)"
      ]
    },
    {
      "cell_type": "markdown",
      "id": "1568fdddd033d359",
      "metadata": {},
      "source": [
        ":::{eval-rst}\n",
        ".. autofunction:: sax.nn.io.get_available_sizes\n",
        ":::\n"
      ]
    },
    {
      "cell_type": "code",
      "execution_count": 6,
      "id": "dc28a9ae2f228560",
      "metadata": {
        "execution": {
          "iopub.execute_input": "2022-08-04T05:48:24.882668Z",
          "iopub.status.busy": "2022-08-04T05:48:24.881958Z",
          "iopub.status.idle": "2022-08-04T05:48:24.883308Z",
          "shell.execute_reply": "2022-08-04T05:48:24.883781Z"
        },
        "papermill": {
          "duration": 0.01721,
          "end_time": "2022-08-04T05:48:24.883919",
          "exception": false,
          "start_time": "2022-08-04T05:48:24.866709",
          "status": "completed"
        },
        "tags": [
          "hide-input"
        ]
      },
      "outputs": [],
      "source": [
        "def get_available_sizes(\n",
        "    dirpath: str,\n",
        "    prefix: str,\n",
        "    input_names: Tuple[str, ...],\n",
        "    output_names: Tuple[str, ...],\n",
        ") -> List[Tuple[int, ...]]:\n",
        "    \"\"\"Get all available json weight hidden sizes given filename parameters\n",
        "\n",
        "    > Note: this function does NOT return the input size and the output size \n",
        "      of the neural network. ONLY the hidden sizes are reported. The input \n",
        "      and output sizes can easily be derived from `input_names` (after \n",
        "      preprocessing) and `output_names`.\n",
        "    \"\"\"\n",
        "    all_weightfiles = os.listdir(dirpath)\n",
        "    possible_weightfiles = (\n",
        "        s for s in all_weightfiles if s.endswith(f\"-{'-'.join(output_names)}.json\")\n",
        "    )\n",
        "    possible_weightfiles = (\n",
        "        s\n",
        "        for s in possible_weightfiles\n",
        "        if s.startswith(f\"{prefix}-{'-'.join(input_names)}\")\n",
        "    )\n",
        "    possible_weightfiles = (re.sub(\"[^0-9x]\", \"\", s) for s in possible_weightfiles)\n",
        "    possible_weightfiles = (re.sub(\"^x*\", \"\", s) for s in possible_weightfiles)\n",
        "    possible_weightfiles = (re.sub(\"x[^0-9]*$\", \"\", s) for s in possible_weightfiles)\n",
        "    possible_hidden_sizes = (s.strip() for s in possible_weightfiles if s.strip())\n",
        "    possible_hidden_sizes = (\n",
        "        tuple(hs.strip() for hs in s.split(\"x\") if hs.strip())\n",
        "        for s in possible_hidden_sizes\n",
        "    )\n",
        "    possible_hidden_sizes = (\n",
        "        tuple(int(hs) for hs in s[1:-1]) for s in possible_hidden_sizes if len(s) > 2\n",
        "    )\n",
        "    possible_hidden_sizes = sorted(\n",
        "        possible_hidden_sizes, key=lambda hs: (len(hs), max(hs))\n",
        "    )\n",
        "    return possible_hidden_sizes"
      ]
    },
    {
      "cell_type": "markdown",
      "id": "6746437e54a2bee2",
      "metadata": {},
      "source": [
        ":::{eval-rst}\n",
        ".. autofunction:: sax.nn.io.get_dense_weights_path\n",
        ":::\n"
      ]
    },
    {
      "cell_type": "code",
      "execution_count": 7,
      "id": "b52f4b1052e4f907",
      "metadata": {
        "execution": {
          "iopub.execute_input": "2022-08-04T05:48:24.903514Z",
          "iopub.status.busy": "2022-08-04T05:48:24.902965Z",
          "iopub.status.idle": "2022-08-04T05:48:24.908781Z",
          "shell.execute_reply": "2022-08-04T05:48:24.908374Z"
        },
        "papermill": {
          "duration": 0.016693,
          "end_time": "2022-08-04T05:48:24.908898",
          "exception": false,
          "start_time": "2022-08-04T05:48:24.892205",
          "status": "completed"
        },
        "tags": [
          "hide-input"
        ]
      },
      "outputs": [],
      "source": [
        "\n",
        "def get_dense_weights_path(\n",
        "    *sizes: int,\n",
        "    input_names: Optional[Tuple[str, ...]] = None,\n",
        "    output_names: Optional[Tuple[str, ...]] = None,\n",
        "    dirpath: str = \"weights\",\n",
        "    prefix: str = \"dense\",\n",
        "    preprocess=preprocess,\n",
        "):\n",
        "    \"\"\"Create the SAX conventional path for a given weight dictionary\"\"\"\n",
        "    if input_names:\n",
        "        num_inputs = preprocess(*jnp.ones(len(input_names))).shape[0]\n",
        "        sizes = (num_inputs,) + sizes\n",
        "    if output_names:\n",
        "        sizes = sizes + (len(output_names),)\n",
        "    path = os.path.abspath(os.path.join(dirpath, prefix))\n",
        "    if input_names:\n",
        "        path = f\"{path}-{'-'.join(input_names)}\"\n",
        "    if sizes:\n",
        "        path = f\"{path}-{'x'.join(str(s) for s in sizes)}\"\n",
        "    if output_names:\n",
        "        path = f\"{path}-{'-'.join(output_names)}\"\n",
        "    return f\"{path}.json\""
      ]
    },
    {
      "cell_type": "markdown",
      "id": "8f8f52572c5ba9d5",
      "metadata": {},
      "source": [
        ":::{eval-rst}\n",
        ".. autofunction:: sax.nn.io.get_norm_path\n",
        ":::\n"
      ]
    },
    {
      "cell_type": "code",
      "execution_count": 8,
      "id": "9865bd584efc28dd",
      "metadata": {
        "execution": {
          "iopub.execute_input": "2022-08-04T05:48:24.931523Z",
          "iopub.status.busy": "2022-08-04T05:48:24.931004Z",
          "iopub.status.idle": "2022-08-04T05:48:24.932114Z",
          "shell.execute_reply": "2022-08-04T05:48:24.932578Z"
        },
        "papermill": {
          "duration": 0.016171,
          "end_time": "2022-08-04T05:48:24.932714",
          "exception": false,
          "start_time": "2022-08-04T05:48:24.916543",
          "status": "completed"
        },
        "tags": [
          "hide-input"
        ]
      },
      "outputs": [],
      "source": [
        "\n",
        "def get_norm_path(\n",
        "    *shape: int,\n",
        "    input_names: Optional[Tuple[str, ...]] = None,\n",
        "    output_names: Optional[Tuple[str, ...]] = None,\n",
        "    dirpath: str = \"norms\",\n",
        "    prefix: str = \"norm\",\n",
        "    preprocess=preprocess,\n",
        "):\n",
        "    \"\"\"Create the SAX conventional path for the normalization constants\"\"\"\n",
        "    if input_names and output_names:\n",
        "        raise ValueError(\n",
        "            \"To get the norm name, one can only specify `input_names` OR `output_names`.\"\n",
        "        )\n",
        "    if input_names:\n",
        "        num_inputs = preprocess(*jnp.ones(len(input_names))).shape[0]\n",
        "        shape = (num_inputs,) + shape\n",
        "    if output_names:\n",
        "        shape = shape + (len(output_names),)\n",
        "    path = os.path.abspath(os.path.join(dirpath, prefix))\n",
        "    if input_names:\n",
        "        path = f\"{path}-{'-'.join(input_names)}\"\n",
        "    if shape:\n",
        "        path = f\"{path}-{'x'.join(str(s) for s in shape)}\"\n",
        "    if output_names:\n",
        "        path = f\"{path}-{'-'.join(output_names)}\"\n",
        "    return f\"{path}.json\""
      ]
    },
    {
      "cell_type": "code",
      "execution_count": 9,
      "id": "9839b9f41ed58c02",
      "metadata": {
        "execution": {
          "iopub.execute_input": "2022-08-04T05:48:24.954031Z",
          "iopub.status.busy": "2022-08-04T05:48:24.953531Z",
          "iopub.status.idle": "2022-08-04T05:48:24.954804Z",
          "shell.execute_reply": "2022-08-04T05:48:24.955223Z"
        },
        "papermill": {
          "duration": 0.014696,
          "end_time": "2022-08-04T05:48:24.955350",
          "exception": false,
          "start_time": "2022-08-04T05:48:24.940654",
          "status": "completed"
        },
        "tags": [
          "remove-cell"
        ]
      },
      "outputs": [],
      "source": [
        "class _PartialDense:\n",
        "    def __init__(self, weights, x_norm, y_norm, input_names, output_names):\n",
        "        self.weights = weights\n",
        "        self.x_norm = x_norm\n",
        "        self.y_norm = y_norm\n",
        "        self.input_names = input_names\n",
        "        self.output_names = output_names\n",
        "\n",
        "    def __call__(self, *params: ComplexFloat) -> ComplexFloat:\n",
        "        return dense(self.weights, *params, x_norm=self.x_norm, y_norm=self.y_norm)\n",
        "\n",
        "    def __repr__(self):\n",
        "        return f\"{self.__class__.__name__}{repr(self.input_names)}->{repr(self.output_names)}\""
      ]
    },
    {
      "cell_type": "markdown",
      "id": "d50951bc05ddcea5",
      "metadata": {},
      "source": [
        ":::{eval-rst}\n",
        ".. autofunction:: sax.nn.io.load_nn_dense\n",
        ":::\n"
      ]
    },
    {
      "cell_type": "code",
      "execution_count": 10,
      "id": "f5f9da4eb652d401",
      "metadata": {
        "execution": {
          "iopub.execute_input": "2022-08-04T05:48:24.979344Z",
          "iopub.status.busy": "2022-08-04T05:48:24.978829Z",
          "iopub.status.idle": "2022-08-04T05:48:24.980718Z",
          "shell.execute_reply": "2022-08-04T05:48:24.980299Z"
        },
        "papermill": {
          "duration": 0.017747,
          "end_time": "2022-08-04T05:48:24.980822",
          "exception": false,
          "start_time": "2022-08-04T05:48:24.963075",
          "status": "completed"
        },
        "tags": [
          "hide-input"
        ]
      },
      "outputs": [],
      "source": [
        "def load_nn_dense(\n",
        "    *sizes: int,\n",
        "    input_names: Optional[Tuple[str, ...]] = None,\n",
        "    output_names: Optional[Tuple[str, ...]] = None,\n",
        "    weightprefix=\"dense\",\n",
        "    weightdirpath=\"weights\",\n",
        "    normdirpath=\"norms\",\n",
        "    normprefix=\"norm\",\n",
        "    preprocess=preprocess,\n",
        ") -> Callable:\n",
        "    \"\"\"Load a pre-trained dense model\"\"\"\n",
        "    weights_path = get_dense_weights_path(\n",
        "        *sizes,\n",
        "        input_names=input_names,\n",
        "        output_names=output_names,\n",
        "        prefix=weightprefix,\n",
        "        dirpath=weightdirpath,\n",
        "        preprocess=preprocess,\n",
        "    )\n",
        "    if not os.path.exists(weights_path):\n",
        "        raise ValueError(\"Cannot find weights path for given parameters\")\n",
        "    x_norm_path = get_norm_path(\n",
        "        input_names=input_names,\n",
        "        prefix=normprefix,\n",
        "        dirpath=normdirpath,\n",
        "        preprocess=preprocess,\n",
        "    )\n",
        "    if not os.path.exists(x_norm_path):\n",
        "        raise ValueError(\"Cannot find normalization for input parameters\")\n",
        "    y_norm_path = get_norm_path(\n",
        "        output_names=output_names,\n",
        "        prefix=normprefix,\n",
        "        dirpath=normdirpath,\n",
        "        preprocess=preprocess,\n",
        "    )\n",
        "    if not os.path.exists(x_norm_path):\n",
        "        raise ValueError(\"Cannot find normalization for output parameters\")\n",
        "    weights = load_nn_weights_json(weights_path)\n",
        "    x_norm_dict = load_nn_weights_json(x_norm_path)\n",
        "    y_norm_dict = load_nn_weights_json(y_norm_path)\n",
        "    x_norm = norm(x_norm_dict[\"mean\"], x_norm_dict[\"std\"])\n",
        "    y_norm = norm(y_norm_dict[\"mean\"], y_norm_dict[\"std\"])\n",
        "    partial_dense = _PartialDense(weights, x_norm, y_norm, input_names, output_names)\n",
        "    return partial_dense"
      ]
    }
  ],
  "metadata": {
    "kernelspec": {
      "display_name": "sax",
      "language": "python",
      "name": "sax"
    },
    "language_info": {
      "codemirror_mode": {
        "name": "ipython",
        "version": 3
      },
      "file_extension": ".py",
      "mimetype": "text/x-python",
      "name": "python",
      "nbconvert_exporter": "python",
      "pygments_lexer": "ipython3",
      "version": "3.9.0"
    },
    "papermill": {
      "default_parameters": {},
      "duration": 4.331016,
      "end_time": "2022-08-04T05:48:25.495606",
      "environment_variables": {},
      "exception": null,
      "input_path": "./nbs/09d_nn_io.ipynb",
      "output_path": "./nbs/09d_nn_io.ipynb",
      "parameters": {},
      "start_time": "2022-08-04T05:48:21.164590",
      "version": "2.3.4"
    }
  },
  "nbformat": 4,
  "nbformat_minor": 5
}
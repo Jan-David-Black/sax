{
  "cells": [
    {
      "cell_type": "code",
      "execution_count": 1,
      "id": "921c6750e74b4587",
      "metadata": {
        "execution": {
          "iopub.execute_input": "2022-08-04T04:32:28.792704Z",
          "iopub.status.busy": "2022-08-04T04:32:28.792260Z",
          "iopub.status.idle": "2022-08-04T04:32:28.795455Z",
          "shell.execute_reply": "2022-08-04T04:32:28.795008Z"
        },
        "papermill": {
          "duration": 0.014893,
          "end_time": "2022-08-04T04:32:28.795572",
          "exception": false,
          "start_time": "2022-08-04T04:32:28.780679",
          "status": "completed"
        },
        "tags": [
          "remove-cell"
        ]
      },
      "outputs": [],
      "source": []
    },
    {
      "cell_type": "markdown",
      "id": "a0489f95",
      "metadata": {
        "papermill": {
          "duration": 0.005962,
          "end_time": "2022-08-04T04:32:28.808126",
          "exception": false,
          "start_time": "2022-08-04T04:32:28.802164",
          "status": "completed"
        },
        "tags": []
      },
      "source": [
        "# NN - IO\n",
        "\n",
        "> IO Utilitites for SAX neural networks"
      ]
    },
    {
      "cell_type": "code",
      "execution_count": 2,
      "id": "1625e0c514259174",
      "metadata": {
        "execution": {
          "iopub.execute_input": "2022-08-04T04:32:28.828039Z",
          "iopub.status.busy": "2022-08-04T04:32:28.827618Z",
          "iopub.status.idle": "2022-08-04T04:32:29.519877Z",
          "shell.execute_reply": "2022-08-04T04:32:29.520285Z"
        },
        "papermill": {
          "duration": 0.706405,
          "end_time": "2022-08-04T04:32:29.520458",
          "exception": false,
          "start_time": "2022-08-04T04:32:28.814053",
          "status": "completed"
        },
        "tags": [
          "remove-cell"
        ]
      },
      "outputs": [],
      "source": [
        "import matplotlib.pyplot as plt\n",
        "from fastcore.test import test_eq\n",
        "from pytest import approx, raises\n",
        "\n",
        "import os, sys; sys.stderr = open(os.devnull, \"w\")"
      ]
    },
    {
      "cell_type": "code",
      "execution_count": 3,
      "id": "3c530f8705f5bac7",
      "metadata": {
        "execution": {
          "iopub.execute_input": "2022-08-04T04:32:29.538224Z",
          "iopub.status.busy": "2022-08-04T04:32:29.536367Z",
          "iopub.status.idle": "2022-08-04T04:32:30.640180Z",
          "shell.execute_reply": "2022-08-04T04:32:30.639329Z"
        },
        "papermill": {
          "duration": 1.112586,
          "end_time": "2022-08-04T04:32:30.640316",
          "exception": false,
          "start_time": "2022-08-04T04:32:29.527730",
          "status": "completed"
        },
        "tags": [
          "hide-input"
        ]
      },
      "outputs": [],
      "source": [
        "from __future__ import annotations\n",
        "\n",
        "import json\n",
        "import os\n",
        "import re\n",
        "from typing import Callable, Dict, List, Optional, Tuple\n",
        "\n",
        "import jax.numpy as jnp\n",
        "from sax.nn.core import dense, preprocess\n",
        "from sax.nn.utils import norm\n",
        "from sax.typing_ import ComplexFloat"
      ]
    },
    {
      "cell_type": "markdown",
      "id": "b538638ba946dda8",
      "metadata": {},
      "source": [
        ":::{eval-rst}\n",
        ".. autofunction:: sax.nn.io.load_nn_weights_json\n",
        ":::\n"
      ]
    },
    {
      "cell_type": "code",
      "execution_count": 4,
      "id": "ebfd92a609d06a77",
      "metadata": {
        "execution": {
          "iopub.execute_input": "2022-08-04T04:32:30.659775Z",
          "iopub.status.busy": "2022-08-04T04:32:30.658801Z",
          "iopub.status.idle": "2022-08-04T04:32:30.660283Z",
          "shell.execute_reply": "2022-08-04T04:32:30.660613Z"
        },
        "papermill": {
          "duration": 0.01387,
          "end_time": "2022-08-04T04:32:30.660742",
          "exception": false,
          "start_time": "2022-08-04T04:32:30.646872",
          "status": "completed"
        },
        "tags": [
          "hide-input"
        ]
      },
      "outputs": [],
      "source": [
        "\n",
        "def load_nn_weights_json(path: str) -> Dict[str, ComplexFloat]:\n",
        "    \"\"\"Load json weights from given path\"\"\"\n",
        "    path = os.path.abspath(os.path.expanduser(path))\n",
        "    weights = {}\n",
        "    if os.path.exists(path):\n",
        "        with open(path, \"r\") as file:\n",
        "            for k, v in json.load(file).items():\n",
        "                _v = jnp.array(v, dtype=float)\n",
        "                assert isinstance(_v, jnp.ndarray)\n",
        "                weights[k] = _v\n",
        "    return weights"
      ]
    },
    {
      "cell_type": "markdown",
      "id": "91e9c93237f67433",
      "metadata": {},
      "source": [
        ":::{eval-rst}\n",
        ".. autofunction:: sax.nn.io.save_nn_weights_json\n",
        ":::\n"
      ]
    },
    {
      "cell_type": "code",
      "execution_count": 5,
      "id": "1be3a7ace278a6c3",
      "metadata": {
        "execution": {
          "iopub.execute_input": "2022-08-04T04:32:30.678312Z",
          "iopub.status.busy": "2022-08-04T04:32:30.675513Z",
          "iopub.status.idle": "2022-08-04T04:32:30.680106Z",
          "shell.execute_reply": "2022-08-04T04:32:30.679689Z"
        },
        "papermill": {
          "duration": 0.013099,
          "end_time": "2022-08-04T04:32:30.680216",
          "exception": false,
          "start_time": "2022-08-04T04:32:30.667117",
          "status": "completed"
        },
        "tags": [
          "hide-input"
        ]
      },
      "outputs": [],
      "source": [
        "def save_nn_weights_json(weights: Dict[str, ComplexFloat], path: str):\n",
        "    \"\"\"Save json weights to given path\"\"\"\n",
        "    path = os.path.abspath(os.path.expanduser(path))\n",
        "    os.makedirs(os.path.dirname(path), exist_ok=True)\n",
        "    with open(path, \"w\") as file:\n",
        "        _weights = {}\n",
        "        for k, v in weights.items():\n",
        "            v = jnp.atleast_1d(jnp.array(v))\n",
        "            assert isinstance(v, jnp.ndarray)\n",
        "            _weights[k] = v.tolist()\n",
        "        json.dump(_weights, file)"
      ]
    },
    {
      "cell_type": "markdown",
      "id": "6cbe524e2affa126",
      "metadata": {},
      "source": [
        ":::{eval-rst}\n",
        ".. autofunction:: sax.nn.io.get_available_sizes\n",
        ":::\n"
      ]
    },
    {
      "cell_type": "code",
      "execution_count": 6,
      "id": "2ae0854f8241c0db",
      "metadata": {
        "execution": {
          "iopub.execute_input": "2022-08-04T04:32:30.700084Z",
          "iopub.status.busy": "2022-08-04T04:32:30.699642Z",
          "iopub.status.idle": "2022-08-04T04:32:30.700870Z",
          "shell.execute_reply": "2022-08-04T04:32:30.701260Z"
        },
        "papermill": {
          "duration": 0.014784,
          "end_time": "2022-08-04T04:32:30.701406",
          "exception": false,
          "start_time": "2022-08-04T04:32:30.686622",
          "status": "completed"
        },
        "tags": [
          "hide-input"
        ]
      },
      "outputs": [],
      "source": [
        "def get_available_sizes(\n",
        "    dirpath: str,\n",
        "    prefix: str,\n",
        "    input_names: Tuple[str, ...],\n",
        "    output_names: Tuple[str, ...],\n",
        ") -> List[Tuple[int, ...]]:\n",
        "    \"\"\"Get all available json weight hidden sizes given filename parameters\n",
        "\n",
        "    > Note: this function does NOT return the input size and the output size \n",
        "      of the neural network. ONLY the hidden sizes are reported. The input \n",
        "      and output sizes can easily be derived from `input_names` (after \n",
        "      preprocessing) and `output_names`.\n",
        "    \"\"\"\n",
        "    all_weightfiles = os.listdir(dirpath)\n",
        "    possible_weightfiles = (\n",
        "        s for s in all_weightfiles if s.endswith(f\"-{'-'.join(output_names)}.json\")\n",
        "    )\n",
        "    possible_weightfiles = (\n",
        "        s\n",
        "        for s in possible_weightfiles\n",
        "        if s.startswith(f\"{prefix}-{'-'.join(input_names)}\")\n",
        "    )\n",
        "    possible_weightfiles = (re.sub(\"[^0-9x]\", \"\", s) for s in possible_weightfiles)\n",
        "    possible_weightfiles = (re.sub(\"^x*\", \"\", s) for s in possible_weightfiles)\n",
        "    possible_weightfiles = (re.sub(\"x[^0-9]*$\", \"\", s) for s in possible_weightfiles)\n",
        "    possible_hidden_sizes = (s.strip() for s in possible_weightfiles if s.strip())\n",
        "    possible_hidden_sizes = (\n",
        "        tuple(hs.strip() for hs in s.split(\"x\") if hs.strip())\n",
        "        for s in possible_hidden_sizes\n",
        "    )\n",
        "    possible_hidden_sizes = (\n",
        "        tuple(int(hs) for hs in s[1:-1]) for s in possible_hidden_sizes if len(s) > 2\n",
        "    )\n",
        "    possible_hidden_sizes = sorted(\n",
        "        possible_hidden_sizes, key=lambda hs: (len(hs), max(hs))\n",
        "    )\n",
        "    return possible_hidden_sizes"
      ]
    },
    {
      "cell_type": "markdown",
      "id": "0f639d0b18944f2e",
      "metadata": {},
      "source": [
        ":::{eval-rst}\n",
        ".. autofunction:: sax.nn.io.get_dense_weights_path\n",
        ":::\n"
      ]
    },
    {
      "cell_type": "code",
      "execution_count": 7,
      "id": "099c51f916cb8ed2",
      "metadata": {
        "execution": {
          "iopub.execute_input": "2022-08-04T04:32:30.720149Z",
          "iopub.status.busy": "2022-08-04T04:32:30.719710Z",
          "iopub.status.idle": "2022-08-04T04:32:30.720849Z",
          "shell.execute_reply": "2022-08-04T04:32:30.721183Z"
        },
        "papermill": {
          "duration": 0.013547,
          "end_time": "2022-08-04T04:32:30.721326",
          "exception": false,
          "start_time": "2022-08-04T04:32:30.707779",
          "status": "completed"
        },
        "tags": [
          "hide-input"
        ]
      },
      "outputs": [],
      "source": [
        "\n",
        "def get_dense_weights_path(\n",
        "    *sizes: int,\n",
        "    input_names: Optional[Tuple[str, ...]] = None,\n",
        "    output_names: Optional[Tuple[str, ...]] = None,\n",
        "    dirpath: str = \"weights\",\n",
        "    prefix: str = \"dense\",\n",
        "    preprocess=preprocess,\n",
        "):\n",
        "    \"\"\"Create the SAX conventional path for a given weight dictionary\"\"\"\n",
        "    if input_names:\n",
        "        num_inputs = preprocess(*jnp.ones(len(input_names))).shape[0]\n",
        "        sizes = (num_inputs,) + sizes\n",
        "    if output_names:\n",
        "        sizes = sizes + (len(output_names),)\n",
        "    path = os.path.abspath(os.path.join(dirpath, prefix))\n",
        "    if input_names:\n",
        "        path = f\"{path}-{'-'.join(input_names)}\"\n",
        "    if sizes:\n",
        "        path = f\"{path}-{'x'.join(str(s) for s in sizes)}\"\n",
        "    if output_names:\n",
        "        path = f\"{path}-{'-'.join(output_names)}\"\n",
        "    return f\"{path}.json\""
      ]
    },
    {
      "cell_type": "markdown",
      "id": "9ee6dec998264b8f",
      "metadata": {},
      "source": [
        ":::{eval-rst}\n",
        ".. autofunction:: sax.nn.io.get_norm_path\n",
        ":::\n"
      ]
    },
    {
      "cell_type": "code",
      "execution_count": 8,
      "id": "52dd255a0b627d0b",
      "metadata": {
        "execution": {
          "iopub.execute_input": "2022-08-04T04:32:30.739717Z",
          "iopub.status.busy": "2022-08-04T04:32:30.739287Z",
          "iopub.status.idle": "2022-08-04T04:32:30.740930Z",
          "shell.execute_reply": "2022-08-04T04:32:30.740566Z"
        },
        "papermill": {
          "duration": 0.013196,
          "end_time": "2022-08-04T04:32:30.741024",
          "exception": false,
          "start_time": "2022-08-04T04:32:30.727828",
          "status": "completed"
        },
        "tags": [
          "hide-input"
        ]
      },
      "outputs": [],
      "source": [
        "\n",
        "def get_norm_path(\n",
        "    *shape: int,\n",
        "    input_names: Optional[Tuple[str, ...]] = None,\n",
        "    output_names: Optional[Tuple[str, ...]] = None,\n",
        "    dirpath: str = \"norms\",\n",
        "    prefix: str = \"norm\",\n",
        "    preprocess=preprocess,\n",
        "):\n",
        "    \"\"\"Create the SAX conventional path for the normalization constants\"\"\"\n",
        "    if input_names and output_names:\n",
        "        raise ValueError(\n",
        "            \"To get the norm name, one can only specify `input_names` OR `output_names`.\"\n",
        "        )\n",
        "    if input_names:\n",
        "        num_inputs = preprocess(*jnp.ones(len(input_names))).shape[0]\n",
        "        shape = (num_inputs,) + shape\n",
        "    if output_names:\n",
        "        shape = shape + (len(output_names),)\n",
        "    path = os.path.abspath(os.path.join(dirpath, prefix))\n",
        "    if input_names:\n",
        "        path = f\"{path}-{'-'.join(input_names)}\"\n",
        "    if shape:\n",
        "        path = f\"{path}-{'x'.join(str(s) for s in shape)}\"\n",
        "    if output_names:\n",
        "        path = f\"{path}-{'-'.join(output_names)}\"\n",
        "    return f\"{path}.json\""
      ]
    },
    {
      "cell_type": "code",
      "execution_count": 9,
      "id": "4ac9d2415159a989",
      "metadata": {
        "execution": {
          "iopub.execute_input": "2022-08-04T04:32:30.759041Z",
          "iopub.status.busy": "2022-08-04T04:32:30.758619Z",
          "iopub.status.idle": "2022-08-04T04:32:30.759882Z",
          "shell.execute_reply": "2022-08-04T04:32:30.760239Z"
        },
        "papermill": {
          "duration": 0.01261,
          "end_time": "2022-08-04T04:32:30.760349",
          "exception": false,
          "start_time": "2022-08-04T04:32:30.747739",
          "status": "completed"
        },
        "tags": [
          "remove-cell"
        ]
      },
      "outputs": [],
      "source": [
        "class _PartialDense:\n",
        "    def __init__(self, weights, x_norm, y_norm, input_names, output_names):\n",
        "        self.weights = weights\n",
        "        self.x_norm = x_norm\n",
        "        self.y_norm = y_norm\n",
        "        self.input_names = input_names\n",
        "        self.output_names = output_names\n",
        "\n",
        "    def __call__(self, *params: ComplexFloat) -> ComplexFloat:\n",
        "        return dense(self.weights, *params, x_norm=self.x_norm, y_norm=self.y_norm)\n",
        "\n",
        "    def __repr__(self):\n",
        "        return f\"{self.__class__.__name__}{repr(self.input_names)}->{repr(self.output_names)}\""
      ]
    },
    {
      "cell_type": "markdown",
      "id": "3c618c39318088b9",
      "metadata": {},
      "source": [
        ":::{eval-rst}\n",
        ".. autofunction:: sax.nn.io.load_nn_dense\n",
        ":::\n"
      ]
    },
    {
      "cell_type": "code",
      "execution_count": 10,
      "id": "1f4eb529515ae9d8",
      "metadata": {
        "execution": {
          "iopub.execute_input": "2022-08-04T04:32:30.780027Z",
          "iopub.status.busy": "2022-08-04T04:32:30.779588Z",
          "iopub.status.idle": "2022-08-04T04:32:30.781161Z",
          "shell.execute_reply": "2022-08-04T04:32:30.780736Z"
        },
        "papermill": {
          "duration": 0.014339,
          "end_time": "2022-08-04T04:32:30.781256",
          "exception": false,
          "start_time": "2022-08-04T04:32:30.766917",
          "status": "completed"
        },
        "tags": [
          "hide-input"
        ]
      },
      "outputs": [],
      "source": [
        "def load_nn_dense(\n",
        "    *sizes: int,\n",
        "    input_names: Optional[Tuple[str, ...]] = None,\n",
        "    output_names: Optional[Tuple[str, ...]] = None,\n",
        "    weightprefix=\"dense\",\n",
        "    weightdirpath=\"weights\",\n",
        "    normdirpath=\"norms\",\n",
        "    normprefix=\"norm\",\n",
        "    preprocess=preprocess,\n",
        ") -> Callable:\n",
        "    \"\"\"Load a pre-trained dense model\"\"\"\n",
        "    weights_path = get_dense_weights_path(\n",
        "        *sizes,\n",
        "        input_names=input_names,\n",
        "        output_names=output_names,\n",
        "        prefix=weightprefix,\n",
        "        dirpath=weightdirpath,\n",
        "        preprocess=preprocess,\n",
        "    )\n",
        "    if not os.path.exists(weights_path):\n",
        "        raise ValueError(\"Cannot find weights path for given parameters\")\n",
        "    x_norm_path = get_norm_path(\n",
        "        input_names=input_names,\n",
        "        prefix=normprefix,\n",
        "        dirpath=normdirpath,\n",
        "        preprocess=preprocess,\n",
        "    )\n",
        "    if not os.path.exists(x_norm_path):\n",
        "        raise ValueError(\"Cannot find normalization for input parameters\")\n",
        "    y_norm_path = get_norm_path(\n",
        "        output_names=output_names,\n",
        "        prefix=normprefix,\n",
        "        dirpath=normdirpath,\n",
        "        preprocess=preprocess,\n",
        "    )\n",
        "    if not os.path.exists(x_norm_path):\n",
        "        raise ValueError(\"Cannot find normalization for output parameters\")\n",
        "    weights = load_nn_weights_json(weights_path)\n",
        "    x_norm_dict = load_nn_weights_json(x_norm_path)\n",
        "    y_norm_dict = load_nn_weights_json(y_norm_path)\n",
        "    x_norm = norm(x_norm_dict[\"mean\"], x_norm_dict[\"std\"])\n",
        "    y_norm = norm(y_norm_dict[\"mean\"], y_norm_dict[\"std\"])\n",
        "    partial_dense = _PartialDense(weights, x_norm, y_norm, input_names, output_names)\n",
        "    return partial_dense"
      ]
    }
  ],
  "metadata": {
    "kernelspec": {
      "display_name": "sax",
      "language": "python",
      "name": "sax"
    },
    "language_info": {
      "codemirror_mode": {
        "name": "ipython",
        "version": 3
      },
      "file_extension": ".py",
      "mimetype": "text/x-python",
      "name": "python",
      "nbconvert_exporter": "python",
      "pygments_lexer": "ipython3",
      "version": "3.9.0"
    },
    "papermill": {
      "default_parameters": {},
      "duration": 3.823338,
      "end_time": "2022-08-04T04:32:31.295600",
      "environment_variables": {},
      "exception": null,
      "input_path": "./nbs/09d_nn_io.ipynb",
      "output_path": "./nbs/09d_nn_io.ipynb",
      "parameters": {},
      "start_time": "2022-08-04T04:32:27.472262",
      "version": "2.3.4"
    }
  },
  "nbformat": 4,
  "nbformat_minor": 5
}
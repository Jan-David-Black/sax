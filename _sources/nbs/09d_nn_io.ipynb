{
  "cells": [
    {
      "cell_type": "code",
      "execution_count": 1,
      "id": "85a04d3fe198ff8e",
      "metadata": {
        "execution": {
          "iopub.execute_input": "2022-08-07T05:30:20.159073Z",
          "iopub.status.busy": "2022-08-07T05:30:20.158637Z",
          "iopub.status.idle": "2022-08-07T05:30:20.161756Z",
          "shell.execute_reply": "2022-08-07T05:30:20.161343Z"
        },
        "papermill": {
          "duration": 0.013973,
          "end_time": "2022-08-07T05:30:20.161869",
          "exception": false,
          "start_time": "2022-08-07T05:30:20.147896",
          "status": "completed"
        },
        "tags": [
          "remove-cell"
        ]
      },
      "outputs": [],
      "source": []
    },
    {
      "cell_type": "markdown",
      "id": "a0489f95",
      "metadata": {
        "papermill": {
          "duration": 0.005914,
          "end_time": "2022-08-07T05:30:20.174309",
          "exception": false,
          "start_time": "2022-08-07T05:30:20.168395",
          "status": "completed"
        },
        "tags": []
      },
      "source": [
        "# NN - IO\n",
        "\n",
        "> IO Utilitites for SAX neural networks"
      ]
    },
    {
      "cell_type": "code",
      "execution_count": 2,
      "id": "14488a7179cdbb44",
      "metadata": {
        "execution": {
          "iopub.execute_input": "2022-08-07T05:30:20.193825Z",
          "iopub.status.busy": "2022-08-07T05:30:20.193078Z",
          "iopub.status.idle": "2022-08-07T05:30:20.879750Z",
          "shell.execute_reply": "2022-08-07T05:30:20.878936Z"
        },
        "papermill": {
          "duration": 0.699676,
          "end_time": "2022-08-07T05:30:20.879878",
          "exception": false,
          "start_time": "2022-08-07T05:30:20.180202",
          "status": "completed"
        },
        "tags": [
          "remove-cell"
        ]
      },
      "outputs": [],
      "source": [
        "import matplotlib.pyplot as plt\n",
        "from fastcore.test import test_eq\n",
        "from pytest import approx, raises\n",
        "\n",
        "import os, sys; sys.stderr = open(os.devnull, \"w\")"
      ]
    },
    {
      "cell_type": "code",
      "execution_count": 3,
      "id": "455522d65785fd9c",
      "metadata": {
        "execution": {
          "iopub.execute_input": "2022-08-07T05:30:20.897095Z",
          "iopub.status.busy": "2022-08-07T05:30:20.896659Z",
          "iopub.status.idle": "2022-08-07T05:30:21.953044Z",
          "shell.execute_reply": "2022-08-07T05:30:21.952536Z"
        },
        "papermill": {
          "duration": 1.066798,
          "end_time": "2022-08-07T05:30:21.953179",
          "exception": false,
          "start_time": "2022-08-07T05:30:20.886381",
          "status": "completed"
        },
        "tags": [
          "hide-input"
        ]
      },
      "outputs": [],
      "source": [
        "from __future__ import annotations\n",
        "\n",
        "import json\n",
        "import os\n",
        "import re\n",
        "from typing import Callable, Dict, List, Optional, Tuple\n",
        "\n",
        "import jax.numpy as jnp\n",
        "from sax.nn.core import dense, preprocess\n",
        "from sax.nn.utils import norm\n",
        "from sax.typing_ import ComplexFloat"
      ]
    },
    {
      "cell_type": "markdown",
      "id": "19e15f2c8d607d5b",
      "metadata": {},
      "source": [
        ":::{eval-rst}\n",
        ".. autofunction:: sax.nn.io.load_nn_weights_json\n",
        ":::\n"
      ]
    },
    {
      "cell_type": "code",
      "execution_count": 4,
      "id": "160b37858329481d",
      "metadata": {
        "execution": {
          "iopub.execute_input": "2022-08-07T05:30:21.971783Z",
          "iopub.status.busy": "2022-08-07T05:30:21.971346Z",
          "iopub.status.idle": "2022-08-07T05:30:21.973149Z",
          "shell.execute_reply": "2022-08-07T05:30:21.972806Z"
        },
        "papermill": {
          "duration": 0.013053,
          "end_time": "2022-08-07T05:30:21.973247",
          "exception": false,
          "start_time": "2022-08-07T05:30:21.960194",
          "status": "completed"
        },
        "tags": [
          "hide-input"
        ]
      },
      "outputs": [],
      "source": [
        "\n",
        "def load_nn_weights_json(path: str) -> Dict[str, ComplexFloat]:\n",
        "    \"\"\"Load json weights from given path\"\"\"\n",
        "    path = os.path.abspath(os.path.expanduser(path))\n",
        "    weights = {}\n",
        "    if os.path.exists(path):\n",
        "        with open(path, \"r\") as file:\n",
        "            for k, v in json.load(file).items():\n",
        "                _v = jnp.array(v, dtype=float)\n",
        "                assert isinstance(_v, jnp.ndarray)\n",
        "                weights[k] = _v\n",
        "    return weights"
      ]
    },
    {
      "cell_type": "markdown",
      "id": "8a7a2f1e79a05c3f",
      "metadata": {},
      "source": [
        ":::{eval-rst}\n",
        ".. autofunction:: sax.nn.io.save_nn_weights_json\n",
        ":::\n"
      ]
    },
    {
      "cell_type": "code",
      "execution_count": 5,
      "id": "1e799770c6d777b1",
      "metadata": {
        "execution": {
          "iopub.execute_input": "2022-08-07T05:30:21.990437Z",
          "iopub.status.busy": "2022-08-07T05:30:21.989811Z",
          "iopub.status.idle": "2022-08-07T05:30:21.991100Z",
          "shell.execute_reply": "2022-08-07T05:30:21.991426Z"
        },
        "papermill": {
          "duration": 0.012113,
          "end_time": "2022-08-07T05:30:21.991526",
          "exception": false,
          "start_time": "2022-08-07T05:30:21.979413",
          "status": "completed"
        },
        "tags": [
          "hide-input"
        ]
      },
      "outputs": [],
      "source": [
        "def save_nn_weights_json(weights: Dict[str, ComplexFloat], path: str):\n",
        "    \"\"\"Save json weights to given path\"\"\"\n",
        "    path = os.path.abspath(os.path.expanduser(path))\n",
        "    os.makedirs(os.path.dirname(path), exist_ok=True)\n",
        "    with open(path, \"w\") as file:\n",
        "        _weights = {}\n",
        "        for k, v in weights.items():\n",
        "            v = jnp.atleast_1d(jnp.array(v))\n",
        "            assert isinstance(v, jnp.ndarray)\n",
        "            _weights[k] = v.tolist()\n",
        "        json.dump(_weights, file)"
      ]
    },
    {
      "cell_type": "markdown",
      "id": "97a89f4cd838e510",
      "metadata": {},
      "source": [
        ":::{eval-rst}\n",
        ".. autofunction:: sax.nn.io.get_available_sizes\n",
        ":::\n"
      ]
    },
    {
      "cell_type": "code",
      "execution_count": 6,
      "id": "eef7003c735150c7",
      "metadata": {
        "execution": {
          "iopub.execute_input": "2022-08-07T05:30:22.010746Z",
          "iopub.status.busy": "2022-08-07T05:30:22.010283Z",
          "iopub.status.idle": "2022-08-07T05:30:22.011544Z",
          "shell.execute_reply": "2022-08-07T05:30:22.011872Z"
        },
        "papermill": {
          "duration": 0.014238,
          "end_time": "2022-08-07T05:30:22.011972",
          "exception": false,
          "start_time": "2022-08-07T05:30:21.997734",
          "status": "completed"
        },
        "tags": [
          "hide-input"
        ]
      },
      "outputs": [],
      "source": [
        "def get_available_sizes(\n",
        "    dirpath: str,\n",
        "    prefix: str,\n",
        "    input_names: Tuple[str, ...],\n",
        "    output_names: Tuple[str, ...],\n",
        ") -> List[Tuple[int, ...]]:\n",
        "    \"\"\"Get all available json weight hidden sizes given filename parameters\n",
        "\n",
        "    > Note: this function does NOT return the input size and the output size \n",
        "      of the neural network. ONLY the hidden sizes are reported. The input \n",
        "      and output sizes can easily be derived from `input_names` (after \n",
        "      preprocessing) and `output_names`.\n",
        "    \"\"\"\n",
        "    all_weightfiles = os.listdir(dirpath)\n",
        "    possible_weightfiles = (\n",
        "        s for s in all_weightfiles if s.endswith(f\"-{'-'.join(output_names)}.json\")\n",
        "    )\n",
        "    possible_weightfiles = (\n",
        "        s\n",
        "        for s in possible_weightfiles\n",
        "        if s.startswith(f\"{prefix}-{'-'.join(input_names)}\")\n",
        "    )\n",
        "    possible_weightfiles = (re.sub(\"[^0-9x]\", \"\", s) for s in possible_weightfiles)\n",
        "    possible_weightfiles = (re.sub(\"^x*\", \"\", s) for s in possible_weightfiles)\n",
        "    possible_weightfiles = (re.sub(\"x[^0-9]*$\", \"\", s) for s in possible_weightfiles)\n",
        "    possible_hidden_sizes = (s.strip() for s in possible_weightfiles if s.strip())\n",
        "    possible_hidden_sizes = (\n",
        "        tuple(hs.strip() for hs in s.split(\"x\") if hs.strip())\n",
        "        for s in possible_hidden_sizes\n",
        "    )\n",
        "    possible_hidden_sizes = (\n",
        "        tuple(int(hs) for hs in s[1:-1]) for s in possible_hidden_sizes if len(s) > 2\n",
        "    )\n",
        "    possible_hidden_sizes = sorted(\n",
        "        possible_hidden_sizes, key=lambda hs: (len(hs), max(hs))\n",
        "    )\n",
        "    return possible_hidden_sizes"
      ]
    },
    {
      "cell_type": "markdown",
      "id": "e43c966c98efb089",
      "metadata": {},
      "source": [
        ":::{eval-rst}\n",
        ".. autofunction:: sax.nn.io.get_dense_weights_path\n",
        ":::\n"
      ]
    },
    {
      "cell_type": "code",
      "execution_count": 7,
      "id": "e88bc1077903d926",
      "metadata": {
        "execution": {
          "iopub.execute_input": "2022-08-07T05:30:22.029684Z",
          "iopub.status.busy": "2022-08-07T05:30:22.029266Z",
          "iopub.status.idle": "2022-08-07T05:30:22.030841Z",
          "shell.execute_reply": "2022-08-07T05:30:22.030514Z"
        },
        "papermill": {
          "duration": 0.012705,
          "end_time": "2022-08-07T05:30:22.030929",
          "exception": false,
          "start_time": "2022-08-07T05:30:22.018224",
          "status": "completed"
        },
        "tags": [
          "hide-input"
        ]
      },
      "outputs": [],
      "source": [
        "\n",
        "def get_dense_weights_path(\n",
        "    *sizes: int,\n",
        "    input_names: Optional[Tuple[str, ...]] = None,\n",
        "    output_names: Optional[Tuple[str, ...]] = None,\n",
        "    dirpath: str = \"weights\",\n",
        "    prefix: str = \"dense\",\n",
        "    preprocess=preprocess,\n",
        "):\n",
        "    \"\"\"Create the SAX conventional path for a given weight dictionary\"\"\"\n",
        "    if input_names:\n",
        "        num_inputs = preprocess(*jnp.ones(len(input_names))).shape[0]\n",
        "        sizes = (num_inputs,) + sizes\n",
        "    if output_names:\n",
        "        sizes = sizes + (len(output_names),)\n",
        "    path = os.path.abspath(os.path.join(dirpath, prefix))\n",
        "    if input_names:\n",
        "        path = f\"{path}-{'-'.join(input_names)}\"\n",
        "    if sizes:\n",
        "        path = f\"{path}-{'x'.join(str(s) for s in sizes)}\"\n",
        "    if output_names:\n",
        "        path = f\"{path}-{'-'.join(output_names)}\"\n",
        "    return f\"{path}.json\""
      ]
    },
    {
      "cell_type": "markdown",
      "id": "8620bf5494483cce",
      "metadata": {},
      "source": [
        ":::{eval-rst}\n",
        ".. autofunction:: sax.nn.io.get_norm_path\n",
        ":::\n"
      ]
    },
    {
      "cell_type": "code",
      "execution_count": 8,
      "id": "39298209c3a5cdce",
      "metadata": {
        "execution": {
          "iopub.execute_input": "2022-08-07T05:30:22.045590Z",
          "iopub.status.busy": "2022-08-07T05:30:22.045175Z",
          "iopub.status.idle": "2022-08-07T05:30:22.050369Z",
          "shell.execute_reply": "2022-08-07T05:30:22.050672Z"
        },
        "papermill": {
          "duration": 0.013511,
          "end_time": "2022-08-07T05:30:22.050773",
          "exception": false,
          "start_time": "2022-08-07T05:30:22.037262",
          "status": "completed"
        },
        "tags": [
          "hide-input"
        ]
      },
      "outputs": [],
      "source": [
        "\n",
        "def get_norm_path(\n",
        "    *shape: int,\n",
        "    input_names: Optional[Tuple[str, ...]] = None,\n",
        "    output_names: Optional[Tuple[str, ...]] = None,\n",
        "    dirpath: str = \"norms\",\n",
        "    prefix: str = \"norm\",\n",
        "    preprocess=preprocess,\n",
        "):\n",
        "    \"\"\"Create the SAX conventional path for the normalization constants\"\"\"\n",
        "    if input_names and output_names:\n",
        "        raise ValueError(\n",
        "            \"To get the norm name, one can only specify `input_names` OR `output_names`.\"\n",
        "        )\n",
        "    if input_names:\n",
        "        num_inputs = preprocess(*jnp.ones(len(input_names))).shape[0]\n",
        "        shape = (num_inputs,) + shape\n",
        "    if output_names:\n",
        "        shape = shape + (len(output_names),)\n",
        "    path = os.path.abspath(os.path.join(dirpath, prefix))\n",
        "    if input_names:\n",
        "        path = f\"{path}-{'-'.join(input_names)}\"\n",
        "    if shape:\n",
        "        path = f\"{path}-{'x'.join(str(s) for s in shape)}\"\n",
        "    if output_names:\n",
        "        path = f\"{path}-{'-'.join(output_names)}\"\n",
        "    return f\"{path}.json\""
      ]
    },
    {
      "cell_type": "code",
      "execution_count": 9,
      "id": "c3d2b6ac04a50299",
      "metadata": {
        "execution": {
          "iopub.execute_input": "2022-08-07T05:30:22.066057Z",
          "iopub.status.busy": "2022-08-07T05:30:22.065636Z",
          "iopub.status.idle": "2022-08-07T05:30:22.069479Z",
          "shell.execute_reply": "2022-08-07T05:30:22.069827Z"
        },
        "papermill": {
          "duration": 0.012692,
          "end_time": "2022-08-07T05:30:22.069936",
          "exception": false,
          "start_time": "2022-08-07T05:30:22.057244",
          "status": "completed"
        },
        "tags": [
          "remove-cell"
        ]
      },
      "outputs": [],
      "source": [
        "class _PartialDense:\n",
        "    def __init__(self, weights, x_norm, y_norm, input_names, output_names):\n",
        "        self.weights = weights\n",
        "        self.x_norm = x_norm\n",
        "        self.y_norm = y_norm\n",
        "        self.input_names = input_names\n",
        "        self.output_names = output_names\n",
        "\n",
        "    def __call__(self, *params: ComplexFloat) -> ComplexFloat:\n",
        "        return dense(self.weights, *params, x_norm=self.x_norm, y_norm=self.y_norm)\n",
        "\n",
        "    def __repr__(self):\n",
        "        return f\"{self.__class__.__name__}{repr(self.input_names)}->{repr(self.output_names)}\""
      ]
    },
    {
      "cell_type": "markdown",
      "id": "4cbca81da22c4aa5",
      "metadata": {},
      "source": [
        ":::{eval-rst}\n",
        ".. autofunction:: sax.nn.io.load_nn_dense\n",
        ":::\n"
      ]
    },
    {
      "cell_type": "code",
      "execution_count": 10,
      "id": "97d6ae479f0685a8",
      "metadata": {
        "execution": {
          "iopub.execute_input": "2022-08-07T05:30:22.090693Z",
          "iopub.status.busy": "2022-08-07T05:30:22.090261Z",
          "iopub.status.idle": "2022-08-07T05:30:22.091496Z",
          "shell.execute_reply": "2022-08-07T05:30:22.091876Z"
        },
        "papermill": {
          "duration": 0.015452,
          "end_time": "2022-08-07T05:30:22.091986",
          "exception": false,
          "start_time": "2022-08-07T05:30:22.076534",
          "status": "completed"
        },
        "tags": [
          "hide-input"
        ]
      },
      "outputs": [],
      "source": [
        "def load_nn_dense(\n",
        "    *sizes: int,\n",
        "    input_names: Optional[Tuple[str, ...]] = None,\n",
        "    output_names: Optional[Tuple[str, ...]] = None,\n",
        "    weightprefix=\"dense\",\n",
        "    weightdirpath=\"weights\",\n",
        "    normdirpath=\"norms\",\n",
        "    normprefix=\"norm\",\n",
        "    preprocess=preprocess,\n",
        ") -> Callable:\n",
        "    \"\"\"Load a pre-trained dense model\"\"\"\n",
        "    weights_path = get_dense_weights_path(\n",
        "        *sizes,\n",
        "        input_names=input_names,\n",
        "        output_names=output_names,\n",
        "        prefix=weightprefix,\n",
        "        dirpath=weightdirpath,\n",
        "        preprocess=preprocess,\n",
        "    )\n",
        "    if not os.path.exists(weights_path):\n",
        "        raise ValueError(\"Cannot find weights path for given parameters\")\n",
        "    x_norm_path = get_norm_path(\n",
        "        input_names=input_names,\n",
        "        prefix=normprefix,\n",
        "        dirpath=normdirpath,\n",
        "        preprocess=preprocess,\n",
        "    )\n",
        "    if not os.path.exists(x_norm_path):\n",
        "        raise ValueError(\"Cannot find normalization for input parameters\")\n",
        "    y_norm_path = get_norm_path(\n",
        "        output_names=output_names,\n",
        "        prefix=normprefix,\n",
        "        dirpath=normdirpath,\n",
        "        preprocess=preprocess,\n",
        "    )\n",
        "    if not os.path.exists(x_norm_path):\n",
        "        raise ValueError(\"Cannot find normalization for output parameters\")\n",
        "    weights = load_nn_weights_json(weights_path)\n",
        "    x_norm_dict = load_nn_weights_json(x_norm_path)\n",
        "    y_norm_dict = load_nn_weights_json(y_norm_path)\n",
        "    x_norm = norm(x_norm_dict[\"mean\"], x_norm_dict[\"std\"])\n",
        "    y_norm = norm(y_norm_dict[\"mean\"], y_norm_dict[\"std\"])\n",
        "    partial_dense = _PartialDense(weights, x_norm, y_norm, input_names, output_names)\n",
        "    return partial_dense"
      ]
    }
  ],
  "metadata": {
    "kernelspec": {
      "display_name": "sax",
      "language": "python",
      "name": "sax"
    },
    "language_info": {
      "codemirror_mode": {
        "name": "ipython",
        "version": 3
      },
      "file_extension": ".py",
      "mimetype": "text/x-python",
      "name": "python",
      "nbconvert_exporter": "python",
      "pygments_lexer": "ipython3",
      "version": "3.9.0"
    },
    "papermill": {
      "default_parameters": {},
      "duration": 4.369071,
      "end_time": "2022-08-07T05:30:23.387571",
      "environment_variables": {},
      "exception": null,
      "input_path": "./nbs/09d_nn_io.ipynb",
      "output_path": "./nbs/09d_nn_io.ipynb",
      "parameters": {},
      "start_time": "2022-08-07T05:30:19.018500",
      "version": "2.3.4"
    }
  },
  "nbformat": 4,
  "nbformat_minor": 5
}
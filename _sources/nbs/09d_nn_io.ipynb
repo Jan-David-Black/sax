{
  "cells": [
    {
      "cell_type": "code",
      "execution_count": 1,
      "id": "475133d2d2aa53cf",
      "metadata": {
        "execution": {
          "iopub.execute_input": "2022-08-10T14:57:40.354189Z",
          "iopub.status.busy": "2022-08-10T14:57:40.353768Z",
          "iopub.status.idle": "2022-08-10T14:57:40.356365Z",
          "shell.execute_reply": "2022-08-10T14:57:40.355987Z"
        },
        "papermill": {
          "duration": 0.013186,
          "end_time": "2022-08-10T14:57:40.356467",
          "exception": false,
          "start_time": "2022-08-10T14:57:40.343281",
          "status": "completed"
        },
        "tags": [
          "remove-cell"
        ]
      },
      "outputs": [],
      "source": []
    },
    {
      "cell_type": "markdown",
      "id": "a0489f95",
      "metadata": {
        "papermill": {
          "duration": 0.006271,
          "end_time": "2022-08-10T14:57:40.369449",
          "exception": false,
          "start_time": "2022-08-10T14:57:40.363178",
          "status": "completed"
        },
        "tags": []
      },
      "source": [
        "# NN - IO\n",
        "\n",
        "> IO Utilitites for SAX neural networks"
      ]
    },
    {
      "cell_type": "code",
      "execution_count": 2,
      "id": "8faaf58970fb3f75",
      "metadata": {
        "execution": {
          "iopub.execute_input": "2022-08-10T14:57:40.389068Z",
          "iopub.status.busy": "2022-08-10T14:57:40.388654Z",
          "iopub.status.idle": "2022-08-10T14:57:41.060859Z",
          "shell.execute_reply": "2022-08-10T14:57:41.061208Z"
        },
        "papermill": {
          "duration": 0.68557,
          "end_time": "2022-08-10T14:57:41.061343",
          "exception": false,
          "start_time": "2022-08-10T14:57:40.375773",
          "status": "completed"
        },
        "tags": [
          "remove-cell"
        ]
      },
      "outputs": [],
      "source": [
        "import matplotlib.pyplot as plt\n",
        "from fastcore.test import test_eq\n",
        "from pytest import approx, raises\n",
        "\n",
        "import os, sys; sys.stderr = open(os.devnull, \"w\")"
      ]
    },
    {
      "cell_type": "code",
      "execution_count": 3,
      "id": "92b731cfea1995b0",
      "metadata": {
        "execution": {
          "iopub.execute_input": "2022-08-10T14:57:41.078158Z",
          "iopub.status.busy": "2022-08-10T14:57:41.076483Z",
          "iopub.status.idle": "2022-08-10T14:57:42.033985Z",
          "shell.execute_reply": "2022-08-10T14:57:42.033608Z"
        },
        "papermill": {
          "duration": 0.966155,
          "end_time": "2022-08-10T14:57:42.034090",
          "exception": false,
          "start_time": "2022-08-10T14:57:41.067935",
          "status": "completed"
        },
        "tags": [
          "hide-input"
        ]
      },
      "outputs": [],
      "source": [
        "from __future__ import annotations\n",
        "\n",
        "import json\n",
        "import os\n",
        "import re\n",
        "from typing import Callable, Dict, List, Optional, Tuple\n",
        "\n",
        "import jax.numpy as jnp\n",
        "from sax.nn.core import dense, preprocess\n",
        "from sax.nn.utils import norm\n",
        "from sax.typing_ import ComplexFloat"
      ]
    },
    {
      "cell_type": "markdown",
      "id": "feed50846eb30633",
      "metadata": {},
      "source": [
        ":::{eval-rst}\n",
        ".. autofunction:: sax.nn.io.load_nn_weights_json\n",
        ":::\n"
      ]
    },
    {
      "cell_type": "code",
      "execution_count": 4,
      "id": "1e95a0e4b41450ce",
      "metadata": {
        "execution": {
          "iopub.execute_input": "2022-08-10T14:57:42.051791Z",
          "iopub.status.busy": "2022-08-10T14:57:42.049165Z",
          "iopub.status.idle": "2022-08-10T14:57:42.053338Z",
          "shell.execute_reply": "2022-08-10T14:57:42.053010Z"
        },
        "papermill": {
          "duration": 0.012694,
          "end_time": "2022-08-10T14:57:42.053433",
          "exception": false,
          "start_time": "2022-08-10T14:57:42.040739",
          "status": "completed"
        },
        "tags": [
          "hide-input"
        ]
      },
      "outputs": [],
      "source": [
        "\n",
        "def load_nn_weights_json(path: str) -> Dict[str, ComplexFloat]:\n",
        "    \"\"\"Load json weights from given path\"\"\"\n",
        "    path = os.path.abspath(os.path.expanduser(path))\n",
        "    weights = {}\n",
        "    if os.path.exists(path):\n",
        "        with open(path, \"r\") as file:\n",
        "            for k, v in json.load(file).items():\n",
        "                _v = jnp.array(v, dtype=float)\n",
        "                assert isinstance(_v, jnp.ndarray)\n",
        "                weights[k] = _v\n",
        "    return weights"
      ]
    },
    {
      "cell_type": "markdown",
      "id": "624df39ff3fb2e66",
      "metadata": {},
      "source": [
        ":::{eval-rst}\n",
        ".. autofunction:: sax.nn.io.save_nn_weights_json\n",
        ":::\n"
      ]
    },
    {
      "cell_type": "code",
      "execution_count": 5,
      "id": "7639e68f91e5b1a8",
      "metadata": {
        "execution": {
          "iopub.execute_input": "2022-08-10T14:57:42.070793Z",
          "iopub.status.busy": "2022-08-10T14:57:42.070341Z",
          "iopub.status.idle": "2022-08-10T14:57:42.072693Z",
          "shell.execute_reply": "2022-08-10T14:57:42.072366Z"
        },
        "papermill": {
          "duration": 0.01292,
          "end_time": "2022-08-10T14:57:42.072783",
          "exception": false,
          "start_time": "2022-08-10T14:57:42.059863",
          "status": "completed"
        },
        "tags": [
          "hide-input"
        ]
      },
      "outputs": [],
      "source": [
        "def save_nn_weights_json(weights: Dict[str, ComplexFloat], path: str):\n",
        "    \"\"\"Save json weights to given path\"\"\"\n",
        "    path = os.path.abspath(os.path.expanduser(path))\n",
        "    os.makedirs(os.path.dirname(path), exist_ok=True)\n",
        "    with open(path, \"w\") as file:\n",
        "        _weights = {}\n",
        "        for k, v in weights.items():\n",
        "            v = jnp.atleast_1d(jnp.array(v))\n",
        "            assert isinstance(v, jnp.ndarray)\n",
        "            _weights[k] = v.tolist()\n",
        "        json.dump(_weights, file)"
      ]
    },
    {
      "cell_type": "markdown",
      "id": "502a03792b97b29a",
      "metadata": {},
      "source": [
        ":::{eval-rst}\n",
        ".. autofunction:: sax.nn.io.get_available_sizes\n",
        ":::\n"
      ]
    },
    {
      "cell_type": "code",
      "execution_count": 6,
      "id": "0ad4612770e3cd4f",
      "metadata": {
        "execution": {
          "iopub.execute_input": "2022-08-10T14:57:42.092768Z",
          "iopub.status.busy": "2022-08-10T14:57:42.092300Z",
          "iopub.status.idle": "2022-08-10T14:57:42.093252Z",
          "shell.execute_reply": "2022-08-10T14:57:42.093633Z"
        },
        "papermill": {
          "duration": 0.014495,
          "end_time": "2022-08-10T14:57:42.093738",
          "exception": false,
          "start_time": "2022-08-10T14:57:42.079243",
          "status": "completed"
        },
        "tags": [
          "hide-input"
        ]
      },
      "outputs": [],
      "source": [
        "def get_available_sizes(\n",
        "    dirpath: str,\n",
        "    prefix: str,\n",
        "    input_names: Tuple[str, ...],\n",
        "    output_names: Tuple[str, ...],\n",
        ") -> List[Tuple[int, ...]]:\n",
        "    \"\"\"Get all available json weight hidden sizes given filename parameters\n",
        "\n",
        "    > Note: this function does NOT return the input size and the output size \n",
        "      of the neural network. ONLY the hidden sizes are reported. The input \n",
        "      and output sizes can easily be derived from `input_names` (after \n",
        "      preprocessing) and `output_names`.\n",
        "    \"\"\"\n",
        "    all_weightfiles = os.listdir(dirpath)\n",
        "    possible_weightfiles = (\n",
        "        s for s in all_weightfiles if s.endswith(f\"-{'-'.join(output_names)}.json\")\n",
        "    )\n",
        "    possible_weightfiles = (\n",
        "        s\n",
        "        for s in possible_weightfiles\n",
        "        if s.startswith(f\"{prefix}-{'-'.join(input_names)}\")\n",
        "    )\n",
        "    possible_weightfiles = (re.sub(\"[^0-9x]\", \"\", s) for s in possible_weightfiles)\n",
        "    possible_weightfiles = (re.sub(\"^x*\", \"\", s) for s in possible_weightfiles)\n",
        "    possible_weightfiles = (re.sub(\"x[^0-9]*$\", \"\", s) for s in possible_weightfiles)\n",
        "    possible_hidden_sizes = (s.strip() for s in possible_weightfiles if s.strip())\n",
        "    possible_hidden_sizes = (\n",
        "        tuple(hs.strip() for hs in s.split(\"x\") if hs.strip())\n",
        "        for s in possible_hidden_sizes\n",
        "    )\n",
        "    possible_hidden_sizes = (\n",
        "        tuple(int(hs) for hs in s[1:-1]) for s in possible_hidden_sizes if len(s) > 2\n",
        "    )\n",
        "    possible_hidden_sizes = sorted(\n",
        "        possible_hidden_sizes, key=lambda hs: (len(hs), max(hs))\n",
        "    )\n",
        "    return possible_hidden_sizes"
      ]
    },
    {
      "cell_type": "markdown",
      "id": "818c1dfc2386ba93",
      "metadata": {},
      "source": [
        ":::{eval-rst}\n",
        ".. autofunction:: sax.nn.io.get_dense_weights_path\n",
        ":::\n"
      ]
    },
    {
      "cell_type": "code",
      "execution_count": 7,
      "id": "d3e8283d10feaf63",
      "metadata": {
        "execution": {
          "iopub.execute_input": "2022-08-10T14:57:42.111994Z",
          "iopub.status.busy": "2022-08-10T14:57:42.108240Z",
          "iopub.status.idle": "2022-08-10T14:57:42.114051Z",
          "shell.execute_reply": "2022-08-10T14:57:42.113678Z"
        },
        "papermill": {
          "duration": 0.01384,
          "end_time": "2022-08-10T14:57:42.114140",
          "exception": false,
          "start_time": "2022-08-10T14:57:42.100300",
          "status": "completed"
        },
        "tags": [
          "hide-input"
        ]
      },
      "outputs": [],
      "source": [
        "\n",
        "def get_dense_weights_path(\n",
        "    *sizes: int,\n",
        "    input_names: Optional[Tuple[str, ...]] = None,\n",
        "    output_names: Optional[Tuple[str, ...]] = None,\n",
        "    dirpath: str = \"weights\",\n",
        "    prefix: str = \"dense\",\n",
        "    preprocess=preprocess,\n",
        "):\n",
        "    \"\"\"Create the SAX conventional path for a given weight dictionary\"\"\"\n",
        "    if input_names:\n",
        "        num_inputs = preprocess(*jnp.ones(len(input_names))).shape[0]\n",
        "        sizes = (num_inputs,) + sizes\n",
        "    if output_names:\n",
        "        sizes = sizes + (len(output_names),)\n",
        "    path = os.path.abspath(os.path.join(dirpath, prefix))\n",
        "    if input_names:\n",
        "        path = f\"{path}-{'-'.join(input_names)}\"\n",
        "    if sizes:\n",
        "        path = f\"{path}-{'x'.join(str(s) for s in sizes)}\"\n",
        "    if output_names:\n",
        "        path = f\"{path}-{'-'.join(output_names)}\"\n",
        "    return f\"{path}.json\""
      ]
    },
    {
      "cell_type": "markdown",
      "id": "5ce7481fb9eb6d2f",
      "metadata": {},
      "source": [
        ":::{eval-rst}\n",
        ".. autofunction:: sax.nn.io.get_norm_path\n",
        ":::\n"
      ]
    },
    {
      "cell_type": "code",
      "execution_count": 8,
      "id": "22365954a0d16b85",
      "metadata": {
        "execution": {
          "iopub.execute_input": "2022-08-10T14:57:42.129216Z",
          "iopub.status.busy": "2022-08-10T14:57:42.128792Z",
          "iopub.status.idle": "2022-08-10T14:57:42.134150Z",
          "shell.execute_reply": "2022-08-10T14:57:42.133834Z"
        },
        "papermill": {
          "duration": 0.013476,
          "end_time": "2022-08-10T14:57:42.134236",
          "exception": false,
          "start_time": "2022-08-10T14:57:42.120760",
          "status": "completed"
        },
        "tags": [
          "hide-input"
        ]
      },
      "outputs": [],
      "source": [
        "\n",
        "def get_norm_path(\n",
        "    *shape: int,\n",
        "    input_names: Optional[Tuple[str, ...]] = None,\n",
        "    output_names: Optional[Tuple[str, ...]] = None,\n",
        "    dirpath: str = \"norms\",\n",
        "    prefix: str = \"norm\",\n",
        "    preprocess=preprocess,\n",
        "):\n",
        "    \"\"\"Create the SAX conventional path for the normalization constants\"\"\"\n",
        "    if input_names and output_names:\n",
        "        raise ValueError(\n",
        "            \"To get the norm name, one can only specify `input_names` OR `output_names`.\"\n",
        "        )\n",
        "    if input_names:\n",
        "        num_inputs = preprocess(*jnp.ones(len(input_names))).shape[0]\n",
        "        shape = (num_inputs,) + shape\n",
        "    if output_names:\n",
        "        shape = shape + (len(output_names),)\n",
        "    path = os.path.abspath(os.path.join(dirpath, prefix))\n",
        "    if input_names:\n",
        "        path = f\"{path}-{'-'.join(input_names)}\"\n",
        "    if shape:\n",
        "        path = f\"{path}-{'x'.join(str(s) for s in shape)}\"\n",
        "    if output_names:\n",
        "        path = f\"{path}-{'-'.join(output_names)}\"\n",
        "    return f\"{path}.json\""
      ]
    },
    {
      "cell_type": "code",
      "execution_count": 9,
      "id": "ed9708bc308d54c9",
      "metadata": {
        "execution": {
          "iopub.execute_input": "2022-08-10T14:57:42.151949Z",
          "iopub.status.busy": "2022-08-10T14:57:42.151524Z",
          "iopub.status.idle": "2022-08-10T14:57:42.154781Z",
          "shell.execute_reply": "2022-08-10T14:57:42.154422Z"
        },
        "papermill": {
          "duration": 0.013759,
          "end_time": "2022-08-10T14:57:42.154883",
          "exception": false,
          "start_time": "2022-08-10T14:57:42.141124",
          "status": "completed"
        },
        "tags": [
          "remove-cell"
        ]
      },
      "outputs": [],
      "source": [
        "class _PartialDense:\n",
        "    def __init__(self, weights, x_norm, y_norm, input_names, output_names):\n",
        "        self.weights = weights\n",
        "        self.x_norm = x_norm\n",
        "        self.y_norm = y_norm\n",
        "        self.input_names = input_names\n",
        "        self.output_names = output_names\n",
        "\n",
        "    def __call__(self, *params: ComplexFloat) -> ComplexFloat:\n",
        "        return dense(self.weights, *params, x_norm=self.x_norm, y_norm=self.y_norm)\n",
        "\n",
        "    def __repr__(self):\n",
        "        return f\"{self.__class__.__name__}{repr(self.input_names)}->{repr(self.output_names)}\""
      ]
    },
    {
      "cell_type": "markdown",
      "id": "849004b1a5cafe85",
      "metadata": {},
      "source": [
        ":::{eval-rst}\n",
        ".. autofunction:: sax.nn.io.load_nn_dense\n",
        ":::\n"
      ]
    },
    {
      "cell_type": "code",
      "execution_count": 10,
      "id": "f128acf65325db08",
      "metadata": {
        "execution": {
          "iopub.execute_input": "2022-08-10T14:57:42.174949Z",
          "iopub.status.busy": "2022-08-10T14:57:42.174186Z",
          "iopub.status.idle": "2022-08-10T14:57:42.175422Z",
          "shell.execute_reply": "2022-08-10T14:57:42.175753Z"
        },
        "papermill": {
          "duration": 0.014207,
          "end_time": "2022-08-10T14:57:42.175854",
          "exception": false,
          "start_time": "2022-08-10T14:57:42.161647",
          "status": "completed"
        },
        "tags": [
          "hide-input"
        ]
      },
      "outputs": [],
      "source": [
        "def load_nn_dense(\n",
        "    *sizes: int,\n",
        "    input_names: Optional[Tuple[str, ...]] = None,\n",
        "    output_names: Optional[Tuple[str, ...]] = None,\n",
        "    weightprefix=\"dense\",\n",
        "    weightdirpath=\"weights\",\n",
        "    normdirpath=\"norms\",\n",
        "    normprefix=\"norm\",\n",
        "    preprocess=preprocess,\n",
        ") -> Callable:\n",
        "    \"\"\"Load a pre-trained dense model\"\"\"\n",
        "    weights_path = get_dense_weights_path(\n",
        "        *sizes,\n",
        "        input_names=input_names,\n",
        "        output_names=output_names,\n",
        "        prefix=weightprefix,\n",
        "        dirpath=weightdirpath,\n",
        "        preprocess=preprocess,\n",
        "    )\n",
        "    if not os.path.exists(weights_path):\n",
        "        raise ValueError(\"Cannot find weights path for given parameters\")\n",
        "    x_norm_path = get_norm_path(\n",
        "        input_names=input_names,\n",
        "        prefix=normprefix,\n",
        "        dirpath=normdirpath,\n",
        "        preprocess=preprocess,\n",
        "    )\n",
        "    if not os.path.exists(x_norm_path):\n",
        "        raise ValueError(\"Cannot find normalization for input parameters\")\n",
        "    y_norm_path = get_norm_path(\n",
        "        output_names=output_names,\n",
        "        prefix=normprefix,\n",
        "        dirpath=normdirpath,\n",
        "        preprocess=preprocess,\n",
        "    )\n",
        "    if not os.path.exists(x_norm_path):\n",
        "        raise ValueError(\"Cannot find normalization for output parameters\")\n",
        "    weights = load_nn_weights_json(weights_path)\n",
        "    x_norm_dict = load_nn_weights_json(x_norm_path)\n",
        "    y_norm_dict = load_nn_weights_json(y_norm_path)\n",
        "    x_norm = norm(x_norm_dict[\"mean\"], x_norm_dict[\"std\"])\n",
        "    y_norm = norm(y_norm_dict[\"mean\"], y_norm_dict[\"std\"])\n",
        "    partial_dense = _PartialDense(weights, x_norm, y_norm, input_names, output_names)\n",
        "    return partial_dense"
      ]
    }
  ],
  "metadata": {
    "kernelspec": {
      "display_name": "sax",
      "language": "python",
      "name": "sax"
    },
    "language_info": {
      "codemirror_mode": {
        "name": "ipython",
        "version": 3
      },
      "file_extension": ".py",
      "mimetype": "text/x-python",
      "name": "python",
      "nbconvert_exporter": "python",
      "pygments_lexer": "ipython3",
      "version": "3.9.0"
    },
    "papermill": {
      "default_parameters": {},
      "duration": 3.262563,
      "end_time": "2022-08-10T14:57:42.487994",
      "environment_variables": {},
      "exception": null,
      "input_path": "./nbs/09d_nn_io.ipynb",
      "output_path": "./nbs/09d_nn_io.ipynb",
      "parameters": {},
      "start_time": "2022-08-10T14:57:39.225431",
      "version": "2.3.4"
    }
  },
  "nbformat": 4,
  "nbformat_minor": 5
}
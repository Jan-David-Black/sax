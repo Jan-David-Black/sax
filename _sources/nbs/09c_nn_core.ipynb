{
  "cells": [
    {
      "cell_type": "code",
      "execution_count": 1,
      "id": "19eaf418842584f3",
      "metadata": {
        "execution": {
          "iopub.execute_input": "2022-08-16T04:18:34.482458Z",
          "iopub.status.busy": "2022-08-16T04:18:34.482022Z",
          "iopub.status.idle": "2022-08-16T04:18:34.485761Z",
          "shell.execute_reply": "2022-08-16T04:18:34.485333Z"
        },
        "papermill": {
          "duration": 0.012658,
          "end_time": "2022-08-16T04:18:34.485867",
          "exception": false,
          "start_time": "2022-08-16T04:18:34.473209",
          "status": "completed"
        },
        "tags": [
          "remove-cell"
        ]
      },
      "outputs": [],
      "source": []
    },
    {
      "cell_type": "markdown",
      "id": "ad9dbb7f",
      "metadata": {
        "papermill": {
          "duration": 0.003627,
          "end_time": "2022-08-16T04:18:34.493834",
          "exception": false,
          "start_time": "2022-08-16T04:18:34.490207",
          "status": "completed"
        },
        "tags": []
      },
      "source": [
        "# Core\n",
        "\n",
        "> Core for SAX neural networks"
      ]
    },
    {
      "cell_type": "code",
      "execution_count": 2,
      "id": "a6d0aaa75525e836",
      "metadata": {
        "execution": {
          "iopub.execute_input": "2022-08-16T04:18:34.508477Z",
          "iopub.status.busy": "2022-08-16T04:18:34.508061Z",
          "iopub.status.idle": "2022-08-16T04:18:35.187622Z",
          "shell.execute_reply": "2022-08-16T04:18:35.187149Z"
        },
        "papermill": {
          "duration": 0.690274,
          "end_time": "2022-08-16T04:18:35.187752",
          "exception": false,
          "start_time": "2022-08-16T04:18:34.497478",
          "status": "completed"
        },
        "tags": [
          "remove-cell"
        ]
      },
      "outputs": [],
      "source": [
        "import matplotlib.pyplot as plt\n",
        "from fastcore.test import test_eq\n",
        "from pytest import approx, raises\n",
        "\n",
        "import os, sys; sys.stderr = open(os.devnull, \"w\")"
      ]
    },
    {
      "cell_type": "code",
      "execution_count": 3,
      "id": "9e0868308d352c58",
      "metadata": {
        "execution": {
          "iopub.execute_input": "2022-08-16T04:18:35.200179Z",
          "iopub.status.busy": "2022-08-16T04:18:35.199728Z",
          "iopub.status.idle": "2022-08-16T04:18:36.282997Z",
          "shell.execute_reply": "2022-08-16T04:18:36.283386Z"
        },
        "papermill": {
          "duration": 1.091409,
          "end_time": "2022-08-16T04:18:36.283580",
          "exception": false,
          "start_time": "2022-08-16T04:18:35.192171",
          "status": "completed"
        },
        "tags": [
          "hide-input"
        ]
      },
      "outputs": [],
      "source": [
        "from __future__ import annotations\n",
        "\n",
        "from typing import Callable, Dict, Optional, Tuple, Union\n",
        "\n",
        "import jax\n",
        "import jax.numpy as jnp\n",
        "from sax.nn.utils import denormalize, normalize\n",
        "from sax.typing_ import Array, ComplexFloat"
      ]
    },
    {
      "cell_type": "markdown",
      "id": "62e24e7ca5e3632b",
      "metadata": {},
      "source": [
        ":::{eval-rst}\n",
        ".. autofunction:: sax.nn.core.preprocess\n",
        ":::\n"
      ]
    },
    {
      "cell_type": "code",
      "execution_count": 4,
      "id": "9d485829cd1f5866",
      "metadata": {
        "execution": {
          "iopub.execute_input": "2022-08-16T04:18:36.298252Z",
          "iopub.status.busy": "2022-08-16T04:18:36.297388Z",
          "iopub.status.idle": "2022-08-16T04:18:36.298819Z",
          "shell.execute_reply": "2022-08-16T04:18:36.299145Z"
        },
        "papermill": {
          "duration": 0.011044,
          "end_time": "2022-08-16T04:18:36.299251",
          "exception": false,
          "start_time": "2022-08-16T04:18:36.288207",
          "status": "completed"
        },
        "tags": [
          "hide-input"
        ]
      },
      "outputs": [],
      "source": [
        "def preprocess(*params: ComplexFloat) -> ComplexFloat:\n",
        "    \"\"\"preprocess parameters\n",
        "\n",
        "    > Note: (1) all arguments are first casted into the same shape. (2) then pairs \n",
        "      of arguments are divided into each other to create relative arguments. (3) all \n",
        "      arguments are then stacked into one big tensor\n",
        "    \"\"\"\n",
        "    x = jnp.stack(jnp.broadcast_arrays(*params), -1)\n",
        "    assert isinstance(x, jnp.ndarray)\n",
        "    to_concatenate = [x]\n",
        "    for i in range(1, x.shape[-1]):\n",
        "        _x = jnp.roll(x, shift=i, axis=-1)\n",
        "        to_concatenate.append(x / _x)\n",
        "        to_concatenate.append(_x / x)\n",
        "    x = jnp.concatenate(to_concatenate, -1)\n",
        "    assert isinstance(x, jnp.ndarray)\n",
        "    return x"
      ]
    },
    {
      "cell_type": "markdown",
      "id": "b4e170dba99b4a42",
      "metadata": {},
      "source": [
        ":::{eval-rst}\n",
        ".. autofunction:: sax.nn.core.dense\n",
        ":::\n"
      ]
    },
    {
      "cell_type": "code",
      "execution_count": 5,
      "id": "4bfffd76cfdf5fc4",
      "metadata": {
        "execution": {
          "iopub.execute_input": "2022-08-16T04:18:36.312288Z",
          "iopub.status.busy": "2022-08-16T04:18:36.311523Z",
          "iopub.status.idle": "2022-08-16T04:18:36.313281Z",
          "shell.execute_reply": "2022-08-16T04:18:36.312947Z"
        },
        "papermill": {
          "duration": 0.010361,
          "end_time": "2022-08-16T04:18:36.313371",
          "exception": false,
          "start_time": "2022-08-16T04:18:36.303010",
          "status": "completed"
        },
        "tags": [
          "hide-input"
        ]
      },
      "outputs": [],
      "source": [
        "def dense(\n",
        "    weights: Dict[str, Array],\n",
        "    *params: ComplexFloat,\n",
        "    x_norm: Tuple[float, float] = (0.0, 1.0),\n",
        "    y_norm: Tuple[float, float] = (0.0, 1.0),\n",
        "    preprocess: Callable = preprocess,\n",
        "    activation: Callable = jax.nn.leaky_relu,\n",
        ") -> ComplexFloat:\n",
        "    \"\"\"simple dense neural network\"\"\"\n",
        "    x_mean, x_std = x_norm\n",
        "    y_mean, y_std = y_norm\n",
        "    x = preprocess(*params)\n",
        "    x = normalize(x, mean=x_mean, std=x_std)\n",
        "    for i in range(len([w for w in weights if w.startswith(\"w\")])):\n",
        "        x = activation(x @ weights[f\"w{i}\"] + weights.get(f\"b{i}\", 0.0))\n",
        "    y = denormalize(x, mean=y_mean, std=y_std)\n",
        "    return y"
      ]
    },
    {
      "cell_type": "markdown",
      "id": "c8861f0ccbd1d255",
      "metadata": {},
      "source": [
        ":::{eval-rst}\n",
        ".. autofunction:: sax.nn.core.generate_dense_weights\n",
        ":::\n"
      ]
    },
    {
      "cell_type": "code",
      "execution_count": 6,
      "id": "c1583e379074ead0",
      "metadata": {
        "execution": {
          "iopub.execute_input": "2022-08-16T04:18:36.327499Z",
          "iopub.status.busy": "2022-08-16T04:18:36.327070Z",
          "iopub.status.idle": "2022-08-16T04:18:36.328883Z",
          "shell.execute_reply": "2022-08-16T04:18:36.328547Z"
        },
        "papermill": {
          "duration": 0.011769,
          "end_time": "2022-08-16T04:18:36.328972",
          "exception": false,
          "start_time": "2022-08-16T04:18:36.317203",
          "status": "completed"
        },
        "tags": [
          "hide-input"
        ]
      },
      "outputs": [],
      "source": [
        "def generate_dense_weights(\n",
        "    key: Union[int, Array],\n",
        "    sizes: Tuple[int, ...],\n",
        "    input_names: Optional[Tuple[str, ...]] = None,\n",
        "    output_names: Optional[Tuple[str, ...]] = None,\n",
        "    preprocess=preprocess,\n",
        ") -> Dict[str, ComplexFloat]:\n",
        "    \"\"\"Generate the weights for a dense neural network\"\"\"\n",
        "\n",
        "    if isinstance(key, int):\n",
        "        key = jax.random.PRNGKey(key)\n",
        "    assert isinstance(key, jnp.ndarray)\n",
        "\n",
        "    sizes = tuple(s for s in sizes)\n",
        "    if input_names:\n",
        "        arr = preprocess(*jnp.ones(len(input_names)))\n",
        "        assert isinstance(arr, jnp.ndarray)\n",
        "        sizes = (arr.shape[-1],) + sizes\n",
        "    if output_names:\n",
        "        sizes = sizes + (len(output_names),)\n",
        "\n",
        "    keys = jax.random.split(key, 2 * len(sizes))\n",
        "    rand = jax.nn.initializers.lecun_normal()\n",
        "    weights = {}\n",
        "    for i, (m, n) in enumerate(zip(sizes[:-1], sizes[1:])):\n",
        "        weights[f\"w{i}\"] = rand(keys[2 * i], (m, n))\n",
        "        weights[f\"b{i}\"] = rand(keys[2 * i + 1], (1, n)).ravel()\n",
        "\n",
        "    return weights"
      ]
    }
  ],
  "metadata": {
    "kernelspec": {
      "display_name": "sax",
      "language": "python",
      "name": "sax"
    },
    "language_info": {
      "codemirror_mode": {
        "name": "ipython",
        "version": 3
      },
      "file_extension": ".py",
      "mimetype": "text/x-python",
      "name": "python",
      "nbconvert_exporter": "python",
      "pygments_lexer": "ipython3",
      "version": "3.9.0"
    },
    "papermill": {
      "default_parameters": {},
      "duration": 4.368948,
      "end_time": "2022-08-16T04:18:37.710499",
      "environment_variables": {},
      "exception": null,
      "input_path": "./nbs/09c_nn_core.ipynb",
      "output_path": "./nbs/09c_nn_core.ipynb",
      "parameters": {},
      "start_time": "2022-08-16T04:18:33.341551",
      "version": "2.3.4"
    }
  },
  "nbformat": 4,
  "nbformat_minor": 5
}
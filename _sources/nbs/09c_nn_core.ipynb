{
  "cells": [
    {
      "cell_type": "code",
      "execution_count": 1,
      "id": "8882ee55ef0c7425",
      "metadata": {
        "execution": {
          "iopub.execute_input": "2022-08-10T14:57:43.988269Z",
          "iopub.status.busy": "2022-08-10T14:57:43.987826Z",
          "iopub.status.idle": "2022-08-10T14:57:43.990253Z",
          "shell.execute_reply": "2022-08-10T14:57:43.989840Z"
        },
        "papermill": {
          "duration": 0.011273,
          "end_time": "2022-08-10T14:57:43.990352",
          "exception": false,
          "start_time": "2022-08-10T14:57:43.979079",
          "status": "completed"
        },
        "tags": [
          "remove-cell"
        ]
      },
      "outputs": [],
      "source": []
    },
    {
      "cell_type": "markdown",
      "id": "ad9dbb7f",
      "metadata": {
        "papermill": {
          "duration": 0.004229,
          "end_time": "2022-08-10T14:57:43.999219",
          "exception": false,
          "start_time": "2022-08-10T14:57:43.994990",
          "status": "completed"
        },
        "tags": []
      },
      "source": [
        "# NN - Core\n",
        "\n",
        "> Core for SAX neural networks"
      ]
    },
    {
      "cell_type": "code",
      "execution_count": 2,
      "id": "5450b8c2d7595d09",
      "metadata": {
        "execution": {
          "iopub.execute_input": "2022-08-10T14:57:44.009105Z",
          "iopub.status.busy": "2022-08-10T14:57:44.008703Z",
          "iopub.status.idle": "2022-08-10T14:57:44.689096Z",
          "shell.execute_reply": "2022-08-10T14:57:44.688724Z"
        },
        "papermill": {
          "duration": 0.685881,
          "end_time": "2022-08-10T14:57:44.689205",
          "exception": false,
          "start_time": "2022-08-10T14:57:44.003324",
          "status": "completed"
        },
        "tags": [
          "remove-cell"
        ]
      },
      "outputs": [],
      "source": [
        "import matplotlib.pyplot as plt\n",
        "from fastcore.test import test_eq\n",
        "from pytest import approx, raises\n",
        "\n",
        "import os, sys; sys.stderr = open(os.devnull, \"w\")"
      ]
    },
    {
      "cell_type": "code",
      "execution_count": 3,
      "id": "1c82972e890aeeb6",
      "metadata": {
        "execution": {
          "iopub.execute_input": "2022-08-10T14:57:44.702119Z",
          "iopub.status.busy": "2022-08-10T14:57:44.701704Z",
          "iopub.status.idle": "2022-08-10T14:57:45.653800Z",
          "shell.execute_reply": "2022-08-10T14:57:45.652582Z"
        },
        "papermill": {
          "duration": 0.960177,
          "end_time": "2022-08-10T14:57:45.653915",
          "exception": false,
          "start_time": "2022-08-10T14:57:44.693738",
          "status": "completed"
        },
        "tags": [
          "hide-input"
        ]
      },
      "outputs": [],
      "source": [
        "from __future__ import annotations\n",
        "\n",
        "from typing import Callable, Dict, Optional, Tuple, Union\n",
        "\n",
        "import jax\n",
        "import jax.numpy as jnp\n",
        "from sax.nn.utils import denormalize, normalize\n",
        "from sax.typing_ import Array, ComplexFloat"
      ]
    },
    {
      "cell_type": "markdown",
      "id": "b0ceaf1ca541fc09",
      "metadata": {},
      "source": [
        ":::{eval-rst}\n",
        ".. autofunction:: sax.nn.core.preprocess\n",
        ":::\n"
      ]
    },
    {
      "cell_type": "code",
      "execution_count": 4,
      "id": "7281ed88ea96fc9b",
      "metadata": {
        "execution": {
          "iopub.execute_input": "2022-08-10T14:57:45.668298Z",
          "iopub.status.busy": "2022-08-10T14:57:45.667522Z",
          "iopub.status.idle": "2022-08-10T14:57:45.668877Z",
          "shell.execute_reply": "2022-08-10T14:57:45.669190Z"
        },
        "papermill": {
          "duration": 0.010762,
          "end_time": "2022-08-10T14:57:45.669297",
          "exception": false,
          "start_time": "2022-08-10T14:57:45.658535",
          "status": "completed"
        },
        "tags": [
          "hide-input"
        ]
      },
      "outputs": [],
      "source": [
        "def preprocess(*params: ComplexFloat) -> ComplexFloat:\n",
        "    \"\"\"preprocess parameters\n",
        "\n",
        "    > Note: (1) all arguments are first casted into the same shape. (2) then pairs \n",
        "      of arguments are divided into each other to create relative arguments. (3) all \n",
        "      arguments are then stacked into one big tensor\n",
        "    \"\"\"\n",
        "    x = jnp.stack(jnp.broadcast_arrays(*params), -1)\n",
        "    assert isinstance(x, jnp.ndarray)\n",
        "    to_concatenate = [x]\n",
        "    for i in range(1, x.shape[-1]):\n",
        "        _x = jnp.roll(x, shift=i, axis=-1)\n",
        "        to_concatenate.append(x / _x)\n",
        "        to_concatenate.append(_x / x)\n",
        "    x = jnp.concatenate(to_concatenate, -1)\n",
        "    assert isinstance(x, jnp.ndarray)\n",
        "    return x"
      ]
    },
    {
      "cell_type": "markdown",
      "id": "cdfc2809bc3f2dd8",
      "metadata": {},
      "source": [
        ":::{eval-rst}\n",
        ".. autofunction:: sax.nn.core.dense\n",
        ":::\n"
      ]
    },
    {
      "cell_type": "code",
      "execution_count": 5,
      "id": "aba600582db707cd",
      "metadata": {
        "execution": {
          "iopub.execute_input": "2022-08-10T14:57:45.683336Z",
          "iopub.status.busy": "2022-08-10T14:57:45.682729Z",
          "iopub.status.idle": "2022-08-10T14:57:45.683796Z",
          "shell.execute_reply": "2022-08-10T14:57:45.684158Z"
        },
        "papermill": {
          "duration": 0.010576,
          "end_time": "2022-08-10T14:57:45.684257",
          "exception": false,
          "start_time": "2022-08-10T14:57:45.673681",
          "status": "completed"
        },
        "tags": [
          "hide-input"
        ]
      },
      "outputs": [],
      "source": [
        "def dense(\n",
        "    weights: Dict[str, Array],\n",
        "    *params: ComplexFloat,\n",
        "    x_norm: Tuple[float, float] = (0.0, 1.0),\n",
        "    y_norm: Tuple[float, float] = (0.0, 1.0),\n",
        "    preprocess: Callable = preprocess,\n",
        "    activation: Callable = jax.nn.leaky_relu,\n",
        ") -> ComplexFloat:\n",
        "    \"\"\"simple dense neural network\"\"\"\n",
        "    x_mean, x_std = x_norm\n",
        "    y_mean, y_std = y_norm\n",
        "    x = preprocess(*params)\n",
        "    x = normalize(x, mean=x_mean, std=x_std)\n",
        "    for i in range(len([w for w in weights if w.startswith(\"w\")])):\n",
        "        x = activation(x @ weights[f\"w{i}\"] + weights.get(f\"b{i}\", 0.0))\n",
        "    y = denormalize(x, mean=y_mean, std=y_std)\n",
        "    return y"
      ]
    },
    {
      "cell_type": "markdown",
      "id": "99ce8b8b01a8915a",
      "metadata": {},
      "source": [
        ":::{eval-rst}\n",
        ".. autofunction:: sax.nn.core.generate_dense_weights\n",
        ":::\n"
      ]
    },
    {
      "cell_type": "code",
      "execution_count": 6,
      "id": "b8b9023eb99d28db",
      "metadata": {
        "execution": {
          "iopub.execute_input": "2022-08-10T14:57:45.699523Z",
          "iopub.status.busy": "2022-08-10T14:57:45.694487Z",
          "iopub.status.idle": "2022-08-10T14:57:45.701683Z",
          "shell.execute_reply": "2022-08-10T14:57:45.701357Z"
        },
        "papermill": {
          "duration": 0.013066,
          "end_time": "2022-08-10T14:57:45.701772",
          "exception": false,
          "start_time": "2022-08-10T14:57:45.688706",
          "status": "completed"
        },
        "tags": [
          "hide-input"
        ]
      },
      "outputs": [],
      "source": [
        "def generate_dense_weights(\n",
        "    key: Union[int, Array],\n",
        "    sizes: Tuple[int, ...],\n",
        "    input_names: Optional[Tuple[str, ...]] = None,\n",
        "    output_names: Optional[Tuple[str, ...]] = None,\n",
        "    preprocess=preprocess,\n",
        ") -> Dict[str, ComplexFloat]:\n",
        "    \"\"\"Generate the weights for a dense neural network\"\"\"\n",
        "\n",
        "    if isinstance(key, int):\n",
        "        key = jax.random.PRNGKey(key)\n",
        "    assert isinstance(key, jnp.ndarray)\n",
        "\n",
        "    sizes = tuple(s for s in sizes)\n",
        "    if input_names:\n",
        "        arr = preprocess(*jnp.ones(len(input_names)))\n",
        "        assert isinstance(arr, jnp.ndarray)\n",
        "        sizes = (arr.shape[-1],) + sizes\n",
        "    if output_names:\n",
        "        sizes = sizes + (len(output_names),)\n",
        "\n",
        "    keys = jax.random.split(key, 2 * len(sizes))\n",
        "    rand = jax.nn.initializers.lecun_normal()\n",
        "    weights = {}\n",
        "    for i, (m, n) in enumerate(zip(sizes[:-1], sizes[1:])):\n",
        "        weights[f\"w{i}\"] = rand(keys[2 * i], (m, n))\n",
        "        weights[f\"b{i}\"] = rand(keys[2 * i + 1], (1, n)).ravel()\n",
        "\n",
        "    return weights"
      ]
    }
  ],
  "metadata": {
    "kernelspec": {
      "display_name": "sax",
      "language": "python",
      "name": "sax"
    },
    "language_info": {
      "codemirror_mode": {
        "name": "ipython",
        "version": 3
      },
      "file_extension": ".py",
      "mimetype": "text/x-python",
      "name": "python",
      "nbconvert_exporter": "python",
      "pygments_lexer": "ipython3",
      "version": "3.9.0"
    },
    "papermill": {
      "default_parameters": {},
      "duration": 3.150937,
      "end_time": "2022-08-10T14:57:46.011769",
      "environment_variables": {},
      "exception": null,
      "input_path": "./nbs/09c_nn_core.ipynb",
      "output_path": "./nbs/09c_nn_core.ipynb",
      "parameters": {},
      "start_time": "2022-08-10T14:57:42.860832",
      "version": "2.3.4"
    }
  },
  "nbformat": 4,
  "nbformat_minor": 5
}
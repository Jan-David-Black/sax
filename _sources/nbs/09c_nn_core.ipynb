{
  "cells": [
    {
      "cell_type": "code",
      "execution_count": 1,
      "id": "73ca871f37728ef7",
      "metadata": {
        "execution": {
          "iopub.execute_input": "2022-08-04T04:32:32.863549Z",
          "iopub.status.busy": "2022-08-04T04:32:32.863095Z",
          "iopub.status.idle": "2022-08-04T04:32:32.866919Z",
          "shell.execute_reply": "2022-08-04T04:32:32.867248Z"
        },
        "papermill": {
          "duration": 0.0146,
          "end_time": "2022-08-04T04:32:32.867453",
          "exception": false,
          "start_time": "2022-08-04T04:32:32.852853",
          "status": "completed"
        },
        "tags": [
          "remove-cell"
        ]
      },
      "outputs": [],
      "source": []
    },
    {
      "cell_type": "markdown",
      "id": "ad9dbb7f",
      "metadata": {
        "papermill": {
          "duration": 0.00432,
          "end_time": "2022-08-04T04:32:32.876494",
          "exception": false,
          "start_time": "2022-08-04T04:32:32.872174",
          "status": "completed"
        },
        "tags": []
      },
      "source": [
        "# NN - Core\n",
        "\n",
        "> Core for SAX neural networks"
      ]
    },
    {
      "cell_type": "code",
      "execution_count": 2,
      "id": "4bf72cea110f8a6b",
      "metadata": {
        "execution": {
          "iopub.execute_input": "2022-08-04T04:32:32.892384Z",
          "iopub.status.busy": "2022-08-04T04:32:32.891942Z",
          "iopub.status.idle": "2022-08-04T04:32:33.601439Z",
          "shell.execute_reply": "2022-08-04T04:32:33.600927Z"
        },
        "papermill": {
          "duration": 0.721022,
          "end_time": "2022-08-04T04:32:33.601577",
          "exception": false,
          "start_time": "2022-08-04T04:32:32.880555",
          "status": "completed"
        },
        "tags": [
          "remove-cell"
        ]
      },
      "outputs": [],
      "source": [
        "import matplotlib.pyplot as plt\n",
        "from fastcore.test import test_eq\n",
        "from pytest import approx, raises\n",
        "\n",
        "import os, sys; sys.stderr = open(os.devnull, \"w\")"
      ]
    },
    {
      "cell_type": "code",
      "execution_count": 3,
      "id": "94b8dcb3268126b5",
      "metadata": {
        "execution": {
          "iopub.execute_input": "2022-08-04T04:32:33.615220Z",
          "iopub.status.busy": "2022-08-04T04:32:33.614751Z",
          "iopub.status.idle": "2022-08-04T04:32:34.741470Z",
          "shell.execute_reply": "2022-08-04T04:32:34.740963Z"
        },
        "papermill": {
          "duration": 1.135363,
          "end_time": "2022-08-04T04:32:34.741607",
          "exception": false,
          "start_time": "2022-08-04T04:32:33.606244",
          "status": "completed"
        },
        "tags": [
          "hide-input"
        ]
      },
      "outputs": [],
      "source": [
        "from __future__ import annotations\n",
        "\n",
        "from typing import Callable, Dict, Optional, Tuple, Union\n",
        "\n",
        "import jax\n",
        "import jax.numpy as jnp\n",
        "from sax.nn.utils import denormalize, normalize\n",
        "from sax.typing_ import Array, ComplexFloat"
      ]
    },
    {
      "cell_type": "markdown",
      "id": "a36f9f0e76439dbe",
      "metadata": {},
      "source": [
        ":::{eval-rst}\n",
        ".. autofunction:: sax.nn.core.preprocess\n",
        ":::\n"
      ]
    },
    {
      "cell_type": "code",
      "execution_count": 4,
      "id": "e521623ee5298b76",
      "metadata": {
        "execution": {
          "iopub.execute_input": "2022-08-04T04:32:34.756392Z",
          "iopub.status.busy": "2022-08-04T04:32:34.753181Z",
          "iopub.status.idle": "2022-08-04T04:32:34.757771Z",
          "shell.execute_reply": "2022-08-04T04:32:34.758090Z"
        },
        "papermill": {
          "duration": 0.011965,
          "end_time": "2022-08-04T04:32:34.758224",
          "exception": false,
          "start_time": "2022-08-04T04:32:34.746259",
          "status": "completed"
        },
        "tags": [
          "hide-input"
        ]
      },
      "outputs": [],
      "source": [
        "def preprocess(*params: ComplexFloat) -> ComplexFloat:\n",
        "    \"\"\"preprocess parameters\n",
        "\n",
        "    > Note: (1) all arguments are first casted into the same shape. (2) then pairs \n",
        "      of arguments are divided into each other to create relative arguments. (3) all \n",
        "      arguments are then stacked into one big tensor\n",
        "    \"\"\"\n",
        "    x = jnp.stack(jnp.broadcast_arrays(*params), -1)\n",
        "    assert isinstance(x, jnp.ndarray)\n",
        "    to_concatenate = [x]\n",
        "    for i in range(1, x.shape[-1]):\n",
        "        _x = jnp.roll(x, shift=i, axis=-1)\n",
        "        to_concatenate.append(x / _x)\n",
        "        to_concatenate.append(_x / x)\n",
        "    x = jnp.concatenate(to_concatenate, -1)\n",
        "    assert isinstance(x, jnp.ndarray)\n",
        "    return x"
      ]
    },
    {
      "cell_type": "markdown",
      "id": "d9b5d7f142240380",
      "metadata": {},
      "source": [
        ":::{eval-rst}\n",
        ".. autofunction:: sax.nn.core.dense\n",
        ":::\n"
      ]
    },
    {
      "cell_type": "code",
      "execution_count": 5,
      "id": "f36ba6878c0af4c0",
      "metadata": {
        "execution": {
          "iopub.execute_input": "2022-08-04T04:32:34.772512Z",
          "iopub.status.busy": "2022-08-04T04:32:34.772058Z",
          "iopub.status.idle": "2022-08-04T04:32:34.773480Z",
          "shell.execute_reply": "2022-08-04T04:32:34.773794Z"
        },
        "papermill": {
          "duration": 0.01134,
          "end_time": "2022-08-04T04:32:34.773919",
          "exception": false,
          "start_time": "2022-08-04T04:32:34.762579",
          "status": "completed"
        },
        "tags": [
          "hide-input"
        ]
      },
      "outputs": [],
      "source": [
        "def dense(\n",
        "    weights: Dict[str, Array],\n",
        "    *params: ComplexFloat,\n",
        "    x_norm: Tuple[float, float] = (0.0, 1.0),\n",
        "    y_norm: Tuple[float, float] = (0.0, 1.0),\n",
        "    preprocess: Callable = preprocess,\n",
        "    activation: Callable = jax.nn.leaky_relu,\n",
        ") -> ComplexFloat:\n",
        "    \"\"\"simple dense neural network\"\"\"\n",
        "    x_mean, x_std = x_norm\n",
        "    y_mean, y_std = y_norm\n",
        "    x = preprocess(*params)\n",
        "    x = normalize(x, mean=x_mean, std=x_std)\n",
        "    for i in range(len([w for w in weights if w.startswith(\"w\")])):\n",
        "        x = activation(x @ weights[f\"w{i}\"] + weights.get(f\"b{i}\", 0.0))\n",
        "    y = denormalize(x, mean=y_mean, std=y_std)\n",
        "    return y"
      ]
    },
    {
      "cell_type": "markdown",
      "id": "3da243967b8b2bba",
      "metadata": {},
      "source": [
        ":::{eval-rst}\n",
        ".. autofunction:: sax.nn.core.generate_dense_weights\n",
        ":::\n"
      ]
    },
    {
      "cell_type": "code",
      "execution_count": 6,
      "id": "be612cfc76f3b454",
      "metadata": {
        "execution": {
          "iopub.execute_input": "2022-08-04T04:32:34.789521Z",
          "iopub.status.busy": "2022-08-04T04:32:34.789047Z",
          "iopub.status.idle": "2022-08-04T04:32:34.791432Z",
          "shell.execute_reply": "2022-08-04T04:32:34.791090Z"
        },
        "papermill": {
          "duration": 0.013191,
          "end_time": "2022-08-04T04:32:34.791530",
          "exception": false,
          "start_time": "2022-08-04T04:32:34.778339",
          "status": "completed"
        },
        "tags": [
          "hide-input"
        ]
      },
      "outputs": [],
      "source": [
        "def generate_dense_weights(\n",
        "    key: Union[int, Array],\n",
        "    sizes: Tuple[int, ...],\n",
        "    input_names: Optional[Tuple[str, ...]] = None,\n",
        "    output_names: Optional[Tuple[str, ...]] = None,\n",
        "    preprocess=preprocess,\n",
        ") -> Dict[str, ComplexFloat]:\n",
        "    \"\"\"Generate the weights for a dense neural network\"\"\"\n",
        "\n",
        "    if isinstance(key, int):\n",
        "        key = jax.random.PRNGKey(key)\n",
        "    assert isinstance(key, jnp.ndarray)\n",
        "\n",
        "    sizes = tuple(s for s in sizes)\n",
        "    if input_names:\n",
        "        arr = preprocess(*jnp.ones(len(input_names)))\n",
        "        assert isinstance(arr, jnp.ndarray)\n",
        "        sizes = (arr.shape[-1],) + sizes\n",
        "    if output_names:\n",
        "        sizes = sizes + (len(output_names),)\n",
        "\n",
        "    keys = jax.random.split(key, 2 * len(sizes))\n",
        "    rand = jax.nn.initializers.lecun_normal()\n",
        "    weights = {}\n",
        "    for i, (m, n) in enumerate(zip(sizes[:-1], sizes[1:])):\n",
        "        weights[f\"w{i}\"] = rand(keys[2 * i], (m, n))\n",
        "        weights[f\"b{i}\"] = rand(keys[2 * i + 1], (1, n)).ravel()\n",
        "\n",
        "    return weights"
      ]
    }
  ],
  "metadata": {
    "kernelspec": {
      "display_name": "sax",
      "language": "python",
      "name": "sax"
    },
    "language_info": {
      "codemirror_mode": {
        "name": "ipython",
        "version": 3
      },
      "file_extension": ".py",
      "mimetype": "text/x-python",
      "name": "python",
      "nbconvert_exporter": "python",
      "pygments_lexer": "ipython3",
      "version": "3.9.0"
    },
    "papermill": {
      "default_parameters": {},
      "duration": 4.372776,
      "end_time": "2022-08-04T04:32:36.091183",
      "environment_variables": {},
      "exception": null,
      "input_path": "./nbs/09c_nn_core.ipynb",
      "output_path": "./nbs/09c_nn_core.ipynb",
      "parameters": {},
      "start_time": "2022-08-04T04:32:31.718407",
      "version": "2.3.4"
    }
  },
  "nbformat": 4,
  "nbformat_minor": 5
}
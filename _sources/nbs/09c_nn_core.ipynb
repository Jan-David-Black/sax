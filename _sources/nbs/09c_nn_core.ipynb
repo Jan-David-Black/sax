{
  "cells": [
    {
      "cell_type": "code",
      "execution_count": 1,
      "id": "25f4dfd9856e8de4",
      "metadata": {
        "execution": {
          "iopub.execute_input": "2022-08-07T05:30:24.930909Z",
          "iopub.status.busy": "2022-08-07T05:30:24.929749Z",
          "iopub.status.idle": "2022-08-07T05:30:24.934168Z",
          "shell.execute_reply": "2022-08-07T05:30:24.933712Z"
        },
        "papermill": {
          "duration": 0.012606,
          "end_time": "2022-08-07T05:30:24.934295",
          "exception": false,
          "start_time": "2022-08-07T05:30:24.921689",
          "status": "completed"
        },
        "tags": [
          "remove-cell"
        ]
      },
      "outputs": [],
      "source": []
    },
    {
      "cell_type": "markdown",
      "id": "ad9dbb7f",
      "metadata": {
        "papermill": {
          "duration": 0.004461,
          "end_time": "2022-08-07T05:30:24.943408",
          "exception": false,
          "start_time": "2022-08-07T05:30:24.938947",
          "status": "completed"
        },
        "tags": []
      },
      "source": [
        "# NN - Core\n",
        "\n",
        "> Core for SAX neural networks"
      ]
    },
    {
      "cell_type": "code",
      "execution_count": 2,
      "id": "4afe1b794843a1b3",
      "metadata": {
        "execution": {
          "iopub.execute_input": "2022-08-07T05:30:24.959275Z",
          "iopub.status.busy": "2022-08-07T05:30:24.958458Z",
          "iopub.status.idle": "2022-08-07T05:30:25.648732Z",
          "shell.execute_reply": "2022-08-07T05:30:25.647864Z"
        },
        "papermill": {
          "duration": 0.701493,
          "end_time": "2022-08-07T05:30:25.648869",
          "exception": false,
          "start_time": "2022-08-07T05:30:24.947376",
          "status": "completed"
        },
        "tags": [
          "remove-cell"
        ]
      },
      "outputs": [],
      "source": [
        "import matplotlib.pyplot as plt\n",
        "from fastcore.test import test_eq\n",
        "from pytest import approx, raises\n",
        "\n",
        "import os, sys; sys.stderr = open(os.devnull, \"w\")"
      ]
    },
    {
      "cell_type": "code",
      "execution_count": 3,
      "id": "b80a45331aa3fbea",
      "metadata": {
        "execution": {
          "iopub.execute_input": "2022-08-07T05:30:25.665498Z",
          "iopub.status.busy": "2022-08-07T05:30:25.665045Z",
          "iopub.status.idle": "2022-08-07T05:30:26.717702Z",
          "shell.execute_reply": "2022-08-07T05:30:26.716891Z"
        },
        "papermill": {
          "duration": 1.064493,
          "end_time": "2022-08-07T05:30:26.717837",
          "exception": false,
          "start_time": "2022-08-07T05:30:25.653344",
          "status": "completed"
        },
        "tags": [
          "hide-input"
        ]
      },
      "outputs": [],
      "source": [
        "from __future__ import annotations\n",
        "\n",
        "from typing import Callable, Dict, Optional, Tuple, Union\n",
        "\n",
        "import jax\n",
        "import jax.numpy as jnp\n",
        "from sax.nn.utils import denormalize, normalize\n",
        "from sax.typing_ import Array, ComplexFloat"
      ]
    },
    {
      "cell_type": "markdown",
      "id": "f94cfbe63607b702",
      "metadata": {},
      "source": [
        ":::{eval-rst}\n",
        ".. autofunction:: sax.nn.core.preprocess\n",
        ":::\n"
      ]
    },
    {
      "cell_type": "code",
      "execution_count": 4,
      "id": "74f2b1a721396bbd",
      "metadata": {
        "execution": {
          "iopub.execute_input": "2022-08-07T05:30:26.733918Z",
          "iopub.status.busy": "2022-08-07T05:30:26.732966Z",
          "iopub.status.idle": "2022-08-07T05:30:26.734435Z",
          "shell.execute_reply": "2022-08-07T05:30:26.734776Z"
        },
        "papermill": {
          "duration": 0.011813,
          "end_time": "2022-08-07T05:30:26.734891",
          "exception": false,
          "start_time": "2022-08-07T05:30:26.723078",
          "status": "completed"
        },
        "tags": [
          "hide-input"
        ]
      },
      "outputs": [],
      "source": [
        "def preprocess(*params: ComplexFloat) -> ComplexFloat:\n",
        "    \"\"\"preprocess parameters\n",
        "\n",
        "    > Note: (1) all arguments are first casted into the same shape. (2) then pairs \n",
        "      of arguments are divided into each other to create relative arguments. (3) all \n",
        "      arguments are then stacked into one big tensor\n",
        "    \"\"\"\n",
        "    x = jnp.stack(jnp.broadcast_arrays(*params), -1)\n",
        "    assert isinstance(x, jnp.ndarray)\n",
        "    to_concatenate = [x]\n",
        "    for i in range(1, x.shape[-1]):\n",
        "        _x = jnp.roll(x, shift=i, axis=-1)\n",
        "        to_concatenate.append(x / _x)\n",
        "        to_concatenate.append(_x / x)\n",
        "    x = jnp.concatenate(to_concatenate, -1)\n",
        "    assert isinstance(x, jnp.ndarray)\n",
        "    return x"
      ]
    },
    {
      "cell_type": "markdown",
      "id": "dc07c69c44edae59",
      "metadata": {},
      "source": [
        ":::{eval-rst}\n",
        ".. autofunction:: sax.nn.core.dense\n",
        ":::\n"
      ]
    },
    {
      "cell_type": "code",
      "execution_count": 5,
      "id": "39f28c38eac7329e",
      "metadata": {
        "execution": {
          "iopub.execute_input": "2022-08-07T05:30:26.749184Z",
          "iopub.status.busy": "2022-08-07T05:30:26.748182Z",
          "iopub.status.idle": "2022-08-07T05:30:26.749669Z",
          "shell.execute_reply": "2022-08-07T05:30:26.750000Z"
        },
        "papermill": {
          "duration": 0.011026,
          "end_time": "2022-08-07T05:30:26.750103",
          "exception": false,
          "start_time": "2022-08-07T05:30:26.739077",
          "status": "completed"
        },
        "tags": [
          "hide-input"
        ]
      },
      "outputs": [],
      "source": [
        "def dense(\n",
        "    weights: Dict[str, Array],\n",
        "    *params: ComplexFloat,\n",
        "    x_norm: Tuple[float, float] = (0.0, 1.0),\n",
        "    y_norm: Tuple[float, float] = (0.0, 1.0),\n",
        "    preprocess: Callable = preprocess,\n",
        "    activation: Callable = jax.nn.leaky_relu,\n",
        ") -> ComplexFloat:\n",
        "    \"\"\"simple dense neural network\"\"\"\n",
        "    x_mean, x_std = x_norm\n",
        "    y_mean, y_std = y_norm\n",
        "    x = preprocess(*params)\n",
        "    x = normalize(x, mean=x_mean, std=x_std)\n",
        "    for i in range(len([w for w in weights if w.startswith(\"w\")])):\n",
        "        x = activation(x @ weights[f\"w{i}\"] + weights.get(f\"b{i}\", 0.0))\n",
        "    y = denormalize(x, mean=y_mean, std=y_std)\n",
        "    return y"
      ]
    },
    {
      "cell_type": "markdown",
      "id": "9346f311d0b33606",
      "metadata": {},
      "source": [
        ":::{eval-rst}\n",
        ".. autofunction:: sax.nn.core.generate_dense_weights\n",
        ":::\n"
      ]
    },
    {
      "cell_type": "code",
      "execution_count": 6,
      "id": "7750fdd66f200e06",
      "metadata": {
        "execution": {
          "iopub.execute_input": "2022-08-07T05:30:26.765217Z",
          "iopub.status.busy": "2022-08-07T05:30:26.764767Z",
          "iopub.status.idle": "2022-08-07T05:30:26.767440Z",
          "shell.execute_reply": "2022-08-07T05:30:26.767097Z"
        },
        "papermill": {
          "duration": 0.01314,
          "end_time": "2022-08-07T05:30:26.767530",
          "exception": false,
          "start_time": "2022-08-07T05:30:26.754390",
          "status": "completed"
        },
        "tags": [
          "hide-input"
        ]
      },
      "outputs": [],
      "source": [
        "def generate_dense_weights(\n",
        "    key: Union[int, Array],\n",
        "    sizes: Tuple[int, ...],\n",
        "    input_names: Optional[Tuple[str, ...]] = None,\n",
        "    output_names: Optional[Tuple[str, ...]] = None,\n",
        "    preprocess=preprocess,\n",
        ") -> Dict[str, ComplexFloat]:\n",
        "    \"\"\"Generate the weights for a dense neural network\"\"\"\n",
        "\n",
        "    if isinstance(key, int):\n",
        "        key = jax.random.PRNGKey(key)\n",
        "    assert isinstance(key, jnp.ndarray)\n",
        "\n",
        "    sizes = tuple(s for s in sizes)\n",
        "    if input_names:\n",
        "        arr = preprocess(*jnp.ones(len(input_names)))\n",
        "        assert isinstance(arr, jnp.ndarray)\n",
        "        sizes = (arr.shape[-1],) + sizes\n",
        "    if output_names:\n",
        "        sizes = sizes + (len(output_names),)\n",
        "\n",
        "    keys = jax.random.split(key, 2 * len(sizes))\n",
        "    rand = jax.nn.initializers.lecun_normal()\n",
        "    weights = {}\n",
        "    for i, (m, n) in enumerate(zip(sizes[:-1], sizes[1:])):\n",
        "        weights[f\"w{i}\"] = rand(keys[2 * i], (m, n))\n",
        "        weights[f\"b{i}\"] = rand(keys[2 * i + 1], (1, n)).ravel()\n",
        "\n",
        "    return weights"
      ]
    }
  ],
  "metadata": {
    "kernelspec": {
      "display_name": "sax",
      "language": "python",
      "name": "sax"
    },
    "language_info": {
      "codemirror_mode": {
        "name": "ipython",
        "version": 3
      },
      "file_extension": ".py",
      "mimetype": "text/x-python",
      "name": "python",
      "nbconvert_exporter": "python",
      "pygments_lexer": "ipython3",
      "version": "3.9.0"
    },
    "papermill": {
      "default_parameters": {},
      "duration": 4.372537,
      "end_time": "2022-08-07T05:30:28.160763",
      "environment_variables": {},
      "exception": null,
      "input_path": "./nbs/09c_nn_core.ipynb",
      "output_path": "./nbs/09c_nn_core.ipynb",
      "parameters": {},
      "start_time": "2022-08-07T05:30:23.788226",
      "version": "2.3.4"
    }
  },
  "nbformat": 4,
  "nbformat_minor": 5
}
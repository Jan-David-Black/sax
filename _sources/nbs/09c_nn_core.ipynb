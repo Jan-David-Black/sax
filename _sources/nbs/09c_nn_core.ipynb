{
  "cells": [
    {
      "cell_type": "code",
      "execution_count": 1,
      "id": "2d64e15bb9efe2df",
      "metadata": {
        "execution": {
          "iopub.execute_input": "2022-08-04T05:48:27.521098Z",
          "iopub.status.busy": "2022-08-04T05:48:27.520434Z",
          "iopub.status.idle": "2022-08-04T05:48:27.525468Z",
          "shell.execute_reply": "2022-08-04T05:48:27.525949Z"
        },
        "papermill": {
          "duration": 0.016637,
          "end_time": "2022-08-04T05:48:27.526186",
          "exception": false,
          "start_time": "2022-08-04T05:48:27.509549",
          "status": "completed"
        },
        "tags": [
          "remove-cell"
        ]
      },
      "outputs": [],
      "source": []
    },
    {
      "cell_type": "markdown",
      "id": "ad9dbb7f",
      "metadata": {
        "papermill": {
          "duration": 0.005366,
          "end_time": "2022-08-04T05:48:27.537551",
          "exception": false,
          "start_time": "2022-08-04T05:48:27.532185",
          "status": "completed"
        },
        "tags": []
      },
      "source": [
        "# NN - Core\n",
        "\n",
        "> Core for SAX neural networks"
      ]
    },
    {
      "cell_type": "code",
      "execution_count": 2,
      "id": "af3bccfd83f15345",
      "metadata": {
        "execution": {
          "iopub.execute_input": "2022-08-04T05:48:27.551103Z",
          "iopub.status.busy": "2022-08-04T05:48:27.550393Z",
          "iopub.status.idle": "2022-08-04T05:48:28.372883Z",
          "shell.execute_reply": "2022-08-04T05:48:28.373371Z"
        },
        "papermill": {
          "duration": 0.830738,
          "end_time": "2022-08-04T05:48:28.373546",
          "exception": false,
          "start_time": "2022-08-04T05:48:27.542808",
          "status": "completed"
        },
        "tags": [
          "remove-cell"
        ]
      },
      "outputs": [],
      "source": [
        "import matplotlib.pyplot as plt\n",
        "from fastcore.test import test_eq\n",
        "from pytest import approx, raises\n",
        "\n",
        "import os, sys; sys.stderr = open(os.devnull, \"w\")"
      ]
    },
    {
      "cell_type": "code",
      "execution_count": 3,
      "id": "82246a90c9602c01",
      "metadata": {
        "execution": {
          "iopub.execute_input": "2022-08-04T05:48:28.391595Z",
          "iopub.status.busy": "2022-08-04T05:48:28.390975Z",
          "iopub.status.idle": "2022-08-04T05:48:29.631130Z",
          "shell.execute_reply": "2022-08-04T05:48:29.630464Z"
        },
        "papermill": {
          "duration": 1.251279,
          "end_time": "2022-08-04T05:48:29.631315",
          "exception": false,
          "start_time": "2022-08-04T05:48:28.380036",
          "status": "completed"
        },
        "tags": [
          "hide-input"
        ]
      },
      "outputs": [],
      "source": [
        "from __future__ import annotations\n",
        "\n",
        "from typing import Callable, Dict, Optional, Tuple, Union\n",
        "\n",
        "import jax\n",
        "import jax.numpy as jnp\n",
        "from sax.nn.utils import denormalize, normalize\n",
        "from sax.typing_ import Array, ComplexFloat"
      ]
    },
    {
      "cell_type": "markdown",
      "id": "524dd43432607944",
      "metadata": {},
      "source": [
        ":::{eval-rst}\n",
        ".. autofunction:: sax.nn.core.preprocess\n",
        ":::\n"
      ]
    },
    {
      "cell_type": "code",
      "execution_count": 4,
      "id": "badd41c62cd51c95",
      "metadata": {
        "execution": {
          "iopub.execute_input": "2022-08-04T05:48:29.655465Z",
          "iopub.status.busy": "2022-08-04T05:48:29.654920Z",
          "iopub.status.idle": "2022-08-04T05:48:29.656839Z",
          "shell.execute_reply": "2022-08-04T05:48:29.656432Z"
        },
        "papermill": {
          "duration": 0.019746,
          "end_time": "2022-08-04T05:48:29.656957",
          "exception": false,
          "start_time": "2022-08-04T05:48:29.637211",
          "status": "completed"
        },
        "tags": [
          "hide-input"
        ]
      },
      "outputs": [],
      "source": [
        "def preprocess(*params: ComplexFloat) -> ComplexFloat:\n",
        "    \"\"\"preprocess parameters\n",
        "\n",
        "    > Note: (1) all arguments are first casted into the same shape. (2) then pairs \n",
        "      of arguments are divided into each other to create relative arguments. (3) all \n",
        "      arguments are then stacked into one big tensor\n",
        "    \"\"\"\n",
        "    x = jnp.stack(jnp.broadcast_arrays(*params), -1)\n",
        "    assert isinstance(x, jnp.ndarray)\n",
        "    to_concatenate = [x]\n",
        "    for i in range(1, x.shape[-1]):\n",
        "        _x = jnp.roll(x, shift=i, axis=-1)\n",
        "        to_concatenate.append(x / _x)\n",
        "        to_concatenate.append(_x / x)\n",
        "    x = jnp.concatenate(to_concatenate, -1)\n",
        "    assert isinstance(x, jnp.ndarray)\n",
        "    return x"
      ]
    },
    {
      "cell_type": "markdown",
      "id": "fa858e99070578a6",
      "metadata": {},
      "source": [
        ":::{eval-rst}\n",
        ".. autofunction:: sax.nn.core.dense\n",
        ":::\n"
      ]
    },
    {
      "cell_type": "code",
      "execution_count": 5,
      "id": "c50976d7888b01d9",
      "metadata": {
        "execution": {
          "iopub.execute_input": "2022-08-04T05:48:29.677758Z",
          "iopub.status.busy": "2022-08-04T05:48:29.677235Z",
          "iopub.status.idle": "2022-08-04T05:48:29.678560Z",
          "shell.execute_reply": "2022-08-04T05:48:29.678938Z"
        },
        "papermill": {
          "duration": 0.014905,
          "end_time": "2022-08-04T05:48:29.679080",
          "exception": false,
          "start_time": "2022-08-04T05:48:29.664175",
          "status": "completed"
        },
        "tags": [
          "hide-input"
        ]
      },
      "outputs": [],
      "source": [
        "def dense(\n",
        "    weights: Dict[str, Array],\n",
        "    *params: ComplexFloat,\n",
        "    x_norm: Tuple[float, float] = (0.0, 1.0),\n",
        "    y_norm: Tuple[float, float] = (0.0, 1.0),\n",
        "    preprocess: Callable = preprocess,\n",
        "    activation: Callable = jax.nn.leaky_relu,\n",
        ") -> ComplexFloat:\n",
        "    \"\"\"simple dense neural network\"\"\"\n",
        "    x_mean, x_std = x_norm\n",
        "    y_mean, y_std = y_norm\n",
        "    x = preprocess(*params)\n",
        "    x = normalize(x, mean=x_mean, std=x_std)\n",
        "    for i in range(len([w for w in weights if w.startswith(\"w\")])):\n",
        "        x = activation(x @ weights[f\"w{i}\"] + weights.get(f\"b{i}\", 0.0))\n",
        "    y = denormalize(x, mean=y_mean, std=y_std)\n",
        "    return y"
      ]
    },
    {
      "cell_type": "markdown",
      "id": "88784bfb55904db3",
      "metadata": {},
      "source": [
        ":::{eval-rst}\n",
        ".. autofunction:: sax.nn.core.generate_dense_weights\n",
        ":::\n"
      ]
    },
    {
      "cell_type": "code",
      "execution_count": 6,
      "id": "4ba6ab4807f91361",
      "metadata": {
        "execution": {
          "iopub.execute_input": "2022-08-04T05:48:29.694338Z",
          "iopub.status.busy": "2022-08-04T05:48:29.693823Z",
          "iopub.status.idle": "2022-08-04T05:48:29.701261Z",
          "shell.execute_reply": "2022-08-04T05:48:29.700757Z"
        },
        "papermill": {
          "duration": 0.016347,
          "end_time": "2022-08-04T05:48:29.701386",
          "exception": false,
          "start_time": "2022-08-04T05:48:29.685039",
          "status": "completed"
        },
        "tags": [
          "hide-input"
        ]
      },
      "outputs": [],
      "source": [
        "def generate_dense_weights(\n",
        "    key: Union[int, Array],\n",
        "    sizes: Tuple[int, ...],\n",
        "    input_names: Optional[Tuple[str, ...]] = None,\n",
        "    output_names: Optional[Tuple[str, ...]] = None,\n",
        "    preprocess=preprocess,\n",
        ") -> Dict[str, ComplexFloat]:\n",
        "    \"\"\"Generate the weights for a dense neural network\"\"\"\n",
        "\n",
        "    if isinstance(key, int):\n",
        "        key = jax.random.PRNGKey(key)\n",
        "    assert isinstance(key, jnp.ndarray)\n",
        "\n",
        "    sizes = tuple(s for s in sizes)\n",
        "    if input_names:\n",
        "        arr = preprocess(*jnp.ones(len(input_names)))\n",
        "        assert isinstance(arr, jnp.ndarray)\n",
        "        sizes = (arr.shape[-1],) + sizes\n",
        "    if output_names:\n",
        "        sizes = sizes + (len(output_names),)\n",
        "\n",
        "    keys = jax.random.split(key, 2 * len(sizes))\n",
        "    rand = jax.nn.initializers.lecun_normal()\n",
        "    weights = {}\n",
        "    for i, (m, n) in enumerate(zip(sizes[:-1], sizes[1:])):\n",
        "        weights[f\"w{i}\"] = rand(keys[2 * i], (m, n))\n",
        "        weights[f\"b{i}\"] = rand(keys[2 * i + 1], (1, n)).ravel()\n",
        "\n",
        "    return weights"
      ]
    }
  ],
  "metadata": {
    "kernelspec": {
      "display_name": "sax",
      "language": "python",
      "name": "sax"
    },
    "language_info": {
      "codemirror_mode": {
        "name": "ipython",
        "version": 3
      },
      "file_extension": ".py",
      "mimetype": "text/x-python",
      "name": "python",
      "nbconvert_exporter": "python",
      "pygments_lexer": "ipython3",
      "version": "3.9.0"
    },
    "papermill": {
      "default_parameters": {},
      "duration": 4.219435,
      "end_time": "2022-08-04T05:48:30.216284",
      "environment_variables": {},
      "exception": null,
      "input_path": "./nbs/09c_nn_core.ipynb",
      "output_path": "./nbs/09c_nn_core.ipynb",
      "parameters": {},
      "start_time": "2022-08-04T05:48:25.996849",
      "version": "2.3.4"
    }
  },
  "nbformat": 4,
  "nbformat_minor": 5
}
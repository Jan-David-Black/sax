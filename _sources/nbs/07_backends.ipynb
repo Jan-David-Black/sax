{
  "cells": [
    {
      "cell_type": "code",
      "execution_count": 1,
      "id": "891c3d04553d09f6",
      "metadata": {
        "execution": {
          "iopub.execute_input": "2022-08-04T04:31:49.559619Z",
          "iopub.status.busy": "2022-08-04T04:31:49.559151Z",
          "iopub.status.idle": "2022-08-04T04:31:49.561823Z",
          "shell.execute_reply": "2022-08-04T04:31:49.561383Z"
        },
        "papermill": {
          "duration": 0.013982,
          "end_time": "2022-08-04T04:31:49.561943",
          "exception": false,
          "start_time": "2022-08-04T04:31:49.547961",
          "status": "completed"
        },
        "tags": [
          "remove-cell"
        ]
      },
      "outputs": [],
      "source": []
    },
    {
      "cell_type": "markdown",
      "id": "079604be",
      "metadata": {
        "papermill": {
          "duration": 0.005406,
          "end_time": "2022-08-04T04:31:49.573357",
          "exception": false,
          "start_time": "2022-08-04T04:31:49.567951",
          "status": "completed"
        },
        "tags": []
      },
      "source": [
        "# Backend\n",
        "\n",
        "> SAX Backends"
      ]
    },
    {
      "cell_type": "code",
      "execution_count": 2,
      "id": "69ce31bbe2708724",
      "metadata": {
        "execution": {
          "iopub.execute_input": "2022-08-04T04:31:49.591761Z",
          "iopub.status.busy": "2022-08-04T04:31:49.591317Z",
          "iopub.status.idle": "2022-08-04T04:31:51.506102Z",
          "shell.execute_reply": "2022-08-04T04:31:51.505629Z"
        },
        "papermill": {
          "duration": 1.927503,
          "end_time": "2022-08-04T04:31:51.506236",
          "exception": false,
          "start_time": "2022-08-04T04:31:49.578733",
          "status": "completed"
        },
        "tags": [
          "remove-cell"
        ]
      },
      "outputs": [],
      "source": [
        "import jax.numpy as jnp\n",
        "import matplotlib.pyplot as plt\n",
        "from fastcore.test import test_eq\n",
        "from nbdev import show_doc\n",
        "from pytest import approx, raises\n",
        "from sax.typing_ import SDense, SDict\n",
        "\n",
        "import os, sys; sys.stderr = open(os.devnull, \"w\")"
      ]
    },
    {
      "cell_type": "code",
      "execution_count": 3,
      "id": "b1614acc0e146b9b",
      "metadata": {
        "execution": {
          "iopub.execute_input": "2022-08-04T04:31:51.524280Z",
          "iopub.status.busy": "2022-08-04T04:31:51.523592Z",
          "iopub.status.idle": "2022-08-04T04:31:51.525477Z",
          "shell.execute_reply": "2022-08-04T04:31:51.525079Z"
        },
        "papermill": {
          "duration": 0.012769,
          "end_time": "2022-08-04T04:31:51.525589",
          "exception": false,
          "start_time": "2022-08-04T04:31:51.512820",
          "status": "completed"
        },
        "tags": [
          "remove-cell"
        ]
      },
      "outputs": [],
      "source": [
        "\n",
        "try:\n",
        "    import jax\n",
        "    JAX_AVAILABLE = True\n",
        "except ImportError:\n",
        "    JAX_AVAILABLE = False\n",
        "    \n",
        "try:\n",
        "    import klujax\n",
        "    KLUJAX_AVAILABLE = True\n",
        "except ImportError:\n",
        "    KLUJAX_AVAILABLE = False\n",
        "\n",
        "from sax.backends.default import evaluate_circuit\n",
        "from sax.backends.klu import evaluate_circuit_klu\n",
        "from sax.backends.additive import evaluate_circuit_additive"
      ]
    },
    {
      "cell_type": "markdown",
      "id": "a39b2084",
      "metadata": {
        "papermill": {
          "duration": 0.005585,
          "end_time": "2022-08-04T04:31:51.536810",
          "exception": false,
          "start_time": "2022-08-04T04:31:51.531225",
          "status": "completed"
        },
        "tags": []
      },
      "source": [
        "#### circuit_backends"
      ]
    },
    {
      "cell_type": "code",
      "execution_count": 4,
      "id": "aa0c4bc21a0ca416",
      "metadata": {
        "execution": {
          "iopub.execute_input": "2022-08-04T04:31:51.552468Z",
          "iopub.status.busy": "2022-08-04T04:31:51.552021Z",
          "iopub.status.idle": "2022-08-04T04:31:51.553351Z",
          "shell.execute_reply": "2022-08-04T04:31:51.553756Z"
        },
        "papermill": {
          "duration": 0.011501,
          "end_time": "2022-08-04T04:31:51.553884",
          "exception": false,
          "start_time": "2022-08-04T04:31:51.542383",
          "status": "completed"
        },
        "tags": []
      },
      "outputs": [],
      "source": [
        "\n",
        "circuit_backends = {\n",
        "    \"default\": evaluate_circuit,\n",
        "    \"klu\": evaluate_circuit_klu,\n",
        "    \"additive\": evaluate_circuit_additive,\n",
        "}\n",
        "\n",
        "if (not JAX_AVAILABLE) or (not KLUJAX_AVAILABLE):\n",
        "    del circuit_backends[\"klu\"]"
      ]
    },
    {
      "cell_type": "markdown",
      "id": "b23a8349",
      "metadata": {
        "papermill": {
          "duration": 0.005485,
          "end_time": "2022-08-04T04:31:51.564940",
          "exception": false,
          "start_time": "2022-08-04T04:31:51.559455",
          "status": "completed"
        },
        "tags": []
      },
      "source": [
        "SAX allows to easily interchange the backend of a circuit. A SAX backend needs to have the following signature:"
      ]
    },
    {
      "cell_type": "code",
      "execution_count": 5,
      "id": "504995c13cdadb7b",
      "metadata": {
        "execution": {
          "iopub.execute_input": "2022-08-04T04:31:51.580280Z",
          "iopub.status.busy": "2022-08-04T04:31:51.579804Z",
          "iopub.status.idle": "2022-08-04T04:31:51.590792Z",
          "shell.execute_reply": "2022-08-04T04:31:51.591130Z"
        },
        "papermill": {
          "duration": 0.020825,
          "end_time": "2022-08-04T04:31:51.591263",
          "exception": false,
          "start_time": "2022-08-04T04:31:51.570438",
          "status": "completed"
        },
        "tags": [
          "remove-input"
        ]
      },
      "outputs": [
        {
          "data": {
            "text/markdown": [
              "<h4 id=\"evaluate_circuit\" class=\"doc_header\"><code>evaluate_circuit</code><a href=\"https://github.com/flaport/sax/tree/master/sax/backends/default.py#L33\" class=\"source_link\" style=\"float:right\">[source]</a></h4>\n",
              "\n",
              "> <code>evaluate_circuit</code>(**`instances`**:`Dict[str, SType]`, **`connections`**:`Dict[str, str]`, **`ports`**:`Dict[str, str]`)->[`SDict`](/sax/typing.html#SDict)\n",
              "\n"
            ],
            "text/plain": [
              "<IPython.core.display.Markdown object>"
            ]
          },
          "metadata": {},
          "output_type": "display_data"
        }
      ],
      "source": [
        "from sax.backends.default import evaluate_circuit\n",
        "show_doc(evaluate_circuit, doc_string=False)"
      ]
    },
    {
      "cell_type": "markdown",
      "id": "df66e846",
      "metadata": {
        "papermill": {
          "duration": 0.006111,
          "end_time": "2022-08-04T04:31:51.603762",
          "exception": false,
          "start_time": "2022-08-04T04:31:51.597651",
          "status": "completed"
        },
        "tags": []
      },
      "source": [
        "i.e. it takes a dictionary of instance names pointing to `SType`s (usually `SDict`s), a connection dictionary and an (output) ports dictionary. Internally it must construct the output `SType` (usually output `SDict`)."
      ]
    },
    {
      "cell_type": "markdown",
      "id": "835a521a",
      "metadata": {
        "papermill": {
          "duration": 0.00596,
          "end_time": "2022-08-04T04:31:51.615691",
          "exception": false,
          "start_time": "2022-08-04T04:31:51.609731",
          "status": "completed"
        },
        "tags": []
      },
      "source": [
        "> Example\n",
        "\n",
        "Let's create an MZI `SDict` using the default backend's `evaluate_circuit`:"
      ]
    },
    {
      "cell_type": "code",
      "execution_count": 6,
      "id": "8a22955d",
      "metadata": {
        "execution": {
          "iopub.execute_input": "2022-08-04T04:31:51.635711Z",
          "iopub.status.busy": "2022-08-04T04:31:51.635249Z",
          "iopub.status.idle": "2022-08-04T04:31:52.503131Z",
          "shell.execute_reply": "2022-08-04T04:31:52.503550Z"
        },
        "papermill": {
          "duration": 0.881797,
          "end_time": "2022-08-04T04:31:52.503693",
          "exception": false,
          "start_time": "2022-08-04T04:31:51.621896",
          "status": "completed"
        },
        "tags": []
      },
      "outputs": [
        {
          "data": {
            "text/plain": [
              "{('in0', 'in0'): 0j,\n",
              " ('in0', 'in1'): 0j,\n",
              " ('in1', 'in0'): 0j,\n",
              " ('in1', 'in1'): 0j,\n",
              " ('out0', 'out0'): 0j,\n",
              " ('out0', 'out1'): 0j,\n",
              " ('out1', 'out0'): 0j,\n",
              " ('out1', 'out1'): 0j,\n",
              " ('in1', 'out0'): -0.43301+0.75j,\n",
              " ('in1', 'out1'): 0.25-0.43301j,\n",
              " ('in0', 'out0'): -0.25+0.43301j,\n",
              " ('in0', 'out1'): -0.43301+0.75j,\n",
              " ('out0', 'in1'): -0.43301+0.75j,\n",
              " ('out0', 'in0'): -0.25+0.43301j,\n",
              " ('out1', 'in1'): 0.25-0.43301j,\n",
              " ('out1', 'in0'): -0.43301+0.75j}"
            ]
          },
          "execution_count": 6,
          "metadata": {},
          "output_type": "execute_result"
        }
      ],
      "source": [
        "wg_sdict: SDict = {\n",
        "    (\"in0\", \"out0\"): 0.5 + 0.86603j,\n",
        "    (\"out0\", \"in0\"): 0.5 + 0.86603j,\n",
        "}\n",
        "\n",
        "\u03c4, \u03ba = 0.5 ** 0.5, 1j * 0.5 ** 0.5\n",
        "dc_sdense: SDense = (\n",
        "    jnp.array([[0, 0, \u03c4, \u03ba], \n",
        "               [0, 0, \u03ba, \u03c4], \n",
        "               [\u03c4, \u03ba, 0, 0], \n",
        "               [\u03ba, \u03c4, 0, 0]]),\n",
        "    {\"in0\": 0, \"in1\": 1, \"out0\": 2, \"out1\": 3},\n",
        ")\n",
        "\n",
        "mzi_sdict: SDict = evaluate_circuit(\n",
        "    instances={\n",
        "        \"dc1\": dc_sdense,\n",
        "        \"wg\": wg_sdict,\n",
        "        \"dc2\": dc_sdense,\n",
        "    },\n",
        "    connections={\n",
        "        \"dc1,out0\": \"wg,in0\",\n",
        "        \"wg,out0\": \"dc2,in0\",\n",
        "        \"dc1,out1\": \"dc2,in1\",\n",
        "    },\n",
        "    ports={\n",
        "        \"in0\": \"dc1,in0\",\n",
        "        \"in1\": \"dc1,in1\",\n",
        "        \"out0\": \"dc2,out0\",\n",
        "        \"out1\": \"dc2,out1\",\n",
        "    }\n",
        ")\n",
        "\n",
        "mzi_sdict"
      ]
    }
  ],
  "metadata": {
    "kernelspec": {
      "display_name": "sax",
      "language": "python",
      "name": "sax"
    },
    "language_info": {
      "codemirror_mode": {
        "name": "ipython",
        "version": 3
      },
      "file_extension": ".py",
      "mimetype": "text/x-python",
      "name": "python",
      "nbconvert_exporter": "python",
      "pygments_lexer": "ipython3",
      "version": "3.9.0"
    },
    "papermill": {
      "default_parameters": {},
      "duration": 7.412116,
      "end_time": "2022-08-04T04:31:55.787616",
      "environment_variables": {},
      "exception": null,
      "input_path": "./nbs/07_backends.ipynb",
      "output_path": "./nbs/07_backends.ipynb",
      "parameters": {},
      "start_time": "2022-08-04T04:31:48.375500",
      "version": "2.3.4"
    }
  },
  "nbformat": 4,
  "nbformat_minor": 5
}
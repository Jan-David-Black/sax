{
  "cells": [
    {
      "cell_type": "code",
      "execution_count": 1,
      "id": "7e79eed90dbefc19",
      "metadata": {
        "execution": {
          "iopub.execute_input": "2022-08-10T14:57:05.631996Z",
          "iopub.status.busy": "2022-08-10T14:57:05.631560Z",
          "iopub.status.idle": "2022-08-10T14:57:05.634051Z",
          "shell.execute_reply": "2022-08-10T14:57:05.633662Z"
        },
        "papermill": {
          "duration": 0.012359,
          "end_time": "2022-08-10T14:57:05.634163",
          "exception": false,
          "start_time": "2022-08-10T14:57:05.621804",
          "status": "completed"
        },
        "tags": [
          "remove-cell"
        ]
      },
      "outputs": [],
      "source": []
    },
    {
      "cell_type": "markdown",
      "id": "079604be",
      "metadata": {
        "papermill": {
          "duration": 0.005506,
          "end_time": "2022-08-10T14:57:05.645832",
          "exception": false,
          "start_time": "2022-08-10T14:57:05.640326",
          "status": "completed"
        },
        "tags": []
      },
      "source": [
        "# Backend\n",
        "\n",
        "> SAX Backends"
      ]
    },
    {
      "cell_type": "code",
      "execution_count": 2,
      "id": "8ec00b7945349765",
      "metadata": {
        "execution": {
          "iopub.execute_input": "2022-08-10T14:57:05.658895Z",
          "iopub.status.busy": "2022-08-10T14:57:05.658446Z",
          "iopub.status.idle": "2022-08-10T14:57:07.398743Z",
          "shell.execute_reply": "2022-08-10T14:57:07.398343Z"
        },
        "papermill": {
          "duration": 1.747543,
          "end_time": "2022-08-10T14:57:07.398857",
          "exception": false,
          "start_time": "2022-08-10T14:57:05.651314",
          "status": "completed"
        },
        "tags": [
          "remove-cell"
        ]
      },
      "outputs": [],
      "source": [
        "import jax.numpy as jnp\n",
        "import matplotlib.pyplot as plt\n",
        "from fastcore.test import test_eq\n",
        "from nbdev import show_doc\n",
        "from pytest import approx, raises\n",
        "from sax.typing_ import SDense, SDict\n",
        "\n",
        "import os, sys; sys.stderr = open(os.devnull, \"w\")"
      ]
    },
    {
      "cell_type": "code",
      "execution_count": 3,
      "id": "491ba404bbe15556",
      "metadata": {
        "execution": {
          "iopub.execute_input": "2022-08-10T14:57:07.415210Z",
          "iopub.status.busy": "2022-08-10T14:57:07.414318Z",
          "iopub.status.idle": "2022-08-10T14:57:07.415685Z",
          "shell.execute_reply": "2022-08-10T14:57:07.415992Z"
        },
        "papermill": {
          "duration": 0.01148,
          "end_time": "2022-08-10T14:57:07.416098",
          "exception": false,
          "start_time": "2022-08-10T14:57:07.404618",
          "status": "completed"
        },
        "tags": [
          "remove-cell"
        ]
      },
      "outputs": [],
      "source": [
        "\n",
        "try:\n",
        "    import jax\n",
        "    JAX_AVAILABLE = True\n",
        "except ImportError:\n",
        "    JAX_AVAILABLE = False\n",
        "    \n",
        "try:\n",
        "    import klujax\n",
        "    KLUJAX_AVAILABLE = True\n",
        "except ImportError:\n",
        "    KLUJAX_AVAILABLE = False\n",
        "\n",
        "from sax.backends.default import evaluate_circuit\n",
        "from sax.backends.klu import evaluate_circuit_klu\n",
        "from sax.backends.additive import evaluate_circuit_additive"
      ]
    },
    {
      "cell_type": "markdown",
      "id": "a39b2084",
      "metadata": {
        "papermill": {
          "duration": 0.005479,
          "end_time": "2022-08-10T14:57:07.427106",
          "exception": false,
          "start_time": "2022-08-10T14:57:07.421627",
          "status": "completed"
        },
        "tags": []
      },
      "source": [
        "#### circuit_backends"
      ]
    },
    {
      "cell_type": "code",
      "execution_count": 4,
      "id": "818620c91a626c55",
      "metadata": {
        "execution": {
          "iopub.execute_input": "2022-08-10T14:57:07.441502Z",
          "iopub.status.busy": "2022-08-10T14:57:07.439533Z",
          "iopub.status.idle": "2022-08-10T14:57:07.442781Z",
          "shell.execute_reply": "2022-08-10T14:57:07.443089Z"
        },
        "papermill": {
          "duration": 0.010468,
          "end_time": "2022-08-10T14:57:07.443201",
          "exception": false,
          "start_time": "2022-08-10T14:57:07.432733",
          "status": "completed"
        },
        "tags": []
      },
      "outputs": [],
      "source": [
        "\n",
        "circuit_backends = {\n",
        "    \"default\": evaluate_circuit,\n",
        "    \"klu\": evaluate_circuit_klu,\n",
        "    \"additive\": evaluate_circuit_additive,\n",
        "}\n",
        "\n",
        "if (not JAX_AVAILABLE) or (not KLUJAX_AVAILABLE):\n",
        "    del circuit_backends[\"klu\"]"
      ]
    },
    {
      "cell_type": "markdown",
      "id": "b23a8349",
      "metadata": {
        "papermill": {
          "duration": 0.005592,
          "end_time": "2022-08-10T14:57:07.454444",
          "exception": false,
          "start_time": "2022-08-10T14:57:07.448852",
          "status": "completed"
        },
        "tags": []
      },
      "source": [
        "SAX allows to easily interchange the backend of a circuit. A SAX backend needs to have the following signature:"
      ]
    },
    {
      "cell_type": "code",
      "execution_count": 5,
      "id": "f0970acb99019170",
      "metadata": {
        "execution": {
          "iopub.execute_input": "2022-08-10T14:57:07.468741Z",
          "iopub.status.busy": "2022-08-10T14:57:07.468332Z",
          "iopub.status.idle": "2022-08-10T14:57:07.476568Z",
          "shell.execute_reply": "2022-08-10T14:57:07.476890Z"
        },
        "papermill": {
          "duration": 0.016968,
          "end_time": "2022-08-10T14:57:07.476995",
          "exception": false,
          "start_time": "2022-08-10T14:57:07.460027",
          "status": "completed"
        },
        "tags": [
          "remove-input"
        ]
      },
      "outputs": [
        {
          "data": {
            "text/markdown": [
              "<h4 id=\"evaluate_circuit\" class=\"doc_header\"><code>evaluate_circuit</code><a href=\"https://github.com/flaport/sax/tree/master/sax/backends/default.py#L33\" class=\"source_link\" style=\"float:right\">[source]</a></h4>\n",
              "\n",
              "> <code>evaluate_circuit</code>(**`instances`**:`Dict[str, SType]`, **`connections`**:`Dict[str, str]`, **`ports`**:`Dict[str, str]`)->[`SDict`](/sax/typing.html#SDict)\n",
              "\n"
            ],
            "text/plain": [
              "<IPython.core.display.Markdown object>"
            ]
          },
          "metadata": {},
          "output_type": "display_data"
        }
      ],
      "source": [
        "from sax.backends.default import evaluate_circuit\n",
        "show_doc(evaluate_circuit, doc_string=False)"
      ]
    },
    {
      "cell_type": "markdown",
      "id": "df66e846",
      "metadata": {
        "papermill": {
          "duration": 0.006159,
          "end_time": "2022-08-10T14:57:07.489612",
          "exception": false,
          "start_time": "2022-08-10T14:57:07.483453",
          "status": "completed"
        },
        "tags": []
      },
      "source": [
        "i.e. it takes a dictionary of instance names pointing to `SType`s (usually `SDict`s), a connection dictionary and an (output) ports dictionary. Internally it must construct the output `SType` (usually output `SDict`)."
      ]
    },
    {
      "cell_type": "markdown",
      "id": "835a521a",
      "metadata": {
        "papermill": {
          "duration": 0.0061,
          "end_time": "2022-08-10T14:57:07.501855",
          "exception": false,
          "start_time": "2022-08-10T14:57:07.495755",
          "status": "completed"
        },
        "tags": []
      },
      "source": [
        "> Example\n",
        "\n",
        "Let's create an MZI `SDict` using the default backend's `evaluate_circuit`:"
      ]
    },
    {
      "cell_type": "code",
      "execution_count": 6,
      "id": "8a22955d",
      "metadata": {
        "execution": {
          "iopub.execute_input": "2022-08-10T14:57:07.520991Z",
          "iopub.status.busy": "2022-08-10T14:57:07.520567Z",
          "iopub.status.idle": "2022-08-10T14:57:08.359597Z",
          "shell.execute_reply": "2022-08-10T14:57:08.359916Z"
        },
        "papermill": {
          "duration": 0.851847,
          "end_time": "2022-08-10T14:57:08.360050",
          "exception": false,
          "start_time": "2022-08-10T14:57:07.508203",
          "status": "completed"
        },
        "tags": []
      },
      "outputs": [
        {
          "data": {
            "text/plain": [
              "{('in0', 'in0'): 0j,\n",
              " ('in0', 'in1'): 0j,\n",
              " ('in1', 'in0'): 0j,\n",
              " ('in1', 'in1'): 0j,\n",
              " ('out0', 'out0'): 0j,\n",
              " ('out0', 'out1'): 0j,\n",
              " ('out1', 'out0'): 0j,\n",
              " ('out1', 'out1'): 0j,\n",
              " ('out0', 'in1'): -0.43301+0.75j,\n",
              " ('out0', 'in0'): -0.25+0.43301j,\n",
              " ('out1', 'in1'): 0.25-0.43301j,\n",
              " ('out1', 'in0'): -0.43301+0.75j,\n",
              " ('in1', 'out0'): -0.43301+0.75j,\n",
              " ('in1', 'out1'): 0.25-0.43301j,\n",
              " ('in0', 'out0'): -0.25+0.43301j,\n",
              " ('in0', 'out1'): -0.43301+0.75j}"
            ]
          },
          "execution_count": 6,
          "metadata": {},
          "output_type": "execute_result"
        }
      ],
      "source": [
        "wg_sdict: SDict = {\n",
        "    (\"in0\", \"out0\"): 0.5 + 0.86603j,\n",
        "    (\"out0\", \"in0\"): 0.5 + 0.86603j,\n",
        "}\n",
        "\n",
        "\u03c4, \u03ba = 0.5 ** 0.5, 1j * 0.5 ** 0.5\n",
        "dc_sdense: SDense = (\n",
        "    jnp.array([[0, 0, \u03c4, \u03ba], \n",
        "               [0, 0, \u03ba, \u03c4], \n",
        "               [\u03c4, \u03ba, 0, 0], \n",
        "               [\u03ba, \u03c4, 0, 0]]),\n",
        "    {\"in0\": 0, \"in1\": 1, \"out0\": 2, \"out1\": 3},\n",
        ")\n",
        "\n",
        "mzi_sdict: SDict = evaluate_circuit(\n",
        "    instances={\n",
        "        \"dc1\": dc_sdense,\n",
        "        \"wg\": wg_sdict,\n",
        "        \"dc2\": dc_sdense,\n",
        "    },\n",
        "    connections={\n",
        "        \"dc1,out0\": \"wg,in0\",\n",
        "        \"wg,out0\": \"dc2,in0\",\n",
        "        \"dc1,out1\": \"dc2,in1\",\n",
        "    },\n",
        "    ports={\n",
        "        \"in0\": \"dc1,in0\",\n",
        "        \"in1\": \"dc1,in1\",\n",
        "        \"out0\": \"dc2,out0\",\n",
        "        \"out1\": \"dc2,out1\",\n",
        "    }\n",
        ")\n",
        "\n",
        "mzi_sdict"
      ]
    }
  ],
  "metadata": {
    "kernelspec": {
      "display_name": "sax",
      "language": "python",
      "name": "sax"
    },
    "language_info": {
      "codemirror_mode": {
        "name": "ipython",
        "version": 3
      },
      "file_extension": ".py",
      "mimetype": "text/x-python",
      "name": "python",
      "nbconvert_exporter": "python",
      "pygments_lexer": "ipython3",
      "version": "3.9.0"
    },
    "papermill": {
      "default_parameters": {},
      "duration": 7.368078,
      "end_time": "2022-08-10T14:57:11.863711",
      "environment_variables": {},
      "exception": null,
      "input_path": "./nbs/07_backends.ipynb",
      "output_path": "./nbs/07_backends.ipynb",
      "parameters": {},
      "start_time": "2022-08-10T14:57:04.495633",
      "version": "2.3.4"
    }
  },
  "nbformat": 4,
  "nbformat_minor": 5
}
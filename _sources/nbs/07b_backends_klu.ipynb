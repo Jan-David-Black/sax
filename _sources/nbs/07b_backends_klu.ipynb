{
  "cells": [
    {
      "cell_type": "code",
      "execution_count": 1,
      "id": "c994bf88761568ca",
      "metadata": {
        "execution": {
          "iopub.execute_input": "2022-08-04T04:33:21.341817Z",
          "iopub.status.busy": "2022-08-04T04:33:21.341339Z",
          "iopub.status.idle": "2022-08-04T04:33:21.344243Z",
          "shell.execute_reply": "2022-08-04T04:33:21.343816Z"
        },
        "papermill": {
          "duration": 0.048486,
          "end_time": "2022-08-04T04:33:21.344365",
          "exception": false,
          "start_time": "2022-08-04T04:33:21.295879",
          "status": "completed"
        },
        "tags": [
          "remove-cell"
        ]
      },
      "outputs": [],
      "source": []
    },
    {
      "cell_type": "markdown",
      "id": "27c3489e",
      "metadata": {
        "papermill": {
          "duration": 0.040036,
          "end_time": "2022-08-04T04:33:21.426294",
          "exception": false,
          "start_time": "2022-08-04T04:33:21.386258",
          "status": "completed"
        },
        "tags": []
      },
      "source": [
        "# Backend - KLU\n",
        "\n",
        "> SAX KLU Backend"
      ]
    },
    {
      "cell_type": "code",
      "execution_count": 2,
      "id": "33e7a9b3ca402e34",
      "metadata": {
        "execution": {
          "iopub.execute_input": "2022-08-04T04:33:21.515582Z",
          "iopub.status.busy": "2022-08-04T04:33:21.515137Z",
          "iopub.status.idle": "2022-08-04T04:33:23.166545Z",
          "shell.execute_reply": "2022-08-04T04:33:23.166067Z"
        },
        "papermill": {
          "duration": 1.700428,
          "end_time": "2022-08-04T04:33:23.166680",
          "exception": false,
          "start_time": "2022-08-04T04:33:21.466252",
          "status": "completed"
        },
        "tags": [
          "remove-cell"
        ]
      },
      "outputs": [],
      "source": [
        "import sax\n",
        "import matplotlib.pyplot as plt\n",
        "from fastcore.test import test_eq\n",
        "from pytest import approx, raises\n",
        "from nbdev import show_doc\n",
        "\n",
        "import os, sys; sys.stderr = open(os.devnull, \"w\")"
      ]
    },
    {
      "cell_type": "code",
      "execution_count": 3,
      "id": "01c2ce6a3062fa96",
      "metadata": {
        "execution": {
          "iopub.execute_input": "2022-08-04T04:33:23.253052Z",
          "iopub.status.busy": "2022-08-04T04:33:23.252616Z",
          "iopub.status.idle": "2022-08-04T04:33:23.254607Z",
          "shell.execute_reply": "2022-08-04T04:33:23.255008Z"
        },
        "papermill": {
          "duration": 0.047701,
          "end_time": "2022-08-04T04:33:23.255133",
          "exception": false,
          "start_time": "2022-08-04T04:33:23.207432",
          "status": "completed"
        },
        "tags": [
          "hide-input"
        ]
      },
      "outputs": [],
      "source": [
        "from __future__ import annotations\n",
        "\n",
        "from typing import Dict\n",
        "\n",
        "    \n",
        "from sax.typing_ import SDense, SDict, SType, scoo\n",
        "from sax.backends import evaluate_circuit\n",
        "\n",
        "try:\n",
        "    import klujax\n",
        "except ImportError:\n",
        "    klujax = None\n",
        "    \n",
        "try:\n",
        "    import jax\n",
        "    import jax.numpy as jnp\n",
        "    JAX_AVAILABLE = True\n",
        "except ImportError:\n",
        "    import numpy as jnp\n",
        "    JAX_AVAILABLE = False"
      ]
    },
    {
      "cell_type": "markdown",
      "id": "64e42767",
      "metadata": {
        "papermill": {
          "duration": 0.040358,
          "end_time": "2022-08-04T04:33:23.336287",
          "exception": false,
          "start_time": "2022-08-04T04:33:23.295929",
          "status": "completed"
        },
        "tags": []
      },
      "source": [
        "## Citation\n",
        "The KLU backend is using `klujax`, which uses the [SuiteSparse](https://github.com/DrTimothyAldenDavis/SuiteSparse) C++ libraries for sparse matrix evaluations to evaluate the circuit insanely fast on a CPU. The specific algorith being used in question is the KLU algorithm:\n",
        "\n",
        "> Ekanathan Palamadai Natariajan. \"*KLU - A high performance sparse linear solver for circuit simulation problems.*\""
      ]
    },
    {
      "cell_type": "markdown",
      "id": "2db5821c",
      "metadata": {
        "papermill": {
          "duration": 0.040475,
          "end_time": "2022-08-04T04:33:23.417321",
          "exception": false,
          "start_time": "2022-08-04T04:33:23.376846",
          "status": "completed"
        },
        "tags": []
      },
      "source": [
        "## Theoretical Background"
      ]
    },
    {
      "cell_type": "markdown",
      "id": "3d4d4a4c",
      "metadata": {
        "papermill": {
          "duration": 0.040376,
          "end_time": "2022-08-04T04:33:23.497850",
          "exception": false,
          "start_time": "2022-08-04T04:33:23.457474",
          "status": "completed"
        },
        "tags": []
      },
      "source": [
        "The core of the KLU algorithm is supported by `klujax`, which internally uses the Suitesparse libraries to solve the sparse system `Ax = b`, in which A is a sparse matrix."
      ]
    },
    {
      "cell_type": "markdown",
      "id": "a1985f58",
      "metadata": {
        "papermill": {
          "duration": 0.073887,
          "end_time": "2022-08-04T04:33:23.611584",
          "exception": false,
          "start_time": "2022-08-04T04:33:23.537697",
          "status": "completed"
        },
        "tags": []
      },
      "source": [
        "Now it only comes down to shoehorn our circuit evaluation into a sparse linear system of equations $Ax=b$ where we need to solve for $x$ using `klujax`. \n",
        "Consider the block diagonal matrix $S_{bd}$ of all components in the circuit acting on the fields $x_{in}$ at each of the individual ports of each of the component integrated in $S^{bd}$. The output fields $x^{out}$ at each of those ports is then given by:\n",
        "\n",
        "$$\n",
        "x^{out} = S_{bd} x^{in}\n",
        "$$"
      ]
    },
    {
      "cell_type": "markdown",
      "id": "9c26c04a",
      "metadata": {
        "papermill": {
          "duration": 0.039848,
          "end_time": "2022-08-04T04:33:23.691075",
          "exception": false,
          "start_time": "2022-08-04T04:33:23.651227",
          "status": "completed"
        },
        "tags": []
      },
      "source": [
        "However, $S_{bd}$ is not the S-matrix of the circuit as it does not encode any connectivity *between* the components. Connecting two component ports basically comes down to enforcing equality between the output fields at one port of a component with the input fields at another port of another (or maybe even the same) component. This equality can be enforced by creating an internal connection matrix, connecting all internal ports of the circuit:\n",
        "\n",
        "$$\n",
        "x^{in} = C_{int} x^{out}\n",
        "$$"
      ]
    },
    {
      "cell_type": "markdown",
      "id": "16b3fdad",
      "metadata": {
        "papermill": {
          "duration": 0.039795,
          "end_time": "2022-08-04T04:33:23.770884",
          "exception": false,
          "start_time": "2022-08-04T04:33:23.731089",
          "status": "completed"
        },
        "tags": []
      },
      "source": [
        "We can thus write the following combined equation:\n",
        "\n",
        "$$\n",
        "x^{in} = C_{int} S_{bd} x^{in}\n",
        "$$"
      ]
    },
    {
      "cell_type": "markdown",
      "id": "f5ceb9a2",
      "metadata": {
        "papermill": {
          "duration": 0.040007,
          "end_time": "2022-08-04T04:33:23.851186",
          "exception": false,
          "start_time": "2022-08-04T04:33:23.811179",
          "status": "completed"
        },
        "tags": []
      },
      "source": [
        "But this is not the complete story... Some component ports will *not* be *interconnected* with other ports: they will become the new *external ports* (or output ports) of the combined circuit. We can include those external ports into the above equation as follows:\n",
        "\n",
        "$$\n",
        "\\begin{pmatrix} x^{in} \\\\ x^{out}_{ext} \\end{pmatrix} = \\begin{pmatrix} C_{int} & C_{ext} \\\\ C_{ext}^T & 0 \\end{pmatrix} \\begin{pmatrix} S_{bd} x^{in} \\\\ x_{ext}^{in} \\end{pmatrix} \n",
        "$$"
      ]
    },
    {
      "cell_type": "markdown",
      "id": "6382a242",
      "metadata": {
        "papermill": {
          "duration": 0.039874,
          "end_time": "2022-08-04T04:33:23.931084",
          "exception": false,
          "start_time": "2022-08-04T04:33:23.891210",
          "status": "completed"
        },
        "tags": []
      },
      "source": [
        "Note that $C_{ext}$ is obviously **not** a square matrix. Eliminating $x^{in}$ from the equation above finally yields:\n",
        "\n",
        "$$\n",
        "x^{out}_{ext} = C^T_{ext} S_{bd} (\\mathbb{1} - C_{int}S_{bd})^{-1} C_{ext}x_{ext}^{in}\n",
        "$$"
      ]
    },
    {
      "cell_type": "markdown",
      "id": "5f15bdcd",
      "metadata": {
        "papermill": {
          "duration": 0.039723,
          "end_time": "2022-08-04T04:33:24.010825",
          "exception": false,
          "start_time": "2022-08-04T04:33:23.971102",
          "status": "completed"
        },
        "tags": []
      },
      "source": [
        "We basically found a representation of the circuit S-matrix:\n",
        "\n",
        "$$\n",
        "S = C^T_{ext} S_{bd} (\\mathbb{1} - C_{int}S_{bd})^{-1} C_{ext}\n",
        "$$"
      ]
    },
    {
      "cell_type": "markdown",
      "id": "40ad83b8",
      "metadata": {
        "papermill": {
          "duration": 0.04004,
          "end_time": "2022-08-04T04:33:24.090404",
          "exception": false,
          "start_time": "2022-08-04T04:33:24.050364",
          "status": "completed"
        },
        "tags": []
      },
      "source": [
        "Obviously, we won't want to calculate the inverse $(\\mathbb{1} - C_{int}S_{bd})^{-1}$, which is the inverse of a very sparse matrix (a connection matrix only has a single 1 per line), which very often is not even sparse itself. In stead we'll use the `solve_klu` function:\n",
        "\n",
        "$$\n",
        "S = C^T_{ext} S_{bd} \\texttt{solve}\\_\\texttt{klu}\\left((\\mathbb{1} - C_{int}S_{bd}), C_{ext}\\right)\n",
        "$$"
      ]
    },
    {
      "cell_type": "markdown",
      "id": "018fab3d",
      "metadata": {
        "papermill": {
          "duration": 0.03986,
          "end_time": "2022-08-04T04:33:24.170408",
          "exception": false,
          "start_time": "2022-08-04T04:33:24.130548",
          "status": "completed"
        },
        "tags": []
      },
      "source": [
        "Moreover, $C_{ext}^TS_{bd}$ is also a sparse matrix, therefore we'll also need a `mul_coo` routine:\n",
        "\n",
        "$$\n",
        "S = C^T_{ext} \\texttt{mul}\\_\\texttt{coo}\\left(S_{bd},~~\\texttt{solve}\\_\\texttt{klu}\\left((\\mathbb{1} - C_{int}S_{bd}),~C_{ext}\\right)\\right)\n",
        "$$"
      ]
    },
    {
      "cell_type": "markdown",
      "id": "d9b78852",
      "metadata": {
        "papermill": {
          "duration": 0.039667,
          "end_time": "2022-08-04T04:33:24.249554",
          "exception": false,
          "start_time": "2022-08-04T04:33:24.209887",
          "status": "completed"
        },
        "tags": []
      },
      "source": [
        "## Sparse Helper Functions"
      ]
    },
    {
      "cell_type": "code",
      "execution_count": 4,
      "id": "6195850fbdfea81b",
      "metadata": {
        "execution": {
          "iopub.execute_input": "2022-08-04T04:33:24.332117Z",
          "iopub.status.busy": "2022-08-04T04:33:24.331667Z",
          "iopub.status.idle": "2022-08-04T04:33:24.335028Z",
          "shell.execute_reply": "2022-08-04T04:33:24.334679Z"
        },
        "papermill": {
          "duration": 0.045953,
          "end_time": "2022-08-04T04:33:24.335127",
          "exception": false,
          "start_time": "2022-08-04T04:33:24.289174",
          "status": "completed"
        },
        "tags": [
          "remove-input"
        ]
      },
      "outputs": [],
      "source": [
        "if klujax is not None:\n",
        "    show_doc(klujax.solve, doc_string=False, name=\"klujax.solve\")"
      ]
    },
    {
      "cell_type": "markdown",
      "id": "01299d5d",
      "metadata": {
        "papermill": {
          "duration": 0.040136,
          "end_time": "2022-08-04T04:33:24.415002",
          "exception": false,
          "start_time": "2022-08-04T04:33:24.374866",
          "status": "completed"
        },
        "tags": []
      },
      "source": [
        "`klujax.solve` solves the sparse system of equations `Ax=b` for `x`. Where `A` is represented by in [COO-format](https://en.wikipedia.org/wiki/Sparse_matrix#Coordinate_list_(COO)) as (`Ai`, `Aj`, `Ax`).\n",
        "\n",
        "> Example"
      ]
    },
    {
      "cell_type": "code",
      "execution_count": 5,
      "id": "63e7977a",
      "metadata": {
        "execution": {
          "iopub.execute_input": "2022-08-04T04:33:24.500981Z",
          "iopub.status.busy": "2022-08-04T04:33:24.500543Z",
          "iopub.status.idle": "2022-08-04T04:33:24.515267Z",
          "shell.execute_reply": "2022-08-04T04:33:24.514892Z"
        },
        "papermill": {
          "duration": 0.060638,
          "end_time": "2022-08-04T04:33:24.515369",
          "exception": false,
          "start_time": "2022-08-04T04:33:24.454731",
          "status": "completed"
        },
        "tags": []
      },
      "outputs": [
        {
          "data": {
            "text/plain": [
              "array([6. , 1. , 0.5, 0.5, 2. ])"
            ]
          },
          "execution_count": 5,
          "metadata": {},
          "output_type": "execute_result"
        }
      ],
      "source": [
        "Ai = jnp.array([0, 1, 2, 3, 4])\n",
        "Aj = jnp.array([1, 3, 4, 0, 2])\n",
        "Ax = jnp.array([5, 6, 1, 1, 2])\n",
        "b = jnp.array([5, 3, 2, 6, 1])\n",
        "\n",
        "if klujax is not None:\n",
        "    x = klujax.solve(Ai, Aj, Ax, b)\n",
        "else:\n",
        "    x = jnp.array([6.0, 1.0, 0.5, 0.5, 2.0])\n",
        "\n",
        "x"
      ]
    },
    {
      "cell_type": "markdown",
      "id": "3233b04c",
      "metadata": {
        "papermill": {
          "duration": 0.040696,
          "end_time": "2022-08-04T04:33:24.597191",
          "exception": false,
          "start_time": "2022-08-04T04:33:24.556495",
          "status": "completed"
        },
        "tags": []
      },
      "source": [
        "This result is indeed correct:"
      ]
    },
    {
      "cell_type": "code",
      "execution_count": 6,
      "id": "629bbc71",
      "metadata": {
        "execution": {
          "iopub.execute_input": "2022-08-04T04:33:24.687451Z",
          "iopub.status.busy": "2022-08-04T04:33:24.685771Z",
          "iopub.status.idle": "2022-08-04T04:33:24.835449Z",
          "shell.execute_reply": "2022-08-04T04:33:24.835819Z"
        },
        "papermill": {
          "duration": 0.198263,
          "end_time": "2022-08-04T04:33:24.835966",
          "exception": false,
          "start_time": "2022-08-04T04:33:24.637703",
          "status": "completed"
        },
        "tags": []
      },
      "outputs": [
        {
          "name": "stdout",
          "output_type": "stream",
          "text": [
            "[[0. 5. 0. 0. 0.]\n",
            " [0. 0. 0. 6. 0.]\n",
            " [0. 0. 0. 0. 1.]\n",
            " [1. 0. 0. 0. 0.]\n",
            " [0. 0. 2. 0. 0.]]\n",
            "[5. 3. 2. 6. 1.]\n"
          ]
        }
      ],
      "source": [
        "if JAX_AVAILABLE:\n",
        "    A = jnp.zeros((5, 5)).at[Ai, Aj].set(Ax)\n",
        "    print(A)\n",
        "    print(A@x)"
      ]
    },
    {
      "cell_type": "markdown",
      "id": "c7fe6547",
      "metadata": {
        "papermill": {
          "duration": 0.041164,
          "end_time": "2022-08-04T04:33:24.918160",
          "exception": false,
          "start_time": "2022-08-04T04:33:24.876996",
          "status": "completed"
        },
        "tags": []
      },
      "source": [
        "However, to use this function effectively, we probably need an extra dimension for `Ax`. Indeed, we would like to solve this equation for multiple wavelengths (or more general, for multiple circuit configurations) at once. For this we can use `jax.vmap` to expose `klujax.solve` to more dimensions for `Ax`:"
      ]
    },
    {
      "cell_type": "code",
      "execution_count": 7,
      "id": "797dd00c81c9b905",
      "metadata": {
        "execution": {
          "iopub.execute_input": "2022-08-04T04:33:25.004056Z",
          "iopub.status.busy": "2022-08-04T04:33:25.003608Z",
          "iopub.status.idle": "2022-08-04T04:33:25.005324Z",
          "shell.execute_reply": "2022-08-04T04:33:25.005746Z"
        },
        "papermill": {
          "duration": 0.047208,
          "end_time": "2022-08-04T04:33:25.005872",
          "exception": false,
          "start_time": "2022-08-04T04:33:24.958664",
          "status": "completed"
        },
        "tags": []
      },
      "outputs": [],
      "source": [
        "solve_klu = None\n",
        "if klujax is not None:\n",
        "    solve_klu = jax.vmap(klujax.solve, (None, None, 0, None), 0)"
      ]
    },
    {
      "cell_type": "code",
      "execution_count": 8,
      "id": "88c7628564269f4e",
      "metadata": {
        "execution": {
          "iopub.execute_input": "2022-08-04T04:33:25.090984Z",
          "iopub.status.busy": "2022-08-04T04:33:25.090549Z",
          "iopub.status.idle": "2022-08-04T04:33:25.092740Z",
          "shell.execute_reply": "2022-08-04T04:33:25.093079Z"
        },
        "papermill": {
          "duration": 0.047089,
          "end_time": "2022-08-04T04:33:25.093249",
          "exception": false,
          "start_time": "2022-08-04T04:33:25.046160",
          "status": "completed"
        },
        "tags": [
          "remove-input"
        ]
      },
      "outputs": [
        {
          "data": {
            "text/markdown": [
              "<h4 id=\"solve_klu\" class=\"doc_header\"><code>solve_klu</code><a href=\"\" class=\"source_link\" style=\"float:right\">[source]</a></h4>\n",
              "\n"
            ],
            "text/plain": [
              "<IPython.core.display.Markdown object>"
            ]
          },
          "metadata": {},
          "output_type": "display_data"
        }
      ],
      "source": [
        "show_doc(solve_klu, doc_string=False, name=\"solve_klu\")"
      ]
    },
    {
      "cell_type": "markdown",
      "id": "6707049d",
      "metadata": {
        "papermill": {
          "duration": 0.041392,
          "end_time": "2022-08-04T04:33:25.175606",
          "exception": false,
          "start_time": "2022-08-04T04:33:25.134214",
          "status": "completed"
        },
        "tags": []
      },
      "source": [
        "Let's now redefine `Ax` and see what it gives:"
      ]
    },
    {
      "cell_type": "code",
      "execution_count": 9,
      "id": "d4d7b6f9",
      "metadata": {
        "execution": {
          "iopub.execute_input": "2022-08-04T04:33:25.266824Z",
          "iopub.status.busy": "2022-08-04T04:33:25.265363Z",
          "iopub.status.idle": "2022-08-04T04:33:25.268857Z",
          "shell.execute_reply": "2022-08-04T04:33:25.269222Z"
        },
        "papermill": {
          "duration": 0.052644,
          "end_time": "2022-08-04T04:33:25.269373",
          "exception": false,
          "start_time": "2022-08-04T04:33:25.216729",
          "status": "completed"
        },
        "tags": []
      },
      "outputs": [
        {
          "data": {
            "text/plain": [
              "array([[6.       , 1.       , 0.5      , 0.5      , 2.       ],\n",
              "       [3.       , 1.       , 1.       , 0.75     , 0.6666667],\n",
              "       [1.5      , 5.       , 0.2      , 1.5      , 0.6666667]],            dtype=float32))"
            ]
          },
          "execution_count": 9,
          "metadata": {},
          "output_type": "execute_result"
        }
      ],
      "source": [
        "Ai = jnp.array([0, 1, 2, 3, 4])\n",
        "Aj = jnp.array([1, 3, 4, 0, 2])\n",
        "Ax = jnp.array([[5, 6, 1, 1, 2], [5, 4, 3, 2, 1], [1, 2, 3, 4, 5]])\n",
        "b = jnp.array([5, 3, 2, 6, 1])\n",
        "if klujax is not None:\n",
        "    x = solve_klu(Ai, Aj, Ax, b)\n",
        "else:\n",
        "    x = jnp.array([\n",
        "        [6.0, 1.0, 0.5, 0.5, 2.0],\n",
        "        [3.0, 1.0, 1.0, 0.75, 0.66666667],\n",
        "        [1.5, 5.0, 0.2, 1.5, 0.66666667],\n",
        "    ])\n",
        "    \n",
        "x"
      ]
    },
    {
      "cell_type": "markdown",
      "id": "5f342c6f",
      "metadata": {
        "papermill": {
          "duration": 0.041704,
          "end_time": "2022-08-04T04:33:25.352778",
          "exception": false,
          "start_time": "2022-08-04T04:33:25.311074",
          "status": "completed"
        },
        "tags": []
      },
      "source": [
        "This result is indeed correct:"
      ]
    },
    {
      "cell_type": "code",
      "execution_count": 10,
      "id": "0afefaa6",
      "metadata": {
        "execution": {
          "iopub.execute_input": "2022-08-04T04:33:25.445112Z",
          "iopub.status.busy": "2022-08-04T04:33:25.444668Z",
          "iopub.status.idle": "2022-08-04T04:33:25.539817Z",
          "shell.execute_reply": "2022-08-04T04:33:25.539345Z"
        },
        "papermill": {
          "duration": 0.145511,
          "end_time": "2022-08-04T04:33:25.539956",
          "exception": false,
          "start_time": "2022-08-04T04:33:25.394445",
          "status": "completed"
        },
        "tags": []
      },
      "outputs": [],
      "source": [
        "if JAX_AVAILABLE:\n",
        "    A = jnp.zeros((3, 5, 5)).at[:, Ai, Aj].set(Ax)\n",
        "    jnp.einsum(\"ijk,ik->ij\", A, x)"
      ]
    },
    {
      "cell_type": "markdown",
      "id": "7ed8f62d",
      "metadata": {
        "papermill": {
          "duration": 0.041684,
          "end_time": "2022-08-04T04:33:25.625669",
          "exception": false,
          "start_time": "2022-08-04T04:33:25.583985",
          "status": "completed"
        },
        "tags": []
      },
      "source": [
        "Additionally, we need a way to multiply a sparse COO-matrix with a dense vector. This can be done with `klujax.coo_mul_vec`:"
      ]
    },
    {
      "cell_type": "code",
      "execution_count": 11,
      "id": "ea0ed9e0f15fdd3b",
      "metadata": {
        "execution": {
          "iopub.execute_input": "2022-08-04T04:33:25.713704Z",
          "iopub.status.busy": "2022-08-04T04:33:25.713230Z",
          "iopub.status.idle": "2022-08-04T04:33:25.714900Z",
          "shell.execute_reply": "2022-08-04T04:33:25.714520Z"
        },
        "papermill": {
          "duration": 0.047275,
          "end_time": "2022-08-04T04:33:25.715000",
          "exception": false,
          "start_time": "2022-08-04T04:33:25.667725",
          "status": "completed"
        },
        "tags": [
          "remove-input"
        ]
      },
      "outputs": [],
      "source": [
        "\n",
        "if klujax is not None:\n",
        "    show_doc(klujax.coo_mul_vec, doc_string=False, name=\"klujax.coo_mul_vec\")"
      ]
    },
    {
      "cell_type": "markdown",
      "id": "7f57c443",
      "metadata": {
        "papermill": {
          "duration": 0.042034,
          "end_time": "2022-08-04T04:33:25.799013",
          "exception": false,
          "start_time": "2022-08-04T04:33:25.756979",
          "status": "completed"
        },
        "tags": []
      },
      "source": [
        "However, it's useful to allow a batch dimension, this time *both* in `Ax` and in `b`:"
      ]
    },
    {
      "cell_type": "code",
      "execution_count": 12,
      "id": "1397a5228c5f2e63",
      "metadata": {
        "execution": {
          "iopub.execute_input": "2022-08-04T04:33:25.887105Z",
          "iopub.status.busy": "2022-08-04T04:33:25.886569Z",
          "iopub.status.idle": "2022-08-04T04:33:25.887694Z",
          "shell.execute_reply": "2022-08-04T04:33:25.888152Z"
        },
        "papermill": {
          "duration": 0.047547,
          "end_time": "2022-08-04T04:33:25.888293",
          "exception": false,
          "start_time": "2022-08-04T04:33:25.840746",
          "status": "completed"
        },
        "tags": [
          "remove-cell"
        ]
      },
      "outputs": [],
      "source": [
        "\n",
        "# @jax.jit  # TODO: make this available to autograd\n",
        "# def mul_coo(Ai, Aj, Ax, b):\n",
        "#     result = jnp.zeros_like(b).at[..., Ai, :].add(Ax[..., :, None] * b[..., Aj, :])\n",
        "#     return result"
      ]
    },
    {
      "cell_type": "code",
      "execution_count": 13,
      "id": "65fdb384be48390c",
      "metadata": {
        "execution": {
          "iopub.execute_input": "2022-08-04T04:33:25.976583Z",
          "iopub.status.busy": "2022-08-04T04:33:25.976094Z",
          "iopub.status.idle": "2022-08-04T04:33:25.978143Z",
          "shell.execute_reply": "2022-08-04T04:33:25.977747Z"
        },
        "papermill": {
          "duration": 0.047763,
          "end_time": "2022-08-04T04:33:25.978257",
          "exception": false,
          "start_time": "2022-08-04T04:33:25.930494",
          "status": "completed"
        },
        "tags": []
      },
      "outputs": [],
      "source": [
        "mul_coo = None \n",
        "if klujax is not None:\n",
        "    mul_coo = jax.vmap(klujax.coo_mul_vec, (None, None, 0, 0), 0)"
      ]
    },
    {
      "cell_type": "code",
      "execution_count": 14,
      "id": "cd03d66d863374d3",
      "metadata": {
        "execution": {
          "iopub.execute_input": "2022-08-04T04:33:26.064904Z",
          "iopub.status.busy": "2022-08-04T04:33:26.064479Z",
          "iopub.status.idle": "2022-08-04T04:33:26.067082Z",
          "shell.execute_reply": "2022-08-04T04:33:26.067400Z"
        },
        "papermill": {
          "duration": 0.04745,
          "end_time": "2022-08-04T04:33:26.067519",
          "exception": false,
          "start_time": "2022-08-04T04:33:26.020069",
          "status": "completed"
        },
        "tags": [
          "remove-input"
        ]
      },
      "outputs": [
        {
          "data": {
            "text/markdown": [
              "<h4 id=\"mul_coo\" class=\"doc_header\"><code>mul_coo</code><a href=\"\" class=\"source_link\" style=\"float:right\">[source]</a></h4>\n",
              "\n"
            ],
            "text/plain": [
              "<IPython.core.display.Markdown object>"
            ]
          },
          "metadata": {},
          "output_type": "display_data"
        }
      ],
      "source": [
        "show_doc(mul_coo, doc_string=False, name=\"mul_coo\")"
      ]
    },
    {
      "cell_type": "markdown",
      "id": "d26cc3d9",
      "metadata": {
        "papermill": {
          "duration": 0.042599,
          "end_time": "2022-08-04T04:33:26.152619",
          "exception": false,
          "start_time": "2022-08-04T04:33:26.110020",
          "status": "completed"
        },
        "tags": []
      },
      "source": [
        "Let's confirm this does the right thing:"
      ]
    },
    {
      "cell_type": "code",
      "execution_count": 15,
      "id": "bd868973",
      "metadata": {
        "execution": {
          "iopub.execute_input": "2022-08-04T04:33:26.243799Z",
          "iopub.status.busy": "2022-08-04T04:33:26.243356Z",
          "iopub.status.idle": "2022-08-04T04:33:26.245187Z",
          "shell.execute_reply": "2022-08-04T04:33:26.245561Z"
        },
        "papermill": {
          "duration": 0.051092,
          "end_time": "2022-08-04T04:33:26.245703",
          "exception": false,
          "start_time": "2022-08-04T04:33:26.194611",
          "status": "completed"
        },
        "tags": []
      },
      "outputs": [
        {
          "data": {
            "text/plain": [
              "array([[5., 3., 2., 6., 1.],\n",
              "       [5., 3., 2., 6., 1.],\n",
              "       [5., 3., 2., 6., 1.]])"
            ]
          },
          "execution_count": 15,
          "metadata": {},
          "output_type": "execute_result"
        }
      ],
      "source": [
        "if klujax is not None:\n",
        "    result = mul_coo(Ai, Aj, Ax, x)\n",
        "else:\n",
        "    result = jnp.array([\n",
        "        [5.0, 3.0, 2.0, 6.0, 1.0],\n",
        "        [5.0, 3.0, 2.00000001, 6.0, 1.0],\n",
        "        [5.0, 3.0, 2.00000001, 6.0, 1.0],\n",
        "    ])\n",
        "    \n",
        "result"
      ]
    },
    {
      "cell_type": "markdown",
      "id": "d71e89fa",
      "metadata": {
        "papermill": {
          "duration": 0.042696,
          "end_time": "2022-08-04T04:33:26.330897",
          "exception": false,
          "start_time": "2022-08-04T04:33:26.288201",
          "status": "completed"
        },
        "tags": []
      },
      "source": [
        "## Circuit Evaluation"
      ]
    },
    {
      "cell_type": "markdown",
      "id": "b2d61397efde1f06",
      "metadata": {},
      "source": [
        ":::{eval-rst}\n",
        ".. autofunction:: sax.backends.klu.evaluate_circuit_klu\n",
        ":::\n"
      ]
    },
    {
      "cell_type": "code",
      "execution_count": 16,
      "id": "1fc0710cd4d50cd3",
      "metadata": {
        "execution": {
          "iopub.execute_input": "2022-08-04T04:33:26.432398Z",
          "iopub.status.busy": "2022-08-04T04:33:26.430021Z",
          "iopub.status.idle": "2022-08-04T04:33:26.434121Z",
          "shell.execute_reply": "2022-08-04T04:33:26.433684Z"
        },
        "papermill": {
          "duration": 0.060639,
          "end_time": "2022-08-04T04:33:26.434223",
          "exception": false,
          "start_time": "2022-08-04T04:33:26.373584",
          "status": "completed"
        },
        "tags": [
          "hide-input"
        ]
      },
      "outputs": [],
      "source": [
        "def evaluate_circuit_klu(\n",
        "    instances: Dict[str, SType],\n",
        "    connections: Dict[str, str],\n",
        "    ports: Dict[str, str],\n",
        "):\n",
        "    \"\"\"evaluate a circuit using KLU for the given sdicts. \"\"\"\n",
        "\n",
        "    if klujax is None:\n",
        "        raise ImportError(\n",
        "            \"Could not import 'klujax'. \"\n",
        "            \"Please install it first before using backend method 'klu'\"\n",
        "        )\n",
        "\n",
        "    assert solve_klu is not None\n",
        "    assert mul_coo is not None\n",
        "\n",
        "    connections = {**connections, **{v: k for k, v in connections.items()}}\n",
        "    inverse_ports = {v: k for k, v in ports.items()}\n",
        "    port_map = {k: i for i, k in enumerate(ports)}\n",
        "\n",
        "    idx, Si, Sj, Sx, instance_ports = 0, [], [], [], {}\n",
        "    batch_shape = ()\n",
        "    for name, instance in instances.items():\n",
        "        si, sj, sx, ports_map = scoo(instance)\n",
        "        Si.append(si + idx)\n",
        "        Sj.append(sj + idx)\n",
        "        Sx.append(sx)\n",
        "        if len(sx.shape[:-1]) > len(batch_shape):\n",
        "            batch_shape = sx.shape[:-1]\n",
        "        instance_ports.update({f\"{name},{p}\": i + idx for p, i in ports_map.items()})\n",
        "        idx += len(ports_map)\n",
        "\n",
        "    Si = jnp.concatenate(Si, -1)\n",
        "    Sj = jnp.concatenate(Sj, -1)\n",
        "    Sx = jnp.concatenate(\n",
        "        [jnp.broadcast_to(sx, (*batch_shape, sx.shape[-1])) for sx in Sx], -1\n",
        "    )\n",
        "\n",
        "    n_col = idx\n",
        "    n_rhs = len(port_map)\n",
        "\n",
        "    Cmap = {\n",
        "        int(instance_ports[k]): int(instance_ports[v]) for k, v in connections.items()\n",
        "    }\n",
        "    Ci = jnp.array(list(Cmap.keys()), dtype=jnp.int32)\n",
        "    Cj = jnp.array(list(Cmap.values()), dtype=jnp.int32)\n",
        "\n",
        "    Cextmap = {int(instance_ports[k]): int(port_map[v]) for k, v in inverse_ports.items()}\n",
        "    Cexti = jnp.stack(list(Cextmap.keys()), 0)\n",
        "    Cextj = jnp.stack(list(Cextmap.values()), 0)\n",
        "    Cext = jnp.zeros((n_col, n_rhs), dtype=complex).at[Cexti, Cextj].set(1.0)\n",
        "\n",
        "    # TODO: make this block jittable...\n",
        "    Ix = jnp.ones((*batch_shape, n_col))\n",
        "    Ii = Ij = jnp.arange(n_col)\n",
        "    mask = Cj[None,:] == Si[:, None]\n",
        "    CSi = jnp.broadcast_to(Ci[None, :], mask.shape)[mask]\n",
        "\n",
        "    # CSi = jnp.where(Cj[None, :] == Si[:, None], Ci[None, :], 0).sum(1)\n",
        "    mask = (Cj[:, None] == Si[None, :]).any(0)\n",
        "    CSj = Sj[mask]\n",
        "    \n",
        "    if Sx.ndim > 1: # bug in JAX... see https://github.com/google/jax/issues/9050\n",
        "        CSx = Sx[..., mask]\n",
        "    else:\n",
        "        CSx = Sx[mask]\n",
        "        \n",
        "    # CSj = jnp.where(mask, Sj, 0)\n",
        "    # CSx = jnp.where(mask, Sx, 0.0)\n",
        "\n",
        "    I_CSi = jnp.concatenate([CSi, Ii], -1)\n",
        "    I_CSj = jnp.concatenate([CSj, Ij], -1)\n",
        "    I_CSx = jnp.concatenate([-CSx, Ix], -1)\n",
        "\n",
        "    n_col, n_rhs = Cext.shape\n",
        "    n_lhs = jnp.prod(jnp.array(batch_shape, dtype=jnp.int32))\n",
        "    Sx = Sx.reshape(n_lhs, -1)\n",
        "    I_CSx = I_CSx.reshape(n_lhs, -1)\n",
        "\n",
        "    inv_I_CS_Cext = solve_klu(I_CSi, I_CSj, I_CSx, Cext)\n",
        "    S_inv_I_CS_Cext = mul_coo(Si, Sj, Sx, inv_I_CS_Cext)\n",
        "\n",
        "    CextT_S_inv_I_CS_Cext = S_inv_I_CS_Cext[..., Cexti, :][..., :, Cextj]\n",
        "    \n",
        "    _, n, _ = CextT_S_inv_I_CS_Cext.shape\n",
        "    S = CextT_S_inv_I_CS_Cext.reshape(*batch_shape, n, n)\n",
        "\n",
        "    return S, port_map"
      ]
    },
    {
      "cell_type": "markdown",
      "id": "dce9d8ca",
      "metadata": {
        "papermill": {
          "duration": 0.04305,
          "end_time": "2022-08-04T04:33:26.519825",
          "exception": false,
          "start_time": "2022-08-04T04:33:26.476775",
          "status": "completed"
        },
        "tags": []
      },
      "source": [
        "## Example"
      ]
    },
    {
      "cell_type": "code",
      "execution_count": 17,
      "id": "088de2c6ee8a79b3",
      "metadata": {
        "execution": {
          "iopub.execute_input": "2022-08-04T04:33:26.611656Z",
          "iopub.status.busy": "2022-08-04T04:33:26.611128Z",
          "iopub.status.idle": "2022-08-04T04:33:26.612444Z",
          "shell.execute_reply": "2022-08-04T04:33:26.612760Z"
        },
        "papermill": {
          "duration": 0.050229,
          "end_time": "2022-08-04T04:33:26.612898",
          "exception": false,
          "start_time": "2022-08-04T04:33:26.562669",
          "status": "completed"
        },
        "tags": [
          "remove-cell"
        ]
      },
      "outputs": [],
      "source": [
        "if klujax is None:\n",
        "    def evaluate_circuit_klu(\n",
        "        instances: Dict[str, SType],\n",
        "        connections: Dict[str, str],\n",
        "        ports: Dict[str, str],\n",
        "    ):\n",
        "        sdict = evaluate_circuit(instances, connections, ports)\n",
        "        sdense = sax.sdense(sdict)\n",
        "        return sdense"
      ]
    },
    {
      "cell_type": "code",
      "execution_count": 18,
      "id": "f577522a",
      "metadata": {
        "execution": {
          "iopub.execute_input": "2022-08-04T04:33:26.710543Z",
          "iopub.status.busy": "2022-08-04T04:33:26.710093Z",
          "iopub.status.idle": "2022-08-04T04:33:27.651685Z",
          "shell.execute_reply": "2022-08-04T04:33:27.651213Z"
        },
        "papermill": {
          "duration": 0.995917,
          "end_time": "2022-08-04T04:33:27.651817",
          "exception": false,
          "start_time": "2022-08-04T04:33:26.655900",
          "status": "completed"
        },
        "tags": []
      },
      "outputs": [],
      "source": [
        "wg_sdict: SDict = {\n",
        "    (\"in0\", \"out0\"): 0.5 + 0.86603j,\n",
        "    (\"out0\", \"in0\"): 0.5 + 0.86603j,\n",
        "}\n",
        "\n",
        "\u03c4, \u03ba = 0.5 ** 0.5, 1j * 0.5 ** 0.5\n",
        "dc_sdense: SDense = (\n",
        "    jnp.array([[0, 0, \u03c4, \u03ba], \n",
        "               [0, 0, \u03ba, \u03c4], \n",
        "               [\u03c4, \u03ba, 0, 0], \n",
        "               [\u03ba, \u03c4, 0, 0]]),\n",
        "    {\"in0\": 0, \"in1\": 1, \"out0\": 2, \"out1\": 3},\n",
        ")\n",
        "\n",
        "mzi_sdense: SDense = evaluate_circuit_klu(\n",
        "    instances={\n",
        "        \"dc1\": dc_sdense,\n",
        "        \"wg\": wg_sdict,\n",
        "        \"dc2\": dc_sdense,\n",
        "    },\n",
        "    connections={\n",
        "        \"dc1,out0\": \"wg,in0\",\n",
        "        \"wg,out0\": \"dc2,in0\",\n",
        "        \"dc1,out1\": \"dc2,in1\",\n",
        "    },\n",
        "    ports={\n",
        "        \"in0\": \"dc1,in0\",\n",
        "        \"in1\": \"dc1,in1\",\n",
        "        \"out0\": \"dc2,out0\",\n",
        "        \"out1\": \"dc2,out1\",\n",
        "    }\n",
        ")"
      ]
    },
    {
      "cell_type": "markdown",
      "id": "60b6d1e6",
      "metadata": {
        "papermill": {
          "duration": 0.043638,
          "end_time": "2022-08-04T04:33:27.739797",
          "exception": false,
          "start_time": "2022-08-04T04:33:27.696159",
          "status": "completed"
        },
        "tags": []
      },
      "source": [
        "the KLU backend yields `SDense` results by default:"
      ]
    },
    {
      "cell_type": "code",
      "execution_count": 19,
      "id": "ecc3115e",
      "metadata": {
        "execution": {
          "iopub.execute_input": "2022-08-04T04:33:27.833463Z",
          "iopub.status.busy": "2022-08-04T04:33:27.832117Z",
          "iopub.status.idle": "2022-08-04T04:33:27.835430Z",
          "shell.execute_reply": "2022-08-04T04:33:27.835836Z"
        },
        "papermill": {
          "duration": 0.052312,
          "end_time": "2022-08-04T04:33:27.835969",
          "exception": false,
          "start_time": "2022-08-04T04:33:27.783657",
          "status": "completed"
        },
        "tags": []
      },
      "outputs": [
        {
          "data": {
            "text/plain": [
              "(array([[ 0.        +0.j        ,  0.        +0.j        ,\n",
              "         -0.24999999+0.433015j  , -0.433015  +0.74999994j],\n",
              "        [ 0.        +0.j        ,  0.        +0.j        ,\n",
              "         -0.433015  +0.74999994j,  0.24999999-0.433015j  ],\n",
              "        [-0.24999999+0.433015j  , -0.433015  +0.74999994j,\n",
              "          0.        +0.j        ,  0.        +0.j        ],\n",
              "        [-0.433015  +0.74999994j,  0.24999999-0.433015j  ,\n",
              "          0.        +0.j        ,  0.        +0.j        ]],            dtype=complex64)),\n",
              " {'in0': 0, 'in1': 1, 'out0': 2, 'out1': 3})"
            ]
          },
          "execution_count": 19,
          "metadata": {},
          "output_type": "execute_result"
        }
      ],
      "source": [
        "mzi_sdense"
      ]
    },
    {
      "cell_type": "markdown",
      "id": "4b8e87f3",
      "metadata": {
        "papermill": {
          "duration": 0.043611,
          "end_time": "2022-08-04T04:33:27.923143",
          "exception": false,
          "start_time": "2022-08-04T04:33:27.879532",
          "status": "completed"
        },
        "tags": []
      },
      "source": [
        "An `SDense` is returned for perfomance reasons. By returning an `SDense` by default we prevent any internal `SDict -> SDense` conversions in deeply hierarchical circuits. It's however very easy to convert `SDense` to `SDict` as a final step. To do this, wrap the result (or the function generating the result) with `sdict`:"
      ]
    },
    {
      "cell_type": "code",
      "execution_count": 20,
      "id": "7202ab1e",
      "metadata": {
        "execution": {
          "iopub.execute_input": "2022-08-04T04:33:28.015954Z",
          "iopub.status.busy": "2022-08-04T04:33:28.015520Z",
          "iopub.status.idle": "2022-08-04T04:33:28.065407Z",
          "shell.execute_reply": "2022-08-04T04:33:28.065807Z"
        },
        "papermill": {
          "duration": 0.098803,
          "end_time": "2022-08-04T04:33:28.065964",
          "exception": false,
          "start_time": "2022-08-04T04:33:27.967161",
          "status": "completed"
        },
        "tags": []
      },
      "outputs": [
        {
          "data": {
            "text/plain": [
              "{('in0', 'in0'): 0j,\n",
              " ('in0', 'in1'): 0j,\n",
              " ('in0', 'out0'): -0.25+0.43301j,\n",
              " ('in0', 'out1'): -0.43301+0.75j,\n",
              " ('in1', 'in0'): 0j,\n",
              " ('in1', 'in1'): 0j,\n",
              " ('in1', 'out0'): -0.43301+0.75j,\n",
              " ('in1', 'out1'): 0.25-0.43301j,\n",
              " ('out0', 'in0'): -0.25+0.43301j,\n",
              " ('out0', 'in1'): -0.43301+0.75j,\n",
              " ('out0', 'out0'): 0j,\n",
              " ('out0', 'out1'): 0j,\n",
              " ('out1', 'in0'): -0.43301+0.75j,\n",
              " ('out1', 'in1'): 0.25-0.43301j,\n",
              " ('out1', 'out0'): 0j,\n",
              " ('out1', 'out1'): 0j}"
            ]
          },
          "execution_count": 20,
          "metadata": {},
          "output_type": "execute_result"
        }
      ],
      "source": [
        "sax.sdict(mzi_sdense)"
      ]
    },
    {
      "cell_type": "markdown",
      "id": "9f8cd5ea",
      "metadata": {
        "papermill": {
          "duration": 0.044193,
          "end_time": "2022-08-04T04:33:28.155338",
          "exception": false,
          "start_time": "2022-08-04T04:33:28.111145",
          "status": "completed"
        },
        "tags": []
      },
      "source": [
        "## Algorithm Walkthrough"
      ]
    },
    {
      "cell_type": "code",
      "execution_count": 21,
      "id": "665c856d",
      "metadata": {
        "execution": {
          "iopub.execute_input": "2022-08-04T04:33:28.248189Z",
          "iopub.status.busy": "2022-08-04T04:33:28.247736Z",
          "iopub.status.idle": "2022-08-04T04:33:28.248729Z",
          "shell.execute_reply": "2022-08-04T04:33:28.249126Z"
        },
        "papermill": {
          "duration": 0.050291,
          "end_time": "2022-08-04T04:33:28.249256",
          "exception": false,
          "start_time": "2022-08-04T04:33:28.198965",
          "status": "completed"
        },
        "tags": []
      },
      "outputs": [],
      "source": [
        "instances={\n",
        "    \"dc1\": dc_sdense,\n",
        "    \"wg\": wg_sdict,\n",
        "    \"dc2\": dc_sdense,\n",
        "}\n",
        "connections={\n",
        "    \"dc1,out0\": \"wg,in0\",\n",
        "    \"wg,out0\": \"dc2,in0\",\n",
        "    \"dc1,out1\": \"dc2,in1\",\n",
        "}\n",
        "ports={\n",
        "    \"in0\": \"dc1,in0\",\n",
        "    \"in1\": \"dc1,in1\",\n",
        "    \"out0\": \"dc2,out0\",\n",
        "    \"out1\": \"dc2,out1\",\n",
        "}"
      ]
    },
    {
      "cell_type": "markdown",
      "id": "b5bf5188",
      "metadata": {
        "papermill": {
          "duration": 0.044295,
          "end_time": "2022-08-04T04:33:28.337364",
          "exception": false,
          "start_time": "2022-08-04T04:33:28.293069",
          "status": "completed"
        },
        "tags": []
      },
      "source": [
        "Let's first enforce $C^T = C$:"
      ]
    },
    {
      "cell_type": "code",
      "execution_count": 22,
      "id": "6d7d4c39",
      "metadata": {
        "execution": {
          "iopub.execute_input": "2022-08-04T04:33:28.430744Z",
          "iopub.status.busy": "2022-08-04T04:33:28.430309Z",
          "iopub.status.idle": "2022-08-04T04:33:28.431843Z",
          "shell.execute_reply": "2022-08-04T04:33:28.432241Z"
        },
        "papermill": {
          "duration": 0.051074,
          "end_time": "2022-08-04T04:33:28.432373",
          "exception": false,
          "start_time": "2022-08-04T04:33:28.381299",
          "status": "completed"
        },
        "tags": []
      },
      "outputs": [
        {
          "data": {
            "text/plain": [
              "{'dc1,out0': 'wg,in0',\n",
              " 'wg,out0': 'dc2,in0',\n",
              " 'dc1,out1': 'dc2,in1',\n",
              " 'wg,in0': 'dc1,out0',\n",
              " 'dc2,in0': 'wg,out0',\n",
              " 'dc2,in1': 'dc1,out1'}"
            ]
          },
          "execution_count": 22,
          "metadata": {},
          "output_type": "execute_result"
        }
      ],
      "source": [
        "connections = {**connections, **{v: k for k, v in connections.items()}}\n",
        "connections"
      ]
    },
    {
      "cell_type": "markdown",
      "id": "a41250ec",
      "metadata": {
        "papermill": {
          "duration": 0.044373,
          "end_time": "2022-08-04T04:33:28.521147",
          "exception": false,
          "start_time": "2022-08-04T04:33:28.476774",
          "status": "completed"
        },
        "tags": []
      },
      "source": [
        "We'll also need the reversed ports:"
      ]
    },
    {
      "cell_type": "code",
      "execution_count": 23,
      "id": "9a70463f",
      "metadata": {
        "execution": {
          "iopub.execute_input": "2022-08-04T04:33:28.615357Z",
          "iopub.status.busy": "2022-08-04T04:33:28.614915Z",
          "iopub.status.idle": "2022-08-04T04:33:28.617526Z",
          "shell.execute_reply": "2022-08-04T04:33:28.617147Z"
        },
        "papermill": {
          "duration": 0.052326,
          "end_time": "2022-08-04T04:33:28.617637",
          "exception": false,
          "start_time": "2022-08-04T04:33:28.565311",
          "status": "completed"
        },
        "tags": []
      },
      "outputs": [
        {
          "data": {
            "text/plain": [
              "{'dc1,in0': 'in0', 'dc1,in1': 'in1', 'dc2,out0': 'out0', 'dc2,out1': 'out1'}"
            ]
          },
          "execution_count": 23,
          "metadata": {},
          "output_type": "execute_result"
        }
      ],
      "source": [
        "inverse_ports = {v: k for k, v in ports.items()}\n",
        "inverse_ports"
      ]
    },
    {
      "cell_type": "markdown",
      "id": "1e96443b",
      "metadata": {
        "papermill": {
          "duration": 0.044505,
          "end_time": "2022-08-04T04:33:28.706877",
          "exception": false,
          "start_time": "2022-08-04T04:33:28.662372",
          "status": "completed"
        },
        "tags": []
      },
      "source": [
        "An the port indices"
      ]
    },
    {
      "cell_type": "code",
      "execution_count": 24,
      "id": "8e18d182",
      "metadata": {
        "execution": {
          "iopub.execute_input": "2022-08-04T04:33:28.801154Z",
          "iopub.status.busy": "2022-08-04T04:33:28.800670Z",
          "iopub.status.idle": "2022-08-04T04:33:28.802916Z",
          "shell.execute_reply": "2022-08-04T04:33:28.803580Z"
        },
        "papermill": {
          "duration": 0.052336,
          "end_time": "2022-08-04T04:33:28.803715",
          "exception": false,
          "start_time": "2022-08-04T04:33:28.751379",
          "status": "completed"
        },
        "tags": []
      },
      "outputs": [
        {
          "data": {
            "text/plain": [
              "{'in0': 0, 'in1': 1, 'out0': 2, 'out1': 3}"
            ]
          },
          "execution_count": 24,
          "metadata": {},
          "output_type": "execute_result"
        }
      ],
      "source": [
        "port_map = {k: i for i, k in enumerate(ports)}\n",
        "port_map"
      ]
    },
    {
      "cell_type": "markdown",
      "id": "70924074",
      "metadata": {
        "papermill": {
          "duration": 0.044407,
          "end_time": "2022-08-04T04:33:28.892471",
          "exception": false,
          "start_time": "2022-08-04T04:33:28.848064",
          "status": "completed"
        },
        "tags": []
      },
      "source": [
        "Let's now create the COO-representation of our block diagonal S-matrix $S_{bd}$:"
      ]
    },
    {
      "cell_type": "code",
      "execution_count": 25,
      "id": "835deb8f",
      "metadata": {
        "execution": {
          "iopub.execute_input": "2022-08-04T04:33:28.993104Z",
          "iopub.status.busy": "2022-08-04T04:33:28.991336Z",
          "iopub.status.idle": "2022-08-04T04:33:29.139241Z",
          "shell.execute_reply": "2022-08-04T04:33:29.139635Z"
        },
        "papermill": {
          "duration": 0.203119,
          "end_time": "2022-08-04T04:33:29.139790",
          "exception": false,
          "start_time": "2022-08-04T04:33:28.936671",
          "status": "completed"
        },
        "tags": []
      },
      "outputs": [
        {
          "name": "stdout",
          "output_type": "stream",
          "text": [
            "[0 0 0 0 1 1 1 1 2 2 2 2 3 3 3 3 4 5 6 6 6 6 7 7 7 7 8 8 8 8 9 9 9 9]\n",
            "[0 1 2 3 0 1 2 3 0 1 2 3 0 1 2 3 5 4 6 7 8 9 6 7 8 9 6 7 8 9 6 7 8 9]\n",
            "[0.        +0.j         0.        +0.j         0.70710677+0.j\n",
            " 0.        +0.70710677j 0.        +0.j         0.        +0.j\n",
            " 0.        +0.70710677j 0.70710677+0.j         0.70710677+0.j\n",
            " 0.        +0.70710677j 0.        +0.j         0.        +0.j\n",
            " 0.        +0.70710677j 0.70710677+0.j         0.        +0.j\n",
            " 0.        +0.j         0.5       +0.86603j    0.5       +0.86603j\n",
            " 0.        +0.j         0.        +0.j         0.70710677+0.j\n",
            " 0.        +0.70710677j 0.        +0.j         0.        +0.j\n",
            " 0.        +0.70710677j 0.70710677+0.j         0.70710677+0.j\n",
            " 0.        +0.70710677j 0.        +0.j         0.        +0.j\n",
            " 0.        +0.70710677j 0.70710677+0.j         0.        +0.j\n",
            " 0.        +0.j        ]\n"
          ]
        }
      ],
      "source": [
        "idx, Si, Sj, Sx, instance_ports = 0, [], [], [], {}\n",
        "batch_shape = ()\n",
        "for name, instance in instances.items():\n",
        "    si, sj, sx, ports_map = scoo(instance)\n",
        "    Si.append(si + idx)\n",
        "    Sj.append(sj + idx)\n",
        "    Sx.append(sx)\n",
        "    if len(sx.shape[:-1]) > len(batch_shape):\n",
        "        batch_shape = sx.shape[:-1]\n",
        "    instance_ports.update({f\"{name},{p}\": i + idx for p, i in ports_map.items()})\n",
        "    idx += len(ports_map)\n",
        "Si = jnp.concatenate(Si, -1)\n",
        "Sj = jnp.concatenate(Sj, -1)\n",
        "Sx = jnp.concatenate([jnp.broadcast_to(sx, (*batch_shape, sx.shape[-1])) for sx in Sx], -1)\n",
        "\n",
        "print(Si)\n",
        "print(Sj)\n",
        "print(Sx)"
      ]
    },
    {
      "cell_type": "markdown",
      "id": "a8edefa1",
      "metadata": {
        "papermill": {
          "duration": 0.045785,
          "end_time": "2022-08-04T04:33:29.231641",
          "exception": false,
          "start_time": "2022-08-04T04:33:29.185856",
          "status": "completed"
        },
        "tags": []
      },
      "source": [
        "note that we also kept track of the `batch_shape`, i.e. the number of independent simulations (usually number of wavelengths). In the example being used here we don't have a batch dimension (all elements of the `SDict` are `0D`):"
      ]
    },
    {
      "cell_type": "code",
      "execution_count": 26,
      "id": "7513759a",
      "metadata": {
        "execution": {
          "iopub.execute_input": "2022-08-04T04:33:29.328040Z",
          "iopub.status.busy": "2022-08-04T04:33:29.327601Z",
          "iopub.status.idle": "2022-08-04T04:33:29.329385Z",
          "shell.execute_reply": "2022-08-04T04:33:29.329727Z"
        },
        "papermill": {
          "duration": 0.052873,
          "end_time": "2022-08-04T04:33:29.329860",
          "exception": false,
          "start_time": "2022-08-04T04:33:29.276987",
          "status": "completed"
        },
        "tags": []
      },
      "outputs": [
        {
          "data": {
            "text/plain": [
              "()"
            ]
          },
          "execution_count": 26,
          "metadata": {},
          "output_type": "execute_result"
        }
      ],
      "source": [
        "batch_shape"
      ]
    },
    {
      "cell_type": "markdown",
      "id": "c63b14d7",
      "metadata": {
        "papermill": {
          "duration": 0.045978,
          "end_time": "2022-08-04T04:33:29.421778",
          "exception": false,
          "start_time": "2022-08-04T04:33:29.375800",
          "status": "completed"
        },
        "tags": []
      },
      "source": [
        "We'll also keep track of the number of columns"
      ]
    },
    {
      "cell_type": "code",
      "execution_count": 27,
      "id": "89000432",
      "metadata": {
        "execution": {
          "iopub.execute_input": "2022-08-04T04:33:29.516888Z",
          "iopub.status.busy": "2022-08-04T04:33:29.516458Z",
          "iopub.status.idle": "2022-08-04T04:33:29.519939Z",
          "shell.execute_reply": "2022-08-04T04:33:29.520251Z"
        },
        "papermill": {
          "duration": 0.052829,
          "end_time": "2022-08-04T04:33:29.520393",
          "exception": false,
          "start_time": "2022-08-04T04:33:29.467564",
          "status": "completed"
        },
        "tags": []
      },
      "outputs": [
        {
          "data": {
            "text/plain": [
              "10"
            ]
          },
          "execution_count": 27,
          "metadata": {},
          "output_type": "execute_result"
        }
      ],
      "source": [
        "n_col = idx\n",
        "n_col"
      ]
    },
    {
      "cell_type": "markdown",
      "id": "7b0f95da",
      "metadata": {
        "papermill": {
          "duration": 0.047301,
          "end_time": "2022-08-04T04:33:29.613970",
          "exception": false,
          "start_time": "2022-08-04T04:33:29.566669",
          "status": "completed"
        },
        "tags": []
      },
      "source": [
        "And we'll need to solve the circuit for each output port, i.e. we need to solve `n_rhs` number of equations:"
      ]
    },
    {
      "cell_type": "code",
      "execution_count": 28,
      "id": "27902354",
      "metadata": {
        "execution": {
          "iopub.execute_input": "2022-08-04T04:33:29.711805Z",
          "iopub.status.busy": "2022-08-04T04:33:29.711357Z",
          "iopub.status.idle": "2022-08-04T04:33:29.712948Z",
          "shell.execute_reply": "2022-08-04T04:33:29.713336Z"
        },
        "papermill": {
          "duration": 0.053025,
          "end_time": "2022-08-04T04:33:29.713470",
          "exception": false,
          "start_time": "2022-08-04T04:33:29.660445",
          "status": "completed"
        },
        "tags": []
      },
      "outputs": [
        {
          "data": {
            "text/plain": [
              "4"
            ]
          },
          "execution_count": 28,
          "metadata": {},
          "output_type": "execute_result"
        }
      ],
      "source": [
        "n_rhs = len(port_map)\n",
        "n_rhs"
      ]
    },
    {
      "cell_type": "markdown",
      "id": "05056b46",
      "metadata": {
        "papermill": {
          "duration": 0.046524,
          "end_time": "2022-08-04T04:33:29.806415",
          "exception": false,
          "start_time": "2022-08-04T04:33:29.759891",
          "status": "completed"
        },
        "tags": []
      },
      "source": [
        "We can represent the internal connection matrix $C_{int}$ as a mapping between port indices:"
      ]
    },
    {
      "cell_type": "code",
      "execution_count": 29,
      "id": "f3ff1fa7",
      "metadata": {
        "execution": {
          "iopub.execute_input": "2022-08-04T04:33:29.904532Z",
          "iopub.status.busy": "2022-08-04T04:33:29.904088Z",
          "iopub.status.idle": "2022-08-04T04:33:29.905724Z",
          "shell.execute_reply": "2022-08-04T04:33:29.906077Z"
        },
        "papermill": {
          "duration": 0.053541,
          "end_time": "2022-08-04T04:33:29.906218",
          "exception": false,
          "start_time": "2022-08-04T04:33:29.852677",
          "status": "completed"
        },
        "tags": []
      },
      "outputs": [
        {
          "data": {
            "text/plain": [
              "{2: 4, 5: 6, 3: 7, 4: 2, 6: 5, 7: 3}"
            ]
          },
          "execution_count": 29,
          "metadata": {},
          "output_type": "execute_result"
        }
      ],
      "source": [
        "Cmap = {int(instance_ports[k]): int(instance_ports[v]) for k, v in connections.items()}\n",
        "Cmap"
      ]
    },
    {
      "cell_type": "markdown",
      "id": "999164af",
      "metadata": {
        "papermill": {
          "duration": 0.046857,
          "end_time": "2022-08-04T04:33:30.000062",
          "exception": false,
          "start_time": "2022-08-04T04:33:29.953205",
          "status": "completed"
        },
        "tags": []
      },
      "source": [
        "Therefore, the COO-representation of this connection matrix can be obtained as follows (note that an array of values Cx is not necessary, all non-zero elements in a connection matrix are 1)"
      ]
    },
    {
      "cell_type": "code",
      "execution_count": 30,
      "id": "9e4f1728",
      "metadata": {
        "execution": {
          "iopub.execute_input": "2022-08-04T04:33:30.099884Z",
          "iopub.status.busy": "2022-08-04T04:33:30.099440Z",
          "iopub.status.idle": "2022-08-04T04:33:30.100968Z",
          "shell.execute_reply": "2022-08-04T04:33:30.101320Z"
        },
        "papermill": {
          "duration": 0.054773,
          "end_time": "2022-08-04T04:33:30.101449",
          "exception": false,
          "start_time": "2022-08-04T04:33:30.046676",
          "status": "completed"
        },
        "tags": []
      },
      "outputs": [
        {
          "name": "stdout",
          "output_type": "stream",
          "text": [
            "[2 5 3 4 6 7]\n",
            "[4 6 7 2 5 3]\n"
          ]
        }
      ],
      "source": [
        "Ci = jnp.array(list(Cmap.keys()), dtype=jnp.int32)\n",
        "Cj = jnp.array(list(Cmap.values()), dtype=jnp.int32)\n",
        "print(Ci)\n",
        "print(Cj)"
      ]
    },
    {
      "cell_type": "markdown",
      "id": "47d5ed60",
      "metadata": {
        "papermill": {
          "duration": 0.046987,
          "end_time": "2022-08-04T04:33:30.195873",
          "exception": false,
          "start_time": "2022-08-04T04:33:30.148886",
          "status": "completed"
        },
        "tags": []
      },
      "source": [
        "We can represent the external connection matrix $C_{ext}$ as a map between internal port indices and external port indices:"
      ]
    },
    {
      "cell_type": "code",
      "execution_count": 31,
      "id": "f56ae166",
      "metadata": {
        "execution": {
          "iopub.execute_input": "2022-08-04T04:33:30.295761Z",
          "iopub.status.busy": "2022-08-04T04:33:30.295311Z",
          "iopub.status.idle": "2022-08-04T04:33:30.298068Z",
          "shell.execute_reply": "2022-08-04T04:33:30.297693Z"
        },
        "papermill": {
          "duration": 0.055224,
          "end_time": "2022-08-04T04:33:30.298171",
          "exception": false,
          "start_time": "2022-08-04T04:33:30.242947",
          "status": "completed"
        },
        "tags": []
      },
      "outputs": [
        {
          "data": {
            "text/plain": [
              "{0: 0, 1: 1, 8: 2, 9: 3}"
            ]
          },
          "execution_count": 31,
          "metadata": {},
          "output_type": "execute_result"
        }
      ],
      "source": [
        "Cextmap = {int(instance_ports[k]): int(port_map[v]) for k, v in inverse_ports.items()}\n",
        "Cextmap"
      ]
    },
    {
      "cell_type": "markdown",
      "id": "2485c01d",
      "metadata": {
        "papermill": {
          "duration": 0.047273,
          "end_time": "2022-08-04T04:33:30.392863",
          "exception": false,
          "start_time": "2022-08-04T04:33:30.345590",
          "status": "completed"
        },
        "tags": []
      },
      "source": [
        "Just as for the internal matrix we can represent this external connection matrix in COO-format:"
      ]
    },
    {
      "cell_type": "code",
      "execution_count": 32,
      "id": "cfb419ac",
      "metadata": {
        "execution": {
          "iopub.execute_input": "2022-08-04T04:33:30.496900Z",
          "iopub.status.busy": "2022-08-04T04:33:30.496447Z",
          "iopub.status.idle": "2022-08-04T04:33:30.523470Z",
          "shell.execute_reply": "2022-08-04T04:33:30.523821Z"
        },
        "papermill": {
          "duration": 0.083829,
          "end_time": "2022-08-04T04:33:30.523967",
          "exception": false,
          "start_time": "2022-08-04T04:33:30.440138",
          "status": "completed"
        },
        "tags": []
      },
      "outputs": [
        {
          "name": "stdout",
          "output_type": "stream",
          "text": [
            "[0 1 8 9]\n",
            "[0 1 2 3]\n"
          ]
        }
      ],
      "source": [
        "Cexti = jnp.stack(list(Cextmap.keys()), 0)\n",
        "Cextj = jnp.stack(list(Cextmap.values()), 0)\n",
        "print(Cexti)\n",
        "print(Cextj)"
      ]
    },
    {
      "cell_type": "markdown",
      "id": "e46d609c",
      "metadata": {
        "papermill": {
          "duration": 0.048531,
          "end_time": "2022-08-04T04:33:30.620515",
          "exception": false,
          "start_time": "2022-08-04T04:33:30.571984",
          "status": "completed"
        },
        "tags": []
      },
      "source": [
        "However, we actually need it as a dense representation:\n",
        "\n",
        "> help needed: can we find a way later on to keep this sparse?"
      ]
    },
    {
      "cell_type": "code",
      "execution_count": 33,
      "id": "25c4ec6e",
      "metadata": {
        "execution": {
          "iopub.execute_input": "2022-08-04T04:33:30.726055Z",
          "iopub.status.busy": "2022-08-04T04:33:30.725582Z",
          "iopub.status.idle": "2022-08-04T04:33:30.883196Z",
          "shell.execute_reply": "2022-08-04T04:33:30.882733Z"
        },
        "papermill": {
          "duration": 0.215201,
          "end_time": "2022-08-04T04:33:30.883331",
          "exception": false,
          "start_time": "2022-08-04T04:33:30.668130",
          "status": "completed"
        },
        "tags": []
      },
      "outputs": [],
      "source": [
        "if JAX_AVAILABLE:\n",
        "    Cext = jnp.zeros((n_col, n_rhs), dtype=complex).at[Cexti, Cextj].set(1.0)\n",
        "    Cext"
      ]
    },
    {
      "cell_type": "markdown",
      "id": "b31cc279",
      "metadata": {
        "papermill": {
          "duration": 0.049275,
          "end_time": "2022-08-04T04:33:30.981973",
          "exception": false,
          "start_time": "2022-08-04T04:33:30.932698",
          "status": "completed"
        },
        "tags": []
      },
      "source": [
        "We'll now calculate the row index `CSi` of $C_{int}S_{bd}$ in COO-format:"
      ]
    },
    {
      "cell_type": "code",
      "execution_count": 34,
      "id": "2660d26e1a42a878",
      "metadata": {
        "execution": {
          "iopub.execute_input": "2022-08-04T04:33:31.087013Z",
          "iopub.status.busy": "2022-08-04T04:33:31.086561Z",
          "iopub.status.idle": "2022-08-04T04:33:31.270920Z",
          "shell.execute_reply": "2022-08-04T04:33:31.271308Z"
        },
        "papermill": {
          "duration": 0.242017,
          "end_time": "2022-08-04T04:33:31.271469",
          "exception": false,
          "start_time": "2022-08-04T04:33:31.029452",
          "status": "completed"
        },
        "tags": []
      },
      "outputs": [
        {
          "data": {
            "text/plain": [
              "array([4, 4, 4, 4, 7, 7, 7, 7, 2, 6, 5, 5, 5, 5, 3, 3, 3, 3])"
            ]
          },
          "execution_count": 34,
          "metadata": {},
          "output_type": "execute_result"
        }
      ],
      "source": [
        "# TODO: make this block jittable...\n",
        "Ix = jnp.ones((*batch_shape, n_col))\n",
        "Ii = Ij = jnp.arange(n_col)\n",
        "mask = Cj[None,:] == Si[:, None]\n",
        "CSi = jnp.broadcast_to(Ci[None, :], mask.shape)[mask]\n",
        "CSi"
      ]
    },
    {
      "cell_type": "markdown",
      "id": "a2657582",
      "metadata": {
        "papermill": {
          "duration": 0.048045,
          "end_time": "2022-08-04T04:33:31.368322",
          "exception": false,
          "start_time": "2022-08-04T04:33:31.320277",
          "status": "completed"
        },
        "tags": []
      },
      "source": [
        "> `CSi`: possible jittable alternative? how do we remove the zeros?"
      ]
    },
    {
      "cell_type": "code",
      "execution_count": 35,
      "id": "d4ea2cb5",
      "metadata": {
        "execution": {
          "iopub.execute_input": "2022-08-04T04:33:31.470056Z",
          "iopub.status.busy": "2022-08-04T04:33:31.469620Z",
          "iopub.status.idle": "2022-08-04T04:33:31.516704Z",
          "shell.execute_reply": "2022-08-04T04:33:31.517097Z"
        },
        "papermill": {
          "duration": 0.100644,
          "end_time": "2022-08-04T04:33:31.517257",
          "exception": false,
          "start_time": "2022-08-04T04:33:31.416613",
          "status": "completed"
        },
        "tags": []
      },
      "outputs": [
        {
          "data": {
            "text/plain": [
              "array([0, 0, 0, 0, 0, 0, 0, 0, 4, 4, 4, 4, 7, 7, 7, 7, 2, 6, 5, 5,\n",
              "       5, 5, 3, 3, 3, 3, 0, 0, 0, 0, 0, 0, 0, 0])"
            ]
          },
          "execution_count": 35,
          "metadata": {},
          "output_type": "execute_result"
        }
      ],
      "source": [
        "CSi_ = jnp.where(Cj[None, :] == Si[:, None], Ci[None, :], 0).sum(1) # not used\n",
        "CSi_ # not used"
      ]
    },
    {
      "cell_type": "markdown",
      "id": "44fc620e",
      "metadata": {
        "papermill": {
          "duration": 0.048631,
          "end_time": "2022-08-04T04:33:31.614832",
          "exception": false,
          "start_time": "2022-08-04T04:33:31.566201",
          "status": "completed"
        },
        "tags": []
      },
      "source": [
        "The column index `CSj` of $C_{int}S_{bd}$ can more easily be obtained:"
      ]
    },
    {
      "cell_type": "code",
      "execution_count": 36,
      "id": "f71fdd7c",
      "metadata": {
        "execution": {
          "iopub.execute_input": "2022-08-04T04:33:31.721884Z",
          "iopub.status.busy": "2022-08-04T04:33:31.720036Z",
          "iopub.status.idle": "2022-08-04T04:33:31.803033Z",
          "shell.execute_reply": "2022-08-04T04:33:31.803366Z"
        },
        "papermill": {
          "duration": 0.140365,
          "end_time": "2022-08-04T04:33:31.803516",
          "exception": false,
          "start_time": "2022-08-04T04:33:31.663151",
          "status": "completed"
        },
        "tags": []
      },
      "outputs": [
        {
          "data": {
            "text/plain": [
              "array([0, 1, 2, 3, 0, 1, 2, 3, 5, 4, 6, 7, 8, 9, 6, 7, 8, 9])"
            ]
          },
          "execution_count": 36,
          "metadata": {},
          "output_type": "execute_result"
        }
      ],
      "source": [
        "mask = (Cj[:, None] == Si[None, :]).any(0)\n",
        "CSj = Sj[mask]\n",
        "CSj"
      ]
    },
    {
      "cell_type": "markdown",
      "id": "99bf7684",
      "metadata": {
        "papermill": {
          "duration": 0.049,
          "end_time": "2022-08-04T04:33:31.901422",
          "exception": false,
          "start_time": "2022-08-04T04:33:31.852422",
          "status": "completed"
        },
        "tags": []
      },
      "source": [
        "> `CSj`: possible jittable alternative? how do we remove the zeros?"
      ]
    },
    {
      "cell_type": "code",
      "execution_count": 37,
      "id": "ffa7bc82",
      "metadata": {
        "execution": {
          "iopub.execute_input": "2022-08-04T04:33:32.009589Z",
          "iopub.status.busy": "2022-08-04T04:33:32.009085Z",
          "iopub.status.idle": "2022-08-04T04:33:32.025862Z",
          "shell.execute_reply": "2022-08-04T04:33:32.026177Z"
        },
        "papermill": {
          "duration": 0.07669,
          "end_time": "2022-08-04T04:33:32.026323",
          "exception": false,
          "start_time": "2022-08-04T04:33:31.949633",
          "status": "completed"
        },
        "tags": []
      },
      "outputs": [
        {
          "data": {
            "text/plain": [
              "array([0, 0, 0, 0, 0, 0, 0, 0, 0, 1, 2, 3, 0, 1, 2, 3, 5, 4, 6, 7,\n",
              "       8, 9, 6, 7, 8, 9, 0, 0, 0, 0, 0, 0, 0, 0])"
            ]
          },
          "execution_count": 37,
          "metadata": {},
          "output_type": "execute_result"
        }
      ],
      "source": [
        "CSj_ = jnp.where(mask, Sj, 0) # not used\n",
        "CSj_ # not used"
      ]
    },
    {
      "cell_type": "markdown",
      "id": "e0fc6d02",
      "metadata": {
        "papermill": {
          "duration": 0.048553,
          "end_time": "2022-08-04T04:33:32.123908",
          "exception": false,
          "start_time": "2022-08-04T04:33:32.075355",
          "status": "completed"
        },
        "tags": []
      },
      "source": [
        "Finally, the values `CSx` of $C_{int}S_{bd}$ can be obtained as follows:"
      ]
    },
    {
      "cell_type": "code",
      "execution_count": 38,
      "id": "59d2e1b2",
      "metadata": {
        "execution": {
          "iopub.execute_input": "2022-08-04T04:33:32.227728Z",
          "iopub.status.busy": "2022-08-04T04:33:32.227192Z",
          "iopub.status.idle": "2022-08-04T04:33:32.252233Z",
          "shell.execute_reply": "2022-08-04T04:33:32.252711Z"
        },
        "papermill": {
          "duration": 0.079927,
          "end_time": "2022-08-04T04:33:32.252863",
          "exception": false,
          "start_time": "2022-08-04T04:33:32.172936",
          "status": "completed"
        },
        "tags": []
      },
      "outputs": [
        {
          "data": {
            "text/plain": [
              "array([0.70710677+0.j        , 0.        +0.70710677j,\n",
              "       0.        +0.j        , 0.        +0.j        ,\n",
              "       0.        +0.70710677j, 0.70710677+0.j        ,\n",
              "       0.        +0.j        , 0.        +0.j        ,\n",
              "       0.5       +0.86603j   , 0.5       +0.86603j   ,\n",
              "       0.        +0.j        , 0.        +0.j        ,\n",
              "       0.70710677+0.j        , 0.        +0.70710677j,\n",
              "       0.        +0.j        , 0.        +0.j        ,\n",
              "       0.        +0.70710677j, 0.70710677+0.j        ],            dtype=complex64))"
            ]
          },
          "execution_count": 38,
          "metadata": {},
          "output_type": "execute_result"
        }
      ],
      "source": [
        "if Sx.ndim > 1:\n",
        "    CSx = Sx[..., mask] # normally this should be enough\n",
        "else:\n",
        "    CSx = Sx[mask] # need separate case bc bug in JAX... see https://github.com/google/jax/issues/9050\n",
        "   \n",
        "CSx"
      ]
    },
    {
      "cell_type": "markdown",
      "id": "c02035bd",
      "metadata": {
        "papermill": {
          "duration": 0.049422,
          "end_time": "2022-08-04T04:33:32.352686",
          "exception": false,
          "start_time": "2022-08-04T04:33:32.303264",
          "status": "completed"
        },
        "tags": []
      },
      "source": [
        "> `CSx`: possible jittable alternative? how do we remove the zeros?"
      ]
    },
    {
      "cell_type": "code",
      "execution_count": 39,
      "id": "107e9e80",
      "metadata": {
        "execution": {
          "iopub.execute_input": "2022-08-04T04:33:32.461604Z",
          "iopub.status.busy": "2022-08-04T04:33:32.458952Z",
          "iopub.status.idle": "2022-08-04T04:33:32.480959Z",
          "shell.execute_reply": "2022-08-04T04:33:32.480534Z"
        },
        "papermill": {
          "duration": 0.079354,
          "end_time": "2022-08-04T04:33:32.481082",
          "exception": false,
          "start_time": "2022-08-04T04:33:32.401728",
          "status": "completed"
        },
        "tags": []
      },
      "outputs": [
        {
          "data": {
            "text/plain": [
              "array([0.        +0.j        , 0.        +0.j        ,\n",
              "       0.        +0.j        , 0.        +0.j        ,\n",
              "       0.        +0.j        , 0.        +0.j        ,\n",
              "       0.        +0.j        , 0.        +0.j        ,\n",
              "       0.70710677+0.j        , 0.        +0.70710677j,\n",
              "       0.        +0.j        , 0.        +0.j        ,\n",
              "       0.        +0.70710677j, 0.70710677+0.j        ,\n",
              "       0.        +0.j        , 0.        +0.j        ,\n",
              "       0.5       +0.86603j   , 0.5       +0.86603j   ,\n",
              "       0.        +0.j        , 0.        +0.j        ,\n",
              "       0.70710677+0.j        , 0.        +0.70710677j,\n",
              "       0.        +0.j        , 0.        +0.j        ,\n",
              "       0.        +0.70710677j, 0.70710677+0.j        ,\n",
              "       0.        +0.j        , 0.        +0.j        ,\n",
              "       0.        +0.j        , 0.        +0.j        ,\n",
              "       0.        +0.j        , 0.        +0.j        ,\n",
              "       0.        +0.j        , 0.        +0.j        ],            dtype=complex64))"
            ]
          },
          "execution_count": 39,
          "metadata": {},
          "output_type": "execute_result"
        }
      ],
      "source": [
        "CSx_ = jnp.where(mask, Sx, 0.0) # not used\n",
        "CSx_ # not used"
      ]
    },
    {
      "cell_type": "markdown",
      "id": "9411edf5",
      "metadata": {
        "papermill": {
          "duration": 0.049724,
          "end_time": "2022-08-04T04:33:32.581091",
          "exception": false,
          "start_time": "2022-08-04T04:33:32.531367",
          "status": "completed"
        },
        "tags": []
      },
      "source": [
        "Now we calculate $\\mathbb{1} - C_{int}S_{bd}$ in an *uncoalesced* way (we might have duplicate indices on the diagonal):\n",
        "\n",
        "> **uncoalesced**: having duplicate index combinations (i, j) in the representation possibly with different corresponding values. This is usually not a problem as in linear operations these values will end up to be summed, usually the behavior you want:"
      ]
    },
    {
      "cell_type": "code",
      "execution_count": 40,
      "id": "53c3f4ab",
      "metadata": {
        "execution": {
          "iopub.execute_input": "2022-08-04T04:33:32.691281Z",
          "iopub.status.busy": "2022-08-04T04:33:32.690815Z",
          "iopub.status.idle": "2022-08-04T04:33:32.751257Z",
          "shell.execute_reply": "2022-08-04T04:33:32.751607Z"
        },
        "papermill": {
          "duration": 0.120147,
          "end_time": "2022-08-04T04:33:32.751750",
          "exception": false,
          "start_time": "2022-08-04T04:33:32.631603",
          "status": "completed"
        },
        "tags": []
      },
      "outputs": [
        {
          "name": "stdout",
          "output_type": "stream",
          "text": [
            "[4 4 4 4 7 7 7 7 2 6 5 5 5 5 3 3 3 3 0 1 2 3 4 5 6 7 8 9]\n",
            "[0 1 2 3 0 1 2 3 5 4 6 7 8 9 6 7 8 9 0 1 2 3 4 5 6 7 8 9]\n",
            "[-0.70710677-0.j         -0.        -0.70710677j -0.        -0.j\n",
            " -0.        -0.j         -0.        -0.70710677j -0.70710677-0.j\n",
            " -0.        -0.j         -0.        -0.j         -0.5       -0.86603j\n",
            " -0.5       -0.86603j    -0.        -0.j         -0.        -0.j\n",
            " -0.70710677-0.j         -0.        -0.70710677j -0.        -0.j\n",
            " -0.        -0.j         -0.        -0.70710677j -0.70710677-0.j\n",
            "  1.        +0.j          1.        +0.j          1.        +0.j\n",
            "  1.        +0.j          1.        +0.j          1.        +0.j\n",
            "  1.        +0.j          1.        +0.j          1.        +0.j\n",
            "  1.        +0.j        ]\n"
          ]
        }
      ],
      "source": [
        "I_CSi = jnp.concatenate([CSi, Ii], -1)\n",
        "I_CSj = jnp.concatenate([CSj, Ij], -1)\n",
        "I_CSx = jnp.concatenate([-CSx, Ix], -1)\n",
        "print(I_CSi)\n",
        "print(I_CSj)\n",
        "print(I_CSx)"
      ]
    },
    {
      "cell_type": "code",
      "execution_count": 41,
      "id": "188e4606",
      "metadata": {
        "execution": {
          "iopub.execute_input": "2022-08-04T04:33:32.857241Z",
          "iopub.status.busy": "2022-08-04T04:33:32.856684Z",
          "iopub.status.idle": "2022-08-04T04:33:32.858746Z",
          "shell.execute_reply": "2022-08-04T04:33:32.859155Z"
        },
        "papermill": {
          "duration": 0.057003,
          "end_time": "2022-08-04T04:33:32.859283",
          "exception": false,
          "start_time": "2022-08-04T04:33:32.802280",
          "status": "completed"
        },
        "tags": []
      },
      "outputs": [
        {
          "name": "stdout",
          "output_type": "stream",
          "text": [
            "10 4\n"
          ]
        }
      ],
      "source": [
        "if JAX_AVAILABLE:\n",
        "    n_col, n_rhs = Cext.shape\n",
        "    print(n_col, n_rhs)"
      ]
    },
    {
      "cell_type": "markdown",
      "id": "e018c515",
      "metadata": {
        "papermill": {
          "duration": 0.049912,
          "end_time": "2022-08-04T04:33:32.959422",
          "exception": false,
          "start_time": "2022-08-04T04:33:32.909510",
          "status": "completed"
        },
        "tags": []
      },
      "source": [
        "The batch shape dimension can generally speaking be anything (in the example here 0D). We need to do the necessary reshapings to make the batch shape 1D:"
      ]
    },
    {
      "cell_type": "code",
      "execution_count": 42,
      "id": "dad259e7",
      "metadata": {
        "execution": {
          "iopub.execute_input": "2022-08-04T04:33:33.071314Z",
          "iopub.status.busy": "2022-08-04T04:33:33.070852Z",
          "iopub.status.idle": "2022-08-04T04:33:33.083554Z",
          "shell.execute_reply": "2022-08-04T04:33:33.083172Z"
        },
        "papermill": {
          "duration": 0.073184,
          "end_time": "2022-08-04T04:33:33.083663",
          "exception": false,
          "start_time": "2022-08-04T04:33:33.010479",
          "status": "completed"
        },
        "tags": []
      },
      "outputs": [
        {
          "name": "stdout",
          "output_type": "stream",
          "text": [
            "1\n"
          ]
        }
      ],
      "source": [
        "n_lhs = jnp.prod(jnp.array(batch_shape, dtype=jnp.int32))\n",
        "print(n_lhs)"
      ]
    },
    {
      "cell_type": "code",
      "execution_count": 43,
      "id": "9cf69da7",
      "metadata": {
        "execution": {
          "iopub.execute_input": "2022-08-04T04:33:33.195631Z",
          "iopub.status.busy": "2022-08-04T04:33:33.195175Z",
          "iopub.status.idle": "2022-08-04T04:33:33.209333Z",
          "shell.execute_reply": "2022-08-04T04:33:33.208919Z"
        },
        "papermill": {
          "duration": 0.074432,
          "end_time": "2022-08-04T04:33:33.209446",
          "exception": false,
          "start_time": "2022-08-04T04:33:33.135014",
          "status": "completed"
        },
        "tags": []
      },
      "outputs": [
        {
          "data": {
            "text/plain": [
              "(1, 34)"
            ]
          },
          "execution_count": 43,
          "metadata": {},
          "output_type": "execute_result"
        }
      ],
      "source": [
        "Sx = Sx.reshape(n_lhs, -1)\n",
        "Sx.shape"
      ]
    },
    {
      "cell_type": "code",
      "execution_count": 44,
      "id": "788294fa",
      "metadata": {
        "execution": {
          "iopub.execute_input": "2022-08-04T04:33:33.321314Z",
          "iopub.status.busy": "2022-08-04T04:33:33.320802Z",
          "iopub.status.idle": "2022-08-04T04:33:33.335189Z",
          "shell.execute_reply": "2022-08-04T04:33:33.334806Z"
        },
        "papermill": {
          "duration": 0.074463,
          "end_time": "2022-08-04T04:33:33.335299",
          "exception": false,
          "start_time": "2022-08-04T04:33:33.260836",
          "status": "completed"
        },
        "tags": []
      },
      "outputs": [
        {
          "data": {
            "text/plain": [
              "(1, 28)"
            ]
          },
          "execution_count": 44,
          "metadata": {},
          "output_type": "execute_result"
        }
      ],
      "source": [
        "I_CSx = I_CSx.reshape(n_lhs, -1)\n",
        "I_CSx.shape"
      ]
    },
    {
      "cell_type": "markdown",
      "id": "ec741031",
      "metadata": {
        "papermill": {
          "duration": 0.052263,
          "end_time": "2022-08-04T04:33:33.439393",
          "exception": false,
          "start_time": "2022-08-04T04:33:33.387130",
          "status": "completed"
        },
        "tags": []
      },
      "source": [
        "We're finally ready to do the most important part of the calculation, which we conveniently leave to `klujax` and `SuiteSparse`:"
      ]
    },
    {
      "cell_type": "code",
      "execution_count": 45,
      "id": "9c1d8644",
      "metadata": {
        "execution": {
          "iopub.execute_input": "2022-08-04T04:33:33.550095Z",
          "iopub.status.busy": "2022-08-04T04:33:33.549634Z",
          "iopub.status.idle": "2022-08-04T04:33:33.550841Z",
          "shell.execute_reply": "2022-08-04T04:33:33.551176Z"
        },
        "papermill": {
          "duration": 0.060575,
          "end_time": "2022-08-04T04:33:33.551304",
          "exception": false,
          "start_time": "2022-08-04T04:33:33.490729",
          "status": "completed"
        },
        "tags": []
      },
      "outputs": [],
      "source": [
        "if klujax is not None:\n",
        "    inv_I_CS_Cext = solve_klu(I_CSi, I_CSj, I_CSx, Cext)\n",
        "else:\n",
        "    inv_I_CS_Cext = jnp.array([[[1.0 + 0.0j, 0.0 + 0.0j, 0.0 + 0.0j, 0.0 + 0.0j], [0.0 + 0.0j, 1.0 + 0.0j, 0.0 + 0.0j, 0.0 + 0.0j], [ -0.0 + 0.0j, -0.0 + 0.0j, 0.35355339 + 0.61237569j, -0.61237569 + 0.35355339j, ], [0.0 + 0.0j, 0.0 + 0.0j, 0.0 + 0.70710678j, 0.70710678 + 0.0j], [0.70710678 - 0.0j, -0.0 + 0.70710678j, -0.0 - 0.0j, -0.0 - 0.0j], [-0.0 - 0.0j, -0.0 - 0.0j, 0.70710678 - 0.0j, -0.0 + 0.70710678j], [ 0.35355339 + 0.61237569j, -0.61237569 + 0.35355339j, -0.0 + 0.0j, -0.0 + 0.0j, ], [0.0 + 0.70710678j, 0.70710678 + 0.0j, 0.0 + 0.0j, 0.0 + 0.0j], [0.0 + 0.0j, 0.0 + 0.0j, 1.0 + 0.0j, 0.0 + 0.0j], [0.0 + 0.0j, 0.0 + 0.0j, 0.0 + 0.0j, 1.0 + 0.0j]]])"
      ]
    },
    {
      "cell_type": "markdown",
      "id": "e51487df",
      "metadata": {
        "papermill": {
          "duration": 0.051348,
          "end_time": "2022-08-04T04:33:33.653538",
          "exception": false,
          "start_time": "2022-08-04T04:33:33.602190",
          "status": "completed"
        },
        "tags": []
      },
      "source": [
        "one more sparse multiplication:"
      ]
    },
    {
      "cell_type": "code",
      "execution_count": 46,
      "id": "cccda072",
      "metadata": {
        "execution": {
          "iopub.execute_input": "2022-08-04T04:33:33.762908Z",
          "iopub.status.busy": "2022-08-04T04:33:33.762467Z",
          "iopub.status.idle": "2022-08-04T04:33:33.764187Z",
          "shell.execute_reply": "2022-08-04T04:33:33.763789Z"
        },
        "papermill": {
          "duration": 0.05976,
          "end_time": "2022-08-04T04:33:33.764287",
          "exception": false,
          "start_time": "2022-08-04T04:33:33.704527",
          "status": "completed"
        },
        "tags": []
      },
      "outputs": [],
      "source": [
        "if klujax is not None:\n",
        "    S_inv_I_CS_Cext = mul_coo(Si, Sj, Sx, inv_I_CS_Cext)\n",
        "else:\n",
        "    S_inv_I_CS_Cext = jnp.array([[[0.0 + 0.0j, 0.0 + 0.0j, -0.25 + 0.433015j, -0.433015 + 0.75j], [0.0 + 0.0j, 0.0 + 0.0j, -0.433015 + 0.75j, 0.25 - 0.433015j], [0.70710678 + 0.0j, 0.0 + 0.70710678j, 0.0 + 0.0j, 0.0 + 0.0j], [0.0 + 0.70710678j, 0.70710678 + 0.0j, 0.0 + 0.0j, 0.0 + 0.0j], [ 0.0 + 0.0j, 0.0 + 0.0j, 0.35355339 + 0.61237569j, -0.61237569 + 0.35355339j, ], [ 0.35355339 + 0.61237569j, -0.61237569 + 0.35355339j, 0.0 + 0.0j, 0.0 + 0.0j, ], [0.0 + 0.0j, 0.0 + 0.0j, 0.70710678 + 0.0j, 0.0 + 0.70710678j], [0.0 + 0.0j, 0.0 + 0.0j, 0.0 + 0.70710678j, 0.70710678 + 0.0j], [-0.25 + 0.433015j, -0.433015 + 0.75j, 0.0 + 0.0j, 0.0 + 0.0j], [-0.433015 + 0.75j, 0.25 - 0.433015j, 0.0 + 0.0j, 0.0 + 0.0j]]])"
      ]
    },
    {
      "cell_type": "markdown",
      "id": "627a98f7",
      "metadata": {
        "papermill": {
          "duration": 0.051261,
          "end_time": "2022-08-04T04:33:33.866807",
          "exception": false,
          "start_time": "2022-08-04T04:33:33.815546",
          "status": "completed"
        },
        "tags": []
      },
      "source": [
        "And one more $C_{ext}$ multiplication which we do by clever indexing:"
      ]
    },
    {
      "cell_type": "code",
      "execution_count": 47,
      "id": "12ff877c",
      "metadata": {
        "execution": {
          "iopub.execute_input": "2022-08-04T04:33:33.978734Z",
          "iopub.status.busy": "2022-08-04T04:33:33.978239Z",
          "iopub.status.idle": "2022-08-04T04:33:33.980087Z",
          "shell.execute_reply": "2022-08-04T04:33:33.980421Z"
        },
        "papermill": {
          "duration": 0.062036,
          "end_time": "2022-08-04T04:33:33.980552",
          "exception": false,
          "start_time": "2022-08-04T04:33:33.918516",
          "status": "completed"
        },
        "tags": []
      },
      "outputs": [
        {
          "data": {
            "text/plain": [
              "array([[[ 0.      +0.j      ,  0.      +0.j      ,\n",
              "         -0.25    +0.433015j, -0.433015+0.75j    ],\n",
              "        [ 0.      +0.j      ,  0.      +0.j      ,\n",
              "         -0.433015+0.75j    ,  0.25    -0.433015j],\n",
              "        [-0.25    +0.433015j, -0.433015+0.75j    ,\n",
              "          0.      +0.j      ,  0.      +0.j      ],\n",
              "        [-0.433015+0.75j    ,  0.25    -0.433015j,\n",
              "          0.      +0.j      ,  0.      +0.j      ]]],            dtype=complex64))"
            ]
          },
          "execution_count": 47,
          "metadata": {},
          "output_type": "execute_result"
        }
      ],
      "source": [
        "if klujax is not None:\n",
        "    CextT_S_inv_I_CS_Cext = S_inv_I_CS_Cext[..., Cexti, :][..., :, Cextj]\n",
        "else:\n",
        "    CextT_S_inv_I_CS_Cext = jnp.array([[[0.0 + 0.0j, 0.0 + 0.0j, -0.25 + 0.433015j, -0.433015 + 0.75j], [0.0 + 0.0j, 0.0 + 0.0j, -0.433015 + 0.75j, 0.25 - 0.433015j], [-0.25 + 0.433015j, -0.433015 + 0.75j, 0.0 + 0.0j, 0.0 + 0.0j], [-0.433015 + 0.75j, 0.25 - 0.433015j, 0.0 + 0.0j, 0.0 + 0.0j]]])\n",
        "CextT_S_inv_I_CS_Cext"
      ]
    },
    {
      "cell_type": "markdown",
      "id": "3e1c75b2",
      "metadata": {
        "papermill": {
          "duration": 0.051897,
          "end_time": "2022-08-04T04:33:34.084286",
          "exception": false,
          "start_time": "2022-08-04T04:33:34.032389",
          "status": "completed"
        },
        "tags": []
      },
      "source": [
        "That's it! We found the S-matrix of the circuit. We just need to reshape the batch dimension back into the matrix:"
      ]
    },
    {
      "cell_type": "code",
      "execution_count": 48,
      "id": "cbf962af",
      "metadata": {
        "execution": {
          "iopub.execute_input": "2022-08-04T04:33:34.197152Z",
          "iopub.status.busy": "2022-08-04T04:33:34.196535Z",
          "iopub.status.idle": "2022-08-04T04:33:34.210870Z",
          "shell.execute_reply": "2022-08-04T04:33:34.211188Z"
        },
        "papermill": {
          "duration": 0.075199,
          "end_time": "2022-08-04T04:33:34.211326",
          "exception": false,
          "start_time": "2022-08-04T04:33:34.136127",
          "status": "completed"
        },
        "tags": []
      },
      "outputs": [
        {
          "data": {
            "text/plain": [
              "array([[ 0.      +0.j      ,  0.      +0.j      ,\n",
              "        -0.25    +0.433015j, -0.433015+0.75j    ],\n",
              "       [ 0.      +0.j      ,  0.      +0.j      ,\n",
              "        -0.433015+0.75j    ,  0.25    -0.433015j],\n",
              "       [-0.25    +0.433015j, -0.433015+0.75j    ,\n",
              "         0.      +0.j      ,  0.      +0.j      ],\n",
              "       [-0.433015+0.75j    ,  0.25    -0.433015j,\n",
              "         0.      +0.j      ,  0.      +0.j      ]])"
            ]
          },
          "execution_count": 48,
          "metadata": {},
          "output_type": "execute_result"
        }
      ],
      "source": [
        "_, n, _ = CextT_S_inv_I_CS_Cext.shape\n",
        "S = CextT_S_inv_I_CS_Cext.reshape(*batch_shape, n, n)\n",
        "S"
      ]
    },
    {
      "cell_type": "markdown",
      "id": "1f6dea4c",
      "metadata": {
        "papermill": {
          "duration": 0.052659,
          "end_time": "2022-08-04T04:33:34.316977",
          "exception": false,
          "start_time": "2022-08-04T04:33:34.264318",
          "status": "completed"
        },
        "tags": []
      },
      "source": [
        "Oh and to complete the `SDense` representation we need to specify the port map as well:"
      ]
    },
    {
      "cell_type": "code",
      "execution_count": 49,
      "id": "21098a45",
      "metadata": {
        "execution": {
          "iopub.execute_input": "2022-08-04T04:33:34.427148Z",
          "iopub.status.busy": "2022-08-04T04:33:34.426708Z",
          "iopub.status.idle": "2022-08-04T04:33:34.428306Z",
          "shell.execute_reply": "2022-08-04T04:33:34.428718Z"
        },
        "papermill": {
          "duration": 0.059184,
          "end_time": "2022-08-04T04:33:34.428855",
          "exception": false,
          "start_time": "2022-08-04T04:33:34.369671",
          "status": "completed"
        },
        "tags": []
      },
      "outputs": [
        {
          "data": {
            "text/plain": [
              "{'in0': 0, 'in1': 1, 'out0': 2, 'out1': 3}"
            ]
          },
          "execution_count": 49,
          "metadata": {},
          "output_type": "execute_result"
        }
      ],
      "source": [
        "port_map"
      ]
    },
    {
      "cell_type": "markdown",
      "id": "0cfee3cf",
      "metadata": {
        "papermill": {
          "duration": 0.053027,
          "end_time": "2022-08-04T04:33:34.534548",
          "exception": false,
          "start_time": "2022-08-04T04:33:34.481521",
          "status": "completed"
        },
        "tags": []
      },
      "source": [
        "## Algorithm Improvements"
      ]
    },
    {
      "cell_type": "markdown",
      "id": "26b70270",
      "metadata": {
        "papermill": {
          "duration": 0.053314,
          "end_time": "2022-08-04T04:33:34.640366",
          "exception": false,
          "start_time": "2022-08-04T04:33:34.587052",
          "status": "completed"
        },
        "tags": []
      },
      "source": [
        "This algorithm is \n",
        "\n",
        "* very fast for large circuits \ud83d\ude42\n",
        "\n",
        "This algorithm is however:\n",
        "\n",
        "* **not** jittable \ud83d\ude25\n",
        "* **not** differentiable \ud83d\ude25\n",
        "* **not** GPU-compatible \ud83d\ude42\n",
        "\n",
        "There are probably still plenty of improvements possible for this algorithm:\n",
        "\n",
        "* **\u00bf** make it jittable **?**\n",
        "* **\u00bf** make it differentiable (requires making klujax differentiable first) **?**\n",
        "* **\u00bf** make it GPU compatible (requires making suitesparse GPU compatible... probably not gonna happen)**?**\n",
        "\n",
        "Bottom line is... Do you know how to improve this algorithm or how to implement the above suggestions? Please open a Merge Request!"
      ]
    }
  ],
  "metadata": {
    "kernelspec": {
      "display_name": "sax",
      "language": "python",
      "name": "sax"
    },
    "language_info": {
      "codemirror_mode": {
        "name": "ipython",
        "version": 3
      },
      "file_extension": ".py",
      "mimetype": "text/x-python",
      "name": "python",
      "nbconvert_exporter": "python",
      "pygments_lexer": "ipython3",
      "version": "3.9.0"
    },
    "papermill": {
      "default_parameters": {},
      "duration": 17.522151,
      "end_time": "2022-08-04T04:33:37.641968",
      "environment_variables": {},
      "exception": null,
      "input_path": "./nbs/07b_backends_klu.ipynb",
      "output_path": "./nbs/07b_backends_klu.ipynb",
      "parameters": {},
      "start_time": "2022-08-04T04:33:20.119817",
      "version": "2.3.4"
    }
  },
  "nbformat": 4,
  "nbformat_minor": 5
}
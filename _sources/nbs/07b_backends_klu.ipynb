{
  "cells": [
    {
      "cell_type": "code",
      "execution_count": 1,
      "id": "5bd31988e9fa692e",
      "metadata": {
        "execution": {
          "iopub.execute_input": "2022-08-07T05:31:10.966007Z",
          "iopub.status.busy": "2022-08-07T05:31:10.965552Z",
          "iopub.status.idle": "2022-08-07T05:31:10.968480Z",
          "shell.execute_reply": "2022-08-07T05:31:10.968053Z"
        },
        "papermill": {
          "duration": 0.047946,
          "end_time": "2022-08-07T05:31:10.968627",
          "exception": false,
          "start_time": "2022-08-07T05:31:10.920681",
          "status": "completed"
        },
        "tags": [
          "remove-cell"
        ]
      },
      "outputs": [],
      "source": []
    },
    {
      "cell_type": "markdown",
      "id": "27c3489e",
      "metadata": {
        "papermill": {
          "duration": 0.039858,
          "end_time": "2022-08-07T05:31:11.050385",
          "exception": false,
          "start_time": "2022-08-07T05:31:11.010527",
          "status": "completed"
        },
        "tags": []
      },
      "source": [
        "# Backend - KLU\n",
        "\n",
        "> SAX KLU Backend"
      ]
    },
    {
      "cell_type": "code",
      "execution_count": 2,
      "id": "b6e68c23efef1ae5",
      "metadata": {
        "execution": {
          "iopub.execute_input": "2022-08-07T05:31:11.140118Z",
          "iopub.status.busy": "2022-08-07T05:31:11.139658Z",
          "iopub.status.idle": "2022-08-07T05:31:12.787220Z",
          "shell.execute_reply": "2022-08-07T05:31:12.786350Z"
        },
        "papermill": {
          "duration": 1.696701,
          "end_time": "2022-08-07T05:31:12.787361",
          "exception": false,
          "start_time": "2022-08-07T05:31:11.090660",
          "status": "completed"
        },
        "tags": [
          "remove-cell"
        ]
      },
      "outputs": [],
      "source": [
        "import sax\n",
        "import matplotlib.pyplot as plt\n",
        "from fastcore.test import test_eq\n",
        "from pytest import approx, raises\n",
        "from nbdev import show_doc\n",
        "\n",
        "import os, sys; sys.stderr = open(os.devnull, \"w\")"
      ]
    },
    {
      "cell_type": "code",
      "execution_count": 3,
      "id": "ef31995e1abb1988",
      "metadata": {
        "execution": {
          "iopub.execute_input": "2022-08-07T05:31:12.874439Z",
          "iopub.status.busy": "2022-08-07T05:31:12.873990Z",
          "iopub.status.idle": "2022-08-07T05:31:12.875877Z",
          "shell.execute_reply": "2022-08-07T05:31:12.875521Z"
        },
        "papermill": {
          "duration": 0.047758,
          "end_time": "2022-08-07T05:31:12.875993",
          "exception": false,
          "start_time": "2022-08-07T05:31:12.828235",
          "status": "completed"
        },
        "tags": [
          "hide-input"
        ]
      },
      "outputs": [],
      "source": [
        "from __future__ import annotations\n",
        "\n",
        "from typing import Dict\n",
        "\n",
        "    \n",
        "from sax.typing_ import SDense, SDict, SType, scoo\n",
        "from sax.backends import evaluate_circuit\n",
        "\n",
        "try:\n",
        "    import klujax\n",
        "except ImportError:\n",
        "    klujax = None\n",
        "    \n",
        "try:\n",
        "    import jax\n",
        "    import jax.numpy as jnp\n",
        "    JAX_AVAILABLE = True\n",
        "except ImportError:\n",
        "    import numpy as jnp\n",
        "    JAX_AVAILABLE = False"
      ]
    },
    {
      "cell_type": "markdown",
      "id": "64e42767",
      "metadata": {
        "papermill": {
          "duration": 0.040633,
          "end_time": "2022-08-07T05:31:12.957051",
          "exception": false,
          "start_time": "2022-08-07T05:31:12.916418",
          "status": "completed"
        },
        "tags": []
      },
      "source": [
        "## Citation\n",
        "The KLU backend is using `klujax`, which uses the [SuiteSparse](https://github.com/DrTimothyAldenDavis/SuiteSparse) C++ libraries for sparse matrix evaluations to evaluate the circuit insanely fast on a CPU. The specific algorith being used in question is the KLU algorithm:\n",
        "\n",
        "> Ekanathan Palamadai Natariajan. \"*KLU - A high performance sparse linear solver for circuit simulation problems.*\""
      ]
    },
    {
      "cell_type": "markdown",
      "id": "2db5821c",
      "metadata": {
        "papermill": {
          "duration": 0.040422,
          "end_time": "2022-08-07T05:31:13.037732",
          "exception": false,
          "start_time": "2022-08-07T05:31:12.997310",
          "status": "completed"
        },
        "tags": []
      },
      "source": [
        "## Theoretical Background"
      ]
    },
    {
      "cell_type": "markdown",
      "id": "3d4d4a4c",
      "metadata": {
        "papermill": {
          "duration": 0.040388,
          "end_time": "2022-08-07T05:31:13.118295",
          "exception": false,
          "start_time": "2022-08-07T05:31:13.077907",
          "status": "completed"
        },
        "tags": []
      },
      "source": [
        "The core of the KLU algorithm is supported by `klujax`, which internally uses the Suitesparse libraries to solve the sparse system `Ax = b`, in which A is a sparse matrix."
      ]
    },
    {
      "cell_type": "markdown",
      "id": "a1985f58",
      "metadata": {
        "papermill": {
          "duration": 0.080763,
          "end_time": "2022-08-07T05:31:13.239152",
          "exception": false,
          "start_time": "2022-08-07T05:31:13.158389",
          "status": "completed"
        },
        "tags": []
      },
      "source": [
        "Now it only comes down to shoehorn our circuit evaluation into a sparse linear system of equations $Ax=b$ where we need to solve for $x$ using `klujax`. \n",
        "Consider the block diagonal matrix $S_{bd}$ of all components in the circuit acting on the fields $x_{in}$ at each of the individual ports of each of the component integrated in $S^{bd}$. The output fields $x^{out}$ at each of those ports is then given by:\n",
        "\n",
        "$$\n",
        "x^{out} = S_{bd} x^{in}\n",
        "$$"
      ]
    },
    {
      "cell_type": "markdown",
      "id": "9c26c04a",
      "metadata": {
        "papermill": {
          "duration": 0.039925,
          "end_time": "2022-08-07T05:31:13.318901",
          "exception": false,
          "start_time": "2022-08-07T05:31:13.278976",
          "status": "completed"
        },
        "tags": []
      },
      "source": [
        "However, $S_{bd}$ is not the S-matrix of the circuit as it does not encode any connectivity *between* the components. Connecting two component ports basically comes down to enforcing equality between the output fields at one port of a component with the input fields at another port of another (or maybe even the same) component. This equality can be enforced by creating an internal connection matrix, connecting all internal ports of the circuit:\n",
        "\n",
        "$$\n",
        "x^{in} = C_{int} x^{out}\n",
        "$$"
      ]
    },
    {
      "cell_type": "markdown",
      "id": "16b3fdad",
      "metadata": {
        "papermill": {
          "duration": 0.040281,
          "end_time": "2022-08-07T05:31:13.399293",
          "exception": false,
          "start_time": "2022-08-07T05:31:13.359012",
          "status": "completed"
        },
        "tags": []
      },
      "source": [
        "We can thus write the following combined equation:\n",
        "\n",
        "$$\n",
        "x^{in} = C_{int} S_{bd} x^{in}\n",
        "$$"
      ]
    },
    {
      "cell_type": "markdown",
      "id": "f5ceb9a2",
      "metadata": {
        "papermill": {
          "duration": 0.040911,
          "end_time": "2022-08-07T05:31:13.480589",
          "exception": false,
          "start_time": "2022-08-07T05:31:13.439678",
          "status": "completed"
        },
        "tags": []
      },
      "source": [
        "But this is not the complete story... Some component ports will *not* be *interconnected* with other ports: they will become the new *external ports* (or output ports) of the combined circuit. We can include those external ports into the above equation as follows:\n",
        "\n",
        "$$\n",
        "\\begin{pmatrix} x^{in} \\\\ x^{out}_{ext} \\end{pmatrix} = \\begin{pmatrix} C_{int} & C_{ext} \\\\ C_{ext}^T & 0 \\end{pmatrix} \\begin{pmatrix} S_{bd} x^{in} \\\\ x_{ext}^{in} \\end{pmatrix} \n",
        "$$"
      ]
    },
    {
      "cell_type": "markdown",
      "id": "6382a242",
      "metadata": {
        "papermill": {
          "duration": 0.040189,
          "end_time": "2022-08-07T05:31:13.561047",
          "exception": false,
          "start_time": "2022-08-07T05:31:13.520858",
          "status": "completed"
        },
        "tags": []
      },
      "source": [
        "Note that $C_{ext}$ is obviously **not** a square matrix. Eliminating $x^{in}$ from the equation above finally yields:\n",
        "\n",
        "$$\n",
        "x^{out}_{ext} = C^T_{ext} S_{bd} (\\mathbb{1} - C_{int}S_{bd})^{-1} C_{ext}x_{ext}^{in}\n",
        "$$"
      ]
    },
    {
      "cell_type": "markdown",
      "id": "5f15bdcd",
      "metadata": {
        "papermill": {
          "duration": 0.040072,
          "end_time": "2022-08-07T05:31:13.641239",
          "exception": false,
          "start_time": "2022-08-07T05:31:13.601167",
          "status": "completed"
        },
        "tags": []
      },
      "source": [
        "We basically found a representation of the circuit S-matrix:\n",
        "\n",
        "$$\n",
        "S = C^T_{ext} S_{bd} (\\mathbb{1} - C_{int}S_{bd})^{-1} C_{ext}\n",
        "$$"
      ]
    },
    {
      "cell_type": "markdown",
      "id": "40ad83b8",
      "metadata": {
        "papermill": {
          "duration": 0.039513,
          "end_time": "2022-08-07T05:31:13.720943",
          "exception": false,
          "start_time": "2022-08-07T05:31:13.681430",
          "status": "completed"
        },
        "tags": []
      },
      "source": [
        "Obviously, we won't want to calculate the inverse $(\\mathbb{1} - C_{int}S_{bd})^{-1}$, which is the inverse of a very sparse matrix (a connection matrix only has a single 1 per line), which very often is not even sparse itself. In stead we'll use the `solve_klu` function:\n",
        "\n",
        "$$\n",
        "S = C^T_{ext} S_{bd} \\texttt{solve}\\_\\texttt{klu}\\left((\\mathbb{1} - C_{int}S_{bd}), C_{ext}\\right)\n",
        "$$"
      ]
    },
    {
      "cell_type": "markdown",
      "id": "018fab3d",
      "metadata": {
        "papermill": {
          "duration": 0.040149,
          "end_time": "2022-08-07T05:31:13.800715",
          "exception": false,
          "start_time": "2022-08-07T05:31:13.760566",
          "status": "completed"
        },
        "tags": []
      },
      "source": [
        "Moreover, $C_{ext}^TS_{bd}$ is also a sparse matrix, therefore we'll also need a `mul_coo` routine:\n",
        "\n",
        "$$\n",
        "S = C^T_{ext} \\texttt{mul}\\_\\texttt{coo}\\left(S_{bd},~~\\texttt{solve}\\_\\texttt{klu}\\left((\\mathbb{1} - C_{int}S_{bd}),~C_{ext}\\right)\\right)\n",
        "$$"
      ]
    },
    {
      "cell_type": "markdown",
      "id": "d9b78852",
      "metadata": {
        "papermill": {
          "duration": 0.03951,
          "end_time": "2022-08-07T05:31:13.880432",
          "exception": false,
          "start_time": "2022-08-07T05:31:13.840922",
          "status": "completed"
        },
        "tags": []
      },
      "source": [
        "## Sparse Helper Functions"
      ]
    },
    {
      "cell_type": "code",
      "execution_count": 4,
      "id": "28c0ce49c9171276",
      "metadata": {
        "execution": {
          "iopub.execute_input": "2022-08-07T05:31:13.964900Z",
          "iopub.status.busy": "2022-08-07T05:31:13.964425Z",
          "iopub.status.idle": "2022-08-07T05:31:13.966104Z",
          "shell.execute_reply": "2022-08-07T05:31:13.965753Z"
        },
        "papermill": {
          "duration": 0.045867,
          "end_time": "2022-08-07T05:31:13.966215",
          "exception": false,
          "start_time": "2022-08-07T05:31:13.920348",
          "status": "completed"
        },
        "tags": [
          "remove-input"
        ]
      },
      "outputs": [],
      "source": [
        "if klujax is not None:\n",
        "    show_doc(klujax.solve, doc_string=False, name=\"klujax.solve\")"
      ]
    },
    {
      "cell_type": "markdown",
      "id": "01299d5d",
      "metadata": {
        "papermill": {
          "duration": 0.039678,
          "end_time": "2022-08-07T05:31:14.045313",
          "exception": false,
          "start_time": "2022-08-07T05:31:14.005635",
          "status": "completed"
        },
        "tags": []
      },
      "source": [
        "`klujax.solve` solves the sparse system of equations `Ax=b` for `x`. Where `A` is represented by in [COO-format](https://en.wikipedia.org/wiki/Sparse_matrix#Coordinate_list_(COO)) as (`Ai`, `Aj`, `Ax`).\n",
        "\n",
        "> Example"
      ]
    },
    {
      "cell_type": "code",
      "execution_count": 5,
      "id": "63e7977a",
      "metadata": {
        "execution": {
          "iopub.execute_input": "2022-08-07T05:31:14.131575Z",
          "iopub.status.busy": "2022-08-07T05:31:14.131132Z",
          "iopub.status.idle": "2022-08-07T05:31:14.142085Z",
          "shell.execute_reply": "2022-08-07T05:31:14.142441Z"
        },
        "papermill": {
          "duration": 0.057301,
          "end_time": "2022-08-07T05:31:14.142568",
          "exception": false,
          "start_time": "2022-08-07T05:31:14.085267",
          "status": "completed"
        },
        "tags": []
      },
      "outputs": [
        {
          "data": {
            "text/plain": [
              "array([6. , 1. , 0.5, 0.5, 2. ])"
            ]
          },
          "execution_count": 5,
          "metadata": {},
          "output_type": "execute_result"
        }
      ],
      "source": [
        "Ai = jnp.array([0, 1, 2, 3, 4])\n",
        "Aj = jnp.array([1, 3, 4, 0, 2])\n",
        "Ax = jnp.array([5, 6, 1, 1, 2])\n",
        "b = jnp.array([5, 3, 2, 6, 1])\n",
        "\n",
        "if klujax is not None:\n",
        "    x = klujax.solve(Ai, Aj, Ax, b)\n",
        "else:\n",
        "    x = jnp.array([6.0, 1.0, 0.5, 0.5, 2.0])\n",
        "\n",
        "x"
      ]
    },
    {
      "cell_type": "markdown",
      "id": "3233b04c",
      "metadata": {
        "papermill": {
          "duration": 0.041318,
          "end_time": "2022-08-07T05:31:14.224614",
          "exception": false,
          "start_time": "2022-08-07T05:31:14.183296",
          "status": "completed"
        },
        "tags": []
      },
      "source": [
        "This result is indeed correct:"
      ]
    },
    {
      "cell_type": "code",
      "execution_count": 6,
      "id": "629bbc71",
      "metadata": {
        "execution": {
          "iopub.execute_input": "2022-08-07T05:31:14.316100Z",
          "iopub.status.busy": "2022-08-07T05:31:14.315645Z",
          "iopub.status.idle": "2022-08-07T05:31:14.464074Z",
          "shell.execute_reply": "2022-08-07T05:31:14.463652Z"
        },
        "papermill": {
          "duration": 0.198744,
          "end_time": "2022-08-07T05:31:14.464201",
          "exception": false,
          "start_time": "2022-08-07T05:31:14.265457",
          "status": "completed"
        },
        "tags": []
      },
      "outputs": [
        {
          "name": "stdout",
          "output_type": "stream",
          "text": [
            "[[0. 5. 0. 0. 0.]\n",
            " [0. 0. 0. 6. 0.]\n",
            " [0. 0. 0. 0. 1.]\n",
            " [1. 0. 0. 0. 0.]\n",
            " [0. 0. 2. 0. 0.]]\n",
            "[5. 3. 2. 6. 1.]\n"
          ]
        }
      ],
      "source": [
        "if JAX_AVAILABLE:\n",
        "    A = jnp.zeros((5, 5)).at[Ai, Aj].set(Ax)\n",
        "    print(A)\n",
        "    print(A@x)"
      ]
    },
    {
      "cell_type": "markdown",
      "id": "c7fe6547",
      "metadata": {
        "papermill": {
          "duration": 0.040594,
          "end_time": "2022-08-07T05:31:14.546072",
          "exception": false,
          "start_time": "2022-08-07T05:31:14.505478",
          "status": "completed"
        },
        "tags": []
      },
      "source": [
        "However, to use this function effectively, we probably need an extra dimension for `Ax`. Indeed, we would like to solve this equation for multiple wavelengths (or more general, for multiple circuit configurations) at once. For this we can use `jax.vmap` to expose `klujax.solve` to more dimensions for `Ax`:"
      ]
    },
    {
      "cell_type": "code",
      "execution_count": 7,
      "id": "ae50fdc92873e163",
      "metadata": {
        "execution": {
          "iopub.execute_input": "2022-08-07T05:31:14.631116Z",
          "iopub.status.busy": "2022-08-07T05:31:14.630670Z",
          "iopub.status.idle": "2022-08-07T05:31:14.634139Z",
          "shell.execute_reply": "2022-08-07T05:31:14.633790Z"
        },
        "papermill": {
          "duration": 0.047223,
          "end_time": "2022-08-07T05:31:14.634240",
          "exception": false,
          "start_time": "2022-08-07T05:31:14.587017",
          "status": "completed"
        },
        "tags": []
      },
      "outputs": [],
      "source": [
        "solve_klu = None\n",
        "if klujax is not None:\n",
        "    solve_klu = jax.vmap(klujax.solve, (None, None, 0, None), 0)"
      ]
    },
    {
      "cell_type": "code",
      "execution_count": 8,
      "id": "867b4aff977ed431",
      "metadata": {
        "execution": {
          "iopub.execute_input": "2022-08-07T05:31:14.719789Z",
          "iopub.status.busy": "2022-08-07T05:31:14.719364Z",
          "iopub.status.idle": "2022-08-07T05:31:14.721994Z",
          "shell.execute_reply": "2022-08-07T05:31:14.721629Z"
        },
        "papermill": {
          "duration": 0.047102,
          "end_time": "2022-08-07T05:31:14.722091",
          "exception": false,
          "start_time": "2022-08-07T05:31:14.674989",
          "status": "completed"
        },
        "tags": [
          "remove-input"
        ]
      },
      "outputs": [
        {
          "data": {
            "text/markdown": [
              "<h4 id=\"solve_klu\" class=\"doc_header\"><code>solve_klu</code><a href=\"\" class=\"source_link\" style=\"float:right\">[source]</a></h4>\n",
              "\n"
            ],
            "text/plain": [
              "<IPython.core.display.Markdown object>"
            ]
          },
          "metadata": {},
          "output_type": "display_data"
        }
      ],
      "source": [
        "show_doc(solve_klu, doc_string=False, name=\"solve_klu\")"
      ]
    },
    {
      "cell_type": "markdown",
      "id": "6707049d",
      "metadata": {
        "papermill": {
          "duration": 0.041117,
          "end_time": "2022-08-07T05:31:14.804005",
          "exception": false,
          "start_time": "2022-08-07T05:31:14.762888",
          "status": "completed"
        },
        "tags": []
      },
      "source": [
        "Let's now redefine `Ax` and see what it gives:"
      ]
    },
    {
      "cell_type": "code",
      "execution_count": 9,
      "id": "d4d7b6f9",
      "metadata": {
        "execution": {
          "iopub.execute_input": "2022-08-07T05:31:14.896912Z",
          "iopub.status.busy": "2022-08-07T05:31:14.896406Z",
          "iopub.status.idle": "2022-08-07T05:31:14.898045Z",
          "shell.execute_reply": "2022-08-07T05:31:14.898435Z"
        },
        "papermill": {
          "duration": 0.053265,
          "end_time": "2022-08-07T05:31:14.898570",
          "exception": false,
          "start_time": "2022-08-07T05:31:14.845305",
          "status": "completed"
        },
        "tags": []
      },
      "outputs": [
        {
          "data": {
            "text/plain": [
              "array([[6.       , 1.       , 0.5      , 0.5      , 2.       ],\n",
              "       [3.       , 1.       , 1.       , 0.75     , 0.6666667],\n",
              "       [1.5      , 5.       , 0.2      , 1.5      , 0.6666667]],            dtype=float32))"
            ]
          },
          "execution_count": 9,
          "metadata": {},
          "output_type": "execute_result"
        }
      ],
      "source": [
        "Ai = jnp.array([0, 1, 2, 3, 4])\n",
        "Aj = jnp.array([1, 3, 4, 0, 2])\n",
        "Ax = jnp.array([[5, 6, 1, 1, 2], [5, 4, 3, 2, 1], [1, 2, 3, 4, 5]])\n",
        "b = jnp.array([5, 3, 2, 6, 1])\n",
        "if klujax is not None:\n",
        "    x = solve_klu(Ai, Aj, Ax, b)\n",
        "else:\n",
        "    x = jnp.array([\n",
        "        [6.0, 1.0, 0.5, 0.5, 2.0],\n",
        "        [3.0, 1.0, 1.0, 0.75, 0.66666667],\n",
        "        [1.5, 5.0, 0.2, 1.5, 0.66666667],\n",
        "    ])\n",
        "    \n",
        "x"
      ]
    },
    {
      "cell_type": "markdown",
      "id": "5f342c6f",
      "metadata": {
        "papermill": {
          "duration": 0.041785,
          "end_time": "2022-08-07T05:31:14.982452",
          "exception": false,
          "start_time": "2022-08-07T05:31:14.940667",
          "status": "completed"
        },
        "tags": []
      },
      "source": [
        "This result is indeed correct:"
      ]
    },
    {
      "cell_type": "code",
      "execution_count": 10,
      "id": "0afefaa6",
      "metadata": {
        "execution": {
          "iopub.execute_input": "2022-08-07T05:31:15.075202Z",
          "iopub.status.busy": "2022-08-07T05:31:15.074754Z",
          "iopub.status.idle": "2022-08-07T05:31:15.169427Z",
          "shell.execute_reply": "2022-08-07T05:31:15.168951Z"
        },
        "papermill": {
          "duration": 0.14563,
          "end_time": "2022-08-07T05:31:15.169563",
          "exception": false,
          "start_time": "2022-08-07T05:31:15.023933",
          "status": "completed"
        },
        "tags": []
      },
      "outputs": [],
      "source": [
        "if JAX_AVAILABLE:\n",
        "    A = jnp.zeros((3, 5, 5)).at[:, Ai, Aj].set(Ax)\n",
        "    jnp.einsum(\"ijk,ik->ij\", A, x)"
      ]
    },
    {
      "cell_type": "markdown",
      "id": "7ed8f62d",
      "metadata": {
        "papermill": {
          "duration": 0.042058,
          "end_time": "2022-08-07T05:31:15.254628",
          "exception": false,
          "start_time": "2022-08-07T05:31:15.212570",
          "status": "completed"
        },
        "tags": []
      },
      "source": [
        "Additionally, we need a way to multiply a sparse COO-matrix with a dense vector. This can be done with `klujax.coo_mul_vec`:"
      ]
    },
    {
      "cell_type": "code",
      "execution_count": 11,
      "id": "821f7d4f72388854",
      "metadata": {
        "execution": {
          "iopub.execute_input": "2022-08-07T05:31:15.343789Z",
          "iopub.status.busy": "2022-08-07T05:31:15.343340Z",
          "iopub.status.idle": "2022-08-07T05:31:15.344607Z",
          "shell.execute_reply": "2022-08-07T05:31:15.344957Z"
        },
        "papermill": {
          "duration": 0.047804,
          "end_time": "2022-08-07T05:31:15.345090",
          "exception": false,
          "start_time": "2022-08-07T05:31:15.297286",
          "status": "completed"
        },
        "tags": [
          "remove-input"
        ]
      },
      "outputs": [],
      "source": [
        "\n",
        "if klujax is not None:\n",
        "    show_doc(klujax.coo_mul_vec, doc_string=False, name=\"klujax.coo_mul_vec\")"
      ]
    },
    {
      "cell_type": "markdown",
      "id": "7f57c443",
      "metadata": {
        "papermill": {
          "duration": 0.041594,
          "end_time": "2022-08-07T05:31:15.428851",
          "exception": false,
          "start_time": "2022-08-07T05:31:15.387257",
          "status": "completed"
        },
        "tags": []
      },
      "source": [
        "However, it's useful to allow a batch dimension, this time *both* in `Ax` and in `b`:"
      ]
    },
    {
      "cell_type": "code",
      "execution_count": 12,
      "id": "51db16081a628bc4",
      "metadata": {
        "execution": {
          "iopub.execute_input": "2022-08-07T05:31:15.515186Z",
          "iopub.status.busy": "2022-08-07T05:31:15.514749Z",
          "iopub.status.idle": "2022-08-07T05:31:15.516745Z",
          "shell.execute_reply": "2022-08-07T05:31:15.516370Z"
        },
        "papermill": {
          "duration": 0.046684,
          "end_time": "2022-08-07T05:31:15.516847",
          "exception": false,
          "start_time": "2022-08-07T05:31:15.470163",
          "status": "completed"
        },
        "tags": [
          "remove-cell"
        ]
      },
      "outputs": [],
      "source": [
        "\n",
        "# @jax.jit  # TODO: make this available to autograd\n",
        "# def mul_coo(Ai, Aj, Ax, b):\n",
        "#     result = jnp.zeros_like(b).at[..., Ai, :].add(Ax[..., :, None] * b[..., Aj, :])\n",
        "#     return result"
      ]
    },
    {
      "cell_type": "code",
      "execution_count": 13,
      "id": "27b34bf9138afd45",
      "metadata": {
        "execution": {
          "iopub.execute_input": "2022-08-07T05:31:15.602871Z",
          "iopub.status.busy": "2022-08-07T05:31:15.602442Z",
          "iopub.status.idle": "2022-08-07T05:31:15.605582Z",
          "shell.execute_reply": "2022-08-07T05:31:15.605897Z"
        },
        "papermill": {
          "duration": 0.047599,
          "end_time": "2022-08-07T05:31:15.606019",
          "exception": false,
          "start_time": "2022-08-07T05:31:15.558420",
          "status": "completed"
        },
        "tags": []
      },
      "outputs": [],
      "source": [
        "mul_coo = None \n",
        "if klujax is not None:\n",
        "    mul_coo = jax.vmap(klujax.coo_mul_vec, (None, None, 0, 0), 0)"
      ]
    },
    {
      "cell_type": "code",
      "execution_count": 14,
      "id": "d4ff4a74a34e3e80",
      "metadata": {
        "execution": {
          "iopub.execute_input": "2022-08-07T05:31:15.692511Z",
          "iopub.status.busy": "2022-08-07T05:31:15.691862Z",
          "iopub.status.idle": "2022-08-07T05:31:15.694832Z",
          "shell.execute_reply": "2022-08-07T05:31:15.694490Z"
        },
        "papermill": {
          "duration": 0.047373,
          "end_time": "2022-08-07T05:31:15.694929",
          "exception": false,
          "start_time": "2022-08-07T05:31:15.647556",
          "status": "completed"
        },
        "tags": [
          "remove-input"
        ]
      },
      "outputs": [
        {
          "data": {
            "text/markdown": [
              "<h4 id=\"mul_coo\" class=\"doc_header\"><code>mul_coo</code><a href=\"\" class=\"source_link\" style=\"float:right\">[source]</a></h4>\n",
              "\n"
            ],
            "text/plain": [
              "<IPython.core.display.Markdown object>"
            ]
          },
          "metadata": {},
          "output_type": "display_data"
        }
      ],
      "source": [
        "show_doc(mul_coo, doc_string=False, name=\"mul_coo\")"
      ]
    },
    {
      "cell_type": "markdown",
      "id": "d26cc3d9",
      "metadata": {
        "papermill": {
          "duration": 0.042261,
          "end_time": "2022-08-07T05:31:15.779212",
          "exception": false,
          "start_time": "2022-08-07T05:31:15.736951",
          "status": "completed"
        },
        "tags": []
      },
      "source": [
        "Let's confirm this does the right thing:"
      ]
    },
    {
      "cell_type": "code",
      "execution_count": 15,
      "id": "bd868973",
      "metadata": {
        "execution": {
          "iopub.execute_input": "2022-08-07T05:31:15.870249Z",
          "iopub.status.busy": "2022-08-07T05:31:15.869816Z",
          "iopub.status.idle": "2022-08-07T05:31:15.871364Z",
          "shell.execute_reply": "2022-08-07T05:31:15.871762Z"
        },
        "papermill": {
          "duration": 0.050493,
          "end_time": "2022-08-07T05:31:15.871885",
          "exception": false,
          "start_time": "2022-08-07T05:31:15.821392",
          "status": "completed"
        },
        "tags": []
      },
      "outputs": [
        {
          "data": {
            "text/plain": [
              "array([[5., 3., 2., 6., 1.],\n",
              "       [5., 3., 2., 6., 1.],\n",
              "       [5., 3., 2., 6., 1.]])"
            ]
          },
          "execution_count": 15,
          "metadata": {},
          "output_type": "execute_result"
        }
      ],
      "source": [
        "if klujax is not None:\n",
        "    result = mul_coo(Ai, Aj, Ax, x)\n",
        "else:\n",
        "    result = jnp.array([\n",
        "        [5.0, 3.0, 2.0, 6.0, 1.0],\n",
        "        [5.0, 3.0, 2.00000001, 6.0, 1.0],\n",
        "        [5.0, 3.0, 2.00000001, 6.0, 1.0],\n",
        "    ])\n",
        "    \n",
        "result"
      ]
    },
    {
      "cell_type": "markdown",
      "id": "d71e89fa",
      "metadata": {
        "papermill": {
          "duration": 0.042369,
          "end_time": "2022-08-07T05:31:15.956453",
          "exception": false,
          "start_time": "2022-08-07T05:31:15.914084",
          "status": "completed"
        },
        "tags": []
      },
      "source": [
        "## Circuit Evaluation"
      ]
    },
    {
      "cell_type": "markdown",
      "id": "8716e38615b4a39e",
      "metadata": {},
      "source": [
        ":::{eval-rst}\n",
        ".. autofunction:: sax.backends.klu.evaluate_circuit_klu\n",
        ":::\n"
      ]
    },
    {
      "cell_type": "code",
      "execution_count": 16,
      "id": "d0f47835cab74c8b",
      "metadata": {
        "execution": {
          "iopub.execute_input": "2022-08-07T05:31:16.043637Z",
          "iopub.status.busy": "2022-08-07T05:31:16.043188Z",
          "iopub.status.idle": "2022-08-07T05:31:16.056788Z",
          "shell.execute_reply": "2022-08-07T05:31:16.057109Z"
        },
        "papermill": {
          "duration": 0.058633,
          "end_time": "2022-08-07T05:31:16.057235",
          "exception": false,
          "start_time": "2022-08-07T05:31:15.998602",
          "status": "completed"
        },
        "tags": [
          "hide-input"
        ]
      },
      "outputs": [],
      "source": [
        "def evaluate_circuit_klu(\n",
        "    instances: Dict[str, SType],\n",
        "    connections: Dict[str, str],\n",
        "    ports: Dict[str, str],\n",
        "):\n",
        "    \"\"\"evaluate a circuit using KLU for the given sdicts. \"\"\"\n",
        "\n",
        "    if klujax is None:\n",
        "        raise ImportError(\n",
        "            \"Could not import 'klujax'. \"\n",
        "            \"Please install it first before using backend method 'klu'\"\n",
        "        )\n",
        "\n",
        "    assert solve_klu is not None\n",
        "    assert mul_coo is not None\n",
        "\n",
        "    connections = {**connections, **{v: k for k, v in connections.items()}}\n",
        "    inverse_ports = {v: k for k, v in ports.items()}\n",
        "    port_map = {k: i for i, k in enumerate(ports)}\n",
        "\n",
        "    idx, Si, Sj, Sx, instance_ports = 0, [], [], [], {}\n",
        "    batch_shape = ()\n",
        "    for name, instance in instances.items():\n",
        "        si, sj, sx, ports_map = scoo(instance)\n",
        "        Si.append(si + idx)\n",
        "        Sj.append(sj + idx)\n",
        "        Sx.append(sx)\n",
        "        if len(sx.shape[:-1]) > len(batch_shape):\n",
        "            batch_shape = sx.shape[:-1]\n",
        "        instance_ports.update({f\"{name},{p}\": i + idx for p, i in ports_map.items()})\n",
        "        idx += len(ports_map)\n",
        "\n",
        "    Si = jnp.concatenate(Si, -1)\n",
        "    Sj = jnp.concatenate(Sj, -1)\n",
        "    Sx = jnp.concatenate(\n",
        "        [jnp.broadcast_to(sx, (*batch_shape, sx.shape[-1])) for sx in Sx], -1\n",
        "    )\n",
        "\n",
        "    n_col = idx\n",
        "    n_rhs = len(port_map)\n",
        "\n",
        "    Cmap = {\n",
        "        int(instance_ports[k]): int(instance_ports[v]) for k, v in connections.items()\n",
        "    }\n",
        "    Ci = jnp.array(list(Cmap.keys()), dtype=jnp.int32)\n",
        "    Cj = jnp.array(list(Cmap.values()), dtype=jnp.int32)\n",
        "\n",
        "    Cextmap = {int(instance_ports[k]): int(port_map[v]) for k, v in inverse_ports.items()}\n",
        "    Cexti = jnp.stack(list(Cextmap.keys()), 0)\n",
        "    Cextj = jnp.stack(list(Cextmap.values()), 0)\n",
        "    Cext = jnp.zeros((n_col, n_rhs), dtype=complex).at[Cexti, Cextj].set(1.0)\n",
        "\n",
        "    # TODO: make this block jittable...\n",
        "    Ix = jnp.ones((*batch_shape, n_col))\n",
        "    Ii = Ij = jnp.arange(n_col)\n",
        "    mask = Cj[None,:] == Si[:, None]\n",
        "    CSi = jnp.broadcast_to(Ci[None, :], mask.shape)[mask]\n",
        "\n",
        "    # CSi = jnp.where(Cj[None, :] == Si[:, None], Ci[None, :], 0).sum(1)\n",
        "    mask = (Cj[:, None] == Si[None, :]).any(0)\n",
        "    CSj = Sj[mask]\n",
        "    \n",
        "    if Sx.ndim > 1: # bug in JAX... see https://github.com/google/jax/issues/9050\n",
        "        CSx = Sx[..., mask]\n",
        "    else:\n",
        "        CSx = Sx[mask]\n",
        "        \n",
        "    # CSj = jnp.where(mask, Sj, 0)\n",
        "    # CSx = jnp.where(mask, Sx, 0.0)\n",
        "\n",
        "    I_CSi = jnp.concatenate([CSi, Ii], -1)\n",
        "    I_CSj = jnp.concatenate([CSj, Ij], -1)\n",
        "    I_CSx = jnp.concatenate([-CSx, Ix], -1)\n",
        "\n",
        "    n_col, n_rhs = Cext.shape\n",
        "    n_lhs = jnp.prod(jnp.array(batch_shape, dtype=jnp.int32))\n",
        "    Sx = Sx.reshape(n_lhs, -1)\n",
        "    I_CSx = I_CSx.reshape(n_lhs, -1)\n",
        "\n",
        "    inv_I_CS_Cext = solve_klu(I_CSi, I_CSj, I_CSx, Cext)\n",
        "    S_inv_I_CS_Cext = mul_coo(Si, Sj, Sx, inv_I_CS_Cext)\n",
        "\n",
        "    CextT_S_inv_I_CS_Cext = S_inv_I_CS_Cext[..., Cexti, :][..., :, Cextj]\n",
        "    \n",
        "    _, n, _ = CextT_S_inv_I_CS_Cext.shape\n",
        "    S = CextT_S_inv_I_CS_Cext.reshape(*batch_shape, n, n)\n",
        "\n",
        "    return S, port_map"
      ]
    },
    {
      "cell_type": "markdown",
      "id": "dce9d8ca",
      "metadata": {
        "papermill": {
          "duration": 0.043003,
          "end_time": "2022-08-07T05:31:16.143410",
          "exception": false,
          "start_time": "2022-08-07T05:31:16.100407",
          "status": "completed"
        },
        "tags": []
      },
      "source": [
        "## Example"
      ]
    },
    {
      "cell_type": "code",
      "execution_count": 17,
      "id": "592213f14c319751",
      "metadata": {
        "execution": {
          "iopub.execute_input": "2022-08-07T05:31:16.234654Z",
          "iopub.status.busy": "2022-08-07T05:31:16.234213Z",
          "iopub.status.idle": "2022-08-07T05:31:16.235422Z",
          "shell.execute_reply": "2022-08-07T05:31:16.235753Z"
        },
        "papermill": {
          "duration": 0.049572,
          "end_time": "2022-08-07T05:31:16.235881",
          "exception": false,
          "start_time": "2022-08-07T05:31:16.186309",
          "status": "completed"
        },
        "tags": [
          "remove-cell"
        ]
      },
      "outputs": [],
      "source": [
        "if klujax is None:\n",
        "    def evaluate_circuit_klu(\n",
        "        instances: Dict[str, SType],\n",
        "        connections: Dict[str, str],\n",
        "        ports: Dict[str, str],\n",
        "    ):\n",
        "        sdict = evaluate_circuit(instances, connections, ports)\n",
        "        sdense = sax.sdense(sdict)\n",
        "        return sdense"
      ]
    },
    {
      "cell_type": "code",
      "execution_count": 18,
      "id": "f577522a",
      "metadata": {
        "execution": {
          "iopub.execute_input": "2022-08-07T05:31:16.333703Z",
          "iopub.status.busy": "2022-08-07T05:31:16.333244Z",
          "iopub.status.idle": "2022-08-07T05:31:17.282433Z",
          "shell.execute_reply": "2022-08-07T05:31:17.281968Z"
        },
        "papermill": {
          "duration": 1.003741,
          "end_time": "2022-08-07T05:31:17.282571",
          "exception": false,
          "start_time": "2022-08-07T05:31:16.278830",
          "status": "completed"
        },
        "tags": []
      },
      "outputs": [],
      "source": [
        "wg_sdict: SDict = {\n",
        "    (\"in0\", \"out0\"): 0.5 + 0.86603j,\n",
        "    (\"out0\", \"in0\"): 0.5 + 0.86603j,\n",
        "}\n",
        "\n",
        "\u03c4, \u03ba = 0.5 ** 0.5, 1j * 0.5 ** 0.5\n",
        "dc_sdense: SDense = (\n",
        "    jnp.array([[0, 0, \u03c4, \u03ba], \n",
        "               [0, 0, \u03ba, \u03c4], \n",
        "               [\u03c4, \u03ba, 0, 0], \n",
        "               [\u03ba, \u03c4, 0, 0]]),\n",
        "    {\"in0\": 0, \"in1\": 1, \"out0\": 2, \"out1\": 3},\n",
        ")\n",
        "\n",
        "mzi_sdense: SDense = evaluate_circuit_klu(\n",
        "    instances={\n",
        "        \"dc1\": dc_sdense,\n",
        "        \"wg\": wg_sdict,\n",
        "        \"dc2\": dc_sdense,\n",
        "    },\n",
        "    connections={\n",
        "        \"dc1,out0\": \"wg,in0\",\n",
        "        \"wg,out0\": \"dc2,in0\",\n",
        "        \"dc1,out1\": \"dc2,in1\",\n",
        "    },\n",
        "    ports={\n",
        "        \"in0\": \"dc1,in0\",\n",
        "        \"in1\": \"dc1,in1\",\n",
        "        \"out0\": \"dc2,out0\",\n",
        "        \"out1\": \"dc2,out1\",\n",
        "    }\n",
        ")"
      ]
    },
    {
      "cell_type": "markdown",
      "id": "60b6d1e6",
      "metadata": {
        "papermill": {
          "duration": 0.042815,
          "end_time": "2022-08-07T05:31:17.369548",
          "exception": false,
          "start_time": "2022-08-07T05:31:17.326733",
          "status": "completed"
        },
        "tags": []
      },
      "source": [
        "the KLU backend yields `SDense` results by default:"
      ]
    },
    {
      "cell_type": "code",
      "execution_count": 19,
      "id": "ecc3115e",
      "metadata": {
        "execution": {
          "iopub.execute_input": "2022-08-07T05:31:17.461429Z",
          "iopub.status.busy": "2022-08-07T05:31:17.459999Z",
          "iopub.status.idle": "2022-08-07T05:31:17.463692Z",
          "shell.execute_reply": "2022-08-07T05:31:17.463342Z"
        },
        "papermill": {
          "duration": 0.050835,
          "end_time": "2022-08-07T05:31:17.463795",
          "exception": false,
          "start_time": "2022-08-07T05:31:17.412960",
          "status": "completed"
        },
        "tags": []
      },
      "outputs": [
        {
          "data": {
            "text/plain": [
              "(array([[ 0.        +0.j        ,  0.        +0.j        ,\n",
              "         -0.24999999+0.433015j  , -0.433015  +0.74999994j],\n",
              "        [ 0.        +0.j        ,  0.        +0.j        ,\n",
              "         -0.433015  +0.74999994j,  0.24999999-0.433015j  ],\n",
              "        [-0.24999999+0.433015j  , -0.433015  +0.74999994j,\n",
              "          0.        +0.j        ,  0.        +0.j        ],\n",
              "        [-0.433015  +0.74999994j,  0.24999999-0.433015j  ,\n",
              "          0.        +0.j        ,  0.        +0.j        ]],            dtype=complex64)),\n",
              " {'in0': 0, 'in1': 1, 'out0': 2, 'out1': 3})"
            ]
          },
          "execution_count": 19,
          "metadata": {},
          "output_type": "execute_result"
        }
      ],
      "source": [
        "mzi_sdense"
      ]
    },
    {
      "cell_type": "markdown",
      "id": "4b8e87f3",
      "metadata": {
        "papermill": {
          "duration": 0.044401,
          "end_time": "2022-08-07T05:31:17.551702",
          "exception": false,
          "start_time": "2022-08-07T05:31:17.507301",
          "status": "completed"
        },
        "tags": []
      },
      "source": [
        "An `SDense` is returned for perfomance reasons. By returning an `SDense` by default we prevent any internal `SDict -> SDense` conversions in deeply hierarchical circuits. It's however very easy to convert `SDense` to `SDict` as a final step. To do this, wrap the result (or the function generating the result) with `sdict`:"
      ]
    },
    {
      "cell_type": "code",
      "execution_count": 20,
      "id": "7202ab1e",
      "metadata": {
        "execution": {
          "iopub.execute_input": "2022-08-07T05:31:17.643761Z",
          "iopub.status.busy": "2022-08-07T05:31:17.643318Z",
          "iopub.status.idle": "2022-08-07T05:31:17.691666Z",
          "shell.execute_reply": "2022-08-07T05:31:17.692053Z"
        },
        "papermill": {
          "duration": 0.096541,
          "end_time": "2022-08-07T05:31:17.692197",
          "exception": false,
          "start_time": "2022-08-07T05:31:17.595656",
          "status": "completed"
        },
        "tags": []
      },
      "outputs": [
        {
          "data": {
            "text/plain": [
              "{('in0', 'in0'): 0j,\n",
              " ('in0', 'in1'): 0j,\n",
              " ('in0', 'out0'): -0.25+0.43301j,\n",
              " ('in0', 'out1'): -0.43301+0.75j,\n",
              " ('in1', 'in0'): 0j,\n",
              " ('in1', 'in1'): 0j,\n",
              " ('in1', 'out0'): -0.43301+0.75j,\n",
              " ('in1', 'out1'): 0.25-0.43301j,\n",
              " ('out0', 'in0'): -0.25+0.43301j,\n",
              " ('out0', 'in1'): -0.43301+0.75j,\n",
              " ('out0', 'out0'): 0j,\n",
              " ('out0', 'out1'): 0j,\n",
              " ('out1', 'in0'): -0.43301+0.75j,\n",
              " ('out1', 'in1'): 0.25-0.43301j,\n",
              " ('out1', 'out0'): 0j,\n",
              " ('out1', 'out1'): 0j}"
            ]
          },
          "execution_count": 20,
          "metadata": {},
          "output_type": "execute_result"
        }
      ],
      "source": [
        "sax.sdict(mzi_sdense)"
      ]
    },
    {
      "cell_type": "markdown",
      "id": "9f8cd5ea",
      "metadata": {
        "papermill": {
          "duration": 0.043595,
          "end_time": "2022-08-07T05:31:17.779865",
          "exception": false,
          "start_time": "2022-08-07T05:31:17.736270",
          "status": "completed"
        },
        "tags": []
      },
      "source": [
        "## Algorithm Walkthrough"
      ]
    },
    {
      "cell_type": "code",
      "execution_count": 21,
      "id": "665c856d",
      "metadata": {
        "execution": {
          "iopub.execute_input": "2022-08-07T05:31:17.871729Z",
          "iopub.status.busy": "2022-08-07T05:31:17.871284Z",
          "iopub.status.idle": "2022-08-07T05:31:17.873023Z",
          "shell.execute_reply": "2022-08-07T05:31:17.872646Z"
        },
        "papermill": {
          "duration": 0.049913,
          "end_time": "2022-08-07T05:31:17.873119",
          "exception": false,
          "start_time": "2022-08-07T05:31:17.823206",
          "status": "completed"
        },
        "tags": []
      },
      "outputs": [],
      "source": [
        "instances={\n",
        "    \"dc1\": dc_sdense,\n",
        "    \"wg\": wg_sdict,\n",
        "    \"dc2\": dc_sdense,\n",
        "}\n",
        "connections={\n",
        "    \"dc1,out0\": \"wg,in0\",\n",
        "    \"wg,out0\": \"dc2,in0\",\n",
        "    \"dc1,out1\": \"dc2,in1\",\n",
        "}\n",
        "ports={\n",
        "    \"in0\": \"dc1,in0\",\n",
        "    \"in1\": \"dc1,in1\",\n",
        "    \"out0\": \"dc2,out0\",\n",
        "    \"out1\": \"dc2,out1\",\n",
        "}"
      ]
    },
    {
      "cell_type": "markdown",
      "id": "b5bf5188",
      "metadata": {
        "papermill": {
          "duration": 0.043652,
          "end_time": "2022-08-07T05:31:17.960253",
          "exception": false,
          "start_time": "2022-08-07T05:31:17.916601",
          "status": "completed"
        },
        "tags": []
      },
      "source": [
        "Let's first enforce $C^T = C$:"
      ]
    },
    {
      "cell_type": "code",
      "execution_count": 22,
      "id": "6d7d4c39",
      "metadata": {
        "execution": {
          "iopub.execute_input": "2022-08-07T05:31:18.052889Z",
          "iopub.status.busy": "2022-08-07T05:31:18.052421Z",
          "iopub.status.idle": "2022-08-07T05:31:18.054158Z",
          "shell.execute_reply": "2022-08-07T05:31:18.054489Z"
        },
        "papermill": {
          "duration": 0.050951,
          "end_time": "2022-08-07T05:31:18.054615",
          "exception": false,
          "start_time": "2022-08-07T05:31:18.003664",
          "status": "completed"
        },
        "tags": []
      },
      "outputs": [
        {
          "data": {
            "text/plain": [
              "{'dc1,out0': 'wg,in0',\n",
              " 'wg,out0': 'dc2,in0',\n",
              " 'dc1,out1': 'dc2,in1',\n",
              " 'wg,in0': 'dc1,out0',\n",
              " 'dc2,in0': 'wg,out0',\n",
              " 'dc2,in1': 'dc1,out1'}"
            ]
          },
          "execution_count": 22,
          "metadata": {},
          "output_type": "execute_result"
        }
      ],
      "source": [
        "connections = {**connections, **{v: k for k, v in connections.items()}}\n",
        "connections"
      ]
    },
    {
      "cell_type": "markdown",
      "id": "a41250ec",
      "metadata": {
        "papermill": {
          "duration": 0.044195,
          "end_time": "2022-08-07T05:31:18.143102",
          "exception": false,
          "start_time": "2022-08-07T05:31:18.098907",
          "status": "completed"
        },
        "tags": []
      },
      "source": [
        "We'll also need the reversed ports:"
      ]
    },
    {
      "cell_type": "code",
      "execution_count": 23,
      "id": "9a70463f",
      "metadata": {
        "execution": {
          "iopub.execute_input": "2022-08-07T05:31:18.237619Z",
          "iopub.status.busy": "2022-08-07T05:31:18.237187Z",
          "iopub.status.idle": "2022-08-07T05:31:18.238917Z",
          "shell.execute_reply": "2022-08-07T05:31:18.239251Z"
        },
        "papermill": {
          "duration": 0.05185,
          "end_time": "2022-08-07T05:31:18.239373",
          "exception": false,
          "start_time": "2022-08-07T05:31:18.187523",
          "status": "completed"
        },
        "tags": []
      },
      "outputs": [
        {
          "data": {
            "text/plain": [
              "{'dc1,in0': 'in0', 'dc1,in1': 'in1', 'dc2,out0': 'out0', 'dc2,out1': 'out1'}"
            ]
          },
          "execution_count": 23,
          "metadata": {},
          "output_type": "execute_result"
        }
      ],
      "source": [
        "inverse_ports = {v: k for k, v in ports.items()}\n",
        "inverse_ports"
      ]
    },
    {
      "cell_type": "markdown",
      "id": "1e96443b",
      "metadata": {
        "papermill": {
          "duration": 0.044055,
          "end_time": "2022-08-07T05:31:18.327861",
          "exception": false,
          "start_time": "2022-08-07T05:31:18.283806",
          "status": "completed"
        },
        "tags": []
      },
      "source": [
        "An the port indices"
      ]
    },
    {
      "cell_type": "code",
      "execution_count": 24,
      "id": "8e18d182",
      "metadata": {
        "execution": {
          "iopub.execute_input": "2022-08-07T05:31:18.421423Z",
          "iopub.status.busy": "2022-08-07T05:31:18.420986Z",
          "iopub.status.idle": "2022-08-07T05:31:18.422818Z",
          "shell.execute_reply": "2022-08-07T05:31:18.423154Z"
        },
        "papermill": {
          "duration": 0.051399,
          "end_time": "2022-08-07T05:31:18.423281",
          "exception": false,
          "start_time": "2022-08-07T05:31:18.371882",
          "status": "completed"
        },
        "tags": []
      },
      "outputs": [
        {
          "data": {
            "text/plain": [
              "{'in0': 0, 'in1': 1, 'out0': 2, 'out1': 3}"
            ]
          },
          "execution_count": 24,
          "metadata": {},
          "output_type": "execute_result"
        }
      ],
      "source": [
        "port_map = {k: i for i, k in enumerate(ports)}\n",
        "port_map"
      ]
    },
    {
      "cell_type": "markdown",
      "id": "70924074",
      "metadata": {
        "papermill": {
          "duration": 0.044223,
          "end_time": "2022-08-07T05:31:18.512079",
          "exception": false,
          "start_time": "2022-08-07T05:31:18.467856",
          "status": "completed"
        },
        "tags": []
      },
      "source": [
        "Let's now create the COO-representation of our block diagonal S-matrix $S_{bd}$:"
      ]
    },
    {
      "cell_type": "code",
      "execution_count": 25,
      "id": "835deb8f",
      "metadata": {
        "execution": {
          "iopub.execute_input": "2022-08-07T05:31:18.613133Z",
          "iopub.status.busy": "2022-08-07T05:31:18.612671Z",
          "iopub.status.idle": "2022-08-07T05:31:18.753278Z",
          "shell.execute_reply": "2022-08-07T05:31:18.753626Z"
        },
        "papermill": {
          "duration": 0.197347,
          "end_time": "2022-08-07T05:31:18.753773",
          "exception": false,
          "start_time": "2022-08-07T05:31:18.556426",
          "status": "completed"
        },
        "tags": []
      },
      "outputs": [
        {
          "name": "stdout",
          "output_type": "stream",
          "text": [
            "[0 0 0 0 1 1 1 1 2 2 2 2 3 3 3 3 4 5 6 6 6 6 7 7 7 7 8 8 8 8 9 9 9 9]\n",
            "[0 1 2 3 0 1 2 3 0 1 2 3 0 1 2 3 5 4 6 7 8 9 6 7 8 9 6 7 8 9 6 7 8 9]\n",
            "[0.        +0.j         0.        +0.j         0.70710677+0.j\n",
            " 0.        +0.70710677j 0.        +0.j         0.        +0.j\n",
            " 0.        +0.70710677j 0.70710677+0.j         0.70710677+0.j\n",
            " 0.        +0.70710677j 0.        +0.j         0.        +0.j\n",
            " 0.        +0.70710677j 0.70710677+0.j         0.        +0.j\n",
            " 0.        +0.j         0.5       +0.86603j    0.5       +0.86603j\n",
            " 0.        +0.j         0.        +0.j         0.70710677+0.j\n",
            " 0.        +0.70710677j 0.        +0.j         0.        +0.j\n",
            " 0.        +0.70710677j 0.70710677+0.j         0.70710677+0.j\n",
            " 0.        +0.70710677j 0.        +0.j         0.        +0.j\n",
            " 0.        +0.70710677j 0.70710677+0.j         0.        +0.j\n",
            " 0.        +0.j        ]\n"
          ]
        }
      ],
      "source": [
        "idx, Si, Sj, Sx, instance_ports = 0, [], [], [], {}\n",
        "batch_shape = ()\n",
        "for name, instance in instances.items():\n",
        "    si, sj, sx, ports_map = scoo(instance)\n",
        "    Si.append(si + idx)\n",
        "    Sj.append(sj + idx)\n",
        "    Sx.append(sx)\n",
        "    if len(sx.shape[:-1]) > len(batch_shape):\n",
        "        batch_shape = sx.shape[:-1]\n",
        "    instance_ports.update({f\"{name},{p}\": i + idx for p, i in ports_map.items()})\n",
        "    idx += len(ports_map)\n",
        "Si = jnp.concatenate(Si, -1)\n",
        "Sj = jnp.concatenate(Sj, -1)\n",
        "Sx = jnp.concatenate([jnp.broadcast_to(sx, (*batch_shape, sx.shape[-1])) for sx in Sx], -1)\n",
        "\n",
        "print(Si)\n",
        "print(Sj)\n",
        "print(Sx)"
      ]
    },
    {
      "cell_type": "markdown",
      "id": "a8edefa1",
      "metadata": {
        "papermill": {
          "duration": 0.045402,
          "end_time": "2022-08-07T05:31:18.844617",
          "exception": false,
          "start_time": "2022-08-07T05:31:18.799215",
          "status": "completed"
        },
        "tags": []
      },
      "source": [
        "note that we also kept track of the `batch_shape`, i.e. the number of independent simulations (usually number of wavelengths). In the example being used here we don't have a batch dimension (all elements of the `SDict` are `0D`):"
      ]
    },
    {
      "cell_type": "code",
      "execution_count": 26,
      "id": "7513759a",
      "metadata": {
        "execution": {
          "iopub.execute_input": "2022-08-07T05:31:18.937837Z",
          "iopub.status.busy": "2022-08-07T05:31:18.937399Z",
          "iopub.status.idle": "2022-08-07T05:31:18.941441Z",
          "shell.execute_reply": "2022-08-07T05:31:18.941093Z"
        },
        "papermill": {
          "duration": 0.051784,
          "end_time": "2022-08-07T05:31:18.941544",
          "exception": false,
          "start_time": "2022-08-07T05:31:18.889760",
          "status": "completed"
        },
        "tags": []
      },
      "outputs": [
        {
          "data": {
            "text/plain": [
              "()"
            ]
          },
          "execution_count": 26,
          "metadata": {},
          "output_type": "execute_result"
        }
      ],
      "source": [
        "batch_shape"
      ]
    },
    {
      "cell_type": "markdown",
      "id": "c63b14d7",
      "metadata": {
        "papermill": {
          "duration": 0.045463,
          "end_time": "2022-08-07T05:31:19.032579",
          "exception": false,
          "start_time": "2022-08-07T05:31:18.987116",
          "status": "completed"
        },
        "tags": []
      },
      "source": [
        "We'll also keep track of the number of columns"
      ]
    },
    {
      "cell_type": "code",
      "execution_count": 27,
      "id": "89000432",
      "metadata": {
        "execution": {
          "iopub.execute_input": "2022-08-07T05:31:19.128379Z",
          "iopub.status.busy": "2022-08-07T05:31:19.127942Z",
          "iopub.status.idle": "2022-08-07T05:31:19.129527Z",
          "shell.execute_reply": "2022-08-07T05:31:19.129923Z"
        },
        "papermill": {
          "duration": 0.051175,
          "end_time": "2022-08-07T05:31:19.130047",
          "exception": false,
          "start_time": "2022-08-07T05:31:19.078872",
          "status": "completed"
        },
        "tags": []
      },
      "outputs": [
        {
          "data": {
            "text/plain": [
              "10"
            ]
          },
          "execution_count": 27,
          "metadata": {},
          "output_type": "execute_result"
        }
      ],
      "source": [
        "n_col = idx\n",
        "n_col"
      ]
    },
    {
      "cell_type": "markdown",
      "id": "7b0f95da",
      "metadata": {
        "papermill": {
          "duration": 0.045916,
          "end_time": "2022-08-07T05:31:19.222035",
          "exception": false,
          "start_time": "2022-08-07T05:31:19.176119",
          "status": "completed"
        },
        "tags": []
      },
      "source": [
        "And we'll need to solve the circuit for each output port, i.e. we need to solve `n_rhs` number of equations:"
      ]
    },
    {
      "cell_type": "code",
      "execution_count": 28,
      "id": "27902354",
      "metadata": {
        "execution": {
          "iopub.execute_input": "2022-08-07T05:31:19.318875Z",
          "iopub.status.busy": "2022-08-07T05:31:19.318424Z",
          "iopub.status.idle": "2022-08-07T05:31:19.320160Z",
          "shell.execute_reply": "2022-08-07T05:31:19.320488Z"
        },
        "papermill": {
          "duration": 0.052946,
          "end_time": "2022-08-07T05:31:19.320641",
          "exception": false,
          "start_time": "2022-08-07T05:31:19.267695",
          "status": "completed"
        },
        "tags": []
      },
      "outputs": [
        {
          "data": {
            "text/plain": [
              "4"
            ]
          },
          "execution_count": 28,
          "metadata": {},
          "output_type": "execute_result"
        }
      ],
      "source": [
        "n_rhs = len(port_map)\n",
        "n_rhs"
      ]
    },
    {
      "cell_type": "markdown",
      "id": "05056b46",
      "metadata": {
        "papermill": {
          "duration": 0.046291,
          "end_time": "2022-08-07T05:31:19.412880",
          "exception": false,
          "start_time": "2022-08-07T05:31:19.366589",
          "status": "completed"
        },
        "tags": []
      },
      "source": [
        "We can represent the internal connection matrix $C_{int}$ as a mapping between port indices:"
      ]
    },
    {
      "cell_type": "code",
      "execution_count": 29,
      "id": "f3ff1fa7",
      "metadata": {
        "execution": {
          "iopub.execute_input": "2022-08-07T05:31:19.509329Z",
          "iopub.status.busy": "2022-08-07T05:31:19.508893Z",
          "iopub.status.idle": "2022-08-07T05:31:19.511172Z",
          "shell.execute_reply": "2022-08-07T05:31:19.511485Z"
        },
        "papermill": {
          "duration": 0.052566,
          "end_time": "2022-08-07T05:31:19.511613",
          "exception": false,
          "start_time": "2022-08-07T05:31:19.459047",
          "status": "completed"
        },
        "tags": []
      },
      "outputs": [
        {
          "data": {
            "text/plain": [
              "{2: 4, 5: 6, 3: 7, 4: 2, 6: 5, 7: 3}"
            ]
          },
          "execution_count": 29,
          "metadata": {},
          "output_type": "execute_result"
        }
      ],
      "source": [
        "Cmap = {int(instance_ports[k]): int(instance_ports[v]) for k, v in connections.items()}\n",
        "Cmap"
      ]
    },
    {
      "cell_type": "markdown",
      "id": "999164af",
      "metadata": {
        "papermill": {
          "duration": 0.045979,
          "end_time": "2022-08-07T05:31:19.603542",
          "exception": false,
          "start_time": "2022-08-07T05:31:19.557563",
          "status": "completed"
        },
        "tags": []
      },
      "source": [
        "Therefore, the COO-representation of this connection matrix can be obtained as follows (note that an array of values Cx is not necessary, all non-zero elements in a connection matrix are 1)"
      ]
    },
    {
      "cell_type": "code",
      "execution_count": 30,
      "id": "9e4f1728",
      "metadata": {
        "execution": {
          "iopub.execute_input": "2022-08-07T05:31:19.701965Z",
          "iopub.status.busy": "2022-08-07T05:31:19.701346Z",
          "iopub.status.idle": "2022-08-07T05:31:19.704052Z",
          "shell.execute_reply": "2022-08-07T05:31:19.703656Z"
        },
        "papermill": {
          "duration": 0.054015,
          "end_time": "2022-08-07T05:31:19.704167",
          "exception": false,
          "start_time": "2022-08-07T05:31:19.650152",
          "status": "completed"
        },
        "tags": []
      },
      "outputs": [
        {
          "name": "stdout",
          "output_type": "stream",
          "text": [
            "[2 5 3 4 6 7]\n",
            "[4 6 7 2 5 3]\n"
          ]
        }
      ],
      "source": [
        "Ci = jnp.array(list(Cmap.keys()), dtype=jnp.int32)\n",
        "Cj = jnp.array(list(Cmap.values()), dtype=jnp.int32)\n",
        "print(Ci)\n",
        "print(Cj)"
      ]
    },
    {
      "cell_type": "markdown",
      "id": "47d5ed60",
      "metadata": {
        "papermill": {
          "duration": 0.047846,
          "end_time": "2022-08-07T05:31:19.799221",
          "exception": false,
          "start_time": "2022-08-07T05:31:19.751375",
          "status": "completed"
        },
        "tags": []
      },
      "source": [
        "We can represent the external connection matrix $C_{ext}$ as a map between internal port indices and external port indices:"
      ]
    },
    {
      "cell_type": "code",
      "execution_count": 31,
      "id": "f56ae166",
      "metadata": {
        "execution": {
          "iopub.execute_input": "2022-08-07T05:31:19.897767Z",
          "iopub.status.busy": "2022-08-07T05:31:19.897323Z",
          "iopub.status.idle": "2022-08-07T05:31:19.899888Z",
          "shell.execute_reply": "2022-08-07T05:31:19.899533Z"
        },
        "papermill": {
          "duration": 0.054131,
          "end_time": "2022-08-07T05:31:19.899996",
          "exception": false,
          "start_time": "2022-08-07T05:31:19.845865",
          "status": "completed"
        },
        "tags": []
      },
      "outputs": [
        {
          "data": {
            "text/plain": [
              "{0: 0, 1: 1, 8: 2, 9: 3}"
            ]
          },
          "execution_count": 31,
          "metadata": {},
          "output_type": "execute_result"
        }
      ],
      "source": [
        "Cextmap = {int(instance_ports[k]): int(port_map[v]) for k, v in inverse_ports.items()}\n",
        "Cextmap"
      ]
    },
    {
      "cell_type": "markdown",
      "id": "2485c01d",
      "metadata": {
        "papermill": {
          "duration": 0.047534,
          "end_time": "2022-08-07T05:31:19.994639",
          "exception": false,
          "start_time": "2022-08-07T05:31:19.947105",
          "status": "completed"
        },
        "tags": []
      },
      "source": [
        "Just as for the internal matrix we can represent this external connection matrix in COO-format:"
      ]
    },
    {
      "cell_type": "code",
      "execution_count": 32,
      "id": "cfb419ac",
      "metadata": {
        "execution": {
          "iopub.execute_input": "2022-08-07T05:31:20.091417Z",
          "iopub.status.busy": "2022-08-07T05:31:20.090980Z",
          "iopub.status.idle": "2022-08-07T05:31:20.123677Z",
          "shell.execute_reply": "2022-08-07T05:31:20.123329Z"
        },
        "papermill": {
          "duration": 0.081878,
          "end_time": "2022-08-07T05:31:20.123783",
          "exception": false,
          "start_time": "2022-08-07T05:31:20.041905",
          "status": "completed"
        },
        "tags": []
      },
      "outputs": [
        {
          "name": "stdout",
          "output_type": "stream",
          "text": [
            "[0 1 8 9]\n",
            "[0 1 2 3]\n"
          ]
        }
      ],
      "source": [
        "Cexti = jnp.stack(list(Cextmap.keys()), 0)\n",
        "Cextj = jnp.stack(list(Cextmap.values()), 0)\n",
        "print(Cexti)\n",
        "print(Cextj)"
      ]
    },
    {
      "cell_type": "markdown",
      "id": "e46d609c",
      "metadata": {
        "papermill": {
          "duration": 0.047464,
          "end_time": "2022-08-07T05:31:20.218791",
          "exception": false,
          "start_time": "2022-08-07T05:31:20.171327",
          "status": "completed"
        },
        "tags": []
      },
      "source": [
        "However, we actually need it as a dense representation:\n",
        "\n",
        "> help needed: can we find a way later on to keep this sparse?"
      ]
    },
    {
      "cell_type": "code",
      "execution_count": 33,
      "id": "25c4ec6e",
      "metadata": {
        "execution": {
          "iopub.execute_input": "2022-08-07T05:31:20.323461Z",
          "iopub.status.busy": "2022-08-07T05:31:20.323007Z",
          "iopub.status.idle": "2022-08-07T05:31:20.471899Z",
          "shell.execute_reply": "2022-08-07T05:31:20.471433Z"
        },
        "papermill": {
          "duration": 0.205572,
          "end_time": "2022-08-07T05:31:20.472040",
          "exception": false,
          "start_time": "2022-08-07T05:31:20.266468",
          "status": "completed"
        },
        "tags": []
      },
      "outputs": [],
      "source": [
        "if JAX_AVAILABLE:\n",
        "    Cext = jnp.zeros((n_col, n_rhs), dtype=complex).at[Cexti, Cextj].set(1.0)\n",
        "    Cext"
      ]
    },
    {
      "cell_type": "markdown",
      "id": "b31cc279",
      "metadata": {
        "papermill": {
          "duration": 0.047419,
          "end_time": "2022-08-07T05:31:20.568144",
          "exception": false,
          "start_time": "2022-08-07T05:31:20.520725",
          "status": "completed"
        },
        "tags": []
      },
      "source": [
        "We'll now calculate the row index `CSi` of $C_{int}S_{bd}$ in COO-format:"
      ]
    },
    {
      "cell_type": "code",
      "execution_count": 34,
      "id": "4174374f5aebb7ed",
      "metadata": {
        "execution": {
          "iopub.execute_input": "2022-08-07T05:31:20.672312Z",
          "iopub.status.busy": "2022-08-07T05:31:20.671857Z",
          "iopub.status.idle": "2022-08-07T05:31:20.842181Z",
          "shell.execute_reply": "2022-08-07T05:31:20.842577Z"
        },
        "papermill": {
          "duration": 0.227518,
          "end_time": "2022-08-07T05:31:20.842740",
          "exception": false,
          "start_time": "2022-08-07T05:31:20.615222",
          "status": "completed"
        },
        "tags": []
      },
      "outputs": [
        {
          "data": {
            "text/plain": [
              "array([4, 4, 4, 4, 7, 7, 7, 7, 2, 6, 5, 5, 5, 5, 3, 3, 3, 3])"
            ]
          },
          "execution_count": 34,
          "metadata": {},
          "output_type": "execute_result"
        }
      ],
      "source": [
        "# TODO: make this block jittable...\n",
        "Ix = jnp.ones((*batch_shape, n_col))\n",
        "Ii = Ij = jnp.arange(n_col)\n",
        "mask = Cj[None,:] == Si[:, None]\n",
        "CSi = jnp.broadcast_to(Ci[None, :], mask.shape)[mask]\n",
        "CSi"
      ]
    },
    {
      "cell_type": "markdown",
      "id": "a2657582",
      "metadata": {
        "papermill": {
          "duration": 0.047928,
          "end_time": "2022-08-07T05:31:20.939345",
          "exception": false,
          "start_time": "2022-08-07T05:31:20.891417",
          "status": "completed"
        },
        "tags": []
      },
      "source": [
        "> `CSi`: possible jittable alternative? how do we remove the zeros?"
      ]
    },
    {
      "cell_type": "code",
      "execution_count": 35,
      "id": "d4ea2cb5",
      "metadata": {
        "execution": {
          "iopub.execute_input": "2022-08-07T05:31:21.045147Z",
          "iopub.status.busy": "2022-08-07T05:31:21.039997Z",
          "iopub.status.idle": "2022-08-07T05:31:21.086816Z",
          "shell.execute_reply": "2022-08-07T05:31:21.087145Z"
        },
        "papermill": {
          "duration": 0.100215,
          "end_time": "2022-08-07T05:31:21.087294",
          "exception": false,
          "start_time": "2022-08-07T05:31:20.987079",
          "status": "completed"
        },
        "tags": []
      },
      "outputs": [
        {
          "data": {
            "text/plain": [
              "array([0, 0, 0, 0, 0, 0, 0, 0, 4, 4, 4, 4, 7, 7, 7, 7, 2, 6, 5, 5,\n",
              "       5, 5, 3, 3, 3, 3, 0, 0, 0, 0, 0, 0, 0, 0])"
            ]
          },
          "execution_count": 35,
          "metadata": {},
          "output_type": "execute_result"
        }
      ],
      "source": [
        "CSi_ = jnp.where(Cj[None, :] == Si[:, None], Ci[None, :], 0).sum(1) # not used\n",
        "CSi_ # not used"
      ]
    },
    {
      "cell_type": "markdown",
      "id": "44fc620e",
      "metadata": {
        "papermill": {
          "duration": 0.048822,
          "end_time": "2022-08-07T05:31:21.184845",
          "exception": false,
          "start_time": "2022-08-07T05:31:21.136023",
          "status": "completed"
        },
        "tags": []
      },
      "source": [
        "The column index `CSj` of $C_{int}S_{bd}$ can more easily be obtained:"
      ]
    },
    {
      "cell_type": "code",
      "execution_count": 36,
      "id": "f71fdd7c",
      "metadata": {
        "execution": {
          "iopub.execute_input": "2022-08-07T05:31:21.284256Z",
          "iopub.status.busy": "2022-08-07T05:31:21.283814Z",
          "iopub.status.idle": "2022-08-07T05:31:21.365771Z",
          "shell.execute_reply": "2022-08-07T05:31:21.366167Z"
        },
        "papermill": {
          "duration": 0.133071,
          "end_time": "2022-08-07T05:31:21.366327",
          "exception": false,
          "start_time": "2022-08-07T05:31:21.233256",
          "status": "completed"
        },
        "tags": []
      },
      "outputs": [
        {
          "data": {
            "text/plain": [
              "array([0, 1, 2, 3, 0, 1, 2, 3, 5, 4, 6, 7, 8, 9, 6, 7, 8, 9])"
            ]
          },
          "execution_count": 36,
          "metadata": {},
          "output_type": "execute_result"
        }
      ],
      "source": [
        "mask = (Cj[:, None] == Si[None, :]).any(0)\n",
        "CSj = Sj[mask]\n",
        "CSj"
      ]
    },
    {
      "cell_type": "markdown",
      "id": "99bf7684",
      "metadata": {
        "papermill": {
          "duration": 0.048158,
          "end_time": "2022-08-07T05:31:21.463924",
          "exception": false,
          "start_time": "2022-08-07T05:31:21.415766",
          "status": "completed"
        },
        "tags": []
      },
      "source": [
        "> `CSj`: possible jittable alternative? how do we remove the zeros?"
      ]
    },
    {
      "cell_type": "code",
      "execution_count": 37,
      "id": "ffa7bc82",
      "metadata": {
        "execution": {
          "iopub.execute_input": "2022-08-07T05:31:21.571361Z",
          "iopub.status.busy": "2022-08-07T05:31:21.570912Z",
          "iopub.status.idle": "2022-08-07T05:31:21.588229Z",
          "shell.execute_reply": "2022-08-07T05:31:21.587806Z"
        },
        "papermill": {
          "duration": 0.076516,
          "end_time": "2022-08-07T05:31:21.588344",
          "exception": false,
          "start_time": "2022-08-07T05:31:21.511828",
          "status": "completed"
        },
        "tags": []
      },
      "outputs": [
        {
          "data": {
            "text/plain": [
              "array([0, 0, 0, 0, 0, 0, 0, 0, 0, 1, 2, 3, 0, 1, 2, 3, 5, 4, 6, 7,\n",
              "       8, 9, 6, 7, 8, 9, 0, 0, 0, 0, 0, 0, 0, 0])"
            ]
          },
          "execution_count": 37,
          "metadata": {},
          "output_type": "execute_result"
        }
      ],
      "source": [
        "CSj_ = jnp.where(mask, Sj, 0) # not used\n",
        "CSj_ # not used"
      ]
    },
    {
      "cell_type": "markdown",
      "id": "e0fc6d02",
      "metadata": {
        "papermill": {
          "duration": 0.048351,
          "end_time": "2022-08-07T05:31:21.686769",
          "exception": false,
          "start_time": "2022-08-07T05:31:21.638418",
          "status": "completed"
        },
        "tags": []
      },
      "source": [
        "Finally, the values `CSx` of $C_{int}S_{bd}$ can be obtained as follows:"
      ]
    },
    {
      "cell_type": "code",
      "execution_count": 38,
      "id": "59d2e1b2",
      "metadata": {
        "execution": {
          "iopub.execute_input": "2022-08-07T05:31:21.788443Z",
          "iopub.status.busy": "2022-08-07T05:31:21.788002Z",
          "iopub.status.idle": "2022-08-07T05:31:21.812986Z",
          "shell.execute_reply": "2022-08-07T05:31:21.812520Z"
        },
        "papermill": {
          "duration": 0.077913,
          "end_time": "2022-08-07T05:31:21.813105",
          "exception": false,
          "start_time": "2022-08-07T05:31:21.735192",
          "status": "completed"
        },
        "tags": []
      },
      "outputs": [
        {
          "data": {
            "text/plain": [
              "array([0.70710677+0.j        , 0.        +0.70710677j,\n",
              "       0.        +0.j        , 0.        +0.j        ,\n",
              "       0.        +0.70710677j, 0.70710677+0.j        ,\n",
              "       0.        +0.j        , 0.        +0.j        ,\n",
              "       0.5       +0.86603j   , 0.5       +0.86603j   ,\n",
              "       0.        +0.j        , 0.        +0.j        ,\n",
              "       0.70710677+0.j        , 0.        +0.70710677j,\n",
              "       0.        +0.j        , 0.        +0.j        ,\n",
              "       0.        +0.70710677j, 0.70710677+0.j        ],            dtype=complex64))"
            ]
          },
          "execution_count": 38,
          "metadata": {},
          "output_type": "execute_result"
        }
      ],
      "source": [
        "if Sx.ndim > 1:\n",
        "    CSx = Sx[..., mask] # normally this should be enough\n",
        "else:\n",
        "    CSx = Sx[mask] # need separate case bc bug in JAX... see https://github.com/google/jax/issues/9050\n",
        "   \n",
        "CSx"
      ]
    },
    {
      "cell_type": "markdown",
      "id": "c02035bd",
      "metadata": {
        "papermill": {
          "duration": 0.049737,
          "end_time": "2022-08-07T05:31:21.913215",
          "exception": false,
          "start_time": "2022-08-07T05:31:21.863478",
          "status": "completed"
        },
        "tags": []
      },
      "source": [
        "> `CSx`: possible jittable alternative? how do we remove the zeros?"
      ]
    },
    {
      "cell_type": "code",
      "execution_count": 39,
      "id": "107e9e80",
      "metadata": {
        "execution": {
          "iopub.execute_input": "2022-08-07T05:31:22.023436Z",
          "iopub.status.busy": "2022-08-07T05:31:22.022993Z",
          "iopub.status.idle": "2022-08-07T05:31:22.042296Z",
          "shell.execute_reply": "2022-08-07T05:31:22.041917Z"
        },
        "papermill": {
          "duration": 0.079586,
          "end_time": "2022-08-07T05:31:22.042401",
          "exception": false,
          "start_time": "2022-08-07T05:31:21.962815",
          "status": "completed"
        },
        "tags": []
      },
      "outputs": [
        {
          "data": {
            "text/plain": [
              "array([0.        +0.j        , 0.        +0.j        ,\n",
              "       0.        +0.j        , 0.        +0.j        ,\n",
              "       0.        +0.j        , 0.        +0.j        ,\n",
              "       0.        +0.j        , 0.        +0.j        ,\n",
              "       0.70710677+0.j        , 0.        +0.70710677j,\n",
              "       0.        +0.j        , 0.        +0.j        ,\n",
              "       0.        +0.70710677j, 0.70710677+0.j        ,\n",
              "       0.        +0.j        , 0.        +0.j        ,\n",
              "       0.5       +0.86603j   , 0.5       +0.86603j   ,\n",
              "       0.        +0.j        , 0.        +0.j        ,\n",
              "       0.70710677+0.j        , 0.        +0.70710677j,\n",
              "       0.        +0.j        , 0.        +0.j        ,\n",
              "       0.        +0.70710677j, 0.70710677+0.j        ,\n",
              "       0.        +0.j        , 0.        +0.j        ,\n",
              "       0.        +0.j        , 0.        +0.j        ,\n",
              "       0.        +0.j        , 0.        +0.j        ,\n",
              "       0.        +0.j        , 0.        +0.j        ],            dtype=complex64))"
            ]
          },
          "execution_count": 39,
          "metadata": {},
          "output_type": "execute_result"
        }
      ],
      "source": [
        "CSx_ = jnp.where(mask, Sx, 0.0) # not used\n",
        "CSx_ # not used"
      ]
    },
    {
      "cell_type": "markdown",
      "id": "9411edf5",
      "metadata": {
        "papermill": {
          "duration": 0.049339,
          "end_time": "2022-08-07T05:31:22.141634",
          "exception": false,
          "start_time": "2022-08-07T05:31:22.092295",
          "status": "completed"
        },
        "tags": []
      },
      "source": [
        "Now we calculate $\\mathbb{1} - C_{int}S_{bd}$ in an *uncoalesced* way (we might have duplicate indices on the diagonal):\n",
        "\n",
        "> **uncoalesced**: having duplicate index combinations (i, j) in the representation possibly with different corresponding values. This is usually not a problem as in linear operations these values will end up to be summed, usually the behavior you want:"
      ]
    },
    {
      "cell_type": "code",
      "execution_count": 40,
      "id": "53c3f4ab",
      "metadata": {
        "execution": {
          "iopub.execute_input": "2022-08-07T05:31:22.249048Z",
          "iopub.status.busy": "2022-08-07T05:31:22.248570Z",
          "iopub.status.idle": "2022-08-07T05:31:22.308761Z",
          "shell.execute_reply": "2022-08-07T05:31:22.309164Z"
        },
        "papermill": {
          "duration": 0.118225,
          "end_time": "2022-08-07T05:31:22.309325",
          "exception": false,
          "start_time": "2022-08-07T05:31:22.191100",
          "status": "completed"
        },
        "tags": []
      },
      "outputs": [
        {
          "name": "stdout",
          "output_type": "stream",
          "text": [
            "[4 4 4 4 7 7 7 7 2 6 5 5 5 5 3 3 3 3 0 1 2 3 4 5 6 7 8 9]\n",
            "[0 1 2 3 0 1 2 3 5 4 6 7 8 9 6 7 8 9 0 1 2 3 4 5 6 7 8 9]\n",
            "[-0.70710677-0.j         -0.        -0.70710677j -0.        -0.j\n",
            " -0.        -0.j         -0.        -0.70710677j -0.70710677-0.j\n",
            " -0.        -0.j         -0.        -0.j         -0.5       -0.86603j\n",
            " -0.5       -0.86603j    -0.        -0.j         -0.        -0.j\n",
            " -0.70710677-0.j         -0.        -0.70710677j -0.        -0.j\n",
            " -0.        -0.j         -0.        -0.70710677j -0.70710677-0.j\n",
            "  1.        +0.j          1.        +0.j          1.        +0.j\n",
            "  1.        +0.j          1.        +0.j          1.        +0.j\n",
            "  1.        +0.j          1.        +0.j          1.        +0.j\n",
            "  1.        +0.j        ]\n"
          ]
        }
      ],
      "source": [
        "I_CSi = jnp.concatenate([CSi, Ii], -1)\n",
        "I_CSj = jnp.concatenate([CSj, Ij], -1)\n",
        "I_CSx = jnp.concatenate([-CSx, Ix], -1)\n",
        "print(I_CSi)\n",
        "print(I_CSj)\n",
        "print(I_CSx)"
      ]
    },
    {
      "cell_type": "code",
      "execution_count": 41,
      "id": "188e4606",
      "metadata": {
        "execution": {
          "iopub.execute_input": "2022-08-07T05:31:22.415544Z",
          "iopub.status.busy": "2022-08-07T05:31:22.415103Z",
          "iopub.status.idle": "2022-08-07T05:31:22.416997Z",
          "shell.execute_reply": "2022-08-07T05:31:22.417398Z"
        },
        "papermill": {
          "duration": 0.056638,
          "end_time": "2022-08-07T05:31:22.417528",
          "exception": false,
          "start_time": "2022-08-07T05:31:22.360890",
          "status": "completed"
        },
        "tags": []
      },
      "outputs": [
        {
          "name": "stdout",
          "output_type": "stream",
          "text": [
            "10 4\n"
          ]
        }
      ],
      "source": [
        "if JAX_AVAILABLE:\n",
        "    n_col, n_rhs = Cext.shape\n",
        "    print(n_col, n_rhs)"
      ]
    },
    {
      "cell_type": "markdown",
      "id": "e018c515",
      "metadata": {
        "papermill": {
          "duration": 0.050204,
          "end_time": "2022-08-07T05:31:22.517720",
          "exception": false,
          "start_time": "2022-08-07T05:31:22.467516",
          "status": "completed"
        },
        "tags": []
      },
      "source": [
        "The batch shape dimension can generally speaking be anything (in the example here 0D). We need to do the necessary reshapings to make the batch shape 1D:"
      ]
    },
    {
      "cell_type": "code",
      "execution_count": 42,
      "id": "dad259e7",
      "metadata": {
        "execution": {
          "iopub.execute_input": "2022-08-07T05:31:22.628406Z",
          "iopub.status.busy": "2022-08-07T05:31:22.627957Z",
          "iopub.status.idle": "2022-08-07T05:31:22.641013Z",
          "shell.execute_reply": "2022-08-07T05:31:22.640652Z"
        },
        "papermill": {
          "duration": 0.07288,
          "end_time": "2022-08-07T05:31:22.641120",
          "exception": false,
          "start_time": "2022-08-07T05:31:22.568240",
          "status": "completed"
        },
        "tags": []
      },
      "outputs": [
        {
          "name": "stdout",
          "output_type": "stream",
          "text": [
            "1\n"
          ]
        }
      ],
      "source": [
        "n_lhs = jnp.prod(jnp.array(batch_shape, dtype=jnp.int32))\n",
        "print(n_lhs)"
      ]
    },
    {
      "cell_type": "code",
      "execution_count": 43,
      "id": "9cf69da7",
      "metadata": {
        "execution": {
          "iopub.execute_input": "2022-08-07T05:31:22.752041Z",
          "iopub.status.busy": "2022-08-07T05:31:22.751605Z",
          "iopub.status.idle": "2022-08-07T05:31:22.764759Z",
          "shell.execute_reply": "2022-08-07T05:31:22.764377Z"
        },
        "papermill": {
          "duration": 0.072986,
          "end_time": "2022-08-07T05:31:22.764872",
          "exception": false,
          "start_time": "2022-08-07T05:31:22.691886",
          "status": "completed"
        },
        "tags": []
      },
      "outputs": [
        {
          "data": {
            "text/plain": [
              "(1, 34)"
            ]
          },
          "execution_count": 43,
          "metadata": {},
          "output_type": "execute_result"
        }
      ],
      "source": [
        "Sx = Sx.reshape(n_lhs, -1)\n",
        "Sx.shape"
      ]
    },
    {
      "cell_type": "code",
      "execution_count": 44,
      "id": "788294fa",
      "metadata": {
        "execution": {
          "iopub.execute_input": "2022-08-07T05:31:22.876194Z",
          "iopub.status.busy": "2022-08-07T05:31:22.875746Z",
          "iopub.status.idle": "2022-08-07T05:31:22.889086Z",
          "shell.execute_reply": "2022-08-07T05:31:22.889455Z"
        },
        "papermill": {
          "duration": 0.073541,
          "end_time": "2022-08-07T05:31:22.889600",
          "exception": false,
          "start_time": "2022-08-07T05:31:22.816059",
          "status": "completed"
        },
        "tags": []
      },
      "outputs": [
        {
          "data": {
            "text/plain": [
              "(1, 28)"
            ]
          },
          "execution_count": 44,
          "metadata": {},
          "output_type": "execute_result"
        }
      ],
      "source": [
        "I_CSx = I_CSx.reshape(n_lhs, -1)\n",
        "I_CSx.shape"
      ]
    },
    {
      "cell_type": "markdown",
      "id": "ec741031",
      "metadata": {
        "papermill": {
          "duration": 0.053594,
          "end_time": "2022-08-07T05:31:22.994537",
          "exception": false,
          "start_time": "2022-08-07T05:31:22.940943",
          "status": "completed"
        },
        "tags": []
      },
      "source": [
        "We're finally ready to do the most important part of the calculation, which we conveniently leave to `klujax` and `SuiteSparse`:"
      ]
    },
    {
      "cell_type": "code",
      "execution_count": 45,
      "id": "9c1d8644",
      "metadata": {
        "execution": {
          "iopub.execute_input": "2022-08-07T05:31:23.110886Z",
          "iopub.status.busy": "2022-08-07T05:31:23.110420Z",
          "iopub.status.idle": "2022-08-07T05:31:23.111399Z",
          "shell.execute_reply": "2022-08-07T05:31:23.111800Z"
        },
        "papermill": {
          "duration": 0.060533,
          "end_time": "2022-08-07T05:31:23.111933",
          "exception": false,
          "start_time": "2022-08-07T05:31:23.051400",
          "status": "completed"
        },
        "tags": []
      },
      "outputs": [],
      "source": [
        "if klujax is not None:\n",
        "    inv_I_CS_Cext = solve_klu(I_CSi, I_CSj, I_CSx, Cext)\n",
        "else:\n",
        "    inv_I_CS_Cext = jnp.array([[[1.0 + 0.0j, 0.0 + 0.0j, 0.0 + 0.0j, 0.0 + 0.0j], [0.0 + 0.0j, 1.0 + 0.0j, 0.0 + 0.0j, 0.0 + 0.0j], [ -0.0 + 0.0j, -0.0 + 0.0j, 0.35355339 + 0.61237569j, -0.61237569 + 0.35355339j, ], [0.0 + 0.0j, 0.0 + 0.0j, 0.0 + 0.70710678j, 0.70710678 + 0.0j], [0.70710678 - 0.0j, -0.0 + 0.70710678j, -0.0 - 0.0j, -0.0 - 0.0j], [-0.0 - 0.0j, -0.0 - 0.0j, 0.70710678 - 0.0j, -0.0 + 0.70710678j], [ 0.35355339 + 0.61237569j, -0.61237569 + 0.35355339j, -0.0 + 0.0j, -0.0 + 0.0j, ], [0.0 + 0.70710678j, 0.70710678 + 0.0j, 0.0 + 0.0j, 0.0 + 0.0j], [0.0 + 0.0j, 0.0 + 0.0j, 1.0 + 0.0j, 0.0 + 0.0j], [0.0 + 0.0j, 0.0 + 0.0j, 0.0 + 0.0j, 1.0 + 0.0j]]])"
      ]
    },
    {
      "cell_type": "markdown",
      "id": "e51487df",
      "metadata": {
        "papermill": {
          "duration": 0.051825,
          "end_time": "2022-08-07T05:31:23.215405",
          "exception": false,
          "start_time": "2022-08-07T05:31:23.163580",
          "status": "completed"
        },
        "tags": []
      },
      "source": [
        "one more sparse multiplication:"
      ]
    },
    {
      "cell_type": "code",
      "execution_count": 46,
      "id": "cccda072",
      "metadata": {
        "execution": {
          "iopub.execute_input": "2022-08-07T05:31:23.326451Z",
          "iopub.status.busy": "2022-08-07T05:31:23.325996Z",
          "iopub.status.idle": "2022-08-07T05:31:23.327218Z",
          "shell.execute_reply": "2022-08-07T05:31:23.327553Z"
        },
        "papermill": {
          "duration": 0.060585,
          "end_time": "2022-08-07T05:31:23.327681",
          "exception": false,
          "start_time": "2022-08-07T05:31:23.267096",
          "status": "completed"
        },
        "tags": []
      },
      "outputs": [],
      "source": [
        "if klujax is not None:\n",
        "    S_inv_I_CS_Cext = mul_coo(Si, Sj, Sx, inv_I_CS_Cext)\n",
        "else:\n",
        "    S_inv_I_CS_Cext = jnp.array([[[0.0 + 0.0j, 0.0 + 0.0j, -0.25 + 0.433015j, -0.433015 + 0.75j], [0.0 + 0.0j, 0.0 + 0.0j, -0.433015 + 0.75j, 0.25 - 0.433015j], [0.70710678 + 0.0j, 0.0 + 0.70710678j, 0.0 + 0.0j, 0.0 + 0.0j], [0.0 + 0.70710678j, 0.70710678 + 0.0j, 0.0 + 0.0j, 0.0 + 0.0j], [ 0.0 + 0.0j, 0.0 + 0.0j, 0.35355339 + 0.61237569j, -0.61237569 + 0.35355339j, ], [ 0.35355339 + 0.61237569j, -0.61237569 + 0.35355339j, 0.0 + 0.0j, 0.0 + 0.0j, ], [0.0 + 0.0j, 0.0 + 0.0j, 0.70710678 + 0.0j, 0.0 + 0.70710678j], [0.0 + 0.0j, 0.0 + 0.0j, 0.0 + 0.70710678j, 0.70710678 + 0.0j], [-0.25 + 0.433015j, -0.433015 + 0.75j, 0.0 + 0.0j, 0.0 + 0.0j], [-0.433015 + 0.75j, 0.25 - 0.433015j, 0.0 + 0.0j, 0.0 + 0.0j]]])"
      ]
    },
    {
      "cell_type": "markdown",
      "id": "627a98f7",
      "metadata": {
        "papermill": {
          "duration": 0.050968,
          "end_time": "2022-08-07T05:31:23.429758",
          "exception": false,
          "start_time": "2022-08-07T05:31:23.378790",
          "status": "completed"
        },
        "tags": []
      },
      "source": [
        "And one more $C_{ext}$ multiplication which we do by clever indexing:"
      ]
    },
    {
      "cell_type": "code",
      "execution_count": 47,
      "id": "12ff877c",
      "metadata": {
        "execution": {
          "iopub.execute_input": "2022-08-07T05:31:23.540088Z",
          "iopub.status.busy": "2022-08-07T05:31:23.539628Z",
          "iopub.status.idle": "2022-08-07T05:31:23.541444Z",
          "shell.execute_reply": "2022-08-07T05:31:23.541800Z"
        },
        "papermill": {
          "duration": 0.061306,
          "end_time": "2022-08-07T05:31:23.541933",
          "exception": false,
          "start_time": "2022-08-07T05:31:23.480627",
          "status": "completed"
        },
        "tags": []
      },
      "outputs": [
        {
          "data": {
            "text/plain": [
              "array([[[ 0.      +0.j      ,  0.      +0.j      ,\n",
              "         -0.25    +0.433015j, -0.433015+0.75j    ],\n",
              "        [ 0.      +0.j      ,  0.      +0.j      ,\n",
              "         -0.433015+0.75j    ,  0.25    -0.433015j],\n",
              "        [-0.25    +0.433015j, -0.433015+0.75j    ,\n",
              "          0.      +0.j      ,  0.      +0.j      ],\n",
              "        [-0.433015+0.75j    ,  0.25    -0.433015j,\n",
              "          0.      +0.j      ,  0.      +0.j      ]]],            dtype=complex64))"
            ]
          },
          "execution_count": 47,
          "metadata": {},
          "output_type": "execute_result"
        }
      ],
      "source": [
        "if klujax is not None:\n",
        "    CextT_S_inv_I_CS_Cext = S_inv_I_CS_Cext[..., Cexti, :][..., :, Cextj]\n",
        "else:\n",
        "    CextT_S_inv_I_CS_Cext = jnp.array([[[0.0 + 0.0j, 0.0 + 0.0j, -0.25 + 0.433015j, -0.433015 + 0.75j], [0.0 + 0.0j, 0.0 + 0.0j, -0.433015 + 0.75j, 0.25 - 0.433015j], [-0.25 + 0.433015j, -0.433015 + 0.75j, 0.0 + 0.0j, 0.0 + 0.0j], [-0.433015 + 0.75j, 0.25 - 0.433015j, 0.0 + 0.0j, 0.0 + 0.0j]]])\n",
        "CextT_S_inv_I_CS_Cext"
      ]
    },
    {
      "cell_type": "markdown",
      "id": "3e1c75b2",
      "metadata": {
        "papermill": {
          "duration": 0.051765,
          "end_time": "2022-08-07T05:31:23.645592",
          "exception": false,
          "start_time": "2022-08-07T05:31:23.593827",
          "status": "completed"
        },
        "tags": []
      },
      "source": [
        "That's it! We found the S-matrix of the circuit. We just need to reshape the batch dimension back into the matrix:"
      ]
    },
    {
      "cell_type": "code",
      "execution_count": 48,
      "id": "cbf962af",
      "metadata": {
        "execution": {
          "iopub.execute_input": "2022-08-07T05:31:23.751076Z",
          "iopub.status.busy": "2022-08-07T05:31:23.750545Z",
          "iopub.status.idle": "2022-08-07T05:31:23.770291Z",
          "shell.execute_reply": "2022-08-07T05:31:23.770683Z"
        },
        "papermill": {
          "duration": 0.073896,
          "end_time": "2022-08-07T05:31:23.770832",
          "exception": false,
          "start_time": "2022-08-07T05:31:23.696936",
          "status": "completed"
        },
        "tags": []
      },
      "outputs": [
        {
          "data": {
            "text/plain": [
              "array([[ 0.      +0.j      ,  0.      +0.j      ,\n",
              "        -0.25    +0.433015j, -0.433015+0.75j    ],\n",
              "       [ 0.      +0.j      ,  0.      +0.j      ,\n",
              "        -0.433015+0.75j    ,  0.25    -0.433015j],\n",
              "       [-0.25    +0.433015j, -0.433015+0.75j    ,\n",
              "         0.      +0.j      ,  0.      +0.j      ],\n",
              "       [-0.433015+0.75j    ,  0.25    -0.433015j,\n",
              "         0.      +0.j      ,  0.      +0.j      ]])"
            ]
          },
          "execution_count": 48,
          "metadata": {},
          "output_type": "execute_result"
        }
      ],
      "source": [
        "_, n, _ = CextT_S_inv_I_CS_Cext.shape\n",
        "S = CextT_S_inv_I_CS_Cext.reshape(*batch_shape, n, n)\n",
        "S"
      ]
    },
    {
      "cell_type": "markdown",
      "id": "1f6dea4c",
      "metadata": {
        "papermill": {
          "duration": 0.053401,
          "end_time": "2022-08-07T05:31:23.877435",
          "exception": false,
          "start_time": "2022-08-07T05:31:23.824034",
          "status": "completed"
        },
        "tags": []
      },
      "source": [
        "Oh and to complete the `SDense` representation we need to specify the port map as well:"
      ]
    },
    {
      "cell_type": "code",
      "execution_count": 49,
      "id": "21098a45",
      "metadata": {
        "execution": {
          "iopub.execute_input": "2022-08-07T05:31:23.987650Z",
          "iopub.status.busy": "2022-08-07T05:31:23.987214Z",
          "iopub.status.idle": "2022-08-07T05:31:23.988908Z",
          "shell.execute_reply": "2022-08-07T05:31:23.989315Z"
        },
        "papermill": {
          "duration": 0.05956,
          "end_time": "2022-08-07T05:31:23.989442",
          "exception": false,
          "start_time": "2022-08-07T05:31:23.929882",
          "status": "completed"
        },
        "tags": []
      },
      "outputs": [
        {
          "data": {
            "text/plain": [
              "{'in0': 0, 'in1': 1, 'out0': 2, 'out1': 3}"
            ]
          },
          "execution_count": 49,
          "metadata": {},
          "output_type": "execute_result"
        }
      ],
      "source": [
        "port_map"
      ]
    },
    {
      "cell_type": "markdown",
      "id": "0cfee3cf",
      "metadata": {
        "papermill": {
          "duration": 0.052362,
          "end_time": "2022-08-07T05:31:24.094507",
          "exception": false,
          "start_time": "2022-08-07T05:31:24.042145",
          "status": "completed"
        },
        "tags": []
      },
      "source": [
        "## Algorithm Improvements"
      ]
    },
    {
      "cell_type": "markdown",
      "id": "26b70270",
      "metadata": {
        "papermill": {
          "duration": 0.052483,
          "end_time": "2022-08-07T05:31:24.199069",
          "exception": false,
          "start_time": "2022-08-07T05:31:24.146586",
          "status": "completed"
        },
        "tags": []
      },
      "source": [
        "This algorithm is \n",
        "\n",
        "* very fast for large circuits \ud83d\ude42\n",
        "\n",
        "This algorithm is however:\n",
        "\n",
        "* **not** jittable \ud83d\ude25\n",
        "* **not** differentiable \ud83d\ude25\n",
        "* **not** GPU-compatible \ud83d\ude42\n",
        "\n",
        "There are probably still plenty of improvements possible for this algorithm:\n",
        "\n",
        "* **\u00bf** make it jittable **?**\n",
        "* **\u00bf** make it differentiable (requires making klujax differentiable first) **?**\n",
        "* **\u00bf** make it GPU compatible (requires making suitesparse GPU compatible... probably not gonna happen)**?**\n",
        "\n",
        "Bottom line is... Do you know how to improve this algorithm or how to implement the above suggestions? Please open a Merge Request!"
      ]
    }
  ],
  "metadata": {
    "kernelspec": {
      "display_name": "sax",
      "language": "python",
      "name": "sax"
    },
    "language_info": {
      "codemirror_mode": {
        "name": "ipython",
        "version": 3
      },
      "file_extension": ".py",
      "mimetype": "text/x-python",
      "name": "python",
      "nbconvert_exporter": "python",
      "pygments_lexer": "ipython3",
      "version": "3.9.0"
    },
    "papermill": {
      "default_parameters": {},
      "duration": 17.498734,
      "end_time": "2022-08-07T05:31:27.253294",
      "environment_variables": {},
      "exception": null,
      "input_path": "./nbs/07b_backends_klu.ipynb",
      "output_path": "./nbs/07b_backends_klu.ipynb",
      "parameters": {},
      "start_time": "2022-08-07T05:31:09.754560",
      "version": "2.3.4"
    }
  },
  "nbformat": 4,
  "nbformat_minor": 5
}
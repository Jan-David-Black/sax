{
  "cells": [
    {
      "cell_type": "code",
      "execution_count": 1,
      "id": "45f25609e4807936",
      "metadata": {
        "execution": {
          "iopub.execute_input": "2022-08-17T03:22:21.998051Z",
          "iopub.status.busy": "2022-08-17T03:22:21.997621Z",
          "iopub.status.idle": "2022-08-17T03:22:22.000014Z",
          "shell.execute_reply": "2022-08-17T03:22:21.999549Z"
        },
        "papermill": {
          "duration": 0.045305,
          "end_time": "2022-08-17T03:22:22.000118",
          "exception": false,
          "start_time": "2022-08-17T03:22:21.954813",
          "status": "completed"
        },
        "tags": [
          "remove-cell"
        ]
      },
      "outputs": [],
      "source": []
    },
    {
      "cell_type": "markdown",
      "id": "27c3489e",
      "metadata": {
        "papermill": {
          "duration": 0.036082,
          "end_time": "2022-08-17T03:22:22.072840",
          "exception": false,
          "start_time": "2022-08-17T03:22:22.036758",
          "status": "completed"
        },
        "tags": []
      },
      "source": [
        "# Backend - KLU\n",
        "\n",
        "> SAX KLU Backend"
      ]
    },
    {
      "cell_type": "code",
      "execution_count": 2,
      "id": "36dc4839106a4824",
      "metadata": {
        "execution": {
          "iopub.execute_input": "2022-08-17T03:22:22.152759Z",
          "iopub.status.busy": "2022-08-17T03:22:22.152340Z",
          "iopub.status.idle": "2022-08-17T03:22:23.787699Z",
          "shell.execute_reply": "2022-08-17T03:22:23.787329Z"
        },
        "papermill": {
          "duration": 1.679019,
          "end_time": "2022-08-17T03:22:23.787803",
          "exception": false,
          "start_time": "2022-08-17T03:22:22.108784",
          "status": "completed"
        },
        "tags": [
          "remove-cell"
        ]
      },
      "outputs": [],
      "source": [
        "import sax\n",
        "import matplotlib.pyplot as plt\n",
        "from fastcore.test import test_eq\n",
        "from pytest import approx, raises\n",
        "from nbdev import show_doc\n",
        "\n",
        "import os, sys; sys.stderr = open(os.devnull, \"w\")"
      ]
    },
    {
      "cell_type": "code",
      "execution_count": 3,
      "id": "b201453da297eb22",
      "metadata": {
        "execution": {
          "iopub.execute_input": "2022-08-17T03:22:23.865724Z",
          "iopub.status.busy": "2022-08-17T03:22:23.865266Z",
          "iopub.status.idle": "2022-08-17T03:22:23.866207Z",
          "shell.execute_reply": "2022-08-17T03:22:23.866571Z"
        },
        "papermill": {
          "duration": 0.042406,
          "end_time": "2022-08-17T03:22:23.866683",
          "exception": false,
          "start_time": "2022-08-17T03:22:23.824277",
          "status": "completed"
        },
        "tags": [
          "hide-input"
        ]
      },
      "outputs": [],
      "source": [
        "from __future__ import annotations\n",
        "\n",
        "from typing import Dict\n",
        "\n",
        "    \n",
        "from sax.typing_ import SDense, SDict, SType, scoo\n",
        "from sax.backends import evaluate_circuit\n",
        "\n",
        "try:\n",
        "    import klujax\n",
        "except ImportError:\n",
        "    klujax = None\n",
        "    \n",
        "try:\n",
        "    import jax\n",
        "    import jax.numpy as jnp\n",
        "    JAX_AVAILABLE = True\n",
        "except ImportError:\n",
        "    import numpy as jnp\n",
        "    JAX_AVAILABLE = False"
      ]
    },
    {
      "cell_type": "markdown",
      "id": "64e42767",
      "metadata": {
        "papermill": {
          "duration": 0.036308,
          "end_time": "2022-08-17T03:22:23.939410",
          "exception": false,
          "start_time": "2022-08-17T03:22:23.903102",
          "status": "completed"
        },
        "tags": []
      },
      "source": [
        "## Citation\n",
        "The KLU backend is using `klujax`, which uses the [SuiteSparse](https://github.com/DrTimothyAldenDavis/SuiteSparse) C++ libraries for sparse matrix evaluations to evaluate the circuit insanely fast on a CPU. The specific algorith being used in question is the KLU algorithm:\n",
        "\n",
        "> Ekanathan Palamadai Natariajan. \"*KLU - A high performance sparse linear solver for circuit simulation problems.*\""
      ]
    },
    {
      "cell_type": "markdown",
      "id": "2db5821c",
      "metadata": {
        "papermill": {
          "duration": 0.03601,
          "end_time": "2022-08-17T03:22:24.011750",
          "exception": false,
          "start_time": "2022-08-17T03:22:23.975740",
          "status": "completed"
        },
        "tags": []
      },
      "source": [
        "## Theoretical Background"
      ]
    },
    {
      "cell_type": "markdown",
      "id": "3d4d4a4c",
      "metadata": {
        "papermill": {
          "duration": 0.061747,
          "end_time": "2022-08-17T03:22:24.109504",
          "exception": false,
          "start_time": "2022-08-17T03:22:24.047757",
          "status": "completed"
        },
        "tags": []
      },
      "source": [
        "The core of the KLU algorithm is supported by `klujax`, which internally uses the Suitesparse libraries to solve the sparse system `Ax = b`, in which A is a sparse matrix."
      ]
    },
    {
      "cell_type": "markdown",
      "id": "a1985f58",
      "metadata": {
        "papermill": {
          "duration": 0.036042,
          "end_time": "2022-08-17T03:22:24.181836",
          "exception": false,
          "start_time": "2022-08-17T03:22:24.145794",
          "status": "completed"
        },
        "tags": []
      },
      "source": [
        "Now it only comes down to shoehorn our circuit evaluation into a sparse linear system of equations $Ax=b$ where we need to solve for $x$ using `klujax`. \n",
        "Consider the block diagonal matrix $S_{bd}$ of all components in the circuit acting on the fields $x_{in}$ at each of the individual ports of each of the component integrated in $S^{bd}$. The output fields $x^{out}$ at each of those ports is then given by:\n",
        "\n",
        "$$\n",
        "x^{out} = S_{bd} x^{in}\n",
        "$$"
      ]
    },
    {
      "cell_type": "markdown",
      "id": "9c26c04a",
      "metadata": {
        "papermill": {
          "duration": 0.036276,
          "end_time": "2022-08-17T03:22:24.254786",
          "exception": false,
          "start_time": "2022-08-17T03:22:24.218510",
          "status": "completed"
        },
        "tags": []
      },
      "source": [
        "However, $S_{bd}$ is not the S-matrix of the circuit as it does not encode any connectivity *between* the components. Connecting two component ports basically comes down to enforcing equality between the output fields at one port of a component with the input fields at another port of another (or maybe even the same) component. This equality can be enforced by creating an internal connection matrix, connecting all internal ports of the circuit:\n",
        "\n",
        "$$\n",
        "x^{in} = C_{int} x^{out}\n",
        "$$"
      ]
    },
    {
      "cell_type": "markdown",
      "id": "16b3fdad",
      "metadata": {
        "papermill": {
          "duration": 0.036765,
          "end_time": "2022-08-17T03:22:24.328241",
          "exception": false,
          "start_time": "2022-08-17T03:22:24.291476",
          "status": "completed"
        },
        "tags": []
      },
      "source": [
        "We can thus write the following combined equation:\n",
        "\n",
        "$$\n",
        "x^{in} = C_{int} S_{bd} x^{in}\n",
        "$$"
      ]
    },
    {
      "cell_type": "markdown",
      "id": "f5ceb9a2",
      "metadata": {
        "papermill": {
          "duration": 0.036527,
          "end_time": "2022-08-17T03:22:24.401345",
          "exception": false,
          "start_time": "2022-08-17T03:22:24.364818",
          "status": "completed"
        },
        "tags": []
      },
      "source": [
        "But this is not the complete story... Some component ports will *not* be *interconnected* with other ports: they will become the new *external ports* (or output ports) of the combined circuit. We can include those external ports into the above equation as follows:\n",
        "\n",
        "$$\n",
        "\\begin{pmatrix} x^{in} \\\\ x^{out}_{ext} \\end{pmatrix} = \\begin{pmatrix} C_{int} & C_{ext} \\\\ C_{ext}^T & 0 \\end{pmatrix} \\begin{pmatrix} S_{bd} x^{in} \\\\ x_{ext}^{in} \\end{pmatrix} \n",
        "$$"
      ]
    },
    {
      "cell_type": "markdown",
      "id": "6382a242",
      "metadata": {
        "papermill": {
          "duration": 0.036334,
          "end_time": "2022-08-17T03:22:24.474281",
          "exception": false,
          "start_time": "2022-08-17T03:22:24.437947",
          "status": "completed"
        },
        "tags": []
      },
      "source": [
        "Note that $C_{ext}$ is obviously **not** a square matrix. Eliminating $x^{in}$ from the equation above finally yields:\n",
        "\n",
        "$$\n",
        "x^{out}_{ext} = C^T_{ext} S_{bd} (\\mathbb{1} - C_{int}S_{bd})^{-1} C_{ext}x_{ext}^{in}\n",
        "$$"
      ]
    },
    {
      "cell_type": "markdown",
      "id": "5f15bdcd",
      "metadata": {
        "papermill": {
          "duration": 0.036175,
          "end_time": "2022-08-17T03:22:24.546873",
          "exception": false,
          "start_time": "2022-08-17T03:22:24.510698",
          "status": "completed"
        },
        "tags": []
      },
      "source": [
        "We basically found a representation of the circuit S-matrix:\n",
        "\n",
        "$$\n",
        "S = C^T_{ext} S_{bd} (\\mathbb{1} - C_{int}S_{bd})^{-1} C_{ext}\n",
        "$$"
      ]
    },
    {
      "cell_type": "markdown",
      "id": "40ad83b8",
      "metadata": {
        "papermill": {
          "duration": 0.036065,
          "end_time": "2022-08-17T03:22:24.619370",
          "exception": false,
          "start_time": "2022-08-17T03:22:24.583305",
          "status": "completed"
        },
        "tags": []
      },
      "source": [
        "Obviously, we won't want to calculate the inverse $(\\mathbb{1} - C_{int}S_{bd})^{-1}$, which is the inverse of a very sparse matrix (a connection matrix only has a single 1 per line), which very often is not even sparse itself. In stead we'll use the `solve_klu` function:\n",
        "\n",
        "$$\n",
        "S = C^T_{ext} S_{bd} \\texttt{solve}\\_\\texttt{klu}\\left((\\mathbb{1} - C_{int}S_{bd}), C_{ext}\\right)\n",
        "$$"
      ]
    },
    {
      "cell_type": "markdown",
      "id": "018fab3d",
      "metadata": {
        "papermill": {
          "duration": 0.036415,
          "end_time": "2022-08-17T03:22:24.692515",
          "exception": false,
          "start_time": "2022-08-17T03:22:24.656100",
          "status": "completed"
        },
        "tags": []
      },
      "source": [
        "Moreover, $C_{ext}^TS_{bd}$ is also a sparse matrix, therefore we'll also need a `mul_coo` routine:\n",
        "\n",
        "$$\n",
        "S = C^T_{ext} \\texttt{mul}\\_\\texttt{coo}\\left(S_{bd},~~\\texttt{solve}\\_\\texttt{klu}\\left((\\mathbb{1} - C_{int}S_{bd}),~C_{ext}\\right)\\right)\n",
        "$$"
      ]
    },
    {
      "cell_type": "markdown",
      "id": "d9b78852",
      "metadata": {
        "papermill": {
          "duration": 0.036319,
          "end_time": "2022-08-17T03:22:24.765160",
          "exception": false,
          "start_time": "2022-08-17T03:22:24.728841",
          "status": "completed"
        },
        "tags": []
      },
      "source": [
        "## Sparse Helper Functions"
      ]
    },
    {
      "cell_type": "code",
      "execution_count": 4,
      "id": "f17f5e267e83c6e8",
      "metadata": {
        "execution": {
          "iopub.execute_input": "2022-08-17T03:22:24.842309Z",
          "iopub.status.busy": "2022-08-17T03:22:24.841895Z",
          "iopub.status.idle": "2022-08-17T03:22:24.843356Z",
          "shell.execute_reply": "2022-08-17T03:22:24.843701Z"
        },
        "papermill": {
          "duration": 0.041293,
          "end_time": "2022-08-17T03:22:24.843813",
          "exception": false,
          "start_time": "2022-08-17T03:22:24.802520",
          "status": "completed"
        },
        "tags": [
          "remove-input"
        ]
      },
      "outputs": [],
      "source": [
        "if klujax is not None:\n",
        "    show_doc(klujax.solve, doc_string=False, name=\"klujax.solve\")"
      ]
    },
    {
      "cell_type": "markdown",
      "id": "01299d5d",
      "metadata": {
        "papermill": {
          "duration": 0.03653,
          "end_time": "2022-08-17T03:22:24.916760",
          "exception": false,
          "start_time": "2022-08-17T03:22:24.880230",
          "status": "completed"
        },
        "tags": []
      },
      "source": [
        "`klujax.solve` solves the sparse system of equations `Ax=b` for `x`. Where `A` is represented by in [COO-format](https://en.wikipedia.org/wiki/Sparse_matrix#Coordinate_list_(COO)) as (`Ai`, `Aj`, `Ax`).\n",
        "\n",
        "> Example"
      ]
    },
    {
      "cell_type": "code",
      "execution_count": 5,
      "id": "63e7977a",
      "metadata": {
        "execution": {
          "iopub.execute_input": "2022-08-17T03:22:24.996271Z",
          "iopub.status.busy": "2022-08-17T03:22:24.995850Z",
          "iopub.status.idle": "2022-08-17T03:22:25.005024Z",
          "shell.execute_reply": "2022-08-17T03:22:25.005412Z"
        },
        "papermill": {
          "duration": 0.052372,
          "end_time": "2022-08-17T03:22:25.005543",
          "exception": false,
          "start_time": "2022-08-17T03:22:24.953171",
          "status": "completed"
        },
        "tags": []
      },
      "outputs": [
        {
          "data": {
            "text/plain": [
              "array([6. , 1. , 0.5, 0.5, 2. ])"
            ]
          },
          "execution_count": 5,
          "metadata": {},
          "output_type": "execute_result"
        }
      ],
      "source": [
        "Ai = jnp.array([0, 1, 2, 3, 4])\n",
        "Aj = jnp.array([1, 3, 4, 0, 2])\n",
        "Ax = jnp.array([5, 6, 1, 1, 2])\n",
        "b = jnp.array([5, 3, 2, 6, 1])\n",
        "\n",
        "if klujax is not None:\n",
        "    x = klujax.solve(Ai, Aj, Ax, b)\n",
        "else:\n",
        "    x = jnp.array([6.0, 1.0, 0.5, 0.5, 2.0])\n",
        "\n",
        "x"
      ]
    },
    {
      "cell_type": "markdown",
      "id": "3233b04c",
      "metadata": {
        "papermill": {
          "duration": 0.036742,
          "end_time": "2022-08-17T03:22:25.080336",
          "exception": false,
          "start_time": "2022-08-17T03:22:25.043594",
          "status": "completed"
        },
        "tags": []
      },
      "source": [
        "This result is indeed correct:"
      ]
    },
    {
      "cell_type": "code",
      "execution_count": 6,
      "id": "629bbc71",
      "metadata": {
        "execution": {
          "iopub.execute_input": "2022-08-17T03:22:25.162432Z",
          "iopub.status.busy": "2022-08-17T03:22:25.161482Z",
          "iopub.status.idle": "2022-08-17T03:22:25.314322Z",
          "shell.execute_reply": "2022-08-17T03:22:25.313966Z"
        },
        "papermill": {
          "duration": 0.197127,
          "end_time": "2022-08-17T03:22:25.314425",
          "exception": false,
          "start_time": "2022-08-17T03:22:25.117298",
          "status": "completed"
        },
        "tags": []
      },
      "outputs": [
        {
          "name": "stdout",
          "output_type": "stream",
          "text": [
            "[[0. 5. 0. 0. 0.]\n",
            " [0. 0. 0. 6. 0.]\n",
            " [0. 0. 0. 0. 1.]\n",
            " [1. 0. 0. 0. 0.]\n",
            " [0. 0. 2. 0. 0.]]\n",
            "[5. 3. 2. 6. 1.]\n"
          ]
        }
      ],
      "source": [
        "if JAX_AVAILABLE:\n",
        "    A = jnp.zeros((5, 5)).at[Ai, Aj].set(Ax)\n",
        "    print(A)\n",
        "    print(A@x)"
      ]
    },
    {
      "cell_type": "markdown",
      "id": "c7fe6547",
      "metadata": {
        "papermill": {
          "duration": 0.037264,
          "end_time": "2022-08-17T03:22:25.389116",
          "exception": false,
          "start_time": "2022-08-17T03:22:25.351852",
          "status": "completed"
        },
        "tags": []
      },
      "source": [
        "However, to use this function effectively, we probably need an extra dimension for `Ax`. Indeed, we would like to solve this equation for multiple wavelengths (or more general, for multiple circuit configurations) at once. For this we can use `jax.vmap` to expose `klujax.solve` to more dimensions for `Ax`:"
      ]
    },
    {
      "cell_type": "code",
      "execution_count": 7,
      "id": "e5d5b2ce54a4a50f",
      "metadata": {
        "execution": {
          "iopub.execute_input": "2022-08-17T03:22:25.467275Z",
          "iopub.status.busy": "2022-08-17T03:22:25.466850Z",
          "iopub.status.idle": "2022-08-17T03:22:25.468397Z",
          "shell.execute_reply": "2022-08-17T03:22:25.468076Z"
        },
        "papermill": {
          "duration": 0.042206,
          "end_time": "2022-08-17T03:22:25.468488",
          "exception": false,
          "start_time": "2022-08-17T03:22:25.426282",
          "status": "completed"
        },
        "tags": []
      },
      "outputs": [],
      "source": [
        "solve_klu = None\n",
        "if klujax is not None:\n",
        "    solve_klu = jax.vmap(klujax.solve, (None, None, 0, None), 0)"
      ]
    },
    {
      "cell_type": "code",
      "execution_count": 8,
      "id": "6bb1d6655526c3e0",
      "metadata": {
        "execution": {
          "iopub.execute_input": "2022-08-17T03:22:25.547559Z",
          "iopub.status.busy": "2022-08-17T03:22:25.547133Z",
          "iopub.status.idle": "2022-08-17T03:22:25.548860Z",
          "shell.execute_reply": "2022-08-17T03:22:25.549172Z"
        },
        "papermill": {
          "duration": 0.043401,
          "end_time": "2022-08-17T03:22:25.549287",
          "exception": false,
          "start_time": "2022-08-17T03:22:25.505886",
          "status": "completed"
        },
        "tags": [
          "remove-input"
        ]
      },
      "outputs": [
        {
          "data": {
            "text/markdown": [
              "<h4 id=\"solve_klu\" class=\"doc_header\"><code>solve_klu</code><a href=\"\" class=\"source_link\" style=\"float:right\">[source]</a></h4>\n",
              "\n"
            ],
            "text/plain": [
              "<IPython.core.display.Markdown object>"
            ]
          },
          "metadata": {},
          "output_type": "display_data"
        }
      ],
      "source": [
        "show_doc(solve_klu, doc_string=False, name=\"solve_klu\")"
      ]
    },
    {
      "cell_type": "markdown",
      "id": "6707049d",
      "metadata": {
        "papermill": {
          "duration": 0.037903,
          "end_time": "2022-08-17T03:22:25.624879",
          "exception": false,
          "start_time": "2022-08-17T03:22:25.586976",
          "status": "completed"
        },
        "tags": []
      },
      "source": [
        "Let's now redefine `Ax` and see what it gives:"
      ]
    },
    {
      "cell_type": "code",
      "execution_count": 9,
      "id": "d4d7b6f9",
      "metadata": {
        "execution": {
          "iopub.execute_input": "2022-08-17T03:22:25.708915Z",
          "iopub.status.busy": "2022-08-17T03:22:25.708499Z",
          "iopub.status.idle": "2022-08-17T03:22:25.710418Z",
          "shell.execute_reply": "2022-08-17T03:22:25.710716Z"
        },
        "papermill": {
          "duration": 0.04805,
          "end_time": "2022-08-17T03:22:25.710830",
          "exception": false,
          "start_time": "2022-08-17T03:22:25.662780",
          "status": "completed"
        },
        "tags": []
      },
      "outputs": [
        {
          "data": {
            "text/plain": [
              "array([[6.       , 1.       , 0.5      , 0.5      , 2.       ],\n",
              "       [3.       , 1.       , 1.       , 0.75     , 0.6666667],\n",
              "       [1.5      , 5.       , 0.2      , 1.5      , 0.6666667]],            dtype=float32))"
            ]
          },
          "execution_count": 9,
          "metadata": {},
          "output_type": "execute_result"
        }
      ],
      "source": [
        "Ai = jnp.array([0, 1, 2, 3, 4])\n",
        "Aj = jnp.array([1, 3, 4, 0, 2])\n",
        "Ax = jnp.array([[5, 6, 1, 1, 2], [5, 4, 3, 2, 1], [1, 2, 3, 4, 5]])\n",
        "b = jnp.array([5, 3, 2, 6, 1])\n",
        "if klujax is not None:\n",
        "    x = solve_klu(Ai, Aj, Ax, b)\n",
        "else:\n",
        "    x = jnp.array([\n",
        "        [6.0, 1.0, 0.5, 0.5, 2.0],\n",
        "        [3.0, 1.0, 1.0, 0.75, 0.66666667],\n",
        "        [1.5, 5.0, 0.2, 1.5, 0.66666667],\n",
        "    ])\n",
        "    \n",
        "x"
      ]
    },
    {
      "cell_type": "markdown",
      "id": "5f342c6f",
      "metadata": {
        "papermill": {
          "duration": 0.037926,
          "end_time": "2022-08-17T03:22:25.786636",
          "exception": false,
          "start_time": "2022-08-17T03:22:25.748710",
          "status": "completed"
        },
        "tags": []
      },
      "source": [
        "This result is indeed correct:"
      ]
    },
    {
      "cell_type": "code",
      "execution_count": 10,
      "id": "0afefaa6",
      "metadata": {
        "execution": {
          "iopub.execute_input": "2022-08-17T03:22:25.870667Z",
          "iopub.status.busy": "2022-08-17T03:22:25.870247Z",
          "iopub.status.idle": "2022-08-17T03:22:25.964657Z",
          "shell.execute_reply": "2022-08-17T03:22:25.964994Z"
        },
        "papermill": {
          "duration": 0.140407,
          "end_time": "2022-08-17T03:22:25.965129",
          "exception": false,
          "start_time": "2022-08-17T03:22:25.824722",
          "status": "completed"
        },
        "tags": []
      },
      "outputs": [],
      "source": [
        "if JAX_AVAILABLE:\n",
        "    A = jnp.zeros((3, 5, 5)).at[:, Ai, Aj].set(Ax)\n",
        "    jnp.einsum(\"ijk,ik->ij\", A, x)"
      ]
    },
    {
      "cell_type": "markdown",
      "id": "7ed8f62d",
      "metadata": {
        "papermill": {
          "duration": 0.038388,
          "end_time": "2022-08-17T03:22:26.041855",
          "exception": false,
          "start_time": "2022-08-17T03:22:26.003467",
          "status": "completed"
        },
        "tags": []
      },
      "source": [
        "Additionally, we need a way to multiply a sparse COO-matrix with a dense vector. This can be done with `klujax.coo_mul_vec`:"
      ]
    },
    {
      "cell_type": "code",
      "execution_count": 11,
      "id": "a1f2cdeefae6c731",
      "metadata": {
        "execution": {
          "iopub.execute_input": "2022-08-17T03:22:26.121696Z",
          "iopub.status.busy": "2022-08-17T03:22:26.121242Z",
          "iopub.status.idle": "2022-08-17T03:22:26.122397Z",
          "shell.execute_reply": "2022-08-17T03:22:26.122725Z"
        },
        "papermill": {
          "duration": 0.042744,
          "end_time": "2022-08-17T03:22:26.122838",
          "exception": false,
          "start_time": "2022-08-17T03:22:26.080094",
          "status": "completed"
        },
        "tags": [
          "remove-input"
        ]
      },
      "outputs": [],
      "source": [
        "\n",
        "if klujax is not None:\n",
        "    show_doc(klujax.coo_mul_vec, doc_string=False, name=\"klujax.coo_mul_vec\")"
      ]
    },
    {
      "cell_type": "markdown",
      "id": "7f57c443",
      "metadata": {
        "papermill": {
          "duration": 0.038057,
          "end_time": "2022-08-17T03:22:26.199090",
          "exception": false,
          "start_time": "2022-08-17T03:22:26.161033",
          "status": "completed"
        },
        "tags": []
      },
      "source": [
        "However, it's useful to allow a batch dimension, this time *both* in `Ax` and in `b`:"
      ]
    },
    {
      "cell_type": "code",
      "execution_count": 12,
      "id": "e9267d7a64603cbf",
      "metadata": {
        "execution": {
          "iopub.execute_input": "2022-08-17T03:22:26.279316Z",
          "iopub.status.busy": "2022-08-17T03:22:26.278885Z",
          "iopub.status.idle": "2022-08-17T03:22:26.280048Z",
          "shell.execute_reply": "2022-08-17T03:22:26.280372Z"
        },
        "papermill": {
          "duration": 0.042629,
          "end_time": "2022-08-17T03:22:26.280487",
          "exception": false,
          "start_time": "2022-08-17T03:22:26.237858",
          "status": "completed"
        },
        "tags": [
          "remove-cell"
        ]
      },
      "outputs": [],
      "source": [
        "\n",
        "# @jax.jit  # TODO: make this available to autograd\n",
        "# def mul_coo(Ai, Aj, Ax, b):\n",
        "#     result = jnp.zeros_like(b).at[..., Ai, :].add(Ax[..., :, None] * b[..., Aj, :])\n",
        "#     return result"
      ]
    },
    {
      "cell_type": "code",
      "execution_count": 13,
      "id": "e01a97d294d67bfd",
      "metadata": {
        "execution": {
          "iopub.execute_input": "2022-08-17T03:22:26.360487Z",
          "iopub.status.busy": "2022-08-17T03:22:26.360076Z",
          "iopub.status.idle": "2022-08-17T03:22:26.361326Z",
          "shell.execute_reply": "2022-08-17T03:22:26.361677Z"
        },
        "papermill": {
          "duration": 0.042912,
          "end_time": "2022-08-17T03:22:26.361789",
          "exception": false,
          "start_time": "2022-08-17T03:22:26.318877",
          "status": "completed"
        },
        "tags": []
      },
      "outputs": [],
      "source": [
        "mul_coo = None \n",
        "if klujax is not None:\n",
        "    mul_coo = jax.vmap(klujax.coo_mul_vec, (None, None, 0, 0), 0)"
      ]
    },
    {
      "cell_type": "code",
      "execution_count": 14,
      "id": "7e78a1c2864add75",
      "metadata": {
        "execution": {
          "iopub.execute_input": "2022-08-17T03:22:26.442068Z",
          "iopub.status.busy": "2022-08-17T03:22:26.441643Z",
          "iopub.status.idle": "2022-08-17T03:22:26.443133Z",
          "shell.execute_reply": "2022-08-17T03:22:26.443511Z"
        },
        "papermill": {
          "duration": 0.043636,
          "end_time": "2022-08-17T03:22:26.443620",
          "exception": false,
          "start_time": "2022-08-17T03:22:26.399984",
          "status": "completed"
        },
        "tags": [
          "remove-input"
        ]
      },
      "outputs": [
        {
          "data": {
            "text/markdown": [
              "<h4 id=\"mul_coo\" class=\"doc_header\"><code>mul_coo</code><a href=\"\" class=\"source_link\" style=\"float:right\">[source]</a></h4>\n",
              "\n"
            ],
            "text/plain": [
              "<IPython.core.display.Markdown object>"
            ]
          },
          "metadata": {},
          "output_type": "display_data"
        }
      ],
      "source": [
        "show_doc(mul_coo, doc_string=False, name=\"mul_coo\")"
      ]
    },
    {
      "cell_type": "markdown",
      "id": "d26cc3d9",
      "metadata": {
        "papermill": {
          "duration": 0.038836,
          "end_time": "2022-08-17T03:22:26.521134",
          "exception": false,
          "start_time": "2022-08-17T03:22:26.482298",
          "status": "completed"
        },
        "tags": []
      },
      "source": [
        "Let's confirm this does the right thing:"
      ]
    },
    {
      "cell_type": "code",
      "execution_count": 15,
      "id": "bd868973",
      "metadata": {
        "execution": {
          "iopub.execute_input": "2022-08-17T03:22:26.604787Z",
          "iopub.status.busy": "2022-08-17T03:22:26.604362Z",
          "iopub.status.idle": "2022-08-17T03:22:26.605895Z",
          "shell.execute_reply": "2022-08-17T03:22:26.606268Z"
        },
        "papermill": {
          "duration": 0.046155,
          "end_time": "2022-08-17T03:22:26.606378",
          "exception": false,
          "start_time": "2022-08-17T03:22:26.560223",
          "status": "completed"
        },
        "tags": []
      },
      "outputs": [
        {
          "data": {
            "text/plain": [
              "array([[5., 3., 2., 6., 1.],\n",
              "       [5., 3., 2., 6., 1.],\n",
              "       [5., 3., 2., 6., 1.]])"
            ]
          },
          "execution_count": 15,
          "metadata": {},
          "output_type": "execute_result"
        }
      ],
      "source": [
        "if klujax is not None:\n",
        "    result = mul_coo(Ai, Aj, Ax, x)\n",
        "else:\n",
        "    result = jnp.array([\n",
        "        [5.0, 3.0, 2.0, 6.0, 1.0],\n",
        "        [5.0, 3.0, 2.00000001, 6.0, 1.0],\n",
        "        [5.0, 3.0, 2.00000001, 6.0, 1.0],\n",
        "    ])\n",
        "    \n",
        "result"
      ]
    },
    {
      "cell_type": "markdown",
      "id": "d71e89fa",
      "metadata": {
        "papermill": {
          "duration": 0.038962,
          "end_time": "2022-08-17T03:22:26.684235",
          "exception": false,
          "start_time": "2022-08-17T03:22:26.645273",
          "status": "completed"
        },
        "tags": []
      },
      "source": [
        "## Circuit Evaluation"
      ]
    },
    {
      "cell_type": "markdown",
      "id": "d19ff023408a64fd",
      "metadata": {},
      "source": [
        ":::{eval-rst}\n",
        ".. autofunction:: sax.backends.klu.evaluate_circuit_klu\n",
        ":::\n"
      ]
    },
    {
      "cell_type": "code",
      "execution_count": 16,
      "id": "6821d1c0a6e8b589",
      "metadata": {
        "execution": {
          "iopub.execute_input": "2022-08-17T03:22:26.775404Z",
          "iopub.status.busy": "2022-08-17T03:22:26.770085Z",
          "iopub.status.idle": "2022-08-17T03:22:26.777876Z",
          "shell.execute_reply": "2022-08-17T03:22:26.778179Z"
        },
        "papermill": {
          "duration": 0.054735,
          "end_time": "2022-08-17T03:22:26.778299",
          "exception": false,
          "start_time": "2022-08-17T03:22:26.723564",
          "status": "completed"
        },
        "tags": [
          "hide-input"
        ]
      },
      "outputs": [],
      "source": [
        "def evaluate_circuit_klu(\n",
        "    instances: Dict[str, SType],\n",
        "    connections: Dict[str, str],\n",
        "    ports: Dict[str, str],\n",
        "):\n",
        "    \"\"\"evaluate a circuit using KLU for the given sdicts. \"\"\"\n",
        "\n",
        "    if klujax is None:\n",
        "        raise ImportError(\n",
        "            \"Could not import 'klujax'. \"\n",
        "            \"Please install it first before using backend method 'klu'\"\n",
        "        )\n",
        "\n",
        "    assert solve_klu is not None\n",
        "    assert mul_coo is not None\n",
        "\n",
        "    connections = {**connections, **{v: k for k, v in connections.items()}}\n",
        "    inverse_ports = {v: k for k, v in ports.items()}\n",
        "    port_map = {k: i for i, k in enumerate(ports)}\n",
        "\n",
        "    idx, Si, Sj, Sx, instance_ports = 0, [], [], [], {}\n",
        "    batch_shape = ()\n",
        "    for name, instance in instances.items():\n",
        "        si, sj, sx, ports_map = scoo(instance)\n",
        "        Si.append(si + idx)\n",
        "        Sj.append(sj + idx)\n",
        "        Sx.append(sx)\n",
        "        if len(sx.shape[:-1]) > len(batch_shape):\n",
        "            batch_shape = sx.shape[:-1]\n",
        "        instance_ports.update({f\"{name},{p}\": i + idx for p, i in ports_map.items()})\n",
        "        idx += len(ports_map)\n",
        "\n",
        "    Si = jnp.concatenate(Si, -1)\n",
        "    Sj = jnp.concatenate(Sj, -1)\n",
        "    Sx = jnp.concatenate(\n",
        "        [jnp.broadcast_to(sx, (*batch_shape, sx.shape[-1])) for sx in Sx], -1\n",
        "    )\n",
        "\n",
        "    n_col = idx\n",
        "    n_rhs = len(port_map)\n",
        "\n",
        "    Cmap = {\n",
        "        int(instance_ports[k]): int(instance_ports[v]) for k, v in connections.items()\n",
        "    }\n",
        "    Ci = jnp.array(list(Cmap.keys()), dtype=jnp.int32)\n",
        "    Cj = jnp.array(list(Cmap.values()), dtype=jnp.int32)\n",
        "\n",
        "    Cextmap = {int(instance_ports[k]): int(port_map[v]) for k, v in inverse_ports.items()}\n",
        "    Cexti = jnp.stack(list(Cextmap.keys()), 0)\n",
        "    Cextj = jnp.stack(list(Cextmap.values()), 0)\n",
        "    Cext = jnp.zeros((n_col, n_rhs), dtype=complex).at[Cexti, Cextj].set(1.0)\n",
        "\n",
        "    # TODO: make this block jittable...\n",
        "    Ix = jnp.ones((*batch_shape, n_col))\n",
        "    Ii = Ij = jnp.arange(n_col)\n",
        "    mask = Cj[None,:] == Si[:, None]\n",
        "    CSi = jnp.broadcast_to(Ci[None, :], mask.shape)[mask]\n",
        "\n",
        "    # CSi = jnp.where(Cj[None, :] == Si[:, None], Ci[None, :], 0).sum(1)\n",
        "    mask = (Cj[:, None] == Si[None, :]).any(0)\n",
        "    CSj = Sj[mask]\n",
        "    \n",
        "    if Sx.ndim > 1: # bug in JAX... see https://github.com/google/jax/issues/9050\n",
        "        CSx = Sx[..., mask]\n",
        "    else:\n",
        "        CSx = Sx[mask]\n",
        "        \n",
        "    # CSj = jnp.where(mask, Sj, 0)\n",
        "    # CSx = jnp.where(mask, Sx, 0.0)\n",
        "\n",
        "    I_CSi = jnp.concatenate([CSi, Ii], -1)\n",
        "    I_CSj = jnp.concatenate([CSj, Ij], -1)\n",
        "    I_CSx = jnp.concatenate([-CSx, Ix], -1)\n",
        "\n",
        "    n_col, n_rhs = Cext.shape\n",
        "    n_lhs = jnp.prod(jnp.array(batch_shape, dtype=jnp.int32))\n",
        "    Sx = Sx.reshape(n_lhs, -1)\n",
        "    I_CSx = I_CSx.reshape(n_lhs, -1)\n",
        "\n",
        "    inv_I_CS_Cext = solve_klu(I_CSi, I_CSj, I_CSx, Cext)\n",
        "    S_inv_I_CS_Cext = mul_coo(Si, Sj, Sx, inv_I_CS_Cext)\n",
        "\n",
        "    CextT_S_inv_I_CS_Cext = S_inv_I_CS_Cext[..., Cexti, :][..., :, Cextj]\n",
        "    \n",
        "    _, n, _ = CextT_S_inv_I_CS_Cext.shape\n",
        "    S = CextT_S_inv_I_CS_Cext.reshape(*batch_shape, n, n)\n",
        "\n",
        "    return S, port_map"
      ]
    },
    {
      "cell_type": "markdown",
      "id": "dce9d8ca",
      "metadata": {
        "papermill": {
          "duration": 0.039077,
          "end_time": "2022-08-17T03:22:26.856575",
          "exception": false,
          "start_time": "2022-08-17T03:22:26.817498",
          "status": "completed"
        },
        "tags": []
      },
      "source": [
        "## Example"
      ]
    },
    {
      "cell_type": "code",
      "execution_count": 17,
      "id": "6643f00fd813e3b2",
      "metadata": {
        "execution": {
          "iopub.execute_input": "2022-08-17T03:22:26.939271Z",
          "iopub.status.busy": "2022-08-17T03:22:26.938842Z",
          "iopub.status.idle": "2022-08-17T03:22:26.940407Z",
          "shell.execute_reply": "2022-08-17T03:22:26.940055Z"
        },
        "papermill": {
          "duration": 0.044649,
          "end_time": "2022-08-17T03:22:26.940498",
          "exception": false,
          "start_time": "2022-08-17T03:22:26.895849",
          "status": "completed"
        },
        "tags": [
          "remove-cell"
        ]
      },
      "outputs": [],
      "source": [
        "if klujax is None:\n",
        "    def evaluate_circuit_klu(\n",
        "        instances: Dict[str, SType],\n",
        "        connections: Dict[str, str],\n",
        "        ports: Dict[str, str],\n",
        "    ):\n",
        "        sdict = evaluate_circuit(instances, connections, ports)\n",
        "        sdense = sax.sdense(sdict)\n",
        "        return sdense"
      ]
    },
    {
      "cell_type": "code",
      "execution_count": 18,
      "id": "f577522a",
      "metadata": {
        "execution": {
          "iopub.execute_input": "2022-08-17T03:22:27.029201Z",
          "iopub.status.busy": "2022-08-17T03:22:27.028768Z",
          "iopub.status.idle": "2022-08-17T03:22:28.051929Z",
          "shell.execute_reply": "2022-08-17T03:22:28.051503Z"
        },
        "papermill": {
          "duration": 1.072259,
          "end_time": "2022-08-17T03:22:28.052030",
          "exception": false,
          "start_time": "2022-08-17T03:22:26.979771",
          "status": "completed"
        },
        "tags": []
      },
      "outputs": [],
      "source": [
        "wg_sdict: SDict = {\n",
        "    (\"in0\", \"out0\"): 0.5 + 0.86603j,\n",
        "    (\"out0\", \"in0\"): 0.5 + 0.86603j,\n",
        "}\n",
        "\n",
        "\u03c4, \u03ba = 0.5 ** 0.5, 1j * 0.5 ** 0.5\n",
        "dc_sdense: SDense = (\n",
        "    jnp.array([[0, 0, \u03c4, \u03ba], \n",
        "               [0, 0, \u03ba, \u03c4], \n",
        "               [\u03c4, \u03ba, 0, 0], \n",
        "               [\u03ba, \u03c4, 0, 0]]),\n",
        "    {\"in0\": 0, \"in1\": 1, \"out0\": 2, \"out1\": 3},\n",
        ")\n",
        "\n",
        "mzi_sdense: SDense = evaluate_circuit_klu(\n",
        "    instances={\n",
        "        \"dc1\": dc_sdense,\n",
        "        \"wg\": wg_sdict,\n",
        "        \"dc2\": dc_sdense,\n",
        "    },\n",
        "    connections={\n",
        "        \"dc1,out0\": \"wg,in0\",\n",
        "        \"wg,out0\": \"dc2,in0\",\n",
        "        \"dc1,out1\": \"dc2,in1\",\n",
        "    },\n",
        "    ports={\n",
        "        \"in0\": \"dc1,in0\",\n",
        "        \"in1\": \"dc1,in1\",\n",
        "        \"out0\": \"dc2,out0\",\n",
        "        \"out1\": \"dc2,out1\",\n",
        "    }\n",
        ")"
      ]
    },
    {
      "cell_type": "markdown",
      "id": "60b6d1e6",
      "metadata": {
        "papermill": {
          "duration": 0.039645,
          "end_time": "2022-08-17T03:22:28.131456",
          "exception": false,
          "start_time": "2022-08-17T03:22:28.091811",
          "status": "completed"
        },
        "tags": []
      },
      "source": [
        "the KLU backend yields `SDense` results by default:"
      ]
    },
    {
      "cell_type": "code",
      "execution_count": 19,
      "id": "ecc3115e",
      "metadata": {
        "execution": {
          "iopub.execute_input": "2022-08-17T03:22:28.215045Z",
          "iopub.status.busy": "2022-08-17T03:22:28.214358Z",
          "iopub.status.idle": "2022-08-17T03:22:28.216795Z",
          "shell.execute_reply": "2022-08-17T03:22:28.217124Z"
        },
        "papermill": {
          "duration": 0.046172,
          "end_time": "2022-08-17T03:22:28.217241",
          "exception": false,
          "start_time": "2022-08-17T03:22:28.171069",
          "status": "completed"
        },
        "tags": []
      },
      "outputs": [
        {
          "data": {
            "text/plain": [
              "(array([[ 0.        +0.j        ,  0.        +0.j        ,\n",
              "         -0.24999999+0.433015j  , -0.433015  +0.74999994j],\n",
              "        [ 0.        +0.j        ,  0.        +0.j        ,\n",
              "         -0.433015  +0.74999994j,  0.24999999-0.433015j  ],\n",
              "        [-0.24999999+0.433015j  , -0.433015  +0.74999994j,\n",
              "          0.        +0.j        ,  0.        +0.j        ],\n",
              "        [-0.433015  +0.74999994j,  0.24999999-0.433015j  ,\n",
              "          0.        +0.j        ,  0.        +0.j        ]],            dtype=complex64)),\n",
              " {'in0': 0, 'in1': 1, 'out0': 2, 'out1': 3})"
            ]
          },
          "execution_count": 19,
          "metadata": {},
          "output_type": "execute_result"
        }
      ],
      "source": [
        "mzi_sdense"
      ]
    },
    {
      "cell_type": "markdown",
      "id": "4b8e87f3",
      "metadata": {
        "papermill": {
          "duration": 0.039663,
          "end_time": "2022-08-17T03:22:28.296774",
          "exception": false,
          "start_time": "2022-08-17T03:22:28.257111",
          "status": "completed"
        },
        "tags": []
      },
      "source": [
        "An `SDense` is returned for perfomance reasons. By returning an `SDense` by default we prevent any internal `SDict -> SDense` conversions in deeply hierarchical circuits. It's however very easy to convert `SDense` to `SDict` as a final step. To do this, wrap the result (or the function generating the result) with `sdict`:"
      ]
    },
    {
      "cell_type": "code",
      "execution_count": 20,
      "id": "7202ab1e",
      "metadata": {
        "execution": {
          "iopub.execute_input": "2022-08-17T03:22:28.382679Z",
          "iopub.status.busy": "2022-08-17T03:22:28.380917Z",
          "iopub.status.idle": "2022-08-17T03:22:28.427034Z",
          "shell.execute_reply": "2022-08-17T03:22:28.426655Z"
        },
        "papermill": {
          "duration": 0.091016,
          "end_time": "2022-08-17T03:22:28.427137",
          "exception": false,
          "start_time": "2022-08-17T03:22:28.336121",
          "status": "completed"
        },
        "tags": []
      },
      "outputs": [
        {
          "data": {
            "text/plain": [
              "{('in0', 'in0'): 0j,\n",
              " ('in0', 'in1'): 0j,\n",
              " ('in0', 'out0'): -0.25+0.43301j,\n",
              " ('in0', 'out1'): -0.43301+0.75j,\n",
              " ('in1', 'in0'): 0j,\n",
              " ('in1', 'in1'): 0j,\n",
              " ('in1', 'out0'): -0.43301+0.75j,\n",
              " ('in1', 'out1'): 0.25-0.43301j,\n",
              " ('out0', 'in0'): -0.25+0.43301j,\n",
              " ('out0', 'in1'): -0.43301+0.75j,\n",
              " ('out0', 'out0'): 0j,\n",
              " ('out0', 'out1'): 0j,\n",
              " ('out1', 'in0'): -0.43301+0.75j,\n",
              " ('out1', 'in1'): 0.25-0.43301j,\n",
              " ('out1', 'out0'): 0j,\n",
              " ('out1', 'out1'): 0j}"
            ]
          },
          "execution_count": 20,
          "metadata": {},
          "output_type": "execute_result"
        }
      ],
      "source": [
        "sax.sdict(mzi_sdense)"
      ]
    },
    {
      "cell_type": "markdown",
      "id": "9f8cd5ea",
      "metadata": {
        "papermill": {
          "duration": 0.040377,
          "end_time": "2022-08-17T03:22:28.507561",
          "exception": false,
          "start_time": "2022-08-17T03:22:28.467184",
          "status": "completed"
        },
        "tags": []
      },
      "source": [
        "## Algorithm Walkthrough"
      ]
    },
    {
      "cell_type": "code",
      "execution_count": 21,
      "id": "665c856d",
      "metadata": {
        "execution": {
          "iopub.execute_input": "2022-08-17T03:22:28.591312Z",
          "iopub.status.busy": "2022-08-17T03:22:28.590883Z",
          "iopub.status.idle": "2022-08-17T03:22:28.592346Z",
          "shell.execute_reply": "2022-08-17T03:22:28.591950Z"
        },
        "papermill": {
          "duration": 0.045134,
          "end_time": "2022-08-17T03:22:28.592438",
          "exception": false,
          "start_time": "2022-08-17T03:22:28.547304",
          "status": "completed"
        },
        "tags": []
      },
      "outputs": [],
      "source": [
        "instances={\n",
        "    \"dc1\": dc_sdense,\n",
        "    \"wg\": wg_sdict,\n",
        "    \"dc2\": dc_sdense,\n",
        "}\n",
        "connections={\n",
        "    \"dc1,out0\": \"wg,in0\",\n",
        "    \"wg,out0\": \"dc2,in0\",\n",
        "    \"dc1,out1\": \"dc2,in1\",\n",
        "}\n",
        "ports={\n",
        "    \"in0\": \"dc1,in0\",\n",
        "    \"in1\": \"dc1,in1\",\n",
        "    \"out0\": \"dc2,out0\",\n",
        "    \"out1\": \"dc2,out1\",\n",
        "}"
      ]
    },
    {
      "cell_type": "markdown",
      "id": "b5bf5188",
      "metadata": {
        "papermill": {
          "duration": 0.04025,
          "end_time": "2022-08-17T03:22:28.672514",
          "exception": false,
          "start_time": "2022-08-17T03:22:28.632264",
          "status": "completed"
        },
        "tags": []
      },
      "source": [
        "Let's first enforce $C^T = C$:"
      ]
    },
    {
      "cell_type": "code",
      "execution_count": 22,
      "id": "6d7d4c39",
      "metadata": {
        "execution": {
          "iopub.execute_input": "2022-08-17T03:22:28.757001Z",
          "iopub.status.busy": "2022-08-17T03:22:28.756582Z",
          "iopub.status.idle": "2022-08-17T03:22:28.757991Z",
          "shell.execute_reply": "2022-08-17T03:22:28.758361Z"
        },
        "papermill": {
          "duration": 0.045932,
          "end_time": "2022-08-17T03:22:28.758475",
          "exception": false,
          "start_time": "2022-08-17T03:22:28.712543",
          "status": "completed"
        },
        "tags": []
      },
      "outputs": [
        {
          "data": {
            "text/plain": [
              "{'dc1,out0': 'wg,in0',\n",
              " 'wg,out0': 'dc2,in0',\n",
              " 'dc1,out1': 'dc2,in1',\n",
              " 'wg,in0': 'dc1,out0',\n",
              " 'dc2,in0': 'wg,out0',\n",
              " 'dc2,in1': 'dc1,out1'}"
            ]
          },
          "execution_count": 22,
          "metadata": {},
          "output_type": "execute_result"
        }
      ],
      "source": [
        "connections = {**connections, **{v: k for k, v in connections.items()}}\n",
        "connections"
      ]
    },
    {
      "cell_type": "markdown",
      "id": "a41250ec",
      "metadata": {
        "papermill": {
          "duration": 0.040223,
          "end_time": "2022-08-17T03:22:28.838951",
          "exception": false,
          "start_time": "2022-08-17T03:22:28.798728",
          "status": "completed"
        },
        "tags": []
      },
      "source": [
        "We'll also need the reversed ports:"
      ]
    },
    {
      "cell_type": "code",
      "execution_count": 23,
      "id": "9a70463f",
      "metadata": {
        "execution": {
          "iopub.execute_input": "2022-08-17T03:22:28.923726Z",
          "iopub.status.busy": "2022-08-17T03:22:28.923316Z",
          "iopub.status.idle": "2022-08-17T03:22:28.925460Z",
          "shell.execute_reply": "2022-08-17T03:22:28.925123Z"
        },
        "papermill": {
          "duration": 0.046144,
          "end_time": "2022-08-17T03:22:28.925568",
          "exception": false,
          "start_time": "2022-08-17T03:22:28.879424",
          "status": "completed"
        },
        "tags": []
      },
      "outputs": [
        {
          "data": {
            "text/plain": [
              "{'dc1,in0': 'in0', 'dc1,in1': 'in1', 'dc2,out0': 'out0', 'dc2,out1': 'out1'}"
            ]
          },
          "execution_count": 23,
          "metadata": {},
          "output_type": "execute_result"
        }
      ],
      "source": [
        "inverse_ports = {v: k for k, v in ports.items()}\n",
        "inverse_ports"
      ]
    },
    {
      "cell_type": "markdown",
      "id": "1e96443b",
      "metadata": {
        "papermill": {
          "duration": 0.040642,
          "end_time": "2022-08-17T03:22:29.006954",
          "exception": false,
          "start_time": "2022-08-17T03:22:28.966312",
          "status": "completed"
        },
        "tags": []
      },
      "source": [
        "An the port indices"
      ]
    },
    {
      "cell_type": "code",
      "execution_count": 24,
      "id": "8e18d182",
      "metadata": {
        "execution": {
          "iopub.execute_input": "2022-08-17T03:22:29.092743Z",
          "iopub.status.busy": "2022-08-17T03:22:29.092302Z",
          "iopub.status.idle": "2022-08-17T03:22:29.093937Z",
          "shell.execute_reply": "2022-08-17T03:22:29.094264Z"
        },
        "papermill": {
          "duration": 0.046678,
          "end_time": "2022-08-17T03:22:29.094378",
          "exception": false,
          "start_time": "2022-08-17T03:22:29.047700",
          "status": "completed"
        },
        "tags": []
      },
      "outputs": [
        {
          "data": {
            "text/plain": [
              "{'in0': 0, 'in1': 1, 'out0': 2, 'out1': 3}"
            ]
          },
          "execution_count": 24,
          "metadata": {},
          "output_type": "execute_result"
        }
      ],
      "source": [
        "port_map = {k: i for i, k in enumerate(ports)}\n",
        "port_map"
      ]
    },
    {
      "cell_type": "markdown",
      "id": "70924074",
      "metadata": {
        "papermill": {
          "duration": 0.041059,
          "end_time": "2022-08-17T03:22:29.176638",
          "exception": false,
          "start_time": "2022-08-17T03:22:29.135579",
          "status": "completed"
        },
        "tags": []
      },
      "source": [
        "Let's now create the COO-representation of our block diagonal S-matrix $S_{bd}$:"
      ]
    },
    {
      "cell_type": "code",
      "execution_count": 25,
      "id": "835deb8f",
      "metadata": {
        "execution": {
          "iopub.execute_input": "2022-08-17T03:22:29.270242Z",
          "iopub.status.busy": "2022-08-17T03:22:29.269797Z",
          "iopub.status.idle": "2022-08-17T03:22:29.422074Z",
          "shell.execute_reply": "2022-08-17T03:22:29.422409Z"
        },
        "papermill": {
          "duration": 0.204376,
          "end_time": "2022-08-17T03:22:29.422534",
          "exception": false,
          "start_time": "2022-08-17T03:22:29.218158",
          "status": "completed"
        },
        "tags": []
      },
      "outputs": [
        {
          "name": "stdout",
          "output_type": "stream",
          "text": [
            "[0 0 0 0 1 1 1 1 2 2 2 2 3 3 3 3 4 5 6 6 6 6 7 7 7 7 8 8 8 8 9 9 9 9]\n",
            "[0 1 2 3 0 1 2 3 0 1 2 3 0 1 2 3 5 4 6 7 8 9 6 7 8 9 6 7 8 9 6 7 8 9]\n",
            "[0.        +0.j         0.        +0.j         0.70710677+0.j\n",
            " 0.        +0.70710677j 0.        +0.j         0.        +0.j\n",
            " 0.        +0.70710677j 0.70710677+0.j         0.70710677+0.j\n",
            " 0.        +0.70710677j 0.        +0.j         0.        +0.j\n",
            " 0.        +0.70710677j 0.70710677+0.j         0.        +0.j\n",
            " 0.        +0.j         0.5       +0.86603j    0.5       +0.86603j\n",
            " 0.        +0.j         0.        +0.j         0.70710677+0.j\n",
            " 0.        +0.70710677j 0.        +0.j         0.        +0.j\n",
            " 0.        +0.70710677j 0.70710677+0.j         0.70710677+0.j\n",
            " 0.        +0.70710677j 0.        +0.j         0.        +0.j\n",
            " 0.        +0.70710677j 0.70710677+0.j         0.        +0.j\n",
            " 0.        +0.j        ]\n"
          ]
        }
      ],
      "source": [
        "idx, Si, Sj, Sx, instance_ports = 0, [], [], [], {}\n",
        "batch_shape = ()\n",
        "for name, instance in instances.items():\n",
        "    si, sj, sx, ports_map = scoo(instance)\n",
        "    Si.append(si + idx)\n",
        "    Sj.append(sj + idx)\n",
        "    Sx.append(sx)\n",
        "    if len(sx.shape[:-1]) > len(batch_shape):\n",
        "        batch_shape = sx.shape[:-1]\n",
        "    instance_ports.update({f\"{name},{p}\": i + idx for p, i in ports_map.items()})\n",
        "    idx += len(ports_map)\n",
        "Si = jnp.concatenate(Si, -1)\n",
        "Sj = jnp.concatenate(Sj, -1)\n",
        "Sx = jnp.concatenate([jnp.broadcast_to(sx, (*batch_shape, sx.shape[-1])) for sx in Sx], -1)\n",
        "\n",
        "print(Si)\n",
        "print(Sj)\n",
        "print(Sx)"
      ]
    },
    {
      "cell_type": "markdown",
      "id": "a8edefa1",
      "metadata": {
        "papermill": {
          "duration": 0.041566,
          "end_time": "2022-08-17T03:22:29.505561",
          "exception": false,
          "start_time": "2022-08-17T03:22:29.463995",
          "status": "completed"
        },
        "tags": []
      },
      "source": [
        "note that we also kept track of the `batch_shape`, i.e. the number of independent simulations (usually number of wavelengths). In the example being used here we don't have a batch dimension (all elements of the `SDict` are `0D`):"
      ]
    },
    {
      "cell_type": "code",
      "execution_count": 26,
      "id": "7513759a",
      "metadata": {
        "execution": {
          "iopub.execute_input": "2022-08-17T03:22:29.592426Z",
          "iopub.status.busy": "2022-08-17T03:22:29.592012Z",
          "iopub.status.idle": "2022-08-17T03:22:29.593622Z",
          "shell.execute_reply": "2022-08-17T03:22:29.593946Z"
        },
        "papermill": {
          "duration": 0.047242,
          "end_time": "2022-08-17T03:22:29.594061",
          "exception": false,
          "start_time": "2022-08-17T03:22:29.546819",
          "status": "completed"
        },
        "tags": []
      },
      "outputs": [
        {
          "data": {
            "text/plain": [
              "()"
            ]
          },
          "execution_count": 26,
          "metadata": {},
          "output_type": "execute_result"
        }
      ],
      "source": [
        "batch_shape"
      ]
    },
    {
      "cell_type": "markdown",
      "id": "c63b14d7",
      "metadata": {
        "papermill": {
          "duration": 0.041558,
          "end_time": "2022-08-17T03:22:29.677316",
          "exception": false,
          "start_time": "2022-08-17T03:22:29.635758",
          "status": "completed"
        },
        "tags": []
      },
      "source": [
        "We'll also keep track of the number of columns"
      ]
    },
    {
      "cell_type": "code",
      "execution_count": 27,
      "id": "89000432",
      "metadata": {
        "execution": {
          "iopub.execute_input": "2022-08-17T03:22:29.764719Z",
          "iopub.status.busy": "2022-08-17T03:22:29.764294Z",
          "iopub.status.idle": "2022-08-17T03:22:29.765738Z",
          "shell.execute_reply": "2022-08-17T03:22:29.766112Z"
        },
        "papermill": {
          "duration": 0.04699,
          "end_time": "2022-08-17T03:22:29.766224",
          "exception": false,
          "start_time": "2022-08-17T03:22:29.719234",
          "status": "completed"
        },
        "tags": []
      },
      "outputs": [
        {
          "data": {
            "text/plain": [
              "10"
            ]
          },
          "execution_count": 27,
          "metadata": {},
          "output_type": "execute_result"
        }
      ],
      "source": [
        "n_col = idx\n",
        "n_col"
      ]
    },
    {
      "cell_type": "markdown",
      "id": "7b0f95da",
      "metadata": {
        "papermill": {
          "duration": 0.041951,
          "end_time": "2022-08-17T03:22:29.850585",
          "exception": false,
          "start_time": "2022-08-17T03:22:29.808634",
          "status": "completed"
        },
        "tags": []
      },
      "source": [
        "And we'll need to solve the circuit for each output port, i.e. we need to solve `n_rhs` number of equations:"
      ]
    },
    {
      "cell_type": "code",
      "execution_count": 28,
      "id": "27902354",
      "metadata": {
        "execution": {
          "iopub.execute_input": "2022-08-17T03:22:29.938018Z",
          "iopub.status.busy": "2022-08-17T03:22:29.937579Z",
          "iopub.status.idle": "2022-08-17T03:22:29.939032Z",
          "shell.execute_reply": "2022-08-17T03:22:29.939395Z"
        },
        "papermill": {
          "duration": 0.047283,
          "end_time": "2022-08-17T03:22:29.939506",
          "exception": false,
          "start_time": "2022-08-17T03:22:29.892223",
          "status": "completed"
        },
        "tags": []
      },
      "outputs": [
        {
          "data": {
            "text/plain": [
              "4"
            ]
          },
          "execution_count": 28,
          "metadata": {},
          "output_type": "execute_result"
        }
      ],
      "source": [
        "n_rhs = len(port_map)\n",
        "n_rhs"
      ]
    },
    {
      "cell_type": "markdown",
      "id": "05056b46",
      "metadata": {
        "papermill": {
          "duration": 0.04217,
          "end_time": "2022-08-17T03:22:30.023964",
          "exception": false,
          "start_time": "2022-08-17T03:22:29.981794",
          "status": "completed"
        },
        "tags": []
      },
      "source": [
        "We can represent the internal connection matrix $C_{int}$ as a mapping between port indices:"
      ]
    },
    {
      "cell_type": "code",
      "execution_count": 29,
      "id": "f3ff1fa7",
      "metadata": {
        "execution": {
          "iopub.execute_input": "2022-08-17T03:22:30.112212Z",
          "iopub.status.busy": "2022-08-17T03:22:30.111784Z",
          "iopub.status.idle": "2022-08-17T03:22:30.113635Z",
          "shell.execute_reply": "2022-08-17T03:22:30.113972Z"
        },
        "papermill": {
          "duration": 0.048022,
          "end_time": "2022-08-17T03:22:30.114088",
          "exception": false,
          "start_time": "2022-08-17T03:22:30.066066",
          "status": "completed"
        },
        "tags": []
      },
      "outputs": [
        {
          "data": {
            "text/plain": [
              "{2: 4, 5: 6, 3: 7, 4: 2, 6: 5, 7: 3}"
            ]
          },
          "execution_count": 29,
          "metadata": {},
          "output_type": "execute_result"
        }
      ],
      "source": [
        "Cmap = {int(instance_ports[k]): int(instance_ports[v]) for k, v in connections.items()}\n",
        "Cmap"
      ]
    },
    {
      "cell_type": "markdown",
      "id": "999164af",
      "metadata": {
        "papermill": {
          "duration": 0.042343,
          "end_time": "2022-08-17T03:22:30.199285",
          "exception": false,
          "start_time": "2022-08-17T03:22:30.156942",
          "status": "completed"
        },
        "tags": []
      },
      "source": [
        "Therefore, the COO-representation of this connection matrix can be obtained as follows (note that an array of values Cx is not necessary, all non-zero elements in a connection matrix are 1)"
      ]
    },
    {
      "cell_type": "code",
      "execution_count": 30,
      "id": "9e4f1728",
      "metadata": {
        "execution": {
          "iopub.execute_input": "2022-08-17T03:22:30.290375Z",
          "iopub.status.busy": "2022-08-17T03:22:30.289945Z",
          "iopub.status.idle": "2022-08-17T03:22:30.291339Z",
          "shell.execute_reply": "2022-08-17T03:22:30.291649Z"
        },
        "papermill": {
          "duration": 0.049777,
          "end_time": "2022-08-17T03:22:30.291765",
          "exception": false,
          "start_time": "2022-08-17T03:22:30.241988",
          "status": "completed"
        },
        "tags": []
      },
      "outputs": [
        {
          "name": "stdout",
          "output_type": "stream",
          "text": [
            "[2 5 3 4 6 7]\n",
            "[4 6 7 2 5 3]\n"
          ]
        }
      ],
      "source": [
        "Ci = jnp.array(list(Cmap.keys()), dtype=jnp.int32)\n",
        "Cj = jnp.array(list(Cmap.values()), dtype=jnp.int32)\n",
        "print(Ci)\n",
        "print(Cj)"
      ]
    },
    {
      "cell_type": "markdown",
      "id": "47d5ed60",
      "metadata": {
        "papermill": {
          "duration": 0.042712,
          "end_time": "2022-08-17T03:22:30.377347",
          "exception": false,
          "start_time": "2022-08-17T03:22:30.334635",
          "status": "completed"
        },
        "tags": []
      },
      "source": [
        "We can represent the external connection matrix $C_{ext}$ as a map between internal port indices and external port indices:"
      ]
    },
    {
      "cell_type": "code",
      "execution_count": 31,
      "id": "f56ae166",
      "metadata": {
        "execution": {
          "iopub.execute_input": "2022-08-17T03:22:30.467966Z",
          "iopub.status.busy": "2022-08-17T03:22:30.467527Z",
          "iopub.status.idle": "2022-08-17T03:22:30.469158Z",
          "shell.execute_reply": "2022-08-17T03:22:30.469490Z"
        },
        "papermill": {
          "duration": 0.049307,
          "end_time": "2022-08-17T03:22:30.469614",
          "exception": false,
          "start_time": "2022-08-17T03:22:30.420307",
          "status": "completed"
        },
        "tags": []
      },
      "outputs": [
        {
          "data": {
            "text/plain": [
              "{0: 0, 1: 1, 8: 2, 9: 3}"
            ]
          },
          "execution_count": 31,
          "metadata": {},
          "output_type": "execute_result"
        }
      ],
      "source": [
        "Cextmap = {int(instance_ports[k]): int(port_map[v]) for k, v in inverse_ports.items()}\n",
        "Cextmap"
      ]
    },
    {
      "cell_type": "markdown",
      "id": "2485c01d",
      "metadata": {
        "papermill": {
          "duration": 0.042969,
          "end_time": "2022-08-17T03:22:30.556279",
          "exception": false,
          "start_time": "2022-08-17T03:22:30.513310",
          "status": "completed"
        },
        "tags": []
      },
      "source": [
        "Just as for the internal matrix we can represent this external connection matrix in COO-format:"
      ]
    },
    {
      "cell_type": "code",
      "execution_count": 32,
      "id": "cfb419ac",
      "metadata": {
        "execution": {
          "iopub.execute_input": "2022-08-17T03:22:30.649770Z",
          "iopub.status.busy": "2022-08-17T03:22:30.649310Z",
          "iopub.status.idle": "2022-08-17T03:22:30.676471Z",
          "shell.execute_reply": "2022-08-17T03:22:30.676122Z"
        },
        "papermill": {
          "duration": 0.077354,
          "end_time": "2022-08-17T03:22:30.676574",
          "exception": false,
          "start_time": "2022-08-17T03:22:30.599220",
          "status": "completed"
        },
        "tags": []
      },
      "outputs": [
        {
          "name": "stdout",
          "output_type": "stream",
          "text": [
            "[0 1 8 9]\n",
            "[0 1 2 3]\n"
          ]
        }
      ],
      "source": [
        "Cexti = jnp.stack(list(Cextmap.keys()), 0)\n",
        "Cextj = jnp.stack(list(Cextmap.values()), 0)\n",
        "print(Cexti)\n",
        "print(Cextj)"
      ]
    },
    {
      "cell_type": "markdown",
      "id": "e46d609c",
      "metadata": {
        "papermill": {
          "duration": 0.043259,
          "end_time": "2022-08-17T03:22:30.763237",
          "exception": false,
          "start_time": "2022-08-17T03:22:30.719978",
          "status": "completed"
        },
        "tags": []
      },
      "source": [
        "However, we actually need it as a dense representation:\n",
        "\n",
        "> help needed: can we find a way later on to keep this sparse?"
      ]
    },
    {
      "cell_type": "code",
      "execution_count": 33,
      "id": "25c4ec6e",
      "metadata": {
        "execution": {
          "iopub.execute_input": "2022-08-17T03:22:30.858453Z",
          "iopub.status.busy": "2022-08-17T03:22:30.858019Z",
          "iopub.status.idle": "2022-08-17T03:22:31.019826Z",
          "shell.execute_reply": "2022-08-17T03:22:31.019448Z"
        },
        "papermill": {
          "duration": 0.2133,
          "end_time": "2022-08-17T03:22:31.019933",
          "exception": false,
          "start_time": "2022-08-17T03:22:30.806633",
          "status": "completed"
        },
        "tags": []
      },
      "outputs": [],
      "source": [
        "if JAX_AVAILABLE:\n",
        "    Cext = jnp.zeros((n_col, n_rhs), dtype=complex).at[Cexti, Cextj].set(1.0)\n",
        "    Cext"
      ]
    },
    {
      "cell_type": "markdown",
      "id": "b31cc279",
      "metadata": {
        "papermill": {
          "duration": 0.04338,
          "end_time": "2022-08-17T03:22:31.106743",
          "exception": false,
          "start_time": "2022-08-17T03:22:31.063363",
          "status": "completed"
        },
        "tags": []
      },
      "source": [
        "We'll now calculate the row index `CSi` of $C_{int}S_{bd}$ in COO-format:"
      ]
    },
    {
      "cell_type": "code",
      "execution_count": 34,
      "id": "27a4ae0735425897",
      "metadata": {
        "execution": {
          "iopub.execute_input": "2022-08-17T03:22:31.202506Z",
          "iopub.status.busy": "2022-08-17T03:22:31.202065Z",
          "iopub.status.idle": "2022-08-17T03:22:31.389242Z",
          "shell.execute_reply": "2022-08-17T03:22:31.389596Z"
        },
        "papermill": {
          "duration": 0.239208,
          "end_time": "2022-08-17T03:22:31.389721",
          "exception": false,
          "start_time": "2022-08-17T03:22:31.150513",
          "status": "completed"
        },
        "tags": []
      },
      "outputs": [
        {
          "data": {
            "text/plain": [
              "array([4, 4, 4, 4, 7, 7, 7, 7, 2, 6, 5, 5, 5, 5, 3, 3, 3, 3])"
            ]
          },
          "execution_count": 34,
          "metadata": {},
          "output_type": "execute_result"
        }
      ],
      "source": [
        "# TODO: make this block jittable...\n",
        "Ix = jnp.ones((*batch_shape, n_col))\n",
        "Ii = Ij = jnp.arange(n_col)\n",
        "mask = Cj[None,:] == Si[:, None]\n",
        "CSi = jnp.broadcast_to(Ci[None, :], mask.shape)[mask]\n",
        "CSi"
      ]
    },
    {
      "cell_type": "markdown",
      "id": "a2657582",
      "metadata": {
        "papermill": {
          "duration": 0.043908,
          "end_time": "2022-08-17T03:22:31.477629",
          "exception": false,
          "start_time": "2022-08-17T03:22:31.433721",
          "status": "completed"
        },
        "tags": []
      },
      "source": [
        "> `CSi`: possible jittable alternative? how do we remove the zeros?"
      ]
    },
    {
      "cell_type": "code",
      "execution_count": 35,
      "id": "d4ea2cb5",
      "metadata": {
        "execution": {
          "iopub.execute_input": "2022-08-17T03:22:31.569676Z",
          "iopub.status.busy": "2022-08-17T03:22:31.569224Z",
          "iopub.status.idle": "2022-08-17T03:22:31.614414Z",
          "shell.execute_reply": "2022-08-17T03:22:31.614070Z"
        },
        "papermill": {
          "duration": 0.092892,
          "end_time": "2022-08-17T03:22:31.614513",
          "exception": false,
          "start_time": "2022-08-17T03:22:31.521621",
          "status": "completed"
        },
        "tags": []
      },
      "outputs": [
        {
          "data": {
            "text/plain": [
              "array([0, 0, 0, 0, 0, 0, 0, 0, 4, 4, 4, 4, 7, 7, 7, 7, 2, 6, 5, 5,\n",
              "       5, 5, 3, 3, 3, 3, 0, 0, 0, 0, 0, 0, 0, 0])"
            ]
          },
          "execution_count": 35,
          "metadata": {},
          "output_type": "execute_result"
        }
      ],
      "source": [
        "CSi_ = jnp.where(Cj[None, :] == Si[:, None], Ci[None, :], 0).sum(1) # not used\n",
        "CSi_ # not used"
      ]
    },
    {
      "cell_type": "markdown",
      "id": "44fc620e",
      "metadata": {
        "papermill": {
          "duration": 0.043944,
          "end_time": "2022-08-17T03:22:31.702624",
          "exception": false,
          "start_time": "2022-08-17T03:22:31.658680",
          "status": "completed"
        },
        "tags": []
      },
      "source": [
        "The column index `CSj` of $C_{int}S_{bd}$ can more easily be obtained:"
      ]
    },
    {
      "cell_type": "code",
      "execution_count": 36,
      "id": "f71fdd7c",
      "metadata": {
        "execution": {
          "iopub.execute_input": "2022-08-17T03:22:31.798454Z",
          "iopub.status.busy": "2022-08-17T03:22:31.798023Z",
          "iopub.status.idle": "2022-08-17T03:22:31.877567Z",
          "shell.execute_reply": "2022-08-17T03:22:31.877199Z"
        },
        "papermill": {
          "duration": 0.131157,
          "end_time": "2022-08-17T03:22:31.877670",
          "exception": false,
          "start_time": "2022-08-17T03:22:31.746513",
          "status": "completed"
        },
        "tags": []
      },
      "outputs": [
        {
          "data": {
            "text/plain": [
              "array([0, 1, 2, 3, 0, 1, 2, 3, 5, 4, 6, 7, 8, 9, 6, 7, 8, 9])"
            ]
          },
          "execution_count": 36,
          "metadata": {},
          "output_type": "execute_result"
        }
      ],
      "source": [
        "mask = (Cj[:, None] == Si[None, :]).any(0)\n",
        "CSj = Sj[mask]\n",
        "CSj"
      ]
    },
    {
      "cell_type": "markdown",
      "id": "99bf7684",
      "metadata": {
        "papermill": {
          "duration": 0.044328,
          "end_time": "2022-08-17T03:22:31.966548",
          "exception": false,
          "start_time": "2022-08-17T03:22:31.922220",
          "status": "completed"
        },
        "tags": []
      },
      "source": [
        "> `CSj`: possible jittable alternative? how do we remove the zeros?"
      ]
    },
    {
      "cell_type": "code",
      "execution_count": 37,
      "id": "ffa7bc82",
      "metadata": {
        "execution": {
          "iopub.execute_input": "2022-08-17T03:22:32.057737Z",
          "iopub.status.busy": "2022-08-17T03:22:32.057253Z",
          "iopub.status.idle": "2022-08-17T03:22:32.081981Z",
          "shell.execute_reply": "2022-08-17T03:22:32.081615Z"
        },
        "papermill": {
          "duration": 0.071347,
          "end_time": "2022-08-17T03:22:32.082080",
          "exception": false,
          "start_time": "2022-08-17T03:22:32.010733",
          "status": "completed"
        },
        "tags": []
      },
      "outputs": [
        {
          "data": {
            "text/plain": [
              "array([0, 0, 0, 0, 0, 0, 0, 0, 0, 1, 2, 3, 0, 1, 2, 3, 5, 4, 6, 7,\n",
              "       8, 9, 6, 7, 8, 9, 0, 0, 0, 0, 0, 0, 0, 0])"
            ]
          },
          "execution_count": 37,
          "metadata": {},
          "output_type": "execute_result"
        }
      ],
      "source": [
        "CSj_ = jnp.where(mask, Sj, 0) # not used\n",
        "CSj_ # not used"
      ]
    },
    {
      "cell_type": "markdown",
      "id": "e0fc6d02",
      "metadata": {
        "papermill": {
          "duration": 0.044907,
          "end_time": "2022-08-17T03:22:32.171863",
          "exception": false,
          "start_time": "2022-08-17T03:22:32.126956",
          "status": "completed"
        },
        "tags": []
      },
      "source": [
        "Finally, the values `CSx` of $C_{int}S_{bd}$ can be obtained as follows:"
      ]
    },
    {
      "cell_type": "code",
      "execution_count": 38,
      "id": "59d2e1b2",
      "metadata": {
        "execution": {
          "iopub.execute_input": "2022-08-17T03:22:32.265434Z",
          "iopub.status.busy": "2022-08-17T03:22:32.265019Z",
          "iopub.status.idle": "2022-08-17T03:22:32.289345Z",
          "shell.execute_reply": "2022-08-17T03:22:32.289008Z"
        },
        "papermill": {
          "duration": 0.072627,
          "end_time": "2022-08-17T03:22:32.289441",
          "exception": false,
          "start_time": "2022-08-17T03:22:32.216814",
          "status": "completed"
        },
        "tags": []
      },
      "outputs": [
        {
          "data": {
            "text/plain": [
              "array([0.70710677+0.j        , 0.        +0.70710677j,\n",
              "       0.        +0.j        , 0.        +0.j        ,\n",
              "       0.        +0.70710677j, 0.70710677+0.j        ,\n",
              "       0.        +0.j        , 0.        +0.j        ,\n",
              "       0.5       +0.86603j   , 0.5       +0.86603j   ,\n",
              "       0.        +0.j        , 0.        +0.j        ,\n",
              "       0.70710677+0.j        , 0.        +0.70710677j,\n",
              "       0.        +0.j        , 0.        +0.j        ,\n",
              "       0.        +0.70710677j, 0.70710677+0.j        ],            dtype=complex64))"
            ]
          },
          "execution_count": 38,
          "metadata": {},
          "output_type": "execute_result"
        }
      ],
      "source": [
        "if Sx.ndim > 1:\n",
        "    CSx = Sx[..., mask] # normally this should be enough\n",
        "else:\n",
        "    CSx = Sx[mask] # need separate case bc bug in JAX... see https://github.com/google/jax/issues/9050\n",
        "   \n",
        "CSx"
      ]
    },
    {
      "cell_type": "markdown",
      "id": "c02035bd",
      "metadata": {
        "papermill": {
          "duration": 0.045003,
          "end_time": "2022-08-17T03:22:32.379385",
          "exception": false,
          "start_time": "2022-08-17T03:22:32.334382",
          "status": "completed"
        },
        "tags": []
      },
      "source": [
        "> `CSx`: possible jittable alternative? how do we remove the zeros?"
      ]
    },
    {
      "cell_type": "code",
      "execution_count": 39,
      "id": "107e9e80",
      "metadata": {
        "execution": {
          "iopub.execute_input": "2022-08-17T03:22:32.479608Z",
          "iopub.status.busy": "2022-08-17T03:22:32.479174Z",
          "iopub.status.idle": "2022-08-17T03:22:32.496528Z",
          "shell.execute_reply": "2022-08-17T03:22:32.496829Z"
        },
        "papermill": {
          "duration": 0.072596,
          "end_time": "2022-08-17T03:22:32.496957",
          "exception": false,
          "start_time": "2022-08-17T03:22:32.424361",
          "status": "completed"
        },
        "tags": []
      },
      "outputs": [
        {
          "data": {
            "text/plain": [
              "array([0.        +0.j        , 0.        +0.j        ,\n",
              "       0.        +0.j        , 0.        +0.j        ,\n",
              "       0.        +0.j        , 0.        +0.j        ,\n",
              "       0.        +0.j        , 0.        +0.j        ,\n",
              "       0.70710677+0.j        , 0.        +0.70710677j,\n",
              "       0.        +0.j        , 0.        +0.j        ,\n",
              "       0.        +0.70710677j, 0.70710677+0.j        ,\n",
              "       0.        +0.j        , 0.        +0.j        ,\n",
              "       0.5       +0.86603j   , 0.5       +0.86603j   ,\n",
              "       0.        +0.j        , 0.        +0.j        ,\n",
              "       0.70710677+0.j        , 0.        +0.70710677j,\n",
              "       0.        +0.j        , 0.        +0.j        ,\n",
              "       0.        +0.70710677j, 0.70710677+0.j        ,\n",
              "       0.        +0.j        , 0.        +0.j        ,\n",
              "       0.        +0.j        , 0.        +0.j        ,\n",
              "       0.        +0.j        , 0.        +0.j        ,\n",
              "       0.        +0.j        , 0.        +0.j        ],            dtype=complex64))"
            ]
          },
          "execution_count": 39,
          "metadata": {},
          "output_type": "execute_result"
        }
      ],
      "source": [
        "CSx_ = jnp.where(mask, Sx, 0.0) # not used\n",
        "CSx_ # not used"
      ]
    },
    {
      "cell_type": "markdown",
      "id": "9411edf5",
      "metadata": {
        "papermill": {
          "duration": 0.045824,
          "end_time": "2022-08-17T03:22:32.588323",
          "exception": false,
          "start_time": "2022-08-17T03:22:32.542499",
          "status": "completed"
        },
        "tags": []
      },
      "source": [
        "Now we calculate $\\mathbb{1} - C_{int}S_{bd}$ in an *uncoalesced* way (we might have duplicate indices on the diagonal):\n",
        "\n",
        "> **uncoalesced**: having duplicate index combinations (i, j) in the representation possibly with different corresponding values. This is usually not a problem as in linear operations these values will end up to be summed, usually the behavior you want:"
      ]
    },
    {
      "cell_type": "code",
      "execution_count": 40,
      "id": "53c3f4ab",
      "metadata": {
        "execution": {
          "iopub.execute_input": "2022-08-17T03:22:32.686337Z",
          "iopub.status.busy": "2022-08-17T03:22:32.685909Z",
          "iopub.status.idle": "2022-08-17T03:22:32.745198Z",
          "shell.execute_reply": "2022-08-17T03:22:32.745560Z"
        },
        "papermill": {
          "duration": 0.112089,
          "end_time": "2022-08-17T03:22:32.745691",
          "exception": false,
          "start_time": "2022-08-17T03:22:32.633602",
          "status": "completed"
        },
        "tags": []
      },
      "outputs": [
        {
          "name": "stdout",
          "output_type": "stream",
          "text": [
            "[4 4 4 4 7 7 7 7 2 6 5 5 5 5 3 3 3 3 0 1 2 3 4 5 6 7 8 9]\n",
            "[0 1 2 3 0 1 2 3 5 4 6 7 8 9 6 7 8 9 0 1 2 3 4 5 6 7 8 9]\n",
            "[-0.70710677-0.j         -0.        -0.70710677j -0.        -0.j\n",
            " -0.        -0.j         -0.        -0.70710677j -0.70710677-0.j\n",
            " -0.        -0.j         -0.        -0.j         -0.5       -0.86603j\n",
            " -0.5       -0.86603j    -0.        -0.j         -0.        -0.j\n",
            " -0.70710677-0.j         -0.        -0.70710677j -0.        -0.j\n",
            " -0.        -0.j         -0.        -0.70710677j -0.70710677-0.j\n",
            "  1.        +0.j          1.        +0.j          1.        +0.j\n",
            "  1.        +0.j          1.        +0.j          1.        +0.j\n",
            "  1.        +0.j          1.        +0.j          1.        +0.j\n",
            "  1.        +0.j        ]\n"
          ]
        }
      ],
      "source": [
        "I_CSi = jnp.concatenate([CSi, Ii], -1)\n",
        "I_CSj = jnp.concatenate([CSj, Ij], -1)\n",
        "I_CSx = jnp.concatenate([-CSx, Ix], -1)\n",
        "print(I_CSi)\n",
        "print(I_CSj)\n",
        "print(I_CSx)"
      ]
    },
    {
      "cell_type": "code",
      "execution_count": 41,
      "id": "188e4606",
      "metadata": {
        "execution": {
          "iopub.execute_input": "2022-08-17T03:22:32.840595Z",
          "iopub.status.busy": "2022-08-17T03:22:32.840181Z",
          "iopub.status.idle": "2022-08-17T03:22:32.842645Z",
          "shell.execute_reply": "2022-08-17T03:22:32.842297Z"
        },
        "papermill": {
          "duration": 0.051347,
          "end_time": "2022-08-17T03:22:32.842736",
          "exception": false,
          "start_time": "2022-08-17T03:22:32.791389",
          "status": "completed"
        },
        "tags": []
      },
      "outputs": [
        {
          "name": "stdout",
          "output_type": "stream",
          "text": [
            "10 4\n"
          ]
        }
      ],
      "source": [
        "if JAX_AVAILABLE:\n",
        "    n_col, n_rhs = Cext.shape\n",
        "    print(n_col, n_rhs)"
      ]
    },
    {
      "cell_type": "markdown",
      "id": "e018c515",
      "metadata": {
        "papermill": {
          "duration": 0.045827,
          "end_time": "2022-08-17T03:22:32.934682",
          "exception": false,
          "start_time": "2022-08-17T03:22:32.888855",
          "status": "completed"
        },
        "tags": []
      },
      "source": [
        "The batch shape dimension can generally speaking be anything (in the example here 0D). We need to do the necessary reshapings to make the batch shape 1D:"
      ]
    },
    {
      "cell_type": "code",
      "execution_count": 42,
      "id": "dad259e7",
      "metadata": {
        "execution": {
          "iopub.execute_input": "2022-08-17T03:22:33.035559Z",
          "iopub.status.busy": "2022-08-17T03:22:33.035122Z",
          "iopub.status.idle": "2022-08-17T03:22:33.047136Z",
          "shell.execute_reply": "2022-08-17T03:22:33.046793Z"
        },
        "papermill": {
          "duration": 0.066336,
          "end_time": "2022-08-17T03:22:33.047235",
          "exception": false,
          "start_time": "2022-08-17T03:22:32.980899",
          "status": "completed"
        },
        "tags": []
      },
      "outputs": [
        {
          "name": "stdout",
          "output_type": "stream",
          "text": [
            "1\n"
          ]
        }
      ],
      "source": [
        "n_lhs = jnp.prod(jnp.array(batch_shape, dtype=jnp.int32))\n",
        "print(n_lhs)"
      ]
    },
    {
      "cell_type": "code",
      "execution_count": 43,
      "id": "9cf69da7",
      "metadata": {
        "execution": {
          "iopub.execute_input": "2022-08-17T03:22:33.147108Z",
          "iopub.status.busy": "2022-08-17T03:22:33.146683Z",
          "iopub.status.idle": "2022-08-17T03:22:33.158991Z",
          "shell.execute_reply": "2022-08-17T03:22:33.158654Z"
        },
        "papermill": {
          "duration": 0.065684,
          "end_time": "2022-08-17T03:22:33.159089",
          "exception": false,
          "start_time": "2022-08-17T03:22:33.093405",
          "status": "completed"
        },
        "tags": []
      },
      "outputs": [
        {
          "data": {
            "text/plain": [
              "(1, 34)"
            ]
          },
          "execution_count": 43,
          "metadata": {},
          "output_type": "execute_result"
        }
      ],
      "source": [
        "Sx = Sx.reshape(n_lhs, -1)\n",
        "Sx.shape"
      ]
    },
    {
      "cell_type": "code",
      "execution_count": 44,
      "id": "788294fa",
      "metadata": {
        "execution": {
          "iopub.execute_input": "2022-08-17T03:22:33.260686Z",
          "iopub.status.busy": "2022-08-17T03:22:33.260255Z",
          "iopub.status.idle": "2022-08-17T03:22:33.273189Z",
          "shell.execute_reply": "2022-08-17T03:22:33.272851Z"
        },
        "papermill": {
          "duration": 0.067538,
          "end_time": "2022-08-17T03:22:33.273286",
          "exception": false,
          "start_time": "2022-08-17T03:22:33.205748",
          "status": "completed"
        },
        "tags": []
      },
      "outputs": [
        {
          "data": {
            "text/plain": [
              "(1, 28)"
            ]
          },
          "execution_count": 44,
          "metadata": {},
          "output_type": "execute_result"
        }
      ],
      "source": [
        "I_CSx = I_CSx.reshape(n_lhs, -1)\n",
        "I_CSx.shape"
      ]
    },
    {
      "cell_type": "markdown",
      "id": "ec741031",
      "metadata": {
        "papermill": {
          "duration": 0.04685,
          "end_time": "2022-08-17T03:22:33.367456",
          "exception": false,
          "start_time": "2022-08-17T03:22:33.320606",
          "status": "completed"
        },
        "tags": []
      },
      "source": [
        "We're finally ready to do the most important part of the calculation, which we conveniently leave to `klujax` and `SuiteSparse`:"
      ]
    },
    {
      "cell_type": "code",
      "execution_count": 45,
      "id": "9c1d8644",
      "metadata": {
        "execution": {
          "iopub.execute_input": "2022-08-17T03:22:33.467425Z",
          "iopub.status.busy": "2022-08-17T03:22:33.466990Z",
          "iopub.status.idle": "2022-08-17T03:22:33.468555Z",
          "shell.execute_reply": "2022-08-17T03:22:33.468209Z"
        },
        "papermill": {
          "duration": 0.054657,
          "end_time": "2022-08-17T03:22:33.468647",
          "exception": false,
          "start_time": "2022-08-17T03:22:33.413990",
          "status": "completed"
        },
        "tags": []
      },
      "outputs": [],
      "source": [
        "if klujax is not None:\n",
        "    inv_I_CS_Cext = solve_klu(I_CSi, I_CSj, I_CSx, Cext)\n",
        "else:\n",
        "    inv_I_CS_Cext = jnp.array([[[1.0 + 0.0j, 0.0 + 0.0j, 0.0 + 0.0j, 0.0 + 0.0j], [0.0 + 0.0j, 1.0 + 0.0j, 0.0 + 0.0j, 0.0 + 0.0j], [ -0.0 + 0.0j, -0.0 + 0.0j, 0.35355339 + 0.61237569j, -0.61237569 + 0.35355339j, ], [0.0 + 0.0j, 0.0 + 0.0j, 0.0 + 0.70710678j, 0.70710678 + 0.0j], [0.70710678 - 0.0j, -0.0 + 0.70710678j, -0.0 - 0.0j, -0.0 - 0.0j], [-0.0 - 0.0j, -0.0 - 0.0j, 0.70710678 - 0.0j, -0.0 + 0.70710678j], [ 0.35355339 + 0.61237569j, -0.61237569 + 0.35355339j, -0.0 + 0.0j, -0.0 + 0.0j, ], [0.0 + 0.70710678j, 0.70710678 + 0.0j, 0.0 + 0.0j, 0.0 + 0.0j], [0.0 + 0.0j, 0.0 + 0.0j, 1.0 + 0.0j, 0.0 + 0.0j], [0.0 + 0.0j, 0.0 + 0.0j, 0.0 + 0.0j, 1.0 + 0.0j]]])"
      ]
    },
    {
      "cell_type": "markdown",
      "id": "e51487df",
      "metadata": {
        "papermill": {
          "duration": 0.046484,
          "end_time": "2022-08-17T03:22:33.561847",
          "exception": false,
          "start_time": "2022-08-17T03:22:33.515363",
          "status": "completed"
        },
        "tags": []
      },
      "source": [
        "one more sparse multiplication:"
      ]
    },
    {
      "cell_type": "code",
      "execution_count": 46,
      "id": "cccda072",
      "metadata": {
        "execution": {
          "iopub.execute_input": "2022-08-17T03:22:33.661619Z",
          "iopub.status.busy": "2022-08-17T03:22:33.661158Z",
          "iopub.status.idle": "2022-08-17T03:22:33.662797Z",
          "shell.execute_reply": "2022-08-17T03:22:33.662445Z"
        },
        "papermill": {
          "duration": 0.054308,
          "end_time": "2022-08-17T03:22:33.662891",
          "exception": false,
          "start_time": "2022-08-17T03:22:33.608583",
          "status": "completed"
        },
        "tags": []
      },
      "outputs": [],
      "source": [
        "if klujax is not None:\n",
        "    S_inv_I_CS_Cext = mul_coo(Si, Sj, Sx, inv_I_CS_Cext)\n",
        "else:\n",
        "    S_inv_I_CS_Cext = jnp.array([[[0.0 + 0.0j, 0.0 + 0.0j, -0.25 + 0.433015j, -0.433015 + 0.75j], [0.0 + 0.0j, 0.0 + 0.0j, -0.433015 + 0.75j, 0.25 - 0.433015j], [0.70710678 + 0.0j, 0.0 + 0.70710678j, 0.0 + 0.0j, 0.0 + 0.0j], [0.0 + 0.70710678j, 0.70710678 + 0.0j, 0.0 + 0.0j, 0.0 + 0.0j], [ 0.0 + 0.0j, 0.0 + 0.0j, 0.35355339 + 0.61237569j, -0.61237569 + 0.35355339j, ], [ 0.35355339 + 0.61237569j, -0.61237569 + 0.35355339j, 0.0 + 0.0j, 0.0 + 0.0j, ], [0.0 + 0.0j, 0.0 + 0.0j, 0.70710678 + 0.0j, 0.0 + 0.70710678j], [0.0 + 0.0j, 0.0 + 0.0j, 0.0 + 0.70710678j, 0.70710678 + 0.0j], [-0.25 + 0.433015j, -0.433015 + 0.75j, 0.0 + 0.0j, 0.0 + 0.0j], [-0.433015 + 0.75j, 0.25 - 0.433015j, 0.0 + 0.0j, 0.0 + 0.0j]]])"
      ]
    },
    {
      "cell_type": "markdown",
      "id": "627a98f7",
      "metadata": {
        "papermill": {
          "duration": 0.046704,
          "end_time": "2022-08-17T03:22:33.756420",
          "exception": false,
          "start_time": "2022-08-17T03:22:33.709716",
          "status": "completed"
        },
        "tags": []
      },
      "source": [
        "And one more $C_{ext}$ multiplication which we do by clever indexing:"
      ]
    },
    {
      "cell_type": "code",
      "execution_count": 47,
      "id": "12ff877c",
      "metadata": {
        "execution": {
          "iopub.execute_input": "2022-08-17T03:22:33.856795Z",
          "iopub.status.busy": "2022-08-17T03:22:33.856358Z",
          "iopub.status.idle": "2022-08-17T03:22:33.857910Z",
          "shell.execute_reply": "2022-08-17T03:22:33.858283Z"
        },
        "papermill": {
          "duration": 0.055277,
          "end_time": "2022-08-17T03:22:33.858400",
          "exception": false,
          "start_time": "2022-08-17T03:22:33.803123",
          "status": "completed"
        },
        "tags": []
      },
      "outputs": [
        {
          "data": {
            "text/plain": [
              "array([[[ 0.      +0.j      ,  0.      +0.j      ,\n",
              "         -0.25    +0.433015j, -0.433015+0.75j    ],\n",
              "        [ 0.      +0.j      ,  0.      +0.j      ,\n",
              "         -0.433015+0.75j    ,  0.25    -0.433015j],\n",
              "        [-0.25    +0.433015j, -0.433015+0.75j    ,\n",
              "          0.      +0.j      ,  0.      +0.j      ],\n",
              "        [-0.433015+0.75j    ,  0.25    -0.433015j,\n",
              "          0.      +0.j      ,  0.      +0.j      ]]],            dtype=complex64))"
            ]
          },
          "execution_count": 47,
          "metadata": {},
          "output_type": "execute_result"
        }
      ],
      "source": [
        "if klujax is not None:\n",
        "    CextT_S_inv_I_CS_Cext = S_inv_I_CS_Cext[..., Cexti, :][..., :, Cextj]\n",
        "else:\n",
        "    CextT_S_inv_I_CS_Cext = jnp.array([[[0.0 + 0.0j, 0.0 + 0.0j, -0.25 + 0.433015j, -0.433015 + 0.75j], [0.0 + 0.0j, 0.0 + 0.0j, -0.433015 + 0.75j, 0.25 - 0.433015j], [-0.25 + 0.433015j, -0.433015 + 0.75j, 0.0 + 0.0j, 0.0 + 0.0j], [-0.433015 + 0.75j, 0.25 - 0.433015j, 0.0 + 0.0j, 0.0 + 0.0j]]])\n",
        "CextT_S_inv_I_CS_Cext"
      ]
    },
    {
      "cell_type": "markdown",
      "id": "3e1c75b2",
      "metadata": {
        "papermill": {
          "duration": 0.046831,
          "end_time": "2022-08-17T03:22:33.952654",
          "exception": false,
          "start_time": "2022-08-17T03:22:33.905823",
          "status": "completed"
        },
        "tags": []
      },
      "source": [
        "That's it! We found the S-matrix of the circuit. We just need to reshape the batch dimension back into the matrix:"
      ]
    },
    {
      "cell_type": "code",
      "execution_count": 48,
      "id": "cbf962af",
      "metadata": {
        "execution": {
          "iopub.execute_input": "2022-08-17T03:22:34.054643Z",
          "iopub.status.busy": "2022-08-17T03:22:34.054220Z",
          "iopub.status.idle": "2022-08-17T03:22:34.067687Z",
          "shell.execute_reply": "2022-08-17T03:22:34.067351Z"
        },
        "papermill": {
          "duration": 0.068112,
          "end_time": "2022-08-17T03:22:34.067785",
          "exception": false,
          "start_time": "2022-08-17T03:22:33.999673",
          "status": "completed"
        },
        "tags": []
      },
      "outputs": [
        {
          "data": {
            "text/plain": [
              "array([[ 0.      +0.j      ,  0.      +0.j      ,\n",
              "        -0.25    +0.433015j, -0.433015+0.75j    ],\n",
              "       [ 0.      +0.j      ,  0.      +0.j      ,\n",
              "        -0.433015+0.75j    ,  0.25    -0.433015j],\n",
              "       [-0.25    +0.433015j, -0.433015+0.75j    ,\n",
              "         0.      +0.j      ,  0.      +0.j      ],\n",
              "       [-0.433015+0.75j    ,  0.25    -0.433015j,\n",
              "         0.      +0.j      ,  0.      +0.j      ]])"
            ]
          },
          "execution_count": 48,
          "metadata": {},
          "output_type": "execute_result"
        }
      ],
      "source": [
        "_, n, _ = CextT_S_inv_I_CS_Cext.shape\n",
        "S = CextT_S_inv_I_CS_Cext.reshape(*batch_shape, n, n)\n",
        "S"
      ]
    },
    {
      "cell_type": "markdown",
      "id": "1f6dea4c",
      "metadata": {
        "papermill": {
          "duration": 0.047112,
          "end_time": "2022-08-17T03:22:34.162339",
          "exception": false,
          "start_time": "2022-08-17T03:22:34.115227",
          "status": "completed"
        },
        "tags": []
      },
      "source": [
        "Oh and to complete the `SDense` representation we need to specify the port map as well:"
      ]
    },
    {
      "cell_type": "code",
      "execution_count": 49,
      "id": "21098a45",
      "metadata": {
        "execution": {
          "iopub.execute_input": "2022-08-17T03:22:34.261166Z",
          "iopub.status.busy": "2022-08-17T03:22:34.260752Z",
          "iopub.status.idle": "2022-08-17T03:22:34.262261Z",
          "shell.execute_reply": "2022-08-17T03:22:34.262634Z"
        },
        "papermill": {
          "duration": 0.052858,
          "end_time": "2022-08-17T03:22:34.262744",
          "exception": false,
          "start_time": "2022-08-17T03:22:34.209886",
          "status": "completed"
        },
        "tags": []
      },
      "outputs": [
        {
          "data": {
            "text/plain": [
              "{'in0': 0, 'in1': 1, 'out0': 2, 'out1': 3}"
            ]
          },
          "execution_count": 49,
          "metadata": {},
          "output_type": "execute_result"
        }
      ],
      "source": [
        "port_map"
      ]
    },
    {
      "cell_type": "markdown",
      "id": "0cfee3cf",
      "metadata": {
        "papermill": {
          "duration": 0.047386,
          "end_time": "2022-08-17T03:22:34.357390",
          "exception": false,
          "start_time": "2022-08-17T03:22:34.310004",
          "status": "completed"
        },
        "tags": []
      },
      "source": [
        "## Algorithm Improvements"
      ]
    },
    {
      "cell_type": "markdown",
      "id": "26b70270",
      "metadata": {
        "papermill": {
          "duration": 0.047782,
          "end_time": "2022-08-17T03:22:34.452498",
          "exception": false,
          "start_time": "2022-08-17T03:22:34.404716",
          "status": "completed"
        },
        "tags": []
      },
      "source": [
        "This algorithm is \n",
        "\n",
        "* very fast for large circuits \ud83d\ude42\n",
        "\n",
        "This algorithm is however:\n",
        "\n",
        "* **not** jittable \ud83d\ude25\n",
        "* **not** differentiable \ud83d\ude25\n",
        "* **not** GPU-compatible \ud83d\ude42\n",
        "\n",
        "There are probably still plenty of improvements possible for this algorithm:\n",
        "\n",
        "* **\u00bf** make it jittable **?**\n",
        "* **\u00bf** make it differentiable (requires making klujax differentiable first) **?**\n",
        "* **\u00bf** make it GPU compatible (requires making suitesparse GPU compatible... probably not gonna happen)**?**\n",
        "\n",
        "Bottom line is... Do you know how to improve this algorithm or how to implement the above suggestions? Please open a Merge Request!"
      ]
    }
  ],
  "metadata": {
    "kernelspec": {
      "display_name": "sax",
      "language": "python",
      "name": "sax"
    },
    "language_info": {
      "codemirror_mode": {
        "name": "ipython",
        "version": 3
      },
      "file_extension": ".py",
      "mimetype": "text/x-python",
      "name": "python",
      "nbconvert_exporter": "python",
      "pygments_lexer": "ipython3",
      "version": "3.9.0"
    },
    "papermill": {
      "default_parameters": {},
      "duration": 16.459368,
      "end_time": "2022-08-17T03:22:37.258358",
      "environment_variables": {},
      "exception": null,
      "input_path": "./nbs/07b_backends_klu.ipynb",
      "output_path": "./nbs/07b_backends_klu.ipynb",
      "parameters": {},
      "start_time": "2022-08-17T03:22:20.798990",
      "version": "2.3.4"
    }
  },
  "nbformat": 4,
  "nbformat_minor": 5
}
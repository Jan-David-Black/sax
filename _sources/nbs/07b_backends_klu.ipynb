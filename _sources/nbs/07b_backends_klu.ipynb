{
  "cells": [
    {
      "cell_type": "code",
      "execution_count": 1,
      "id": "c2e4e41023dbdbb1",
      "metadata": {
        "execution": {
          "iopub.execute_input": "2022-08-10T16:02:00.556245Z",
          "iopub.status.busy": "2022-08-10T16:02:00.555779Z",
          "iopub.status.idle": "2022-08-10T16:02:00.558732Z",
          "shell.execute_reply": "2022-08-10T16:02:00.558304Z"
        },
        "papermill": {
          "duration": 0.049243,
          "end_time": "2022-08-10T16:02:00.558853",
          "exception": false,
          "start_time": "2022-08-10T16:02:00.509610",
          "status": "completed"
        },
        "tags": [
          "remove-cell"
        ]
      },
      "outputs": [],
      "source": []
    },
    {
      "cell_type": "markdown",
      "id": "27c3489e",
      "metadata": {
        "papermill": {
          "duration": 0.040067,
          "end_time": "2022-08-10T16:02:00.641045",
          "exception": false,
          "start_time": "2022-08-10T16:02:00.600978",
          "status": "completed"
        },
        "tags": []
      },
      "source": [
        "# Backend - KLU\n",
        "\n",
        "> SAX KLU Backend"
      ]
    },
    {
      "cell_type": "code",
      "execution_count": 2,
      "id": "d7344cf6fefeb24f",
      "metadata": {
        "execution": {
          "iopub.execute_input": "2022-08-10T16:02:00.730452Z",
          "iopub.status.busy": "2022-08-10T16:02:00.730008Z",
          "iopub.status.idle": "2022-08-10T16:02:02.343410Z",
          "shell.execute_reply": "2022-08-10T16:02:02.342950Z"
        },
        "papermill": {
          "duration": 1.662151,
          "end_time": "2022-08-10T16:02:02.343541",
          "exception": false,
          "start_time": "2022-08-10T16:02:00.681390",
          "status": "completed"
        },
        "tags": [
          "remove-cell"
        ]
      },
      "outputs": [],
      "source": [
        "import sax\n",
        "import matplotlib.pyplot as plt\n",
        "from fastcore.test import test_eq\n",
        "from pytest import approx, raises\n",
        "from nbdev import show_doc\n",
        "\n",
        "import os, sys; sys.stderr = open(os.devnull, \"w\")"
      ]
    },
    {
      "cell_type": "code",
      "execution_count": 3,
      "id": "2a55d6cbb2412c3e",
      "metadata": {
        "execution": {
          "iopub.execute_input": "2022-08-10T16:02:02.434992Z",
          "iopub.status.busy": "2022-08-10T16:02:02.434537Z",
          "iopub.status.idle": "2022-08-10T16:02:02.436653Z",
          "shell.execute_reply": "2022-08-10T16:02:02.436308Z"
        },
        "papermill": {
          "duration": 0.051624,
          "end_time": "2022-08-10T16:02:02.436755",
          "exception": false,
          "start_time": "2022-08-10T16:02:02.385131",
          "status": "completed"
        },
        "tags": [
          "hide-input"
        ]
      },
      "outputs": [],
      "source": [
        "from __future__ import annotations\n",
        "\n",
        "from typing import Dict\n",
        "\n",
        "    \n",
        "from sax.typing_ import SDense, SDict, SType, scoo\n",
        "from sax.backends import evaluate_circuit\n",
        "\n",
        "try:\n",
        "    import klujax\n",
        "except ImportError:\n",
        "    klujax = None\n",
        "    \n",
        "try:\n",
        "    import jax\n",
        "    import jax.numpy as jnp\n",
        "    JAX_AVAILABLE = True\n",
        "except ImportError:\n",
        "    import numpy as jnp\n",
        "    JAX_AVAILABLE = False"
      ]
    },
    {
      "cell_type": "markdown",
      "id": "64e42767",
      "metadata": {
        "papermill": {
          "duration": 0.040549,
          "end_time": "2022-08-10T16:02:02.517677",
          "exception": false,
          "start_time": "2022-08-10T16:02:02.477128",
          "status": "completed"
        },
        "tags": []
      },
      "source": [
        "## Citation\n",
        "The KLU backend is using `klujax`, which uses the [SuiteSparse](https://github.com/DrTimothyAldenDavis/SuiteSparse) C++ libraries for sparse matrix evaluations to evaluate the circuit insanely fast on a CPU. The specific algorith being used in question is the KLU algorithm:\n",
        "\n",
        "> Ekanathan Palamadai Natariajan. \"*KLU - A high performance sparse linear solver for circuit simulation problems.*\""
      ]
    },
    {
      "cell_type": "markdown",
      "id": "2db5821c",
      "metadata": {
        "papermill": {
          "duration": 0.040604,
          "end_time": "2022-08-10T16:02:02.598814",
          "exception": false,
          "start_time": "2022-08-10T16:02:02.558210",
          "status": "completed"
        },
        "tags": []
      },
      "source": [
        "## Theoretical Background"
      ]
    },
    {
      "cell_type": "markdown",
      "id": "3d4d4a4c",
      "metadata": {
        "papermill": {
          "duration": 0.040086,
          "end_time": "2022-08-10T16:02:02.679329",
          "exception": false,
          "start_time": "2022-08-10T16:02:02.639243",
          "status": "completed"
        },
        "tags": []
      },
      "source": [
        "The core of the KLU algorithm is supported by `klujax`, which internally uses the Suitesparse libraries to solve the sparse system `Ax = b`, in which A is a sparse matrix."
      ]
    },
    {
      "cell_type": "markdown",
      "id": "a1985f58",
      "metadata": {
        "papermill": {
          "duration": 0.075395,
          "end_time": "2022-08-10T16:02:02.795332",
          "exception": false,
          "start_time": "2022-08-10T16:02:02.719937",
          "status": "completed"
        },
        "tags": []
      },
      "source": [
        "Now it only comes down to shoehorn our circuit evaluation into a sparse linear system of equations $Ax=b$ where we need to solve for $x$ using `klujax`. \n",
        "Consider the block diagonal matrix $S_{bd}$ of all components in the circuit acting on the fields $x_{in}$ at each of the individual ports of each of the component integrated in $S^{bd}$. The output fields $x^{out}$ at each of those ports is then given by:\n",
        "\n",
        "$$\n",
        "x^{out} = S_{bd} x^{in}\n",
        "$$"
      ]
    },
    {
      "cell_type": "markdown",
      "id": "9c26c04a",
      "metadata": {
        "papermill": {
          "duration": 0.039961,
          "end_time": "2022-08-10T16:02:02.875163",
          "exception": false,
          "start_time": "2022-08-10T16:02:02.835202",
          "status": "completed"
        },
        "tags": []
      },
      "source": [
        "However, $S_{bd}$ is not the S-matrix of the circuit as it does not encode any connectivity *between* the components. Connecting two component ports basically comes down to enforcing equality between the output fields at one port of a component with the input fields at another port of another (or maybe even the same) component. This equality can be enforced by creating an internal connection matrix, connecting all internal ports of the circuit:\n",
        "\n",
        "$$\n",
        "x^{in} = C_{int} x^{out}\n",
        "$$"
      ]
    },
    {
      "cell_type": "markdown",
      "id": "16b3fdad",
      "metadata": {
        "papermill": {
          "duration": 0.040411,
          "end_time": "2022-08-10T16:02:02.955724",
          "exception": false,
          "start_time": "2022-08-10T16:02:02.915313",
          "status": "completed"
        },
        "tags": []
      },
      "source": [
        "We can thus write the following combined equation:\n",
        "\n",
        "$$\n",
        "x^{in} = C_{int} S_{bd} x^{in}\n",
        "$$"
      ]
    },
    {
      "cell_type": "markdown",
      "id": "f5ceb9a2",
      "metadata": {
        "papermill": {
          "duration": 0.040713,
          "end_time": "2022-08-10T16:02:03.037249",
          "exception": false,
          "start_time": "2022-08-10T16:02:02.996536",
          "status": "completed"
        },
        "tags": []
      },
      "source": [
        "But this is not the complete story... Some component ports will *not* be *interconnected* with other ports: they will become the new *external ports* (or output ports) of the combined circuit. We can include those external ports into the above equation as follows:\n",
        "\n",
        "$$\n",
        "\\begin{pmatrix} x^{in} \\\\ x^{out}_{ext} \\end{pmatrix} = \\begin{pmatrix} C_{int} & C_{ext} \\\\ C_{ext}^T & 0 \\end{pmatrix} \\begin{pmatrix} S_{bd} x^{in} \\\\ x_{ext}^{in} \\end{pmatrix} \n",
        "$$"
      ]
    },
    {
      "cell_type": "markdown",
      "id": "6382a242",
      "metadata": {
        "papermill": {
          "duration": 0.040716,
          "end_time": "2022-08-10T16:02:03.118593",
          "exception": false,
          "start_time": "2022-08-10T16:02:03.077877",
          "status": "completed"
        },
        "tags": []
      },
      "source": [
        "Note that $C_{ext}$ is obviously **not** a square matrix. Eliminating $x^{in}$ from the equation above finally yields:\n",
        "\n",
        "$$\n",
        "x^{out}_{ext} = C^T_{ext} S_{bd} (\\mathbb{1} - C_{int}S_{bd})^{-1} C_{ext}x_{ext}^{in}\n",
        "$$"
      ]
    },
    {
      "cell_type": "markdown",
      "id": "5f15bdcd",
      "metadata": {
        "papermill": {
          "duration": 0.040703,
          "end_time": "2022-08-10T16:02:03.200148",
          "exception": false,
          "start_time": "2022-08-10T16:02:03.159445",
          "status": "completed"
        },
        "tags": []
      },
      "source": [
        "We basically found a representation of the circuit S-matrix:\n",
        "\n",
        "$$\n",
        "S = C^T_{ext} S_{bd} (\\mathbb{1} - C_{int}S_{bd})^{-1} C_{ext}\n",
        "$$"
      ]
    },
    {
      "cell_type": "markdown",
      "id": "40ad83b8",
      "metadata": {
        "papermill": {
          "duration": 0.040399,
          "end_time": "2022-08-10T16:02:03.280605",
          "exception": false,
          "start_time": "2022-08-10T16:02:03.240206",
          "status": "completed"
        },
        "tags": []
      },
      "source": [
        "Obviously, we won't want to calculate the inverse $(\\mathbb{1} - C_{int}S_{bd})^{-1}$, which is the inverse of a very sparse matrix (a connection matrix only has a single 1 per line), which very often is not even sparse itself. In stead we'll use the `solve_klu` function:\n",
        "\n",
        "$$\n",
        "S = C^T_{ext} S_{bd} \\texttt{solve}\\_\\texttt{klu}\\left((\\mathbb{1} - C_{int}S_{bd}), C_{ext}\\right)\n",
        "$$"
      ]
    },
    {
      "cell_type": "markdown",
      "id": "018fab3d",
      "metadata": {
        "papermill": {
          "duration": 0.040626,
          "end_time": "2022-08-10T16:02:03.361622",
          "exception": false,
          "start_time": "2022-08-10T16:02:03.320996",
          "status": "completed"
        },
        "tags": []
      },
      "source": [
        "Moreover, $C_{ext}^TS_{bd}$ is also a sparse matrix, therefore we'll also need a `mul_coo` routine:\n",
        "\n",
        "$$\n",
        "S = C^T_{ext} \\texttt{mul}\\_\\texttt{coo}\\left(S_{bd},~~\\texttt{solve}\\_\\texttt{klu}\\left((\\mathbb{1} - C_{int}S_{bd}),~C_{ext}\\right)\\right)\n",
        "$$"
      ]
    },
    {
      "cell_type": "markdown",
      "id": "d9b78852",
      "metadata": {
        "papermill": {
          "duration": 0.040302,
          "end_time": "2022-08-10T16:02:03.441993",
          "exception": false,
          "start_time": "2022-08-10T16:02:03.401691",
          "status": "completed"
        },
        "tags": []
      },
      "source": [
        "## Sparse Helper Functions"
      ]
    },
    {
      "cell_type": "code",
      "execution_count": 4,
      "id": "872f8b8e501cf4bf",
      "metadata": {
        "execution": {
          "iopub.execute_input": "2022-08-10T16:02:03.526108Z",
          "iopub.status.busy": "2022-08-10T16:02:03.525670Z",
          "iopub.status.idle": "2022-08-10T16:02:03.527208Z",
          "shell.execute_reply": "2022-08-10T16:02:03.527602Z"
        },
        "papermill": {
          "duration": 0.045831,
          "end_time": "2022-08-10T16:02:03.527751",
          "exception": false,
          "start_time": "2022-08-10T16:02:03.481920",
          "status": "completed"
        },
        "tags": [
          "remove-input"
        ]
      },
      "outputs": [],
      "source": [
        "if klujax is not None:\n",
        "    show_doc(klujax.solve, doc_string=False, name=\"klujax.solve\")"
      ]
    },
    {
      "cell_type": "markdown",
      "id": "01299d5d",
      "metadata": {
        "papermill": {
          "duration": 0.040001,
          "end_time": "2022-08-10T16:02:03.607705",
          "exception": false,
          "start_time": "2022-08-10T16:02:03.567704",
          "status": "completed"
        },
        "tags": []
      },
      "source": [
        "`klujax.solve` solves the sparse system of equations `Ax=b` for `x`. Where `A` is represented by in [COO-format](https://en.wikipedia.org/wiki/Sparse_matrix#Coordinate_list_(COO)) as (`Ai`, `Aj`, `Ax`).\n",
        "\n",
        "> Example"
      ]
    },
    {
      "cell_type": "code",
      "execution_count": 5,
      "id": "63e7977a",
      "metadata": {
        "execution": {
          "iopub.execute_input": "2022-08-10T16:02:03.694777Z",
          "iopub.status.busy": "2022-08-10T16:02:03.694340Z",
          "iopub.status.idle": "2022-08-10T16:02:03.708299Z",
          "shell.execute_reply": "2022-08-10T16:02:03.707922Z"
        },
        "papermill": {
          "duration": 0.060534,
          "end_time": "2022-08-10T16:02:03.708399",
          "exception": false,
          "start_time": "2022-08-10T16:02:03.647865",
          "status": "completed"
        },
        "tags": []
      },
      "outputs": [
        {
          "data": {
            "text/plain": [
              "array([6. , 1. , 0.5, 0.5, 2. ])"
            ]
          },
          "execution_count": 5,
          "metadata": {},
          "output_type": "execute_result"
        }
      ],
      "source": [
        "Ai = jnp.array([0, 1, 2, 3, 4])\n",
        "Aj = jnp.array([1, 3, 4, 0, 2])\n",
        "Ax = jnp.array([5, 6, 1, 1, 2])\n",
        "b = jnp.array([5, 3, 2, 6, 1])\n",
        "\n",
        "if klujax is not None:\n",
        "    x = klujax.solve(Ai, Aj, Ax, b)\n",
        "else:\n",
        "    x = jnp.array([6.0, 1.0, 0.5, 0.5, 2.0])\n",
        "\n",
        "x"
      ]
    },
    {
      "cell_type": "markdown",
      "id": "3233b04c",
      "metadata": {
        "papermill": {
          "duration": 0.040571,
          "end_time": "2022-08-10T16:02:03.790352",
          "exception": false,
          "start_time": "2022-08-10T16:02:03.749781",
          "status": "completed"
        },
        "tags": []
      },
      "source": [
        "This result is indeed correct:"
      ]
    },
    {
      "cell_type": "code",
      "execution_count": 6,
      "id": "629bbc71",
      "metadata": {
        "execution": {
          "iopub.execute_input": "2022-08-10T16:02:03.882361Z",
          "iopub.status.busy": "2022-08-10T16:02:03.881920Z",
          "iopub.status.idle": "2022-08-10T16:02:04.026313Z",
          "shell.execute_reply": "2022-08-10T16:02:04.025894Z"
        },
        "papermill": {
          "duration": 0.194719,
          "end_time": "2022-08-10T16:02:04.026442",
          "exception": false,
          "start_time": "2022-08-10T16:02:03.831723",
          "status": "completed"
        },
        "tags": []
      },
      "outputs": [
        {
          "name": "stdout",
          "output_type": "stream",
          "text": [
            "[[0. 5. 0. 0. 0.]\n",
            " [0. 0. 0. 6. 0.]\n",
            " [0. 0. 0. 0. 1.]\n",
            " [1. 0. 0. 0. 0.]\n",
            " [0. 0. 2. 0. 0.]]\n",
            "[5. 3. 2. 6. 1.]\n"
          ]
        }
      ],
      "source": [
        "if JAX_AVAILABLE:\n",
        "    A = jnp.zeros((5, 5)).at[Ai, Aj].set(Ax)\n",
        "    print(A)\n",
        "    print(A@x)"
      ]
    },
    {
      "cell_type": "markdown",
      "id": "c7fe6547",
      "metadata": {
        "papermill": {
          "duration": 0.04139,
          "end_time": "2022-08-10T16:02:04.110011",
          "exception": false,
          "start_time": "2022-08-10T16:02:04.068621",
          "status": "completed"
        },
        "tags": []
      },
      "source": [
        "However, to use this function effectively, we probably need an extra dimension for `Ax`. Indeed, we would like to solve this equation for multiple wavelengths (or more general, for multiple circuit configurations) at once. For this we can use `jax.vmap` to expose `klujax.solve` to more dimensions for `Ax`:"
      ]
    },
    {
      "cell_type": "code",
      "execution_count": 7,
      "id": "a82cda5f1c2a22c7",
      "metadata": {
        "execution": {
          "iopub.execute_input": "2022-08-10T16:02:04.197217Z",
          "iopub.status.busy": "2022-08-10T16:02:04.196775Z",
          "iopub.status.idle": "2022-08-10T16:02:04.199726Z",
          "shell.execute_reply": "2022-08-10T16:02:04.199328Z"
        },
        "papermill": {
          "duration": 0.048653,
          "end_time": "2022-08-10T16:02:04.199832",
          "exception": false,
          "start_time": "2022-08-10T16:02:04.151179",
          "status": "completed"
        },
        "tags": []
      },
      "outputs": [],
      "source": [
        "solve_klu = None\n",
        "if klujax is not None:\n",
        "    solve_klu = jax.vmap(klujax.solve, (None, None, 0, None), 0)"
      ]
    },
    {
      "cell_type": "code",
      "execution_count": 8,
      "id": "dce54c5f93081d64",
      "metadata": {
        "execution": {
          "iopub.execute_input": "2022-08-10T16:02:04.285178Z",
          "iopub.status.busy": "2022-08-10T16:02:04.284756Z",
          "iopub.status.idle": "2022-08-10T16:02:04.287368Z",
          "shell.execute_reply": "2022-08-10T16:02:04.287026Z"
        },
        "papermill": {
          "duration": 0.046939,
          "end_time": "2022-08-10T16:02:04.287462",
          "exception": false,
          "start_time": "2022-08-10T16:02:04.240523",
          "status": "completed"
        },
        "tags": [
          "remove-input"
        ]
      },
      "outputs": [
        {
          "data": {
            "text/markdown": [
              "<h4 id=\"solve_klu\" class=\"doc_header\"><code>solve_klu</code><a href=\"\" class=\"source_link\" style=\"float:right\">[source]</a></h4>\n",
              "\n"
            ],
            "text/plain": [
              "<IPython.core.display.Markdown object>"
            ]
          },
          "metadata": {},
          "output_type": "display_data"
        }
      ],
      "source": [
        "show_doc(solve_klu, doc_string=False, name=\"solve_klu\")"
      ]
    },
    {
      "cell_type": "markdown",
      "id": "6707049d",
      "metadata": {
        "papermill": {
          "duration": 0.041402,
          "end_time": "2022-08-10T16:02:04.370153",
          "exception": false,
          "start_time": "2022-08-10T16:02:04.328751",
          "status": "completed"
        },
        "tags": []
      },
      "source": [
        "Let's now redefine `Ax` and see what it gives:"
      ]
    },
    {
      "cell_type": "code",
      "execution_count": 9,
      "id": "d4d7b6f9",
      "metadata": {
        "execution": {
          "iopub.execute_input": "2022-08-10T16:02:04.463778Z",
          "iopub.status.busy": "2022-08-10T16:02:04.463279Z",
          "iopub.status.idle": "2022-08-10T16:02:04.464981Z",
          "shell.execute_reply": "2022-08-10T16:02:04.465311Z"
        },
        "papermill": {
          "duration": 0.054111,
          "end_time": "2022-08-10T16:02:04.465441",
          "exception": false,
          "start_time": "2022-08-10T16:02:04.411330",
          "status": "completed"
        },
        "tags": []
      },
      "outputs": [
        {
          "data": {
            "text/plain": [
              "array([[6.       , 1.       , 0.5      , 0.5      , 2.       ],\n",
              "       [3.       , 1.       , 1.       , 0.75     , 0.6666667],\n",
              "       [1.5      , 5.       , 0.2      , 1.5      , 0.6666667]],            dtype=float32))"
            ]
          },
          "execution_count": 9,
          "metadata": {},
          "output_type": "execute_result"
        }
      ],
      "source": [
        "Ai = jnp.array([0, 1, 2, 3, 4])\n",
        "Aj = jnp.array([1, 3, 4, 0, 2])\n",
        "Ax = jnp.array([[5, 6, 1, 1, 2], [5, 4, 3, 2, 1], [1, 2, 3, 4, 5]])\n",
        "b = jnp.array([5, 3, 2, 6, 1])\n",
        "if klujax is not None:\n",
        "    x = solve_klu(Ai, Aj, Ax, b)\n",
        "else:\n",
        "    x = jnp.array([\n",
        "        [6.0, 1.0, 0.5, 0.5, 2.0],\n",
        "        [3.0, 1.0, 1.0, 0.75, 0.66666667],\n",
        "        [1.5, 5.0, 0.2, 1.5, 0.66666667],\n",
        "    ])\n",
        "    \n",
        "x"
      ]
    },
    {
      "cell_type": "markdown",
      "id": "5f342c6f",
      "metadata": {
        "papermill": {
          "duration": 0.042321,
          "end_time": "2022-08-10T16:02:04.550435",
          "exception": false,
          "start_time": "2022-08-10T16:02:04.508114",
          "status": "completed"
        },
        "tags": []
      },
      "source": [
        "This result is indeed correct:"
      ]
    },
    {
      "cell_type": "code",
      "execution_count": 10,
      "id": "0afefaa6",
      "metadata": {
        "execution": {
          "iopub.execute_input": "2022-08-10T16:02:04.644587Z",
          "iopub.status.busy": "2022-08-10T16:02:04.644144Z",
          "iopub.status.idle": "2022-08-10T16:02:04.738370Z",
          "shell.execute_reply": "2022-08-10T16:02:04.737915Z"
        },
        "papermill": {
          "duration": 0.145496,
          "end_time": "2022-08-10T16:02:04.738502",
          "exception": false,
          "start_time": "2022-08-10T16:02:04.593006",
          "status": "completed"
        },
        "tags": []
      },
      "outputs": [],
      "source": [
        "if JAX_AVAILABLE:\n",
        "    A = jnp.zeros((3, 5, 5)).at[:, Ai, Aj].set(Ax)\n",
        "    jnp.einsum(\"ijk,ik->ij\", A, x)"
      ]
    },
    {
      "cell_type": "markdown",
      "id": "7ed8f62d",
      "metadata": {
        "papermill": {
          "duration": 0.043435,
          "end_time": "2022-08-10T16:02:04.825704",
          "exception": false,
          "start_time": "2022-08-10T16:02:04.782269",
          "status": "completed"
        },
        "tags": []
      },
      "source": [
        "Additionally, we need a way to multiply a sparse COO-matrix with a dense vector. This can be done with `klujax.coo_mul_vec`:"
      ]
    },
    {
      "cell_type": "code",
      "execution_count": 11,
      "id": "65c0cf5963ca6fe4",
      "metadata": {
        "execution": {
          "iopub.execute_input": "2022-08-10T16:02:04.914293Z",
          "iopub.status.busy": "2022-08-10T16:02:04.913850Z",
          "iopub.status.idle": "2022-08-10T16:02:04.915159Z",
          "shell.execute_reply": "2022-08-10T16:02:04.915514Z"
        },
        "papermill": {
          "duration": 0.047825,
          "end_time": "2022-08-10T16:02:04.915637",
          "exception": false,
          "start_time": "2022-08-10T16:02:04.867812",
          "status": "completed"
        },
        "tags": [
          "remove-input"
        ]
      },
      "outputs": [],
      "source": [
        "\n",
        "if klujax is not None:\n",
        "    show_doc(klujax.coo_mul_vec, doc_string=False, name=\"klujax.coo_mul_vec\")"
      ]
    },
    {
      "cell_type": "markdown",
      "id": "7f57c443",
      "metadata": {
        "papermill": {
          "duration": 0.042044,
          "end_time": "2022-08-10T16:02:04.999840",
          "exception": false,
          "start_time": "2022-08-10T16:02:04.957796",
          "status": "completed"
        },
        "tags": []
      },
      "source": [
        "However, it's useful to allow a batch dimension, this time *both* in `Ax` and in `b`:"
      ]
    },
    {
      "cell_type": "code",
      "execution_count": 12,
      "id": "4f6862da63586aa0",
      "metadata": {
        "execution": {
          "iopub.execute_input": "2022-08-10T16:02:05.087559Z",
          "iopub.status.busy": "2022-08-10T16:02:05.087125Z",
          "iopub.status.idle": "2022-08-10T16:02:05.089014Z",
          "shell.execute_reply": "2022-08-10T16:02:05.088665Z"
        },
        "papermill": {
          "duration": 0.047307,
          "end_time": "2022-08-10T16:02:05.089118",
          "exception": false,
          "start_time": "2022-08-10T16:02:05.041811",
          "status": "completed"
        },
        "tags": [
          "remove-cell"
        ]
      },
      "outputs": [],
      "source": [
        "\n",
        "# @jax.jit  # TODO: make this available to autograd\n",
        "# def mul_coo(Ai, Aj, Ax, b):\n",
        "#     result = jnp.zeros_like(b).at[..., Ai, :].add(Ax[..., :, None] * b[..., Aj, :])\n",
        "#     return result"
      ]
    },
    {
      "cell_type": "code",
      "execution_count": 13,
      "id": "aaacf58cdc5710a8",
      "metadata": {
        "execution": {
          "iopub.execute_input": "2022-08-10T16:02:05.177308Z",
          "iopub.status.busy": "2022-08-10T16:02:05.176876Z",
          "iopub.status.idle": "2022-08-10T16:02:05.179796Z",
          "shell.execute_reply": "2022-08-10T16:02:05.179361Z"
        },
        "papermill": {
          "duration": 0.048459,
          "end_time": "2022-08-10T16:02:05.179896",
          "exception": false,
          "start_time": "2022-08-10T16:02:05.131437",
          "status": "completed"
        },
        "tags": []
      },
      "outputs": [],
      "source": [
        "mul_coo = None \n",
        "if klujax is not None:\n",
        "    mul_coo = jax.vmap(klujax.coo_mul_vec, (None, None, 0, 0), 0)"
      ]
    },
    {
      "cell_type": "code",
      "execution_count": 14,
      "id": "02919667b8897acf",
      "metadata": {
        "execution": {
          "iopub.execute_input": "2022-08-10T16:02:05.268505Z",
          "iopub.status.busy": "2022-08-10T16:02:05.268058Z",
          "iopub.status.idle": "2022-08-10T16:02:05.270058Z",
          "shell.execute_reply": "2022-08-10T16:02:05.270400Z"
        },
        "papermill": {
          "duration": 0.048647,
          "end_time": "2022-08-10T16:02:05.270525",
          "exception": false,
          "start_time": "2022-08-10T16:02:05.221878",
          "status": "completed"
        },
        "tags": [
          "remove-input"
        ]
      },
      "outputs": [
        {
          "data": {
            "text/markdown": [
              "<h4 id=\"mul_coo\" class=\"doc_header\"><code>mul_coo</code><a href=\"\" class=\"source_link\" style=\"float:right\">[source]</a></h4>\n",
              "\n"
            ],
            "text/plain": [
              "<IPython.core.display.Markdown object>"
            ]
          },
          "metadata": {},
          "output_type": "display_data"
        }
      ],
      "source": [
        "show_doc(mul_coo, doc_string=False, name=\"mul_coo\")"
      ]
    },
    {
      "cell_type": "markdown",
      "id": "d26cc3d9",
      "metadata": {
        "papermill": {
          "duration": 0.04337,
          "end_time": "2022-08-10T16:02:05.356966",
          "exception": false,
          "start_time": "2022-08-10T16:02:05.313596",
          "status": "completed"
        },
        "tags": []
      },
      "source": [
        "Let's confirm this does the right thing:"
      ]
    },
    {
      "cell_type": "code",
      "execution_count": 15,
      "id": "bd868973",
      "metadata": {
        "execution": {
          "iopub.execute_input": "2022-08-10T16:02:05.450260Z",
          "iopub.status.busy": "2022-08-10T16:02:05.449821Z",
          "iopub.status.idle": "2022-08-10T16:02:05.452129Z",
          "shell.execute_reply": "2022-08-10T16:02:05.451774Z"
        },
        "papermill": {
          "duration": 0.051942,
          "end_time": "2022-08-10T16:02:05.452230",
          "exception": false,
          "start_time": "2022-08-10T16:02:05.400288",
          "status": "completed"
        },
        "tags": []
      },
      "outputs": [
        {
          "data": {
            "text/plain": [
              "array([[5., 3., 2., 6., 1.],\n",
              "       [5., 3., 2., 6., 1.],\n",
              "       [5., 3., 2., 6., 1.]])"
            ]
          },
          "execution_count": 15,
          "metadata": {},
          "output_type": "execute_result"
        }
      ],
      "source": [
        "if klujax is not None:\n",
        "    result = mul_coo(Ai, Aj, Ax, x)\n",
        "else:\n",
        "    result = jnp.array([\n",
        "        [5.0, 3.0, 2.0, 6.0, 1.0],\n",
        "        [5.0, 3.0, 2.00000001, 6.0, 1.0],\n",
        "        [5.0, 3.0, 2.00000001, 6.0, 1.0],\n",
        "    ])\n",
        "    \n",
        "result"
      ]
    },
    {
      "cell_type": "markdown",
      "id": "d71e89fa",
      "metadata": {
        "papermill": {
          "duration": 0.042807,
          "end_time": "2022-08-10T16:02:05.538657",
          "exception": false,
          "start_time": "2022-08-10T16:02:05.495850",
          "status": "completed"
        },
        "tags": []
      },
      "source": [
        "## Circuit Evaluation"
      ]
    },
    {
      "cell_type": "markdown",
      "id": "4314c9ebf1bd59aa",
      "metadata": {},
      "source": [
        ":::{eval-rst}\n",
        ".. autofunction:: sax.backends.klu.evaluate_circuit_klu\n",
        ":::\n"
      ]
    },
    {
      "cell_type": "code",
      "execution_count": 16,
      "id": "9003a2e6cf925a8a",
      "metadata": {
        "execution": {
          "iopub.execute_input": "2022-08-10T16:02:05.638055Z",
          "iopub.status.busy": "2022-08-10T16:02:05.636960Z",
          "iopub.status.idle": "2022-08-10T16:02:05.639649Z",
          "shell.execute_reply": "2022-08-10T16:02:05.639289Z"
        },
        "papermill": {
          "duration": 0.058383,
          "end_time": "2022-08-10T16:02:05.639771",
          "exception": false,
          "start_time": "2022-08-10T16:02:05.581388",
          "status": "completed"
        },
        "tags": [
          "hide-input"
        ]
      },
      "outputs": [],
      "source": [
        "def evaluate_circuit_klu(\n",
        "    instances: Dict[str, SType],\n",
        "    connections: Dict[str, str],\n",
        "    ports: Dict[str, str],\n",
        "):\n",
        "    \"\"\"evaluate a circuit using KLU for the given sdicts. \"\"\"\n",
        "\n",
        "    if klujax is None:\n",
        "        raise ImportError(\n",
        "            \"Could not import 'klujax'. \"\n",
        "            \"Please install it first before using backend method 'klu'\"\n",
        "        )\n",
        "\n",
        "    assert solve_klu is not None\n",
        "    assert mul_coo is not None\n",
        "\n",
        "    connections = {**connections, **{v: k for k, v in connections.items()}}\n",
        "    inverse_ports = {v: k for k, v in ports.items()}\n",
        "    port_map = {k: i for i, k in enumerate(ports)}\n",
        "\n",
        "    idx, Si, Sj, Sx, instance_ports = 0, [], [], [], {}\n",
        "    batch_shape = ()\n",
        "    for name, instance in instances.items():\n",
        "        si, sj, sx, ports_map = scoo(instance)\n",
        "        Si.append(si + idx)\n",
        "        Sj.append(sj + idx)\n",
        "        Sx.append(sx)\n",
        "        if len(sx.shape[:-1]) > len(batch_shape):\n",
        "            batch_shape = sx.shape[:-1]\n",
        "        instance_ports.update({f\"{name},{p}\": i + idx for p, i in ports_map.items()})\n",
        "        idx += len(ports_map)\n",
        "\n",
        "    Si = jnp.concatenate(Si, -1)\n",
        "    Sj = jnp.concatenate(Sj, -1)\n",
        "    Sx = jnp.concatenate(\n",
        "        [jnp.broadcast_to(sx, (*batch_shape, sx.shape[-1])) for sx in Sx], -1\n",
        "    )\n",
        "\n",
        "    n_col = idx\n",
        "    n_rhs = len(port_map)\n",
        "\n",
        "    Cmap = {\n",
        "        int(instance_ports[k]): int(instance_ports[v]) for k, v in connections.items()\n",
        "    }\n",
        "    Ci = jnp.array(list(Cmap.keys()), dtype=jnp.int32)\n",
        "    Cj = jnp.array(list(Cmap.values()), dtype=jnp.int32)\n",
        "\n",
        "    Cextmap = {int(instance_ports[k]): int(port_map[v]) for k, v in inverse_ports.items()}\n",
        "    Cexti = jnp.stack(list(Cextmap.keys()), 0)\n",
        "    Cextj = jnp.stack(list(Cextmap.values()), 0)\n",
        "    Cext = jnp.zeros((n_col, n_rhs), dtype=complex).at[Cexti, Cextj].set(1.0)\n",
        "\n",
        "    # TODO: make this block jittable...\n",
        "    Ix = jnp.ones((*batch_shape, n_col))\n",
        "    Ii = Ij = jnp.arange(n_col)\n",
        "    mask = Cj[None,:] == Si[:, None]\n",
        "    CSi = jnp.broadcast_to(Ci[None, :], mask.shape)[mask]\n",
        "\n",
        "    # CSi = jnp.where(Cj[None, :] == Si[:, None], Ci[None, :], 0).sum(1)\n",
        "    mask = (Cj[:, None] == Si[None, :]).any(0)\n",
        "    CSj = Sj[mask]\n",
        "    \n",
        "    if Sx.ndim > 1: # bug in JAX... see https://github.com/google/jax/issues/9050\n",
        "        CSx = Sx[..., mask]\n",
        "    else:\n",
        "        CSx = Sx[mask]\n",
        "        \n",
        "    # CSj = jnp.where(mask, Sj, 0)\n",
        "    # CSx = jnp.where(mask, Sx, 0.0)\n",
        "\n",
        "    I_CSi = jnp.concatenate([CSi, Ii], -1)\n",
        "    I_CSj = jnp.concatenate([CSj, Ij], -1)\n",
        "    I_CSx = jnp.concatenate([-CSx, Ix], -1)\n",
        "\n",
        "    n_col, n_rhs = Cext.shape\n",
        "    n_lhs = jnp.prod(jnp.array(batch_shape, dtype=jnp.int32))\n",
        "    Sx = Sx.reshape(n_lhs, -1)\n",
        "    I_CSx = I_CSx.reshape(n_lhs, -1)\n",
        "\n",
        "    inv_I_CS_Cext = solve_klu(I_CSi, I_CSj, I_CSx, Cext)\n",
        "    S_inv_I_CS_Cext = mul_coo(Si, Sj, Sx, inv_I_CS_Cext)\n",
        "\n",
        "    CextT_S_inv_I_CS_Cext = S_inv_I_CS_Cext[..., Cexti, :][..., :, Cextj]\n",
        "    \n",
        "    _, n, _ = CextT_S_inv_I_CS_Cext.shape\n",
        "    S = CextT_S_inv_I_CS_Cext.reshape(*batch_shape, n, n)\n",
        "\n",
        "    return S, port_map"
      ]
    },
    {
      "cell_type": "markdown",
      "id": "dce9d8ca",
      "metadata": {
        "papermill": {
          "duration": 0.043297,
          "end_time": "2022-08-10T16:02:05.726062",
          "exception": false,
          "start_time": "2022-08-10T16:02:05.682765",
          "status": "completed"
        },
        "tags": []
      },
      "source": [
        "## Example"
      ]
    },
    {
      "cell_type": "code",
      "execution_count": 17,
      "id": "ce2de6336abbd7e7",
      "metadata": {
        "execution": {
          "iopub.execute_input": "2022-08-10T16:02:05.816993Z",
          "iopub.status.busy": "2022-08-10T16:02:05.816564Z",
          "iopub.status.idle": "2022-08-10T16:02:05.818230Z",
          "shell.execute_reply": "2022-08-10T16:02:05.817868Z"
        },
        "papermill": {
          "duration": 0.049398,
          "end_time": "2022-08-10T16:02:05.818322",
          "exception": false,
          "start_time": "2022-08-10T16:02:05.768924",
          "status": "completed"
        },
        "tags": [
          "remove-cell"
        ]
      },
      "outputs": [],
      "source": [
        "if klujax is None:\n",
        "    def evaluate_circuit_klu(\n",
        "        instances: Dict[str, SType],\n",
        "        connections: Dict[str, str],\n",
        "        ports: Dict[str, str],\n",
        "    ):\n",
        "        sdict = evaluate_circuit(instances, connections, ports)\n",
        "        sdense = sax.sdense(sdict)\n",
        "        return sdense"
      ]
    },
    {
      "cell_type": "code",
      "execution_count": 18,
      "id": "f577522a",
      "metadata": {
        "execution": {
          "iopub.execute_input": "2022-08-10T16:02:05.914678Z",
          "iopub.status.busy": "2022-08-10T16:02:05.908336Z",
          "iopub.status.idle": "2022-08-10T16:02:06.845812Z",
          "shell.execute_reply": "2022-08-10T16:02:06.845216Z"
        },
        "papermill": {
          "duration": 0.984927,
          "end_time": "2022-08-10T16:02:06.845938",
          "exception": false,
          "start_time": "2022-08-10T16:02:05.861011",
          "status": "completed"
        },
        "tags": []
      },
      "outputs": [],
      "source": [
        "wg_sdict: SDict = {\n",
        "    (\"in0\", \"out0\"): 0.5 + 0.86603j,\n",
        "    (\"out0\", \"in0\"): 0.5 + 0.86603j,\n",
        "}\n",
        "\n",
        "\u03c4, \u03ba = 0.5 ** 0.5, 1j * 0.5 ** 0.5\n",
        "dc_sdense: SDense = (\n",
        "    jnp.array([[0, 0, \u03c4, \u03ba], \n",
        "               [0, 0, \u03ba, \u03c4], \n",
        "               [\u03c4, \u03ba, 0, 0], \n",
        "               [\u03ba, \u03c4, 0, 0]]),\n",
        "    {\"in0\": 0, \"in1\": 1, \"out0\": 2, \"out1\": 3},\n",
        ")\n",
        "\n",
        "mzi_sdense: SDense = evaluate_circuit_klu(\n",
        "    instances={\n",
        "        \"dc1\": dc_sdense,\n",
        "        \"wg\": wg_sdict,\n",
        "        \"dc2\": dc_sdense,\n",
        "    },\n",
        "    connections={\n",
        "        \"dc1,out0\": \"wg,in0\",\n",
        "        \"wg,out0\": \"dc2,in0\",\n",
        "        \"dc1,out1\": \"dc2,in1\",\n",
        "    },\n",
        "    ports={\n",
        "        \"in0\": \"dc1,in0\",\n",
        "        \"in1\": \"dc1,in1\",\n",
        "        \"out0\": \"dc2,out0\",\n",
        "        \"out1\": \"dc2,out1\",\n",
        "    }\n",
        ")"
      ]
    },
    {
      "cell_type": "markdown",
      "id": "60b6d1e6",
      "metadata": {
        "papermill": {
          "duration": 0.043287,
          "end_time": "2022-08-10T16:02:06.933636",
          "exception": false,
          "start_time": "2022-08-10T16:02:06.890349",
          "status": "completed"
        },
        "tags": []
      },
      "source": [
        "the KLU backend yields `SDense` results by default:"
      ]
    },
    {
      "cell_type": "code",
      "execution_count": 19,
      "id": "ecc3115e",
      "metadata": {
        "execution": {
          "iopub.execute_input": "2022-08-10T16:02:07.026628Z",
          "iopub.status.busy": "2022-08-10T16:02:07.026190Z",
          "iopub.status.idle": "2022-08-10T16:02:07.028357Z",
          "shell.execute_reply": "2022-08-10T16:02:07.028691Z"
        },
        "papermill": {
          "duration": 0.051389,
          "end_time": "2022-08-10T16:02:07.028818",
          "exception": false,
          "start_time": "2022-08-10T16:02:06.977429",
          "status": "completed"
        },
        "tags": []
      },
      "outputs": [
        {
          "data": {
            "text/plain": [
              "(array([[ 0.        +0.j        ,  0.        +0.j        ,\n",
              "         -0.24999999+0.433015j  , -0.433015  +0.74999994j],\n",
              "        [ 0.        +0.j        ,  0.        +0.j        ,\n",
              "         -0.433015  +0.74999994j,  0.24999999-0.433015j  ],\n",
              "        [-0.24999999+0.433015j  , -0.433015  +0.74999994j,\n",
              "          0.        +0.j        ,  0.        +0.j        ],\n",
              "        [-0.433015  +0.74999994j,  0.24999999-0.433015j  ,\n",
              "          0.        +0.j        ,  0.        +0.j        ]],            dtype=complex64)),\n",
              " {'in0': 0, 'in1': 1, 'out0': 2, 'out1': 3})"
            ]
          },
          "execution_count": 19,
          "metadata": {},
          "output_type": "execute_result"
        }
      ],
      "source": [
        "mzi_sdense"
      ]
    },
    {
      "cell_type": "markdown",
      "id": "4b8e87f3",
      "metadata": {
        "papermill": {
          "duration": 0.043417,
          "end_time": "2022-08-10T16:02:07.115652",
          "exception": false,
          "start_time": "2022-08-10T16:02:07.072235",
          "status": "completed"
        },
        "tags": []
      },
      "source": [
        "An `SDense` is returned for perfomance reasons. By returning an `SDense` by default we prevent any internal `SDict -> SDense` conversions in deeply hierarchical circuits. It's however very easy to convert `SDense` to `SDict` as a final step. To do this, wrap the result (or the function generating the result) with `sdict`:"
      ]
    },
    {
      "cell_type": "code",
      "execution_count": 20,
      "id": "7202ab1e",
      "metadata": {
        "execution": {
          "iopub.execute_input": "2022-08-10T16:02:07.207101Z",
          "iopub.status.busy": "2022-08-10T16:02:07.206670Z",
          "iopub.status.idle": "2022-08-10T16:02:07.256292Z",
          "shell.execute_reply": "2022-08-10T16:02:07.256672Z"
        },
        "papermill": {
          "duration": 0.097406,
          "end_time": "2022-08-10T16:02:07.256824",
          "exception": false,
          "start_time": "2022-08-10T16:02:07.159418",
          "status": "completed"
        },
        "tags": []
      },
      "outputs": [
        {
          "data": {
            "text/plain": [
              "{('in0', 'in0'): 0j,\n",
              " ('in0', 'in1'): 0j,\n",
              " ('in0', 'out0'): -0.25+0.43301j,\n",
              " ('in0', 'out1'): -0.43301+0.75j,\n",
              " ('in1', 'in0'): 0j,\n",
              " ('in1', 'in1'): 0j,\n",
              " ('in1', 'out0'): -0.43301+0.75j,\n",
              " ('in1', 'out1'): 0.25-0.43301j,\n",
              " ('out0', 'in0'): -0.25+0.43301j,\n",
              " ('out0', 'in1'): -0.43301+0.75j,\n",
              " ('out0', 'out0'): 0j,\n",
              " ('out0', 'out1'): 0j,\n",
              " ('out1', 'in0'): -0.43301+0.75j,\n",
              " ('out1', 'in1'): 0.25-0.43301j,\n",
              " ('out1', 'out0'): 0j,\n",
              " ('out1', 'out1'): 0j}"
            ]
          },
          "execution_count": 20,
          "metadata": {},
          "output_type": "execute_result"
        }
      ],
      "source": [
        "sax.sdict(mzi_sdense)"
      ]
    },
    {
      "cell_type": "markdown",
      "id": "9f8cd5ea",
      "metadata": {
        "papermill": {
          "duration": 0.043895,
          "end_time": "2022-08-10T16:02:07.346153",
          "exception": false,
          "start_time": "2022-08-10T16:02:07.302258",
          "status": "completed"
        },
        "tags": []
      },
      "source": [
        "## Algorithm Walkthrough"
      ]
    },
    {
      "cell_type": "code",
      "execution_count": 21,
      "id": "665c856d",
      "metadata": {
        "execution": {
          "iopub.execute_input": "2022-08-10T16:02:07.438991Z",
          "iopub.status.busy": "2022-08-10T16:02:07.438554Z",
          "iopub.status.idle": "2022-08-10T16:02:07.440291Z",
          "shell.execute_reply": "2022-08-10T16:02:07.439924Z"
        },
        "papermill": {
          "duration": 0.050502,
          "end_time": "2022-08-10T16:02:07.440387",
          "exception": false,
          "start_time": "2022-08-10T16:02:07.389885",
          "status": "completed"
        },
        "tags": []
      },
      "outputs": [],
      "source": [
        "instances={\n",
        "    \"dc1\": dc_sdense,\n",
        "    \"wg\": wg_sdict,\n",
        "    \"dc2\": dc_sdense,\n",
        "}\n",
        "connections={\n",
        "    \"dc1,out0\": \"wg,in0\",\n",
        "    \"wg,out0\": \"dc2,in0\",\n",
        "    \"dc1,out1\": \"dc2,in1\",\n",
        "}\n",
        "ports={\n",
        "    \"in0\": \"dc1,in0\",\n",
        "    \"in1\": \"dc1,in1\",\n",
        "    \"out0\": \"dc2,out0\",\n",
        "    \"out1\": \"dc2,out1\",\n",
        "}"
      ]
    },
    {
      "cell_type": "markdown",
      "id": "b5bf5188",
      "metadata": {
        "papermill": {
          "duration": 0.044543,
          "end_time": "2022-08-10T16:02:07.529602",
          "exception": false,
          "start_time": "2022-08-10T16:02:07.485059",
          "status": "completed"
        },
        "tags": []
      },
      "source": [
        "Let's first enforce $C^T = C$:"
      ]
    },
    {
      "cell_type": "code",
      "execution_count": 22,
      "id": "6d7d4c39",
      "metadata": {
        "execution": {
          "iopub.execute_input": "2022-08-10T16:02:07.622988Z",
          "iopub.status.busy": "2022-08-10T16:02:07.622555Z",
          "iopub.status.idle": "2022-08-10T16:02:07.624154Z",
          "shell.execute_reply": "2022-08-10T16:02:07.624550Z"
        },
        "papermill": {
          "duration": 0.050838,
          "end_time": "2022-08-10T16:02:07.624666",
          "exception": false,
          "start_time": "2022-08-10T16:02:07.573828",
          "status": "completed"
        },
        "tags": []
      },
      "outputs": [
        {
          "data": {
            "text/plain": [
              "{'dc1,out0': 'wg,in0',\n",
              " 'wg,out0': 'dc2,in0',\n",
              " 'dc1,out1': 'dc2,in1',\n",
              " 'wg,in0': 'dc1,out0',\n",
              " 'dc2,in0': 'wg,out0',\n",
              " 'dc2,in1': 'dc1,out1'}"
            ]
          },
          "execution_count": 22,
          "metadata": {},
          "output_type": "execute_result"
        }
      ],
      "source": [
        "connections = {**connections, **{v: k for k, v in connections.items()}}\n",
        "connections"
      ]
    },
    {
      "cell_type": "markdown",
      "id": "a41250ec",
      "metadata": {
        "papermill": {
          "duration": 0.043963,
          "end_time": "2022-08-10T16:02:07.712823",
          "exception": false,
          "start_time": "2022-08-10T16:02:07.668860",
          "status": "completed"
        },
        "tags": []
      },
      "source": [
        "We'll also need the reversed ports:"
      ]
    },
    {
      "cell_type": "code",
      "execution_count": 23,
      "id": "9a70463f",
      "metadata": {
        "execution": {
          "iopub.execute_input": "2022-08-10T16:02:07.806042Z",
          "iopub.status.busy": "2022-08-10T16:02:07.805612Z",
          "iopub.status.idle": "2022-08-10T16:02:07.807193Z",
          "shell.execute_reply": "2022-08-10T16:02:07.807588Z"
        },
        "papermill": {
          "duration": 0.05073,
          "end_time": "2022-08-10T16:02:07.807730",
          "exception": false,
          "start_time": "2022-08-10T16:02:07.757000",
          "status": "completed"
        },
        "tags": []
      },
      "outputs": [
        {
          "data": {
            "text/plain": [
              "{'dc1,in0': 'in0', 'dc1,in1': 'in1', 'dc2,out0': 'out0', 'dc2,out1': 'out1'}"
            ]
          },
          "execution_count": 23,
          "metadata": {},
          "output_type": "execute_result"
        }
      ],
      "source": [
        "inverse_ports = {v: k for k, v in ports.items()}\n",
        "inverse_ports"
      ]
    },
    {
      "cell_type": "markdown",
      "id": "1e96443b",
      "metadata": {
        "papermill": {
          "duration": 0.04442,
          "end_time": "2022-08-10T16:02:07.897051",
          "exception": false,
          "start_time": "2022-08-10T16:02:07.852631",
          "status": "completed"
        },
        "tags": []
      },
      "source": [
        "An the port indices"
      ]
    },
    {
      "cell_type": "code",
      "execution_count": 24,
      "id": "8e18d182",
      "metadata": {
        "execution": {
          "iopub.execute_input": "2022-08-10T16:02:07.990768Z",
          "iopub.status.busy": "2022-08-10T16:02:07.990342Z",
          "iopub.status.idle": "2022-08-10T16:02:07.992871Z",
          "shell.execute_reply": "2022-08-10T16:02:07.992530Z"
        },
        "papermill": {
          "duration": 0.051298,
          "end_time": "2022-08-10T16:02:07.992969",
          "exception": false,
          "start_time": "2022-08-10T16:02:07.941671",
          "status": "completed"
        },
        "tags": []
      },
      "outputs": [
        {
          "data": {
            "text/plain": [
              "{'in0': 0, 'in1': 1, 'out0': 2, 'out1': 3}"
            ]
          },
          "execution_count": 24,
          "metadata": {},
          "output_type": "execute_result"
        }
      ],
      "source": [
        "port_map = {k: i for i, k in enumerate(ports)}\n",
        "port_map"
      ]
    },
    {
      "cell_type": "markdown",
      "id": "70924074",
      "metadata": {
        "papermill": {
          "duration": 0.044864,
          "end_time": "2022-08-10T16:02:08.083143",
          "exception": false,
          "start_time": "2022-08-10T16:02:08.038279",
          "status": "completed"
        },
        "tags": []
      },
      "source": [
        "Let's now create the COO-representation of our block diagonal S-matrix $S_{bd}$:"
      ]
    },
    {
      "cell_type": "code",
      "execution_count": 25,
      "id": "835deb8f",
      "metadata": {
        "execution": {
          "iopub.execute_input": "2022-08-10T16:02:08.185443Z",
          "iopub.status.busy": "2022-08-10T16:02:08.185004Z",
          "iopub.status.idle": "2022-08-10T16:02:08.324703Z",
          "shell.execute_reply": "2022-08-10T16:02:08.325087Z"
        },
        "papermill": {
          "duration": 0.196785,
          "end_time": "2022-08-10T16:02:08.325242",
          "exception": false,
          "start_time": "2022-08-10T16:02:08.128457",
          "status": "completed"
        },
        "tags": []
      },
      "outputs": [
        {
          "name": "stdout",
          "output_type": "stream",
          "text": [
            "[0 0 0 0 1 1 1 1 2 2 2 2 3 3 3 3 4 5 6 6 6 6 7 7 7 7 8 8 8 8 9 9 9 9]\n",
            "[0 1 2 3 0 1 2 3 0 1 2 3 0 1 2 3 5 4 6 7 8 9 6 7 8 9 6 7 8 9 6 7 8 9]\n",
            "[0.        +0.j         0.        +0.j         0.70710677+0.j\n",
            " 0.        +0.70710677j 0.        +0.j         0.        +0.j\n",
            " 0.        +0.70710677j 0.70710677+0.j         0.70710677+0.j\n",
            " 0.        +0.70710677j 0.        +0.j         0.        +0.j\n",
            " 0.        +0.70710677j 0.70710677+0.j         0.        +0.j\n",
            " 0.        +0.j         0.5       +0.86603j    0.5       +0.86603j\n",
            " 0.        +0.j         0.        +0.j         0.70710677+0.j\n",
            " 0.        +0.70710677j 0.        +0.j         0.        +0.j\n",
            " 0.        +0.70710677j 0.70710677+0.j         0.70710677+0.j\n",
            " 0.        +0.70710677j 0.        +0.j         0.        +0.j\n",
            " 0.        +0.70710677j 0.70710677+0.j         0.        +0.j\n",
            " 0.        +0.j        ]\n"
          ]
        }
      ],
      "source": [
        "idx, Si, Sj, Sx, instance_ports = 0, [], [], [], {}\n",
        "batch_shape = ()\n",
        "for name, instance in instances.items():\n",
        "    si, sj, sx, ports_map = scoo(instance)\n",
        "    Si.append(si + idx)\n",
        "    Sj.append(sj + idx)\n",
        "    Sx.append(sx)\n",
        "    if len(sx.shape[:-1]) > len(batch_shape):\n",
        "        batch_shape = sx.shape[:-1]\n",
        "    instance_ports.update({f\"{name},{p}\": i + idx for p, i in ports_map.items()})\n",
        "    idx += len(ports_map)\n",
        "Si = jnp.concatenate(Si, -1)\n",
        "Sj = jnp.concatenate(Sj, -1)\n",
        "Sx = jnp.concatenate([jnp.broadcast_to(sx, (*batch_shape, sx.shape[-1])) for sx in Sx], -1)\n",
        "\n",
        "print(Si)\n",
        "print(Sj)\n",
        "print(Sx)"
      ]
    },
    {
      "cell_type": "markdown",
      "id": "a8edefa1",
      "metadata": {
        "papermill": {
          "duration": 0.045618,
          "end_time": "2022-08-10T16:02:08.417579",
          "exception": false,
          "start_time": "2022-08-10T16:02:08.371961",
          "status": "completed"
        },
        "tags": []
      },
      "source": [
        "note that we also kept track of the `batch_shape`, i.e. the number of independent simulations (usually number of wavelengths). In the example being used here we don't have a batch dimension (all elements of the `SDict` are `0D`):"
      ]
    },
    {
      "cell_type": "code",
      "execution_count": 26,
      "id": "7513759a",
      "metadata": {
        "execution": {
          "iopub.execute_input": "2022-08-10T16:02:08.511709Z",
          "iopub.status.busy": "2022-08-10T16:02:08.511257Z",
          "iopub.status.idle": "2022-08-10T16:02:08.513766Z",
          "shell.execute_reply": "2022-08-10T16:02:08.513400Z"
        },
        "papermill": {
          "duration": 0.051169,
          "end_time": "2022-08-10T16:02:08.513862",
          "exception": false,
          "start_time": "2022-08-10T16:02:08.462693",
          "status": "completed"
        },
        "tags": []
      },
      "outputs": [
        {
          "data": {
            "text/plain": [
              "()"
            ]
          },
          "execution_count": 26,
          "metadata": {},
          "output_type": "execute_result"
        }
      ],
      "source": [
        "batch_shape"
      ]
    },
    {
      "cell_type": "markdown",
      "id": "c63b14d7",
      "metadata": {
        "papermill": {
          "duration": 0.046354,
          "end_time": "2022-08-10T16:02:08.606121",
          "exception": false,
          "start_time": "2022-08-10T16:02:08.559767",
          "status": "completed"
        },
        "tags": []
      },
      "source": [
        "We'll also keep track of the number of columns"
      ]
    },
    {
      "cell_type": "code",
      "execution_count": 27,
      "id": "89000432",
      "metadata": {
        "execution": {
          "iopub.execute_input": "2022-08-10T16:02:08.701608Z",
          "iopub.status.busy": "2022-08-10T16:02:08.701185Z",
          "iopub.status.idle": "2022-08-10T16:02:08.703373Z",
          "shell.execute_reply": "2022-08-10T16:02:08.702947Z"
        },
        "papermill": {
          "duration": 0.051097,
          "end_time": "2022-08-10T16:02:08.703466",
          "exception": false,
          "start_time": "2022-08-10T16:02:08.652369",
          "status": "completed"
        },
        "tags": []
      },
      "outputs": [
        {
          "data": {
            "text/plain": [
              "10"
            ]
          },
          "execution_count": 27,
          "metadata": {},
          "output_type": "execute_result"
        }
      ],
      "source": [
        "n_col = idx\n",
        "n_col"
      ]
    },
    {
      "cell_type": "markdown",
      "id": "7b0f95da",
      "metadata": {
        "papermill": {
          "duration": 0.046189,
          "end_time": "2022-08-10T16:02:08.795540",
          "exception": false,
          "start_time": "2022-08-10T16:02:08.749351",
          "status": "completed"
        },
        "tags": []
      },
      "source": [
        "And we'll need to solve the circuit for each output port, i.e. we need to solve `n_rhs` number of equations:"
      ]
    },
    {
      "cell_type": "code",
      "execution_count": 28,
      "id": "27902354",
      "metadata": {
        "execution": {
          "iopub.execute_input": "2022-08-10T16:02:08.892482Z",
          "iopub.status.busy": "2022-08-10T16:02:08.892044Z",
          "iopub.status.idle": "2022-08-10T16:02:08.893606Z",
          "shell.execute_reply": "2022-08-10T16:02:08.893996Z"
        },
        "papermill": {
          "duration": 0.052444,
          "end_time": "2022-08-10T16:02:08.894114",
          "exception": false,
          "start_time": "2022-08-10T16:02:08.841670",
          "status": "completed"
        },
        "tags": []
      },
      "outputs": [
        {
          "data": {
            "text/plain": [
              "4"
            ]
          },
          "execution_count": 28,
          "metadata": {},
          "output_type": "execute_result"
        }
      ],
      "source": [
        "n_rhs = len(port_map)\n",
        "n_rhs"
      ]
    },
    {
      "cell_type": "markdown",
      "id": "05056b46",
      "metadata": {
        "papermill": {
          "duration": 0.046195,
          "end_time": "2022-08-10T16:02:08.986536",
          "exception": false,
          "start_time": "2022-08-10T16:02:08.940341",
          "status": "completed"
        },
        "tags": []
      },
      "source": [
        "We can represent the internal connection matrix $C_{int}$ as a mapping between port indices:"
      ]
    },
    {
      "cell_type": "code",
      "execution_count": 29,
      "id": "f3ff1fa7",
      "metadata": {
        "execution": {
          "iopub.execute_input": "2022-08-10T16:02:09.083288Z",
          "iopub.status.busy": "2022-08-10T16:02:09.082866Z",
          "iopub.status.idle": "2022-08-10T16:02:09.085351Z",
          "shell.execute_reply": "2022-08-10T16:02:09.085015Z"
        },
        "papermill": {
          "duration": 0.052809,
          "end_time": "2022-08-10T16:02:09.085448",
          "exception": false,
          "start_time": "2022-08-10T16:02:09.032639",
          "status": "completed"
        },
        "tags": []
      },
      "outputs": [
        {
          "data": {
            "text/plain": [
              "{2: 4, 5: 6, 3: 7, 4: 2, 6: 5, 7: 3}"
            ]
          },
          "execution_count": 29,
          "metadata": {},
          "output_type": "execute_result"
        }
      ],
      "source": [
        "Cmap = {int(instance_ports[k]): int(instance_ports[v]) for k, v in connections.items()}\n",
        "Cmap"
      ]
    },
    {
      "cell_type": "markdown",
      "id": "999164af",
      "metadata": {
        "papermill": {
          "duration": 0.046916,
          "end_time": "2022-08-10T16:02:09.178779",
          "exception": false,
          "start_time": "2022-08-10T16:02:09.131863",
          "status": "completed"
        },
        "tags": []
      },
      "source": [
        "Therefore, the COO-representation of this connection matrix can be obtained as follows (note that an array of values Cx is not necessary, all non-zero elements in a connection matrix are 1)"
      ]
    },
    {
      "cell_type": "code",
      "execution_count": 30,
      "id": "9e4f1728",
      "metadata": {
        "execution": {
          "iopub.execute_input": "2022-08-10T16:02:09.278198Z",
          "iopub.status.busy": "2022-08-10T16:02:09.277771Z",
          "iopub.status.idle": "2022-08-10T16:02:09.279233Z",
          "shell.execute_reply": "2022-08-10T16:02:09.279563Z"
        },
        "papermill": {
          "duration": 0.05414,
          "end_time": "2022-08-10T16:02:09.279694",
          "exception": false,
          "start_time": "2022-08-10T16:02:09.225554",
          "status": "completed"
        },
        "tags": []
      },
      "outputs": [
        {
          "name": "stdout",
          "output_type": "stream",
          "text": [
            "[2 5 3 4 6 7]\n",
            "[4 6 7 2 5 3]\n"
          ]
        }
      ],
      "source": [
        "Ci = jnp.array(list(Cmap.keys()), dtype=jnp.int32)\n",
        "Cj = jnp.array(list(Cmap.values()), dtype=jnp.int32)\n",
        "print(Ci)\n",
        "print(Cj)"
      ]
    },
    {
      "cell_type": "markdown",
      "id": "47d5ed60",
      "metadata": {
        "papermill": {
          "duration": 0.046766,
          "end_time": "2022-08-10T16:02:09.373411",
          "exception": false,
          "start_time": "2022-08-10T16:02:09.326645",
          "status": "completed"
        },
        "tags": []
      },
      "source": [
        "We can represent the external connection matrix $C_{ext}$ as a map between internal port indices and external port indices:"
      ]
    },
    {
      "cell_type": "code",
      "execution_count": 31,
      "id": "f56ae166",
      "metadata": {
        "execution": {
          "iopub.execute_input": "2022-08-10T16:02:09.472079Z",
          "iopub.status.busy": "2022-08-10T16:02:09.471606Z",
          "iopub.status.idle": "2022-08-10T16:02:09.473973Z",
          "shell.execute_reply": "2022-08-10T16:02:09.473631Z"
        },
        "papermill": {
          "duration": 0.053486,
          "end_time": "2022-08-10T16:02:09.474072",
          "exception": false,
          "start_time": "2022-08-10T16:02:09.420586",
          "status": "completed"
        },
        "tags": []
      },
      "outputs": [
        {
          "data": {
            "text/plain": [
              "{0: 0, 1: 1, 8: 2, 9: 3}"
            ]
          },
          "execution_count": 31,
          "metadata": {},
          "output_type": "execute_result"
        }
      ],
      "source": [
        "Cextmap = {int(instance_ports[k]): int(port_map[v]) for k, v in inverse_ports.items()}\n",
        "Cextmap"
      ]
    },
    {
      "cell_type": "markdown",
      "id": "2485c01d",
      "metadata": {
        "papermill": {
          "duration": 0.046884,
          "end_time": "2022-08-10T16:02:09.568148",
          "exception": false,
          "start_time": "2022-08-10T16:02:09.521264",
          "status": "completed"
        },
        "tags": []
      },
      "source": [
        "Just as for the internal matrix we can represent this external connection matrix in COO-format:"
      ]
    },
    {
      "cell_type": "code",
      "execution_count": 32,
      "id": "cfb419ac",
      "metadata": {
        "execution": {
          "iopub.execute_input": "2022-08-10T16:02:09.670962Z",
          "iopub.status.busy": "2022-08-10T16:02:09.670519Z",
          "iopub.status.idle": "2022-08-10T16:02:09.697318Z",
          "shell.execute_reply": "2022-08-10T16:02:09.696962Z"
        },
        "papermill": {
          "duration": 0.082126,
          "end_time": "2022-08-10T16:02:09.697424",
          "exception": false,
          "start_time": "2022-08-10T16:02:09.615298",
          "status": "completed"
        },
        "tags": []
      },
      "outputs": [
        {
          "name": "stdout",
          "output_type": "stream",
          "text": [
            "[0 1 8 9]\n",
            "[0 1 2 3]\n"
          ]
        }
      ],
      "source": [
        "Cexti = jnp.stack(list(Cextmap.keys()), 0)\n",
        "Cextj = jnp.stack(list(Cextmap.values()), 0)\n",
        "print(Cexti)\n",
        "print(Cextj)"
      ]
    },
    {
      "cell_type": "markdown",
      "id": "e46d609c",
      "metadata": {
        "papermill": {
          "duration": 0.047581,
          "end_time": "2022-08-10T16:02:09.792990",
          "exception": false,
          "start_time": "2022-08-10T16:02:09.745409",
          "status": "completed"
        },
        "tags": []
      },
      "source": [
        "However, we actually need it as a dense representation:\n",
        "\n",
        "> help needed: can we find a way later on to keep this sparse?"
      ]
    },
    {
      "cell_type": "code",
      "execution_count": 33,
      "id": "25c4ec6e",
      "metadata": {
        "execution": {
          "iopub.execute_input": "2022-08-10T16:02:09.897394Z",
          "iopub.status.busy": "2022-08-10T16:02:09.892296Z",
          "iopub.status.idle": "2022-08-10T16:02:10.043375Z",
          "shell.execute_reply": "2022-08-10T16:02:10.042905Z"
        },
        "papermill": {
          "duration": 0.202824,
          "end_time": "2022-08-10T16:02:10.043515",
          "exception": false,
          "start_time": "2022-08-10T16:02:09.840691",
          "status": "completed"
        },
        "tags": []
      },
      "outputs": [],
      "source": [
        "if JAX_AVAILABLE:\n",
        "    Cext = jnp.zeros((n_col, n_rhs), dtype=complex).at[Cexti, Cextj].set(1.0)\n",
        "    Cext"
      ]
    },
    {
      "cell_type": "markdown",
      "id": "b31cc279",
      "metadata": {
        "papermill": {
          "duration": 0.048456,
          "end_time": "2022-08-10T16:02:10.140959",
          "exception": false,
          "start_time": "2022-08-10T16:02:10.092503",
          "status": "completed"
        },
        "tags": []
      },
      "source": [
        "We'll now calculate the row index `CSi` of $C_{int}S_{bd}$ in COO-format:"
      ]
    },
    {
      "cell_type": "code",
      "execution_count": 34,
      "id": "69ee202b0c9441fa",
      "metadata": {
        "execution": {
          "iopub.execute_input": "2022-08-10T16:02:10.245348Z",
          "iopub.status.busy": "2022-08-10T16:02:10.244884Z",
          "iopub.status.idle": "2022-08-10T16:02:10.411987Z",
          "shell.execute_reply": "2022-08-10T16:02:10.412334Z"
        },
        "papermill": {
          "duration": 0.223995,
          "end_time": "2022-08-10T16:02:10.412479",
          "exception": false,
          "start_time": "2022-08-10T16:02:10.188484",
          "status": "completed"
        },
        "tags": []
      },
      "outputs": [
        {
          "data": {
            "text/plain": [
              "array([4, 4, 4, 4, 7, 7, 7, 7, 2, 6, 5, 5, 5, 5, 3, 3, 3, 3])"
            ]
          },
          "execution_count": 34,
          "metadata": {},
          "output_type": "execute_result"
        }
      ],
      "source": [
        "# TODO: make this block jittable...\n",
        "Ix = jnp.ones((*batch_shape, n_col))\n",
        "Ii = Ij = jnp.arange(n_col)\n",
        "mask = Cj[None,:] == Si[:, None]\n",
        "CSi = jnp.broadcast_to(Ci[None, :], mask.shape)[mask]\n",
        "CSi"
      ]
    },
    {
      "cell_type": "markdown",
      "id": "a2657582",
      "metadata": {
        "papermill": {
          "duration": 0.048493,
          "end_time": "2022-08-10T16:02:10.510106",
          "exception": false,
          "start_time": "2022-08-10T16:02:10.461613",
          "status": "completed"
        },
        "tags": []
      },
      "source": [
        "> `CSi`: possible jittable alternative? how do we remove the zeros?"
      ]
    },
    {
      "cell_type": "code",
      "execution_count": 35,
      "id": "d4ea2cb5",
      "metadata": {
        "execution": {
          "iopub.execute_input": "2022-08-10T16:02:10.612696Z",
          "iopub.status.busy": "2022-08-10T16:02:10.612252Z",
          "iopub.status.idle": "2022-08-10T16:02:10.655727Z",
          "shell.execute_reply": "2022-08-10T16:02:10.655333Z"
        },
        "papermill": {
          "duration": 0.097263,
          "end_time": "2022-08-10T16:02:10.655841",
          "exception": false,
          "start_time": "2022-08-10T16:02:10.558578",
          "status": "completed"
        },
        "tags": []
      },
      "outputs": [
        {
          "data": {
            "text/plain": [
              "array([0, 0, 0, 0, 0, 0, 0, 0, 4, 4, 4, 4, 7, 7, 7, 7, 2, 6, 5, 5,\n",
              "       5, 5, 3, 3, 3, 3, 0, 0, 0, 0, 0, 0, 0, 0])"
            ]
          },
          "execution_count": 35,
          "metadata": {},
          "output_type": "execute_result"
        }
      ],
      "source": [
        "CSi_ = jnp.where(Cj[None, :] == Si[:, None], Ci[None, :], 0).sum(1) # not used\n",
        "CSi_ # not used"
      ]
    },
    {
      "cell_type": "markdown",
      "id": "44fc620e",
      "metadata": {
        "papermill": {
          "duration": 0.049025,
          "end_time": "2022-08-10T16:02:10.754065",
          "exception": false,
          "start_time": "2022-08-10T16:02:10.705040",
          "status": "completed"
        },
        "tags": []
      },
      "source": [
        "The column index `CSj` of $C_{int}S_{bd}$ can more easily be obtained:"
      ]
    },
    {
      "cell_type": "code",
      "execution_count": 36,
      "id": "f71fdd7c",
      "metadata": {
        "execution": {
          "iopub.execute_input": "2022-08-10T16:02:10.860399Z",
          "iopub.status.busy": "2022-08-10T16:02:10.859930Z",
          "iopub.status.idle": "2022-08-10T16:02:10.935137Z",
          "shell.execute_reply": "2022-08-10T16:02:10.935523Z"
        },
        "papermill": {
          "duration": 0.133086,
          "end_time": "2022-08-10T16:02:10.935704",
          "exception": false,
          "start_time": "2022-08-10T16:02:10.802618",
          "status": "completed"
        },
        "tags": []
      },
      "outputs": [
        {
          "data": {
            "text/plain": [
              "array([0, 1, 2, 3, 0, 1, 2, 3, 5, 4, 6, 7, 8, 9, 6, 7, 8, 9])"
            ]
          },
          "execution_count": 36,
          "metadata": {},
          "output_type": "execute_result"
        }
      ],
      "source": [
        "mask = (Cj[:, None] == Si[None, :]).any(0)\n",
        "CSj = Sj[mask]\n",
        "CSj"
      ]
    },
    {
      "cell_type": "markdown",
      "id": "99bf7684",
      "metadata": {
        "papermill": {
          "duration": 0.049125,
          "end_time": "2022-08-10T16:02:11.034134",
          "exception": false,
          "start_time": "2022-08-10T16:02:10.985009",
          "status": "completed"
        },
        "tags": []
      },
      "source": [
        "> `CSj`: possible jittable alternative? how do we remove the zeros?"
      ]
    },
    {
      "cell_type": "code",
      "execution_count": 37,
      "id": "ffa7bc82",
      "metadata": {
        "execution": {
          "iopub.execute_input": "2022-08-10T16:02:11.142197Z",
          "iopub.status.busy": "2022-08-10T16:02:11.141754Z",
          "iopub.status.idle": "2022-08-10T16:02:11.159584Z",
          "shell.execute_reply": "2022-08-10T16:02:11.160139Z"
        },
        "papermill": {
          "duration": 0.077837,
          "end_time": "2022-08-10T16:02:11.160272",
          "exception": false,
          "start_time": "2022-08-10T16:02:11.082435",
          "status": "completed"
        },
        "tags": []
      },
      "outputs": [
        {
          "data": {
            "text/plain": [
              "array([0, 0, 0, 0, 0, 0, 0, 0, 0, 1, 2, 3, 0, 1, 2, 3, 5, 4, 6, 7,\n",
              "       8, 9, 6, 7, 8, 9, 0, 0, 0, 0, 0, 0, 0, 0])"
            ]
          },
          "execution_count": 37,
          "metadata": {},
          "output_type": "execute_result"
        }
      ],
      "source": [
        "CSj_ = jnp.where(mask, Sj, 0) # not used\n",
        "CSj_ # not used"
      ]
    },
    {
      "cell_type": "markdown",
      "id": "e0fc6d02",
      "metadata": {
        "papermill": {
          "duration": 0.048775,
          "end_time": "2022-08-10T16:02:11.258091",
          "exception": false,
          "start_time": "2022-08-10T16:02:11.209316",
          "status": "completed"
        },
        "tags": []
      },
      "source": [
        "Finally, the values `CSx` of $C_{int}S_{bd}$ can be obtained as follows:"
      ]
    },
    {
      "cell_type": "code",
      "execution_count": 38,
      "id": "59d2e1b2",
      "metadata": {
        "execution": {
          "iopub.execute_input": "2022-08-10T16:02:11.360755Z",
          "iopub.status.busy": "2022-08-10T16:02:11.360317Z",
          "iopub.status.idle": "2022-08-10T16:02:11.385636Z",
          "shell.execute_reply": "2022-08-10T16:02:11.385982Z"
        },
        "papermill": {
          "duration": 0.079133,
          "end_time": "2022-08-10T16:02:11.386122",
          "exception": false,
          "start_time": "2022-08-10T16:02:11.306989",
          "status": "completed"
        },
        "tags": []
      },
      "outputs": [
        {
          "data": {
            "text/plain": [
              "array([0.70710677+0.j        , 0.        +0.70710677j,\n",
              "       0.        +0.j        , 0.        +0.j        ,\n",
              "       0.        +0.70710677j, 0.70710677+0.j        ,\n",
              "       0.        +0.j        , 0.        +0.j        ,\n",
              "       0.5       +0.86603j   , 0.5       +0.86603j   ,\n",
              "       0.        +0.j        , 0.        +0.j        ,\n",
              "       0.70710677+0.j        , 0.        +0.70710677j,\n",
              "       0.        +0.j        , 0.        +0.j        ,\n",
              "       0.        +0.70710677j, 0.70710677+0.j        ],            dtype=complex64))"
            ]
          },
          "execution_count": 38,
          "metadata": {},
          "output_type": "execute_result"
        }
      ],
      "source": [
        "if Sx.ndim > 1:\n",
        "    CSx = Sx[..., mask] # normally this should be enough\n",
        "else:\n",
        "    CSx = Sx[mask] # need separate case bc bug in JAX... see https://github.com/google/jax/issues/9050\n",
        "   \n",
        "CSx"
      ]
    },
    {
      "cell_type": "markdown",
      "id": "c02035bd",
      "metadata": {
        "papermill": {
          "duration": 0.050448,
          "end_time": "2022-08-10T16:02:11.486850",
          "exception": false,
          "start_time": "2022-08-10T16:02:11.436402",
          "status": "completed"
        },
        "tags": []
      },
      "source": [
        "> `CSx`: possible jittable alternative? how do we remove the zeros?"
      ]
    },
    {
      "cell_type": "code",
      "execution_count": 39,
      "id": "107e9e80",
      "metadata": {
        "execution": {
          "iopub.execute_input": "2022-08-10T16:02:11.595983Z",
          "iopub.status.busy": "2022-08-10T16:02:11.595493Z",
          "iopub.status.idle": "2022-08-10T16:02:11.613822Z",
          "shell.execute_reply": "2022-08-10T16:02:11.613422Z"
        },
        "papermill": {
          "duration": 0.077715,
          "end_time": "2022-08-10T16:02:11.613941",
          "exception": false,
          "start_time": "2022-08-10T16:02:11.536226",
          "status": "completed"
        },
        "tags": []
      },
      "outputs": [
        {
          "data": {
            "text/plain": [
              "array([0.        +0.j        , 0.        +0.j        ,\n",
              "       0.        +0.j        , 0.        +0.j        ,\n",
              "       0.        +0.j        , 0.        +0.j        ,\n",
              "       0.        +0.j        , 0.        +0.j        ,\n",
              "       0.70710677+0.j        , 0.        +0.70710677j,\n",
              "       0.        +0.j        , 0.        +0.j        ,\n",
              "       0.        +0.70710677j, 0.70710677+0.j        ,\n",
              "       0.        +0.j        , 0.        +0.j        ,\n",
              "       0.5       +0.86603j   , 0.5       +0.86603j   ,\n",
              "       0.        +0.j        , 0.        +0.j        ,\n",
              "       0.70710677+0.j        , 0.        +0.70710677j,\n",
              "       0.        +0.j        , 0.        +0.j        ,\n",
              "       0.        +0.70710677j, 0.70710677+0.j        ,\n",
              "       0.        +0.j        , 0.        +0.j        ,\n",
              "       0.        +0.j        , 0.        +0.j        ,\n",
              "       0.        +0.j        , 0.        +0.j        ,\n",
              "       0.        +0.j        , 0.        +0.j        ],            dtype=complex64))"
            ]
          },
          "execution_count": 39,
          "metadata": {},
          "output_type": "execute_result"
        }
      ],
      "source": [
        "CSx_ = jnp.where(mask, Sx, 0.0) # not used\n",
        "CSx_ # not used"
      ]
    },
    {
      "cell_type": "markdown",
      "id": "9411edf5",
      "metadata": {
        "papermill": {
          "duration": 0.04961,
          "end_time": "2022-08-10T16:02:11.713852",
          "exception": false,
          "start_time": "2022-08-10T16:02:11.664242",
          "status": "completed"
        },
        "tags": []
      },
      "source": [
        "Now we calculate $\\mathbb{1} - C_{int}S_{bd}$ in an *uncoalesced* way (we might have duplicate indices on the diagonal):\n",
        "\n",
        "> **uncoalesced**: having duplicate index combinations (i, j) in the representation possibly with different corresponding values. This is usually not a problem as in linear operations these values will end up to be summed, usually the behavior you want:"
      ]
    },
    {
      "cell_type": "code",
      "execution_count": 40,
      "id": "53c3f4ab",
      "metadata": {
        "execution": {
          "iopub.execute_input": "2022-08-10T16:02:11.823306Z",
          "iopub.status.busy": "2022-08-10T16:02:11.822842Z",
          "iopub.status.idle": "2022-08-10T16:02:11.879892Z",
          "shell.execute_reply": "2022-08-10T16:02:11.880261Z"
        },
        "papermill": {
          "duration": 0.116472,
          "end_time": "2022-08-10T16:02:11.880423",
          "exception": false,
          "start_time": "2022-08-10T16:02:11.763951",
          "status": "completed"
        },
        "tags": []
      },
      "outputs": [
        {
          "name": "stdout",
          "output_type": "stream",
          "text": [
            "[4 4 4 4 7 7 7 7 2 6 5 5 5 5 3 3 3 3 0 1 2 3 4 5 6 7 8 9]\n",
            "[0 1 2 3 0 1 2 3 5 4 6 7 8 9 6 7 8 9 0 1 2 3 4 5 6 7 8 9]\n",
            "[-0.70710677-0.j         -0.        -0.70710677j -0.        -0.j\n",
            " -0.        -0.j         -0.        -0.70710677j -0.70710677-0.j\n",
            " -0.        -0.j         -0.        -0.j         -0.5       -0.86603j\n",
            " -0.5       -0.86603j    -0.        -0.j         -0.        -0.j\n",
            " -0.70710677-0.j         -0.        -0.70710677j -0.        -0.j\n",
            " -0.        -0.j         -0.        -0.70710677j -0.70710677-0.j\n",
            "  1.        +0.j          1.        +0.j          1.        +0.j\n",
            "  1.        +0.j          1.        +0.j          1.        +0.j\n",
            "  1.        +0.j          1.        +0.j          1.        +0.j\n",
            "  1.        +0.j        ]\n"
          ]
        }
      ],
      "source": [
        "I_CSi = jnp.concatenate([CSi, Ii], -1)\n",
        "I_CSj = jnp.concatenate([CSj, Ij], -1)\n",
        "I_CSx = jnp.concatenate([-CSx, Ix], -1)\n",
        "print(I_CSi)\n",
        "print(I_CSj)\n",
        "print(I_CSx)"
      ]
    },
    {
      "cell_type": "code",
      "execution_count": 41,
      "id": "188e4606",
      "metadata": {
        "execution": {
          "iopub.execute_input": "2022-08-10T16:02:11.985131Z",
          "iopub.status.busy": "2022-08-10T16:02:11.984704Z",
          "iopub.status.idle": "2022-08-10T16:02:11.988270Z",
          "shell.execute_reply": "2022-08-10T16:02:11.987922Z"
        },
        "papermill": {
          "duration": 0.056739,
          "end_time": "2022-08-10T16:02:11.988371",
          "exception": false,
          "start_time": "2022-08-10T16:02:11.931632",
          "status": "completed"
        },
        "tags": []
      },
      "outputs": [
        {
          "name": "stdout",
          "output_type": "stream",
          "text": [
            "10 4\n"
          ]
        }
      ],
      "source": [
        "if JAX_AVAILABLE:\n",
        "    n_col, n_rhs = Cext.shape\n",
        "    print(n_col, n_rhs)"
      ]
    },
    {
      "cell_type": "markdown",
      "id": "e018c515",
      "metadata": {
        "papermill": {
          "duration": 0.05046,
          "end_time": "2022-08-10T16:02:12.089084",
          "exception": false,
          "start_time": "2022-08-10T16:02:12.038624",
          "status": "completed"
        },
        "tags": []
      },
      "source": [
        "The batch shape dimension can generally speaking be anything (in the example here 0D). We need to do the necessary reshapings to make the batch shape 1D:"
      ]
    },
    {
      "cell_type": "code",
      "execution_count": 42,
      "id": "dad259e7",
      "metadata": {
        "execution": {
          "iopub.execute_input": "2022-08-10T16:02:12.197921Z",
          "iopub.status.busy": "2022-08-10T16:02:12.197486Z",
          "iopub.status.idle": "2022-08-10T16:02:12.211699Z",
          "shell.execute_reply": "2022-08-10T16:02:12.211309Z"
        },
        "papermill": {
          "duration": 0.072288,
          "end_time": "2022-08-10T16:02:12.211806",
          "exception": false,
          "start_time": "2022-08-10T16:02:12.139518",
          "status": "completed"
        },
        "tags": []
      },
      "outputs": [
        {
          "name": "stdout",
          "output_type": "stream",
          "text": [
            "1\n"
          ]
        }
      ],
      "source": [
        "n_lhs = jnp.prod(jnp.array(batch_shape, dtype=jnp.int32))\n",
        "print(n_lhs)"
      ]
    },
    {
      "cell_type": "code",
      "execution_count": 43,
      "id": "9cf69da7",
      "metadata": {
        "execution": {
          "iopub.execute_input": "2022-08-10T16:02:12.321827Z",
          "iopub.status.busy": "2022-08-10T16:02:12.321390Z",
          "iopub.status.idle": "2022-08-10T16:02:12.334827Z",
          "shell.execute_reply": "2022-08-10T16:02:12.334452Z"
        },
        "papermill": {
          "duration": 0.072358,
          "end_time": "2022-08-10T16:02:12.334928",
          "exception": false,
          "start_time": "2022-08-10T16:02:12.262570",
          "status": "completed"
        },
        "tags": []
      },
      "outputs": [
        {
          "data": {
            "text/plain": [
              "(1, 34)"
            ]
          },
          "execution_count": 43,
          "metadata": {},
          "output_type": "execute_result"
        }
      ],
      "source": [
        "Sx = Sx.reshape(n_lhs, -1)\n",
        "Sx.shape"
      ]
    },
    {
      "cell_type": "code",
      "execution_count": 44,
      "id": "788294fa",
      "metadata": {
        "execution": {
          "iopub.execute_input": "2022-08-10T16:02:12.444883Z",
          "iopub.status.busy": "2022-08-10T16:02:12.444450Z",
          "iopub.status.idle": "2022-08-10T16:02:12.456681Z",
          "shell.execute_reply": "2022-08-10T16:02:12.457083Z"
        },
        "papermill": {
          "duration": 0.071064,
          "end_time": "2022-08-10T16:02:12.457207",
          "exception": false,
          "start_time": "2022-08-10T16:02:12.386143",
          "status": "completed"
        },
        "tags": []
      },
      "outputs": [
        {
          "data": {
            "text/plain": [
              "(1, 28)"
            ]
          },
          "execution_count": 44,
          "metadata": {},
          "output_type": "execute_result"
        }
      ],
      "source": [
        "I_CSx = I_CSx.reshape(n_lhs, -1)\n",
        "I_CSx.shape"
      ]
    },
    {
      "cell_type": "markdown",
      "id": "ec741031",
      "metadata": {
        "papermill": {
          "duration": 0.051141,
          "end_time": "2022-08-10T16:02:12.559887",
          "exception": false,
          "start_time": "2022-08-10T16:02:12.508746",
          "status": "completed"
        },
        "tags": []
      },
      "source": [
        "We're finally ready to do the most important part of the calculation, which we conveniently leave to `klujax` and `SuiteSparse`:"
      ]
    },
    {
      "cell_type": "code",
      "execution_count": 45,
      "id": "9c1d8644",
      "metadata": {
        "execution": {
          "iopub.execute_input": "2022-08-10T16:02:12.670528Z",
          "iopub.status.busy": "2022-08-10T16:02:12.670075Z",
          "iopub.status.idle": "2022-08-10T16:02:12.671092Z",
          "shell.execute_reply": "2022-08-10T16:02:12.671489Z"
        },
        "papermill": {
          "duration": 0.060055,
          "end_time": "2022-08-10T16:02:12.671616",
          "exception": false,
          "start_time": "2022-08-10T16:02:12.611561",
          "status": "completed"
        },
        "tags": []
      },
      "outputs": [],
      "source": [
        "if klujax is not None:\n",
        "    inv_I_CS_Cext = solve_klu(I_CSi, I_CSj, I_CSx, Cext)\n",
        "else:\n",
        "    inv_I_CS_Cext = jnp.array([[[1.0 + 0.0j, 0.0 + 0.0j, 0.0 + 0.0j, 0.0 + 0.0j], [0.0 + 0.0j, 1.0 + 0.0j, 0.0 + 0.0j, 0.0 + 0.0j], [ -0.0 + 0.0j, -0.0 + 0.0j, 0.35355339 + 0.61237569j, -0.61237569 + 0.35355339j, ], [0.0 + 0.0j, 0.0 + 0.0j, 0.0 + 0.70710678j, 0.70710678 + 0.0j], [0.70710678 - 0.0j, -0.0 + 0.70710678j, -0.0 - 0.0j, -0.0 - 0.0j], [-0.0 - 0.0j, -0.0 - 0.0j, 0.70710678 - 0.0j, -0.0 + 0.70710678j], [ 0.35355339 + 0.61237569j, -0.61237569 + 0.35355339j, -0.0 + 0.0j, -0.0 + 0.0j, ], [0.0 + 0.70710678j, 0.70710678 + 0.0j, 0.0 + 0.0j, 0.0 + 0.0j], [0.0 + 0.0j, 0.0 + 0.0j, 1.0 + 0.0j, 0.0 + 0.0j], [0.0 + 0.0j, 0.0 + 0.0j, 0.0 + 0.0j, 1.0 + 0.0j]]])"
      ]
    },
    {
      "cell_type": "markdown",
      "id": "e51487df",
      "metadata": {
        "papermill": {
          "duration": 0.051614,
          "end_time": "2022-08-10T16:02:12.774410",
          "exception": false,
          "start_time": "2022-08-10T16:02:12.722796",
          "status": "completed"
        },
        "tags": []
      },
      "source": [
        "one more sparse multiplication:"
      ]
    },
    {
      "cell_type": "code",
      "execution_count": 46,
      "id": "cccda072",
      "metadata": {
        "execution": {
          "iopub.execute_input": "2022-08-10T16:02:12.885854Z",
          "iopub.status.busy": "2022-08-10T16:02:12.885400Z",
          "iopub.status.idle": "2022-08-10T16:02:12.886629Z",
          "shell.execute_reply": "2022-08-10T16:02:12.886963Z"
        },
        "papermill": {
          "duration": 0.061069,
          "end_time": "2022-08-10T16:02:12.887092",
          "exception": false,
          "start_time": "2022-08-10T16:02:12.826023",
          "status": "completed"
        },
        "tags": []
      },
      "outputs": [],
      "source": [
        "if klujax is not None:\n",
        "    S_inv_I_CS_Cext = mul_coo(Si, Sj, Sx, inv_I_CS_Cext)\n",
        "else:\n",
        "    S_inv_I_CS_Cext = jnp.array([[[0.0 + 0.0j, 0.0 + 0.0j, -0.25 + 0.433015j, -0.433015 + 0.75j], [0.0 + 0.0j, 0.0 + 0.0j, -0.433015 + 0.75j, 0.25 - 0.433015j], [0.70710678 + 0.0j, 0.0 + 0.70710678j, 0.0 + 0.0j, 0.0 + 0.0j], [0.0 + 0.70710678j, 0.70710678 + 0.0j, 0.0 + 0.0j, 0.0 + 0.0j], [ 0.0 + 0.0j, 0.0 + 0.0j, 0.35355339 + 0.61237569j, -0.61237569 + 0.35355339j, ], [ 0.35355339 + 0.61237569j, -0.61237569 + 0.35355339j, 0.0 + 0.0j, 0.0 + 0.0j, ], [0.0 + 0.0j, 0.0 + 0.0j, 0.70710678 + 0.0j, 0.0 + 0.70710678j], [0.0 + 0.0j, 0.0 + 0.0j, 0.0 + 0.70710678j, 0.70710678 + 0.0j], [-0.25 + 0.433015j, -0.433015 + 0.75j, 0.0 + 0.0j, 0.0 + 0.0j], [-0.433015 + 0.75j, 0.25 - 0.433015j, 0.0 + 0.0j, 0.0 + 0.0j]]])"
      ]
    },
    {
      "cell_type": "markdown",
      "id": "627a98f7",
      "metadata": {
        "papermill": {
          "duration": 0.051686,
          "end_time": "2022-08-10T16:02:12.990895",
          "exception": false,
          "start_time": "2022-08-10T16:02:12.939209",
          "status": "completed"
        },
        "tags": []
      },
      "source": [
        "And one more $C_{ext}$ multiplication which we do by clever indexing:"
      ]
    },
    {
      "cell_type": "code",
      "execution_count": 47,
      "id": "12ff877c",
      "metadata": {
        "execution": {
          "iopub.execute_input": "2022-08-10T16:02:13.102504Z",
          "iopub.status.busy": "2022-08-10T16:02:13.102057Z",
          "iopub.status.idle": "2022-08-10T16:02:13.103941Z",
          "shell.execute_reply": "2022-08-10T16:02:13.104282Z"
        },
        "papermill": {
          "duration": 0.061408,
          "end_time": "2022-08-10T16:02:13.104409",
          "exception": false,
          "start_time": "2022-08-10T16:02:13.043001",
          "status": "completed"
        },
        "tags": []
      },
      "outputs": [
        {
          "data": {
            "text/plain": [
              "array([[[ 0.      +0.j      ,  0.      +0.j      ,\n",
              "         -0.25    +0.433015j, -0.433015+0.75j    ],\n",
              "        [ 0.      +0.j      ,  0.      +0.j      ,\n",
              "         -0.433015+0.75j    ,  0.25    -0.433015j],\n",
              "        [-0.25    +0.433015j, -0.433015+0.75j    ,\n",
              "          0.      +0.j      ,  0.      +0.j      ],\n",
              "        [-0.433015+0.75j    ,  0.25    -0.433015j,\n",
              "          0.      +0.j      ,  0.      +0.j      ]]],            dtype=complex64))"
            ]
          },
          "execution_count": 47,
          "metadata": {},
          "output_type": "execute_result"
        }
      ],
      "source": [
        "if klujax is not None:\n",
        "    CextT_S_inv_I_CS_Cext = S_inv_I_CS_Cext[..., Cexti, :][..., :, Cextj]\n",
        "else:\n",
        "    CextT_S_inv_I_CS_Cext = jnp.array([[[0.0 + 0.0j, 0.0 + 0.0j, -0.25 + 0.433015j, -0.433015 + 0.75j], [0.0 + 0.0j, 0.0 + 0.0j, -0.433015 + 0.75j, 0.25 - 0.433015j], [-0.25 + 0.433015j, -0.433015 + 0.75j, 0.0 + 0.0j, 0.0 + 0.0j], [-0.433015 + 0.75j, 0.25 - 0.433015j, 0.0 + 0.0j, 0.0 + 0.0j]]])\n",
        "CextT_S_inv_I_CS_Cext"
      ]
    },
    {
      "cell_type": "markdown",
      "id": "3e1c75b2",
      "metadata": {
        "papermill": {
          "duration": 0.051851,
          "end_time": "2022-08-10T16:02:13.208147",
          "exception": false,
          "start_time": "2022-08-10T16:02:13.156296",
          "status": "completed"
        },
        "tags": []
      },
      "source": [
        "That's it! We found the S-matrix of the circuit. We just need to reshape the batch dimension back into the matrix:"
      ]
    },
    {
      "cell_type": "code",
      "execution_count": 48,
      "id": "cbf962af",
      "metadata": {
        "execution": {
          "iopub.execute_input": "2022-08-10T16:02:13.320388Z",
          "iopub.status.busy": "2022-08-10T16:02:13.319939Z",
          "iopub.status.idle": "2022-08-10T16:02:13.333710Z",
          "shell.execute_reply": "2022-08-10T16:02:13.333360Z"
        },
        "papermill": {
          "duration": 0.073782,
          "end_time": "2022-08-10T16:02:13.333813",
          "exception": false,
          "start_time": "2022-08-10T16:02:13.260031",
          "status": "completed"
        },
        "tags": []
      },
      "outputs": [
        {
          "data": {
            "text/plain": [
              "array([[ 0.      +0.j      ,  0.      +0.j      ,\n",
              "        -0.25    +0.433015j, -0.433015+0.75j    ],\n",
              "       [ 0.      +0.j      ,  0.      +0.j      ,\n",
              "        -0.433015+0.75j    ,  0.25    -0.433015j],\n",
              "       [-0.25    +0.433015j, -0.433015+0.75j    ,\n",
              "         0.      +0.j      ,  0.      +0.j      ],\n",
              "       [-0.433015+0.75j    ,  0.25    -0.433015j,\n",
              "         0.      +0.j      ,  0.      +0.j      ]])"
            ]
          },
          "execution_count": 48,
          "metadata": {},
          "output_type": "execute_result"
        }
      ],
      "source": [
        "_, n, _ = CextT_S_inv_I_CS_Cext.shape\n",
        "S = CextT_S_inv_I_CS_Cext.reshape(*batch_shape, n, n)\n",
        "S"
      ]
    },
    {
      "cell_type": "markdown",
      "id": "1f6dea4c",
      "metadata": {
        "papermill": {
          "duration": 0.052201,
          "end_time": "2022-08-10T16:02:13.438170",
          "exception": false,
          "start_time": "2022-08-10T16:02:13.385969",
          "status": "completed"
        },
        "tags": []
      },
      "source": [
        "Oh and to complete the `SDense` representation we need to specify the port map as well:"
      ]
    },
    {
      "cell_type": "code",
      "execution_count": 49,
      "id": "21098a45",
      "metadata": {
        "execution": {
          "iopub.execute_input": "2022-08-10T16:02:13.547715Z",
          "iopub.status.busy": "2022-08-10T16:02:13.547231Z",
          "iopub.status.idle": "2022-08-10T16:02:13.548994Z",
          "shell.execute_reply": "2022-08-10T16:02:13.549329Z"
        },
        "papermill": {
          "duration": 0.05897,
          "end_time": "2022-08-10T16:02:13.549452",
          "exception": false,
          "start_time": "2022-08-10T16:02:13.490482",
          "status": "completed"
        },
        "tags": []
      },
      "outputs": [
        {
          "data": {
            "text/plain": [
              "{'in0': 0, 'in1': 1, 'out0': 2, 'out1': 3}"
            ]
          },
          "execution_count": 49,
          "metadata": {},
          "output_type": "execute_result"
        }
      ],
      "source": [
        "port_map"
      ]
    },
    {
      "cell_type": "markdown",
      "id": "0cfee3cf",
      "metadata": {
        "papermill": {
          "duration": 0.053528,
          "end_time": "2022-08-10T16:02:13.655982",
          "exception": false,
          "start_time": "2022-08-10T16:02:13.602454",
          "status": "completed"
        },
        "tags": []
      },
      "source": [
        "## Algorithm Improvements"
      ]
    },
    {
      "cell_type": "markdown",
      "id": "26b70270",
      "metadata": {
        "papermill": {
          "duration": 0.052432,
          "end_time": "2022-08-10T16:02:13.761042",
          "exception": false,
          "start_time": "2022-08-10T16:02:13.708610",
          "status": "completed"
        },
        "tags": []
      },
      "source": [
        "This algorithm is \n",
        "\n",
        "* very fast for large circuits \ud83d\ude42\n",
        "\n",
        "This algorithm is however:\n",
        "\n",
        "* **not** jittable \ud83d\ude25\n",
        "* **not** differentiable \ud83d\ude25\n",
        "* **not** GPU-compatible \ud83d\ude42\n",
        "\n",
        "There are probably still plenty of improvements possible for this algorithm:\n",
        "\n",
        "* **\u00bf** make it jittable **?**\n",
        "* **\u00bf** make it differentiable (requires making klujax differentiable first) **?**\n",
        "* **\u00bf** make it GPU compatible (requires making suitesparse GPU compatible... probably not gonna happen)**?**\n",
        "\n",
        "Bottom line is... Do you know how to improve this algorithm or how to implement the above suggestions? Please open a Merge Request!"
      ]
    }
  ],
  "metadata": {
    "kernelspec": {
      "display_name": "sax",
      "language": "python",
      "name": "sax"
    },
    "language_info": {
      "codemirror_mode": {
        "name": "ipython",
        "version": 3
      },
      "file_extension": ".py",
      "mimetype": "text/x-python",
      "name": "python",
      "nbconvert_exporter": "python",
      "pygments_lexer": "ipython3",
      "version": "3.9.0"
    },
    "papermill": {
      "default_parameters": {},
      "duration": 17.52075,
      "end_time": "2022-08-10T16:02:16.864291",
      "environment_variables": {},
      "exception": null,
      "input_path": "./nbs/07b_backends_klu.ipynb",
      "output_path": "./nbs/07b_backends_klu.ipynb",
      "parameters": {},
      "start_time": "2022-08-10T16:01:59.343541",
      "version": "2.3.4"
    }
  },
  "nbformat": 4,
  "nbformat_minor": 5
}
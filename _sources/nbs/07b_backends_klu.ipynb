{
  "cells": [
    {
      "cell_type": "code",
      "execution_count": 1,
      "id": "7d84e25821b5f8a5",
      "metadata": {
        "execution": {
          "iopub.execute_input": "2022-08-16T04:19:19.433583Z",
          "iopub.status.busy": "2022-08-16T04:19:19.433145Z",
          "iopub.status.idle": "2022-08-16T04:19:19.436167Z",
          "shell.execute_reply": "2022-08-16T04:19:19.435739Z"
        },
        "papermill": {
          "duration": 0.046269,
          "end_time": "2022-08-16T04:19:19.436273",
          "exception": false,
          "start_time": "2022-08-16T04:19:19.390004",
          "status": "completed"
        },
        "tags": [
          "remove-cell"
        ]
      },
      "outputs": [],
      "source": []
    },
    {
      "cell_type": "markdown",
      "id": "27c3489e",
      "metadata": {
        "papermill": {
          "duration": 0.034899,
          "end_time": "2022-08-16T04:19:19.506815",
          "exception": false,
          "start_time": "2022-08-16T04:19:19.471916",
          "status": "completed"
        },
        "tags": []
      },
      "source": [
        "# Backend - KLU\n",
        "\n",
        "> SAX KLU Backend"
      ]
    },
    {
      "cell_type": "code",
      "execution_count": 2,
      "id": "73b24bfc6d857e19",
      "metadata": {
        "execution": {
          "iopub.execute_input": "2022-08-16T04:19:19.585011Z",
          "iopub.status.busy": "2022-08-16T04:19:19.584578Z",
          "iopub.status.idle": "2022-08-16T04:19:21.248496Z",
          "shell.execute_reply": "2022-08-16T04:19:21.248059Z"
        },
        "papermill": {
          "duration": 1.706873,
          "end_time": "2022-08-16T04:19:21.248625",
          "exception": false,
          "start_time": "2022-08-16T04:19:19.541752",
          "status": "completed"
        },
        "tags": [
          "remove-cell"
        ]
      },
      "outputs": [],
      "source": [
        "import sax\n",
        "import matplotlib.pyplot as plt\n",
        "from fastcore.test import test_eq\n",
        "from pytest import approx, raises\n",
        "from nbdev import show_doc\n",
        "\n",
        "import os, sys; sys.stderr = open(os.devnull, \"w\")"
      ]
    },
    {
      "cell_type": "code",
      "execution_count": 3,
      "id": "44aabc954cc17135",
      "metadata": {
        "execution": {
          "iopub.execute_input": "2022-08-16T04:19:21.326484Z",
          "iopub.status.busy": "2022-08-16T04:19:21.326040Z",
          "iopub.status.idle": "2022-08-16T04:19:21.327577Z",
          "shell.execute_reply": "2022-08-16T04:19:21.327994Z"
        },
        "papermill": {
          "duration": 0.042477,
          "end_time": "2022-08-16T04:19:21.328117",
          "exception": false,
          "start_time": "2022-08-16T04:19:21.285640",
          "status": "completed"
        },
        "tags": [
          "hide-input"
        ]
      },
      "outputs": [],
      "source": [
        "from __future__ import annotations\n",
        "\n",
        "from typing import Dict\n",
        "\n",
        "    \n",
        "from sax.typing_ import SDense, SDict, SType, scoo\n",
        "from sax.backends import evaluate_circuit\n",
        "\n",
        "try:\n",
        "    import klujax\n",
        "except ImportError:\n",
        "    klujax = None\n",
        "    \n",
        "try:\n",
        "    import jax\n",
        "    import jax.numpy as jnp\n",
        "    JAX_AVAILABLE = True\n",
        "except ImportError:\n",
        "    import numpy as jnp\n",
        "    JAX_AVAILABLE = False"
      ]
    },
    {
      "cell_type": "markdown",
      "id": "64e42767",
      "metadata": {
        "papermill": {
          "duration": 0.035343,
          "end_time": "2022-08-16T04:19:21.398803",
          "exception": false,
          "start_time": "2022-08-16T04:19:21.363460",
          "status": "completed"
        },
        "tags": []
      },
      "source": [
        "## Citation\n",
        "The KLU backend is using `klujax`, which uses the [SuiteSparse](https://github.com/DrTimothyAldenDavis/SuiteSparse) C++ libraries for sparse matrix evaluations to evaluate the circuit insanely fast on a CPU. The specific algorith being used in question is the KLU algorithm:\n",
        "\n",
        "> Ekanathan Palamadai Natariajan. \"*KLU - A high performance sparse linear solver for circuit simulation problems.*\""
      ]
    },
    {
      "cell_type": "markdown",
      "id": "2db5821c",
      "metadata": {
        "papermill": {
          "duration": 0.035324,
          "end_time": "2022-08-16T04:19:21.469358",
          "exception": false,
          "start_time": "2022-08-16T04:19:21.434034",
          "status": "completed"
        },
        "tags": []
      },
      "source": [
        "## Theoretical Background"
      ]
    },
    {
      "cell_type": "markdown",
      "id": "3d4d4a4c",
      "metadata": {
        "papermill": {
          "duration": 0.065094,
          "end_time": "2022-08-16T04:19:21.569553",
          "exception": false,
          "start_time": "2022-08-16T04:19:21.504459",
          "status": "completed"
        },
        "tags": []
      },
      "source": [
        "The core of the KLU algorithm is supported by `klujax`, which internally uses the Suitesparse libraries to solve the sparse system `Ax = b`, in which A is a sparse matrix."
      ]
    },
    {
      "cell_type": "markdown",
      "id": "a1985f58",
      "metadata": {
        "papermill": {
          "duration": 0.03581,
          "end_time": "2022-08-16T04:19:21.640684",
          "exception": false,
          "start_time": "2022-08-16T04:19:21.604874",
          "status": "completed"
        },
        "tags": []
      },
      "source": [
        "Now it only comes down to shoehorn our circuit evaluation into a sparse linear system of equations $Ax=b$ where we need to solve for $x$ using `klujax`. \n",
        "Consider the block diagonal matrix $S_{bd}$ of all components in the circuit acting on the fields $x_{in}$ at each of the individual ports of each of the component integrated in $S^{bd}$. The output fields $x^{out}$ at each of those ports is then given by:\n",
        "\n",
        "$$\n",
        "x^{out} = S_{bd} x^{in}\n",
        "$$"
      ]
    },
    {
      "cell_type": "markdown",
      "id": "9c26c04a",
      "metadata": {
        "papermill": {
          "duration": 0.03529,
          "end_time": "2022-08-16T04:19:21.711130",
          "exception": false,
          "start_time": "2022-08-16T04:19:21.675840",
          "status": "completed"
        },
        "tags": []
      },
      "source": [
        "However, $S_{bd}$ is not the S-matrix of the circuit as it does not encode any connectivity *between* the components. Connecting two component ports basically comes down to enforcing equality between the output fields at one port of a component with the input fields at another port of another (or maybe even the same) component. This equality can be enforced by creating an internal connection matrix, connecting all internal ports of the circuit:\n",
        "\n",
        "$$\n",
        "x^{in} = C_{int} x^{out}\n",
        "$$"
      ]
    },
    {
      "cell_type": "markdown",
      "id": "16b3fdad",
      "metadata": {
        "papermill": {
          "duration": 0.035565,
          "end_time": "2022-08-16T04:19:21.782446",
          "exception": false,
          "start_time": "2022-08-16T04:19:21.746881",
          "status": "completed"
        },
        "tags": []
      },
      "source": [
        "We can thus write the following combined equation:\n",
        "\n",
        "$$\n",
        "x^{in} = C_{int} S_{bd} x^{in}\n",
        "$$"
      ]
    },
    {
      "cell_type": "markdown",
      "id": "f5ceb9a2",
      "metadata": {
        "papermill": {
          "duration": 0.035522,
          "end_time": "2022-08-16T04:19:21.853574",
          "exception": false,
          "start_time": "2022-08-16T04:19:21.818052",
          "status": "completed"
        },
        "tags": []
      },
      "source": [
        "But this is not the complete story... Some component ports will *not* be *interconnected* with other ports: they will become the new *external ports* (or output ports) of the combined circuit. We can include those external ports into the above equation as follows:\n",
        "\n",
        "$$\n",
        "\\begin{pmatrix} x^{in} \\\\ x^{out}_{ext} \\end{pmatrix} = \\begin{pmatrix} C_{int} & C_{ext} \\\\ C_{ext}^T & 0 \\end{pmatrix} \\begin{pmatrix} S_{bd} x^{in} \\\\ x_{ext}^{in} \\end{pmatrix} \n",
        "$$"
      ]
    },
    {
      "cell_type": "markdown",
      "id": "6382a242",
      "metadata": {
        "papermill": {
          "duration": 0.035571,
          "end_time": "2022-08-16T04:19:21.924877",
          "exception": false,
          "start_time": "2022-08-16T04:19:21.889306",
          "status": "completed"
        },
        "tags": []
      },
      "source": [
        "Note that $C_{ext}$ is obviously **not** a square matrix. Eliminating $x^{in}$ from the equation above finally yields:\n",
        "\n",
        "$$\n",
        "x^{out}_{ext} = C^T_{ext} S_{bd} (\\mathbb{1} - C_{int}S_{bd})^{-1} C_{ext}x_{ext}^{in}\n",
        "$$"
      ]
    },
    {
      "cell_type": "markdown",
      "id": "5f15bdcd",
      "metadata": {
        "papermill": {
          "duration": 0.035726,
          "end_time": "2022-08-16T04:19:21.995907",
          "exception": false,
          "start_time": "2022-08-16T04:19:21.960181",
          "status": "completed"
        },
        "tags": []
      },
      "source": [
        "We basically found a representation of the circuit S-matrix:\n",
        "\n",
        "$$\n",
        "S = C^T_{ext} S_{bd} (\\mathbb{1} - C_{int}S_{bd})^{-1} C_{ext}\n",
        "$$"
      ]
    },
    {
      "cell_type": "markdown",
      "id": "40ad83b8",
      "metadata": {
        "papermill": {
          "duration": 0.035274,
          "end_time": "2022-08-16T04:19:22.066626",
          "exception": false,
          "start_time": "2022-08-16T04:19:22.031352",
          "status": "completed"
        },
        "tags": []
      },
      "source": [
        "Obviously, we won't want to calculate the inverse $(\\mathbb{1} - C_{int}S_{bd})^{-1}$, which is the inverse of a very sparse matrix (a connection matrix only has a single 1 per line), which very often is not even sparse itself. In stead we'll use the `solve_klu` function:\n",
        "\n",
        "$$\n",
        "S = C^T_{ext} S_{bd} \\texttt{solve}\\_\\texttt{klu}\\left((\\mathbb{1} - C_{int}S_{bd}), C_{ext}\\right)\n",
        "$$"
      ]
    },
    {
      "cell_type": "markdown",
      "id": "018fab3d",
      "metadata": {
        "papermill": {
          "duration": 0.035355,
          "end_time": "2022-08-16T04:19:22.137512",
          "exception": false,
          "start_time": "2022-08-16T04:19:22.102157",
          "status": "completed"
        },
        "tags": []
      },
      "source": [
        "Moreover, $C_{ext}^TS_{bd}$ is also a sparse matrix, therefore we'll also need a `mul_coo` routine:\n",
        "\n",
        "$$\n",
        "S = C^T_{ext} \\texttt{mul}\\_\\texttt{coo}\\left(S_{bd},~~\\texttt{solve}\\_\\texttt{klu}\\left((\\mathbb{1} - C_{int}S_{bd}),~C_{ext}\\right)\\right)\n",
        "$$"
      ]
    },
    {
      "cell_type": "markdown",
      "id": "d9b78852",
      "metadata": {
        "papermill": {
          "duration": 0.035625,
          "end_time": "2022-08-16T04:19:22.208483",
          "exception": false,
          "start_time": "2022-08-16T04:19:22.172858",
          "status": "completed"
        },
        "tags": []
      },
      "source": [
        "## Sparse Helper Functions"
      ]
    },
    {
      "cell_type": "code",
      "execution_count": 4,
      "id": "aa3864f18a98394a",
      "metadata": {
        "execution": {
          "iopub.execute_input": "2022-08-16T04:19:22.284225Z",
          "iopub.status.busy": "2022-08-16T04:19:22.283774Z",
          "iopub.status.idle": "2022-08-16T04:19:22.285463Z",
          "shell.execute_reply": "2022-08-16T04:19:22.285090Z"
        },
        "papermill": {
          "duration": 0.041215,
          "end_time": "2022-08-16T04:19:22.285560",
          "exception": false,
          "start_time": "2022-08-16T04:19:22.244345",
          "status": "completed"
        },
        "tags": [
          "remove-input"
        ]
      },
      "outputs": [],
      "source": [
        "if klujax is not None:\n",
        "    show_doc(klujax.solve, doc_string=False, name=\"klujax.solve\")"
      ]
    },
    {
      "cell_type": "markdown",
      "id": "01299d5d",
      "metadata": {
        "papermill": {
          "duration": 0.035317,
          "end_time": "2022-08-16T04:19:22.356296",
          "exception": false,
          "start_time": "2022-08-16T04:19:22.320979",
          "status": "completed"
        },
        "tags": []
      },
      "source": [
        "`klujax.solve` solves the sparse system of equations `Ax=b` for `x`. Where `A` is represented by in [COO-format](https://en.wikipedia.org/wiki/Sparse_matrix#Coordinate_list_(COO)) as (`Ai`, `Aj`, `Ax`).\n",
        "\n",
        "> Example"
      ]
    },
    {
      "cell_type": "code",
      "execution_count": 5,
      "id": "63e7977a",
      "metadata": {
        "execution": {
          "iopub.execute_input": "2022-08-16T04:19:22.434445Z",
          "iopub.status.busy": "2022-08-16T04:19:22.434011Z",
          "iopub.status.idle": "2022-08-16T04:19:22.446541Z",
          "shell.execute_reply": "2022-08-16T04:19:22.446947Z"
        },
        "papermill": {
          "duration": 0.055153,
          "end_time": "2022-08-16T04:19:22.447071",
          "exception": false,
          "start_time": "2022-08-16T04:19:22.391918",
          "status": "completed"
        },
        "tags": []
      },
      "outputs": [
        {
          "data": {
            "text/plain": [
              "array([6. , 1. , 0.5, 0.5, 2. ])"
            ]
          },
          "execution_count": 5,
          "metadata": {},
          "output_type": "execute_result"
        }
      ],
      "source": [
        "Ai = jnp.array([0, 1, 2, 3, 4])\n",
        "Aj = jnp.array([1, 3, 4, 0, 2])\n",
        "Ax = jnp.array([5, 6, 1, 1, 2])\n",
        "b = jnp.array([5, 3, 2, 6, 1])\n",
        "\n",
        "if klujax is not None:\n",
        "    x = klujax.solve(Ai, Aj, Ax, b)\n",
        "else:\n",
        "    x = jnp.array([6.0, 1.0, 0.5, 0.5, 2.0])\n",
        "\n",
        "x"
      ]
    },
    {
      "cell_type": "markdown",
      "id": "3233b04c",
      "metadata": {
        "papermill": {
          "duration": 0.036049,
          "end_time": "2022-08-16T04:19:22.519419",
          "exception": false,
          "start_time": "2022-08-16T04:19:22.483370",
          "status": "completed"
        },
        "tags": []
      },
      "source": [
        "This result is indeed correct:"
      ]
    },
    {
      "cell_type": "code",
      "execution_count": 6,
      "id": "629bbc71",
      "metadata": {
        "execution": {
          "iopub.execute_input": "2022-08-16T04:19:22.599894Z",
          "iopub.status.busy": "2022-08-16T04:19:22.598482Z",
          "iopub.status.idle": "2022-08-16T04:19:22.741085Z",
          "shell.execute_reply": "2022-08-16T04:19:22.741500Z"
        },
        "papermill": {
          "duration": 0.186626,
          "end_time": "2022-08-16T04:19:22.741635",
          "exception": false,
          "start_time": "2022-08-16T04:19:22.555009",
          "status": "completed"
        },
        "tags": []
      },
      "outputs": [
        {
          "name": "stdout",
          "output_type": "stream",
          "text": [
            "[[0. 5. 0. 0. 0.]\n",
            " [0. 0. 0. 6. 0.]\n",
            " [0. 0. 0. 0. 1.]\n",
            " [1. 0. 0. 0. 0.]\n",
            " [0. 0. 2. 0. 0.]]\n",
            "[5. 3. 2. 6. 1.]\n"
          ]
        }
      ],
      "source": [
        "if JAX_AVAILABLE:\n",
        "    A = jnp.zeros((5, 5)).at[Ai, Aj].set(Ax)\n",
        "    print(A)\n",
        "    print(A@x)"
      ]
    },
    {
      "cell_type": "markdown",
      "id": "c7fe6547",
      "metadata": {
        "papermill": {
          "duration": 0.036764,
          "end_time": "2022-08-16T04:19:22.815143",
          "exception": false,
          "start_time": "2022-08-16T04:19:22.778379",
          "status": "completed"
        },
        "tags": []
      },
      "source": [
        "However, to use this function effectively, we probably need an extra dimension for `Ax`. Indeed, we would like to solve this equation for multiple wavelengths (or more general, for multiple circuit configurations) at once. For this we can use `jax.vmap` to expose `klujax.solve` to more dimensions for `Ax`:"
      ]
    },
    {
      "cell_type": "code",
      "execution_count": 7,
      "id": "fb61c7174d8b2882",
      "metadata": {
        "execution": {
          "iopub.execute_input": "2022-08-16T04:19:22.891383Z",
          "iopub.status.busy": "2022-08-16T04:19:22.890938Z",
          "iopub.status.idle": "2022-08-16T04:19:22.892676Z",
          "shell.execute_reply": "2022-08-16T04:19:22.892321Z"
        },
        "papermill": {
          "duration": 0.041534,
          "end_time": "2022-08-16T04:19:22.892775",
          "exception": false,
          "start_time": "2022-08-16T04:19:22.851241",
          "status": "completed"
        },
        "tags": []
      },
      "outputs": [],
      "source": [
        "solve_klu = None\n",
        "if klujax is not None:\n",
        "    solve_klu = jax.vmap(klujax.solve, (None, None, 0, None), 0)"
      ]
    },
    {
      "cell_type": "code",
      "execution_count": 8,
      "id": "719434286034687f",
      "metadata": {
        "execution": {
          "iopub.execute_input": "2022-08-16T04:19:22.969769Z",
          "iopub.status.busy": "2022-08-16T04:19:22.969253Z",
          "iopub.status.idle": "2022-08-16T04:19:22.971584Z",
          "shell.execute_reply": "2022-08-16T04:19:22.971951Z"
        },
        "papermill": {
          "duration": 0.042644,
          "end_time": "2022-08-16T04:19:22.972064",
          "exception": false,
          "start_time": "2022-08-16T04:19:22.929420",
          "status": "completed"
        },
        "tags": [
          "remove-input"
        ]
      },
      "outputs": [
        {
          "data": {
            "text/markdown": [
              "<h4 id=\"solve_klu\" class=\"doc_header\"><code>solve_klu</code><a href=\"\" class=\"source_link\" style=\"float:right\">[source]</a></h4>\n",
              "\n"
            ],
            "text/plain": [
              "<IPython.core.display.Markdown object>"
            ]
          },
          "metadata": {},
          "output_type": "display_data"
        }
      ],
      "source": [
        "show_doc(solve_klu, doc_string=False, name=\"solve_klu\")"
      ]
    },
    {
      "cell_type": "markdown",
      "id": "6707049d",
      "metadata": {
        "papermill": {
          "duration": 0.036919,
          "end_time": "2022-08-16T04:19:23.045715",
          "exception": false,
          "start_time": "2022-08-16T04:19:23.008796",
          "status": "completed"
        },
        "tags": []
      },
      "source": [
        "Let's now redefine `Ax` and see what it gives:"
      ]
    },
    {
      "cell_type": "code",
      "execution_count": 9,
      "id": "d4d7b6f9",
      "metadata": {
        "execution": {
          "iopub.execute_input": "2022-08-16T04:19:23.129019Z",
          "iopub.status.busy": "2022-08-16T04:19:23.127441Z",
          "iopub.status.idle": "2022-08-16T04:19:23.130859Z",
          "shell.execute_reply": "2022-08-16T04:19:23.131224Z"
        },
        "papermill": {
          "duration": 0.048404,
          "end_time": "2022-08-16T04:19:23.131342",
          "exception": false,
          "start_time": "2022-08-16T04:19:23.082938",
          "status": "completed"
        },
        "tags": []
      },
      "outputs": [
        {
          "data": {
            "text/plain": [
              "array([[6.       , 1.       , 0.5      , 0.5      , 2.       ],\n",
              "       [3.       , 1.       , 1.       , 0.75     , 0.6666667],\n",
              "       [1.5      , 5.       , 0.2      , 1.5      , 0.6666667]],            dtype=float32))"
            ]
          },
          "execution_count": 9,
          "metadata": {},
          "output_type": "execute_result"
        }
      ],
      "source": [
        "Ai = jnp.array([0, 1, 2, 3, 4])\n",
        "Aj = jnp.array([1, 3, 4, 0, 2])\n",
        "Ax = jnp.array([[5, 6, 1, 1, 2], [5, 4, 3, 2, 1], [1, 2, 3, 4, 5]])\n",
        "b = jnp.array([5, 3, 2, 6, 1])\n",
        "if klujax is not None:\n",
        "    x = solve_klu(Ai, Aj, Ax, b)\n",
        "else:\n",
        "    x = jnp.array([\n",
        "        [6.0, 1.0, 0.5, 0.5, 2.0],\n",
        "        [3.0, 1.0, 1.0, 0.75, 0.66666667],\n",
        "        [1.5, 5.0, 0.2, 1.5, 0.66666667],\n",
        "    ])\n",
        "    \n",
        "x"
      ]
    },
    {
      "cell_type": "markdown",
      "id": "5f342c6f",
      "metadata": {
        "papermill": {
          "duration": 0.036997,
          "end_time": "2022-08-16T04:19:23.205589",
          "exception": false,
          "start_time": "2022-08-16T04:19:23.168592",
          "status": "completed"
        },
        "tags": []
      },
      "source": [
        "This result is indeed correct:"
      ]
    },
    {
      "cell_type": "code",
      "execution_count": 10,
      "id": "0afefaa6",
      "metadata": {
        "execution": {
          "iopub.execute_input": "2022-08-16T04:19:23.287203Z",
          "iopub.status.busy": "2022-08-16T04:19:23.286782Z",
          "iopub.status.idle": "2022-08-16T04:19:23.376677Z",
          "shell.execute_reply": "2022-08-16T04:19:23.377067Z"
        },
        "papermill": {
          "duration": 0.134745,
          "end_time": "2022-08-16T04:19:23.377227",
          "exception": false,
          "start_time": "2022-08-16T04:19:23.242482",
          "status": "completed"
        },
        "tags": []
      },
      "outputs": [],
      "source": [
        "if JAX_AVAILABLE:\n",
        "    A = jnp.zeros((3, 5, 5)).at[:, Ai, Aj].set(Ax)\n",
        "    jnp.einsum(\"ijk,ik->ij\", A, x)"
      ]
    },
    {
      "cell_type": "markdown",
      "id": "7ed8f62d",
      "metadata": {
        "papermill": {
          "duration": 0.037025,
          "end_time": "2022-08-16T04:19:23.451849",
          "exception": false,
          "start_time": "2022-08-16T04:19:23.414824",
          "status": "completed"
        },
        "tags": []
      },
      "source": [
        "Additionally, we need a way to multiply a sparse COO-matrix with a dense vector. This can be done with `klujax.coo_mul_vec`:"
      ]
    },
    {
      "cell_type": "code",
      "execution_count": 11,
      "id": "1208c94560a868c5",
      "metadata": {
        "execution": {
          "iopub.execute_input": "2022-08-16T04:19:23.529502Z",
          "iopub.status.busy": "2022-08-16T04:19:23.529065Z",
          "iopub.status.idle": "2022-08-16T04:19:23.530759Z",
          "shell.execute_reply": "2022-08-16T04:19:23.530419Z"
        },
        "papermill": {
          "duration": 0.042175,
          "end_time": "2022-08-16T04:19:23.530856",
          "exception": false,
          "start_time": "2022-08-16T04:19:23.488681",
          "status": "completed"
        },
        "tags": [
          "remove-input"
        ]
      },
      "outputs": [],
      "source": [
        "\n",
        "if klujax is not None:\n",
        "    show_doc(klujax.coo_mul_vec, doc_string=False, name=\"klujax.coo_mul_vec\")"
      ]
    },
    {
      "cell_type": "markdown",
      "id": "7f57c443",
      "metadata": {
        "papermill": {
          "duration": 0.037145,
          "end_time": "2022-08-16T04:19:23.604830",
          "exception": false,
          "start_time": "2022-08-16T04:19:23.567685",
          "status": "completed"
        },
        "tags": []
      },
      "source": [
        "However, it's useful to allow a batch dimension, this time *both* in `Ax` and in `b`:"
      ]
    },
    {
      "cell_type": "code",
      "execution_count": 12,
      "id": "cce1a2e9e675654e",
      "metadata": {
        "execution": {
          "iopub.execute_input": "2022-08-16T04:19:23.682805Z",
          "iopub.status.busy": "2022-08-16T04:19:23.682379Z",
          "iopub.status.idle": "2022-08-16T04:19:23.684134Z",
          "shell.execute_reply": "2022-08-16T04:19:23.683712Z"
        },
        "papermill": {
          "duration": 0.04201,
          "end_time": "2022-08-16T04:19:23.684229",
          "exception": false,
          "start_time": "2022-08-16T04:19:23.642219",
          "status": "completed"
        },
        "tags": [
          "remove-cell"
        ]
      },
      "outputs": [],
      "source": [
        "\n",
        "# @jax.jit  # TODO: make this available to autograd\n",
        "# def mul_coo(Ai, Aj, Ax, b):\n",
        "#     result = jnp.zeros_like(b).at[..., Ai, :].add(Ax[..., :, None] * b[..., Aj, :])\n",
        "#     return result"
      ]
    },
    {
      "cell_type": "code",
      "execution_count": 13,
      "id": "5bd6535f24ba3e00",
      "metadata": {
        "execution": {
          "iopub.execute_input": "2022-08-16T04:19:23.762039Z",
          "iopub.status.busy": "2022-08-16T04:19:23.761620Z",
          "iopub.status.idle": "2022-08-16T04:19:23.763306Z",
          "shell.execute_reply": "2022-08-16T04:19:23.762894Z"
        },
        "papermill": {
          "duration": 0.042241,
          "end_time": "2022-08-16T04:19:23.763396",
          "exception": false,
          "start_time": "2022-08-16T04:19:23.721155",
          "status": "completed"
        },
        "tags": []
      },
      "outputs": [],
      "source": [
        "mul_coo = None \n",
        "if klujax is not None:\n",
        "    mul_coo = jax.vmap(klujax.coo_mul_vec, (None, None, 0, 0), 0)"
      ]
    },
    {
      "cell_type": "code",
      "execution_count": 14,
      "id": "5e19bacb3f871814",
      "metadata": {
        "execution": {
          "iopub.execute_input": "2022-08-16T04:19:23.841774Z",
          "iopub.status.busy": "2022-08-16T04:19:23.841353Z",
          "iopub.status.idle": "2022-08-16T04:19:23.843583Z",
          "shell.execute_reply": "2022-08-16T04:19:23.843948Z"
        },
        "papermill": {
          "duration": 0.043463,
          "end_time": "2022-08-16T04:19:23.844057",
          "exception": false,
          "start_time": "2022-08-16T04:19:23.800594",
          "status": "completed"
        },
        "tags": [
          "remove-input"
        ]
      },
      "outputs": [
        {
          "data": {
            "text/markdown": [
              "<h4 id=\"mul_coo\" class=\"doc_header\"><code>mul_coo</code><a href=\"\" class=\"source_link\" style=\"float:right\">[source]</a></h4>\n",
              "\n"
            ],
            "text/plain": [
              "<IPython.core.display.Markdown object>"
            ]
          },
          "metadata": {},
          "output_type": "display_data"
        }
      ],
      "source": [
        "show_doc(mul_coo, doc_string=False, name=\"mul_coo\")"
      ]
    },
    {
      "cell_type": "markdown",
      "id": "d26cc3d9",
      "metadata": {
        "papermill": {
          "duration": 0.037479,
          "end_time": "2022-08-16T04:19:23.919303",
          "exception": false,
          "start_time": "2022-08-16T04:19:23.881824",
          "status": "completed"
        },
        "tags": []
      },
      "source": [
        "Let's confirm this does the right thing:"
      ]
    },
    {
      "cell_type": "code",
      "execution_count": 15,
      "id": "bd868973",
      "metadata": {
        "execution": {
          "iopub.execute_input": "2022-08-16T04:19:23.999699Z",
          "iopub.status.busy": "2022-08-16T04:19:23.999072Z",
          "iopub.status.idle": "2022-08-16T04:19:24.001816Z",
          "shell.execute_reply": "2022-08-16T04:19:24.001459Z"
        },
        "papermill": {
          "duration": 0.045007,
          "end_time": "2022-08-16T04:19:24.001908",
          "exception": false,
          "start_time": "2022-08-16T04:19:23.956901",
          "status": "completed"
        },
        "tags": []
      },
      "outputs": [
        {
          "data": {
            "text/plain": [
              "array([[5., 3., 2., 6., 1.],\n",
              "       [5., 3., 2., 6., 1.],\n",
              "       [5., 3., 2., 6., 1.]])"
            ]
          },
          "execution_count": 15,
          "metadata": {},
          "output_type": "execute_result"
        }
      ],
      "source": [
        "if klujax is not None:\n",
        "    result = mul_coo(Ai, Aj, Ax, x)\n",
        "else:\n",
        "    result = jnp.array([\n",
        "        [5.0, 3.0, 2.0, 6.0, 1.0],\n",
        "        [5.0, 3.0, 2.00000001, 6.0, 1.0],\n",
        "        [5.0, 3.0, 2.00000001, 6.0, 1.0],\n",
        "    ])\n",
        "    \n",
        "result"
      ]
    },
    {
      "cell_type": "markdown",
      "id": "d71e89fa",
      "metadata": {
        "papermill": {
          "duration": 0.038486,
          "end_time": "2022-08-16T04:19:24.078416",
          "exception": false,
          "start_time": "2022-08-16T04:19:24.039930",
          "status": "completed"
        },
        "tags": []
      },
      "source": [
        "## Circuit Evaluation"
      ]
    },
    {
      "cell_type": "markdown",
      "id": "4bd00a63db3caac8",
      "metadata": {},
      "source": [
        ":::{eval-rst}\n",
        ".. autofunction:: sax.backends.klu.evaluate_circuit_klu\n",
        ":::\n"
      ]
    },
    {
      "cell_type": "code",
      "execution_count": 16,
      "id": "0bdf513d718d63ca",
      "metadata": {
        "execution": {
          "iopub.execute_input": "2022-08-16T04:19:24.169154Z",
          "iopub.status.busy": "2022-08-16T04:19:24.162295Z",
          "iopub.status.idle": "2022-08-16T04:19:24.170815Z",
          "shell.execute_reply": "2022-08-16T04:19:24.170473Z"
        },
        "papermill": {
          "duration": 0.054581,
          "end_time": "2022-08-16T04:19:24.170914",
          "exception": false,
          "start_time": "2022-08-16T04:19:24.116333",
          "status": "completed"
        },
        "tags": [
          "hide-input"
        ]
      },
      "outputs": [],
      "source": [
        "def evaluate_circuit_klu(\n",
        "    instances: Dict[str, SType],\n",
        "    connections: Dict[str, str],\n",
        "    ports: Dict[str, str],\n",
        "):\n",
        "    \"\"\"evaluate a circuit using KLU for the given sdicts. \"\"\"\n",
        "\n",
        "    if klujax is None:\n",
        "        raise ImportError(\n",
        "            \"Could not import 'klujax'. \"\n",
        "            \"Please install it first before using backend method 'klu'\"\n",
        "        )\n",
        "\n",
        "    assert solve_klu is not None\n",
        "    assert mul_coo is not None\n",
        "\n",
        "    connections = {**connections, **{v: k for k, v in connections.items()}}\n",
        "    inverse_ports = {v: k for k, v in ports.items()}\n",
        "    port_map = {k: i for i, k in enumerate(ports)}\n",
        "\n",
        "    idx, Si, Sj, Sx, instance_ports = 0, [], [], [], {}\n",
        "    batch_shape = ()\n",
        "    for name, instance in instances.items():\n",
        "        si, sj, sx, ports_map = scoo(instance)\n",
        "        Si.append(si + idx)\n",
        "        Sj.append(sj + idx)\n",
        "        Sx.append(sx)\n",
        "        if len(sx.shape[:-1]) > len(batch_shape):\n",
        "            batch_shape = sx.shape[:-1]\n",
        "        instance_ports.update({f\"{name},{p}\": i + idx for p, i in ports_map.items()})\n",
        "        idx += len(ports_map)\n",
        "\n",
        "    Si = jnp.concatenate(Si, -1)\n",
        "    Sj = jnp.concatenate(Sj, -1)\n",
        "    Sx = jnp.concatenate(\n",
        "        [jnp.broadcast_to(sx, (*batch_shape, sx.shape[-1])) for sx in Sx], -1\n",
        "    )\n",
        "\n",
        "    n_col = idx\n",
        "    n_rhs = len(port_map)\n",
        "\n",
        "    Cmap = {\n",
        "        int(instance_ports[k]): int(instance_ports[v]) for k, v in connections.items()\n",
        "    }\n",
        "    Ci = jnp.array(list(Cmap.keys()), dtype=jnp.int32)\n",
        "    Cj = jnp.array(list(Cmap.values()), dtype=jnp.int32)\n",
        "\n",
        "    Cextmap = {int(instance_ports[k]): int(port_map[v]) for k, v in inverse_ports.items()}\n",
        "    Cexti = jnp.stack(list(Cextmap.keys()), 0)\n",
        "    Cextj = jnp.stack(list(Cextmap.values()), 0)\n",
        "    Cext = jnp.zeros((n_col, n_rhs), dtype=complex).at[Cexti, Cextj].set(1.0)\n",
        "\n",
        "    # TODO: make this block jittable...\n",
        "    Ix = jnp.ones((*batch_shape, n_col))\n",
        "    Ii = Ij = jnp.arange(n_col)\n",
        "    mask = Cj[None,:] == Si[:, None]\n",
        "    CSi = jnp.broadcast_to(Ci[None, :], mask.shape)[mask]\n",
        "\n",
        "    # CSi = jnp.where(Cj[None, :] == Si[:, None], Ci[None, :], 0).sum(1)\n",
        "    mask = (Cj[:, None] == Si[None, :]).any(0)\n",
        "    CSj = Sj[mask]\n",
        "    \n",
        "    if Sx.ndim > 1: # bug in JAX... see https://github.com/google/jax/issues/9050\n",
        "        CSx = Sx[..., mask]\n",
        "    else:\n",
        "        CSx = Sx[mask]\n",
        "        \n",
        "    # CSj = jnp.where(mask, Sj, 0)\n",
        "    # CSx = jnp.where(mask, Sx, 0.0)\n",
        "\n",
        "    I_CSi = jnp.concatenate([CSi, Ii], -1)\n",
        "    I_CSj = jnp.concatenate([CSj, Ij], -1)\n",
        "    I_CSx = jnp.concatenate([-CSx, Ix], -1)\n",
        "\n",
        "    n_col, n_rhs = Cext.shape\n",
        "    n_lhs = jnp.prod(jnp.array(batch_shape, dtype=jnp.int32))\n",
        "    Sx = Sx.reshape(n_lhs, -1)\n",
        "    I_CSx = I_CSx.reshape(n_lhs, -1)\n",
        "\n",
        "    inv_I_CS_Cext = solve_klu(I_CSi, I_CSj, I_CSx, Cext)\n",
        "    S_inv_I_CS_Cext = mul_coo(Si, Sj, Sx, inv_I_CS_Cext)\n",
        "\n",
        "    CextT_S_inv_I_CS_Cext = S_inv_I_CS_Cext[..., Cexti, :][..., :, Cextj]\n",
        "    \n",
        "    _, n, _ = CextT_S_inv_I_CS_Cext.shape\n",
        "    S = CextT_S_inv_I_CS_Cext.reshape(*batch_shape, n, n)\n",
        "\n",
        "    return S, port_map"
      ]
    },
    {
      "cell_type": "markdown",
      "id": "dce9d8ca",
      "metadata": {
        "papermill": {
          "duration": 0.038108,
          "end_time": "2022-08-16T04:19:24.246731",
          "exception": false,
          "start_time": "2022-08-16T04:19:24.208623",
          "status": "completed"
        },
        "tags": []
      },
      "source": [
        "## Example"
      ]
    },
    {
      "cell_type": "code",
      "execution_count": 17,
      "id": "2414a350111a50fc",
      "metadata": {
        "execution": {
          "iopub.execute_input": "2022-08-16T04:19:24.327596Z",
          "iopub.status.busy": "2022-08-16T04:19:24.327146Z",
          "iopub.status.idle": "2022-08-16T04:19:24.328796Z",
          "shell.execute_reply": "2022-08-16T04:19:24.328374Z"
        },
        "papermill": {
          "duration": 0.04401,
          "end_time": "2022-08-16T04:19:24.328892",
          "exception": false,
          "start_time": "2022-08-16T04:19:24.284882",
          "status": "completed"
        },
        "tags": [
          "remove-cell"
        ]
      },
      "outputs": [],
      "source": [
        "if klujax is None:\n",
        "    def evaluate_circuit_klu(\n",
        "        instances: Dict[str, SType],\n",
        "        connections: Dict[str, str],\n",
        "        ports: Dict[str, str],\n",
        "    ):\n",
        "        sdict = evaluate_circuit(instances, connections, ports)\n",
        "        sdense = sax.sdense(sdict)\n",
        "        return sdense"
      ]
    },
    {
      "cell_type": "code",
      "execution_count": 18,
      "id": "f577522a",
      "metadata": {
        "execution": {
          "iopub.execute_input": "2022-08-16T04:19:24.415845Z",
          "iopub.status.busy": "2022-08-16T04:19:24.415368Z",
          "iopub.status.idle": "2022-08-16T04:19:25.403184Z",
          "shell.execute_reply": "2022-08-16T04:19:25.403667Z"
        },
        "papermill": {
          "duration": 1.036984,
          "end_time": "2022-08-16T04:19:25.403832",
          "exception": false,
          "start_time": "2022-08-16T04:19:24.366848",
          "status": "completed"
        },
        "tags": []
      },
      "outputs": [],
      "source": [
        "wg_sdict: SDict = {\n",
        "    (\"in0\", \"out0\"): 0.5 + 0.86603j,\n",
        "    (\"out0\", \"in0\"): 0.5 + 0.86603j,\n",
        "}\n",
        "\n",
        "\u03c4, \u03ba = 0.5 ** 0.5, 1j * 0.5 ** 0.5\n",
        "dc_sdense: SDense = (\n",
        "    jnp.array([[0, 0, \u03c4, \u03ba], \n",
        "               [0, 0, \u03ba, \u03c4], \n",
        "               [\u03c4, \u03ba, 0, 0], \n",
        "               [\u03ba, \u03c4, 0, 0]]),\n",
        "    {\"in0\": 0, \"in1\": 1, \"out0\": 2, \"out1\": 3},\n",
        ")\n",
        "\n",
        "mzi_sdense: SDense = evaluate_circuit_klu(\n",
        "    instances={\n",
        "        \"dc1\": dc_sdense,\n",
        "        \"wg\": wg_sdict,\n",
        "        \"dc2\": dc_sdense,\n",
        "    },\n",
        "    connections={\n",
        "        \"dc1,out0\": \"wg,in0\",\n",
        "        \"wg,out0\": \"dc2,in0\",\n",
        "        \"dc1,out1\": \"dc2,in1\",\n",
        "    },\n",
        "    ports={\n",
        "        \"in0\": \"dc1,in0\",\n",
        "        \"in1\": \"dc1,in1\",\n",
        "        \"out0\": \"dc2,out0\",\n",
        "        \"out1\": \"dc2,out1\",\n",
        "    }\n",
        ")"
      ]
    },
    {
      "cell_type": "markdown",
      "id": "60b6d1e6",
      "metadata": {
        "papermill": {
          "duration": 0.038317,
          "end_time": "2022-08-16T04:19:25.482121",
          "exception": false,
          "start_time": "2022-08-16T04:19:25.443804",
          "status": "completed"
        },
        "tags": []
      },
      "source": [
        "the KLU backend yields `SDense` results by default:"
      ]
    },
    {
      "cell_type": "code",
      "execution_count": 19,
      "id": "ecc3115e",
      "metadata": {
        "execution": {
          "iopub.execute_input": "2022-08-16T04:19:25.563687Z",
          "iopub.status.busy": "2022-08-16T04:19:25.563215Z",
          "iopub.status.idle": "2022-08-16T04:19:25.564822Z",
          "shell.execute_reply": "2022-08-16T04:19:25.565417Z"
        },
        "papermill": {
          "duration": 0.04527,
          "end_time": "2022-08-16T04:19:25.565549",
          "exception": false,
          "start_time": "2022-08-16T04:19:25.520279",
          "status": "completed"
        },
        "tags": []
      },
      "outputs": [
        {
          "data": {
            "text/plain": [
              "(array([[ 0.        +0.j        ,  0.        +0.j        ,\n",
              "         -0.24999999+0.433015j  , -0.433015  +0.74999994j],\n",
              "        [ 0.        +0.j        ,  0.        +0.j        ,\n",
              "         -0.433015  +0.74999994j,  0.24999999-0.433015j  ],\n",
              "        [-0.24999999+0.433015j  , -0.433015  +0.74999994j,\n",
              "          0.        +0.j        ,  0.        +0.j        ],\n",
              "        [-0.433015  +0.74999994j,  0.24999999-0.433015j  ,\n",
              "          0.        +0.j        ,  0.        +0.j        ]],            dtype=complex64)),\n",
              " {'in0': 0, 'in1': 1, 'out0': 2, 'out1': 3})"
            ]
          },
          "execution_count": 19,
          "metadata": {},
          "output_type": "execute_result"
        }
      ],
      "source": [
        "mzi_sdense"
      ]
    },
    {
      "cell_type": "markdown",
      "id": "4b8e87f3",
      "metadata": {
        "papermill": {
          "duration": 0.03955,
          "end_time": "2022-08-16T04:19:25.644052",
          "exception": false,
          "start_time": "2022-08-16T04:19:25.604502",
          "status": "completed"
        },
        "tags": []
      },
      "source": [
        "An `SDense` is returned for perfomance reasons. By returning an `SDense` by default we prevent any internal `SDict -> SDense` conversions in deeply hierarchical circuits. It's however very easy to convert `SDense` to `SDict` as a final step. To do this, wrap the result (or the function generating the result) with `sdict`:"
      ]
    },
    {
      "cell_type": "code",
      "execution_count": 20,
      "id": "7202ab1e",
      "metadata": {
        "execution": {
          "iopub.execute_input": "2022-08-16T04:19:25.726048Z",
          "iopub.status.busy": "2022-08-16T04:19:25.725619Z",
          "iopub.status.idle": "2022-08-16T04:19:25.771736Z",
          "shell.execute_reply": "2022-08-16T04:19:25.772131Z"
        },
        "papermill": {
          "duration": 0.089335,
          "end_time": "2022-08-16T04:19:25.772278",
          "exception": false,
          "start_time": "2022-08-16T04:19:25.682943",
          "status": "completed"
        },
        "tags": []
      },
      "outputs": [
        {
          "data": {
            "text/plain": [
              "{('in0', 'in0'): 0j,\n",
              " ('in0', 'in1'): 0j,\n",
              " ('in0', 'out0'): -0.25+0.43301j,\n",
              " ('in0', 'out1'): -0.43301+0.75j,\n",
              " ('in1', 'in0'): 0j,\n",
              " ('in1', 'in1'): 0j,\n",
              " ('in1', 'out0'): -0.43301+0.75j,\n",
              " ('in1', 'out1'): 0.25-0.43301j,\n",
              " ('out0', 'in0'): -0.25+0.43301j,\n",
              " ('out0', 'in1'): -0.43301+0.75j,\n",
              " ('out0', 'out0'): 0j,\n",
              " ('out0', 'out1'): 0j,\n",
              " ('out1', 'in0'): -0.43301+0.75j,\n",
              " ('out1', 'in1'): 0.25-0.43301j,\n",
              " ('out1', 'out0'): 0j,\n",
              " ('out1', 'out1'): 0j}"
            ]
          },
          "execution_count": 20,
          "metadata": {},
          "output_type": "execute_result"
        }
      ],
      "source": [
        "sax.sdict(mzi_sdense)"
      ]
    },
    {
      "cell_type": "markdown",
      "id": "9f8cd5ea",
      "metadata": {
        "papermill": {
          "duration": 0.038997,
          "end_time": "2022-08-16T04:19:25.850630",
          "exception": false,
          "start_time": "2022-08-16T04:19:25.811633",
          "status": "completed"
        },
        "tags": []
      },
      "source": [
        "## Algorithm Walkthrough"
      ]
    },
    {
      "cell_type": "code",
      "execution_count": 21,
      "id": "665c856d",
      "metadata": {
        "execution": {
          "iopub.execute_input": "2022-08-16T04:19:25.932492Z",
          "iopub.status.busy": "2022-08-16T04:19:25.932063Z",
          "iopub.status.idle": "2022-08-16T04:19:25.933776Z",
          "shell.execute_reply": "2022-08-16T04:19:25.933414Z"
        },
        "papermill": {
          "duration": 0.044709,
          "end_time": "2022-08-16T04:19:25.933874",
          "exception": false,
          "start_time": "2022-08-16T04:19:25.889165",
          "status": "completed"
        },
        "tags": []
      },
      "outputs": [],
      "source": [
        "instances={\n",
        "    \"dc1\": dc_sdense,\n",
        "    \"wg\": wg_sdict,\n",
        "    \"dc2\": dc_sdense,\n",
        "}\n",
        "connections={\n",
        "    \"dc1,out0\": \"wg,in0\",\n",
        "    \"wg,out0\": \"dc2,in0\",\n",
        "    \"dc1,out1\": \"dc2,in1\",\n",
        "}\n",
        "ports={\n",
        "    \"in0\": \"dc1,in0\",\n",
        "    \"in1\": \"dc1,in1\",\n",
        "    \"out0\": \"dc2,out0\",\n",
        "    \"out1\": \"dc2,out1\",\n",
        "}"
      ]
    },
    {
      "cell_type": "markdown",
      "id": "b5bf5188",
      "metadata": {
        "papermill": {
          "duration": 0.038542,
          "end_time": "2022-08-16T04:19:26.011094",
          "exception": false,
          "start_time": "2022-08-16T04:19:25.972552",
          "status": "completed"
        },
        "tags": []
      },
      "source": [
        "Let's first enforce $C^T = C$:"
      ]
    },
    {
      "cell_type": "code",
      "execution_count": 22,
      "id": "6d7d4c39",
      "metadata": {
        "execution": {
          "iopub.execute_input": "2022-08-16T04:19:26.091790Z",
          "iopub.status.busy": "2022-08-16T04:19:26.091316Z",
          "iopub.status.idle": "2022-08-16T04:19:26.095320Z",
          "shell.execute_reply": "2022-08-16T04:19:26.095748Z"
        },
        "papermill": {
          "duration": 0.045821,
          "end_time": "2022-08-16T04:19:26.095871",
          "exception": false,
          "start_time": "2022-08-16T04:19:26.050050",
          "status": "completed"
        },
        "tags": []
      },
      "outputs": [
        {
          "data": {
            "text/plain": [
              "{'dc1,out0': 'wg,in0',\n",
              " 'wg,out0': 'dc2,in0',\n",
              " 'dc1,out1': 'dc2,in1',\n",
              " 'wg,in0': 'dc1,out0',\n",
              " 'dc2,in0': 'wg,out0',\n",
              " 'dc2,in1': 'dc1,out1'}"
            ]
          },
          "execution_count": 22,
          "metadata": {},
          "output_type": "execute_result"
        }
      ],
      "source": [
        "connections = {**connections, **{v: k for k, v in connections.items()}}\n",
        "connections"
      ]
    },
    {
      "cell_type": "markdown",
      "id": "a41250ec",
      "metadata": {
        "papermill": {
          "duration": 0.039012,
          "end_time": "2022-08-16T04:19:26.173912",
          "exception": false,
          "start_time": "2022-08-16T04:19:26.134900",
          "status": "completed"
        },
        "tags": []
      },
      "source": [
        "We'll also need the reversed ports:"
      ]
    },
    {
      "cell_type": "code",
      "execution_count": 23,
      "id": "9a70463f",
      "metadata": {
        "execution": {
          "iopub.execute_input": "2022-08-16T04:19:26.256293Z",
          "iopub.status.busy": "2022-08-16T04:19:26.255860Z",
          "iopub.status.idle": "2022-08-16T04:19:26.257463Z",
          "shell.execute_reply": "2022-08-16T04:19:26.257817Z"
        },
        "papermill": {
          "duration": 0.045081,
          "end_time": "2022-08-16T04:19:26.257934",
          "exception": false,
          "start_time": "2022-08-16T04:19:26.212853",
          "status": "completed"
        },
        "tags": []
      },
      "outputs": [
        {
          "data": {
            "text/plain": [
              "{'dc1,in0': 'in0', 'dc1,in1': 'in1', 'dc2,out0': 'out0', 'dc2,out1': 'out1'}"
            ]
          },
          "execution_count": 23,
          "metadata": {},
          "output_type": "execute_result"
        }
      ],
      "source": [
        "inverse_ports = {v: k for k, v in ports.items()}\n",
        "inverse_ports"
      ]
    },
    {
      "cell_type": "markdown",
      "id": "1e96443b",
      "metadata": {
        "papermill": {
          "duration": 0.039496,
          "end_time": "2022-08-16T04:19:26.336998",
          "exception": false,
          "start_time": "2022-08-16T04:19:26.297502",
          "status": "completed"
        },
        "tags": []
      },
      "source": [
        "An the port indices"
      ]
    },
    {
      "cell_type": "code",
      "execution_count": 24,
      "id": "8e18d182",
      "metadata": {
        "execution": {
          "iopub.execute_input": "2022-08-16T04:19:26.418770Z",
          "iopub.status.busy": "2022-08-16T04:19:26.418345Z",
          "iopub.status.idle": "2022-08-16T04:19:26.422504Z",
          "shell.execute_reply": "2022-08-16T04:19:26.422141Z"
        },
        "papermill": {
          "duration": 0.045876,
          "end_time": "2022-08-16T04:19:26.422602",
          "exception": false,
          "start_time": "2022-08-16T04:19:26.376726",
          "status": "completed"
        },
        "tags": []
      },
      "outputs": [
        {
          "data": {
            "text/plain": [
              "{'in0': 0, 'in1': 1, 'out0': 2, 'out1': 3}"
            ]
          },
          "execution_count": 24,
          "metadata": {},
          "output_type": "execute_result"
        }
      ],
      "source": [
        "port_map = {k: i for i, k in enumerate(ports)}\n",
        "port_map"
      ]
    },
    {
      "cell_type": "markdown",
      "id": "70924074",
      "metadata": {
        "papermill": {
          "duration": 0.039804,
          "end_time": "2022-08-16T04:19:26.502263",
          "exception": false,
          "start_time": "2022-08-16T04:19:26.462459",
          "status": "completed"
        },
        "tags": []
      },
      "source": [
        "Let's now create the COO-representation of our block diagonal S-matrix $S_{bd}$:"
      ]
    },
    {
      "cell_type": "code",
      "execution_count": 25,
      "id": "835deb8f",
      "metadata": {
        "execution": {
          "iopub.execute_input": "2022-08-16T04:19:26.593188Z",
          "iopub.status.busy": "2022-08-16T04:19:26.592758Z",
          "iopub.status.idle": "2022-08-16T04:19:26.727818Z",
          "shell.execute_reply": "2022-08-16T04:19:26.728143Z"
        },
        "papermill": {
          "duration": 0.185843,
          "end_time": "2022-08-16T04:19:26.728281",
          "exception": false,
          "start_time": "2022-08-16T04:19:26.542438",
          "status": "completed"
        },
        "tags": []
      },
      "outputs": [
        {
          "name": "stdout",
          "output_type": "stream",
          "text": [
            "[0 0 0 0 1 1 1 1 2 2 2 2 3 3 3 3 4 5 6 6 6 6 7 7 7 7 8 8 8 8 9 9 9 9]\n",
            "[0 1 2 3 0 1 2 3 0 1 2 3 0 1 2 3 5 4 6 7 8 9 6 7 8 9 6 7 8 9 6 7 8 9]\n",
            "[0.        +0.j         0.        +0.j         0.70710677+0.j\n",
            " 0.        +0.70710677j 0.        +0.j         0.        +0.j\n",
            " 0.        +0.70710677j 0.70710677+0.j         0.70710677+0.j\n",
            " 0.        +0.70710677j 0.        +0.j         0.        +0.j\n",
            " 0.        +0.70710677j 0.70710677+0.j         0.        +0.j\n",
            " 0.        +0.j         0.5       +0.86603j    0.5       +0.86603j\n",
            " 0.        +0.j         0.        +0.j         0.70710677+0.j\n",
            " 0.        +0.70710677j 0.        +0.j         0.        +0.j\n",
            " 0.        +0.70710677j 0.70710677+0.j         0.70710677+0.j\n",
            " 0.        +0.70710677j 0.        +0.j         0.        +0.j\n",
            " 0.        +0.70710677j 0.70710677+0.j         0.        +0.j\n",
            " 0.        +0.j        ]\n"
          ]
        }
      ],
      "source": [
        "idx, Si, Sj, Sx, instance_ports = 0, [], [], [], {}\n",
        "batch_shape = ()\n",
        "for name, instance in instances.items():\n",
        "    si, sj, sx, ports_map = scoo(instance)\n",
        "    Si.append(si + idx)\n",
        "    Sj.append(sj + idx)\n",
        "    Sx.append(sx)\n",
        "    if len(sx.shape[:-1]) > len(batch_shape):\n",
        "        batch_shape = sx.shape[:-1]\n",
        "    instance_ports.update({f\"{name},{p}\": i + idx for p, i in ports_map.items()})\n",
        "    idx += len(ports_map)\n",
        "Si = jnp.concatenate(Si, -1)\n",
        "Sj = jnp.concatenate(Sj, -1)\n",
        "Sx = jnp.concatenate([jnp.broadcast_to(sx, (*batch_shape, sx.shape[-1])) for sx in Sx], -1)\n",
        "\n",
        "print(Si)\n",
        "print(Sj)\n",
        "print(Sx)"
      ]
    },
    {
      "cell_type": "markdown",
      "id": "a8edefa1",
      "metadata": {
        "papermill": {
          "duration": 0.040298,
          "end_time": "2022-08-16T04:19:26.809076",
          "exception": false,
          "start_time": "2022-08-16T04:19:26.768778",
          "status": "completed"
        },
        "tags": []
      },
      "source": [
        "note that we also kept track of the `batch_shape`, i.e. the number of independent simulations (usually number of wavelengths). In the example being used here we don't have a batch dimension (all elements of the `SDict` are `0D`):"
      ]
    },
    {
      "cell_type": "code",
      "execution_count": 26,
      "id": "7513759a",
      "metadata": {
        "execution": {
          "iopub.execute_input": "2022-08-16T04:19:26.893510Z",
          "iopub.status.busy": "2022-08-16T04:19:26.893081Z",
          "iopub.status.idle": "2022-08-16T04:19:26.895308Z",
          "shell.execute_reply": "2022-08-16T04:19:26.895663Z"
        },
        "papermill": {
          "duration": 0.046524,
          "end_time": "2022-08-16T04:19:26.895784",
          "exception": false,
          "start_time": "2022-08-16T04:19:26.849260",
          "status": "completed"
        },
        "tags": []
      },
      "outputs": [
        {
          "data": {
            "text/plain": [
              "()"
            ]
          },
          "execution_count": 26,
          "metadata": {},
          "output_type": "execute_result"
        }
      ],
      "source": [
        "batch_shape"
      ]
    },
    {
      "cell_type": "markdown",
      "id": "c63b14d7",
      "metadata": {
        "papermill": {
          "duration": 0.040569,
          "end_time": "2022-08-16T04:19:26.976751",
          "exception": false,
          "start_time": "2022-08-16T04:19:26.936182",
          "status": "completed"
        },
        "tags": []
      },
      "source": [
        "We'll also keep track of the number of columns"
      ]
    },
    {
      "cell_type": "code",
      "execution_count": 27,
      "id": "89000432",
      "metadata": {
        "execution": {
          "iopub.execute_input": "2022-08-16T04:19:27.063083Z",
          "iopub.status.busy": "2022-08-16T04:19:27.062644Z",
          "iopub.status.idle": "2022-08-16T04:19:27.064595Z",
          "shell.execute_reply": "2022-08-16T04:19:27.064928Z"
        },
        "papermill": {
          "duration": 0.048207,
          "end_time": "2022-08-16T04:19:27.065049",
          "exception": false,
          "start_time": "2022-08-16T04:19:27.016842",
          "status": "completed"
        },
        "tags": []
      },
      "outputs": [
        {
          "data": {
            "text/plain": [
              "10"
            ]
          },
          "execution_count": 27,
          "metadata": {},
          "output_type": "execute_result"
        }
      ],
      "source": [
        "n_col = idx\n",
        "n_col"
      ]
    },
    {
      "cell_type": "markdown",
      "id": "7b0f95da",
      "metadata": {
        "papermill": {
          "duration": 0.04051,
          "end_time": "2022-08-16T04:19:27.147100",
          "exception": false,
          "start_time": "2022-08-16T04:19:27.106590",
          "status": "completed"
        },
        "tags": []
      },
      "source": [
        "And we'll need to solve the circuit for each output port, i.e. we need to solve `n_rhs` number of equations:"
      ]
    },
    {
      "cell_type": "code",
      "execution_count": 28,
      "id": "27902354",
      "metadata": {
        "execution": {
          "iopub.execute_input": "2022-08-16T04:19:27.232097Z",
          "iopub.status.busy": "2022-08-16T04:19:27.231658Z",
          "iopub.status.idle": "2022-08-16T04:19:27.233938Z",
          "shell.execute_reply": "2022-08-16T04:19:27.233577Z"
        },
        "papermill": {
          "duration": 0.046553,
          "end_time": "2022-08-16T04:19:27.234036",
          "exception": false,
          "start_time": "2022-08-16T04:19:27.187483",
          "status": "completed"
        },
        "tags": []
      },
      "outputs": [
        {
          "data": {
            "text/plain": [
              "4"
            ]
          },
          "execution_count": 28,
          "metadata": {},
          "output_type": "execute_result"
        }
      ],
      "source": [
        "n_rhs = len(port_map)\n",
        "n_rhs"
      ]
    },
    {
      "cell_type": "markdown",
      "id": "05056b46",
      "metadata": {
        "papermill": {
          "duration": 0.040485,
          "end_time": "2022-08-16T04:19:27.315408",
          "exception": false,
          "start_time": "2022-08-16T04:19:27.274923",
          "status": "completed"
        },
        "tags": []
      },
      "source": [
        "We can represent the internal connection matrix $C_{int}$ as a mapping between port indices:"
      ]
    },
    {
      "cell_type": "code",
      "execution_count": 29,
      "id": "f3ff1fa7",
      "metadata": {
        "execution": {
          "iopub.execute_input": "2022-08-16T04:19:27.400869Z",
          "iopub.status.busy": "2022-08-16T04:19:27.400359Z",
          "iopub.status.idle": "2022-08-16T04:19:27.402224Z",
          "shell.execute_reply": "2022-08-16T04:19:27.402602Z"
        },
        "papermill": {
          "duration": 0.046871,
          "end_time": "2022-08-16T04:19:27.402731",
          "exception": false,
          "start_time": "2022-08-16T04:19:27.355860",
          "status": "completed"
        },
        "tags": []
      },
      "outputs": [
        {
          "data": {
            "text/plain": [
              "{2: 4, 5: 6, 3: 7, 4: 2, 6: 5, 7: 3}"
            ]
          },
          "execution_count": 29,
          "metadata": {},
          "output_type": "execute_result"
        }
      ],
      "source": [
        "Cmap = {int(instance_ports[k]): int(instance_ports[v]) for k, v in connections.items()}\n",
        "Cmap"
      ]
    },
    {
      "cell_type": "markdown",
      "id": "999164af",
      "metadata": {
        "papermill": {
          "duration": 0.041362,
          "end_time": "2022-08-16T04:19:27.485451",
          "exception": false,
          "start_time": "2022-08-16T04:19:27.444089",
          "status": "completed"
        },
        "tags": []
      },
      "source": [
        "Therefore, the COO-representation of this connection matrix can be obtained as follows (note that an array of values Cx is not necessary, all non-zero elements in a connection matrix are 1)"
      ]
    },
    {
      "cell_type": "code",
      "execution_count": 30,
      "id": "9e4f1728",
      "metadata": {
        "execution": {
          "iopub.execute_input": "2022-08-16T04:19:27.573742Z",
          "iopub.status.busy": "2022-08-16T04:19:27.573306Z",
          "iopub.status.idle": "2022-08-16T04:19:27.574722Z",
          "shell.execute_reply": "2022-08-16T04:19:27.575114Z"
        },
        "papermill": {
          "duration": 0.048972,
          "end_time": "2022-08-16T04:19:27.575229",
          "exception": false,
          "start_time": "2022-08-16T04:19:27.526257",
          "status": "completed"
        },
        "tags": []
      },
      "outputs": [
        {
          "name": "stdout",
          "output_type": "stream",
          "text": [
            "[2 5 3 4 6 7]\n",
            "[4 6 7 2 5 3]\n"
          ]
        }
      ],
      "source": [
        "Ci = jnp.array(list(Cmap.keys()), dtype=jnp.int32)\n",
        "Cj = jnp.array(list(Cmap.values()), dtype=jnp.int32)\n",
        "print(Ci)\n",
        "print(Cj)"
      ]
    },
    {
      "cell_type": "markdown",
      "id": "47d5ed60",
      "metadata": {
        "papermill": {
          "duration": 0.04224,
          "end_time": "2022-08-16T04:19:27.661817",
          "exception": false,
          "start_time": "2022-08-16T04:19:27.619577",
          "status": "completed"
        },
        "tags": []
      },
      "source": [
        "We can represent the external connection matrix $C_{ext}$ as a map between internal port indices and external port indices:"
      ]
    },
    {
      "cell_type": "code",
      "execution_count": 31,
      "id": "f56ae166",
      "metadata": {
        "execution": {
          "iopub.execute_input": "2022-08-16T04:19:27.749794Z",
          "iopub.status.busy": "2022-08-16T04:19:27.749364Z",
          "iopub.status.idle": "2022-08-16T04:19:27.751012Z",
          "shell.execute_reply": "2022-08-16T04:19:27.751370Z"
        },
        "papermill": {
          "duration": 0.048401,
          "end_time": "2022-08-16T04:19:27.751488",
          "exception": false,
          "start_time": "2022-08-16T04:19:27.703087",
          "status": "completed"
        },
        "tags": []
      },
      "outputs": [
        {
          "data": {
            "text/plain": [
              "{0: 0, 1: 1, 8: 2, 9: 3}"
            ]
          },
          "execution_count": 31,
          "metadata": {},
          "output_type": "execute_result"
        }
      ],
      "source": [
        "Cextmap = {int(instance_ports[k]): int(port_map[v]) for k, v in inverse_ports.items()}\n",
        "Cextmap"
      ]
    },
    {
      "cell_type": "markdown",
      "id": "2485c01d",
      "metadata": {
        "papermill": {
          "duration": 0.041955,
          "end_time": "2022-08-16T04:19:27.835286",
          "exception": false,
          "start_time": "2022-08-16T04:19:27.793331",
          "status": "completed"
        },
        "tags": []
      },
      "source": [
        "Just as for the internal matrix we can represent this external connection matrix in COO-format:"
      ]
    },
    {
      "cell_type": "code",
      "execution_count": 32,
      "id": "cfb419ac",
      "metadata": {
        "execution": {
          "iopub.execute_input": "2022-08-16T04:19:27.926941Z",
          "iopub.status.busy": "2022-08-16T04:19:27.926504Z",
          "iopub.status.idle": "2022-08-16T04:19:27.952774Z",
          "shell.execute_reply": "2022-08-16T04:19:27.952189Z"
        },
        "papermill": {
          "duration": 0.075757,
          "end_time": "2022-08-16T04:19:27.952883",
          "exception": false,
          "start_time": "2022-08-16T04:19:27.877126",
          "status": "completed"
        },
        "tags": []
      },
      "outputs": [
        {
          "name": "stdout",
          "output_type": "stream",
          "text": [
            "[0 1 8 9]\n",
            "[0 1 2 3]\n"
          ]
        }
      ],
      "source": [
        "Cexti = jnp.stack(list(Cextmap.keys()), 0)\n",
        "Cextj = jnp.stack(list(Cextmap.values()), 0)\n",
        "print(Cexti)\n",
        "print(Cextj)"
      ]
    },
    {
      "cell_type": "markdown",
      "id": "e46d609c",
      "metadata": {
        "papermill": {
          "duration": 0.041921,
          "end_time": "2022-08-16T04:19:28.036886",
          "exception": false,
          "start_time": "2022-08-16T04:19:27.994965",
          "status": "completed"
        },
        "tags": []
      },
      "source": [
        "However, we actually need it as a dense representation:\n",
        "\n",
        "> help needed: can we find a way later on to keep this sparse?"
      ]
    },
    {
      "cell_type": "code",
      "execution_count": 33,
      "id": "25c4ec6e",
      "metadata": {
        "execution": {
          "iopub.execute_input": "2022-08-16T04:19:28.129209Z",
          "iopub.status.busy": "2022-08-16T04:19:28.128769Z",
          "iopub.status.idle": "2022-08-16T04:19:28.270790Z",
          "shell.execute_reply": "2022-08-16T04:19:28.270335Z"
        },
        "papermill": {
          "duration": 0.191884,
          "end_time": "2022-08-16T04:19:28.270923",
          "exception": false,
          "start_time": "2022-08-16T04:19:28.079039",
          "status": "completed"
        },
        "tags": []
      },
      "outputs": [],
      "source": [
        "if JAX_AVAILABLE:\n",
        "    Cext = jnp.zeros((n_col, n_rhs), dtype=complex).at[Cexti, Cextj].set(1.0)\n",
        "    Cext"
      ]
    },
    {
      "cell_type": "markdown",
      "id": "b31cc279",
      "metadata": {
        "papermill": {
          "duration": 0.04199,
          "end_time": "2022-08-16T04:19:28.356158",
          "exception": false,
          "start_time": "2022-08-16T04:19:28.314168",
          "status": "completed"
        },
        "tags": []
      },
      "source": [
        "We'll now calculate the row index `CSi` of $C_{int}S_{bd}$ in COO-format:"
      ]
    },
    {
      "cell_type": "code",
      "execution_count": 34,
      "id": "bf6e74756297ad47",
      "metadata": {
        "execution": {
          "iopub.execute_input": "2022-08-16T04:19:28.448986Z",
          "iopub.status.busy": "2022-08-16T04:19:28.448552Z",
          "iopub.status.idle": "2022-08-16T04:19:28.610854Z",
          "shell.execute_reply": "2022-08-16T04:19:28.611194Z"
        },
        "papermill": {
          "duration": 0.213312,
          "end_time": "2022-08-16T04:19:28.611330",
          "exception": false,
          "start_time": "2022-08-16T04:19:28.398018",
          "status": "completed"
        },
        "tags": []
      },
      "outputs": [
        {
          "data": {
            "text/plain": [
              "array([4, 4, 4, 4, 7, 7, 7, 7, 2, 6, 5, 5, 5, 5, 3, 3, 3, 3])"
            ]
          },
          "execution_count": 34,
          "metadata": {},
          "output_type": "execute_result"
        }
      ],
      "source": [
        "# TODO: make this block jittable...\n",
        "Ix = jnp.ones((*batch_shape, n_col))\n",
        "Ii = Ij = jnp.arange(n_col)\n",
        "mask = Cj[None,:] == Si[:, None]\n",
        "CSi = jnp.broadcast_to(Ci[None, :], mask.shape)[mask]\n",
        "CSi"
      ]
    },
    {
      "cell_type": "markdown",
      "id": "a2657582",
      "metadata": {
        "papermill": {
          "duration": 0.042893,
          "end_time": "2022-08-16T04:19:28.696933",
          "exception": false,
          "start_time": "2022-08-16T04:19:28.654040",
          "status": "completed"
        },
        "tags": []
      },
      "source": [
        "> `CSi`: possible jittable alternative? how do we remove the zeros?"
      ]
    },
    {
      "cell_type": "code",
      "execution_count": 35,
      "id": "d4ea2cb5",
      "metadata": {
        "execution": {
          "iopub.execute_input": "2022-08-16T04:19:28.786284Z",
          "iopub.status.busy": "2022-08-16T04:19:28.785847Z",
          "iopub.status.idle": "2022-08-16T04:19:28.828094Z",
          "shell.execute_reply": "2022-08-16T04:19:28.828478Z"
        },
        "papermill": {
          "duration": 0.088967,
          "end_time": "2022-08-16T04:19:28.828621",
          "exception": false,
          "start_time": "2022-08-16T04:19:28.739654",
          "status": "completed"
        },
        "tags": []
      },
      "outputs": [
        {
          "data": {
            "text/plain": [
              "array([0, 0, 0, 0, 0, 0, 0, 0, 4, 4, 4, 4, 7, 7, 7, 7, 2, 6, 5, 5,\n",
              "       5, 5, 3, 3, 3, 3, 0, 0, 0, 0, 0, 0, 0, 0])"
            ]
          },
          "execution_count": 35,
          "metadata": {},
          "output_type": "execute_result"
        }
      ],
      "source": [
        "CSi_ = jnp.where(Cj[None, :] == Si[:, None], Ci[None, :], 0).sum(1) # not used\n",
        "CSi_ # not used"
      ]
    },
    {
      "cell_type": "markdown",
      "id": "44fc620e",
      "metadata": {
        "papermill": {
          "duration": 0.042926,
          "end_time": "2022-08-16T04:19:28.915008",
          "exception": false,
          "start_time": "2022-08-16T04:19:28.872082",
          "status": "completed"
        },
        "tags": []
      },
      "source": [
        "The column index `CSj` of $C_{int}S_{bd}$ can more easily be obtained:"
      ]
    },
    {
      "cell_type": "code",
      "execution_count": 36,
      "id": "f71fdd7c",
      "metadata": {
        "execution": {
          "iopub.execute_input": "2022-08-16T04:19:29.007651Z",
          "iopub.status.busy": "2022-08-16T04:19:29.007178Z",
          "iopub.status.idle": "2022-08-16T04:19:29.080727Z",
          "shell.execute_reply": "2022-08-16T04:19:29.081073Z"
        },
        "papermill": {
          "duration": 0.123888,
          "end_time": "2022-08-16T04:19:29.081209",
          "exception": false,
          "start_time": "2022-08-16T04:19:28.957321",
          "status": "completed"
        },
        "tags": []
      },
      "outputs": [
        {
          "data": {
            "text/plain": [
              "array([0, 1, 2, 3, 0, 1, 2, 3, 5, 4, 6, 7, 8, 9, 6, 7, 8, 9])"
            ]
          },
          "execution_count": 36,
          "metadata": {},
          "output_type": "execute_result"
        }
      ],
      "source": [
        "mask = (Cj[:, None] == Si[None, :]).any(0)\n",
        "CSj = Sj[mask]\n",
        "CSj"
      ]
    },
    {
      "cell_type": "markdown",
      "id": "99bf7684",
      "metadata": {
        "papermill": {
          "duration": 0.043082,
          "end_time": "2022-08-16T04:19:29.167886",
          "exception": false,
          "start_time": "2022-08-16T04:19:29.124804",
          "status": "completed"
        },
        "tags": []
      },
      "source": [
        "> `CSj`: possible jittable alternative? how do we remove the zeros?"
      ]
    },
    {
      "cell_type": "code",
      "execution_count": 37,
      "id": "ffa7bc82",
      "metadata": {
        "execution": {
          "iopub.execute_input": "2022-08-16T04:19:29.263074Z",
          "iopub.status.busy": "2022-08-16T04:19:29.261066Z",
          "iopub.status.idle": "2022-08-16T04:19:29.278785Z",
          "shell.execute_reply": "2022-08-16T04:19:29.278412Z"
        },
        "papermill": {
          "duration": 0.067994,
          "end_time": "2022-08-16T04:19:29.278886",
          "exception": false,
          "start_time": "2022-08-16T04:19:29.210892",
          "status": "completed"
        },
        "tags": []
      },
      "outputs": [
        {
          "data": {
            "text/plain": [
              "array([0, 0, 0, 0, 0, 0, 0, 0, 0, 1, 2, 3, 0, 1, 2, 3, 5, 4, 6, 7,\n",
              "       8, 9, 6, 7, 8, 9, 0, 0, 0, 0, 0, 0, 0, 0])"
            ]
          },
          "execution_count": 37,
          "metadata": {},
          "output_type": "execute_result"
        }
      ],
      "source": [
        "CSj_ = jnp.where(mask, Sj, 0) # not used\n",
        "CSj_ # not used"
      ]
    },
    {
      "cell_type": "markdown",
      "id": "e0fc6d02",
      "metadata": {
        "papermill": {
          "duration": 0.043308,
          "end_time": "2022-08-16T04:19:29.365742",
          "exception": false,
          "start_time": "2022-08-16T04:19:29.322434",
          "status": "completed"
        },
        "tags": []
      },
      "source": [
        "Finally, the values `CSx` of $C_{int}S_{bd}$ can be obtained as follows:"
      ]
    },
    {
      "cell_type": "code",
      "execution_count": 38,
      "id": "59d2e1b2",
      "metadata": {
        "execution": {
          "iopub.execute_input": "2022-08-16T04:19:29.456962Z",
          "iopub.status.busy": "2022-08-16T04:19:29.456522Z",
          "iopub.status.idle": "2022-08-16T04:19:29.480627Z",
          "shell.execute_reply": "2022-08-16T04:19:29.480991Z"
        },
        "papermill": {
          "duration": 0.0722,
          "end_time": "2022-08-16T04:19:29.481128",
          "exception": false,
          "start_time": "2022-08-16T04:19:29.408928",
          "status": "completed"
        },
        "tags": []
      },
      "outputs": [
        {
          "data": {
            "text/plain": [
              "array([0.70710677+0.j        , 0.        +0.70710677j,\n",
              "       0.        +0.j        , 0.        +0.j        ,\n",
              "       0.        +0.70710677j, 0.70710677+0.j        ,\n",
              "       0.        +0.j        , 0.        +0.j        ,\n",
              "       0.5       +0.86603j   , 0.5       +0.86603j   ,\n",
              "       0.        +0.j        , 0.        +0.j        ,\n",
              "       0.70710677+0.j        , 0.        +0.70710677j,\n",
              "       0.        +0.j        , 0.        +0.j        ,\n",
              "       0.        +0.70710677j, 0.70710677+0.j        ],            dtype=complex64))"
            ]
          },
          "execution_count": 38,
          "metadata": {},
          "output_type": "execute_result"
        }
      ],
      "source": [
        "if Sx.ndim > 1:\n",
        "    CSx = Sx[..., mask] # normally this should be enough\n",
        "else:\n",
        "    CSx = Sx[mask] # need separate case bc bug in JAX... see https://github.com/google/jax/issues/9050\n",
        "   \n",
        "CSx"
      ]
    },
    {
      "cell_type": "markdown",
      "id": "c02035bd",
      "metadata": {
        "papermill": {
          "duration": 0.044052,
          "end_time": "2022-08-16T04:19:29.569695",
          "exception": false,
          "start_time": "2022-08-16T04:19:29.525643",
          "status": "completed"
        },
        "tags": []
      },
      "source": [
        "> `CSx`: possible jittable alternative? how do we remove the zeros?"
      ]
    },
    {
      "cell_type": "code",
      "execution_count": 39,
      "id": "107e9e80",
      "metadata": {
        "execution": {
          "iopub.execute_input": "2022-08-16T04:19:29.666999Z",
          "iopub.status.busy": "2022-08-16T04:19:29.666566Z",
          "iopub.status.idle": "2022-08-16T04:19:29.682944Z",
          "shell.execute_reply": "2022-08-16T04:19:29.683260Z"
        },
        "papermill": {
          "duration": 0.069972,
          "end_time": "2022-08-16T04:19:29.683385",
          "exception": false,
          "start_time": "2022-08-16T04:19:29.613413",
          "status": "completed"
        },
        "tags": []
      },
      "outputs": [
        {
          "data": {
            "text/plain": [
              "array([0.        +0.j        , 0.        +0.j        ,\n",
              "       0.        +0.j        , 0.        +0.j        ,\n",
              "       0.        +0.j        , 0.        +0.j        ,\n",
              "       0.        +0.j        , 0.        +0.j        ,\n",
              "       0.70710677+0.j        , 0.        +0.70710677j,\n",
              "       0.        +0.j        , 0.        +0.j        ,\n",
              "       0.        +0.70710677j, 0.70710677+0.j        ,\n",
              "       0.        +0.j        , 0.        +0.j        ,\n",
              "       0.5       +0.86603j   , 0.5       +0.86603j   ,\n",
              "       0.        +0.j        , 0.        +0.j        ,\n",
              "       0.70710677+0.j        , 0.        +0.70710677j,\n",
              "       0.        +0.j        , 0.        +0.j        ,\n",
              "       0.        +0.70710677j, 0.70710677+0.j        ,\n",
              "       0.        +0.j        , 0.        +0.j        ,\n",
              "       0.        +0.j        , 0.        +0.j        ,\n",
              "       0.        +0.j        , 0.        +0.j        ,\n",
              "       0.        +0.j        , 0.        +0.j        ],            dtype=complex64))"
            ]
          },
          "execution_count": 39,
          "metadata": {},
          "output_type": "execute_result"
        }
      ],
      "source": [
        "CSx_ = jnp.where(mask, Sx, 0.0) # not used\n",
        "CSx_ # not used"
      ]
    },
    {
      "cell_type": "markdown",
      "id": "9411edf5",
      "metadata": {
        "papermill": {
          "duration": 0.044074,
          "end_time": "2022-08-16T04:19:29.771603",
          "exception": false,
          "start_time": "2022-08-16T04:19:29.727529",
          "status": "completed"
        },
        "tags": []
      },
      "source": [
        "Now we calculate $\\mathbb{1} - C_{int}S_{bd}$ in an *uncoalesced* way (we might have duplicate indices on the diagonal):\n",
        "\n",
        "> **uncoalesced**: having duplicate index combinations (i, j) in the representation possibly with different corresponding values. This is usually not a problem as in linear operations these values will end up to be summed, usually the behavior you want:"
      ]
    },
    {
      "cell_type": "code",
      "execution_count": 40,
      "id": "53c3f4ab",
      "metadata": {
        "execution": {
          "iopub.execute_input": "2022-08-16T04:19:29.867952Z",
          "iopub.status.busy": "2022-08-16T04:19:29.867472Z",
          "iopub.status.idle": "2022-08-16T04:19:29.918837Z",
          "shell.execute_reply": "2022-08-16T04:19:29.919223Z"
        },
        "papermill": {
          "duration": 0.103756,
          "end_time": "2022-08-16T04:19:29.919366",
          "exception": false,
          "start_time": "2022-08-16T04:19:29.815610",
          "status": "completed"
        },
        "tags": []
      },
      "outputs": [
        {
          "name": "stdout",
          "output_type": "stream",
          "text": [
            "[4 4 4 4 7 7 7 7 2 6 5 5 5 5 3 3 3 3 0 1 2 3 4 5 6 7 8 9]\n",
            "[0 1 2 3 0 1 2 3 5 4 6 7 8 9 6 7 8 9 0 1 2 3 4 5 6 7 8 9]\n",
            "[-0.70710677-0.j         -0.        -0.70710677j -0.        -0.j\n",
            " -0.        -0.j         -0.        -0.70710677j -0.70710677-0.j\n",
            " -0.        -0.j         -0.        -0.j         -0.5       -0.86603j\n",
            " -0.5       -0.86603j    -0.        -0.j         -0.        -0.j\n",
            " -0.70710677-0.j         -0.        -0.70710677j -0.        -0.j\n",
            " -0.        -0.j         -0.        -0.70710677j -0.70710677-0.j\n",
            "  1.        +0.j          1.        +0.j          1.        +0.j\n",
            "  1.        +0.j          1.        +0.j          1.        +0.j\n",
            "  1.        +0.j          1.        +0.j          1.        +0.j\n",
            "  1.        +0.j        ]\n"
          ]
        }
      ],
      "source": [
        "I_CSi = jnp.concatenate([CSi, Ii], -1)\n",
        "I_CSj = jnp.concatenate([CSj, Ij], -1)\n",
        "I_CSx = jnp.concatenate([-CSx, Ix], -1)\n",
        "print(I_CSi)\n",
        "print(I_CSj)\n",
        "print(I_CSx)"
      ]
    },
    {
      "cell_type": "code",
      "execution_count": 41,
      "id": "188e4606",
      "metadata": {
        "execution": {
          "iopub.execute_input": "2022-08-16T04:19:30.012456Z",
          "iopub.status.busy": "2022-08-16T04:19:30.012025Z",
          "iopub.status.idle": "2022-08-16T04:19:30.013468Z",
          "shell.execute_reply": "2022-08-16T04:19:30.013802Z"
        },
        "papermill": {
          "duration": 0.049772,
          "end_time": "2022-08-16T04:19:30.013921",
          "exception": false,
          "start_time": "2022-08-16T04:19:29.964149",
          "status": "completed"
        },
        "tags": []
      },
      "outputs": [
        {
          "name": "stdout",
          "output_type": "stream",
          "text": [
            "10 4\n"
          ]
        }
      ],
      "source": [
        "if JAX_AVAILABLE:\n",
        "    n_col, n_rhs = Cext.shape\n",
        "    print(n_col, n_rhs)"
      ]
    },
    {
      "cell_type": "markdown",
      "id": "e018c515",
      "metadata": {
        "papermill": {
          "duration": 0.04494,
          "end_time": "2022-08-16T04:19:30.103280",
          "exception": false,
          "start_time": "2022-08-16T04:19:30.058340",
          "status": "completed"
        },
        "tags": []
      },
      "source": [
        "The batch shape dimension can generally speaking be anything (in the example here 0D). We need to do the necessary reshapings to make the batch shape 1D:"
      ]
    },
    {
      "cell_type": "code",
      "execution_count": 42,
      "id": "dad259e7",
      "metadata": {
        "execution": {
          "iopub.execute_input": "2022-08-16T04:19:30.200383Z",
          "iopub.status.busy": "2022-08-16T04:19:30.199947Z",
          "iopub.status.idle": "2022-08-16T04:19:30.211743Z",
          "shell.execute_reply": "2022-08-16T04:19:30.211368Z"
        },
        "papermill": {
          "duration": 0.064323,
          "end_time": "2022-08-16T04:19:30.211849",
          "exception": false,
          "start_time": "2022-08-16T04:19:30.147526",
          "status": "completed"
        },
        "tags": []
      },
      "outputs": [
        {
          "name": "stdout",
          "output_type": "stream",
          "text": [
            "1\n"
          ]
        }
      ],
      "source": [
        "n_lhs = jnp.prod(jnp.array(batch_shape, dtype=jnp.int32))\n",
        "print(n_lhs)"
      ]
    },
    {
      "cell_type": "code",
      "execution_count": 43,
      "id": "9cf69da7",
      "metadata": {
        "execution": {
          "iopub.execute_input": "2022-08-16T04:19:30.307807Z",
          "iopub.status.busy": "2022-08-16T04:19:30.307349Z",
          "iopub.status.idle": "2022-08-16T04:19:30.319094Z",
          "shell.execute_reply": "2022-08-16T04:19:30.318725Z"
        },
        "papermill": {
          "duration": 0.062806,
          "end_time": "2022-08-16T04:19:30.319193",
          "exception": false,
          "start_time": "2022-08-16T04:19:30.256387",
          "status": "completed"
        },
        "tags": []
      },
      "outputs": [
        {
          "data": {
            "text/plain": [
              "(1, 34)"
            ]
          },
          "execution_count": 43,
          "metadata": {},
          "output_type": "execute_result"
        }
      ],
      "source": [
        "Sx = Sx.reshape(n_lhs, -1)\n",
        "Sx.shape"
      ]
    },
    {
      "cell_type": "code",
      "execution_count": 44,
      "id": "788294fa",
      "metadata": {
        "execution": {
          "iopub.execute_input": "2022-08-16T04:19:30.416753Z",
          "iopub.status.busy": "2022-08-16T04:19:30.416333Z",
          "iopub.status.idle": "2022-08-16T04:19:30.428412Z",
          "shell.execute_reply": "2022-08-16T04:19:30.428068Z"
        },
        "papermill": {
          "duration": 0.06402,
          "end_time": "2022-08-16T04:19:30.428513",
          "exception": false,
          "start_time": "2022-08-16T04:19:30.364493",
          "status": "completed"
        },
        "tags": []
      },
      "outputs": [
        {
          "data": {
            "text/plain": [
              "(1, 28)"
            ]
          },
          "execution_count": 44,
          "metadata": {},
          "output_type": "execute_result"
        }
      ],
      "source": [
        "I_CSx = I_CSx.reshape(n_lhs, -1)\n",
        "I_CSx.shape"
      ]
    },
    {
      "cell_type": "markdown",
      "id": "ec741031",
      "metadata": {
        "papermill": {
          "duration": 0.045315,
          "end_time": "2022-08-16T04:19:30.519222",
          "exception": false,
          "start_time": "2022-08-16T04:19:30.473907",
          "status": "completed"
        },
        "tags": []
      },
      "source": [
        "We're finally ready to do the most important part of the calculation, which we conveniently leave to `klujax` and `SuiteSparse`:"
      ]
    },
    {
      "cell_type": "code",
      "execution_count": 45,
      "id": "9c1d8644",
      "metadata": {
        "execution": {
          "iopub.execute_input": "2022-08-16T04:19:30.617713Z",
          "iopub.status.busy": "2022-08-16T04:19:30.617277Z",
          "iopub.status.idle": "2022-08-16T04:19:30.618918Z",
          "shell.execute_reply": "2022-08-16T04:19:30.618496Z"
        },
        "papermill": {
          "duration": 0.054351,
          "end_time": "2022-08-16T04:19:30.619015",
          "exception": false,
          "start_time": "2022-08-16T04:19:30.564664",
          "status": "completed"
        },
        "tags": []
      },
      "outputs": [],
      "source": [
        "if klujax is not None:\n",
        "    inv_I_CS_Cext = solve_klu(I_CSi, I_CSj, I_CSx, Cext)\n",
        "else:\n",
        "    inv_I_CS_Cext = jnp.array([[[1.0 + 0.0j, 0.0 + 0.0j, 0.0 + 0.0j, 0.0 + 0.0j], [0.0 + 0.0j, 1.0 + 0.0j, 0.0 + 0.0j, 0.0 + 0.0j], [ -0.0 + 0.0j, -0.0 + 0.0j, 0.35355339 + 0.61237569j, -0.61237569 + 0.35355339j, ], [0.0 + 0.0j, 0.0 + 0.0j, 0.0 + 0.70710678j, 0.70710678 + 0.0j], [0.70710678 - 0.0j, -0.0 + 0.70710678j, -0.0 - 0.0j, -0.0 - 0.0j], [-0.0 - 0.0j, -0.0 - 0.0j, 0.70710678 - 0.0j, -0.0 + 0.70710678j], [ 0.35355339 + 0.61237569j, -0.61237569 + 0.35355339j, -0.0 + 0.0j, -0.0 + 0.0j, ], [0.0 + 0.70710678j, 0.70710678 + 0.0j, 0.0 + 0.0j, 0.0 + 0.0j], [0.0 + 0.0j, 0.0 + 0.0j, 1.0 + 0.0j, 0.0 + 0.0j], [0.0 + 0.0j, 0.0 + 0.0j, 0.0 + 0.0j, 1.0 + 0.0j]]])"
      ]
    },
    {
      "cell_type": "markdown",
      "id": "e51487df",
      "metadata": {
        "papermill": {
          "duration": 0.046007,
          "end_time": "2022-08-16T04:19:30.710582",
          "exception": false,
          "start_time": "2022-08-16T04:19:30.664575",
          "status": "completed"
        },
        "tags": []
      },
      "source": [
        "one more sparse multiplication:"
      ]
    },
    {
      "cell_type": "code",
      "execution_count": 46,
      "id": "cccda072",
      "metadata": {
        "execution": {
          "iopub.execute_input": "2022-08-16T04:19:30.808285Z",
          "iopub.status.busy": "2022-08-16T04:19:30.807840Z",
          "iopub.status.idle": "2022-08-16T04:19:30.809520Z",
          "shell.execute_reply": "2022-08-16T04:19:30.809156Z"
        },
        "papermill": {
          "duration": 0.053785,
          "end_time": "2022-08-16T04:19:30.809616",
          "exception": false,
          "start_time": "2022-08-16T04:19:30.755831",
          "status": "completed"
        },
        "tags": []
      },
      "outputs": [],
      "source": [
        "if klujax is not None:\n",
        "    S_inv_I_CS_Cext = mul_coo(Si, Sj, Sx, inv_I_CS_Cext)\n",
        "else:\n",
        "    S_inv_I_CS_Cext = jnp.array([[[0.0 + 0.0j, 0.0 + 0.0j, -0.25 + 0.433015j, -0.433015 + 0.75j], [0.0 + 0.0j, 0.0 + 0.0j, -0.433015 + 0.75j, 0.25 - 0.433015j], [0.70710678 + 0.0j, 0.0 + 0.70710678j, 0.0 + 0.0j, 0.0 + 0.0j], [0.0 + 0.70710678j, 0.70710678 + 0.0j, 0.0 + 0.0j, 0.0 + 0.0j], [ 0.0 + 0.0j, 0.0 + 0.0j, 0.35355339 + 0.61237569j, -0.61237569 + 0.35355339j, ], [ 0.35355339 + 0.61237569j, -0.61237569 + 0.35355339j, 0.0 + 0.0j, 0.0 + 0.0j, ], [0.0 + 0.0j, 0.0 + 0.0j, 0.70710678 + 0.0j, 0.0 + 0.70710678j], [0.0 + 0.0j, 0.0 + 0.0j, 0.0 + 0.70710678j, 0.70710678 + 0.0j], [-0.25 + 0.433015j, -0.433015 + 0.75j, 0.0 + 0.0j, 0.0 + 0.0j], [-0.433015 + 0.75j, 0.25 - 0.433015j, 0.0 + 0.0j, 0.0 + 0.0j]]])"
      ]
    },
    {
      "cell_type": "markdown",
      "id": "627a98f7",
      "metadata": {
        "papermill": {
          "duration": 0.045274,
          "end_time": "2022-08-16T04:19:30.900202",
          "exception": false,
          "start_time": "2022-08-16T04:19:30.854928",
          "status": "completed"
        },
        "tags": []
      },
      "source": [
        "And one more $C_{ext}$ multiplication which we do by clever indexing:"
      ]
    },
    {
      "cell_type": "code",
      "execution_count": 47,
      "id": "12ff877c",
      "metadata": {
        "execution": {
          "iopub.execute_input": "2022-08-16T04:19:30.998294Z",
          "iopub.status.busy": "2022-08-16T04:19:30.997853Z",
          "iopub.status.idle": "2022-08-16T04:19:30.999679Z",
          "shell.execute_reply": "2022-08-16T04:19:31.000025Z"
        },
        "papermill": {
          "duration": 0.054751,
          "end_time": "2022-08-16T04:19:31.000145",
          "exception": false,
          "start_time": "2022-08-16T04:19:30.945394",
          "status": "completed"
        },
        "tags": []
      },
      "outputs": [
        {
          "data": {
            "text/plain": [
              "array([[[ 0.      +0.j      ,  0.      +0.j      ,\n",
              "         -0.25    +0.433015j, -0.433015+0.75j    ],\n",
              "        [ 0.      +0.j      ,  0.      +0.j      ,\n",
              "         -0.433015+0.75j    ,  0.25    -0.433015j],\n",
              "        [-0.25    +0.433015j, -0.433015+0.75j    ,\n",
              "          0.      +0.j      ,  0.      +0.j      ],\n",
              "        [-0.433015+0.75j    ,  0.25    -0.433015j,\n",
              "          0.      +0.j      ,  0.      +0.j      ]]],            dtype=complex64))"
            ]
          },
          "execution_count": 47,
          "metadata": {},
          "output_type": "execute_result"
        }
      ],
      "source": [
        "if klujax is not None:\n",
        "    CextT_S_inv_I_CS_Cext = S_inv_I_CS_Cext[..., Cexti, :][..., :, Cextj]\n",
        "else:\n",
        "    CextT_S_inv_I_CS_Cext = jnp.array([[[0.0 + 0.0j, 0.0 + 0.0j, -0.25 + 0.433015j, -0.433015 + 0.75j], [0.0 + 0.0j, 0.0 + 0.0j, -0.433015 + 0.75j, 0.25 - 0.433015j], [-0.25 + 0.433015j, -0.433015 + 0.75j, 0.0 + 0.0j, 0.0 + 0.0j], [-0.433015 + 0.75j, 0.25 - 0.433015j, 0.0 + 0.0j, 0.0 + 0.0j]]])\n",
        "CextT_S_inv_I_CS_Cext"
      ]
    },
    {
      "cell_type": "markdown",
      "id": "3e1c75b2",
      "metadata": {
        "papermill": {
          "duration": 0.046104,
          "end_time": "2022-08-16T04:19:31.092143",
          "exception": false,
          "start_time": "2022-08-16T04:19:31.046039",
          "status": "completed"
        },
        "tags": []
      },
      "source": [
        "That's it! We found the S-matrix of the circuit. We just need to reshape the batch dimension back into the matrix:"
      ]
    },
    {
      "cell_type": "code",
      "execution_count": 48,
      "id": "cbf962af",
      "metadata": {
        "execution": {
          "iopub.execute_input": "2022-08-16T04:19:31.190738Z",
          "iopub.status.busy": "2022-08-16T04:19:31.190297Z",
          "iopub.status.idle": "2022-08-16T04:19:31.203289Z",
          "shell.execute_reply": "2022-08-16T04:19:31.202943Z"
        },
        "papermill": {
          "duration": 0.065747,
          "end_time": "2022-08-16T04:19:31.203392",
          "exception": false,
          "start_time": "2022-08-16T04:19:31.137645",
          "status": "completed"
        },
        "tags": []
      },
      "outputs": [
        {
          "data": {
            "text/plain": [
              "array([[ 0.      +0.j      ,  0.      +0.j      ,\n",
              "        -0.25    +0.433015j, -0.433015+0.75j    ],\n",
              "       [ 0.      +0.j      ,  0.      +0.j      ,\n",
              "        -0.433015+0.75j    ,  0.25    -0.433015j],\n",
              "       [-0.25    +0.433015j, -0.433015+0.75j    ,\n",
              "         0.      +0.j      ,  0.      +0.j      ],\n",
              "       [-0.433015+0.75j    ,  0.25    -0.433015j,\n",
              "         0.      +0.j      ,  0.      +0.j      ]])"
            ]
          },
          "execution_count": 48,
          "metadata": {},
          "output_type": "execute_result"
        }
      ],
      "source": [
        "_, n, _ = CextT_S_inv_I_CS_Cext.shape\n",
        "S = CextT_S_inv_I_CS_Cext.reshape(*batch_shape, n, n)\n",
        "S"
      ]
    },
    {
      "cell_type": "markdown",
      "id": "1f6dea4c",
      "metadata": {
        "papermill": {
          "duration": 0.045962,
          "end_time": "2022-08-16T04:19:31.295668",
          "exception": false,
          "start_time": "2022-08-16T04:19:31.249706",
          "status": "completed"
        },
        "tags": []
      },
      "source": [
        "Oh and to complete the `SDense` representation we need to specify the port map as well:"
      ]
    },
    {
      "cell_type": "code",
      "execution_count": 49,
      "id": "21098a45",
      "metadata": {
        "execution": {
          "iopub.execute_input": "2022-08-16T04:19:31.391458Z",
          "iopub.status.busy": "2022-08-16T04:19:31.391024Z",
          "iopub.status.idle": "2022-08-16T04:19:31.392843Z",
          "shell.execute_reply": "2022-08-16T04:19:31.393183Z"
        },
        "papermill": {
          "duration": 0.051847,
          "end_time": "2022-08-16T04:19:31.393301",
          "exception": false,
          "start_time": "2022-08-16T04:19:31.341454",
          "status": "completed"
        },
        "tags": []
      },
      "outputs": [
        {
          "data": {
            "text/plain": [
              "{'in0': 0, 'in1': 1, 'out0': 2, 'out1': 3}"
            ]
          },
          "execution_count": 49,
          "metadata": {},
          "output_type": "execute_result"
        }
      ],
      "source": [
        "port_map"
      ]
    },
    {
      "cell_type": "markdown",
      "id": "0cfee3cf",
      "metadata": {
        "papermill": {
          "duration": 0.045824,
          "end_time": "2022-08-16T04:19:31.485211",
          "exception": false,
          "start_time": "2022-08-16T04:19:31.439387",
          "status": "completed"
        },
        "tags": []
      },
      "source": [
        "## Algorithm Improvements"
      ]
    },
    {
      "cell_type": "markdown",
      "id": "26b70270",
      "metadata": {
        "papermill": {
          "duration": 0.046686,
          "end_time": "2022-08-16T04:19:31.580085",
          "exception": false,
          "start_time": "2022-08-16T04:19:31.533399",
          "status": "completed"
        },
        "tags": []
      },
      "source": [
        "This algorithm is \n",
        "\n",
        "* very fast for large circuits \ud83d\ude42\n",
        "\n",
        "This algorithm is however:\n",
        "\n",
        "* **not** jittable \ud83d\ude25\n",
        "* **not** differentiable \ud83d\ude25\n",
        "* **not** GPU-compatible \ud83d\ude42\n",
        "\n",
        "There are probably still plenty of improvements possible for this algorithm:\n",
        "\n",
        "* **\u00bf** make it jittable **?**\n",
        "* **\u00bf** make it differentiable (requires making klujax differentiable first) **?**\n",
        "* **\u00bf** make it GPU compatible (requires making suitesparse GPU compatible... probably not gonna happen)**?**\n",
        "\n",
        "Bottom line is... Do you know how to improve this algorithm or how to implement the above suggestions? Please open a Merge Request!"
      ]
    }
  ],
  "metadata": {
    "kernelspec": {
      "display_name": "sax",
      "language": "python",
      "name": "sax"
    },
    "language_info": {
      "codemirror_mode": {
        "name": "ipython",
        "version": 3
      },
      "file_extension": ".py",
      "mimetype": "text/x-python",
      "name": "python",
      "nbconvert_exporter": "python",
      "pygments_lexer": "ipython3",
      "version": "3.9.0"
    },
    "papermill": {
      "default_parameters": {},
      "duration": 16.44706,
      "end_time": "2022-08-16T04:19:34.677410",
      "environment_variables": {},
      "exception": null,
      "input_path": "./nbs/07b_backends_klu.ipynb",
      "output_path": "./nbs/07b_backends_klu.ipynb",
      "parameters": {},
      "start_time": "2022-08-16T04:19:18.230350",
      "version": "2.3.4"
    }
  },
  "nbformat": 4,
  "nbformat_minor": 5
}
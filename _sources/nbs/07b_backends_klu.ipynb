{
  "cells": [
    {
      "cell_type": "code",
      "execution_count": 1,
      "id": "940f934d6320423d",
      "metadata": {
        "execution": {
          "iopub.execute_input": "2022-08-04T05:49:19.685825Z",
          "iopub.status.busy": "2022-08-04T05:49:19.685308Z",
          "iopub.status.idle": "2022-08-04T05:49:19.688531Z",
          "shell.execute_reply": "2022-08-04T05:49:19.688045Z"
        },
        "papermill": {
          "duration": 0.058583,
          "end_time": "2022-08-04T05:49:19.688672",
          "exception": false,
          "start_time": "2022-08-04T05:49:19.630089",
          "status": "completed"
        },
        "tags": [
          "remove-cell"
        ]
      },
      "outputs": [],
      "source": []
    },
    {
      "cell_type": "markdown",
      "id": "27c3489e",
      "metadata": {
        "papermill": {
          "duration": 0.047646,
          "end_time": "2022-08-04T05:49:19.785431",
          "exception": false,
          "start_time": "2022-08-04T05:49:19.737785",
          "status": "completed"
        },
        "tags": []
      },
      "source": [
        "# Backend - KLU\n",
        "\n",
        "> SAX KLU Backend"
      ]
    },
    {
      "cell_type": "code",
      "execution_count": 2,
      "id": "5be2700d90c85fd2",
      "metadata": {
        "execution": {
          "iopub.execute_input": "2022-08-04T05:49:19.887810Z",
          "iopub.status.busy": "2022-08-04T05:49:19.887281Z",
          "iopub.status.idle": "2022-08-04T05:49:21.825957Z",
          "shell.execute_reply": "2022-08-04T05:49:21.825201Z"
        },
        "papermill": {
          "duration": 1.993643,
          "end_time": "2022-08-04T05:49:21.826167",
          "exception": false,
          "start_time": "2022-08-04T05:49:19.832524",
          "status": "completed"
        },
        "tags": [
          "remove-cell"
        ]
      },
      "outputs": [],
      "source": [
        "import sax\n",
        "import matplotlib.pyplot as plt\n",
        "from fastcore.test import test_eq\n",
        "from pytest import approx, raises\n",
        "from nbdev import show_doc\n",
        "\n",
        "import os, sys; sys.stderr = open(os.devnull, \"w\")"
      ]
    },
    {
      "cell_type": "code",
      "execution_count": 3,
      "id": "72c3cf1046c0a6ef",
      "metadata": {
        "execution": {
          "iopub.execute_input": "2022-08-04T05:49:21.929314Z",
          "iopub.status.busy": "2022-08-04T05:49:21.927257Z",
          "iopub.status.idle": "2022-08-04T05:49:21.931456Z",
          "shell.execute_reply": "2022-08-04T05:49:21.931036Z"
        },
        "papermill": {
          "duration": 0.056097,
          "end_time": "2022-08-04T05:49:21.931583",
          "exception": false,
          "start_time": "2022-08-04T05:49:21.875486",
          "status": "completed"
        },
        "tags": [
          "hide-input"
        ]
      },
      "outputs": [],
      "source": [
        "from __future__ import annotations\n",
        "\n",
        "from typing import Dict\n",
        "\n",
        "    \n",
        "from sax.typing_ import SDense, SDict, SType, scoo\n",
        "from sax.backends import evaluate_circuit\n",
        "\n",
        "try:\n",
        "    import klujax\n",
        "except ImportError:\n",
        "    klujax = None\n",
        "    \n",
        "try:\n",
        "    import jax\n",
        "    import jax.numpy as jnp\n",
        "    JAX_AVAILABLE = True\n",
        "except ImportError:\n",
        "    import numpy as jnp\n",
        "    JAX_AVAILABLE = False"
      ]
    },
    {
      "cell_type": "markdown",
      "id": "64e42767",
      "metadata": {
        "papermill": {
          "duration": 0.048115,
          "end_time": "2022-08-04T05:49:22.027999",
          "exception": false,
          "start_time": "2022-08-04T05:49:21.979884",
          "status": "completed"
        },
        "tags": []
      },
      "source": [
        "## Citation\n",
        "The KLU backend is using `klujax`, which uses the [SuiteSparse](https://github.com/DrTimothyAldenDavis/SuiteSparse) C++ libraries for sparse matrix evaluations to evaluate the circuit insanely fast on a CPU. The specific algorith being used in question is the KLU algorithm:\n",
        "\n",
        "> Ekanathan Palamadai Natariajan. \"*KLU - A high performance sparse linear solver for circuit simulation problems.*\""
      ]
    },
    {
      "cell_type": "markdown",
      "id": "2db5821c",
      "metadata": {
        "papermill": {
          "duration": 0.047636,
          "end_time": "2022-08-04T05:49:22.123224",
          "exception": false,
          "start_time": "2022-08-04T05:49:22.075588",
          "status": "completed"
        },
        "tags": []
      },
      "source": [
        "## Theoretical Background"
      ]
    },
    {
      "cell_type": "markdown",
      "id": "3d4d4a4c",
      "metadata": {
        "papermill": {
          "duration": 0.047609,
          "end_time": "2022-08-04T05:49:22.218687",
          "exception": false,
          "start_time": "2022-08-04T05:49:22.171078",
          "status": "completed"
        },
        "tags": []
      },
      "source": [
        "The core of the KLU algorithm is supported by `klujax`, which internally uses the Suitesparse libraries to solve the sparse system `Ax = b`, in which A is a sparse matrix."
      ]
    },
    {
      "cell_type": "markdown",
      "id": "a1985f58",
      "metadata": {
        "papermill": {
          "duration": 0.081836,
          "end_time": "2022-08-04T05:49:22.347581",
          "exception": false,
          "start_time": "2022-08-04T05:49:22.265745",
          "status": "completed"
        },
        "tags": []
      },
      "source": [
        "Now it only comes down to shoehorn our circuit evaluation into a sparse linear system of equations $Ax=b$ where we need to solve for $x$ using `klujax`. \n",
        "Consider the block diagonal matrix $S_{bd}$ of all components in the circuit acting on the fields $x_{in}$ at each of the individual ports of each of the component integrated in $S^{bd}$. The output fields $x^{out}$ at each of those ports is then given by:\n",
        "\n",
        "$$\n",
        "x^{out} = S_{bd} x^{in}\n",
        "$$"
      ]
    },
    {
      "cell_type": "markdown",
      "id": "9c26c04a",
      "metadata": {
        "papermill": {
          "duration": 0.047287,
          "end_time": "2022-08-04T05:49:22.442215",
          "exception": false,
          "start_time": "2022-08-04T05:49:22.394928",
          "status": "completed"
        },
        "tags": []
      },
      "source": [
        "However, $S_{bd}$ is not the S-matrix of the circuit as it does not encode any connectivity *between* the components. Connecting two component ports basically comes down to enforcing equality between the output fields at one port of a component with the input fields at another port of another (or maybe even the same) component. This equality can be enforced by creating an internal connection matrix, connecting all internal ports of the circuit:\n",
        "\n",
        "$$\n",
        "x^{in} = C_{int} x^{out}\n",
        "$$"
      ]
    },
    {
      "cell_type": "markdown",
      "id": "16b3fdad",
      "metadata": {
        "papermill": {
          "duration": 0.047783,
          "end_time": "2022-08-04T05:49:22.537657",
          "exception": false,
          "start_time": "2022-08-04T05:49:22.489874",
          "status": "completed"
        },
        "tags": []
      },
      "source": [
        "We can thus write the following combined equation:\n",
        "\n",
        "$$\n",
        "x^{in} = C_{int} S_{bd} x^{in}\n",
        "$$"
      ]
    },
    {
      "cell_type": "markdown",
      "id": "f5ceb9a2",
      "metadata": {
        "papermill": {
          "duration": 0.047945,
          "end_time": "2022-08-04T05:49:22.633395",
          "exception": false,
          "start_time": "2022-08-04T05:49:22.585450",
          "status": "completed"
        },
        "tags": []
      },
      "source": [
        "But this is not the complete story... Some component ports will *not* be *interconnected* with other ports: they will become the new *external ports* (or output ports) of the combined circuit. We can include those external ports into the above equation as follows:\n",
        "\n",
        "$$\n",
        "\\begin{pmatrix} x^{in} \\\\ x^{out}_{ext} \\end{pmatrix} = \\begin{pmatrix} C_{int} & C_{ext} \\\\ C_{ext}^T & 0 \\end{pmatrix} \\begin{pmatrix} S_{bd} x^{in} \\\\ x_{ext}^{in} \\end{pmatrix} \n",
        "$$"
      ]
    },
    {
      "cell_type": "markdown",
      "id": "6382a242",
      "metadata": {
        "papermill": {
          "duration": 0.047769,
          "end_time": "2022-08-04T05:49:22.729066",
          "exception": false,
          "start_time": "2022-08-04T05:49:22.681297",
          "status": "completed"
        },
        "tags": []
      },
      "source": [
        "Note that $C_{ext}$ is obviously **not** a square matrix. Eliminating $x^{in}$ from the equation above finally yields:\n",
        "\n",
        "$$\n",
        "x^{out}_{ext} = C^T_{ext} S_{bd} (\\mathbb{1} - C_{int}S_{bd})^{-1} C_{ext}x_{ext}^{in}\n",
        "$$"
      ]
    },
    {
      "cell_type": "markdown",
      "id": "5f15bdcd",
      "metadata": {
        "papermill": {
          "duration": 0.04781,
          "end_time": "2022-08-04T05:49:22.824909",
          "exception": false,
          "start_time": "2022-08-04T05:49:22.777099",
          "status": "completed"
        },
        "tags": []
      },
      "source": [
        "We basically found a representation of the circuit S-matrix:\n",
        "\n",
        "$$\n",
        "S = C^T_{ext} S_{bd} (\\mathbb{1} - C_{int}S_{bd})^{-1} C_{ext}\n",
        "$$"
      ]
    },
    {
      "cell_type": "markdown",
      "id": "40ad83b8",
      "metadata": {
        "papermill": {
          "duration": 0.047793,
          "end_time": "2022-08-04T05:49:22.920205",
          "exception": false,
          "start_time": "2022-08-04T05:49:22.872412",
          "status": "completed"
        },
        "tags": []
      },
      "source": [
        "Obviously, we won't want to calculate the inverse $(\\mathbb{1} - C_{int}S_{bd})^{-1}$, which is the inverse of a very sparse matrix (a connection matrix only has a single 1 per line), which very often is not even sparse itself. In stead we'll use the `solve_klu` function:\n",
        "\n",
        "$$\n",
        "S = C^T_{ext} S_{bd} \\texttt{solve}\\_\\texttt{klu}\\left((\\mathbb{1} - C_{int}S_{bd}), C_{ext}\\right)\n",
        "$$"
      ]
    },
    {
      "cell_type": "markdown",
      "id": "018fab3d",
      "metadata": {
        "papermill": {
          "duration": 0.047654,
          "end_time": "2022-08-04T05:49:23.015707",
          "exception": false,
          "start_time": "2022-08-04T05:49:22.968053",
          "status": "completed"
        },
        "tags": []
      },
      "source": [
        "Moreover, $C_{ext}^TS_{bd}$ is also a sparse matrix, therefore we'll also need a `mul_coo` routine:\n",
        "\n",
        "$$\n",
        "S = C^T_{ext} \\texttt{mul}\\_\\texttt{coo}\\left(S_{bd},~~\\texttt{solve}\\_\\texttt{klu}\\left((\\mathbb{1} - C_{int}S_{bd}),~C_{ext}\\right)\\right)\n",
        "$$"
      ]
    },
    {
      "cell_type": "markdown",
      "id": "d9b78852",
      "metadata": {
        "papermill": {
          "duration": 0.050314,
          "end_time": "2022-08-04T05:49:23.113860",
          "exception": false,
          "start_time": "2022-08-04T05:49:23.063546",
          "status": "completed"
        },
        "tags": []
      },
      "source": [
        "## Sparse Helper Functions"
      ]
    },
    {
      "cell_type": "code",
      "execution_count": 4,
      "id": "7c4e73c5b7837f13",
      "metadata": {
        "execution": {
          "iopub.execute_input": "2022-08-04T05:49:23.214377Z",
          "iopub.status.busy": "2022-08-04T05:49:23.213817Z",
          "iopub.status.idle": "2022-08-04T05:49:23.215179Z",
          "shell.execute_reply": "2022-08-04T05:49:23.215660Z"
        },
        "papermill": {
          "duration": 0.05436,
          "end_time": "2022-08-04T05:49:23.215818",
          "exception": false,
          "start_time": "2022-08-04T05:49:23.161458",
          "status": "completed"
        },
        "tags": [
          "remove-input"
        ]
      },
      "outputs": [],
      "source": [
        "if klujax is not None:\n",
        "    show_doc(klujax.solve, doc_string=False, name=\"klujax.solve\")"
      ]
    },
    {
      "cell_type": "markdown",
      "id": "01299d5d",
      "metadata": {
        "papermill": {
          "duration": 0.047872,
          "end_time": "2022-08-04T05:49:23.311868",
          "exception": false,
          "start_time": "2022-08-04T05:49:23.263996",
          "status": "completed"
        },
        "tags": []
      },
      "source": [
        "`klujax.solve` solves the sparse system of equations `Ax=b` for `x`. Where `A` is represented by in [COO-format](https://en.wikipedia.org/wiki/Sparse_matrix#Coordinate_list_(COO)) as (`Ai`, `Aj`, `Ax`).\n",
        "\n",
        "> Example"
      ]
    },
    {
      "cell_type": "code",
      "execution_count": 5,
      "id": "63e7977a",
      "metadata": {
        "execution": {
          "iopub.execute_input": "2022-08-04T05:49:23.410931Z",
          "iopub.status.busy": "2022-08-04T05:49:23.410353Z",
          "iopub.status.idle": "2022-08-04T05:49:23.429597Z",
          "shell.execute_reply": "2022-08-04T05:49:23.429167Z"
        },
        "papermill": {
          "duration": 0.069933,
          "end_time": "2022-08-04T05:49:23.429729",
          "exception": false,
          "start_time": "2022-08-04T05:49:23.359796",
          "status": "completed"
        },
        "tags": []
      },
      "outputs": [
        {
          "data": {
            "text/plain": [
              "array([6. , 1. , 0.5, 0.5, 2. ])"
            ]
          },
          "execution_count": 5,
          "metadata": {},
          "output_type": "execute_result"
        }
      ],
      "source": [
        "Ai = jnp.array([0, 1, 2, 3, 4])\n",
        "Aj = jnp.array([1, 3, 4, 0, 2])\n",
        "Ax = jnp.array([5, 6, 1, 1, 2])\n",
        "b = jnp.array([5, 3, 2, 6, 1])\n",
        "\n",
        "if klujax is not None:\n",
        "    x = klujax.solve(Ai, Aj, Ax, b)\n",
        "else:\n",
        "    x = jnp.array([6.0, 1.0, 0.5, 0.5, 2.0])\n",
        "\n",
        "x"
      ]
    },
    {
      "cell_type": "markdown",
      "id": "3233b04c",
      "metadata": {
        "papermill": {
          "duration": 0.048828,
          "end_time": "2022-08-04T05:49:23.527666",
          "exception": false,
          "start_time": "2022-08-04T05:49:23.478838",
          "status": "completed"
        },
        "tags": []
      },
      "source": [
        "This result is indeed correct:"
      ]
    },
    {
      "cell_type": "code",
      "execution_count": 6,
      "id": "629bbc71",
      "metadata": {
        "execution": {
          "iopub.execute_input": "2022-08-04T05:49:23.635614Z",
          "iopub.status.busy": "2022-08-04T05:49:23.635061Z",
          "iopub.status.idle": "2022-08-04T05:49:23.828882Z",
          "shell.execute_reply": "2022-08-04T05:49:23.829388Z"
        },
        "papermill": {
          "duration": 0.253141,
          "end_time": "2022-08-04T05:49:23.829550",
          "exception": false,
          "start_time": "2022-08-04T05:49:23.576409",
          "status": "completed"
        },
        "tags": []
      },
      "outputs": [
        {
          "name": "stdout",
          "output_type": "stream",
          "text": [
            "[[0. 5. 0. 0. 0.]\n",
            " [0. 0. 0. 6. 0.]\n",
            " [0. 0. 0. 0. 1.]\n",
            " [1. 0. 0. 0. 0.]\n",
            " [0. 0. 2. 0. 0.]]\n",
            "[5. 3. 2. 6. 1.]\n"
          ]
        }
      ],
      "source": [
        "if JAX_AVAILABLE:\n",
        "    A = jnp.zeros((5, 5)).at[Ai, Aj].set(Ax)\n",
        "    print(A)\n",
        "    print(A@x)"
      ]
    },
    {
      "cell_type": "markdown",
      "id": "c7fe6547",
      "metadata": {
        "papermill": {
          "duration": 0.048975,
          "end_time": "2022-08-04T05:49:23.928087",
          "exception": false,
          "start_time": "2022-08-04T05:49:23.879112",
          "status": "completed"
        },
        "tags": []
      },
      "source": [
        "However, to use this function effectively, we probably need an extra dimension for `Ax`. Indeed, we would like to solve this equation for multiple wavelengths (or more general, for multiple circuit configurations) at once. For this we can use `jax.vmap` to expose `klujax.solve` to more dimensions for `Ax`:"
      ]
    },
    {
      "cell_type": "code",
      "execution_count": 7,
      "id": "1e910ca8fbfad6ff",
      "metadata": {
        "execution": {
          "iopub.execute_input": "2022-08-04T05:49:24.031937Z",
          "iopub.status.busy": "2022-08-04T05:49:24.031391Z",
          "iopub.status.idle": "2022-08-04T05:49:24.032457Z",
          "shell.execute_reply": "2022-08-04T05:49:24.032869Z"
        },
        "papermill": {
          "duration": 0.056092,
          "end_time": "2022-08-04T05:49:24.033025",
          "exception": false,
          "start_time": "2022-08-04T05:49:23.976933",
          "status": "completed"
        },
        "tags": []
      },
      "outputs": [],
      "source": [
        "solve_klu = None\n",
        "if klujax is not None:\n",
        "    solve_klu = jax.vmap(klujax.solve, (None, None, 0, None), 0)"
      ]
    },
    {
      "cell_type": "code",
      "execution_count": 8,
      "id": "f17d1ca4d88b6819",
      "metadata": {
        "execution": {
          "iopub.execute_input": "2022-08-04T05:49:24.136445Z",
          "iopub.status.busy": "2022-08-04T05:49:24.135901Z",
          "iopub.status.idle": "2022-08-04T05:49:24.137924Z",
          "shell.execute_reply": "2022-08-04T05:49:24.138321Z"
        },
        "papermill": {
          "duration": 0.05642,
          "end_time": "2022-08-04T05:49:24.138472",
          "exception": false,
          "start_time": "2022-08-04T05:49:24.082052",
          "status": "completed"
        },
        "tags": [
          "remove-input"
        ]
      },
      "outputs": [
        {
          "data": {
            "text/markdown": [
              "<h4 id=\"solve_klu\" class=\"doc_header\"><code>solve_klu</code><a href=\"\" class=\"source_link\" style=\"float:right\">[source]</a></h4>\n",
              "\n"
            ],
            "text/plain": [
              "<IPython.core.display.Markdown object>"
            ]
          },
          "metadata": {},
          "output_type": "display_data"
        }
      ],
      "source": [
        "show_doc(solve_klu, doc_string=False, name=\"solve_klu\")"
      ]
    },
    {
      "cell_type": "markdown",
      "id": "6707049d",
      "metadata": {
        "papermill": {
          "duration": 0.049191,
          "end_time": "2022-08-04T05:49:24.237053",
          "exception": false,
          "start_time": "2022-08-04T05:49:24.187862",
          "status": "completed"
        },
        "tags": []
      },
      "source": [
        "Let's now redefine `Ax` and see what it gives:"
      ]
    },
    {
      "cell_type": "code",
      "execution_count": 9,
      "id": "d4d7b6f9",
      "metadata": {
        "execution": {
          "iopub.execute_input": "2022-08-04T05:49:24.339000Z",
          "iopub.status.busy": "2022-08-04T05:49:24.338403Z",
          "iopub.status.idle": "2022-08-04T05:49:24.348567Z",
          "shell.execute_reply": "2022-08-04T05:49:24.348122Z"
        },
        "papermill": {
          "duration": 0.062543,
          "end_time": "2022-08-04T05:49:24.348690",
          "exception": false,
          "start_time": "2022-08-04T05:49:24.286147",
          "status": "completed"
        },
        "tags": []
      },
      "outputs": [
        {
          "data": {
            "text/plain": [
              "array([[6.       , 1.       , 0.5      , 0.5      , 2.       ],\n",
              "       [3.       , 1.       , 1.       , 0.75     , 0.6666667],\n",
              "       [1.5      , 5.       , 0.2      , 1.5      , 0.6666667]],            dtype=float32))"
            ]
          },
          "execution_count": 9,
          "metadata": {},
          "output_type": "execute_result"
        }
      ],
      "source": [
        "Ai = jnp.array([0, 1, 2, 3, 4])\n",
        "Aj = jnp.array([1, 3, 4, 0, 2])\n",
        "Ax = jnp.array([[5, 6, 1, 1, 2], [5, 4, 3, 2, 1], [1, 2, 3, 4, 5]])\n",
        "b = jnp.array([5, 3, 2, 6, 1])\n",
        "if klujax is not None:\n",
        "    x = solve_klu(Ai, Aj, Ax, b)\n",
        "else:\n",
        "    x = jnp.array([\n",
        "        [6.0, 1.0, 0.5, 0.5, 2.0],\n",
        "        [3.0, 1.0, 1.0, 0.75, 0.66666667],\n",
        "        [1.5, 5.0, 0.2, 1.5, 0.66666667],\n",
        "    ])\n",
        "    \n",
        "x"
      ]
    },
    {
      "cell_type": "markdown",
      "id": "5f342c6f",
      "metadata": {
        "papermill": {
          "duration": 0.050079,
          "end_time": "2022-08-04T05:49:24.449114",
          "exception": false,
          "start_time": "2022-08-04T05:49:24.399035",
          "status": "completed"
        },
        "tags": []
      },
      "source": [
        "This result is indeed correct:"
      ]
    },
    {
      "cell_type": "code",
      "execution_count": 10,
      "id": "0afefaa6",
      "metadata": {
        "execution": {
          "iopub.execute_input": "2022-08-04T05:49:24.560004Z",
          "iopub.status.busy": "2022-08-04T05:49:24.559433Z",
          "iopub.status.idle": "2022-08-04T05:49:24.688109Z",
          "shell.execute_reply": "2022-08-04T05:49:24.687186Z"
        },
        "papermill": {
          "duration": 0.18893,
          "end_time": "2022-08-04T05:49:24.688315",
          "exception": false,
          "start_time": "2022-08-04T05:49:24.499385",
          "status": "completed"
        },
        "tags": []
      },
      "outputs": [],
      "source": [
        "if JAX_AVAILABLE:\n",
        "    A = jnp.zeros((3, 5, 5)).at[:, Ai, Aj].set(Ax)\n",
        "    jnp.einsum(\"ijk,ik->ij\", A, x)"
      ]
    },
    {
      "cell_type": "markdown",
      "id": "7ed8f62d",
      "metadata": {
        "papermill": {
          "duration": 0.051032,
          "end_time": "2022-08-04T05:49:24.793439",
          "exception": false,
          "start_time": "2022-08-04T05:49:24.742407",
          "status": "completed"
        },
        "tags": []
      },
      "source": [
        "Additionally, we need a way to multiply a sparse COO-matrix with a dense vector. This can be done with `klujax.coo_mul_vec`:"
      ]
    },
    {
      "cell_type": "code",
      "execution_count": 11,
      "id": "5efbf6200cc2d351",
      "metadata": {
        "execution": {
          "iopub.execute_input": "2022-08-04T05:49:24.898246Z",
          "iopub.status.busy": "2022-08-04T05:49:24.897699Z",
          "iopub.status.idle": "2022-08-04T05:49:24.899157Z",
          "shell.execute_reply": "2022-08-04T05:49:24.899555Z"
        },
        "papermill": {
          "duration": 0.05613,
          "end_time": "2022-08-04T05:49:24.899708",
          "exception": false,
          "start_time": "2022-08-04T05:49:24.843578",
          "status": "completed"
        },
        "tags": [
          "remove-input"
        ]
      },
      "outputs": [],
      "source": [
        "\n",
        "if klujax is not None:\n",
        "    show_doc(klujax.coo_mul_vec, doc_string=False, name=\"klujax.coo_mul_vec\")"
      ]
    },
    {
      "cell_type": "markdown",
      "id": "7f57c443",
      "metadata": {
        "papermill": {
          "duration": 0.050175,
          "end_time": "2022-08-04T05:49:25.000671",
          "exception": false,
          "start_time": "2022-08-04T05:49:24.950496",
          "status": "completed"
        },
        "tags": []
      },
      "source": [
        "However, it's useful to allow a batch dimension, this time *both* in `Ax` and in `b`:"
      ]
    },
    {
      "cell_type": "code",
      "execution_count": 12,
      "id": "344236a72706ce32",
      "metadata": {
        "execution": {
          "iopub.execute_input": "2022-08-04T05:49:25.105636Z",
          "iopub.status.busy": "2022-08-04T05:49:25.105108Z",
          "iopub.status.idle": "2022-08-04T05:49:25.107092Z",
          "shell.execute_reply": "2022-08-04T05:49:25.106667Z"
        },
        "papermill": {
          "duration": 0.05634,
          "end_time": "2022-08-04T05:49:25.107217",
          "exception": false,
          "start_time": "2022-08-04T05:49:25.050877",
          "status": "completed"
        },
        "tags": [
          "remove-cell"
        ]
      },
      "outputs": [],
      "source": [
        "\n",
        "# @jax.jit  # TODO: make this available to autograd\n",
        "# def mul_coo(Ai, Aj, Ax, b):\n",
        "#     result = jnp.zeros_like(b).at[..., Ai, :].add(Ax[..., :, None] * b[..., Aj, :])\n",
        "#     return result"
      ]
    },
    {
      "cell_type": "code",
      "execution_count": 13,
      "id": "f23e30f67106c930",
      "metadata": {
        "execution": {
          "iopub.execute_input": "2022-08-04T05:49:25.213405Z",
          "iopub.status.busy": "2022-08-04T05:49:25.212820Z",
          "iopub.status.idle": "2022-08-04T05:49:25.215664Z",
          "shell.execute_reply": "2022-08-04T05:49:25.215245Z"
        },
        "papermill": {
          "duration": 0.057674,
          "end_time": "2022-08-04T05:49:25.215788",
          "exception": false,
          "start_time": "2022-08-04T05:49:25.158114",
          "status": "completed"
        },
        "tags": []
      },
      "outputs": [],
      "source": [
        "mul_coo = None \n",
        "if klujax is not None:\n",
        "    mul_coo = jax.vmap(klujax.coo_mul_vec, (None, None, 0, 0), 0)"
      ]
    },
    {
      "cell_type": "code",
      "execution_count": 14,
      "id": "b8f961d45cd10eed",
      "metadata": {
        "execution": {
          "iopub.execute_input": "2022-08-04T05:49:25.320052Z",
          "iopub.status.busy": "2022-08-04T05:49:25.319535Z",
          "iopub.status.idle": "2022-08-04T05:49:25.323738Z",
          "shell.execute_reply": "2022-08-04T05:49:25.324204Z"
        },
        "papermill": {
          "duration": 0.058035,
          "end_time": "2022-08-04T05:49:25.324357",
          "exception": false,
          "start_time": "2022-08-04T05:49:25.266322",
          "status": "completed"
        },
        "tags": [
          "remove-input"
        ]
      },
      "outputs": [
        {
          "data": {
            "text/markdown": [
              "<h4 id=\"mul_coo\" class=\"doc_header\"><code>mul_coo</code><a href=\"\" class=\"source_link\" style=\"float:right\">[source]</a></h4>\n",
              "\n"
            ],
            "text/plain": [
              "<IPython.core.display.Markdown object>"
            ]
          },
          "metadata": {},
          "output_type": "display_data"
        }
      ],
      "source": [
        "show_doc(mul_coo, doc_string=False, name=\"mul_coo\")"
      ]
    },
    {
      "cell_type": "markdown",
      "id": "d26cc3d9",
      "metadata": {
        "papermill": {
          "duration": 0.051124,
          "end_time": "2022-08-04T05:49:25.427197",
          "exception": false,
          "start_time": "2022-08-04T05:49:25.376073",
          "status": "completed"
        },
        "tags": []
      },
      "source": [
        "Let's confirm this does the right thing:"
      ]
    },
    {
      "cell_type": "code",
      "execution_count": 15,
      "id": "bd868973",
      "metadata": {
        "execution": {
          "iopub.execute_input": "2022-08-04T05:49:25.536253Z",
          "iopub.status.busy": "2022-08-04T05:49:25.535725Z",
          "iopub.status.idle": "2022-08-04T05:49:25.537705Z",
          "shell.execute_reply": "2022-08-04T05:49:25.538181Z"
        },
        "papermill": {
          "duration": 0.059942,
          "end_time": "2022-08-04T05:49:25.538336",
          "exception": false,
          "start_time": "2022-08-04T05:49:25.478394",
          "status": "completed"
        },
        "tags": []
      },
      "outputs": [
        {
          "data": {
            "text/plain": [
              "array([[5., 3., 2., 6., 1.],\n",
              "       [5., 3., 2., 6., 1.],\n",
              "       [5., 3., 2., 6., 1.]])"
            ]
          },
          "execution_count": 15,
          "metadata": {},
          "output_type": "execute_result"
        }
      ],
      "source": [
        "if klujax is not None:\n",
        "    result = mul_coo(Ai, Aj, Ax, x)\n",
        "else:\n",
        "    result = jnp.array([\n",
        "        [5.0, 3.0, 2.0, 6.0, 1.0],\n",
        "        [5.0, 3.0, 2.00000001, 6.0, 1.0],\n",
        "        [5.0, 3.0, 2.00000001, 6.0, 1.0],\n",
        "    ])\n",
        "    \n",
        "result"
      ]
    },
    {
      "cell_type": "markdown",
      "id": "d71e89fa",
      "metadata": {
        "papermill": {
          "duration": 0.050969,
          "end_time": "2022-08-04T05:49:25.640819",
          "exception": false,
          "start_time": "2022-08-04T05:49:25.589850",
          "status": "completed"
        },
        "tags": []
      },
      "source": [
        "## Circuit Evaluation"
      ]
    },
    {
      "cell_type": "markdown",
      "id": "6df23a2e161b05e0",
      "metadata": {},
      "source": [
        ":::{eval-rst}\n",
        ".. autofunction:: sax.backends.klu.evaluate_circuit_klu\n",
        ":::\n"
      ]
    },
    {
      "cell_type": "code",
      "execution_count": 16,
      "id": "5c015f1d6f027de7",
      "metadata": {
        "execution": {
          "iopub.execute_input": "2022-08-04T05:49:25.747413Z",
          "iopub.status.busy": "2022-08-04T05:49:25.746848Z",
          "iopub.status.idle": "2022-08-04T05:49:25.764465Z",
          "shell.execute_reply": "2022-08-04T05:49:25.764876Z"
        },
        "papermill": {
          "duration": 0.072993,
          "end_time": "2022-08-04T05:49:25.765036",
          "exception": false,
          "start_time": "2022-08-04T05:49:25.692043",
          "status": "completed"
        },
        "tags": [
          "hide-input"
        ]
      },
      "outputs": [],
      "source": [
        "def evaluate_circuit_klu(\n",
        "    instances: Dict[str, SType],\n",
        "    connections: Dict[str, str],\n",
        "    ports: Dict[str, str],\n",
        "):\n",
        "    \"\"\"evaluate a circuit using KLU for the given sdicts. \"\"\"\n",
        "\n",
        "    if klujax is None:\n",
        "        raise ImportError(\n",
        "            \"Could not import 'klujax'. \"\n",
        "            \"Please install it first before using backend method 'klu'\"\n",
        "        )\n",
        "\n",
        "    assert solve_klu is not None\n",
        "    assert mul_coo is not None\n",
        "\n",
        "    connections = {**connections, **{v: k for k, v in connections.items()}}\n",
        "    inverse_ports = {v: k for k, v in ports.items()}\n",
        "    port_map = {k: i for i, k in enumerate(ports)}\n",
        "\n",
        "    idx, Si, Sj, Sx, instance_ports = 0, [], [], [], {}\n",
        "    batch_shape = ()\n",
        "    for name, instance in instances.items():\n",
        "        si, sj, sx, ports_map = scoo(instance)\n",
        "        Si.append(si + idx)\n",
        "        Sj.append(sj + idx)\n",
        "        Sx.append(sx)\n",
        "        if len(sx.shape[:-1]) > len(batch_shape):\n",
        "            batch_shape = sx.shape[:-1]\n",
        "        instance_ports.update({f\"{name},{p}\": i + idx for p, i in ports_map.items()})\n",
        "        idx += len(ports_map)\n",
        "\n",
        "    Si = jnp.concatenate(Si, -1)\n",
        "    Sj = jnp.concatenate(Sj, -1)\n",
        "    Sx = jnp.concatenate(\n",
        "        [jnp.broadcast_to(sx, (*batch_shape, sx.shape[-1])) for sx in Sx], -1\n",
        "    )\n",
        "\n",
        "    n_col = idx\n",
        "    n_rhs = len(port_map)\n",
        "\n",
        "    Cmap = {\n",
        "        int(instance_ports[k]): int(instance_ports[v]) for k, v in connections.items()\n",
        "    }\n",
        "    Ci = jnp.array(list(Cmap.keys()), dtype=jnp.int32)\n",
        "    Cj = jnp.array(list(Cmap.values()), dtype=jnp.int32)\n",
        "\n",
        "    Cextmap = {int(instance_ports[k]): int(port_map[v]) for k, v in inverse_ports.items()}\n",
        "    Cexti = jnp.stack(list(Cextmap.keys()), 0)\n",
        "    Cextj = jnp.stack(list(Cextmap.values()), 0)\n",
        "    Cext = jnp.zeros((n_col, n_rhs), dtype=complex).at[Cexti, Cextj].set(1.0)\n",
        "\n",
        "    # TODO: make this block jittable...\n",
        "    Ix = jnp.ones((*batch_shape, n_col))\n",
        "    Ii = Ij = jnp.arange(n_col)\n",
        "    mask = Cj[None,:] == Si[:, None]\n",
        "    CSi = jnp.broadcast_to(Ci[None, :], mask.shape)[mask]\n",
        "\n",
        "    # CSi = jnp.where(Cj[None, :] == Si[:, None], Ci[None, :], 0).sum(1)\n",
        "    mask = (Cj[:, None] == Si[None, :]).any(0)\n",
        "    CSj = Sj[mask]\n",
        "    \n",
        "    if Sx.ndim > 1: # bug in JAX... see https://github.com/google/jax/issues/9050\n",
        "        CSx = Sx[..., mask]\n",
        "    else:\n",
        "        CSx = Sx[mask]\n",
        "        \n",
        "    # CSj = jnp.where(mask, Sj, 0)\n",
        "    # CSx = jnp.where(mask, Sx, 0.0)\n",
        "\n",
        "    I_CSi = jnp.concatenate([CSi, Ii], -1)\n",
        "    I_CSj = jnp.concatenate([CSj, Ij], -1)\n",
        "    I_CSx = jnp.concatenate([-CSx, Ix], -1)\n",
        "\n",
        "    n_col, n_rhs = Cext.shape\n",
        "    n_lhs = jnp.prod(jnp.array(batch_shape, dtype=jnp.int32))\n",
        "    Sx = Sx.reshape(n_lhs, -1)\n",
        "    I_CSx = I_CSx.reshape(n_lhs, -1)\n",
        "\n",
        "    inv_I_CS_Cext = solve_klu(I_CSi, I_CSj, I_CSx, Cext)\n",
        "    S_inv_I_CS_Cext = mul_coo(Si, Sj, Sx, inv_I_CS_Cext)\n",
        "\n",
        "    CextT_S_inv_I_CS_Cext = S_inv_I_CS_Cext[..., Cexti, :][..., :, Cextj]\n",
        "    \n",
        "    _, n, _ = CextT_S_inv_I_CS_Cext.shape\n",
        "    S = CextT_S_inv_I_CS_Cext.reshape(*batch_shape, n, n)\n",
        "\n",
        "    return S, port_map"
      ]
    },
    {
      "cell_type": "markdown",
      "id": "dce9d8ca",
      "metadata": {
        "papermill": {
          "duration": 0.051489,
          "end_time": "2022-08-04T05:49:25.868998",
          "exception": false,
          "start_time": "2022-08-04T05:49:25.817509",
          "status": "completed"
        },
        "tags": []
      },
      "source": [
        "## Example"
      ]
    },
    {
      "cell_type": "code",
      "execution_count": 17,
      "id": "4296b439ade1a45f",
      "metadata": {
        "execution": {
          "iopub.execute_input": "2022-08-04T05:49:25.975039Z",
          "iopub.status.busy": "2022-08-04T05:49:25.974459Z",
          "iopub.status.idle": "2022-08-04T05:49:25.978810Z",
          "shell.execute_reply": "2022-08-04T05:49:25.979219Z"
        },
        "papermill": {
          "duration": 0.058856,
          "end_time": "2022-08-04T05:49:25.979376",
          "exception": false,
          "start_time": "2022-08-04T05:49:25.920520",
          "status": "completed"
        },
        "tags": [
          "remove-cell"
        ]
      },
      "outputs": [],
      "source": [
        "if klujax is None:\n",
        "    def evaluate_circuit_klu(\n",
        "        instances: Dict[str, SType],\n",
        "        connections: Dict[str, str],\n",
        "        ports: Dict[str, str],\n",
        "    ):\n",
        "        sdict = evaluate_circuit(instances, connections, ports)\n",
        "        sdense = sax.sdense(sdict)\n",
        "        return sdense"
      ]
    },
    {
      "cell_type": "code",
      "execution_count": 18,
      "id": "f577522a",
      "metadata": {
        "execution": {
          "iopub.execute_input": "2022-08-04T05:49:26.096035Z",
          "iopub.status.busy": "2022-08-04T05:49:26.095444Z",
          "iopub.status.idle": "2022-08-04T05:49:27.288274Z",
          "shell.execute_reply": "2022-08-04T05:49:27.288754Z"
        },
        "papermill": {
          "duration": 1.258159,
          "end_time": "2022-08-04T05:49:27.288944",
          "exception": false,
          "start_time": "2022-08-04T05:49:26.030785",
          "status": "completed"
        },
        "tags": []
      },
      "outputs": [],
      "source": [
        "wg_sdict: SDict = {\n",
        "    (\"in0\", \"out0\"): 0.5 + 0.86603j,\n",
        "    (\"out0\", \"in0\"): 0.5 + 0.86603j,\n",
        "}\n",
        "\n",
        "\u03c4, \u03ba = 0.5 ** 0.5, 1j * 0.5 ** 0.5\n",
        "dc_sdense: SDense = (\n",
        "    jnp.array([[0, 0, \u03c4, \u03ba], \n",
        "               [0, 0, \u03ba, \u03c4], \n",
        "               [\u03c4, \u03ba, 0, 0], \n",
        "               [\u03ba, \u03c4, 0, 0]]),\n",
        "    {\"in0\": 0, \"in1\": 1, \"out0\": 2, \"out1\": 3},\n",
        ")\n",
        "\n",
        "mzi_sdense: SDense = evaluate_circuit_klu(\n",
        "    instances={\n",
        "        \"dc1\": dc_sdense,\n",
        "        \"wg\": wg_sdict,\n",
        "        \"dc2\": dc_sdense,\n",
        "    },\n",
        "    connections={\n",
        "        \"dc1,out0\": \"wg,in0\",\n",
        "        \"wg,out0\": \"dc2,in0\",\n",
        "        \"dc1,out1\": \"dc2,in1\",\n",
        "    },\n",
        "    ports={\n",
        "        \"in0\": \"dc1,in0\",\n",
        "        \"in1\": \"dc1,in1\",\n",
        "        \"out0\": \"dc2,out0\",\n",
        "        \"out1\": \"dc2,out1\",\n",
        "    }\n",
        ")"
      ]
    },
    {
      "cell_type": "markdown",
      "id": "60b6d1e6",
      "metadata": {
        "papermill": {
          "duration": 0.051767,
          "end_time": "2022-08-04T05:49:27.392841",
          "exception": false,
          "start_time": "2022-08-04T05:49:27.341074",
          "status": "completed"
        },
        "tags": []
      },
      "source": [
        "the KLU backend yields `SDense` results by default:"
      ]
    },
    {
      "cell_type": "code",
      "execution_count": 19,
      "id": "ecc3115e",
      "metadata": {
        "execution": {
          "iopub.execute_input": "2022-08-04T05:49:27.501714Z",
          "iopub.status.busy": "2022-08-04T05:49:27.501193Z",
          "iopub.status.idle": "2022-08-04T05:49:27.505823Z",
          "shell.execute_reply": "2022-08-04T05:49:27.506297Z"
        },
        "papermill": {
          "duration": 0.061863,
          "end_time": "2022-08-04T05:49:27.506443",
          "exception": false,
          "start_time": "2022-08-04T05:49:27.444580",
          "status": "completed"
        },
        "tags": []
      },
      "outputs": [
        {
          "data": {
            "text/plain": [
              "(array([[ 0.        +0.j        ,  0.        +0.j        ,\n",
              "         -0.24999999+0.433015j  , -0.433015  +0.74999994j],\n",
              "        [ 0.        +0.j        ,  0.        +0.j        ,\n",
              "         -0.433015  +0.74999994j,  0.24999999-0.433015j  ],\n",
              "        [-0.24999999+0.433015j  , -0.433015  +0.74999994j,\n",
              "          0.        +0.j        ,  0.        +0.j        ],\n",
              "        [-0.433015  +0.74999994j,  0.24999999-0.433015j  ,\n",
              "          0.        +0.j        ,  0.        +0.j        ]],            dtype=complex64)),\n",
              " {'in0': 0, 'in1': 1, 'out0': 2, 'out1': 3})"
            ]
          },
          "execution_count": 19,
          "metadata": {},
          "output_type": "execute_result"
        }
      ],
      "source": [
        "mzi_sdense"
      ]
    },
    {
      "cell_type": "markdown",
      "id": "4b8e87f3",
      "metadata": {
        "papermill": {
          "duration": 0.051639,
          "end_time": "2022-08-04T05:49:27.610037",
          "exception": false,
          "start_time": "2022-08-04T05:49:27.558398",
          "status": "completed"
        },
        "tags": []
      },
      "source": [
        "An `SDense` is returned for perfomance reasons. By returning an `SDense` by default we prevent any internal `SDict -> SDense` conversions in deeply hierarchical circuits. It's however very easy to convert `SDense` to `SDict` as a final step. To do this, wrap the result (or the function generating the result) with `sdict`:"
      ]
    },
    {
      "cell_type": "code",
      "execution_count": 20,
      "id": "7202ab1e",
      "metadata": {
        "execution": {
          "iopub.execute_input": "2022-08-04T05:49:27.720980Z",
          "iopub.status.busy": "2022-08-04T05:49:27.720440Z",
          "iopub.status.idle": "2022-08-04T05:49:27.775577Z",
          "shell.execute_reply": "2022-08-04T05:49:27.776043Z"
        },
        "papermill": {
          "duration": 0.113837,
          "end_time": "2022-08-04T05:49:27.776219",
          "exception": false,
          "start_time": "2022-08-04T05:49:27.662382",
          "status": "completed"
        },
        "tags": []
      },
      "outputs": [
        {
          "data": {
            "text/plain": [
              "{('in0', 'in0'): 0j,\n",
              " ('in0', 'in1'): 0j,\n",
              " ('in0', 'out0'): -0.25+0.43301j,\n",
              " ('in0', 'out1'): -0.43301+0.75j,\n",
              " ('in1', 'in0'): 0j,\n",
              " ('in1', 'in1'): 0j,\n",
              " ('in1', 'out0'): -0.43301+0.75j,\n",
              " ('in1', 'out1'): 0.25-0.43301j,\n",
              " ('out0', 'in0'): -0.25+0.43301j,\n",
              " ('out0', 'in1'): -0.43301+0.75j,\n",
              " ('out0', 'out0'): 0j,\n",
              " ('out0', 'out1'): 0j,\n",
              " ('out1', 'in0'): -0.43301+0.75j,\n",
              " ('out1', 'in1'): 0.25-0.43301j,\n",
              " ('out1', 'out0'): 0j,\n",
              " ('out1', 'out1'): 0j}"
            ]
          },
          "execution_count": 20,
          "metadata": {},
          "output_type": "execute_result"
        }
      ],
      "source": [
        "sax.sdict(mzi_sdense)"
      ]
    },
    {
      "cell_type": "markdown",
      "id": "9f8cd5ea",
      "metadata": {
        "papermill": {
          "duration": 0.052074,
          "end_time": "2022-08-04T05:49:27.882192",
          "exception": false,
          "start_time": "2022-08-04T05:49:27.830118",
          "status": "completed"
        },
        "tags": []
      },
      "source": [
        "## Algorithm Walkthrough"
      ]
    },
    {
      "cell_type": "code",
      "execution_count": 21,
      "id": "665c856d",
      "metadata": {
        "execution": {
          "iopub.execute_input": "2022-08-04T05:49:27.992825Z",
          "iopub.status.busy": "2022-08-04T05:49:27.992192Z",
          "iopub.status.idle": "2022-08-04T05:49:27.993384Z",
          "shell.execute_reply": "2022-08-04T05:49:27.993764Z"
        },
        "papermill": {
          "duration": 0.059602,
          "end_time": "2022-08-04T05:49:27.993910",
          "exception": false,
          "start_time": "2022-08-04T05:49:27.934308",
          "status": "completed"
        },
        "tags": []
      },
      "outputs": [],
      "source": [
        "instances={\n",
        "    \"dc1\": dc_sdense,\n",
        "    \"wg\": wg_sdict,\n",
        "    \"dc2\": dc_sdense,\n",
        "}\n",
        "connections={\n",
        "    \"dc1,out0\": \"wg,in0\",\n",
        "    \"wg,out0\": \"dc2,in0\",\n",
        "    \"dc1,out1\": \"dc2,in1\",\n",
        "}\n",
        "ports={\n",
        "    \"in0\": \"dc1,in0\",\n",
        "    \"in1\": \"dc1,in1\",\n",
        "    \"out0\": \"dc2,out0\",\n",
        "    \"out1\": \"dc2,out1\",\n",
        "}"
      ]
    },
    {
      "cell_type": "markdown",
      "id": "b5bf5188",
      "metadata": {
        "papermill": {
          "duration": 0.052578,
          "end_time": "2022-08-04T05:49:28.098793",
          "exception": false,
          "start_time": "2022-08-04T05:49:28.046215",
          "status": "completed"
        },
        "tags": []
      },
      "source": [
        "Let's first enforce $C^T = C$:"
      ]
    },
    {
      "cell_type": "code",
      "execution_count": 22,
      "id": "6d7d4c39",
      "metadata": {
        "execution": {
          "iopub.execute_input": "2022-08-04T05:49:28.210284Z",
          "iopub.status.busy": "2022-08-04T05:49:28.209732Z",
          "iopub.status.idle": "2022-08-04T05:49:28.213498Z",
          "shell.execute_reply": "2022-08-04T05:49:28.213962Z"
        },
        "papermill": {
          "duration": 0.062798,
          "end_time": "2022-08-04T05:49:28.214115",
          "exception": false,
          "start_time": "2022-08-04T05:49:28.151317",
          "status": "completed"
        },
        "tags": []
      },
      "outputs": [
        {
          "data": {
            "text/plain": [
              "{'dc1,out0': 'wg,in0',\n",
              " 'wg,out0': 'dc2,in0',\n",
              " 'dc1,out1': 'dc2,in1',\n",
              " 'wg,in0': 'dc1,out0',\n",
              " 'dc2,in0': 'wg,out0',\n",
              " 'dc2,in1': 'dc1,out1'}"
            ]
          },
          "execution_count": 22,
          "metadata": {},
          "output_type": "execute_result"
        }
      ],
      "source": [
        "connections = {**connections, **{v: k for k, v in connections.items()}}\n",
        "connections"
      ]
    },
    {
      "cell_type": "markdown",
      "id": "a41250ec",
      "metadata": {
        "papermill": {
          "duration": 0.053501,
          "end_time": "2022-08-04T05:49:28.320241",
          "exception": false,
          "start_time": "2022-08-04T05:49:28.266740",
          "status": "completed"
        },
        "tags": []
      },
      "source": [
        "We'll also need the reversed ports:"
      ]
    },
    {
      "cell_type": "code",
      "execution_count": 23,
      "id": "9a70463f",
      "metadata": {
        "execution": {
          "iopub.execute_input": "2022-08-04T05:49:28.430819Z",
          "iopub.status.busy": "2022-08-04T05:49:28.430209Z",
          "iopub.status.idle": "2022-08-04T05:49:28.432246Z",
          "shell.execute_reply": "2022-08-04T05:49:28.432650Z"
        },
        "papermill": {
          "duration": 0.059868,
          "end_time": "2022-08-04T05:49:28.432801",
          "exception": false,
          "start_time": "2022-08-04T05:49:28.372933",
          "status": "completed"
        },
        "tags": []
      },
      "outputs": [
        {
          "data": {
            "text/plain": [
              "{'dc1,in0': 'in0', 'dc1,in1': 'in1', 'dc2,out0': 'out0', 'dc2,out1': 'out1'}"
            ]
          },
          "execution_count": 23,
          "metadata": {},
          "output_type": "execute_result"
        }
      ],
      "source": [
        "inverse_ports = {v: k for k, v in ports.items()}\n",
        "inverse_ports"
      ]
    },
    {
      "cell_type": "markdown",
      "id": "1e96443b",
      "metadata": {
        "papermill": {
          "duration": 0.053039,
          "end_time": "2022-08-04T05:49:28.539535",
          "exception": false,
          "start_time": "2022-08-04T05:49:28.486496",
          "status": "completed"
        },
        "tags": []
      },
      "source": [
        "An the port indices"
      ]
    },
    {
      "cell_type": "code",
      "execution_count": 24,
      "id": "8e18d182",
      "metadata": {
        "execution": {
          "iopub.execute_input": "2022-08-04T05:49:28.650686Z",
          "iopub.status.busy": "2022-08-04T05:49:28.650132Z",
          "iopub.status.idle": "2022-08-04T05:49:28.652054Z",
          "shell.execute_reply": "2022-08-04T05:49:28.652442Z"
        },
        "papermill": {
          "duration": 0.060226,
          "end_time": "2022-08-04T05:49:28.652586",
          "exception": false,
          "start_time": "2022-08-04T05:49:28.592360",
          "status": "completed"
        },
        "tags": []
      },
      "outputs": [
        {
          "data": {
            "text/plain": [
              "{'in0': 0, 'in1': 1, 'out0': 2, 'out1': 3}"
            ]
          },
          "execution_count": 24,
          "metadata": {},
          "output_type": "execute_result"
        }
      ],
      "source": [
        "port_map = {k: i for i, k in enumerate(ports)}\n",
        "port_map"
      ]
    },
    {
      "cell_type": "markdown",
      "id": "70924074",
      "metadata": {
        "papermill": {
          "duration": 0.053415,
          "end_time": "2022-08-04T05:49:28.759885",
          "exception": false,
          "start_time": "2022-08-04T05:49:28.706470",
          "status": "completed"
        },
        "tags": []
      },
      "source": [
        "Let's now create the COO-representation of our block diagonal S-matrix $S_{bd}$:"
      ]
    },
    {
      "cell_type": "code",
      "execution_count": 25,
      "id": "835deb8f",
      "metadata": {
        "execution": {
          "iopub.execute_input": "2022-08-04T05:49:28.880087Z",
          "iopub.status.busy": "2022-08-04T05:49:28.879532Z",
          "iopub.status.idle": "2022-08-04T05:49:29.069395Z",
          "shell.execute_reply": "2022-08-04T05:49:29.070081Z"
        },
        "papermill": {
          "duration": 0.257022,
          "end_time": "2022-08-04T05:49:29.070280",
          "exception": false,
          "start_time": "2022-08-04T05:49:28.813258",
          "status": "completed"
        },
        "tags": []
      },
      "outputs": [
        {
          "name": "stdout",
          "output_type": "stream",
          "text": [
            "[0 0 0 0 1 1 1 1 2 2 2 2 3 3 3 3 4 5 6 6 6 6 7 7 7 7 8 8 8 8 9 9 9 9]\n",
            "[0 1 2 3 0 1 2 3 0 1 2 3 0 1 2 3 5 4 6 7 8 9 6 7 8 9 6 7 8 9 6 7 8 9]\n",
            "[0.        +0.j         0.        +0.j         0.70710677+0.j\n",
            " 0.        +0.70710677j 0.        +0.j         0.        +0.j\n",
            " 0.        +0.70710677j 0.70710677+0.j         0.70710677+0.j\n",
            " 0.        +0.70710677j 0.        +0.j         0.        +0.j\n",
            " 0.        +0.70710677j 0.70710677+0.j         0.        +0.j\n",
            " 0.        +0.j         0.5       +0.86603j    0.5       +0.86603j\n",
            " 0.        +0.j         0.        +0.j         0.70710677+0.j\n",
            " 0.        +0.70710677j 0.        +0.j         0.        +0.j\n",
            " 0.        +0.70710677j 0.70710677+0.j         0.70710677+0.j\n",
            " 0.        +0.70710677j 0.        +0.j         0.        +0.j\n",
            " 0.        +0.70710677j 0.70710677+0.j         0.        +0.j\n",
            " 0.        +0.j        ]\n"
          ]
        }
      ],
      "source": [
        "idx, Si, Sj, Sx, instance_ports = 0, [], [], [], {}\n",
        "batch_shape = ()\n",
        "for name, instance in instances.items():\n",
        "    si, sj, sx, ports_map = scoo(instance)\n",
        "    Si.append(si + idx)\n",
        "    Sj.append(sj + idx)\n",
        "    Sx.append(sx)\n",
        "    if len(sx.shape[:-1]) > len(batch_shape):\n",
        "        batch_shape = sx.shape[:-1]\n",
        "    instance_ports.update({f\"{name},{p}\": i + idx for p, i in ports_map.items()})\n",
        "    idx += len(ports_map)\n",
        "Si = jnp.concatenate(Si, -1)\n",
        "Sj = jnp.concatenate(Sj, -1)\n",
        "Sx = jnp.concatenate([jnp.broadcast_to(sx, (*batch_shape, sx.shape[-1])) for sx in Sx], -1)\n",
        "\n",
        "print(Si)\n",
        "print(Sj)\n",
        "print(Sx)"
      ]
    },
    {
      "cell_type": "markdown",
      "id": "a8edefa1",
      "metadata": {
        "papermill": {
          "duration": 0.054805,
          "end_time": "2022-08-04T05:49:29.179053",
          "exception": false,
          "start_time": "2022-08-04T05:49:29.124248",
          "status": "completed"
        },
        "tags": []
      },
      "source": [
        "note that we also kept track of the `batch_shape`, i.e. the number of independent simulations (usually number of wavelengths). In the example being used here we don't have a batch dimension (all elements of the `SDict` are `0D`):"
      ]
    },
    {
      "cell_type": "code",
      "execution_count": 26,
      "id": "7513759a",
      "metadata": {
        "execution": {
          "iopub.execute_input": "2022-08-04T05:49:29.292906Z",
          "iopub.status.busy": "2022-08-04T05:49:29.292369Z",
          "iopub.status.idle": "2022-08-04T05:49:29.296340Z",
          "shell.execute_reply": "2022-08-04T05:49:29.295935Z"
        },
        "papermill": {
          "duration": 0.06287,
          "end_time": "2022-08-04T05:49:29.296463",
          "exception": false,
          "start_time": "2022-08-04T05:49:29.233593",
          "status": "completed"
        },
        "tags": []
      },
      "outputs": [
        {
          "data": {
            "text/plain": [
              "()"
            ]
          },
          "execution_count": 26,
          "metadata": {},
          "output_type": "execute_result"
        }
      ],
      "source": [
        "batch_shape"
      ]
    },
    {
      "cell_type": "markdown",
      "id": "c63b14d7",
      "metadata": {
        "papermill": {
          "duration": 0.054675,
          "end_time": "2022-08-04T05:49:29.405949",
          "exception": false,
          "start_time": "2022-08-04T05:49:29.351274",
          "status": "completed"
        },
        "tags": []
      },
      "source": [
        "We'll also keep track of the number of columns"
      ]
    },
    {
      "cell_type": "code",
      "execution_count": 27,
      "id": "89000432",
      "metadata": {
        "execution": {
          "iopub.execute_input": "2022-08-04T05:49:29.519689Z",
          "iopub.status.busy": "2022-08-04T05:49:29.519164Z",
          "iopub.status.idle": "2022-08-04T05:49:29.521087Z",
          "shell.execute_reply": "2022-08-04T05:49:29.521479Z"
        },
        "papermill": {
          "duration": 0.061403,
          "end_time": "2022-08-04T05:49:29.521628",
          "exception": false,
          "start_time": "2022-08-04T05:49:29.460225",
          "status": "completed"
        },
        "tags": []
      },
      "outputs": [
        {
          "data": {
            "text/plain": [
              "10"
            ]
          },
          "execution_count": 27,
          "metadata": {},
          "output_type": "execute_result"
        }
      ],
      "source": [
        "n_col = idx\n",
        "n_col"
      ]
    },
    {
      "cell_type": "markdown",
      "id": "7b0f95da",
      "metadata": {
        "papermill": {
          "duration": 0.055039,
          "end_time": "2022-08-04T05:49:29.631515",
          "exception": false,
          "start_time": "2022-08-04T05:49:29.576476",
          "status": "completed"
        },
        "tags": []
      },
      "source": [
        "And we'll need to solve the circuit for each output port, i.e. we need to solve `n_rhs` number of equations:"
      ]
    },
    {
      "cell_type": "code",
      "execution_count": 28,
      "id": "27902354",
      "metadata": {
        "execution": {
          "iopub.execute_input": "2022-08-04T05:49:29.747771Z",
          "iopub.status.busy": "2022-08-04T05:49:29.747155Z",
          "iopub.status.idle": "2022-08-04T05:49:29.752299Z",
          "shell.execute_reply": "2022-08-04T05:49:29.752790Z"
        },
        "papermill": {
          "duration": 0.066192,
          "end_time": "2022-08-04T05:49:29.752946",
          "exception": false,
          "start_time": "2022-08-04T05:49:29.686754",
          "status": "completed"
        },
        "tags": []
      },
      "outputs": [
        {
          "data": {
            "text/plain": [
              "4"
            ]
          },
          "execution_count": 28,
          "metadata": {},
          "output_type": "execute_result"
        }
      ],
      "source": [
        "n_rhs = len(port_map)\n",
        "n_rhs"
      ]
    },
    {
      "cell_type": "markdown",
      "id": "05056b46",
      "metadata": {
        "papermill": {
          "duration": 0.055662,
          "end_time": "2022-08-04T05:49:29.863692",
          "exception": false,
          "start_time": "2022-08-04T05:49:29.808030",
          "status": "completed"
        },
        "tags": []
      },
      "source": [
        "We can represent the internal connection matrix $C_{int}$ as a mapping between port indices:"
      ]
    },
    {
      "cell_type": "code",
      "execution_count": 29,
      "id": "f3ff1fa7",
      "metadata": {
        "execution": {
          "iopub.execute_input": "2022-08-04T05:49:29.980159Z",
          "iopub.status.busy": "2022-08-04T05:49:29.979628Z",
          "iopub.status.idle": "2022-08-04T05:49:29.983323Z",
          "shell.execute_reply": "2022-08-04T05:49:29.983806Z"
        },
        "papermill": {
          "duration": 0.06531,
          "end_time": "2022-08-04T05:49:29.983968",
          "exception": false,
          "start_time": "2022-08-04T05:49:29.918658",
          "status": "completed"
        },
        "tags": []
      },
      "outputs": [
        {
          "data": {
            "text/plain": [
              "{2: 4, 5: 6, 3: 7, 4: 2, 6: 5, 7: 3}"
            ]
          },
          "execution_count": 29,
          "metadata": {},
          "output_type": "execute_result"
        }
      ],
      "source": [
        "Cmap = {int(instance_ports[k]): int(instance_ports[v]) for k, v in connections.items()}\n",
        "Cmap"
      ]
    },
    {
      "cell_type": "markdown",
      "id": "999164af",
      "metadata": {
        "papermill": {
          "duration": 0.055928,
          "end_time": "2022-08-04T05:49:30.095393",
          "exception": false,
          "start_time": "2022-08-04T05:49:30.039465",
          "status": "completed"
        },
        "tags": []
      },
      "source": [
        "Therefore, the COO-representation of this connection matrix can be obtained as follows (note that an array of values Cx is not necessary, all non-zero elements in a connection matrix are 1)"
      ]
    },
    {
      "cell_type": "code",
      "execution_count": 30,
      "id": "9e4f1728",
      "metadata": {
        "execution": {
          "iopub.execute_input": "2022-08-04T05:49:30.213633Z",
          "iopub.status.busy": "2022-08-04T05:49:30.213101Z",
          "iopub.status.idle": "2022-08-04T05:49:30.214975Z",
          "shell.execute_reply": "2022-08-04T05:49:30.215375Z"
        },
        "papermill": {
          "duration": 0.064967,
          "end_time": "2022-08-04T05:49:30.215525",
          "exception": false,
          "start_time": "2022-08-04T05:49:30.150558",
          "status": "completed"
        },
        "tags": []
      },
      "outputs": [
        {
          "name": "stdout",
          "output_type": "stream",
          "text": [
            "[2 5 3 4 6 7]\n",
            "[4 6 7 2 5 3]\n"
          ]
        }
      ],
      "source": [
        "Ci = jnp.array(list(Cmap.keys()), dtype=jnp.int32)\n",
        "Cj = jnp.array(list(Cmap.values()), dtype=jnp.int32)\n",
        "print(Ci)\n",
        "print(Cj)"
      ]
    },
    {
      "cell_type": "markdown",
      "id": "47d5ed60",
      "metadata": {
        "papermill": {
          "duration": 0.055553,
          "end_time": "2022-08-04T05:49:30.326698",
          "exception": false,
          "start_time": "2022-08-04T05:49:30.271145",
          "status": "completed"
        },
        "tags": []
      },
      "source": [
        "We can represent the external connection matrix $C_{ext}$ as a map between internal port indices and external port indices:"
      ]
    },
    {
      "cell_type": "code",
      "execution_count": 31,
      "id": "f56ae166",
      "metadata": {
        "execution": {
          "iopub.execute_input": "2022-08-04T05:49:30.441363Z",
          "iopub.status.busy": "2022-08-04T05:49:30.440819Z",
          "iopub.status.idle": "2022-08-04T05:49:30.445036Z",
          "shell.execute_reply": "2022-08-04T05:49:30.445460Z"
        },
        "papermill": {
          "duration": 0.063573,
          "end_time": "2022-08-04T05:49:30.445606",
          "exception": false,
          "start_time": "2022-08-04T05:49:30.382033",
          "status": "completed"
        },
        "tags": []
      },
      "outputs": [
        {
          "data": {
            "text/plain": [
              "{0: 0, 1: 1, 8: 2, 9: 3}"
            ]
          },
          "execution_count": 31,
          "metadata": {},
          "output_type": "execute_result"
        }
      ],
      "source": [
        "Cextmap = {int(instance_ports[k]): int(port_map[v]) for k, v in inverse_ports.items()}\n",
        "Cextmap"
      ]
    },
    {
      "cell_type": "markdown",
      "id": "2485c01d",
      "metadata": {
        "papermill": {
          "duration": 0.061528,
          "end_time": "2022-08-04T05:49:30.565176",
          "exception": false,
          "start_time": "2022-08-04T05:49:30.503648",
          "status": "completed"
        },
        "tags": []
      },
      "source": [
        "Just as for the internal matrix we can represent this external connection matrix in COO-format:"
      ]
    },
    {
      "cell_type": "code",
      "execution_count": 32,
      "id": "cfb419ac",
      "metadata": {
        "execution": {
          "iopub.execute_input": "2022-08-04T05:49:30.697943Z",
          "iopub.status.busy": "2022-08-04T05:49:30.697395Z",
          "iopub.status.idle": "2022-08-04T05:49:30.728978Z",
          "shell.execute_reply": "2022-08-04T05:49:30.729456Z"
        },
        "papermill": {
          "duration": 0.10425,
          "end_time": "2022-08-04T05:49:30.729611",
          "exception": false,
          "start_time": "2022-08-04T05:49:30.625361",
          "status": "completed"
        },
        "tags": []
      },
      "outputs": [
        {
          "name": "stdout",
          "output_type": "stream",
          "text": [
            "[0 1 8 9]\n",
            "[0 1 2 3]\n"
          ]
        }
      ],
      "source": [
        "Cexti = jnp.stack(list(Cextmap.keys()), 0)\n",
        "Cextj = jnp.stack(list(Cextmap.values()), 0)\n",
        "print(Cexti)\n",
        "print(Cextj)"
      ]
    },
    {
      "cell_type": "markdown",
      "id": "e46d609c",
      "metadata": {
        "papermill": {
          "duration": 0.057796,
          "end_time": "2022-08-04T05:49:30.844207",
          "exception": false,
          "start_time": "2022-08-04T05:49:30.786411",
          "status": "completed"
        },
        "tags": []
      },
      "source": [
        "However, we actually need it as a dense representation:\n",
        "\n",
        "> help needed: can we find a way later on to keep this sparse?"
      ]
    },
    {
      "cell_type": "code",
      "execution_count": 33,
      "id": "25c4ec6e",
      "metadata": {
        "execution": {
          "iopub.execute_input": "2022-08-04T05:49:30.968530Z",
          "iopub.status.busy": "2022-08-04T05:49:30.967981Z",
          "iopub.status.idle": "2022-08-04T05:49:31.159540Z",
          "shell.execute_reply": "2022-08-04T05:49:31.158897Z"
        },
        "papermill": {
          "duration": 0.258892,
          "end_time": "2022-08-04T05:49:31.159708",
          "exception": false,
          "start_time": "2022-08-04T05:49:30.900816",
          "status": "completed"
        },
        "tags": []
      },
      "outputs": [],
      "source": [
        "if JAX_AVAILABLE:\n",
        "    Cext = jnp.zeros((n_col, n_rhs), dtype=complex).at[Cexti, Cextj].set(1.0)\n",
        "    Cext"
      ]
    },
    {
      "cell_type": "markdown",
      "id": "b31cc279",
      "metadata": {
        "papermill": {
          "duration": 0.059756,
          "end_time": "2022-08-04T05:49:31.279249",
          "exception": false,
          "start_time": "2022-08-04T05:49:31.219493",
          "status": "completed"
        },
        "tags": []
      },
      "source": [
        "We'll now calculate the row index `CSi` of $C_{int}S_{bd}$ in COO-format:"
      ]
    },
    {
      "cell_type": "code",
      "execution_count": 34,
      "id": "383a24e3372a625c",
      "metadata": {
        "execution": {
          "iopub.execute_input": "2022-08-04T05:49:31.411647Z",
          "iopub.status.busy": "2022-08-04T05:49:31.411013Z",
          "iopub.status.idle": "2022-08-04T05:49:31.637489Z",
          "shell.execute_reply": "2022-08-04T05:49:31.638075Z"
        },
        "papermill": {
          "duration": 0.300806,
          "end_time": "2022-08-04T05:49:31.638300",
          "exception": false,
          "start_time": "2022-08-04T05:49:31.337494",
          "status": "completed"
        },
        "tags": []
      },
      "outputs": [
        {
          "data": {
            "text/plain": [
              "array([4, 4, 4, 4, 7, 7, 7, 7, 2, 6, 5, 5, 5, 5, 3, 3, 3, 3])"
            ]
          },
          "execution_count": 34,
          "metadata": {},
          "output_type": "execute_result"
        }
      ],
      "source": [
        "# TODO: make this block jittable...\n",
        "Ix = jnp.ones((*batch_shape, n_col))\n",
        "Ii = Ij = jnp.arange(n_col)\n",
        "mask = Cj[None,:] == Si[:, None]\n",
        "CSi = jnp.broadcast_to(Ci[None, :], mask.shape)[mask]\n",
        "CSi"
      ]
    },
    {
      "cell_type": "markdown",
      "id": "a2657582",
      "metadata": {
        "papermill": {
          "duration": 0.057728,
          "end_time": "2022-08-04T05:49:31.754244",
          "exception": false,
          "start_time": "2022-08-04T05:49:31.696516",
          "status": "completed"
        },
        "tags": []
      },
      "source": [
        "> `CSi`: possible jittable alternative? how do we remove the zeros?"
      ]
    },
    {
      "cell_type": "code",
      "execution_count": 35,
      "id": "d4ea2cb5",
      "metadata": {
        "execution": {
          "iopub.execute_input": "2022-08-04T05:49:31.884310Z",
          "iopub.status.busy": "2022-08-04T05:49:31.874377Z",
          "iopub.status.idle": "2022-08-04T05:49:31.929393Z",
          "shell.execute_reply": "2022-08-04T05:49:31.928654Z"
        },
        "papermill": {
          "duration": 0.11806,
          "end_time": "2022-08-04T05:49:31.929526",
          "exception": false,
          "start_time": "2022-08-04T05:49:31.811466",
          "status": "completed"
        },
        "tags": []
      },
      "outputs": [
        {
          "data": {
            "text/plain": [
              "array([0, 0, 0, 0, 0, 0, 0, 0, 4, 4, 4, 4, 7, 7, 7, 7, 2, 6, 5, 5,\n",
              "       5, 5, 3, 3, 3, 3, 0, 0, 0, 0, 0, 0, 0, 0])"
            ]
          },
          "execution_count": 35,
          "metadata": {},
          "output_type": "execute_result"
        }
      ],
      "source": [
        "CSi_ = jnp.where(Cj[None, :] == Si[:, None], Ci[None, :], 0).sum(1) # not used\n",
        "CSi_ # not used"
      ]
    },
    {
      "cell_type": "markdown",
      "id": "44fc620e",
      "metadata": {
        "papermill": {
          "duration": 0.056981,
          "end_time": "2022-08-04T05:49:32.043682",
          "exception": false,
          "start_time": "2022-08-04T05:49:31.986701",
          "status": "completed"
        },
        "tags": []
      },
      "source": [
        "The column index `CSj` of $C_{int}S_{bd}$ can more easily be obtained:"
      ]
    },
    {
      "cell_type": "code",
      "execution_count": 36,
      "id": "f71fdd7c",
      "metadata": {
        "execution": {
          "iopub.execute_input": "2022-08-04T05:49:32.168228Z",
          "iopub.status.busy": "2022-08-04T05:49:32.167685Z",
          "iopub.status.idle": "2022-08-04T05:49:32.261236Z",
          "shell.execute_reply": "2022-08-04T05:49:32.261612Z"
        },
        "papermill": {
          "duration": 0.161033,
          "end_time": "2022-08-04T05:49:32.261773",
          "exception": false,
          "start_time": "2022-08-04T05:49:32.100740",
          "status": "completed"
        },
        "tags": []
      },
      "outputs": [
        {
          "data": {
            "text/plain": [
              "array([0, 1, 2, 3, 0, 1, 2, 3, 5, 4, 6, 7, 8, 9, 6, 7, 8, 9])"
            ]
          },
          "execution_count": 36,
          "metadata": {},
          "output_type": "execute_result"
        }
      ],
      "source": [
        "mask = (Cj[:, None] == Si[None, :]).any(0)\n",
        "CSj = Sj[mask]\n",
        "CSj"
      ]
    },
    {
      "cell_type": "markdown",
      "id": "99bf7684",
      "metadata": {
        "papermill": {
          "duration": 0.057726,
          "end_time": "2022-08-04T05:49:32.377027",
          "exception": false,
          "start_time": "2022-08-04T05:49:32.319301",
          "status": "completed"
        },
        "tags": []
      },
      "source": [
        "> `CSj`: possible jittable alternative? how do we remove the zeros?"
      ]
    },
    {
      "cell_type": "code",
      "execution_count": 37,
      "id": "ffa7bc82",
      "metadata": {
        "execution": {
          "iopub.execute_input": "2022-08-04T05:49:32.504365Z",
          "iopub.status.busy": "2022-08-04T05:49:32.503829Z",
          "iopub.status.idle": "2022-08-04T05:49:32.522981Z",
          "shell.execute_reply": "2022-08-04T05:49:32.523564Z"
        },
        "papermill": {
          "duration": 0.08951,
          "end_time": "2022-08-04T05:49:32.523758",
          "exception": false,
          "start_time": "2022-08-04T05:49:32.434248",
          "status": "completed"
        },
        "tags": []
      },
      "outputs": [
        {
          "data": {
            "text/plain": [
              "array([0, 0, 0, 0, 0, 0, 0, 0, 0, 1, 2, 3, 0, 1, 2, 3, 5, 4, 6, 7,\n",
              "       8, 9, 6, 7, 8, 9, 0, 0, 0, 0, 0, 0, 0, 0])"
            ]
          },
          "execution_count": 37,
          "metadata": {},
          "output_type": "execute_result"
        }
      ],
      "source": [
        "CSj_ = jnp.where(mask, Sj, 0) # not used\n",
        "CSj_ # not used"
      ]
    },
    {
      "cell_type": "markdown",
      "id": "e0fc6d02",
      "metadata": {
        "papermill": {
          "duration": 0.057928,
          "end_time": "2022-08-04T05:49:32.641925",
          "exception": false,
          "start_time": "2022-08-04T05:49:32.583997",
          "status": "completed"
        },
        "tags": []
      },
      "source": [
        "Finally, the values `CSx` of $C_{int}S_{bd}$ can be obtained as follows:"
      ]
    },
    {
      "cell_type": "code",
      "execution_count": 38,
      "id": "59d2e1b2",
      "metadata": {
        "execution": {
          "iopub.execute_input": "2022-08-04T05:49:32.762834Z",
          "iopub.status.busy": "2022-08-04T05:49:32.762257Z",
          "iopub.status.idle": "2022-08-04T05:49:32.789615Z",
          "shell.execute_reply": "2022-08-04T05:49:32.790178Z"
        },
        "papermill": {
          "duration": 0.090381,
          "end_time": "2022-08-04T05:49:32.790350",
          "exception": false,
          "start_time": "2022-08-04T05:49:32.699969",
          "status": "completed"
        },
        "tags": []
      },
      "outputs": [
        {
          "data": {
            "text/plain": [
              "array([0.70710677+0.j        , 0.        +0.70710677j,\n",
              "       0.        +0.j        , 0.        +0.j        ,\n",
              "       0.        +0.70710677j, 0.70710677+0.j        ,\n",
              "       0.        +0.j        , 0.        +0.j        ,\n",
              "       0.5       +0.86603j   , 0.5       +0.86603j   ,\n",
              "       0.        +0.j        , 0.        +0.j        ,\n",
              "       0.70710677+0.j        , 0.        +0.70710677j,\n",
              "       0.        +0.j        , 0.        +0.j        ,\n",
              "       0.        +0.70710677j, 0.70710677+0.j        ],            dtype=complex64))"
            ]
          },
          "execution_count": 38,
          "metadata": {},
          "output_type": "execute_result"
        }
      ],
      "source": [
        "if Sx.ndim > 1:\n",
        "    CSx = Sx[..., mask] # normally this should be enough\n",
        "else:\n",
        "    CSx = Sx[mask] # need separate case bc bug in JAX... see https://github.com/google/jax/issues/9050\n",
        "   \n",
        "CSx"
      ]
    },
    {
      "cell_type": "markdown",
      "id": "c02035bd",
      "metadata": {
        "papermill": {
          "duration": 0.058652,
          "end_time": "2022-08-04T05:49:32.908290",
          "exception": false,
          "start_time": "2022-08-04T05:49:32.849638",
          "status": "completed"
        },
        "tags": []
      },
      "source": [
        "> `CSx`: possible jittable alternative? how do we remove the zeros?"
      ]
    },
    {
      "cell_type": "code",
      "execution_count": 39,
      "id": "107e9e80",
      "metadata": {
        "execution": {
          "iopub.execute_input": "2022-08-04T05:49:33.037400Z",
          "iopub.status.busy": "2022-08-04T05:49:33.036872Z",
          "iopub.status.idle": "2022-08-04T05:49:33.057725Z",
          "shell.execute_reply": "2022-08-04T05:49:33.058112Z"
        },
        "papermill": {
          "duration": 0.091257,
          "end_time": "2022-08-04T05:49:33.058275",
          "exception": false,
          "start_time": "2022-08-04T05:49:32.967018",
          "status": "completed"
        },
        "tags": []
      },
      "outputs": [
        {
          "data": {
            "text/plain": [
              "array([0.        +0.j        , 0.        +0.j        ,\n",
              "       0.        +0.j        , 0.        +0.j        ,\n",
              "       0.        +0.j        , 0.        +0.j        ,\n",
              "       0.        +0.j        , 0.        +0.j        ,\n",
              "       0.70710677+0.j        , 0.        +0.70710677j,\n",
              "       0.        +0.j        , 0.        +0.j        ,\n",
              "       0.        +0.70710677j, 0.70710677+0.j        ,\n",
              "       0.        +0.j        , 0.        +0.j        ,\n",
              "       0.5       +0.86603j   , 0.5       +0.86603j   ,\n",
              "       0.        +0.j        , 0.        +0.j        ,\n",
              "       0.70710677+0.j        , 0.        +0.70710677j,\n",
              "       0.        +0.j        , 0.        +0.j        ,\n",
              "       0.        +0.70710677j, 0.70710677+0.j        ,\n",
              "       0.        +0.j        , 0.        +0.j        ,\n",
              "       0.        +0.j        , 0.        +0.j        ,\n",
              "       0.        +0.j        , 0.        +0.j        ,\n",
              "       0.        +0.j        , 0.        +0.j        ],            dtype=complex64))"
            ]
          },
          "execution_count": 39,
          "metadata": {},
          "output_type": "execute_result"
        }
      ],
      "source": [
        "CSx_ = jnp.where(mask, Sx, 0.0) # not used\n",
        "CSx_ # not used"
      ]
    },
    {
      "cell_type": "markdown",
      "id": "9411edf5",
      "metadata": {
        "papermill": {
          "duration": 0.059422,
          "end_time": "2022-08-04T05:49:33.176595",
          "exception": false,
          "start_time": "2022-08-04T05:49:33.117173",
          "status": "completed"
        },
        "tags": []
      },
      "source": [
        "Now we calculate $\\mathbb{1} - C_{int}S_{bd}$ in an *uncoalesced* way (we might have duplicate indices on the diagonal):\n",
        "\n",
        "> **uncoalesced**: having duplicate index combinations (i, j) in the representation possibly with different corresponding values. This is usually not a problem as in linear operations these values will end up to be summed, usually the behavior you want:"
      ]
    },
    {
      "cell_type": "code",
      "execution_count": 40,
      "id": "53c3f4ab",
      "metadata": {
        "execution": {
          "iopub.execute_input": "2022-08-04T05:49:33.306412Z",
          "iopub.status.busy": "2022-08-04T05:49:33.305896Z",
          "iopub.status.idle": "2022-08-04T05:49:33.372774Z",
          "shell.execute_reply": "2022-08-04T05:49:33.373177Z"
        },
        "papermill": {
          "duration": 0.1373,
          "end_time": "2022-08-04T05:49:33.373333",
          "exception": false,
          "start_time": "2022-08-04T05:49:33.236033",
          "status": "completed"
        },
        "tags": []
      },
      "outputs": [
        {
          "name": "stdout",
          "output_type": "stream",
          "text": [
            "[4 4 4 4 7 7 7 7 2 6 5 5 5 5 3 3 3 3 0 1 2 3 4 5 6 7 8 9]\n",
            "[0 1 2 3 0 1 2 3 5 4 6 7 8 9 6 7 8 9 0 1 2 3 4 5 6 7 8 9]\n",
            "[-0.70710677-0.j         -0.        -0.70710677j -0.        -0.j\n",
            " -0.        -0.j         -0.        -0.70710677j -0.70710677-0.j\n",
            " -0.        -0.j         -0.        -0.j         -0.5       -0.86603j\n",
            " -0.5       -0.86603j    -0.        -0.j         -0.        -0.j\n",
            " -0.70710677-0.j         -0.        -0.70710677j -0.        -0.j\n",
            " -0.        -0.j         -0.        -0.70710677j -0.70710677-0.j\n",
            "  1.        +0.j          1.        +0.j          1.        +0.j\n",
            "  1.        +0.j          1.        +0.j          1.        +0.j\n",
            "  1.        +0.j          1.        +0.j          1.        +0.j\n",
            "  1.        +0.j        ]\n"
          ]
        }
      ],
      "source": [
        "I_CSi = jnp.concatenate([CSi, Ii], -1)\n",
        "I_CSj = jnp.concatenate([CSj, Ij], -1)\n",
        "I_CSx = jnp.concatenate([-CSx, Ix], -1)\n",
        "print(I_CSi)\n",
        "print(I_CSj)\n",
        "print(I_CSx)"
      ]
    },
    {
      "cell_type": "code",
      "execution_count": 41,
      "id": "188e4606",
      "metadata": {
        "execution": {
          "iopub.execute_input": "2022-08-04T05:49:33.497960Z",
          "iopub.status.busy": "2022-08-04T05:49:33.497451Z",
          "iopub.status.idle": "2022-08-04T05:49:33.499251Z",
          "shell.execute_reply": "2022-08-04T05:49:33.499638Z"
        },
        "papermill": {
          "duration": 0.067016,
          "end_time": "2022-08-04T05:49:33.499782",
          "exception": false,
          "start_time": "2022-08-04T05:49:33.432766",
          "status": "completed"
        },
        "tags": []
      },
      "outputs": [
        {
          "name": "stdout",
          "output_type": "stream",
          "text": [
            "10 4\n"
          ]
        }
      ],
      "source": [
        "if JAX_AVAILABLE:\n",
        "    n_col, n_rhs = Cext.shape\n",
        "    print(n_col, n_rhs)"
      ]
    },
    {
      "cell_type": "markdown",
      "id": "e018c515",
      "metadata": {
        "papermill": {
          "duration": 0.060328,
          "end_time": "2022-08-04T05:49:33.620255",
          "exception": false,
          "start_time": "2022-08-04T05:49:33.559927",
          "status": "completed"
        },
        "tags": []
      },
      "source": [
        "The batch shape dimension can generally speaking be anything (in the example here 0D). We need to do the necessary reshapings to make the batch shape 1D:"
      ]
    },
    {
      "cell_type": "code",
      "execution_count": 42,
      "id": "dad259e7",
      "metadata": {
        "execution": {
          "iopub.execute_input": "2022-08-04T05:49:33.751725Z",
          "iopub.status.busy": "2022-08-04T05:49:33.751202Z",
          "iopub.status.idle": "2022-08-04T05:49:33.764416Z",
          "shell.execute_reply": "2022-08-04T05:49:33.764925Z"
        },
        "papermill": {
          "duration": 0.084397,
          "end_time": "2022-08-04T05:49:33.765081",
          "exception": false,
          "start_time": "2022-08-04T05:49:33.680684",
          "status": "completed"
        },
        "tags": []
      },
      "outputs": [
        {
          "name": "stdout",
          "output_type": "stream",
          "text": [
            "1\n"
          ]
        }
      ],
      "source": [
        "n_lhs = jnp.prod(jnp.array(batch_shape, dtype=jnp.int32))\n",
        "print(n_lhs)"
      ]
    },
    {
      "cell_type": "code",
      "execution_count": 43,
      "id": "9cf69da7",
      "metadata": {
        "execution": {
          "iopub.execute_input": "2022-08-04T05:49:33.889864Z",
          "iopub.status.busy": "2022-08-04T05:49:33.889357Z",
          "iopub.status.idle": "2022-08-04T05:49:33.910365Z",
          "shell.execute_reply": "2022-08-04T05:49:33.909949Z"
        },
        "papermill": {
          "duration": 0.084626,
          "end_time": "2022-08-04T05:49:33.910489",
          "exception": false,
          "start_time": "2022-08-04T05:49:33.825863",
          "status": "completed"
        },
        "tags": []
      },
      "outputs": [
        {
          "data": {
            "text/plain": [
              "(1, 34)"
            ]
          },
          "execution_count": 43,
          "metadata": {},
          "output_type": "execute_result"
        }
      ],
      "source": [
        "Sx = Sx.reshape(n_lhs, -1)\n",
        "Sx.shape"
      ]
    },
    {
      "cell_type": "code",
      "execution_count": 44,
      "id": "788294fa",
      "metadata": {
        "execution": {
          "iopub.execute_input": "2022-08-04T05:49:34.041143Z",
          "iopub.status.busy": "2022-08-04T05:49:34.036078Z",
          "iopub.status.idle": "2022-08-04T05:49:34.056219Z",
          "shell.execute_reply": "2022-08-04T05:49:34.055772Z"
        },
        "papermill": {
          "duration": 0.085039,
          "end_time": "2022-08-04T05:49:34.056341",
          "exception": false,
          "start_time": "2022-08-04T05:49:33.971302",
          "status": "completed"
        },
        "tags": []
      },
      "outputs": [
        {
          "data": {
            "text/plain": [
              "(1, 28)"
            ]
          },
          "execution_count": 44,
          "metadata": {},
          "output_type": "execute_result"
        }
      ],
      "source": [
        "I_CSx = I_CSx.reshape(n_lhs, -1)\n",
        "I_CSx.shape"
      ]
    },
    {
      "cell_type": "markdown",
      "id": "ec741031",
      "metadata": {
        "papermill": {
          "duration": 0.061267,
          "end_time": "2022-08-04T05:49:34.179011",
          "exception": false,
          "start_time": "2022-08-04T05:49:34.117744",
          "status": "completed"
        },
        "tags": []
      },
      "source": [
        "We're finally ready to do the most important part of the calculation, which we conveniently leave to `klujax` and `SuiteSparse`:"
      ]
    },
    {
      "cell_type": "code",
      "execution_count": 45,
      "id": "9c1d8644",
      "metadata": {
        "execution": {
          "iopub.execute_input": "2022-08-04T05:49:34.307814Z",
          "iopub.status.busy": "2022-08-04T05:49:34.307281Z",
          "iopub.status.idle": "2022-08-04T05:49:34.315628Z",
          "shell.execute_reply": "2022-08-04T05:49:34.315191Z"
        },
        "papermill": {
          "duration": 0.07235,
          "end_time": "2022-08-04T05:49:34.315756",
          "exception": false,
          "start_time": "2022-08-04T05:49:34.243406",
          "status": "completed"
        },
        "tags": []
      },
      "outputs": [],
      "source": [
        "if klujax is not None:\n",
        "    inv_I_CS_Cext = solve_klu(I_CSi, I_CSj, I_CSx, Cext)\n",
        "else:\n",
        "    inv_I_CS_Cext = jnp.array([[[1.0 + 0.0j, 0.0 + 0.0j, 0.0 + 0.0j, 0.0 + 0.0j], [0.0 + 0.0j, 1.0 + 0.0j, 0.0 + 0.0j, 0.0 + 0.0j], [ -0.0 + 0.0j, -0.0 + 0.0j, 0.35355339 + 0.61237569j, -0.61237569 + 0.35355339j, ], [0.0 + 0.0j, 0.0 + 0.0j, 0.0 + 0.70710678j, 0.70710678 + 0.0j], [0.70710678 - 0.0j, -0.0 + 0.70710678j, -0.0 - 0.0j, -0.0 - 0.0j], [-0.0 - 0.0j, -0.0 - 0.0j, 0.70710678 - 0.0j, -0.0 + 0.70710678j], [ 0.35355339 + 0.61237569j, -0.61237569 + 0.35355339j, -0.0 + 0.0j, -0.0 + 0.0j, ], [0.0 + 0.70710678j, 0.70710678 + 0.0j, 0.0 + 0.0j, 0.0 + 0.0j], [0.0 + 0.0j, 0.0 + 0.0j, 1.0 + 0.0j, 0.0 + 0.0j], [0.0 + 0.0j, 0.0 + 0.0j, 0.0 + 0.0j, 1.0 + 0.0j]]])"
      ]
    },
    {
      "cell_type": "markdown",
      "id": "e51487df",
      "metadata": {
        "papermill": {
          "duration": 0.060648,
          "end_time": "2022-08-04T05:49:34.437362",
          "exception": false,
          "start_time": "2022-08-04T05:49:34.376714",
          "status": "completed"
        },
        "tags": []
      },
      "source": [
        "one more sparse multiplication:"
      ]
    },
    {
      "cell_type": "code",
      "execution_count": 46,
      "id": "cccda072",
      "metadata": {
        "execution": {
          "iopub.execute_input": "2022-08-04T05:49:34.566108Z",
          "iopub.status.busy": "2022-08-04T05:49:34.565588Z",
          "iopub.status.idle": "2022-08-04T05:49:34.567228Z",
          "shell.execute_reply": "2022-08-04T05:49:34.567625Z"
        },
        "papermill": {
          "duration": 0.069713,
          "end_time": "2022-08-04T05:49:34.567771",
          "exception": false,
          "start_time": "2022-08-04T05:49:34.498058",
          "status": "completed"
        },
        "tags": []
      },
      "outputs": [],
      "source": [
        "if klujax is not None:\n",
        "    S_inv_I_CS_Cext = mul_coo(Si, Sj, Sx, inv_I_CS_Cext)\n",
        "else:\n",
        "    S_inv_I_CS_Cext = jnp.array([[[0.0 + 0.0j, 0.0 + 0.0j, -0.25 + 0.433015j, -0.433015 + 0.75j], [0.0 + 0.0j, 0.0 + 0.0j, -0.433015 + 0.75j, 0.25 - 0.433015j], [0.70710678 + 0.0j, 0.0 + 0.70710678j, 0.0 + 0.0j, 0.0 + 0.0j], [0.0 + 0.70710678j, 0.70710678 + 0.0j, 0.0 + 0.0j, 0.0 + 0.0j], [ 0.0 + 0.0j, 0.0 + 0.0j, 0.35355339 + 0.61237569j, -0.61237569 + 0.35355339j, ], [ 0.35355339 + 0.61237569j, -0.61237569 + 0.35355339j, 0.0 + 0.0j, 0.0 + 0.0j, ], [0.0 + 0.0j, 0.0 + 0.0j, 0.70710678 + 0.0j, 0.0 + 0.70710678j], [0.0 + 0.0j, 0.0 + 0.0j, 0.0 + 0.70710678j, 0.70710678 + 0.0j], [-0.25 + 0.433015j, -0.433015 + 0.75j, 0.0 + 0.0j, 0.0 + 0.0j], [-0.433015 + 0.75j, 0.25 - 0.433015j, 0.0 + 0.0j, 0.0 + 0.0j]]])"
      ]
    },
    {
      "cell_type": "markdown",
      "id": "627a98f7",
      "metadata": {
        "papermill": {
          "duration": 0.061211,
          "end_time": "2022-08-04T05:49:34.690010",
          "exception": false,
          "start_time": "2022-08-04T05:49:34.628799",
          "status": "completed"
        },
        "tags": []
      },
      "source": [
        "And one more $C_{ext}$ multiplication which we do by clever indexing:"
      ]
    },
    {
      "cell_type": "code",
      "execution_count": 47,
      "id": "12ff877c",
      "metadata": {
        "execution": {
          "iopub.execute_input": "2022-08-04T05:49:34.815786Z",
          "iopub.status.busy": "2022-08-04T05:49:34.815154Z",
          "iopub.status.idle": "2022-08-04T05:49:34.822845Z",
          "shell.execute_reply": "2022-08-04T05:49:34.823326Z"
        },
        "papermill": {
          "duration": 0.072077,
          "end_time": "2022-08-04T05:49:34.823530",
          "exception": false,
          "start_time": "2022-08-04T05:49:34.751453",
          "status": "completed"
        },
        "tags": []
      },
      "outputs": [
        {
          "data": {
            "text/plain": [
              "array([[[ 0.      +0.j      ,  0.      +0.j      ,\n",
              "         -0.25    +0.433015j, -0.433015+0.75j    ],\n",
              "        [ 0.      +0.j      ,  0.      +0.j      ,\n",
              "         -0.433015+0.75j    ,  0.25    -0.433015j],\n",
              "        [-0.25    +0.433015j, -0.433015+0.75j    ,\n",
              "          0.      +0.j      ,  0.      +0.j      ],\n",
              "        [-0.433015+0.75j    ,  0.25    -0.433015j,\n",
              "          0.      +0.j      ,  0.      +0.j      ]]],            dtype=complex64))"
            ]
          },
          "execution_count": 47,
          "metadata": {},
          "output_type": "execute_result"
        }
      ],
      "source": [
        "if klujax is not None:\n",
        "    CextT_S_inv_I_CS_Cext = S_inv_I_CS_Cext[..., Cexti, :][..., :, Cextj]\n",
        "else:\n",
        "    CextT_S_inv_I_CS_Cext = jnp.array([[[0.0 + 0.0j, 0.0 + 0.0j, -0.25 + 0.433015j, -0.433015 + 0.75j], [0.0 + 0.0j, 0.0 + 0.0j, -0.433015 + 0.75j, 0.25 - 0.433015j], [-0.25 + 0.433015j, -0.433015 + 0.75j, 0.0 + 0.0j, 0.0 + 0.0j], [-0.433015 + 0.75j, 0.25 - 0.433015j, 0.0 + 0.0j, 0.0 + 0.0j]]])\n",
        "CextT_S_inv_I_CS_Cext"
      ]
    },
    {
      "cell_type": "markdown",
      "id": "3e1c75b2",
      "metadata": {
        "papermill": {
          "duration": 0.061509,
          "end_time": "2022-08-04T05:49:34.952776",
          "exception": false,
          "start_time": "2022-08-04T05:49:34.891267",
          "status": "completed"
        },
        "tags": []
      },
      "source": [
        "That's it! We found the S-matrix of the circuit. We just need to reshape the batch dimension back into the matrix:"
      ]
    },
    {
      "cell_type": "code",
      "execution_count": 48,
      "id": "cbf962af",
      "metadata": {
        "execution": {
          "iopub.execute_input": "2022-08-04T05:49:35.086659Z",
          "iopub.status.busy": "2022-08-04T05:49:35.086083Z",
          "iopub.status.idle": "2022-08-04T05:49:35.103053Z",
          "shell.execute_reply": "2022-08-04T05:49:35.102629Z"
        },
        "papermill": {
          "duration": 0.088249,
          "end_time": "2022-08-04T05:49:35.103178",
          "exception": false,
          "start_time": "2022-08-04T05:49:35.014929",
          "status": "completed"
        },
        "tags": []
      },
      "outputs": [
        {
          "data": {
            "text/plain": [
              "array([[ 0.      +0.j      ,  0.      +0.j      ,\n",
              "        -0.25    +0.433015j, -0.433015+0.75j    ],\n",
              "       [ 0.      +0.j      ,  0.      +0.j      ,\n",
              "        -0.433015+0.75j    ,  0.25    -0.433015j],\n",
              "       [-0.25    +0.433015j, -0.433015+0.75j    ,\n",
              "         0.      +0.j      ,  0.      +0.j      ],\n",
              "       [-0.433015+0.75j    ,  0.25    -0.433015j,\n",
              "         0.      +0.j      ,  0.      +0.j      ]])"
            ]
          },
          "execution_count": 48,
          "metadata": {},
          "output_type": "execute_result"
        }
      ],
      "source": [
        "_, n, _ = CextT_S_inv_I_CS_Cext.shape\n",
        "S = CextT_S_inv_I_CS_Cext.reshape(*batch_shape, n, n)\n",
        "S"
      ]
    },
    {
      "cell_type": "markdown",
      "id": "1f6dea4c",
      "metadata": {
        "papermill": {
          "duration": 0.061855,
          "end_time": "2022-08-04T05:49:35.226777",
          "exception": false,
          "start_time": "2022-08-04T05:49:35.164922",
          "status": "completed"
        },
        "tags": []
      },
      "source": [
        "Oh and to complete the `SDense` representation we need to specify the port map as well:"
      ]
    },
    {
      "cell_type": "code",
      "execution_count": 49,
      "id": "21098a45",
      "metadata": {
        "execution": {
          "iopub.execute_input": "2022-08-04T05:49:35.354986Z",
          "iopub.status.busy": "2022-08-04T05:49:35.354428Z",
          "iopub.status.idle": "2022-08-04T05:49:35.358863Z",
          "shell.execute_reply": "2022-08-04T05:49:35.359237Z"
        },
        "papermill": {
          "duration": 0.070281,
          "end_time": "2022-08-04T05:49:35.359386",
          "exception": false,
          "start_time": "2022-08-04T05:49:35.289105",
          "status": "completed"
        },
        "tags": []
      },
      "outputs": [
        {
          "data": {
            "text/plain": [
              "{'in0': 0, 'in1': 1, 'out0': 2, 'out1': 3}"
            ]
          },
          "execution_count": 49,
          "metadata": {},
          "output_type": "execute_result"
        }
      ],
      "source": [
        "port_map"
      ]
    },
    {
      "cell_type": "markdown",
      "id": "0cfee3cf",
      "metadata": {
        "papermill": {
          "duration": 0.06241,
          "end_time": "2022-08-04T05:49:35.484294",
          "exception": false,
          "start_time": "2022-08-04T05:49:35.421884",
          "status": "completed"
        },
        "tags": []
      },
      "source": [
        "## Algorithm Improvements"
      ]
    },
    {
      "cell_type": "markdown",
      "id": "26b70270",
      "metadata": {
        "papermill": {
          "duration": 0.062295,
          "end_time": "2022-08-04T05:49:35.608690",
          "exception": false,
          "start_time": "2022-08-04T05:49:35.546395",
          "status": "completed"
        },
        "tags": []
      },
      "source": [
        "This algorithm is \n",
        "\n",
        "* very fast for large circuits \ud83d\ude42\n",
        "\n",
        "This algorithm is however:\n",
        "\n",
        "* **not** jittable \ud83d\ude25\n",
        "* **not** differentiable \ud83d\ude25\n",
        "* **not** GPU-compatible \ud83d\ude42\n",
        "\n",
        "There are probably still plenty of improvements possible for this algorithm:\n",
        "\n",
        "* **\u00bf** make it jittable **?**\n",
        "* **\u00bf** make it differentiable (requires making klujax differentiable first) **?**\n",
        "* **\u00bf** make it GPU compatible (requires making suitesparse GPU compatible... probably not gonna happen)**?**\n",
        "\n",
        "Bottom line is... Do you know how to improve this algorithm or how to implement the above suggestions? Please open a Merge Request!"
      ]
    }
  ],
  "metadata": {
    "kernelspec": {
      "display_name": "sax",
      "language": "python",
      "name": "sax"
    },
    "language_info": {
      "codemirror_mode": {
        "name": "ipython",
        "version": 3
      },
      "file_extension": ".py",
      "mimetype": "text/x-python",
      "name": "python",
      "nbconvert_exporter": "python",
      "pygments_lexer": "ipython3",
      "version": "3.9.0"
    },
    "papermill": {
      "default_parameters": {},
      "duration": 20.59602,
      "end_time": "2022-08-04T05:49:38.872284",
      "environment_variables": {},
      "exception": null,
      "input_path": "./nbs/07b_backends_klu.ipynb",
      "output_path": "./nbs/07b_backends_klu.ipynb",
      "parameters": {},
      "start_time": "2022-08-04T05:49:18.276264",
      "version": "2.3.4"
    }
  },
  "nbformat": 4,
  "nbformat_minor": 5
}
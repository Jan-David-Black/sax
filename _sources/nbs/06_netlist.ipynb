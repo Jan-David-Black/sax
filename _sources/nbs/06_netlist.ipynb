{
  "cells": [
    {
      "cell_type": "code",
      "execution_count": 1,
      "id": "52fbf70d3b1cb81e",
      "metadata": {
        "execution": {
          "iopub.execute_input": "2022-08-17T03:21:42.337000Z",
          "iopub.status.busy": "2022-08-17T03:21:42.336558Z",
          "iopub.status.idle": "2022-08-17T03:21:42.338575Z",
          "shell.execute_reply": "2022-08-17T03:21:42.338167Z"
        },
        "papermill": {
          "duration": 0.014149,
          "end_time": "2022-08-17T03:21:42.338680",
          "exception": false,
          "start_time": "2022-08-17T03:21:42.324531",
          "status": "completed"
        },
        "tags": [
          "remove-cell"
        ]
      },
      "outputs": [],
      "source": []
    },
    {
      "cell_type": "markdown",
      "id": "8cc19e90-28bf-4078-814e-9f2a7576c0f8",
      "metadata": {
        "papermill": {
          "duration": 0.006795,
          "end_time": "2022-08-17T03:21:42.352968",
          "exception": false,
          "start_time": "2022-08-17T03:21:42.346173",
          "status": "completed"
        },
        "tags": []
      },
      "source": [
        "# Netlist\n",
        "\n",
        "> SAX Netlist Models"
      ]
    },
    {
      "cell_type": "markdown",
      "id": "20e13e2c-b9da-4fe7-b920-9399c5d86b40",
      "metadata": {
        "papermill": {
          "duration": 0.006696,
          "end_time": "2022-08-17T03:21:42.366562",
          "exception": false,
          "start_time": "2022-08-17T03:21:42.359866",
          "status": "completed"
        },
        "tags": []
      },
      "source": [
        "The best introduction to SAX netlists for a sample GDSFactory component."
      ]
    },
    {
      "cell_type": "code",
      "execution_count": 2,
      "id": "ea8f8449634afbb6",
      "metadata": {
        "execution": {
          "iopub.execute_input": "2022-08-17T03:21:42.387556Z",
          "iopub.status.busy": "2022-08-17T03:21:42.387133Z",
          "iopub.status.idle": "2022-08-17T03:21:42.388334Z",
          "shell.execute_reply": "2022-08-17T03:21:42.388642Z"
        },
        "papermill": {
          "duration": 0.015475,
          "end_time": "2022-08-17T03:21:42.388750",
          "exception": false,
          "start_time": "2022-08-17T03:21:42.373275",
          "status": "completed"
        },
        "tags": [
          "remove-cell"
        ]
      },
      "outputs": [],
      "source": [
        "import os, sys; sys.stderr = open(os.devnull, \"w\")"
      ]
    },
    {
      "cell_type": "code",
      "execution_count": 3,
      "id": "e8ad57e150bebd2e",
      "metadata": {
        "execution": {
          "iopub.execute_input": "2022-08-17T03:21:42.406126Z",
          "iopub.status.busy": "2022-08-17T03:21:42.405695Z",
          "iopub.status.idle": "2022-08-17T03:21:43.167918Z",
          "shell.execute_reply": "2022-08-17T03:21:43.167148Z"
        },
        "papermill": {
          "duration": 0.772404,
          "end_time": "2022-08-17T03:21:43.168034",
          "exception": false,
          "start_time": "2022-08-17T03:21:42.395630",
          "status": "completed"
        },
        "tags": [
          "hide-input"
        ]
      },
      "outputs": [],
      "source": [
        "import re\n",
        "from enum import Enum\n",
        "from functools import partial\n",
        "from typing import Any, Callable, Dict, Optional, Union\n",
        "\n",
        "import black\n",
        "from pydantic import BaseModel as _BaseModel\n",
        "from pydantic import Extra, Field, ValidationError, validator\n",
        "from sax.utils import clean_string, get_settings, hash_dict"
      ]
    },
    {
      "cell_type": "code",
      "execution_count": 4,
      "id": "6939f1654777ab53",
      "metadata": {
        "execution": {
          "iopub.execute_input": "2022-08-17T03:21:43.186963Z",
          "iopub.status.busy": "2022-08-17T03:21:43.186540Z",
          "iopub.status.idle": "2022-08-17T03:21:43.188382Z",
          "shell.execute_reply": "2022-08-17T03:21:43.188035Z"
        },
        "papermill": {
          "duration": 0.013189,
          "end_time": "2022-08-17T03:21:43.188472",
          "exception": false,
          "start_time": "2022-08-17T03:21:43.175283",
          "status": "completed"
        },
        "tags": [
          "remove-cell"
        ]
      },
      "outputs": [],
      "source": [
        "class BaseModel(_BaseModel):\n",
        "    class Config:\n",
        "        extra = Extra.ignore\n",
        "        allow_mutation = False\n",
        "        frozen = True\n",
        "\n",
        "    def __repr__(self):\n",
        "        s = super().__repr__()\n",
        "        s = black.format_str(s, mode=black.Mode())\n",
        "        return s\n",
        "\n",
        "    def __str__(self):\n",
        "        return self.__repr__()\n",
        "\n",
        "    def __hash__(self):\n",
        "        return hash_dict(self.dict())"
      ]
    },
    {
      "cell_type": "markdown",
      "id": "cfb92500-0389-4dd9-8a26-138f6f355318",
      "metadata": {
        "papermill": {
          "duration": 0.00702,
          "end_time": "2022-08-17T03:21:43.202556",
          "exception": false,
          "start_time": "2022-08-17T03:21:43.195536",
          "status": "completed"
        },
        "tags": []
      },
      "source": [
        "The models were generated as follows:"
      ]
    },
    {
      "cell_type": "code",
      "execution_count": 5,
      "id": "1fa8acfa-38a9-4460-8971-849b22c9a379",
      "metadata": {
        "execution": {
          "iopub.execute_input": "2022-08-17T03:21:43.222290Z",
          "iopub.status.busy": "2022-08-17T03:21:43.221853Z",
          "iopub.status.idle": "2022-08-17T03:21:43.596272Z",
          "shell.execute_reply": "2022-08-17T03:21:43.596597Z"
        },
        "papermill": {
          "duration": 0.387178,
          "end_time": "2022-08-17T03:21:43.596721",
          "exception": false,
          "start_time": "2022-08-17T03:21:43.209543",
          "status": "completed"
        },
        "tags": []
      },
      "outputs": [
        {
          "name": "stdout",
          "output_type": "stream",
          "text": [
            "# generated by datamodel-codegen:\n",
            "#   filename:  <stdin>\n",
            "#   timestamp: 2022-08-17T03:21:43+00:00\n",
            "\n",
            "from __future__ import annotations\n",
            "\n",
            "from enum import Enum\n",
            "from typing import Any, Dict, Optional, Union\n",
            "\n",
            "from pydantic import BaseModel, Extra, Field\n",
            "\n",
            "\n",
            "class Component(BaseModel):\n",
            "    class Config:\n",
            "        extra = Extra.ignore\n",
            "        allow_mutation = False\n",
            "        frozen = True\n",
            "\n",
            "    component: Union[str, Dict[str, Any]] = Field(..., title='Component')\n",
            "    settings: Optional[Dict[str, Any]] = Field(None, title='Settings')\n",
            "\n",
            "\n",
            "class PortEnum(Enum):\n",
            "    ce = 'ce'\n",
            "    cw = 'cw'\n",
            "    nc = 'nc'\n",
            "    ne = 'ne'\n",
            "    nw = 'nw'\n",
            "    sc = 'sc'\n",
            "    se = 'se'\n",
            "    sw = 'sw'\n",
            "    center = 'center'\n",
            "    cc = 'cc'\n",
            "\n",
            "\n",
            "class Placement(BaseModel):\n",
            "    class Config:\n",
            "        extra = Extra.ignore\n",
            "        allow_mutation = False\n",
            "        frozen = True\n",
            "\n",
            "    x: Optional[Union[str, float]] = Field(0, title='X')\n",
            "    y: Optional[Union[str, float]] = Field(0, title='Y')\n",
            "    xmin: Optional[Union[str, float]] = Field(None, title='Xmin')\n",
            "    ymin: Optional[Union[str, float]] = Field(None, title='Ymin')\n",
            "    xmax: Optional[Union[str, float]] = Field(None, title='Xmax')\n",
            "    ymax: Optional[Union[str, float]] = Field(None, title='Ymax')\n",
            "    dx: Optional[float] = Field(0, title='Dx')\n",
            "    dy: Optional[float] = Field(0, title='Dy')\n",
            "    port: Optional[Union[str, PortEnum]] = Field(None, title='Port')\n",
            "    rotation: Optional[int] = Field(0, title='Rotation')\n",
            "    mirror: Optional[bool] = Field(False, title='Mirror')\n",
            "\n",
            "\n",
            "class Route(BaseModel):\n",
            "    class Config:\n",
            "        extra = Extra.ignore\n",
            "        allow_mutation = False\n",
            "        frozen = True\n",
            "\n",
            "    links: Dict[str, str] = Field(..., title='Links')\n",
            "    settings: Optional[Dict[str, Any]] = Field(None, title='Settings')\n",
            "    routing_strategy: Optional[str] = Field(None, title='Routing Strategy')\n",
            "\n",
            "\n",
            "class Netlist(BaseModel):\n",
            "    class Config:\n",
            "        extra = Extra.ignore\n",
            "        allow_mutation = False\n",
            "        frozen = True\n",
            "\n",
            "    instances: Dict[str, Component] = Field(..., title='Instances')\n",
            "    placements: Optional[Dict[str, Placement]] = Field(None, title='Placements')\n",
            "    connections: Optional[Dict[str, str]] = Field(None, title='Connections')\n",
            "    routes: Optional[Dict[str, Route]] = Field(None, title='Routes')\n",
            "    name: Optional[str] = Field(None, title='Name')\n",
            "    info: Optional[Dict[str, Any]] = Field(None, title='Info')\n",
            "    settings: Optional[Dict[str, Any]] = Field(None, title='Settings')\n",
            "    pdk: Optional[str] = Field(None, title='Pdk')\n",
            "    ports: Optional[Dict[str, str]] = Field(None, title='Ports')\n",
            "\n"
          ]
        }
      ],
      "source": [
        "import io\n",
        "import json\n",
        "from contextlib import redirect_stdout\n",
        "from urllib.request import urlopen\n",
        "\n",
        "import datamodel_code_generator as dcg\n",
        "\n",
        "NETLIST_SCHEMA_URL = \"https://raw.githubusercontent.com/gdsfactory/gdsfactory/master/gdsfactory/tests/schemas/netlist.json\"\n",
        "\n",
        "\n",
        "def download_schema(url=NETLIST_SCHEMA_URL):\n",
        "    response = urlopen(url)\n",
        "    json_text = response.read().decode()\n",
        "    schema_dict = json.loads(json_text)\n",
        "    return schema_dict\n",
        "\n",
        "\n",
        "def generate_models():\n",
        "    schema_dict = download_schema()\n",
        "    json_text = json.dumps(schema_dict)\n",
        "    buf = io.StringIO()\n",
        "    with redirect_stdout(buf):\n",
        "        dcg.generate(input_=json_text)\n",
        "    content = buf.getvalue()\n",
        "    content = content.replace(\n",
        "        \"extra = Extra.forbid\",\n",
        "        (\n",
        "            \"extra = Extra.ignore\\n\"\n",
        "            \"        allow_mutation = False\\n\"\n",
        "            \"        frozen = True\"\n",
        "        ),\n",
        "    )\n",
        "    content = (\n",
        "        content.replace(\"ComponentModel\", \"Component\")\n",
        "        .replace(\"PlacemetModel\", \"Placement\")\n",
        "        .replace(\"RouteModel\", \"Route\")\n",
        "        .replace(\"NetlistModel\", \"Netlist\")\n",
        "        .replace(\"PlacementModel\", \"Placement\")\n",
        "    )\n",
        "    return content\n",
        "\n",
        "\n",
        "print(generate_models())"
      ]
    },
    {
      "cell_type": "markdown",
      "id": "2c13ef8c-e744-4af1-801e-d59f0a762ec8",
      "metadata": {
        "papermill": {
          "duration": 0.007974,
          "end_time": "2022-08-17T03:21:43.612746",
          "exception": false,
          "start_time": "2022-08-17T03:21:43.604772",
          "status": "completed"
        },
        "tags": []
      },
      "source": [
        "This was autogenerated from the gdsfactory netlist json spec. Only a few validators were added and a few irrelevant fields were disabled."
      ]
    },
    {
      "cell_type": "code",
      "execution_count": 6,
      "id": "7ac05fe55a6181b8",
      "metadata": {
        "execution": {
          "iopub.execute_input": "2022-08-17T03:21:43.645939Z",
          "iopub.status.busy": "2022-08-17T03:21:43.629779Z",
          "iopub.status.idle": "2022-08-17T03:21:43.649763Z",
          "shell.execute_reply": "2022-08-17T03:21:43.650075Z"
        },
        "papermill": {
          "duration": 0.029933,
          "end_time": "2022-08-17T03:21:43.650193",
          "exception": false,
          "start_time": "2022-08-17T03:21:43.620260",
          "status": "completed"
        },
        "tags": [
          "hide-input"
        ]
      },
      "outputs": [],
      "source": [
        "\n",
        "class Component(BaseModel):\n",
        "    class Config:\n",
        "        extra = Extra.ignore\n",
        "        allow_mutation = False\n",
        "        frozen = True\n",
        "\n",
        "    component: Union[str, Dict[str, Any]] = Field(..., title=\"Component\")\n",
        "    settings: Optional[Dict[str, Any]] = Field(None, title=\"Settings\")\n",
        "\n",
        "    # this was added:\n",
        "    @validator(\"component\")\n",
        "    def validate_component_name(cls, value):\n",
        "        if \",\" in value:\n",
        "            raise ValueError(\n",
        "                f\"Invalid component string. Should not contain ','. Got: {value}\"\n",
        "            )\n",
        "        return clean_string(value)\n",
        "    \n",
        "\n",
        "class PortEnum(Enum):\n",
        "    ce = \"ce\"\n",
        "    cw = \"cw\"\n",
        "    nc = \"nc\"\n",
        "    ne = \"ne\"\n",
        "    nw = \"nw\"\n",
        "    sc = \"sc\"\n",
        "    se = \"se\"\n",
        "    sw = \"sw\"\n",
        "    center = \"center\"\n",
        "    cc = \"cc\"\n",
        "\n",
        "\n",
        "class Placement(BaseModel):\n",
        "    class Config:\n",
        "        extra = Extra.ignore\n",
        "        allow_mutation = False\n",
        "        frozen = True\n",
        "\n",
        "    x: Optional[Union[str, float]] = Field(0, title=\"X\")\n",
        "    y: Optional[Union[str, float]] = Field(0, title=\"Y\")\n",
        "    xmin: Optional[Union[str, float]] = Field(None, title=\"Xmin\")\n",
        "    ymin: Optional[Union[str, float]] = Field(None, title=\"Ymin\")\n",
        "    xmax: Optional[Union[str, float]] = Field(None, title=\"Xmax\")\n",
        "    ymax: Optional[Union[str, float]] = Field(None, title=\"Ymax\")\n",
        "    dx: Optional[float] = Field(0, title=\"Dx\")\n",
        "    dy: Optional[float] = Field(0, title=\"Dy\")\n",
        "    port: Optional[Union[str, PortEnum]] = Field(None, title=\"Port\")\n",
        "    rotation: Optional[int] = Field(0, title=\"Rotation\")\n",
        "    mirror: Optional[bool] = Field(False, title=\"Mirror\")\n",
        "\n",
        "\n",
        "class Route(BaseModel):\n",
        "    class Config:\n",
        "        extra = Extra.ignore\n",
        "        allow_mutation = False\n",
        "        frozen = True\n",
        "\n",
        "    links: Dict[str, str] = Field(..., title=\"Links\")\n",
        "    settings: Optional[Dict[str, Any]] = Field(None, title=\"Settings\")\n",
        "    routing_strategy: Optional[str] = Field(None, title=\"Routing Strategy\")\n",
        "\n",
        "\n",
        "class Netlist(BaseModel):\n",
        "    class Config:\n",
        "        extra = Extra.ignore\n",
        "        allow_mutation = False\n",
        "        frozen = True\n",
        "\n",
        "    instances: Dict[str, Component] = Field(..., title=\"Instances\")\n",
        "    connections: Optional[Dict[str, str]] = Field(None, title=\"Connections\")\n",
        "    ports: Optional[Dict[str, str]] = Field(None, title=\"Ports\")\n",
        "    placements: Optional[Dict[str, Placement]] = Field(None, title=\"Placements\")\n",
        "\n",
        "    # these were removed (irrelevant for SAX):\n",
        "\n",
        "    # routes: Optional[Dict[str, Route]] = Field(None, title='Routes')\n",
        "    # name: Optional[str] = Field(None, title='Name')\n",
        "    # info: Optional[Dict[str, Any]] = Field(None, title='Info')\n",
        "    # settings: Optional[Dict[str, Any]] = Field(None, title='Settings')\n",
        "    # pdk: Optional[str] = Field(None, title='Pdk')\n",
        "\n",
        "    # these are extra additions:\n",
        "\n",
        "    @validator(\"instances\", pre=True)\n",
        "    def coerce_different_type_instance_into_component_model(cls, instances):\n",
        "        new_instances = {}\n",
        "        for k, v in instances.items():\n",
        "            if isinstance(v, str):\n",
        "                v = {\n",
        "                    \"component\": v,\n",
        "                    \"settings\": {},\n",
        "                }\n",
        "            new_instances[k] = v\n",
        "                \n",
        "        return new_instances\n",
        "    \n",
        "    @staticmethod\n",
        "    def clean_instance_string(value):\n",
        "        if \",\" in value:\n",
        "            raise ValueError(\n",
        "                f\"Invalid instance string. Should not contain ','. Got: {value}\"\n",
        "            )\n",
        "        return clean_string(value)\n",
        "\n",
        "    @validator(\"instances\")\n",
        "    def validate_instance_names(cls, instances):\n",
        "        return {cls.clean_instance_string(k): v for k, v in instances.items()}\n",
        "\n",
        "    @classmethod\n",
        "    def clean_connection_string(cls, value):\n",
        "        *comp, port = value.split(\",\")\n",
        "        comp = cls.clean_instance_string(\",\".join(comp))\n",
        "        return f\"{comp},{port}\"\n",
        "\n",
        "    @validator(\"connections\")\n",
        "    def validate_connection_names(cls, instances):\n",
        "        return {\n",
        "            cls.clean_connection_string(k): cls.clean_connection_string(v)\n",
        "            for k, v in instances.items()\n",
        "        }"
      ]
    },
    {
      "cell_type": "markdown",
      "id": "c899c560-8ffd-4905-8307-7171a7679b7e",
      "metadata": {
        "papermill": {
          "duration": 0.007493,
          "end_time": "2022-08-17T03:21:43.665217",
          "exception": false,
          "start_time": "2022-08-17T03:21:43.657724",
          "status": "completed"
        },
        "tags": []
      },
      "source": [
        "We add an additional model to represent recursive netlists:"
      ]
    },
    {
      "cell_type": "code",
      "execution_count": 7,
      "id": "06fd9850e69ce7a3",
      "metadata": {
        "execution": {
          "iopub.execute_input": "2022-08-17T03:21:43.684501Z",
          "iopub.status.busy": "2022-08-17T03:21:43.684066Z",
          "iopub.status.idle": "2022-08-17T03:21:43.685871Z",
          "shell.execute_reply": "2022-08-17T03:21:43.685512Z"
        },
        "papermill": {
          "duration": 0.01315,
          "end_time": "2022-08-17T03:21:43.685960",
          "exception": false,
          "start_time": "2022-08-17T03:21:43.672810",
          "status": "completed"
        },
        "tags": [
          "hide-input"
        ]
      },
      "outputs": [],
      "source": [
        "    \n",
        "class RecursiveNetlist(BaseModel):\n",
        "    class Config:\n",
        "        extra = Extra.ignore\n",
        "        allow_mutation = False\n",
        "        frozen = True\n",
        "        \n",
        "    __root__: Dict[str, Netlist]"
      ]
    },
    {
      "cell_type": "markdown",
      "id": "30d9ed2b-7764-49b8-a3aa-a370374cbef1",
      "metadata": {
        "papermill": {
          "duration": 0.007588,
          "end_time": "2022-08-17T03:21:43.701117",
          "exception": false,
          "start_time": "2022-08-17T03:21:43.693529",
          "status": "completed"
        },
        "tags": []
      },
      "source": [
        "Let's create a simple recursive netlist with gdsfactory.\n",
        "\n",
        ":::{note}\n",
        "We are using gdsfactory to create our netlist because it allows us to see the circuit we want to simulate and because we're striving to have a compatible netlist implementation in SAX.\n",
        "\n",
        "However... gdsfactory is not a dependency of SAX. You can also define your circuits by hand (see [SAX Quick Start](../examples/01_quick_start.ipynb) or you can use another tool to programmatically construct your netlists.\n",
        ":::"
      ]
    },
    {
      "cell_type": "code",
      "execution_count": 8,
      "id": "53079a13-8dc0-4b53-879c-b5e05609f86e",
      "metadata": {
        "execution": {
          "iopub.execute_input": "2022-08-17T03:21:43.721714Z",
          "iopub.status.busy": "2022-08-17T03:21:43.721267Z",
          "iopub.status.idle": "2022-08-17T03:21:45.586536Z",
          "shell.execute_reply": "2022-08-17T03:21:45.585784Z"
        },
        "papermill": {
          "duration": 1.877895,
          "end_time": "2022-08-17T03:21:45.586654",
          "exception": false,
          "start_time": "2022-08-17T03:21:43.708759",
          "status": "completed"
        },
        "tags": []
      },
      "outputs": [
        {
          "data": {
            "image/png": "[encoded data removed]",
            "text/plain": [
              "<Figure size 432x288 with 1 Axes>"
            ]
          },
          "metadata": {
            "needs_background": "light"
          },
          "output_type": "display_data"
        },
        {
          "data": {
            "text/html": [
              "twomzi: uid 0, ports ['o1', 'o2'], aliases [], 0 polygons, 2 references"
            ],
            "text/plain": [
              "twomzi: uid 0, ports ['o1', 'o2'], aliases [], 0 polygons, 2 references"
            ]
          },
          "metadata": {},
          "output_type": "display_data"
        }
      ],
      "source": [
        "import gdsfactory as gf\n",
        "from gdsfactory.components import mzi\n",
        "from gdsfactory.get_netlist import get_netlist_recursive, get_netlist_dict\n",
        "from IPython.display import display\n",
        "\n",
        "@gf.cell\n",
        "def twomzi():\n",
        "    c = gf.Component()\n",
        "    \n",
        "    # instances\n",
        "    mzi1 = mzi(delta_length=10)\n",
        "    mzi2 = mzi(delta_length=20)\n",
        "    \n",
        "    # references\n",
        "    mzi1_ = (c << mzi1)\n",
        "    mzi2_ = (c << mzi2)\n",
        "    \n",
        "    # connections\n",
        "    mzi2_.connect('o1', mzi1_.ports['o2'])\n",
        "    \n",
        "    # ports\n",
        "    c.add_port('o1', port=mzi1_.ports['o1'])\n",
        "    c.add_port('o2', port=mzi2_.ports['o2'])\n",
        "    return c\n",
        "\n",
        "comp  = twomzi()\n",
        "display(comp)\n",
        "recnet = RecursiveNetlist.parse_obj(get_netlist_recursive(comp, get_netlist_func=partial(get_netlist_dict, full_settings=True)))\n",
        "flatnet = recnet.__root__['mzi_delta_length10']"
      ]
    },
    {
      "cell_type": "markdown",
      "id": "377687ad-d27d-4335-8012-9e408bddb19c",
      "metadata": {
        "papermill": {
          "duration": 0.00877,
          "end_time": "2022-08-17T03:21:45.604439",
          "exception": false,
          "start_time": "2022-08-17T03:21:45.595669",
          "status": "completed"
        },
        "tags": []
      },
      "source": [
        "Which gives the recursive netlist (go on to [Circuit](08_circuit.ipynb) from here.):"
      ]
    },
    {
      "cell_type": "markdown",
      "id": "4bf8f3c27e1d47ac",
      "metadata": {},
      "source": [
        ":::{eval-rst}\n",
        ".. autofunction:: sax.netlist.netlist\n",
        ":::\n"
      ]
    },
    {
      "cell_type": "code",
      "execution_count": 9,
      "id": "0a2f2b09e4d55fd6",
      "metadata": {
        "execution": {
          "iopub.execute_input": "2022-08-17T03:21:45.630256Z",
          "iopub.status.busy": "2022-08-17T03:21:45.629814Z",
          "iopub.status.idle": "2022-08-17T03:21:45.630950Z",
          "shell.execute_reply": "2022-08-17T03:21:45.631278Z"
        },
        "papermill": {
          "duration": 0.018267,
          "end_time": "2022-08-17T03:21:45.631394",
          "exception": false,
          "start_time": "2022-08-17T03:21:45.613127",
          "status": "completed"
        },
        "tags": [
          "hide-input"
        ]
      },
      "outputs": [],
      "source": [
        "\n",
        "def netlist(dic: Dict) -> RecursiveNetlist:\n",
        "    if isinstance(dic, RecursiveNetlist):\n",
        "        return dic\n",
        "    elif isinstance(dic, Netlist):\n",
        "        dic = dic.dict()\n",
        "    try:\n",
        "        flat_net = Netlist.parse_obj(dic)\n",
        "        net = RecursiveNetlist.parse_obj({'top_level': flat_net})\n",
        "    except ValidationError:\n",
        "        net = RecursiveNetlist.parse_obj(dic)\n",
        "    return net\n",
        "    "
      ]
    }
  ],
  "metadata": {
    "kernelspec": {
      "display_name": "sax",
      "language": "python",
      "name": "sax"
    },
    "language_info": {
      "codemirror_mode": {
        "name": "ipython",
        "version": 3
      },
      "file_extension": ".py",
      "mimetype": "text/x-python",
      "name": "python",
      "nbconvert_exporter": "python",
      "pygments_lexer": "ipython3",
      "version": "3.9.0"
    },
    "papermill": {
      "default_parameters": {},
      "duration": 4.955557,
      "end_time": "2022-08-17T03:21:46.146620",
      "environment_variables": {},
      "exception": null,
      "input_path": "./nbs/06_netlist.ipynb",
      "output_path": "./nbs/06_netlist.ipynb",
      "parameters": {},
      "start_time": "2022-08-17T03:21:41.191063",
      "version": "2.3.4"
    }
  },
  "nbformat": 4,
  "nbformat_minor": 5
}
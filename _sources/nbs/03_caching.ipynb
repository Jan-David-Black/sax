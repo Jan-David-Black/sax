{
  "cells": [
    {
      "cell_type": "code",
      "execution_count": 1,
      "id": "6afa91a59d13cf5f",
      "metadata": {
        "execution": {
          "iopub.execute_input": "2022-08-04T04:32:25.809350Z",
          "iopub.status.busy": "2022-08-04T04:32:25.808863Z",
          "iopub.status.idle": "2022-08-04T04:32:25.811145Z",
          "shell.execute_reply": "2022-08-04T04:32:25.810720Z"
        },
        "papermill": {
          "duration": 0.012973,
          "end_time": "2022-08-04T04:32:25.811266",
          "exception": false,
          "start_time": "2022-08-04T04:32:25.798293",
          "status": "completed"
        },
        "tags": [
          "remove-cell"
        ]
      },
      "outputs": [],
      "source": []
    },
    {
      "cell_type": "markdown",
      "id": "faeaa526",
      "metadata": {
        "papermill": {
          "duration": 0.004056,
          "end_time": "2022-08-04T04:32:25.819883",
          "exception": false,
          "start_time": "2022-08-04T04:32:25.815827",
          "status": "completed"
        },
        "tags": []
      },
      "source": [
        "# Caching\n",
        "\n",
        "> SAX Caching"
      ]
    },
    {
      "cell_type": "code",
      "execution_count": 2,
      "id": "5bec9accdd036779",
      "metadata": {
        "execution": {
          "iopub.execute_input": "2022-08-04T04:32:25.835300Z",
          "iopub.status.busy": "2022-08-04T04:32:25.834851Z",
          "iopub.status.idle": "2022-08-04T04:32:25.837326Z",
          "shell.execute_reply": "2022-08-04T04:32:25.836951Z"
        },
        "papermill": {
          "duration": 0.013658,
          "end_time": "2022-08-04T04:32:25.837429",
          "exception": false,
          "start_time": "2022-08-04T04:32:25.823771",
          "status": "completed"
        },
        "tags": [
          "remove-cell"
        ]
      },
      "outputs": [],
      "source": [
        "import os, sys; sys.stderr = open(os.devnull, \"w\")"
      ]
    },
    {
      "cell_type": "code",
      "execution_count": 3,
      "id": "8030d8e9ef1af24e",
      "metadata": {
        "execution": {
          "iopub.execute_input": "2022-08-04T04:32:25.848891Z",
          "iopub.status.busy": "2022-08-04T04:32:25.848448Z",
          "iopub.status.idle": "2022-08-04T04:32:25.850119Z",
          "shell.execute_reply": "2022-08-04T04:32:25.849695Z"
        },
        "papermill": {
          "duration": 0.008798,
          "end_time": "2022-08-04T04:32:25.850214",
          "exception": false,
          "start_time": "2022-08-04T04:32:25.841416",
          "status": "completed"
        },
        "tags": [
          "hide-input"
        ]
      },
      "outputs": [],
      "source": [
        "from __future__ import annotations\n",
        "\n",
        "import gc\n",
        "from functools import _lru_cache_wrapper, lru_cache, partial, wraps\n",
        "from typing import Callable, Optional"
      ]
    },
    {
      "cell_type": "code",
      "execution_count": 4,
      "id": "bb4678b607b5c1d7",
      "metadata": {
        "execution": {
          "iopub.execute_input": "2022-08-04T04:32:25.861355Z",
          "iopub.status.busy": "2022-08-04T04:32:25.860905Z",
          "iopub.status.idle": "2022-08-04T04:32:25.862555Z",
          "shell.execute_reply": "2022-08-04T04:32:25.862220Z"
        },
        "papermill": {
          "duration": 0.008366,
          "end_time": "2022-08-04T04:32:25.862651",
          "exception": false,
          "start_time": "2022-08-04T04:32:25.854285",
          "status": "completed"
        },
        "tags": [
          "remove-cell"
        ]
      },
      "outputs": [],
      "source": [
        "\n",
        "_cached_functions = []"
      ]
    },
    {
      "cell_type": "markdown",
      "id": "d747eebbb34442be",
      "metadata": {},
      "source": [
        ":::{eval-rst}\n",
        ".. autofunction:: sax.caching.cache\n",
        ":::\n"
      ]
    },
    {
      "cell_type": "code",
      "execution_count": 5,
      "id": "c547391ba793f59c",
      "metadata": {
        "execution": {
          "iopub.execute_input": "2022-08-04T04:32:25.873176Z",
          "iopub.status.busy": "2022-08-04T04:32:25.872747Z",
          "iopub.status.idle": "2022-08-04T04:32:25.877337Z",
          "shell.execute_reply": "2022-08-04T04:32:25.876968Z"
        },
        "papermill": {
          "duration": 0.010653,
          "end_time": "2022-08-04T04:32:25.877438",
          "exception": false,
          "start_time": "2022-08-04T04:32:25.866785",
          "status": "completed"
        },
        "tags": [
          "hide-input"
        ]
      },
      "outputs": [],
      "source": [
        "\n",
        "def cache(func: Optional[Callable] = None, *, maxsize: Optional[int] = None) -> Callable:\n",
        "    \"\"\"cache a function\"\"\"\n",
        "    if func is None:\n",
        "        return partial(cache, maxsize=maxsize)\n",
        "\n",
        "    cached_func = lru_cache(maxsize=maxsize)(func)\n",
        "\n",
        "    @wraps(func)\n",
        "    def new_func(*args, **kwargs):\n",
        "        return cached_func(*args, **kwargs)\n",
        "\n",
        "    new_func.cache_clear = cached_func.cache_clear\n",
        "\n",
        "    _cached_functions.append(new_func)\n",
        "\n",
        "    return new_func"
      ]
    },
    {
      "cell_type": "markdown",
      "id": "8a8b15ecf1edf9ac",
      "metadata": {},
      "source": [
        ":::{eval-rst}\n",
        ".. autofunction:: sax.caching.cache_clear\n",
        ":::\n"
      ]
    },
    {
      "cell_type": "code",
      "execution_count": 6,
      "id": "c0d7796766eb40ea",
      "metadata": {
        "execution": {
          "iopub.execute_input": "2022-08-04T04:32:25.889889Z",
          "iopub.status.busy": "2022-08-04T04:32:25.889459Z",
          "iopub.status.idle": "2022-08-04T04:32:25.890996Z",
          "shell.execute_reply": "2022-08-04T04:32:25.890577Z"
        },
        "papermill": {
          "duration": 0.009498,
          "end_time": "2022-08-04T04:32:25.891085",
          "exception": false,
          "start_time": "2022-08-04T04:32:25.881587",
          "status": "completed"
        },
        "tags": [
          "hide-input"
        ]
      },
      "outputs": [],
      "source": [
        "def cache_clear(*, force: bool=False):\n",
        "    \"\"\"clear all function caches\"\"\"\n",
        "    if not force:\n",
        "        for func in _cached_functions:\n",
        "            func.cache_clear()\n",
        "    else:\n",
        "        gc.collect()\n",
        "        funcs = [a for a in gc.get_objects() if isinstance(a, _lru_cache_wrapper)]\n",
        "\n",
        "        for func in funcs:\n",
        "            func.cache_clear()"
      ]
    }
  ],
  "metadata": {
    "kernelspec": {
      "display_name": "sax-np",
      "language": "python",
      "name": "sax-np"
    },
    "language_info": {
      "codemirror_mode": {
        "name": "ipython",
        "version": 3
      },
      "file_extension": ".py",
      "mimetype": "text/x-python",
      "name": "python",
      "nbconvert_exporter": "python",
      "pygments_lexer": "ipython3",
      "version": "3.9.0"
    },
    "papermill": {
      "default_parameters": {},
      "duration": 2.388706,
      "end_time": "2022-08-04T04:32:27.037972",
      "environment_variables": {},
      "exception": null,
      "input_path": "./nbs/03_caching.ipynb",
      "output_path": "./nbs/03_caching.ipynb",
      "parameters": {},
      "start_time": "2022-08-04T04:32:24.649266",
      "version": "2.3.4"
    }
  },
  "nbformat": 4,
  "nbformat_minor": 5
}
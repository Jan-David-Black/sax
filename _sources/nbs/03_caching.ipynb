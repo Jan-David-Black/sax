{
  "cells": [
    {
      "cell_type": "code",
      "execution_count": 1,
      "id": "404968aa36a1898e",
      "metadata": {
        "execution": {
          "iopub.execute_input": "2022-08-04T05:48:20.372840Z",
          "iopub.status.busy": "2022-08-04T05:48:20.372303Z",
          "iopub.status.idle": "2022-08-04T05:48:20.375715Z",
          "shell.execute_reply": "2022-08-04T05:48:20.375227Z"
        },
        "papermill": {
          "duration": 0.015966,
          "end_time": "2022-08-04T05:48:20.375852",
          "exception": false,
          "start_time": "2022-08-04T05:48:20.359886",
          "status": "completed"
        },
        "tags": [
          "remove-cell"
        ]
      },
      "outputs": [],
      "source": []
    },
    {
      "cell_type": "markdown",
      "id": "faeaa526",
      "metadata": {
        "papermill": {
          "duration": 0.004907,
          "end_time": "2022-08-04T05:48:20.386012",
          "exception": false,
          "start_time": "2022-08-04T05:48:20.381105",
          "status": "completed"
        },
        "tags": []
      },
      "source": [
        "# Caching\n",
        "\n",
        "> SAX Caching"
      ]
    },
    {
      "cell_type": "code",
      "execution_count": 2,
      "id": "f5ea334825417648",
      "metadata": {
        "execution": {
          "iopub.execute_input": "2022-08-04T05:48:20.397755Z",
          "iopub.status.busy": "2022-08-04T05:48:20.397258Z",
          "iopub.status.idle": "2022-08-04T05:48:20.405359Z",
          "shell.execute_reply": "2022-08-04T05:48:20.405731Z"
        },
        "papermill": {
          "duration": 0.015279,
          "end_time": "2022-08-04T05:48:20.405874",
          "exception": false,
          "start_time": "2022-08-04T05:48:20.390595",
          "status": "completed"
        },
        "tags": [
          "remove-cell"
        ]
      },
      "outputs": [],
      "source": [
        "import os, sys; sys.stderr = open(os.devnull, \"w\")"
      ]
    },
    {
      "cell_type": "code",
      "execution_count": 3,
      "id": "72da5f39610b6812",
      "metadata": {
        "execution": {
          "iopub.execute_input": "2022-08-04T05:48:20.419086Z",
          "iopub.status.busy": "2022-08-04T05:48:20.418575Z",
          "iopub.status.idle": "2022-08-04T05:48:20.420414Z",
          "shell.execute_reply": "2022-08-04T05:48:20.420887Z"
        },
        "papermill": {
          "duration": 0.010407,
          "end_time": "2022-08-04T05:48:20.421025",
          "exception": false,
          "start_time": "2022-08-04T05:48:20.410618",
          "status": "completed"
        },
        "tags": [
          "hide-input"
        ]
      },
      "outputs": [],
      "source": [
        "from __future__ import annotations\n",
        "\n",
        "import gc\n",
        "from functools import _lru_cache_wrapper, lru_cache, partial, wraps\n",
        "from typing import Callable, Optional"
      ]
    },
    {
      "cell_type": "code",
      "execution_count": 4,
      "id": "8d54f6d966c5f2ce",
      "metadata": {
        "execution": {
          "iopub.execute_input": "2022-08-04T05:48:20.434286Z",
          "iopub.status.busy": "2022-08-04T05:48:20.433788Z",
          "iopub.status.idle": "2022-08-04T05:48:20.435728Z",
          "shell.execute_reply": "2022-08-04T05:48:20.435305Z"
        },
        "papermill": {
          "duration": 0.010051,
          "end_time": "2022-08-04T05:48:20.435837",
          "exception": false,
          "start_time": "2022-08-04T05:48:20.425786",
          "status": "completed"
        },
        "tags": [
          "remove-cell"
        ]
      },
      "outputs": [],
      "source": [
        "\n",
        "_cached_functions = []"
      ]
    },
    {
      "cell_type": "markdown",
      "id": "40591885782e83e9",
      "metadata": {},
      "source": [
        ":::{eval-rst}\n",
        ".. autofunction:: sax.caching.cache\n",
        ":::\n"
      ]
    },
    {
      "cell_type": "code",
      "execution_count": 5,
      "id": "237afa60a41df1fe",
      "metadata": {
        "execution": {
          "iopub.execute_input": "2022-08-04T05:48:20.451008Z",
          "iopub.status.busy": "2022-08-04T05:48:20.450455Z",
          "iopub.status.idle": "2022-08-04T05:48:20.451634Z",
          "shell.execute_reply": "2022-08-04T05:48:20.452095Z"
        },
        "papermill": {
          "duration": 0.011569,
          "end_time": "2022-08-04T05:48:20.452218",
          "exception": false,
          "start_time": "2022-08-04T05:48:20.440649",
          "status": "completed"
        },
        "tags": [
          "hide-input"
        ]
      },
      "outputs": [],
      "source": [
        "\n",
        "def cache(func: Optional[Callable] = None, *, maxsize: Optional[int] = None) -> Callable:\n",
        "    \"\"\"cache a function\"\"\"\n",
        "    if func is None:\n",
        "        return partial(cache, maxsize=maxsize)\n",
        "\n",
        "    cached_func = lru_cache(maxsize=maxsize)(func)\n",
        "\n",
        "    @wraps(func)\n",
        "    def new_func(*args, **kwargs):\n",
        "        return cached_func(*args, **kwargs)\n",
        "\n",
        "    new_func.cache_clear = cached_func.cache_clear\n",
        "\n",
        "    _cached_functions.append(new_func)\n",
        "\n",
        "    return new_func"
      ]
    },
    {
      "cell_type": "markdown",
      "id": "7469aecd3ead800f",
      "metadata": {},
      "source": [
        ":::{eval-rst}\n",
        ".. autofunction:: sax.caching.cache_clear\n",
        ":::\n"
      ]
    },
    {
      "cell_type": "code",
      "execution_count": 6,
      "id": "97e9885727607d79",
      "metadata": {
        "execution": {
          "iopub.execute_input": "2022-08-04T05:48:20.466780Z",
          "iopub.status.busy": "2022-08-04T05:48:20.466241Z",
          "iopub.status.idle": "2022-08-04T05:48:20.467416Z",
          "shell.execute_reply": "2022-08-04T05:48:20.467874Z"
        },
        "papermill": {
          "duration": 0.010876,
          "end_time": "2022-08-04T05:48:20.467996",
          "exception": false,
          "start_time": "2022-08-04T05:48:20.457120",
          "status": "completed"
        },
        "tags": [
          "hide-input"
        ]
      },
      "outputs": [],
      "source": [
        "def cache_clear(*, force: bool=False):\n",
        "    \"\"\"clear all function caches\"\"\"\n",
        "    if not force:\n",
        "        for func in _cached_functions:\n",
        "            func.cache_clear()\n",
        "    else:\n",
        "        gc.collect()\n",
        "        funcs = [a for a in gc.get_objects() if isinstance(a, _lru_cache_wrapper)]\n",
        "\n",
        "        for func in funcs:\n",
        "            func.cache_clear()"
      ]
    }
  ],
  "metadata": {
    "kernelspec": {
      "display_name": "sax-np",
      "language": "python",
      "name": "sax-np"
    },
    "language_info": {
      "codemirror_mode": {
        "name": "ipython",
        "version": 3
      },
      "file_extension": ".py",
      "mimetype": "text/x-python",
      "name": "python",
      "nbconvert_exporter": "python",
      "pygments_lexer": "ipython3",
      "version": "3.9.0"
    },
    "papermill": {
      "default_parameters": {},
      "duration": 1.837381,
      "end_time": "2022-08-04T05:48:20.679597",
      "environment_variables": {},
      "exception": null,
      "input_path": "./nbs/03_caching.ipynb",
      "output_path": "./nbs/03_caching.ipynb",
      "parameters": {},
      "start_time": "2022-08-04T05:48:18.842216",
      "version": "2.3.4"
    }
  },
  "nbformat": 4,
  "nbformat_minor": 5
}
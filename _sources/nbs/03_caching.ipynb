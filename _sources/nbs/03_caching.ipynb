{
  "cells": [
    {
      "cell_type": "code",
      "execution_count": 1,
      "id": "c15893392fd46dd2",
      "metadata": {
        "execution": {
          "iopub.execute_input": "2022-08-07T05:30:18.430637Z",
          "iopub.status.busy": "2022-08-07T05:30:18.430183Z",
          "iopub.status.idle": "2022-08-07T05:30:18.433247Z",
          "shell.execute_reply": "2022-08-07T05:30:18.432818Z"
        },
        "papermill": {
          "duration": 0.012686,
          "end_time": "2022-08-07T05:30:18.433363",
          "exception": false,
          "start_time": "2022-08-07T05:30:18.420677",
          "status": "completed"
        },
        "tags": [
          "remove-cell"
        ]
      },
      "outputs": [],
      "source": []
    },
    {
      "cell_type": "markdown",
      "id": "faeaa526",
      "metadata": {
        "papermill": {
          "duration": 0.004119,
          "end_time": "2022-08-07T05:30:18.442019",
          "exception": false,
          "start_time": "2022-08-07T05:30:18.437900",
          "status": "completed"
        },
        "tags": []
      },
      "source": [
        "# Caching\n",
        "\n",
        "> SAX Caching"
      ]
    },
    {
      "cell_type": "code",
      "execution_count": 2,
      "id": "4158536be1467c3d",
      "metadata": {
        "execution": {
          "iopub.execute_input": "2022-08-07T05:30:18.457493Z",
          "iopub.status.busy": "2022-08-07T05:30:18.457072Z",
          "iopub.status.idle": "2022-08-07T05:30:18.458402Z",
          "shell.execute_reply": "2022-08-07T05:30:18.458734Z"
        },
        "papermill": {
          "duration": 0.012963,
          "end_time": "2022-08-07T05:30:18.458844",
          "exception": false,
          "start_time": "2022-08-07T05:30:18.445881",
          "status": "completed"
        },
        "tags": [
          "remove-cell"
        ]
      },
      "outputs": [],
      "source": [
        "import os, sys; sys.stderr = open(os.devnull, \"w\")"
      ]
    },
    {
      "cell_type": "code",
      "execution_count": 3,
      "id": "af82432c127adca8",
      "metadata": {
        "execution": {
          "iopub.execute_input": "2022-08-07T05:30:18.468868Z",
          "iopub.status.busy": "2022-08-07T05:30:18.468426Z",
          "iopub.status.idle": "2022-08-07T05:30:18.471412Z",
          "shell.execute_reply": "2022-08-07T05:30:18.471060Z"
        },
        "papermill": {
          "duration": 0.008701,
          "end_time": "2022-08-07T05:30:18.471499",
          "exception": false,
          "start_time": "2022-08-07T05:30:18.462798",
          "status": "completed"
        },
        "tags": [
          "hide-input"
        ]
      },
      "outputs": [],
      "source": [
        "from __future__ import annotations\n",
        "\n",
        "import gc\n",
        "from functools import _lru_cache_wrapper, lru_cache, partial, wraps\n",
        "from typing import Callable, Optional"
      ]
    },
    {
      "cell_type": "code",
      "execution_count": 4,
      "id": "d5b269435f8fbaa7",
      "metadata": {
        "execution": {
          "iopub.execute_input": "2022-08-07T05:30:18.482402Z",
          "iopub.status.busy": "2022-08-07T05:30:18.481988Z",
          "iopub.status.idle": "2022-08-07T05:30:18.483547Z",
          "shell.execute_reply": "2022-08-07T05:30:18.483217Z"
        },
        "papermill": {
          "duration": 0.008033,
          "end_time": "2022-08-07T05:30:18.483636",
          "exception": false,
          "start_time": "2022-08-07T05:30:18.475603",
          "status": "completed"
        },
        "tags": [
          "remove-cell"
        ]
      },
      "outputs": [],
      "source": [
        "\n",
        "_cached_functions = []"
      ]
    },
    {
      "cell_type": "markdown",
      "id": "553126fe7c0ece98",
      "metadata": {},
      "source": [
        ":::{eval-rst}\n",
        ".. autofunction:: sax.caching.cache\n",
        ":::\n"
      ]
    },
    {
      "cell_type": "code",
      "execution_count": 5,
      "id": "b0f20a8b667705d1",
      "metadata": {
        "execution": {
          "iopub.execute_input": "2022-08-07T05:30:18.496450Z",
          "iopub.status.busy": "2022-08-07T05:30:18.496027Z",
          "iopub.status.idle": "2022-08-07T05:30:18.497545Z",
          "shell.execute_reply": "2022-08-07T05:30:18.497197Z"
        },
        "papermill": {
          "duration": 0.009899,
          "end_time": "2022-08-07T05:30:18.497630",
          "exception": false,
          "start_time": "2022-08-07T05:30:18.487731",
          "status": "completed"
        },
        "tags": [
          "hide-input"
        ]
      },
      "outputs": [],
      "source": [
        "\n",
        "def cache(func: Optional[Callable] = None, *, maxsize: Optional[int] = None) -> Callable:\n",
        "    \"\"\"cache a function\"\"\"\n",
        "    if func is None:\n",
        "        return partial(cache, maxsize=maxsize)\n",
        "\n",
        "    cached_func = lru_cache(maxsize=maxsize)(func)\n",
        "\n",
        "    @wraps(func)\n",
        "    def new_func(*args, **kwargs):\n",
        "        return cached_func(*args, **kwargs)\n",
        "\n",
        "    new_func.cache_clear = cached_func.cache_clear\n",
        "\n",
        "    _cached_functions.append(new_func)\n",
        "\n",
        "    return new_func"
      ]
    },
    {
      "cell_type": "markdown",
      "id": "b187c4723c002b2c",
      "metadata": {},
      "source": [
        ":::{eval-rst}\n",
        ".. autofunction:: sax.caching.cache_clear\n",
        ":::\n"
      ]
    },
    {
      "cell_type": "code",
      "execution_count": 6,
      "id": "1722125e4b9eed95",
      "metadata": {
        "execution": {
          "iopub.execute_input": "2022-08-07T05:30:18.509994Z",
          "iopub.status.busy": "2022-08-07T05:30:18.509580Z",
          "iopub.status.idle": "2022-08-07T05:30:18.511099Z",
          "shell.execute_reply": "2022-08-07T05:30:18.510687Z"
        },
        "papermill": {
          "duration": 0.009367,
          "end_time": "2022-08-07T05:30:18.511182",
          "exception": false,
          "start_time": "2022-08-07T05:30:18.501815",
          "status": "completed"
        },
        "tags": [
          "hide-input"
        ]
      },
      "outputs": [],
      "source": [
        "def cache_clear(*, force: bool=False):\n",
        "    \"\"\"clear all function caches\"\"\"\n",
        "    if not force:\n",
        "        for func in _cached_functions:\n",
        "            func.cache_clear()\n",
        "    else:\n",
        "        gc.collect()\n",
        "        funcs = [a for a in gc.get_objects() if isinstance(a, _lru_cache_wrapper)]\n",
        "\n",
        "        for func in funcs:\n",
        "            func.cache_clear()"
      ]
    }
  ],
  "metadata": {
    "kernelspec": {
      "display_name": "sax-np",
      "language": "python",
      "name": "sax-np"
    },
    "language_info": {
      "codemirror_mode": {
        "name": "ipython",
        "version": 3
      },
      "file_extension": ".py",
      "mimetype": "text/x-python",
      "name": "python",
      "nbconvert_exporter": "python",
      "pygments_lexer": "ipython3",
      "version": "3.9.0"
    },
    "papermill": {
      "default_parameters": {},
      "duration": 1.328137,
      "end_time": "2022-08-07T05:30:18.620429",
      "environment_variables": {},
      "exception": null,
      "input_path": "./nbs/03_caching.ipynb",
      "output_path": "./nbs/03_caching.ipynb",
      "parameters": {},
      "start_time": "2022-08-07T05:30:17.292292",
      "version": "2.3.4"
    }
  },
  "nbformat": 4,
  "nbformat_minor": 5
}
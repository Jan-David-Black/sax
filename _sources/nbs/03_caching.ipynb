{
  "cells": [
    {
      "cell_type": "code",
      "execution_count": 1,
      "id": "50720b936dc08da2",
      "metadata": {
        "execution": {
          "iopub.execute_input": "2022-08-10T16:01:08.196420Z",
          "iopub.status.busy": "2022-08-10T16:01:08.195911Z",
          "iopub.status.idle": "2022-08-10T16:01:08.198601Z",
          "shell.execute_reply": "2022-08-10T16:01:08.198182Z"
        },
        "papermill": {
          "duration": 0.013729,
          "end_time": "2022-08-10T16:01:08.198718",
          "exception": false,
          "start_time": "2022-08-10T16:01:08.184989",
          "status": "completed"
        },
        "tags": [
          "remove-cell"
        ]
      },
      "outputs": [],
      "source": []
    },
    {
      "cell_type": "markdown",
      "id": "faeaa526",
      "metadata": {
        "papermill": {
          "duration": 0.00412,
          "end_time": "2022-08-10T16:01:08.207349",
          "exception": false,
          "start_time": "2022-08-10T16:01:08.203229",
          "status": "completed"
        },
        "tags": []
      },
      "source": [
        "# Caching\n",
        "\n",
        "> SAX Caching"
      ]
    },
    {
      "cell_type": "code",
      "execution_count": 2,
      "id": "5221b501a1d5f6b4",
      "metadata": {
        "execution": {
          "iopub.execute_input": "2022-08-10T16:01:08.217143Z",
          "iopub.status.busy": "2022-08-10T16:01:08.216730Z",
          "iopub.status.idle": "2022-08-10T16:01:08.223935Z",
          "shell.execute_reply": "2022-08-10T16:01:08.223541Z"
        },
        "papermill": {
          "duration": 0.012851,
          "end_time": "2022-08-10T16:01:08.224030",
          "exception": false,
          "start_time": "2022-08-10T16:01:08.211179",
          "status": "completed"
        },
        "tags": [
          "remove-cell"
        ]
      },
      "outputs": [],
      "source": [
        "import os, sys; sys.stderr = open(os.devnull, \"w\")"
      ]
    },
    {
      "cell_type": "code",
      "execution_count": 3,
      "id": "e6f9c93693a9d243",
      "metadata": {
        "execution": {
          "iopub.execute_input": "2022-08-10T16:01:08.234872Z",
          "iopub.status.busy": "2022-08-10T16:01:08.234460Z",
          "iopub.status.idle": "2022-08-10T16:01:08.236055Z",
          "shell.execute_reply": "2022-08-10T16:01:08.235718Z"
        },
        "papermill": {
          "duration": 0.008186,
          "end_time": "2022-08-10T16:01:08.236143",
          "exception": false,
          "start_time": "2022-08-10T16:01:08.227957",
          "status": "completed"
        },
        "tags": [
          "hide-input"
        ]
      },
      "outputs": [],
      "source": [
        "from __future__ import annotations\n",
        "\n",
        "import gc\n",
        "from functools import _lru_cache_wrapper, lru_cache, partial, wraps\n",
        "from typing import Callable, Optional"
      ]
    },
    {
      "cell_type": "code",
      "execution_count": 4,
      "id": "7f3a59c09bda6605",
      "metadata": {
        "execution": {
          "iopub.execute_input": "2022-08-10T16:01:08.246801Z",
          "iopub.status.busy": "2022-08-10T16:01:08.246388Z",
          "iopub.status.idle": "2022-08-10T16:01:08.247996Z",
          "shell.execute_reply": "2022-08-10T16:01:08.247531Z"
        },
        "papermill": {
          "duration": 0.007966,
          "end_time": "2022-08-10T16:01:08.248085",
          "exception": false,
          "start_time": "2022-08-10T16:01:08.240119",
          "status": "completed"
        },
        "tags": [
          "remove-cell"
        ]
      },
      "outputs": [],
      "source": [
        "\n",
        "_cached_functions = []"
      ]
    },
    {
      "cell_type": "markdown",
      "id": "83e70c60961d84ee",
      "metadata": {},
      "source": [
        ":::{eval-rst}\n",
        ".. autofunction:: sax.caching.cache\n",
        ":::\n"
      ]
    },
    {
      "cell_type": "code",
      "execution_count": 5,
      "id": "8386e2e7288e7f9a",
      "metadata": {
        "execution": {
          "iopub.execute_input": "2022-08-10T16:01:08.260909Z",
          "iopub.status.busy": "2022-08-10T16:01:08.260488Z",
          "iopub.status.idle": "2022-08-10T16:01:08.261665Z",
          "shell.execute_reply": "2022-08-10T16:01:08.262013Z"
        },
        "papermill": {
          "duration": 0.009917,
          "end_time": "2022-08-10T16:01:08.262113",
          "exception": false,
          "start_time": "2022-08-10T16:01:08.252196",
          "status": "completed"
        },
        "tags": [
          "hide-input"
        ]
      },
      "outputs": [],
      "source": [
        "\n",
        "def cache(func: Optional[Callable] = None, *, maxsize: Optional[int] = None) -> Callable:\n",
        "    \"\"\"cache a function\"\"\"\n",
        "    if func is None:\n",
        "        return partial(cache, maxsize=maxsize)\n",
        "\n",
        "    cached_func = lru_cache(maxsize=maxsize)(func)\n",
        "\n",
        "    @wraps(func)\n",
        "    def new_func(*args, **kwargs):\n",
        "        return cached_func(*args, **kwargs)\n",
        "\n",
        "    new_func.cache_clear = cached_func.cache_clear\n",
        "\n",
        "    _cached_functions.append(new_func)\n",
        "\n",
        "    return new_func"
      ]
    },
    {
      "cell_type": "markdown",
      "id": "d43d852a074ca36a",
      "metadata": {},
      "source": [
        ":::{eval-rst}\n",
        ".. autofunction:: sax.caching.cache_clear\n",
        ":::\n"
      ]
    },
    {
      "cell_type": "code",
      "execution_count": 6,
      "id": "fa47eca39687cfcc",
      "metadata": {
        "execution": {
          "iopub.execute_input": "2022-08-10T16:01:08.274681Z",
          "iopub.status.busy": "2022-08-10T16:01:08.274267Z",
          "iopub.status.idle": "2022-08-10T16:01:08.275517Z",
          "shell.execute_reply": "2022-08-10T16:01:08.275884Z"
        },
        "papermill": {
          "duration": 0.009617,
          "end_time": "2022-08-10T16:01:08.275987",
          "exception": false,
          "start_time": "2022-08-10T16:01:08.266370",
          "status": "completed"
        },
        "tags": [
          "hide-input"
        ]
      },
      "outputs": [],
      "source": [
        "def cache_clear(*, force: bool=False):\n",
        "    \"\"\"clear all function caches\"\"\"\n",
        "    if not force:\n",
        "        for func in _cached_functions:\n",
        "            func.cache_clear()\n",
        "    else:\n",
        "        gc.collect()\n",
        "        funcs = [a for a in gc.get_objects() if isinstance(a, _lru_cache_wrapper)]\n",
        "\n",
        "        for func in funcs:\n",
        "            func.cache_clear()"
      ]
    }
  ],
  "metadata": {
    "kernelspec": {
      "display_name": "sax",
      "language": "python",
      "name": "sax"
    },
    "language_info": {
      "codemirror_mode": {
        "name": "ipython",
        "version": 3
      },
      "file_extension": ".py",
      "mimetype": "text/x-python",
      "name": "python",
      "nbconvert_exporter": "python",
      "pygments_lexer": "ipython3",
      "version": "3.9.0"
    },
    "papermill": {
      "default_parameters": {},
      "duration": 1.595284,
      "end_time": "2022-08-10T16:01:08.486946",
      "environment_variables": {},
      "exception": null,
      "input_path": "./nbs/03_caching.ipynb",
      "output_path": "./nbs/03_caching.ipynb",
      "parameters": {},
      "start_time": "2022-08-10T16:01:06.891662",
      "version": "2.3.4"
    }
  },
  "nbformat": 4,
  "nbformat_minor": 5
}
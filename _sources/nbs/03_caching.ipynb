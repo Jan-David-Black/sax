{
  "cells": [
    {
      "cell_type": "code",
      "execution_count": 1,
      "id": "0ba2b61fa31b4641",
      "metadata": {
        "execution": {
          "iopub.execute_input": "2022-08-17T03:22:43.582128Z",
          "iopub.status.busy": "2022-08-17T03:22:43.580887Z",
          "iopub.status.idle": "2022-08-17T03:22:43.584609Z",
          "shell.execute_reply": "2022-08-17T03:22:43.584191Z"
        },
        "papermill": {
          "duration": 0.010552,
          "end_time": "2022-08-17T03:22:43.584711",
          "exception": false,
          "start_time": "2022-08-17T03:22:43.574159",
          "status": "completed"
        },
        "tags": [
          "remove-cell"
        ]
      },
      "outputs": [],
      "source": []
    },
    {
      "cell_type": "markdown",
      "id": "faeaa526",
      "metadata": {
        "papermill": {
          "duration": 0.003608,
          "end_time": "2022-08-17T03:22:43.592499",
          "exception": false,
          "start_time": "2022-08-17T03:22:43.588891",
          "status": "completed"
        },
        "tags": []
      },
      "source": [
        "# Caching\n",
        "\n",
        "> SAX Caching"
      ]
    },
    {
      "cell_type": "code",
      "execution_count": 2,
      "id": "c5ae0b0beaf507dd",
      "metadata": {
        "execution": {
          "iopub.execute_input": "2022-08-17T03:22:43.607379Z",
          "iopub.status.busy": "2022-08-17T03:22:43.606938Z",
          "iopub.status.idle": "2022-08-17T03:22:43.608695Z",
          "shell.execute_reply": "2022-08-17T03:22:43.608361Z"
        },
        "papermill": {
          "duration": 0.012725,
          "end_time": "2022-08-17T03:22:43.608793",
          "exception": false,
          "start_time": "2022-08-17T03:22:43.596068",
          "status": "completed"
        },
        "tags": [
          "remove-cell"
        ]
      },
      "outputs": [],
      "source": [
        "import os, sys; sys.stderr = open(os.devnull, \"w\")"
      ]
    },
    {
      "cell_type": "code",
      "execution_count": 3,
      "id": "13f0dccbc6240352",
      "metadata": {
        "execution": {
          "iopub.execute_input": "2022-08-17T03:22:43.619305Z",
          "iopub.status.busy": "2022-08-17T03:22:43.618889Z",
          "iopub.status.idle": "2022-08-17T03:22:43.620076Z",
          "shell.execute_reply": "2022-08-17T03:22:43.620392Z"
        },
        "papermill": {
          "duration": 0.008045,
          "end_time": "2022-08-17T03:22:43.620502",
          "exception": false,
          "start_time": "2022-08-17T03:22:43.612457",
          "status": "completed"
        },
        "tags": [
          "hide-input"
        ]
      },
      "outputs": [],
      "source": [
        "from __future__ import annotations\n",
        "\n",
        "import gc\n",
        "from functools import _lru_cache_wrapper, lru_cache, partial, wraps\n",
        "from typing import Callable, Optional"
      ]
    },
    {
      "cell_type": "code",
      "execution_count": 4,
      "id": "3aebb937f22c1596",
      "metadata": {
        "execution": {
          "iopub.execute_input": "2022-08-17T03:22:43.630832Z",
          "iopub.status.busy": "2022-08-17T03:22:43.630413Z",
          "iopub.status.idle": "2022-08-17T03:22:43.631878Z",
          "shell.execute_reply": "2022-08-17T03:22:43.631478Z"
        },
        "papermill": {
          "duration": 0.007772,
          "end_time": "2022-08-17T03:22:43.631969",
          "exception": false,
          "start_time": "2022-08-17T03:22:43.624197",
          "status": "completed"
        },
        "tags": [
          "remove-cell"
        ]
      },
      "outputs": [],
      "source": [
        "\n",
        "_cached_functions = []"
      ]
    },
    {
      "cell_type": "markdown",
      "id": "7660184a73eb57d2",
      "metadata": {},
      "source": [
        ":::{eval-rst}\n",
        ".. autofunction:: sax.caching.cache\n",
        ":::\n"
      ]
    },
    {
      "cell_type": "code",
      "execution_count": 5,
      "id": "6b98133e7e53f857",
      "metadata": {
        "execution": {
          "iopub.execute_input": "2022-08-17T03:22:43.644216Z",
          "iopub.status.busy": "2022-08-17T03:22:43.643784Z",
          "iopub.status.idle": "2022-08-17T03:22:43.644798Z",
          "shell.execute_reply": "2022-08-17T03:22:43.645146Z"
        },
        "papermill": {
          "duration": 0.00951,
          "end_time": "2022-08-17T03:22:43.645255",
          "exception": false,
          "start_time": "2022-08-17T03:22:43.635745",
          "status": "completed"
        },
        "tags": [
          "hide-input"
        ]
      },
      "outputs": [],
      "source": [
        "\n",
        "def cache(func: Optional[Callable] = None, *, maxsize: Optional[int] = None) -> Callable:\n",
        "    \"\"\"cache a function\"\"\"\n",
        "    if func is None:\n",
        "        return partial(cache, maxsize=maxsize)\n",
        "\n",
        "    cached_func = lru_cache(maxsize=maxsize)(func)\n",
        "\n",
        "    @wraps(func)\n",
        "    def new_func(*args, **kwargs):\n",
        "        return cached_func(*args, **kwargs)\n",
        "\n",
        "    new_func.cache_clear = cached_func.cache_clear\n",
        "\n",
        "    _cached_functions.append(new_func)\n",
        "\n",
        "    return new_func"
      ]
    },
    {
      "cell_type": "markdown",
      "id": "6c4fa70aa4e9bae1",
      "metadata": {},
      "source": [
        ":::{eval-rst}\n",
        ".. autofunction:: sax.caching.cache_clear\n",
        ":::\n"
      ]
    },
    {
      "cell_type": "code",
      "execution_count": 6,
      "id": "fb9a660fb8b4dbe2",
      "metadata": {
        "execution": {
          "iopub.execute_input": "2022-08-17T03:22:43.656743Z",
          "iopub.status.busy": "2022-08-17T03:22:43.656328Z",
          "iopub.status.idle": "2022-08-17T03:22:43.657836Z",
          "shell.execute_reply": "2022-08-17T03:22:43.658149Z"
        },
        "papermill": {
          "duration": 0.009168,
          "end_time": "2022-08-17T03:22:43.658256",
          "exception": false,
          "start_time": "2022-08-17T03:22:43.649088",
          "status": "completed"
        },
        "tags": [
          "hide-input"
        ]
      },
      "outputs": [],
      "source": [
        "def cache_clear(*, force: bool=False):\n",
        "    \"\"\"clear all function caches\"\"\"\n",
        "    if not force:\n",
        "        for func in _cached_functions:\n",
        "            func.cache_clear()\n",
        "    else:\n",
        "        gc.collect()\n",
        "        funcs = [a for a in gc.get_objects() if isinstance(a, _lru_cache_wrapper)]\n",
        "\n",
        "        for func in funcs:\n",
        "            func.cache_clear()"
      ]
    }
  ],
  "metadata": {
    "kernelspec": {
      "display_name": "sax",
      "language": "python",
      "name": "sax"
    },
    "language_info": {
      "codemirror_mode": {
        "name": "ipython",
        "version": 3
      },
      "file_extension": ".py",
      "mimetype": "text/x-python",
      "name": "python",
      "nbconvert_exporter": "python",
      "pygments_lexer": "ipython3",
      "version": "3.9.0"
    },
    "papermill": {
      "default_parameters": {},
      "duration": 1.318259,
      "end_time": "2022-08-17T03:22:43.766513",
      "environment_variables": {},
      "exception": null,
      "input_path": "./nbs/03_caching.ipynb",
      "output_path": "./nbs/03_caching.ipynb",
      "parameters": {},
      "start_time": "2022-08-17T03:22:42.448254",
      "version": "2.3.4"
    }
  },
  "nbformat": 4,
  "nbformat_minor": 5
}
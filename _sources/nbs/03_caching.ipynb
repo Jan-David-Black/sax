{
  "cells": [
    {
      "cell_type": "code",
      "execution_count": 1,
      "id": "861e6765c7203df2",
      "metadata": {
        "execution": {
          "iopub.execute_input": "2022-08-16T04:18:27.991915Z",
          "iopub.status.busy": "2022-08-16T04:18:27.991425Z",
          "iopub.status.idle": "2022-08-16T04:18:27.994369Z",
          "shell.execute_reply": "2022-08-16T04:18:27.993960Z"
        },
        "papermill": {
          "duration": 0.011788,
          "end_time": "2022-08-16T04:18:27.994478",
          "exception": false,
          "start_time": "2022-08-16T04:18:27.982690",
          "status": "completed"
        },
        "tags": [
          "remove-cell"
        ]
      },
      "outputs": [],
      "source": []
    },
    {
      "cell_type": "markdown",
      "id": "faeaa526",
      "metadata": {
        "papermill": {
          "duration": 0.003617,
          "end_time": "2022-08-16T04:18:28.002076",
          "exception": false,
          "start_time": "2022-08-16T04:18:27.998459",
          "status": "completed"
        },
        "tags": []
      },
      "source": [
        "# Caching\n",
        "\n",
        "> SAX Caching"
      ]
    },
    {
      "cell_type": "code",
      "execution_count": 2,
      "id": "9febc2920947a735",
      "metadata": {
        "execution": {
          "iopub.execute_input": "2022-08-16T04:18:28.016418Z",
          "iopub.status.busy": "2022-08-16T04:18:28.016009Z",
          "iopub.status.idle": "2022-08-16T04:18:28.017585Z",
          "shell.execute_reply": "2022-08-16T04:18:28.017238Z"
        },
        "papermill": {
          "duration": 0.012085,
          "end_time": "2022-08-16T04:18:28.017671",
          "exception": false,
          "start_time": "2022-08-16T04:18:28.005586",
          "status": "completed"
        },
        "tags": [
          "remove-cell"
        ]
      },
      "outputs": [],
      "source": [
        "import os, sys; sys.stderr = open(os.devnull, \"w\")"
      ]
    },
    {
      "cell_type": "code",
      "execution_count": 3,
      "id": "05ac7fa5a03ca24f",
      "metadata": {
        "execution": {
          "iopub.execute_input": "2022-08-16T04:18:28.027855Z",
          "iopub.status.busy": "2022-08-16T04:18:28.027411Z",
          "iopub.status.idle": "2022-08-16T04:18:28.028617Z",
          "shell.execute_reply": "2022-08-16T04:18:28.028993Z"
        },
        "papermill": {
          "duration": 0.007901,
          "end_time": "2022-08-16T04:18:28.029092",
          "exception": false,
          "start_time": "2022-08-16T04:18:28.021191",
          "status": "completed"
        },
        "tags": [
          "hide-input"
        ]
      },
      "outputs": [],
      "source": [
        "from __future__ import annotations\n",
        "\n",
        "import gc\n",
        "from functools import _lru_cache_wrapper, lru_cache, partial, wraps\n",
        "from typing import Callable, Optional"
      ]
    },
    {
      "cell_type": "code",
      "execution_count": 4,
      "id": "abe8834e04718624",
      "metadata": {
        "execution": {
          "iopub.execute_input": "2022-08-16T04:18:28.038836Z",
          "iopub.status.busy": "2022-08-16T04:18:28.038426Z",
          "iopub.status.idle": "2022-08-16T04:18:28.040026Z",
          "shell.execute_reply": "2022-08-16T04:18:28.040417Z"
        },
        "papermill": {
          "duration": 0.007869,
          "end_time": "2022-08-16T04:18:28.040516",
          "exception": false,
          "start_time": "2022-08-16T04:18:28.032647",
          "status": "completed"
        },
        "tags": [
          "remove-cell"
        ]
      },
      "outputs": [],
      "source": [
        "\n",
        "_cached_functions = []"
      ]
    },
    {
      "cell_type": "markdown",
      "id": "239bb8289d8e6f10",
      "metadata": {},
      "source": [
        ":::{eval-rst}\n",
        ".. autofunction:: sax.caching.cache\n",
        ":::\n"
      ]
    },
    {
      "cell_type": "code",
      "execution_count": 5,
      "id": "c1dadeef08c42cba",
      "metadata": {
        "execution": {
          "iopub.execute_input": "2022-08-16T04:18:28.050604Z",
          "iopub.status.busy": "2022-08-16T04:18:28.050188Z",
          "iopub.status.idle": "2022-08-16T04:18:28.054374Z",
          "shell.execute_reply": "2022-08-16T04:18:28.054025Z"
        },
        "papermill": {
          "duration": 0.010289,
          "end_time": "2022-08-16T04:18:28.054459",
          "exception": false,
          "start_time": "2022-08-16T04:18:28.044170",
          "status": "completed"
        },
        "tags": [
          "hide-input"
        ]
      },
      "outputs": [],
      "source": [
        "\n",
        "def cache(func: Optional[Callable] = None, *, maxsize: Optional[int] = None) -> Callable:\n",
        "    \"\"\"cache a function\"\"\"\n",
        "    if func is None:\n",
        "        return partial(cache, maxsize=maxsize)\n",
        "\n",
        "    cached_func = lru_cache(maxsize=maxsize)(func)\n",
        "\n",
        "    @wraps(func)\n",
        "    def new_func(*args, **kwargs):\n",
        "        return cached_func(*args, **kwargs)\n",
        "\n",
        "    new_func.cache_clear = cached_func.cache_clear\n",
        "\n",
        "    _cached_functions.append(new_func)\n",
        "\n",
        "    return new_func"
      ]
    },
    {
      "cell_type": "markdown",
      "id": "d64f394c6ae2a9e5",
      "metadata": {},
      "source": [
        ":::{eval-rst}\n",
        ".. autofunction:: sax.caching.cache_clear\n",
        ":::\n"
      ]
    },
    {
      "cell_type": "code",
      "execution_count": 6,
      "id": "3a4e833ffe9c5486",
      "metadata": {
        "execution": {
          "iopub.execute_input": "2022-08-16T04:18:28.066136Z",
          "iopub.status.busy": "2022-08-16T04:18:28.065721Z",
          "iopub.status.idle": "2022-08-16T04:18:28.067286Z",
          "shell.execute_reply": "2022-08-16T04:18:28.066941Z"
        },
        "papermill": {
          "duration": 0.009212,
          "end_time": "2022-08-16T04:18:28.067376",
          "exception": false,
          "start_time": "2022-08-16T04:18:28.058164",
          "status": "completed"
        },
        "tags": [
          "hide-input"
        ]
      },
      "outputs": [],
      "source": [
        "def cache_clear(*, force: bool=False):\n",
        "    \"\"\"clear all function caches\"\"\"\n",
        "    if not force:\n",
        "        for func in _cached_functions:\n",
        "            func.cache_clear()\n",
        "    else:\n",
        "        gc.collect()\n",
        "        funcs = [a for a in gc.get_objects() if isinstance(a, _lru_cache_wrapper)]\n",
        "\n",
        "        for func in funcs:\n",
        "            func.cache_clear()"
      ]
    }
  ],
  "metadata": {
    "kernelspec": {
      "display_name": "sax",
      "language": "python",
      "name": "sax"
    },
    "language_info": {
      "codemirror_mode": {
        "name": "ipython",
        "version": 3
      },
      "file_extension": ".py",
      "mimetype": "text/x-python",
      "name": "python",
      "nbconvert_exporter": "python",
      "pygments_lexer": "ipython3",
      "version": "3.9.0"
    },
    "papermill": {
      "default_parameters": {},
      "duration": 1.32297,
      "end_time": "2022-08-16T04:18:28.176641",
      "environment_variables": {},
      "exception": null,
      "input_path": "./nbs/03_caching.ipynb",
      "output_path": "./nbs/03_caching.ipynb",
      "parameters": {},
      "start_time": "2022-08-16T04:18:26.853671",
      "version": "2.3.4"
    }
  },
  "nbformat": 4,
  "nbformat_minor": 5
}
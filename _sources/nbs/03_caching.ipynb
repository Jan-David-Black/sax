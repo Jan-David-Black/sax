{
  "cells": [
    {
      "cell_type": "code",
      "execution_count": 1,
      "id": "3ef3267e7cc4d432",
      "metadata": {
        "execution": {
          "iopub.execute_input": "2022-08-10T14:57:38.666274Z",
          "iopub.status.busy": "2022-08-10T14:57:38.665855Z",
          "iopub.status.idle": "2022-08-10T14:57:38.669689Z",
          "shell.execute_reply": "2022-08-10T14:57:38.669281Z"
        },
        "papermill": {
          "duration": 0.012418,
          "end_time": "2022-08-10T14:57:38.669799",
          "exception": false,
          "start_time": "2022-08-10T14:57:38.657381",
          "status": "completed"
        },
        "tags": [
          "remove-cell"
        ]
      },
      "outputs": [],
      "source": []
    },
    {
      "cell_type": "markdown",
      "id": "faeaa526",
      "metadata": {
        "papermill": {
          "duration": 0.003995,
          "end_time": "2022-08-10T14:57:38.678346",
          "exception": false,
          "start_time": "2022-08-10T14:57:38.674351",
          "status": "completed"
        },
        "tags": []
      },
      "source": [
        "# Caching\n",
        "\n",
        "> SAX Caching"
      ]
    },
    {
      "cell_type": "code",
      "execution_count": 2,
      "id": "8e263cc58d9989a1",
      "metadata": {
        "execution": {
          "iopub.execute_input": "2022-08-10T14:57:38.693163Z",
          "iopub.status.busy": "2022-08-10T14:57:38.692754Z",
          "iopub.status.idle": "2022-08-10T14:57:38.694192Z",
          "shell.execute_reply": "2022-08-10T14:57:38.693857Z"
        },
        "papermill": {
          "duration": 0.011992,
          "end_time": "2022-08-10T14:57:38.694276",
          "exception": false,
          "start_time": "2022-08-10T14:57:38.682284",
          "status": "completed"
        },
        "tags": [
          "remove-cell"
        ]
      },
      "outputs": [],
      "source": [
        "import os, sys; sys.stderr = open(os.devnull, \"w\")"
      ]
    },
    {
      "cell_type": "code",
      "execution_count": 3,
      "id": "6d9479e49f702711",
      "metadata": {
        "execution": {
          "iopub.execute_input": "2022-08-10T14:57:38.705423Z",
          "iopub.status.busy": "2022-08-10T14:57:38.705013Z",
          "iopub.status.idle": "2022-08-10T14:57:38.706140Z",
          "shell.execute_reply": "2022-08-10T14:57:38.706464Z"
        },
        "papermill": {
          "duration": 0.008179,
          "end_time": "2022-08-10T14:57:38.706563",
          "exception": false,
          "start_time": "2022-08-10T14:57:38.698384",
          "status": "completed"
        },
        "tags": [
          "hide-input"
        ]
      },
      "outputs": [],
      "source": [
        "from __future__ import annotations\n",
        "\n",
        "import gc\n",
        "from functools import _lru_cache_wrapper, lru_cache, partial, wraps\n",
        "from typing import Callable, Optional"
      ]
    },
    {
      "cell_type": "code",
      "execution_count": 4,
      "id": "84a03dfa431cbe29",
      "metadata": {
        "execution": {
          "iopub.execute_input": "2022-08-10T14:57:38.716590Z",
          "iopub.status.busy": "2022-08-10T14:57:38.716172Z",
          "iopub.status.idle": "2022-08-10T14:57:38.719190Z",
          "shell.execute_reply": "2022-08-10T14:57:38.718847Z"
        },
        "papermill": {
          "duration": 0.00851,
          "end_time": "2022-08-10T14:57:38.719272",
          "exception": false,
          "start_time": "2022-08-10T14:57:38.710762",
          "status": "completed"
        },
        "tags": [
          "remove-cell"
        ]
      },
      "outputs": [],
      "source": [
        "\n",
        "_cached_functions = []"
      ]
    },
    {
      "cell_type": "markdown",
      "id": "42f5829a4a998ef5",
      "metadata": {},
      "source": [
        ":::{eval-rst}\n",
        ".. autofunction:: sax.caching.cache\n",
        ":::\n"
      ]
    },
    {
      "cell_type": "code",
      "execution_count": 5,
      "id": "f6efa34fb1b9f1e7",
      "metadata": {
        "execution": {
          "iopub.execute_input": "2022-08-10T14:57:38.732011Z",
          "iopub.status.busy": "2022-08-10T14:57:38.731597Z",
          "iopub.status.idle": "2022-08-10T14:57:38.733148Z",
          "shell.execute_reply": "2022-08-10T14:57:38.732820Z"
        },
        "papermill": {
          "duration": 0.009661,
          "end_time": "2022-08-10T14:57:38.733229",
          "exception": false,
          "start_time": "2022-08-10T14:57:38.723568",
          "status": "completed"
        },
        "tags": [
          "hide-input"
        ]
      },
      "outputs": [],
      "source": [
        "\n",
        "def cache(func: Optional[Callable] = None, *, maxsize: Optional[int] = None) -> Callable:\n",
        "    \"\"\"cache a function\"\"\"\n",
        "    if func is None:\n",
        "        return partial(cache, maxsize=maxsize)\n",
        "\n",
        "    cached_func = lru_cache(maxsize=maxsize)(func)\n",
        "\n",
        "    @wraps(func)\n",
        "    def new_func(*args, **kwargs):\n",
        "        return cached_func(*args, **kwargs)\n",
        "\n",
        "    new_func.cache_clear = cached_func.cache_clear\n",
        "\n",
        "    _cached_functions.append(new_func)\n",
        "\n",
        "    return new_func"
      ]
    },
    {
      "cell_type": "markdown",
      "id": "387d1cd173be1397",
      "metadata": {},
      "source": [
        ":::{eval-rst}\n",
        ".. autofunction:: sax.caching.cache_clear\n",
        ":::\n"
      ]
    },
    {
      "cell_type": "code",
      "execution_count": 6,
      "id": "c61d3ea133978c0c",
      "metadata": {
        "execution": {
          "iopub.execute_input": "2022-08-10T14:57:38.745557Z",
          "iopub.status.busy": "2022-08-10T14:57:38.745139Z",
          "iopub.status.idle": "2022-08-10T14:57:38.746855Z",
          "shell.execute_reply": "2022-08-10T14:57:38.746505Z"
        },
        "papermill": {
          "duration": 0.009348,
          "end_time": "2022-08-10T14:57:38.746939",
          "exception": false,
          "start_time": "2022-08-10T14:57:38.737591",
          "status": "completed"
        },
        "tags": [
          "hide-input"
        ]
      },
      "outputs": [],
      "source": [
        "def cache_clear(*, force: bool=False):\n",
        "    \"\"\"clear all function caches\"\"\"\n",
        "    if not force:\n",
        "        for func in _cached_functions:\n",
        "            func.cache_clear()\n",
        "    else:\n",
        "        gc.collect()\n",
        "        funcs = [a for a in gc.get_objects() if isinstance(a, _lru_cache_wrapper)]\n",
        "\n",
        "        for func in funcs:\n",
        "            func.cache_clear()"
      ]
    }
  ],
  "metadata": {
    "kernelspec": {
      "display_name": "sax-np",
      "language": "python",
      "name": "sax-np"
    },
    "language_info": {
      "codemirror_mode": {
        "name": "ipython",
        "version": 3
      },
      "file_extension": ".py",
      "mimetype": "text/x-python",
      "name": "python",
      "nbconvert_exporter": "python",
      "pygments_lexer": "ipython3",
      "version": "3.9.0"
    },
    "papermill": {
      "default_parameters": {},
      "duration": 1.312324,
      "end_time": "2022-08-10T14:57:38.855316",
      "environment_variables": {},
      "exception": null,
      "input_path": "./nbs/03_caching.ipynb",
      "output_path": "./nbs/03_caching.ipynb",
      "parameters": {},
      "start_time": "2022-08-10T14:57:37.542992",
      "version": "2.3.4"
    }
  },
  "nbformat": 4,
  "nbformat_minor": 5
}
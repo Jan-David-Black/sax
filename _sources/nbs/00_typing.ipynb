{
  "cells": [
    {
      "cell_type": "code",
      "execution_count": 1,
      "id": "7959d3a4c33aa127",
      "metadata": {
        "execution": {
          "iopub.execute_input": "2022-08-17T03:20:50.114037Z",
          "iopub.status.busy": "2022-08-17T03:20:50.113584Z",
          "iopub.status.idle": "2022-08-17T03:20:50.115977Z",
          "shell.execute_reply": "2022-08-17T03:20:50.115570Z"
        },
        "papermill": {
          "duration": 0.053457,
          "end_time": "2022-08-17T03:20:50.116082",
          "exception": false,
          "start_time": "2022-08-17T03:20:50.062625",
          "status": "completed"
        },
        "tags": [
          "remove-cell"
        ]
      },
      "outputs": [],
      "source": []
    },
    {
      "cell_type": "markdown",
      "id": "13a3464b",
      "metadata": {
        "papermill": {
          "duration": 0.044273,
          "end_time": "2022-08-17T03:20:50.205258",
          "exception": false,
          "start_time": "2022-08-17T03:20:50.160985",
          "status": "completed"
        },
        "tags": []
      },
      "source": [
        "# Typing\n",
        "\n",
        "> SAX types"
      ]
    },
    {
      "cell_type": "code",
      "execution_count": 2,
      "id": "ab39ee1967057c18",
      "metadata": {
        "execution": {
          "iopub.execute_input": "2022-08-17T03:20:50.301166Z",
          "iopub.status.busy": "2022-08-17T03:20:50.300747Z",
          "iopub.status.idle": "2022-08-17T03:20:50.984336Z",
          "shell.execute_reply": "2022-08-17T03:20:50.983947Z"
        },
        "papermill": {
          "duration": 0.735256,
          "end_time": "2022-08-17T03:20:50.984448",
          "exception": false,
          "start_time": "2022-08-17T03:20:50.249192",
          "status": "completed"
        },
        "tags": [
          "remove-cell"
        ]
      },
      "outputs": [],
      "source": [
        "import matplotlib.pyplot as plt\n",
        "from fastcore.test import test_eq\n",
        "from pytest import approx, raises\n",
        "\n",
        "import os, sys; sys.stderr = open(os.devnull, \"w\")"
      ]
    },
    {
      "cell_type": "code",
      "execution_count": 3,
      "id": "f03843b4b380022c",
      "metadata": {
        "execution": {
          "iopub.execute_input": "2022-08-17T03:20:51.079011Z",
          "iopub.status.busy": "2022-08-17T03:20:51.078593Z",
          "iopub.status.idle": "2022-08-17T03:20:51.613956Z",
          "shell.execute_reply": "2022-08-17T03:20:51.614290Z"
        },
        "papermill": {
          "duration": 0.585007,
          "end_time": "2022-08-17T03:20:51.614428",
          "exception": false,
          "start_time": "2022-08-17T03:20:51.029421",
          "status": "completed"
        },
        "tags": [
          "hide-input"
        ]
      },
      "outputs": [],
      "source": [
        "from __future__ import annotations\n",
        "import functools\n",
        "import inspect\n",
        "from collections.abc import Callable as CallableABC\n",
        "from typing import Any, Callable, Dict, Tuple, Union, cast, overload\n",
        "try:\n",
        "    from typing import TypedDict\n",
        "except ImportError: # python<3.8\n",
        "    from typing_extensions import TypedDict\n",
        "\n",
        "import numpy as np\n",
        "from natsort import natsorted\n",
        "\n",
        "try:\n",
        "    import jax.numpy as jnp\n",
        "    JAX_AVAILABLE = True\n",
        "except ImportError:\n",
        "    import numpy as jnp\n",
        "    JAX_AVAILABLE = False"
      ]
    },
    {
      "cell_type": "markdown",
      "id": "41e26ab2",
      "metadata": {
        "papermill": {
          "duration": 0.071705,
          "end_time": "2022-08-17T03:20:51.731052",
          "exception": false,
          "start_time": "2022-08-17T03:20:51.659347",
          "status": "completed"
        },
        "tags": []
      },
      "source": [
        "## Core Types"
      ]
    },
    {
      "cell_type": "markdown",
      "id": "ca29df5c",
      "metadata": {
        "papermill": {
          "duration": 0.044492,
          "end_time": "2022-08-17T03:20:51.819830",
          "exception": false,
          "start_time": "2022-08-17T03:20:51.775338",
          "status": "completed"
        },
        "tags": []
      },
      "source": [
        "### Array"
      ]
    },
    {
      "cell_type": "markdown",
      "id": "82c3c344",
      "metadata": {
        "papermill": {
          "duration": 0.044513,
          "end_time": "2022-08-17T03:20:51.908925",
          "exception": false,
          "start_time": "2022-08-17T03:20:51.864412",
          "status": "completed"
        },
        "tags": []
      },
      "source": [
        "an `Array` is either a jax array or a numpy array:"
      ]
    },
    {
      "cell_type": "code",
      "execution_count": 4,
      "id": "26f12429fdd456d7",
      "metadata": {
        "execution": {
          "iopub.execute_input": "2022-08-17T03:20:52.001818Z",
          "iopub.status.busy": "2022-08-17T03:20:52.001340Z",
          "iopub.status.idle": "2022-08-17T03:20:52.002342Z",
          "shell.execute_reply": "2022-08-17T03:20:52.002714Z"
        },
        "papermill": {
          "duration": 0.049235,
          "end_time": "2022-08-17T03:20:52.002828",
          "exception": false,
          "start_time": "2022-08-17T03:20:51.953593",
          "status": "completed"
        },
        "tags": []
      },
      "outputs": [],
      "source": [
        "Array = Union[jnp.ndarray, np.ndarray]"
      ]
    },
    {
      "cell_type": "markdown",
      "id": "6b86fa37",
      "metadata": {
        "papermill": {
          "duration": 0.044559,
          "end_time": "2022-08-17T03:20:52.091802",
          "exception": false,
          "start_time": "2022-08-17T03:20:52.047243",
          "status": "completed"
        },
        "tags": []
      },
      "source": [
        "### Int"
      ]
    },
    {
      "cell_type": "markdown",
      "id": "9fa467c9",
      "metadata": {
        "papermill": {
          "duration": 0.044422,
          "end_time": "2022-08-17T03:20:52.180685",
          "exception": false,
          "start_time": "2022-08-17T03:20:52.136263",
          "status": "completed"
        },
        "tags": []
      },
      "source": [
        "An `Int` is either a built-in `int` or an `Array` [of dtype `int`]"
      ]
    },
    {
      "cell_type": "code",
      "execution_count": 5,
      "id": "ac939daedeede964",
      "metadata": {
        "execution": {
          "iopub.execute_input": "2022-08-17T03:20:52.272998Z",
          "iopub.status.busy": "2022-08-17T03:20:52.272581Z",
          "iopub.status.idle": "2022-08-17T03:20:52.273722Z",
          "shell.execute_reply": "2022-08-17T03:20:52.274048Z"
        },
        "papermill": {
          "duration": 0.049032,
          "end_time": "2022-08-17T03:20:52.274164",
          "exception": false,
          "start_time": "2022-08-17T03:20:52.225132",
          "status": "completed"
        },
        "tags": []
      },
      "outputs": [],
      "source": [
        "Int = Union[int, Array]"
      ]
    },
    {
      "cell_type": "markdown",
      "id": "c486cd2c",
      "metadata": {
        "papermill": {
          "duration": 0.044393,
          "end_time": "2022-08-17T03:20:52.363751",
          "exception": false,
          "start_time": "2022-08-17T03:20:52.319358",
          "status": "completed"
        },
        "tags": []
      },
      "source": [
        "### Float"
      ]
    },
    {
      "cell_type": "markdown",
      "id": "3b59bba6",
      "metadata": {
        "papermill": {
          "duration": 0.044437,
          "end_time": "2022-08-17T03:20:52.452678",
          "exception": false,
          "start_time": "2022-08-17T03:20:52.408241",
          "status": "completed"
        },
        "tags": []
      },
      "source": [
        "A `Float` is eiter a built-in `float` or an `Array` [of dtype `float`]"
      ]
    },
    {
      "cell_type": "code",
      "execution_count": 6,
      "id": "0dfa8d0dc45b2101",
      "metadata": {
        "execution": {
          "iopub.execute_input": "2022-08-17T03:20:52.544822Z",
          "iopub.status.busy": "2022-08-17T03:20:52.544403Z",
          "iopub.status.idle": "2022-08-17T03:20:52.545444Z",
          "shell.execute_reply": "2022-08-17T03:20:52.545803Z"
        },
        "papermill": {
          "duration": 0.048828,
          "end_time": "2022-08-17T03:20:52.545917",
          "exception": false,
          "start_time": "2022-08-17T03:20:52.497089",
          "status": "completed"
        },
        "tags": []
      },
      "outputs": [],
      "source": [
        "Float = Union[float, Array]"
      ]
    },
    {
      "cell_type": "markdown",
      "id": "bdfd6200",
      "metadata": {
        "papermill": {
          "duration": 0.04446,
          "end_time": "2022-08-17T03:20:52.635182",
          "exception": false,
          "start_time": "2022-08-17T03:20:52.590722",
          "status": "completed"
        },
        "tags": []
      },
      "source": [
        "### ComplexFloat"
      ]
    },
    {
      "cell_type": "markdown",
      "id": "b1a7d255",
      "metadata": {
        "papermill": {
          "duration": 0.044783,
          "end_time": "2022-08-17T03:20:52.724997",
          "exception": false,
          "start_time": "2022-08-17T03:20:52.680214",
          "status": "completed"
        },
        "tags": []
      },
      "source": [
        "A `ComplexFloat` is either a build-in `complex` or an Array [of dtype `complex`]:"
      ]
    },
    {
      "cell_type": "code",
      "execution_count": 7,
      "id": "47fb73c9b099f174",
      "metadata": {
        "execution": {
          "iopub.execute_input": "2022-08-17T03:20:52.817822Z",
          "iopub.status.busy": "2022-08-17T03:20:52.817346Z",
          "iopub.status.idle": "2022-08-17T03:20:52.818455Z",
          "shell.execute_reply": "2022-08-17T03:20:52.818791Z"
        },
        "papermill": {
          "duration": 0.049304,
          "end_time": "2022-08-17T03:20:52.818908",
          "exception": false,
          "start_time": "2022-08-17T03:20:52.769604",
          "status": "completed"
        },
        "tags": []
      },
      "outputs": [],
      "source": [
        "ComplexFloat = Union[complex, Float]"
      ]
    },
    {
      "cell_type": "markdown",
      "id": "1f1aa099",
      "metadata": {
        "papermill": {
          "duration": 0.044757,
          "end_time": "2022-08-17T03:20:52.908333",
          "exception": false,
          "start_time": "2022-08-17T03:20:52.863576",
          "status": "completed"
        },
        "tags": []
      },
      "source": [
        "### Settings"
      ]
    },
    {
      "cell_type": "markdown",
      "id": "69839acd",
      "metadata": {
        "papermill": {
          "duration": 0.044766,
          "end_time": "2022-08-17T03:20:52.998202",
          "exception": false,
          "start_time": "2022-08-17T03:20:52.953436",
          "status": "completed"
        },
        "tags": []
      },
      "source": [
        "A `Settings` dictionary is a nested mapping between setting names [`str`] to either `ComplexFloat` values OR to another lower level `Settings` dictionary."
      ]
    },
    {
      "cell_type": "code",
      "execution_count": 8,
      "id": "effdf64184b188d5",
      "metadata": {
        "execution": {
          "iopub.execute_input": "2022-08-17T03:20:53.091463Z",
          "iopub.status.busy": "2022-08-17T03:20:53.091037Z",
          "iopub.status.idle": "2022-08-17T03:20:53.092623Z",
          "shell.execute_reply": "2022-08-17T03:20:53.092273Z"
        },
        "papermill": {
          "duration": 0.049636,
          "end_time": "2022-08-17T03:20:53.092716",
          "exception": false,
          "start_time": "2022-08-17T03:20:53.043080",
          "status": "completed"
        },
        "tags": []
      },
      "outputs": [],
      "source": [
        "Settings = Union[Dict[str, ComplexFloat], Dict[str, \"Settings\"]]"
      ]
    },
    {
      "cell_type": "markdown",
      "id": "cf202d06",
      "metadata": {
        "papermill": {
          "duration": 0.044683,
          "end_time": "2022-08-17T03:20:53.182218",
          "exception": false,
          "start_time": "2022-08-17T03:20:53.137535",
          "status": "completed"
        },
        "tags": []
      },
      "source": [
        "Settings dictionaries are used to parametrize a SAX `Model` or a `circuit`. The settings dictionary should have the same hierarchy levels as the circuit:\n",
        " \n",
        " > Example:"
      ]
    },
    {
      "cell_type": "code",
      "execution_count": 9,
      "id": "2b26c4ab",
      "metadata": {
        "execution": {
          "iopub.execute_input": "2022-08-17T03:20:53.276039Z",
          "iopub.status.busy": "2022-08-17T03:20:53.275597Z",
          "iopub.status.idle": "2022-08-17T03:20:53.276729Z",
          "shell.execute_reply": "2022-08-17T03:20:53.277053Z"
        },
        "papermill": {
          "duration": 0.05019,
          "end_time": "2022-08-17T03:20:53.277168",
          "exception": false,
          "start_time": "2022-08-17T03:20:53.226978",
          "status": "completed"
        },
        "tags": []
      },
      "outputs": [],
      "source": [
        "mzi_settings = {\n",
        "    \"wl\": 1.5,  # global settings\n",
        "    \"lft\": {\"coupling\": 0.5},  # settings for the left coupler\n",
        "    \"top\": {\"neff\": 3.4},  # settings for the top waveguide\n",
        "    \"rgt\": {\"coupling\": 0.3},  # settings for the right coupler\n",
        "}"
      ]
    },
    {
      "cell_type": "markdown",
      "id": "45043912",
      "metadata": {
        "papermill": {
          "duration": 0.044647,
          "end_time": "2022-08-17T03:20:53.367074",
          "exception": false,
          "start_time": "2022-08-17T03:20:53.322427",
          "status": "completed"
        },
        "tags": []
      },
      "source": [
        "### SDict"
      ]
    },
    {
      "cell_type": "markdown",
      "id": "c5a7facf",
      "metadata": {
        "papermill": {
          "duration": 0.044867,
          "end_time": "2022-08-17T03:20:53.456962",
          "exception": false,
          "start_time": "2022-08-17T03:20:53.412095",
          "status": "completed"
        },
        "tags": []
      },
      "source": [
        "An `SDict` is a sparse dictionary based representation of an S-matrix, mapping port name tuples such as `('in0', 'out0')` to `ComplexFloat`."
      ]
    },
    {
      "cell_type": "code",
      "execution_count": 10,
      "id": "3cb22c2422d3c293",
      "metadata": {
        "execution": {
          "iopub.execute_input": "2022-08-17T03:20:53.550696Z",
          "iopub.status.busy": "2022-08-17T03:20:53.550275Z",
          "iopub.status.idle": "2022-08-17T03:20:53.551623Z",
          "shell.execute_reply": "2022-08-17T03:20:53.551922Z"
        },
        "papermill": {
          "duration": 0.050107,
          "end_time": "2022-08-17T03:20:53.552037",
          "exception": false,
          "start_time": "2022-08-17T03:20:53.501930",
          "status": "completed"
        },
        "tags": []
      },
      "outputs": [],
      "source": [
        "SDict = Dict[Tuple[str, str], ComplexFloat]"
      ]
    },
    {
      "cell_type": "markdown",
      "id": "07dc470a",
      "metadata": {
        "papermill": {
          "duration": 0.045356,
          "end_time": "2022-08-17T03:20:53.642157",
          "exception": false,
          "start_time": "2022-08-17T03:20:53.596801",
          "status": "completed"
        },
        "tags": []
      },
      "source": [
        "> Example:"
      ]
    },
    {
      "cell_type": "code",
      "execution_count": 11,
      "id": "ad65a70c",
      "metadata": {
        "execution": {
          "iopub.execute_input": "2022-08-17T03:20:53.736246Z",
          "iopub.status.busy": "2022-08-17T03:20:53.735820Z",
          "iopub.status.idle": "2022-08-17T03:20:53.738278Z",
          "shell.execute_reply": "2022-08-17T03:20:53.738597Z"
        },
        "papermill": {
          "duration": 0.051344,
          "end_time": "2022-08-17T03:20:53.738725",
          "exception": false,
          "start_time": "2022-08-17T03:20:53.687381",
          "status": "completed"
        },
        "tags": []
      },
      "outputs": [],
      "source": [
        "_sdict: SDict = {\n",
        "    (\"in0\", \"out0\"): 3.0,\n",
        "}"
      ]
    },
    {
      "cell_type": "markdown",
      "id": "0e2c7430",
      "metadata": {
        "papermill": {
          "duration": 0.044814,
          "end_time": "2022-08-17T03:20:53.828595",
          "exception": false,
          "start_time": "2022-08-17T03:20:53.783781",
          "status": "completed"
        },
        "tags": []
      },
      "source": [
        "### SCoo"
      ]
    },
    {
      "cell_type": "markdown",
      "id": "ef614e1d",
      "metadata": {
        "papermill": {
          "duration": 0.044739,
          "end_time": "2022-08-17T03:20:53.918627",
          "exception": false,
          "start_time": "2022-08-17T03:20:53.873888",
          "status": "completed"
        },
        "tags": []
      },
      "source": [
        "An `SCoo` is a sparse matrix based representation of an S-matrix consisting of three arrays and a port map. The three arrays represent the input port indices [`int`], output port indices [`int`] and the S-matrix values [`ComplexFloat`] of the sparse matrix. The port map maps a port name [`str`] to a port index [`int`]. Only these four arrays **together** and in this specific **order** are considered a valid `SCoo` representation!"
      ]
    },
    {
      "cell_type": "code",
      "execution_count": 12,
      "id": "23913661d3f8b240",
      "metadata": {
        "execution": {
          "iopub.execute_input": "2022-08-17T03:20:54.012435Z",
          "iopub.status.busy": "2022-08-17T03:20:54.011999Z",
          "iopub.status.idle": "2022-08-17T03:20:54.012956Z",
          "shell.execute_reply": "2022-08-17T03:20:54.013339Z"
        },
        "papermill": {
          "duration": 0.049723,
          "end_time": "2022-08-17T03:20:54.013457",
          "exception": false,
          "start_time": "2022-08-17T03:20:53.963734",
          "status": "completed"
        },
        "tags": []
      },
      "outputs": [],
      "source": [
        "SCoo = Tuple[Array, Array, ComplexFloat, Dict[str, int]]"
      ]
    },
    {
      "cell_type": "markdown",
      "id": "ff9719c8",
      "metadata": {
        "papermill": {
          "duration": 0.045195,
          "end_time": "2022-08-17T03:20:54.103726",
          "exception": false,
          "start_time": "2022-08-17T03:20:54.058531",
          "status": "completed"
        },
        "tags": []
      },
      "source": [
        "> Example:"
      ]
    },
    {
      "cell_type": "code",
      "execution_count": 13,
      "id": "972f8060",
      "metadata": {
        "execution": {
          "iopub.execute_input": "2022-08-17T03:20:54.199120Z",
          "iopub.status.busy": "2022-08-17T03:20:54.198701Z",
          "iopub.status.idle": "2022-08-17T03:20:54.223365Z",
          "shell.execute_reply": "2022-08-17T03:20:54.222633Z"
        },
        "papermill": {
          "duration": 0.074264,
          "end_time": "2022-08-17T03:20:54.223482",
          "exception": false,
          "start_time": "2022-08-17T03:20:54.149218",
          "status": "completed"
        },
        "tags": []
      },
      "outputs": [],
      "source": [
        "Si = jnp.arange(3, dtype=int)\n",
        "Sj = jnp.array([0, 1, 0], dtype=int)\n",
        "Sx = jnp.array([3.0, 4.0, 1.0])\n",
        "port_map = {\"in0\": 0, \"in1\": 2, \"out0\": 1}\n",
        "_scoo: SCoo = (Si, Sj, Sx, port_map)"
      ]
    },
    {
      "cell_type": "markdown",
      "id": "2cba9246",
      "metadata": {
        "papermill": {
          "duration": 0.044917,
          "end_time": "2022-08-17T03:20:54.313492",
          "exception": false,
          "start_time": "2022-08-17T03:20:54.268575",
          "status": "completed"
        },
        "tags": []
      },
      "source": [
        "### SDense"
      ]
    },
    {
      "cell_type": "markdown",
      "id": "fd28795b",
      "metadata": {
        "papermill": {
          "duration": 0.044921,
          "end_time": "2022-08-17T03:20:54.403853",
          "exception": false,
          "start_time": "2022-08-17T03:20:54.358932",
          "status": "completed"
        },
        "tags": []
      },
      "source": [
        "an `SDense` is a dense matrix representation of an S-matrix. It's represented by an NxN `ComplexFloat` array and a port map (mapping port names onto port indices)."
      ]
    },
    {
      "cell_type": "code",
      "execution_count": 14,
      "id": "90bd194dc3ddf910",
      "metadata": {
        "execution": {
          "iopub.execute_input": "2022-08-17T03:20:54.497290Z",
          "iopub.status.busy": "2022-08-17T03:20:54.496824Z",
          "iopub.status.idle": "2022-08-17T03:20:54.498137Z",
          "shell.execute_reply": "2022-08-17T03:20:54.498462Z"
        },
        "papermill": {
          "duration": 0.050033,
          "end_time": "2022-08-17T03:20:54.498581",
          "exception": false,
          "start_time": "2022-08-17T03:20:54.448548",
          "status": "completed"
        },
        "tags": []
      },
      "outputs": [],
      "source": [
        "SDense = Tuple[Array, Dict[str, int]]"
      ]
    },
    {
      "cell_type": "markdown",
      "id": "2c4789f7",
      "metadata": {
        "papermill": {
          "duration": 0.045109,
          "end_time": "2022-08-17T03:20:54.588866",
          "exception": false,
          "start_time": "2022-08-17T03:20:54.543757",
          "status": "completed"
        },
        "tags": []
      },
      "source": [
        "> Example:"
      ]
    },
    {
      "cell_type": "code",
      "execution_count": 15,
      "id": "02def7ed",
      "metadata": {
        "execution": {
          "iopub.execute_input": "2022-08-17T03:20:54.686169Z",
          "iopub.status.busy": "2022-08-17T03:20:54.682060Z",
          "iopub.status.idle": "2022-08-17T03:20:54.708652Z",
          "shell.execute_reply": "2022-08-17T03:20:54.708291Z"
        },
        "papermill": {
          "duration": 0.074669,
          "end_time": "2022-08-17T03:20:54.708758",
          "exception": false,
          "start_time": "2022-08-17T03:20:54.634089",
          "status": "completed"
        },
        "tags": []
      },
      "outputs": [],
      "source": [
        "Sd = jnp.arange(9, dtype=float).reshape(3, 3)\n",
        "port_map = {\"in0\": 0, \"in1\": 2, \"out0\": 1}\n",
        "_sdense = Sd, port_map"
      ]
    },
    {
      "cell_type": "markdown",
      "id": "b0d2e36f",
      "metadata": {
        "papermill": {
          "duration": 0.045613,
          "end_time": "2022-08-17T03:20:54.801026",
          "exception": false,
          "start_time": "2022-08-17T03:20:54.755413",
          "status": "completed"
        },
        "tags": []
      },
      "source": [
        "### SType"
      ]
    },
    {
      "cell_type": "markdown",
      "id": "b441f21d",
      "metadata": {
        "papermill": {
          "duration": 0.045282,
          "end_time": "2022-08-17T03:20:54.891915",
          "exception": false,
          "start_time": "2022-08-17T03:20:54.846633",
          "status": "completed"
        },
        "tags": []
      },
      "source": [
        "an `SType` is either an `SDict` **OR** an `SCoo` **OR** an `SDense`:"
      ]
    },
    {
      "cell_type": "code",
      "execution_count": 16,
      "id": "21b8026e1b63fb17",
      "metadata": {
        "execution": {
          "iopub.execute_input": "2022-08-17T03:20:54.986784Z",
          "iopub.status.busy": "2022-08-17T03:20:54.986358Z",
          "iopub.status.idle": "2022-08-17T03:20:54.989014Z",
          "shell.execute_reply": "2022-08-17T03:20:54.988652Z"
        },
        "papermill": {
          "duration": 0.051289,
          "end_time": "2022-08-17T03:20:54.989117",
          "exception": false,
          "start_time": "2022-08-17T03:20:54.937828",
          "status": "completed"
        },
        "tags": []
      },
      "outputs": [],
      "source": [
        "SType = Union[SDict, SCoo, SDense]"
      ]
    },
    {
      "cell_type": "markdown",
      "id": "e0561b07",
      "metadata": {
        "papermill": {
          "duration": 0.045228,
          "end_time": "2022-08-17T03:20:55.079726",
          "exception": false,
          "start_time": "2022-08-17T03:20:55.034498",
          "status": "completed"
        },
        "tags": []
      },
      "source": [
        "> Example:"
      ]
    },
    {
      "cell_type": "code",
      "execution_count": 17,
      "id": "5b52a5f2",
      "metadata": {
        "execution": {
          "iopub.execute_input": "2022-08-17T03:20:55.174157Z",
          "iopub.status.busy": "2022-08-17T03:20:55.173725Z",
          "iopub.status.idle": "2022-08-17T03:20:55.174771Z",
          "shell.execute_reply": "2022-08-17T03:20:55.175115Z"
        },
        "papermill": {
          "duration": 0.04988,
          "end_time": "2022-08-17T03:20:55.175232",
          "exception": false,
          "start_time": "2022-08-17T03:20:55.125352",
          "status": "completed"
        },
        "tags": []
      },
      "outputs": [],
      "source": [
        "obj: SType = _sdict\n",
        "obj: SType = _scoo\n",
        "obj: SType = _sdense"
      ]
    },
    {
      "cell_type": "markdown",
      "id": "afabe91b",
      "metadata": {
        "papermill": {
          "duration": 0.045381,
          "end_time": "2022-08-17T03:20:55.266227",
          "exception": false,
          "start_time": "2022-08-17T03:20:55.220846",
          "status": "completed"
        },
        "tags": []
      },
      "source": [
        "### Model"
      ]
    },
    {
      "cell_type": "markdown",
      "id": "13808fb1",
      "metadata": {
        "papermill": {
          "duration": 0.045763,
          "end_time": "2022-08-17T03:20:55.357814",
          "exception": false,
          "start_time": "2022-08-17T03:20:55.312051",
          "status": "completed"
        },
        "tags": []
      },
      "source": [
        "A `Model` is any keyword-only function that returns an `SType`:"
      ]
    },
    {
      "cell_type": "code",
      "execution_count": 18,
      "id": "51a5be68fd56a909",
      "metadata": {
        "execution": {
          "iopub.execute_input": "2022-08-17T03:20:55.452564Z",
          "iopub.status.busy": "2022-08-17T03:20:55.452145Z",
          "iopub.status.idle": "2022-08-17T03:20:55.453859Z",
          "shell.execute_reply": "2022-08-17T03:20:55.453512Z"
        },
        "papermill": {
          "duration": 0.050378,
          "end_time": "2022-08-17T03:20:55.453952",
          "exception": false,
          "start_time": "2022-08-17T03:20:55.403574",
          "status": "completed"
        },
        "tags": []
      },
      "outputs": [],
      "source": [
        "Model = Callable[..., SType]"
      ]
    },
    {
      "cell_type": "markdown",
      "id": "fad534fb",
      "metadata": {
        "papermill": {
          "duration": 0.045409,
          "end_time": "2022-08-17T03:20:55.544905",
          "exception": false,
          "start_time": "2022-08-17T03:20:55.499496",
          "status": "completed"
        },
        "tags": []
      },
      "source": [
        "### ModelFactory"
      ]
    },
    {
      "cell_type": "markdown",
      "id": "85781647",
      "metadata": {
        "papermill": {
          "duration": 0.045464,
          "end_time": "2022-08-17T03:20:55.635943",
          "exception": false,
          "start_time": "2022-08-17T03:20:55.590479",
          "status": "completed"
        },
        "tags": []
      },
      "source": [
        "A `ModelFactory` is any keyword-only function that returns a `Model`:"
      ]
    },
    {
      "cell_type": "code",
      "execution_count": 19,
      "id": "040575223490fbfc",
      "metadata": {
        "execution": {
          "iopub.execute_input": "2022-08-17T03:20:55.730425Z",
          "iopub.status.busy": "2022-08-17T03:20:55.730006Z",
          "iopub.status.idle": "2022-08-17T03:20:55.731560Z",
          "shell.execute_reply": "2022-08-17T03:20:55.731210Z"
        },
        "papermill": {
          "duration": 0.050299,
          "end_time": "2022-08-17T03:20:55.731653",
          "exception": false,
          "start_time": "2022-08-17T03:20:55.681354",
          "status": "completed"
        },
        "tags": []
      },
      "outputs": [],
      "source": [
        "ModelFactory = Callable[..., Model]"
      ]
    },
    {
      "cell_type": "markdown",
      "id": "353d8506",
      "metadata": {
        "papermill": {
          "duration": 0.045309,
          "end_time": "2022-08-17T03:20:55.822463",
          "exception": false,
          "start_time": "2022-08-17T03:20:55.777154",
          "status": "completed"
        },
        "tags": []
      },
      "source": [
        "> Note: SAX sometimes needs to figure out the difference between a `ModelFactory` and a normal `Model` *before* running the function. To do this, SAX will check the return annotation of the function. Any function with a `-> Model` or `-> Callable` annotation will be considered a `ModelFactory`. Any function without this annotation will be considered a normal Model: **don't forget the return annotation of your Model Factory!** To ensure a correct annotation and to ensure forward compatibility, it's recommended to decorate your `ModelFactory` with the `modelfactory` decorator."
      ]
    },
    {
      "cell_type": "markdown",
      "id": "e42d3f17",
      "metadata": {
        "papermill": {
          "duration": 0.045516,
          "end_time": "2022-08-17T03:20:55.913593",
          "exception": false,
          "start_time": "2022-08-17T03:20:55.868077",
          "status": "completed"
        },
        "tags": []
      },
      "source": [
        "### GeneralModel"
      ]
    },
    {
      "cell_type": "markdown",
      "id": "0c4356fc",
      "metadata": {
        "papermill": {
          "duration": 0.045573,
          "end_time": "2022-08-17T03:20:56.004771",
          "exception": false,
          "start_time": "2022-08-17T03:20:55.959198",
          "status": "completed"
        },
        "tags": []
      },
      "source": [
        "a `GeneralModel` is either a `Model` or a `LogicalNetlist` (will be defined below):"
      ]
    },
    {
      "cell_type": "code",
      "execution_count": 20,
      "id": "57d48e37dc3b97b3",
      "metadata": {
        "execution": {
          "iopub.execute_input": "2022-08-17T03:20:56.099635Z",
          "iopub.status.busy": "2022-08-17T03:20:56.099207Z",
          "iopub.status.idle": "2022-08-17T03:20:56.100332Z",
          "shell.execute_reply": "2022-08-17T03:20:56.100649Z"
        },
        "papermill": {
          "duration": 0.050464,
          "end_time": "2022-08-17T03:20:56.100764",
          "exception": false,
          "start_time": "2022-08-17T03:20:56.050300",
          "status": "completed"
        },
        "tags": []
      },
      "outputs": [],
      "source": [
        "GeneralModel = Union[Model, \"LogicalNetlist\"]"
      ]
    },
    {
      "cell_type": "markdown",
      "id": "b32b5a31",
      "metadata": {
        "papermill": {
          "duration": 0.045381,
          "end_time": "2022-08-17T03:20:56.191603",
          "exception": false,
          "start_time": "2022-08-17T03:20:56.146222",
          "status": "completed"
        },
        "tags": []
      },
      "source": [
        "### Models"
      ]
    },
    {
      "cell_type": "markdown",
      "id": "a796dcb2",
      "metadata": {
        "papermill": {
          "duration": 0.045614,
          "end_time": "2022-08-17T03:20:56.282939",
          "exception": false,
          "start_time": "2022-08-17T03:20:56.237325",
          "status": "completed"
        },
        "tags": []
      },
      "source": [
        "`Models` is a mapping between model names [`str`] and `GeneralModel`:"
      ]
    },
    {
      "cell_type": "code",
      "execution_count": 21,
      "id": "b63bb7c0d2d6db99",
      "metadata": {
        "execution": {
          "iopub.execute_input": "2022-08-17T03:20:56.378224Z",
          "iopub.status.busy": "2022-08-17T03:20:56.377807Z",
          "iopub.status.idle": "2022-08-17T03:20:56.378836Z",
          "shell.execute_reply": "2022-08-17T03:20:56.379170Z"
        },
        "papermill": {
          "duration": 0.050724,
          "end_time": "2022-08-17T03:20:56.379284",
          "exception": false,
          "start_time": "2022-08-17T03:20:56.328560",
          "status": "completed"
        },
        "tags": []
      },
      "outputs": [],
      "source": [
        "Models = Dict[str, GeneralModel]"
      ]
    },
    {
      "cell_type": "markdown",
      "id": "ed1af61c",
      "metadata": {
        "papermill": {
          "duration": 0.045623,
          "end_time": "2022-08-17T03:20:56.470779",
          "exception": false,
          "start_time": "2022-08-17T03:20:56.425156",
          "status": "completed"
        },
        "tags": []
      },
      "source": [
        "> Note: sometimes 'component' is used to refer to a a `Model` or `GeneralModel`. This is because other tools (such as for example GDSFactory) prefer that terminology."
      ]
    },
    {
      "cell_type": "markdown",
      "id": "5d276f63",
      "metadata": {
        "papermill": {
          "duration": 0.045715,
          "end_time": "2022-08-17T03:20:56.562136",
          "exception": false,
          "start_time": "2022-08-17T03:20:56.516421",
          "status": "completed"
        },
        "tags": []
      },
      "source": [
        "## Netlist Types"
      ]
    },
    {
      "cell_type": "markdown",
      "id": "2c946dc2",
      "metadata": {
        "papermill": {
          "duration": 0.04535,
          "end_time": "2022-08-17T03:20:56.653227",
          "exception": false,
          "start_time": "2022-08-17T03:20:56.607877",
          "status": "completed"
        },
        "tags": []
      },
      "source": [
        "### Instance"
      ]
    },
    {
      "cell_type": "markdown",
      "id": "24694709",
      "metadata": {
        "papermill": {
          "duration": 0.045436,
          "end_time": "2022-08-17T03:20:56.744372",
          "exception": false,
          "start_time": "2022-08-17T03:20:56.698936",
          "status": "completed"
        },
        "tags": []
      },
      "source": [
        "A netlist `Instance` is a mapping with two keys: `\"component\"`, which should map to a key in a `Models` dictionary and `\"settings\"`, which are all the necessary settings to instanciate a component:"
      ]
    },
    {
      "cell_type": "code",
      "execution_count": 22,
      "id": "dd4872aa6739723e",
      "metadata": {
        "execution": {
          "iopub.execute_input": "2022-08-17T03:20:56.839531Z",
          "iopub.status.busy": "2022-08-17T03:20:56.839110Z",
          "iopub.status.idle": "2022-08-17T03:20:56.840588Z",
          "shell.execute_reply": "2022-08-17T03:20:56.840910Z"
        },
        "papermill": {
          "duration": 0.051012,
          "end_time": "2022-08-17T03:20:56.841028",
          "exception": false,
          "start_time": "2022-08-17T03:20:56.790016",
          "status": "completed"
        },
        "tags": []
      },
      "outputs": [],
      "source": [
        "Instance = TypedDict(\n",
        "    \"Instance\",\n",
        "    {\n",
        "        \"component\": str,\n",
        "        \"settings\": Settings,\n",
        "    },\n",
        ")"
      ]
    },
    {
      "cell_type": "markdown",
      "id": "ff82e535",
      "metadata": {
        "papermill": {
          "duration": 0.045937,
          "end_time": "2022-08-17T03:20:56.932871",
          "exception": false,
          "start_time": "2022-08-17T03:20:56.886934",
          "status": "completed"
        },
        "tags": []
      },
      "source": [
        "> Note: in SAX, a better name for `\"component\"` in the instance definition would probably be `\"model\"` or `\"model_name\"`. However we chose `\"component\"` here to have a 1-to-1 map between SAX netlists and GDSFactory netlists."
      ]
    },
    {
      "cell_type": "markdown",
      "id": "365559c3",
      "metadata": {
        "papermill": {
          "duration": 0.045479,
          "end_time": "2022-08-17T03:20:57.024411",
          "exception": false,
          "start_time": "2022-08-17T03:20:56.978932",
          "status": "completed"
        },
        "tags": []
      },
      "source": [
        "### GeneralInstance"
      ]
    },
    {
      "cell_type": "markdown",
      "id": "5249fc0f",
      "metadata": {
        "papermill": {
          "duration": 0.045395,
          "end_time": "2022-08-17T03:20:57.115243",
          "exception": false,
          "start_time": "2022-08-17T03:20:57.069848",
          "status": "completed"
        },
        "tags": []
      },
      "source": [
        "A general instance can be any of the following (`LogicalNetlist` and `Netlist` will be defined below):"
      ]
    },
    {
      "cell_type": "code",
      "execution_count": 23,
      "id": "4fea8e26eadd90eb",
      "metadata": {
        "execution": {
          "iopub.execute_input": "2022-08-17T03:20:57.210835Z",
          "iopub.status.busy": "2022-08-17T03:20:57.210414Z",
          "iopub.status.idle": "2022-08-17T03:20:57.211530Z",
          "shell.execute_reply": "2022-08-17T03:20:57.211855Z"
        },
        "papermill": {
          "duration": 0.050691,
          "end_time": "2022-08-17T03:20:57.211969",
          "exception": false,
          "start_time": "2022-08-17T03:20:57.161278",
          "status": "completed"
        },
        "tags": []
      },
      "outputs": [],
      "source": [
        "GeneralInstance = Union[str, Instance, \"LogicalNetlist\", \"Netlist\"]"
      ]
    },
    {
      "cell_type": "markdown",
      "id": "04a5992a",
      "metadata": {
        "papermill": {
          "duration": 0.045926,
          "end_time": "2022-08-17T03:20:57.303587",
          "exception": false,
          "start_time": "2022-08-17T03:20:57.257661",
          "status": "completed"
        },
        "tags": []
      },
      "source": [
        "> For example, this is allowed:"
      ]
    },
    {
      "cell_type": "code",
      "execution_count": 24,
      "id": "6ef6d5ee",
      "metadata": {
        "execution": {
          "iopub.execute_input": "2022-08-17T03:20:57.399648Z",
          "iopub.status.busy": "2022-08-17T03:20:57.399219Z",
          "iopub.status.idle": "2022-08-17T03:20:57.400269Z",
          "shell.execute_reply": "2022-08-17T03:20:57.400604Z"
        },
        "papermill": {
          "duration": 0.051012,
          "end_time": "2022-08-17T03:20:57.400718",
          "exception": false,
          "start_time": "2022-08-17T03:20:57.349706",
          "status": "completed"
        },
        "tags": []
      },
      "outputs": [],
      "source": [
        "inst: GeneralInstance = \"my_component_model\"\n",
        "inst: GeneralInstance = {\n",
        "    \"component\": \"my_component_model\",\n",
        "    \"settings\": {},\n",
        "}"
      ]
    },
    {
      "cell_type": "markdown",
      "id": "8af40281",
      "metadata": {
        "papermill": {
          "duration": 0.045927,
          "end_time": "2022-08-17T03:20:57.492535",
          "exception": false,
          "start_time": "2022-08-17T03:20:57.446608",
          "status": "completed"
        },
        "tags": []
      },
      "source": [
        "> ... and this is not (will be flagged by a static type checker like pyright or mypy):"
      ]
    },
    {
      "cell_type": "code",
      "execution_count": 25,
      "id": "c13fc4d7",
      "metadata": {
        "execution": {
          "iopub.execute_input": "2022-08-17T03:20:57.588267Z",
          "iopub.status.busy": "2022-08-17T03:20:57.587841Z",
          "iopub.status.idle": "2022-08-17T03:20:57.588870Z",
          "shell.execute_reply": "2022-08-17T03:20:57.589239Z"
        },
        "papermill": {
          "duration": 0.050559,
          "end_time": "2022-08-17T03:20:57.589354",
          "exception": false,
          "start_time": "2022-08-17T03:20:57.538795",
          "status": "completed"
        },
        "tags": []
      },
      "outputs": [],
      "source": [
        "inst: GeneralInstance = {\n",
        "    \"component\": \"my_component_model\",\n",
        "    \"settings\": {},\n",
        "    \"extra_arg\": \"invalid\",\n",
        "}"
      ]
    },
    {
      "cell_type": "markdown",
      "id": "cf9fd876",
      "metadata": {
        "papermill": {
          "duration": 0.046157,
          "end_time": "2022-08-17T03:20:57.681449",
          "exception": false,
          "start_time": "2022-08-17T03:20:57.635292",
          "status": "completed"
        },
        "tags": []
      },
      "source": [
        "### Instances"
      ]
    },
    {
      "cell_type": "markdown",
      "id": "a9aad796",
      "metadata": {
        "papermill": {
          "duration": 0.045822,
          "end_time": "2022-08-17T03:20:57.773607",
          "exception": false,
          "start_time": "2022-08-17T03:20:57.727785",
          "status": "completed"
        },
        "tags": []
      },
      "source": [
        "`Instances` is a mapping from instance names [`str`] to a `GeneralInstance`:"
      ]
    },
    {
      "cell_type": "code",
      "execution_count": 26,
      "id": "66ae4069478704a3",
      "metadata": {
        "execution": {
          "iopub.execute_input": "2022-08-17T03:20:57.869440Z",
          "iopub.status.busy": "2022-08-17T03:20:57.869022Z",
          "iopub.status.idle": "2022-08-17T03:20:57.870493Z",
          "shell.execute_reply": "2022-08-17T03:20:57.870100Z"
        },
        "papermill": {
          "duration": 0.050875,
          "end_time": "2022-08-17T03:20:57.870584",
          "exception": false,
          "start_time": "2022-08-17T03:20:57.819709",
          "status": "completed"
        },
        "tags": []
      },
      "outputs": [],
      "source": [
        "Instances = Union[Dict[str, str], Dict[str, GeneralInstance]]"
      ]
    },
    {
      "cell_type": "markdown",
      "id": "0f292b1f",
      "metadata": {
        "papermill": {
          "duration": 0.04586,
          "end_time": "2022-08-17T03:20:57.962644",
          "exception": false,
          "start_time": "2022-08-17T03:20:57.916784",
          "status": "completed"
        },
        "tags": []
      },
      "source": [
        "### Netlist"
      ]
    },
    {
      "cell_type": "markdown",
      "id": "7b85ab37",
      "metadata": {
        "papermill": {
          "duration": 0.046056,
          "end_time": "2022-08-17T03:20:58.054641",
          "exception": false,
          "start_time": "2022-08-17T03:20:58.008585",
          "status": "completed"
        },
        "tags": []
      },
      "source": [
        "a `Netlist` is a collection of `\"instances\"`, `\"connections\"` and `\"ports\"`:"
      ]
    },
    {
      "cell_type": "code",
      "execution_count": 27,
      "id": "fc585540f115d05c",
      "metadata": {
        "execution": {
          "iopub.execute_input": "2022-08-17T03:20:58.150908Z",
          "iopub.status.busy": "2022-08-17T03:20:58.150496Z",
          "iopub.status.idle": "2022-08-17T03:20:58.151608Z",
          "shell.execute_reply": "2022-08-17T03:20:58.151968Z"
        },
        "papermill": {
          "duration": 0.051327,
          "end_time": "2022-08-17T03:20:58.152084",
          "exception": false,
          "start_time": "2022-08-17T03:20:58.100757",
          "status": "completed"
        },
        "tags": []
      },
      "outputs": [],
      "source": [
        "\n",
        "Netlist = TypedDict(\n",
        "    \"Netlist\",\n",
        "    {\n",
        "        \"instances\": Instances,\n",
        "        \"connections\": Dict[str, str],\n",
        "        \"ports\": Dict[str, str],\n",
        "    },\n",
        ")"
      ]
    },
    {
      "cell_type": "markdown",
      "id": "d12f61a8",
      "metadata": {
        "papermill": {
          "duration": 0.045904,
          "end_time": "2022-08-17T03:20:58.243851",
          "exception": false,
          "start_time": "2022-08-17T03:20:58.197947",
          "status": "completed"
        },
        "tags": []
      },
      "source": [
        "> Example:"
      ]
    },
    {
      "cell_type": "code",
      "execution_count": 28,
      "id": "877d1151",
      "metadata": {
        "execution": {
          "iopub.execute_input": "2022-08-17T03:20:58.341834Z",
          "iopub.status.busy": "2022-08-17T03:20:58.341388Z",
          "iopub.status.idle": "2022-08-17T03:20:58.342517Z",
          "shell.execute_reply": "2022-08-17T03:20:58.342838Z"
        },
        "papermill": {
          "duration": 0.052805,
          "end_time": "2022-08-17T03:20:58.342952",
          "exception": false,
          "start_time": "2022-08-17T03:20:58.290147",
          "status": "completed"
        },
        "tags": []
      },
      "outputs": [],
      "source": [
        "mzi_netlist: Netlist = {\n",
        "    \"instances\": {\n",
        "    \"lft\": \"mmi1x2\",  # shorthand if no settings need to be given\n",
        "        \"top\": {  # full instance definition\n",
        "            \"component\": \"waveguide\",\n",
        "            \"settings\": {\n",
        "                \"length\": 100.0,\n",
        "            },\n",
        "        },\n",
        "        \"rgt\": \"mmi2x2\",  # shorthand if no settings need to be given\n",
        "    },\n",
        "    \"connections\": {\n",
        "        \"lft,out0\": \"top,in0\",\n",
        "        \"top,out0\": \"rgt,in0\",\n",
        "        \"top,out1\": \"rgt,in1\",\n",
        "    },\n",
        "    \"ports\": {\n",
        "        \"in0\": \"lft,in0\",\n",
        "        \"out0\": \"rgt,out0\",\n",
        "        \"out1\": \"rgt,out1\",\n",
        "    },\n",
        "}"
      ]
    },
    {
      "cell_type": "markdown",
      "id": "613b0f22",
      "metadata": {
        "papermill": {
          "duration": 0.045949,
          "end_time": "2022-08-17T03:20:58.435031",
          "exception": false,
          "start_time": "2022-08-17T03:20:58.389082",
          "status": "completed"
        },
        "tags": []
      },
      "source": [
        "### LogicalNetlist"
      ]
    },
    {
      "cell_type": "markdown",
      "id": "f8cb7e75",
      "metadata": {
        "papermill": {
          "duration": 0.045956,
          "end_time": "2022-08-17T03:20:58.527433",
          "exception": false,
          "start_time": "2022-08-17T03:20:58.481477",
          "status": "completed"
        },
        "tags": []
      },
      "source": [
        "a `LogicalNetlist` is a subset of the more general `Netlist`.  It only contains the logical connections and instance names. Not the actual instances. This data structure is mostly used for internal use only."
      ]
    },
    {
      "cell_type": "code",
      "execution_count": 29,
      "id": "9ca050bfcaa60f46",
      "metadata": {
        "execution": {
          "iopub.execute_input": "2022-08-17T03:20:58.623587Z",
          "iopub.status.busy": "2022-08-17T03:20:58.623145Z",
          "iopub.status.idle": "2022-08-17T03:20:58.623999Z",
          "shell.execute_reply": "2022-08-17T03:20:58.624323Z"
        },
        "papermill": {
          "duration": 0.050879,
          "end_time": "2022-08-17T03:20:58.624434",
          "exception": false,
          "start_time": "2022-08-17T03:20:58.573555",
          "status": "completed"
        },
        "tags": []
      },
      "outputs": [],
      "source": [
        "\n",
        "LogicalNetlist = TypedDict(\n",
        "    \"LogicalNetlist\",\n",
        "    {\n",
        "        \"instances\": Dict[str, str],\n",
        "        \"connections\": Dict[str, str],\n",
        "        \"ports\": Dict[str, str],\n",
        "    },\n",
        ")"
      ]
    },
    {
      "cell_type": "markdown",
      "id": "3468d6a1",
      "metadata": {
        "papermill": {
          "duration": 0.046449,
          "end_time": "2022-08-17T03:20:58.717090",
          "exception": false,
          "start_time": "2022-08-17T03:20:58.670641",
          "status": "completed"
        },
        "tags": []
      },
      "source": [
        "> Example:"
      ]
    },
    {
      "cell_type": "code",
      "execution_count": 30,
      "id": "ab67ad41",
      "metadata": {
        "execution": {
          "iopub.execute_input": "2022-08-17T03:20:58.813409Z",
          "iopub.status.busy": "2022-08-17T03:20:58.812989Z",
          "iopub.status.idle": "2022-08-17T03:20:58.814753Z",
          "shell.execute_reply": "2022-08-17T03:20:58.814399Z"
        },
        "papermill": {
          "duration": 0.051529,
          "end_time": "2022-08-17T03:20:58.814848",
          "exception": false,
          "start_time": "2022-08-17T03:20:58.763319",
          "status": "completed"
        },
        "tags": []
      },
      "outputs": [],
      "source": [
        "mzi_logical_netlist: Netlist = {\n",
        "    \"instances\": {\n",
        "        \"lft\": \"mmi1x2\",\n",
        "        \"top\": \"waveguide\",\n",
        "        \"rgt\": \"mmi2x2\",\n",
        "    },\n",
        "    \"connections\": {\n",
        "        \"lft,out0\": \"top,in0\",\n",
        "        \"top,out0\": \"rgt,in0\",\n",
        "        \"top,out1\": \"rgt,in1\",\n",
        "    },\n",
        "    \"ports\": {\n",
        "        \"in0\": \"lft,in0\",\n",
        "        \"out0\": \"rgt,out0\",\n",
        "        \"out1\": \"rgt,out1\",\n",
        "    },\n",
        "}"
      ]
    },
    {
      "cell_type": "markdown",
      "id": "dbcb4447",
      "metadata": {
        "papermill": {
          "duration": 0.046421,
          "end_time": "2022-08-17T03:20:58.907417",
          "exception": false,
          "start_time": "2022-08-17T03:20:58.860996",
          "status": "completed"
        },
        "tags": []
      },
      "source": [
        "## Validation and runtime type-checking:"
      ]
    },
    {
      "cell_type": "markdown",
      "id": "6e4c44aa",
      "metadata": {
        "papermill": {
          "duration": 0.046027,
          "end_time": "2022-08-17T03:20:58.999897",
          "exception": false,
          "start_time": "2022-08-17T03:20:58.953870",
          "status": "completed"
        },
        "tags": []
      },
      "source": [
        "> Note: the type-checking functions below are **NOT** very tight and hence should be used within the right context!"
      ]
    },
    {
      "cell_type": "markdown",
      "id": "86fe2bb2ace305aa",
      "metadata": {},
      "source": [
        ":::{eval-rst}\n",
        ".. autofunction:: sax.typing_.is_float\n",
        ":::\n"
      ]
    },
    {
      "cell_type": "code",
      "execution_count": 31,
      "id": "95a6703c250a8d03",
      "metadata": {
        "execution": {
          "iopub.execute_input": "2022-08-17T03:20:59.097385Z",
          "iopub.status.busy": "2022-08-17T03:20:59.096958Z",
          "iopub.status.idle": "2022-08-17T03:20:59.098544Z",
          "shell.execute_reply": "2022-08-17T03:20:59.098195Z"
        },
        "papermill": {
          "duration": 0.052304,
          "end_time": "2022-08-17T03:20:59.098639",
          "exception": false,
          "start_time": "2022-08-17T03:20:59.046335",
          "status": "completed"
        },
        "tags": [
          "hide-input"
        ]
      },
      "outputs": [],
      "source": [
        "def is_float(x: Any) -> bool:\n",
        "    \"\"\"Check if an object is a `Float`\"\"\"\n",
        "    if isinstance(x, float):\n",
        "        return True\n",
        "    if isinstance(x, np.ndarray):\n",
        "        return x.dtype in (np.float16, np.float32, np.float64, np.float128)\n",
        "    if isinstance(x, jnp.ndarray):\n",
        "        return x.dtype in (jnp.float16, jnp.float32, jnp.float64)\n",
        "    return False"
      ]
    },
    {
      "cell_type": "code",
      "execution_count": 32,
      "id": "28374448",
      "metadata": {
        "execution": {
          "iopub.execute_input": "2022-08-17T03:20:59.197432Z",
          "iopub.status.busy": "2022-08-17T03:20:59.197000Z",
          "iopub.status.idle": "2022-08-17T03:20:59.198798Z",
          "shell.execute_reply": "2022-08-17T03:20:59.198400Z"
        },
        "papermill": {
          "duration": 0.054101,
          "end_time": "2022-08-17T03:20:59.198895",
          "exception": false,
          "start_time": "2022-08-17T03:20:59.144794",
          "status": "completed"
        },
        "tags": []
      },
      "outputs": [],
      "source": [
        "assert is_float(3.0)\n",
        "assert not is_float(3)\n",
        "assert not is_float(3.0 + 2j)\n",
        "assert not is_float(jnp.array(3.0, dtype=complex))\n",
        "assert not is_float(jnp.array(3, dtype=int))"
      ]
    },
    {
      "cell_type": "markdown",
      "id": "8d162fb51522baf1",
      "metadata": {},
      "source": [
        ":::{eval-rst}\n",
        ".. autofunction:: sax.typing_.is_complex\n",
        ":::\n"
      ]
    },
    {
      "cell_type": "code",
      "execution_count": 33,
      "id": "c3387524dadc1df6",
      "metadata": {
        "execution": {
          "iopub.execute_input": "2022-08-17T03:20:59.296903Z",
          "iopub.status.busy": "2022-08-17T03:20:59.296467Z",
          "iopub.status.idle": "2022-08-17T03:20:59.297406Z",
          "shell.execute_reply": "2022-08-17T03:20:59.297800Z"
        },
        "papermill": {
          "duration": 0.052418,
          "end_time": "2022-08-17T03:20:59.297914",
          "exception": false,
          "start_time": "2022-08-17T03:20:59.245496",
          "status": "completed"
        },
        "tags": [
          "hide-input"
        ]
      },
      "outputs": [],
      "source": [
        "def is_complex(x: Any) -> bool:\n",
        "    \"\"\"check if an object is a `ComplexFloat`\"\"\"\n",
        "    if isinstance(x, complex):\n",
        "        return True\n",
        "    if isinstance(x, np.ndarray):\n",
        "        return x.dtype in (np.complex64, np.complex128)\n",
        "    if isinstance(x, jnp.ndarray):\n",
        "        return x.dtype in (jnp.complex64, jnp.complex128)\n",
        "    return False"
      ]
    },
    {
      "cell_type": "code",
      "execution_count": 34,
      "id": "d81a703d",
      "metadata": {
        "execution": {
          "iopub.execute_input": "2022-08-17T03:20:59.396394Z",
          "iopub.status.busy": "2022-08-17T03:20:59.395971Z",
          "iopub.status.idle": "2022-08-17T03:20:59.397488Z",
          "shell.execute_reply": "2022-08-17T03:20:59.397077Z"
        },
        "papermill": {
          "duration": 0.053048,
          "end_time": "2022-08-17T03:20:59.397582",
          "exception": false,
          "start_time": "2022-08-17T03:20:59.344534",
          "status": "completed"
        },
        "tags": []
      },
      "outputs": [],
      "source": [
        "assert not is_complex(3.0)\n",
        "assert not is_complex(3)\n",
        "assert is_complex(3.0 + 2j)\n",
        "assert is_complex(jnp.array(3.0, dtype=complex))\n",
        "assert not is_complex(jnp.array(3, dtype=int))"
      ]
    },
    {
      "cell_type": "markdown",
      "id": "7ae7b31a8eeb1342",
      "metadata": {},
      "source": [
        ":::{eval-rst}\n",
        ".. autofunction:: sax.typing_.is_complex_float\n",
        ":::\n"
      ]
    },
    {
      "cell_type": "code",
      "execution_count": 35,
      "id": "1727cedcb696d61d",
      "metadata": {
        "execution": {
          "iopub.execute_input": "2022-08-17T03:20:59.495103Z",
          "iopub.status.busy": "2022-08-17T03:20:59.494667Z",
          "iopub.status.idle": "2022-08-17T03:20:59.495610Z",
          "shell.execute_reply": "2022-08-17T03:20:59.495978Z"
        },
        "papermill": {
          "duration": 0.051388,
          "end_time": "2022-08-17T03:20:59.496095",
          "exception": false,
          "start_time": "2022-08-17T03:20:59.444707",
          "status": "completed"
        },
        "tags": [
          "hide-input"
        ]
      },
      "outputs": [],
      "source": [
        "def is_complex_float(x: Any) -> bool:\n",
        "    \"\"\"check if an object is either a `ComplexFloat` or a `Float`\"\"\"\n",
        "    return is_float(x) or is_complex(x)"
      ]
    },
    {
      "cell_type": "code",
      "execution_count": 36,
      "id": "c533ff0d",
      "metadata": {
        "execution": {
          "iopub.execute_input": "2022-08-17T03:20:59.594092Z",
          "iopub.status.busy": "2022-08-17T03:20:59.593665Z",
          "iopub.status.idle": "2022-08-17T03:20:59.594767Z",
          "shell.execute_reply": "2022-08-17T03:20:59.595083Z"
        },
        "papermill": {
          "duration": 0.052526,
          "end_time": "2022-08-17T03:20:59.595198",
          "exception": false,
          "start_time": "2022-08-17T03:20:59.542672",
          "status": "completed"
        },
        "tags": []
      },
      "outputs": [],
      "source": [
        "assert is_complex_float(3.0)\n",
        "assert not is_complex_float(3)\n",
        "assert is_complex_float(3.0 + 2j)\n",
        "assert is_complex_float(jnp.array(3.0, dtype=complex))\n",
        "assert not is_complex_float(jnp.array(3, dtype=int))"
      ]
    },
    {
      "cell_type": "markdown",
      "id": "ecfed6bbe0d720f3",
      "metadata": {},
      "source": [
        ":::{eval-rst}\n",
        ".. autofunction:: sax.typing_.is_sdict\n",
        ":::\n"
      ]
    },
    {
      "cell_type": "code",
      "execution_count": 37,
      "id": "41242aa5a5021370",
      "metadata": {
        "execution": {
          "iopub.execute_input": "2022-08-17T03:20:59.691167Z",
          "iopub.status.busy": "2022-08-17T03:20:59.690750Z",
          "iopub.status.idle": "2022-08-17T03:20:59.693707Z",
          "shell.execute_reply": "2022-08-17T03:20:59.693332Z"
        },
        "papermill": {
          "duration": 0.051707,
          "end_time": "2022-08-17T03:20:59.693800",
          "exception": false,
          "start_time": "2022-08-17T03:20:59.642093",
          "status": "completed"
        },
        "tags": [
          "hide-input"
        ]
      },
      "outputs": [],
      "source": [
        "def is_sdict(x: Any) -> bool:\n",
        "    \"\"\"check if an object is an `SDict` (a SAX S-dictionary)\"\"\"\n",
        "    return isinstance(x, dict)"
      ]
    },
    {
      "cell_type": "code",
      "execution_count": 38,
      "id": "cb0365dc",
      "metadata": {
        "execution": {
          "iopub.execute_input": "2022-08-17T03:20:59.792410Z",
          "iopub.status.busy": "2022-08-17T03:20:59.791978Z",
          "iopub.status.idle": "2022-08-17T03:20:59.793312Z",
          "shell.execute_reply": "2022-08-17T03:20:59.793671Z"
        },
        "papermill": {
          "duration": 0.052964,
          "end_time": "2022-08-17T03:20:59.793791",
          "exception": false,
          "start_time": "2022-08-17T03:20:59.740827",
          "status": "completed"
        },
        "tags": []
      },
      "outputs": [],
      "source": [
        "assert not is_sdict(object())\n",
        "assert is_sdict(_sdict)\n",
        "assert not is_sdict(_scoo)\n",
        "assert not is_sdict(_sdense)"
      ]
    },
    {
      "cell_type": "markdown",
      "id": "10d68595cdf9efc2",
      "metadata": {},
      "source": [
        ":::{eval-rst}\n",
        ".. autofunction:: sax.typing_.is_scoo\n",
        ":::\n"
      ]
    },
    {
      "cell_type": "code",
      "execution_count": 39,
      "id": "d3d3ce5aec96276e",
      "metadata": {
        "execution": {
          "iopub.execute_input": "2022-08-17T03:20:59.891730Z",
          "iopub.status.busy": "2022-08-17T03:20:59.891310Z",
          "iopub.status.idle": "2022-08-17T03:20:59.892497Z",
          "shell.execute_reply": "2022-08-17T03:20:59.892810Z"
        },
        "papermill": {
          "duration": 0.051955,
          "end_time": "2022-08-17T03:20:59.892922",
          "exception": false,
          "start_time": "2022-08-17T03:20:59.840967",
          "status": "completed"
        },
        "tags": [
          "hide-input"
        ]
      },
      "outputs": [],
      "source": [
        "def is_scoo(x: Any) -> bool:\n",
        "    \"\"\"check if an object is an `SCoo` (a SAX sparse S-matrix representation in COO-format)\"\"\"\n",
        "    return isinstance(x, (tuple, list)) and len(x) == 4"
      ]
    },
    {
      "cell_type": "code",
      "execution_count": 40,
      "id": "9ea0239a",
      "metadata": {
        "execution": {
          "iopub.execute_input": "2022-08-17T03:20:59.990970Z",
          "iopub.status.busy": "2022-08-17T03:20:59.990538Z",
          "iopub.status.idle": "2022-08-17T03:20:59.991608Z",
          "shell.execute_reply": "2022-08-17T03:20:59.991947Z"
        },
        "papermill": {
          "duration": 0.05192,
          "end_time": "2022-08-17T03:20:59.992067",
          "exception": false,
          "start_time": "2022-08-17T03:20:59.940147",
          "status": "completed"
        },
        "tags": []
      },
      "outputs": [],
      "source": [
        "assert not is_scoo(object)\n",
        "assert not is_scoo(_sdict)\n",
        "assert is_scoo(_scoo)\n",
        "assert not is_scoo(_sdense)"
      ]
    },
    {
      "cell_type": "markdown",
      "id": "4f7c9856656bedba",
      "metadata": {},
      "source": [
        ":::{eval-rst}\n",
        ".. autofunction:: sax.typing_.is_sdense\n",
        ":::\n"
      ]
    },
    {
      "cell_type": "code",
      "execution_count": 41,
      "id": "5a6965168b55f29a",
      "metadata": {
        "execution": {
          "iopub.execute_input": "2022-08-17T03:21:00.089898Z",
          "iopub.status.busy": "2022-08-17T03:21:00.089447Z",
          "iopub.status.idle": "2022-08-17T03:21:00.091264Z",
          "shell.execute_reply": "2022-08-17T03:21:00.090920Z"
        },
        "papermill": {
          "duration": 0.052127,
          "end_time": "2022-08-17T03:21:00.091360",
          "exception": false,
          "start_time": "2022-08-17T03:21:00.039233",
          "status": "completed"
        },
        "tags": [
          "hide-input"
        ]
      },
      "outputs": [],
      "source": [
        "def is_sdense(x: Any) -> bool:\n",
        "    \"\"\"check if an object is an `SDense` (a SAX dense S-matrix representation)\"\"\"\n",
        "    return isinstance(x, (tuple, list)) and len(x) == 2"
      ]
    },
    {
      "cell_type": "code",
      "execution_count": 42,
      "id": "2eddd63a",
      "metadata": {
        "execution": {
          "iopub.execute_input": "2022-08-17T03:21:00.189538Z",
          "iopub.status.busy": "2022-08-17T03:21:00.188783Z",
          "iopub.status.idle": "2022-08-17T03:21:00.190020Z",
          "shell.execute_reply": "2022-08-17T03:21:00.190335Z"
        },
        "papermill": {
          "duration": 0.052284,
          "end_time": "2022-08-17T03:21:00.190450",
          "exception": false,
          "start_time": "2022-08-17T03:21:00.138166",
          "status": "completed"
        },
        "tags": []
      },
      "outputs": [],
      "source": [
        "assert not is_sdense(object)\n",
        "assert not is_sdense(_sdict)\n",
        "assert not is_sdense(_scoo)\n",
        "assert is_sdense(_sdense)"
      ]
    },
    {
      "cell_type": "markdown",
      "id": "4e9215c2f0c6796c",
      "metadata": {},
      "source": [
        ":::{eval-rst}\n",
        ".. autofunction:: sax.typing_.is_model\n",
        ":::\n"
      ]
    },
    {
      "cell_type": "code",
      "execution_count": 43,
      "id": "6ce58284885a890f",
      "metadata": {
        "execution": {
          "iopub.execute_input": "2022-08-17T03:21:00.291967Z",
          "iopub.status.busy": "2022-08-17T03:21:00.291465Z",
          "iopub.status.idle": "2022-08-17T03:21:00.292461Z",
          "shell.execute_reply": "2022-08-17T03:21:00.292790Z"
        },
        "papermill": {
          "duration": 0.054904,
          "end_time": "2022-08-17T03:21:00.292904",
          "exception": false,
          "start_time": "2022-08-17T03:21:00.238000",
          "status": "completed"
        },
        "tags": [
          "hide-input"
        ]
      },
      "outputs": [],
      "source": [
        "def is_model(model: Any) -> bool:\n",
        "    \"\"\"check if a callable is a `Model` (a callable returning an `SType`)\"\"\"\n",
        "    if not callable(model):\n",
        "        return False\n",
        "    try:\n",
        "        sig = inspect.signature(model)\n",
        "    except ValueError:\n",
        "        return False\n",
        "    for param in sig.parameters.values():\n",
        "        if param.default is inspect.Parameter.empty:\n",
        "            return False  # a proper SAX model does not have any positional arguments.\n",
        "    if _is_callable_annotation(sig.return_annotation):  # model factory\n",
        "        return False\n",
        "    return True\n",
        "\n",
        "def _is_callable_annotation(annotation: Any) -> bool:\n",
        "    \"\"\"check if an annotation is `Callable`-like\"\"\"\n",
        "    if isinstance(annotation, str):\n",
        "        # happens when\n",
        "        # was imported at the top of the file...\n",
        "        return annotation.startswith(\"Callable\") or annotation.endswith(\"Model\")\n",
        "        # TODO: this is not a very robust check...\n",
        "    try:\n",
        "        return annotation.__origin__ == CallableABC\n",
        "    except AttributeError:\n",
        "        return False"
      ]
    },
    {
      "cell_type": "code",
      "execution_count": 44,
      "id": "7ec41f278fb8be5a",
      "metadata": {
        "execution": {
          "iopub.execute_input": "2022-08-17T03:21:00.392596Z",
          "iopub.status.busy": "2022-08-17T03:21:00.391873Z",
          "iopub.status.idle": "2022-08-17T03:21:00.393103Z",
          "shell.execute_reply": "2022-08-17T03:21:00.393435Z"
        },
        "papermill": {
          "duration": 0.052836,
          "end_time": "2022-08-17T03:21:00.393567",
          "exception": false,
          "start_time": "2022-08-17T03:21:00.340731",
          "status": "completed"
        },
        "tags": [
          "remove-cell"
        ]
      },
      "outputs": [],
      "source": [
        "assert _is_callable_annotation(Callable)\n",
        "assert not _is_callable_annotation(SDict)"
      ]
    },
    {
      "cell_type": "code",
      "execution_count": 45,
      "id": "89bdb647",
      "metadata": {
        "execution": {
          "iopub.execute_input": "2022-08-17T03:21:00.497347Z",
          "iopub.status.busy": "2022-08-17T03:21:00.496914Z",
          "iopub.status.idle": "2022-08-17T03:21:00.508845Z",
          "shell.execute_reply": "2022-08-17T03:21:00.508466Z"
        },
        "papermill": {
          "duration": 0.067725,
          "end_time": "2022-08-17T03:21:00.508946",
          "exception": false,
          "start_time": "2022-08-17T03:21:00.441221",
          "status": "completed"
        },
        "tags": []
      },
      "outputs": [],
      "source": [
        "def good_model(x=jnp.array(3.0), y=jnp.array(4.0)) -> SDict:\n",
        "    return {(\"in0\", \"out0\"): jnp.array(3.0)}\n",
        "assert is_model(good_model)\n",
        "\n",
        "def bad_model(positional_argument, x=jnp.array(3.0), y=jnp.array(4.0)) -> SDict:\n",
        "    return {(\"in0\", \"out0\"): jnp.array(3.0)}\n",
        "assert not is_model(bad_model)"
      ]
    },
    {
      "cell_type": "markdown",
      "id": "f43d470311e833cb",
      "metadata": {},
      "source": [
        ":::{eval-rst}\n",
        ".. autofunction:: sax.typing_.is_model_factory\n",
        ":::\n"
      ]
    },
    {
      "cell_type": "code",
      "execution_count": 46,
      "id": "57f86ba71131f472",
      "metadata": {
        "execution": {
          "iopub.execute_input": "2022-08-17T03:21:00.608211Z",
          "iopub.status.busy": "2022-08-17T03:21:00.607444Z",
          "iopub.status.idle": "2022-08-17T03:21:00.608687Z",
          "shell.execute_reply": "2022-08-17T03:21:00.608999Z"
        },
        "papermill": {
          "duration": 0.052769,
          "end_time": "2022-08-17T03:21:00.609113",
          "exception": false,
          "start_time": "2022-08-17T03:21:00.556344",
          "status": "completed"
        },
        "tags": [
          "hide-input"
        ]
      },
      "outputs": [],
      "source": [
        "def is_model_factory(model: Any) -> bool:\n",
        "    \"\"\"check if a callable is a model function.\"\"\"\n",
        "    if not callable(model):\n",
        "        return False\n",
        "    sig = inspect.signature(model)\n",
        "    if _is_callable_annotation(sig.return_annotation):  # model factory\n",
        "        return True\n",
        "    return False"
      ]
    },
    {
      "cell_type": "markdown",
      "id": "1f9715ed",
      "metadata": {
        "papermill": {
          "duration": 0.047669,
          "end_time": "2022-08-17T03:21:00.704238",
          "exception": false,
          "start_time": "2022-08-17T03:21:00.656569",
          "status": "completed"
        },
        "tags": []
      },
      "source": [
        "> Note: For a `Callable` to be considered a `ModelFactory` in SAX, it **MUST** have a `Callable` or `Model` return annotation. Otherwise SAX will view it as a `Model` and things might break!"
      ]
    },
    {
      "cell_type": "code",
      "execution_count": 47,
      "id": "fe9cdff0",
      "metadata": {
        "execution": {
          "iopub.execute_input": "2022-08-17T03:21:00.802007Z",
          "iopub.status.busy": "2022-08-17T03:21:00.801581Z",
          "iopub.status.idle": "2022-08-17T03:21:00.804467Z",
          "shell.execute_reply": "2022-08-17T03:21:00.804813Z"
        },
        "papermill": {
          "duration": 0.05326,
          "end_time": "2022-08-17T03:21:00.804931",
          "exception": false,
          "start_time": "2022-08-17T03:21:00.751671",
          "status": "completed"
        },
        "tags": []
      },
      "outputs": [],
      "source": [
        "def func() -> Model:\n",
        "    ...\n",
        "    \n",
        "assert is_model_factory(func) # yes, we only check the annotation for now...\n",
        "\n",
        "def func():\n",
        "    ...\n",
        "    \n",
        "assert not is_model_factory(func) # yes, we only check the annotation for now..."
      ]
    },
    {
      "cell_type": "markdown",
      "id": "0006ed6c860eaf9c",
      "metadata": {},
      "source": [
        ":::{eval-rst}\n",
        ".. autofunction:: sax.typing_.validate_model\n",
        ":::\n"
      ]
    },
    {
      "cell_type": "code",
      "execution_count": 48,
      "id": "8602e423e658e6af",
      "metadata": {
        "execution": {
          "iopub.execute_input": "2022-08-17T03:21:00.905266Z",
          "iopub.status.busy": "2022-08-17T03:21:00.904831Z",
          "iopub.status.idle": "2022-08-17T03:21:00.906095Z",
          "shell.execute_reply": "2022-08-17T03:21:00.906416Z"
        },
        "papermill": {
          "duration": 0.053642,
          "end_time": "2022-08-17T03:21:00.906535",
          "exception": false,
          "start_time": "2022-08-17T03:21:00.852893",
          "status": "completed"
        },
        "tags": [
          "hide-input"
        ]
      },
      "outputs": [],
      "source": [
        "def validate_model(model: Callable):\n",
        "    \"\"\"Validate the parameters of a model\"\"\"\n",
        "    positional_arguments = []\n",
        "    for param in inspect.signature(model).parameters.values():\n",
        "        if param.default is inspect.Parameter.empty:\n",
        "            positional_arguments.append(param.name)\n",
        "    if positional_arguments:\n",
        "        raise ValueError(\n",
        "            f\"model '{model}' takes positional arguments {', '.join(positional_arguments)} \"\n",
        "            \"and hence is not a valid SAX Model! A SAX model should ONLY take keyword arguments (or no arguments at all).\"\n",
        "        )"
      ]
    },
    {
      "cell_type": "code",
      "execution_count": 49,
      "id": "754399d5",
      "metadata": {
        "execution": {
          "iopub.execute_input": "2022-08-17T03:21:01.007470Z",
          "iopub.status.busy": "2022-08-17T03:21:01.007058Z",
          "iopub.status.idle": "2022-08-17T03:21:01.008534Z",
          "shell.execute_reply": "2022-08-17T03:21:01.008850Z"
        },
        "papermill": {
          "duration": 0.054214,
          "end_time": "2022-08-17T03:21:01.008965",
          "exception": false,
          "start_time": "2022-08-17T03:21:00.954751",
          "status": "completed"
        },
        "tags": []
      },
      "outputs": [],
      "source": [
        "def good_model(x=jnp.array(3.0), y=jnp.array(4.0)) -> SDict:\n",
        "    return {(\"in0\", \"out0\"): jnp.array(3.0)}\n",
        "\n",
        "\n",
        "assert validate_model(good_model) is None"
      ]
    },
    {
      "cell_type": "code",
      "execution_count": 50,
      "id": "181c72fa",
      "metadata": {
        "execution": {
          "iopub.execute_input": "2022-08-17T03:21:01.108993Z",
          "iopub.status.busy": "2022-08-17T03:21:01.108573Z",
          "iopub.status.idle": "2022-08-17T03:21:01.110786Z",
          "shell.execute_reply": "2022-08-17T03:21:01.110437Z"
        },
        "papermill": {
          "duration": 0.054135,
          "end_time": "2022-08-17T03:21:01.110879",
          "exception": false,
          "start_time": "2022-08-17T03:21:01.056744",
          "status": "completed"
        },
        "tags": []
      },
      "outputs": [],
      "source": [
        "def bad_model(positional_argument, x=jnp.array(3.0), y=jnp.array(4.0)) -> SDict:\n",
        "    return {(\"in0\", \"out0\"): jnp.array(3.0)}\n",
        "\n",
        "\n",
        "with raises(ValueError):\n",
        "    validate_model(bad_model)"
      ]
    },
    {
      "cell_type": "markdown",
      "id": "077daf97e9544821",
      "metadata": {},
      "source": [
        ":::{eval-rst}\n",
        ".. autofunction:: sax.typing_.is_instance\n",
        ":::\n"
      ]
    },
    {
      "cell_type": "code",
      "execution_count": 51,
      "id": "f5a4f5592cb32aaf",
      "metadata": {
        "execution": {
          "iopub.execute_input": "2022-08-17T03:21:01.211152Z",
          "iopub.status.busy": "2022-08-17T03:21:01.210715Z",
          "iopub.status.idle": "2022-08-17T03:21:01.211846Z",
          "shell.execute_reply": "2022-08-17T03:21:01.212162Z"
        },
        "papermill": {
          "duration": 0.053066,
          "end_time": "2022-08-17T03:21:01.212279",
          "exception": false,
          "start_time": "2022-08-17T03:21:01.159213",
          "status": "completed"
        },
        "tags": [
          "hide-input"
        ]
      },
      "outputs": [],
      "source": [
        "def is_instance(instance: Any) -> bool:\n",
        "    \"\"\"check if a dictionary is an instance\"\"\"\n",
        "    if not isinstance(instance, dict):\n",
        "        return False\n",
        "    return \"component\" in instance"
      ]
    },
    {
      "cell_type": "markdown",
      "id": "804f7823f9f77ef5",
      "metadata": {},
      "source": [
        ":::{eval-rst}\n",
        ".. autofunction:: sax.typing_.is_netlist\n",
        ":::\n"
      ]
    },
    {
      "cell_type": "code",
      "execution_count": 52,
      "id": "a4a00879b5531e3c",
      "metadata": {
        "execution": {
          "iopub.execute_input": "2022-08-17T03:21:01.312737Z",
          "iopub.status.busy": "2022-08-17T03:21:01.312308Z",
          "iopub.status.idle": "2022-08-17T03:21:01.313893Z",
          "shell.execute_reply": "2022-08-17T03:21:01.313543Z"
        },
        "papermill": {
          "duration": 0.053742,
          "end_time": "2022-08-17T03:21:01.313986",
          "exception": false,
          "start_time": "2022-08-17T03:21:01.260244",
          "status": "completed"
        },
        "tags": [
          "hide-input"
        ]
      },
      "outputs": [],
      "source": [
        "def is_netlist(netlist: Any) -> bool:\n",
        "    \"\"\"check if a dictionary is a netlist\"\"\"\n",
        "    if not isinstance(netlist, dict):\n",
        "        return False\n",
        "    if not \"instances\" in netlist:\n",
        "        return False\n",
        "    if not \"connections\" in netlist:\n",
        "        return False\n",
        "    if not \"ports\" in netlist:\n",
        "        return False\n",
        "    return True"
      ]
    },
    {
      "cell_type": "markdown",
      "id": "c90b459d297837d8",
      "metadata": {},
      "source": [
        ":::{eval-rst}\n",
        ".. autofunction:: sax.typing_.is_stype\n",
        ":::\n"
      ]
    },
    {
      "cell_type": "code",
      "execution_count": 53,
      "id": "4bb3938984d7a588",
      "metadata": {
        "execution": {
          "iopub.execute_input": "2022-08-17T03:21:01.415471Z",
          "iopub.status.busy": "2022-08-17T03:21:01.415043Z",
          "iopub.status.idle": "2022-08-17T03:21:01.416172Z",
          "shell.execute_reply": "2022-08-17T03:21:01.416486Z"
        },
        "papermill": {
          "duration": 0.053719,
          "end_time": "2022-08-17T03:21:01.416599",
          "exception": false,
          "start_time": "2022-08-17T03:21:01.362880",
          "status": "completed"
        },
        "tags": [
          "hide-input"
        ]
      },
      "outputs": [],
      "source": [
        "def is_stype(stype: Any) -> bool:\n",
        "    \"\"\"check if an object is an SDict, SCoo or SDense\"\"\"\n",
        "    return is_sdict(stype) or is_scoo(stype) or is_sdense(stype)"
      ]
    },
    {
      "cell_type": "markdown",
      "id": "65588640c4aa9335",
      "metadata": {},
      "source": [
        ":::{eval-rst}\n",
        ".. autofunction:: sax.typing_.is_singlemode\n",
        ":::\n"
      ]
    },
    {
      "cell_type": "code",
      "execution_count": 54,
      "id": "eb3eef288fefdaa1",
      "metadata": {
        "execution": {
          "iopub.execute_input": "2022-08-17T03:21:01.518425Z",
          "iopub.status.busy": "2022-08-17T03:21:01.517998Z",
          "iopub.status.idle": "2022-08-17T03:21:01.519524Z",
          "shell.execute_reply": "2022-08-17T03:21:01.519179Z"
        },
        "papermill": {
          "duration": 0.054766,
          "end_time": "2022-08-17T03:21:01.519616",
          "exception": false,
          "start_time": "2022-08-17T03:21:01.464850",
          "status": "completed"
        },
        "tags": [
          "hide-input"
        ]
      },
      "outputs": [],
      "source": [
        "def is_singlemode(S: Any) -> bool:\n",
        "    \"\"\"check if an stype is single mode\"\"\"\n",
        "    if not is_stype(S):\n",
        "        return False\n",
        "    ports = _get_ports(S)\n",
        "    return not any((\"@\" in p) for p in ports)\n",
        "\n",
        "def _get_ports(S: SType):\n",
        "    if is_sdict(S):\n",
        "        S = cast(SDict, S)\n",
        "        ports_set = {p1 for p1, _ in S} | {p2 for _, p2 in S}\n",
        "        return tuple(natsorted(ports_set))\n",
        "    else:\n",
        "        *_, ports_map = S\n",
        "        assert isinstance(ports_map, dict)\n",
        "        return tuple(natsorted(ports_map.keys()))"
      ]
    },
    {
      "cell_type": "markdown",
      "id": "3c46f6378eacbce8",
      "metadata": {},
      "source": [
        ":::{eval-rst}\n",
        ".. autofunction:: sax.typing_.is_multimode\n",
        ":::\n"
      ]
    },
    {
      "cell_type": "code",
      "execution_count": 55,
      "id": "b069a392892e7f88",
      "metadata": {
        "execution": {
          "iopub.execute_input": "2022-08-17T03:21:01.620431Z",
          "iopub.status.busy": "2022-08-17T03:21:01.620016Z",
          "iopub.status.idle": "2022-08-17T03:21:01.621865Z",
          "shell.execute_reply": "2022-08-17T03:21:01.621527Z"
        },
        "papermill": {
          "duration": 0.05367,
          "end_time": "2022-08-17T03:21:01.621966",
          "exception": false,
          "start_time": "2022-08-17T03:21:01.568296",
          "status": "completed"
        },
        "tags": [
          "hide-input"
        ]
      },
      "outputs": [],
      "source": [
        "def is_multimode(S: Any) -> bool:\n",
        "    \"\"\"check if an stype is single mode\"\"\"\n",
        "    if not is_stype(S):\n",
        "        return False\n",
        "    \n",
        "    ports = _get_ports(S)\n",
        "    return all((\"@\" in p) for p in ports)"
      ]
    },
    {
      "cell_type": "markdown",
      "id": "d287bea3fdc8d2d5",
      "metadata": {},
      "source": [
        ":::{eval-rst}\n",
        ".. autofunction:: sax.typing_.is_mixedmode\n",
        ":::\n"
      ]
    },
    {
      "cell_type": "code",
      "execution_count": 56,
      "id": "5dcf4d078c530f09",
      "metadata": {
        "execution": {
          "iopub.execute_input": "2022-08-17T03:21:01.722302Z",
          "iopub.status.busy": "2022-08-17T03:21:01.721874Z",
          "iopub.status.idle": "2022-08-17T03:21:01.723450Z",
          "shell.execute_reply": "2022-08-17T03:21:01.723047Z"
        },
        "papermill": {
          "duration": 0.053305,
          "end_time": "2022-08-17T03:21:01.723543",
          "exception": false,
          "start_time": "2022-08-17T03:21:01.670238",
          "status": "completed"
        },
        "tags": [
          "hide-input"
        ]
      },
      "outputs": [],
      "source": [
        "def is_mixedmode(S: Any) -> bool:\n",
        "    \"\"\"check if an stype is neither single mode nor multimode (hence invalid)\"\"\"\n",
        "    return not is_singlemode(S) and not is_multimode(S)"
      ]
    },
    {
      "cell_type": "markdown",
      "id": "3afe685c",
      "metadata": {
        "papermill": {
          "duration": 0.048386,
          "end_time": "2022-08-17T03:21:01.820689",
          "exception": false,
          "start_time": "2022-08-17T03:21:01.772303",
          "status": "completed"
        },
        "tags": []
      },
      "source": [
        "## SAX return type helpers\n",
        "\n",
        "> a.k.a SDict, SDense, SCoo helpers"
      ]
    },
    {
      "cell_type": "markdown",
      "id": "a875f149",
      "metadata": {
        "papermill": {
          "duration": 0.048939,
          "end_time": "2022-08-17T03:21:01.918576",
          "exception": false,
          "start_time": "2022-08-17T03:21:01.869637",
          "status": "completed"
        },
        "tags": []
      },
      "source": [
        "Convert an `SDict`, `SCoo` or `SDense` into an `SDict` (or convert a model generating any of these types into a model generating an `SDict`):"
      ]
    },
    {
      "cell_type": "code",
      "execution_count": 57,
      "id": "7f098ed9bf012247",
      "metadata": {
        "execution": {
          "iopub.execute_input": "2022-08-17T03:21:02.020544Z",
          "iopub.status.busy": "2022-08-17T03:21:02.020111Z",
          "iopub.status.idle": "2022-08-17T03:21:02.021152Z",
          "shell.execute_reply": "2022-08-17T03:21:02.021507Z"
        },
        "papermill": {
          "duration": 0.053887,
          "end_time": "2022-08-17T03:21:02.021630",
          "exception": false,
          "start_time": "2022-08-17T03:21:01.967743",
          "status": "completed"
        },
        "tags": [
          "remove-cell"
        ]
      },
      "outputs": [],
      "source": [
        "\n",
        "@overload\n",
        "def sdict(S: Model) -> Model:\n",
        "    ...\n",
        "\n",
        "\n",
        "@overload\n",
        "def sdict(S: SType) -> SDict:\n",
        "    ..."
      ]
    },
    {
      "cell_type": "markdown",
      "id": "aa3cb3152e48c097",
      "metadata": {},
      "source": [
        ":::{eval-rst}\n",
        ".. autofunction:: sax.typing_.sdict\n",
        ":::\n"
      ]
    },
    {
      "cell_type": "code",
      "execution_count": 58,
      "id": "6983dc6c692f2310",
      "metadata": {
        "execution": {
          "iopub.execute_input": "2022-08-17T03:21:02.126954Z",
          "iopub.status.busy": "2022-08-17T03:21:02.126525Z",
          "iopub.status.idle": "2022-08-17T03:21:02.128318Z",
          "shell.execute_reply": "2022-08-17T03:21:02.127989Z"
        },
        "papermill": {
          "duration": 0.058166,
          "end_time": "2022-08-17T03:21:02.128415",
          "exception": false,
          "start_time": "2022-08-17T03:21:02.070249",
          "status": "completed"
        },
        "tags": [
          "hide-input"
        ]
      },
      "outputs": [],
      "source": [
        "def sdict(S: Union[Model, SType]) -> Union[Model, SType]:\n",
        "    \"\"\"Convert an `SCoo` or `SDense` to `SDict`\"\"\"\n",
        "\n",
        "    if is_model(S):\n",
        "        model = cast(Model, S)\n",
        "\n",
        "        @functools.wraps(model)\n",
        "        def wrapper(**kwargs):\n",
        "            return sdict(model(**kwargs))\n",
        "\n",
        "        return wrapper\n",
        "\n",
        "    elif is_scoo(S):\n",
        "        x_dict = _scoo_to_sdict(*cast(SCoo, S))\n",
        "    elif is_sdense(S):\n",
        "        x_dict = _sdense_to_sdict(*cast(SDense, S))\n",
        "    elif is_sdict(S):\n",
        "        x_dict = cast(SDict, S)\n",
        "    else:\n",
        "        raise ValueError(\"Could not convert arguments to sdict.\")\n",
        "\n",
        "    return x_dict\n",
        "\n",
        "\n",
        "def _scoo_to_sdict(Si: Array, Sj: Array, Sx: Array, ports_map: Dict[str, int]) -> SDict:\n",
        "    sdict = {}\n",
        "    inverse_ports_map = {int(i): p for p, i in ports_map.items()}\n",
        "    for i, (si, sj) in enumerate(zip(Si, Sj)):\n",
        "        sdict[\n",
        "            inverse_ports_map.get(int(si), \"\"), inverse_ports_map.get(int(sj), \"\")\n",
        "        ] = Sx[..., i]\n",
        "    sdict = {(p1, p2): v for (p1, p2), v in sdict.items() if p1 and p2}\n",
        "    return sdict\n",
        "\n",
        "\n",
        "def _sdense_to_sdict(S: Array, ports_map: Dict[str, int]) -> SDict:\n",
        "    sdict = {}\n",
        "    for p1, i in ports_map.items():\n",
        "        for p2, j in ports_map.items():\n",
        "            sdict[p1, p2] = S[..., i, j]\n",
        "    return sdict"
      ]
    },
    {
      "cell_type": "code",
      "execution_count": 59,
      "id": "9a372fbf",
      "metadata": {
        "execution": {
          "iopub.execute_input": "2022-08-17T03:21:02.236657Z",
          "iopub.status.busy": "2022-08-17T03:21:02.236234Z",
          "iopub.status.idle": "2022-08-17T03:21:02.353908Z",
          "shell.execute_reply": "2022-08-17T03:21:02.353531Z"
        },
        "papermill": {
          "duration": 0.177063,
          "end_time": "2022-08-17T03:21:02.354019",
          "exception": false,
          "start_time": "2022-08-17T03:21:02.176956",
          "status": "completed"
        },
        "tags": []
      },
      "outputs": [],
      "source": [
        "assert sdict(_sdict) is _sdict\n",
        "assert sdict(_scoo) == {\n",
        "    (\"in0\", \"in0\"): 3.0,\n",
        "    (\"in1\", \"in0\"): 1.0,\n",
        "    (\"out0\", \"out0\"): 4.0,\n",
        "}\n",
        "assert sdict(_sdense) == {\n",
        "    (\"in0\", \"in0\"): 0.0,\n",
        "    (\"in0\", \"out0\"): 1.0,\n",
        "    (\"in0\", \"in1\"): 2.0,\n",
        "    (\"out0\", \"in0\"): 3.0,\n",
        "    (\"out0\", \"out0\"): 4.0,\n",
        "    (\"out0\", \"in1\"): 5.0,\n",
        "    (\"in1\", \"in0\"): 6.0,\n",
        "    (\"in1\", \"out0\"): 7.0,\n",
        "    (\"in1\", \"in1\"): 8.0,\n",
        "}"
      ]
    },
    {
      "cell_type": "markdown",
      "id": "492c5cdd",
      "metadata": {
        "papermill": {
          "duration": 0.049089,
          "end_time": "2022-08-17T03:21:02.452631",
          "exception": false,
          "start_time": "2022-08-17T03:21:02.403542",
          "status": "completed"
        },
        "tags": []
      },
      "source": [
        "Convert an `SDict`, `SCoo` or `SDense` into an `SCoo` (or convert a model generating any of these types into a model generating an `SCoo`):"
      ]
    },
    {
      "cell_type": "code",
      "execution_count": 60,
      "id": "b5cb65de4677df99",
      "metadata": {
        "execution": {
          "iopub.execute_input": "2022-08-17T03:21:02.554369Z",
          "iopub.status.busy": "2022-08-17T03:21:02.553928Z",
          "iopub.status.idle": "2022-08-17T03:21:02.554780Z",
          "shell.execute_reply": "2022-08-17T03:21:02.555145Z"
        },
        "papermill": {
          "duration": 0.05377,
          "end_time": "2022-08-17T03:21:02.555263",
          "exception": false,
          "start_time": "2022-08-17T03:21:02.501493",
          "status": "completed"
        },
        "tags": [
          "remove-cell"
        ]
      },
      "outputs": [],
      "source": [
        "\n",
        "@overload\n",
        "def scoo(S: Callable) -> Callable:\n",
        "    ...\n",
        "\n",
        "\n",
        "@overload\n",
        "def scoo(S: SType) -> SCoo:\n",
        "    ..."
      ]
    },
    {
      "cell_type": "markdown",
      "id": "5cdb8b0c9995e733",
      "metadata": {},
      "source": [
        ":::{eval-rst}\n",
        ".. autofunction:: sax.typing_.scoo\n",
        ":::\n"
      ]
    },
    {
      "cell_type": "code",
      "execution_count": 61,
      "id": "028c58f4e6df3411",
      "metadata": {
        "execution": {
          "iopub.execute_input": "2022-08-17T03:21:02.661373Z",
          "iopub.status.busy": "2022-08-17T03:21:02.660949Z",
          "iopub.status.idle": "2022-08-17T03:21:02.662956Z",
          "shell.execute_reply": "2022-08-17T03:21:02.662611Z"
        },
        "papermill": {
          "duration": 0.058601,
          "end_time": "2022-08-17T03:21:02.663056",
          "exception": false,
          "start_time": "2022-08-17T03:21:02.604455",
          "status": "completed"
        },
        "tags": [
          "hide-input"
        ]
      },
      "outputs": [],
      "source": [
        "\n",
        "def scoo(S: Union[Callable, SType]) -> Union[Callable, SCoo]:\n",
        "    \"\"\"Convert an `SDict` or `SDense` to `SCoo`\"\"\"\n",
        "\n",
        "    if is_model(S):\n",
        "        model = cast(Model, S)\n",
        "\n",
        "        @functools.wraps(model)\n",
        "        def wrapper(**kwargs):\n",
        "            return scoo(model(**kwargs))\n",
        "\n",
        "        return wrapper\n",
        "\n",
        "    elif is_scoo(S):\n",
        "        S = cast(SCoo, S)\n",
        "    elif is_sdense(S):\n",
        "        S = _sdense_to_scoo(*cast(SDense, S))\n",
        "    elif is_sdict(S):\n",
        "        S = _sdict_to_scoo(cast(SDict, S))\n",
        "    else:\n",
        "        raise ValueError(\"Could not convert arguments to scoo.\")\n",
        "\n",
        "    return S\n",
        "\n",
        "\n",
        "def _sdense_to_scoo(S: Array, ports_map: Dict[str, int]) -> SCoo:\n",
        "    Sj, Si = jnp.meshgrid(jnp.arange(S.shape[-1]), jnp.arange(S.shape[-2]))\n",
        "    return Si.ravel(), Sj.ravel(), S.reshape(*S.shape[:-2], -1), ports_map\n",
        "\n",
        "\n",
        "def _sdict_to_scoo(sdict: SDict) -> SCoo:\n",
        "    all_ports = {}\n",
        "    for p1, p2 in sdict:\n",
        "        all_ports[p1] = None\n",
        "        all_ports[p2] = None\n",
        "    ports_map = {p: i for i, p in enumerate(all_ports)}\n",
        "    Sx = jnp.stack(jnp.broadcast_arrays(*sdict.values()), -1)\n",
        "    Si = jnp.array([ports_map[p] for p, _ in sdict])\n",
        "    Sj = jnp.array([ports_map[p] for _, p in sdict])\n",
        "    return Si, Sj, Sx, ports_map"
      ]
    },
    {
      "cell_type": "code",
      "execution_count": 62,
      "id": "1e97b31c",
      "metadata": {
        "execution": {
          "iopub.execute_input": "2022-08-17T03:21:02.771136Z",
          "iopub.status.busy": "2022-08-17T03:21:02.770704Z",
          "iopub.status.idle": "2022-08-17T03:21:02.859564Z",
          "shell.execute_reply": "2022-08-17T03:21:02.859198Z"
        },
        "papermill": {
          "duration": 0.147444,
          "end_time": "2022-08-17T03:21:02.859673",
          "exception": false,
          "start_time": "2022-08-17T03:21:02.712229",
          "status": "completed"
        },
        "tags": []
      },
      "outputs": [],
      "source": [
        "assert scoo(_scoo) is _scoo\n",
        "assert scoo(_sdict) == (0, 1, 3.0, {\"in0\": 0, \"out0\": 1})\n",
        "Si, Sj, Sx, port_map = scoo(_sdense)  # type: ignore\n",
        "np.testing.assert_array_equal(Si, jnp.array([0, 0, 0, 1, 1, 1, 2, 2, 2]))\n",
        "np.testing.assert_array_equal(Sj, jnp.array([0, 1, 2, 0, 1, 2, 0, 1, 2]))\n",
        "np.testing.assert_array_almost_equal(Sx, jnp.array([0.0, 1.0, 2.0, 3.0, 4.0, 5.0, 6.0, 7.0, 8.0]))\n",
        "assert port_map == {\"in0\": 0, \"in1\": 2, \"out0\": 1}"
      ]
    },
    {
      "cell_type": "markdown",
      "id": "5e58325b",
      "metadata": {
        "papermill": {
          "duration": 0.04957,
          "end_time": "2022-08-17T03:21:02.958534",
          "exception": false,
          "start_time": "2022-08-17T03:21:02.908964",
          "status": "completed"
        },
        "tags": []
      },
      "source": [
        "Convert an `SDict`, `SCoo` or `SDense` into an `SDense` (or convert a model generating any of these types into a model generating an `SDense`):"
      ]
    },
    {
      "cell_type": "code",
      "execution_count": 63,
      "id": "4ed3c5718ed90a29",
      "metadata": {
        "execution": {
          "iopub.execute_input": "2022-08-17T03:21:03.061271Z",
          "iopub.status.busy": "2022-08-17T03:21:03.060848Z",
          "iopub.status.idle": "2022-08-17T03:21:03.062637Z",
          "shell.execute_reply": "2022-08-17T03:21:03.062281Z"
        },
        "papermill": {
          "duration": 0.054774,
          "end_time": "2022-08-17T03:21:03.062729",
          "exception": false,
          "start_time": "2022-08-17T03:21:03.007955",
          "status": "completed"
        },
        "tags": [
          "remove-cell"
        ]
      },
      "outputs": [],
      "source": [
        "\n",
        "@overload\n",
        "def sdense(S: Callable) -> Callable:\n",
        "    ...\n",
        "\n",
        "\n",
        "@overload\n",
        "def sdense(S: SType) -> SDense:\n",
        "    ..."
      ]
    },
    {
      "cell_type": "markdown",
      "id": "8447a139ce3af2ba",
      "metadata": {},
      "source": [
        ":::{eval-rst}\n",
        ".. autofunction:: sax.typing_.sdense\n",
        ":::\n"
      ]
    },
    {
      "cell_type": "code",
      "execution_count": 64,
      "id": "5985a93e2461737f",
      "metadata": {
        "execution": {
          "iopub.execute_input": "2022-08-17T03:21:03.169254Z",
          "iopub.status.busy": "2022-08-17T03:21:03.168810Z",
          "iopub.status.idle": "2022-08-17T03:21:03.169890Z",
          "shell.execute_reply": "2022-08-17T03:21:03.170255Z"
        },
        "papermill": {
          "duration": 0.058112,
          "end_time": "2022-08-17T03:21:03.170372",
          "exception": false,
          "start_time": "2022-08-17T03:21:03.112260",
          "status": "completed"
        },
        "tags": [
          "hide-input"
        ]
      },
      "outputs": [],
      "source": [
        "\n",
        "def sdense(S: Union[Callable, SType]) -> Union[Callable, SDense]:\n",
        "    \"\"\"Convert an `SDict` or `SCoo` to `SDense`\"\"\"\n",
        "\n",
        "    if is_model(S):\n",
        "        model = cast(Model, S)\n",
        "\n",
        "        @functools.wraps(model)\n",
        "        def wrapper(**kwargs):\n",
        "            return sdense(model(**kwargs))\n",
        "\n",
        "        return wrapper\n",
        "\n",
        "    if is_sdict(S):\n",
        "        S = _sdict_to_sdense(cast(SDict, S))\n",
        "    elif is_scoo(S):\n",
        "        S = _scoo_to_sdense(*cast(SCoo, S))\n",
        "    elif is_sdense(S):\n",
        "        S = cast(SDense, S)\n",
        "    else:\n",
        "        raise ValueError(\"Could not convert arguments to sdense.\")\n",
        "\n",
        "    return S\n",
        "\n",
        "\n",
        "def _scoo_to_sdense(\n",
        "    Si: Array, Sj: Array, Sx: Array, ports_map: Dict[str, int]\n",
        ") -> SDense:\n",
        "    n_col = len(ports_map)\n",
        "    S = jnp.zeros((*Sx.shape[:-1], n_col, n_col), dtype=complex)\n",
        "    if JAX_AVAILABLE:\n",
        "        S = S.at[..., Si, Sj].add(Sx)\n",
        "    else:\n",
        "        S[..., Si, Sj] = Sx\n",
        "    return S, ports_map\n",
        "\n",
        "def _sdict_to_sdense(sdict: SDict) -> SDense:\n",
        "    Si, Sj, Sx, ports_map = _sdict_to_scoo(sdict)\n",
        "    return _scoo_to_sdense(Si, Sj, Sx, ports_map)"
      ]
    },
    {
      "cell_type": "code",
      "execution_count": 65,
      "id": "084b7ddb",
      "metadata": {
        "execution": {
          "iopub.execute_input": "2022-08-17T03:21:03.277571Z",
          "iopub.status.busy": "2022-08-17T03:21:03.276486Z",
          "iopub.status.idle": "2022-08-17T03:21:03.412364Z",
          "shell.execute_reply": "2022-08-17T03:21:03.411968Z"
        },
        "papermill": {
          "duration": 0.192891,
          "end_time": "2022-08-17T03:21:03.412469",
          "exception": false,
          "start_time": "2022-08-17T03:21:03.219578",
          "status": "completed"
        },
        "tags": []
      },
      "outputs": [],
      "source": [
        "assert sdense(_sdense) is _sdense\n",
        "Sd, port_map = sdense(_scoo)  # type: ignore\n",
        "Sd_ = jnp.array([[3.0 + 0.0j, 0.0 + 0.0j, 0.0 + 0.0j],\n",
        "                 [0.0 + 0.0j, 4.0 + 0.0j, 0.0 + 0.0j],\n",
        "                 [1.0 + 0.0j, 0.0 + 0.0j, 0.0 + 0.0j]])\n",
        "\n",
        "np.testing.assert_array_almost_equal(Sd, Sd_)\n",
        "assert port_map == {\"in0\": 0, \"in1\": 2, \"out0\": 1}"
      ]
    },
    {
      "cell_type": "markdown",
      "id": "a97a0ce93b484b37",
      "metadata": {},
      "source": [
        ":::{eval-rst}\n",
        ".. autofunction:: sax.typing_.modelfactory\n",
        ":::\n"
      ]
    },
    {
      "cell_type": "code",
      "execution_count": 66,
      "id": "cc8334f7099fce4e",
      "metadata": {
        "execution": {
          "iopub.execute_input": "2022-08-17T03:21:03.515134Z",
          "iopub.status.busy": "2022-08-17T03:21:03.514057Z",
          "iopub.status.idle": "2022-08-17T03:21:03.516827Z",
          "shell.execute_reply": "2022-08-17T03:21:03.516469Z"
        },
        "papermill": {
          "duration": 0.054987,
          "end_time": "2022-08-17T03:21:03.516922",
          "exception": false,
          "start_time": "2022-08-17T03:21:03.461935",
          "status": "completed"
        },
        "tags": [
          "hide-input"
        ]
      },
      "outputs": [],
      "source": [
        "\n",
        "def modelfactory(func):\n",
        "    \"\"\"Decorator that marks a function as `ModelFactory`\"\"\"\n",
        "    sig = inspect.signature(func)\n",
        "    if _is_callable_annotation(sig.return_annotation):  # already model factory\n",
        "        return func\n",
        "    func.__signature__ = sig.replace(return_annotation=Model)\n",
        "    return func"
      ]
    }
  ],
  "metadata": {
    "kernelspec": {
      "display_name": "sax",
      "language": "python",
      "name": "sax"
    },
    "language_info": {
      "codemirror_mode": {
        "name": "ipython",
        "version": 3
      },
      "file_extension": ".py",
      "mimetype": "text/x-python",
      "name": "python",
      "nbconvert_exporter": "python",
      "pygments_lexer": "ipython3",
      "version": "3.9.0"
    },
    "papermill": {
      "default_parameters": {},
      "duration": 14.983455,
      "end_time": "2022-08-17T03:21:03.873525",
      "environment_variables": {},
      "exception": null,
      "input_path": "./nbs/00_typing.ipynb",
      "output_path": "./nbs/00_typing.ipynb",
      "parameters": {},
      "start_time": "2022-08-17T03:20:48.890070",
      "version": "2.3.4"
    }
  },
  "nbformat": 4,
  "nbformat_minor": 5
}
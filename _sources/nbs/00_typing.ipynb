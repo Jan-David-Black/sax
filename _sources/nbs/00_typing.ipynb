{
  "cells": [
    {
      "cell_type": "code",
      "execution_count": 1,
      "id": "aa9e92ed344ac361",
      "metadata": {
        "execution": {
          "iopub.execute_input": "2022-08-16T04:18:42.525915Z",
          "iopub.status.busy": "2022-08-16T04:18:42.525472Z",
          "iopub.status.idle": "2022-08-16T04:18:42.528099Z",
          "shell.execute_reply": "2022-08-16T04:18:42.527682Z"
        },
        "papermill": {
          "duration": 0.053175,
          "end_time": "2022-08-16T04:18:42.528206",
          "exception": false,
          "start_time": "2022-08-16T04:18:42.475031",
          "status": "completed"
        },
        "tags": [
          "remove-cell"
        ]
      },
      "outputs": [],
      "source": []
    },
    {
      "cell_type": "markdown",
      "id": "13a3464b",
      "metadata": {
        "papermill": {
          "duration": 0.042596,
          "end_time": "2022-08-16T04:18:42.614321",
          "exception": false,
          "start_time": "2022-08-16T04:18:42.571725",
          "status": "completed"
        },
        "tags": []
      },
      "source": [
        "# Typing\n",
        "\n",
        "> SAX types"
      ]
    },
    {
      "cell_type": "code",
      "execution_count": 2,
      "id": "dc44ffa533a70b60",
      "metadata": {
        "execution": {
          "iopub.execute_input": "2022-08-16T04:18:42.714317Z",
          "iopub.status.busy": "2022-08-16T04:18:42.707504Z",
          "iopub.status.idle": "2022-08-16T04:18:44.660882Z",
          "shell.execute_reply": "2022-08-16T04:18:44.661237Z"
        },
        "papermill": {
          "duration": 2.004612,
          "end_time": "2022-08-16T04:18:44.661386",
          "exception": false,
          "start_time": "2022-08-16T04:18:42.656774",
          "status": "completed"
        },
        "tags": [
          "remove-cell"
        ]
      },
      "outputs": [],
      "source": [
        "import matplotlib.pyplot as plt\n",
        "from fastcore.test import test_eq\n",
        "from pytest import approx, raises\n",
        "\n",
        "import os, sys; sys.stderr = open(os.devnull, \"w\")"
      ]
    },
    {
      "cell_type": "code",
      "execution_count": 3,
      "id": "5eda4315dc0b8629",
      "metadata": {
        "execution": {
          "iopub.execute_input": "2022-08-16T04:18:44.754356Z",
          "iopub.status.busy": "2022-08-16T04:18:44.753923Z",
          "iopub.status.idle": "2022-08-16T04:18:45.307524Z",
          "shell.execute_reply": "2022-08-16T04:18:45.307951Z"
        },
        "papermill": {
          "duration": 0.603315,
          "end_time": "2022-08-16T04:18:45.308096",
          "exception": false,
          "start_time": "2022-08-16T04:18:44.704781",
          "status": "completed"
        },
        "tags": [
          "hide-input"
        ]
      },
      "outputs": [],
      "source": [
        "from __future__ import annotations\n",
        "import functools\n",
        "import inspect\n",
        "from collections.abc import Callable as CallableABC\n",
        "from typing import Any, Callable, Dict, Tuple, Union, cast, overload\n",
        "try:\n",
        "    from typing import TypedDict\n",
        "except ImportError: # python<3.8\n",
        "    from typing_extensions import TypedDict\n",
        "\n",
        "import numpy as np\n",
        "from natsort import natsorted\n",
        "\n",
        "try:\n",
        "    import jax.numpy as jnp\n",
        "    JAX_AVAILABLE = True\n",
        "except ImportError:\n",
        "    import numpy as jnp\n",
        "    JAX_AVAILABLE = False"
      ]
    },
    {
      "cell_type": "markdown",
      "id": "41e26ab2",
      "metadata": {
        "papermill": {
          "duration": 0.073274,
          "end_time": "2022-08-16T04:18:45.424894",
          "exception": false,
          "start_time": "2022-08-16T04:18:45.351620",
          "status": "completed"
        },
        "tags": []
      },
      "source": [
        "## Core Types"
      ]
    },
    {
      "cell_type": "markdown",
      "id": "ca29df5c",
      "metadata": {
        "papermill": {
          "duration": 0.042823,
          "end_time": "2022-08-16T04:18:45.510645",
          "exception": false,
          "start_time": "2022-08-16T04:18:45.467822",
          "status": "completed"
        },
        "tags": []
      },
      "source": [
        "### Array"
      ]
    },
    {
      "cell_type": "markdown",
      "id": "82c3c344",
      "metadata": {
        "papermill": {
          "duration": 0.04309,
          "end_time": "2022-08-16T04:18:45.596941",
          "exception": false,
          "start_time": "2022-08-16T04:18:45.553851",
          "status": "completed"
        },
        "tags": []
      },
      "source": [
        "an `Array` is either a jax array or a numpy array:"
      ]
    },
    {
      "cell_type": "code",
      "execution_count": 4,
      "id": "e77b121bdf19347f",
      "metadata": {
        "execution": {
          "iopub.execute_input": "2022-08-16T04:18:45.687948Z",
          "iopub.status.busy": "2022-08-16T04:18:45.687078Z",
          "iopub.status.idle": "2022-08-16T04:18:45.688439Z",
          "shell.execute_reply": "2022-08-16T04:18:45.688764Z"
        },
        "papermill": {
          "duration": 0.048771,
          "end_time": "2022-08-16T04:18:45.688883",
          "exception": false,
          "start_time": "2022-08-16T04:18:45.640112",
          "status": "completed"
        },
        "tags": []
      },
      "outputs": [],
      "source": [
        "Array = Union[jnp.ndarray, np.ndarray]"
      ]
    },
    {
      "cell_type": "markdown",
      "id": "6b86fa37",
      "metadata": {
        "papermill": {
          "duration": 0.042874,
          "end_time": "2022-08-16T04:18:45.775029",
          "exception": false,
          "start_time": "2022-08-16T04:18:45.732155",
          "status": "completed"
        },
        "tags": []
      },
      "source": [
        "### Int"
      ]
    },
    {
      "cell_type": "markdown",
      "id": "9fa467c9",
      "metadata": {
        "papermill": {
          "duration": 0.042964,
          "end_time": "2022-08-16T04:18:45.860969",
          "exception": false,
          "start_time": "2022-08-16T04:18:45.818005",
          "status": "completed"
        },
        "tags": []
      },
      "source": [
        "An `Int` is either a built-in `int` or an `Array` [of dtype `int`]"
      ]
    },
    {
      "cell_type": "code",
      "execution_count": 5,
      "id": "c79a9dcb063c8f75",
      "metadata": {
        "execution": {
          "iopub.execute_input": "2022-08-16T04:18:45.951421Z",
          "iopub.status.busy": "2022-08-16T04:18:45.950980Z",
          "iopub.status.idle": "2022-08-16T04:18:45.952373Z",
          "shell.execute_reply": "2022-08-16T04:18:45.952701Z"
        },
        "papermill": {
          "duration": 0.048823,
          "end_time": "2022-08-16T04:18:45.952821",
          "exception": false,
          "start_time": "2022-08-16T04:18:45.903998",
          "status": "completed"
        },
        "tags": []
      },
      "outputs": [],
      "source": [
        "Int = Union[int, Array]"
      ]
    },
    {
      "cell_type": "markdown",
      "id": "c486cd2c",
      "metadata": {
        "papermill": {
          "duration": 0.042897,
          "end_time": "2022-08-16T04:18:46.039006",
          "exception": false,
          "start_time": "2022-08-16T04:18:45.996109",
          "status": "completed"
        },
        "tags": []
      },
      "source": [
        "### Float"
      ]
    },
    {
      "cell_type": "markdown",
      "id": "3b59bba6",
      "metadata": {
        "papermill": {
          "duration": 0.043113,
          "end_time": "2022-08-16T04:18:46.125220",
          "exception": false,
          "start_time": "2022-08-16T04:18:46.082107",
          "status": "completed"
        },
        "tags": []
      },
      "source": [
        "A `Float` is eiter a built-in `float` or an `Array` [of dtype `float`]"
      ]
    },
    {
      "cell_type": "code",
      "execution_count": 6,
      "id": "7b61be4c6eee86be",
      "metadata": {
        "execution": {
          "iopub.execute_input": "2022-08-16T04:18:46.215218Z",
          "iopub.status.busy": "2022-08-16T04:18:46.214796Z",
          "iopub.status.idle": "2022-08-16T04:18:46.216453Z",
          "shell.execute_reply": "2022-08-16T04:18:46.216115Z"
        },
        "papermill": {
          "duration": 0.048046,
          "end_time": "2022-08-16T04:18:46.216550",
          "exception": false,
          "start_time": "2022-08-16T04:18:46.168504",
          "status": "completed"
        },
        "tags": []
      },
      "outputs": [],
      "source": [
        "Float = Union[float, Array]"
      ]
    },
    {
      "cell_type": "markdown",
      "id": "bdfd6200",
      "metadata": {
        "papermill": {
          "duration": 0.043089,
          "end_time": "2022-08-16T04:18:46.302722",
          "exception": false,
          "start_time": "2022-08-16T04:18:46.259633",
          "status": "completed"
        },
        "tags": []
      },
      "source": [
        "### ComplexFloat"
      ]
    },
    {
      "cell_type": "markdown",
      "id": "b1a7d255",
      "metadata": {
        "papermill": {
          "duration": 0.043125,
          "end_time": "2022-08-16T04:18:46.389153",
          "exception": false,
          "start_time": "2022-08-16T04:18:46.346028",
          "status": "completed"
        },
        "tags": []
      },
      "source": [
        "A `ComplexFloat` is either a build-in `complex` or an Array [of dtype `complex`]:"
      ]
    },
    {
      "cell_type": "code",
      "execution_count": 7,
      "id": "4c5a1cae0008f3ba",
      "metadata": {
        "execution": {
          "iopub.execute_input": "2022-08-16T04:18:46.478711Z",
          "iopub.status.busy": "2022-08-16T04:18:46.478287Z",
          "iopub.status.idle": "2022-08-16T04:18:46.479901Z",
          "shell.execute_reply": "2022-08-16T04:18:46.479448Z"
        },
        "papermill": {
          "duration": 0.047929,
          "end_time": "2022-08-16T04:18:46.479999",
          "exception": false,
          "start_time": "2022-08-16T04:18:46.432070",
          "status": "completed"
        },
        "tags": []
      },
      "outputs": [],
      "source": [
        "ComplexFloat = Union[complex, Float]"
      ]
    },
    {
      "cell_type": "markdown",
      "id": "1f1aa099",
      "metadata": {
        "papermill": {
          "duration": 0.043507,
          "end_time": "2022-08-16T04:18:46.566548",
          "exception": false,
          "start_time": "2022-08-16T04:18:46.523041",
          "status": "completed"
        },
        "tags": []
      },
      "source": [
        "### Settings"
      ]
    },
    {
      "cell_type": "markdown",
      "id": "69839acd",
      "metadata": {
        "papermill": {
          "duration": 0.043311,
          "end_time": "2022-08-16T04:18:46.653169",
          "exception": false,
          "start_time": "2022-08-16T04:18:46.609858",
          "status": "completed"
        },
        "tags": []
      },
      "source": [
        "A `Settings` dictionary is a nested mapping between setting names [`str`] to either `ComplexFloat` values OR to another lower level `Settings` dictionary."
      ]
    },
    {
      "cell_type": "code",
      "execution_count": 8,
      "id": "5fa9fa826169cb42",
      "metadata": {
        "execution": {
          "iopub.execute_input": "2022-08-16T04:18:46.744184Z",
          "iopub.status.busy": "2022-08-16T04:18:46.743395Z",
          "iopub.status.idle": "2022-08-16T04:18:46.744714Z",
          "shell.execute_reply": "2022-08-16T04:18:46.745103Z"
        },
        "papermill": {
          "duration": 0.048727,
          "end_time": "2022-08-16T04:18:46.745223",
          "exception": false,
          "start_time": "2022-08-16T04:18:46.696496",
          "status": "completed"
        },
        "tags": []
      },
      "outputs": [],
      "source": [
        "Settings = Union[Dict[str, ComplexFloat], Dict[str, \"Settings\"]]"
      ]
    },
    {
      "cell_type": "markdown",
      "id": "cf202d06",
      "metadata": {
        "papermill": {
          "duration": 0.04324,
          "end_time": "2022-08-16T04:18:46.831733",
          "exception": false,
          "start_time": "2022-08-16T04:18:46.788493",
          "status": "completed"
        },
        "tags": []
      },
      "source": [
        "Settings dictionaries are used to parametrize a SAX `Model` or a `circuit`. The settings dictionary should have the same hierarchy levels as the circuit:\n",
        " \n",
        " > Example:"
      ]
    },
    {
      "cell_type": "code",
      "execution_count": 9,
      "id": "2b26c4ab",
      "metadata": {
        "execution": {
          "iopub.execute_input": "2022-08-16T04:18:46.922228Z",
          "iopub.status.busy": "2022-08-16T04:18:46.921798Z",
          "iopub.status.idle": "2022-08-16T04:18:46.923401Z",
          "shell.execute_reply": "2022-08-16T04:18:46.923750Z"
        },
        "papermill": {
          "duration": 0.049032,
          "end_time": "2022-08-16T04:18:46.923872",
          "exception": false,
          "start_time": "2022-08-16T04:18:46.874840",
          "status": "completed"
        },
        "tags": []
      },
      "outputs": [],
      "source": [
        "mzi_settings = {\n",
        "    \"wl\": 1.5,  # global settings\n",
        "    \"lft\": {\"coupling\": 0.5},  # settings for the left coupler\n",
        "    \"top\": {\"neff\": 3.4},  # settings for the top waveguide\n",
        "    \"rgt\": {\"coupling\": 0.3},  # settings for the right coupler\n",
        "}"
      ]
    },
    {
      "cell_type": "markdown",
      "id": "45043912",
      "metadata": {
        "papermill": {
          "duration": 0.043402,
          "end_time": "2022-08-16T04:18:47.011076",
          "exception": false,
          "start_time": "2022-08-16T04:18:46.967674",
          "status": "completed"
        },
        "tags": []
      },
      "source": [
        "### SDict"
      ]
    },
    {
      "cell_type": "markdown",
      "id": "c5a7facf",
      "metadata": {
        "papermill": {
          "duration": 0.043436,
          "end_time": "2022-08-16T04:18:47.097912",
          "exception": false,
          "start_time": "2022-08-16T04:18:47.054476",
          "status": "completed"
        },
        "tags": []
      },
      "source": [
        "An `SDict` is a sparse dictionary based representation of an S-matrix, mapping port name tuples such as `('in0', 'out0')` to `ComplexFloat`."
      ]
    },
    {
      "cell_type": "code",
      "execution_count": 10,
      "id": "3be29caa60be0971",
      "metadata": {
        "execution": {
          "iopub.execute_input": "2022-08-16T04:18:47.188527Z",
          "iopub.status.busy": "2022-08-16T04:18:47.188101Z",
          "iopub.status.idle": "2022-08-16T04:18:47.189777Z",
          "shell.execute_reply": "2022-08-16T04:18:47.189417Z"
        },
        "papermill": {
          "duration": 0.048576,
          "end_time": "2022-08-16T04:18:47.189871",
          "exception": false,
          "start_time": "2022-08-16T04:18:47.141295",
          "status": "completed"
        },
        "tags": []
      },
      "outputs": [],
      "source": [
        "SDict = Dict[Tuple[str, str], ComplexFloat]"
      ]
    },
    {
      "cell_type": "markdown",
      "id": "07dc470a",
      "metadata": {
        "papermill": {
          "duration": 0.043304,
          "end_time": "2022-08-16T04:18:47.276610",
          "exception": false,
          "start_time": "2022-08-16T04:18:47.233306",
          "status": "completed"
        },
        "tags": []
      },
      "source": [
        "> Example:"
      ]
    },
    {
      "cell_type": "code",
      "execution_count": 11,
      "id": "ad65a70c",
      "metadata": {
        "execution": {
          "iopub.execute_input": "2022-08-16T04:18:47.367264Z",
          "iopub.status.busy": "2022-08-16T04:18:47.366844Z",
          "iopub.status.idle": "2022-08-16T04:18:47.369309Z",
          "shell.execute_reply": "2022-08-16T04:18:47.369619Z"
        },
        "papermill": {
          "duration": 0.049716,
          "end_time": "2022-08-16T04:18:47.369737",
          "exception": false,
          "start_time": "2022-08-16T04:18:47.320021",
          "status": "completed"
        },
        "tags": []
      },
      "outputs": [],
      "source": [
        "_sdict: SDict = {\n",
        "    (\"in0\", \"out0\"): 3.0,\n",
        "}"
      ]
    },
    {
      "cell_type": "markdown",
      "id": "0e2c7430",
      "metadata": {
        "papermill": {
          "duration": 0.043733,
          "end_time": "2022-08-16T04:18:47.457073",
          "exception": false,
          "start_time": "2022-08-16T04:18:47.413340",
          "status": "completed"
        },
        "tags": []
      },
      "source": [
        "### SCoo"
      ]
    },
    {
      "cell_type": "markdown",
      "id": "ef614e1d",
      "metadata": {
        "papermill": {
          "duration": 0.043574,
          "end_time": "2022-08-16T04:18:47.544338",
          "exception": false,
          "start_time": "2022-08-16T04:18:47.500764",
          "status": "completed"
        },
        "tags": []
      },
      "source": [
        "An `SCoo` is a sparse matrix based representation of an S-matrix consisting of three arrays and a port map. The three arrays represent the input port indices [`int`], output port indices [`int`] and the S-matrix values [`ComplexFloat`] of the sparse matrix. The port map maps a port name [`str`] to a port index [`int`]. Only these four arrays **together** and in this specific **order** are considered a valid `SCoo` representation!"
      ]
    },
    {
      "cell_type": "code",
      "execution_count": 12,
      "id": "d8e2f3d916bb0d09",
      "metadata": {
        "execution": {
          "iopub.execute_input": "2022-08-16T04:18:47.636010Z",
          "iopub.status.busy": "2022-08-16T04:18:47.635537Z",
          "iopub.status.idle": "2022-08-16T04:18:47.637221Z",
          "shell.execute_reply": "2022-08-16T04:18:47.636858Z"
        },
        "papermill": {
          "duration": 0.049139,
          "end_time": "2022-08-16T04:18:47.637318",
          "exception": false,
          "start_time": "2022-08-16T04:18:47.588179",
          "status": "completed"
        },
        "tags": []
      },
      "outputs": [],
      "source": [
        "SCoo = Tuple[Array, Array, ComplexFloat, Dict[str, int]]"
      ]
    },
    {
      "cell_type": "markdown",
      "id": "ff9719c8",
      "metadata": {
        "papermill": {
          "duration": 0.043764,
          "end_time": "2022-08-16T04:18:47.724459",
          "exception": false,
          "start_time": "2022-08-16T04:18:47.680695",
          "status": "completed"
        },
        "tags": []
      },
      "source": [
        "> Example:"
      ]
    },
    {
      "cell_type": "code",
      "execution_count": 13,
      "id": "972f8060",
      "metadata": {
        "execution": {
          "iopub.execute_input": "2022-08-16T04:18:47.818137Z",
          "iopub.status.busy": "2022-08-16T04:18:47.817125Z",
          "iopub.status.idle": "2022-08-16T04:18:47.844978Z",
          "shell.execute_reply": "2022-08-16T04:18:47.844567Z"
        },
        "papermill": {
          "duration": 0.076621,
          "end_time": "2022-08-16T04:18:47.845093",
          "exception": false,
          "start_time": "2022-08-16T04:18:47.768472",
          "status": "completed"
        },
        "tags": []
      },
      "outputs": [],
      "source": [
        "Si = jnp.arange(3, dtype=int)\n",
        "Sj = jnp.array([0, 1, 0], dtype=int)\n",
        "Sx = jnp.array([3.0, 4.0, 1.0])\n",
        "port_map = {\"in0\": 0, \"in1\": 2, \"out0\": 1}\n",
        "_scoo: SCoo = (Si, Sj, Sx, port_map)"
      ]
    },
    {
      "cell_type": "markdown",
      "id": "2cba9246",
      "metadata": {
        "papermill": {
          "duration": 0.043682,
          "end_time": "2022-08-16T04:18:47.932289",
          "exception": false,
          "start_time": "2022-08-16T04:18:47.888607",
          "status": "completed"
        },
        "tags": []
      },
      "source": [
        "### SDense"
      ]
    },
    {
      "cell_type": "markdown",
      "id": "fd28795b",
      "metadata": {
        "papermill": {
          "duration": 0.043722,
          "end_time": "2022-08-16T04:18:48.019730",
          "exception": false,
          "start_time": "2022-08-16T04:18:47.976008",
          "status": "completed"
        },
        "tags": []
      },
      "source": [
        "an `SDense` is a dense matrix representation of an S-matrix. It's represented by an NxN `ComplexFloat` array and a port map (mapping port names onto port indices)."
      ]
    },
    {
      "cell_type": "code",
      "execution_count": 14,
      "id": "4ec98cd9e7a56875",
      "metadata": {
        "execution": {
          "iopub.execute_input": "2022-08-16T04:18:48.111642Z",
          "iopub.status.busy": "2022-08-16T04:18:48.111177Z",
          "iopub.status.idle": "2022-08-16T04:18:48.112376Z",
          "shell.execute_reply": "2022-08-16T04:18:48.112706Z"
        },
        "papermill": {
          "duration": 0.049231,
          "end_time": "2022-08-16T04:18:48.112827",
          "exception": false,
          "start_time": "2022-08-16T04:18:48.063596",
          "status": "completed"
        },
        "tags": []
      },
      "outputs": [],
      "source": [
        "SDense = Tuple[Array, Dict[str, int]]"
      ]
    },
    {
      "cell_type": "markdown",
      "id": "2c4789f7",
      "metadata": {
        "papermill": {
          "duration": 0.043614,
          "end_time": "2022-08-16T04:18:48.200416",
          "exception": false,
          "start_time": "2022-08-16T04:18:48.156802",
          "status": "completed"
        },
        "tags": []
      },
      "source": [
        "> Example:"
      ]
    },
    {
      "cell_type": "code",
      "execution_count": 15,
      "id": "02def7ed",
      "metadata": {
        "execution": {
          "iopub.execute_input": "2022-08-16T04:18:48.295139Z",
          "iopub.status.busy": "2022-08-16T04:18:48.294714Z",
          "iopub.status.idle": "2022-08-16T04:18:48.316996Z",
          "shell.execute_reply": "2022-08-16T04:18:48.316568Z"
        },
        "papermill": {
          "duration": 0.073184,
          "end_time": "2022-08-16T04:18:48.317108",
          "exception": false,
          "start_time": "2022-08-16T04:18:48.243924",
          "status": "completed"
        },
        "tags": []
      },
      "outputs": [],
      "source": [
        "Sd = jnp.arange(9, dtype=float).reshape(3, 3)\n",
        "port_map = {\"in0\": 0, \"in1\": 2, \"out0\": 1}\n",
        "_sdense = Sd, port_map"
      ]
    },
    {
      "cell_type": "markdown",
      "id": "b0d2e36f",
      "metadata": {
        "papermill": {
          "duration": 0.044093,
          "end_time": "2022-08-16T04:18:48.406208",
          "exception": false,
          "start_time": "2022-08-16T04:18:48.362115",
          "status": "completed"
        },
        "tags": []
      },
      "source": [
        "### SType"
      ]
    },
    {
      "cell_type": "markdown",
      "id": "b441f21d",
      "metadata": {
        "papermill": {
          "duration": 0.043868,
          "end_time": "2022-08-16T04:18:48.493927",
          "exception": false,
          "start_time": "2022-08-16T04:18:48.450059",
          "status": "completed"
        },
        "tags": []
      },
      "source": [
        "an `SType` is either an `SDict` **OR** an `SCoo` **OR** an `SDense`:"
      ]
    },
    {
      "cell_type": "code",
      "execution_count": 16,
      "id": "143d16640e1d62c5",
      "metadata": {
        "execution": {
          "iopub.execute_input": "2022-08-16T04:18:48.585572Z",
          "iopub.status.busy": "2022-08-16T04:18:48.585145Z",
          "iopub.status.idle": "2022-08-16T04:18:48.587123Z",
          "shell.execute_reply": "2022-08-16T04:18:48.586779Z"
        },
        "papermill": {
          "duration": 0.049355,
          "end_time": "2022-08-16T04:18:48.587221",
          "exception": false,
          "start_time": "2022-08-16T04:18:48.537866",
          "status": "completed"
        },
        "tags": []
      },
      "outputs": [],
      "source": [
        "SType = Union[SDict, SCoo, SDense]"
      ]
    },
    {
      "cell_type": "markdown",
      "id": "e0561b07",
      "metadata": {
        "papermill": {
          "duration": 0.044363,
          "end_time": "2022-08-16T04:18:48.675383",
          "exception": false,
          "start_time": "2022-08-16T04:18:48.631020",
          "status": "completed"
        },
        "tags": []
      },
      "source": [
        "> Example:"
      ]
    },
    {
      "cell_type": "code",
      "execution_count": 17,
      "id": "5b52a5f2",
      "metadata": {
        "execution": {
          "iopub.execute_input": "2022-08-16T04:18:48.768355Z",
          "iopub.status.busy": "2022-08-16T04:18:48.767930Z",
          "iopub.status.idle": "2022-08-16T04:18:48.769619Z",
          "shell.execute_reply": "2022-08-16T04:18:48.769195Z"
        },
        "papermill": {
          "duration": 0.050092,
          "end_time": "2022-08-16T04:18:48.769715",
          "exception": false,
          "start_time": "2022-08-16T04:18:48.719623",
          "status": "completed"
        },
        "tags": []
      },
      "outputs": [],
      "source": [
        "obj: SType = _sdict\n",
        "obj: SType = _scoo\n",
        "obj: SType = _sdense"
      ]
    },
    {
      "cell_type": "markdown",
      "id": "afabe91b",
      "metadata": {
        "papermill": {
          "duration": 0.044315,
          "end_time": "2022-08-16T04:18:48.858288",
          "exception": false,
          "start_time": "2022-08-16T04:18:48.813973",
          "status": "completed"
        },
        "tags": []
      },
      "source": [
        "### Model"
      ]
    },
    {
      "cell_type": "markdown",
      "id": "13808fb1",
      "metadata": {
        "papermill": {
          "duration": 0.044327,
          "end_time": "2022-08-16T04:18:48.947188",
          "exception": false,
          "start_time": "2022-08-16T04:18:48.902861",
          "status": "completed"
        },
        "tags": []
      },
      "source": [
        "A `Model` is any keyword-only function that returns an `SType`:"
      ]
    },
    {
      "cell_type": "code",
      "execution_count": 18,
      "id": "79af19efef093d4b",
      "metadata": {
        "execution": {
          "iopub.execute_input": "2022-08-16T04:18:49.040263Z",
          "iopub.status.busy": "2022-08-16T04:18:49.039204Z",
          "iopub.status.idle": "2022-08-16T04:18:49.040756Z",
          "shell.execute_reply": "2022-08-16T04:18:49.041090Z"
        },
        "papermill": {
          "duration": 0.049587,
          "end_time": "2022-08-16T04:18:49.041212",
          "exception": false,
          "start_time": "2022-08-16T04:18:48.991625",
          "status": "completed"
        },
        "tags": []
      },
      "outputs": [],
      "source": [
        "Model = Callable[..., SType]"
      ]
    },
    {
      "cell_type": "markdown",
      "id": "fad534fb",
      "metadata": {
        "papermill": {
          "duration": 0.044207,
          "end_time": "2022-08-16T04:18:49.129619",
          "exception": false,
          "start_time": "2022-08-16T04:18:49.085412",
          "status": "completed"
        },
        "tags": []
      },
      "source": [
        "### ModelFactory"
      ]
    },
    {
      "cell_type": "markdown",
      "id": "85781647",
      "metadata": {
        "papermill": {
          "duration": 0.044505,
          "end_time": "2022-08-16T04:18:49.218206",
          "exception": false,
          "start_time": "2022-08-16T04:18:49.173701",
          "status": "completed"
        },
        "tags": []
      },
      "source": [
        "A `ModelFactory` is any keyword-only function that returns a `Model`:"
      ]
    },
    {
      "cell_type": "code",
      "execution_count": 19,
      "id": "ca95f45ca7422639",
      "metadata": {
        "execution": {
          "iopub.execute_input": "2022-08-16T04:18:49.310788Z",
          "iopub.status.busy": "2022-08-16T04:18:49.310358Z",
          "iopub.status.idle": "2022-08-16T04:18:49.311624Z",
          "shell.execute_reply": "2022-08-16T04:18:49.312028Z"
        },
        "papermill": {
          "duration": 0.049569,
          "end_time": "2022-08-16T04:18:49.312149",
          "exception": false,
          "start_time": "2022-08-16T04:18:49.262580",
          "status": "completed"
        },
        "tags": []
      },
      "outputs": [],
      "source": [
        "ModelFactory = Callable[..., Model]"
      ]
    },
    {
      "cell_type": "markdown",
      "id": "353d8506",
      "metadata": {
        "papermill": {
          "duration": 0.04404,
          "end_time": "2022-08-16T04:18:49.400091",
          "exception": false,
          "start_time": "2022-08-16T04:18:49.356051",
          "status": "completed"
        },
        "tags": []
      },
      "source": [
        "> Note: SAX sometimes needs to figure out the difference between a `ModelFactory` and a normal `Model` *before* running the function. To do this, SAX will check the return annotation of the function. Any function with a `-> Model` or `-> Callable` annotation will be considered a `ModelFactory`. Any function without this annotation will be considered a normal Model: **don't forget the return annotation of your Model Factory!** To ensure a correct annotation and to ensure forward compatibility, it's recommended to decorate your `ModelFactory` with the `modelfactory` decorator."
      ]
    },
    {
      "cell_type": "markdown",
      "id": "e42d3f17",
      "metadata": {
        "papermill": {
          "duration": 0.044074,
          "end_time": "2022-08-16T04:18:49.488434",
          "exception": false,
          "start_time": "2022-08-16T04:18:49.444360",
          "status": "completed"
        },
        "tags": []
      },
      "source": [
        "### GeneralModel"
      ]
    },
    {
      "cell_type": "markdown",
      "id": "0c4356fc",
      "metadata": {
        "papermill": {
          "duration": 0.044398,
          "end_time": "2022-08-16T04:18:49.577227",
          "exception": false,
          "start_time": "2022-08-16T04:18:49.532829",
          "status": "completed"
        },
        "tags": []
      },
      "source": [
        "a `GeneralModel` is either a `Model` or a `LogicalNetlist` (will be defined below):"
      ]
    },
    {
      "cell_type": "code",
      "execution_count": 20,
      "id": "cfa0163c326f822c",
      "metadata": {
        "execution": {
          "iopub.execute_input": "2022-08-16T04:18:49.670185Z",
          "iopub.status.busy": "2022-08-16T04:18:49.669756Z",
          "iopub.status.idle": "2022-08-16T04:18:49.671059Z",
          "shell.execute_reply": "2022-08-16T04:18:49.671390Z"
        },
        "papermill": {
          "duration": 0.049615,
          "end_time": "2022-08-16T04:18:49.671513",
          "exception": false,
          "start_time": "2022-08-16T04:18:49.621898",
          "status": "completed"
        },
        "tags": []
      },
      "outputs": [],
      "source": [
        "GeneralModel = Union[Model, \"LogicalNetlist\"]"
      ]
    },
    {
      "cell_type": "markdown",
      "id": "b32b5a31",
      "metadata": {
        "papermill": {
          "duration": 0.044563,
          "end_time": "2022-08-16T04:18:49.760191",
          "exception": false,
          "start_time": "2022-08-16T04:18:49.715628",
          "status": "completed"
        },
        "tags": []
      },
      "source": [
        "### Models"
      ]
    },
    {
      "cell_type": "markdown",
      "id": "a796dcb2",
      "metadata": {
        "papermill": {
          "duration": 0.044008,
          "end_time": "2022-08-16T04:18:49.848678",
          "exception": false,
          "start_time": "2022-08-16T04:18:49.804670",
          "status": "completed"
        },
        "tags": []
      },
      "source": [
        "`Models` is a mapping between model names [`str`] and `GeneralModel`:"
      ]
    },
    {
      "cell_type": "code",
      "execution_count": 21,
      "id": "3e876c36f4d46eba",
      "metadata": {
        "execution": {
          "iopub.execute_input": "2022-08-16T04:18:49.940609Z",
          "iopub.status.busy": "2022-08-16T04:18:49.940182Z",
          "iopub.status.idle": "2022-08-16T04:18:49.942138Z",
          "shell.execute_reply": "2022-08-16T04:18:49.941798Z"
        },
        "papermill": {
          "duration": 0.049677,
          "end_time": "2022-08-16T04:18:49.942237",
          "exception": false,
          "start_time": "2022-08-16T04:18:49.892560",
          "status": "completed"
        },
        "tags": []
      },
      "outputs": [],
      "source": [
        "Models = Dict[str, GeneralModel]"
      ]
    },
    {
      "cell_type": "markdown",
      "id": "ed1af61c",
      "metadata": {
        "papermill": {
          "duration": 0.044093,
          "end_time": "2022-08-16T04:18:50.030190",
          "exception": false,
          "start_time": "2022-08-16T04:18:49.986097",
          "status": "completed"
        },
        "tags": []
      },
      "source": [
        "> Note: sometimes 'component' is used to refer to a a `Model` or `GeneralModel`. This is because other tools (such as for example GDSFactory) prefer that terminology."
      ]
    },
    {
      "cell_type": "markdown",
      "id": "5d276f63",
      "metadata": {
        "papermill": {
          "duration": 0.043991,
          "end_time": "2022-08-16T04:18:50.118387",
          "exception": false,
          "start_time": "2022-08-16T04:18:50.074396",
          "status": "completed"
        },
        "tags": []
      },
      "source": [
        "## Netlist Types"
      ]
    },
    {
      "cell_type": "markdown",
      "id": "2c946dc2",
      "metadata": {
        "papermill": {
          "duration": 0.044406,
          "end_time": "2022-08-16T04:18:50.207383",
          "exception": false,
          "start_time": "2022-08-16T04:18:50.162977",
          "status": "completed"
        },
        "tags": []
      },
      "source": [
        "### Instance"
      ]
    },
    {
      "cell_type": "markdown",
      "id": "24694709",
      "metadata": {
        "papermill": {
          "duration": 0.044591,
          "end_time": "2022-08-16T04:18:50.296005",
          "exception": false,
          "start_time": "2022-08-16T04:18:50.251414",
          "status": "completed"
        },
        "tags": []
      },
      "source": [
        "A netlist `Instance` is a mapping with two keys: `\"component\"`, which should map to a key in a `Models` dictionary and `\"settings\"`, which are all the necessary settings to instanciate a component:"
      ]
    },
    {
      "cell_type": "code",
      "execution_count": 22,
      "id": "c259885503a0a56c",
      "metadata": {
        "execution": {
          "iopub.execute_input": "2022-08-16T04:18:50.388714Z",
          "iopub.status.busy": "2022-08-16T04:18:50.388285Z",
          "iopub.status.idle": "2022-08-16T04:18:50.390279Z",
          "shell.execute_reply": "2022-08-16T04:18:50.389934Z"
        },
        "papermill": {
          "duration": 0.049976,
          "end_time": "2022-08-16T04:18:50.390378",
          "exception": false,
          "start_time": "2022-08-16T04:18:50.340402",
          "status": "completed"
        },
        "tags": []
      },
      "outputs": [],
      "source": [
        "Instance = TypedDict(\n",
        "    \"Instance\",\n",
        "    {\n",
        "        \"component\": str,\n",
        "        \"settings\": Settings,\n",
        "    },\n",
        ")"
      ]
    },
    {
      "cell_type": "markdown",
      "id": "ff82e535",
      "metadata": {
        "papermill": {
          "duration": 0.044237,
          "end_time": "2022-08-16T04:18:50.478453",
          "exception": false,
          "start_time": "2022-08-16T04:18:50.434216",
          "status": "completed"
        },
        "tags": []
      },
      "source": [
        "> Note: in SAX, a better name for `\"component\"` in the instance definition would probably be `\"model\"` or `\"model_name\"`. However we chose `\"component\"` here to have a 1-to-1 map between SAX netlists and GDSFactory netlists."
      ]
    },
    {
      "cell_type": "markdown",
      "id": "365559c3",
      "metadata": {
        "papermill": {
          "duration": 0.044495,
          "end_time": "2022-08-16T04:18:50.567153",
          "exception": false,
          "start_time": "2022-08-16T04:18:50.522658",
          "status": "completed"
        },
        "tags": []
      },
      "source": [
        "### GeneralInstance"
      ]
    },
    {
      "cell_type": "markdown",
      "id": "5249fc0f",
      "metadata": {
        "papermill": {
          "duration": 0.044066,
          "end_time": "2022-08-16T04:18:50.655377",
          "exception": false,
          "start_time": "2022-08-16T04:18:50.611311",
          "status": "completed"
        },
        "tags": []
      },
      "source": [
        "A general instance can be any of the following (`LogicalNetlist` and `Netlist` will be defined below):"
      ]
    },
    {
      "cell_type": "code",
      "execution_count": 23,
      "id": "1423769570b9bf65",
      "metadata": {
        "execution": {
          "iopub.execute_input": "2022-08-16T04:18:50.748150Z",
          "iopub.status.busy": "2022-08-16T04:18:50.747713Z",
          "iopub.status.idle": "2022-08-16T04:18:50.749337Z",
          "shell.execute_reply": "2022-08-16T04:18:50.748999Z"
        },
        "papermill": {
          "duration": 0.049653,
          "end_time": "2022-08-16T04:18:50.749435",
          "exception": false,
          "start_time": "2022-08-16T04:18:50.699782",
          "status": "completed"
        },
        "tags": []
      },
      "outputs": [],
      "source": [
        "GeneralInstance = Union[str, Instance, \"LogicalNetlist\", \"Netlist\"]"
      ]
    },
    {
      "cell_type": "markdown",
      "id": "04a5992a",
      "metadata": {
        "papermill": {
          "duration": 0.044238,
          "end_time": "2022-08-16T04:18:50.837901",
          "exception": false,
          "start_time": "2022-08-16T04:18:50.793663",
          "status": "completed"
        },
        "tags": []
      },
      "source": [
        "> For example, this is allowed:"
      ]
    },
    {
      "cell_type": "code",
      "execution_count": 24,
      "id": "6ef6d5ee",
      "metadata": {
        "execution": {
          "iopub.execute_input": "2022-08-16T04:18:50.931199Z",
          "iopub.status.busy": "2022-08-16T04:18:50.930767Z",
          "iopub.status.idle": "2022-08-16T04:18:50.932082Z",
          "shell.execute_reply": "2022-08-16T04:18:50.932408Z"
        },
        "papermill": {
          "duration": 0.04987,
          "end_time": "2022-08-16T04:18:50.932530",
          "exception": false,
          "start_time": "2022-08-16T04:18:50.882660",
          "status": "completed"
        },
        "tags": []
      },
      "outputs": [],
      "source": [
        "inst: GeneralInstance = \"my_component_model\"\n",
        "inst: GeneralInstance = {\n",
        "    \"component\": \"my_component_model\",\n",
        "    \"settings\": {},\n",
        "}"
      ]
    },
    {
      "cell_type": "markdown",
      "id": "8af40281",
      "metadata": {
        "papermill": {
          "duration": 0.044537,
          "end_time": "2022-08-16T04:18:51.021642",
          "exception": false,
          "start_time": "2022-08-16T04:18:50.977105",
          "status": "completed"
        },
        "tags": []
      },
      "source": [
        "> ... and this is not (will be flagged by a static type checker like pyright or mypy):"
      ]
    },
    {
      "cell_type": "code",
      "execution_count": 25,
      "id": "c13fc4d7",
      "metadata": {
        "execution": {
          "iopub.execute_input": "2022-08-16T04:18:51.114007Z",
          "iopub.status.busy": "2022-08-16T04:18:51.113505Z",
          "iopub.status.idle": "2022-08-16T04:18:51.116282Z",
          "shell.execute_reply": "2022-08-16T04:18:51.116695Z"
        },
        "papermill": {
          "duration": 0.050239,
          "end_time": "2022-08-16T04:18:51.116859",
          "exception": false,
          "start_time": "2022-08-16T04:18:51.066620",
          "status": "completed"
        },
        "tags": []
      },
      "outputs": [],
      "source": [
        "inst: GeneralInstance = {\n",
        "    \"component\": \"my_component_model\",\n",
        "    \"settings\": {},\n",
        "    \"extra_arg\": \"invalid\",\n",
        "}"
      ]
    },
    {
      "cell_type": "markdown",
      "id": "cf9fd876",
      "metadata": {
        "papermill": {
          "duration": 0.045083,
          "end_time": "2022-08-16T04:18:51.207078",
          "exception": false,
          "start_time": "2022-08-16T04:18:51.161995",
          "status": "completed"
        },
        "tags": []
      },
      "source": [
        "### Instances"
      ]
    },
    {
      "cell_type": "markdown",
      "id": "a9aad796",
      "metadata": {
        "papermill": {
          "duration": 0.045093,
          "end_time": "2022-08-16T04:18:51.297296",
          "exception": false,
          "start_time": "2022-08-16T04:18:51.252203",
          "status": "completed"
        },
        "tags": []
      },
      "source": [
        "`Instances` is a mapping from instance names [`str`] to a `GeneralInstance`:"
      ]
    },
    {
      "cell_type": "code",
      "execution_count": 26,
      "id": "15e4841890f10596",
      "metadata": {
        "execution": {
          "iopub.execute_input": "2022-08-16T04:18:51.392226Z",
          "iopub.status.busy": "2022-08-16T04:18:51.391785Z",
          "iopub.status.idle": "2022-08-16T04:18:51.393641Z",
          "shell.execute_reply": "2022-08-16T04:18:51.393256Z"
        },
        "papermill": {
          "duration": 0.05159,
          "end_time": "2022-08-16T04:18:51.393737",
          "exception": false,
          "start_time": "2022-08-16T04:18:51.342147",
          "status": "completed"
        },
        "tags": []
      },
      "outputs": [],
      "source": [
        "Instances = Union[Dict[str, str], Dict[str, GeneralInstance]]"
      ]
    },
    {
      "cell_type": "markdown",
      "id": "0f292b1f",
      "metadata": {
        "papermill": {
          "duration": 0.044853,
          "end_time": "2022-08-16T04:18:51.483020",
          "exception": false,
          "start_time": "2022-08-16T04:18:51.438167",
          "status": "completed"
        },
        "tags": []
      },
      "source": [
        "### Netlist"
      ]
    },
    {
      "cell_type": "markdown",
      "id": "7b85ab37",
      "metadata": {
        "papermill": {
          "duration": 0.044761,
          "end_time": "2022-08-16T04:18:51.572669",
          "exception": false,
          "start_time": "2022-08-16T04:18:51.527908",
          "status": "completed"
        },
        "tags": []
      },
      "source": [
        "a `Netlist` is a collection of `\"instances\"`, `\"connections\"` and `\"ports\"`:"
      ]
    },
    {
      "cell_type": "code",
      "execution_count": 27,
      "id": "7eeff1ea6689e941",
      "metadata": {
        "execution": {
          "iopub.execute_input": "2022-08-16T04:18:51.666637Z",
          "iopub.status.busy": "2022-08-16T04:18:51.666189Z",
          "iopub.status.idle": "2022-08-16T04:18:51.667347Z",
          "shell.execute_reply": "2022-08-16T04:18:51.667721Z"
        },
        "papermill": {
          "duration": 0.050434,
          "end_time": "2022-08-16T04:18:51.667847",
          "exception": false,
          "start_time": "2022-08-16T04:18:51.617413",
          "status": "completed"
        },
        "tags": []
      },
      "outputs": [],
      "source": [
        "\n",
        "Netlist = TypedDict(\n",
        "    \"Netlist\",\n",
        "    {\n",
        "        \"instances\": Instances,\n",
        "        \"connections\": Dict[str, str],\n",
        "        \"ports\": Dict[str, str],\n",
        "    },\n",
        ")"
      ]
    },
    {
      "cell_type": "markdown",
      "id": "d12f61a8",
      "metadata": {
        "papermill": {
          "duration": 0.044912,
          "end_time": "2022-08-16T04:18:51.757308",
          "exception": false,
          "start_time": "2022-08-16T04:18:51.712396",
          "status": "completed"
        },
        "tags": []
      },
      "source": [
        "> Example:"
      ]
    },
    {
      "cell_type": "code",
      "execution_count": 28,
      "id": "877d1151",
      "metadata": {
        "execution": {
          "iopub.execute_input": "2022-08-16T04:18:51.851662Z",
          "iopub.status.busy": "2022-08-16T04:18:51.851211Z",
          "iopub.status.idle": "2022-08-16T04:18:51.853102Z",
          "shell.execute_reply": "2022-08-16T04:18:51.852763Z"
        },
        "papermill": {
          "duration": 0.050637,
          "end_time": "2022-08-16T04:18:51.853197",
          "exception": false,
          "start_time": "2022-08-16T04:18:51.802560",
          "status": "completed"
        },
        "tags": []
      },
      "outputs": [],
      "source": [
        "mzi_netlist: Netlist = {\n",
        "    \"instances\": {\n",
        "    \"lft\": \"mmi1x2\",  # shorthand if no settings need to be given\n",
        "        \"top\": {  # full instance definition\n",
        "            \"component\": \"waveguide\",\n",
        "            \"settings\": {\n",
        "                \"length\": 100.0,\n",
        "            },\n",
        "        },\n",
        "        \"rgt\": \"mmi2x2\",  # shorthand if no settings need to be given\n",
        "    },\n",
        "    \"connections\": {\n",
        "        \"lft,out0\": \"top,in0\",\n",
        "        \"top,out0\": \"rgt,in0\",\n",
        "        \"top,out1\": \"rgt,in1\",\n",
        "    },\n",
        "    \"ports\": {\n",
        "        \"in0\": \"lft,in0\",\n",
        "        \"out0\": \"rgt,out0\",\n",
        "        \"out1\": \"rgt,out1\",\n",
        "    },\n",
        "}"
      ]
    },
    {
      "cell_type": "markdown",
      "id": "613b0f22",
      "metadata": {
        "papermill": {
          "duration": 0.04494,
          "end_time": "2022-08-16T04:18:51.942812",
          "exception": false,
          "start_time": "2022-08-16T04:18:51.897872",
          "status": "completed"
        },
        "tags": []
      },
      "source": [
        "### LogicalNetlist"
      ]
    },
    {
      "cell_type": "markdown",
      "id": "f8cb7e75",
      "metadata": {
        "papermill": {
          "duration": 0.04546,
          "end_time": "2022-08-16T04:18:52.033169",
          "exception": false,
          "start_time": "2022-08-16T04:18:51.987709",
          "status": "completed"
        },
        "tags": []
      },
      "source": [
        "a `LogicalNetlist` is a subset of the more general `Netlist`.  It only contains the logical connections and instance names. Not the actual instances. This data structure is mostly used for internal use only."
      ]
    },
    {
      "cell_type": "code",
      "execution_count": 29,
      "id": "6d80df151dfaab75",
      "metadata": {
        "execution": {
          "iopub.execute_input": "2022-08-16T04:18:52.126873Z",
          "iopub.status.busy": "2022-08-16T04:18:52.126442Z",
          "iopub.status.idle": "2022-08-16T04:18:52.127720Z",
          "shell.execute_reply": "2022-08-16T04:18:52.128115Z"
        },
        "papermill": {
          "duration": 0.050367,
          "end_time": "2022-08-16T04:18:52.128234",
          "exception": false,
          "start_time": "2022-08-16T04:18:52.077867",
          "status": "completed"
        },
        "tags": []
      },
      "outputs": [],
      "source": [
        "\n",
        "LogicalNetlist = TypedDict(\n",
        "    \"LogicalNetlist\",\n",
        "    {\n",
        "        \"instances\": Dict[str, str],\n",
        "        \"connections\": Dict[str, str],\n",
        "        \"ports\": Dict[str, str],\n",
        "    },\n",
        ")"
      ]
    },
    {
      "cell_type": "markdown",
      "id": "3468d6a1",
      "metadata": {
        "papermill": {
          "duration": 0.04461,
          "end_time": "2022-08-16T04:18:52.217633",
          "exception": false,
          "start_time": "2022-08-16T04:18:52.173023",
          "status": "completed"
        },
        "tags": []
      },
      "source": [
        "> Example:"
      ]
    },
    {
      "cell_type": "code",
      "execution_count": 30,
      "id": "ab67ad41",
      "metadata": {
        "execution": {
          "iopub.execute_input": "2022-08-16T04:18:52.309543Z",
          "iopub.status.busy": "2022-08-16T04:18:52.309118Z",
          "iopub.status.idle": "2022-08-16T04:18:52.312340Z",
          "shell.execute_reply": "2022-08-16T04:18:52.312726Z"
        },
        "papermill": {
          "duration": 0.050459,
          "end_time": "2022-08-16T04:18:52.312843",
          "exception": false,
          "start_time": "2022-08-16T04:18:52.262384",
          "status": "completed"
        },
        "tags": []
      },
      "outputs": [],
      "source": [
        "mzi_logical_netlist: Netlist = {\n",
        "    \"instances\": {\n",
        "        \"lft\": \"mmi1x2\",\n",
        "        \"top\": \"waveguide\",\n",
        "        \"rgt\": \"mmi2x2\",\n",
        "    },\n",
        "    \"connections\": {\n",
        "        \"lft,out0\": \"top,in0\",\n",
        "        \"top,out0\": \"rgt,in0\",\n",
        "        \"top,out1\": \"rgt,in1\",\n",
        "    },\n",
        "    \"ports\": {\n",
        "        \"in0\": \"lft,in0\",\n",
        "        \"out0\": \"rgt,out0\",\n",
        "        \"out1\": \"rgt,out1\",\n",
        "    },\n",
        "}"
      ]
    },
    {
      "cell_type": "markdown",
      "id": "dbcb4447",
      "metadata": {
        "papermill": {
          "duration": 0.044859,
          "end_time": "2022-08-16T04:18:52.402756",
          "exception": false,
          "start_time": "2022-08-16T04:18:52.357897",
          "status": "completed"
        },
        "tags": []
      },
      "source": [
        "## Validation and runtime type-checking:"
      ]
    },
    {
      "cell_type": "markdown",
      "id": "6e4c44aa",
      "metadata": {
        "papermill": {
          "duration": 0.045001,
          "end_time": "2022-08-16T04:18:52.492665",
          "exception": false,
          "start_time": "2022-08-16T04:18:52.447664",
          "status": "completed"
        },
        "tags": []
      },
      "source": [
        "> Note: the type-checking functions below are **NOT** very tight and hence should be used within the right context!"
      ]
    },
    {
      "cell_type": "markdown",
      "id": "bc002afd0114ebb2",
      "metadata": {},
      "source": [
        ":::{eval-rst}\n",
        ".. autofunction:: sax.typing_.is_float\n",
        ":::\n"
      ]
    },
    {
      "cell_type": "code",
      "execution_count": 31,
      "id": "14daa2805dfe9d7f",
      "metadata": {
        "execution": {
          "iopub.execute_input": "2022-08-16T04:18:52.589511Z",
          "iopub.status.busy": "2022-08-16T04:18:52.589057Z",
          "iopub.status.idle": "2022-08-16T04:18:52.590241Z",
          "shell.execute_reply": "2022-08-16T04:18:52.590569Z"
        },
        "papermill": {
          "duration": 0.053169,
          "end_time": "2022-08-16T04:18:52.590696",
          "exception": false,
          "start_time": "2022-08-16T04:18:52.537527",
          "status": "completed"
        },
        "tags": [
          "hide-input"
        ]
      },
      "outputs": [],
      "source": [
        "def is_float(x: Any) -> bool:\n",
        "    \"\"\"Check if an object is a `Float`\"\"\"\n",
        "    if isinstance(x, float):\n",
        "        return True\n",
        "    if isinstance(x, np.ndarray):\n",
        "        return x.dtype in (np.float16, np.float32, np.float64, np.float128)\n",
        "    if isinstance(x, jnp.ndarray):\n",
        "        return x.dtype in (jnp.float16, jnp.float32, jnp.float64)\n",
        "    return False"
      ]
    },
    {
      "cell_type": "code",
      "execution_count": 32,
      "id": "28374448",
      "metadata": {
        "execution": {
          "iopub.execute_input": "2022-08-16T04:18:52.683927Z",
          "iopub.status.busy": "2022-08-16T04:18:52.682364Z",
          "iopub.status.idle": "2022-08-16T04:18:52.688558Z",
          "shell.execute_reply": "2022-08-16T04:18:52.688196Z"
        },
        "papermill": {
          "duration": 0.053157,
          "end_time": "2022-08-16T04:18:52.688652",
          "exception": false,
          "start_time": "2022-08-16T04:18:52.635495",
          "status": "completed"
        },
        "tags": []
      },
      "outputs": [],
      "source": [
        "assert is_float(3.0)\n",
        "assert not is_float(3)\n",
        "assert not is_float(3.0 + 2j)\n",
        "assert not is_float(jnp.array(3.0, dtype=complex))\n",
        "assert not is_float(jnp.array(3, dtype=int))"
      ]
    },
    {
      "cell_type": "markdown",
      "id": "537f9d7dd50c8c0a",
      "metadata": {},
      "source": [
        ":::{eval-rst}\n",
        ".. autofunction:: sax.typing_.is_complex\n",
        ":::\n"
      ]
    },
    {
      "cell_type": "code",
      "execution_count": 33,
      "id": "dac311cc9dc0a3f5",
      "metadata": {
        "execution": {
          "iopub.execute_input": "2022-08-16T04:18:52.783003Z",
          "iopub.status.busy": "2022-08-16T04:18:52.782572Z",
          "iopub.status.idle": "2022-08-16T04:18:52.784589Z",
          "shell.execute_reply": "2022-08-16T04:18:52.784227Z"
        },
        "papermill": {
          "duration": 0.051206,
          "end_time": "2022-08-16T04:18:52.784684",
          "exception": false,
          "start_time": "2022-08-16T04:18:52.733478",
          "status": "completed"
        },
        "tags": [
          "hide-input"
        ]
      },
      "outputs": [],
      "source": [
        "def is_complex(x: Any) -> bool:\n",
        "    \"\"\"check if an object is a `ComplexFloat`\"\"\"\n",
        "    if isinstance(x, complex):\n",
        "        return True\n",
        "    if isinstance(x, np.ndarray):\n",
        "        return x.dtype in (np.complex64, np.complex128)\n",
        "    if isinstance(x, jnp.ndarray):\n",
        "        return x.dtype in (jnp.complex64, jnp.complex128)\n",
        "    return False"
      ]
    },
    {
      "cell_type": "code",
      "execution_count": 34,
      "id": "d81a703d",
      "metadata": {
        "execution": {
          "iopub.execute_input": "2022-08-16T04:18:52.879940Z",
          "iopub.status.busy": "2022-08-16T04:18:52.879482Z",
          "iopub.status.idle": "2022-08-16T04:18:52.881313Z",
          "shell.execute_reply": "2022-08-16T04:18:52.880979Z"
        },
        "papermill": {
          "duration": 0.051198,
          "end_time": "2022-08-16T04:18:52.881409",
          "exception": false,
          "start_time": "2022-08-16T04:18:52.830211",
          "status": "completed"
        },
        "tags": []
      },
      "outputs": [],
      "source": [
        "assert not is_complex(3.0)\n",
        "assert not is_complex(3)\n",
        "assert is_complex(3.0 + 2j)\n",
        "assert is_complex(jnp.array(3.0, dtype=complex))\n",
        "assert not is_complex(jnp.array(3, dtype=int))"
      ]
    },
    {
      "cell_type": "markdown",
      "id": "c32442d76fb0e914",
      "metadata": {},
      "source": [
        ":::{eval-rst}\n",
        ".. autofunction:: sax.typing_.is_complex_float\n",
        ":::\n"
      ]
    },
    {
      "cell_type": "code",
      "execution_count": 35,
      "id": "99c07b36a28a5870",
      "metadata": {
        "execution": {
          "iopub.execute_input": "2022-08-16T04:18:52.976564Z",
          "iopub.status.busy": "2022-08-16T04:18:52.976141Z",
          "iopub.status.idle": "2022-08-16T04:18:52.977392Z",
          "shell.execute_reply": "2022-08-16T04:18:52.977778Z"
        },
        "papermill": {
          "duration": 0.050655,
          "end_time": "2022-08-16T04:18:52.977895",
          "exception": false,
          "start_time": "2022-08-16T04:18:52.927240",
          "status": "completed"
        },
        "tags": [
          "hide-input"
        ]
      },
      "outputs": [],
      "source": [
        "def is_complex_float(x: Any) -> bool:\n",
        "    \"\"\"check if an object is either a `ComplexFloat` or a `Float`\"\"\"\n",
        "    return is_float(x) or is_complex(x)"
      ]
    },
    {
      "cell_type": "code",
      "execution_count": 36,
      "id": "c533ff0d",
      "metadata": {
        "execution": {
          "iopub.execute_input": "2022-08-16T04:18:53.073780Z",
          "iopub.status.busy": "2022-08-16T04:18:53.073357Z",
          "iopub.status.idle": "2022-08-16T04:18:53.075069Z",
          "shell.execute_reply": "2022-08-16T04:18:53.074710Z"
        },
        "papermill": {
          "duration": 0.051799,
          "end_time": "2022-08-16T04:18:53.075161",
          "exception": false,
          "start_time": "2022-08-16T04:18:53.023362",
          "status": "completed"
        },
        "tags": []
      },
      "outputs": [],
      "source": [
        "assert is_complex_float(3.0)\n",
        "assert not is_complex_float(3)\n",
        "assert is_complex_float(3.0 + 2j)\n",
        "assert is_complex_float(jnp.array(3.0, dtype=complex))\n",
        "assert not is_complex_float(jnp.array(3, dtype=int))"
      ]
    },
    {
      "cell_type": "markdown",
      "id": "67f9089dedd8704b",
      "metadata": {},
      "source": [
        ":::{eval-rst}\n",
        ".. autofunction:: sax.typing_.is_sdict\n",
        ":::\n"
      ]
    },
    {
      "cell_type": "code",
      "execution_count": 37,
      "id": "08a59217a49c7443",
      "metadata": {
        "execution": {
          "iopub.execute_input": "2022-08-16T04:18:53.169765Z",
          "iopub.status.busy": "2022-08-16T04:18:53.169347Z",
          "iopub.status.idle": "2022-08-16T04:18:53.171336Z",
          "shell.execute_reply": "2022-08-16T04:18:53.170996Z"
        },
        "papermill": {
          "duration": 0.050673,
          "end_time": "2022-08-16T04:18:53.171430",
          "exception": false,
          "start_time": "2022-08-16T04:18:53.120757",
          "status": "completed"
        },
        "tags": [
          "hide-input"
        ]
      },
      "outputs": [],
      "source": [
        "def is_sdict(x: Any) -> bool:\n",
        "    \"\"\"check if an object is an `SDict` (a SAX S-dictionary)\"\"\"\n",
        "    return isinstance(x, dict)"
      ]
    },
    {
      "cell_type": "code",
      "execution_count": 38,
      "id": "cb0365dc",
      "metadata": {
        "execution": {
          "iopub.execute_input": "2022-08-16T04:18:53.266361Z",
          "iopub.status.busy": "2022-08-16T04:18:53.265942Z",
          "iopub.status.idle": "2022-08-16T04:18:53.267968Z",
          "shell.execute_reply": "2022-08-16T04:18:53.267625Z"
        },
        "papermill": {
          "duration": 0.05111,
          "end_time": "2022-08-16T04:18:53.268065",
          "exception": false,
          "start_time": "2022-08-16T04:18:53.216955",
          "status": "completed"
        },
        "tags": []
      },
      "outputs": [],
      "source": [
        "assert not is_sdict(object())\n",
        "assert is_sdict(_sdict)\n",
        "assert not is_sdict(_scoo)\n",
        "assert not is_sdict(_sdense)"
      ]
    },
    {
      "cell_type": "markdown",
      "id": "9fb84efbacc775c7",
      "metadata": {},
      "source": [
        ":::{eval-rst}\n",
        ".. autofunction:: sax.typing_.is_scoo\n",
        ":::\n"
      ]
    },
    {
      "cell_type": "code",
      "execution_count": 39,
      "id": "f29b3dab1f8bed80",
      "metadata": {
        "execution": {
          "iopub.execute_input": "2022-08-16T04:18:53.362878Z",
          "iopub.status.busy": "2022-08-16T04:18:53.362459Z",
          "iopub.status.idle": "2022-08-16T04:18:53.364144Z",
          "shell.execute_reply": "2022-08-16T04:18:53.363798Z"
        },
        "papermill": {
          "duration": 0.050769,
          "end_time": "2022-08-16T04:18:53.364240",
          "exception": false,
          "start_time": "2022-08-16T04:18:53.313471",
          "status": "completed"
        },
        "tags": [
          "hide-input"
        ]
      },
      "outputs": [],
      "source": [
        "def is_scoo(x: Any) -> bool:\n",
        "    \"\"\"check if an object is an `SCoo` (a SAX sparse S-matrix representation in COO-format)\"\"\"\n",
        "    return isinstance(x, (tuple, list)) and len(x) == 4"
      ]
    },
    {
      "cell_type": "code",
      "execution_count": 40,
      "id": "9ea0239a",
      "metadata": {
        "execution": {
          "iopub.execute_input": "2022-08-16T04:18:53.458198Z",
          "iopub.status.busy": "2022-08-16T04:18:53.457781Z",
          "iopub.status.idle": "2022-08-16T04:18:53.459591Z",
          "shell.execute_reply": "2022-08-16T04:18:53.459213Z"
        },
        "papermill": {
          "duration": 0.050022,
          "end_time": "2022-08-16T04:18:53.459684",
          "exception": false,
          "start_time": "2022-08-16T04:18:53.409662",
          "status": "completed"
        },
        "tags": []
      },
      "outputs": [],
      "source": [
        "assert not is_scoo(object)\n",
        "assert not is_scoo(_sdict)\n",
        "assert is_scoo(_scoo)\n",
        "assert not is_scoo(_sdense)"
      ]
    },
    {
      "cell_type": "markdown",
      "id": "ea2e6164234adba2",
      "metadata": {},
      "source": [
        ":::{eval-rst}\n",
        ".. autofunction:: sax.typing_.is_sdense\n",
        ":::\n"
      ]
    },
    {
      "cell_type": "code",
      "execution_count": 41,
      "id": "4c95c238a2e17396",
      "metadata": {
        "execution": {
          "iopub.execute_input": "2022-08-16T04:18:53.554320Z",
          "iopub.status.busy": "2022-08-16T04:18:53.553902Z",
          "iopub.status.idle": "2022-08-16T04:18:53.555526Z",
          "shell.execute_reply": "2022-08-16T04:18:53.555913Z"
        },
        "papermill": {
          "duration": 0.050856,
          "end_time": "2022-08-16T04:18:53.556027",
          "exception": false,
          "start_time": "2022-08-16T04:18:53.505171",
          "status": "completed"
        },
        "tags": [
          "hide-input"
        ]
      },
      "outputs": [],
      "source": [
        "def is_sdense(x: Any) -> bool:\n",
        "    \"\"\"check if an object is an `SDense` (a SAX dense S-matrix representation)\"\"\"\n",
        "    return isinstance(x, (tuple, list)) and len(x) == 2"
      ]
    },
    {
      "cell_type": "code",
      "execution_count": 42,
      "id": "2eddd63a",
      "metadata": {
        "execution": {
          "iopub.execute_input": "2022-08-16T04:18:53.650512Z",
          "iopub.status.busy": "2022-08-16T04:18:53.650092Z",
          "iopub.status.idle": "2022-08-16T04:18:53.651349Z",
          "shell.execute_reply": "2022-08-16T04:18:53.651682Z"
        },
        "papermill": {
          "duration": 0.050267,
          "end_time": "2022-08-16T04:18:53.651798",
          "exception": false,
          "start_time": "2022-08-16T04:18:53.601531",
          "status": "completed"
        },
        "tags": []
      },
      "outputs": [],
      "source": [
        "assert not is_sdense(object)\n",
        "assert not is_sdense(_sdict)\n",
        "assert not is_sdense(_scoo)\n",
        "assert is_sdense(_sdense)"
      ]
    },
    {
      "cell_type": "markdown",
      "id": "42c9f31352bf357e",
      "metadata": {},
      "source": [
        ":::{eval-rst}\n",
        ".. autofunction:: sax.typing_.is_model\n",
        ":::\n"
      ]
    },
    {
      "cell_type": "code",
      "execution_count": 43,
      "id": "fcac5a5f5a7db787",
      "metadata": {
        "execution": {
          "iopub.execute_input": "2022-08-16T04:18:53.749378Z",
          "iopub.status.busy": "2022-08-16T04:18:53.748953Z",
          "iopub.status.idle": "2022-08-16T04:18:53.750584Z",
          "shell.execute_reply": "2022-08-16T04:18:53.750893Z"
        },
        "papermill": {
          "duration": 0.053137,
          "end_time": "2022-08-16T04:18:53.751006",
          "exception": false,
          "start_time": "2022-08-16T04:18:53.697869",
          "status": "completed"
        },
        "tags": [
          "hide-input"
        ]
      },
      "outputs": [],
      "source": [
        "def is_model(model: Any) -> bool:\n",
        "    \"\"\"check if a callable is a `Model` (a callable returning an `SType`)\"\"\"\n",
        "    if not callable(model):\n",
        "        return False\n",
        "    try:\n",
        "        sig = inspect.signature(model)\n",
        "    except ValueError:\n",
        "        return False\n",
        "    for param in sig.parameters.values():\n",
        "        if param.default is inspect.Parameter.empty:\n",
        "            return False  # a proper SAX model does not have any positional arguments.\n",
        "    if _is_callable_annotation(sig.return_annotation):  # model factory\n",
        "        return False\n",
        "    return True\n",
        "\n",
        "def _is_callable_annotation(annotation: Any) -> bool:\n",
        "    \"\"\"check if an annotation is `Callable`-like\"\"\"\n",
        "    if isinstance(annotation, str):\n",
        "        # happens when\n",
        "        # was imported at the top of the file...\n",
        "        return annotation.startswith(\"Callable\") or annotation.endswith(\"Model\")\n",
        "        # TODO: this is not a very robust check...\n",
        "    try:\n",
        "        return annotation.__origin__ == CallableABC\n",
        "    except AttributeError:\n",
        "        return False"
      ]
    },
    {
      "cell_type": "code",
      "execution_count": 44,
      "id": "c7d10f626aa8c9ee",
      "metadata": {
        "execution": {
          "iopub.execute_input": "2022-08-16T04:18:53.847193Z",
          "iopub.status.busy": "2022-08-16T04:18:53.846768Z",
          "iopub.status.idle": "2022-08-16T04:18:53.848711Z",
          "shell.execute_reply": "2022-08-16T04:18:53.848345Z"
        },
        "papermill": {
          "duration": 0.051765,
          "end_time": "2022-08-16T04:18:53.848804",
          "exception": false,
          "start_time": "2022-08-16T04:18:53.797039",
          "status": "completed"
        },
        "tags": [
          "remove-cell"
        ]
      },
      "outputs": [],
      "source": [
        "assert _is_callable_annotation(Callable)\n",
        "assert not _is_callable_annotation(SDict)"
      ]
    },
    {
      "cell_type": "code",
      "execution_count": 45,
      "id": "89bdb647",
      "metadata": {
        "execution": {
          "iopub.execute_input": "2022-08-16T04:18:53.949311Z",
          "iopub.status.busy": "2022-08-16T04:18:53.948888Z",
          "iopub.status.idle": "2022-08-16T04:18:53.960126Z",
          "shell.execute_reply": "2022-08-16T04:18:53.959774Z"
        },
        "papermill": {
          "duration": 0.065445,
          "end_time": "2022-08-16T04:18:53.960227",
          "exception": false,
          "start_time": "2022-08-16T04:18:53.894782",
          "status": "completed"
        },
        "tags": []
      },
      "outputs": [],
      "source": [
        "def good_model(x=jnp.array(3.0), y=jnp.array(4.0)) -> SDict:\n",
        "    return {(\"in0\", \"out0\"): jnp.array(3.0)}\n",
        "assert is_model(good_model)\n",
        "\n",
        "def bad_model(positional_argument, x=jnp.array(3.0), y=jnp.array(4.0)) -> SDict:\n",
        "    return {(\"in0\", \"out0\"): jnp.array(3.0)}\n",
        "assert not is_model(bad_model)"
      ]
    },
    {
      "cell_type": "markdown",
      "id": "fc493ffdfe87498a",
      "metadata": {},
      "source": [
        ":::{eval-rst}\n",
        ".. autofunction:: sax.typing_.is_model_factory\n",
        ":::\n"
      ]
    },
    {
      "cell_type": "code",
      "execution_count": 46,
      "id": "e9f5de0eb55c4e47",
      "metadata": {
        "execution": {
          "iopub.execute_input": "2022-08-16T04:18:54.057289Z",
          "iopub.status.busy": "2022-08-16T04:18:54.056867Z",
          "iopub.status.idle": "2022-08-16T04:18:54.058505Z",
          "shell.execute_reply": "2022-08-16T04:18:54.058085Z"
        },
        "papermill": {
          "duration": 0.051937,
          "end_time": "2022-08-16T04:18:54.058598",
          "exception": false,
          "start_time": "2022-08-16T04:18:54.006661",
          "status": "completed"
        },
        "tags": [
          "hide-input"
        ]
      },
      "outputs": [],
      "source": [
        "def is_model_factory(model: Any) -> bool:\n",
        "    \"\"\"check if a callable is a model function.\"\"\"\n",
        "    if not callable(model):\n",
        "        return False\n",
        "    sig = inspect.signature(model)\n",
        "    if _is_callable_annotation(sig.return_annotation):  # model factory\n",
        "        return True\n",
        "    return False"
      ]
    },
    {
      "cell_type": "markdown",
      "id": "1f9715ed",
      "metadata": {
        "papermill": {
          "duration": 0.046034,
          "end_time": "2022-08-16T04:18:54.150722",
          "exception": false,
          "start_time": "2022-08-16T04:18:54.104688",
          "status": "completed"
        },
        "tags": []
      },
      "source": [
        "> Note: For a `Callable` to be considered a `ModelFactory` in SAX, it **MUST** have a `Callable` or `Model` return annotation. Otherwise SAX will view it as a `Model` and things might break!"
      ]
    },
    {
      "cell_type": "code",
      "execution_count": 47,
      "id": "fe9cdff0",
      "metadata": {
        "execution": {
          "iopub.execute_input": "2022-08-16T04:18:54.247426Z",
          "iopub.status.busy": "2022-08-16T04:18:54.247003Z",
          "iopub.status.idle": "2022-08-16T04:18:54.248628Z",
          "shell.execute_reply": "2022-08-16T04:18:54.248284Z"
        },
        "papermill": {
          "duration": 0.051803,
          "end_time": "2022-08-16T04:18:54.248724",
          "exception": false,
          "start_time": "2022-08-16T04:18:54.196921",
          "status": "completed"
        },
        "tags": []
      },
      "outputs": [],
      "source": [
        "def func() -> Model:\n",
        "    ...\n",
        "    \n",
        "assert is_model_factory(func) # yes, we only check the annotation for now...\n",
        "\n",
        "def func():\n",
        "    ...\n",
        "    \n",
        "assert not is_model_factory(func) # yes, we only check the annotation for now..."
      ]
    },
    {
      "cell_type": "markdown",
      "id": "de4e2a1fd537c832",
      "metadata": {},
      "source": [
        ":::{eval-rst}\n",
        ".. autofunction:: sax.typing_.validate_model\n",
        ":::\n"
      ]
    },
    {
      "cell_type": "code",
      "execution_count": 48,
      "id": "72e715b1b7cdbd87",
      "metadata": {
        "execution": {
          "iopub.execute_input": "2022-08-16T04:18:54.345905Z",
          "iopub.status.busy": "2022-08-16T04:18:54.345471Z",
          "iopub.status.idle": "2022-08-16T04:18:54.347082Z",
          "shell.execute_reply": "2022-08-16T04:18:54.346656Z"
        },
        "papermill": {
          "duration": 0.052105,
          "end_time": "2022-08-16T04:18:54.347177",
          "exception": false,
          "start_time": "2022-08-16T04:18:54.295072",
          "status": "completed"
        },
        "tags": [
          "hide-input"
        ]
      },
      "outputs": [],
      "source": [
        "def validate_model(model: Callable):\n",
        "    \"\"\"Validate the parameters of a model\"\"\"\n",
        "    positional_arguments = []\n",
        "    for param in inspect.signature(model).parameters.values():\n",
        "        if param.default is inspect.Parameter.empty:\n",
        "            positional_arguments.append(param.name)\n",
        "    if positional_arguments:\n",
        "        raise ValueError(\n",
        "            f\"model '{model}' takes positional arguments {', '.join(positional_arguments)} \"\n",
        "            \"and hence is not a valid SAX Model! A SAX model should ONLY take keyword arguments (or no arguments at all).\"\n",
        "        )"
      ]
    },
    {
      "cell_type": "code",
      "execution_count": 49,
      "id": "754399d5",
      "metadata": {
        "execution": {
          "iopub.execute_input": "2022-08-16T04:18:54.444743Z",
          "iopub.status.busy": "2022-08-16T04:18:54.444319Z",
          "iopub.status.idle": "2022-08-16T04:18:54.446634Z",
          "shell.execute_reply": "2022-08-16T04:18:54.446289Z"
        },
        "papermill": {
          "duration": 0.05318,
          "end_time": "2022-08-16T04:18:54.446733",
          "exception": false,
          "start_time": "2022-08-16T04:18:54.393553",
          "status": "completed"
        },
        "tags": []
      },
      "outputs": [],
      "source": [
        "def good_model(x=jnp.array(3.0), y=jnp.array(4.0)) -> SDict:\n",
        "    return {(\"in0\", \"out0\"): jnp.array(3.0)}\n",
        "\n",
        "\n",
        "assert validate_model(good_model) is None"
      ]
    },
    {
      "cell_type": "code",
      "execution_count": 50,
      "id": "181c72fa",
      "metadata": {
        "execution": {
          "iopub.execute_input": "2022-08-16T04:18:54.543708Z",
          "iopub.status.busy": "2022-08-16T04:18:54.543191Z",
          "iopub.status.idle": "2022-08-16T04:18:54.545788Z",
          "shell.execute_reply": "2022-08-16T04:18:54.545301Z"
        },
        "papermill": {
          "duration": 0.052835,
          "end_time": "2022-08-16T04:18:54.545892",
          "exception": false,
          "start_time": "2022-08-16T04:18:54.493057",
          "status": "completed"
        },
        "tags": []
      },
      "outputs": [],
      "source": [
        "def bad_model(positional_argument, x=jnp.array(3.0), y=jnp.array(4.0)) -> SDict:\n",
        "    return {(\"in0\", \"out0\"): jnp.array(3.0)}\n",
        "\n",
        "\n",
        "with raises(ValueError):\n",
        "    validate_model(bad_model)"
      ]
    },
    {
      "cell_type": "markdown",
      "id": "774181e91ea14c3d",
      "metadata": {},
      "source": [
        ":::{eval-rst}\n",
        ".. autofunction:: sax.typing_.is_instance\n",
        ":::\n"
      ]
    },
    {
      "cell_type": "code",
      "execution_count": 51,
      "id": "52458614d749e8d5",
      "metadata": {
        "execution": {
          "iopub.execute_input": "2022-08-16T04:18:54.642194Z",
          "iopub.status.busy": "2022-08-16T04:18:54.641776Z",
          "iopub.status.idle": "2022-08-16T04:18:54.643394Z",
          "shell.execute_reply": "2022-08-16T04:18:54.643776Z"
        },
        "papermill": {
          "duration": 0.051721,
          "end_time": "2022-08-16T04:18:54.643893",
          "exception": false,
          "start_time": "2022-08-16T04:18:54.592172",
          "status": "completed"
        },
        "tags": [
          "hide-input"
        ]
      },
      "outputs": [],
      "source": [
        "def is_instance(instance: Any) -> bool:\n",
        "    \"\"\"check if a dictionary is an instance\"\"\"\n",
        "    if not isinstance(instance, dict):\n",
        "        return False\n",
        "    return \"component\" in instance"
      ]
    },
    {
      "cell_type": "markdown",
      "id": "8bc11509cc7c95ac",
      "metadata": {},
      "source": [
        ":::{eval-rst}\n",
        ".. autofunction:: sax.typing_.is_netlist\n",
        ":::\n"
      ]
    },
    {
      "cell_type": "code",
      "execution_count": 52,
      "id": "6412bb5dd86a87ae",
      "metadata": {
        "execution": {
          "iopub.execute_input": "2022-08-16T04:18:54.742128Z",
          "iopub.status.busy": "2022-08-16T04:18:54.741516Z",
          "iopub.status.idle": "2022-08-16T04:18:54.742985Z",
          "shell.execute_reply": "2022-08-16T04:18:54.743296Z"
        },
        "papermill": {
          "duration": 0.052831,
          "end_time": "2022-08-16T04:18:54.743411",
          "exception": false,
          "start_time": "2022-08-16T04:18:54.690580",
          "status": "completed"
        },
        "tags": [
          "hide-input"
        ]
      },
      "outputs": [],
      "source": [
        "def is_netlist(netlist: Any) -> bool:\n",
        "    \"\"\"check if a dictionary is a netlist\"\"\"\n",
        "    if not isinstance(netlist, dict):\n",
        "        return False\n",
        "    if not \"instances\" in netlist:\n",
        "        return False\n",
        "    if not \"connections\" in netlist:\n",
        "        return False\n",
        "    if not \"ports\" in netlist:\n",
        "        return False\n",
        "    return True"
      ]
    },
    {
      "cell_type": "markdown",
      "id": "57d612f96e78c04d",
      "metadata": {},
      "source": [
        ":::{eval-rst}\n",
        ".. autofunction:: sax.typing_.is_stype\n",
        ":::\n"
      ]
    },
    {
      "cell_type": "code",
      "execution_count": 53,
      "id": "11c9034be7f04b18",
      "metadata": {
        "execution": {
          "iopub.execute_input": "2022-08-16T04:18:54.840933Z",
          "iopub.status.busy": "2022-08-16T04:18:54.840441Z",
          "iopub.status.idle": "2022-08-16T04:18:54.842555Z",
          "shell.execute_reply": "2022-08-16T04:18:54.842183Z"
        },
        "papermill": {
          "duration": 0.052484,
          "end_time": "2022-08-16T04:18:54.842659",
          "exception": false,
          "start_time": "2022-08-16T04:18:54.790175",
          "status": "completed"
        },
        "tags": [
          "hide-input"
        ]
      },
      "outputs": [],
      "source": [
        "def is_stype(stype: Any) -> bool:\n",
        "    \"\"\"check if an object is an SDict, SCoo or SDense\"\"\"\n",
        "    return is_sdict(stype) or is_scoo(stype) or is_sdense(stype)"
      ]
    },
    {
      "cell_type": "markdown",
      "id": "695d9df763daab91",
      "metadata": {},
      "source": [
        ":::{eval-rst}\n",
        ".. autofunction:: sax.typing_.is_singlemode\n",
        ":::\n"
      ]
    },
    {
      "cell_type": "code",
      "execution_count": 54,
      "id": "b0fd9b390d9f59c0",
      "metadata": {
        "execution": {
          "iopub.execute_input": "2022-08-16T04:18:54.942622Z",
          "iopub.status.busy": "2022-08-16T04:18:54.940120Z",
          "iopub.status.idle": "2022-08-16T04:18:54.944369Z",
          "shell.execute_reply": "2022-08-16T04:18:54.943983Z"
        },
        "papermill": {
          "duration": 0.054074,
          "end_time": "2022-08-16T04:18:54.944478",
          "exception": false,
          "start_time": "2022-08-16T04:18:54.890404",
          "status": "completed"
        },
        "tags": [
          "hide-input"
        ]
      },
      "outputs": [],
      "source": [
        "def is_singlemode(S: Any) -> bool:\n",
        "    \"\"\"check if an stype is single mode\"\"\"\n",
        "    if not is_stype(S):\n",
        "        return False\n",
        "    ports = _get_ports(S)\n",
        "    return not any((\"@\" in p) for p in ports)\n",
        "\n",
        "def _get_ports(S: SType):\n",
        "    if is_sdict(S):\n",
        "        S = cast(SDict, S)\n",
        "        ports_set = {p1 for p1, _ in S} | {p2 for _, p2 in S}\n",
        "        return tuple(natsorted(ports_set))\n",
        "    else:\n",
        "        *_, ports_map = S\n",
        "        assert isinstance(ports_map, dict)\n",
        "        return tuple(natsorted(ports_map.keys()))"
      ]
    },
    {
      "cell_type": "markdown",
      "id": "f9513b5b1e0baeb3",
      "metadata": {},
      "source": [
        ":::{eval-rst}\n",
        ".. autofunction:: sax.typing_.is_multimode\n",
        ":::\n"
      ]
    },
    {
      "cell_type": "code",
      "execution_count": 55,
      "id": "ebcc39fe9296eb77",
      "metadata": {
        "execution": {
          "iopub.execute_input": "2022-08-16T04:18:55.041709Z",
          "iopub.status.busy": "2022-08-16T04:18:55.041288Z",
          "iopub.status.idle": "2022-08-16T04:18:55.042814Z",
          "shell.execute_reply": "2022-08-16T04:18:55.043164Z"
        },
        "papermill": {
          "duration": 0.052081,
          "end_time": "2022-08-16T04:18:55.043280",
          "exception": false,
          "start_time": "2022-08-16T04:18:54.991199",
          "status": "completed"
        },
        "tags": [
          "hide-input"
        ]
      },
      "outputs": [],
      "source": [
        "def is_multimode(S: Any) -> bool:\n",
        "    \"\"\"check if an stype is single mode\"\"\"\n",
        "    if not is_stype(S):\n",
        "        return False\n",
        "    \n",
        "    ports = _get_ports(S)\n",
        "    return all((\"@\" in p) for p in ports)"
      ]
    },
    {
      "cell_type": "markdown",
      "id": "c23e68ca5f44cb99",
      "metadata": {},
      "source": [
        ":::{eval-rst}\n",
        ".. autofunction:: sax.typing_.is_mixedmode\n",
        ":::\n"
      ]
    },
    {
      "cell_type": "code",
      "execution_count": 56,
      "id": "52869eb6db198d1e",
      "metadata": {
        "execution": {
          "iopub.execute_input": "2022-08-16T04:18:55.140788Z",
          "iopub.status.busy": "2022-08-16T04:18:55.140366Z",
          "iopub.status.idle": "2022-08-16T04:18:55.141618Z",
          "shell.execute_reply": "2022-08-16T04:18:55.141974Z"
        },
        "papermill": {
          "duration": 0.051978,
          "end_time": "2022-08-16T04:18:55.142093",
          "exception": false,
          "start_time": "2022-08-16T04:18:55.090115",
          "status": "completed"
        },
        "tags": [
          "hide-input"
        ]
      },
      "outputs": [],
      "source": [
        "def is_mixedmode(S: Any) -> bool:\n",
        "    \"\"\"check if an stype is neither single mode nor multimode (hence invalid)\"\"\"\n",
        "    return not is_singlemode(S) and not is_multimode(S)"
      ]
    },
    {
      "cell_type": "markdown",
      "id": "3afe685c",
      "metadata": {
        "papermill": {
          "duration": 0.04711,
          "end_time": "2022-08-16T04:18:55.235850",
          "exception": false,
          "start_time": "2022-08-16T04:18:55.188740",
          "status": "completed"
        },
        "tags": []
      },
      "source": [
        "## SAX return type helpers\n",
        "\n",
        "> a.k.a SDict, SDense, SCoo helpers"
      ]
    },
    {
      "cell_type": "markdown",
      "id": "a875f149",
      "metadata": {
        "papermill": {
          "duration": 0.046883,
          "end_time": "2022-08-16T04:18:55.329590",
          "exception": false,
          "start_time": "2022-08-16T04:18:55.282707",
          "status": "completed"
        },
        "tags": []
      },
      "source": [
        "Convert an `SDict`, `SCoo` or `SDense` into an `SDict` (or convert a model generating any of these types into a model generating an `SDict`):"
      ]
    },
    {
      "cell_type": "code",
      "execution_count": 57,
      "id": "77941438998190e3",
      "metadata": {
        "execution": {
          "iopub.execute_input": "2022-08-16T04:18:55.427407Z",
          "iopub.status.busy": "2022-08-16T04:18:55.426979Z",
          "iopub.status.idle": "2022-08-16T04:18:55.428631Z",
          "shell.execute_reply": "2022-08-16T04:18:55.428202Z"
        },
        "papermill": {
          "duration": 0.052209,
          "end_time": "2022-08-16T04:18:55.428726",
          "exception": false,
          "start_time": "2022-08-16T04:18:55.376517",
          "status": "completed"
        },
        "tags": [
          "remove-cell"
        ]
      },
      "outputs": [],
      "source": [
        "\n",
        "@overload\n",
        "def sdict(S: Model) -> Model:\n",
        "    ...\n",
        "\n",
        "\n",
        "@overload\n",
        "def sdict(S: SType) -> SDict:\n",
        "    ..."
      ]
    },
    {
      "cell_type": "markdown",
      "id": "54b5d4f98a8566ba",
      "metadata": {},
      "source": [
        ":::{eval-rst}\n",
        ".. autofunction:: sax.typing_.sdict\n",
        ":::\n"
      ]
    },
    {
      "cell_type": "code",
      "execution_count": 58,
      "id": "87d2971493abe482",
      "metadata": {
        "execution": {
          "iopub.execute_input": "2022-08-16T04:18:55.531260Z",
          "iopub.status.busy": "2022-08-16T04:18:55.530831Z",
          "iopub.status.idle": "2022-08-16T04:18:55.532337Z",
          "shell.execute_reply": "2022-08-16T04:18:55.532731Z"
        },
        "papermill": {
          "duration": 0.056827,
          "end_time": "2022-08-16T04:18:55.532847",
          "exception": false,
          "start_time": "2022-08-16T04:18:55.476020",
          "status": "completed"
        },
        "tags": [
          "hide-input"
        ]
      },
      "outputs": [],
      "source": [
        "def sdict(S: Union[Model, SType]) -> Union[Model, SType]:\n",
        "    \"\"\"Convert an `SCoo` or `SDense` to `SDict`\"\"\"\n",
        "\n",
        "    if is_model(S):\n",
        "        model = cast(Model, S)\n",
        "\n",
        "        @functools.wraps(model)\n",
        "        def wrapper(**kwargs):\n",
        "            return sdict(model(**kwargs))\n",
        "\n",
        "        return wrapper\n",
        "\n",
        "    elif is_scoo(S):\n",
        "        x_dict = _scoo_to_sdict(*cast(SCoo, S))\n",
        "    elif is_sdense(S):\n",
        "        x_dict = _sdense_to_sdict(*cast(SDense, S))\n",
        "    elif is_sdict(S):\n",
        "        x_dict = cast(SDict, S)\n",
        "    else:\n",
        "        raise ValueError(\"Could not convert arguments to sdict.\")\n",
        "\n",
        "    return x_dict\n",
        "\n",
        "\n",
        "def _scoo_to_sdict(Si: Array, Sj: Array, Sx: Array, ports_map: Dict[str, int]) -> SDict:\n",
        "    sdict = {}\n",
        "    inverse_ports_map = {int(i): p for p, i in ports_map.items()}\n",
        "    for i, (si, sj) in enumerate(zip(Si, Sj)):\n",
        "        sdict[\n",
        "            inverse_ports_map.get(int(si), \"\"), inverse_ports_map.get(int(sj), \"\")\n",
        "        ] = Sx[..., i]\n",
        "    sdict = {(p1, p2): v for (p1, p2), v in sdict.items() if p1 and p2}\n",
        "    return sdict\n",
        "\n",
        "\n",
        "def _sdense_to_sdict(S: Array, ports_map: Dict[str, int]) -> SDict:\n",
        "    sdict = {}\n",
        "    for p1, i in ports_map.items():\n",
        "        for p2, j in ports_map.items():\n",
        "            sdict[p1, p2] = S[..., i, j]\n",
        "    return sdict"
      ]
    },
    {
      "cell_type": "code",
      "execution_count": 59,
      "id": "9a372fbf",
      "metadata": {
        "execution": {
          "iopub.execute_input": "2022-08-16T04:18:55.638627Z",
          "iopub.status.busy": "2022-08-16T04:18:55.638181Z",
          "iopub.status.idle": "2022-08-16T04:18:55.746539Z",
          "shell.execute_reply": "2022-08-16T04:18:55.746959Z"
        },
        "papermill": {
          "duration": 0.167457,
          "end_time": "2022-08-16T04:18:55.747112",
          "exception": false,
          "start_time": "2022-08-16T04:18:55.579655",
          "status": "completed"
        },
        "tags": []
      },
      "outputs": [],
      "source": [
        "assert sdict(_sdict) is _sdict\n",
        "assert sdict(_scoo) == {\n",
        "    (\"in0\", \"in0\"): 3.0,\n",
        "    (\"in1\", \"in0\"): 1.0,\n",
        "    (\"out0\", \"out0\"): 4.0,\n",
        "}\n",
        "assert sdict(_sdense) == {\n",
        "    (\"in0\", \"in0\"): 0.0,\n",
        "    (\"in0\", \"out0\"): 1.0,\n",
        "    (\"in0\", \"in1\"): 2.0,\n",
        "    (\"out0\", \"in0\"): 3.0,\n",
        "    (\"out0\", \"out0\"): 4.0,\n",
        "    (\"out0\", \"in1\"): 5.0,\n",
        "    (\"in1\", \"in0\"): 6.0,\n",
        "    (\"in1\", \"out0\"): 7.0,\n",
        "    (\"in1\", \"in1\"): 8.0,\n",
        "}"
      ]
    },
    {
      "cell_type": "markdown",
      "id": "492c5cdd",
      "metadata": {
        "papermill": {
          "duration": 0.048357,
          "end_time": "2022-08-16T04:18:55.843543",
          "exception": false,
          "start_time": "2022-08-16T04:18:55.795186",
          "status": "completed"
        },
        "tags": []
      },
      "source": [
        "Convert an `SDict`, `SCoo` or `SDense` into an `SCoo` (or convert a model generating any of these types into a model generating an `SCoo`):"
      ]
    },
    {
      "cell_type": "code",
      "execution_count": 60,
      "id": "0ae1e84ce9640df5",
      "metadata": {
        "execution": {
          "iopub.execute_input": "2022-08-16T04:18:55.942964Z",
          "iopub.status.busy": "2022-08-16T04:18:55.942522Z",
          "iopub.status.idle": "2022-08-16T04:18:55.943621Z",
          "shell.execute_reply": "2022-08-16T04:18:55.943961Z"
        },
        "papermill": {
          "duration": 0.052985,
          "end_time": "2022-08-16T04:18:55.944085",
          "exception": false,
          "start_time": "2022-08-16T04:18:55.891100",
          "status": "completed"
        },
        "tags": [
          "remove-cell"
        ]
      },
      "outputs": [],
      "source": [
        "\n",
        "@overload\n",
        "def scoo(S: Callable) -> Callable:\n",
        "    ...\n",
        "\n",
        "\n",
        "@overload\n",
        "def scoo(S: SType) -> SCoo:\n",
        "    ..."
      ]
    },
    {
      "cell_type": "markdown",
      "id": "ccbe673f9360ea35",
      "metadata": {},
      "source": [
        ":::{eval-rst}\n",
        ".. autofunction:: sax.typing_.scoo\n",
        ":::\n"
      ]
    },
    {
      "cell_type": "code",
      "execution_count": 61,
      "id": "82a3f4bac4e49ba2",
      "metadata": {
        "execution": {
          "iopub.execute_input": "2022-08-16T04:18:56.046968Z",
          "iopub.status.busy": "2022-08-16T04:18:56.046537Z",
          "iopub.status.idle": "2022-08-16T04:18:56.048801Z",
          "shell.execute_reply": "2022-08-16T04:18:56.048460Z"
        },
        "papermill": {
          "duration": 0.057165,
          "end_time": "2022-08-16T04:18:56.048901",
          "exception": false,
          "start_time": "2022-08-16T04:18:55.991736",
          "status": "completed"
        },
        "tags": [
          "hide-input"
        ]
      },
      "outputs": [],
      "source": [
        "\n",
        "def scoo(S: Union[Callable, SType]) -> Union[Callable, SCoo]:\n",
        "    \"\"\"Convert an `SDict` or `SDense` to `SCoo`\"\"\"\n",
        "\n",
        "    if is_model(S):\n",
        "        model = cast(Model, S)\n",
        "\n",
        "        @functools.wraps(model)\n",
        "        def wrapper(**kwargs):\n",
        "            return scoo(model(**kwargs))\n",
        "\n",
        "        return wrapper\n",
        "\n",
        "    elif is_scoo(S):\n",
        "        S = cast(SCoo, S)\n",
        "    elif is_sdense(S):\n",
        "        S = _sdense_to_scoo(*cast(SDense, S))\n",
        "    elif is_sdict(S):\n",
        "        S = _sdict_to_scoo(cast(SDict, S))\n",
        "    else:\n",
        "        raise ValueError(\"Could not convert arguments to scoo.\")\n",
        "\n",
        "    return S\n",
        "\n",
        "\n",
        "def _sdense_to_scoo(S: Array, ports_map: Dict[str, int]) -> SCoo:\n",
        "    Sj, Si = jnp.meshgrid(jnp.arange(S.shape[-1]), jnp.arange(S.shape[-2]))\n",
        "    return Si.ravel(), Sj.ravel(), S.reshape(*S.shape[:-2], -1), ports_map\n",
        "\n",
        "\n",
        "def _sdict_to_scoo(sdict: SDict) -> SCoo:\n",
        "    all_ports = {}\n",
        "    for p1, p2 in sdict:\n",
        "        all_ports[p1] = None\n",
        "        all_ports[p2] = None\n",
        "    ports_map = {p: i for i, p in enumerate(all_ports)}\n",
        "    Sx = jnp.stack(jnp.broadcast_arrays(*sdict.values()), -1)\n",
        "    Si = jnp.array([ports_map[p] for p, _ in sdict])\n",
        "    Sj = jnp.array([ports_map[p] for _, p in sdict])\n",
        "    return Si, Sj, Sx, ports_map"
      ]
    },
    {
      "cell_type": "code",
      "execution_count": 62,
      "id": "1e97b31c",
      "metadata": {
        "execution": {
          "iopub.execute_input": "2022-08-16T04:18:56.153435Z",
          "iopub.status.busy": "2022-08-16T04:18:56.153012Z",
          "iopub.status.idle": "2022-08-16T04:18:56.231895Z",
          "shell.execute_reply": "2022-08-16T04:18:56.231471Z"
        },
        "papermill": {
          "duration": 0.135915,
          "end_time": "2022-08-16T04:18:56.232011",
          "exception": false,
          "start_time": "2022-08-16T04:18:56.096096",
          "status": "completed"
        },
        "tags": []
      },
      "outputs": [],
      "source": [
        "assert scoo(_scoo) is _scoo\n",
        "assert scoo(_sdict) == (0, 1, 3.0, {\"in0\": 0, \"out0\": 1})\n",
        "Si, Sj, Sx, port_map = scoo(_sdense)  # type: ignore\n",
        "np.testing.assert_array_equal(Si, jnp.array([0, 0, 0, 1, 1, 1, 2, 2, 2]))\n",
        "np.testing.assert_array_equal(Sj, jnp.array([0, 1, 2, 0, 1, 2, 0, 1, 2]))\n",
        "np.testing.assert_array_almost_equal(Sx, jnp.array([0.0, 1.0, 2.0, 3.0, 4.0, 5.0, 6.0, 7.0, 8.0]))\n",
        "assert port_map == {\"in0\": 0, \"in1\": 2, \"out0\": 1}"
      ]
    },
    {
      "cell_type": "markdown",
      "id": "5e58325b",
      "metadata": {
        "papermill": {
          "duration": 0.048111,
          "end_time": "2022-08-16T04:18:56.328599",
          "exception": false,
          "start_time": "2022-08-16T04:18:56.280488",
          "status": "completed"
        },
        "tags": []
      },
      "source": [
        "Convert an `SDict`, `SCoo` or `SDense` into an `SDense` (or convert a model generating any of these types into a model generating an `SDense`):"
      ]
    },
    {
      "cell_type": "code",
      "execution_count": 63,
      "id": "6d6ffd04ff3fb110",
      "metadata": {
        "execution": {
          "iopub.execute_input": "2022-08-16T04:18:56.428923Z",
          "iopub.status.busy": "2022-08-16T04:18:56.428483Z",
          "iopub.status.idle": "2022-08-16T04:18:56.430103Z",
          "shell.execute_reply": "2022-08-16T04:18:56.429674Z"
        },
        "papermill": {
          "duration": 0.053618,
          "end_time": "2022-08-16T04:18:56.430199",
          "exception": false,
          "start_time": "2022-08-16T04:18:56.376581",
          "status": "completed"
        },
        "tags": [
          "remove-cell"
        ]
      },
      "outputs": [],
      "source": [
        "\n",
        "@overload\n",
        "def sdense(S: Callable) -> Callable:\n",
        "    ...\n",
        "\n",
        "\n",
        "@overload\n",
        "def sdense(S: SType) -> SDense:\n",
        "    ..."
      ]
    },
    {
      "cell_type": "markdown",
      "id": "c485e3db6912e58f",
      "metadata": {},
      "source": [
        ":::{eval-rst}\n",
        ".. autofunction:: sax.typing_.sdense\n",
        ":::\n"
      ]
    },
    {
      "cell_type": "code",
      "execution_count": 64,
      "id": "026c2f54066c7385",
      "metadata": {
        "execution": {
          "iopub.execute_input": "2022-08-16T04:18:56.533283Z",
          "iopub.status.busy": "2022-08-16T04:18:56.532848Z",
          "iopub.status.idle": "2022-08-16T04:18:56.534420Z",
          "shell.execute_reply": "2022-08-16T04:18:56.533993Z"
        },
        "papermill": {
          "duration": 0.056176,
          "end_time": "2022-08-16T04:18:56.534515",
          "exception": false,
          "start_time": "2022-08-16T04:18:56.478339",
          "status": "completed"
        },
        "tags": [
          "hide-input"
        ]
      },
      "outputs": [],
      "source": [
        "\n",
        "def sdense(S: Union[Callable, SType]) -> Union[Callable, SDense]:\n",
        "    \"\"\"Convert an `SDict` or `SCoo` to `SDense`\"\"\"\n",
        "\n",
        "    if is_model(S):\n",
        "        model = cast(Model, S)\n",
        "\n",
        "        @functools.wraps(model)\n",
        "        def wrapper(**kwargs):\n",
        "            return sdense(model(**kwargs))\n",
        "\n",
        "        return wrapper\n",
        "\n",
        "    if is_sdict(S):\n",
        "        S = _sdict_to_sdense(cast(SDict, S))\n",
        "    elif is_scoo(S):\n",
        "        S = _scoo_to_sdense(*cast(SCoo, S))\n",
        "    elif is_sdense(S):\n",
        "        S = cast(SDense, S)\n",
        "    else:\n",
        "        raise ValueError(\"Could not convert arguments to sdense.\")\n",
        "\n",
        "    return S\n",
        "\n",
        "\n",
        "def _scoo_to_sdense(\n",
        "    Si: Array, Sj: Array, Sx: Array, ports_map: Dict[str, int]\n",
        ") -> SDense:\n",
        "    n_col = len(ports_map)\n",
        "    S = jnp.zeros((*Sx.shape[:-1], n_col, n_col), dtype=complex)\n",
        "    if JAX_AVAILABLE:\n",
        "        S = S.at[..., Si, Sj].add(Sx)\n",
        "    else:\n",
        "        S[..., Si, Sj] = Sx\n",
        "    return S, ports_map\n",
        "\n",
        "def _sdict_to_sdense(sdict: SDict) -> SDense:\n",
        "    Si, Sj, Sx, ports_map = _sdict_to_scoo(sdict)\n",
        "    return _scoo_to_sdense(Si, Sj, Sx, ports_map)"
      ]
    },
    {
      "cell_type": "code",
      "execution_count": 65,
      "id": "084b7ddb",
      "metadata": {
        "execution": {
          "iopub.execute_input": "2022-08-16T04:18:56.638538Z",
          "iopub.status.busy": "2022-08-16T04:18:56.637412Z",
          "iopub.status.idle": "2022-08-16T04:18:56.761468Z",
          "shell.execute_reply": "2022-08-16T04:18:56.761025Z"
        },
        "papermill": {
          "duration": 0.179179,
          "end_time": "2022-08-16T04:18:56.761593",
          "exception": false,
          "start_time": "2022-08-16T04:18:56.582414",
          "status": "completed"
        },
        "tags": []
      },
      "outputs": [],
      "source": [
        "assert sdense(_sdense) is _sdense\n",
        "Sd, port_map = sdense(_scoo)  # type: ignore\n",
        "Sd_ = jnp.array([[3.0 + 0.0j, 0.0 + 0.0j, 0.0 + 0.0j],\n",
        "                 [0.0 + 0.0j, 4.0 + 0.0j, 0.0 + 0.0j],\n",
        "                 [1.0 + 0.0j, 0.0 + 0.0j, 0.0 + 0.0j]])\n",
        "\n",
        "np.testing.assert_array_almost_equal(Sd, Sd_)\n",
        "assert port_map == {\"in0\": 0, \"in1\": 2, \"out0\": 1}"
      ]
    },
    {
      "cell_type": "markdown",
      "id": "005bcccb8980cf1d",
      "metadata": {},
      "source": [
        ":::{eval-rst}\n",
        ".. autofunction:: sax.typing_.modelfactory\n",
        ":::\n"
      ]
    },
    {
      "cell_type": "code",
      "execution_count": 66,
      "id": "0ea08310b0c8094b",
      "metadata": {
        "execution": {
          "iopub.execute_input": "2022-08-16T04:18:56.862817Z",
          "iopub.status.busy": "2022-08-16T04:18:56.862352Z",
          "iopub.status.idle": "2022-08-16T04:18:56.864110Z",
          "shell.execute_reply": "2022-08-16T04:18:56.863740Z"
        },
        "papermill": {
          "duration": 0.054277,
          "end_time": "2022-08-16T04:18:56.864208",
          "exception": false,
          "start_time": "2022-08-16T04:18:56.809931",
          "status": "completed"
        },
        "tags": [
          "hide-input"
        ]
      },
      "outputs": [],
      "source": [
        "\n",
        "def modelfactory(func):\n",
        "    \"\"\"Decorator that marks a function as `ModelFactory`\"\"\"\n",
        "    sig = inspect.signature(func)\n",
        "    if _is_callable_annotation(sig.return_annotation):  # already model factory\n",
        "        return func\n",
        "    func.__signature__ = sig.replace(return_annotation=Model)\n",
        "    return func"
      ]
    }
  ],
  "metadata": {
    "kernelspec": {
      "display_name": "sax",
      "language": "python",
      "name": "sax"
    },
    "language_info": {
      "codemirror_mode": {
        "name": "ipython",
        "version": 3
      },
      "file_extension": ".py",
      "mimetype": "text/x-python",
      "name": "python",
      "nbconvert_exporter": "python",
      "pygments_lexer": "ipython3",
      "version": "3.9.0"
    },
    "papermill": {
      "default_parameters": {},
      "duration": 15.914369,
      "end_time": "2022-08-16T04:18:57.219804",
      "environment_variables": {},
      "exception": null,
      "input_path": "./nbs/00_typing.ipynb",
      "output_path": "./nbs/00_typing.ipynb",
      "parameters": {},
      "start_time": "2022-08-16T04:18:41.305435",
      "version": "2.3.4"
    }
  },
  "nbformat": 4,
  "nbformat_minor": 5
}
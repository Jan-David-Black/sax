{
  "cells": [
    {
      "cell_type": "code",
      "execution_count": 1,
      "id": "94d11f6dfe54eaa4",
      "metadata": {
        "execution": {
          "iopub.execute_input": "2022-08-10T14:57:51.386931Z",
          "iopub.status.busy": "2022-08-10T14:57:51.386488Z",
          "iopub.status.idle": "2022-08-10T14:57:51.389006Z",
          "shell.execute_reply": "2022-08-10T14:57:51.388621Z"
        },
        "papermill": {
          "duration": 0.060506,
          "end_time": "2022-08-10T14:57:51.389114",
          "exception": false,
          "start_time": "2022-08-10T14:57:51.328608",
          "status": "completed"
        },
        "tags": [
          "remove-cell"
        ]
      },
      "outputs": [],
      "source": []
    },
    {
      "cell_type": "markdown",
      "id": "13a3464b",
      "metadata": {
        "papermill": {
          "duration": 0.051895,
          "end_time": "2022-08-10T14:57:51.492373",
          "exception": false,
          "start_time": "2022-08-10T14:57:51.440478",
          "status": "completed"
        },
        "tags": []
      },
      "source": [
        "# Typing\n",
        "\n",
        "> SAX types"
      ]
    },
    {
      "cell_type": "code",
      "execution_count": 2,
      "id": "3a43548081c938de",
      "metadata": {
        "execution": {
          "iopub.execute_input": "2022-08-10T14:57:51.604378Z",
          "iopub.status.busy": "2022-08-10T14:57:51.603960Z",
          "iopub.status.idle": "2022-08-10T14:57:52.276387Z",
          "shell.execute_reply": "2022-08-10T14:57:52.276016Z"
        },
        "papermill": {
          "duration": 0.732118,
          "end_time": "2022-08-10T14:57:52.276493",
          "exception": false,
          "start_time": "2022-08-10T14:57:51.544375",
          "status": "completed"
        },
        "tags": [
          "remove-cell"
        ]
      },
      "outputs": [],
      "source": [
        "import matplotlib.pyplot as plt\n",
        "from fastcore.test import test_eq\n",
        "from pytest import approx, raises\n",
        "\n",
        "import os, sys; sys.stderr = open(os.devnull, \"w\")"
      ]
    },
    {
      "cell_type": "code",
      "execution_count": 3,
      "id": "5d376e66dba41fcb",
      "metadata": {
        "execution": {
          "iopub.execute_input": "2022-08-10T14:57:52.385940Z",
          "iopub.status.busy": "2022-08-10T14:57:52.385515Z",
          "iopub.status.idle": "2022-08-10T14:57:52.903562Z",
          "shell.execute_reply": "2022-08-10T14:57:52.902885Z"
        },
        "papermill": {
          "duration": 0.575232,
          "end_time": "2022-08-10T14:57:52.903667",
          "exception": false,
          "start_time": "2022-08-10T14:57:52.328435",
          "status": "completed"
        },
        "tags": [
          "hide-input"
        ]
      },
      "outputs": [],
      "source": [
        "from __future__ import annotations\n",
        "\n",
        "import functools\n",
        "import inspect\n",
        "from collections.abc import Callable as CallableABC\n",
        "from typing import Any, Callable, Dict, Tuple, Union, cast, overload\n",
        "try:\n",
        "    from typing import TypedDict\n",
        "except ImportError: # python<3.8\n",
        "    from typing_extensions import TypedDict\n",
        "\n",
        "import numpy as np\n",
        "from natsort import natsorted\n",
        "\n",
        "try:\n",
        "    import jax.numpy as jnp\n",
        "    JAX_AVAILABLE = True\n",
        "except ImportError:\n",
        "    import numpy as jnp\n",
        "    JAX_AVAILABLE = False"
      ]
    },
    {
      "cell_type": "markdown",
      "id": "41e26ab2",
      "metadata": {
        "papermill": {
          "duration": 0.05212,
          "end_time": "2022-08-10T14:57:53.008188",
          "exception": false,
          "start_time": "2022-08-10T14:57:52.956068",
          "status": "completed"
        },
        "tags": []
      },
      "source": [
        "## Core Types"
      ]
    },
    {
      "cell_type": "markdown",
      "id": "ca29df5c",
      "metadata": {
        "papermill": {
          "duration": 0.051704,
          "end_time": "2022-08-10T14:57:53.136870",
          "exception": false,
          "start_time": "2022-08-10T14:57:53.085166",
          "status": "completed"
        },
        "tags": []
      },
      "source": [
        "### Array"
      ]
    },
    {
      "cell_type": "markdown",
      "id": "82c3c344",
      "metadata": {
        "papermill": {
          "duration": 0.05158,
          "end_time": "2022-08-10T14:57:53.240732",
          "exception": false,
          "start_time": "2022-08-10T14:57:53.189152",
          "status": "completed"
        },
        "tags": []
      },
      "source": [
        "an `Array` is either a jax array or a numpy array:"
      ]
    },
    {
      "cell_type": "code",
      "execution_count": 4,
      "id": "2e416d82f02f7fde",
      "metadata": {
        "execution": {
          "iopub.execute_input": "2022-08-10T14:57:53.348773Z",
          "iopub.status.busy": "2022-08-10T14:57:53.348343Z",
          "iopub.status.idle": "2022-08-10T14:57:53.349701Z",
          "shell.execute_reply": "2022-08-10T14:57:53.349300Z"
        },
        "papermill": {
          "duration": 0.056852,
          "end_time": "2022-08-10T14:57:53.349792",
          "exception": false,
          "start_time": "2022-08-10T14:57:53.292940",
          "status": "completed"
        },
        "tags": []
      },
      "outputs": [],
      "source": [
        "Array = Union[jnp.ndarray, np.ndarray]"
      ]
    },
    {
      "cell_type": "markdown",
      "id": "6b86fa37",
      "metadata": {
        "papermill": {
          "duration": 0.051924,
          "end_time": "2022-08-10T14:57:53.453943",
          "exception": false,
          "start_time": "2022-08-10T14:57:53.402019",
          "status": "completed"
        },
        "tags": []
      },
      "source": [
        "### Int"
      ]
    },
    {
      "cell_type": "markdown",
      "id": "9fa467c9",
      "metadata": {
        "papermill": {
          "duration": 0.052176,
          "end_time": "2022-08-10T14:57:53.558270",
          "exception": false,
          "start_time": "2022-08-10T14:57:53.506094",
          "status": "completed"
        },
        "tags": []
      },
      "source": [
        "An `Int` is either a built-in `int` or an `Array` [of dtype `int`]"
      ]
    },
    {
      "cell_type": "code",
      "execution_count": 5,
      "id": "d1827bdc580f3c12",
      "metadata": {
        "execution": {
          "iopub.execute_input": "2022-08-10T14:57:53.667115Z",
          "iopub.status.busy": "2022-08-10T14:57:53.666377Z",
          "iopub.status.idle": "2022-08-10T14:57:53.667631Z",
          "shell.execute_reply": "2022-08-10T14:57:53.667968Z"
        },
        "papermill": {
          "duration": 0.056977,
          "end_time": "2022-08-10T14:57:53.668076",
          "exception": false,
          "start_time": "2022-08-10T14:57:53.611099",
          "status": "completed"
        },
        "tags": []
      },
      "outputs": [],
      "source": [
        "Int = Union[int, Array]"
      ]
    },
    {
      "cell_type": "markdown",
      "id": "c486cd2c",
      "metadata": {
        "papermill": {
          "duration": 0.051745,
          "end_time": "2022-08-10T14:57:53.771643",
          "exception": false,
          "start_time": "2022-08-10T14:57:53.719898",
          "status": "completed"
        },
        "tags": []
      },
      "source": [
        "### Float"
      ]
    },
    {
      "cell_type": "markdown",
      "id": "3b59bba6",
      "metadata": {
        "papermill": {
          "duration": 0.052159,
          "end_time": "2022-08-10T14:57:53.876351",
          "exception": false,
          "start_time": "2022-08-10T14:57:53.824192",
          "status": "completed"
        },
        "tags": []
      },
      "source": [
        "A `Float` is eiter a built-in `float` or an `Array` [of dtype `float`]"
      ]
    },
    {
      "cell_type": "code",
      "execution_count": 6,
      "id": "9289036054834a79",
      "metadata": {
        "execution": {
          "iopub.execute_input": "2022-08-10T14:57:53.984310Z",
          "iopub.status.busy": "2022-08-10T14:57:53.983884Z",
          "iopub.status.idle": "2022-08-10T14:57:53.986677Z",
          "shell.execute_reply": "2022-08-10T14:57:53.986280Z"
        },
        "papermill": {
          "duration": 0.057956,
          "end_time": "2022-08-10T14:57:53.986774",
          "exception": false,
          "start_time": "2022-08-10T14:57:53.928818",
          "status": "completed"
        },
        "tags": []
      },
      "outputs": [],
      "source": [
        "Float = Union[float, Array]"
      ]
    },
    {
      "cell_type": "markdown",
      "id": "bdfd6200",
      "metadata": {
        "papermill": {
          "duration": 0.052248,
          "end_time": "2022-08-10T14:57:54.091171",
          "exception": false,
          "start_time": "2022-08-10T14:57:54.038923",
          "status": "completed"
        },
        "tags": []
      },
      "source": [
        "### ComplexFloat"
      ]
    },
    {
      "cell_type": "markdown",
      "id": "b1a7d255",
      "metadata": {
        "papermill": {
          "duration": 0.051689,
          "end_time": "2022-08-10T14:57:54.194683",
          "exception": false,
          "start_time": "2022-08-10T14:57:54.142994",
          "status": "completed"
        },
        "tags": []
      },
      "source": [
        "A `ComplexFloat` is either a build-in `complex` or an Array [of dtype `complex`]:"
      ]
    },
    {
      "cell_type": "code",
      "execution_count": 7,
      "id": "a78703bac347327e",
      "metadata": {
        "execution": {
          "iopub.execute_input": "2022-08-10T14:57:54.301956Z",
          "iopub.status.busy": "2022-08-10T14:57:54.301541Z",
          "iopub.status.idle": "2022-08-10T14:57:54.303391Z",
          "shell.execute_reply": "2022-08-10T14:57:54.303034Z"
        },
        "papermill": {
          "duration": 0.056461,
          "end_time": "2022-08-10T14:57:54.303480",
          "exception": false,
          "start_time": "2022-08-10T14:57:54.247019",
          "status": "completed"
        },
        "tags": []
      },
      "outputs": [],
      "source": [
        "ComplexFloat = Union[complex, Float]"
      ]
    },
    {
      "cell_type": "markdown",
      "id": "1f1aa099",
      "metadata": {
        "papermill": {
          "duration": 0.051537,
          "end_time": "2022-08-10T14:57:54.407056",
          "exception": false,
          "start_time": "2022-08-10T14:57:54.355519",
          "status": "completed"
        },
        "tags": []
      },
      "source": [
        "### Settings"
      ]
    },
    {
      "cell_type": "markdown",
      "id": "69839acd",
      "metadata": {
        "papermill": {
          "duration": 0.051654,
          "end_time": "2022-08-10T14:57:54.510405",
          "exception": false,
          "start_time": "2022-08-10T14:57:54.458751",
          "status": "completed"
        },
        "tags": []
      },
      "source": [
        "A `Settings` dictionary is a nested mapping between setting names [`str`] to either `ComplexFloat` values OR to another lower level `Settings` dictionary."
      ]
    },
    {
      "cell_type": "code",
      "execution_count": 8,
      "id": "6caa357fb4d2eb30",
      "metadata": {
        "execution": {
          "iopub.execute_input": "2022-08-10T14:57:54.618851Z",
          "iopub.status.busy": "2022-08-10T14:57:54.618198Z",
          "iopub.status.idle": "2022-08-10T14:57:54.619468Z",
          "shell.execute_reply": "2022-08-10T14:57:54.619779Z"
        },
        "papermill": {
          "duration": 0.057562,
          "end_time": "2022-08-10T14:57:54.619887",
          "exception": false,
          "start_time": "2022-08-10T14:57:54.562325",
          "status": "completed"
        },
        "tags": []
      },
      "outputs": [],
      "source": [
        "Settings = Union[Dict[str, ComplexFloat], Dict[str, \"Settings\"]]"
      ]
    },
    {
      "cell_type": "markdown",
      "id": "cf202d06",
      "metadata": {
        "papermill": {
          "duration": 0.051962,
          "end_time": "2022-08-10T14:57:54.724106",
          "exception": false,
          "start_time": "2022-08-10T14:57:54.672144",
          "status": "completed"
        },
        "tags": []
      },
      "source": [
        "Settings dictionaries are used to parametrize a SAX `Model` or a `circuit`. The settings dictionary should have the same hierarchy levels as the circuit:\n",
        " \n",
        " > Example:"
      ]
    },
    {
      "cell_type": "code",
      "execution_count": 9,
      "id": "2b26c4ab",
      "metadata": {
        "execution": {
          "iopub.execute_input": "2022-08-10T14:57:54.832830Z",
          "iopub.status.busy": "2022-08-10T14:57:54.832411Z",
          "iopub.status.idle": "2022-08-10T14:57:54.833504Z",
          "shell.execute_reply": "2022-08-10T14:57:54.833821Z"
        },
        "papermill": {
          "duration": 0.05727,
          "end_time": "2022-08-10T14:57:54.833928",
          "exception": false,
          "start_time": "2022-08-10T14:57:54.776658",
          "status": "completed"
        },
        "tags": []
      },
      "outputs": [],
      "source": [
        "mzi_settings = {\n",
        "    \"wl\": 1.5,  # global settings\n",
        "    \"lft\": {\"coupling\": 0.5},  # settings for the left coupler\n",
        "    \"top\": {\"neff\": 3.4},  # settings for the top waveguide\n",
        "    \"rgt\": {\"coupling\": 0.3},  # settings for the right coupler\n",
        "}"
      ]
    },
    {
      "cell_type": "markdown",
      "id": "45043912",
      "metadata": {
        "papermill": {
          "duration": 0.052713,
          "end_time": "2022-08-10T14:57:54.938754",
          "exception": false,
          "start_time": "2022-08-10T14:57:54.886041",
          "status": "completed"
        },
        "tags": []
      },
      "source": [
        "### SDict"
      ]
    },
    {
      "cell_type": "markdown",
      "id": "c5a7facf",
      "metadata": {
        "papermill": {
          "duration": 0.052452,
          "end_time": "2022-08-10T14:57:55.043142",
          "exception": false,
          "start_time": "2022-08-10T14:57:54.990690",
          "status": "completed"
        },
        "tags": []
      },
      "source": [
        "An `SDict` is a sparse dictionary based representation of an S-matrix, mapping port name tuples such as `('in0', 'out0')` to `ComplexFloat`."
      ]
    },
    {
      "cell_type": "code",
      "execution_count": 10,
      "id": "49e0a72062b2b3a8",
      "metadata": {
        "execution": {
          "iopub.execute_input": "2022-08-10T14:57:55.150834Z",
          "iopub.status.busy": "2022-08-10T14:57:55.150400Z",
          "iopub.status.idle": "2022-08-10T14:57:55.151778Z",
          "shell.execute_reply": "2022-08-10T14:57:55.152138Z"
        },
        "papermill": {
          "duration": 0.056998,
          "end_time": "2022-08-10T14:57:55.152249",
          "exception": false,
          "start_time": "2022-08-10T14:57:55.095251",
          "status": "completed"
        },
        "tags": []
      },
      "outputs": [],
      "source": [
        "SDict = Dict[Tuple[str, str], ComplexFloat]"
      ]
    },
    {
      "cell_type": "markdown",
      "id": "07dc470a",
      "metadata": {
        "papermill": {
          "duration": 0.052743,
          "end_time": "2022-08-10T14:57:55.257268",
          "exception": false,
          "start_time": "2022-08-10T14:57:55.204525",
          "status": "completed"
        },
        "tags": []
      },
      "source": [
        "> Example:"
      ]
    },
    {
      "cell_type": "code",
      "execution_count": 11,
      "id": "ad65a70c",
      "metadata": {
        "execution": {
          "iopub.execute_input": "2022-08-10T14:57:55.365008Z",
          "iopub.status.busy": "2022-08-10T14:57:55.364599Z",
          "iopub.status.idle": "2022-08-10T14:57:55.366126Z",
          "shell.execute_reply": "2022-08-10T14:57:55.365808Z"
        },
        "papermill": {
          "duration": 0.056843,
          "end_time": "2022-08-10T14:57:55.366215",
          "exception": false,
          "start_time": "2022-08-10T14:57:55.309372",
          "status": "completed"
        },
        "tags": []
      },
      "outputs": [],
      "source": [
        "_sdict: SDict = {\n",
        "    (\"in0\", \"out0\"): 3.0,\n",
        "}"
      ]
    },
    {
      "cell_type": "markdown",
      "id": "0e2c7430",
      "metadata": {
        "papermill": {
          "duration": 0.052124,
          "end_time": "2022-08-10T14:57:55.470325",
          "exception": false,
          "start_time": "2022-08-10T14:57:55.418201",
          "status": "completed"
        },
        "tags": []
      },
      "source": [
        "### SCoo"
      ]
    },
    {
      "cell_type": "markdown",
      "id": "ef614e1d",
      "metadata": {
        "papermill": {
          "duration": 0.052417,
          "end_time": "2022-08-10T14:57:55.575035",
          "exception": false,
          "start_time": "2022-08-10T14:57:55.522618",
          "status": "completed"
        },
        "tags": []
      },
      "source": [
        "An `SCoo` is a sparse matrix based representation of an S-matrix consisting of three arrays and a port map. The three arrays represent the input port indices [`int`], output port indices [`int`] and the S-matrix values [`ComplexFloat`] of the sparse matrix. The port map maps a port name [`str`] to a port index [`int`]. Only these four arrays **together** and in this specific **order** are considered a valid `SCoo` representation!"
      ]
    },
    {
      "cell_type": "code",
      "execution_count": 12,
      "id": "51d08e933f6b542e",
      "metadata": {
        "execution": {
          "iopub.execute_input": "2022-08-10T14:57:55.684628Z",
          "iopub.status.busy": "2022-08-10T14:57:55.683877Z",
          "iopub.status.idle": "2022-08-10T14:57:55.685114Z",
          "shell.execute_reply": "2022-08-10T14:57:55.685429Z"
        },
        "papermill": {
          "duration": 0.057527,
          "end_time": "2022-08-10T14:57:55.685534",
          "exception": false,
          "start_time": "2022-08-10T14:57:55.628007",
          "status": "completed"
        },
        "tags": []
      },
      "outputs": [],
      "source": [
        "SCoo = Tuple[Array, Array, ComplexFloat, Dict[str, int]]"
      ]
    },
    {
      "cell_type": "markdown",
      "id": "ff9719c8",
      "metadata": {
        "papermill": {
          "duration": 0.052659,
          "end_time": "2022-08-10T14:57:55.790853",
          "exception": false,
          "start_time": "2022-08-10T14:57:55.738194",
          "status": "completed"
        },
        "tags": []
      },
      "source": [
        "> Example:"
      ]
    },
    {
      "cell_type": "code",
      "execution_count": 13,
      "id": "972f8060",
      "metadata": {
        "execution": {
          "iopub.execute_input": "2022-08-10T14:57:55.900176Z",
          "iopub.status.busy": "2022-08-10T14:57:55.899221Z",
          "iopub.status.idle": "2022-08-10T14:57:55.924927Z",
          "shell.execute_reply": "2022-08-10T14:57:55.924218Z"
        },
        "papermill": {
          "duration": 0.08208,
          "end_time": "2022-08-10T14:57:55.925040",
          "exception": false,
          "start_time": "2022-08-10T14:57:55.842960",
          "status": "completed"
        },
        "tags": []
      },
      "outputs": [],
      "source": [
        "Si = jnp.arange(3, dtype=int)\n",
        "Sj = jnp.array([0, 1, 0], dtype=int)\n",
        "Sx = jnp.array([3.0, 4.0, 1.0])\n",
        "port_map = {\"in0\": 0, \"in1\": 2, \"out0\": 1}\n",
        "_scoo: SCoo = (Si, Sj, Sx, port_map)"
      ]
    },
    {
      "cell_type": "markdown",
      "id": "2cba9246",
      "metadata": {
        "papermill": {
          "duration": 0.053294,
          "end_time": "2022-08-10T14:57:56.031164",
          "exception": false,
          "start_time": "2022-08-10T14:57:55.977870",
          "status": "completed"
        },
        "tags": []
      },
      "source": [
        "### SDense"
      ]
    },
    {
      "cell_type": "markdown",
      "id": "fd28795b",
      "metadata": {
        "papermill": {
          "duration": 0.052595,
          "end_time": "2022-08-10T14:57:56.136813",
          "exception": false,
          "start_time": "2022-08-10T14:57:56.084218",
          "status": "completed"
        },
        "tags": []
      },
      "source": [
        "an `SDense` is a dense matrix representation of an S-matrix. It's represented by an NxN `ComplexFloat` array and a port map (mapping port names onto port indices)."
      ]
    },
    {
      "cell_type": "code",
      "execution_count": 14,
      "id": "c6a9c2e88e6e7044",
      "metadata": {
        "execution": {
          "iopub.execute_input": "2022-08-10T14:57:56.245313Z",
          "iopub.status.busy": "2022-08-10T14:57:56.244891Z",
          "iopub.status.idle": "2022-08-10T14:57:56.246840Z",
          "shell.execute_reply": "2022-08-10T14:57:56.246480Z"
        },
        "papermill": {
          "duration": 0.0574,
          "end_time": "2022-08-10T14:57:56.246937",
          "exception": false,
          "start_time": "2022-08-10T14:57:56.189537",
          "status": "completed"
        },
        "tags": []
      },
      "outputs": [],
      "source": [
        "SDense = Tuple[Array, Dict[str, int]]"
      ]
    },
    {
      "cell_type": "markdown",
      "id": "2c4789f7",
      "metadata": {
        "papermill": {
          "duration": 0.052907,
          "end_time": "2022-08-10T14:57:56.352075",
          "exception": false,
          "start_time": "2022-08-10T14:57:56.299168",
          "status": "completed"
        },
        "tags": []
      },
      "source": [
        "> Example:"
      ]
    },
    {
      "cell_type": "code",
      "execution_count": 15,
      "id": "02def7ed",
      "metadata": {
        "execution": {
          "iopub.execute_input": "2022-08-10T14:57:56.465632Z",
          "iopub.status.busy": "2022-08-10T14:57:56.465218Z",
          "iopub.status.idle": "2022-08-10T14:57:56.487163Z",
          "shell.execute_reply": "2022-08-10T14:57:56.486766Z"
        },
        "papermill": {
          "duration": 0.082095,
          "end_time": "2022-08-10T14:57:56.487258",
          "exception": false,
          "start_time": "2022-08-10T14:57:56.405163",
          "status": "completed"
        },
        "tags": []
      },
      "outputs": [],
      "source": [
        "Sd = jnp.arange(9, dtype=float).reshape(3, 3)\n",
        "port_map = {\"in0\": 0, \"in1\": 2, \"out0\": 1}\n",
        "_sdense = Sd, port_map"
      ]
    },
    {
      "cell_type": "markdown",
      "id": "b0d2e36f",
      "metadata": {
        "papermill": {
          "duration": 0.052711,
          "end_time": "2022-08-10T14:57:56.593068",
          "exception": false,
          "start_time": "2022-08-10T14:57:56.540357",
          "status": "completed"
        },
        "tags": []
      },
      "source": [
        "### SType"
      ]
    },
    {
      "cell_type": "markdown",
      "id": "b441f21d",
      "metadata": {
        "papermill": {
          "duration": 0.05321,
          "end_time": "2022-08-10T14:57:56.699069",
          "exception": false,
          "start_time": "2022-08-10T14:57:56.645859",
          "status": "completed"
        },
        "tags": []
      },
      "source": [
        "an `SType` is either an `SDict` **OR** an `SCoo` **OR** an `SDense`:"
      ]
    },
    {
      "cell_type": "code",
      "execution_count": 16,
      "id": "4d80a6211c1a5f8a",
      "metadata": {
        "execution": {
          "iopub.execute_input": "2022-08-10T14:57:56.808838Z",
          "iopub.status.busy": "2022-08-10T14:57:56.808224Z",
          "iopub.status.idle": "2022-08-10T14:57:56.809506Z",
          "shell.execute_reply": "2022-08-10T14:57:56.809822Z"
        },
        "papermill": {
          "duration": 0.057947,
          "end_time": "2022-08-10T14:57:56.809929",
          "exception": false,
          "start_time": "2022-08-10T14:57:56.751982",
          "status": "completed"
        },
        "tags": []
      },
      "outputs": [],
      "source": [
        "SType = Union[SDict, SCoo, SDense]"
      ]
    },
    {
      "cell_type": "markdown",
      "id": "e0561b07",
      "metadata": {
        "papermill": {
          "duration": 0.052435,
          "end_time": "2022-08-10T14:57:56.915263",
          "exception": false,
          "start_time": "2022-08-10T14:57:56.862828",
          "status": "completed"
        },
        "tags": []
      },
      "source": [
        "> Example:"
      ]
    },
    {
      "cell_type": "code",
      "execution_count": 17,
      "id": "5b52a5f2",
      "metadata": {
        "execution": {
          "iopub.execute_input": "2022-08-10T14:57:57.024845Z",
          "iopub.status.busy": "2022-08-10T14:57:57.024405Z",
          "iopub.status.idle": "2022-08-10T14:57:57.025333Z",
          "shell.execute_reply": "2022-08-10T14:57:57.025701Z"
        },
        "papermill": {
          "duration": 0.057486,
          "end_time": "2022-08-10T14:57:57.025810",
          "exception": false,
          "start_time": "2022-08-10T14:57:56.968324",
          "status": "completed"
        },
        "tags": []
      },
      "outputs": [],
      "source": [
        "obj: SType = _sdict\n",
        "obj: SType = _scoo\n",
        "obj: SType = _sdense"
      ]
    },
    {
      "cell_type": "markdown",
      "id": "afabe91b",
      "metadata": {
        "papermill": {
          "duration": 0.052711,
          "end_time": "2022-08-10T14:57:57.131153",
          "exception": false,
          "start_time": "2022-08-10T14:57:57.078442",
          "status": "completed"
        },
        "tags": []
      },
      "source": [
        "### Model"
      ]
    },
    {
      "cell_type": "markdown",
      "id": "13808fb1",
      "metadata": {
        "papermill": {
          "duration": 0.052883,
          "end_time": "2022-08-10T14:57:57.237620",
          "exception": false,
          "start_time": "2022-08-10T14:57:57.184737",
          "status": "completed"
        },
        "tags": []
      },
      "source": [
        "A `Model` is any keyword-only function that returns an `SType`:"
      ]
    },
    {
      "cell_type": "code",
      "execution_count": 18,
      "id": "81e848a5a40f6afc",
      "metadata": {
        "execution": {
          "iopub.execute_input": "2022-08-10T14:57:57.347877Z",
          "iopub.status.busy": "2022-08-10T14:57:57.347467Z",
          "iopub.status.idle": "2022-08-10T14:57:57.348512Z",
          "shell.execute_reply": "2022-08-10T14:57:57.348829Z"
        },
        "papermill": {
          "duration": 0.057973,
          "end_time": "2022-08-10T14:57:57.348936",
          "exception": false,
          "start_time": "2022-08-10T14:57:57.290963",
          "status": "completed"
        },
        "tags": []
      },
      "outputs": [],
      "source": [
        "Model = Callable[..., SType]"
      ]
    },
    {
      "cell_type": "markdown",
      "id": "fad534fb",
      "metadata": {
        "papermill": {
          "duration": 0.053103,
          "end_time": "2022-08-10T14:57:57.455013",
          "exception": false,
          "start_time": "2022-08-10T14:57:57.401910",
          "status": "completed"
        },
        "tags": []
      },
      "source": [
        "### ModelFactory"
      ]
    },
    {
      "cell_type": "markdown",
      "id": "85781647",
      "metadata": {
        "papermill": {
          "duration": 0.05295,
          "end_time": "2022-08-10T14:57:57.561274",
          "exception": false,
          "start_time": "2022-08-10T14:57:57.508324",
          "status": "completed"
        },
        "tags": []
      },
      "source": [
        "A `ModelFactory` is any keyword-only function that returns a `Model`:"
      ]
    },
    {
      "cell_type": "code",
      "execution_count": 19,
      "id": "46ac4fc741d0a83b",
      "metadata": {
        "execution": {
          "iopub.execute_input": "2022-08-10T14:57:57.670799Z",
          "iopub.status.busy": "2022-08-10T14:57:57.670357Z",
          "iopub.status.idle": "2022-08-10T14:57:57.672146Z",
          "shell.execute_reply": "2022-08-10T14:57:57.671816Z"
        },
        "papermill": {
          "duration": 0.058249,
          "end_time": "2022-08-10T14:57:57.672236",
          "exception": false,
          "start_time": "2022-08-10T14:57:57.613987",
          "status": "completed"
        },
        "tags": []
      },
      "outputs": [],
      "source": [
        "ModelFactory = Callable[..., Model]"
      ]
    },
    {
      "cell_type": "markdown",
      "id": "353d8506",
      "metadata": {
        "papermill": {
          "duration": 0.053148,
          "end_time": "2022-08-10T14:57:57.778706",
          "exception": false,
          "start_time": "2022-08-10T14:57:57.725558",
          "status": "completed"
        },
        "tags": []
      },
      "source": [
        "> Note: SAX sometimes needs to figure out the difference between a `ModelFactory` and a normal `Model` *before* running the function. To do this, SAX will check the return annotation of the function. Any function with a `-> Model` or `-> Callable` annotation will be considered a `ModelFactory`. Any function without this annotation will be considered a normal Model: **don't forget the return annotation of your Model Factory!** To ensure a correct annotation and to ensure forward compatibility, it's recommended to decorate your `ModelFactory` with the `modelfactory` decorator."
      ]
    },
    {
      "cell_type": "markdown",
      "id": "e42d3f17",
      "metadata": {
        "papermill": {
          "duration": 0.053299,
          "end_time": "2022-08-10T14:57:57.885036",
          "exception": false,
          "start_time": "2022-08-10T14:57:57.831737",
          "status": "completed"
        },
        "tags": []
      },
      "source": [
        "### GeneralModel"
      ]
    },
    {
      "cell_type": "markdown",
      "id": "0c4356fc",
      "metadata": {
        "papermill": {
          "duration": 0.053887,
          "end_time": "2022-08-10T14:57:57.992715",
          "exception": false,
          "start_time": "2022-08-10T14:57:57.938828",
          "status": "completed"
        },
        "tags": []
      },
      "source": [
        "a `GeneralModel` is either a `Model` or a `LogicalNetlist` (will be defined below):"
      ]
    },
    {
      "cell_type": "code",
      "execution_count": 20,
      "id": "c6562e991fb76a30",
      "metadata": {
        "execution": {
          "iopub.execute_input": "2022-08-10T14:57:58.103094Z",
          "iopub.status.busy": "2022-08-10T14:57:58.102315Z",
          "iopub.status.idle": "2022-08-10T14:57:58.103571Z",
          "shell.execute_reply": "2022-08-10T14:57:58.103877Z"
        },
        "papermill": {
          "duration": 0.058142,
          "end_time": "2022-08-10T14:57:58.103987",
          "exception": false,
          "start_time": "2022-08-10T14:57:58.045845",
          "status": "completed"
        },
        "tags": []
      },
      "outputs": [],
      "source": [
        "GeneralModel = Union[Model, \"LogicalNetlist\"]"
      ]
    },
    {
      "cell_type": "markdown",
      "id": "b32b5a31",
      "metadata": {
        "papermill": {
          "duration": 0.053184,
          "end_time": "2022-08-10T14:57:58.211282",
          "exception": false,
          "start_time": "2022-08-10T14:57:58.158098",
          "status": "completed"
        },
        "tags": []
      },
      "source": [
        "### Models"
      ]
    },
    {
      "cell_type": "markdown",
      "id": "a796dcb2",
      "metadata": {
        "papermill": {
          "duration": 0.053257,
          "end_time": "2022-08-10T14:57:58.317827",
          "exception": false,
          "start_time": "2022-08-10T14:57:58.264570",
          "status": "completed"
        },
        "tags": []
      },
      "source": [
        "`Models` is a mapping between model names [`str`] and `GeneralModel`:"
      ]
    },
    {
      "cell_type": "code",
      "execution_count": 21,
      "id": "55e4257dc059c525",
      "metadata": {
        "execution": {
          "iopub.execute_input": "2022-08-10T14:57:58.427935Z",
          "iopub.status.busy": "2022-08-10T14:57:58.427523Z",
          "iopub.status.idle": "2022-08-10T14:57:58.429041Z",
          "shell.execute_reply": "2022-08-10T14:57:58.428717Z"
        },
        "papermill": {
          "duration": 0.057608,
          "end_time": "2022-08-10T14:57:58.429130",
          "exception": false,
          "start_time": "2022-08-10T14:57:58.371522",
          "status": "completed"
        },
        "tags": []
      },
      "outputs": [],
      "source": [
        "Models = Dict[str, GeneralModel]"
      ]
    },
    {
      "cell_type": "markdown",
      "id": "ed1af61c",
      "metadata": {
        "papermill": {
          "duration": 0.053635,
          "end_time": "2022-08-10T14:57:58.535926",
          "exception": false,
          "start_time": "2022-08-10T14:57:58.482291",
          "status": "completed"
        },
        "tags": []
      },
      "source": [
        "> Note: sometimes 'component' is used to refer to a a `Model` or `GeneralModel`. This is because other tools (such as for example GDSFactory) prefer that terminology."
      ]
    },
    {
      "cell_type": "markdown",
      "id": "5d276f63",
      "metadata": {
        "papermill": {
          "duration": 0.054321,
          "end_time": "2022-08-10T14:57:58.643695",
          "exception": false,
          "start_time": "2022-08-10T14:57:58.589374",
          "status": "completed"
        },
        "tags": []
      },
      "source": [
        "## Netlist Types"
      ]
    },
    {
      "cell_type": "markdown",
      "id": "2c946dc2",
      "metadata": {
        "papermill": {
          "duration": 0.05358,
          "end_time": "2022-08-10T14:57:58.751105",
          "exception": false,
          "start_time": "2022-08-10T14:57:58.697525",
          "status": "completed"
        },
        "tags": []
      },
      "source": [
        "### Instance"
      ]
    },
    {
      "cell_type": "markdown",
      "id": "24694709",
      "metadata": {
        "papermill": {
          "duration": 0.053353,
          "end_time": "2022-08-10T14:57:58.857891",
          "exception": false,
          "start_time": "2022-08-10T14:57:58.804538",
          "status": "completed"
        },
        "tags": []
      },
      "source": [
        "A netlist `Instance` is a mapping with two keys: `\"component\"`, which should map to a key in a `Models` dictionary and `\"settings\"`, which are all the necessary settings to instanciate a component:"
      ]
    },
    {
      "cell_type": "code",
      "execution_count": 22,
      "id": "09a7852b5b4d2ee4",
      "metadata": {
        "execution": {
          "iopub.execute_input": "2022-08-10T14:57:58.968553Z",
          "iopub.status.busy": "2022-08-10T14:57:58.968146Z",
          "iopub.status.idle": "2022-08-10T14:57:58.969284Z",
          "shell.execute_reply": "2022-08-10T14:57:58.969659Z"
        },
        "papermill": {
          "duration": 0.058087,
          "end_time": "2022-08-10T14:57:58.969769",
          "exception": false,
          "start_time": "2022-08-10T14:57:58.911682",
          "status": "completed"
        },
        "tags": []
      },
      "outputs": [],
      "source": [
        "Instance = TypedDict(\n",
        "    \"Instance\",\n",
        "    {\n",
        "        \"component\": str,\n",
        "        \"settings\": Settings,\n",
        "    },\n",
        ")"
      ]
    },
    {
      "cell_type": "markdown",
      "id": "ff82e535",
      "metadata": {
        "papermill": {
          "duration": 0.053567,
          "end_time": "2022-08-10T14:57:59.076765",
          "exception": false,
          "start_time": "2022-08-10T14:57:59.023198",
          "status": "completed"
        },
        "tags": []
      },
      "source": [
        "> Note: in SAX, a better name for `\"component\"` in the instance definition would probably be `\"model\"` or `\"model_name\"`. However we chose `\"component\"` here to have a 1-to-1 map between SAX netlists and GDSFactory netlists."
      ]
    },
    {
      "cell_type": "markdown",
      "id": "365559c3",
      "metadata": {
        "papermill": {
          "duration": 0.053567,
          "end_time": "2022-08-10T14:57:59.184146",
          "exception": false,
          "start_time": "2022-08-10T14:57:59.130579",
          "status": "completed"
        },
        "tags": []
      },
      "source": [
        "### GeneralInstance"
      ]
    },
    {
      "cell_type": "markdown",
      "id": "5249fc0f",
      "metadata": {
        "papermill": {
          "duration": 0.053188,
          "end_time": "2022-08-10T14:57:59.291542",
          "exception": false,
          "start_time": "2022-08-10T14:57:59.238354",
          "status": "completed"
        },
        "tags": []
      },
      "source": [
        "A general instance can be any of the following (`LogicalNetlist` and `Netlist` will be defined below):"
      ]
    },
    {
      "cell_type": "code",
      "execution_count": 23,
      "id": "4e4060ecb5055d7e",
      "metadata": {
        "execution": {
          "iopub.execute_input": "2022-08-10T14:57:59.402709Z",
          "iopub.status.busy": "2022-08-10T14:57:59.402016Z",
          "iopub.status.idle": "2022-08-10T14:57:59.403266Z",
          "shell.execute_reply": "2022-08-10T14:57:59.403582Z"
        },
        "papermill": {
          "duration": 0.05846,
          "end_time": "2022-08-10T14:57:59.403691",
          "exception": false,
          "start_time": "2022-08-10T14:57:59.345231",
          "status": "completed"
        },
        "tags": []
      },
      "outputs": [],
      "source": [
        "GeneralInstance = Union[str, Instance, \"LogicalNetlist\", \"Netlist\"]"
      ]
    },
    {
      "cell_type": "markdown",
      "id": "04a5992a",
      "metadata": {
        "papermill": {
          "duration": 0.053481,
          "end_time": "2022-08-10T14:57:59.510986",
          "exception": false,
          "start_time": "2022-08-10T14:57:59.457505",
          "status": "completed"
        },
        "tags": []
      },
      "source": [
        "> For example, this is allowed:"
      ]
    },
    {
      "cell_type": "code",
      "execution_count": 24,
      "id": "6ef6d5ee",
      "metadata": {
        "execution": {
          "iopub.execute_input": "2022-08-10T14:57:59.621983Z",
          "iopub.status.busy": "2022-08-10T14:57:59.621567Z",
          "iopub.status.idle": "2022-08-10T14:57:59.623125Z",
          "shell.execute_reply": "2022-08-10T14:57:59.622784Z"
        },
        "papermill": {
          "duration": 0.05857,
          "end_time": "2022-08-10T14:57:59.623213",
          "exception": false,
          "start_time": "2022-08-10T14:57:59.564643",
          "status": "completed"
        },
        "tags": []
      },
      "outputs": [],
      "source": [
        "inst: GeneralInstance = \"my_component_model\"\n",
        "inst: GeneralInstance = {\n",
        "    \"component\": \"my_component_model\",\n",
        "    \"settings\": {},\n",
        "}"
      ]
    },
    {
      "cell_type": "markdown",
      "id": "8af40281",
      "metadata": {
        "papermill": {
          "duration": 0.05377,
          "end_time": "2022-08-10T14:57:59.730860",
          "exception": false,
          "start_time": "2022-08-10T14:57:59.677090",
          "status": "completed"
        },
        "tags": []
      },
      "source": [
        "> ... and this is not (will be flagged by a static type checker like pyright or mypy):"
      ]
    },
    {
      "cell_type": "code",
      "execution_count": 25,
      "id": "c13fc4d7",
      "metadata": {
        "execution": {
          "iopub.execute_input": "2022-08-10T14:57:59.842375Z",
          "iopub.status.busy": "2022-08-10T14:57:59.841961Z",
          "iopub.status.idle": "2022-08-10T14:57:59.843500Z",
          "shell.execute_reply": "2022-08-10T14:57:59.843170Z"
        },
        "papermill": {
          "duration": 0.058733,
          "end_time": "2022-08-10T14:57:59.843592",
          "exception": false,
          "start_time": "2022-08-10T14:57:59.784859",
          "status": "completed"
        },
        "tags": []
      },
      "outputs": [],
      "source": [
        "inst: GeneralInstance = {\n",
        "    \"component\": \"my_component_model\",\n",
        "    \"settings\": {},\n",
        "    \"extra_arg\": \"invalid\",\n",
        "}"
      ]
    },
    {
      "cell_type": "markdown",
      "id": "cf9fd876",
      "metadata": {
        "papermill": {
          "duration": 0.053281,
          "end_time": "2022-08-10T14:57:59.950417",
          "exception": false,
          "start_time": "2022-08-10T14:57:59.897136",
          "status": "completed"
        },
        "tags": []
      },
      "source": [
        "### Instances"
      ]
    },
    {
      "cell_type": "markdown",
      "id": "a9aad796",
      "metadata": {
        "papermill": {
          "duration": 0.054144,
          "end_time": "2022-08-10T14:58:00.058013",
          "exception": false,
          "start_time": "2022-08-10T14:58:00.003869",
          "status": "completed"
        },
        "tags": []
      },
      "source": [
        "`Instances` is a mapping from instance names [`str`] to a `GeneralInstance`:"
      ]
    },
    {
      "cell_type": "code",
      "execution_count": 26,
      "id": "d62bdbff284efcfa",
      "metadata": {
        "execution": {
          "iopub.execute_input": "2022-08-10T14:58:00.169977Z",
          "iopub.status.busy": "2022-08-10T14:58:00.169559Z",
          "iopub.status.idle": "2022-08-10T14:58:00.171028Z",
          "shell.execute_reply": "2022-08-10T14:58:00.171331Z"
        },
        "papermill": {
          "duration": 0.059256,
          "end_time": "2022-08-10T14:58:00.171442",
          "exception": false,
          "start_time": "2022-08-10T14:58:00.112186",
          "status": "completed"
        },
        "tags": []
      },
      "outputs": [],
      "source": [
        "Instances = Union[Dict[str, str], Dict[str, GeneralInstance]]"
      ]
    },
    {
      "cell_type": "markdown",
      "id": "0f292b1f",
      "metadata": {
        "papermill": {
          "duration": 0.05368,
          "end_time": "2022-08-10T14:58:00.279521",
          "exception": false,
          "start_time": "2022-08-10T14:58:00.225841",
          "status": "completed"
        },
        "tags": []
      },
      "source": [
        "### Netlist"
      ]
    },
    {
      "cell_type": "markdown",
      "id": "7b85ab37",
      "metadata": {
        "papermill": {
          "duration": 0.05352,
          "end_time": "2022-08-10T14:58:00.387337",
          "exception": false,
          "start_time": "2022-08-10T14:58:00.333817",
          "status": "completed"
        },
        "tags": []
      },
      "source": [
        "a `Netlist` is a collection of `\"instances\"`, `\"connections\"` and `\"ports\"`:"
      ]
    },
    {
      "cell_type": "code",
      "execution_count": 27,
      "id": "84096610d4f0d047",
      "metadata": {
        "execution": {
          "iopub.execute_input": "2022-08-10T14:58:00.498543Z",
          "iopub.status.busy": "2022-08-10T14:58:00.498128Z",
          "iopub.status.idle": "2022-08-10T14:58:00.499681Z",
          "shell.execute_reply": "2022-08-10T14:58:00.499343Z"
        },
        "papermill": {
          "duration": 0.058963,
          "end_time": "2022-08-10T14:58:00.499768",
          "exception": false,
          "start_time": "2022-08-10T14:58:00.440805",
          "status": "completed"
        },
        "tags": []
      },
      "outputs": [],
      "source": [
        "\n",
        "Netlist = TypedDict(\n",
        "    \"Netlist\",\n",
        "    {\n",
        "        \"instances\": Instances,\n",
        "        \"connections\": Dict[str, str],\n",
        "        \"ports\": Dict[str, str],\n",
        "    },\n",
        ")"
      ]
    },
    {
      "cell_type": "markdown",
      "id": "d12f61a8",
      "metadata": {
        "papermill": {
          "duration": 0.054211,
          "end_time": "2022-08-10T14:58:00.607993",
          "exception": false,
          "start_time": "2022-08-10T14:58:00.553782",
          "status": "completed"
        },
        "tags": []
      },
      "source": [
        "> Example:"
      ]
    },
    {
      "cell_type": "code",
      "execution_count": 28,
      "id": "877d1151",
      "metadata": {
        "execution": {
          "iopub.execute_input": "2022-08-10T14:58:00.722727Z",
          "iopub.status.busy": "2022-08-10T14:58:00.722281Z",
          "iopub.status.idle": "2022-08-10T14:58:00.723834Z",
          "shell.execute_reply": "2022-08-10T14:58:00.723506Z"
        },
        "papermill": {
          "duration": 0.061395,
          "end_time": "2022-08-10T14:58:00.723928",
          "exception": false,
          "start_time": "2022-08-10T14:58:00.662533",
          "status": "completed"
        },
        "tags": []
      },
      "outputs": [],
      "source": [
        "mzi_netlist: Netlist = {\n",
        "    \"instances\": {\n",
        "    \"lft\": \"mmi1x2\",  # shorthand if no settings need to be given\n",
        "        \"top\": {  # full instance definition\n",
        "            \"component\": \"waveguide\",\n",
        "            \"settings\": {\n",
        "                \"length\": 100.0,\n",
        "            },\n",
        "        },\n",
        "        \"rgt\": \"mmi2x2\",  # shorthand if no settings need to be given\n",
        "    },\n",
        "    \"connections\": {\n",
        "        \"lft,out0\": \"top,in0\",\n",
        "        \"top,out0\": \"rgt,in0\",\n",
        "        \"top,out1\": \"rgt,in1\",\n",
        "    },\n",
        "    \"ports\": {\n",
        "        \"in0\": \"lft,in0\",\n",
        "        \"out0\": \"rgt,out0\",\n",
        "        \"out1\": \"rgt,out1\",\n",
        "    },\n",
        "}"
      ]
    },
    {
      "cell_type": "markdown",
      "id": "613b0f22",
      "metadata": {
        "papermill": {
          "duration": 0.054056,
          "end_time": "2022-08-10T14:58:00.831981",
          "exception": false,
          "start_time": "2022-08-10T14:58:00.777925",
          "status": "completed"
        },
        "tags": []
      },
      "source": [
        "### LogicalNetlist"
      ]
    },
    {
      "cell_type": "markdown",
      "id": "f8cb7e75",
      "metadata": {
        "papermill": {
          "duration": 0.053943,
          "end_time": "2022-08-10T14:58:00.939933",
          "exception": false,
          "start_time": "2022-08-10T14:58:00.885990",
          "status": "completed"
        },
        "tags": []
      },
      "source": [
        "a `LogicalNetlist` is a subset of the more general `Netlist`.  It only contains the logical connections and instance names. Not the actual instances. This data structure is mostly used for internal use only."
      ]
    },
    {
      "cell_type": "code",
      "execution_count": 29,
      "id": "de647d6d9e7f8796",
      "metadata": {
        "execution": {
          "iopub.execute_input": "2022-08-10T14:58:01.052530Z",
          "iopub.status.busy": "2022-08-10T14:58:01.052111Z",
          "iopub.status.idle": "2022-08-10T14:58:01.053861Z",
          "shell.execute_reply": "2022-08-10T14:58:01.053538Z"
        },
        "papermill": {
          "duration": 0.059437,
          "end_time": "2022-08-10T14:58:01.053953",
          "exception": false,
          "start_time": "2022-08-10T14:58:00.994516",
          "status": "completed"
        },
        "tags": []
      },
      "outputs": [],
      "source": [
        "\n",
        "LogicalNetlist = TypedDict(\n",
        "    \"LogicalNetlist\",\n",
        "    {\n",
        "        \"instances\": Dict[str, str],\n",
        "        \"connections\": Dict[str, str],\n",
        "        \"ports\": Dict[str, str],\n",
        "    },\n",
        ")"
      ]
    },
    {
      "cell_type": "markdown",
      "id": "3468d6a1",
      "metadata": {
        "papermill": {
          "duration": 0.054093,
          "end_time": "2022-08-10T14:58:01.162356",
          "exception": false,
          "start_time": "2022-08-10T14:58:01.108263",
          "status": "completed"
        },
        "tags": []
      },
      "source": [
        "> Example:"
      ]
    },
    {
      "cell_type": "code",
      "execution_count": 30,
      "id": "ab67ad41",
      "metadata": {
        "execution": {
          "iopub.execute_input": "2022-08-10T14:58:01.275090Z",
          "iopub.status.busy": "2022-08-10T14:58:01.274645Z",
          "iopub.status.idle": "2022-08-10T14:58:01.275658Z",
          "shell.execute_reply": "2022-08-10T14:58:01.276013Z"
        },
        "papermill": {
          "duration": 0.059772,
          "end_time": "2022-08-10T14:58:01.276118",
          "exception": false,
          "start_time": "2022-08-10T14:58:01.216346",
          "status": "completed"
        },
        "tags": []
      },
      "outputs": [],
      "source": [
        "mzi_logical_netlist: Netlist = {\n",
        "    \"instances\": {\n",
        "        \"lft\": \"mmi1x2\",\n",
        "        \"top\": \"waveguide\",\n",
        "        \"rgt\": \"mmi2x2\",\n",
        "    },\n",
        "    \"connections\": {\n",
        "        \"lft,out0\": \"top,in0\",\n",
        "        \"top,out0\": \"rgt,in0\",\n",
        "        \"top,out1\": \"rgt,in1\",\n",
        "    },\n",
        "    \"ports\": {\n",
        "        \"in0\": \"lft,in0\",\n",
        "        \"out0\": \"rgt,out0\",\n",
        "        \"out1\": \"rgt,out1\",\n",
        "    },\n",
        "}"
      ]
    },
    {
      "cell_type": "markdown",
      "id": "dbcb4447",
      "metadata": {
        "papermill": {
          "duration": 0.054474,
          "end_time": "2022-08-10T14:58:01.385415",
          "exception": false,
          "start_time": "2022-08-10T14:58:01.330941",
          "status": "completed"
        },
        "tags": []
      },
      "source": [
        "## Validation and runtime type-checking:"
      ]
    },
    {
      "cell_type": "markdown",
      "id": "6e4c44aa",
      "metadata": {
        "papermill": {
          "duration": 0.053924,
          "end_time": "2022-08-10T14:58:01.494246",
          "exception": false,
          "start_time": "2022-08-10T14:58:01.440322",
          "status": "completed"
        },
        "tags": []
      },
      "source": [
        "> Note: the type-checking functions below are **NOT** very tight and hence should be used within the right context!"
      ]
    },
    {
      "cell_type": "markdown",
      "id": "1059103dbee4bd0e",
      "metadata": {},
      "source": [
        ":::{eval-rst}\n",
        ".. autofunction:: sax.typing_.is_float\n",
        ":::\n"
      ]
    },
    {
      "cell_type": "code",
      "execution_count": 31,
      "id": "62c7a2e1c10eaa9e",
      "metadata": {
        "execution": {
          "iopub.execute_input": "2022-08-10T14:58:01.607080Z",
          "iopub.status.busy": "2022-08-10T14:58:01.606670Z",
          "iopub.status.idle": "2022-08-10T14:58:01.607850Z",
          "shell.execute_reply": "2022-08-10T14:58:01.608146Z"
        },
        "papermill": {
          "duration": 0.060142,
          "end_time": "2022-08-10T14:58:01.608264",
          "exception": false,
          "start_time": "2022-08-10T14:58:01.548122",
          "status": "completed"
        },
        "tags": [
          "hide-input"
        ]
      },
      "outputs": [],
      "source": [
        "def is_float(x: Any) -> bool:\n",
        "    \"\"\"Check if an object is a `Float`\"\"\"\n",
        "    if isinstance(x, float):\n",
        "        return True\n",
        "    if isinstance(x, np.ndarray):\n",
        "        return x.dtype in (np.float16, np.float32, np.float64, np.float128)\n",
        "    if isinstance(x, jnp.ndarray):\n",
        "        return x.dtype in (jnp.float16, jnp.float32, jnp.float64)\n",
        "    return False"
      ]
    },
    {
      "cell_type": "code",
      "execution_count": 32,
      "id": "28374448",
      "metadata": {
        "execution": {
          "iopub.execute_input": "2022-08-10T14:58:01.718951Z",
          "iopub.status.busy": "2022-08-10T14:58:01.718514Z",
          "iopub.status.idle": "2022-08-10T14:58:01.724148Z",
          "shell.execute_reply": "2022-08-10T14:58:01.724455Z"
        },
        "papermill": {
          "duration": 0.062111,
          "end_time": "2022-08-10T14:58:01.724566",
          "exception": false,
          "start_time": "2022-08-10T14:58:01.662455",
          "status": "completed"
        },
        "tags": []
      },
      "outputs": [],
      "source": [
        "assert is_float(3.0)\n",
        "assert not is_float(3)\n",
        "assert not is_float(3.0 + 2j)\n",
        "assert not is_float(jnp.array(3.0, dtype=complex))\n",
        "assert not is_float(jnp.array(3, dtype=int))"
      ]
    },
    {
      "cell_type": "markdown",
      "id": "2eb0b73904a4420a",
      "metadata": {},
      "source": [
        ":::{eval-rst}\n",
        ".. autofunction:: sax.typing_.is_complex\n",
        ":::\n"
      ]
    },
    {
      "cell_type": "code",
      "execution_count": 33,
      "id": "d2e78d30127dc947",
      "metadata": {
        "execution": {
          "iopub.execute_input": "2022-08-10T14:58:01.838535Z",
          "iopub.status.busy": "2022-08-10T14:58:01.838114Z",
          "iopub.status.idle": "2022-08-10T14:58:01.839623Z",
          "shell.execute_reply": "2022-08-10T14:58:01.839222Z"
        },
        "papermill": {
          "duration": 0.06072,
          "end_time": "2022-08-10T14:58:01.839716",
          "exception": false,
          "start_time": "2022-08-10T14:58:01.778996",
          "status": "completed"
        },
        "tags": [
          "hide-input"
        ]
      },
      "outputs": [],
      "source": [
        "def is_complex(x: Any) -> bool:\n",
        "    \"\"\"check if an object is a `ComplexFloat`\"\"\"\n",
        "    if isinstance(x, complex):\n",
        "        return True\n",
        "    if isinstance(x, np.ndarray):\n",
        "        return x.dtype in (np.complex64, np.complex128)\n",
        "    if isinstance(x, jnp.ndarray):\n",
        "        return x.dtype in (jnp.complex64, jnp.complex128)\n",
        "    return False"
      ]
    },
    {
      "cell_type": "code",
      "execution_count": 34,
      "id": "d81a703d",
      "metadata": {
        "execution": {
          "iopub.execute_input": "2022-08-10T14:58:01.952980Z",
          "iopub.status.busy": "2022-08-10T14:58:01.952562Z",
          "iopub.status.idle": "2022-08-10T14:58:01.953566Z",
          "shell.execute_reply": "2022-08-10T14:58:01.953926Z"
        },
        "papermill": {
          "duration": 0.059722,
          "end_time": "2022-08-10T14:58:01.954038",
          "exception": false,
          "start_time": "2022-08-10T14:58:01.894316",
          "status": "completed"
        },
        "tags": []
      },
      "outputs": [],
      "source": [
        "assert not is_complex(3.0)\n",
        "assert not is_complex(3)\n",
        "assert is_complex(3.0 + 2j)\n",
        "assert is_complex(jnp.array(3.0, dtype=complex))\n",
        "assert not is_complex(jnp.array(3, dtype=int))"
      ]
    },
    {
      "cell_type": "markdown",
      "id": "8eed9edd80b432fd",
      "metadata": {},
      "source": [
        ":::{eval-rst}\n",
        ".. autofunction:: sax.typing_.is_complex_float\n",
        ":::\n"
      ]
    },
    {
      "cell_type": "code",
      "execution_count": 35,
      "id": "73292a12311dd5a5",
      "metadata": {
        "execution": {
          "iopub.execute_input": "2022-08-10T14:58:02.066274Z",
          "iopub.status.busy": "2022-08-10T14:58:02.065857Z",
          "iopub.status.idle": "2022-08-10T14:58:02.067085Z",
          "shell.execute_reply": "2022-08-10T14:58:02.067406Z"
        },
        "papermill": {
          "duration": 0.059232,
          "end_time": "2022-08-10T14:58:02.067513",
          "exception": false,
          "start_time": "2022-08-10T14:58:02.008281",
          "status": "completed"
        },
        "tags": [
          "hide-input"
        ]
      },
      "outputs": [],
      "source": [
        "def is_complex_float(x: Any) -> bool:\n",
        "    \"\"\"check if an object is either a `ComplexFloat` or a `Float`\"\"\"\n",
        "    return is_float(x) or is_complex(x)"
      ]
    },
    {
      "cell_type": "code",
      "execution_count": 36,
      "id": "c533ff0d",
      "metadata": {
        "execution": {
          "iopub.execute_input": "2022-08-10T14:58:02.181371Z",
          "iopub.status.busy": "2022-08-10T14:58:02.180961Z",
          "iopub.status.idle": "2022-08-10T14:58:02.182487Z",
          "shell.execute_reply": "2022-08-10T14:58:02.182143Z"
        },
        "papermill": {
          "duration": 0.060225,
          "end_time": "2022-08-10T14:58:02.182573",
          "exception": false,
          "start_time": "2022-08-10T14:58:02.122348",
          "status": "completed"
        },
        "tags": []
      },
      "outputs": [],
      "source": [
        "assert is_complex_float(3.0)\n",
        "assert not is_complex_float(3)\n",
        "assert is_complex_float(3.0 + 2j)\n",
        "assert is_complex_float(jnp.array(3.0, dtype=complex))\n",
        "assert not is_complex_float(jnp.array(3, dtype=int))"
      ]
    },
    {
      "cell_type": "markdown",
      "id": "0bf7eaf1faa6f155",
      "metadata": {},
      "source": [
        ":::{eval-rst}\n",
        ".. autofunction:: sax.typing_.is_sdict\n",
        ":::\n"
      ]
    },
    {
      "cell_type": "code",
      "execution_count": 37,
      "id": "ce78dc5b70a183c3",
      "metadata": {
        "execution": {
          "iopub.execute_input": "2022-08-10T14:58:02.296392Z",
          "iopub.status.busy": "2022-08-10T14:58:02.295979Z",
          "iopub.status.idle": "2022-08-10T14:58:02.297498Z",
          "shell.execute_reply": "2022-08-10T14:58:02.297177Z"
        },
        "papermill": {
          "duration": 0.059924,
          "end_time": "2022-08-10T14:58:02.297588",
          "exception": false,
          "start_time": "2022-08-10T14:58:02.237664",
          "status": "completed"
        },
        "tags": [
          "hide-input"
        ]
      },
      "outputs": [],
      "source": [
        "def is_sdict(x: Any) -> bool:\n",
        "    \"\"\"check if an object is an `SDict` (a SAX S-dictionary)\"\"\"\n",
        "    return isinstance(x, dict)"
      ]
    },
    {
      "cell_type": "code",
      "execution_count": 38,
      "id": "cb0365dc",
      "metadata": {
        "execution": {
          "iopub.execute_input": "2022-08-10T14:58:02.411463Z",
          "iopub.status.busy": "2022-08-10T14:58:02.411050Z",
          "iopub.status.idle": "2022-08-10T14:58:02.412037Z",
          "shell.execute_reply": "2022-08-10T14:58:02.412399Z"
        },
        "papermill": {
          "duration": 0.059861,
          "end_time": "2022-08-10T14:58:02.412505",
          "exception": false,
          "start_time": "2022-08-10T14:58:02.352644",
          "status": "completed"
        },
        "tags": []
      },
      "outputs": [],
      "source": [
        "assert not is_sdict(object())\n",
        "assert is_sdict(_sdict)\n",
        "assert not is_sdict(_scoo)\n",
        "assert not is_sdict(_sdense)"
      ]
    },
    {
      "cell_type": "markdown",
      "id": "7263216f1efa8d50",
      "metadata": {},
      "source": [
        ":::{eval-rst}\n",
        ".. autofunction:: sax.typing_.is_scoo\n",
        ":::\n"
      ]
    },
    {
      "cell_type": "code",
      "execution_count": 39,
      "id": "22c579a408142f00",
      "metadata": {
        "execution": {
          "iopub.execute_input": "2022-08-10T14:58:02.526329Z",
          "iopub.status.busy": "2022-08-10T14:58:02.525908Z",
          "iopub.status.idle": "2022-08-10T14:58:02.527435Z",
          "shell.execute_reply": "2022-08-10T14:58:02.527099Z"
        },
        "papermill": {
          "duration": 0.0603,
          "end_time": "2022-08-10T14:58:02.527523",
          "exception": false,
          "start_time": "2022-08-10T14:58:02.467223",
          "status": "completed"
        },
        "tags": [
          "hide-input"
        ]
      },
      "outputs": [],
      "source": [
        "def is_scoo(x: Any) -> bool:\n",
        "    \"\"\"check if an object is an `SCoo` (a SAX sparse S-matrix representation in COO-format)\"\"\"\n",
        "    return isinstance(x, (tuple, list)) and len(x) == 4"
      ]
    },
    {
      "cell_type": "code",
      "execution_count": 40,
      "id": "9ea0239a",
      "metadata": {
        "execution": {
          "iopub.execute_input": "2022-08-10T14:58:02.640986Z",
          "iopub.status.busy": "2022-08-10T14:58:02.640384Z",
          "iopub.status.idle": "2022-08-10T14:58:02.641597Z",
          "shell.execute_reply": "2022-08-10T14:58:02.641933Z"
        },
        "papermill": {
          "duration": 0.059905,
          "end_time": "2022-08-10T14:58:02.642041",
          "exception": false,
          "start_time": "2022-08-10T14:58:02.582136",
          "status": "completed"
        },
        "tags": []
      },
      "outputs": [],
      "source": [
        "assert not is_scoo(object)\n",
        "assert not is_scoo(_sdict)\n",
        "assert is_scoo(_scoo)\n",
        "assert not is_scoo(_sdense)"
      ]
    },
    {
      "cell_type": "markdown",
      "id": "b4812c74af472694",
      "metadata": {},
      "source": [
        ":::{eval-rst}\n",
        ".. autofunction:: sax.typing_.is_sdense\n",
        ":::\n"
      ]
    },
    {
      "cell_type": "code",
      "execution_count": 41,
      "id": "6d6dc84c69c070de",
      "metadata": {
        "execution": {
          "iopub.execute_input": "2022-08-10T14:58:02.755667Z",
          "iopub.status.busy": "2022-08-10T14:58:02.755256Z",
          "iopub.status.idle": "2022-08-10T14:58:02.756822Z",
          "shell.execute_reply": "2022-08-10T14:58:02.756495Z"
        },
        "papermill": {
          "duration": 0.059754,
          "end_time": "2022-08-10T14:58:02.756912",
          "exception": false,
          "start_time": "2022-08-10T14:58:02.697158",
          "status": "completed"
        },
        "tags": [
          "hide-input"
        ]
      },
      "outputs": [],
      "source": [
        "def is_sdense(x: Any) -> bool:\n",
        "    \"\"\"check if an object is an `SDense` (a SAX dense S-matrix representation)\"\"\"\n",
        "    return isinstance(x, (tuple, list)) and len(x) == 2"
      ]
    },
    {
      "cell_type": "code",
      "execution_count": 42,
      "id": "2eddd63a",
      "metadata": {
        "execution": {
          "iopub.execute_input": "2022-08-10T14:58:02.871535Z",
          "iopub.status.busy": "2022-08-10T14:58:02.871116Z",
          "iopub.status.idle": "2022-08-10T14:58:02.872353Z",
          "shell.execute_reply": "2022-08-10T14:58:02.872652Z"
        },
        "papermill": {
          "duration": 0.060718,
          "end_time": "2022-08-10T14:58:02.872768",
          "exception": false,
          "start_time": "2022-08-10T14:58:02.812050",
          "status": "completed"
        },
        "tags": []
      },
      "outputs": [],
      "source": [
        "assert not is_sdense(object)\n",
        "assert not is_sdense(_sdict)\n",
        "assert not is_sdense(_scoo)\n",
        "assert is_sdense(_sdense)"
      ]
    },
    {
      "cell_type": "markdown",
      "id": "001494593b17ed41",
      "metadata": {},
      "source": [
        ":::{eval-rst}\n",
        ".. autofunction:: sax.typing_.is_model\n",
        ":::\n"
      ]
    },
    {
      "cell_type": "code",
      "execution_count": 43,
      "id": "376ace9f1faa9af9",
      "metadata": {
        "execution": {
          "iopub.execute_input": "2022-08-10T14:58:02.990039Z",
          "iopub.status.busy": "2022-08-10T14:58:02.987223Z",
          "iopub.status.idle": "2022-08-10T14:58:02.991621Z",
          "shell.execute_reply": "2022-08-10T14:58:02.991282Z"
        },
        "papermill": {
          "duration": 0.063244,
          "end_time": "2022-08-10T14:58:02.991717",
          "exception": false,
          "start_time": "2022-08-10T14:58:02.928473",
          "status": "completed"
        },
        "tags": [
          "hide-input"
        ]
      },
      "outputs": [],
      "source": [
        "def is_model(model: Any) -> bool:\n",
        "    \"\"\"check if a callable is a `Model` (a callable returning an `SType`)\"\"\"\n",
        "    if not callable(model):\n",
        "        return False\n",
        "    try:\n",
        "        sig = inspect.signature(model)\n",
        "    except ValueError:\n",
        "        return False\n",
        "    for param in sig.parameters.values():\n",
        "        if param.default is inspect.Parameter.empty:\n",
        "            return False  # a proper SAX model does not have any positional arguments.\n",
        "    if _is_callable_annotation(sig.return_annotation):  # model factory\n",
        "        return False\n",
        "    return True\n",
        "\n",
        "def _is_callable_annotation(annotation: Any) -> bool:\n",
        "    \"\"\"check if an annotation is `Callable`-like\"\"\"\n",
        "    if isinstance(annotation, str):\n",
        "        # happens when\n",
        "        # from __future__ import annotations\n",
        "        # was imported at the top of the file...\n",
        "        return annotation.startswith(\"Callable\") or annotation.endswith(\"Model\")\n",
        "        # TODO: this is not a very robust check...\n",
        "    try:\n",
        "        return annotation.__origin__ == CallableABC\n",
        "    except AttributeError:\n",
        "        return False"
      ]
    },
    {
      "cell_type": "code",
      "execution_count": 44,
      "id": "b792b962a98ad47c",
      "metadata": {
        "execution": {
          "iopub.execute_input": "2022-08-10T14:58:03.105838Z",
          "iopub.status.busy": "2022-08-10T14:58:03.105429Z",
          "iopub.status.idle": "2022-08-10T14:58:03.106985Z",
          "shell.execute_reply": "2022-08-10T14:58:03.106629Z"
        },
        "papermill": {
          "duration": 0.06047,
          "end_time": "2022-08-10T14:58:03.107072",
          "exception": false,
          "start_time": "2022-08-10T14:58:03.046602",
          "status": "completed"
        },
        "tags": [
          "remove-cell"
        ]
      },
      "outputs": [],
      "source": [
        "assert _is_callable_annotation(Callable)\n",
        "assert not _is_callable_annotation(SDict)"
      ]
    },
    {
      "cell_type": "code",
      "execution_count": 45,
      "id": "89bdb647",
      "metadata": {
        "execution": {
          "iopub.execute_input": "2022-08-10T14:58:03.220094Z",
          "iopub.status.busy": "2022-08-10T14:58:03.219684Z",
          "iopub.status.idle": "2022-08-10T14:58:03.236129Z",
          "shell.execute_reply": "2022-08-10T14:58:03.235795Z"
        },
        "papermill": {
          "duration": 0.073916,
          "end_time": "2022-08-10T14:58:03.236220",
          "exception": false,
          "start_time": "2022-08-10T14:58:03.162304",
          "status": "completed"
        },
        "tags": []
      },
      "outputs": [],
      "source": [
        "def good_model(x=jnp.array(3.0), y=jnp.array(4.0)) -> SDict:\n",
        "    return {(\"in0\", \"out0\"): jnp.array(3.0)}\n",
        "assert is_model(good_model)\n",
        "\n",
        "def bad_model(positional_argument, x=jnp.array(3.0), y=jnp.array(4.0)) -> SDict:\n",
        "    return {(\"in0\", \"out0\"): jnp.array(3.0)}\n",
        "assert not is_model(bad_model)"
      ]
    },
    {
      "cell_type": "markdown",
      "id": "1a4fef100d97d31d",
      "metadata": {},
      "source": [
        ":::{eval-rst}\n",
        ".. autofunction:: sax.typing_.is_model_factory\n",
        ":::\n"
      ]
    },
    {
      "cell_type": "code",
      "execution_count": 46,
      "id": "e50ddc2c95e71cd3",
      "metadata": {
        "execution": {
          "iopub.execute_input": "2022-08-10T14:58:03.351221Z",
          "iopub.status.busy": "2022-08-10T14:58:03.350801Z",
          "iopub.status.idle": "2022-08-10T14:58:03.352556Z",
          "shell.execute_reply": "2022-08-10T14:58:03.352239Z"
        },
        "papermill": {
          "duration": 0.060806,
          "end_time": "2022-08-10T14:58:03.352662",
          "exception": false,
          "start_time": "2022-08-10T14:58:03.291856",
          "status": "completed"
        },
        "tags": [
          "hide-input"
        ]
      },
      "outputs": [],
      "source": [
        "def is_model_factory(model: Any) -> bool:\n",
        "    \"\"\"check if a callable is a model function.\"\"\"\n",
        "    if not callable(model):\n",
        "        return False\n",
        "    sig = inspect.signature(model)\n",
        "    if _is_callable_annotation(sig.return_annotation):  # model factory\n",
        "        return True\n",
        "    return False"
      ]
    },
    {
      "cell_type": "markdown",
      "id": "1f9715ed",
      "metadata": {
        "papermill": {
          "duration": 0.055888,
          "end_time": "2022-08-10T14:58:03.464422",
          "exception": false,
          "start_time": "2022-08-10T14:58:03.408534",
          "status": "completed"
        },
        "tags": []
      },
      "source": [
        "> Note: For a `Callable` to be considered a `ModelFactory` in SAX, it **MUST** have a `Callable` or `Model` return annotation. Otherwise SAX will view it as a `Model` and things might break!"
      ]
    },
    {
      "cell_type": "code",
      "execution_count": 47,
      "id": "fe9cdff0",
      "metadata": {
        "execution": {
          "iopub.execute_input": "2022-08-10T14:58:03.579222Z",
          "iopub.status.busy": "2022-08-10T14:58:03.578792Z",
          "iopub.status.idle": "2022-08-10T14:58:03.579738Z",
          "shell.execute_reply": "2022-08-10T14:58:03.580109Z"
        },
        "papermill": {
          "duration": 0.060288,
          "end_time": "2022-08-10T14:58:03.580221",
          "exception": false,
          "start_time": "2022-08-10T14:58:03.519933",
          "status": "completed"
        },
        "tags": []
      },
      "outputs": [],
      "source": [
        "def func() -> Model:\n",
        "    ...\n",
        "    \n",
        "assert is_model_factory(func) # yes, we only check the annotation for now...\n",
        "\n",
        "def func():\n",
        "    ...\n",
        "    \n",
        "assert not is_model_factory(func) # yes, we only check the annotation for now..."
      ]
    },
    {
      "cell_type": "markdown",
      "id": "0ec74472b705556e",
      "metadata": {},
      "source": [
        ":::{eval-rst}\n",
        ".. autofunction:: sax.typing_.validate_model\n",
        ":::\n"
      ]
    },
    {
      "cell_type": "code",
      "execution_count": 48,
      "id": "7f183b82c954357e",
      "metadata": {
        "execution": {
          "iopub.execute_input": "2022-08-10T14:58:03.695594Z",
          "iopub.status.busy": "2022-08-10T14:58:03.695178Z",
          "iopub.status.idle": "2022-08-10T14:58:03.696748Z",
          "shell.execute_reply": "2022-08-10T14:58:03.696405Z"
        },
        "papermill": {
          "duration": 0.061344,
          "end_time": "2022-08-10T14:58:03.696836",
          "exception": false,
          "start_time": "2022-08-10T14:58:03.635492",
          "status": "completed"
        },
        "tags": [
          "hide-input"
        ]
      },
      "outputs": [],
      "source": [
        "def validate_model(model: Callable):\n",
        "    \"\"\"Validate the parameters of a model\"\"\"\n",
        "    positional_arguments = []\n",
        "    for param in inspect.signature(model).parameters.values():\n",
        "        if param.default is inspect.Parameter.empty:\n",
        "            positional_arguments.append(param.name)\n",
        "    if positional_arguments:\n",
        "        raise ValueError(\n",
        "            f\"model '{model}' takes positional arguments {', '.join(positional_arguments)} \"\n",
        "            \"and hence is not a valid SAX Model! A SAX model should ONLY take keyword arguments (or no arguments at all).\"\n",
        "        )"
      ]
    },
    {
      "cell_type": "code",
      "execution_count": 49,
      "id": "754399d5",
      "metadata": {
        "execution": {
          "iopub.execute_input": "2022-08-10T14:58:03.813792Z",
          "iopub.status.busy": "2022-08-10T14:58:03.813366Z",
          "iopub.status.idle": "2022-08-10T14:58:03.815443Z",
          "shell.execute_reply": "2022-08-10T14:58:03.815116Z"
        },
        "papermill": {
          "duration": 0.062398,
          "end_time": "2022-08-10T14:58:03.815536",
          "exception": false,
          "start_time": "2022-08-10T14:58:03.753138",
          "status": "completed"
        },
        "tags": []
      },
      "outputs": [],
      "source": [
        "def good_model(x=jnp.array(3.0), y=jnp.array(4.0)) -> SDict:\n",
        "    return {(\"in0\", \"out0\"): jnp.array(3.0)}\n",
        "\n",
        "\n",
        "assert validate_model(good_model) is None"
      ]
    },
    {
      "cell_type": "code",
      "execution_count": 50,
      "id": "181c72fa",
      "metadata": {
        "execution": {
          "iopub.execute_input": "2022-08-10T14:58:03.929779Z",
          "iopub.status.busy": "2022-08-10T14:58:03.929354Z",
          "iopub.status.idle": "2022-08-10T14:58:03.933185Z",
          "shell.execute_reply": "2022-08-10T14:58:03.933545Z"
        },
        "papermill": {
          "duration": 0.062345,
          "end_time": "2022-08-10T14:58:03.933654",
          "exception": false,
          "start_time": "2022-08-10T14:58:03.871309",
          "status": "completed"
        },
        "tags": []
      },
      "outputs": [],
      "source": [
        "def bad_model(positional_argument, x=jnp.array(3.0), y=jnp.array(4.0)) -> SDict:\n",
        "    return {(\"in0\", \"out0\"): jnp.array(3.0)}\n",
        "\n",
        "\n",
        "with raises(ValueError):\n",
        "    validate_model(bad_model)"
      ]
    },
    {
      "cell_type": "markdown",
      "id": "2e69df712221e982",
      "metadata": {},
      "source": [
        ":::{eval-rst}\n",
        ".. autofunction:: sax.typing_.is_instance\n",
        ":::\n"
      ]
    },
    {
      "cell_type": "code",
      "execution_count": 51,
      "id": "407e8b953fd5c934",
      "metadata": {
        "execution": {
          "iopub.execute_input": "2022-08-10T14:58:04.049463Z",
          "iopub.status.busy": "2022-08-10T14:58:04.049042Z",
          "iopub.status.idle": "2022-08-10T14:58:04.050547Z",
          "shell.execute_reply": "2022-08-10T14:58:04.050216Z"
        },
        "papermill": {
          "duration": 0.061079,
          "end_time": "2022-08-10T14:58:04.050633",
          "exception": false,
          "start_time": "2022-08-10T14:58:03.989554",
          "status": "completed"
        },
        "tags": [
          "hide-input"
        ]
      },
      "outputs": [],
      "source": [
        "def is_instance(instance: Any) -> bool:\n",
        "    \"\"\"check if a dictionary is an instance\"\"\"\n",
        "    if not isinstance(instance, dict):\n",
        "        return False\n",
        "    return \"component\" in instance"
      ]
    },
    {
      "cell_type": "markdown",
      "id": "0b3122eb3feaf2c7",
      "metadata": {},
      "source": [
        ":::{eval-rst}\n",
        ".. autofunction:: sax.typing_.is_netlist\n",
        ":::\n"
      ]
    },
    {
      "cell_type": "code",
      "execution_count": 52,
      "id": "1817faa308018c6d",
      "metadata": {
        "execution": {
          "iopub.execute_input": "2022-08-10T14:58:04.166752Z",
          "iopub.status.busy": "2022-08-10T14:58:04.166317Z",
          "iopub.status.idle": "2022-08-10T14:58:04.167494Z",
          "shell.execute_reply": "2022-08-10T14:58:04.167862Z"
        },
        "papermill": {
          "duration": 0.061838,
          "end_time": "2022-08-10T14:58:04.167971",
          "exception": false,
          "start_time": "2022-08-10T14:58:04.106133",
          "status": "completed"
        },
        "tags": [
          "hide-input"
        ]
      },
      "outputs": [],
      "source": [
        "def is_netlist(netlist: Any) -> bool:\n",
        "    \"\"\"check if a dictionary is a netlist\"\"\"\n",
        "    if not isinstance(netlist, dict):\n",
        "        return False\n",
        "    if not \"instances\" in netlist:\n",
        "        return False\n",
        "    if not \"connections\" in netlist:\n",
        "        return False\n",
        "    if not \"ports\" in netlist:\n",
        "        return False\n",
        "    return True"
      ]
    },
    {
      "cell_type": "markdown",
      "id": "4ba76322f620bee2",
      "metadata": {},
      "source": [
        ":::{eval-rst}\n",
        ".. autofunction:: sax.typing_.is_stype\n",
        ":::\n"
      ]
    },
    {
      "cell_type": "code",
      "execution_count": 53,
      "id": "13d516e2d64e5764",
      "metadata": {
        "execution": {
          "iopub.execute_input": "2022-08-10T14:58:04.283451Z",
          "iopub.status.busy": "2022-08-10T14:58:04.283032Z",
          "iopub.status.idle": "2022-08-10T14:58:04.284524Z",
          "shell.execute_reply": "2022-08-10T14:58:04.284203Z"
        },
        "papermill": {
          "duration": 0.060885,
          "end_time": "2022-08-10T14:58:04.284617",
          "exception": false,
          "start_time": "2022-08-10T14:58:04.223732",
          "status": "completed"
        },
        "tags": [
          "hide-input"
        ]
      },
      "outputs": [],
      "source": [
        "def is_stype(stype: Any) -> bool:\n",
        "    \"\"\"check if an object is an SDict, SCoo or SDense\"\"\"\n",
        "    return is_sdict(stype) or is_scoo(stype) or is_sdense(stype)"
      ]
    },
    {
      "cell_type": "markdown",
      "id": "1b2aae5819b39f05",
      "metadata": {},
      "source": [
        ":::{eval-rst}\n",
        ".. autofunction:: sax.typing_.is_singlemode\n",
        ":::\n"
      ]
    },
    {
      "cell_type": "code",
      "execution_count": 54,
      "id": "a73c8ed5dd73a937",
      "metadata": {
        "execution": {
          "iopub.execute_input": "2022-08-10T14:58:04.402798Z",
          "iopub.status.busy": "2022-08-10T14:58:04.402358Z",
          "iopub.status.idle": "2022-08-10T14:58:04.403944Z",
          "shell.execute_reply": "2022-08-10T14:58:04.403556Z"
        },
        "papermill": {
          "duration": 0.063492,
          "end_time": "2022-08-10T14:58:04.404030",
          "exception": false,
          "start_time": "2022-08-10T14:58:04.340538",
          "status": "completed"
        },
        "tags": [
          "hide-input"
        ]
      },
      "outputs": [],
      "source": [
        "def is_singlemode(S: Any) -> bool:\n",
        "    \"\"\"check if an stype is single mode\"\"\"\n",
        "    if not is_stype(S):\n",
        "        return False\n",
        "    ports = _get_ports(S)\n",
        "    return not any((\"@\" in p) for p in ports)\n",
        "\n",
        "def _get_ports(S: SType):\n",
        "    if is_sdict(S):\n",
        "        S = cast(SDict, S)\n",
        "        ports_set = {p1 for p1, _ in S} | {p2 for _, p2 in S}\n",
        "        return tuple(natsorted(ports_set))\n",
        "    else:\n",
        "        *_, ports_map = S\n",
        "        assert isinstance(ports_map, dict)\n",
        "        return tuple(natsorted(ports_map.keys()))"
      ]
    },
    {
      "cell_type": "markdown",
      "id": "bb3e9e276186b590",
      "metadata": {},
      "source": [
        ":::{eval-rst}\n",
        ".. autofunction:: sax.typing_.is_multimode\n",
        ":::\n"
      ]
    },
    {
      "cell_type": "code",
      "execution_count": 55,
      "id": "9e65d5a287b01e52",
      "metadata": {
        "execution": {
          "iopub.execute_input": "2022-08-10T14:58:04.521255Z",
          "iopub.status.busy": "2022-08-10T14:58:04.520843Z",
          "iopub.status.idle": "2022-08-10T14:58:04.522387Z",
          "shell.execute_reply": "2022-08-10T14:58:04.522039Z"
        },
        "papermill": {
          "duration": 0.061862,
          "end_time": "2022-08-10T14:58:04.522473",
          "exception": false,
          "start_time": "2022-08-10T14:58:04.460611",
          "status": "completed"
        },
        "tags": [
          "hide-input"
        ]
      },
      "outputs": [],
      "source": [
        "def is_multimode(S: Any) -> bool:\n",
        "    \"\"\"check if an stype is single mode\"\"\"\n",
        "    if not is_stype(S):\n",
        "        return False\n",
        "    \n",
        "    ports = _get_ports(S)\n",
        "    return all((\"@\" in p) for p in ports)"
      ]
    },
    {
      "cell_type": "markdown",
      "id": "3644c697c87d5fc1",
      "metadata": {},
      "source": [
        ":::{eval-rst}\n",
        ".. autofunction:: sax.typing_.is_mixedmode\n",
        ":::\n"
      ]
    },
    {
      "cell_type": "code",
      "execution_count": 56,
      "id": "c49a16edb408ad9c",
      "metadata": {
        "execution": {
          "iopub.execute_input": "2022-08-10T14:58:04.639309Z",
          "iopub.status.busy": "2022-08-10T14:58:04.638889Z",
          "iopub.status.idle": "2022-08-10T14:58:04.640061Z",
          "shell.execute_reply": "2022-08-10T14:58:04.640392Z"
        },
        "papermill": {
          "duration": 0.061212,
          "end_time": "2022-08-10T14:58:04.640498",
          "exception": false,
          "start_time": "2022-08-10T14:58:04.579286",
          "status": "completed"
        },
        "tags": [
          "hide-input"
        ]
      },
      "outputs": [],
      "source": [
        "def is_mixedmode(S: Any) -> bool:\n",
        "    \"\"\"check if an stype is neither single mode nor multimode (hence invalid)\"\"\"\n",
        "    return not is_singlemode(S) and not is_multimode(S)"
      ]
    },
    {
      "cell_type": "markdown",
      "id": "3afe685c",
      "metadata": {
        "papermill": {
          "duration": 0.05671,
          "end_time": "2022-08-10T14:58:04.753815",
          "exception": false,
          "start_time": "2022-08-10T14:58:04.697105",
          "status": "completed"
        },
        "tags": []
      },
      "source": [
        "## SAX return type helpers\n",
        "\n",
        "> a.k.a SDict, SDense, SCoo helpers"
      ]
    },
    {
      "cell_type": "markdown",
      "id": "a875f149",
      "metadata": {
        "papermill": {
          "duration": 0.056447,
          "end_time": "2022-08-10T14:58:04.867257",
          "exception": false,
          "start_time": "2022-08-10T14:58:04.810810",
          "status": "completed"
        },
        "tags": []
      },
      "source": [
        "Convert an `SDict`, `SCoo` or `SDense` into an `SDict` (or convert a model generating any of these types into a model generating an `SDict`):"
      ]
    },
    {
      "cell_type": "code",
      "execution_count": 57,
      "id": "817e3f6a65c60e26",
      "metadata": {
        "execution": {
          "iopub.execute_input": "2022-08-10T14:58:04.985403Z",
          "iopub.status.busy": "2022-08-10T14:58:04.984981Z",
          "iopub.status.idle": "2022-08-10T14:58:04.985970Z",
          "shell.execute_reply": "2022-08-10T14:58:04.986332Z"
        },
        "papermill": {
          "duration": 0.062099,
          "end_time": "2022-08-10T14:58:04.986447",
          "exception": false,
          "start_time": "2022-08-10T14:58:04.924348",
          "status": "completed"
        },
        "tags": [
          "remove-cell"
        ]
      },
      "outputs": [],
      "source": [
        "\n",
        "@overload\n",
        "def sdict(S: Model) -> Model:\n",
        "    ...\n",
        "\n",
        "\n",
        "@overload\n",
        "def sdict(S: SType) -> SDict:\n",
        "    ..."
      ]
    },
    {
      "cell_type": "markdown",
      "id": "6bea22b0fccbd45a",
      "metadata": {},
      "source": [
        ":::{eval-rst}\n",
        ".. autofunction:: sax.typing_.sdict\n",
        ":::\n"
      ]
    },
    {
      "cell_type": "code",
      "execution_count": 58,
      "id": "7453d88fa98841e4",
      "metadata": {
        "execution": {
          "iopub.execute_input": "2022-08-10T14:58:05.108911Z",
          "iopub.status.busy": "2022-08-10T14:58:05.107436Z",
          "iopub.status.idle": "2022-08-10T14:58:05.110497Z",
          "shell.execute_reply": "2022-08-10T14:58:05.110164Z"
        },
        "papermill": {
          "duration": 0.067415,
          "end_time": "2022-08-10T14:58:05.110590",
          "exception": false,
          "start_time": "2022-08-10T14:58:05.043175",
          "status": "completed"
        },
        "tags": [
          "hide-input"
        ]
      },
      "outputs": [],
      "source": [
        "def sdict(S: Union[Model, SType]) -> Union[Model, SType]:\n",
        "    \"\"\"Convert an `SCoo` or `SDense` to `SDict`\"\"\"\n",
        "\n",
        "    if is_model(S):\n",
        "        model = cast(Model, S)\n",
        "\n",
        "        @functools.wraps(model)\n",
        "        def wrapper(**kwargs):\n",
        "            return sdict(model(**kwargs))\n",
        "\n",
        "        return wrapper\n",
        "\n",
        "    elif is_scoo(S):\n",
        "        x_dict = _scoo_to_sdict(*cast(SCoo, S))\n",
        "    elif is_sdense(S):\n",
        "        x_dict = _sdense_to_sdict(*cast(SDense, S))\n",
        "    elif is_sdict(S):\n",
        "        x_dict = cast(SDict, S)\n",
        "    else:\n",
        "        raise ValueError(\"Could not convert arguments to sdict.\")\n",
        "\n",
        "    return x_dict\n",
        "\n",
        "\n",
        "def _scoo_to_sdict(Si: Array, Sj: Array, Sx: Array, ports_map: Dict[str, int]) -> SDict:\n",
        "    sdict = {}\n",
        "    inverse_ports_map = {int(i): p for p, i in ports_map.items()}\n",
        "    for i, (si, sj) in enumerate(zip(Si, Sj)):\n",
        "        sdict[\n",
        "            inverse_ports_map.get(int(si), \"\"), inverse_ports_map.get(int(sj), \"\")\n",
        "        ] = Sx[..., i]\n",
        "    sdict = {(p1, p2): v for (p1, p2), v in sdict.items() if p1 and p2}\n",
        "    return sdict\n",
        "\n",
        "\n",
        "def _sdense_to_sdict(S: Array, ports_map: Dict[str, int]) -> SDict:\n",
        "    sdict = {}\n",
        "    for p1, i in ports_map.items():\n",
        "        for p2, j in ports_map.items():\n",
        "            sdict[p1, p2] = S[..., i, j]\n",
        "    return sdict"
      ]
    },
    {
      "cell_type": "code",
      "execution_count": 59,
      "id": "9a372fbf",
      "metadata": {
        "execution": {
          "iopub.execute_input": "2022-08-10T14:58:05.235249Z",
          "iopub.status.busy": "2022-08-10T14:58:05.234802Z",
          "iopub.status.idle": "2022-08-10T14:58:05.347572Z",
          "shell.execute_reply": "2022-08-10T14:58:05.347199Z"
        },
        "papermill": {
          "duration": 0.180391,
          "end_time": "2022-08-10T14:58:05.347674",
          "exception": false,
          "start_time": "2022-08-10T14:58:05.167283",
          "status": "completed"
        },
        "tags": []
      },
      "outputs": [],
      "source": [
        "assert sdict(_sdict) is _sdict\n",
        "assert sdict(_scoo) == {\n",
        "    (\"in0\", \"in0\"): 3.0,\n",
        "    (\"in1\", \"in0\"): 1.0,\n",
        "    (\"out0\", \"out0\"): 4.0,\n",
        "}\n",
        "assert sdict(_sdense) == {\n",
        "    (\"in0\", \"in0\"): 0.0,\n",
        "    (\"in0\", \"out0\"): 1.0,\n",
        "    (\"in0\", \"in1\"): 2.0,\n",
        "    (\"out0\", \"in0\"): 3.0,\n",
        "    (\"out0\", \"out0\"): 4.0,\n",
        "    (\"out0\", \"in1\"): 5.0,\n",
        "    (\"in1\", \"in0\"): 6.0,\n",
        "    (\"in1\", \"out0\"): 7.0,\n",
        "    (\"in1\", \"in1\"): 8.0,\n",
        "}"
      ]
    },
    {
      "cell_type": "markdown",
      "id": "492c5cdd",
      "metadata": {
        "papermill": {
          "duration": 0.057474,
          "end_time": "2022-08-10T14:58:05.462161",
          "exception": false,
          "start_time": "2022-08-10T14:58:05.404687",
          "status": "completed"
        },
        "tags": []
      },
      "source": [
        "Convert an `SDict`, `SCoo` or `SDense` into an `SCoo` (or convert a model generating any of these types into a model generating an `SCoo`):"
      ]
    },
    {
      "cell_type": "code",
      "execution_count": 60,
      "id": "2e99a13a26a2cd70",
      "metadata": {
        "execution": {
          "iopub.execute_input": "2022-08-10T14:58:05.578905Z",
          "iopub.status.busy": "2022-08-10T14:58:05.578454Z",
          "iopub.status.idle": "2022-08-10T14:58:05.579649Z",
          "shell.execute_reply": "2022-08-10T14:58:05.580011Z"
        },
        "papermill": {
          "duration": 0.061412,
          "end_time": "2022-08-10T14:58:05.580118",
          "exception": false,
          "start_time": "2022-08-10T14:58:05.518706",
          "status": "completed"
        },
        "tags": [
          "remove-cell"
        ]
      },
      "outputs": [],
      "source": [
        "\n",
        "@overload\n",
        "def scoo(S: Callable) -> Callable:\n",
        "    ...\n",
        "\n",
        "\n",
        "@overload\n",
        "def scoo(S: SType) -> SCoo:\n",
        "    ..."
      ]
    },
    {
      "cell_type": "markdown",
      "id": "7f0557858113bdbe",
      "metadata": {},
      "source": [
        ":::{eval-rst}\n",
        ".. autofunction:: sax.typing_.scoo\n",
        ":::\n"
      ]
    },
    {
      "cell_type": "code",
      "execution_count": 61,
      "id": "3a2920201dc71c5a",
      "metadata": {
        "execution": {
          "iopub.execute_input": "2022-08-10T14:58:05.702483Z",
          "iopub.status.busy": "2022-08-10T14:58:05.702050Z",
          "iopub.status.idle": "2022-08-10T14:58:05.703226Z",
          "shell.execute_reply": "2022-08-10T14:58:05.703590Z"
        },
        "papermill": {
          "duration": 0.066602,
          "end_time": "2022-08-10T14:58:05.703697",
          "exception": false,
          "start_time": "2022-08-10T14:58:05.637095",
          "status": "completed"
        },
        "tags": [
          "hide-input"
        ]
      },
      "outputs": [],
      "source": [
        "\n",
        "def scoo(S: Union[Callable, SType]) -> Union[Callable, SCoo]:\n",
        "    \"\"\"Convert an `SDict` or `SDense` to `SCoo`\"\"\"\n",
        "\n",
        "    if is_model(S):\n",
        "        model = cast(Model, S)\n",
        "\n",
        "        @functools.wraps(model)\n",
        "        def wrapper(**kwargs):\n",
        "            return scoo(model(**kwargs))\n",
        "\n",
        "        return wrapper\n",
        "\n",
        "    elif is_scoo(S):\n",
        "        S = cast(SCoo, S)\n",
        "    elif is_sdense(S):\n",
        "        S = _sdense_to_scoo(*cast(SDense, S))\n",
        "    elif is_sdict(S):\n",
        "        S = _sdict_to_scoo(cast(SDict, S))\n",
        "    else:\n",
        "        raise ValueError(\"Could not convert arguments to scoo.\")\n",
        "\n",
        "    return S\n",
        "\n",
        "\n",
        "def _sdense_to_scoo(S: Array, ports_map: Dict[str, int]) -> SCoo:\n",
        "    Sj, Si = jnp.meshgrid(jnp.arange(S.shape[-1]), jnp.arange(S.shape[-2]))\n",
        "    return Si.ravel(), Sj.ravel(), S.reshape(*S.shape[:-2], -1), ports_map\n",
        "\n",
        "\n",
        "def _sdict_to_scoo(sdict: SDict) -> SCoo:\n",
        "    all_ports = {}\n",
        "    for p1, p2 in sdict:\n",
        "        all_ports[p1] = None\n",
        "        all_ports[p2] = None\n",
        "    ports_map = {p: i for i, p in enumerate(all_ports)}\n",
        "    Sx = jnp.stack(jnp.broadcast_arrays(*sdict.values()), -1)\n",
        "    Si = jnp.array([ports_map[p] for p, _ in sdict])\n",
        "    Sj = jnp.array([ports_map[p] for _, p in sdict])\n",
        "    return Si, Sj, Sx, ports_map"
      ]
    },
    {
      "cell_type": "code",
      "execution_count": 62,
      "id": "1e97b31c",
      "metadata": {
        "execution": {
          "iopub.execute_input": "2022-08-10T14:58:05.827383Z",
          "iopub.status.busy": "2022-08-10T14:58:05.826959Z",
          "iopub.status.idle": "2022-08-10T14:58:05.909150Z",
          "shell.execute_reply": "2022-08-10T14:58:05.908774Z"
        },
        "papermill": {
          "duration": 0.148572,
          "end_time": "2022-08-10T14:58:05.909256",
          "exception": false,
          "start_time": "2022-08-10T14:58:05.760684",
          "status": "completed"
        },
        "tags": []
      },
      "outputs": [],
      "source": [
        "assert scoo(_scoo) is _scoo\n",
        "assert scoo(_sdict) == (0, 1, 3.0, {\"in0\": 0, \"out0\": 1})\n",
        "Si, Sj, Sx, port_map = scoo(_sdense)  # type: ignore\n",
        "np.testing.assert_array_equal(Si, jnp.array([0, 0, 0, 1, 1, 1, 2, 2, 2]))\n",
        "np.testing.assert_array_equal(Sj, jnp.array([0, 1, 2, 0, 1, 2, 0, 1, 2]))\n",
        "np.testing.assert_array_almost_equal(Sx, jnp.array([0.0, 1.0, 2.0, 3.0, 4.0, 5.0, 6.0, 7.0, 8.0]))\n",
        "assert port_map == {\"in0\": 0, \"in1\": 2, \"out0\": 1}"
      ]
    },
    {
      "cell_type": "markdown",
      "id": "5e58325b",
      "metadata": {
        "papermill": {
          "duration": 0.056803,
          "end_time": "2022-08-10T14:58:06.022896",
          "exception": false,
          "start_time": "2022-08-10T14:58:05.966093",
          "status": "completed"
        },
        "tags": []
      },
      "source": [
        "Convert an `SDict`, `SCoo` or `SDense` into an `SDense` (or convert a model generating any of these types into a model generating an `SDense`):"
      ]
    },
    {
      "cell_type": "code",
      "execution_count": 63,
      "id": "60e9cd154eafb1f1",
      "metadata": {
        "execution": {
          "iopub.execute_input": "2022-08-10T14:58:06.141341Z",
          "iopub.status.busy": "2022-08-10T14:58:06.140920Z",
          "iopub.status.idle": "2022-08-10T14:58:06.142061Z",
          "shell.execute_reply": "2022-08-10T14:58:06.142422Z"
        },
        "papermill": {
          "duration": 0.062529,
          "end_time": "2022-08-10T14:58:06.142532",
          "exception": false,
          "start_time": "2022-08-10T14:58:06.080003",
          "status": "completed"
        },
        "tags": [
          "remove-cell"
        ]
      },
      "outputs": [],
      "source": [
        "\n",
        "@overload\n",
        "def sdense(S: Callable) -> Callable:\n",
        "    ...\n",
        "\n",
        "\n",
        "@overload\n",
        "def sdense(S: SType) -> SDense:\n",
        "    ..."
      ]
    },
    {
      "cell_type": "markdown",
      "id": "011c813a3fdec06d",
      "metadata": {},
      "source": [
        ":::{eval-rst}\n",
        ".. autofunction:: sax.typing_.sdense\n",
        ":::\n"
      ]
    },
    {
      "cell_type": "code",
      "execution_count": 64,
      "id": "7377a51d50e7bbc4",
      "metadata": {
        "execution": {
          "iopub.execute_input": "2022-08-10T14:58:06.263659Z",
          "iopub.status.busy": "2022-08-10T14:58:06.263225Z",
          "iopub.status.idle": "2022-08-10T14:58:06.265587Z",
          "shell.execute_reply": "2022-08-10T14:58:06.265893Z"
        },
        "papermill": {
          "duration": 0.066365,
          "end_time": "2022-08-10T14:58:06.266006",
          "exception": false,
          "start_time": "2022-08-10T14:58:06.199641",
          "status": "completed"
        },
        "tags": [
          "hide-input"
        ]
      },
      "outputs": [],
      "source": [
        "\n",
        "def sdense(S: Union[Callable, SType]) -> Union[Callable, SDense]:\n",
        "    \"\"\"Convert an `SDict` or `SCoo` to `SDense`\"\"\"\n",
        "\n",
        "    if is_model(S):\n",
        "        model = cast(Model, S)\n",
        "\n",
        "        @functools.wraps(model)\n",
        "        def wrapper(**kwargs):\n",
        "            return sdense(model(**kwargs))\n",
        "\n",
        "        return wrapper\n",
        "\n",
        "    if is_sdict(S):\n",
        "        S = _sdict_to_sdense(cast(SDict, S))\n",
        "    elif is_scoo(S):\n",
        "        S = _scoo_to_sdense(*cast(SCoo, S))\n",
        "    elif is_sdense(S):\n",
        "        S = cast(SDense, S)\n",
        "    else:\n",
        "        raise ValueError(\"Could not convert arguments to sdense.\")\n",
        "\n",
        "    return S\n",
        "\n",
        "\n",
        "def _scoo_to_sdense(\n",
        "    Si: Array, Sj: Array, Sx: Array, ports_map: Dict[str, int]\n",
        ") -> SDense:\n",
        "    n_col = len(ports_map)\n",
        "    S = jnp.zeros((*Sx.shape[:-1], n_col, n_col), dtype=complex)\n",
        "    if JAX_AVAILABLE:\n",
        "        S = S.at[..., Si, Sj].add(Sx)\n",
        "    else:\n",
        "        S[..., Si, Sj] = Sx\n",
        "    return S, ports_map\n",
        "\n",
        "def _sdict_to_sdense(sdict: SDict) -> SDense:\n",
        "    Si, Sj, Sx, ports_map = _sdict_to_scoo(sdict)\n",
        "    return _scoo_to_sdense(Si, Sj, Sx, ports_map)"
      ]
    },
    {
      "cell_type": "code",
      "execution_count": 65,
      "id": "084b7ddb",
      "metadata": {
        "execution": {
          "iopub.execute_input": "2022-08-10T14:58:06.388726Z",
          "iopub.status.busy": "2022-08-10T14:58:06.387557Z",
          "iopub.status.idle": "2022-08-10T14:58:06.517601Z",
          "shell.execute_reply": "2022-08-10T14:58:06.517235Z"
        },
        "papermill": {
          "duration": 0.194747,
          "end_time": "2022-08-10T14:58:06.517705",
          "exception": false,
          "start_time": "2022-08-10T14:58:06.322958",
          "status": "completed"
        },
        "tags": []
      },
      "outputs": [],
      "source": [
        "assert sdense(_sdense) is _sdense\n",
        "Sd, port_map = sdense(_scoo)  # type: ignore\n",
        "Sd_ = jnp.array([[3.0 + 0.0j, 0.0 + 0.0j, 0.0 + 0.0j],\n",
        "                 [0.0 + 0.0j, 4.0 + 0.0j, 0.0 + 0.0j],\n",
        "                 [1.0 + 0.0j, 0.0 + 0.0j, 0.0 + 0.0j]])\n",
        "\n",
        "np.testing.assert_array_almost_equal(Sd, Sd_)\n",
        "assert port_map == {\"in0\": 0, \"in1\": 2, \"out0\": 1}"
      ]
    },
    {
      "cell_type": "markdown",
      "id": "dd5951ac2a4f9fc6",
      "metadata": {},
      "source": [
        ":::{eval-rst}\n",
        ".. autofunction:: sax.typing_.modelfactory\n",
        ":::\n"
      ]
    },
    {
      "cell_type": "code",
      "execution_count": 66,
      "id": "227e118143a27f70",
      "metadata": {
        "execution": {
          "iopub.execute_input": "2022-08-10T14:58:06.636976Z",
          "iopub.status.busy": "2022-08-10T14:58:06.636560Z",
          "iopub.status.idle": "2022-08-10T14:58:06.637770Z",
          "shell.execute_reply": "2022-08-10T14:58:06.638084Z"
        },
        "papermill": {
          "duration": 0.062747,
          "end_time": "2022-08-10T14:58:06.638191",
          "exception": false,
          "start_time": "2022-08-10T14:58:06.575444",
          "status": "completed"
        },
        "tags": [
          "hide-input"
        ]
      },
      "outputs": [],
      "source": [
        "\n",
        "def modelfactory(func):\n",
        "    \"\"\"Decorator that marks a function as `ModelFactory`\"\"\"\n",
        "    sig = inspect.signature(func)\n",
        "    if _is_callable_annotation(sig.return_annotation):  # already model factory\n",
        "        return func\n",
        "    func.__signature__ = sig.replace(return_annotation=Model)\n",
        "    return func"
      ]
    }
  ],
  "metadata": {
    "kernelspec": {
      "display_name": "sax",
      "language": "python",
      "name": "sax"
    },
    "language_info": {
      "codemirror_mode": {
        "name": "ipython",
        "version": 3
      },
      "file_extension": ".py",
      "mimetype": "text/x-python",
      "name": "python",
      "nbconvert_exporter": "python",
      "pygments_lexer": "ipython3",
      "version": "3.9.0"
    },
    "papermill": {
      "default_parameters": {},
      "duration": 16.839105,
      "end_time": "2022-08-10T14:58:07.003672",
      "environment_variables": {},
      "exception": null,
      "input_path": "./nbs/00_typing.ipynb",
      "output_path": "./nbs/00_typing.ipynb",
      "parameters": {},
      "start_time": "2022-08-10T14:57:50.164567",
      "version": "2.3.4"
    }
  },
  "nbformat": 4,
  "nbformat_minor": 5
}
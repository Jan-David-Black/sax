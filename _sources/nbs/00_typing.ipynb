{
  "cells": [
    {
      "cell_type": "code",
      "execution_count": 1,
      "id": "ba8a7fe9f6f08273",
      "metadata": {
        "execution": {
          "iopub.execute_input": "2022-08-10T16:01:22.798641Z",
          "iopub.status.busy": "2022-08-10T16:01:22.798194Z",
          "iopub.status.idle": "2022-08-10T16:01:22.801025Z",
          "shell.execute_reply": "2022-08-10T16:01:22.801348Z"
        },
        "papermill": {
          "duration": 0.060014,
          "end_time": "2022-08-10T16:01:22.801554",
          "exception": false,
          "start_time": "2022-08-10T16:01:22.741540",
          "status": "completed"
        },
        "tags": [
          "remove-cell"
        ]
      },
      "outputs": [],
      "source": []
    },
    {
      "cell_type": "markdown",
      "id": "13a3464b",
      "metadata": {
        "papermill": {
          "duration": 0.048908,
          "end_time": "2022-08-10T16:01:22.899858",
          "exception": false,
          "start_time": "2022-08-10T16:01:22.850950",
          "status": "completed"
        },
        "tags": []
      },
      "source": [
        "# Typing\n",
        "\n",
        "> SAX types"
      ]
    },
    {
      "cell_type": "code",
      "execution_count": 2,
      "id": "6c2ea27f9290669e",
      "metadata": {
        "execution": {
          "iopub.execute_input": "2022-08-10T16:01:23.008829Z",
          "iopub.status.busy": "2022-08-10T16:01:23.008368Z",
          "iopub.status.idle": "2022-08-10T16:01:23.696537Z",
          "shell.execute_reply": "2022-08-10T16:01:23.696066Z"
        },
        "papermill": {
          "duration": 0.747409,
          "end_time": "2022-08-10T16:01:23.696673",
          "exception": false,
          "start_time": "2022-08-10T16:01:22.949264",
          "status": "completed"
        },
        "tags": [
          "remove-cell"
        ]
      },
      "outputs": [],
      "source": [
        "import matplotlib.pyplot as plt\n",
        "from fastcore.test import test_eq\n",
        "from pytest import approx, raises\n",
        "\n",
        "import os, sys; sys.stderr = open(os.devnull, \"w\")"
      ]
    },
    {
      "cell_type": "code",
      "execution_count": 3,
      "id": "4d8c46dec132fbc0",
      "metadata": {
        "execution": {
          "iopub.execute_input": "2022-08-10T16:01:23.802966Z",
          "iopub.status.busy": "2022-08-10T16:01:23.802531Z",
          "iopub.status.idle": "2022-08-10T16:01:24.379846Z",
          "shell.execute_reply": "2022-08-10T16:01:24.380246Z"
        },
        "papermill": {
          "duration": 0.633102,
          "end_time": "2022-08-10T16:01:24.380418",
          "exception": false,
          "start_time": "2022-08-10T16:01:23.747316",
          "status": "completed"
        },
        "tags": [
          "hide-input"
        ]
      },
      "outputs": [],
      "source": [
        "from __future__ import annotations\n",
        "import functools\n",
        "import inspect\n",
        "from collections.abc import Callable as CallableABC\n",
        "from typing import Any, Callable, Dict, Tuple, Union, cast, overload\n",
        "try:\n",
        "    from typing import TypedDict\n",
        "except ImportError: # python<3.8\n",
        "    from typing_extensions import TypedDict\n",
        "\n",
        "import numpy as np\n",
        "from natsort import natsorted\n",
        "\n",
        "try:\n",
        "    import jax.numpy as jnp\n",
        "    JAX_AVAILABLE = True\n",
        "except ImportError:\n",
        "    import numpy as jnp\n",
        "    JAX_AVAILABLE = False"
      ]
    },
    {
      "cell_type": "markdown",
      "id": "41e26ab2",
      "metadata": {
        "papermill": {
          "duration": 0.049678,
          "end_time": "2022-08-10T16:01:24.480624",
          "exception": false,
          "start_time": "2022-08-10T16:01:24.430946",
          "status": "completed"
        },
        "tags": []
      },
      "source": [
        "## Core Types"
      ]
    },
    {
      "cell_type": "markdown",
      "id": "ca29df5c",
      "metadata": {
        "papermill": {
          "duration": 0.049069,
          "end_time": "2022-08-10T16:01:24.615742",
          "exception": false,
          "start_time": "2022-08-10T16:01:24.566673",
          "status": "completed"
        },
        "tags": []
      },
      "source": [
        "### Array"
      ]
    },
    {
      "cell_type": "markdown",
      "id": "82c3c344",
      "metadata": {
        "papermill": {
          "duration": 0.048988,
          "end_time": "2022-08-10T16:01:24.714220",
          "exception": false,
          "start_time": "2022-08-10T16:01:24.665232",
          "status": "completed"
        },
        "tags": []
      },
      "source": [
        "an `Array` is either a jax array or a numpy array:"
      ]
    },
    {
      "cell_type": "code",
      "execution_count": 4,
      "id": "0a911384b018b1ca",
      "metadata": {
        "execution": {
          "iopub.execute_input": "2022-08-10T16:01:24.817807Z",
          "iopub.status.busy": "2022-08-10T16:01:24.817378Z",
          "iopub.status.idle": "2022-08-10T16:01:24.819329Z",
          "shell.execute_reply": "2022-08-10T16:01:24.818960Z"
        },
        "papermill": {
          "duration": 0.055387,
          "end_time": "2022-08-10T16:01:24.819429",
          "exception": false,
          "start_time": "2022-08-10T16:01:24.764042",
          "status": "completed"
        },
        "tags": []
      },
      "outputs": [],
      "source": [
        "Array = Union[jnp.ndarray, np.ndarray]"
      ]
    },
    {
      "cell_type": "markdown",
      "id": "6b86fa37",
      "metadata": {
        "papermill": {
          "duration": 0.049444,
          "end_time": "2022-08-10T16:01:24.918619",
          "exception": false,
          "start_time": "2022-08-10T16:01:24.869175",
          "status": "completed"
        },
        "tags": []
      },
      "source": [
        "### Int"
      ]
    },
    {
      "cell_type": "markdown",
      "id": "9fa467c9",
      "metadata": {
        "papermill": {
          "duration": 0.049879,
          "end_time": "2022-08-10T16:01:25.018002",
          "exception": false,
          "start_time": "2022-08-10T16:01:24.968123",
          "status": "completed"
        },
        "tags": []
      },
      "source": [
        "An `Int` is either a built-in `int` or an `Array` [of dtype `int`]"
      ]
    },
    {
      "cell_type": "code",
      "execution_count": 5,
      "id": "260fac14f6d445d2",
      "metadata": {
        "execution": {
          "iopub.execute_input": "2022-08-10T16:01:25.120921Z",
          "iopub.status.busy": "2022-08-10T16:01:25.120481Z",
          "iopub.status.idle": "2022-08-10T16:01:25.123442Z",
          "shell.execute_reply": "2022-08-10T16:01:25.123051Z"
        },
        "papermill": {
          "duration": 0.055985,
          "end_time": "2022-08-10T16:01:25.123542",
          "exception": false,
          "start_time": "2022-08-10T16:01:25.067557",
          "status": "completed"
        },
        "tags": []
      },
      "outputs": [],
      "source": [
        "Int = Union[int, Array]"
      ]
    },
    {
      "cell_type": "markdown",
      "id": "c486cd2c",
      "metadata": {
        "papermill": {
          "duration": 0.049481,
          "end_time": "2022-08-10T16:01:25.222008",
          "exception": false,
          "start_time": "2022-08-10T16:01:25.172527",
          "status": "completed"
        },
        "tags": []
      },
      "source": [
        "### Float"
      ]
    },
    {
      "cell_type": "markdown",
      "id": "3b59bba6",
      "metadata": {
        "papermill": {
          "duration": 0.049003,
          "end_time": "2022-08-10T16:01:25.320805",
          "exception": false,
          "start_time": "2022-08-10T16:01:25.271802",
          "status": "completed"
        },
        "tags": []
      },
      "source": [
        "A `Float` is eiter a built-in `float` or an `Array` [of dtype `float`]"
      ]
    },
    {
      "cell_type": "code",
      "execution_count": 6,
      "id": "10e651f4fa8505c6",
      "metadata": {
        "execution": {
          "iopub.execute_input": "2022-08-10T16:01:25.423878Z",
          "iopub.status.busy": "2022-08-10T16:01:25.423332Z",
          "iopub.status.idle": "2022-08-10T16:01:25.424879Z",
          "shell.execute_reply": "2022-08-10T16:01:25.425256Z"
        },
        "papermill": {
          "duration": 0.05488,
          "end_time": "2022-08-10T16:01:25.425396",
          "exception": false,
          "start_time": "2022-08-10T16:01:25.370516",
          "status": "completed"
        },
        "tags": []
      },
      "outputs": [],
      "source": [
        "Float = Union[float, Array]"
      ]
    },
    {
      "cell_type": "markdown",
      "id": "bdfd6200",
      "metadata": {
        "papermill": {
          "duration": 0.049814,
          "end_time": "2022-08-10T16:01:25.524621",
          "exception": false,
          "start_time": "2022-08-10T16:01:25.474807",
          "status": "completed"
        },
        "tags": []
      },
      "source": [
        "### ComplexFloat"
      ]
    },
    {
      "cell_type": "markdown",
      "id": "b1a7d255",
      "metadata": {
        "papermill": {
          "duration": 0.049521,
          "end_time": "2022-08-10T16:01:25.624022",
          "exception": false,
          "start_time": "2022-08-10T16:01:25.574501",
          "status": "completed"
        },
        "tags": []
      },
      "source": [
        "A `ComplexFloat` is either a build-in `complex` or an Array [of dtype `complex`]:"
      ]
    },
    {
      "cell_type": "code",
      "execution_count": 7,
      "id": "008e26347003dbb6",
      "metadata": {
        "execution": {
          "iopub.execute_input": "2022-08-10T16:01:25.727477Z",
          "iopub.status.busy": "2022-08-10T16:01:25.727042Z",
          "iopub.status.idle": "2022-08-10T16:01:25.728710Z",
          "shell.execute_reply": "2022-08-10T16:01:25.728362Z"
        },
        "papermill": {
          "duration": 0.055505,
          "end_time": "2022-08-10T16:01:25.728816",
          "exception": false,
          "start_time": "2022-08-10T16:01:25.673311",
          "status": "completed"
        },
        "tags": []
      },
      "outputs": [],
      "source": [
        "ComplexFloat = Union[complex, Float]"
      ]
    },
    {
      "cell_type": "markdown",
      "id": "1f1aa099",
      "metadata": {
        "papermill": {
          "duration": 0.049484,
          "end_time": "2022-08-10T16:01:25.827931",
          "exception": false,
          "start_time": "2022-08-10T16:01:25.778447",
          "status": "completed"
        },
        "tags": []
      },
      "source": [
        "### Settings"
      ]
    },
    {
      "cell_type": "markdown",
      "id": "69839acd",
      "metadata": {
        "papermill": {
          "duration": 0.049217,
          "end_time": "2022-08-10T16:01:25.927030",
          "exception": false,
          "start_time": "2022-08-10T16:01:25.877813",
          "status": "completed"
        },
        "tags": []
      },
      "source": [
        "A `Settings` dictionary is a nested mapping between setting names [`str`] to either `ComplexFloat` values OR to another lower level `Settings` dictionary."
      ]
    },
    {
      "cell_type": "code",
      "execution_count": 8,
      "id": "c51a636c747652e4",
      "metadata": {
        "execution": {
          "iopub.execute_input": "2022-08-10T16:01:26.031443Z",
          "iopub.status.busy": "2022-08-10T16:01:26.031002Z",
          "iopub.status.idle": "2022-08-10T16:01:26.032697Z",
          "shell.execute_reply": "2022-08-10T16:01:26.032342Z"
        },
        "papermill": {
          "duration": 0.056324,
          "end_time": "2022-08-10T16:01:26.032800",
          "exception": false,
          "start_time": "2022-08-10T16:01:25.976476",
          "status": "completed"
        },
        "tags": []
      },
      "outputs": [],
      "source": [
        "Settings = Union[Dict[str, ComplexFloat], Dict[str, \"Settings\"]]"
      ]
    },
    {
      "cell_type": "markdown",
      "id": "cf202d06",
      "metadata": {
        "papermill": {
          "duration": 0.050059,
          "end_time": "2022-08-10T16:01:26.132077",
          "exception": false,
          "start_time": "2022-08-10T16:01:26.082018",
          "status": "completed"
        },
        "tags": []
      },
      "source": [
        "Settings dictionaries are used to parametrize a SAX `Model` or a `circuit`. The settings dictionary should have the same hierarchy levels as the circuit:\n",
        " \n",
        " > Example:"
      ]
    },
    {
      "cell_type": "code",
      "execution_count": 9,
      "id": "2b26c4ab",
      "metadata": {
        "execution": {
          "iopub.execute_input": "2022-08-10T16:01:26.235028Z",
          "iopub.status.busy": "2022-08-10T16:01:26.234580Z",
          "iopub.status.idle": "2022-08-10T16:01:26.236236Z",
          "shell.execute_reply": "2022-08-10T16:01:26.236637Z"
        },
        "papermill": {
          "duration": 0.055497,
          "end_time": "2022-08-10T16:01:26.236766",
          "exception": false,
          "start_time": "2022-08-10T16:01:26.181269",
          "status": "completed"
        },
        "tags": []
      },
      "outputs": [],
      "source": [
        "mzi_settings = {\n",
        "    \"wl\": 1.5,  # global settings\n",
        "    \"lft\": {\"coupling\": 0.5},  # settings for the left coupler\n",
        "    \"top\": {\"neff\": 3.4},  # settings for the top waveguide\n",
        "    \"rgt\": {\"coupling\": 0.3},  # settings for the right coupler\n",
        "}"
      ]
    },
    {
      "cell_type": "markdown",
      "id": "45043912",
      "metadata": {
        "papermill": {
          "duration": 0.04956,
          "end_time": "2022-08-10T16:01:26.336129",
          "exception": false,
          "start_time": "2022-08-10T16:01:26.286569",
          "status": "completed"
        },
        "tags": []
      },
      "source": [
        "### SDict"
      ]
    },
    {
      "cell_type": "markdown",
      "id": "c5a7facf",
      "metadata": {
        "papermill": {
          "duration": 0.049445,
          "end_time": "2022-08-10T16:01:26.435193",
          "exception": false,
          "start_time": "2022-08-10T16:01:26.385748",
          "status": "completed"
        },
        "tags": []
      },
      "source": [
        "An `SDict` is a sparse dictionary based representation of an S-matrix, mapping port name tuples such as `('in0', 'out0')` to `ComplexFloat`."
      ]
    },
    {
      "cell_type": "code",
      "execution_count": 10,
      "id": "a38af5580ae601fb",
      "metadata": {
        "execution": {
          "iopub.execute_input": "2022-08-10T16:01:26.538939Z",
          "iopub.status.busy": "2022-08-10T16:01:26.538497Z",
          "iopub.status.idle": "2022-08-10T16:01:26.539561Z",
          "shell.execute_reply": "2022-08-10T16:01:26.539974Z"
        },
        "papermill": {
          "duration": 0.054745,
          "end_time": "2022-08-10T16:01:26.540106",
          "exception": false,
          "start_time": "2022-08-10T16:01:26.485361",
          "status": "completed"
        },
        "tags": []
      },
      "outputs": [],
      "source": [
        "SDict = Dict[Tuple[str, str], ComplexFloat]"
      ]
    },
    {
      "cell_type": "markdown",
      "id": "07dc470a",
      "metadata": {
        "papermill": {
          "duration": 0.049283,
          "end_time": "2022-08-10T16:01:26.638760",
          "exception": false,
          "start_time": "2022-08-10T16:01:26.589477",
          "status": "completed"
        },
        "tags": []
      },
      "source": [
        "> Example:"
      ]
    },
    {
      "cell_type": "code",
      "execution_count": 11,
      "id": "ad65a70c",
      "metadata": {
        "execution": {
          "iopub.execute_input": "2022-08-10T16:01:26.742370Z",
          "iopub.status.busy": "2022-08-10T16:01:26.741941Z",
          "iopub.status.idle": "2022-08-10T16:01:26.743820Z",
          "shell.execute_reply": "2022-08-10T16:01:26.743453Z"
        },
        "papermill": {
          "duration": 0.055421,
          "end_time": "2022-08-10T16:01:26.743928",
          "exception": false,
          "start_time": "2022-08-10T16:01:26.688507",
          "status": "completed"
        },
        "tags": []
      },
      "outputs": [],
      "source": [
        "_sdict: SDict = {\n",
        "    (\"in0\", \"out0\"): 3.0,\n",
        "}"
      ]
    },
    {
      "cell_type": "markdown",
      "id": "0e2c7430",
      "metadata": {
        "papermill": {
          "duration": 0.049844,
          "end_time": "2022-08-10T16:01:26.844182",
          "exception": false,
          "start_time": "2022-08-10T16:01:26.794338",
          "status": "completed"
        },
        "tags": []
      },
      "source": [
        "### SCoo"
      ]
    },
    {
      "cell_type": "markdown",
      "id": "ef614e1d",
      "metadata": {
        "papermill": {
          "duration": 0.049962,
          "end_time": "2022-08-10T16:01:26.944310",
          "exception": false,
          "start_time": "2022-08-10T16:01:26.894348",
          "status": "completed"
        },
        "tags": []
      },
      "source": [
        "An `SCoo` is a sparse matrix based representation of an S-matrix consisting of three arrays and a port map. The three arrays represent the input port indices [`int`], output port indices [`int`] and the S-matrix values [`ComplexFloat`] of the sparse matrix. The port map maps a port name [`str`] to a port index [`int`]. Only these four arrays **together** and in this specific **order** are considered a valid `SCoo` representation!"
      ]
    },
    {
      "cell_type": "code",
      "execution_count": 12,
      "id": "e02710290c9921fc",
      "metadata": {
        "execution": {
          "iopub.execute_input": "2022-08-10T16:01:27.048694Z",
          "iopub.status.busy": "2022-08-10T16:01:27.048256Z",
          "iopub.status.idle": "2022-08-10T16:01:27.049607Z",
          "shell.execute_reply": "2022-08-10T16:01:27.049914Z"
        },
        "papermill": {
          "duration": 0.05591,
          "end_time": "2022-08-10T16:01:27.050043",
          "exception": false,
          "start_time": "2022-08-10T16:01:26.994133",
          "status": "completed"
        },
        "tags": []
      },
      "outputs": [],
      "source": [
        "SCoo = Tuple[Array, Array, ComplexFloat, Dict[str, int]]"
      ]
    },
    {
      "cell_type": "markdown",
      "id": "ff9719c8",
      "metadata": {
        "papermill": {
          "duration": 0.050277,
          "end_time": "2022-08-10T16:01:27.151266",
          "exception": false,
          "start_time": "2022-08-10T16:01:27.100989",
          "status": "completed"
        },
        "tags": []
      },
      "source": [
        "> Example:"
      ]
    },
    {
      "cell_type": "code",
      "execution_count": 13,
      "id": "972f8060",
      "metadata": {
        "execution": {
          "iopub.execute_input": "2022-08-10T16:01:27.257176Z",
          "iopub.status.busy": "2022-08-10T16:01:27.256735Z",
          "iopub.status.idle": "2022-08-10T16:01:27.283546Z",
          "shell.execute_reply": "2022-08-10T16:01:27.283110Z"
        },
        "papermill": {
          "duration": 0.082362,
          "end_time": "2022-08-10T16:01:27.283660",
          "exception": false,
          "start_time": "2022-08-10T16:01:27.201298",
          "status": "completed"
        },
        "tags": []
      },
      "outputs": [],
      "source": [
        "Si = jnp.arange(3, dtype=int)\n",
        "Sj = jnp.array([0, 1, 0], dtype=int)\n",
        "Sx = jnp.array([3.0, 4.0, 1.0])\n",
        "port_map = {\"in0\": 0, \"in1\": 2, \"out0\": 1}\n",
        "_scoo: SCoo = (Si, Sj, Sx, port_map)"
      ]
    },
    {
      "cell_type": "markdown",
      "id": "2cba9246",
      "metadata": {
        "papermill": {
          "duration": 0.050058,
          "end_time": "2022-08-10T16:01:27.384628",
          "exception": false,
          "start_time": "2022-08-10T16:01:27.334570",
          "status": "completed"
        },
        "tags": []
      },
      "source": [
        "### SDense"
      ]
    },
    {
      "cell_type": "markdown",
      "id": "fd28795b",
      "metadata": {
        "papermill": {
          "duration": 0.050032,
          "end_time": "2022-08-10T16:01:27.485510",
          "exception": false,
          "start_time": "2022-08-10T16:01:27.435478",
          "status": "completed"
        },
        "tags": []
      },
      "source": [
        "an `SDense` is a dense matrix representation of an S-matrix. It's represented by an NxN `ComplexFloat` array and a port map (mapping port names onto port indices)."
      ]
    },
    {
      "cell_type": "code",
      "execution_count": 14,
      "id": "ef23f5e8bcfcef77",
      "metadata": {
        "execution": {
          "iopub.execute_input": "2022-08-10T16:01:27.590272Z",
          "iopub.status.busy": "2022-08-10T16:01:27.589833Z",
          "iopub.status.idle": "2022-08-10T16:01:27.591503Z",
          "shell.execute_reply": "2022-08-10T16:01:27.591148Z"
        },
        "papermill": {
          "duration": 0.056003,
          "end_time": "2022-08-10T16:01:27.591611",
          "exception": false,
          "start_time": "2022-08-10T16:01:27.535608",
          "status": "completed"
        },
        "tags": []
      },
      "outputs": [],
      "source": [
        "SDense = Tuple[Array, Dict[str, int]]"
      ]
    },
    {
      "cell_type": "markdown",
      "id": "2c4789f7",
      "metadata": {
        "papermill": {
          "duration": 0.049928,
          "end_time": "2022-08-10T16:01:27.692154",
          "exception": false,
          "start_time": "2022-08-10T16:01:27.642226",
          "status": "completed"
        },
        "tags": []
      },
      "source": [
        "> Example:"
      ]
    },
    {
      "cell_type": "code",
      "execution_count": 15,
      "id": "02def7ed",
      "metadata": {
        "execution": {
          "iopub.execute_input": "2022-08-10T16:01:27.801672Z",
          "iopub.status.busy": "2022-08-10T16:01:27.801235Z",
          "iopub.status.idle": "2022-08-10T16:01:27.824615Z",
          "shell.execute_reply": "2022-08-10T16:01:27.825010Z"
        },
        "papermill": {
          "duration": 0.082519,
          "end_time": "2022-08-10T16:01:27.825172",
          "exception": false,
          "start_time": "2022-08-10T16:01:27.742653",
          "status": "completed"
        },
        "tags": []
      },
      "outputs": [],
      "source": [
        "Sd = jnp.arange(9, dtype=float).reshape(3, 3)\n",
        "port_map = {\"in0\": 0, \"in1\": 2, \"out0\": 1}\n",
        "_sdense = Sd, port_map"
      ]
    },
    {
      "cell_type": "markdown",
      "id": "b0d2e36f",
      "metadata": {
        "papermill": {
          "duration": 0.050596,
          "end_time": "2022-08-10T16:01:27.926650",
          "exception": false,
          "start_time": "2022-08-10T16:01:27.876054",
          "status": "completed"
        },
        "tags": []
      },
      "source": [
        "### SType"
      ]
    },
    {
      "cell_type": "markdown",
      "id": "b441f21d",
      "metadata": {
        "papermill": {
          "duration": 0.050179,
          "end_time": "2022-08-10T16:01:28.027272",
          "exception": false,
          "start_time": "2022-08-10T16:01:27.977093",
          "status": "completed"
        },
        "tags": []
      },
      "source": [
        "an `SType` is either an `SDict` **OR** an `SCoo` **OR** an `SDense`:"
      ]
    },
    {
      "cell_type": "code",
      "execution_count": 16,
      "id": "2b19d1043624ec75",
      "metadata": {
        "execution": {
          "iopub.execute_input": "2022-08-10T16:01:28.132599Z",
          "iopub.status.busy": "2022-08-10T16:01:28.132159Z",
          "iopub.status.idle": "2022-08-10T16:01:28.135151Z",
          "shell.execute_reply": "2022-08-10T16:01:28.134754Z"
        },
        "papermill": {
          "duration": 0.056913,
          "end_time": "2022-08-10T16:01:28.135251",
          "exception": false,
          "start_time": "2022-08-10T16:01:28.078338",
          "status": "completed"
        },
        "tags": []
      },
      "outputs": [],
      "source": [
        "SType = Union[SDict, SCoo, SDense]"
      ]
    },
    {
      "cell_type": "markdown",
      "id": "e0561b07",
      "metadata": {
        "papermill": {
          "duration": 0.049915,
          "end_time": "2022-08-10T16:01:28.235093",
          "exception": false,
          "start_time": "2022-08-10T16:01:28.185178",
          "status": "completed"
        },
        "tags": []
      },
      "source": [
        "> Example:"
      ]
    },
    {
      "cell_type": "code",
      "execution_count": 17,
      "id": "5b52a5f2",
      "metadata": {
        "execution": {
          "iopub.execute_input": "2022-08-10T16:01:28.340456Z",
          "iopub.status.busy": "2022-08-10T16:01:28.339638Z",
          "iopub.status.idle": "2022-08-10T16:01:28.341050Z",
          "shell.execute_reply": "2022-08-10T16:01:28.341381Z"
        },
        "papermill": {
          "duration": 0.055634,
          "end_time": "2022-08-10T16:01:28.341509",
          "exception": false,
          "start_time": "2022-08-10T16:01:28.285875",
          "status": "completed"
        },
        "tags": []
      },
      "outputs": [],
      "source": [
        "obj: SType = _sdict\n",
        "obj: SType = _scoo\n",
        "obj: SType = _sdense"
      ]
    },
    {
      "cell_type": "markdown",
      "id": "afabe91b",
      "metadata": {
        "papermill": {
          "duration": 0.050471,
          "end_time": "2022-08-10T16:01:28.442128",
          "exception": false,
          "start_time": "2022-08-10T16:01:28.391657",
          "status": "completed"
        },
        "tags": []
      },
      "source": [
        "### Model"
      ]
    },
    {
      "cell_type": "markdown",
      "id": "13808fb1",
      "metadata": {
        "papermill": {
          "duration": 0.05043,
          "end_time": "2022-08-10T16:01:28.542799",
          "exception": false,
          "start_time": "2022-08-10T16:01:28.492369",
          "status": "completed"
        },
        "tags": []
      },
      "source": [
        "A `Model` is any keyword-only function that returns an `SType`:"
      ]
    },
    {
      "cell_type": "code",
      "execution_count": 18,
      "id": "c772d5d1929f66e2",
      "metadata": {
        "execution": {
          "iopub.execute_input": "2022-08-10T16:01:28.647611Z",
          "iopub.status.busy": "2022-08-10T16:01:28.647180Z",
          "iopub.status.idle": "2022-08-10T16:01:28.649185Z",
          "shell.execute_reply": "2022-08-10T16:01:28.648840Z"
        },
        "papermill": {
          "duration": 0.05601,
          "end_time": "2022-08-10T16:01:28.649289",
          "exception": false,
          "start_time": "2022-08-10T16:01:28.593279",
          "status": "completed"
        },
        "tags": []
      },
      "outputs": [],
      "source": [
        "Model = Callable[..., SType]"
      ]
    },
    {
      "cell_type": "markdown",
      "id": "fad534fb",
      "metadata": {
        "papermill": {
          "duration": 0.051052,
          "end_time": "2022-08-10T16:01:28.751067",
          "exception": false,
          "start_time": "2022-08-10T16:01:28.700015",
          "status": "completed"
        },
        "tags": []
      },
      "source": [
        "### ModelFactory"
      ]
    },
    {
      "cell_type": "markdown",
      "id": "85781647",
      "metadata": {
        "papermill": {
          "duration": 0.050047,
          "end_time": "2022-08-10T16:01:28.852184",
          "exception": false,
          "start_time": "2022-08-10T16:01:28.802137",
          "status": "completed"
        },
        "tags": []
      },
      "source": [
        "A `ModelFactory` is any keyword-only function that returns a `Model`:"
      ]
    },
    {
      "cell_type": "code",
      "execution_count": 19,
      "id": "55e57e32551ea3ed",
      "metadata": {
        "execution": {
          "iopub.execute_input": "2022-08-10T16:01:28.957535Z",
          "iopub.status.busy": "2022-08-10T16:01:28.957097Z",
          "iopub.status.idle": "2022-08-10T16:01:28.959097Z",
          "shell.execute_reply": "2022-08-10T16:01:28.958748Z"
        },
        "papermill": {
          "duration": 0.056638,
          "end_time": "2022-08-10T16:01:28.959206",
          "exception": false,
          "start_time": "2022-08-10T16:01:28.902568",
          "status": "completed"
        },
        "tags": []
      },
      "outputs": [],
      "source": [
        "ModelFactory = Callable[..., Model]"
      ]
    },
    {
      "cell_type": "markdown",
      "id": "353d8506",
      "metadata": {
        "papermill": {
          "duration": 0.050731,
          "end_time": "2022-08-10T16:01:29.060103",
          "exception": false,
          "start_time": "2022-08-10T16:01:29.009372",
          "status": "completed"
        },
        "tags": []
      },
      "source": [
        "> Note: SAX sometimes needs to figure out the difference between a `ModelFactory` and a normal `Model` *before* running the function. To do this, SAX will check the return annotation of the function. Any function with a `-> Model` or `-> Callable` annotation will be considered a `ModelFactory`. Any function without this annotation will be considered a normal Model: **don't forget the return annotation of your Model Factory!** To ensure a correct annotation and to ensure forward compatibility, it's recommended to decorate your `ModelFactory` with the `modelfactory` decorator."
      ]
    },
    {
      "cell_type": "markdown",
      "id": "e42d3f17",
      "metadata": {
        "papermill": {
          "duration": 0.05046,
          "end_time": "2022-08-10T16:01:29.161224",
          "exception": false,
          "start_time": "2022-08-10T16:01:29.110764",
          "status": "completed"
        },
        "tags": []
      },
      "source": [
        "### GeneralModel"
      ]
    },
    {
      "cell_type": "markdown",
      "id": "0c4356fc",
      "metadata": {
        "papermill": {
          "duration": 0.05037,
          "end_time": "2022-08-10T16:01:29.262571",
          "exception": false,
          "start_time": "2022-08-10T16:01:29.212201",
          "status": "completed"
        },
        "tags": []
      },
      "source": [
        "a `GeneralModel` is either a `Model` or a `LogicalNetlist` (will be defined below):"
      ]
    },
    {
      "cell_type": "code",
      "execution_count": 20,
      "id": "1d824bfddb381510",
      "metadata": {
        "execution": {
          "iopub.execute_input": "2022-08-10T16:01:29.368233Z",
          "iopub.status.busy": "2022-08-10T16:01:29.367775Z",
          "iopub.status.idle": "2022-08-10T16:01:29.368769Z",
          "shell.execute_reply": "2022-08-10T16:01:29.369159Z"
        },
        "papermill": {
          "duration": 0.056163,
          "end_time": "2022-08-10T16:01:29.369290",
          "exception": false,
          "start_time": "2022-08-10T16:01:29.313127",
          "status": "completed"
        },
        "tags": []
      },
      "outputs": [],
      "source": [
        "GeneralModel = Union[Model, \"LogicalNetlist\"]"
      ]
    },
    {
      "cell_type": "markdown",
      "id": "b32b5a31",
      "metadata": {
        "papermill": {
          "duration": 0.05112,
          "end_time": "2022-08-10T16:01:29.471510",
          "exception": false,
          "start_time": "2022-08-10T16:01:29.420390",
          "status": "completed"
        },
        "tags": []
      },
      "source": [
        "### Models"
      ]
    },
    {
      "cell_type": "markdown",
      "id": "a796dcb2",
      "metadata": {
        "papermill": {
          "duration": 0.051164,
          "end_time": "2022-08-10T16:01:29.573791",
          "exception": false,
          "start_time": "2022-08-10T16:01:29.522627",
          "status": "completed"
        },
        "tags": []
      },
      "source": [
        "`Models` is a mapping between model names [`str`] and `GeneralModel`:"
      ]
    },
    {
      "cell_type": "code",
      "execution_count": 21,
      "id": "41e3a95ba9445ee5",
      "metadata": {
        "execution": {
          "iopub.execute_input": "2022-08-10T16:01:29.680219Z",
          "iopub.status.busy": "2022-08-10T16:01:29.679774Z",
          "iopub.status.idle": "2022-08-10T16:01:29.680872Z",
          "shell.execute_reply": "2022-08-10T16:01:29.681270Z"
        },
        "papermill": {
          "duration": 0.056278,
          "end_time": "2022-08-10T16:01:29.681395",
          "exception": false,
          "start_time": "2022-08-10T16:01:29.625117",
          "status": "completed"
        },
        "tags": []
      },
      "outputs": [],
      "source": [
        "Models = Dict[str, GeneralModel]"
      ]
    },
    {
      "cell_type": "markdown",
      "id": "ed1af61c",
      "metadata": {
        "papermill": {
          "duration": 0.051267,
          "end_time": "2022-08-10T16:01:29.783162",
          "exception": false,
          "start_time": "2022-08-10T16:01:29.731895",
          "status": "completed"
        },
        "tags": []
      },
      "source": [
        "> Note: sometimes 'component' is used to refer to a a `Model` or `GeneralModel`. This is because other tools (such as for example GDSFactory) prefer that terminology."
      ]
    },
    {
      "cell_type": "markdown",
      "id": "5d276f63",
      "metadata": {
        "papermill": {
          "duration": 0.051323,
          "end_time": "2022-08-10T16:01:29.885843",
          "exception": false,
          "start_time": "2022-08-10T16:01:29.834520",
          "status": "completed"
        },
        "tags": []
      },
      "source": [
        "## Netlist Types"
      ]
    },
    {
      "cell_type": "markdown",
      "id": "2c946dc2",
      "metadata": {
        "papermill": {
          "duration": 0.051572,
          "end_time": "2022-08-10T16:01:29.988309",
          "exception": false,
          "start_time": "2022-08-10T16:01:29.936737",
          "status": "completed"
        },
        "tags": []
      },
      "source": [
        "### Instance"
      ]
    },
    {
      "cell_type": "markdown",
      "id": "24694709",
      "metadata": {
        "papermill": {
          "duration": 0.05174,
          "end_time": "2022-08-10T16:01:30.091241",
          "exception": false,
          "start_time": "2022-08-10T16:01:30.039501",
          "status": "completed"
        },
        "tags": []
      },
      "source": [
        "A netlist `Instance` is a mapping with two keys: `\"component\"`, which should map to a key in a `Models` dictionary and `\"settings\"`, which are all the necessary settings to instanciate a component:"
      ]
    },
    {
      "cell_type": "code",
      "execution_count": 22,
      "id": "8f8280b2ef04234c",
      "metadata": {
        "execution": {
          "iopub.execute_input": "2022-08-10T16:01:30.197896Z",
          "iopub.status.busy": "2022-08-10T16:01:30.197453Z",
          "iopub.status.idle": "2022-08-10T16:01:30.199215Z",
          "shell.execute_reply": "2022-08-10T16:01:30.198839Z"
        },
        "papermill": {
          "duration": 0.057029,
          "end_time": "2022-08-10T16:01:30.199318",
          "exception": false,
          "start_time": "2022-08-10T16:01:30.142289",
          "status": "completed"
        },
        "tags": []
      },
      "outputs": [],
      "source": [
        "Instance = TypedDict(\n",
        "    \"Instance\",\n",
        "    {\n",
        "        \"component\": str,\n",
        "        \"settings\": Settings,\n",
        "    },\n",
        ")"
      ]
    },
    {
      "cell_type": "markdown",
      "id": "ff82e535",
      "metadata": {
        "papermill": {
          "duration": 0.050864,
          "end_time": "2022-08-10T16:01:30.300727",
          "exception": false,
          "start_time": "2022-08-10T16:01:30.249863",
          "status": "completed"
        },
        "tags": []
      },
      "source": [
        "> Note: in SAX, a better name for `\"component\"` in the instance definition would probably be `\"model\"` or `\"model_name\"`. However we chose `\"component\"` here to have a 1-to-1 map between SAX netlists and GDSFactory netlists."
      ]
    },
    {
      "cell_type": "markdown",
      "id": "365559c3",
      "metadata": {
        "papermill": {
          "duration": 0.050795,
          "end_time": "2022-08-10T16:01:30.402872",
          "exception": false,
          "start_time": "2022-08-10T16:01:30.352077",
          "status": "completed"
        },
        "tags": []
      },
      "source": [
        "### GeneralInstance"
      ]
    },
    {
      "cell_type": "markdown",
      "id": "5249fc0f",
      "metadata": {
        "papermill": {
          "duration": 0.051318,
          "end_time": "2022-08-10T16:01:30.505474",
          "exception": false,
          "start_time": "2022-08-10T16:01:30.454156",
          "status": "completed"
        },
        "tags": []
      },
      "source": [
        "A general instance can be any of the following (`LogicalNetlist` and `Netlist` will be defined below):"
      ]
    },
    {
      "cell_type": "code",
      "execution_count": 23,
      "id": "00dc8eb92788e5c2",
      "metadata": {
        "execution": {
          "iopub.execute_input": "2022-08-10T16:01:30.612439Z",
          "iopub.status.busy": "2022-08-10T16:01:30.611775Z",
          "iopub.status.idle": "2022-08-10T16:01:30.613213Z",
          "shell.execute_reply": "2022-08-10T16:01:30.613575Z"
        },
        "papermill": {
          "duration": 0.056777,
          "end_time": "2022-08-10T16:01:30.613706",
          "exception": false,
          "start_time": "2022-08-10T16:01:30.556929",
          "status": "completed"
        },
        "tags": []
      },
      "outputs": [],
      "source": [
        "GeneralInstance = Union[str, Instance, \"LogicalNetlist\", \"Netlist\"]"
      ]
    },
    {
      "cell_type": "markdown",
      "id": "04a5992a",
      "metadata": {
        "papermill": {
          "duration": 0.050851,
          "end_time": "2022-08-10T16:01:30.715869",
          "exception": false,
          "start_time": "2022-08-10T16:01:30.665018",
          "status": "completed"
        },
        "tags": []
      },
      "source": [
        "> For example, this is allowed:"
      ]
    },
    {
      "cell_type": "code",
      "execution_count": 24,
      "id": "6ef6d5ee",
      "metadata": {
        "execution": {
          "iopub.execute_input": "2022-08-10T16:01:30.822359Z",
          "iopub.status.busy": "2022-08-10T16:01:30.821919Z",
          "iopub.status.idle": "2022-08-10T16:01:30.823565Z",
          "shell.execute_reply": "2022-08-10T16:01:30.823219Z"
        },
        "papermill": {
          "duration": 0.056956,
          "end_time": "2022-08-10T16:01:30.823688",
          "exception": false,
          "start_time": "2022-08-10T16:01:30.766732",
          "status": "completed"
        },
        "tags": []
      },
      "outputs": [],
      "source": [
        "inst: GeneralInstance = \"my_component_model\"\n",
        "inst: GeneralInstance = {\n",
        "    \"component\": \"my_component_model\",\n",
        "    \"settings\": {},\n",
        "}"
      ]
    },
    {
      "cell_type": "markdown",
      "id": "8af40281",
      "metadata": {
        "papermill": {
          "duration": 0.050661,
          "end_time": "2022-08-10T16:01:30.924946",
          "exception": false,
          "start_time": "2022-08-10T16:01:30.874285",
          "status": "completed"
        },
        "tags": []
      },
      "source": [
        "> ... and this is not (will be flagged by a static type checker like pyright or mypy):"
      ]
    },
    {
      "cell_type": "code",
      "execution_count": 25,
      "id": "c13fc4d7",
      "metadata": {
        "execution": {
          "iopub.execute_input": "2022-08-10T16:01:31.031771Z",
          "iopub.status.busy": "2022-08-10T16:01:31.031312Z",
          "iopub.status.idle": "2022-08-10T16:01:31.032671Z",
          "shell.execute_reply": "2022-08-10T16:01:31.033004Z"
        },
        "papermill": {
          "duration": 0.056413,
          "end_time": "2022-08-10T16:01:31.033136",
          "exception": false,
          "start_time": "2022-08-10T16:01:30.976723",
          "status": "completed"
        },
        "tags": []
      },
      "outputs": [],
      "source": [
        "inst: GeneralInstance = {\n",
        "    \"component\": \"my_component_model\",\n",
        "    \"settings\": {},\n",
        "    \"extra_arg\": \"invalid\",\n",
        "}"
      ]
    },
    {
      "cell_type": "markdown",
      "id": "cf9fd876",
      "metadata": {
        "papermill": {
          "duration": 0.050867,
          "end_time": "2022-08-10T16:01:31.135195",
          "exception": false,
          "start_time": "2022-08-10T16:01:31.084328",
          "status": "completed"
        },
        "tags": []
      },
      "source": [
        "### Instances"
      ]
    },
    {
      "cell_type": "markdown",
      "id": "a9aad796",
      "metadata": {
        "papermill": {
          "duration": 0.051197,
          "end_time": "2022-08-10T16:01:31.237828",
          "exception": false,
          "start_time": "2022-08-10T16:01:31.186631",
          "status": "completed"
        },
        "tags": []
      },
      "source": [
        "`Instances` is a mapping from instance names [`str`] to a `GeneralInstance`:"
      ]
    },
    {
      "cell_type": "code",
      "execution_count": 26,
      "id": "266cf09c4e28822b",
      "metadata": {
        "execution": {
          "iopub.execute_input": "2022-08-10T16:01:31.344858Z",
          "iopub.status.busy": "2022-08-10T16:01:31.344419Z",
          "iopub.status.idle": "2022-08-10T16:01:31.347023Z",
          "shell.execute_reply": "2022-08-10T16:01:31.347336Z"
        },
        "papermill": {
          "duration": 0.05818,
          "end_time": "2022-08-10T16:01:31.347472",
          "exception": false,
          "start_time": "2022-08-10T16:01:31.289292",
          "status": "completed"
        },
        "tags": []
      },
      "outputs": [],
      "source": [
        "Instances = Union[Dict[str, str], Dict[str, GeneralInstance]]"
      ]
    },
    {
      "cell_type": "markdown",
      "id": "0f292b1f",
      "metadata": {
        "papermill": {
          "duration": 0.050969,
          "end_time": "2022-08-10T16:01:31.449823",
          "exception": false,
          "start_time": "2022-08-10T16:01:31.398854",
          "status": "completed"
        },
        "tags": []
      },
      "source": [
        "### Netlist"
      ]
    },
    {
      "cell_type": "markdown",
      "id": "7b85ab37",
      "metadata": {
        "papermill": {
          "duration": 0.051696,
          "end_time": "2022-08-10T16:01:31.553038",
          "exception": false,
          "start_time": "2022-08-10T16:01:31.501342",
          "status": "completed"
        },
        "tags": []
      },
      "source": [
        "a `Netlist` is a collection of `\"instances\"`, `\"connections\"` and `\"ports\"`:"
      ]
    },
    {
      "cell_type": "code",
      "execution_count": 27,
      "id": "e7fb2cb723c12590",
      "metadata": {
        "execution": {
          "iopub.execute_input": "2022-08-10T16:01:31.660726Z",
          "iopub.status.busy": "2022-08-10T16:01:31.660207Z",
          "iopub.status.idle": "2022-08-10T16:01:31.661733Z",
          "shell.execute_reply": "2022-08-10T16:01:31.662083Z"
        },
        "papermill": {
          "duration": 0.057115,
          "end_time": "2022-08-10T16:01:31.662228",
          "exception": false,
          "start_time": "2022-08-10T16:01:31.605113",
          "status": "completed"
        },
        "tags": []
      },
      "outputs": [],
      "source": [
        "\n",
        "Netlist = TypedDict(\n",
        "    \"Netlist\",\n",
        "    {\n",
        "        \"instances\": Instances,\n",
        "        \"connections\": Dict[str, str],\n",
        "        \"ports\": Dict[str, str],\n",
        "    },\n",
        ")"
      ]
    },
    {
      "cell_type": "markdown",
      "id": "d12f61a8",
      "metadata": {
        "papermill": {
          "duration": 0.051351,
          "end_time": "2022-08-10T16:01:31.765049",
          "exception": false,
          "start_time": "2022-08-10T16:01:31.713698",
          "status": "completed"
        },
        "tags": []
      },
      "source": [
        "> Example:"
      ]
    },
    {
      "cell_type": "code",
      "execution_count": 28,
      "id": "877d1151",
      "metadata": {
        "execution": {
          "iopub.execute_input": "2022-08-10T16:01:31.874572Z",
          "iopub.status.busy": "2022-08-10T16:01:31.874120Z",
          "iopub.status.idle": "2022-08-10T16:01:31.875774Z",
          "shell.execute_reply": "2022-08-10T16:01:31.876170Z"
        },
        "papermill": {
          "duration": 0.060037,
          "end_time": "2022-08-10T16:01:31.876306",
          "exception": false,
          "start_time": "2022-08-10T16:01:31.816269",
          "status": "completed"
        },
        "tags": []
      },
      "outputs": [],
      "source": [
        "mzi_netlist: Netlist = {\n",
        "    \"instances\": {\n",
        "    \"lft\": \"mmi1x2\",  # shorthand if no settings need to be given\n",
        "        \"top\": {  # full instance definition\n",
        "            \"component\": \"waveguide\",\n",
        "            \"settings\": {\n",
        "                \"length\": 100.0,\n",
        "            },\n",
        "        },\n",
        "        \"rgt\": \"mmi2x2\",  # shorthand if no settings need to be given\n",
        "    },\n",
        "    \"connections\": {\n",
        "        \"lft,out0\": \"top,in0\",\n",
        "        \"top,out0\": \"rgt,in0\",\n",
        "        \"top,out1\": \"rgt,in1\",\n",
        "    },\n",
        "    \"ports\": {\n",
        "        \"in0\": \"lft,in0\",\n",
        "        \"out0\": \"rgt,out0\",\n",
        "        \"out1\": \"rgt,out1\",\n",
        "    },\n",
        "}"
      ]
    },
    {
      "cell_type": "markdown",
      "id": "613b0f22",
      "metadata": {
        "papermill": {
          "duration": 0.051092,
          "end_time": "2022-08-10T16:01:31.979080",
          "exception": false,
          "start_time": "2022-08-10T16:01:31.927988",
          "status": "completed"
        },
        "tags": []
      },
      "source": [
        "### LogicalNetlist"
      ]
    },
    {
      "cell_type": "markdown",
      "id": "f8cb7e75",
      "metadata": {
        "papermill": {
          "duration": 0.052287,
          "end_time": "2022-08-10T16:01:32.082629",
          "exception": false,
          "start_time": "2022-08-10T16:01:32.030342",
          "status": "completed"
        },
        "tags": []
      },
      "source": [
        "a `LogicalNetlist` is a subset of the more general `Netlist`.  It only contains the logical connections and instance names. Not the actual instances. This data structure is mostly used for internal use only."
      ]
    },
    {
      "cell_type": "code",
      "execution_count": 29,
      "id": "7081afcd25743f81",
      "metadata": {
        "execution": {
          "iopub.execute_input": "2022-08-10T16:01:32.191196Z",
          "iopub.status.busy": "2022-08-10T16:01:32.190725Z",
          "iopub.status.idle": "2022-08-10T16:01:32.192725Z",
          "shell.execute_reply": "2022-08-10T16:01:32.192353Z"
        },
        "papermill": {
          "duration": 0.059051,
          "end_time": "2022-08-10T16:01:32.192828",
          "exception": false,
          "start_time": "2022-08-10T16:01:32.133777",
          "status": "completed"
        },
        "tags": []
      },
      "outputs": [],
      "source": [
        "\n",
        "LogicalNetlist = TypedDict(\n",
        "    \"LogicalNetlist\",\n",
        "    {\n",
        "        \"instances\": Dict[str, str],\n",
        "        \"connections\": Dict[str, str],\n",
        "        \"ports\": Dict[str, str],\n",
        "    },\n",
        ")"
      ]
    },
    {
      "cell_type": "markdown",
      "id": "3468d6a1",
      "metadata": {
        "papermill": {
          "duration": 0.051985,
          "end_time": "2022-08-10T16:01:32.296619",
          "exception": false,
          "start_time": "2022-08-10T16:01:32.244634",
          "status": "completed"
        },
        "tags": []
      },
      "source": [
        "> Example:"
      ]
    },
    {
      "cell_type": "code",
      "execution_count": 30,
      "id": "ab67ad41",
      "metadata": {
        "execution": {
          "iopub.execute_input": "2022-08-10T16:01:32.406913Z",
          "iopub.status.busy": "2022-08-10T16:01:32.406349Z",
          "iopub.status.idle": "2022-08-10T16:01:32.407535Z",
          "shell.execute_reply": "2022-08-10T16:01:32.407967Z"
        },
        "papermill": {
          "duration": 0.059061,
          "end_time": "2022-08-10T16:01:32.408104",
          "exception": false,
          "start_time": "2022-08-10T16:01:32.349043",
          "status": "completed"
        },
        "tags": []
      },
      "outputs": [],
      "source": [
        "mzi_logical_netlist: Netlist = {\n",
        "    \"instances\": {\n",
        "        \"lft\": \"mmi1x2\",\n",
        "        \"top\": \"waveguide\",\n",
        "        \"rgt\": \"mmi2x2\",\n",
        "    },\n",
        "    \"connections\": {\n",
        "        \"lft,out0\": \"top,in0\",\n",
        "        \"top,out0\": \"rgt,in0\",\n",
        "        \"top,out1\": \"rgt,in1\",\n",
        "    },\n",
        "    \"ports\": {\n",
        "        \"in0\": \"lft,in0\",\n",
        "        \"out0\": \"rgt,out0\",\n",
        "        \"out1\": \"rgt,out1\",\n",
        "    },\n",
        "}"
      ]
    },
    {
      "cell_type": "markdown",
      "id": "dbcb4447",
      "metadata": {
        "papermill": {
          "duration": 0.051815,
          "end_time": "2022-08-10T16:01:32.511886",
          "exception": false,
          "start_time": "2022-08-10T16:01:32.460071",
          "status": "completed"
        },
        "tags": []
      },
      "source": [
        "## Validation and runtime type-checking:"
      ]
    },
    {
      "cell_type": "markdown",
      "id": "6e4c44aa",
      "metadata": {
        "papermill": {
          "duration": 0.051102,
          "end_time": "2022-08-10T16:01:32.614428",
          "exception": false,
          "start_time": "2022-08-10T16:01:32.563326",
          "status": "completed"
        },
        "tags": []
      },
      "source": [
        "> Note: the type-checking functions below are **NOT** very tight and hence should be used within the right context!"
      ]
    },
    {
      "cell_type": "markdown",
      "id": "8ac5b98a414ec99c",
      "metadata": {},
      "source": [
        ":::{eval-rst}\n",
        ".. autofunction:: sax.typing_.is_float\n",
        ":::\n"
      ]
    },
    {
      "cell_type": "code",
      "execution_count": 31,
      "id": "b2175db1b5988812",
      "metadata": {
        "execution": {
          "iopub.execute_input": "2022-08-10T16:01:32.721560Z",
          "iopub.status.busy": "2022-08-10T16:01:32.721127Z",
          "iopub.status.idle": "2022-08-10T16:01:32.725550Z",
          "shell.execute_reply": "2022-08-10T16:01:32.725951Z"
        },
        "papermill": {
          "duration": 0.058531,
          "end_time": "2022-08-10T16:01:32.726099",
          "exception": false,
          "start_time": "2022-08-10T16:01:32.667568",
          "status": "completed"
        },
        "tags": [
          "hide-input"
        ]
      },
      "outputs": [],
      "source": [
        "def is_float(x: Any) -> bool:\n",
        "    \"\"\"Check if an object is a `Float`\"\"\"\n",
        "    if isinstance(x, float):\n",
        "        return True\n",
        "    if isinstance(x, np.ndarray):\n",
        "        return x.dtype in (np.float16, np.float32, np.float64, np.float128)\n",
        "    if isinstance(x, jnp.ndarray):\n",
        "        return x.dtype in (jnp.float16, jnp.float32, jnp.float64)\n",
        "    return False"
      ]
    },
    {
      "cell_type": "code",
      "execution_count": 32,
      "id": "28374448",
      "metadata": {
        "execution": {
          "iopub.execute_input": "2022-08-10T16:01:32.833934Z",
          "iopub.status.busy": "2022-08-10T16:01:32.833502Z",
          "iopub.status.idle": "2022-08-10T16:01:32.837812Z",
          "shell.execute_reply": "2022-08-10T16:01:32.838213Z"
        },
        "papermill": {
          "duration": 0.060654,
          "end_time": "2022-08-10T16:01:32.838338",
          "exception": false,
          "start_time": "2022-08-10T16:01:32.777684",
          "status": "completed"
        },
        "tags": []
      },
      "outputs": [],
      "source": [
        "assert is_float(3.0)\n",
        "assert not is_float(3)\n",
        "assert not is_float(3.0 + 2j)\n",
        "assert not is_float(jnp.array(3.0, dtype=complex))\n",
        "assert not is_float(jnp.array(3, dtype=int))"
      ]
    },
    {
      "cell_type": "markdown",
      "id": "4383de3aa1f2be32",
      "metadata": {},
      "source": [
        ":::{eval-rst}\n",
        ".. autofunction:: sax.typing_.is_complex\n",
        ":::\n"
      ]
    },
    {
      "cell_type": "code",
      "execution_count": 33,
      "id": "eb91997bd7800bbc",
      "metadata": {
        "execution": {
          "iopub.execute_input": "2022-08-10T16:01:32.946752Z",
          "iopub.status.busy": "2022-08-10T16:01:32.946322Z",
          "iopub.status.idle": "2022-08-10T16:01:32.948116Z",
          "shell.execute_reply": "2022-08-10T16:01:32.947744Z"
        },
        "papermill": {
          "duration": 0.058258,
          "end_time": "2022-08-10T16:01:32.948215",
          "exception": false,
          "start_time": "2022-08-10T16:01:32.889957",
          "status": "completed"
        },
        "tags": [
          "hide-input"
        ]
      },
      "outputs": [],
      "source": [
        "def is_complex(x: Any) -> bool:\n",
        "    \"\"\"check if an object is a `ComplexFloat`\"\"\"\n",
        "    if isinstance(x, complex):\n",
        "        return True\n",
        "    if isinstance(x, np.ndarray):\n",
        "        return x.dtype in (np.complex64, np.complex128)\n",
        "    if isinstance(x, jnp.ndarray):\n",
        "        return x.dtype in (jnp.complex64, jnp.complex128)\n",
        "    return False"
      ]
    },
    {
      "cell_type": "code",
      "execution_count": 34,
      "id": "d81a703d",
      "metadata": {
        "execution": {
          "iopub.execute_input": "2022-08-10T16:01:33.055656Z",
          "iopub.status.busy": "2022-08-10T16:01:33.055237Z",
          "iopub.status.idle": "2022-08-10T16:01:33.056985Z",
          "shell.execute_reply": "2022-08-10T16:01:33.056626Z"
        },
        "papermill": {
          "duration": 0.057588,
          "end_time": "2022-08-10T16:01:33.057079",
          "exception": false,
          "start_time": "2022-08-10T16:01:32.999491",
          "status": "completed"
        },
        "tags": []
      },
      "outputs": [],
      "source": [
        "assert not is_complex(3.0)\n",
        "assert not is_complex(3)\n",
        "assert is_complex(3.0 + 2j)\n",
        "assert is_complex(jnp.array(3.0, dtype=complex))\n",
        "assert not is_complex(jnp.array(3, dtype=int))"
      ]
    },
    {
      "cell_type": "markdown",
      "id": "bbb2d4330b546447",
      "metadata": {},
      "source": [
        ":::{eval-rst}\n",
        ".. autofunction:: sax.typing_.is_complex_float\n",
        ":::\n"
      ]
    },
    {
      "cell_type": "code",
      "execution_count": 35,
      "id": "cafa0d9c2fcb414b",
      "metadata": {
        "execution": {
          "iopub.execute_input": "2022-08-10T16:01:33.164798Z",
          "iopub.status.busy": "2022-08-10T16:01:33.164372Z",
          "iopub.status.idle": "2022-08-10T16:01:33.165654Z",
          "shell.execute_reply": "2022-08-10T16:01:33.165991Z"
        },
        "papermill": {
          "duration": 0.057194,
          "end_time": "2022-08-10T16:01:33.166106",
          "exception": false,
          "start_time": "2022-08-10T16:01:33.108912",
          "status": "completed"
        },
        "tags": [
          "hide-input"
        ]
      },
      "outputs": [],
      "source": [
        "def is_complex_float(x: Any) -> bool:\n",
        "    \"\"\"check if an object is either a `ComplexFloat` or a `Float`\"\"\"\n",
        "    return is_float(x) or is_complex(x)"
      ]
    },
    {
      "cell_type": "code",
      "execution_count": 36,
      "id": "c533ff0d",
      "metadata": {
        "execution": {
          "iopub.execute_input": "2022-08-10T16:01:33.274468Z",
          "iopub.status.busy": "2022-08-10T16:01:33.274028Z",
          "iopub.status.idle": "2022-08-10T16:01:33.275711Z",
          "shell.execute_reply": "2022-08-10T16:01:33.275343Z"
        },
        "papermill": {
          "duration": 0.058175,
          "end_time": "2022-08-10T16:01:33.275819",
          "exception": false,
          "start_time": "2022-08-10T16:01:33.217644",
          "status": "completed"
        },
        "tags": []
      },
      "outputs": [],
      "source": [
        "assert is_complex_float(3.0)\n",
        "assert not is_complex_float(3)\n",
        "assert is_complex_float(3.0 + 2j)\n",
        "assert is_complex_float(jnp.array(3.0, dtype=complex))\n",
        "assert not is_complex_float(jnp.array(3, dtype=int))"
      ]
    },
    {
      "cell_type": "markdown",
      "id": "517b7afb65a0a0fe",
      "metadata": {},
      "source": [
        ":::{eval-rst}\n",
        ".. autofunction:: sax.typing_.is_sdict\n",
        ":::\n"
      ]
    },
    {
      "cell_type": "code",
      "execution_count": 37,
      "id": "e9b83fb36c972df1",
      "metadata": {
        "execution": {
          "iopub.execute_input": "2022-08-10T16:01:33.383885Z",
          "iopub.status.busy": "2022-08-10T16:01:33.383413Z",
          "iopub.status.idle": "2022-08-10T16:01:33.385109Z",
          "shell.execute_reply": "2022-08-10T16:01:33.384759Z"
        },
        "papermill": {
          "duration": 0.057481,
          "end_time": "2022-08-10T16:01:33.385213",
          "exception": false,
          "start_time": "2022-08-10T16:01:33.327732",
          "status": "completed"
        },
        "tags": [
          "hide-input"
        ]
      },
      "outputs": [],
      "source": [
        "def is_sdict(x: Any) -> bool:\n",
        "    \"\"\"check if an object is an `SDict` (a SAX S-dictionary)\"\"\"\n",
        "    return isinstance(x, dict)"
      ]
    },
    {
      "cell_type": "code",
      "execution_count": 38,
      "id": "cb0365dc",
      "metadata": {
        "execution": {
          "iopub.execute_input": "2022-08-10T16:01:33.494723Z",
          "iopub.status.busy": "2022-08-10T16:01:33.494275Z",
          "iopub.status.idle": "2022-08-10T16:01:33.495885Z",
          "shell.execute_reply": "2022-08-10T16:01:33.495431Z"
        },
        "papermill": {
          "duration": 0.058138,
          "end_time": "2022-08-10T16:01:33.495993",
          "exception": false,
          "start_time": "2022-08-10T16:01:33.437855",
          "status": "completed"
        },
        "tags": []
      },
      "outputs": [],
      "source": [
        "assert not is_sdict(object())\n",
        "assert is_sdict(_sdict)\n",
        "assert not is_sdict(_scoo)\n",
        "assert not is_sdict(_sdense)"
      ]
    },
    {
      "cell_type": "markdown",
      "id": "d9ab3ef0215717dc",
      "metadata": {},
      "source": [
        ":::{eval-rst}\n",
        ".. autofunction:: sax.typing_.is_scoo\n",
        ":::\n"
      ]
    },
    {
      "cell_type": "code",
      "execution_count": 39,
      "id": "f79e9120bc8bb201",
      "metadata": {
        "execution": {
          "iopub.execute_input": "2022-08-10T16:01:33.604978Z",
          "iopub.status.busy": "2022-08-10T16:01:33.604520Z",
          "iopub.status.idle": "2022-08-10T16:01:33.606605Z",
          "shell.execute_reply": "2022-08-10T16:01:33.606238Z"
        },
        "papermill": {
          "duration": 0.058497,
          "end_time": "2022-08-10T16:01:33.606704",
          "exception": false,
          "start_time": "2022-08-10T16:01:33.548207",
          "status": "completed"
        },
        "tags": [
          "hide-input"
        ]
      },
      "outputs": [],
      "source": [
        "def is_scoo(x: Any) -> bool:\n",
        "    \"\"\"check if an object is an `SCoo` (a SAX sparse S-matrix representation in COO-format)\"\"\"\n",
        "    return isinstance(x, (tuple, list)) and len(x) == 4"
      ]
    },
    {
      "cell_type": "code",
      "execution_count": 40,
      "id": "9ea0239a",
      "metadata": {
        "execution": {
          "iopub.execute_input": "2022-08-10T16:01:33.715071Z",
          "iopub.status.busy": "2022-08-10T16:01:33.714646Z",
          "iopub.status.idle": "2022-08-10T16:01:33.716275Z",
          "shell.execute_reply": "2022-08-10T16:01:33.716607Z"
        },
        "papermill": {
          "duration": 0.057983,
          "end_time": "2022-08-10T16:01:33.716738",
          "exception": false,
          "start_time": "2022-08-10T16:01:33.658755",
          "status": "completed"
        },
        "tags": []
      },
      "outputs": [],
      "source": [
        "assert not is_scoo(object)\n",
        "assert not is_scoo(_sdict)\n",
        "assert is_scoo(_scoo)\n",
        "assert not is_scoo(_sdense)"
      ]
    },
    {
      "cell_type": "markdown",
      "id": "18ffc8e6b21f2af6",
      "metadata": {},
      "source": [
        ":::{eval-rst}\n",
        ".. autofunction:: sax.typing_.is_sdense\n",
        ":::\n"
      ]
    },
    {
      "cell_type": "code",
      "execution_count": 41,
      "id": "323a4d4fc65abb6e",
      "metadata": {
        "execution": {
          "iopub.execute_input": "2022-08-10T16:01:33.825018Z",
          "iopub.status.busy": "2022-08-10T16:01:33.824590Z",
          "iopub.status.idle": "2022-08-10T16:01:33.828168Z",
          "shell.execute_reply": "2022-08-10T16:01:33.827813Z"
        },
        "papermill": {
          "duration": 0.05818,
          "end_time": "2022-08-10T16:01:33.828271",
          "exception": false,
          "start_time": "2022-08-10T16:01:33.770091",
          "status": "completed"
        },
        "tags": [
          "hide-input"
        ]
      },
      "outputs": [],
      "source": [
        "def is_sdense(x: Any) -> bool:\n",
        "    \"\"\"check if an object is an `SDense` (a SAX dense S-matrix representation)\"\"\"\n",
        "    return isinstance(x, (tuple, list)) and len(x) == 2"
      ]
    },
    {
      "cell_type": "code",
      "execution_count": 42,
      "id": "2eddd63a",
      "metadata": {
        "execution": {
          "iopub.execute_input": "2022-08-10T16:01:33.938314Z",
          "iopub.status.busy": "2022-08-10T16:01:33.937873Z",
          "iopub.status.idle": "2022-08-10T16:01:33.939061Z",
          "shell.execute_reply": "2022-08-10T16:01:33.939392Z"
        },
        "papermill": {
          "duration": 0.058332,
          "end_time": "2022-08-10T16:01:33.939521",
          "exception": false,
          "start_time": "2022-08-10T16:01:33.881189",
          "status": "completed"
        },
        "tags": []
      },
      "outputs": [],
      "source": [
        "assert not is_sdense(object)\n",
        "assert not is_sdense(_sdict)\n",
        "assert not is_sdense(_scoo)\n",
        "assert is_sdense(_sdense)"
      ]
    },
    {
      "cell_type": "markdown",
      "id": "3ecb043d27e1aae3",
      "metadata": {},
      "source": [
        ":::{eval-rst}\n",
        ".. autofunction:: sax.typing_.is_model\n",
        ":::\n"
      ]
    },
    {
      "cell_type": "code",
      "execution_count": 43,
      "id": "adaaa419f7d9843d",
      "metadata": {
        "execution": {
          "iopub.execute_input": "2022-08-10T16:01:34.051763Z",
          "iopub.status.busy": "2022-08-10T16:01:34.051291Z",
          "iopub.status.idle": "2022-08-10T16:01:34.053026Z",
          "shell.execute_reply": "2022-08-10T16:01:34.052680Z"
        },
        "papermill": {
          "duration": 0.06055,
          "end_time": "2022-08-10T16:01:34.053131",
          "exception": false,
          "start_time": "2022-08-10T16:01:33.992581",
          "status": "completed"
        },
        "tags": [
          "hide-input"
        ]
      },
      "outputs": [],
      "source": [
        "def is_model(model: Any) -> bool:\n",
        "    \"\"\"check if a callable is a `Model` (a callable returning an `SType`)\"\"\"\n",
        "    if not callable(model):\n",
        "        return False\n",
        "    try:\n",
        "        sig = inspect.signature(model)\n",
        "    except ValueError:\n",
        "        return False\n",
        "    for param in sig.parameters.values():\n",
        "        if param.default is inspect.Parameter.empty:\n",
        "            return False  # a proper SAX model does not have any positional arguments.\n",
        "    if _is_callable_annotation(sig.return_annotation):  # model factory\n",
        "        return False\n",
        "    return True\n",
        "\n",
        "def _is_callable_annotation(annotation: Any) -> bool:\n",
        "    \"\"\"check if an annotation is `Callable`-like\"\"\"\n",
        "    if isinstance(annotation, str):\n",
        "        # happens when\n",
        "        # was imported at the top of the file...\n",
        "        return annotation.startswith(\"Callable\") or annotation.endswith(\"Model\")\n",
        "        # TODO: this is not a very robust check...\n",
        "    try:\n",
        "        return annotation.__origin__ == CallableABC\n",
        "    except AttributeError:\n",
        "        return False"
      ]
    },
    {
      "cell_type": "code",
      "execution_count": 44,
      "id": "e402122df273f0f3",
      "metadata": {
        "execution": {
          "iopub.execute_input": "2022-08-10T16:01:34.162953Z",
          "iopub.status.busy": "2022-08-10T16:01:34.162522Z",
          "iopub.status.idle": "2022-08-10T16:01:34.164463Z",
          "shell.execute_reply": "2022-08-10T16:01:34.164115Z"
        },
        "papermill": {
          "duration": 0.057938,
          "end_time": "2022-08-10T16:01:34.164565",
          "exception": false,
          "start_time": "2022-08-10T16:01:34.106627",
          "status": "completed"
        },
        "tags": [
          "remove-cell"
        ]
      },
      "outputs": [],
      "source": [
        "assert _is_callable_annotation(Callable)\n",
        "assert not _is_callable_annotation(SDict)"
      ]
    },
    {
      "cell_type": "code",
      "execution_count": 45,
      "id": "89bdb647",
      "metadata": {
        "execution": {
          "iopub.execute_input": "2022-08-10T16:01:34.278763Z",
          "iopub.status.busy": "2022-08-10T16:01:34.278306Z",
          "iopub.status.idle": "2022-08-10T16:01:34.289731Z",
          "shell.execute_reply": "2022-08-10T16:01:34.289349Z"
        },
        "papermill": {
          "duration": 0.072783,
          "end_time": "2022-08-10T16:01:34.289834",
          "exception": false,
          "start_time": "2022-08-10T16:01:34.217051",
          "status": "completed"
        },
        "tags": []
      },
      "outputs": [],
      "source": [
        "def good_model(x=jnp.array(3.0), y=jnp.array(4.0)) -> SDict:\n",
        "    return {(\"in0\", \"out0\"): jnp.array(3.0)}\n",
        "assert is_model(good_model)\n",
        "\n",
        "def bad_model(positional_argument, x=jnp.array(3.0), y=jnp.array(4.0)) -> SDict:\n",
        "    return {(\"in0\", \"out0\"): jnp.array(3.0)}\n",
        "assert not is_model(bad_model)"
      ]
    },
    {
      "cell_type": "markdown",
      "id": "eb2d2ea2ab8c0c43",
      "metadata": {},
      "source": [
        ":::{eval-rst}\n",
        ".. autofunction:: sax.typing_.is_model_factory\n",
        ":::\n"
      ]
    },
    {
      "cell_type": "code",
      "execution_count": 46,
      "id": "7664a27b2178cd8d",
      "metadata": {
        "execution": {
          "iopub.execute_input": "2022-08-10T16:01:34.400077Z",
          "iopub.status.busy": "2022-08-10T16:01:34.399614Z",
          "iopub.status.idle": "2022-08-10T16:01:34.400981Z",
          "shell.execute_reply": "2022-08-10T16:01:34.401287Z"
        },
        "papermill": {
          "duration": 0.058794,
          "end_time": "2022-08-10T16:01:34.401412",
          "exception": false,
          "start_time": "2022-08-10T16:01:34.342618",
          "status": "completed"
        },
        "tags": [
          "hide-input"
        ]
      },
      "outputs": [],
      "source": [
        "def is_model_factory(model: Any) -> bool:\n",
        "    \"\"\"check if a callable is a model function.\"\"\"\n",
        "    if not callable(model):\n",
        "        return False\n",
        "    sig = inspect.signature(model)\n",
        "    if _is_callable_annotation(sig.return_annotation):  # model factory\n",
        "        return True\n",
        "    return False"
      ]
    },
    {
      "cell_type": "markdown",
      "id": "1f9715ed",
      "metadata": {
        "papermill": {
          "duration": 0.052858,
          "end_time": "2022-08-10T16:01:34.507542",
          "exception": false,
          "start_time": "2022-08-10T16:01:34.454684",
          "status": "completed"
        },
        "tags": []
      },
      "source": [
        "> Note: For a `Callable` to be considered a `ModelFactory` in SAX, it **MUST** have a `Callable` or `Model` return annotation. Otherwise SAX will view it as a `Model` and things might break!"
      ]
    },
    {
      "cell_type": "code",
      "execution_count": 47,
      "id": "fe9cdff0",
      "metadata": {
        "execution": {
          "iopub.execute_input": "2022-08-10T16:01:34.624105Z",
          "iopub.status.busy": "2022-08-10T16:01:34.623617Z",
          "iopub.status.idle": "2022-08-10T16:01:34.624654Z",
          "shell.execute_reply": "2022-08-10T16:01:34.625047Z"
        },
        "papermill": {
          "duration": 0.063245,
          "end_time": "2022-08-10T16:01:34.625178",
          "exception": false,
          "start_time": "2022-08-10T16:01:34.561933",
          "status": "completed"
        },
        "tags": []
      },
      "outputs": [],
      "source": [
        "def func() -> Model:\n",
        "    ...\n",
        "    \n",
        "assert is_model_factory(func) # yes, we only check the annotation for now...\n",
        "\n",
        "def func():\n",
        "    ...\n",
        "    \n",
        "assert not is_model_factory(func) # yes, we only check the annotation for now..."
      ]
    },
    {
      "cell_type": "markdown",
      "id": "4451183e7196e9aa",
      "metadata": {},
      "source": [
        ":::{eval-rst}\n",
        ".. autofunction:: sax.typing_.validate_model\n",
        ":::\n"
      ]
    },
    {
      "cell_type": "code",
      "execution_count": 48,
      "id": "625a07f7140e5d97",
      "metadata": {
        "execution": {
          "iopub.execute_input": "2022-08-10T16:01:34.736648Z",
          "iopub.status.busy": "2022-08-10T16:01:34.736220Z",
          "iopub.status.idle": "2022-08-10T16:01:34.738196Z",
          "shell.execute_reply": "2022-08-10T16:01:34.737829Z"
        },
        "papermill": {
          "duration": 0.060164,
          "end_time": "2022-08-10T16:01:34.738294",
          "exception": false,
          "start_time": "2022-08-10T16:01:34.678130",
          "status": "completed"
        },
        "tags": [
          "hide-input"
        ]
      },
      "outputs": [],
      "source": [
        "def validate_model(model: Callable):\n",
        "    \"\"\"Validate the parameters of a model\"\"\"\n",
        "    positional_arguments = []\n",
        "    for param in inspect.signature(model).parameters.values():\n",
        "        if param.default is inspect.Parameter.empty:\n",
        "            positional_arguments.append(param.name)\n",
        "    if positional_arguments:\n",
        "        raise ValueError(\n",
        "            f\"model '{model}' takes positional arguments {', '.join(positional_arguments)} \"\n",
        "            \"and hence is not a valid SAX Model! A SAX model should ONLY take keyword arguments (or no arguments at all).\"\n",
        "        )"
      ]
    },
    {
      "cell_type": "code",
      "execution_count": 49,
      "id": "754399d5",
      "metadata": {
        "execution": {
          "iopub.execute_input": "2022-08-10T16:01:34.850812Z",
          "iopub.status.busy": "2022-08-10T16:01:34.850371Z",
          "iopub.status.idle": "2022-08-10T16:01:34.852213Z",
          "shell.execute_reply": "2022-08-10T16:01:34.852616Z"
        },
        "papermill": {
          "duration": 0.060609,
          "end_time": "2022-08-10T16:01:34.852743",
          "exception": false,
          "start_time": "2022-08-10T16:01:34.792134",
          "status": "completed"
        },
        "tags": []
      },
      "outputs": [],
      "source": [
        "def good_model(x=jnp.array(3.0), y=jnp.array(4.0)) -> SDict:\n",
        "    return {(\"in0\", \"out0\"): jnp.array(3.0)}\n",
        "\n",
        "\n",
        "assert validate_model(good_model) is None"
      ]
    },
    {
      "cell_type": "code",
      "execution_count": 50,
      "id": "181c72fa",
      "metadata": {
        "execution": {
          "iopub.execute_input": "2022-08-10T16:01:34.964556Z",
          "iopub.status.busy": "2022-08-10T16:01:34.963983Z",
          "iopub.status.idle": "2022-08-10T16:01:34.966474Z",
          "shell.execute_reply": "2022-08-10T16:01:34.966128Z"
        },
        "papermill": {
          "duration": 0.059939,
          "end_time": "2022-08-10T16:01:34.966574",
          "exception": false,
          "start_time": "2022-08-10T16:01:34.906635",
          "status": "completed"
        },
        "tags": []
      },
      "outputs": [],
      "source": [
        "def bad_model(positional_argument, x=jnp.array(3.0), y=jnp.array(4.0)) -> SDict:\n",
        "    return {(\"in0\", \"out0\"): jnp.array(3.0)}\n",
        "\n",
        "\n",
        "with raises(ValueError):\n",
        "    validate_model(bad_model)"
      ]
    },
    {
      "cell_type": "markdown",
      "id": "2ba68fbccaa30003",
      "metadata": {},
      "source": [
        ":::{eval-rst}\n",
        ".. autofunction:: sax.typing_.is_instance\n",
        ":::\n"
      ]
    },
    {
      "cell_type": "code",
      "execution_count": 51,
      "id": "6e668f4dc1b23f8b",
      "metadata": {
        "execution": {
          "iopub.execute_input": "2022-08-10T16:01:35.077734Z",
          "iopub.status.busy": "2022-08-10T16:01:35.077296Z",
          "iopub.status.idle": "2022-08-10T16:01:35.078562Z",
          "shell.execute_reply": "2022-08-10T16:01:35.078957Z"
        },
        "papermill": {
          "duration": 0.059006,
          "end_time": "2022-08-10T16:01:35.079086",
          "exception": false,
          "start_time": "2022-08-10T16:01:35.020080",
          "status": "completed"
        },
        "tags": [
          "hide-input"
        ]
      },
      "outputs": [],
      "source": [
        "def is_instance(instance: Any) -> bool:\n",
        "    \"\"\"check if a dictionary is an instance\"\"\"\n",
        "    if not isinstance(instance, dict):\n",
        "        return False\n",
        "    return \"component\" in instance"
      ]
    },
    {
      "cell_type": "markdown",
      "id": "f85d9d2b0cf9c9b4",
      "metadata": {},
      "source": [
        ":::{eval-rst}\n",
        ".. autofunction:: sax.typing_.is_netlist\n",
        ":::\n"
      ]
    },
    {
      "cell_type": "code",
      "execution_count": 52,
      "id": "e07f21dba4ab937b",
      "metadata": {
        "execution": {
          "iopub.execute_input": "2022-08-10T16:01:35.191309Z",
          "iopub.status.busy": "2022-08-10T16:01:35.190873Z",
          "iopub.status.idle": "2022-08-10T16:01:35.192158Z",
          "shell.execute_reply": "2022-08-10T16:01:35.192516Z"
        },
        "papermill": {
          "duration": 0.059923,
          "end_time": "2022-08-10T16:01:35.192644",
          "exception": false,
          "start_time": "2022-08-10T16:01:35.132721",
          "status": "completed"
        },
        "tags": [
          "hide-input"
        ]
      },
      "outputs": [],
      "source": [
        "def is_netlist(netlist: Any) -> bool:\n",
        "    \"\"\"check if a dictionary is a netlist\"\"\"\n",
        "    if not isinstance(netlist, dict):\n",
        "        return False\n",
        "    if not \"instances\" in netlist:\n",
        "        return False\n",
        "    if not \"connections\" in netlist:\n",
        "        return False\n",
        "    if not \"ports\" in netlist:\n",
        "        return False\n",
        "    return True"
      ]
    },
    {
      "cell_type": "markdown",
      "id": "3b24f84ea8cf3871",
      "metadata": {},
      "source": [
        ":::{eval-rst}\n",
        ".. autofunction:: sax.typing_.is_stype\n",
        ":::\n"
      ]
    },
    {
      "cell_type": "code",
      "execution_count": 53,
      "id": "962fbb67a359aed6",
      "metadata": {
        "execution": {
          "iopub.execute_input": "2022-08-10T16:01:35.303370Z",
          "iopub.status.busy": "2022-08-10T16:01:35.302928Z",
          "iopub.status.idle": "2022-08-10T16:01:35.304224Z",
          "shell.execute_reply": "2022-08-10T16:01:35.304580Z"
        },
        "papermill": {
          "duration": 0.058884,
          "end_time": "2022-08-10T16:01:35.304705",
          "exception": false,
          "start_time": "2022-08-10T16:01:35.245821",
          "status": "completed"
        },
        "tags": [
          "hide-input"
        ]
      },
      "outputs": [],
      "source": [
        "def is_stype(stype: Any) -> bool:\n",
        "    \"\"\"check if an object is an SDict, SCoo or SDense\"\"\"\n",
        "    return is_sdict(stype) or is_scoo(stype) or is_sdense(stype)"
      ]
    },
    {
      "cell_type": "markdown",
      "id": "b91a9daa0dcec848",
      "metadata": {},
      "source": [
        ":::{eval-rst}\n",
        ".. autofunction:: sax.typing_.is_singlemode\n",
        ":::\n"
      ]
    },
    {
      "cell_type": "code",
      "execution_count": 54,
      "id": "8cfa3e23dd1258f2",
      "metadata": {
        "execution": {
          "iopub.execute_input": "2022-08-10T16:01:35.417330Z",
          "iopub.status.busy": "2022-08-10T16:01:35.416893Z",
          "iopub.status.idle": "2022-08-10T16:01:35.418525Z",
          "shell.execute_reply": "2022-08-10T16:01:35.418158Z"
        },
        "papermill": {
          "duration": 0.060715,
          "end_time": "2022-08-10T16:01:35.418625",
          "exception": false,
          "start_time": "2022-08-10T16:01:35.357910",
          "status": "completed"
        },
        "tags": [
          "hide-input"
        ]
      },
      "outputs": [],
      "source": [
        "def is_singlemode(S: Any) -> bool:\n",
        "    \"\"\"check if an stype is single mode\"\"\"\n",
        "    if not is_stype(S):\n",
        "        return False\n",
        "    ports = _get_ports(S)\n",
        "    return not any((\"@\" in p) for p in ports)\n",
        "\n",
        "def _get_ports(S: SType):\n",
        "    if is_sdict(S):\n",
        "        S = cast(SDict, S)\n",
        "        ports_set = {p1 for p1, _ in S} | {p2 for _, p2 in S}\n",
        "        return tuple(natsorted(ports_set))\n",
        "    else:\n",
        "        *_, ports_map = S\n",
        "        assert isinstance(ports_map, dict)\n",
        "        return tuple(natsorted(ports_map.keys()))"
      ]
    },
    {
      "cell_type": "markdown",
      "id": "f8d3e36723bcf4fa",
      "metadata": {},
      "source": [
        ":::{eval-rst}\n",
        ".. autofunction:: sax.typing_.is_multimode\n",
        ":::\n"
      ]
    },
    {
      "cell_type": "code",
      "execution_count": 55,
      "id": "2bd3192c1cf14405",
      "metadata": {
        "execution": {
          "iopub.execute_input": "2022-08-10T16:01:35.529843Z",
          "iopub.status.busy": "2022-08-10T16:01:35.529412Z",
          "iopub.status.idle": "2022-08-10T16:01:35.530753Z",
          "shell.execute_reply": "2022-08-10T16:01:35.531105Z"
        },
        "papermill": {
          "duration": 0.059199,
          "end_time": "2022-08-10T16:01:35.531230",
          "exception": false,
          "start_time": "2022-08-10T16:01:35.472031",
          "status": "completed"
        },
        "tags": [
          "hide-input"
        ]
      },
      "outputs": [],
      "source": [
        "def is_multimode(S: Any) -> bool:\n",
        "    \"\"\"check if an stype is single mode\"\"\"\n",
        "    if not is_stype(S):\n",
        "        return False\n",
        "    \n",
        "    ports = _get_ports(S)\n",
        "    return all((\"@\" in p) for p in ports)"
      ]
    },
    {
      "cell_type": "markdown",
      "id": "abc09646896e9120",
      "metadata": {},
      "source": [
        ":::{eval-rst}\n",
        ".. autofunction:: sax.typing_.is_mixedmode\n",
        ":::\n"
      ]
    },
    {
      "cell_type": "code",
      "execution_count": 56,
      "id": "2732f078bb202596",
      "metadata": {
        "execution": {
          "iopub.execute_input": "2022-08-10T16:01:35.642380Z",
          "iopub.status.busy": "2022-08-10T16:01:35.641847Z",
          "iopub.status.idle": "2022-08-10T16:01:35.643539Z",
          "shell.execute_reply": "2022-08-10T16:01:35.643173Z"
        },
        "papermill": {
          "duration": 0.05894,
          "end_time": "2022-08-10T16:01:35.643637",
          "exception": false,
          "start_time": "2022-08-10T16:01:35.584697",
          "status": "completed"
        },
        "tags": [
          "hide-input"
        ]
      },
      "outputs": [],
      "source": [
        "def is_mixedmode(S: Any) -> bool:\n",
        "    \"\"\"check if an stype is neither single mode nor multimode (hence invalid)\"\"\"\n",
        "    return not is_singlemode(S) and not is_multimode(S)"
      ]
    },
    {
      "cell_type": "markdown",
      "id": "3afe685c",
      "metadata": {
        "papermill": {
          "duration": 0.053558,
          "end_time": "2022-08-10T16:01:35.750669",
          "exception": false,
          "start_time": "2022-08-10T16:01:35.697111",
          "status": "completed"
        },
        "tags": []
      },
      "source": [
        "## SAX return type helpers\n",
        "\n",
        "> a.k.a SDict, SDense, SCoo helpers"
      ]
    },
    {
      "cell_type": "markdown",
      "id": "a875f149",
      "metadata": {
        "papermill": {
          "duration": 0.053439,
          "end_time": "2022-08-10T16:01:35.857764",
          "exception": false,
          "start_time": "2022-08-10T16:01:35.804325",
          "status": "completed"
        },
        "tags": []
      },
      "source": [
        "Convert an `SDict`, `SCoo` or `SDense` into an `SDict` (or convert a model generating any of these types into a model generating an `SDict`):"
      ]
    },
    {
      "cell_type": "code",
      "execution_count": 57,
      "id": "bd0769d9027f98b4",
      "metadata": {
        "execution": {
          "iopub.execute_input": "2022-08-10T16:01:35.969831Z",
          "iopub.status.busy": "2022-08-10T16:01:35.969188Z",
          "iopub.status.idle": "2022-08-10T16:01:35.970503Z",
          "shell.execute_reply": "2022-08-10T16:01:35.970864Z"
        },
        "papermill": {
          "duration": 0.059459,
          "end_time": "2022-08-10T16:01:35.970987",
          "exception": false,
          "start_time": "2022-08-10T16:01:35.911528",
          "status": "completed"
        },
        "tags": [
          "remove-cell"
        ]
      },
      "outputs": [],
      "source": [
        "\n",
        "@overload\n",
        "def sdict(S: Model) -> Model:\n",
        "    ...\n",
        "\n",
        "\n",
        "@overload\n",
        "def sdict(S: SType) -> SDict:\n",
        "    ..."
      ]
    },
    {
      "cell_type": "markdown",
      "id": "787fffb67e974940",
      "metadata": {},
      "source": [
        ":::{eval-rst}\n",
        ".. autofunction:: sax.typing_.sdict\n",
        ":::\n"
      ]
    },
    {
      "cell_type": "code",
      "execution_count": 58,
      "id": "cadfd20cd09cada3",
      "metadata": {
        "execution": {
          "iopub.execute_input": "2022-08-10T16:01:36.088245Z",
          "iopub.status.busy": "2022-08-10T16:01:36.087804Z",
          "iopub.status.idle": "2022-08-10T16:01:36.089068Z",
          "shell.execute_reply": "2022-08-10T16:01:36.089458Z"
        },
        "papermill": {
          "duration": 0.064571,
          "end_time": "2022-08-10T16:01:36.089582",
          "exception": false,
          "start_time": "2022-08-10T16:01:36.025011",
          "status": "completed"
        },
        "tags": [
          "hide-input"
        ]
      },
      "outputs": [],
      "source": [
        "def sdict(S: Union[Model, SType]) -> Union[Model, SType]:\n",
        "    \"\"\"Convert an `SCoo` or `SDense` to `SDict`\"\"\"\n",
        "\n",
        "    if is_model(S):\n",
        "        model = cast(Model, S)\n",
        "\n",
        "        @functools.wraps(model)\n",
        "        def wrapper(**kwargs):\n",
        "            return sdict(model(**kwargs))\n",
        "\n",
        "        return wrapper\n",
        "\n",
        "    elif is_scoo(S):\n",
        "        x_dict = _scoo_to_sdict(*cast(SCoo, S))\n",
        "    elif is_sdense(S):\n",
        "        x_dict = _sdense_to_sdict(*cast(SDense, S))\n",
        "    elif is_sdict(S):\n",
        "        x_dict = cast(SDict, S)\n",
        "    else:\n",
        "        raise ValueError(\"Could not convert arguments to sdict.\")\n",
        "\n",
        "    return x_dict\n",
        "\n",
        "\n",
        "def _scoo_to_sdict(Si: Array, Sj: Array, Sx: Array, ports_map: Dict[str, int]) -> SDict:\n",
        "    sdict = {}\n",
        "    inverse_ports_map = {int(i): p for p, i in ports_map.items()}\n",
        "    for i, (si, sj) in enumerate(zip(Si, Sj)):\n",
        "        sdict[\n",
        "            inverse_ports_map.get(int(si), \"\"), inverse_ports_map.get(int(sj), \"\")\n",
        "        ] = Sx[..., i]\n",
        "    sdict = {(p1, p2): v for (p1, p2), v in sdict.items() if p1 and p2}\n",
        "    return sdict\n",
        "\n",
        "\n",
        "def _sdense_to_sdict(S: Array, ports_map: Dict[str, int]) -> SDict:\n",
        "    sdict = {}\n",
        "    for p1, i in ports_map.items():\n",
        "        for p2, j in ports_map.items():\n",
        "            sdict[p1, p2] = S[..., i, j]\n",
        "    return sdict"
      ]
    },
    {
      "cell_type": "code",
      "execution_count": 59,
      "id": "9a372fbf",
      "metadata": {
        "execution": {
          "iopub.execute_input": "2022-08-10T16:01:36.209576Z",
          "iopub.status.busy": "2022-08-10T16:01:36.205590Z",
          "iopub.status.idle": "2022-08-10T16:01:36.326031Z",
          "shell.execute_reply": "2022-08-10T16:01:36.325579Z"
        },
        "papermill": {
          "duration": 0.182347,
          "end_time": "2022-08-10T16:01:36.326146",
          "exception": false,
          "start_time": "2022-08-10T16:01:36.143799",
          "status": "completed"
        },
        "tags": []
      },
      "outputs": [],
      "source": [
        "assert sdict(_sdict) is _sdict\n",
        "assert sdict(_scoo) == {\n",
        "    (\"in0\", \"in0\"): 3.0,\n",
        "    (\"in1\", \"in0\"): 1.0,\n",
        "    (\"out0\", \"out0\"): 4.0,\n",
        "}\n",
        "assert sdict(_sdense) == {\n",
        "    (\"in0\", \"in0\"): 0.0,\n",
        "    (\"in0\", \"out0\"): 1.0,\n",
        "    (\"in0\", \"in1\"): 2.0,\n",
        "    (\"out0\", \"in0\"): 3.0,\n",
        "    (\"out0\", \"out0\"): 4.0,\n",
        "    (\"out0\", \"in1\"): 5.0,\n",
        "    (\"in1\", \"in0\"): 6.0,\n",
        "    (\"in1\", \"out0\"): 7.0,\n",
        "    (\"in1\", \"in1\"): 8.0,\n",
        "}"
      ]
    },
    {
      "cell_type": "markdown",
      "id": "492c5cdd",
      "metadata": {
        "papermill": {
          "duration": 0.053794,
          "end_time": "2022-08-10T16:01:36.435052",
          "exception": false,
          "start_time": "2022-08-10T16:01:36.381258",
          "status": "completed"
        },
        "tags": []
      },
      "source": [
        "Convert an `SDict`, `SCoo` or `SDense` into an `SCoo` (or convert a model generating any of these types into a model generating an `SCoo`):"
      ]
    },
    {
      "cell_type": "code",
      "execution_count": 60,
      "id": "a85a49ec5d93fee2",
      "metadata": {
        "execution": {
          "iopub.execute_input": "2022-08-10T16:01:36.547792Z",
          "iopub.status.busy": "2022-08-10T16:01:36.547334Z",
          "iopub.status.idle": "2022-08-10T16:01:36.549323Z",
          "shell.execute_reply": "2022-08-10T16:01:36.548975Z"
        },
        "papermill": {
          "duration": 0.060198,
          "end_time": "2022-08-10T16:01:36.549427",
          "exception": false,
          "start_time": "2022-08-10T16:01:36.489229",
          "status": "completed"
        },
        "tags": [
          "remove-cell"
        ]
      },
      "outputs": [],
      "source": [
        "\n",
        "@overload\n",
        "def scoo(S: Callable) -> Callable:\n",
        "    ...\n",
        "\n",
        "\n",
        "@overload\n",
        "def scoo(S: SType) -> SCoo:\n",
        "    ..."
      ]
    },
    {
      "cell_type": "markdown",
      "id": "875267a26475679b",
      "metadata": {},
      "source": [
        ":::{eval-rst}\n",
        ".. autofunction:: sax.typing_.scoo\n",
        ":::\n"
      ]
    },
    {
      "cell_type": "code",
      "execution_count": 61,
      "id": "e7fcc5eed04e8f6e",
      "metadata": {
        "execution": {
          "iopub.execute_input": "2022-08-10T16:01:36.667006Z",
          "iopub.status.busy": "2022-08-10T16:01:36.666566Z",
          "iopub.status.idle": "2022-08-10T16:01:36.668315Z",
          "shell.execute_reply": "2022-08-10T16:01:36.667835Z"
        },
        "papermill": {
          "duration": 0.065291,
          "end_time": "2022-08-10T16:01:36.668424",
          "exception": false,
          "start_time": "2022-08-10T16:01:36.603133",
          "status": "completed"
        },
        "tags": [
          "hide-input"
        ]
      },
      "outputs": [],
      "source": [
        "\n",
        "def scoo(S: Union[Callable, SType]) -> Union[Callable, SCoo]:\n",
        "    \"\"\"Convert an `SDict` or `SDense` to `SCoo`\"\"\"\n",
        "\n",
        "    if is_model(S):\n",
        "        model = cast(Model, S)\n",
        "\n",
        "        @functools.wraps(model)\n",
        "        def wrapper(**kwargs):\n",
        "            return scoo(model(**kwargs))\n",
        "\n",
        "        return wrapper\n",
        "\n",
        "    elif is_scoo(S):\n",
        "        S = cast(SCoo, S)\n",
        "    elif is_sdense(S):\n",
        "        S = _sdense_to_scoo(*cast(SDense, S))\n",
        "    elif is_sdict(S):\n",
        "        S = _sdict_to_scoo(cast(SDict, S))\n",
        "    else:\n",
        "        raise ValueError(\"Could not convert arguments to scoo.\")\n",
        "\n",
        "    return S\n",
        "\n",
        "\n",
        "def _sdense_to_scoo(S: Array, ports_map: Dict[str, int]) -> SCoo:\n",
        "    Sj, Si = jnp.meshgrid(jnp.arange(S.shape[-1]), jnp.arange(S.shape[-2]))\n",
        "    return Si.ravel(), Sj.ravel(), S.reshape(*S.shape[:-2], -1), ports_map\n",
        "\n",
        "\n",
        "def _sdict_to_scoo(sdict: SDict) -> SCoo:\n",
        "    all_ports = {}\n",
        "    for p1, p2 in sdict:\n",
        "        all_ports[p1] = None\n",
        "        all_ports[p2] = None\n",
        "    ports_map = {p: i for i, p in enumerate(all_ports)}\n",
        "    Sx = jnp.stack(jnp.broadcast_arrays(*sdict.values()), -1)\n",
        "    Si = jnp.array([ports_map[p] for p, _ in sdict])\n",
        "    Sj = jnp.array([ports_map[p] for _, p in sdict])\n",
        "    return Si, Sj, Sx, ports_map"
      ]
    },
    {
      "cell_type": "code",
      "execution_count": 62,
      "id": "1e97b31c",
      "metadata": {
        "execution": {
          "iopub.execute_input": "2022-08-10T16:01:36.788006Z",
          "iopub.status.busy": "2022-08-10T16:01:36.787529Z",
          "iopub.status.idle": "2022-08-10T16:01:36.874420Z",
          "shell.execute_reply": "2022-08-10T16:01:36.873964Z"
        },
        "papermill": {
          "duration": 0.151266,
          "end_time": "2022-08-10T16:01:36.874559",
          "exception": false,
          "start_time": "2022-08-10T16:01:36.723293",
          "status": "completed"
        },
        "tags": []
      },
      "outputs": [],
      "source": [
        "assert scoo(_scoo) is _scoo\n",
        "assert scoo(_sdict) == (0, 1, 3.0, {\"in0\": 0, \"out0\": 1})\n",
        "Si, Sj, Sx, port_map = scoo(_sdense)  # type: ignore\n",
        "np.testing.assert_array_equal(Si, jnp.array([0, 0, 0, 1, 1, 1, 2, 2, 2]))\n",
        "np.testing.assert_array_equal(Sj, jnp.array([0, 1, 2, 0, 1, 2, 0, 1, 2]))\n",
        "np.testing.assert_array_almost_equal(Sx, jnp.array([0.0, 1.0, 2.0, 3.0, 4.0, 5.0, 6.0, 7.0, 8.0]))\n",
        "assert port_map == {\"in0\": 0, \"in1\": 2, \"out0\": 1}"
      ]
    },
    {
      "cell_type": "markdown",
      "id": "5e58325b",
      "metadata": {
        "papermill": {
          "duration": 0.054266,
          "end_time": "2022-08-10T16:01:36.983916",
          "exception": false,
          "start_time": "2022-08-10T16:01:36.929650",
          "status": "completed"
        },
        "tags": []
      },
      "source": [
        "Convert an `SDict`, `SCoo` or `SDense` into an `SDense` (or convert a model generating any of these types into a model generating an `SDense`):"
      ]
    },
    {
      "cell_type": "code",
      "execution_count": 63,
      "id": "219371f478747d2b",
      "metadata": {
        "execution": {
          "iopub.execute_input": "2022-08-10T16:01:37.097049Z",
          "iopub.status.busy": "2022-08-10T16:01:37.096614Z",
          "iopub.status.idle": "2022-08-10T16:01:37.098476Z",
          "shell.execute_reply": "2022-08-10T16:01:37.098126Z"
        },
        "papermill": {
          "duration": 0.060382,
          "end_time": "2022-08-10T16:01:37.098580",
          "exception": false,
          "start_time": "2022-08-10T16:01:37.038198",
          "status": "completed"
        },
        "tags": [
          "remove-cell"
        ]
      },
      "outputs": [],
      "source": [
        "\n",
        "@overload\n",
        "def sdense(S: Callable) -> Callable:\n",
        "    ...\n",
        "\n",
        "\n",
        "@overload\n",
        "def sdense(S: SType) -> SDense:\n",
        "    ..."
      ]
    },
    {
      "cell_type": "markdown",
      "id": "51528641a23544e6",
      "metadata": {},
      "source": [
        ":::{eval-rst}\n",
        ".. autofunction:: sax.typing_.sdense\n",
        ":::\n"
      ]
    },
    {
      "cell_type": "code",
      "execution_count": 64,
      "id": "ce5a30a7703430ae",
      "metadata": {
        "execution": {
          "iopub.execute_input": "2022-08-10T16:01:37.215908Z",
          "iopub.status.busy": "2022-08-10T16:01:37.215431Z",
          "iopub.status.idle": "2022-08-10T16:01:37.216761Z",
          "shell.execute_reply": "2022-08-10T16:01:37.217067Z"
        },
        "papermill": {
          "duration": 0.063835,
          "end_time": "2022-08-10T16:01:37.217201",
          "exception": false,
          "start_time": "2022-08-10T16:01:37.153366",
          "status": "completed"
        },
        "tags": [
          "hide-input"
        ]
      },
      "outputs": [],
      "source": [
        "\n",
        "def sdense(S: Union[Callable, SType]) -> Union[Callable, SDense]:\n",
        "    \"\"\"Convert an `SDict` or `SCoo` to `SDense`\"\"\"\n",
        "\n",
        "    if is_model(S):\n",
        "        model = cast(Model, S)\n",
        "\n",
        "        @functools.wraps(model)\n",
        "        def wrapper(**kwargs):\n",
        "            return sdense(model(**kwargs))\n",
        "\n",
        "        return wrapper\n",
        "\n",
        "    if is_sdict(S):\n",
        "        S = _sdict_to_sdense(cast(SDict, S))\n",
        "    elif is_scoo(S):\n",
        "        S = _scoo_to_sdense(*cast(SCoo, S))\n",
        "    elif is_sdense(S):\n",
        "        S = cast(SDense, S)\n",
        "    else:\n",
        "        raise ValueError(\"Could not convert arguments to sdense.\")\n",
        "\n",
        "    return S\n",
        "\n",
        "\n",
        "def _scoo_to_sdense(\n",
        "    Si: Array, Sj: Array, Sx: Array, ports_map: Dict[str, int]\n",
        ") -> SDense:\n",
        "    n_col = len(ports_map)\n",
        "    S = jnp.zeros((*Sx.shape[:-1], n_col, n_col), dtype=complex)\n",
        "    if JAX_AVAILABLE:\n",
        "        S = S.at[..., Si, Sj].add(Sx)\n",
        "    else:\n",
        "        S[..., Si, Sj] = Sx\n",
        "    return S, ports_map\n",
        "\n",
        "def _sdict_to_sdense(sdict: SDict) -> SDense:\n",
        "    Si, Sj, Sx, ports_map = _sdict_to_scoo(sdict)\n",
        "    return _scoo_to_sdense(Si, Sj, Sx, ports_map)"
      ]
    },
    {
      "cell_type": "code",
      "execution_count": 65,
      "id": "084b7ddb",
      "metadata": {
        "execution": {
          "iopub.execute_input": "2022-08-10T16:01:37.336214Z",
          "iopub.status.busy": "2022-08-10T16:01:37.335755Z",
          "iopub.status.idle": "2022-08-10T16:01:37.461392Z",
          "shell.execute_reply": "2022-08-10T16:01:37.460970Z"
        },
        "papermill": {
          "duration": 0.189662,
          "end_time": "2022-08-10T16:01:37.461515",
          "exception": false,
          "start_time": "2022-08-10T16:01:37.271853",
          "status": "completed"
        },
        "tags": []
      },
      "outputs": [],
      "source": [
        "assert sdense(_sdense) is _sdense\n",
        "Sd, port_map = sdense(_scoo)  # type: ignore\n",
        "Sd_ = jnp.array([[3.0 + 0.0j, 0.0 + 0.0j, 0.0 + 0.0j],\n",
        "                 [0.0 + 0.0j, 4.0 + 0.0j, 0.0 + 0.0j],\n",
        "                 [1.0 + 0.0j, 0.0 + 0.0j, 0.0 + 0.0j]])\n",
        "\n",
        "np.testing.assert_array_almost_equal(Sd, Sd_)\n",
        "assert port_map == {\"in0\": 0, \"in1\": 2, \"out0\": 1}"
      ]
    },
    {
      "cell_type": "markdown",
      "id": "4346e5cdf24edf29",
      "metadata": {},
      "source": [
        ":::{eval-rst}\n",
        ".. autofunction:: sax.typing_.modelfactory\n",
        ":::\n"
      ]
    },
    {
      "cell_type": "code",
      "execution_count": 66,
      "id": "65e1c1b181fd4e0c",
      "metadata": {
        "execution": {
          "iopub.execute_input": "2022-08-10T16:01:37.577570Z",
          "iopub.status.busy": "2022-08-10T16:01:37.577130Z",
          "iopub.status.idle": "2022-08-10T16:01:37.578365Z",
          "shell.execute_reply": "2022-08-10T16:01:37.578769Z"
        },
        "papermill": {
          "duration": 0.062008,
          "end_time": "2022-08-10T16:01:37.578899",
          "exception": false,
          "start_time": "2022-08-10T16:01:37.516891",
          "status": "completed"
        },
        "tags": [
          "hide-input"
        ]
      },
      "outputs": [],
      "source": [
        "\n",
        "def modelfactory(func):\n",
        "    \"\"\"Decorator that marks a function as `ModelFactory`\"\"\"\n",
        "    sig = inspect.signature(func)\n",
        "    if _is_callable_annotation(sig.return_annotation):  # already model factory\n",
        "        return func\n",
        "    func.__signature__ = sig.replace(return_annotation=Model)\n",
        "    return func"
      ]
    }
  ],
  "metadata": {
    "kernelspec": {
      "display_name": "sax",
      "language": "python",
      "name": "sax"
    },
    "language_info": {
      "codemirror_mode": {
        "name": "ipython",
        "version": 3
      },
      "file_extension": ".py",
      "mimetype": "text/x-python",
      "name": "python",
      "nbconvert_exporter": "python",
      "pygments_lexer": "ipython3",
      "version": "3.9.0"
    },
    "papermill": {
      "default_parameters": {},
      "duration": 16.471436,
      "end_time": "2022-08-10T16:01:38.041692",
      "environment_variables": {},
      "exception": null,
      "input_path": "./nbs/00_typing.ipynb",
      "output_path": "./nbs/00_typing.ipynb",
      "parameters": {},
      "start_time": "2022-08-10T16:01:21.570256",
      "version": "2.3.4"
    }
  },
  "nbformat": 4,
  "nbformat_minor": 5
}
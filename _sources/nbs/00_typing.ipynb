{
  "cells": [
    {
      "cell_type": "code",
      "execution_count": 1,
      "id": "bc87bc5e3f7f1584",
      "metadata": {
        "execution": {
          "iopub.execute_input": "2022-08-04T04:32:41.239408Z",
          "iopub.status.busy": "2022-08-04T04:32:41.238931Z",
          "iopub.status.idle": "2022-08-04T04:32:41.242695Z",
          "shell.execute_reply": "2022-08-04T04:32:41.242270Z"
        },
        "papermill": {
          "duration": 0.061395,
          "end_time": "2022-08-04T04:32:41.242816",
          "exception": false,
          "start_time": "2022-08-04T04:32:41.181421",
          "status": "completed"
        },
        "tags": [
          "remove-cell"
        ]
      },
      "outputs": [],
      "source": []
    },
    {
      "cell_type": "markdown",
      "id": "13a3464b",
      "metadata": {
        "papermill": {
          "duration": 0.049632,
          "end_time": "2022-08-04T04:32:41.342060",
          "exception": false,
          "start_time": "2022-08-04T04:32:41.292428",
          "status": "completed"
        },
        "tags": []
      },
      "source": [
        "# Typing\n",
        "\n",
        "> SAX types"
      ]
    },
    {
      "cell_type": "code",
      "execution_count": 2,
      "id": "e08cede1300c360a",
      "metadata": {
        "execution": {
          "iopub.execute_input": "2022-08-04T04:32:41.451597Z",
          "iopub.status.busy": "2022-08-04T04:32:41.451151Z",
          "iopub.status.idle": "2022-08-04T04:32:42.151242Z",
          "shell.execute_reply": "2022-08-04T04:32:42.150771Z"
        },
        "papermill": {
          "duration": 0.759684,
          "end_time": "2022-08-04T04:32:42.151380",
          "exception": false,
          "start_time": "2022-08-04T04:32:41.391696",
          "status": "completed"
        },
        "tags": [
          "remove-cell"
        ]
      },
      "outputs": [],
      "source": [
        "import matplotlib.pyplot as plt\n",
        "from fastcore.test import test_eq\n",
        "from pytest import approx, raises\n",
        "\n",
        "import os, sys; sys.stderr = open(os.devnull, \"w\")"
      ]
    },
    {
      "cell_type": "code",
      "execution_count": 3,
      "id": "fbb89e74dfc8c845",
      "metadata": {
        "execution": {
          "iopub.execute_input": "2022-08-04T04:32:42.257388Z",
          "iopub.status.busy": "2022-08-04T04:32:42.256875Z",
          "iopub.status.idle": "2022-08-04T04:32:42.866930Z",
          "shell.execute_reply": "2022-08-04T04:32:42.866457Z"
        },
        "papermill": {
          "duration": 0.665481,
          "end_time": "2022-08-04T04:32:42.867070",
          "exception": false,
          "start_time": "2022-08-04T04:32:42.201589",
          "status": "completed"
        },
        "tags": [
          "hide-input"
        ]
      },
      "outputs": [],
      "source": [
        "from __future__ import annotations\n",
        "\n",
        "import functools\n",
        "import inspect\n",
        "from collections.abc import Callable as CallableABC\n",
        "from typing import Any, Callable, Dict, Tuple, Union, cast, overload\n",
        "try:\n",
        "    from typing import TypedDict\n",
        "except ImportError: # python<3.8\n",
        "    from typing_extensions import TypedDict\n",
        "\n",
        "import numpy as np\n",
        "from natsort import natsorted\n",
        "\n",
        "try:\n",
        "    import jax.numpy as jnp\n",
        "    JAX_AVAILABLE = True\n",
        "except ImportError:\n",
        "    import numpy as jnp\n",
        "    JAX_AVAILABLE = False"
      ]
    },
    {
      "cell_type": "markdown",
      "id": "41e26ab2",
      "metadata": {
        "papermill": {
          "duration": 0.050696,
          "end_time": "2022-08-04T04:32:42.969323",
          "exception": false,
          "start_time": "2022-08-04T04:32:42.918627",
          "status": "completed"
        },
        "tags": []
      },
      "source": [
        "## Core Types"
      ]
    },
    {
      "cell_type": "markdown",
      "id": "ca29df5c",
      "metadata": {
        "papermill": {
          "duration": 0.04956,
          "end_time": "2022-08-04T04:32:43.108978",
          "exception": false,
          "start_time": "2022-08-04T04:32:43.059418",
          "status": "completed"
        },
        "tags": []
      },
      "source": [
        "### Array"
      ]
    },
    {
      "cell_type": "markdown",
      "id": "82c3c344",
      "metadata": {
        "papermill": {
          "duration": 0.049877,
          "end_time": "2022-08-04T04:32:43.208824",
          "exception": false,
          "start_time": "2022-08-04T04:32:43.158947",
          "status": "completed"
        },
        "tags": []
      },
      "source": [
        "an `Array` is either a jax array or a numpy array:"
      ]
    },
    {
      "cell_type": "code",
      "execution_count": 4,
      "id": "b0a1564663bd0a7c",
      "metadata": {
        "execution": {
          "iopub.execute_input": "2022-08-04T04:32:43.314104Z",
          "iopub.status.busy": "2022-08-04T04:32:43.313647Z",
          "iopub.status.idle": "2022-08-04T04:32:43.314869Z",
          "shell.execute_reply": "2022-08-04T04:32:43.315209Z"
        },
        "papermill": {
          "duration": 0.056164,
          "end_time": "2022-08-04T04:32:43.315337",
          "exception": false,
          "start_time": "2022-08-04T04:32:43.259173",
          "status": "completed"
        },
        "tags": []
      },
      "outputs": [],
      "source": [
        "Array = Union[jnp.ndarray, np.ndarray]"
      ]
    },
    {
      "cell_type": "markdown",
      "id": "6b86fa37",
      "metadata": {
        "papermill": {
          "duration": 0.050575,
          "end_time": "2022-08-04T04:32:43.416452",
          "exception": false,
          "start_time": "2022-08-04T04:32:43.365877",
          "status": "completed"
        },
        "tags": []
      },
      "source": [
        "### Int"
      ]
    },
    {
      "cell_type": "markdown",
      "id": "9fa467c9",
      "metadata": {
        "papermill": {
          "duration": 0.04992,
          "end_time": "2022-08-04T04:32:43.518150",
          "exception": false,
          "start_time": "2022-08-04T04:32:43.468230",
          "status": "completed"
        },
        "tags": []
      },
      "source": [
        "An `Int` is either a built-in `int` or an `Array` [of dtype `int`]"
      ]
    },
    {
      "cell_type": "code",
      "execution_count": 5,
      "id": "b66218fdd10f9480",
      "metadata": {
        "execution": {
          "iopub.execute_input": "2022-08-04T04:32:43.622918Z",
          "iopub.status.busy": "2022-08-04T04:32:43.622468Z",
          "iopub.status.idle": "2022-08-04T04:32:43.624423Z",
          "shell.execute_reply": "2022-08-04T04:32:43.624061Z"
        },
        "papermill": {
          "duration": 0.056023,
          "end_time": "2022-08-04T04:32:43.624536",
          "exception": false,
          "start_time": "2022-08-04T04:32:43.568513",
          "status": "completed"
        },
        "tags": []
      },
      "outputs": [],
      "source": [
        "Int = Union[int, Array]"
      ]
    },
    {
      "cell_type": "markdown",
      "id": "c486cd2c",
      "metadata": {
        "papermill": {
          "duration": 0.049877,
          "end_time": "2022-08-04T04:32:43.724448",
          "exception": false,
          "start_time": "2022-08-04T04:32:43.674571",
          "status": "completed"
        },
        "tags": []
      },
      "source": [
        "### Float"
      ]
    },
    {
      "cell_type": "markdown",
      "id": "3b59bba6",
      "metadata": {
        "papermill": {
          "duration": 0.050138,
          "end_time": "2022-08-04T04:32:43.824980",
          "exception": false,
          "start_time": "2022-08-04T04:32:43.774842",
          "status": "completed"
        },
        "tags": []
      },
      "source": [
        "A `Float` is eiter a built-in `float` or an `Array` [of dtype `float`]"
      ]
    },
    {
      "cell_type": "code",
      "execution_count": 6,
      "id": "cd2df39740bbf923",
      "metadata": {
        "execution": {
          "iopub.execute_input": "2022-08-04T04:32:43.929921Z",
          "iopub.status.busy": "2022-08-04T04:32:43.929457Z",
          "iopub.status.idle": "2022-08-04T04:32:43.930432Z",
          "shell.execute_reply": "2022-08-04T04:32:43.930822Z"
        },
        "papermill": {
          "duration": 0.055712,
          "end_time": "2022-08-04T04:32:43.930953",
          "exception": false,
          "start_time": "2022-08-04T04:32:43.875241",
          "status": "completed"
        },
        "tags": []
      },
      "outputs": [],
      "source": [
        "Float = Union[float, Array]"
      ]
    },
    {
      "cell_type": "markdown",
      "id": "bdfd6200",
      "metadata": {
        "papermill": {
          "duration": 0.050141,
          "end_time": "2022-08-04T04:32:44.031507",
          "exception": false,
          "start_time": "2022-08-04T04:32:43.981366",
          "status": "completed"
        },
        "tags": []
      },
      "source": [
        "### ComplexFloat"
      ]
    },
    {
      "cell_type": "markdown",
      "id": "b1a7d255",
      "metadata": {
        "papermill": {
          "duration": 0.050022,
          "end_time": "2022-08-04T04:32:44.131749",
          "exception": false,
          "start_time": "2022-08-04T04:32:44.081727",
          "status": "completed"
        },
        "tags": []
      },
      "source": [
        "A `ComplexFloat` is either a build-in `complex` or an Array [of dtype `complex`]:"
      ]
    },
    {
      "cell_type": "code",
      "execution_count": 7,
      "id": "7d91d60b0f22e6fd",
      "metadata": {
        "execution": {
          "iopub.execute_input": "2022-08-04T04:32:44.236330Z",
          "iopub.status.busy": "2022-08-04T04:32:44.235885Z",
          "iopub.status.idle": "2022-08-04T04:32:44.237011Z",
          "shell.execute_reply": "2022-08-04T04:32:44.237434Z"
        },
        "papermill": {
          "duration": 0.055741,
          "end_time": "2022-08-04T04:32:44.237570",
          "exception": false,
          "start_time": "2022-08-04T04:32:44.181829",
          "status": "completed"
        },
        "tags": []
      },
      "outputs": [],
      "source": [
        "ComplexFloat = Union[complex, Float]"
      ]
    },
    {
      "cell_type": "markdown",
      "id": "1f1aa099",
      "metadata": {
        "papermill": {
          "duration": 0.050773,
          "end_time": "2022-08-04T04:32:44.338401",
          "exception": false,
          "start_time": "2022-08-04T04:32:44.287628",
          "status": "completed"
        },
        "tags": []
      },
      "source": [
        "### Settings"
      ]
    },
    {
      "cell_type": "markdown",
      "id": "69839acd",
      "metadata": {
        "papermill": {
          "duration": 0.049938,
          "end_time": "2022-08-04T04:32:44.438782",
          "exception": false,
          "start_time": "2022-08-04T04:32:44.388844",
          "status": "completed"
        },
        "tags": []
      },
      "source": [
        "A `Settings` dictionary is a nested mapping between setting names [`str`] to either `ComplexFloat` values OR to another lower level `Settings` dictionary."
      ]
    },
    {
      "cell_type": "code",
      "execution_count": 8,
      "id": "baa835f9eee45162",
      "metadata": {
        "execution": {
          "iopub.execute_input": "2022-08-04T04:32:44.544851Z",
          "iopub.status.busy": "2022-08-04T04:32:44.544400Z",
          "iopub.status.idle": "2022-08-04T04:32:44.546440Z",
          "shell.execute_reply": "2022-08-04T04:32:44.546083Z"
        },
        "papermill": {
          "duration": 0.056336,
          "end_time": "2022-08-04T04:32:44.546549",
          "exception": false,
          "start_time": "2022-08-04T04:32:44.490213",
          "status": "completed"
        },
        "tags": []
      },
      "outputs": [],
      "source": [
        "Settings = Union[Dict[str, ComplexFloat], Dict[str, \"Settings\"]]"
      ]
    },
    {
      "cell_type": "markdown",
      "id": "cf202d06",
      "metadata": {
        "papermill": {
          "duration": 0.050376,
          "end_time": "2022-08-04T04:32:44.647030",
          "exception": false,
          "start_time": "2022-08-04T04:32:44.596654",
          "status": "completed"
        },
        "tags": []
      },
      "source": [
        "Settings dictionaries are used to parametrize a SAX `Model` or a `circuit`. The settings dictionary should have the same hierarchy levels as the circuit:\n",
        " \n",
        " > Example:"
      ]
    },
    {
      "cell_type": "code",
      "execution_count": 9,
      "id": "2b26c4ab",
      "metadata": {
        "execution": {
          "iopub.execute_input": "2022-08-04T04:32:44.753434Z",
          "iopub.status.busy": "2022-08-04T04:32:44.752948Z",
          "iopub.status.idle": "2022-08-04T04:32:44.754163Z",
          "shell.execute_reply": "2022-08-04T04:32:44.754502Z"
        },
        "papermill": {
          "duration": 0.056941,
          "end_time": "2022-08-04T04:32:44.754640",
          "exception": false,
          "start_time": "2022-08-04T04:32:44.697699",
          "status": "completed"
        },
        "tags": []
      },
      "outputs": [],
      "source": [
        "mzi_settings = {\n",
        "    \"wl\": 1.5,  # global settings\n",
        "    \"lft\": {\"coupling\": 0.5},  # settings for the left coupler\n",
        "    \"top\": {\"neff\": 3.4},  # settings for the top waveguide\n",
        "    \"rgt\": {\"coupling\": 0.3},  # settings for the right coupler\n",
        "}"
      ]
    },
    {
      "cell_type": "markdown",
      "id": "45043912",
      "metadata": {
        "papermill": {
          "duration": 0.050262,
          "end_time": "2022-08-04T04:32:44.855726",
          "exception": false,
          "start_time": "2022-08-04T04:32:44.805464",
          "status": "completed"
        },
        "tags": []
      },
      "source": [
        "### SDict"
      ]
    },
    {
      "cell_type": "markdown",
      "id": "c5a7facf",
      "metadata": {
        "papermill": {
          "duration": 0.050788,
          "end_time": "2022-08-04T04:32:44.956985",
          "exception": false,
          "start_time": "2022-08-04T04:32:44.906197",
          "status": "completed"
        },
        "tags": []
      },
      "source": [
        "An `SDict` is a sparse dictionary based representation of an S-matrix, mapping port name tuples such as `('in0', 'out0')` to `ComplexFloat`."
      ]
    },
    {
      "cell_type": "code",
      "execution_count": 10,
      "id": "aea586ce65eac30a",
      "metadata": {
        "execution": {
          "iopub.execute_input": "2022-08-04T04:32:45.061863Z",
          "iopub.status.busy": "2022-08-04T04:32:45.061390Z",
          "iopub.status.idle": "2022-08-04T04:32:45.062534Z",
          "shell.execute_reply": "2022-08-04T04:32:45.062943Z"
        },
        "papermill": {
          "duration": 0.055775,
          "end_time": "2022-08-04T04:32:45.063082",
          "exception": false,
          "start_time": "2022-08-04T04:32:45.007307",
          "status": "completed"
        },
        "tags": []
      },
      "outputs": [],
      "source": [
        "SDict = Dict[Tuple[str, str], ComplexFloat]"
      ]
    },
    {
      "cell_type": "markdown",
      "id": "07dc470a",
      "metadata": {
        "papermill": {
          "duration": 0.051307,
          "end_time": "2022-08-04T04:32:45.165597",
          "exception": false,
          "start_time": "2022-08-04T04:32:45.114290",
          "status": "completed"
        },
        "tags": []
      },
      "source": [
        "> Example:"
      ]
    },
    {
      "cell_type": "code",
      "execution_count": 11,
      "id": "ad65a70c",
      "metadata": {
        "execution": {
          "iopub.execute_input": "2022-08-04T04:32:45.272212Z",
          "iopub.status.busy": "2022-08-04T04:32:45.271761Z",
          "iopub.status.idle": "2022-08-04T04:32:45.272874Z",
          "shell.execute_reply": "2022-08-04T04:32:45.273291Z"
        },
        "papermill": {
          "duration": 0.056611,
          "end_time": "2022-08-04T04:32:45.273426",
          "exception": false,
          "start_time": "2022-08-04T04:32:45.216815",
          "status": "completed"
        },
        "tags": []
      },
      "outputs": [],
      "source": [
        "_sdict: SDict = {\n",
        "    (\"in0\", \"out0\"): 3.0,\n",
        "}"
      ]
    },
    {
      "cell_type": "markdown",
      "id": "0e2c7430",
      "metadata": {
        "papermill": {
          "duration": 0.050605,
          "end_time": "2022-08-04T04:32:45.375548",
          "exception": false,
          "start_time": "2022-08-04T04:32:45.324943",
          "status": "completed"
        },
        "tags": []
      },
      "source": [
        "### SCoo"
      ]
    },
    {
      "cell_type": "markdown",
      "id": "ef614e1d",
      "metadata": {
        "papermill": {
          "duration": 0.051347,
          "end_time": "2022-08-04T04:32:45.477603",
          "exception": false,
          "start_time": "2022-08-04T04:32:45.426256",
          "status": "completed"
        },
        "tags": []
      },
      "source": [
        "An `SCoo` is a sparse matrix based representation of an S-matrix consisting of three arrays and a port map. The three arrays represent the input port indices [`int`], output port indices [`int`] and the S-matrix values [`ComplexFloat`] of the sparse matrix. The port map maps a port name [`str`] to a port index [`int`]. Only these four arrays **together** and in this specific **order** are considered a valid `SCoo` representation!"
      ]
    },
    {
      "cell_type": "code",
      "execution_count": 12,
      "id": "acb6c793d6f54755",
      "metadata": {
        "execution": {
          "iopub.execute_input": "2022-08-04T04:32:45.584160Z",
          "iopub.status.busy": "2022-08-04T04:32:45.583699Z",
          "iopub.status.idle": "2022-08-04T04:32:45.585255Z",
          "shell.execute_reply": "2022-08-04T04:32:45.585629Z"
        },
        "papermill": {
          "duration": 0.056939,
          "end_time": "2022-08-04T04:32:45.585769",
          "exception": false,
          "start_time": "2022-08-04T04:32:45.528830",
          "status": "completed"
        },
        "tags": []
      },
      "outputs": [],
      "source": [
        "SCoo = Tuple[Array, Array, ComplexFloat, Dict[str, int]]"
      ]
    },
    {
      "cell_type": "markdown",
      "id": "ff9719c8",
      "metadata": {
        "papermill": {
          "duration": 0.051238,
          "end_time": "2022-08-04T04:32:45.687890",
          "exception": false,
          "start_time": "2022-08-04T04:32:45.636652",
          "status": "completed"
        },
        "tags": []
      },
      "source": [
        "> Example:"
      ]
    },
    {
      "cell_type": "code",
      "execution_count": 13,
      "id": "972f8060",
      "metadata": {
        "execution": {
          "iopub.execute_input": "2022-08-04T04:32:45.795904Z",
          "iopub.status.busy": "2022-08-04T04:32:45.795433Z",
          "iopub.status.idle": "2022-08-04T04:32:45.823203Z",
          "shell.execute_reply": "2022-08-04T04:32:45.822732Z"
        },
        "papermill": {
          "duration": 0.084644,
          "end_time": "2022-08-04T04:32:45.823340",
          "exception": false,
          "start_time": "2022-08-04T04:32:45.738696",
          "status": "completed"
        },
        "tags": []
      },
      "outputs": [],
      "source": [
        "Si = jnp.arange(3, dtype=int)\n",
        "Sj = jnp.array([0, 1, 0], dtype=int)\n",
        "Sx = jnp.array([3.0, 4.0, 1.0])\n",
        "port_map = {\"in0\": 0, \"in1\": 2, \"out0\": 1}\n",
        "_scoo: SCoo = (Si, Sj, Sx, port_map)"
      ]
    },
    {
      "cell_type": "markdown",
      "id": "2cba9246",
      "metadata": {
        "papermill": {
          "duration": 0.050735,
          "end_time": "2022-08-04T04:32:45.925742",
          "exception": false,
          "start_time": "2022-08-04T04:32:45.875007",
          "status": "completed"
        },
        "tags": []
      },
      "source": [
        "### SDense"
      ]
    },
    {
      "cell_type": "markdown",
      "id": "fd28795b",
      "metadata": {
        "papermill": {
          "duration": 0.050644,
          "end_time": "2022-08-04T04:32:46.027124",
          "exception": false,
          "start_time": "2022-08-04T04:32:45.976480",
          "status": "completed"
        },
        "tags": []
      },
      "source": [
        "an `SDense` is a dense matrix representation of an S-matrix. It's represented by an NxN `ComplexFloat` array and a port map (mapping port names onto port indices)."
      ]
    },
    {
      "cell_type": "code",
      "execution_count": 14,
      "id": "bee9cfdeeb2b02f8",
      "metadata": {
        "execution": {
          "iopub.execute_input": "2022-08-04T04:32:46.134215Z",
          "iopub.status.busy": "2022-08-04T04:32:46.133767Z",
          "iopub.status.idle": "2022-08-04T04:32:46.134859Z",
          "shell.execute_reply": "2022-08-04T04:32:46.135263Z"
        },
        "papermill": {
          "duration": 0.056824,
          "end_time": "2022-08-04T04:32:46.135394",
          "exception": false,
          "start_time": "2022-08-04T04:32:46.078570",
          "status": "completed"
        },
        "tags": []
      },
      "outputs": [],
      "source": [
        "SDense = Tuple[Array, Dict[str, int]]"
      ]
    },
    {
      "cell_type": "markdown",
      "id": "2c4789f7",
      "metadata": {
        "papermill": {
          "duration": 0.051174,
          "end_time": "2022-08-04T04:32:46.237772",
          "exception": false,
          "start_time": "2022-08-04T04:32:46.186598",
          "status": "completed"
        },
        "tags": []
      },
      "source": [
        "> Example:"
      ]
    },
    {
      "cell_type": "code",
      "execution_count": 15,
      "id": "02def7ed",
      "metadata": {
        "execution": {
          "iopub.execute_input": "2022-08-04T04:32:46.348534Z",
          "iopub.status.busy": "2022-08-04T04:32:46.348060Z",
          "iopub.status.idle": "2022-08-04T04:32:46.371879Z",
          "shell.execute_reply": "2022-08-04T04:32:46.372290Z"
        },
        "papermill": {
          "duration": 0.083787,
          "end_time": "2022-08-04T04:32:46.372458",
          "exception": false,
          "start_time": "2022-08-04T04:32:46.288671",
          "status": "completed"
        },
        "tags": []
      },
      "outputs": [],
      "source": [
        "Sd = jnp.arange(9, dtype=float).reshape(3, 3)\n",
        "port_map = {\"in0\": 0, \"in1\": 2, \"out0\": 1}\n",
        "_sdense = Sd, port_map"
      ]
    },
    {
      "cell_type": "markdown",
      "id": "b0d2e36f",
      "metadata": {
        "papermill": {
          "duration": 0.052272,
          "end_time": "2022-08-04T04:32:46.475942",
          "exception": false,
          "start_time": "2022-08-04T04:32:46.423670",
          "status": "completed"
        },
        "tags": []
      },
      "source": [
        "### SType"
      ]
    },
    {
      "cell_type": "markdown",
      "id": "b441f21d",
      "metadata": {
        "papermill": {
          "duration": 0.050987,
          "end_time": "2022-08-04T04:32:46.578021",
          "exception": false,
          "start_time": "2022-08-04T04:32:46.527034",
          "status": "completed"
        },
        "tags": []
      },
      "source": [
        "an `SType` is either an `SDict` **OR** an `SCoo` **OR** an `SDense`:"
      ]
    },
    {
      "cell_type": "code",
      "execution_count": 16,
      "id": "084f1f6bef10f6c1",
      "metadata": {
        "execution": {
          "iopub.execute_input": "2022-08-04T04:32:46.686076Z",
          "iopub.status.busy": "2022-08-04T04:32:46.685607Z",
          "iopub.status.idle": "2022-08-04T04:32:46.686651Z",
          "shell.execute_reply": "2022-08-04T04:32:46.687053Z"
        },
        "papermill": {
          "duration": 0.057939,
          "end_time": "2022-08-04T04:32:46.687187",
          "exception": false,
          "start_time": "2022-08-04T04:32:46.629248",
          "status": "completed"
        },
        "tags": []
      },
      "outputs": [],
      "source": [
        "SType = Union[SDict, SCoo, SDense]"
      ]
    },
    {
      "cell_type": "markdown",
      "id": "e0561b07",
      "metadata": {
        "papermill": {
          "duration": 0.051361,
          "end_time": "2022-08-04T04:32:46.790201",
          "exception": false,
          "start_time": "2022-08-04T04:32:46.738840",
          "status": "completed"
        },
        "tags": []
      },
      "source": [
        "> Example:"
      ]
    },
    {
      "cell_type": "code",
      "execution_count": 17,
      "id": "5b52a5f2",
      "metadata": {
        "execution": {
          "iopub.execute_input": "2022-08-04T04:32:46.896550Z",
          "iopub.status.busy": "2022-08-04T04:32:46.896096Z",
          "iopub.status.idle": "2022-08-04T04:32:46.897336Z",
          "shell.execute_reply": "2022-08-04T04:32:46.897680Z"
        },
        "papermill": {
          "duration": 0.056396,
          "end_time": "2022-08-04T04:32:46.897816",
          "exception": false,
          "start_time": "2022-08-04T04:32:46.841420",
          "status": "completed"
        },
        "tags": []
      },
      "outputs": [],
      "source": [
        "obj: SType = _sdict\n",
        "obj: SType = _scoo\n",
        "obj: SType = _sdense"
      ]
    },
    {
      "cell_type": "markdown",
      "id": "afabe91b",
      "metadata": {
        "papermill": {
          "duration": 0.05175,
          "end_time": "2022-08-04T04:32:47.000824",
          "exception": false,
          "start_time": "2022-08-04T04:32:46.949074",
          "status": "completed"
        },
        "tags": []
      },
      "source": [
        "### Model"
      ]
    },
    {
      "cell_type": "markdown",
      "id": "13808fb1",
      "metadata": {
        "papermill": {
          "duration": 0.051217,
          "end_time": "2022-08-04T04:32:47.103639",
          "exception": false,
          "start_time": "2022-08-04T04:32:47.052422",
          "status": "completed"
        },
        "tags": []
      },
      "source": [
        "A `Model` is any keyword-only function that returns an `SType`:"
      ]
    },
    {
      "cell_type": "code",
      "execution_count": 18,
      "id": "e19aa83961f9786d",
      "metadata": {
        "execution": {
          "iopub.execute_input": "2022-08-04T04:32:47.210723Z",
          "iopub.status.busy": "2022-08-04T04:32:47.210277Z",
          "iopub.status.idle": "2022-08-04T04:32:47.212184Z",
          "shell.execute_reply": "2022-08-04T04:32:47.211808Z"
        },
        "papermill": {
          "duration": 0.056857,
          "end_time": "2022-08-04T04:32:47.212290",
          "exception": false,
          "start_time": "2022-08-04T04:32:47.155433",
          "status": "completed"
        },
        "tags": []
      },
      "outputs": [],
      "source": [
        "Model = Callable[..., SType]"
      ]
    },
    {
      "cell_type": "markdown",
      "id": "fad534fb",
      "metadata": {
        "papermill": {
          "duration": 0.050958,
          "end_time": "2022-08-04T04:32:47.314326",
          "exception": false,
          "start_time": "2022-08-04T04:32:47.263368",
          "status": "completed"
        },
        "tags": []
      },
      "source": [
        "### ModelFactory"
      ]
    },
    {
      "cell_type": "markdown",
      "id": "85781647",
      "metadata": {
        "papermill": {
          "duration": 0.052096,
          "end_time": "2022-08-04T04:32:47.417851",
          "exception": false,
          "start_time": "2022-08-04T04:32:47.365755",
          "status": "completed"
        },
        "tags": []
      },
      "source": [
        "A `ModelFactory` is any keyword-only function that returns a `Model`:"
      ]
    },
    {
      "cell_type": "code",
      "execution_count": 19,
      "id": "ec78cb9fbc1401e1",
      "metadata": {
        "execution": {
          "iopub.execute_input": "2022-08-04T04:32:47.525495Z",
          "iopub.status.busy": "2022-08-04T04:32:47.525013Z",
          "iopub.status.idle": "2022-08-04T04:32:47.526133Z",
          "shell.execute_reply": "2022-08-04T04:32:47.526532Z"
        },
        "papermill": {
          "duration": 0.056872,
          "end_time": "2022-08-04T04:32:47.526659",
          "exception": false,
          "start_time": "2022-08-04T04:32:47.469787",
          "status": "completed"
        },
        "tags": []
      },
      "outputs": [],
      "source": [
        "ModelFactory = Callable[..., Model]"
      ]
    },
    {
      "cell_type": "markdown",
      "id": "353d8506",
      "metadata": {
        "papermill": {
          "duration": 0.052147,
          "end_time": "2022-08-04T04:32:47.630759",
          "exception": false,
          "start_time": "2022-08-04T04:32:47.578612",
          "status": "completed"
        },
        "tags": []
      },
      "source": [
        "> Note: SAX sometimes needs to figure out the difference between a `ModelFactory` and a normal `Model` *before* running the function. To do this, SAX will check the return annotation of the function. Any function with a `-> Model` or `-> Callable` annotation will be considered a `ModelFactory`. Any function without this annotation will be considered a normal Model: **don't forget the return annotation of your Model Factory!** To ensure a correct annotation and to ensure forward compatibility, it's recommended to decorate your `ModelFactory` with the `modelfactory` decorator."
      ]
    },
    {
      "cell_type": "markdown",
      "id": "e42d3f17",
      "metadata": {
        "papermill": {
          "duration": 0.051162,
          "end_time": "2022-08-04T04:32:47.733469",
          "exception": false,
          "start_time": "2022-08-04T04:32:47.682307",
          "status": "completed"
        },
        "tags": []
      },
      "source": [
        "### GeneralModel"
      ]
    },
    {
      "cell_type": "markdown",
      "id": "0c4356fc",
      "metadata": {
        "papermill": {
          "duration": 0.051986,
          "end_time": "2022-08-04T04:32:47.837012",
          "exception": false,
          "start_time": "2022-08-04T04:32:47.785026",
          "status": "completed"
        },
        "tags": []
      },
      "source": [
        "a `GeneralModel` is either a `Model` or a `LogicalNetlist` (will be defined below):"
      ]
    },
    {
      "cell_type": "code",
      "execution_count": 20,
      "id": "dea79f587837713e",
      "metadata": {
        "execution": {
          "iopub.execute_input": "2022-08-04T04:32:47.945345Z",
          "iopub.status.busy": "2022-08-04T04:32:47.944867Z",
          "iopub.status.idle": "2022-08-04T04:32:47.946083Z",
          "shell.execute_reply": "2022-08-04T04:32:47.946439Z"
        },
        "papermill": {
          "duration": 0.05751,
          "end_time": "2022-08-04T04:32:47.946572",
          "exception": false,
          "start_time": "2022-08-04T04:32:47.889062",
          "status": "completed"
        },
        "tags": []
      },
      "outputs": [],
      "source": [
        "GeneralModel = Union[Model, \"LogicalNetlist\"]"
      ]
    },
    {
      "cell_type": "markdown",
      "id": "b32b5a31",
      "metadata": {
        "papermill": {
          "duration": 0.052224,
          "end_time": "2022-08-04T04:32:48.050800",
          "exception": false,
          "start_time": "2022-08-04T04:32:47.998576",
          "status": "completed"
        },
        "tags": []
      },
      "source": [
        "### Models"
      ]
    },
    {
      "cell_type": "markdown",
      "id": "a796dcb2",
      "metadata": {
        "papermill": {
          "duration": 0.052014,
          "end_time": "2022-08-04T04:32:48.155253",
          "exception": false,
          "start_time": "2022-08-04T04:32:48.103239",
          "status": "completed"
        },
        "tags": []
      },
      "source": [
        "`Models` is a mapping between model names [`str`] and `GeneralModel`:"
      ]
    },
    {
      "cell_type": "code",
      "execution_count": 21,
      "id": "6bd7bfc83cfc2a26",
      "metadata": {
        "execution": {
          "iopub.execute_input": "2022-08-04T04:32:48.263867Z",
          "iopub.status.busy": "2022-08-04T04:32:48.263420Z",
          "iopub.status.idle": "2022-08-04T04:32:48.264668Z",
          "shell.execute_reply": "2022-08-04T04:32:48.265072Z"
        },
        "papermill": {
          "duration": 0.057841,
          "end_time": "2022-08-04T04:32:48.265201",
          "exception": false,
          "start_time": "2022-08-04T04:32:48.207360",
          "status": "completed"
        },
        "tags": []
      },
      "outputs": [],
      "source": [
        "Models = Dict[str, GeneralModel]"
      ]
    },
    {
      "cell_type": "markdown",
      "id": "ed1af61c",
      "metadata": {
        "papermill": {
          "duration": 0.051387,
          "end_time": "2022-08-04T04:32:48.368362",
          "exception": false,
          "start_time": "2022-08-04T04:32:48.316975",
          "status": "completed"
        },
        "tags": []
      },
      "source": [
        "> Note: sometimes 'component' is used to refer to a a `Model` or `GeneralModel`. This is because other tools (such as for example GDSFactory) prefer that terminology."
      ]
    },
    {
      "cell_type": "markdown",
      "id": "5d276f63",
      "metadata": {
        "papermill": {
          "duration": 0.051874,
          "end_time": "2022-08-04T04:32:48.472134",
          "exception": false,
          "start_time": "2022-08-04T04:32:48.420260",
          "status": "completed"
        },
        "tags": []
      },
      "source": [
        "## Netlist Types"
      ]
    },
    {
      "cell_type": "markdown",
      "id": "2c946dc2",
      "metadata": {
        "papermill": {
          "duration": 0.052119,
          "end_time": "2022-08-04T04:32:48.576680",
          "exception": false,
          "start_time": "2022-08-04T04:32:48.524561",
          "status": "completed"
        },
        "tags": []
      },
      "source": [
        "### Instance"
      ]
    },
    {
      "cell_type": "markdown",
      "id": "24694709",
      "metadata": {
        "papermill": {
          "duration": 0.051526,
          "end_time": "2022-08-04T04:32:48.680385",
          "exception": false,
          "start_time": "2022-08-04T04:32:48.628859",
          "status": "completed"
        },
        "tags": []
      },
      "source": [
        "A netlist `Instance` is a mapping with two keys: `\"component\"`, which should map to a key in a `Models` dictionary and `\"settings\"`, which are all the necessary settings to instanciate a component:"
      ]
    },
    {
      "cell_type": "code",
      "execution_count": 22,
      "id": "55fca1f29e150d63",
      "metadata": {
        "execution": {
          "iopub.execute_input": "2022-08-04T04:32:48.788294Z",
          "iopub.status.busy": "2022-08-04T04:32:48.787841Z",
          "iopub.status.idle": "2022-08-04T04:32:48.788857Z",
          "shell.execute_reply": "2022-08-04T04:32:48.789255Z"
        },
        "papermill": {
          "duration": 0.057181,
          "end_time": "2022-08-04T04:32:48.789410",
          "exception": false,
          "start_time": "2022-08-04T04:32:48.732229",
          "status": "completed"
        },
        "tags": []
      },
      "outputs": [],
      "source": [
        "Instance = TypedDict(\n",
        "    \"Instance\",\n",
        "    {\n",
        "        \"component\": str,\n",
        "        \"settings\": Settings,\n",
        "    },\n",
        ")"
      ]
    },
    {
      "cell_type": "markdown",
      "id": "ff82e535",
      "metadata": {
        "papermill": {
          "duration": 0.052341,
          "end_time": "2022-08-04T04:32:48.893488",
          "exception": false,
          "start_time": "2022-08-04T04:32:48.841147",
          "status": "completed"
        },
        "tags": []
      },
      "source": [
        "> Note: in SAX, a better name for `\"component\"` in the instance definition would probably be `\"model\"` or `\"model_name\"`. However we chose `\"component\"` here to have a 1-to-1 map between SAX netlists and GDSFactory netlists."
      ]
    },
    {
      "cell_type": "markdown",
      "id": "365559c3",
      "metadata": {
        "papermill": {
          "duration": 0.051269,
          "end_time": "2022-08-04T04:32:48.996933",
          "exception": false,
          "start_time": "2022-08-04T04:32:48.945664",
          "status": "completed"
        },
        "tags": []
      },
      "source": [
        "### GeneralInstance"
      ]
    },
    {
      "cell_type": "markdown",
      "id": "5249fc0f",
      "metadata": {
        "papermill": {
          "duration": 0.051826,
          "end_time": "2022-08-04T04:32:49.100429",
          "exception": false,
          "start_time": "2022-08-04T04:32:49.048603",
          "status": "completed"
        },
        "tags": []
      },
      "source": [
        "A general instance can be any of the following (`LogicalNetlist` and `Netlist` will be defined below):"
      ]
    },
    {
      "cell_type": "code",
      "execution_count": 23,
      "id": "69c13012e7379e64",
      "metadata": {
        "execution": {
          "iopub.execute_input": "2022-08-04T04:32:49.209308Z",
          "iopub.status.busy": "2022-08-04T04:32:49.208838Z",
          "iopub.status.idle": "2022-08-04T04:32:49.210448Z",
          "shell.execute_reply": "2022-08-04T04:32:49.210843Z"
        },
        "papermill": {
          "duration": 0.057969,
          "end_time": "2022-08-04T04:32:49.210979",
          "exception": false,
          "start_time": "2022-08-04T04:32:49.153010",
          "status": "completed"
        },
        "tags": []
      },
      "outputs": [],
      "source": [
        "GeneralInstance = Union[str, Instance, \"LogicalNetlist\", \"Netlist\"]"
      ]
    },
    {
      "cell_type": "markdown",
      "id": "04a5992a",
      "metadata": {
        "papermill": {
          "duration": 0.051774,
          "end_time": "2022-08-04T04:32:49.314692",
          "exception": false,
          "start_time": "2022-08-04T04:32:49.262918",
          "status": "completed"
        },
        "tags": []
      },
      "source": [
        "> For example, this is allowed:"
      ]
    },
    {
      "cell_type": "code",
      "execution_count": 24,
      "id": "6ef6d5ee",
      "metadata": {
        "execution": {
          "iopub.execute_input": "2022-08-04T04:32:49.424377Z",
          "iopub.status.busy": "2022-08-04T04:32:49.423874Z",
          "iopub.status.idle": "2022-08-04T04:32:49.424964Z",
          "shell.execute_reply": "2022-08-04T04:32:49.425387Z"
        },
        "papermill": {
          "duration": 0.058129,
          "end_time": "2022-08-04T04:32:49.425534",
          "exception": false,
          "start_time": "2022-08-04T04:32:49.367405",
          "status": "completed"
        },
        "tags": []
      },
      "outputs": [],
      "source": [
        "inst: GeneralInstance = \"my_component_model\"\n",
        "inst: GeneralInstance = {\n",
        "    \"component\": \"my_component_model\",\n",
        "    \"settings\": {},\n",
        "}"
      ]
    },
    {
      "cell_type": "markdown",
      "id": "8af40281",
      "metadata": {
        "papermill": {
          "duration": 0.051977,
          "end_time": "2022-08-04T04:32:49.529709",
          "exception": false,
          "start_time": "2022-08-04T04:32:49.477732",
          "status": "completed"
        },
        "tags": []
      },
      "source": [
        "> ... and this is not (will be flagged by a static type checker like pyright or mypy):"
      ]
    },
    {
      "cell_type": "code",
      "execution_count": 25,
      "id": "c13fc4d7",
      "metadata": {
        "execution": {
          "iopub.execute_input": "2022-08-04T04:32:49.638178Z",
          "iopub.status.busy": "2022-08-04T04:32:49.637722Z",
          "iopub.status.idle": "2022-08-04T04:32:49.638845Z",
          "shell.execute_reply": "2022-08-04T04:32:49.639202Z"
        },
        "papermill": {
          "duration": 0.057843,
          "end_time": "2022-08-04T04:32:49.639337",
          "exception": false,
          "start_time": "2022-08-04T04:32:49.581494",
          "status": "completed"
        },
        "tags": []
      },
      "outputs": [],
      "source": [
        "inst: GeneralInstance = {\n",
        "    \"component\": \"my_component_model\",\n",
        "    \"settings\": {},\n",
        "    \"extra_arg\": \"invalid\",\n",
        "}"
      ]
    },
    {
      "cell_type": "markdown",
      "id": "cf9fd876",
      "metadata": {
        "papermill": {
          "duration": 0.051451,
          "end_time": "2022-08-04T04:32:49.742652",
          "exception": false,
          "start_time": "2022-08-04T04:32:49.691201",
          "status": "completed"
        },
        "tags": []
      },
      "source": [
        "### Instances"
      ]
    },
    {
      "cell_type": "markdown",
      "id": "a9aad796",
      "metadata": {
        "papermill": {
          "duration": 0.051481,
          "end_time": "2022-08-04T04:32:49.845681",
          "exception": false,
          "start_time": "2022-08-04T04:32:49.794200",
          "status": "completed"
        },
        "tags": []
      },
      "source": [
        "`Instances` is a mapping from instance names [`str`] to a `GeneralInstance`:"
      ]
    },
    {
      "cell_type": "code",
      "execution_count": 26,
      "id": "bbc7d93a6b408e7a",
      "metadata": {
        "execution": {
          "iopub.execute_input": "2022-08-04T04:32:49.954120Z",
          "iopub.status.busy": "2022-08-04T04:32:49.953660Z",
          "iopub.status.idle": "2022-08-04T04:32:49.954639Z",
          "shell.execute_reply": "2022-08-04T04:32:49.955033Z"
        },
        "papermill": {
          "duration": 0.057571,
          "end_time": "2022-08-04T04:32:49.955166",
          "exception": false,
          "start_time": "2022-08-04T04:32:49.897595",
          "status": "completed"
        },
        "tags": []
      },
      "outputs": [],
      "source": [
        "Instances = Union[Dict[str, str], Dict[str, GeneralInstance]]"
      ]
    },
    {
      "cell_type": "markdown",
      "id": "0f292b1f",
      "metadata": {
        "papermill": {
          "duration": 0.052053,
          "end_time": "2022-08-04T04:32:50.059057",
          "exception": false,
          "start_time": "2022-08-04T04:32:50.007004",
          "status": "completed"
        },
        "tags": []
      },
      "source": [
        "### Netlist"
      ]
    },
    {
      "cell_type": "markdown",
      "id": "7b85ab37",
      "metadata": {
        "papermill": {
          "duration": 0.052122,
          "end_time": "2022-08-04T04:32:50.163089",
          "exception": false,
          "start_time": "2022-08-04T04:32:50.110967",
          "status": "completed"
        },
        "tags": []
      },
      "source": [
        "a `Netlist` is a collection of `\"instances\"`, `\"connections\"` and `\"ports\"`:"
      ]
    },
    {
      "cell_type": "code",
      "execution_count": 27,
      "id": "22b47eee154aaf80",
      "metadata": {
        "execution": {
          "iopub.execute_input": "2022-08-04T04:32:50.271313Z",
          "iopub.status.busy": "2022-08-04T04:32:50.270864Z",
          "iopub.status.idle": "2022-08-04T04:32:50.272087Z",
          "shell.execute_reply": "2022-08-04T04:32:50.272423Z"
        },
        "papermill": {
          "duration": 0.057362,
          "end_time": "2022-08-04T04:32:50.272554",
          "exception": false,
          "start_time": "2022-08-04T04:32:50.215192",
          "status": "completed"
        },
        "tags": []
      },
      "outputs": [],
      "source": [
        "\n",
        "Netlist = TypedDict(\n",
        "    \"Netlist\",\n",
        "    {\n",
        "        \"instances\": Instances,\n",
        "        \"connections\": Dict[str, str],\n",
        "        \"ports\": Dict[str, str],\n",
        "    },\n",
        ")"
      ]
    },
    {
      "cell_type": "markdown",
      "id": "d12f61a8",
      "metadata": {
        "papermill": {
          "duration": 0.051394,
          "end_time": "2022-08-04T04:32:50.375493",
          "exception": false,
          "start_time": "2022-08-04T04:32:50.324099",
          "status": "completed"
        },
        "tags": []
      },
      "source": [
        "> Example:"
      ]
    },
    {
      "cell_type": "code",
      "execution_count": 28,
      "id": "877d1151",
      "metadata": {
        "execution": {
          "iopub.execute_input": "2022-08-04T04:32:50.486134Z",
          "iopub.status.busy": "2022-08-04T04:32:50.485662Z",
          "iopub.status.idle": "2022-08-04T04:32:50.487734Z",
          "shell.execute_reply": "2022-08-04T04:32:50.487375Z"
        },
        "papermill": {
          "duration": 0.060852,
          "end_time": "2022-08-04T04:32:50.487843",
          "exception": false,
          "start_time": "2022-08-04T04:32:50.426991",
          "status": "completed"
        },
        "tags": []
      },
      "outputs": [],
      "source": [
        "mzi_netlist: Netlist = {\n",
        "    \"instances\": {\n",
        "    \"lft\": \"mmi1x2\",  # shorthand if no settings need to be given\n",
        "        \"top\": {  # full instance definition\n",
        "            \"component\": \"waveguide\",\n",
        "            \"settings\": {\n",
        "                \"length\": 100.0,\n",
        "            },\n",
        "        },\n",
        "        \"rgt\": \"mmi2x2\",  # shorthand if no settings need to be given\n",
        "    },\n",
        "    \"connections\": {\n",
        "        \"lft,out0\": \"top,in0\",\n",
        "        \"top,out0\": \"rgt,in0\",\n",
        "        \"top,out1\": \"rgt,in1\",\n",
        "    },\n",
        "    \"ports\": {\n",
        "        \"in0\": \"lft,in0\",\n",
        "        \"out0\": \"rgt,out0\",\n",
        "        \"out1\": \"rgt,out1\",\n",
        "    },\n",
        "}"
      ]
    },
    {
      "cell_type": "markdown",
      "id": "613b0f22",
      "metadata": {
        "papermill": {
          "duration": 0.05274,
          "end_time": "2022-08-04T04:32:50.592790",
          "exception": false,
          "start_time": "2022-08-04T04:32:50.540050",
          "status": "completed"
        },
        "tags": []
      },
      "source": [
        "### LogicalNetlist"
      ]
    },
    {
      "cell_type": "markdown",
      "id": "f8cb7e75",
      "metadata": {
        "papermill": {
          "duration": 0.052005,
          "end_time": "2022-08-04T04:32:50.696792",
          "exception": false,
          "start_time": "2022-08-04T04:32:50.644787",
          "status": "completed"
        },
        "tags": []
      },
      "source": [
        "a `LogicalNetlist` is a subset of the more general `Netlist`.  It only contains the logical connections and instance names. Not the actual instances. This data structure is mostly used for internal use only."
      ]
    },
    {
      "cell_type": "code",
      "execution_count": 29,
      "id": "186b06572b4a849e",
      "metadata": {
        "execution": {
          "iopub.execute_input": "2022-08-04T04:32:50.804731Z",
          "iopub.status.busy": "2022-08-04T04:32:50.804258Z",
          "iopub.status.idle": "2022-08-04T04:32:50.805453Z",
          "shell.execute_reply": "2022-08-04T04:32:50.805772Z"
        },
        "papermill": {
          "duration": 0.057385,
          "end_time": "2022-08-04T04:32:50.805911",
          "exception": false,
          "start_time": "2022-08-04T04:32:50.748526",
          "status": "completed"
        },
        "tags": []
      },
      "outputs": [],
      "source": [
        "\n",
        "LogicalNetlist = TypedDict(\n",
        "    \"LogicalNetlist\",\n",
        "    {\n",
        "        \"instances\": Dict[str, str],\n",
        "        \"connections\": Dict[str, str],\n",
        "        \"ports\": Dict[str, str],\n",
        "    },\n",
        ")"
      ]
    },
    {
      "cell_type": "markdown",
      "id": "3468d6a1",
      "metadata": {
        "papermill": {
          "duration": 0.052559,
          "end_time": "2022-08-04T04:32:50.911357",
          "exception": false,
          "start_time": "2022-08-04T04:32:50.858798",
          "status": "completed"
        },
        "tags": []
      },
      "source": [
        "> Example:"
      ]
    },
    {
      "cell_type": "code",
      "execution_count": 30,
      "id": "ab67ad41",
      "metadata": {
        "execution": {
          "iopub.execute_input": "2022-08-04T04:32:51.022180Z",
          "iopub.status.busy": "2022-08-04T04:32:51.021720Z",
          "iopub.status.idle": "2022-08-04T04:32:51.022917Z",
          "shell.execute_reply": "2022-08-04T04:32:51.023279Z"
        },
        "papermill": {
          "duration": 0.058979,
          "end_time": "2022-08-04T04:32:51.023413",
          "exception": false,
          "start_time": "2022-08-04T04:32:50.964434",
          "status": "completed"
        },
        "tags": []
      },
      "outputs": [],
      "source": [
        "mzi_logical_netlist: Netlist = {\n",
        "    \"instances\": {\n",
        "        \"lft\": \"mmi1x2\",\n",
        "        \"top\": \"waveguide\",\n",
        "        \"rgt\": \"mmi2x2\",\n",
        "    },\n",
        "    \"connections\": {\n",
        "        \"lft,out0\": \"top,in0\",\n",
        "        \"top,out0\": \"rgt,in0\",\n",
        "        \"top,out1\": \"rgt,in1\",\n",
        "    },\n",
        "    \"ports\": {\n",
        "        \"in0\": \"lft,in0\",\n",
        "        \"out0\": \"rgt,out0\",\n",
        "        \"out1\": \"rgt,out1\",\n",
        "    },\n",
        "}"
      ]
    },
    {
      "cell_type": "markdown",
      "id": "dbcb4447",
      "metadata": {
        "papermill": {
          "duration": 0.051831,
          "end_time": "2022-08-04T04:32:51.127258",
          "exception": false,
          "start_time": "2022-08-04T04:32:51.075427",
          "status": "completed"
        },
        "tags": []
      },
      "source": [
        "## Validation and runtime type-checking:"
      ]
    },
    {
      "cell_type": "markdown",
      "id": "6e4c44aa",
      "metadata": {
        "papermill": {
          "duration": 0.051936,
          "end_time": "2022-08-04T04:32:51.231372",
          "exception": false,
          "start_time": "2022-08-04T04:32:51.179436",
          "status": "completed"
        },
        "tags": []
      },
      "source": [
        "> Note: the type-checking functions below are **NOT** very tight and hence should be used within the right context!"
      ]
    },
    {
      "cell_type": "markdown",
      "id": "5c3c9d67f7392142",
      "metadata": {},
      "source": [
        ":::{eval-rst}\n",
        ".. autofunction:: sax.typing_.is_float\n",
        ":::\n"
      ]
    },
    {
      "cell_type": "code",
      "execution_count": 31,
      "id": "c2ae6dd14adf3d48",
      "metadata": {
        "execution": {
          "iopub.execute_input": "2022-08-04T04:32:51.342542Z",
          "iopub.status.busy": "2022-08-04T04:32:51.341701Z",
          "iopub.status.idle": "2022-08-04T04:32:51.343025Z",
          "shell.execute_reply": "2022-08-04T04:32:51.343351Z"
        },
        "papermill": {
          "duration": 0.059204,
          "end_time": "2022-08-04T04:32:51.343490",
          "exception": false,
          "start_time": "2022-08-04T04:32:51.284286",
          "status": "completed"
        },
        "tags": [
          "hide-input"
        ]
      },
      "outputs": [],
      "source": [
        "def is_float(x: Any) -> bool:\n",
        "    \"\"\"Check if an object is a `Float`\"\"\"\n",
        "    if isinstance(x, float):\n",
        "        return True\n",
        "    if isinstance(x, np.ndarray):\n",
        "        return x.dtype in (np.float16, np.float32, np.float64, np.float128)\n",
        "    if isinstance(x, jnp.ndarray):\n",
        "        return x.dtype in (jnp.float16, jnp.float32, jnp.float64)\n",
        "    return False"
      ]
    },
    {
      "cell_type": "code",
      "execution_count": 32,
      "id": "28374448",
      "metadata": {
        "execution": {
          "iopub.execute_input": "2022-08-04T04:32:51.453613Z",
          "iopub.status.busy": "2022-08-04T04:32:51.453126Z",
          "iopub.status.idle": "2022-08-04T04:32:51.458042Z",
          "shell.execute_reply": "2022-08-04T04:32:51.457687Z"
        },
        "papermill": {
          "duration": 0.062588,
          "end_time": "2022-08-04T04:32:51.458148",
          "exception": false,
          "start_time": "2022-08-04T04:32:51.395560",
          "status": "completed"
        },
        "tags": []
      },
      "outputs": [],
      "source": [
        "assert is_float(3.0)\n",
        "assert not is_float(3)\n",
        "assert not is_float(3.0 + 2j)\n",
        "assert not is_float(jnp.array(3.0, dtype=complex))\n",
        "assert not is_float(jnp.array(3, dtype=int))"
      ]
    },
    {
      "cell_type": "markdown",
      "id": "b83fd87a5653b9c0",
      "metadata": {},
      "source": [
        ":::{eval-rst}\n",
        ".. autofunction:: sax.typing_.is_complex\n",
        ":::\n"
      ]
    },
    {
      "cell_type": "code",
      "execution_count": 33,
      "id": "dd97f296957ce004",
      "metadata": {
        "execution": {
          "iopub.execute_input": "2022-08-04T04:32:51.570084Z",
          "iopub.status.busy": "2022-08-04T04:32:51.569620Z",
          "iopub.status.idle": "2022-08-04T04:32:51.570736Z",
          "shell.execute_reply": "2022-08-04T04:32:51.571139Z"
        },
        "papermill": {
          "duration": 0.059717,
          "end_time": "2022-08-04T04:32:51.571276",
          "exception": false,
          "start_time": "2022-08-04T04:32:51.511559",
          "status": "completed"
        },
        "tags": [
          "hide-input"
        ]
      },
      "outputs": [],
      "source": [
        "def is_complex(x: Any) -> bool:\n",
        "    \"\"\"check if an object is a `ComplexFloat`\"\"\"\n",
        "    if isinstance(x, complex):\n",
        "        return True\n",
        "    if isinstance(x, np.ndarray):\n",
        "        return x.dtype in (np.complex64, np.complex128)\n",
        "    if isinstance(x, jnp.ndarray):\n",
        "        return x.dtype in (jnp.complex64, jnp.complex128)\n",
        "    return False"
      ]
    },
    {
      "cell_type": "code",
      "execution_count": 34,
      "id": "d81a703d",
      "metadata": {
        "execution": {
          "iopub.execute_input": "2022-08-04T04:32:51.681607Z",
          "iopub.status.busy": "2022-08-04T04:32:51.681129Z",
          "iopub.status.idle": "2022-08-04T04:32:51.682800Z",
          "shell.execute_reply": "2022-08-04T04:32:51.682442Z"
        },
        "papermill": {
          "duration": 0.059372,
          "end_time": "2022-08-04T04:32:51.682909",
          "exception": false,
          "start_time": "2022-08-04T04:32:51.623537",
          "status": "completed"
        },
        "tags": []
      },
      "outputs": [],
      "source": [
        "assert not is_complex(3.0)\n",
        "assert not is_complex(3)\n",
        "assert is_complex(3.0 + 2j)\n",
        "assert is_complex(jnp.array(3.0, dtype=complex))\n",
        "assert not is_complex(jnp.array(3, dtype=int))"
      ]
    },
    {
      "cell_type": "markdown",
      "id": "2c3a2169b7b6a2d6",
      "metadata": {},
      "source": [
        ":::{eval-rst}\n",
        ".. autofunction:: sax.typing_.is_complex_float\n",
        ":::\n"
      ]
    },
    {
      "cell_type": "code",
      "execution_count": 35,
      "id": "0af49b3d4609a386",
      "metadata": {
        "execution": {
          "iopub.execute_input": "2022-08-04T04:32:51.792047Z",
          "iopub.status.busy": "2022-08-04T04:32:51.791603Z",
          "iopub.status.idle": "2022-08-04T04:32:51.793575Z",
          "shell.execute_reply": "2022-08-04T04:32:51.793171Z"
        },
        "papermill": {
          "duration": 0.057885,
          "end_time": "2022-08-04T04:32:51.793680",
          "exception": false,
          "start_time": "2022-08-04T04:32:51.735795",
          "status": "completed"
        },
        "tags": [
          "hide-input"
        ]
      },
      "outputs": [],
      "source": [
        "def is_complex_float(x: Any) -> bool:\n",
        "    \"\"\"check if an object is either a `ComplexFloat` or a `Float`\"\"\"\n",
        "    return is_float(x) or is_complex(x)"
      ]
    },
    {
      "cell_type": "code",
      "execution_count": 36,
      "id": "c533ff0d",
      "metadata": {
        "execution": {
          "iopub.execute_input": "2022-08-04T04:32:51.904065Z",
          "iopub.status.busy": "2022-08-04T04:32:51.903606Z",
          "iopub.status.idle": "2022-08-04T04:32:51.905336Z",
          "shell.execute_reply": "2022-08-04T04:32:51.904955Z"
        },
        "papermill": {
          "duration": 0.059164,
          "end_time": "2022-08-04T04:32:51.905469",
          "exception": false,
          "start_time": "2022-08-04T04:32:51.846305",
          "status": "completed"
        },
        "tags": []
      },
      "outputs": [],
      "source": [
        "assert is_complex_float(3.0)\n",
        "assert not is_complex_float(3)\n",
        "assert is_complex_float(3.0 + 2j)\n",
        "assert is_complex_float(jnp.array(3.0, dtype=complex))\n",
        "assert not is_complex_float(jnp.array(3, dtype=int))"
      ]
    },
    {
      "cell_type": "markdown",
      "id": "37649cdfd0f9605a",
      "metadata": {},
      "source": [
        ":::{eval-rst}\n",
        ".. autofunction:: sax.typing_.is_sdict\n",
        ":::\n"
      ]
    },
    {
      "cell_type": "code",
      "execution_count": 37,
      "id": "4e9760e8e67749aa",
      "metadata": {
        "execution": {
          "iopub.execute_input": "2022-08-04T04:32:52.014887Z",
          "iopub.status.busy": "2022-08-04T04:32:52.014448Z",
          "iopub.status.idle": "2022-08-04T04:32:52.015581Z",
          "shell.execute_reply": "2022-08-04T04:32:52.015916Z"
        },
        "papermill": {
          "duration": 0.058693,
          "end_time": "2022-08-04T04:32:52.016051",
          "exception": false,
          "start_time": "2022-08-04T04:32:51.957358",
          "status": "completed"
        },
        "tags": [
          "hide-input"
        ]
      },
      "outputs": [],
      "source": [
        "def is_sdict(x: Any) -> bool:\n",
        "    \"\"\"check if an object is an `SDict` (a SAX S-dictionary)\"\"\"\n",
        "    return isinstance(x, dict)"
      ]
    },
    {
      "cell_type": "code",
      "execution_count": 38,
      "id": "cb0365dc",
      "metadata": {
        "execution": {
          "iopub.execute_input": "2022-08-04T04:32:52.126114Z",
          "iopub.status.busy": "2022-08-04T04:32:52.125661Z",
          "iopub.status.idle": "2022-08-04T04:32:52.126708Z",
          "shell.execute_reply": "2022-08-04T04:32:52.127064Z"
        },
        "papermill": {
          "duration": 0.058352,
          "end_time": "2022-08-04T04:32:52.127190",
          "exception": false,
          "start_time": "2022-08-04T04:32:52.068838",
          "status": "completed"
        },
        "tags": []
      },
      "outputs": [],
      "source": [
        "assert not is_sdict(object())\n",
        "assert is_sdict(_sdict)\n",
        "assert not is_sdict(_scoo)\n",
        "assert not is_sdict(_sdense)"
      ]
    },
    {
      "cell_type": "markdown",
      "id": "8a3460c00b0ed692",
      "metadata": {},
      "source": [
        ":::{eval-rst}\n",
        ".. autofunction:: sax.typing_.is_scoo\n",
        ":::\n"
      ]
    },
    {
      "cell_type": "code",
      "execution_count": 39,
      "id": "1b5ec6e0d869a618",
      "metadata": {
        "execution": {
          "iopub.execute_input": "2022-08-04T04:32:52.239474Z",
          "iopub.status.busy": "2022-08-04T04:32:52.239017Z",
          "iopub.status.idle": "2022-08-04T04:32:52.240094Z",
          "shell.execute_reply": "2022-08-04T04:32:52.240453Z"
        },
        "papermill": {
          "duration": 0.059269,
          "end_time": "2022-08-04T04:32:52.240588",
          "exception": false,
          "start_time": "2022-08-04T04:32:52.181319",
          "status": "completed"
        },
        "tags": [
          "hide-input"
        ]
      },
      "outputs": [],
      "source": [
        "def is_scoo(x: Any) -> bool:\n",
        "    \"\"\"check if an object is an `SCoo` (a SAX sparse S-matrix representation in COO-format)\"\"\"\n",
        "    return isinstance(x, (tuple, list)) and len(x) == 4"
      ]
    },
    {
      "cell_type": "code",
      "execution_count": 40,
      "id": "9ea0239a",
      "metadata": {
        "execution": {
          "iopub.execute_input": "2022-08-04T04:32:52.350169Z",
          "iopub.status.busy": "2022-08-04T04:32:52.349730Z",
          "iopub.status.idle": "2022-08-04T04:32:52.351332Z",
          "shell.execute_reply": "2022-08-04T04:32:52.351672Z"
        },
        "papermill": {
          "duration": 0.058409,
          "end_time": "2022-08-04T04:32:52.351804",
          "exception": false,
          "start_time": "2022-08-04T04:32:52.293395",
          "status": "completed"
        },
        "tags": []
      },
      "outputs": [],
      "source": [
        "assert not is_scoo(object)\n",
        "assert not is_scoo(_sdict)\n",
        "assert is_scoo(_scoo)\n",
        "assert not is_scoo(_sdense)"
      ]
    },
    {
      "cell_type": "markdown",
      "id": "0f5e5aafd78feec4",
      "metadata": {},
      "source": [
        ":::{eval-rst}\n",
        ".. autofunction:: sax.typing_.is_sdense\n",
        ":::\n"
      ]
    },
    {
      "cell_type": "code",
      "execution_count": 41,
      "id": "7dbe119c40f6fdd2",
      "metadata": {
        "execution": {
          "iopub.execute_input": "2022-08-04T04:32:52.463243Z",
          "iopub.status.busy": "2022-08-04T04:32:52.462794Z",
          "iopub.status.idle": "2022-08-04T04:32:52.464418Z",
          "shell.execute_reply": "2022-08-04T04:32:52.464736Z"
        },
        "papermill": {
          "duration": 0.059284,
          "end_time": "2022-08-04T04:32:52.464871",
          "exception": false,
          "start_time": "2022-08-04T04:32:52.405587",
          "status": "completed"
        },
        "tags": [
          "hide-input"
        ]
      },
      "outputs": [],
      "source": [
        "def is_sdense(x: Any) -> bool:\n",
        "    \"\"\"check if an object is an `SDense` (a SAX dense S-matrix representation)\"\"\"\n",
        "    return isinstance(x, (tuple, list)) and len(x) == 2"
      ]
    },
    {
      "cell_type": "code",
      "execution_count": 42,
      "id": "2eddd63a",
      "metadata": {
        "execution": {
          "iopub.execute_input": "2022-08-04T04:32:52.575955Z",
          "iopub.status.busy": "2022-08-04T04:32:52.575515Z",
          "iopub.status.idle": "2022-08-04T04:32:52.576905Z",
          "shell.execute_reply": "2022-08-04T04:32:52.577219Z"
        },
        "papermill": {
          "duration": 0.059135,
          "end_time": "2022-08-04T04:32:52.577373",
          "exception": false,
          "start_time": "2022-08-04T04:32:52.518238",
          "status": "completed"
        },
        "tags": []
      },
      "outputs": [],
      "source": [
        "assert not is_sdense(object)\n",
        "assert not is_sdense(_sdict)\n",
        "assert not is_sdense(_scoo)\n",
        "assert is_sdense(_sdense)"
      ]
    },
    {
      "cell_type": "markdown",
      "id": "898de84136c52cc9",
      "metadata": {},
      "source": [
        ":::{eval-rst}\n",
        ".. autofunction:: sax.typing_.is_model\n",
        ":::\n"
      ]
    },
    {
      "cell_type": "code",
      "execution_count": 43,
      "id": "aa1fcbba2b98d068",
      "metadata": {
        "execution": {
          "iopub.execute_input": "2022-08-04T04:32:52.691541Z",
          "iopub.status.busy": "2022-08-04T04:32:52.691098Z",
          "iopub.status.idle": "2022-08-04T04:32:52.693123Z",
          "shell.execute_reply": "2022-08-04T04:32:52.692765Z"
        },
        "papermill": {
          "duration": 0.062762,
          "end_time": "2022-08-04T04:32:52.693227",
          "exception": false,
          "start_time": "2022-08-04T04:32:52.630465",
          "status": "completed"
        },
        "tags": [
          "hide-input"
        ]
      },
      "outputs": [],
      "source": [
        "def is_model(model: Any) -> bool:\n",
        "    \"\"\"check if a callable is a `Model` (a callable returning an `SType`)\"\"\"\n",
        "    if not callable(model):\n",
        "        return False\n",
        "    try:\n",
        "        sig = inspect.signature(model)\n",
        "    except ValueError:\n",
        "        return False\n",
        "    for param in sig.parameters.values():\n",
        "        if param.default is inspect.Parameter.empty:\n",
        "            return False  # a proper SAX model does not have any positional arguments.\n",
        "    if _is_callable_annotation(sig.return_annotation):  # model factory\n",
        "        return False\n",
        "    return True\n",
        "\n",
        "def _is_callable_annotation(annotation: Any) -> bool:\n",
        "    \"\"\"check if an annotation is `Callable`-like\"\"\"\n",
        "    if isinstance(annotation, str):\n",
        "        # happens when\n",
        "        # from __future__ import annotations\n",
        "        # was imported at the top of the file...\n",
        "        return annotation.startswith(\"Callable\") or annotation.endswith(\"Model\")\n",
        "        # TODO: this is not a very robust check...\n",
        "    try:\n",
        "        return annotation.__origin__ == CallableABC\n",
        "    except AttributeError:\n",
        "        return False"
      ]
    },
    {
      "cell_type": "code",
      "execution_count": 44,
      "id": "b66035ca098a0909",
      "metadata": {
        "execution": {
          "iopub.execute_input": "2022-08-04T04:32:52.803670Z",
          "iopub.status.busy": "2022-08-04T04:32:52.803231Z",
          "iopub.status.idle": "2022-08-04T04:32:52.804968Z",
          "shell.execute_reply": "2022-08-04T04:32:52.804612Z"
        },
        "papermill": {
          "duration": 0.058993,
          "end_time": "2022-08-04T04:32:52.805079",
          "exception": false,
          "start_time": "2022-08-04T04:32:52.746086",
          "status": "completed"
        },
        "tags": [
          "remove-cell"
        ]
      },
      "outputs": [],
      "source": [
        "assert _is_callable_annotation(Callable)\n",
        "assert not _is_callable_annotation(SDict)"
      ]
    },
    {
      "cell_type": "code",
      "execution_count": 45,
      "id": "89bdb647",
      "metadata": {
        "execution": {
          "iopub.execute_input": "2022-08-04T04:32:52.919773Z",
          "iopub.status.busy": "2022-08-04T04:32:52.918468Z",
          "iopub.status.idle": "2022-08-04T04:32:52.931256Z",
          "shell.execute_reply": "2022-08-04T04:32:52.930903Z"
        },
        "papermill": {
          "duration": 0.07361,
          "end_time": "2022-08-04T04:32:52.931362",
          "exception": false,
          "start_time": "2022-08-04T04:32:52.857752",
          "status": "completed"
        },
        "tags": []
      },
      "outputs": [],
      "source": [
        "def good_model(x=jnp.array(3.0), y=jnp.array(4.0)) -> SDict:\n",
        "    return {(\"in0\", \"out0\"): jnp.array(3.0)}\n",
        "assert is_model(good_model)\n",
        "\n",
        "def bad_model(positional_argument, x=jnp.array(3.0), y=jnp.array(4.0)) -> SDict:\n",
        "    return {(\"in0\", \"out0\"): jnp.array(3.0)}\n",
        "assert not is_model(bad_model)"
      ]
    },
    {
      "cell_type": "markdown",
      "id": "7399993aa63239df",
      "metadata": {},
      "source": [
        ":::{eval-rst}\n",
        ".. autofunction:: sax.typing_.is_model_factory\n",
        ":::\n"
      ]
    },
    {
      "cell_type": "code",
      "execution_count": 46,
      "id": "a525a8dd020afed2",
      "metadata": {
        "execution": {
          "iopub.execute_input": "2022-08-04T04:32:53.043171Z",
          "iopub.status.busy": "2022-08-04T04:32:53.042701Z",
          "iopub.status.idle": "2022-08-04T04:32:53.044300Z",
          "shell.execute_reply": "2022-08-04T04:32:53.044642Z"
        },
        "papermill": {
          "duration": 0.060408,
          "end_time": "2022-08-04T04:32:53.044779",
          "exception": false,
          "start_time": "2022-08-04T04:32:52.984371",
          "status": "completed"
        },
        "tags": [
          "hide-input"
        ]
      },
      "outputs": [],
      "source": [
        "def is_model_factory(model: Any) -> bool:\n",
        "    \"\"\"check if a callable is a model function.\"\"\"\n",
        "    if not callable(model):\n",
        "        return False\n",
        "    sig = inspect.signature(model)\n",
        "    if _is_callable_annotation(sig.return_annotation):  # model factory\n",
        "        return True\n",
        "    return False"
      ]
    },
    {
      "cell_type": "markdown",
      "id": "1f9715ed",
      "metadata": {
        "papermill": {
          "duration": 0.053889,
          "end_time": "2022-08-04T04:32:53.153028",
          "exception": false,
          "start_time": "2022-08-04T04:32:53.099139",
          "status": "completed"
        },
        "tags": []
      },
      "source": [
        "> Note: For a `Callable` to be considered a `ModelFactory` in SAX, it **MUST** have a `Callable` or `Model` return annotation. Otherwise SAX will view it as a `Model` and things might break!"
      ]
    },
    {
      "cell_type": "code",
      "execution_count": 47,
      "id": "fe9cdff0",
      "metadata": {
        "execution": {
          "iopub.execute_input": "2022-08-04T04:32:53.264865Z",
          "iopub.status.busy": "2022-08-04T04:32:53.264418Z",
          "iopub.status.idle": "2022-08-04T04:32:53.266381Z",
          "shell.execute_reply": "2022-08-04T04:32:53.266022Z"
        },
        "papermill": {
          "duration": 0.059903,
          "end_time": "2022-08-04T04:32:53.266489",
          "exception": false,
          "start_time": "2022-08-04T04:32:53.206586",
          "status": "completed"
        },
        "tags": []
      },
      "outputs": [],
      "source": [
        "def func() -> Model:\n",
        "    ...\n",
        "    \n",
        "assert is_model_factory(func) # yes, we only check the annotation for now...\n",
        "\n",
        "def func():\n",
        "    ...\n",
        "    \n",
        "assert not is_model_factory(func) # yes, we only check the annotation for now..."
      ]
    },
    {
      "cell_type": "markdown",
      "id": "30cd9089af8bfb95",
      "metadata": {},
      "source": [
        ":::{eval-rst}\n",
        ".. autofunction:: sax.typing_.validate_model\n",
        ":::\n"
      ]
    },
    {
      "cell_type": "code",
      "execution_count": 48,
      "id": "3aa3aa4b25212090",
      "metadata": {
        "execution": {
          "iopub.execute_input": "2022-08-04T04:32:53.380135Z",
          "iopub.status.busy": "2022-08-04T04:32:53.379674Z",
          "iopub.status.idle": "2022-08-04T04:32:53.380676Z",
          "shell.execute_reply": "2022-08-04T04:32:53.381071Z"
        },
        "papermill": {
          "duration": 0.060766,
          "end_time": "2022-08-04T04:32:53.381204",
          "exception": false,
          "start_time": "2022-08-04T04:32:53.320438",
          "status": "completed"
        },
        "tags": [
          "hide-input"
        ]
      },
      "outputs": [],
      "source": [
        "def validate_model(model: Callable):\n",
        "    \"\"\"Validate the parameters of a model\"\"\"\n",
        "    positional_arguments = []\n",
        "    for param in inspect.signature(model).parameters.values():\n",
        "        if param.default is inspect.Parameter.empty:\n",
        "            positional_arguments.append(param.name)\n",
        "    if positional_arguments:\n",
        "        raise ValueError(\n",
        "            f\"model '{model}' takes positional arguments {', '.join(positional_arguments)} \"\n",
        "            \"and hence is not a valid SAX Model! A SAX model should ONLY take keyword arguments (or no arguments at all).\"\n",
        "        )"
      ]
    },
    {
      "cell_type": "code",
      "execution_count": 49,
      "id": "754399d5",
      "metadata": {
        "execution": {
          "iopub.execute_input": "2022-08-04T04:32:53.494612Z",
          "iopub.status.busy": "2022-08-04T04:32:53.494176Z",
          "iopub.status.idle": "2022-08-04T04:32:53.496544Z",
          "shell.execute_reply": "2022-08-04T04:32:53.496188Z"
        },
        "papermill": {
          "duration": 0.061145,
          "end_time": "2022-08-04T04:32:53.496647",
          "exception": false,
          "start_time": "2022-08-04T04:32:53.435502",
          "status": "completed"
        },
        "tags": []
      },
      "outputs": [],
      "source": [
        "def good_model(x=jnp.array(3.0), y=jnp.array(4.0)) -> SDict:\n",
        "    return {(\"in0\", \"out0\"): jnp.array(3.0)}\n",
        "\n",
        "\n",
        "assert validate_model(good_model) is None"
      ]
    },
    {
      "cell_type": "code",
      "execution_count": 50,
      "id": "181c72fa",
      "metadata": {
        "execution": {
          "iopub.execute_input": "2022-08-04T04:32:53.610365Z",
          "iopub.status.busy": "2022-08-04T04:32:53.609928Z",
          "iopub.status.idle": "2022-08-04T04:32:53.611560Z",
          "shell.execute_reply": "2022-08-04T04:32:53.611186Z"
        },
        "papermill": {
          "duration": 0.060909,
          "end_time": "2022-08-04T04:32:53.611658",
          "exception": false,
          "start_time": "2022-08-04T04:32:53.550749",
          "status": "completed"
        },
        "tags": []
      },
      "outputs": [],
      "source": [
        "def bad_model(positional_argument, x=jnp.array(3.0), y=jnp.array(4.0)) -> SDict:\n",
        "    return {(\"in0\", \"out0\"): jnp.array(3.0)}\n",
        "\n",
        "\n",
        "with raises(ValueError):\n",
        "    validate_model(bad_model)"
      ]
    },
    {
      "cell_type": "markdown",
      "id": "1dc8ed573a68d9ce",
      "metadata": {},
      "source": [
        ":::{eval-rst}\n",
        ".. autofunction:: sax.typing_.is_instance\n",
        ":::\n"
      ]
    },
    {
      "cell_type": "code",
      "execution_count": 51,
      "id": "112b37581e5c7130",
      "metadata": {
        "execution": {
          "iopub.execute_input": "2022-08-04T04:32:53.724309Z",
          "iopub.status.busy": "2022-08-04T04:32:53.723858Z",
          "iopub.status.idle": "2022-08-04T04:32:53.725514Z",
          "shell.execute_reply": "2022-08-04T04:32:53.725061Z"
        },
        "papermill": {
          "duration": 0.060627,
          "end_time": "2022-08-04T04:32:53.725622",
          "exception": false,
          "start_time": "2022-08-04T04:32:53.664995",
          "status": "completed"
        },
        "tags": [
          "hide-input"
        ]
      },
      "outputs": [],
      "source": [
        "def is_instance(instance: Any) -> bool:\n",
        "    \"\"\"check if a dictionary is an instance\"\"\"\n",
        "    if not isinstance(instance, dict):\n",
        "        return False\n",
        "    return \"component\" in instance"
      ]
    },
    {
      "cell_type": "markdown",
      "id": "b29cd316d5d06911",
      "metadata": {},
      "source": [
        ":::{eval-rst}\n",
        ".. autofunction:: sax.typing_.is_netlist\n",
        ":::\n"
      ]
    },
    {
      "cell_type": "code",
      "execution_count": 52,
      "id": "d55f3bcecd905f9e",
      "metadata": {
        "execution": {
          "iopub.execute_input": "2022-08-04T04:32:53.839554Z",
          "iopub.status.busy": "2022-08-04T04:32:53.839089Z",
          "iopub.status.idle": "2022-08-04T04:32:53.840217Z",
          "shell.execute_reply": "2022-08-04T04:32:53.840625Z"
        },
        "papermill": {
          "duration": 0.060587,
          "end_time": "2022-08-04T04:32:53.840762",
          "exception": false,
          "start_time": "2022-08-04T04:32:53.780175",
          "status": "completed"
        },
        "tags": [
          "hide-input"
        ]
      },
      "outputs": [],
      "source": [
        "def is_netlist(netlist: Any) -> bool:\n",
        "    \"\"\"check if a dictionary is a netlist\"\"\"\n",
        "    if not isinstance(netlist, dict):\n",
        "        return False\n",
        "    if not \"instances\" in netlist:\n",
        "        return False\n",
        "    if not \"connections\" in netlist:\n",
        "        return False\n",
        "    if not \"ports\" in netlist:\n",
        "        return False\n",
        "    return True"
      ]
    },
    {
      "cell_type": "markdown",
      "id": "912f673eea098d8d",
      "metadata": {},
      "source": [
        ":::{eval-rst}\n",
        ".. autofunction:: sax.typing_.is_stype\n",
        ":::\n"
      ]
    },
    {
      "cell_type": "code",
      "execution_count": 53,
      "id": "34554a5ecf2744be",
      "metadata": {
        "execution": {
          "iopub.execute_input": "2022-08-04T04:32:53.953735Z",
          "iopub.status.busy": "2022-08-04T04:32:53.953257Z",
          "iopub.status.idle": "2022-08-04T04:32:53.954900Z",
          "shell.execute_reply": "2022-08-04T04:32:53.954534Z"
        },
        "papermill": {
          "duration": 0.060242,
          "end_time": "2022-08-04T04:32:53.955002",
          "exception": false,
          "start_time": "2022-08-04T04:32:53.894760",
          "status": "completed"
        },
        "tags": [
          "hide-input"
        ]
      },
      "outputs": [],
      "source": [
        "def is_stype(stype: Any) -> bool:\n",
        "    \"\"\"check if an object is an SDict, SCoo or SDense\"\"\"\n",
        "    return is_sdict(stype) or is_scoo(stype) or is_sdense(stype)"
      ]
    },
    {
      "cell_type": "markdown",
      "id": "6e3d24d56107b76c",
      "metadata": {},
      "source": [
        ":::{eval-rst}\n",
        ".. autofunction:: sax.typing_.is_singlemode\n",
        ":::\n"
      ]
    },
    {
      "cell_type": "code",
      "execution_count": 54,
      "id": "2fe1347a19226966",
      "metadata": {
        "execution": {
          "iopub.execute_input": "2022-08-04T04:32:54.068537Z",
          "iopub.status.busy": "2022-08-04T04:32:54.068070Z",
          "iopub.status.idle": "2022-08-04T04:32:54.069311Z",
          "shell.execute_reply": "2022-08-04T04:32:54.069656Z"
        },
        "papermill": {
          "duration": 0.061221,
          "end_time": "2022-08-04T04:32:54.069795",
          "exception": false,
          "start_time": "2022-08-04T04:32:54.008574",
          "status": "completed"
        },
        "tags": [
          "hide-input"
        ]
      },
      "outputs": [],
      "source": [
        "def is_singlemode(S: Any) -> bool:\n",
        "    \"\"\"check if an stype is single mode\"\"\"\n",
        "    if not is_stype(S):\n",
        "        return False\n",
        "    ports = _get_ports(S)\n",
        "    return not any((\"@\" in p) for p in ports)\n",
        "\n",
        "def _get_ports(S: SType):\n",
        "    if is_sdict(S):\n",
        "        S = cast(SDict, S)\n",
        "        ports_set = {p1 for p1, _ in S} | {p2 for _, p2 in S}\n",
        "        return tuple(natsorted(ports_set))\n",
        "    else:\n",
        "        *_, ports_map = S\n",
        "        assert isinstance(ports_map, dict)\n",
        "        return tuple(natsorted(ports_map.keys()))"
      ]
    },
    {
      "cell_type": "markdown",
      "id": "86e3c6509fcc3f1e",
      "metadata": {},
      "source": [
        ":::{eval-rst}\n",
        ".. autofunction:: sax.typing_.is_multimode\n",
        ":::\n"
      ]
    },
    {
      "cell_type": "code",
      "execution_count": 55,
      "id": "398104888c27f0af",
      "metadata": {
        "execution": {
          "iopub.execute_input": "2022-08-04T04:32:54.182540Z",
          "iopub.status.busy": "2022-08-04T04:32:54.182097Z",
          "iopub.status.idle": "2022-08-04T04:32:54.186404Z",
          "shell.execute_reply": "2022-08-04T04:32:54.186053Z"
        },
        "papermill": {
          "duration": 0.061717,
          "end_time": "2022-08-04T04:32:54.186509",
          "exception": false,
          "start_time": "2022-08-04T04:32:54.124792",
          "status": "completed"
        },
        "tags": [
          "hide-input"
        ]
      },
      "outputs": [],
      "source": [
        "def is_multimode(S: Any) -> bool:\n",
        "    \"\"\"check if an stype is single mode\"\"\"\n",
        "    if not is_stype(S):\n",
        "        return False\n",
        "    \n",
        "    ports = _get_ports(S)\n",
        "    return all((\"@\" in p) for p in ports)"
      ]
    },
    {
      "cell_type": "markdown",
      "id": "1be05994ad6a7fe6",
      "metadata": {},
      "source": [
        ":::{eval-rst}\n",
        ".. autofunction:: sax.typing_.is_mixedmode\n",
        ":::\n"
      ]
    },
    {
      "cell_type": "code",
      "execution_count": 56,
      "id": "dde21b3a44ec2c47",
      "metadata": {
        "execution": {
          "iopub.execute_input": "2022-08-04T04:32:54.299828Z",
          "iopub.status.busy": "2022-08-04T04:32:54.299377Z",
          "iopub.status.idle": "2022-08-04T04:32:54.301066Z",
          "shell.execute_reply": "2022-08-04T04:32:54.300712Z"
        },
        "papermill": {
          "duration": 0.060777,
          "end_time": "2022-08-04T04:32:54.301174",
          "exception": false,
          "start_time": "2022-08-04T04:32:54.240397",
          "status": "completed"
        },
        "tags": [
          "hide-input"
        ]
      },
      "outputs": [],
      "source": [
        "def is_mixedmode(S: Any) -> bool:\n",
        "    \"\"\"check if an stype is neither single mode nor multimode (hence invalid)\"\"\"\n",
        "    return not is_singlemode(S) and not is_multimode(S)"
      ]
    },
    {
      "cell_type": "markdown",
      "id": "3afe685c",
      "metadata": {
        "papermill": {
          "duration": 0.05498,
          "end_time": "2022-08-04T04:32:54.411083",
          "exception": false,
          "start_time": "2022-08-04T04:32:54.356103",
          "status": "completed"
        },
        "tags": []
      },
      "source": [
        "## SAX return type helpers\n",
        "\n",
        "> a.k.a SDict, SDense, SCoo helpers"
      ]
    },
    {
      "cell_type": "markdown",
      "id": "a875f149",
      "metadata": {
        "papermill": {
          "duration": 0.054567,
          "end_time": "2022-08-04T04:32:54.520335",
          "exception": false,
          "start_time": "2022-08-04T04:32:54.465768",
          "status": "completed"
        },
        "tags": []
      },
      "source": [
        "Convert an `SDict`, `SCoo` or `SDense` into an `SDict` (or convert a model generating any of these types into a model generating an `SDict`):"
      ]
    },
    {
      "cell_type": "code",
      "execution_count": 57,
      "id": "3e94f519ca2080cb",
      "metadata": {
        "execution": {
          "iopub.execute_input": "2022-08-04T04:32:54.632641Z",
          "iopub.status.busy": "2022-08-04T04:32:54.632190Z",
          "iopub.status.idle": "2022-08-04T04:32:54.635866Z",
          "shell.execute_reply": "2022-08-04T04:32:54.635513Z"
        },
        "papermill": {
          "duration": 0.06087,
          "end_time": "2022-08-04T04:32:54.635972",
          "exception": false,
          "start_time": "2022-08-04T04:32:54.575102",
          "status": "completed"
        },
        "tags": [
          "remove-cell"
        ]
      },
      "outputs": [],
      "source": [
        "\n",
        "@overload\n",
        "def sdict(S: Model) -> Model:\n",
        "    ...\n",
        "\n",
        "\n",
        "@overload\n",
        "def sdict(S: SType) -> SDict:\n",
        "    ..."
      ]
    },
    {
      "cell_type": "markdown",
      "id": "c3c2f9dcc3dff925",
      "metadata": {},
      "source": [
        ":::{eval-rst}\n",
        ".. autofunction:: sax.typing_.sdict\n",
        ":::\n"
      ]
    },
    {
      "cell_type": "code",
      "execution_count": 58,
      "id": "f8410dd000b3fb5e",
      "metadata": {
        "execution": {
          "iopub.execute_input": "2022-08-04T04:32:54.753996Z",
          "iopub.status.busy": "2022-08-04T04:32:54.753532Z",
          "iopub.status.idle": "2022-08-04T04:32:54.755008Z",
          "shell.execute_reply": "2022-08-04T04:32:54.755401Z"
        },
        "papermill": {
          "duration": 0.065405,
          "end_time": "2022-08-04T04:32:54.755531",
          "exception": false,
          "start_time": "2022-08-04T04:32:54.690126",
          "status": "completed"
        },
        "tags": [
          "hide-input"
        ]
      },
      "outputs": [],
      "source": [
        "def sdict(S: Union[Model, SType]) -> Union[Model, SType]:\n",
        "    \"\"\"Convert an `SCoo` or `SDense` to `SDict`\"\"\"\n",
        "\n",
        "    if is_model(S):\n",
        "        model = cast(Model, S)\n",
        "\n",
        "        @functools.wraps(model)\n",
        "        def wrapper(**kwargs):\n",
        "            return sdict(model(**kwargs))\n",
        "\n",
        "        return wrapper\n",
        "\n",
        "    elif is_scoo(S):\n",
        "        x_dict = _scoo_to_sdict(*cast(SCoo, S))\n",
        "    elif is_sdense(S):\n",
        "        x_dict = _sdense_to_sdict(*cast(SDense, S))\n",
        "    elif is_sdict(S):\n",
        "        x_dict = cast(SDict, S)\n",
        "    else:\n",
        "        raise ValueError(\"Could not convert arguments to sdict.\")\n",
        "\n",
        "    return x_dict\n",
        "\n",
        "\n",
        "def _scoo_to_sdict(Si: Array, Sj: Array, Sx: Array, ports_map: Dict[str, int]) -> SDict:\n",
        "    sdict = {}\n",
        "    inverse_ports_map = {int(i): p for p, i in ports_map.items()}\n",
        "    for i, (si, sj) in enumerate(zip(Si, Sj)):\n",
        "        sdict[\n",
        "            inverse_ports_map.get(int(si), \"\"), inverse_ports_map.get(int(sj), \"\")\n",
        "        ] = Sx[..., i]\n",
        "    sdict = {(p1, p2): v for (p1, p2), v in sdict.items() if p1 and p2}\n",
        "    return sdict\n",
        "\n",
        "\n",
        "def _sdense_to_sdict(S: Array, ports_map: Dict[str, int]) -> SDict:\n",
        "    sdict = {}\n",
        "    for p1, i in ports_map.items():\n",
        "        for p2, j in ports_map.items():\n",
        "            sdict[p1, p2] = S[..., i, j]\n",
        "    return sdict"
      ]
    },
    {
      "cell_type": "code",
      "execution_count": 59,
      "id": "9a372fbf",
      "metadata": {
        "execution": {
          "iopub.execute_input": "2022-08-04T04:32:54.876763Z",
          "iopub.status.busy": "2022-08-04T04:32:54.876300Z",
          "iopub.status.idle": "2022-08-04T04:32:54.995909Z",
          "shell.execute_reply": "2022-08-04T04:32:54.996322Z"
        },
        "papermill": {
          "duration": 0.186715,
          "end_time": "2022-08-04T04:32:54.996493",
          "exception": false,
          "start_time": "2022-08-04T04:32:54.809778",
          "status": "completed"
        },
        "tags": []
      },
      "outputs": [],
      "source": [
        "assert sdict(_sdict) is _sdict\n",
        "assert sdict(_scoo) == {\n",
        "    (\"in0\", \"in0\"): 3.0,\n",
        "    (\"in1\", \"in0\"): 1.0,\n",
        "    (\"out0\", \"out0\"): 4.0,\n",
        "}\n",
        "assert sdict(_sdense) == {\n",
        "    (\"in0\", \"in0\"): 0.0,\n",
        "    (\"in0\", \"out0\"): 1.0,\n",
        "    (\"in0\", \"in1\"): 2.0,\n",
        "    (\"out0\", \"in0\"): 3.0,\n",
        "    (\"out0\", \"out0\"): 4.0,\n",
        "    (\"out0\", \"in1\"): 5.0,\n",
        "    (\"in1\", \"in0\"): 6.0,\n",
        "    (\"in1\", \"out0\"): 7.0,\n",
        "    (\"in1\", \"in1\"): 8.0,\n",
        "}"
      ]
    },
    {
      "cell_type": "markdown",
      "id": "492c5cdd",
      "metadata": {
        "papermill": {
          "duration": 0.055201,
          "end_time": "2022-08-04T04:32:55.107981",
          "exception": false,
          "start_time": "2022-08-04T04:32:55.052780",
          "status": "completed"
        },
        "tags": []
      },
      "source": [
        "Convert an `SDict`, `SCoo` or `SDense` into an `SCoo` (or convert a model generating any of these types into a model generating an `SCoo`):"
      ]
    },
    {
      "cell_type": "code",
      "execution_count": 60,
      "id": "6a4a6ad26a28828b",
      "metadata": {
        "execution": {
          "iopub.execute_input": "2022-08-04T04:32:55.223214Z",
          "iopub.status.busy": "2022-08-04T04:32:55.222770Z",
          "iopub.status.idle": "2022-08-04T04:32:55.224699Z",
          "shell.execute_reply": "2022-08-04T04:32:55.224328Z"
        },
        "papermill": {
          "duration": 0.061718,
          "end_time": "2022-08-04T04:32:55.224803",
          "exception": false,
          "start_time": "2022-08-04T04:32:55.163085",
          "status": "completed"
        },
        "tags": [
          "remove-cell"
        ]
      },
      "outputs": [],
      "source": [
        "\n",
        "@overload\n",
        "def scoo(S: Callable) -> Callable:\n",
        "    ...\n",
        "\n",
        "\n",
        "@overload\n",
        "def scoo(S: SType) -> SCoo:\n",
        "    ..."
      ]
    },
    {
      "cell_type": "markdown",
      "id": "5540cc1a17efce07",
      "metadata": {},
      "source": [
        ":::{eval-rst}\n",
        ".. autofunction:: sax.typing_.scoo\n",
        ":::\n"
      ]
    },
    {
      "cell_type": "code",
      "execution_count": 61,
      "id": "58283009f7cc26da",
      "metadata": {
        "execution": {
          "iopub.execute_input": "2022-08-04T04:32:55.344479Z",
          "iopub.status.busy": "2022-08-04T04:32:55.343988Z",
          "iopub.status.idle": "2022-08-04T04:32:55.345306Z",
          "shell.execute_reply": "2022-08-04T04:32:55.345667Z"
        },
        "papermill": {
          "duration": 0.066215,
          "end_time": "2022-08-04T04:32:55.345812",
          "exception": false,
          "start_time": "2022-08-04T04:32:55.279597",
          "status": "completed"
        },
        "tags": [
          "hide-input"
        ]
      },
      "outputs": [],
      "source": [
        "\n",
        "def scoo(S: Union[Callable, SType]) -> Union[Callable, SCoo]:\n",
        "    \"\"\"Convert an `SDict` or `SDense` to `SCoo`\"\"\"\n",
        "\n",
        "    if is_model(S):\n",
        "        model = cast(Model, S)\n",
        "\n",
        "        @functools.wraps(model)\n",
        "        def wrapper(**kwargs):\n",
        "            return scoo(model(**kwargs))\n",
        "\n",
        "        return wrapper\n",
        "\n",
        "    elif is_scoo(S):\n",
        "        S = cast(SCoo, S)\n",
        "    elif is_sdense(S):\n",
        "        S = _sdense_to_scoo(*cast(SDense, S))\n",
        "    elif is_sdict(S):\n",
        "        S = _sdict_to_scoo(cast(SDict, S))\n",
        "    else:\n",
        "        raise ValueError(\"Could not convert arguments to scoo.\")\n",
        "\n",
        "    return S\n",
        "\n",
        "\n",
        "def _sdense_to_scoo(S: Array, ports_map: Dict[str, int]) -> SCoo:\n",
        "    Sj, Si = jnp.meshgrid(jnp.arange(S.shape[-1]), jnp.arange(S.shape[-2]))\n",
        "    return Si.ravel(), Sj.ravel(), S.reshape(*S.shape[:-2], -1), ports_map\n",
        "\n",
        "\n",
        "def _sdict_to_scoo(sdict: SDict) -> SCoo:\n",
        "    all_ports = {}\n",
        "    for p1, p2 in sdict:\n",
        "        all_ports[p1] = None\n",
        "        all_ports[p2] = None\n",
        "    ports_map = {p: i for i, p in enumerate(all_ports)}\n",
        "    Sx = jnp.stack(jnp.broadcast_arrays(*sdict.values()), -1)\n",
        "    Si = jnp.array([ports_map[p] for p, _ in sdict])\n",
        "    Sj = jnp.array([ports_map[p] for _, p in sdict])\n",
        "    return Si, Sj, Sx, ports_map"
      ]
    },
    {
      "cell_type": "code",
      "execution_count": 62,
      "id": "1e97b31c",
      "metadata": {
        "execution": {
          "iopub.execute_input": "2022-08-04T04:32:55.467839Z",
          "iopub.status.busy": "2022-08-04T04:32:55.467372Z",
          "iopub.status.idle": "2022-08-04T04:32:55.553766Z",
          "shell.execute_reply": "2022-08-04T04:32:55.553250Z"
        },
        "papermill": {
          "duration": 0.15292,
          "end_time": "2022-08-04T04:32:55.553908",
          "exception": false,
          "start_time": "2022-08-04T04:32:55.400988",
          "status": "completed"
        },
        "tags": []
      },
      "outputs": [],
      "source": [
        "assert scoo(_scoo) is _scoo\n",
        "assert scoo(_sdict) == (0, 1, 3.0, {\"in0\": 0, \"out0\": 1})\n",
        "Si, Sj, Sx, port_map = scoo(_sdense)  # type: ignore\n",
        "np.testing.assert_array_equal(Si, jnp.array([0, 0, 0, 1, 1, 1, 2, 2, 2]))\n",
        "np.testing.assert_array_equal(Sj, jnp.array([0, 1, 2, 0, 1, 2, 0, 1, 2]))\n",
        "np.testing.assert_array_almost_equal(Sx, jnp.array([0.0, 1.0, 2.0, 3.0, 4.0, 5.0, 6.0, 7.0, 8.0]))\n",
        "assert port_map == {\"in0\": 0, \"in1\": 2, \"out0\": 1}"
      ]
    },
    {
      "cell_type": "markdown",
      "id": "5e58325b",
      "metadata": {
        "papermill": {
          "duration": 0.055419,
          "end_time": "2022-08-04T04:32:55.665770",
          "exception": false,
          "start_time": "2022-08-04T04:32:55.610351",
          "status": "completed"
        },
        "tags": []
      },
      "source": [
        "Convert an `SDict`, `SCoo` or `SDense` into an `SDense` (or convert a model generating any of these types into a model generating an `SDense`):"
      ]
    },
    {
      "cell_type": "code",
      "execution_count": 63,
      "id": "b20586b0271022cb",
      "metadata": {
        "execution": {
          "iopub.execute_input": "2022-08-04T04:32:55.780762Z",
          "iopub.status.busy": "2022-08-04T04:32:55.780312Z",
          "iopub.status.idle": "2022-08-04T04:32:55.781553Z",
          "shell.execute_reply": "2022-08-04T04:32:55.781901Z"
        },
        "papermill": {
          "duration": 0.061378,
          "end_time": "2022-08-04T04:32:55.782035",
          "exception": false,
          "start_time": "2022-08-04T04:32:55.720657",
          "status": "completed"
        },
        "tags": [
          "remove-cell"
        ]
      },
      "outputs": [],
      "source": [
        "\n",
        "@overload\n",
        "def sdense(S: Callable) -> Callable:\n",
        "    ...\n",
        "\n",
        "\n",
        "@overload\n",
        "def sdense(S: SType) -> SDense:\n",
        "    ..."
      ]
    },
    {
      "cell_type": "markdown",
      "id": "bbcd169760810126",
      "metadata": {},
      "source": [
        ":::{eval-rst}\n",
        ".. autofunction:: sax.typing_.sdense\n",
        ":::\n"
      ]
    },
    {
      "cell_type": "code",
      "execution_count": 64,
      "id": "1519fecebfd2f33c",
      "metadata": {
        "execution": {
          "iopub.execute_input": "2022-08-04T04:32:55.899864Z",
          "iopub.status.busy": "2022-08-04T04:32:55.899383Z",
          "iopub.status.idle": "2022-08-04T04:32:55.900836Z",
          "shell.execute_reply": "2022-08-04T04:32:55.901175Z"
        },
        "papermill": {
          "duration": 0.064637,
          "end_time": "2022-08-04T04:32:55.901341",
          "exception": false,
          "start_time": "2022-08-04T04:32:55.836704",
          "status": "completed"
        },
        "tags": [
          "hide-input"
        ]
      },
      "outputs": [],
      "source": [
        "\n",
        "def sdense(S: Union[Callable, SType]) -> Union[Callable, SDense]:\n",
        "    \"\"\"Convert an `SDict` or `SCoo` to `SDense`\"\"\"\n",
        "\n",
        "    if is_model(S):\n",
        "        model = cast(Model, S)\n",
        "\n",
        "        @functools.wraps(model)\n",
        "        def wrapper(**kwargs):\n",
        "            return sdense(model(**kwargs))\n",
        "\n",
        "        return wrapper\n",
        "\n",
        "    if is_sdict(S):\n",
        "        S = _sdict_to_sdense(cast(SDict, S))\n",
        "    elif is_scoo(S):\n",
        "        S = _scoo_to_sdense(*cast(SCoo, S))\n",
        "    elif is_sdense(S):\n",
        "        S = cast(SDense, S)\n",
        "    else:\n",
        "        raise ValueError(\"Could not convert arguments to sdense.\")\n",
        "\n",
        "    return S\n",
        "\n",
        "\n",
        "def _scoo_to_sdense(\n",
        "    Si: Array, Sj: Array, Sx: Array, ports_map: Dict[str, int]\n",
        ") -> SDense:\n",
        "    n_col = len(ports_map)\n",
        "    S = jnp.zeros((*Sx.shape[:-1], n_col, n_col), dtype=complex)\n",
        "    if JAX_AVAILABLE:\n",
        "        S = S.at[..., Si, Sj].add(Sx)\n",
        "    else:\n",
        "        S[..., Si, Sj] = Sx\n",
        "    return S, ports_map\n",
        "\n",
        "def _sdict_to_sdense(sdict: SDict) -> SDense:\n",
        "    Si, Sj, Sx, ports_map = _sdict_to_scoo(sdict)\n",
        "    return _scoo_to_sdense(Si, Sj, Sx, ports_map)"
      ]
    },
    {
      "cell_type": "code",
      "execution_count": 65,
      "id": "084b7ddb",
      "metadata": {
        "execution": {
          "iopub.execute_input": "2022-08-04T04:32:56.021713Z",
          "iopub.status.busy": "2022-08-04T04:32:56.019874Z",
          "iopub.status.idle": "2022-08-04T04:32:56.157825Z",
          "shell.execute_reply": "2022-08-04T04:32:56.157344Z"
        },
        "papermill": {
          "duration": 0.201132,
          "end_time": "2022-08-04T04:32:56.157965",
          "exception": false,
          "start_time": "2022-08-04T04:32:55.956833",
          "status": "completed"
        },
        "tags": []
      },
      "outputs": [],
      "source": [
        "assert sdense(_sdense) is _sdense\n",
        "Sd, port_map = sdense(_scoo)  # type: ignore\n",
        "Sd_ = jnp.array([[3.0 + 0.0j, 0.0 + 0.0j, 0.0 + 0.0j],\n",
        "                 [0.0 + 0.0j, 4.0 + 0.0j, 0.0 + 0.0j],\n",
        "                 [1.0 + 0.0j, 0.0 + 0.0j, 0.0 + 0.0j]])\n",
        "\n",
        "np.testing.assert_array_almost_equal(Sd, Sd_)\n",
        "assert port_map == {\"in0\": 0, \"in1\": 2, \"out0\": 1}"
      ]
    },
    {
      "cell_type": "markdown",
      "id": "b1c7344a51cad6e5",
      "metadata": {},
      "source": [
        ":::{eval-rst}\n",
        ".. autofunction:: sax.typing_.modelfactory\n",
        ":::\n"
      ]
    },
    {
      "cell_type": "code",
      "execution_count": 66,
      "id": "4dd36f33f84b9ac3",
      "metadata": {
        "execution": {
          "iopub.execute_input": "2022-08-04T04:32:56.274744Z",
          "iopub.status.busy": "2022-08-04T04:32:56.274301Z",
          "iopub.status.idle": "2022-08-04T04:32:56.275447Z",
          "shell.execute_reply": "2022-08-04T04:32:56.275786Z"
        },
        "papermill": {
          "duration": 0.062186,
          "end_time": "2022-08-04T04:32:56.275914",
          "exception": false,
          "start_time": "2022-08-04T04:32:56.213728",
          "status": "completed"
        },
        "tags": [
          "hide-input"
        ]
      },
      "outputs": [],
      "source": [
        "\n",
        "def modelfactory(func):\n",
        "    \"\"\"Decorator that marks a function as `ModelFactory`\"\"\"\n",
        "    sig = inspect.signature(func)\n",
        "    if _is_callable_annotation(sig.return_annotation):  # already model factory\n",
        "        return func\n",
        "    func.__signature__ = sig.replace(return_annotation=Model)\n",
        "    return func"
      ]
    }
  ],
  "metadata": {
    "kernelspec": {
      "display_name": "sax",
      "language": "python",
      "name": "sax"
    },
    "language_info": {
      "codemirror_mode": {
        "name": "ipython",
        "version": 3
      },
      "file_extension": ".py",
      "mimetype": "text/x-python",
      "name": "python",
      "nbconvert_exporter": "python",
      "pygments_lexer": "ipython3",
      "version": "3.9.0"
    },
    "papermill": {
      "default_parameters": {},
      "duration": 17.527152,
      "end_time": "2022-08-04T04:32:57.521710",
      "environment_variables": {},
      "exception": null,
      "input_path": "./nbs/00_typing.ipynb",
      "output_path": "./nbs/00_typing.ipynb",
      "parameters": {},
      "start_time": "2022-08-04T04:32:39.994558",
      "version": "2.3.4"
    }
  },
  "nbformat": 4,
  "nbformat_minor": 5
}
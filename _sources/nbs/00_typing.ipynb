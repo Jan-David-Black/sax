{
  "cells": [
    {
      "cell_type": "code",
      "execution_count": 1,
      "id": "d06449af5b03678a",
      "metadata": {
        "execution": {
          "iopub.execute_input": "2022-08-04T05:48:36.295058Z",
          "iopub.status.busy": "2022-08-04T05:48:36.294505Z",
          "iopub.status.idle": "2022-08-04T05:48:36.297410Z",
          "shell.execute_reply": "2022-08-04T05:48:36.296916Z"
        },
        "papermill": {
          "duration": 0.068831,
          "end_time": "2022-08-04T05:48:36.297553",
          "exception": false,
          "start_time": "2022-08-04T05:48:36.228722",
          "status": "completed"
        },
        "tags": [
          "remove-cell"
        ]
      },
      "outputs": [],
      "source": []
    },
    {
      "cell_type": "markdown",
      "id": "13a3464b",
      "metadata": {
        "papermill": {
          "duration": 0.057314,
          "end_time": "2022-08-04T05:48:36.412050",
          "exception": false,
          "start_time": "2022-08-04T05:48:36.354736",
          "status": "completed"
        },
        "tags": []
      },
      "source": [
        "# Typing\n",
        "\n",
        "> SAX types"
      ]
    },
    {
      "cell_type": "code",
      "execution_count": 2,
      "id": "2775d8b33960be7c",
      "metadata": {
        "execution": {
          "iopub.execute_input": "2022-08-04T05:48:36.537408Z",
          "iopub.status.busy": "2022-08-04T05:48:36.536868Z",
          "iopub.status.idle": "2022-08-04T05:48:37.360214Z",
          "shell.execute_reply": "2022-08-04T05:48:37.359754Z"
        },
        "papermill": {
          "duration": 0.890433,
          "end_time": "2022-08-04T05:48:37.360346",
          "exception": false,
          "start_time": "2022-08-04T05:48:36.469913",
          "status": "completed"
        },
        "tags": [
          "remove-cell"
        ]
      },
      "outputs": [],
      "source": [
        "import matplotlib.pyplot as plt\n",
        "from fastcore.test import test_eq\n",
        "from pytest import approx, raises\n",
        "\n",
        "import os, sys; sys.stderr = open(os.devnull, \"w\")"
      ]
    },
    {
      "cell_type": "code",
      "execution_count": 3,
      "id": "c9b7803ec6ff3221",
      "metadata": {
        "execution": {
          "iopub.execute_input": "2022-08-04T05:48:37.483842Z",
          "iopub.status.busy": "2022-08-04T05:48:37.483308Z",
          "iopub.status.idle": "2022-08-04T05:48:38.153472Z",
          "shell.execute_reply": "2022-08-04T05:48:38.152912Z"
        },
        "papermill": {
          "duration": 0.735728,
          "end_time": "2022-08-04T05:48:38.153608",
          "exception": false,
          "start_time": "2022-08-04T05:48:37.417880",
          "status": "completed"
        },
        "tags": [
          "hide-input"
        ]
      },
      "outputs": [],
      "source": [
        "from __future__ import annotations\n",
        "\n",
        "import functools\n",
        "import inspect\n",
        "from collections.abc import Callable as CallableABC\n",
        "from typing import Any, Callable, Dict, Tuple, Union, cast, overload\n",
        "try:\n",
        "    from typing import TypedDict\n",
        "except ImportError: # python<3.8\n",
        "    from typing_extensions import TypedDict\n",
        "\n",
        "import numpy as np\n",
        "from natsort import natsorted\n",
        "\n",
        "try:\n",
        "    import jax.numpy as jnp\n",
        "    JAX_AVAILABLE = True\n",
        "except ImportError:\n",
        "    import numpy as jnp\n",
        "    JAX_AVAILABLE = False"
      ]
    },
    {
      "cell_type": "markdown",
      "id": "41e26ab2",
      "metadata": {
        "papermill": {
          "duration": 0.057812,
          "end_time": "2022-08-04T05:48:38.270673",
          "exception": false,
          "start_time": "2022-08-04T05:48:38.212861",
          "status": "completed"
        },
        "tags": []
      },
      "source": [
        "## Core Types"
      ]
    },
    {
      "cell_type": "markdown",
      "id": "ca29df5c",
      "metadata": {
        "papermill": {
          "duration": 0.05724,
          "end_time": "2022-08-04T05:48:38.423004",
          "exception": false,
          "start_time": "2022-08-04T05:48:38.365764",
          "status": "completed"
        },
        "tags": []
      },
      "source": [
        "### Array"
      ]
    },
    {
      "cell_type": "markdown",
      "id": "82c3c344",
      "metadata": {
        "papermill": {
          "duration": 0.057566,
          "end_time": "2022-08-04T05:48:38.538545",
          "exception": false,
          "start_time": "2022-08-04T05:48:38.480979",
          "status": "completed"
        },
        "tags": []
      },
      "source": [
        "an `Array` is either a jax array or a numpy array:"
      ]
    },
    {
      "cell_type": "code",
      "execution_count": 4,
      "id": "16d6b629e5e93a14",
      "metadata": {
        "execution": {
          "iopub.execute_input": "2022-08-04T05:48:38.660604Z",
          "iopub.status.busy": "2022-08-04T05:48:38.660091Z",
          "iopub.status.idle": "2022-08-04T05:48:38.661722Z",
          "shell.execute_reply": "2022-08-04T05:48:38.662196Z"
        },
        "papermill": {
          "duration": 0.065645,
          "end_time": "2022-08-04T05:48:38.662337",
          "exception": false,
          "start_time": "2022-08-04T05:48:38.596692",
          "status": "completed"
        },
        "tags": []
      },
      "outputs": [],
      "source": [
        "Array = Union[jnp.ndarray, np.ndarray]"
      ]
    },
    {
      "cell_type": "markdown",
      "id": "6b86fa37",
      "metadata": {
        "papermill": {
          "duration": 0.058268,
          "end_time": "2022-08-04T05:48:38.779405",
          "exception": false,
          "start_time": "2022-08-04T05:48:38.721137",
          "status": "completed"
        },
        "tags": []
      },
      "source": [
        "### Int"
      ]
    },
    {
      "cell_type": "markdown",
      "id": "9fa467c9",
      "metadata": {
        "papermill": {
          "duration": 0.058403,
          "end_time": "2022-08-04T05:48:38.895974",
          "exception": false,
          "start_time": "2022-08-04T05:48:38.837571",
          "status": "completed"
        },
        "tags": []
      },
      "source": [
        "An `Int` is either a built-in `int` or an `Array` [of dtype `int`]"
      ]
    },
    {
      "cell_type": "code",
      "execution_count": 5,
      "id": "1f85b372fb77801c",
      "metadata": {
        "execution": {
          "iopub.execute_input": "2022-08-04T05:48:39.019053Z",
          "iopub.status.busy": "2022-08-04T05:48:39.018489Z",
          "iopub.status.idle": "2022-08-04T05:48:39.019523Z",
          "shell.execute_reply": "2022-08-04T05:48:39.019984Z"
        },
        "papermill": {
          "duration": 0.065975,
          "end_time": "2022-08-04T05:48:39.020130",
          "exception": false,
          "start_time": "2022-08-04T05:48:38.954155",
          "status": "completed"
        },
        "tags": []
      },
      "outputs": [],
      "source": [
        "Int = Union[int, Array]"
      ]
    },
    {
      "cell_type": "markdown",
      "id": "c486cd2c",
      "metadata": {
        "papermill": {
          "duration": 0.058615,
          "end_time": "2022-08-04T05:48:39.137047",
          "exception": false,
          "start_time": "2022-08-04T05:48:39.078432",
          "status": "completed"
        },
        "tags": []
      },
      "source": [
        "### Float"
      ]
    },
    {
      "cell_type": "markdown",
      "id": "3b59bba6",
      "metadata": {
        "papermill": {
          "duration": 0.058951,
          "end_time": "2022-08-04T05:48:39.254985",
          "exception": false,
          "start_time": "2022-08-04T05:48:39.196034",
          "status": "completed"
        },
        "tags": []
      },
      "source": [
        "A `Float` is eiter a built-in `float` or an `Array` [of dtype `float`]"
      ]
    },
    {
      "cell_type": "code",
      "execution_count": 6,
      "id": "af30849b97379571",
      "metadata": {
        "execution": {
          "iopub.execute_input": "2022-08-04T05:48:39.375911Z",
          "iopub.status.busy": "2022-08-04T05:48:39.375398Z",
          "iopub.status.idle": "2022-08-04T05:48:39.376428Z",
          "shell.execute_reply": "2022-08-04T05:48:39.376885Z"
        },
        "papermill": {
          "duration": 0.063768,
          "end_time": "2022-08-04T05:48:39.377027",
          "exception": false,
          "start_time": "2022-08-04T05:48:39.313259",
          "status": "completed"
        },
        "tags": []
      },
      "outputs": [],
      "source": [
        "Float = Union[float, Array]"
      ]
    },
    {
      "cell_type": "markdown",
      "id": "bdfd6200",
      "metadata": {
        "papermill": {
          "duration": 0.058502,
          "end_time": "2022-08-04T05:48:39.492739",
          "exception": false,
          "start_time": "2022-08-04T05:48:39.434237",
          "status": "completed"
        },
        "tags": []
      },
      "source": [
        "### ComplexFloat"
      ]
    },
    {
      "cell_type": "markdown",
      "id": "b1a7d255",
      "metadata": {
        "papermill": {
          "duration": 0.058706,
          "end_time": "2022-08-04T05:48:39.609808",
          "exception": false,
          "start_time": "2022-08-04T05:48:39.551102",
          "status": "completed"
        },
        "tags": []
      },
      "source": [
        "A `ComplexFloat` is either a build-in `complex` or an Array [of dtype `complex`]:"
      ]
    },
    {
      "cell_type": "code",
      "execution_count": 7,
      "id": "911c0b947df6a8a1",
      "metadata": {
        "execution": {
          "iopub.execute_input": "2022-08-04T05:48:39.730590Z",
          "iopub.status.busy": "2022-08-04T05:48:39.730052Z",
          "iopub.status.idle": "2022-08-04T05:48:39.731166Z",
          "shell.execute_reply": "2022-08-04T05:48:39.731631Z"
        },
        "papermill": {
          "duration": 0.063494,
          "end_time": "2022-08-04T05:48:39.731772",
          "exception": false,
          "start_time": "2022-08-04T05:48:39.668278",
          "status": "completed"
        },
        "tags": []
      },
      "outputs": [],
      "source": [
        "ComplexFloat = Union[complex, Float]"
      ]
    },
    {
      "cell_type": "markdown",
      "id": "1f1aa099",
      "metadata": {
        "papermill": {
          "duration": 0.057709,
          "end_time": "2022-08-04T05:48:39.847785",
          "exception": false,
          "start_time": "2022-08-04T05:48:39.790076",
          "status": "completed"
        },
        "tags": []
      },
      "source": [
        "### Settings"
      ]
    },
    {
      "cell_type": "markdown",
      "id": "69839acd",
      "metadata": {
        "papermill": {
          "duration": 0.05876,
          "end_time": "2022-08-04T05:48:39.964819",
          "exception": false,
          "start_time": "2022-08-04T05:48:39.906059",
          "status": "completed"
        },
        "tags": []
      },
      "source": [
        "A `Settings` dictionary is a nested mapping between setting names [`str`] to either `ComplexFloat` values OR to another lower level `Settings` dictionary."
      ]
    },
    {
      "cell_type": "code",
      "execution_count": 8,
      "id": "9ad819d7f4388bd7",
      "metadata": {
        "execution": {
          "iopub.execute_input": "2022-08-04T05:48:40.086862Z",
          "iopub.status.busy": "2022-08-04T05:48:40.086302Z",
          "iopub.status.idle": "2022-08-04T05:48:40.087382Z",
          "shell.execute_reply": "2022-08-04T05:48:40.087849Z"
        },
        "papermill": {
          "duration": 0.065434,
          "end_time": "2022-08-04T05:48:40.087991",
          "exception": false,
          "start_time": "2022-08-04T05:48:40.022557",
          "status": "completed"
        },
        "tags": []
      },
      "outputs": [],
      "source": [
        "Settings = Union[Dict[str, ComplexFloat], Dict[str, \"Settings\"]]"
      ]
    },
    {
      "cell_type": "markdown",
      "id": "cf202d06",
      "metadata": {
        "papermill": {
          "duration": 0.058093,
          "end_time": "2022-08-04T05:48:40.204381",
          "exception": false,
          "start_time": "2022-08-04T05:48:40.146288",
          "status": "completed"
        },
        "tags": []
      },
      "source": [
        "Settings dictionaries are used to parametrize a SAX `Model` or a `circuit`. The settings dictionary should have the same hierarchy levels as the circuit:\n",
        " \n",
        " > Example:"
      ]
    },
    {
      "cell_type": "code",
      "execution_count": 9,
      "id": "2b26c4ab",
      "metadata": {
        "execution": {
          "iopub.execute_input": "2022-08-04T05:48:40.326509Z",
          "iopub.status.busy": "2022-08-04T05:48:40.325985Z",
          "iopub.status.idle": "2022-08-04T05:48:40.327557Z",
          "shell.execute_reply": "2022-08-04T05:48:40.328029Z"
        },
        "papermill": {
          "duration": 0.06567,
          "end_time": "2022-08-04T05:48:40.328171",
          "exception": false,
          "start_time": "2022-08-04T05:48:40.262501",
          "status": "completed"
        },
        "tags": []
      },
      "outputs": [],
      "source": [
        "mzi_settings = {\n",
        "    \"wl\": 1.5,  # global settings\n",
        "    \"lft\": {\"coupling\": 0.5},  # settings for the left coupler\n",
        "    \"top\": {\"neff\": 3.4},  # settings for the top waveguide\n",
        "    \"rgt\": {\"coupling\": 0.3},  # settings for the right coupler\n",
        "}"
      ]
    },
    {
      "cell_type": "markdown",
      "id": "45043912",
      "metadata": {
        "papermill": {
          "duration": 0.058556,
          "end_time": "2022-08-04T05:48:40.444847",
          "exception": false,
          "start_time": "2022-08-04T05:48:40.386291",
          "status": "completed"
        },
        "tags": []
      },
      "source": [
        "### SDict"
      ]
    },
    {
      "cell_type": "markdown",
      "id": "c5a7facf",
      "metadata": {
        "papermill": {
          "duration": 0.057436,
          "end_time": "2022-08-04T05:48:40.560852",
          "exception": false,
          "start_time": "2022-08-04T05:48:40.503416",
          "status": "completed"
        },
        "tags": []
      },
      "source": [
        "An `SDict` is a sparse dictionary based representation of an S-matrix, mapping port name tuples such as `('in0', 'out0')` to `ComplexFloat`."
      ]
    },
    {
      "cell_type": "code",
      "execution_count": 10,
      "id": "01e72c6379ad492d",
      "metadata": {
        "execution": {
          "iopub.execute_input": "2022-08-04T05:48:40.681652Z",
          "iopub.status.busy": "2022-08-04T05:48:40.681111Z",
          "iopub.status.idle": "2022-08-04T05:48:40.683196Z",
          "shell.execute_reply": "2022-08-04T05:48:40.682755Z"
        },
        "papermill": {
          "duration": 0.064408,
          "end_time": "2022-08-04T05:48:40.683314",
          "exception": false,
          "start_time": "2022-08-04T05:48:40.618906",
          "status": "completed"
        },
        "tags": []
      },
      "outputs": [],
      "source": [
        "SDict = Dict[Tuple[str, str], ComplexFloat]"
      ]
    },
    {
      "cell_type": "markdown",
      "id": "07dc470a",
      "metadata": {
        "papermill": {
          "duration": 0.057566,
          "end_time": "2022-08-04T05:48:40.799278",
          "exception": false,
          "start_time": "2022-08-04T05:48:40.741712",
          "status": "completed"
        },
        "tags": []
      },
      "source": [
        "> Example:"
      ]
    },
    {
      "cell_type": "code",
      "execution_count": 11,
      "id": "ad65a70c",
      "metadata": {
        "execution": {
          "iopub.execute_input": "2022-08-04T05:48:40.920244Z",
          "iopub.status.busy": "2022-08-04T05:48:40.919735Z",
          "iopub.status.idle": "2022-08-04T05:48:40.920859Z",
          "shell.execute_reply": "2022-08-04T05:48:40.921322Z"
        },
        "papermill": {
          "duration": 0.06354,
          "end_time": "2022-08-04T05:48:40.921462",
          "exception": false,
          "start_time": "2022-08-04T05:48:40.857922",
          "status": "completed"
        },
        "tags": []
      },
      "outputs": [],
      "source": [
        "_sdict: SDict = {\n",
        "    (\"in0\", \"out0\"): 3.0,\n",
        "}"
      ]
    },
    {
      "cell_type": "markdown",
      "id": "0e2c7430",
      "metadata": {
        "papermill": {
          "duration": 0.058076,
          "end_time": "2022-08-04T05:48:41.038225",
          "exception": false,
          "start_time": "2022-08-04T05:48:40.980149",
          "status": "completed"
        },
        "tags": []
      },
      "source": [
        "### SCoo"
      ]
    },
    {
      "cell_type": "markdown",
      "id": "ef614e1d",
      "metadata": {
        "papermill": {
          "duration": 0.058128,
          "end_time": "2022-08-04T05:48:41.155004",
          "exception": false,
          "start_time": "2022-08-04T05:48:41.096876",
          "status": "completed"
        },
        "tags": []
      },
      "source": [
        "An `SCoo` is a sparse matrix based representation of an S-matrix consisting of three arrays and a port map. The three arrays represent the input port indices [`int`], output port indices [`int`] and the S-matrix values [`ComplexFloat`] of the sparse matrix. The port map maps a port name [`str`] to a port index [`int`]. Only these four arrays **together** and in this specific **order** are considered a valid `SCoo` representation!"
      ]
    },
    {
      "cell_type": "code",
      "execution_count": 12,
      "id": "518eb7eab8e9f4f6",
      "metadata": {
        "execution": {
          "iopub.execute_input": "2022-08-04T05:48:41.278890Z",
          "iopub.status.busy": "2022-08-04T05:48:41.278333Z",
          "iopub.status.idle": "2022-08-04T05:48:41.279880Z",
          "shell.execute_reply": "2022-08-04T05:48:41.280356Z"
        },
        "papermill": {
          "duration": 0.065545,
          "end_time": "2022-08-04T05:48:41.280502",
          "exception": false,
          "start_time": "2022-08-04T05:48:41.214957",
          "status": "completed"
        },
        "tags": []
      },
      "outputs": [],
      "source": [
        "SCoo = Tuple[Array, Array, ComplexFloat, Dict[str, int]]"
      ]
    },
    {
      "cell_type": "markdown",
      "id": "ff9719c8",
      "metadata": {
        "papermill": {
          "duration": 0.058593,
          "end_time": "2022-08-04T05:48:41.397935",
          "exception": false,
          "start_time": "2022-08-04T05:48:41.339342",
          "status": "completed"
        },
        "tags": []
      },
      "source": [
        "> Example:"
      ]
    },
    {
      "cell_type": "code",
      "execution_count": 13,
      "id": "972f8060",
      "metadata": {
        "execution": {
          "iopub.execute_input": "2022-08-04T05:48:41.522177Z",
          "iopub.status.busy": "2022-08-04T05:48:41.521655Z",
          "iopub.status.idle": "2022-08-04T05:48:41.554473Z",
          "shell.execute_reply": "2022-08-04T05:48:41.554001Z"
        },
        "papermill": {
          "duration": 0.097711,
          "end_time": "2022-08-04T05:48:41.554621",
          "exception": false,
          "start_time": "2022-08-04T05:48:41.456910",
          "status": "completed"
        },
        "tags": []
      },
      "outputs": [],
      "source": [
        "Si = jnp.arange(3, dtype=int)\n",
        "Sj = jnp.array([0, 1, 0], dtype=int)\n",
        "Sx = jnp.array([3.0, 4.0, 1.0])\n",
        "port_map = {\"in0\": 0, \"in1\": 2, \"out0\": 1}\n",
        "_scoo: SCoo = (Si, Sj, Sx, port_map)"
      ]
    },
    {
      "cell_type": "markdown",
      "id": "2cba9246",
      "metadata": {
        "papermill": {
          "duration": 0.058264,
          "end_time": "2022-08-04T05:48:41.670828",
          "exception": false,
          "start_time": "2022-08-04T05:48:41.612564",
          "status": "completed"
        },
        "tags": []
      },
      "source": [
        "### SDense"
      ]
    },
    {
      "cell_type": "markdown",
      "id": "fd28795b",
      "metadata": {
        "papermill": {
          "duration": 0.058045,
          "end_time": "2022-08-04T05:48:41.787587",
          "exception": false,
          "start_time": "2022-08-04T05:48:41.729542",
          "status": "completed"
        },
        "tags": []
      },
      "source": [
        "an `SDense` is a dense matrix representation of an S-matrix. It's represented by an NxN `ComplexFloat` array and a port map (mapping port names onto port indices)."
      ]
    },
    {
      "cell_type": "code",
      "execution_count": 14,
      "id": "4ff83612d675a33f",
      "metadata": {
        "execution": {
          "iopub.execute_input": "2022-08-04T05:48:41.909544Z",
          "iopub.status.busy": "2022-08-04T05:48:41.909027Z",
          "iopub.status.idle": "2022-08-04T05:48:41.910787Z",
          "shell.execute_reply": "2022-08-04T05:48:41.911195Z"
        },
        "papermill": {
          "duration": 0.064913,
          "end_time": "2022-08-04T05:48:41.911345",
          "exception": false,
          "start_time": "2022-08-04T05:48:41.846432",
          "status": "completed"
        },
        "tags": []
      },
      "outputs": [],
      "source": [
        "SDense = Tuple[Array, Dict[str, int]]"
      ]
    },
    {
      "cell_type": "markdown",
      "id": "2c4789f7",
      "metadata": {
        "papermill": {
          "duration": 0.057914,
          "end_time": "2022-08-04T05:48:42.027560",
          "exception": false,
          "start_time": "2022-08-04T05:48:41.969646",
          "status": "completed"
        },
        "tags": []
      },
      "source": [
        "> Example:"
      ]
    },
    {
      "cell_type": "code",
      "execution_count": 15,
      "id": "02def7ed",
      "metadata": {
        "execution": {
          "iopub.execute_input": "2022-08-04T05:48:42.148232Z",
          "iopub.status.busy": "2022-08-04T05:48:42.147709Z",
          "iopub.status.idle": "2022-08-04T05:48:42.183444Z",
          "shell.execute_reply": "2022-08-04T05:48:42.182897Z"
        },
        "papermill": {
          "duration": 0.09766,
          "end_time": "2022-08-04T05:48:42.183588",
          "exception": false,
          "start_time": "2022-08-04T05:48:42.085928",
          "status": "completed"
        },
        "tags": []
      },
      "outputs": [],
      "source": [
        "Sd = jnp.arange(9, dtype=float).reshape(3, 3)\n",
        "port_map = {\"in0\": 0, \"in1\": 2, \"out0\": 1}\n",
        "_sdense = Sd, port_map"
      ]
    },
    {
      "cell_type": "markdown",
      "id": "b0d2e36f",
      "metadata": {
        "papermill": {
          "duration": 0.058541,
          "end_time": "2022-08-04T05:48:42.301101",
          "exception": false,
          "start_time": "2022-08-04T05:48:42.242560",
          "status": "completed"
        },
        "tags": []
      },
      "source": [
        "### SType"
      ]
    },
    {
      "cell_type": "markdown",
      "id": "b441f21d",
      "metadata": {
        "papermill": {
          "duration": 0.05904,
          "end_time": "2022-08-04T05:48:42.419533",
          "exception": false,
          "start_time": "2022-08-04T05:48:42.360493",
          "status": "completed"
        },
        "tags": []
      },
      "source": [
        "an `SType` is either an `SDict` **OR** an `SCoo` **OR** an `SDense`:"
      ]
    },
    {
      "cell_type": "code",
      "execution_count": 16,
      "id": "8b81e74c1d6f9a83",
      "metadata": {
        "execution": {
          "iopub.execute_input": "2022-08-04T05:48:42.543174Z",
          "iopub.status.busy": "2022-08-04T05:48:42.542633Z",
          "iopub.status.idle": "2022-08-04T05:48:42.544263Z",
          "shell.execute_reply": "2022-08-04T05:48:42.544750Z"
        },
        "papermill": {
          "duration": 0.066437,
          "end_time": "2022-08-04T05:48:42.544896",
          "exception": false,
          "start_time": "2022-08-04T05:48:42.478459",
          "status": "completed"
        },
        "tags": []
      },
      "outputs": [],
      "source": [
        "SType = Union[SDict, SCoo, SDense]"
      ]
    },
    {
      "cell_type": "markdown",
      "id": "e0561b07",
      "metadata": {
        "papermill": {
          "duration": 0.059591,
          "end_time": "2022-08-04T05:48:42.663186",
          "exception": false,
          "start_time": "2022-08-04T05:48:42.603595",
          "status": "completed"
        },
        "tags": []
      },
      "source": [
        "> Example:"
      ]
    },
    {
      "cell_type": "code",
      "execution_count": 17,
      "id": "5b52a5f2",
      "metadata": {
        "execution": {
          "iopub.execute_input": "2022-08-04T05:48:42.786203Z",
          "iopub.status.busy": "2022-08-04T05:48:42.785677Z",
          "iopub.status.idle": "2022-08-04T05:48:42.787508Z",
          "shell.execute_reply": "2022-08-04T05:48:42.787999Z"
        },
        "papermill": {
          "duration": 0.065992,
          "end_time": "2022-08-04T05:48:42.788150",
          "exception": false,
          "start_time": "2022-08-04T05:48:42.722158",
          "status": "completed"
        },
        "tags": []
      },
      "outputs": [],
      "source": [
        "obj: SType = _sdict\n",
        "obj: SType = _scoo\n",
        "obj: SType = _sdense"
      ]
    },
    {
      "cell_type": "markdown",
      "id": "afabe91b",
      "metadata": {
        "papermill": {
          "duration": 0.058343,
          "end_time": "2022-08-04T05:48:42.904996",
          "exception": false,
          "start_time": "2022-08-04T05:48:42.846653",
          "status": "completed"
        },
        "tags": []
      },
      "source": [
        "### Model"
      ]
    },
    {
      "cell_type": "markdown",
      "id": "13808fb1",
      "metadata": {
        "papermill": {
          "duration": 0.058365,
          "end_time": "2022-08-04T05:48:43.022035",
          "exception": false,
          "start_time": "2022-08-04T05:48:42.963670",
          "status": "completed"
        },
        "tags": []
      },
      "source": [
        "A `Model` is any keyword-only function that returns an `SType`:"
      ]
    },
    {
      "cell_type": "code",
      "execution_count": 18,
      "id": "2690256d798383ec",
      "metadata": {
        "execution": {
          "iopub.execute_input": "2022-08-04T05:48:43.145965Z",
          "iopub.status.busy": "2022-08-04T05:48:43.145448Z",
          "iopub.status.idle": "2022-08-04T05:48:43.147014Z",
          "shell.execute_reply": "2022-08-04T05:48:43.147489Z"
        },
        "papermill": {
          "duration": 0.066234,
          "end_time": "2022-08-04T05:48:43.147631",
          "exception": false,
          "start_time": "2022-08-04T05:48:43.081397",
          "status": "completed"
        },
        "tags": []
      },
      "outputs": [],
      "source": [
        "Model = Callable[..., SType]"
      ]
    },
    {
      "cell_type": "markdown",
      "id": "fad534fb",
      "metadata": {
        "papermill": {
          "duration": 0.059711,
          "end_time": "2022-08-04T05:48:43.267342",
          "exception": false,
          "start_time": "2022-08-04T05:48:43.207631",
          "status": "completed"
        },
        "tags": []
      },
      "source": [
        "### ModelFactory"
      ]
    },
    {
      "cell_type": "markdown",
      "id": "85781647",
      "metadata": {
        "papermill": {
          "duration": 0.058757,
          "end_time": "2022-08-04T05:48:43.386197",
          "exception": false,
          "start_time": "2022-08-04T05:48:43.327440",
          "status": "completed"
        },
        "tags": []
      },
      "source": [
        "A `ModelFactory` is any keyword-only function that returns a `Model`:"
      ]
    },
    {
      "cell_type": "code",
      "execution_count": 19,
      "id": "4e59df15f9549128",
      "metadata": {
        "execution": {
          "iopub.execute_input": "2022-08-04T05:48:43.508992Z",
          "iopub.status.busy": "2022-08-04T05:48:43.508471Z",
          "iopub.status.idle": "2022-08-04T05:48:43.510180Z",
          "shell.execute_reply": "2022-08-04T05:48:43.510602Z"
        },
        "papermill": {
          "duration": 0.065219,
          "end_time": "2022-08-04T05:48:43.510755",
          "exception": false,
          "start_time": "2022-08-04T05:48:43.445536",
          "status": "completed"
        },
        "tags": []
      },
      "outputs": [],
      "source": [
        "ModelFactory = Callable[..., Model]"
      ]
    },
    {
      "cell_type": "markdown",
      "id": "353d8506",
      "metadata": {
        "papermill": {
          "duration": 0.058834,
          "end_time": "2022-08-04T05:48:43.628602",
          "exception": false,
          "start_time": "2022-08-04T05:48:43.569768",
          "status": "completed"
        },
        "tags": []
      },
      "source": [
        "> Note: SAX sometimes needs to figure out the difference between a `ModelFactory` and a normal `Model` *before* running the function. To do this, SAX will check the return annotation of the function. Any function with a `-> Model` or `-> Callable` annotation will be considered a `ModelFactory`. Any function without this annotation will be considered a normal Model: **don't forget the return annotation of your Model Factory!** To ensure a correct annotation and to ensure forward compatibility, it's recommended to decorate your `ModelFactory` with the `modelfactory` decorator."
      ]
    },
    {
      "cell_type": "markdown",
      "id": "e42d3f17",
      "metadata": {
        "papermill": {
          "duration": 0.059684,
          "end_time": "2022-08-04T05:48:43.747174",
          "exception": false,
          "start_time": "2022-08-04T05:48:43.687490",
          "status": "completed"
        },
        "tags": []
      },
      "source": [
        "### GeneralModel"
      ]
    },
    {
      "cell_type": "markdown",
      "id": "0c4356fc",
      "metadata": {
        "papermill": {
          "duration": 0.059277,
          "end_time": "2022-08-04T05:48:43.866067",
          "exception": false,
          "start_time": "2022-08-04T05:48:43.806790",
          "status": "completed"
        },
        "tags": []
      },
      "source": [
        "a `GeneralModel` is either a `Model` or a `LogicalNetlist` (will be defined below):"
      ]
    },
    {
      "cell_type": "code",
      "execution_count": 20,
      "id": "8e8b90823f79d1e3",
      "metadata": {
        "execution": {
          "iopub.execute_input": "2022-08-04T05:48:43.989859Z",
          "iopub.status.busy": "2022-08-04T05:48:43.989345Z",
          "iopub.status.idle": "2022-08-04T05:48:43.990717Z",
          "shell.execute_reply": "2022-08-04T05:48:43.991116Z"
        },
        "papermill": {
          "duration": 0.065656,
          "end_time": "2022-08-04T05:48:43.991258",
          "exception": false,
          "start_time": "2022-08-04T05:48:43.925602",
          "status": "completed"
        },
        "tags": []
      },
      "outputs": [],
      "source": [
        "GeneralModel = Union[Model, \"LogicalNetlist\"]"
      ]
    },
    {
      "cell_type": "markdown",
      "id": "b32b5a31",
      "metadata": {
        "papermill": {
          "duration": 0.05878,
          "end_time": "2022-08-04T05:48:44.109110",
          "exception": false,
          "start_time": "2022-08-04T05:48:44.050330",
          "status": "completed"
        },
        "tags": []
      },
      "source": [
        "### Models"
      ]
    },
    {
      "cell_type": "markdown",
      "id": "a796dcb2",
      "metadata": {
        "papermill": {
          "duration": 0.060212,
          "end_time": "2022-08-04T05:48:44.228309",
          "exception": false,
          "start_time": "2022-08-04T05:48:44.168097",
          "status": "completed"
        },
        "tags": []
      },
      "source": [
        "`Models` is a mapping between model names [`str`] and `GeneralModel`:"
      ]
    },
    {
      "cell_type": "code",
      "execution_count": 21,
      "id": "1299ad91a3d3008e",
      "metadata": {
        "execution": {
          "iopub.execute_input": "2022-08-04T05:48:44.351716Z",
          "iopub.status.busy": "2022-08-04T05:48:44.351185Z",
          "iopub.status.idle": "2022-08-04T05:48:44.352897Z",
          "shell.execute_reply": "2022-08-04T05:48:44.353291Z"
        },
        "papermill": {
          "duration": 0.065864,
          "end_time": "2022-08-04T05:48:44.353436",
          "exception": false,
          "start_time": "2022-08-04T05:48:44.287572",
          "status": "completed"
        },
        "tags": []
      },
      "outputs": [],
      "source": [
        "Models = Dict[str, GeneralModel]"
      ]
    },
    {
      "cell_type": "markdown",
      "id": "ed1af61c",
      "metadata": {
        "papermill": {
          "duration": 0.059108,
          "end_time": "2022-08-04T05:48:44.471814",
          "exception": false,
          "start_time": "2022-08-04T05:48:44.412706",
          "status": "completed"
        },
        "tags": []
      },
      "source": [
        "> Note: sometimes 'component' is used to refer to a a `Model` or `GeneralModel`. This is because other tools (such as for example GDSFactory) prefer that terminology."
      ]
    },
    {
      "cell_type": "markdown",
      "id": "5d276f63",
      "metadata": {
        "papermill": {
          "duration": 0.059015,
          "end_time": "2022-08-04T05:48:44.589977",
          "exception": false,
          "start_time": "2022-08-04T05:48:44.530962",
          "status": "completed"
        },
        "tags": []
      },
      "source": [
        "## Netlist Types"
      ]
    },
    {
      "cell_type": "markdown",
      "id": "2c946dc2",
      "metadata": {
        "papermill": {
          "duration": 0.060196,
          "end_time": "2022-08-04T05:48:44.709484",
          "exception": false,
          "start_time": "2022-08-04T05:48:44.649288",
          "status": "completed"
        },
        "tags": []
      },
      "source": [
        "### Instance"
      ]
    },
    {
      "cell_type": "markdown",
      "id": "24694709",
      "metadata": {
        "papermill": {
          "duration": 0.060029,
          "end_time": "2022-08-04T05:48:44.829355",
          "exception": false,
          "start_time": "2022-08-04T05:48:44.769326",
          "status": "completed"
        },
        "tags": []
      },
      "source": [
        "A netlist `Instance` is a mapping with two keys: `\"component\"`, which should map to a key in a `Models` dictionary and `\"settings\"`, which are all the necessary settings to instanciate a component:"
      ]
    },
    {
      "cell_type": "code",
      "execution_count": 22,
      "id": "0ae13556ef7922dc",
      "metadata": {
        "execution": {
          "iopub.execute_input": "2022-08-04T05:48:44.954647Z",
          "iopub.status.busy": "2022-08-04T05:48:44.954101Z",
          "iopub.status.idle": "2022-08-04T05:48:44.955180Z",
          "shell.execute_reply": "2022-08-04T05:48:44.955638Z"
        },
        "papermill": {
          "duration": 0.066709,
          "end_time": "2022-08-04T05:48:44.955778",
          "exception": false,
          "start_time": "2022-08-04T05:48:44.889069",
          "status": "completed"
        },
        "tags": []
      },
      "outputs": [],
      "source": [
        "Instance = TypedDict(\n",
        "    \"Instance\",\n",
        "    {\n",
        "        \"component\": str,\n",
        "        \"settings\": Settings,\n",
        "    },\n",
        ")"
      ]
    },
    {
      "cell_type": "markdown",
      "id": "ff82e535",
      "metadata": {
        "papermill": {
          "duration": 0.060075,
          "end_time": "2022-08-04T05:48:45.075215",
          "exception": false,
          "start_time": "2022-08-04T05:48:45.015140",
          "status": "completed"
        },
        "tags": []
      },
      "source": [
        "> Note: in SAX, a better name for `\"component\"` in the instance definition would probably be `\"model\"` or `\"model_name\"`. However we chose `\"component\"` here to have a 1-to-1 map between SAX netlists and GDSFactory netlists."
      ]
    },
    {
      "cell_type": "markdown",
      "id": "365559c3",
      "metadata": {
        "papermill": {
          "duration": 0.059017,
          "end_time": "2022-08-04T05:48:45.193499",
          "exception": false,
          "start_time": "2022-08-04T05:48:45.134482",
          "status": "completed"
        },
        "tags": []
      },
      "source": [
        "### GeneralInstance"
      ]
    },
    {
      "cell_type": "markdown",
      "id": "5249fc0f",
      "metadata": {
        "papermill": {
          "duration": 0.058873,
          "end_time": "2022-08-04T05:48:45.311953",
          "exception": false,
          "start_time": "2022-08-04T05:48:45.253080",
          "status": "completed"
        },
        "tags": []
      },
      "source": [
        "A general instance can be any of the following (`LogicalNetlist` and `Netlist` will be defined below):"
      ]
    },
    {
      "cell_type": "code",
      "execution_count": 23,
      "id": "e18c7f80f1739d6c",
      "metadata": {
        "execution": {
          "iopub.execute_input": "2022-08-04T05:48:45.435819Z",
          "iopub.status.busy": "2022-08-04T05:48:45.435307Z",
          "iopub.status.idle": "2022-08-04T05:48:45.437721Z",
          "shell.execute_reply": "2022-08-04T05:48:45.437309Z"
        },
        "papermill": {
          "duration": 0.066643,
          "end_time": "2022-08-04T05:48:45.437841",
          "exception": false,
          "start_time": "2022-08-04T05:48:45.371198",
          "status": "completed"
        },
        "tags": []
      },
      "outputs": [],
      "source": [
        "GeneralInstance = Union[str, Instance, \"LogicalNetlist\", \"Netlist\"]"
      ]
    },
    {
      "cell_type": "markdown",
      "id": "04a5992a",
      "metadata": {
        "papermill": {
          "duration": 0.059035,
          "end_time": "2022-08-04T05:48:45.555934",
          "exception": false,
          "start_time": "2022-08-04T05:48:45.496899",
          "status": "completed"
        },
        "tags": []
      },
      "source": [
        "> For example, this is allowed:"
      ]
    },
    {
      "cell_type": "code",
      "execution_count": 24,
      "id": "6ef6d5ee",
      "metadata": {
        "execution": {
          "iopub.execute_input": "2022-08-04T05:48:45.680943Z",
          "iopub.status.busy": "2022-08-04T05:48:45.680427Z",
          "iopub.status.idle": "2022-08-04T05:48:45.682174Z",
          "shell.execute_reply": "2022-08-04T05:48:45.682601Z"
        },
        "papermill": {
          "duration": 0.066682,
          "end_time": "2022-08-04T05:48:45.682747",
          "exception": false,
          "start_time": "2022-08-04T05:48:45.616065",
          "status": "completed"
        },
        "tags": []
      },
      "outputs": [],
      "source": [
        "inst: GeneralInstance = \"my_component_model\"\n",
        "inst: GeneralInstance = {\n",
        "    \"component\": \"my_component_model\",\n",
        "    \"settings\": {},\n",
        "}"
      ]
    },
    {
      "cell_type": "markdown",
      "id": "8af40281",
      "metadata": {
        "papermill": {
          "duration": 0.058966,
          "end_time": "2022-08-04T05:48:45.801136",
          "exception": false,
          "start_time": "2022-08-04T05:48:45.742170",
          "status": "completed"
        },
        "tags": []
      },
      "source": [
        "> ... and this is not (will be flagged by a static type checker like pyright or mypy):"
      ]
    },
    {
      "cell_type": "code",
      "execution_count": 25,
      "id": "c13fc4d7",
      "metadata": {
        "execution": {
          "iopub.execute_input": "2022-08-04T05:48:45.924630Z",
          "iopub.status.busy": "2022-08-04T05:48:45.924123Z",
          "iopub.status.idle": "2022-08-04T05:48:45.929955Z",
          "shell.execute_reply": "2022-08-04T05:48:45.929228Z"
        },
        "papermill": {
          "duration": 0.069716,
          "end_time": "2022-08-04T05:48:45.930158",
          "exception": false,
          "start_time": "2022-08-04T05:48:45.860442",
          "status": "completed"
        },
        "tags": []
      },
      "outputs": [],
      "source": [
        "inst: GeneralInstance = {\n",
        "    \"component\": \"my_component_model\",\n",
        "    \"settings\": {},\n",
        "    \"extra_arg\": \"invalid\",\n",
        "}"
      ]
    },
    {
      "cell_type": "markdown",
      "id": "cf9fd876",
      "metadata": {
        "papermill": {
          "duration": 0.071283,
          "end_time": "2022-08-04T05:48:46.065589",
          "exception": false,
          "start_time": "2022-08-04T05:48:45.994306",
          "status": "completed"
        },
        "tags": []
      },
      "source": [
        "### Instances"
      ]
    },
    {
      "cell_type": "markdown",
      "id": "a9aad796",
      "metadata": {
        "papermill": {
          "duration": 0.059363,
          "end_time": "2022-08-04T05:48:46.184846",
          "exception": false,
          "start_time": "2022-08-04T05:48:46.125483",
          "status": "completed"
        },
        "tags": []
      },
      "source": [
        "`Instances` is a mapping from instance names [`str`] to a `GeneralInstance`:"
      ]
    },
    {
      "cell_type": "code",
      "execution_count": 26,
      "id": "d23d8cd7d3212d1e",
      "metadata": {
        "execution": {
          "iopub.execute_input": "2022-08-04T05:48:46.311145Z",
          "iopub.status.busy": "2022-08-04T05:48:46.310619Z",
          "iopub.status.idle": "2022-08-04T05:48:46.311658Z",
          "shell.execute_reply": "2022-08-04T05:48:46.312119Z"
        },
        "papermill": {
          "duration": 0.06669,
          "end_time": "2022-08-04T05:48:46.312260",
          "exception": false,
          "start_time": "2022-08-04T05:48:46.245570",
          "status": "completed"
        },
        "tags": []
      },
      "outputs": [],
      "source": [
        "Instances = Union[Dict[str, str], Dict[str, GeneralInstance]]"
      ]
    },
    {
      "cell_type": "markdown",
      "id": "0f292b1f",
      "metadata": {
        "papermill": {
          "duration": 0.059731,
          "end_time": "2022-08-04T05:48:46.431932",
          "exception": false,
          "start_time": "2022-08-04T05:48:46.372201",
          "status": "completed"
        },
        "tags": []
      },
      "source": [
        "### Netlist"
      ]
    },
    {
      "cell_type": "markdown",
      "id": "7b85ab37",
      "metadata": {
        "papermill": {
          "duration": 0.059215,
          "end_time": "2022-08-04T05:48:46.550588",
          "exception": false,
          "start_time": "2022-08-04T05:48:46.491373",
          "status": "completed"
        },
        "tags": []
      },
      "source": [
        "a `Netlist` is a collection of `\"instances\"`, `\"connections\"` and `\"ports\"`:"
      ]
    },
    {
      "cell_type": "code",
      "execution_count": 27,
      "id": "d22671e84ab71a2e",
      "metadata": {
        "execution": {
          "iopub.execute_input": "2022-08-04T05:48:46.676361Z",
          "iopub.status.busy": "2022-08-04T05:48:46.675747Z",
          "iopub.status.idle": "2022-08-04T05:48:46.677007Z",
          "shell.execute_reply": "2022-08-04T05:48:46.677396Z"
        },
        "papermill": {
          "duration": 0.067044,
          "end_time": "2022-08-04T05:48:46.677540",
          "exception": false,
          "start_time": "2022-08-04T05:48:46.610496",
          "status": "completed"
        },
        "tags": []
      },
      "outputs": [],
      "source": [
        "\n",
        "Netlist = TypedDict(\n",
        "    \"Netlist\",\n",
        "    {\n",
        "        \"instances\": Instances,\n",
        "        \"connections\": Dict[str, str],\n",
        "        \"ports\": Dict[str, str],\n",
        "    },\n",
        ")"
      ]
    },
    {
      "cell_type": "markdown",
      "id": "d12f61a8",
      "metadata": {
        "papermill": {
          "duration": 0.059334,
          "end_time": "2022-08-04T05:48:46.796486",
          "exception": false,
          "start_time": "2022-08-04T05:48:46.737152",
          "status": "completed"
        },
        "tags": []
      },
      "source": [
        "> Example:"
      ]
    },
    {
      "cell_type": "code",
      "execution_count": 28,
      "id": "877d1151",
      "metadata": {
        "execution": {
          "iopub.execute_input": "2022-08-04T05:48:46.922555Z",
          "iopub.status.busy": "2022-08-04T05:48:46.921921Z",
          "iopub.status.idle": "2022-08-04T05:48:46.923205Z",
          "shell.execute_reply": "2022-08-04T05:48:46.923592Z"
        },
        "papermill": {
          "duration": 0.068578,
          "end_time": "2022-08-04T05:48:46.923735",
          "exception": false,
          "start_time": "2022-08-04T05:48:46.855157",
          "status": "completed"
        },
        "tags": []
      },
      "outputs": [],
      "source": [
        "mzi_netlist: Netlist = {\n",
        "    \"instances\": {\n",
        "    \"lft\": \"mmi1x2\",  # shorthand if no settings need to be given\n",
        "        \"top\": {  # full instance definition\n",
        "            \"component\": \"waveguide\",\n",
        "            \"settings\": {\n",
        "                \"length\": 100.0,\n",
        "            },\n",
        "        },\n",
        "        \"rgt\": \"mmi2x2\",  # shorthand if no settings need to be given\n",
        "    },\n",
        "    \"connections\": {\n",
        "        \"lft,out0\": \"top,in0\",\n",
        "        \"top,out0\": \"rgt,in0\",\n",
        "        \"top,out1\": \"rgt,in1\",\n",
        "    },\n",
        "    \"ports\": {\n",
        "        \"in0\": \"lft,in0\",\n",
        "        \"out0\": \"rgt,out0\",\n",
        "        \"out1\": \"rgt,out1\",\n",
        "    },\n",
        "}"
      ]
    },
    {
      "cell_type": "markdown",
      "id": "613b0f22",
      "metadata": {
        "papermill": {
          "duration": 0.058742,
          "end_time": "2022-08-04T05:48:47.042084",
          "exception": false,
          "start_time": "2022-08-04T05:48:46.983342",
          "status": "completed"
        },
        "tags": []
      },
      "source": [
        "### LogicalNetlist"
      ]
    },
    {
      "cell_type": "markdown",
      "id": "f8cb7e75",
      "metadata": {
        "papermill": {
          "duration": 0.059268,
          "end_time": "2022-08-04T05:48:47.161917",
          "exception": false,
          "start_time": "2022-08-04T05:48:47.102649",
          "status": "completed"
        },
        "tags": []
      },
      "source": [
        "a `LogicalNetlist` is a subset of the more general `Netlist`.  It only contains the logical connections and instance names. Not the actual instances. This data structure is mostly used for internal use only."
      ]
    },
    {
      "cell_type": "code",
      "execution_count": 29,
      "id": "c118c68fb4a5642b",
      "metadata": {
        "execution": {
          "iopub.execute_input": "2022-08-04T05:48:47.285944Z",
          "iopub.status.busy": "2022-08-04T05:48:47.285430Z",
          "iopub.status.idle": "2022-08-04T05:48:47.286577Z",
          "shell.execute_reply": "2022-08-04T05:48:47.287040Z"
        },
        "papermill": {
          "duration": 0.066498,
          "end_time": "2022-08-04T05:48:47.287180",
          "exception": false,
          "start_time": "2022-08-04T05:48:47.220682",
          "status": "completed"
        },
        "tags": []
      },
      "outputs": [],
      "source": [
        "\n",
        "LogicalNetlist = TypedDict(\n",
        "    \"LogicalNetlist\",\n",
        "    {\n",
        "        \"instances\": Dict[str, str],\n",
        "        \"connections\": Dict[str, str],\n",
        "        \"ports\": Dict[str, str],\n",
        "    },\n",
        ")"
      ]
    },
    {
      "cell_type": "markdown",
      "id": "3468d6a1",
      "metadata": {
        "papermill": {
          "duration": 0.059655,
          "end_time": "2022-08-04T05:48:47.407279",
          "exception": false,
          "start_time": "2022-08-04T05:48:47.347624",
          "status": "completed"
        },
        "tags": []
      },
      "source": [
        "> Example:"
      ]
    },
    {
      "cell_type": "code",
      "execution_count": 30,
      "id": "ab67ad41",
      "metadata": {
        "execution": {
          "iopub.execute_input": "2022-08-04T05:48:47.532909Z",
          "iopub.status.busy": "2022-08-04T05:48:47.532385Z",
          "iopub.status.idle": "2022-08-04T05:48:47.533489Z",
          "shell.execute_reply": "2022-08-04T05:48:47.533955Z"
        },
        "papermill": {
          "duration": 0.066559,
          "end_time": "2022-08-04T05:48:47.534096",
          "exception": false,
          "start_time": "2022-08-04T05:48:47.467537",
          "status": "completed"
        },
        "tags": []
      },
      "outputs": [],
      "source": [
        "mzi_logical_netlist: Netlist = {\n",
        "    \"instances\": {\n",
        "        \"lft\": \"mmi1x2\",\n",
        "        \"top\": \"waveguide\",\n",
        "        \"rgt\": \"mmi2x2\",\n",
        "    },\n",
        "    \"connections\": {\n",
        "        \"lft,out0\": \"top,in0\",\n",
        "        \"top,out0\": \"rgt,in0\",\n",
        "        \"top,out1\": \"rgt,in1\",\n",
        "    },\n",
        "    \"ports\": {\n",
        "        \"in0\": \"lft,in0\",\n",
        "        \"out0\": \"rgt,out0\",\n",
        "        \"out1\": \"rgt,out1\",\n",
        "    },\n",
        "}"
      ]
    },
    {
      "cell_type": "markdown",
      "id": "dbcb4447",
      "metadata": {
        "papermill": {
          "duration": 0.059661,
          "end_time": "2022-08-04T05:48:47.653757",
          "exception": false,
          "start_time": "2022-08-04T05:48:47.594096",
          "status": "completed"
        },
        "tags": []
      },
      "source": [
        "## Validation and runtime type-checking:"
      ]
    },
    {
      "cell_type": "markdown",
      "id": "6e4c44aa",
      "metadata": {
        "papermill": {
          "duration": 0.061134,
          "end_time": "2022-08-04T05:48:47.774670",
          "exception": false,
          "start_time": "2022-08-04T05:48:47.713536",
          "status": "completed"
        },
        "tags": []
      },
      "source": [
        "> Note: the type-checking functions below are **NOT** very tight and hence should be used within the right context!"
      ]
    },
    {
      "cell_type": "markdown",
      "id": "d21059836a423c3f",
      "metadata": {},
      "source": [
        ":::{eval-rst}\n",
        ".. autofunction:: sax.typing_.is_float\n",
        ":::\n"
      ]
    },
    {
      "cell_type": "code",
      "execution_count": 31,
      "id": "5490706b1ba981b9",
      "metadata": {
        "execution": {
          "iopub.execute_input": "2022-08-04T05:48:47.901070Z",
          "iopub.status.busy": "2022-08-04T05:48:47.900537Z",
          "iopub.status.idle": "2022-08-04T05:48:47.902350Z",
          "shell.execute_reply": "2022-08-04T05:48:47.902749Z"
        },
        "papermill": {
          "duration": 0.067929,
          "end_time": "2022-08-04T05:48:47.902906",
          "exception": false,
          "start_time": "2022-08-04T05:48:47.834977",
          "status": "completed"
        },
        "tags": [
          "hide-input"
        ]
      },
      "outputs": [],
      "source": [
        "def is_float(x: Any) -> bool:\n",
        "    \"\"\"Check if an object is a `Float`\"\"\"\n",
        "    if isinstance(x, float):\n",
        "        return True\n",
        "    if isinstance(x, np.ndarray):\n",
        "        return x.dtype in (np.float16, np.float32, np.float64, np.float128)\n",
        "    if isinstance(x, jnp.ndarray):\n",
        "        return x.dtype in (jnp.float16, jnp.float32, jnp.float64)\n",
        "    return False"
      ]
    },
    {
      "cell_type": "code",
      "execution_count": 32,
      "id": "28374448",
      "metadata": {
        "execution": {
          "iopub.execute_input": "2022-08-04T05:48:48.029831Z",
          "iopub.status.busy": "2022-08-04T05:48:48.029305Z",
          "iopub.status.idle": "2022-08-04T05:48:48.034564Z",
          "shell.execute_reply": "2022-08-04T05:48:48.034118Z"
        },
        "papermill": {
          "duration": 0.071074,
          "end_time": "2022-08-04T05:48:48.034695",
          "exception": false,
          "start_time": "2022-08-04T05:48:47.963621",
          "status": "completed"
        },
        "tags": []
      },
      "outputs": [],
      "source": [
        "assert is_float(3.0)\n",
        "assert not is_float(3)\n",
        "assert not is_float(3.0 + 2j)\n",
        "assert not is_float(jnp.array(3.0, dtype=complex))\n",
        "assert not is_float(jnp.array(3, dtype=int))"
      ]
    },
    {
      "cell_type": "markdown",
      "id": "4bec3dd0537157d3",
      "metadata": {},
      "source": [
        ":::{eval-rst}\n",
        ".. autofunction:: sax.typing_.is_complex\n",
        ":::\n"
      ]
    },
    {
      "cell_type": "code",
      "execution_count": 33,
      "id": "854adbae0d840fc6",
      "metadata": {
        "execution": {
          "iopub.execute_input": "2022-08-04T05:48:48.161229Z",
          "iopub.status.busy": "2022-08-04T05:48:48.160628Z",
          "iopub.status.idle": "2022-08-04T05:48:48.161820Z",
          "shell.execute_reply": "2022-08-04T05:48:48.162207Z"
        },
        "papermill": {
          "duration": 0.067395,
          "end_time": "2022-08-04T05:48:48.162348",
          "exception": false,
          "start_time": "2022-08-04T05:48:48.094953",
          "status": "completed"
        },
        "tags": [
          "hide-input"
        ]
      },
      "outputs": [],
      "source": [
        "def is_complex(x: Any) -> bool:\n",
        "    \"\"\"check if an object is a `ComplexFloat`\"\"\"\n",
        "    if isinstance(x, complex):\n",
        "        return True\n",
        "    if isinstance(x, np.ndarray):\n",
        "        return x.dtype in (np.complex64, np.complex128)\n",
        "    if isinstance(x, jnp.ndarray):\n",
        "        return x.dtype in (jnp.complex64, jnp.complex128)\n",
        "    return False"
      ]
    },
    {
      "cell_type": "code",
      "execution_count": 34,
      "id": "d81a703d",
      "metadata": {
        "execution": {
          "iopub.execute_input": "2022-08-04T05:48:48.292154Z",
          "iopub.status.busy": "2022-08-04T05:48:48.291584Z",
          "iopub.status.idle": "2022-08-04T05:48:48.292799Z",
          "shell.execute_reply": "2022-08-04T05:48:48.293279Z"
        },
        "papermill": {
          "duration": 0.07018,
          "end_time": "2022-08-04T05:48:48.293442",
          "exception": false,
          "start_time": "2022-08-04T05:48:48.223262",
          "status": "completed"
        },
        "tags": []
      },
      "outputs": [],
      "source": [
        "assert not is_complex(3.0)\n",
        "assert not is_complex(3)\n",
        "assert is_complex(3.0 + 2j)\n",
        "assert is_complex(jnp.array(3.0, dtype=complex))\n",
        "assert not is_complex(jnp.array(3, dtype=int))"
      ]
    },
    {
      "cell_type": "markdown",
      "id": "e274f404f9bced21",
      "metadata": {},
      "source": [
        ":::{eval-rst}\n",
        ".. autofunction:: sax.typing_.is_complex_float\n",
        ":::\n"
      ]
    },
    {
      "cell_type": "code",
      "execution_count": 35,
      "id": "fd5d68e63eb787c4",
      "metadata": {
        "execution": {
          "iopub.execute_input": "2022-08-04T05:48:48.420448Z",
          "iopub.status.busy": "2022-08-04T05:48:48.419931Z",
          "iopub.status.idle": "2022-08-04T05:48:48.421655Z",
          "shell.execute_reply": "2022-08-04T05:48:48.422139Z"
        },
        "papermill": {
          "duration": 0.067716,
          "end_time": "2022-08-04T05:48:48.422285",
          "exception": false,
          "start_time": "2022-08-04T05:48:48.354569",
          "status": "completed"
        },
        "tags": [
          "hide-input"
        ]
      },
      "outputs": [],
      "source": [
        "def is_complex_float(x: Any) -> bool:\n",
        "    \"\"\"check if an object is either a `ComplexFloat` or a `Float`\"\"\"\n",
        "    return is_float(x) or is_complex(x)"
      ]
    },
    {
      "cell_type": "code",
      "execution_count": 36,
      "id": "c533ff0d",
      "metadata": {
        "execution": {
          "iopub.execute_input": "2022-08-04T05:48:48.548974Z",
          "iopub.status.busy": "2022-08-04T05:48:48.548435Z",
          "iopub.status.idle": "2022-08-04T05:48:48.550555Z",
          "shell.execute_reply": "2022-08-04T05:48:48.550097Z"
        },
        "papermill": {
          "duration": 0.068084,
          "end_time": "2022-08-04T05:48:48.550677",
          "exception": false,
          "start_time": "2022-08-04T05:48:48.482593",
          "status": "completed"
        },
        "tags": []
      },
      "outputs": [],
      "source": [
        "assert is_complex_float(3.0)\n",
        "assert not is_complex_float(3)\n",
        "assert is_complex_float(3.0 + 2j)\n",
        "assert is_complex_float(jnp.array(3.0, dtype=complex))\n",
        "assert not is_complex_float(jnp.array(3, dtype=int))"
      ]
    },
    {
      "cell_type": "markdown",
      "id": "82e5b008e558be00",
      "metadata": {},
      "source": [
        ":::{eval-rst}\n",
        ".. autofunction:: sax.typing_.is_sdict\n",
        ":::\n"
      ]
    },
    {
      "cell_type": "code",
      "execution_count": 37,
      "id": "785fe59b4d17ed75",
      "metadata": {
        "execution": {
          "iopub.execute_input": "2022-08-04T05:48:48.678764Z",
          "iopub.status.busy": "2022-08-04T05:48:48.678202Z",
          "iopub.status.idle": "2022-08-04T05:48:48.679304Z",
          "shell.execute_reply": "2022-08-04T05:48:48.679781Z"
        },
        "papermill": {
          "duration": 0.067014,
          "end_time": "2022-08-04T05:48:48.679925",
          "exception": false,
          "start_time": "2022-08-04T05:48:48.612911",
          "status": "completed"
        },
        "tags": [
          "hide-input"
        ]
      },
      "outputs": [],
      "source": [
        "def is_sdict(x: Any) -> bool:\n",
        "    \"\"\"check if an object is an `SDict` (a SAX S-dictionary)\"\"\"\n",
        "    return isinstance(x, dict)"
      ]
    },
    {
      "cell_type": "code",
      "execution_count": 38,
      "id": "cb0365dc",
      "metadata": {
        "execution": {
          "iopub.execute_input": "2022-08-04T05:48:48.806678Z",
          "iopub.status.busy": "2022-08-04T05:48:48.806129Z",
          "iopub.status.idle": "2022-08-04T05:48:48.807570Z",
          "shell.execute_reply": "2022-08-04T05:48:48.807963Z"
        },
        "papermill": {
          "duration": 0.066827,
          "end_time": "2022-08-04T05:48:48.808104",
          "exception": false,
          "start_time": "2022-08-04T05:48:48.741277",
          "status": "completed"
        },
        "tags": []
      },
      "outputs": [],
      "source": [
        "assert not is_sdict(object())\n",
        "assert is_sdict(_sdict)\n",
        "assert not is_sdict(_scoo)\n",
        "assert not is_sdict(_sdense)"
      ]
    },
    {
      "cell_type": "markdown",
      "id": "c1b24a0bf5e0755f",
      "metadata": {},
      "source": [
        ":::{eval-rst}\n",
        ".. autofunction:: sax.typing_.is_scoo\n",
        ":::\n"
      ]
    },
    {
      "cell_type": "code",
      "execution_count": 39,
      "id": "24d5c774a12b7a1a",
      "metadata": {
        "execution": {
          "iopub.execute_input": "2022-08-04T05:48:48.933080Z",
          "iopub.status.busy": "2022-08-04T05:48:48.932545Z",
          "iopub.status.idle": "2022-08-04T05:48:48.936030Z",
          "shell.execute_reply": "2022-08-04T05:48:48.936425Z"
        },
        "papermill": {
          "duration": 0.067937,
          "end_time": "2022-08-04T05:48:48.936572",
          "exception": false,
          "start_time": "2022-08-04T05:48:48.868635",
          "status": "completed"
        },
        "tags": [
          "hide-input"
        ]
      },
      "outputs": [],
      "source": [
        "def is_scoo(x: Any) -> bool:\n",
        "    \"\"\"check if an object is an `SCoo` (a SAX sparse S-matrix representation in COO-format)\"\"\"\n",
        "    return isinstance(x, (tuple, list)) and len(x) == 4"
      ]
    },
    {
      "cell_type": "code",
      "execution_count": 40,
      "id": "9ea0239a",
      "metadata": {
        "execution": {
          "iopub.execute_input": "2022-08-04T05:48:49.064961Z",
          "iopub.status.busy": "2022-08-04T05:48:49.064444Z",
          "iopub.status.idle": "2022-08-04T05:48:49.065645Z",
          "shell.execute_reply": "2022-08-04T05:48:49.066063Z"
        },
        "papermill": {
          "duration": 0.067312,
          "end_time": "2022-08-04T05:48:49.066207",
          "exception": false,
          "start_time": "2022-08-04T05:48:48.998895",
          "status": "completed"
        },
        "tags": []
      },
      "outputs": [],
      "source": [
        "assert not is_scoo(object)\n",
        "assert not is_scoo(_sdict)\n",
        "assert is_scoo(_scoo)\n",
        "assert not is_scoo(_sdense)"
      ]
    },
    {
      "cell_type": "markdown",
      "id": "2862c0d1ac502e3b",
      "metadata": {},
      "source": [
        ":::{eval-rst}\n",
        ".. autofunction:: sax.typing_.is_sdense\n",
        ":::\n"
      ]
    },
    {
      "cell_type": "code",
      "execution_count": 41,
      "id": "743583afd0f8b78b",
      "metadata": {
        "execution": {
          "iopub.execute_input": "2022-08-04T05:48:49.193991Z",
          "iopub.status.busy": "2022-08-04T05:48:49.193475Z",
          "iopub.status.idle": "2022-08-04T05:48:49.196437Z",
          "shell.execute_reply": "2022-08-04T05:48:49.196837Z"
        },
        "papermill": {
          "duration": 0.068918,
          "end_time": "2022-08-04T05:48:49.196987",
          "exception": false,
          "start_time": "2022-08-04T05:48:49.128069",
          "status": "completed"
        },
        "tags": [
          "hide-input"
        ]
      },
      "outputs": [],
      "source": [
        "def is_sdense(x: Any) -> bool:\n",
        "    \"\"\"check if an object is an `SDense` (a SAX dense S-matrix representation)\"\"\"\n",
        "    return isinstance(x, (tuple, list)) and len(x) == 2"
      ]
    },
    {
      "cell_type": "code",
      "execution_count": 42,
      "id": "2eddd63a",
      "metadata": {
        "execution": {
          "iopub.execute_input": "2022-08-04T05:48:49.324912Z",
          "iopub.status.busy": "2022-08-04T05:48:49.324373Z",
          "iopub.status.idle": "2022-08-04T05:48:49.325443Z",
          "shell.execute_reply": "2022-08-04T05:48:49.325911Z"
        },
        "papermill": {
          "duration": 0.067452,
          "end_time": "2022-08-04T05:48:49.326058",
          "exception": false,
          "start_time": "2022-08-04T05:48:49.258606",
          "status": "completed"
        },
        "tags": []
      },
      "outputs": [],
      "source": [
        "assert not is_sdense(object)\n",
        "assert not is_sdense(_sdict)\n",
        "assert not is_sdense(_scoo)\n",
        "assert is_sdense(_sdense)"
      ]
    },
    {
      "cell_type": "markdown",
      "id": "fdd394d46c0a998e",
      "metadata": {},
      "source": [
        ":::{eval-rst}\n",
        ".. autofunction:: sax.typing_.is_model\n",
        ":::\n"
      ]
    },
    {
      "cell_type": "code",
      "execution_count": 43,
      "id": "901d9ad0df48ee43",
      "metadata": {
        "execution": {
          "iopub.execute_input": "2022-08-04T05:48:49.456893Z",
          "iopub.status.busy": "2022-08-04T05:48:49.456336Z",
          "iopub.status.idle": "2022-08-04T05:48:49.457805Z",
          "shell.execute_reply": "2022-08-04T05:48:49.458203Z"
        },
        "papermill": {
          "duration": 0.071108,
          "end_time": "2022-08-04T05:48:49.458353",
          "exception": false,
          "start_time": "2022-08-04T05:48:49.387245",
          "status": "completed"
        },
        "tags": [
          "hide-input"
        ]
      },
      "outputs": [],
      "source": [
        "def is_model(model: Any) -> bool:\n",
        "    \"\"\"check if a callable is a `Model` (a callable returning an `SType`)\"\"\"\n",
        "    if not callable(model):\n",
        "        return False\n",
        "    try:\n",
        "        sig = inspect.signature(model)\n",
        "    except ValueError:\n",
        "        return False\n",
        "    for param in sig.parameters.values():\n",
        "        if param.default is inspect.Parameter.empty:\n",
        "            return False  # a proper SAX model does not have any positional arguments.\n",
        "    if _is_callable_annotation(sig.return_annotation):  # model factory\n",
        "        return False\n",
        "    return True\n",
        "\n",
        "def _is_callable_annotation(annotation: Any) -> bool:\n",
        "    \"\"\"check if an annotation is `Callable`-like\"\"\"\n",
        "    if isinstance(annotation, str):\n",
        "        # happens when\n",
        "        # from __future__ import annotations\n",
        "        # was imported at the top of the file...\n",
        "        return annotation.startswith(\"Callable\") or annotation.endswith(\"Model\")\n",
        "        # TODO: this is not a very robust check...\n",
        "    try:\n",
        "        return annotation.__origin__ == CallableABC\n",
        "    except AttributeError:\n",
        "        return False"
      ]
    },
    {
      "cell_type": "code",
      "execution_count": 44,
      "id": "7eea28db07d27e2f",
      "metadata": {
        "execution": {
          "iopub.execute_input": "2022-08-04T05:48:49.586769Z",
          "iopub.status.busy": "2022-08-04T05:48:49.586220Z",
          "iopub.status.idle": "2022-08-04T05:48:49.587648Z",
          "shell.execute_reply": "2022-08-04T05:48:49.588042Z"
        },
        "papermill": {
          "duration": 0.06831,
          "end_time": "2022-08-04T05:48:49.588189",
          "exception": false,
          "start_time": "2022-08-04T05:48:49.519879",
          "status": "completed"
        },
        "tags": [
          "remove-cell"
        ]
      },
      "outputs": [],
      "source": [
        "assert _is_callable_annotation(Callable)\n",
        "assert not _is_callable_annotation(SDict)"
      ]
    },
    {
      "cell_type": "code",
      "execution_count": 45,
      "id": "89bdb647",
      "metadata": {
        "execution": {
          "iopub.execute_input": "2022-08-04T05:48:49.722389Z",
          "iopub.status.busy": "2022-08-04T05:48:49.721841Z",
          "iopub.status.idle": "2022-08-04T05:48:49.734295Z",
          "shell.execute_reply": "2022-08-04T05:48:49.734729Z"
        },
        "papermill": {
          "duration": 0.084777,
          "end_time": "2022-08-04T05:48:49.734902",
          "exception": false,
          "start_time": "2022-08-04T05:48:49.650125",
          "status": "completed"
        },
        "tags": []
      },
      "outputs": [],
      "source": [
        "def good_model(x=jnp.array(3.0), y=jnp.array(4.0)) -> SDict:\n",
        "    return {(\"in0\", \"out0\"): jnp.array(3.0)}\n",
        "assert is_model(good_model)\n",
        "\n",
        "def bad_model(positional_argument, x=jnp.array(3.0), y=jnp.array(4.0)) -> SDict:\n",
        "    return {(\"in0\", \"out0\"): jnp.array(3.0)}\n",
        "assert not is_model(bad_model)"
      ]
    },
    {
      "cell_type": "markdown",
      "id": "ede8fe402636a01a",
      "metadata": {},
      "source": [
        ":::{eval-rst}\n",
        ".. autofunction:: sax.typing_.is_model_factory\n",
        ":::\n"
      ]
    },
    {
      "cell_type": "code",
      "execution_count": 46,
      "id": "9eabebfc80aa1839",
      "metadata": {
        "execution": {
          "iopub.execute_input": "2022-08-04T05:48:49.864253Z",
          "iopub.status.busy": "2022-08-04T05:48:49.863728Z",
          "iopub.status.idle": "2022-08-04T05:48:49.864840Z",
          "shell.execute_reply": "2022-08-04T05:48:49.865309Z"
        },
        "papermill": {
          "duration": 0.068426,
          "end_time": "2022-08-04T05:48:49.865453",
          "exception": false,
          "start_time": "2022-08-04T05:48:49.797027",
          "status": "completed"
        },
        "tags": [
          "hide-input"
        ]
      },
      "outputs": [],
      "source": [
        "def is_model_factory(model: Any) -> bool:\n",
        "    \"\"\"check if a callable is a model function.\"\"\"\n",
        "    if not callable(model):\n",
        "        return False\n",
        "    sig = inspect.signature(model)\n",
        "    if _is_callable_annotation(sig.return_annotation):  # model factory\n",
        "        return True\n",
        "    return False"
      ]
    },
    {
      "cell_type": "markdown",
      "id": "1f9715ed",
      "metadata": {
        "papermill": {
          "duration": 0.062268,
          "end_time": "2022-08-04T05:48:49.989970",
          "exception": false,
          "start_time": "2022-08-04T05:48:49.927702",
          "status": "completed"
        },
        "tags": []
      },
      "source": [
        "> Note: For a `Callable` to be considered a `ModelFactory` in SAX, it **MUST** have a `Callable` or `Model` return annotation. Otherwise SAX will view it as a `Model` and things might break!"
      ]
    },
    {
      "cell_type": "code",
      "execution_count": 47,
      "id": "fe9cdff0",
      "metadata": {
        "execution": {
          "iopub.execute_input": "2022-08-04T05:48:50.117266Z",
          "iopub.status.busy": "2022-08-04T05:48:50.116721Z",
          "iopub.status.idle": "2022-08-04T05:48:50.120634Z",
          "shell.execute_reply": "2022-08-04T05:48:50.120191Z"
        },
        "papermill": {
          "duration": 0.068907,
          "end_time": "2022-08-04T05:48:50.120756",
          "exception": false,
          "start_time": "2022-08-04T05:48:50.051849",
          "status": "completed"
        },
        "tags": []
      },
      "outputs": [],
      "source": [
        "def func() -> Model:\n",
        "    ...\n",
        "    \n",
        "assert is_model_factory(func) # yes, we only check the annotation for now...\n",
        "\n",
        "def func():\n",
        "    ...\n",
        "    \n",
        "assert not is_model_factory(func) # yes, we only check the annotation for now..."
      ]
    },
    {
      "cell_type": "markdown",
      "id": "21681d522dac8169",
      "metadata": {},
      "source": [
        ":::{eval-rst}\n",
        ".. autofunction:: sax.typing_.validate_model\n",
        ":::\n"
      ]
    },
    {
      "cell_type": "code",
      "execution_count": 48,
      "id": "b3e7c9b98f4521ed",
      "metadata": {
        "execution": {
          "iopub.execute_input": "2022-08-04T05:48:50.251577Z",
          "iopub.status.busy": "2022-08-04T05:48:50.250858Z",
          "iopub.status.idle": "2022-08-04T05:48:50.252163Z",
          "shell.execute_reply": "2022-08-04T05:48:50.252554Z"
        },
        "papermill": {
          "duration": 0.070912,
          "end_time": "2022-08-04T05:48:50.252707",
          "exception": false,
          "start_time": "2022-08-04T05:48:50.181795",
          "status": "completed"
        },
        "tags": [
          "hide-input"
        ]
      },
      "outputs": [],
      "source": [
        "def validate_model(model: Callable):\n",
        "    \"\"\"Validate the parameters of a model\"\"\"\n",
        "    positional_arguments = []\n",
        "    for param in inspect.signature(model).parameters.values():\n",
        "        if param.default is inspect.Parameter.empty:\n",
        "            positional_arguments.append(param.name)\n",
        "    if positional_arguments:\n",
        "        raise ValueError(\n",
        "            f\"model '{model}' takes positional arguments {', '.join(positional_arguments)} \"\n",
        "            \"and hence is not a valid SAX Model! A SAX model should ONLY take keyword arguments (or no arguments at all).\"\n",
        "        )"
      ]
    },
    {
      "cell_type": "code",
      "execution_count": 49,
      "id": "754399d5",
      "metadata": {
        "execution": {
          "iopub.execute_input": "2022-08-04T05:48:50.382720Z",
          "iopub.status.busy": "2022-08-04T05:48:50.382142Z",
          "iopub.status.idle": "2022-08-04T05:48:50.384292Z",
          "shell.execute_reply": "2022-08-04T05:48:50.383860Z"
        },
        "papermill": {
          "duration": 0.069508,
          "end_time": "2022-08-04T05:48:50.384409",
          "exception": false,
          "start_time": "2022-08-04T05:48:50.314901",
          "status": "completed"
        },
        "tags": []
      },
      "outputs": [],
      "source": [
        "def good_model(x=jnp.array(3.0), y=jnp.array(4.0)) -> SDict:\n",
        "    return {(\"in0\", \"out0\"): jnp.array(3.0)}\n",
        "\n",
        "\n",
        "assert validate_model(good_model) is None"
      ]
    },
    {
      "cell_type": "code",
      "execution_count": 50,
      "id": "181c72fa",
      "metadata": {
        "execution": {
          "iopub.execute_input": "2022-08-04T05:48:50.521931Z",
          "iopub.status.busy": "2022-08-04T05:48:50.521289Z",
          "iopub.status.idle": "2022-08-04T05:48:50.524363Z",
          "shell.execute_reply": "2022-08-04T05:48:50.523918Z"
        },
        "papermill": {
          "duration": 0.073085,
          "end_time": "2022-08-04T05:48:50.524484",
          "exception": false,
          "start_time": "2022-08-04T05:48:50.451399",
          "status": "completed"
        },
        "tags": []
      },
      "outputs": [],
      "source": [
        "def bad_model(positional_argument, x=jnp.array(3.0), y=jnp.array(4.0)) -> SDict:\n",
        "    return {(\"in0\", \"out0\"): jnp.array(3.0)}\n",
        "\n",
        "\n",
        "with raises(ValueError):\n",
        "    validate_model(bad_model)"
      ]
    },
    {
      "cell_type": "markdown",
      "id": "9f2acb166a0fb3fb",
      "metadata": {},
      "source": [
        ":::{eval-rst}\n",
        ".. autofunction:: sax.typing_.is_instance\n",
        ":::\n"
      ]
    },
    {
      "cell_type": "code",
      "execution_count": 51,
      "id": "fe0d1fd9a4a78329",
      "metadata": {
        "execution": {
          "iopub.execute_input": "2022-08-04T05:48:50.661458Z",
          "iopub.status.busy": "2022-08-04T05:48:50.660926Z",
          "iopub.status.idle": "2022-08-04T05:48:50.662767Z",
          "shell.execute_reply": "2022-08-04T05:48:50.663240Z"
        },
        "papermill": {
          "duration": 0.072684,
          "end_time": "2022-08-04T05:48:50.663385",
          "exception": false,
          "start_time": "2022-08-04T05:48:50.590701",
          "status": "completed"
        },
        "tags": [
          "hide-input"
        ]
      },
      "outputs": [],
      "source": [
        "def is_instance(instance: Any) -> bool:\n",
        "    \"\"\"check if a dictionary is an instance\"\"\"\n",
        "    if not isinstance(instance, dict):\n",
        "        return False\n",
        "    return \"component\" in instance"
      ]
    },
    {
      "cell_type": "markdown",
      "id": "15400a4f5199cc4f",
      "metadata": {},
      "source": [
        ":::{eval-rst}\n",
        ".. autofunction:: sax.typing_.is_netlist\n",
        ":::\n"
      ]
    },
    {
      "cell_type": "code",
      "execution_count": 52,
      "id": "677dee409795511f",
      "metadata": {
        "execution": {
          "iopub.execute_input": "2022-08-04T05:48:50.800216Z",
          "iopub.status.busy": "2022-08-04T05:48:50.799286Z",
          "iopub.status.idle": "2022-08-04T05:48:50.802165Z",
          "shell.execute_reply": "2022-08-04T05:48:50.801718Z"
        },
        "papermill": {
          "duration": 0.072763,
          "end_time": "2022-08-04T05:48:50.802283",
          "exception": false,
          "start_time": "2022-08-04T05:48:50.729520",
          "status": "completed"
        },
        "tags": [
          "hide-input"
        ]
      },
      "outputs": [],
      "source": [
        "def is_netlist(netlist: Any) -> bool:\n",
        "    \"\"\"check if a dictionary is a netlist\"\"\"\n",
        "    if not isinstance(netlist, dict):\n",
        "        return False\n",
        "    if not \"instances\" in netlist:\n",
        "        return False\n",
        "    if not \"connections\" in netlist:\n",
        "        return False\n",
        "    if not \"ports\" in netlist:\n",
        "        return False\n",
        "    return True"
      ]
    },
    {
      "cell_type": "markdown",
      "id": "d1647d26f3d6be1d",
      "metadata": {},
      "source": [
        ":::{eval-rst}\n",
        ".. autofunction:: sax.typing_.is_stype\n",
        ":::\n"
      ]
    },
    {
      "cell_type": "code",
      "execution_count": 53,
      "id": "1ddd21d99507437d",
      "metadata": {
        "execution": {
          "iopub.execute_input": "2022-08-04T05:48:50.934619Z",
          "iopub.status.busy": "2022-08-04T05:48:50.934051Z",
          "iopub.status.idle": "2022-08-04T05:48:50.938332Z",
          "shell.execute_reply": "2022-08-04T05:48:50.937915Z"
        },
        "papermill": {
          "duration": 0.071977,
          "end_time": "2022-08-04T05:48:50.938454",
          "exception": false,
          "start_time": "2022-08-04T05:48:50.866477",
          "status": "completed"
        },
        "tags": [
          "hide-input"
        ]
      },
      "outputs": [],
      "source": [
        "def is_stype(stype: Any) -> bool:\n",
        "    \"\"\"check if an object is an SDict, SCoo or SDense\"\"\"\n",
        "    return is_sdict(stype) or is_scoo(stype) or is_sdense(stype)"
      ]
    },
    {
      "cell_type": "markdown",
      "id": "a167fe61980d81e3",
      "metadata": {},
      "source": [
        ":::{eval-rst}\n",
        ".. autofunction:: sax.typing_.is_singlemode\n",
        ":::\n"
      ]
    },
    {
      "cell_type": "code",
      "execution_count": 54,
      "id": "5395da27d7892321",
      "metadata": {
        "execution": {
          "iopub.execute_input": "2022-08-04T05:48:51.079216Z",
          "iopub.status.busy": "2022-08-04T05:48:51.078669Z",
          "iopub.status.idle": "2022-08-04T05:48:51.079913Z",
          "shell.execute_reply": "2022-08-04T05:48:51.080369Z"
        },
        "papermill": {
          "duration": 0.074871,
          "end_time": "2022-08-04T05:48:51.080513",
          "exception": false,
          "start_time": "2022-08-04T05:48:51.005642",
          "status": "completed"
        },
        "tags": [
          "hide-input"
        ]
      },
      "outputs": [],
      "source": [
        "def is_singlemode(S: Any) -> bool:\n",
        "    \"\"\"check if an stype is single mode\"\"\"\n",
        "    if not is_stype(S):\n",
        "        return False\n",
        "    ports = _get_ports(S)\n",
        "    return not any((\"@\" in p) for p in ports)\n",
        "\n",
        "def _get_ports(S: SType):\n",
        "    if is_sdict(S):\n",
        "        S = cast(SDict, S)\n",
        "        ports_set = {p1 for p1, _ in S} | {p2 for _, p2 in S}\n",
        "        return tuple(natsorted(ports_set))\n",
        "    else:\n",
        "        *_, ports_map = S\n",
        "        assert isinstance(ports_map, dict)\n",
        "        return tuple(natsorted(ports_map.keys()))"
      ]
    },
    {
      "cell_type": "markdown",
      "id": "6a033f44a21d6b76",
      "metadata": {},
      "source": [
        ":::{eval-rst}\n",
        ".. autofunction:: sax.typing_.is_multimode\n",
        ":::\n"
      ]
    },
    {
      "cell_type": "code",
      "execution_count": 55,
      "id": "fd492b6941708a32",
      "metadata": {
        "execution": {
          "iopub.execute_input": "2022-08-04T05:48:51.224379Z",
          "iopub.status.busy": "2022-08-04T05:48:51.223858Z",
          "iopub.status.idle": "2022-08-04T05:48:51.225595Z",
          "shell.execute_reply": "2022-08-04T05:48:51.226097Z"
        },
        "papermill": {
          "duration": 0.077443,
          "end_time": "2022-08-04T05:48:51.226249",
          "exception": false,
          "start_time": "2022-08-04T05:48:51.148806",
          "status": "completed"
        },
        "tags": [
          "hide-input"
        ]
      },
      "outputs": [],
      "source": [
        "def is_multimode(S: Any) -> bool:\n",
        "    \"\"\"check if an stype is single mode\"\"\"\n",
        "    if not is_stype(S):\n",
        "        return False\n",
        "    \n",
        "    ports = _get_ports(S)\n",
        "    return all((\"@\" in p) for p in ports)"
      ]
    },
    {
      "cell_type": "markdown",
      "id": "5a5a8b3fbf965c0a",
      "metadata": {},
      "source": [
        ":::{eval-rst}\n",
        ".. autofunction:: sax.typing_.is_mixedmode\n",
        ":::\n"
      ]
    },
    {
      "cell_type": "code",
      "execution_count": 56,
      "id": "b7fa4b57d0835c2f",
      "metadata": {
        "execution": {
          "iopub.execute_input": "2022-08-04T05:48:51.367814Z",
          "iopub.status.busy": "2022-08-04T05:48:51.367299Z",
          "iopub.status.idle": "2022-08-04T05:48:51.368333Z",
          "shell.execute_reply": "2022-08-04T05:48:51.368795Z"
        },
        "papermill": {
          "duration": 0.07628,
          "end_time": "2022-08-04T05:48:51.368937",
          "exception": false,
          "start_time": "2022-08-04T05:48:51.292657",
          "status": "completed"
        },
        "tags": [
          "hide-input"
        ]
      },
      "outputs": [],
      "source": [
        "def is_mixedmode(S: Any) -> bool:\n",
        "    \"\"\"check if an stype is neither single mode nor multimode (hence invalid)\"\"\"\n",
        "    return not is_singlemode(S) and not is_multimode(S)"
      ]
    },
    {
      "cell_type": "markdown",
      "id": "3afe685c",
      "metadata": {
        "papermill": {
          "duration": 0.062785,
          "end_time": "2022-08-04T05:48:51.494707",
          "exception": false,
          "start_time": "2022-08-04T05:48:51.431922",
          "status": "completed"
        },
        "tags": []
      },
      "source": [
        "## SAX return type helpers\n",
        "\n",
        "> a.k.a SDict, SDense, SCoo helpers"
      ]
    },
    {
      "cell_type": "markdown",
      "id": "a875f149",
      "metadata": {
        "papermill": {
          "duration": 0.062734,
          "end_time": "2022-08-04T05:48:51.620162",
          "exception": false,
          "start_time": "2022-08-04T05:48:51.557428",
          "status": "completed"
        },
        "tags": []
      },
      "source": [
        "Convert an `SDict`, `SCoo` or `SDense` into an `SDict` (or convert a model generating any of these types into a model generating an `SDict`):"
      ]
    },
    {
      "cell_type": "code",
      "execution_count": 57,
      "id": "6fc44d837c97950f",
      "metadata": {
        "execution": {
          "iopub.execute_input": "2022-08-04T05:48:51.751921Z",
          "iopub.status.busy": "2022-08-04T05:48:51.751391Z",
          "iopub.status.idle": "2022-08-04T05:48:51.752448Z",
          "shell.execute_reply": "2022-08-04T05:48:51.752914Z"
        },
        "papermill": {
          "duration": 0.069959,
          "end_time": "2022-08-04T05:48:51.753059",
          "exception": false,
          "start_time": "2022-08-04T05:48:51.683100",
          "status": "completed"
        },
        "tags": [
          "remove-cell"
        ]
      },
      "outputs": [],
      "source": [
        "\n",
        "@overload\n",
        "def sdict(S: Model) -> Model:\n",
        "    ...\n",
        "\n",
        "\n",
        "@overload\n",
        "def sdict(S: SType) -> SDict:\n",
        "    ..."
      ]
    },
    {
      "cell_type": "markdown",
      "id": "320e8a24b10b0ad6",
      "metadata": {},
      "source": [
        ":::{eval-rst}\n",
        ".. autofunction:: sax.typing_.sdict\n",
        ":::\n"
      ]
    },
    {
      "cell_type": "code",
      "execution_count": 58,
      "id": "a9e9d0de6feb0f9d",
      "metadata": {
        "execution": {
          "iopub.execute_input": "2022-08-04T05:48:51.883453Z",
          "iopub.status.busy": "2022-08-04T05:48:51.882930Z",
          "iopub.status.idle": "2022-08-04T05:48:51.892948Z",
          "shell.execute_reply": "2022-08-04T05:48:51.892532Z"
        },
        "papermill": {
          "duration": 0.076106,
          "end_time": "2022-08-04T05:48:51.893074",
          "exception": false,
          "start_time": "2022-08-04T05:48:51.816968",
          "status": "completed"
        },
        "tags": [
          "hide-input"
        ]
      },
      "outputs": [],
      "source": [
        "def sdict(S: Union[Model, SType]) -> Union[Model, SType]:\n",
        "    \"\"\"Convert an `SCoo` or `SDense` to `SDict`\"\"\"\n",
        "\n",
        "    if is_model(S):\n",
        "        model = cast(Model, S)\n",
        "\n",
        "        @functools.wraps(model)\n",
        "        def wrapper(**kwargs):\n",
        "            return sdict(model(**kwargs))\n",
        "\n",
        "        return wrapper\n",
        "\n",
        "    elif is_scoo(S):\n",
        "        x_dict = _scoo_to_sdict(*cast(SCoo, S))\n",
        "    elif is_sdense(S):\n",
        "        x_dict = _sdense_to_sdict(*cast(SDense, S))\n",
        "    elif is_sdict(S):\n",
        "        x_dict = cast(SDict, S)\n",
        "    else:\n",
        "        raise ValueError(\"Could not convert arguments to sdict.\")\n",
        "\n",
        "    return x_dict\n",
        "\n",
        "\n",
        "def _scoo_to_sdict(Si: Array, Sj: Array, Sx: Array, ports_map: Dict[str, int]) -> SDict:\n",
        "    sdict = {}\n",
        "    inverse_ports_map = {int(i): p for p, i in ports_map.items()}\n",
        "    for i, (si, sj) in enumerate(zip(Si, Sj)):\n",
        "        sdict[\n",
        "            inverse_ports_map.get(int(si), \"\"), inverse_ports_map.get(int(sj), \"\")\n",
        "        ] = Sx[..., i]\n",
        "    sdict = {(p1, p2): v for (p1, p2), v in sdict.items() if p1 and p2}\n",
        "    return sdict\n",
        "\n",
        "\n",
        "def _sdense_to_sdict(S: Array, ports_map: Dict[str, int]) -> SDict:\n",
        "    sdict = {}\n",
        "    for p1, i in ports_map.items():\n",
        "        for p2, j in ports_map.items():\n",
        "            sdict[p1, p2] = S[..., i, j]\n",
        "    return sdict"
      ]
    },
    {
      "cell_type": "code",
      "execution_count": 59,
      "id": "9a372fbf",
      "metadata": {
        "execution": {
          "iopub.execute_input": "2022-08-04T05:48:52.033135Z",
          "iopub.status.busy": "2022-08-04T05:48:52.032604Z",
          "iopub.status.idle": "2022-08-04T05:48:52.175095Z",
          "shell.execute_reply": "2022-08-04T05:48:52.174289Z"
        },
        "papermill": {
          "duration": 0.219498,
          "end_time": "2022-08-04T05:48:52.175312",
          "exception": false,
          "start_time": "2022-08-04T05:48:51.955814",
          "status": "completed"
        },
        "tags": []
      },
      "outputs": [],
      "source": [
        "assert sdict(_sdict) is _sdict\n",
        "assert sdict(_scoo) == {\n",
        "    (\"in0\", \"in0\"): 3.0,\n",
        "    (\"in1\", \"in0\"): 1.0,\n",
        "    (\"out0\", \"out0\"): 4.0,\n",
        "}\n",
        "assert sdict(_sdense) == {\n",
        "    (\"in0\", \"in0\"): 0.0,\n",
        "    (\"in0\", \"out0\"): 1.0,\n",
        "    (\"in0\", \"in1\"): 2.0,\n",
        "    (\"out0\", \"in0\"): 3.0,\n",
        "    (\"out0\", \"out0\"): 4.0,\n",
        "    (\"out0\", \"in1\"): 5.0,\n",
        "    (\"in1\", \"in0\"): 6.0,\n",
        "    (\"in1\", \"out0\"): 7.0,\n",
        "    (\"in1\", \"in1\"): 8.0,\n",
        "}"
      ]
    },
    {
      "cell_type": "markdown",
      "id": "492c5cdd",
      "metadata": {
        "papermill": {
          "duration": 0.063942,
          "end_time": "2022-08-04T05:48:52.303347",
          "exception": false,
          "start_time": "2022-08-04T05:48:52.239405",
          "status": "completed"
        },
        "tags": []
      },
      "source": [
        "Convert an `SDict`, `SCoo` or `SDense` into an `SCoo` (or convert a model generating any of these types into a model generating an `SCoo`):"
      ]
    },
    {
      "cell_type": "code",
      "execution_count": 60,
      "id": "56040ea3ead572b0",
      "metadata": {
        "execution": {
          "iopub.execute_input": "2022-08-04T05:48:52.435400Z",
          "iopub.status.busy": "2022-08-04T05:48:52.434868Z",
          "iopub.status.idle": "2022-08-04T05:48:52.436728Z",
          "shell.execute_reply": "2022-08-04T05:48:52.437128Z"
        },
        "papermill": {
          "duration": 0.070023,
          "end_time": "2022-08-04T05:48:52.437278",
          "exception": false,
          "start_time": "2022-08-04T05:48:52.367255",
          "status": "completed"
        },
        "tags": [
          "remove-cell"
        ]
      },
      "outputs": [],
      "source": [
        "\n",
        "@overload\n",
        "def scoo(S: Callable) -> Callable:\n",
        "    ...\n",
        "\n",
        "\n",
        "@overload\n",
        "def scoo(S: SType) -> SCoo:\n",
        "    ..."
      ]
    },
    {
      "cell_type": "markdown",
      "id": "8b8b5e800d439c7e",
      "metadata": {},
      "source": [
        ":::{eval-rst}\n",
        ".. autofunction:: sax.typing_.scoo\n",
        ":::\n"
      ]
    },
    {
      "cell_type": "code",
      "execution_count": 61,
      "id": "08f8816e2d637fe1",
      "metadata": {
        "execution": {
          "iopub.execute_input": "2022-08-04T05:48:52.575250Z",
          "iopub.status.busy": "2022-08-04T05:48:52.574687Z",
          "iopub.status.idle": "2022-08-04T05:48:52.576795Z",
          "shell.execute_reply": "2022-08-04T05:48:52.576355Z"
        },
        "papermill": {
          "duration": 0.075764,
          "end_time": "2022-08-04T05:48:52.576914",
          "exception": false,
          "start_time": "2022-08-04T05:48:52.501150",
          "status": "completed"
        },
        "tags": [
          "hide-input"
        ]
      },
      "outputs": [],
      "source": [
        "\n",
        "def scoo(S: Union[Callable, SType]) -> Union[Callable, SCoo]:\n",
        "    \"\"\"Convert an `SDict` or `SDense` to `SCoo`\"\"\"\n",
        "\n",
        "    if is_model(S):\n",
        "        model = cast(Model, S)\n",
        "\n",
        "        @functools.wraps(model)\n",
        "        def wrapper(**kwargs):\n",
        "            return scoo(model(**kwargs))\n",
        "\n",
        "        return wrapper\n",
        "\n",
        "    elif is_scoo(S):\n",
        "        S = cast(SCoo, S)\n",
        "    elif is_sdense(S):\n",
        "        S = _sdense_to_scoo(*cast(SDense, S))\n",
        "    elif is_sdict(S):\n",
        "        S = _sdict_to_scoo(cast(SDict, S))\n",
        "    else:\n",
        "        raise ValueError(\"Could not convert arguments to scoo.\")\n",
        "\n",
        "    return S\n",
        "\n",
        "\n",
        "def _sdense_to_scoo(S: Array, ports_map: Dict[str, int]) -> SCoo:\n",
        "    Sj, Si = jnp.meshgrid(jnp.arange(S.shape[-1]), jnp.arange(S.shape[-2]))\n",
        "    return Si.ravel(), Sj.ravel(), S.reshape(*S.shape[:-2], -1), ports_map\n",
        "\n",
        "\n",
        "def _sdict_to_scoo(sdict: SDict) -> SCoo:\n",
        "    all_ports = {}\n",
        "    for p1, p2 in sdict:\n",
        "        all_ports[p1] = None\n",
        "        all_ports[p2] = None\n",
        "    ports_map = {p: i for i, p in enumerate(all_ports)}\n",
        "    Sx = jnp.stack(jnp.broadcast_arrays(*sdict.values()), -1)\n",
        "    Si = jnp.array([ports_map[p] for p, _ in sdict])\n",
        "    Sj = jnp.array([ports_map[p] for _, p in sdict])\n",
        "    return Si, Sj, Sx, ports_map"
      ]
    },
    {
      "cell_type": "code",
      "execution_count": 62,
      "id": "1e97b31c",
      "metadata": {
        "execution": {
          "iopub.execute_input": "2022-08-04T05:48:52.716884Z",
          "iopub.status.busy": "2022-08-04T05:48:52.714947Z",
          "iopub.status.idle": "2022-08-04T05:48:52.822214Z",
          "shell.execute_reply": "2022-08-04T05:48:52.822672Z"
        },
        "papermill": {
          "duration": 0.18269,
          "end_time": "2022-08-04T05:48:52.822850",
          "exception": false,
          "start_time": "2022-08-04T05:48:52.640160",
          "status": "completed"
        },
        "tags": []
      },
      "outputs": [],
      "source": [
        "assert scoo(_scoo) is _scoo\n",
        "assert scoo(_sdict) == (0, 1, 3.0, {\"in0\": 0, \"out0\": 1})\n",
        "Si, Sj, Sx, port_map = scoo(_sdense)  # type: ignore\n",
        "np.testing.assert_array_equal(Si, jnp.array([0, 0, 0, 1, 1, 1, 2, 2, 2]))\n",
        "np.testing.assert_array_equal(Sj, jnp.array([0, 1, 2, 0, 1, 2, 0, 1, 2]))\n",
        "np.testing.assert_array_almost_equal(Sx, jnp.array([0.0, 1.0, 2.0, 3.0, 4.0, 5.0, 6.0, 7.0, 8.0]))\n",
        "assert port_map == {\"in0\": 0, \"in1\": 2, \"out0\": 1}"
      ]
    },
    {
      "cell_type": "markdown",
      "id": "5e58325b",
      "metadata": {
        "papermill": {
          "duration": 0.063085,
          "end_time": "2022-08-04T05:48:52.957681",
          "exception": false,
          "start_time": "2022-08-04T05:48:52.894596",
          "status": "completed"
        },
        "tags": []
      },
      "source": [
        "Convert an `SDict`, `SCoo` or `SDense` into an `SDense` (or convert a model generating any of these types into a model generating an `SDense`):"
      ]
    },
    {
      "cell_type": "code",
      "execution_count": 63,
      "id": "e02e26e52cec9443",
      "metadata": {
        "execution": {
          "iopub.execute_input": "2022-08-04T05:48:53.089402Z",
          "iopub.status.busy": "2022-08-04T05:48:53.088880Z",
          "iopub.status.idle": "2022-08-04T05:48:53.090056Z",
          "shell.execute_reply": "2022-08-04T05:48:53.090561Z"
        },
        "papermill": {
          "duration": 0.069637,
          "end_time": "2022-08-04T05:48:53.090715",
          "exception": false,
          "start_time": "2022-08-04T05:48:53.021078",
          "status": "completed"
        },
        "tags": [
          "remove-cell"
        ]
      },
      "outputs": [],
      "source": [
        "\n",
        "@overload\n",
        "def sdense(S: Callable) -> Callable:\n",
        "    ...\n",
        "\n",
        "\n",
        "@overload\n",
        "def sdense(S: SType) -> SDense:\n",
        "    ..."
      ]
    },
    {
      "cell_type": "markdown",
      "id": "9658fcff340e9a0a",
      "metadata": {},
      "source": [
        ":::{eval-rst}\n",
        ".. autofunction:: sax.typing_.sdense\n",
        ":::\n"
      ]
    },
    {
      "cell_type": "code",
      "execution_count": 64,
      "id": "60a0a7832dd245fd",
      "metadata": {
        "execution": {
          "iopub.execute_input": "2022-08-04T05:48:53.227686Z",
          "iopub.status.busy": "2022-08-04T05:48:53.227138Z",
          "iopub.status.idle": "2022-08-04T05:48:53.229359Z",
          "shell.execute_reply": "2022-08-04T05:48:53.228944Z"
        },
        "papermill": {
          "duration": 0.075075,
          "end_time": "2022-08-04T05:48:53.229482",
          "exception": false,
          "start_time": "2022-08-04T05:48:53.154407",
          "status": "completed"
        },
        "tags": [
          "hide-input"
        ]
      },
      "outputs": [],
      "source": [
        "\n",
        "def sdense(S: Union[Callable, SType]) -> Union[Callable, SDense]:\n",
        "    \"\"\"Convert an `SDict` or `SCoo` to `SDense`\"\"\"\n",
        "\n",
        "    if is_model(S):\n",
        "        model = cast(Model, S)\n",
        "\n",
        "        @functools.wraps(model)\n",
        "        def wrapper(**kwargs):\n",
        "            return sdense(model(**kwargs))\n",
        "\n",
        "        return wrapper\n",
        "\n",
        "    if is_sdict(S):\n",
        "        S = _sdict_to_sdense(cast(SDict, S))\n",
        "    elif is_scoo(S):\n",
        "        S = _scoo_to_sdense(*cast(SCoo, S))\n",
        "    elif is_sdense(S):\n",
        "        S = cast(SDense, S)\n",
        "    else:\n",
        "        raise ValueError(\"Could not convert arguments to sdense.\")\n",
        "\n",
        "    return S\n",
        "\n",
        "\n",
        "def _scoo_to_sdense(\n",
        "    Si: Array, Sj: Array, Sx: Array, ports_map: Dict[str, int]\n",
        ") -> SDense:\n",
        "    n_col = len(ports_map)\n",
        "    S = jnp.zeros((*Sx.shape[:-1], n_col, n_col), dtype=complex)\n",
        "    if JAX_AVAILABLE:\n",
        "        S = S.at[..., Si, Sj].add(Sx)\n",
        "    else:\n",
        "        S[..., Si, Sj] = Sx\n",
        "    return S, ports_map\n",
        "\n",
        "def _sdict_to_sdense(sdict: SDict) -> SDense:\n",
        "    Si, Sj, Sx, ports_map = _sdict_to_scoo(sdict)\n",
        "    return _scoo_to_sdense(Si, Sj, Sx, ports_map)"
      ]
    },
    {
      "cell_type": "code",
      "execution_count": 65,
      "id": "084b7ddb",
      "metadata": {
        "execution": {
          "iopub.execute_input": "2022-08-04T05:48:53.368180Z",
          "iopub.status.busy": "2022-08-04T05:48:53.366305Z",
          "iopub.status.idle": "2022-08-04T05:48:53.521524Z",
          "shell.execute_reply": "2022-08-04T05:48:53.521058Z"
        },
        "papermill": {
          "duration": 0.228293,
          "end_time": "2022-08-04T05:48:53.521662",
          "exception": false,
          "start_time": "2022-08-04T05:48:53.293369",
          "status": "completed"
        },
        "tags": []
      },
      "outputs": [],
      "source": [
        "assert sdense(_sdense) is _sdense\n",
        "Sd, port_map = sdense(_scoo)  # type: ignore\n",
        "Sd_ = jnp.array([[3.0 + 0.0j, 0.0 + 0.0j, 0.0 + 0.0j],\n",
        "                 [0.0 + 0.0j, 4.0 + 0.0j, 0.0 + 0.0j],\n",
        "                 [1.0 + 0.0j, 0.0 + 0.0j, 0.0 + 0.0j]])\n",
        "\n",
        "np.testing.assert_array_almost_equal(Sd, Sd_)\n",
        "assert port_map == {\"in0\": 0, \"in1\": 2, \"out0\": 1}"
      ]
    },
    {
      "cell_type": "markdown",
      "id": "a81e01e9b8e97a15",
      "metadata": {},
      "source": [
        ":::{eval-rst}\n",
        ".. autofunction:: sax.typing_.modelfactory\n",
        ":::\n"
      ]
    },
    {
      "cell_type": "code",
      "execution_count": 66,
      "id": "9f86a0c9a4f1c027",
      "metadata": {
        "execution": {
          "iopub.execute_input": "2022-08-04T05:48:53.654988Z",
          "iopub.status.busy": "2022-08-04T05:48:53.654416Z",
          "iopub.status.idle": "2022-08-04T05:48:53.655772Z",
          "shell.execute_reply": "2022-08-04T05:48:53.656193Z"
        },
        "papermill": {
          "duration": 0.070993,
          "end_time": "2022-08-04T05:48:53.656334",
          "exception": false,
          "start_time": "2022-08-04T05:48:53.585341",
          "status": "completed"
        },
        "tags": [
          "hide-input"
        ]
      },
      "outputs": [],
      "source": [
        "\n",
        "def modelfactory(func):\n",
        "    \"\"\"Decorator that marks a function as `ModelFactory`\"\"\"\n",
        "    sig = inspect.signature(func)\n",
        "    if _is_callable_annotation(sig.return_annotation):  # already model factory\n",
        "        return func\n",
        "    func.__signature__ = sig.replace(return_annotation=Model)\n",
        "    return func"
      ]
    }
  ],
  "metadata": {
    "kernelspec": {
      "display_name": "sax",
      "language": "python",
      "name": "sax"
    },
    "language_info": {
      "codemirror_mode": {
        "name": "ipython",
        "version": 3
      },
      "file_extension": ".py",
      "mimetype": "text/x-python",
      "name": "python",
      "nbconvert_exporter": "python",
      "pygments_lexer": "ipython3",
      "version": "3.9.0"
    },
    "papermill": {
      "default_parameters": {},
      "duration": 19.472484,
      "end_time": "2022-08-04T05:48:54.128135",
      "environment_variables": {},
      "exception": null,
      "input_path": "./nbs/00_typing.ipynb",
      "output_path": "./nbs/00_typing.ipynb",
      "parameters": {},
      "start_time": "2022-08-04T05:48:34.655651",
      "version": "2.3.4"
    }
  },
  "nbformat": 4,
  "nbformat_minor": 5
}
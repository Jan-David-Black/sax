{
  "cells": [
    {
      "cell_type": "code",
      "execution_count": 1,
      "id": "f462d119e281e328",
      "metadata": {
        "execution": {
          "iopub.execute_input": "2022-08-07T05:30:33.035662Z",
          "iopub.status.busy": "2022-08-07T05:30:33.034643Z",
          "iopub.status.idle": "2022-08-07T05:30:33.039070Z",
          "shell.execute_reply": "2022-08-07T05:30:33.038651Z"
        },
        "papermill": {
          "duration": 0.060608,
          "end_time": "2022-08-07T05:30:33.039184",
          "exception": false,
          "start_time": "2022-08-07T05:30:32.978576",
          "status": "completed"
        },
        "tags": [
          "remove-cell"
        ]
      },
      "outputs": [],
      "source": []
    },
    {
      "cell_type": "markdown",
      "id": "13a3464b",
      "metadata": {
        "papermill": {
          "duration": 0.049342,
          "end_time": "2022-08-07T05:30:33.137629",
          "exception": false,
          "start_time": "2022-08-07T05:30:33.088287",
          "status": "completed"
        },
        "tags": []
      },
      "source": [
        "# Typing\n",
        "\n",
        "> SAX types"
      ]
    },
    {
      "cell_type": "code",
      "execution_count": 2,
      "id": "337f98161d9d89f9",
      "metadata": {
        "execution": {
          "iopub.execute_input": "2022-08-07T05:30:33.245472Z",
          "iopub.status.busy": "2022-08-07T05:30:33.245030Z",
          "iopub.status.idle": "2022-08-07T05:30:33.929845Z",
          "shell.execute_reply": "2022-08-07T05:30:33.929393Z"
        },
        "papermill": {
          "duration": 0.742893,
          "end_time": "2022-08-07T05:30:33.929973",
          "exception": false,
          "start_time": "2022-08-07T05:30:33.187080",
          "status": "completed"
        },
        "tags": [
          "remove-cell"
        ]
      },
      "outputs": [],
      "source": [
        "import matplotlib.pyplot as plt\n",
        "from fastcore.test import test_eq\n",
        "from pytest import approx, raises\n",
        "\n",
        "import os, sys; sys.stderr = open(os.devnull, \"w\")"
      ]
    },
    {
      "cell_type": "code",
      "execution_count": 3,
      "id": "4587fa2bcbb80e07",
      "metadata": {
        "execution": {
          "iopub.execute_input": "2022-08-07T05:30:34.034830Z",
          "iopub.status.busy": "2022-08-07T05:30:34.034392Z",
          "iopub.status.idle": "2022-08-07T05:30:34.612037Z",
          "shell.execute_reply": "2022-08-07T05:30:34.611573Z"
        },
        "papermill": {
          "duration": 0.633003,
          "end_time": "2022-08-07T05:30:34.612170",
          "exception": false,
          "start_time": "2022-08-07T05:30:33.979167",
          "status": "completed"
        },
        "tags": [
          "hide-input"
        ]
      },
      "outputs": [],
      "source": [
        "from __future__ import annotations\n",
        "\n",
        "import functools\n",
        "import inspect\n",
        "from collections.abc import Callable as CallableABC\n",
        "from typing import Any, Callable, Dict, Tuple, Union, cast, overload\n",
        "try:\n",
        "    from typing import TypedDict\n",
        "except ImportError: # python<3.8\n",
        "    from typing_extensions import TypedDict\n",
        "\n",
        "import numpy as np\n",
        "from natsort import natsorted\n",
        "\n",
        "try:\n",
        "    import jax.numpy as jnp\n",
        "    JAX_AVAILABLE = True\n",
        "except ImportError:\n",
        "    import numpy as jnp\n",
        "    JAX_AVAILABLE = False"
      ]
    },
    {
      "cell_type": "markdown",
      "id": "41e26ab2",
      "metadata": {
        "papermill": {
          "duration": 0.049821,
          "end_time": "2022-08-07T05:30:34.712655",
          "exception": false,
          "start_time": "2022-08-07T05:30:34.662834",
          "status": "completed"
        },
        "tags": []
      },
      "source": [
        "## Core Types"
      ]
    },
    {
      "cell_type": "markdown",
      "id": "ca29df5c",
      "metadata": {
        "papermill": {
          "duration": 0.048562,
          "end_time": "2022-08-07T05:30:34.844039",
          "exception": false,
          "start_time": "2022-08-07T05:30:34.795477",
          "status": "completed"
        },
        "tags": []
      },
      "source": [
        "### Array"
      ]
    },
    {
      "cell_type": "markdown",
      "id": "82c3c344",
      "metadata": {
        "papermill": {
          "duration": 0.049117,
          "end_time": "2022-08-07T05:30:34.942300",
          "exception": false,
          "start_time": "2022-08-07T05:30:34.893183",
          "status": "completed"
        },
        "tags": []
      },
      "source": [
        "an `Array` is either a jax array or a numpy array:"
      ]
    },
    {
      "cell_type": "code",
      "execution_count": 4,
      "id": "47222272a18e74ee",
      "metadata": {
        "execution": {
          "iopub.execute_input": "2022-08-07T05:30:35.045546Z",
          "iopub.status.busy": "2022-08-07T05:30:35.045100Z",
          "iopub.status.idle": "2022-08-07T05:30:35.048071Z",
          "shell.execute_reply": "2022-08-07T05:30:35.047677Z"
        },
        "papermill": {
          "duration": 0.0563,
          "end_time": "2022-08-07T05:30:35.048170",
          "exception": false,
          "start_time": "2022-08-07T05:30:34.991870",
          "status": "completed"
        },
        "tags": []
      },
      "outputs": [],
      "source": [
        "Array = Union[jnp.ndarray, np.ndarray]"
      ]
    },
    {
      "cell_type": "markdown",
      "id": "6b86fa37",
      "metadata": {
        "papermill": {
          "duration": 0.049712,
          "end_time": "2022-08-07T05:30:35.148050",
          "exception": false,
          "start_time": "2022-08-07T05:30:35.098338",
          "status": "completed"
        },
        "tags": []
      },
      "source": [
        "### Int"
      ]
    },
    {
      "cell_type": "markdown",
      "id": "9fa467c9",
      "metadata": {
        "papermill": {
          "duration": 0.049482,
          "end_time": "2022-08-07T05:30:35.246815",
          "exception": false,
          "start_time": "2022-08-07T05:30:35.197333",
          "status": "completed"
        },
        "tags": []
      },
      "source": [
        "An `Int` is either a built-in `int` or an `Array` [of dtype `int`]"
      ]
    },
    {
      "cell_type": "code",
      "execution_count": 5,
      "id": "5cbfe29b0543038d",
      "metadata": {
        "execution": {
          "iopub.execute_input": "2022-08-07T05:30:35.349641Z",
          "iopub.status.busy": "2022-08-07T05:30:35.349137Z",
          "iopub.status.idle": "2022-08-07T05:30:35.350610Z",
          "shell.execute_reply": "2022-08-07T05:30:35.350138Z"
        },
        "papermill": {
          "duration": 0.054593,
          "end_time": "2022-08-07T05:30:35.350724",
          "exception": false,
          "start_time": "2022-08-07T05:30:35.296131",
          "status": "completed"
        },
        "tags": []
      },
      "outputs": [],
      "source": [
        "Int = Union[int, Array]"
      ]
    },
    {
      "cell_type": "markdown",
      "id": "c486cd2c",
      "metadata": {
        "papermill": {
          "duration": 0.049373,
          "end_time": "2022-08-07T05:30:35.449820",
          "exception": false,
          "start_time": "2022-08-07T05:30:35.400447",
          "status": "completed"
        },
        "tags": []
      },
      "source": [
        "### Float"
      ]
    },
    {
      "cell_type": "markdown",
      "id": "3b59bba6",
      "metadata": {
        "papermill": {
          "duration": 0.049082,
          "end_time": "2022-08-07T05:30:35.548292",
          "exception": false,
          "start_time": "2022-08-07T05:30:35.499210",
          "status": "completed"
        },
        "tags": []
      },
      "source": [
        "A `Float` is eiter a built-in `float` or an `Array` [of dtype `float`]"
      ]
    },
    {
      "cell_type": "code",
      "execution_count": 6,
      "id": "6d569245082df858",
      "metadata": {
        "execution": {
          "iopub.execute_input": "2022-08-07T05:30:35.650963Z",
          "iopub.status.busy": "2022-08-07T05:30:35.650524Z",
          "iopub.status.idle": "2022-08-07T05:30:35.651814Z",
          "shell.execute_reply": "2022-08-07T05:30:35.652218Z"
        },
        "papermill": {
          "duration": 0.054733,
          "end_time": "2022-08-07T05:30:35.652342",
          "exception": false,
          "start_time": "2022-08-07T05:30:35.597609",
          "status": "completed"
        },
        "tags": []
      },
      "outputs": [],
      "source": [
        "Float = Union[float, Array]"
      ]
    },
    {
      "cell_type": "markdown",
      "id": "bdfd6200",
      "metadata": {
        "papermill": {
          "duration": 0.049126,
          "end_time": "2022-08-07T05:30:35.750281",
          "exception": false,
          "start_time": "2022-08-07T05:30:35.701155",
          "status": "completed"
        },
        "tags": []
      },
      "source": [
        "### ComplexFloat"
      ]
    },
    {
      "cell_type": "markdown",
      "id": "b1a7d255",
      "metadata": {
        "papermill": {
          "duration": 0.048691,
          "end_time": "2022-08-07T05:30:35.847967",
          "exception": false,
          "start_time": "2022-08-07T05:30:35.799276",
          "status": "completed"
        },
        "tags": []
      },
      "source": [
        "A `ComplexFloat` is either a build-in `complex` or an Array [of dtype `complex`]:"
      ]
    },
    {
      "cell_type": "code",
      "execution_count": 7,
      "id": "be912e19f5e23ce9",
      "metadata": {
        "execution": {
          "iopub.execute_input": "2022-08-07T05:30:35.950657Z",
          "iopub.status.busy": "2022-08-07T05:30:35.950217Z",
          "iopub.status.idle": "2022-08-07T05:30:35.951883Z",
          "shell.execute_reply": "2022-08-07T05:30:35.951530Z"
        },
        "papermill": {
          "duration": 0.055171,
          "end_time": "2022-08-07T05:30:35.951983",
          "exception": false,
          "start_time": "2022-08-07T05:30:35.896812",
          "status": "completed"
        },
        "tags": []
      },
      "outputs": [],
      "source": [
        "ComplexFloat = Union[complex, Float]"
      ]
    },
    {
      "cell_type": "markdown",
      "id": "1f1aa099",
      "metadata": {
        "papermill": {
          "duration": 0.049006,
          "end_time": "2022-08-07T05:30:36.049969",
          "exception": false,
          "start_time": "2022-08-07T05:30:36.000963",
          "status": "completed"
        },
        "tags": []
      },
      "source": [
        "### Settings"
      ]
    },
    {
      "cell_type": "markdown",
      "id": "69839acd",
      "metadata": {
        "papermill": {
          "duration": 0.049556,
          "end_time": "2022-08-07T05:30:36.148864",
          "exception": false,
          "start_time": "2022-08-07T05:30:36.099308",
          "status": "completed"
        },
        "tags": []
      },
      "source": [
        "A `Settings` dictionary is a nested mapping between setting names [`str`] to either `ComplexFloat` values OR to another lower level `Settings` dictionary."
      ]
    },
    {
      "cell_type": "code",
      "execution_count": 8,
      "id": "7dcd61dbc77bda08",
      "metadata": {
        "execution": {
          "iopub.execute_input": "2022-08-07T05:30:36.255028Z",
          "iopub.status.busy": "2022-08-07T05:30:36.254237Z",
          "iopub.status.idle": "2022-08-07T05:30:36.255476Z",
          "shell.execute_reply": "2022-08-07T05:30:36.255874Z"
        },
        "papermill": {
          "duration": 0.055425,
          "end_time": "2022-08-07T05:30:36.255994",
          "exception": false,
          "start_time": "2022-08-07T05:30:36.200569",
          "status": "completed"
        },
        "tags": []
      },
      "outputs": [],
      "source": [
        "Settings = Union[Dict[str, ComplexFloat], Dict[str, \"Settings\"]]"
      ]
    },
    {
      "cell_type": "markdown",
      "id": "cf202d06",
      "metadata": {
        "papermill": {
          "duration": 0.049292,
          "end_time": "2022-08-07T05:30:36.354549",
          "exception": false,
          "start_time": "2022-08-07T05:30:36.305257",
          "status": "completed"
        },
        "tags": []
      },
      "source": [
        "Settings dictionaries are used to parametrize a SAX `Model` or a `circuit`. The settings dictionary should have the same hierarchy levels as the circuit:\n",
        " \n",
        " > Example:"
      ]
    },
    {
      "cell_type": "code",
      "execution_count": 9,
      "id": "2b26c4ab",
      "metadata": {
        "execution": {
          "iopub.execute_input": "2022-08-07T05:30:36.457217Z",
          "iopub.status.busy": "2022-08-07T05:30:36.456774Z",
          "iopub.status.idle": "2022-08-07T05:30:36.458440Z",
          "shell.execute_reply": "2022-08-07T05:30:36.458096Z"
        },
        "papermill": {
          "duration": 0.055054,
          "end_time": "2022-08-07T05:30:36.458539",
          "exception": false,
          "start_time": "2022-08-07T05:30:36.403485",
          "status": "completed"
        },
        "tags": []
      },
      "outputs": [],
      "source": [
        "mzi_settings = {\n",
        "    \"wl\": 1.5,  # global settings\n",
        "    \"lft\": {\"coupling\": 0.5},  # settings for the left coupler\n",
        "    \"top\": {\"neff\": 3.4},  # settings for the top waveguide\n",
        "    \"rgt\": {\"coupling\": 0.3},  # settings for the right coupler\n",
        "}"
      ]
    },
    {
      "cell_type": "markdown",
      "id": "45043912",
      "metadata": {
        "papermill": {
          "duration": 0.048812,
          "end_time": "2022-08-07T05:30:36.556786",
          "exception": false,
          "start_time": "2022-08-07T05:30:36.507974",
          "status": "completed"
        },
        "tags": []
      },
      "source": [
        "### SDict"
      ]
    },
    {
      "cell_type": "markdown",
      "id": "c5a7facf",
      "metadata": {
        "papermill": {
          "duration": 0.049694,
          "end_time": "2022-08-07T05:30:36.655168",
          "exception": false,
          "start_time": "2022-08-07T05:30:36.605474",
          "status": "completed"
        },
        "tags": []
      },
      "source": [
        "An `SDict` is a sparse dictionary based representation of an S-matrix, mapping port name tuples such as `('in0', 'out0')` to `ComplexFloat`."
      ]
    },
    {
      "cell_type": "code",
      "execution_count": 10,
      "id": "c06724a07fd14c81",
      "metadata": {
        "execution": {
          "iopub.execute_input": "2022-08-07T05:30:36.758443Z",
          "iopub.status.busy": "2022-08-07T05:30:36.758001Z",
          "iopub.status.idle": "2022-08-07T05:30:36.759987Z",
          "shell.execute_reply": "2022-08-07T05:30:36.759639Z"
        },
        "papermill": {
          "duration": 0.055224,
          "end_time": "2022-08-07T05:30:36.760085",
          "exception": false,
          "start_time": "2022-08-07T05:30:36.704861",
          "status": "completed"
        },
        "tags": []
      },
      "outputs": [],
      "source": [
        "SDict = Dict[Tuple[str, str], ComplexFloat]"
      ]
    },
    {
      "cell_type": "markdown",
      "id": "07dc470a",
      "metadata": {
        "papermill": {
          "duration": 0.049356,
          "end_time": "2022-08-07T05:30:36.858686",
          "exception": false,
          "start_time": "2022-08-07T05:30:36.809330",
          "status": "completed"
        },
        "tags": []
      },
      "source": [
        "> Example:"
      ]
    },
    {
      "cell_type": "code",
      "execution_count": 11,
      "id": "ad65a70c",
      "metadata": {
        "execution": {
          "iopub.execute_input": "2022-08-07T05:30:36.962184Z",
          "iopub.status.busy": "2022-08-07T05:30:36.961735Z",
          "iopub.status.idle": "2022-08-07T05:30:36.962716Z",
          "shell.execute_reply": "2022-08-07T05:30:36.963115Z"
        },
        "papermill": {
          "duration": 0.055145,
          "end_time": "2022-08-07T05:30:36.963246",
          "exception": false,
          "start_time": "2022-08-07T05:30:36.908101",
          "status": "completed"
        },
        "tags": []
      },
      "outputs": [],
      "source": [
        "_sdict: SDict = {\n",
        "    (\"in0\", \"out0\"): 3.0,\n",
        "}"
      ]
    },
    {
      "cell_type": "markdown",
      "id": "0e2c7430",
      "metadata": {
        "papermill": {
          "duration": 0.049627,
          "end_time": "2022-08-07T05:30:37.062497",
          "exception": false,
          "start_time": "2022-08-07T05:30:37.012870",
          "status": "completed"
        },
        "tags": []
      },
      "source": [
        "### SCoo"
      ]
    },
    {
      "cell_type": "markdown",
      "id": "ef614e1d",
      "metadata": {
        "papermill": {
          "duration": 0.049807,
          "end_time": "2022-08-07T05:30:37.161755",
          "exception": false,
          "start_time": "2022-08-07T05:30:37.111948",
          "status": "completed"
        },
        "tags": []
      },
      "source": [
        "An `SCoo` is a sparse matrix based representation of an S-matrix consisting of three arrays and a port map. The three arrays represent the input port indices [`int`], output port indices [`int`] and the S-matrix values [`ComplexFloat`] of the sparse matrix. The port map maps a port name [`str`] to a port index [`int`]. Only these four arrays **together** and in this specific **order** are considered a valid `SCoo` representation!"
      ]
    },
    {
      "cell_type": "code",
      "execution_count": 12,
      "id": "a499fb2cd367b9cf",
      "metadata": {
        "execution": {
          "iopub.execute_input": "2022-08-07T05:30:37.266157Z",
          "iopub.status.busy": "2022-08-07T05:30:37.265715Z",
          "iopub.status.idle": "2022-08-07T05:30:37.267357Z",
          "shell.execute_reply": "2022-08-07T05:30:37.266925Z"
        },
        "papermill": {
          "duration": 0.055715,
          "end_time": "2022-08-07T05:30:37.267458",
          "exception": false,
          "start_time": "2022-08-07T05:30:37.211743",
          "status": "completed"
        },
        "tags": []
      },
      "outputs": [],
      "source": [
        "SCoo = Tuple[Array, Array, ComplexFloat, Dict[str, int]]"
      ]
    },
    {
      "cell_type": "markdown",
      "id": "ff9719c8",
      "metadata": {
        "papermill": {
          "duration": 0.049544,
          "end_time": "2022-08-07T05:30:37.366451",
          "exception": false,
          "start_time": "2022-08-07T05:30:37.316907",
          "status": "completed"
        },
        "tags": []
      },
      "source": [
        "> Example:"
      ]
    },
    {
      "cell_type": "code",
      "execution_count": 13,
      "id": "972f8060",
      "metadata": {
        "execution": {
          "iopub.execute_input": "2022-08-07T05:30:37.470287Z",
          "iopub.status.busy": "2022-08-07T05:30:37.469854Z",
          "iopub.status.idle": "2022-08-07T05:30:37.498167Z",
          "shell.execute_reply": "2022-08-07T05:30:37.498789Z"
        },
        "papermill": {
          "duration": 0.083251,
          "end_time": "2022-08-07T05:30:37.498938",
          "exception": false,
          "start_time": "2022-08-07T05:30:37.415687",
          "status": "completed"
        },
        "tags": []
      },
      "outputs": [],
      "source": [
        "Si = jnp.arange(3, dtype=int)\n",
        "Sj = jnp.array([0, 1, 0], dtype=int)\n",
        "Sx = jnp.array([3.0, 4.0, 1.0])\n",
        "port_map = {\"in0\": 0, \"in1\": 2, \"out0\": 1}\n",
        "_scoo: SCoo = (Si, Sj, Sx, port_map)"
      ]
    },
    {
      "cell_type": "markdown",
      "id": "2cba9246",
      "metadata": {
        "papermill": {
          "duration": 0.05004,
          "end_time": "2022-08-07T05:30:37.599603",
          "exception": false,
          "start_time": "2022-08-07T05:30:37.549563",
          "status": "completed"
        },
        "tags": []
      },
      "source": [
        "### SDense"
      ]
    },
    {
      "cell_type": "markdown",
      "id": "fd28795b",
      "metadata": {
        "papermill": {
          "duration": 0.050256,
          "end_time": "2022-08-07T05:30:37.700007",
          "exception": false,
          "start_time": "2022-08-07T05:30:37.649751",
          "status": "completed"
        },
        "tags": []
      },
      "source": [
        "an `SDense` is a dense matrix representation of an S-matrix. It's represented by an NxN `ComplexFloat` array and a port map (mapping port names onto port indices)."
      ]
    },
    {
      "cell_type": "code",
      "execution_count": 14,
      "id": "5c6b38b7f4016886",
      "metadata": {
        "execution": {
          "iopub.execute_input": "2022-08-07T05:30:37.804202Z",
          "iopub.status.busy": "2022-08-07T05:30:37.803705Z",
          "iopub.status.idle": "2022-08-07T05:30:37.805668Z",
          "shell.execute_reply": "2022-08-07T05:30:37.805179Z"
        },
        "papermill": {
          "duration": 0.055448,
          "end_time": "2022-08-07T05:30:37.805775",
          "exception": false,
          "start_time": "2022-08-07T05:30:37.750327",
          "status": "completed"
        },
        "tags": []
      },
      "outputs": [],
      "source": [
        "SDense = Tuple[Array, Dict[str, int]]"
      ]
    },
    {
      "cell_type": "markdown",
      "id": "2c4789f7",
      "metadata": {
        "papermill": {
          "duration": 0.050022,
          "end_time": "2022-08-07T05:30:37.906113",
          "exception": false,
          "start_time": "2022-08-07T05:30:37.856091",
          "status": "completed"
        },
        "tags": []
      },
      "source": [
        "> Example:"
      ]
    },
    {
      "cell_type": "code",
      "execution_count": 15,
      "id": "02def7ed",
      "metadata": {
        "execution": {
          "iopub.execute_input": "2022-08-07T05:30:38.019823Z",
          "iopub.status.busy": "2022-08-07T05:30:38.019385Z",
          "iopub.status.idle": "2022-08-07T05:30:38.042565Z",
          "shell.execute_reply": "2022-08-07T05:30:38.042950Z"
        },
        "papermill": {
          "duration": 0.082454,
          "end_time": "2022-08-07T05:30:38.043103",
          "exception": false,
          "start_time": "2022-08-07T05:30:37.960649",
          "status": "completed"
        },
        "tags": []
      },
      "outputs": [],
      "source": [
        "Sd = jnp.arange(9, dtype=float).reshape(3, 3)\n",
        "port_map = {\"in0\": 0, \"in1\": 2, \"out0\": 1}\n",
        "_sdense = Sd, port_map"
      ]
    },
    {
      "cell_type": "markdown",
      "id": "b0d2e36f",
      "metadata": {
        "papermill": {
          "duration": 0.050535,
          "end_time": "2022-08-07T05:30:38.145253",
          "exception": false,
          "start_time": "2022-08-07T05:30:38.094718",
          "status": "completed"
        },
        "tags": []
      },
      "source": [
        "### SType"
      ]
    },
    {
      "cell_type": "markdown",
      "id": "b441f21d",
      "metadata": {
        "papermill": {
          "duration": 0.050442,
          "end_time": "2022-08-07T05:30:38.245678",
          "exception": false,
          "start_time": "2022-08-07T05:30:38.195236",
          "status": "completed"
        },
        "tags": []
      },
      "source": [
        "an `SType` is either an `SDict` **OR** an `SCoo` **OR** an `SDense`:"
      ]
    },
    {
      "cell_type": "code",
      "execution_count": 16,
      "id": "6b32cab3e7c94480",
      "metadata": {
        "execution": {
          "iopub.execute_input": "2022-08-07T05:30:38.349551Z",
          "iopub.status.busy": "2022-08-07T05:30:38.349103Z",
          "iopub.status.idle": "2022-08-07T05:30:38.350355Z",
          "shell.execute_reply": "2022-08-07T05:30:38.350689Z"
        },
        "papermill": {
          "duration": 0.05522,
          "end_time": "2022-08-07T05:30:38.350811",
          "exception": false,
          "start_time": "2022-08-07T05:30:38.295591",
          "status": "completed"
        },
        "tags": []
      },
      "outputs": [],
      "source": [
        "SType = Union[SDict, SCoo, SDense]"
      ]
    },
    {
      "cell_type": "markdown",
      "id": "e0561b07",
      "metadata": {
        "papermill": {
          "duration": 0.049843,
          "end_time": "2022-08-07T05:30:38.450606",
          "exception": false,
          "start_time": "2022-08-07T05:30:38.400763",
          "status": "completed"
        },
        "tags": []
      },
      "source": [
        "> Example:"
      ]
    },
    {
      "cell_type": "code",
      "execution_count": 17,
      "id": "5b52a5f2",
      "metadata": {
        "execution": {
          "iopub.execute_input": "2022-08-07T05:30:38.555163Z",
          "iopub.status.busy": "2022-08-07T05:30:38.554735Z",
          "iopub.status.idle": "2022-08-07T05:30:38.556506Z",
          "shell.execute_reply": "2022-08-07T05:30:38.556132Z"
        },
        "papermill": {
          "duration": 0.055636,
          "end_time": "2022-08-07T05:30:38.556623",
          "exception": false,
          "start_time": "2022-08-07T05:30:38.500987",
          "status": "completed"
        },
        "tags": []
      },
      "outputs": [],
      "source": [
        "obj: SType = _sdict\n",
        "obj: SType = _scoo\n",
        "obj: SType = _sdense"
      ]
    },
    {
      "cell_type": "markdown",
      "id": "afabe91b",
      "metadata": {
        "papermill": {
          "duration": 0.049172,
          "end_time": "2022-08-07T05:30:38.655191",
          "exception": false,
          "start_time": "2022-08-07T05:30:38.606019",
          "status": "completed"
        },
        "tags": []
      },
      "source": [
        "### Model"
      ]
    },
    {
      "cell_type": "markdown",
      "id": "13808fb1",
      "metadata": {
        "papermill": {
          "duration": 0.049244,
          "end_time": "2022-08-07T05:30:38.754330",
          "exception": false,
          "start_time": "2022-08-07T05:30:38.705086",
          "status": "completed"
        },
        "tags": []
      },
      "source": [
        "A `Model` is any keyword-only function that returns an `SType`:"
      ]
    },
    {
      "cell_type": "code",
      "execution_count": 18,
      "id": "ee790a0c0aed23d0",
      "metadata": {
        "execution": {
          "iopub.execute_input": "2022-08-07T05:30:38.857118Z",
          "iopub.status.busy": "2022-08-07T05:30:38.856675Z",
          "iopub.status.idle": "2022-08-07T05:30:38.858546Z",
          "shell.execute_reply": "2022-08-07T05:30:38.858201Z"
        },
        "papermill": {
          "duration": 0.054647,
          "end_time": "2022-08-07T05:30:38.858642",
          "exception": false,
          "start_time": "2022-08-07T05:30:38.803995",
          "status": "completed"
        },
        "tags": []
      },
      "outputs": [],
      "source": [
        "Model = Callable[..., SType]"
      ]
    },
    {
      "cell_type": "markdown",
      "id": "fad534fb",
      "metadata": {
        "papermill": {
          "duration": 0.049859,
          "end_time": "2022-08-07T05:30:38.958653",
          "exception": false,
          "start_time": "2022-08-07T05:30:38.908794",
          "status": "completed"
        },
        "tags": []
      },
      "source": [
        "### ModelFactory"
      ]
    },
    {
      "cell_type": "markdown",
      "id": "85781647",
      "metadata": {
        "papermill": {
          "duration": 0.050177,
          "end_time": "2022-08-07T05:30:39.059061",
          "exception": false,
          "start_time": "2022-08-07T05:30:39.008884",
          "status": "completed"
        },
        "tags": []
      },
      "source": [
        "A `ModelFactory` is any keyword-only function that returns a `Model`:"
      ]
    },
    {
      "cell_type": "code",
      "execution_count": 19,
      "id": "9b93f066cf118610",
      "metadata": {
        "execution": {
          "iopub.execute_input": "2022-08-07T05:30:39.162764Z",
          "iopub.status.busy": "2022-08-07T05:30:39.162325Z",
          "iopub.status.idle": "2022-08-07T05:30:39.165512Z",
          "shell.execute_reply": "2022-08-07T05:30:39.165134Z"
        },
        "papermill": {
          "duration": 0.056148,
          "end_time": "2022-08-07T05:30:39.165615",
          "exception": false,
          "start_time": "2022-08-07T05:30:39.109467",
          "status": "completed"
        },
        "tags": []
      },
      "outputs": [],
      "source": [
        "ModelFactory = Callable[..., Model]"
      ]
    },
    {
      "cell_type": "markdown",
      "id": "353d8506",
      "metadata": {
        "papermill": {
          "duration": 0.050056,
          "end_time": "2022-08-07T05:30:39.265576",
          "exception": false,
          "start_time": "2022-08-07T05:30:39.215520",
          "status": "completed"
        },
        "tags": []
      },
      "source": [
        "> Note: SAX sometimes needs to figure out the difference between a `ModelFactory` and a normal `Model` *before* running the function. To do this, SAX will check the return annotation of the function. Any function with a `-> Model` or `-> Callable` annotation will be considered a `ModelFactory`. Any function without this annotation will be considered a normal Model: **don't forget the return annotation of your Model Factory!** To ensure a correct annotation and to ensure forward compatibility, it's recommended to decorate your `ModelFactory` with the `modelfactory` decorator."
      ]
    },
    {
      "cell_type": "markdown",
      "id": "e42d3f17",
      "metadata": {
        "papermill": {
          "duration": 0.050414,
          "end_time": "2022-08-07T05:30:39.366727",
          "exception": false,
          "start_time": "2022-08-07T05:30:39.316313",
          "status": "completed"
        },
        "tags": []
      },
      "source": [
        "### GeneralModel"
      ]
    },
    {
      "cell_type": "markdown",
      "id": "0c4356fc",
      "metadata": {
        "papermill": {
          "duration": 0.050359,
          "end_time": "2022-08-07T05:30:39.468304",
          "exception": false,
          "start_time": "2022-08-07T05:30:39.417945",
          "status": "completed"
        },
        "tags": []
      },
      "source": [
        "a `GeneralModel` is either a `Model` or a `LogicalNetlist` (will be defined below):"
      ]
    },
    {
      "cell_type": "code",
      "execution_count": 20,
      "id": "5eae87bca46eed20",
      "metadata": {
        "execution": {
          "iopub.execute_input": "2022-08-07T05:30:39.573206Z",
          "iopub.status.busy": "2022-08-07T05:30:39.572763Z",
          "iopub.status.idle": "2022-08-07T05:30:39.574397Z",
          "shell.execute_reply": "2022-08-07T05:30:39.574050Z"
        },
        "papermill": {
          "duration": 0.055975,
          "end_time": "2022-08-07T05:30:39.574499",
          "exception": false,
          "start_time": "2022-08-07T05:30:39.518524",
          "status": "completed"
        },
        "tags": []
      },
      "outputs": [],
      "source": [
        "GeneralModel = Union[Model, \"LogicalNetlist\"]"
      ]
    },
    {
      "cell_type": "markdown",
      "id": "b32b5a31",
      "metadata": {
        "papermill": {
          "duration": 0.050329,
          "end_time": "2022-08-07T05:30:39.674478",
          "exception": false,
          "start_time": "2022-08-07T05:30:39.624149",
          "status": "completed"
        },
        "tags": []
      },
      "source": [
        "### Models"
      ]
    },
    {
      "cell_type": "markdown",
      "id": "a796dcb2",
      "metadata": {
        "papermill": {
          "duration": 0.049851,
          "end_time": "2022-08-07T05:30:39.774080",
          "exception": false,
          "start_time": "2022-08-07T05:30:39.724229",
          "status": "completed"
        },
        "tags": []
      },
      "source": [
        "`Models` is a mapping between model names [`str`] and `GeneralModel`:"
      ]
    },
    {
      "cell_type": "code",
      "execution_count": 21,
      "id": "23adf5b798bec30f",
      "metadata": {
        "execution": {
          "iopub.execute_input": "2022-08-07T05:30:39.879366Z",
          "iopub.status.busy": "2022-08-07T05:30:39.878935Z",
          "iopub.status.idle": "2022-08-07T05:30:39.880214Z",
          "shell.execute_reply": "2022-08-07T05:30:39.880631Z"
        },
        "papermill": {
          "duration": 0.056037,
          "end_time": "2022-08-07T05:30:39.880758",
          "exception": false,
          "start_time": "2022-08-07T05:30:39.824721",
          "status": "completed"
        },
        "tags": []
      },
      "outputs": [],
      "source": [
        "Models = Dict[str, GeneralModel]"
      ]
    },
    {
      "cell_type": "markdown",
      "id": "ed1af61c",
      "metadata": {
        "papermill": {
          "duration": 0.050725,
          "end_time": "2022-08-07T05:30:39.981699",
          "exception": false,
          "start_time": "2022-08-07T05:30:39.930974",
          "status": "completed"
        },
        "tags": []
      },
      "source": [
        "> Note: sometimes 'component' is used to refer to a a `Model` or `GeneralModel`. This is because other tools (such as for example GDSFactory) prefer that terminology."
      ]
    },
    {
      "cell_type": "markdown",
      "id": "5d276f63",
      "metadata": {
        "papermill": {
          "duration": 0.050386,
          "end_time": "2022-08-07T05:30:40.082504",
          "exception": false,
          "start_time": "2022-08-07T05:30:40.032118",
          "status": "completed"
        },
        "tags": []
      },
      "source": [
        "## Netlist Types"
      ]
    },
    {
      "cell_type": "markdown",
      "id": "2c946dc2",
      "metadata": {
        "papermill": {
          "duration": 0.05066,
          "end_time": "2022-08-07T05:30:40.183528",
          "exception": false,
          "start_time": "2022-08-07T05:30:40.132868",
          "status": "completed"
        },
        "tags": []
      },
      "source": [
        "### Instance"
      ]
    },
    {
      "cell_type": "markdown",
      "id": "24694709",
      "metadata": {
        "papermill": {
          "duration": 0.050335,
          "end_time": "2022-08-07T05:30:40.284513",
          "exception": false,
          "start_time": "2022-08-07T05:30:40.234178",
          "status": "completed"
        },
        "tags": []
      },
      "source": [
        "A netlist `Instance` is a mapping with two keys: `\"component\"`, which should map to a key in a `Models` dictionary and `\"settings\"`, which are all the necessary settings to instanciate a component:"
      ]
    },
    {
      "cell_type": "code",
      "execution_count": 22,
      "id": "58c4138e5a1d5fee",
      "metadata": {
        "execution": {
          "iopub.execute_input": "2022-08-07T05:30:40.391642Z",
          "iopub.status.busy": "2022-08-07T05:30:40.391203Z",
          "iopub.status.idle": "2022-08-07T05:30:40.392745Z",
          "shell.execute_reply": "2022-08-07T05:30:40.393154Z"
        },
        "papermill": {
          "duration": 0.057237,
          "end_time": "2022-08-07T05:30:40.393285",
          "exception": false,
          "start_time": "2022-08-07T05:30:40.336048",
          "status": "completed"
        },
        "tags": []
      },
      "outputs": [],
      "source": [
        "Instance = TypedDict(\n",
        "    \"Instance\",\n",
        "    {\n",
        "        \"component\": str,\n",
        "        \"settings\": Settings,\n",
        "    },\n",
        ")"
      ]
    },
    {
      "cell_type": "markdown",
      "id": "ff82e535",
      "metadata": {
        "papermill": {
          "duration": 0.050188,
          "end_time": "2022-08-07T05:30:40.493719",
          "exception": false,
          "start_time": "2022-08-07T05:30:40.443531",
          "status": "completed"
        },
        "tags": []
      },
      "source": [
        "> Note: in SAX, a better name for `\"component\"` in the instance definition would probably be `\"model\"` or `\"model_name\"`. However we chose `\"component\"` here to have a 1-to-1 map between SAX netlists and GDSFactory netlists."
      ]
    },
    {
      "cell_type": "markdown",
      "id": "365559c3",
      "metadata": {
        "papermill": {
          "duration": 0.050064,
          "end_time": "2022-08-07T05:30:40.594081",
          "exception": false,
          "start_time": "2022-08-07T05:30:40.544017",
          "status": "completed"
        },
        "tags": []
      },
      "source": [
        "### GeneralInstance"
      ]
    },
    {
      "cell_type": "markdown",
      "id": "5249fc0f",
      "metadata": {
        "papermill": {
          "duration": 0.05023,
          "end_time": "2022-08-07T05:30:40.694437",
          "exception": false,
          "start_time": "2022-08-07T05:30:40.644207",
          "status": "completed"
        },
        "tags": []
      },
      "source": [
        "A general instance can be any of the following (`LogicalNetlist` and `Netlist` will be defined below):"
      ]
    },
    {
      "cell_type": "code",
      "execution_count": 23,
      "id": "0eaa14426f58a1fa",
      "metadata": {
        "execution": {
          "iopub.execute_input": "2022-08-07T05:30:40.799727Z",
          "iopub.status.busy": "2022-08-07T05:30:40.799290Z",
          "iopub.status.idle": "2022-08-07T05:30:40.800961Z",
          "shell.execute_reply": "2022-08-07T05:30:40.800606Z"
        },
        "papermill": {
          "duration": 0.055974,
          "end_time": "2022-08-07T05:30:40.801067",
          "exception": false,
          "start_time": "2022-08-07T05:30:40.745093",
          "status": "completed"
        },
        "tags": []
      },
      "outputs": [],
      "source": [
        "GeneralInstance = Union[str, Instance, \"LogicalNetlist\", \"Netlist\"]"
      ]
    },
    {
      "cell_type": "markdown",
      "id": "04a5992a",
      "metadata": {
        "papermill": {
          "duration": 0.050146,
          "end_time": "2022-08-07T05:30:40.901413",
          "exception": false,
          "start_time": "2022-08-07T05:30:40.851267",
          "status": "completed"
        },
        "tags": []
      },
      "source": [
        "> For example, this is allowed:"
      ]
    },
    {
      "cell_type": "code",
      "execution_count": 24,
      "id": "6ef6d5ee",
      "metadata": {
        "execution": {
          "iopub.execute_input": "2022-08-07T05:30:41.007234Z",
          "iopub.status.busy": "2022-08-07T05:30:41.006799Z",
          "iopub.status.idle": "2022-08-07T05:30:41.008405Z",
          "shell.execute_reply": "2022-08-07T05:30:41.008041Z"
        },
        "papermill": {
          "duration": 0.056539,
          "end_time": "2022-08-07T05:30:41.008503",
          "exception": false,
          "start_time": "2022-08-07T05:30:40.951964",
          "status": "completed"
        },
        "tags": []
      },
      "outputs": [],
      "source": [
        "inst: GeneralInstance = \"my_component_model\"\n",
        "inst: GeneralInstance = {\n",
        "    \"component\": \"my_component_model\",\n",
        "    \"settings\": {},\n",
        "}"
      ]
    },
    {
      "cell_type": "markdown",
      "id": "8af40281",
      "metadata": {
        "papermill": {
          "duration": 0.05143,
          "end_time": "2022-08-07T05:30:41.110796",
          "exception": false,
          "start_time": "2022-08-07T05:30:41.059366",
          "status": "completed"
        },
        "tags": []
      },
      "source": [
        "> ... and this is not (will be flagged by a static type checker like pyright or mypy):"
      ]
    },
    {
      "cell_type": "code",
      "execution_count": 25,
      "id": "c13fc4d7",
      "metadata": {
        "execution": {
          "iopub.execute_input": "2022-08-07T05:30:41.217109Z",
          "iopub.status.busy": "2022-08-07T05:30:41.216662Z",
          "iopub.status.idle": "2022-08-07T05:30:41.218545Z",
          "shell.execute_reply": "2022-08-07T05:30:41.218174Z"
        },
        "papermill": {
          "duration": 0.05704,
          "end_time": "2022-08-07T05:30:41.218642",
          "exception": false,
          "start_time": "2022-08-07T05:30:41.161602",
          "status": "completed"
        },
        "tags": []
      },
      "outputs": [],
      "source": [
        "inst: GeneralInstance = {\n",
        "    \"component\": \"my_component_model\",\n",
        "    \"settings\": {},\n",
        "    \"extra_arg\": \"invalid\",\n",
        "}"
      ]
    },
    {
      "cell_type": "markdown",
      "id": "cf9fd876",
      "metadata": {
        "papermill": {
          "duration": 0.05154,
          "end_time": "2022-08-07T05:30:41.321376",
          "exception": false,
          "start_time": "2022-08-07T05:30:41.269836",
          "status": "completed"
        },
        "tags": []
      },
      "source": [
        "### Instances"
      ]
    },
    {
      "cell_type": "markdown",
      "id": "a9aad796",
      "metadata": {
        "papermill": {
          "duration": 0.050537,
          "end_time": "2022-08-07T05:30:41.423510",
          "exception": false,
          "start_time": "2022-08-07T05:30:41.372973",
          "status": "completed"
        },
        "tags": []
      },
      "source": [
        "`Instances` is a mapping from instance names [`str`] to a `GeneralInstance`:"
      ]
    },
    {
      "cell_type": "code",
      "execution_count": 26,
      "id": "61575d7adb52332e",
      "metadata": {
        "execution": {
          "iopub.execute_input": "2022-08-07T05:30:41.530245Z",
          "iopub.status.busy": "2022-08-07T05:30:41.529807Z",
          "iopub.status.idle": "2022-08-07T05:30:41.531683Z",
          "shell.execute_reply": "2022-08-07T05:30:41.531309Z"
        },
        "papermill": {
          "duration": 0.057133,
          "end_time": "2022-08-07T05:30:41.531784",
          "exception": false,
          "start_time": "2022-08-07T05:30:41.474651",
          "status": "completed"
        },
        "tags": []
      },
      "outputs": [],
      "source": [
        "Instances = Union[Dict[str, str], Dict[str, GeneralInstance]]"
      ]
    },
    {
      "cell_type": "markdown",
      "id": "0f292b1f",
      "metadata": {
        "papermill": {
          "duration": 0.051335,
          "end_time": "2022-08-07T05:30:41.634516",
          "exception": false,
          "start_time": "2022-08-07T05:30:41.583181",
          "status": "completed"
        },
        "tags": []
      },
      "source": [
        "### Netlist"
      ]
    },
    {
      "cell_type": "markdown",
      "id": "7b85ab37",
      "metadata": {
        "papermill": {
          "duration": 0.050649,
          "end_time": "2022-08-07T05:30:41.736103",
          "exception": false,
          "start_time": "2022-08-07T05:30:41.685454",
          "status": "completed"
        },
        "tags": []
      },
      "source": [
        "a `Netlist` is a collection of `\"instances\"`, `\"connections\"` and `\"ports\"`:"
      ]
    },
    {
      "cell_type": "code",
      "execution_count": 27,
      "id": "0305e0ba62b1a336",
      "metadata": {
        "execution": {
          "iopub.execute_input": "2022-08-07T05:30:41.842941Z",
          "iopub.status.busy": "2022-08-07T05:30:41.842496Z",
          "iopub.status.idle": "2022-08-07T05:30:41.843484Z",
          "shell.execute_reply": "2022-08-07T05:30:41.843878Z"
        },
        "papermill": {
          "duration": 0.057068,
          "end_time": "2022-08-07T05:30:41.844005",
          "exception": false,
          "start_time": "2022-08-07T05:30:41.786937",
          "status": "completed"
        },
        "tags": []
      },
      "outputs": [],
      "source": [
        "\n",
        "Netlist = TypedDict(\n",
        "    \"Netlist\",\n",
        "    {\n",
        "        \"instances\": Instances,\n",
        "        \"connections\": Dict[str, str],\n",
        "        \"ports\": Dict[str, str],\n",
        "    },\n",
        ")"
      ]
    },
    {
      "cell_type": "markdown",
      "id": "d12f61a8",
      "metadata": {
        "papermill": {
          "duration": 0.05064,
          "end_time": "2022-08-07T05:30:41.945770",
          "exception": false,
          "start_time": "2022-08-07T05:30:41.895130",
          "status": "completed"
        },
        "tags": []
      },
      "source": [
        "> Example:"
      ]
    },
    {
      "cell_type": "code",
      "execution_count": 28,
      "id": "877d1151",
      "metadata": {
        "execution": {
          "iopub.execute_input": "2022-08-07T05:30:42.055044Z",
          "iopub.status.busy": "2022-08-07T05:30:42.054594Z",
          "iopub.status.idle": "2022-08-07T05:30:42.056018Z",
          "shell.execute_reply": "2022-08-07T05:30:42.056327Z"
        },
        "papermill": {
          "duration": 0.059881,
          "end_time": "2022-08-07T05:30:42.056461",
          "exception": false,
          "start_time": "2022-08-07T05:30:41.996580",
          "status": "completed"
        },
        "tags": []
      },
      "outputs": [],
      "source": [
        "mzi_netlist: Netlist = {\n",
        "    \"instances\": {\n",
        "    \"lft\": \"mmi1x2\",  # shorthand if no settings need to be given\n",
        "        \"top\": {  # full instance definition\n",
        "            \"component\": \"waveguide\",\n",
        "            \"settings\": {\n",
        "                \"length\": 100.0,\n",
        "            },\n",
        "        },\n",
        "        \"rgt\": \"mmi2x2\",  # shorthand if no settings need to be given\n",
        "    },\n",
        "    \"connections\": {\n",
        "        \"lft,out0\": \"top,in0\",\n",
        "        \"top,out0\": \"rgt,in0\",\n",
        "        \"top,out1\": \"rgt,in1\",\n",
        "    },\n",
        "    \"ports\": {\n",
        "        \"in0\": \"lft,in0\",\n",
        "        \"out0\": \"rgt,out0\",\n",
        "        \"out1\": \"rgt,out1\",\n",
        "    },\n",
        "}"
      ]
    },
    {
      "cell_type": "markdown",
      "id": "613b0f22",
      "metadata": {
        "papermill": {
          "duration": 0.052083,
          "end_time": "2022-08-07T05:30:42.160187",
          "exception": false,
          "start_time": "2022-08-07T05:30:42.108104",
          "status": "completed"
        },
        "tags": []
      },
      "source": [
        "### LogicalNetlist"
      ]
    },
    {
      "cell_type": "markdown",
      "id": "f8cb7e75",
      "metadata": {
        "papermill": {
          "duration": 0.05386,
          "end_time": "2022-08-07T05:30:42.265482",
          "exception": false,
          "start_time": "2022-08-07T05:30:42.211622",
          "status": "completed"
        },
        "tags": []
      },
      "source": [
        "a `LogicalNetlist` is a subset of the more general `Netlist`.  It only contains the logical connections and instance names. Not the actual instances. This data structure is mostly used for internal use only."
      ]
    },
    {
      "cell_type": "code",
      "execution_count": 29,
      "id": "719fd73314cf8132",
      "metadata": {
        "execution": {
          "iopub.execute_input": "2022-08-07T05:30:42.374794Z",
          "iopub.status.busy": "2022-08-07T05:30:42.374354Z",
          "iopub.status.idle": "2022-08-07T05:30:42.375990Z",
          "shell.execute_reply": "2022-08-07T05:30:42.376308Z"
        },
        "papermill": {
          "duration": 0.058461,
          "end_time": "2022-08-07T05:30:42.376441",
          "exception": false,
          "start_time": "2022-08-07T05:30:42.317980",
          "status": "completed"
        },
        "tags": []
      },
      "outputs": [],
      "source": [
        "\n",
        "LogicalNetlist = TypedDict(\n",
        "    \"LogicalNetlist\",\n",
        "    {\n",
        "        \"instances\": Dict[str, str],\n",
        "        \"connections\": Dict[str, str],\n",
        "        \"ports\": Dict[str, str],\n",
        "    },\n",
        ")"
      ]
    },
    {
      "cell_type": "markdown",
      "id": "3468d6a1",
      "metadata": {
        "papermill": {
          "duration": 0.051233,
          "end_time": "2022-08-07T05:30:42.479178",
          "exception": false,
          "start_time": "2022-08-07T05:30:42.427945",
          "status": "completed"
        },
        "tags": []
      },
      "source": [
        "> Example:"
      ]
    },
    {
      "cell_type": "code",
      "execution_count": 30,
      "id": "ab67ad41",
      "metadata": {
        "execution": {
          "iopub.execute_input": "2022-08-07T05:30:42.584651Z",
          "iopub.status.busy": "2022-08-07T05:30:42.584187Z",
          "iopub.status.idle": "2022-08-07T05:30:42.588142Z",
          "shell.execute_reply": "2022-08-07T05:30:42.587795Z"
        },
        "papermill": {
          "duration": 0.057367,
          "end_time": "2022-08-07T05:30:42.588242",
          "exception": false,
          "start_time": "2022-08-07T05:30:42.530875",
          "status": "completed"
        },
        "tags": []
      },
      "outputs": [],
      "source": [
        "mzi_logical_netlist: Netlist = {\n",
        "    \"instances\": {\n",
        "        \"lft\": \"mmi1x2\",\n",
        "        \"top\": \"waveguide\",\n",
        "        \"rgt\": \"mmi2x2\",\n",
        "    },\n",
        "    \"connections\": {\n",
        "        \"lft,out0\": \"top,in0\",\n",
        "        \"top,out0\": \"rgt,in0\",\n",
        "        \"top,out1\": \"rgt,in1\",\n",
        "    },\n",
        "    \"ports\": {\n",
        "        \"in0\": \"lft,in0\",\n",
        "        \"out0\": \"rgt,out0\",\n",
        "        \"out1\": \"rgt,out1\",\n",
        "    },\n",
        "}"
      ]
    },
    {
      "cell_type": "markdown",
      "id": "dbcb4447",
      "metadata": {
        "papermill": {
          "duration": 0.051664,
          "end_time": "2022-08-07T05:30:42.690860",
          "exception": false,
          "start_time": "2022-08-07T05:30:42.639196",
          "status": "completed"
        },
        "tags": []
      },
      "source": [
        "## Validation and runtime type-checking:"
      ]
    },
    {
      "cell_type": "markdown",
      "id": "6e4c44aa",
      "metadata": {
        "papermill": {
          "duration": 0.051306,
          "end_time": "2022-08-07T05:30:42.794006",
          "exception": false,
          "start_time": "2022-08-07T05:30:42.742700",
          "status": "completed"
        },
        "tags": []
      },
      "source": [
        "> Note: the type-checking functions below are **NOT** very tight and hence should be used within the right context!"
      ]
    },
    {
      "cell_type": "markdown",
      "id": "d924e70d3ac93ea6",
      "metadata": {},
      "source": [
        ":::{eval-rst}\n",
        ".. autofunction:: sax.typing_.is_float\n",
        ":::\n"
      ]
    },
    {
      "cell_type": "code",
      "execution_count": 31,
      "id": "90543d5fd48f18ac",
      "metadata": {
        "execution": {
          "iopub.execute_input": "2022-08-07T05:30:42.903111Z",
          "iopub.status.busy": "2022-08-07T05:30:42.902663Z",
          "iopub.status.idle": "2022-08-07T05:30:42.903651Z",
          "shell.execute_reply": "2022-08-07T05:30:42.904043Z"
        },
        "papermill": {
          "duration": 0.058195,
          "end_time": "2022-08-07T05:30:42.904170",
          "exception": false,
          "start_time": "2022-08-07T05:30:42.845975",
          "status": "completed"
        },
        "tags": [
          "hide-input"
        ]
      },
      "outputs": [],
      "source": [
        "def is_float(x: Any) -> bool:\n",
        "    \"\"\"Check if an object is a `Float`\"\"\"\n",
        "    if isinstance(x, float):\n",
        "        return True\n",
        "    if isinstance(x, np.ndarray):\n",
        "        return x.dtype in (np.float16, np.float32, np.float64, np.float128)\n",
        "    if isinstance(x, jnp.ndarray):\n",
        "        return x.dtype in (jnp.float16, jnp.float32, jnp.float64)\n",
        "    return False"
      ]
    },
    {
      "cell_type": "code",
      "execution_count": 32,
      "id": "28374448",
      "metadata": {
        "execution": {
          "iopub.execute_input": "2022-08-07T05:30:43.012103Z",
          "iopub.status.busy": "2022-08-07T05:30:43.011669Z",
          "iopub.status.idle": "2022-08-07T05:30:43.015993Z",
          "shell.execute_reply": "2022-08-07T05:30:43.016308Z"
        },
        "papermill": {
          "duration": 0.060764,
          "end_time": "2022-08-07T05:30:43.016440",
          "exception": false,
          "start_time": "2022-08-07T05:30:42.955676",
          "status": "completed"
        },
        "tags": []
      },
      "outputs": [],
      "source": [
        "assert is_float(3.0)\n",
        "assert not is_float(3)\n",
        "assert not is_float(3.0 + 2j)\n",
        "assert not is_float(jnp.array(3.0, dtype=complex))\n",
        "assert not is_float(jnp.array(3, dtype=int))"
      ]
    },
    {
      "cell_type": "markdown",
      "id": "1a5beffdee901734",
      "metadata": {},
      "source": [
        ":::{eval-rst}\n",
        ".. autofunction:: sax.typing_.is_complex\n",
        ":::\n"
      ]
    },
    {
      "cell_type": "code",
      "execution_count": 33,
      "id": "75c94cc89fc254b8",
      "metadata": {
        "execution": {
          "iopub.execute_input": "2022-08-07T05:30:43.124130Z",
          "iopub.status.busy": "2022-08-07T05:30:43.123698Z",
          "iopub.status.idle": "2022-08-07T05:30:43.125217Z",
          "shell.execute_reply": "2022-08-07T05:30:43.125605Z"
        },
        "papermill": {
          "duration": 0.057906,
          "end_time": "2022-08-07T05:30:43.125728",
          "exception": false,
          "start_time": "2022-08-07T05:30:43.067822",
          "status": "completed"
        },
        "tags": [
          "hide-input"
        ]
      },
      "outputs": [],
      "source": [
        "def is_complex(x: Any) -> bool:\n",
        "    \"\"\"check if an object is a `ComplexFloat`\"\"\"\n",
        "    if isinstance(x, complex):\n",
        "        return True\n",
        "    if isinstance(x, np.ndarray):\n",
        "        return x.dtype in (np.complex64, np.complex128)\n",
        "    if isinstance(x, jnp.ndarray):\n",
        "        return x.dtype in (jnp.complex64, jnp.complex128)\n",
        "    return False"
      ]
    },
    {
      "cell_type": "code",
      "execution_count": 34,
      "id": "d81a703d",
      "metadata": {
        "execution": {
          "iopub.execute_input": "2022-08-07T05:30:43.234744Z",
          "iopub.status.busy": "2022-08-07T05:30:43.234305Z",
          "iopub.status.idle": "2022-08-07T05:30:43.235371Z",
          "shell.execute_reply": "2022-08-07T05:30:43.235762Z"
        },
        "papermill": {
          "duration": 0.058436,
          "end_time": "2022-08-07T05:30:43.235893",
          "exception": false,
          "start_time": "2022-08-07T05:30:43.177457",
          "status": "completed"
        },
        "tags": []
      },
      "outputs": [],
      "source": [
        "assert not is_complex(3.0)\n",
        "assert not is_complex(3)\n",
        "assert is_complex(3.0 + 2j)\n",
        "assert is_complex(jnp.array(3.0, dtype=complex))\n",
        "assert not is_complex(jnp.array(3, dtype=int))"
      ]
    },
    {
      "cell_type": "markdown",
      "id": "6d42ddc839fb9f7b",
      "metadata": {},
      "source": [
        ":::{eval-rst}\n",
        ".. autofunction:: sax.typing_.is_complex_float\n",
        ":::\n"
      ]
    },
    {
      "cell_type": "code",
      "execution_count": 35,
      "id": "3a258a8ac6a113e2",
      "metadata": {
        "execution": {
          "iopub.execute_input": "2022-08-07T05:30:43.344834Z",
          "iopub.status.busy": "2022-08-07T05:30:43.344374Z",
          "iopub.status.idle": "2022-08-07T05:30:43.345471Z",
          "shell.execute_reply": "2022-08-07T05:30:43.345863Z"
        },
        "papermill": {
          "duration": 0.05774,
          "end_time": "2022-08-07T05:30:43.345991",
          "exception": false,
          "start_time": "2022-08-07T05:30:43.288251",
          "status": "completed"
        },
        "tags": [
          "hide-input"
        ]
      },
      "outputs": [],
      "source": [
        "def is_complex_float(x: Any) -> bool:\n",
        "    \"\"\"check if an object is either a `ComplexFloat` or a `Float`\"\"\"\n",
        "    return is_float(x) or is_complex(x)"
      ]
    },
    {
      "cell_type": "code",
      "execution_count": 36,
      "id": "c533ff0d",
      "metadata": {
        "execution": {
          "iopub.execute_input": "2022-08-07T05:30:43.455731Z",
          "iopub.status.busy": "2022-08-07T05:30:43.455304Z",
          "iopub.status.idle": "2022-08-07T05:30:43.457162Z",
          "shell.execute_reply": "2022-08-07T05:30:43.456789Z"
        },
        "papermill": {
          "duration": 0.059368,
          "end_time": "2022-08-07T05:30:43.457262",
          "exception": false,
          "start_time": "2022-08-07T05:30:43.397894",
          "status": "completed"
        },
        "tags": []
      },
      "outputs": [],
      "source": [
        "assert is_complex_float(3.0)\n",
        "assert not is_complex_float(3)\n",
        "assert is_complex_float(3.0 + 2j)\n",
        "assert is_complex_float(jnp.array(3.0, dtype=complex))\n",
        "assert not is_complex_float(jnp.array(3, dtype=int))"
      ]
    },
    {
      "cell_type": "markdown",
      "id": "08afe2c3ac7ba917",
      "metadata": {},
      "source": [
        ":::{eval-rst}\n",
        ".. autofunction:: sax.typing_.is_sdict\n",
        ":::\n"
      ]
    },
    {
      "cell_type": "code",
      "execution_count": 37,
      "id": "c21223c3f7097e07",
      "metadata": {
        "execution": {
          "iopub.execute_input": "2022-08-07T05:30:43.565180Z",
          "iopub.status.busy": "2022-08-07T05:30:43.564719Z",
          "iopub.status.idle": "2022-08-07T05:30:43.566666Z",
          "shell.execute_reply": "2022-08-07T05:30:43.566302Z"
        },
        "papermill": {
          "duration": 0.057502,
          "end_time": "2022-08-07T05:30:43.566761",
          "exception": false,
          "start_time": "2022-08-07T05:30:43.509259",
          "status": "completed"
        },
        "tags": [
          "hide-input"
        ]
      },
      "outputs": [],
      "source": [
        "def is_sdict(x: Any) -> bool:\n",
        "    \"\"\"check if an object is an `SDict` (a SAX S-dictionary)\"\"\"\n",
        "    return isinstance(x, dict)"
      ]
    },
    {
      "cell_type": "code",
      "execution_count": 38,
      "id": "cb0365dc",
      "metadata": {
        "execution": {
          "iopub.execute_input": "2022-08-07T05:30:43.673482Z",
          "iopub.status.busy": "2022-08-07T05:30:43.673050Z",
          "iopub.status.idle": "2022-08-07T05:30:43.675532Z",
          "shell.execute_reply": "2022-08-07T05:30:43.675866Z"
        },
        "papermill": {
          "duration": 0.057518,
          "end_time": "2022-08-07T05:30:43.675989",
          "exception": false,
          "start_time": "2022-08-07T05:30:43.618471",
          "status": "completed"
        },
        "tags": []
      },
      "outputs": [],
      "source": [
        "assert not is_sdict(object())\n",
        "assert is_sdict(_sdict)\n",
        "assert not is_sdict(_scoo)\n",
        "assert not is_sdict(_sdense)"
      ]
    },
    {
      "cell_type": "markdown",
      "id": "971960d50d04763e",
      "metadata": {},
      "source": [
        ":::{eval-rst}\n",
        ".. autofunction:: sax.typing_.is_scoo\n",
        ":::\n"
      ]
    },
    {
      "cell_type": "code",
      "execution_count": 39,
      "id": "bdb1f8978b1d160c",
      "metadata": {
        "execution": {
          "iopub.execute_input": "2022-08-07T05:30:43.785531Z",
          "iopub.status.busy": "2022-08-07T05:30:43.785065Z",
          "iopub.status.idle": "2022-08-07T05:30:43.786960Z",
          "shell.execute_reply": "2022-08-07T05:30:43.786606Z"
        },
        "papermill": {
          "duration": 0.058331,
          "end_time": "2022-08-07T05:30:43.787064",
          "exception": false,
          "start_time": "2022-08-07T05:30:43.728733",
          "status": "completed"
        },
        "tags": [
          "hide-input"
        ]
      },
      "outputs": [],
      "source": [
        "def is_scoo(x: Any) -> bool:\n",
        "    \"\"\"check if an object is an `SCoo` (a SAX sparse S-matrix representation in COO-format)\"\"\"\n",
        "    return isinstance(x, (tuple, list)) and len(x) == 4"
      ]
    },
    {
      "cell_type": "code",
      "execution_count": 40,
      "id": "9ea0239a",
      "metadata": {
        "execution": {
          "iopub.execute_input": "2022-08-07T05:30:43.895522Z",
          "iopub.status.busy": "2022-08-07T05:30:43.895085Z",
          "iopub.status.idle": "2022-08-07T05:30:43.896376Z",
          "shell.execute_reply": "2022-08-07T05:30:43.896761Z"
        },
        "papermill": {
          "duration": 0.057995,
          "end_time": "2022-08-07T05:30:43.896889",
          "exception": false,
          "start_time": "2022-08-07T05:30:43.838894",
          "status": "completed"
        },
        "tags": []
      },
      "outputs": [],
      "source": [
        "assert not is_scoo(object)\n",
        "assert not is_scoo(_sdict)\n",
        "assert is_scoo(_scoo)\n",
        "assert not is_scoo(_sdense)"
      ]
    },
    {
      "cell_type": "markdown",
      "id": "add1b207a084497d",
      "metadata": {},
      "source": [
        ":::{eval-rst}\n",
        ".. autofunction:: sax.typing_.is_sdense\n",
        ":::\n"
      ]
    },
    {
      "cell_type": "code",
      "execution_count": 41,
      "id": "5a26faca0bc45f7c",
      "metadata": {
        "execution": {
          "iopub.execute_input": "2022-08-07T05:30:44.006230Z",
          "iopub.status.busy": "2022-08-07T05:30:44.005714Z",
          "iopub.status.idle": "2022-08-07T05:30:44.006942Z",
          "shell.execute_reply": "2022-08-07T05:30:44.007257Z"
        },
        "papermill": {
          "duration": 0.057833,
          "end_time": "2022-08-07T05:30:44.007388",
          "exception": false,
          "start_time": "2022-08-07T05:30:43.949555",
          "status": "completed"
        },
        "tags": [
          "hide-input"
        ]
      },
      "outputs": [],
      "source": [
        "def is_sdense(x: Any) -> bool:\n",
        "    \"\"\"check if an object is an `SDense` (a SAX dense S-matrix representation)\"\"\"\n",
        "    return isinstance(x, (tuple, list)) and len(x) == 2"
      ]
    },
    {
      "cell_type": "code",
      "execution_count": 42,
      "id": "2eddd63a",
      "metadata": {
        "execution": {
          "iopub.execute_input": "2022-08-07T05:30:44.117626Z",
          "iopub.status.busy": "2022-08-07T05:30:44.117197Z",
          "iopub.status.idle": "2022-08-07T05:30:44.118817Z",
          "shell.execute_reply": "2022-08-07T05:30:44.119185Z"
        },
        "papermill": {
          "duration": 0.058596,
          "end_time": "2022-08-07T05:30:44.119313",
          "exception": false,
          "start_time": "2022-08-07T05:30:44.060717",
          "status": "completed"
        },
        "tags": []
      },
      "outputs": [],
      "source": [
        "assert not is_sdense(object)\n",
        "assert not is_sdense(_sdict)\n",
        "assert not is_sdense(_scoo)\n",
        "assert is_sdense(_sdense)"
      ]
    },
    {
      "cell_type": "markdown",
      "id": "7d2593f282ee5a5a",
      "metadata": {},
      "source": [
        ":::{eval-rst}\n",
        ".. autofunction:: sax.typing_.is_model\n",
        ":::\n"
      ]
    },
    {
      "cell_type": "code",
      "execution_count": 43,
      "id": "2b8d819f1c62c28d",
      "metadata": {
        "execution": {
          "iopub.execute_input": "2022-08-07T05:30:44.231641Z",
          "iopub.status.busy": "2022-08-07T05:30:44.231180Z",
          "iopub.status.idle": "2022-08-07T05:30:44.232262Z",
          "shell.execute_reply": "2022-08-07T05:30:44.232666Z"
        },
        "papermill": {
          "duration": 0.060809,
          "end_time": "2022-08-07T05:30:44.232803",
          "exception": false,
          "start_time": "2022-08-07T05:30:44.171994",
          "status": "completed"
        },
        "tags": [
          "hide-input"
        ]
      },
      "outputs": [],
      "source": [
        "def is_model(model: Any) -> bool:\n",
        "    \"\"\"check if a callable is a `Model` (a callable returning an `SType`)\"\"\"\n",
        "    if not callable(model):\n",
        "        return False\n",
        "    try:\n",
        "        sig = inspect.signature(model)\n",
        "    except ValueError:\n",
        "        return False\n",
        "    for param in sig.parameters.values():\n",
        "        if param.default is inspect.Parameter.empty:\n",
        "            return False  # a proper SAX model does not have any positional arguments.\n",
        "    if _is_callable_annotation(sig.return_annotation):  # model factory\n",
        "        return False\n",
        "    return True\n",
        "\n",
        "def _is_callable_annotation(annotation: Any) -> bool:\n",
        "    \"\"\"check if an annotation is `Callable`-like\"\"\"\n",
        "    if isinstance(annotation, str):\n",
        "        # happens when\n",
        "        # from __future__ import annotations\n",
        "        # was imported at the top of the file...\n",
        "        return annotation.startswith(\"Callable\") or annotation.endswith(\"Model\")\n",
        "        # TODO: this is not a very robust check...\n",
        "    try:\n",
        "        return annotation.__origin__ == CallableABC\n",
        "    except AttributeError:\n",
        "        return False"
      ]
    },
    {
      "cell_type": "code",
      "execution_count": 44,
      "id": "e6455d5114f06986",
      "metadata": {
        "execution": {
          "iopub.execute_input": "2022-08-07T05:30:44.342723Z",
          "iopub.status.busy": "2022-08-07T05:30:44.342284Z",
          "iopub.status.idle": "2022-08-07T05:30:44.343464Z",
          "shell.execute_reply": "2022-08-07T05:30:44.343798Z"
        },
        "papermill": {
          "duration": 0.058544,
          "end_time": "2022-08-07T05:30:44.343928",
          "exception": false,
          "start_time": "2022-08-07T05:30:44.285384",
          "status": "completed"
        },
        "tags": [
          "remove-cell"
        ]
      },
      "outputs": [],
      "source": [
        "assert _is_callable_annotation(Callable)\n",
        "assert not _is_callable_annotation(SDict)"
      ]
    },
    {
      "cell_type": "code",
      "execution_count": 45,
      "id": "89bdb647",
      "metadata": {
        "execution": {
          "iopub.execute_input": "2022-08-07T05:30:44.459480Z",
          "iopub.status.busy": "2022-08-07T05:30:44.459026Z",
          "iopub.status.idle": "2022-08-07T05:30:44.470404Z",
          "shell.execute_reply": "2022-08-07T05:30:44.470749Z"
        },
        "papermill": {
          "duration": 0.073332,
          "end_time": "2022-08-07T05:30:44.470884",
          "exception": false,
          "start_time": "2022-08-07T05:30:44.397552",
          "status": "completed"
        },
        "tags": []
      },
      "outputs": [],
      "source": [
        "def good_model(x=jnp.array(3.0), y=jnp.array(4.0)) -> SDict:\n",
        "    return {(\"in0\", \"out0\"): jnp.array(3.0)}\n",
        "assert is_model(good_model)\n",
        "\n",
        "def bad_model(positional_argument, x=jnp.array(3.0), y=jnp.array(4.0)) -> SDict:\n",
        "    return {(\"in0\", \"out0\"): jnp.array(3.0)}\n",
        "assert not is_model(bad_model)"
      ]
    },
    {
      "cell_type": "markdown",
      "id": "01da78620f90aa95",
      "metadata": {},
      "source": [
        ":::{eval-rst}\n",
        ".. autofunction:: sax.typing_.is_model_factory\n",
        ":::\n"
      ]
    },
    {
      "cell_type": "code",
      "execution_count": 46,
      "id": "c68d4ecda5f2e81e",
      "metadata": {
        "execution": {
          "iopub.execute_input": "2022-08-07T05:30:44.581742Z",
          "iopub.status.busy": "2022-08-07T05:30:44.581295Z",
          "iopub.status.idle": "2022-08-07T05:30:44.582931Z",
          "shell.execute_reply": "2022-08-07T05:30:44.583244Z"
        },
        "papermill": {
          "duration": 0.059078,
          "end_time": "2022-08-07T05:30:44.583376",
          "exception": false,
          "start_time": "2022-08-07T05:30:44.524298",
          "status": "completed"
        },
        "tags": [
          "hide-input"
        ]
      },
      "outputs": [],
      "source": [
        "def is_model_factory(model: Any) -> bool:\n",
        "    \"\"\"check if a callable is a model function.\"\"\"\n",
        "    if not callable(model):\n",
        "        return False\n",
        "    sig = inspect.signature(model)\n",
        "    if _is_callable_annotation(sig.return_annotation):  # model factory\n",
        "        return True\n",
        "    return False"
      ]
    },
    {
      "cell_type": "markdown",
      "id": "1f9715ed",
      "metadata": {
        "papermill": {
          "duration": 0.05321,
          "end_time": "2022-08-07T05:30:44.690055",
          "exception": false,
          "start_time": "2022-08-07T05:30:44.636845",
          "status": "completed"
        },
        "tags": []
      },
      "source": [
        "> Note: For a `Callable` to be considered a `ModelFactory` in SAX, it **MUST** have a `Callable` or `Model` return annotation. Otherwise SAX will view it as a `Model` and things might break!"
      ]
    },
    {
      "cell_type": "code",
      "execution_count": 47,
      "id": "fe9cdff0",
      "metadata": {
        "execution": {
          "iopub.execute_input": "2022-08-07T05:30:44.801365Z",
          "iopub.status.busy": "2022-08-07T05:30:44.800902Z",
          "iopub.status.idle": "2022-08-07T05:30:44.802128Z",
          "shell.execute_reply": "2022-08-07T05:30:44.802466Z"
        },
        "papermill": {
          "duration": 0.058906,
          "end_time": "2022-08-07T05:30:44.802600",
          "exception": false,
          "start_time": "2022-08-07T05:30:44.743694",
          "status": "completed"
        },
        "tags": []
      },
      "outputs": [],
      "source": [
        "def func() -> Model:\n",
        "    ...\n",
        "    \n",
        "assert is_model_factory(func) # yes, we only check the annotation for now...\n",
        "\n",
        "def func():\n",
        "    ...\n",
        "    \n",
        "assert not is_model_factory(func) # yes, we only check the annotation for now..."
      ]
    },
    {
      "cell_type": "markdown",
      "id": "f7d5e73e949964a0",
      "metadata": {},
      "source": [
        ":::{eval-rst}\n",
        ".. autofunction:: sax.typing_.validate_model\n",
        ":::\n"
      ]
    },
    {
      "cell_type": "code",
      "execution_count": 48,
      "id": "6f511bb0914fb4b9",
      "metadata": {
        "execution": {
          "iopub.execute_input": "2022-08-07T05:30:44.911487Z",
          "iopub.status.busy": "2022-08-07T05:30:44.911045Z",
          "iopub.status.idle": "2022-08-07T05:30:44.915574Z",
          "shell.execute_reply": "2022-08-07T05:30:44.915222Z"
        },
        "papermill": {
          "duration": 0.060023,
          "end_time": "2022-08-07T05:30:44.915680",
          "exception": false,
          "start_time": "2022-08-07T05:30:44.855657",
          "status": "completed"
        },
        "tags": [
          "hide-input"
        ]
      },
      "outputs": [],
      "source": [
        "def validate_model(model: Callable):\n",
        "    \"\"\"Validate the parameters of a model\"\"\"\n",
        "    positional_arguments = []\n",
        "    for param in inspect.signature(model).parameters.values():\n",
        "        if param.default is inspect.Parameter.empty:\n",
        "            positional_arguments.append(param.name)\n",
        "    if positional_arguments:\n",
        "        raise ValueError(\n",
        "            f\"model '{model}' takes positional arguments {', '.join(positional_arguments)} \"\n",
        "            \"and hence is not a valid SAX Model! A SAX model should ONLY take keyword arguments (or no arguments at all).\"\n",
        "        )"
      ]
    },
    {
      "cell_type": "code",
      "execution_count": 49,
      "id": "754399d5",
      "metadata": {
        "execution": {
          "iopub.execute_input": "2022-08-07T05:30:45.027984Z",
          "iopub.status.busy": "2022-08-07T05:30:45.027554Z",
          "iopub.status.idle": "2022-08-07T05:30:45.029757Z",
          "shell.execute_reply": "2022-08-07T05:30:45.029389Z"
        },
        "papermill": {
          "duration": 0.060864,
          "end_time": "2022-08-07T05:30:45.029866",
          "exception": false,
          "start_time": "2022-08-07T05:30:44.969002",
          "status": "completed"
        },
        "tags": []
      },
      "outputs": [],
      "source": [
        "def good_model(x=jnp.array(3.0), y=jnp.array(4.0)) -> SDict:\n",
        "    return {(\"in0\", \"out0\"): jnp.array(3.0)}\n",
        "\n",
        "\n",
        "assert validate_model(good_model) is None"
      ]
    },
    {
      "cell_type": "code",
      "execution_count": 50,
      "id": "181c72fa",
      "metadata": {
        "execution": {
          "iopub.execute_input": "2022-08-07T05:30:45.140871Z",
          "iopub.status.busy": "2022-08-07T05:30:45.140369Z",
          "iopub.status.idle": "2022-08-07T05:30:45.142814Z",
          "shell.execute_reply": "2022-08-07T05:30:45.142468Z"
        },
        "papermill": {
          "duration": 0.060171,
          "end_time": "2022-08-07T05:30:45.142914",
          "exception": false,
          "start_time": "2022-08-07T05:30:45.082743",
          "status": "completed"
        },
        "tags": []
      },
      "outputs": [],
      "source": [
        "def bad_model(positional_argument, x=jnp.array(3.0), y=jnp.array(4.0)) -> SDict:\n",
        "    return {(\"in0\", \"out0\"): jnp.array(3.0)}\n",
        "\n",
        "\n",
        "with raises(ValueError):\n",
        "    validate_model(bad_model)"
      ]
    },
    {
      "cell_type": "markdown",
      "id": "fe205e725b064de3",
      "metadata": {},
      "source": [
        ":::{eval-rst}\n",
        ".. autofunction:: sax.typing_.is_instance\n",
        ":::\n"
      ]
    },
    {
      "cell_type": "code",
      "execution_count": 51,
      "id": "590606ccbdf43be7",
      "metadata": {
        "execution": {
          "iopub.execute_input": "2022-08-07T05:30:45.253490Z",
          "iopub.status.busy": "2022-08-07T05:30:45.253052Z",
          "iopub.status.idle": "2022-08-07T05:30:45.254894Z",
          "shell.execute_reply": "2022-08-07T05:30:45.254520Z"
        },
        "papermill": {
          "duration": 0.059197,
          "end_time": "2022-08-07T05:30:45.254992",
          "exception": false,
          "start_time": "2022-08-07T05:30:45.195795",
          "status": "completed"
        },
        "tags": [
          "hide-input"
        ]
      },
      "outputs": [],
      "source": [
        "def is_instance(instance: Any) -> bool:\n",
        "    \"\"\"check if a dictionary is an instance\"\"\"\n",
        "    if not isinstance(instance, dict):\n",
        "        return False\n",
        "    return \"component\" in instance"
      ]
    },
    {
      "cell_type": "markdown",
      "id": "64f101787c46806d",
      "metadata": {},
      "source": [
        ":::{eval-rst}\n",
        ".. autofunction:: sax.typing_.is_netlist\n",
        ":::\n"
      ]
    },
    {
      "cell_type": "code",
      "execution_count": 52,
      "id": "77078fa05b17ef54",
      "metadata": {
        "execution": {
          "iopub.execute_input": "2022-08-07T05:30:45.366608Z",
          "iopub.status.busy": "2022-08-07T05:30:45.366173Z",
          "iopub.status.idle": "2022-08-07T05:30:45.367491Z",
          "shell.execute_reply": "2022-08-07T05:30:45.367899Z"
        },
        "papermill": {
          "duration": 0.059778,
          "end_time": "2022-08-07T05:30:45.368022",
          "exception": false,
          "start_time": "2022-08-07T05:30:45.308244",
          "status": "completed"
        },
        "tags": [
          "hide-input"
        ]
      },
      "outputs": [],
      "source": [
        "def is_netlist(netlist: Any) -> bool:\n",
        "    \"\"\"check if a dictionary is a netlist\"\"\"\n",
        "    if not isinstance(netlist, dict):\n",
        "        return False\n",
        "    if not \"instances\" in netlist:\n",
        "        return False\n",
        "    if not \"connections\" in netlist:\n",
        "        return False\n",
        "    if not \"ports\" in netlist:\n",
        "        return False\n",
        "    return True"
      ]
    },
    {
      "cell_type": "markdown",
      "id": "7d042017eba5c312",
      "metadata": {},
      "source": [
        ":::{eval-rst}\n",
        ".. autofunction:: sax.typing_.is_stype\n",
        ":::\n"
      ]
    },
    {
      "cell_type": "code",
      "execution_count": 53,
      "id": "b2905c9ae954c79e",
      "metadata": {
        "execution": {
          "iopub.execute_input": "2022-08-07T05:30:45.477687Z",
          "iopub.status.busy": "2022-08-07T05:30:45.477129Z",
          "iopub.status.idle": "2022-08-07T05:30:45.480575Z",
          "shell.execute_reply": "2022-08-07T05:30:45.480173Z"
        },
        "papermill": {
          "duration": 0.058956,
          "end_time": "2022-08-07T05:30:45.480679",
          "exception": false,
          "start_time": "2022-08-07T05:30:45.421723",
          "status": "completed"
        },
        "tags": [
          "hide-input"
        ]
      },
      "outputs": [],
      "source": [
        "def is_stype(stype: Any) -> bool:\n",
        "    \"\"\"check if an object is an SDict, SCoo or SDense\"\"\"\n",
        "    return is_sdict(stype) or is_scoo(stype) or is_sdense(stype)"
      ]
    },
    {
      "cell_type": "markdown",
      "id": "93e9764e9c309c91",
      "metadata": {},
      "source": [
        ":::{eval-rst}\n",
        ".. autofunction:: sax.typing_.is_singlemode\n",
        ":::\n"
      ]
    },
    {
      "cell_type": "code",
      "execution_count": 54,
      "id": "e3d90a5d47dbde47",
      "metadata": {
        "execution": {
          "iopub.execute_input": "2022-08-07T05:30:45.592964Z",
          "iopub.status.busy": "2022-08-07T05:30:45.592493Z",
          "iopub.status.idle": "2022-08-07T05:30:45.593663Z",
          "shell.execute_reply": "2022-08-07T05:30:45.593997Z"
        },
        "papermill": {
          "duration": 0.059992,
          "end_time": "2022-08-07T05:30:45.594118",
          "exception": false,
          "start_time": "2022-08-07T05:30:45.534126",
          "status": "completed"
        },
        "tags": [
          "hide-input"
        ]
      },
      "outputs": [],
      "source": [
        "def is_singlemode(S: Any) -> bool:\n",
        "    \"\"\"check if an stype is single mode\"\"\"\n",
        "    if not is_stype(S):\n",
        "        return False\n",
        "    ports = _get_ports(S)\n",
        "    return not any((\"@\" in p) for p in ports)\n",
        "\n",
        "def _get_ports(S: SType):\n",
        "    if is_sdict(S):\n",
        "        S = cast(SDict, S)\n",
        "        ports_set = {p1 for p1, _ in S} | {p2 for _, p2 in S}\n",
        "        return tuple(natsorted(ports_set))\n",
        "    else:\n",
        "        *_, ports_map = S\n",
        "        assert isinstance(ports_map, dict)\n",
        "        return tuple(natsorted(ports_map.keys()))"
      ]
    },
    {
      "cell_type": "markdown",
      "id": "92aef8cfe8610967",
      "metadata": {},
      "source": [
        ":::{eval-rst}\n",
        ".. autofunction:: sax.typing_.is_multimode\n",
        ":::\n"
      ]
    },
    {
      "cell_type": "code",
      "execution_count": 55,
      "id": "4d65c3158ca50aea",
      "metadata": {
        "execution": {
          "iopub.execute_input": "2022-08-07T05:30:45.708756Z",
          "iopub.status.busy": "2022-08-07T05:30:45.708294Z",
          "iopub.status.idle": "2022-08-07T05:30:45.709946Z",
          "shell.execute_reply": "2022-08-07T05:30:45.710306Z"
        },
        "papermill": {
          "duration": 0.059315,
          "end_time": "2022-08-07T05:30:45.710428",
          "exception": false,
          "start_time": "2022-08-07T05:30:45.651113",
          "status": "completed"
        },
        "tags": [
          "hide-input"
        ]
      },
      "outputs": [],
      "source": [
        "def is_multimode(S: Any) -> bool:\n",
        "    \"\"\"check if an stype is single mode\"\"\"\n",
        "    if not is_stype(S):\n",
        "        return False\n",
        "    \n",
        "    ports = _get_ports(S)\n",
        "    return all((\"@\" in p) for p in ports)"
      ]
    },
    {
      "cell_type": "markdown",
      "id": "961ecd586b1b45e6",
      "metadata": {},
      "source": [
        ":::{eval-rst}\n",
        ".. autofunction:: sax.typing_.is_mixedmode\n",
        ":::\n"
      ]
    },
    {
      "cell_type": "code",
      "execution_count": 56,
      "id": "a338969b807363e6",
      "metadata": {
        "execution": {
          "iopub.execute_input": "2022-08-07T05:30:45.819650Z",
          "iopub.status.busy": "2022-08-07T05:30:45.819229Z",
          "iopub.status.idle": "2022-08-07T05:30:45.822967Z",
          "shell.execute_reply": "2022-08-07T05:30:45.822623Z"
        },
        "papermill": {
          "duration": 0.059202,
          "end_time": "2022-08-07T05:30:45.823065",
          "exception": false,
          "start_time": "2022-08-07T05:30:45.763863",
          "status": "completed"
        },
        "tags": [
          "hide-input"
        ]
      },
      "outputs": [],
      "source": [
        "def is_mixedmode(S: Any) -> bool:\n",
        "    \"\"\"check if an stype is neither single mode nor multimode (hence invalid)\"\"\"\n",
        "    return not is_singlemode(S) and not is_multimode(S)"
      ]
    },
    {
      "cell_type": "markdown",
      "id": "3afe685c",
      "metadata": {
        "papermill": {
          "duration": 0.053707,
          "end_time": "2022-08-07T05:30:45.929960",
          "exception": false,
          "start_time": "2022-08-07T05:30:45.876253",
          "status": "completed"
        },
        "tags": []
      },
      "source": [
        "## SAX return type helpers\n",
        "\n",
        "> a.k.a SDict, SDense, SCoo helpers"
      ]
    },
    {
      "cell_type": "markdown",
      "id": "a875f149",
      "metadata": {
        "papermill": {
          "duration": 0.054058,
          "end_time": "2022-08-07T05:30:46.038318",
          "exception": false,
          "start_time": "2022-08-07T05:30:45.984260",
          "status": "completed"
        },
        "tags": []
      },
      "source": [
        "Convert an `SDict`, `SCoo` or `SDense` into an `SDict` (or convert a model generating any of these types into a model generating an `SDict`):"
      ]
    },
    {
      "cell_type": "code",
      "execution_count": 57,
      "id": "53bdfdf101e67778",
      "metadata": {
        "execution": {
          "iopub.execute_input": "2022-08-07T05:30:46.149917Z",
          "iopub.status.busy": "2022-08-07T05:30:46.149471Z",
          "iopub.status.idle": "2022-08-07T05:30:46.150675Z",
          "shell.execute_reply": "2022-08-07T05:30:46.151009Z"
        },
        "papermill": {
          "duration": 0.059098,
          "end_time": "2022-08-07T05:30:46.151134",
          "exception": false,
          "start_time": "2022-08-07T05:30:46.092036",
          "status": "completed"
        },
        "tags": [
          "remove-cell"
        ]
      },
      "outputs": [],
      "source": [
        "\n",
        "@overload\n",
        "def sdict(S: Model) -> Model:\n",
        "    ...\n",
        "\n",
        "\n",
        "@overload\n",
        "def sdict(S: SType) -> SDict:\n",
        "    ..."
      ]
    },
    {
      "cell_type": "markdown",
      "id": "bcdec92f88bf393e",
      "metadata": {},
      "source": [
        ":::{eval-rst}\n",
        ".. autofunction:: sax.typing_.sdict\n",
        ":::\n"
      ]
    },
    {
      "cell_type": "code",
      "execution_count": 58,
      "id": "555c842bdd9c0605",
      "metadata": {
        "execution": {
          "iopub.execute_input": "2022-08-07T05:30:46.267025Z",
          "iopub.status.busy": "2022-08-07T05:30:46.266396Z",
          "iopub.status.idle": "2022-08-07T05:30:46.268523Z",
          "shell.execute_reply": "2022-08-07T05:30:46.268884Z"
        },
        "papermill": {
          "duration": 0.06418,
          "end_time": "2022-08-07T05:30:46.269019",
          "exception": false,
          "start_time": "2022-08-07T05:30:46.204839",
          "status": "completed"
        },
        "tags": [
          "hide-input"
        ]
      },
      "outputs": [],
      "source": [
        "def sdict(S: Union[Model, SType]) -> Union[Model, SType]:\n",
        "    \"\"\"Convert an `SCoo` or `SDense` to `SDict`\"\"\"\n",
        "\n",
        "    if is_model(S):\n",
        "        model = cast(Model, S)\n",
        "\n",
        "        @functools.wraps(model)\n",
        "        def wrapper(**kwargs):\n",
        "            return sdict(model(**kwargs))\n",
        "\n",
        "        return wrapper\n",
        "\n",
        "    elif is_scoo(S):\n",
        "        x_dict = _scoo_to_sdict(*cast(SCoo, S))\n",
        "    elif is_sdense(S):\n",
        "        x_dict = _sdense_to_sdict(*cast(SDense, S))\n",
        "    elif is_sdict(S):\n",
        "        x_dict = cast(SDict, S)\n",
        "    else:\n",
        "        raise ValueError(\"Could not convert arguments to sdict.\")\n",
        "\n",
        "    return x_dict\n",
        "\n",
        "\n",
        "def _scoo_to_sdict(Si: Array, Sj: Array, Sx: Array, ports_map: Dict[str, int]) -> SDict:\n",
        "    sdict = {}\n",
        "    inverse_ports_map = {int(i): p for p, i in ports_map.items()}\n",
        "    for i, (si, sj) in enumerate(zip(Si, Sj)):\n",
        "        sdict[\n",
        "            inverse_ports_map.get(int(si), \"\"), inverse_ports_map.get(int(sj), \"\")\n",
        "        ] = Sx[..., i]\n",
        "    sdict = {(p1, p2): v for (p1, p2), v in sdict.items() if p1 and p2}\n",
        "    return sdict\n",
        "\n",
        "\n",
        "def _sdense_to_sdict(S: Array, ports_map: Dict[str, int]) -> SDict:\n",
        "    sdict = {}\n",
        "    for p1, i in ports_map.items():\n",
        "        for p2, j in ports_map.items():\n",
        "            sdict[p1, p2] = S[..., i, j]\n",
        "    return sdict"
      ]
    },
    {
      "cell_type": "code",
      "execution_count": 59,
      "id": "9a372fbf",
      "metadata": {
        "execution": {
          "iopub.execute_input": "2022-08-07T05:30:46.390171Z",
          "iopub.status.busy": "2022-08-07T05:30:46.389727Z",
          "iopub.status.idle": "2022-08-07T05:30:46.500036Z",
          "shell.execute_reply": "2022-08-07T05:30:46.499546Z"
        },
        "papermill": {
          "duration": 0.17683,
          "end_time": "2022-08-07T05:30:46.500164",
          "exception": false,
          "start_time": "2022-08-07T05:30:46.323334",
          "status": "completed"
        },
        "tags": []
      },
      "outputs": [],
      "source": [
        "assert sdict(_sdict) is _sdict\n",
        "assert sdict(_scoo) == {\n",
        "    (\"in0\", \"in0\"): 3.0,\n",
        "    (\"in1\", \"in0\"): 1.0,\n",
        "    (\"out0\", \"out0\"): 4.0,\n",
        "}\n",
        "assert sdict(_sdense) == {\n",
        "    (\"in0\", \"in0\"): 0.0,\n",
        "    (\"in0\", \"out0\"): 1.0,\n",
        "    (\"in0\", \"in1\"): 2.0,\n",
        "    (\"out0\", \"in0\"): 3.0,\n",
        "    (\"out0\", \"out0\"): 4.0,\n",
        "    (\"out0\", \"in1\"): 5.0,\n",
        "    (\"in1\", \"in0\"): 6.0,\n",
        "    (\"in1\", \"out0\"): 7.0,\n",
        "    (\"in1\", \"in1\"): 8.0,\n",
        "}"
      ]
    },
    {
      "cell_type": "markdown",
      "id": "492c5cdd",
      "metadata": {
        "papermill": {
          "duration": 0.053758,
          "end_time": "2022-08-07T05:30:46.609231",
          "exception": false,
          "start_time": "2022-08-07T05:30:46.555473",
          "status": "completed"
        },
        "tags": []
      },
      "source": [
        "Convert an `SDict`, `SCoo` or `SDense` into an `SCoo` (or convert a model generating any of these types into a model generating an `SCoo`):"
      ]
    },
    {
      "cell_type": "code",
      "execution_count": 60,
      "id": "01f5e2f02eb6b776",
      "metadata": {
        "execution": {
          "iopub.execute_input": "2022-08-07T05:30:46.722524Z",
          "iopub.status.busy": "2022-08-07T05:30:46.722084Z",
          "iopub.status.idle": "2022-08-07T05:30:46.723212Z",
          "shell.execute_reply": "2022-08-07T05:30:46.723546Z"
        },
        "papermill": {
          "duration": 0.060138,
          "end_time": "2022-08-07T05:30:46.723673",
          "exception": false,
          "start_time": "2022-08-07T05:30:46.663535",
          "status": "completed"
        },
        "tags": [
          "remove-cell"
        ]
      },
      "outputs": [],
      "source": [
        "\n",
        "@overload\n",
        "def scoo(S: Callable) -> Callable:\n",
        "    ...\n",
        "\n",
        "\n",
        "@overload\n",
        "def scoo(S: SType) -> SCoo:\n",
        "    ..."
      ]
    },
    {
      "cell_type": "markdown",
      "id": "ccf0ee0a99353bd4",
      "metadata": {},
      "source": [
        ":::{eval-rst}\n",
        ".. autofunction:: sax.typing_.scoo\n",
        ":::\n"
      ]
    },
    {
      "cell_type": "code",
      "execution_count": 61,
      "id": "667f7b1dc951d92f",
      "metadata": {
        "execution": {
          "iopub.execute_input": "2022-08-07T05:30:46.839361Z",
          "iopub.status.busy": "2022-08-07T05:30:46.838919Z",
          "iopub.status.idle": "2022-08-07T05:30:46.840686Z",
          "shell.execute_reply": "2022-08-07T05:30:46.840286Z"
        },
        "papermill": {
          "duration": 0.063384,
          "end_time": "2022-08-07T05:30:46.840787",
          "exception": false,
          "start_time": "2022-08-07T05:30:46.777403",
          "status": "completed"
        },
        "tags": [
          "hide-input"
        ]
      },
      "outputs": [],
      "source": [
        "\n",
        "def scoo(S: Union[Callable, SType]) -> Union[Callable, SCoo]:\n",
        "    \"\"\"Convert an `SDict` or `SDense` to `SCoo`\"\"\"\n",
        "\n",
        "    if is_model(S):\n",
        "        model = cast(Model, S)\n",
        "\n",
        "        @functools.wraps(model)\n",
        "        def wrapper(**kwargs):\n",
        "            return scoo(model(**kwargs))\n",
        "\n",
        "        return wrapper\n",
        "\n",
        "    elif is_scoo(S):\n",
        "        S = cast(SCoo, S)\n",
        "    elif is_sdense(S):\n",
        "        S = _sdense_to_scoo(*cast(SDense, S))\n",
        "    elif is_sdict(S):\n",
        "        S = _sdict_to_scoo(cast(SDict, S))\n",
        "    else:\n",
        "        raise ValueError(\"Could not convert arguments to scoo.\")\n",
        "\n",
        "    return S\n",
        "\n",
        "\n",
        "def _sdense_to_scoo(S: Array, ports_map: Dict[str, int]) -> SCoo:\n",
        "    Sj, Si = jnp.meshgrid(jnp.arange(S.shape[-1]), jnp.arange(S.shape[-2]))\n",
        "    return Si.ravel(), Sj.ravel(), S.reshape(*S.shape[:-2], -1), ports_map\n",
        "\n",
        "\n",
        "def _sdict_to_scoo(sdict: SDict) -> SCoo:\n",
        "    all_ports = {}\n",
        "    for p1, p2 in sdict:\n",
        "        all_ports[p1] = None\n",
        "        all_ports[p2] = None\n",
        "    ports_map = {p: i for i, p in enumerate(all_ports)}\n",
        "    Sx = jnp.stack(jnp.broadcast_arrays(*sdict.values()), -1)\n",
        "    Si = jnp.array([ports_map[p] for p, _ in sdict])\n",
        "    Sj = jnp.array([ports_map[p] for _, p in sdict])\n",
        "    return Si, Sj, Sx, ports_map"
      ]
    },
    {
      "cell_type": "code",
      "execution_count": 62,
      "id": "1e97b31c",
      "metadata": {
        "execution": {
          "iopub.execute_input": "2022-08-07T05:30:46.959078Z",
          "iopub.status.busy": "2022-08-07T05:30:46.958634Z",
          "iopub.status.idle": "2022-08-07T05:30:47.040066Z",
          "shell.execute_reply": "2022-08-07T05:30:47.039601Z"
        },
        "papermill": {
          "duration": 0.145679,
          "end_time": "2022-08-07T05:30:47.040196",
          "exception": false,
          "start_time": "2022-08-07T05:30:46.894517",
          "status": "completed"
        },
        "tags": []
      },
      "outputs": [],
      "source": [
        "assert scoo(_scoo) is _scoo\n",
        "assert scoo(_sdict) == (0, 1, 3.0, {\"in0\": 0, \"out0\": 1})\n",
        "Si, Sj, Sx, port_map = scoo(_sdense)  # type: ignore\n",
        "np.testing.assert_array_equal(Si, jnp.array([0, 0, 0, 1, 1, 1, 2, 2, 2]))\n",
        "np.testing.assert_array_equal(Sj, jnp.array([0, 1, 2, 0, 1, 2, 0, 1, 2]))\n",
        "np.testing.assert_array_almost_equal(Sx, jnp.array([0.0, 1.0, 2.0, 3.0, 4.0, 5.0, 6.0, 7.0, 8.0]))\n",
        "assert port_map == {\"in0\": 0, \"in1\": 2, \"out0\": 1}"
      ]
    },
    {
      "cell_type": "markdown",
      "id": "5e58325b",
      "metadata": {
        "papermill": {
          "duration": 0.054917,
          "end_time": "2022-08-07T05:30:47.150333",
          "exception": false,
          "start_time": "2022-08-07T05:30:47.095416",
          "status": "completed"
        },
        "tags": []
      },
      "source": [
        "Convert an `SDict`, `SCoo` or `SDense` into an `SDense` (or convert a model generating any of these types into a model generating an `SDense`):"
      ]
    },
    {
      "cell_type": "code",
      "execution_count": 63,
      "id": "542e2905a2552b08",
      "metadata": {
        "execution": {
          "iopub.execute_input": "2022-08-07T05:30:47.262796Z",
          "iopub.status.busy": "2022-08-07T05:30:47.262355Z",
          "iopub.status.idle": "2022-08-07T05:30:47.265976Z",
          "shell.execute_reply": "2022-08-07T05:30:47.265600Z"
        },
        "papermill": {
          "duration": 0.060774,
          "end_time": "2022-08-07T05:30:47.266076",
          "exception": false,
          "start_time": "2022-08-07T05:30:47.205302",
          "status": "completed"
        },
        "tags": [
          "remove-cell"
        ]
      },
      "outputs": [],
      "source": [
        "\n",
        "@overload\n",
        "def sdense(S: Callable) -> Callable:\n",
        "    ...\n",
        "\n",
        "\n",
        "@overload\n",
        "def sdense(S: SType) -> SDense:\n",
        "    ..."
      ]
    },
    {
      "cell_type": "markdown",
      "id": "33cd9db8f50336c7",
      "metadata": {},
      "source": [
        ":::{eval-rst}\n",
        ".. autofunction:: sax.typing_.sdense\n",
        ":::\n"
      ]
    },
    {
      "cell_type": "code",
      "execution_count": 64,
      "id": "7b46972c1d3e214d",
      "metadata": {
        "execution": {
          "iopub.execute_input": "2022-08-07T05:30:47.382597Z",
          "iopub.status.busy": "2022-08-07T05:30:47.382162Z",
          "iopub.status.idle": "2022-08-07T05:30:47.384109Z",
          "shell.execute_reply": "2022-08-07T05:30:47.383759Z"
        },
        "papermill": {
          "duration": 0.063632,
          "end_time": "2022-08-07T05:30:47.384212",
          "exception": false,
          "start_time": "2022-08-07T05:30:47.320580",
          "status": "completed"
        },
        "tags": [
          "hide-input"
        ]
      },
      "outputs": [],
      "source": [
        "\n",
        "def sdense(S: Union[Callable, SType]) -> Union[Callable, SDense]:\n",
        "    \"\"\"Convert an `SDict` or `SCoo` to `SDense`\"\"\"\n",
        "\n",
        "    if is_model(S):\n",
        "        model = cast(Model, S)\n",
        "\n",
        "        @functools.wraps(model)\n",
        "        def wrapper(**kwargs):\n",
        "            return sdense(model(**kwargs))\n",
        "\n",
        "        return wrapper\n",
        "\n",
        "    if is_sdict(S):\n",
        "        S = _sdict_to_sdense(cast(SDict, S))\n",
        "    elif is_scoo(S):\n",
        "        S = _scoo_to_sdense(*cast(SCoo, S))\n",
        "    elif is_sdense(S):\n",
        "        S = cast(SDense, S)\n",
        "    else:\n",
        "        raise ValueError(\"Could not convert arguments to sdense.\")\n",
        "\n",
        "    return S\n",
        "\n",
        "\n",
        "def _scoo_to_sdense(\n",
        "    Si: Array, Sj: Array, Sx: Array, ports_map: Dict[str, int]\n",
        ") -> SDense:\n",
        "    n_col = len(ports_map)\n",
        "    S = jnp.zeros((*Sx.shape[:-1], n_col, n_col), dtype=complex)\n",
        "    if JAX_AVAILABLE:\n",
        "        S = S.at[..., Si, Sj].add(Sx)\n",
        "    else:\n",
        "        S[..., Si, Sj] = Sx\n",
        "    return S, ports_map\n",
        "\n",
        "def _sdict_to_sdense(sdict: SDict) -> SDense:\n",
        "    Si, Sj, Sx, ports_map = _sdict_to_scoo(sdict)\n",
        "    return _scoo_to_sdense(Si, Sj, Sx, ports_map)"
      ]
    },
    {
      "cell_type": "code",
      "execution_count": 65,
      "id": "084b7ddb",
      "metadata": {
        "execution": {
          "iopub.execute_input": "2022-08-07T05:30:47.502506Z",
          "iopub.status.busy": "2022-08-07T05:30:47.500608Z",
          "iopub.status.idle": "2022-08-07T05:30:47.628160Z",
          "shell.execute_reply": "2022-08-07T05:30:47.627704Z"
        },
        "papermill": {
          "duration": 0.189816,
          "end_time": "2022-08-07T05:30:47.628293",
          "exception": false,
          "start_time": "2022-08-07T05:30:47.438477",
          "status": "completed"
        },
        "tags": []
      },
      "outputs": [],
      "source": [
        "assert sdense(_sdense) is _sdense\n",
        "Sd, port_map = sdense(_scoo)  # type: ignore\n",
        "Sd_ = jnp.array([[3.0 + 0.0j, 0.0 + 0.0j, 0.0 + 0.0j],\n",
        "                 [0.0 + 0.0j, 4.0 + 0.0j, 0.0 + 0.0j],\n",
        "                 [1.0 + 0.0j, 0.0 + 0.0j, 0.0 + 0.0j]])\n",
        "\n",
        "np.testing.assert_array_almost_equal(Sd, Sd_)\n",
        "assert port_map == {\"in0\": 0, \"in1\": 2, \"out0\": 1}"
      ]
    },
    {
      "cell_type": "markdown",
      "id": "b5d4414c3865ae76",
      "metadata": {},
      "source": [
        ":::{eval-rst}\n",
        ".. autofunction:: sax.typing_.modelfactory\n",
        ":::\n"
      ]
    },
    {
      "cell_type": "code",
      "execution_count": 66,
      "id": "e0af203533648759",
      "metadata": {
        "execution": {
          "iopub.execute_input": "2022-08-07T05:30:47.743248Z",
          "iopub.status.busy": "2022-08-07T05:30:47.742806Z",
          "iopub.status.idle": "2022-08-07T05:30:47.744427Z",
          "shell.execute_reply": "2022-08-07T05:30:47.744774Z"
        },
        "papermill": {
          "duration": 0.061013,
          "end_time": "2022-08-07T05:30:47.744909",
          "exception": false,
          "start_time": "2022-08-07T05:30:47.683896",
          "status": "completed"
        },
        "tags": [
          "hide-input"
        ]
      },
      "outputs": [],
      "source": [
        "\n",
        "def modelfactory(func):\n",
        "    \"\"\"Decorator that marks a function as `ModelFactory`\"\"\"\n",
        "    sig = inspect.signature(func)\n",
        "    if _is_callable_annotation(sig.return_annotation):  # already model factory\n",
        "        return func\n",
        "    func.__signature__ = sig.replace(return_annotation=Model)\n",
        "    return func"
      ]
    }
  ],
  "metadata": {
    "kernelspec": {
      "display_name": "sax",
      "language": "python",
      "name": "sax"
    },
    "language_info": {
      "codemirror_mode": {
        "name": "ipython",
        "version": 3
      },
      "file_extension": ".py",
      "mimetype": "text/x-python",
      "name": "python",
      "nbconvert_exporter": "python",
      "pygments_lexer": "ipython3",
      "version": "3.9.0"
    },
    "papermill": {
      "default_parameters": {},
      "duration": 16.305897,
      "end_time": "2022-08-07T05:30:48.106520",
      "environment_variables": {},
      "exception": null,
      "input_path": "./nbs/00_typing.ipynb",
      "output_path": "./nbs/00_typing.ipynb",
      "parameters": {},
      "start_time": "2022-08-07T05:30:31.800623",
      "version": "2.3.4"
    }
  },
  "nbformat": 4,
  "nbformat_minor": 5
}
{
  "cells": [
    {
      "cell_type": "code",
      "execution_count": 1,
      "id": "06ae89508c92cc4b",
      "metadata": {
        "execution": {
          "iopub.execute_input": "2022-08-04T04:32:37.864937Z",
          "iopub.status.busy": "2022-08-04T04:32:37.864475Z",
          "iopub.status.idle": "2022-08-04T04:32:37.867279Z",
          "shell.execute_reply": "2022-08-04T04:32:37.866842Z"
        },
        "papermill": {
          "duration": 0.015521,
          "end_time": "2022-08-04T04:32:37.867402",
          "exception": false,
          "start_time": "2022-08-04T04:32:37.851881",
          "status": "completed"
        },
        "tags": [
          "remove-cell"
        ]
      },
      "outputs": [],
      "source": []
    },
    {
      "cell_type": "markdown",
      "id": "36903b9f",
      "metadata": {
        "papermill": {
          "duration": 0.006201,
          "end_time": "2022-08-04T04:32:37.880285",
          "exception": false,
          "start_time": "2022-08-04T04:32:37.874084",
          "status": "completed"
        },
        "tags": []
      },
      "source": [
        "# NN - Neural Networks\n",
        "\n",
        "> Utilitites for creating advanced neural network SAX Models"
      ]
    },
    {
      "cell_type": "code",
      "execution_count": 2,
      "id": "44ece423954a3218",
      "metadata": {
        "execution": {
          "iopub.execute_input": "2022-08-04T04:32:37.901354Z",
          "iopub.status.busy": "2022-08-04T04:32:37.900870Z",
          "iopub.status.idle": "2022-08-04T04:32:37.902589Z",
          "shell.execute_reply": "2022-08-04T04:32:37.902927Z"
        },
        "papermill": {
          "duration": 0.016746,
          "end_time": "2022-08-04T04:32:37.903055",
          "exception": false,
          "start_time": "2022-08-04T04:32:37.886309",
          "status": "completed"
        },
        "tags": [
          "remove-cell"
        ]
      },
      "outputs": [],
      "source": [
        "import os, sys; sys.stderr = open(os.devnull, \"w\")"
      ]
    },
    {
      "cell_type": "markdown",
      "id": "24790eed-f741-4d07-91c9-a731ebcfc3f0",
      "metadata": {
        "papermill": {
          "duration": 0.006024,
          "end_time": "2022-08-04T04:32:37.915184",
          "exception": false,
          "start_time": "2022-08-04T04:32:37.909160",
          "status": "completed"
        },
        "tags": []
      },
      "source": [
        "## Check"
      ]
    },
    {
      "cell_type": "code",
      "execution_count": 3,
      "id": "71ee14ba-949f-4025-8813-5a6bf01b8464",
      "metadata": {
        "execution": {
          "iopub.execute_input": "2022-08-04T04:32:37.930999Z",
          "iopub.status.busy": "2022-08-04T04:32:37.930572Z",
          "iopub.status.idle": "2022-08-04T04:32:38.491443Z",
          "shell.execute_reply": "2022-08-04T04:32:38.490955Z"
        },
        "papermill": {
          "duration": 0.570269,
          "end_time": "2022-08-04T04:32:38.491576",
          "exception": false,
          "start_time": "2022-08-04T04:32:37.921307",
          "status": "completed"
        },
        "tags": []
      },
      "outputs": [],
      "source": [
        "try:\n",
        "    import jax\n",
        "except ImportError:\n",
        "    raise ImportError(\"[NO JAX] Cannot import sax.nn. Please install JAX first!\")"
      ]
    },
    {
      "cell_type": "markdown",
      "id": "75fbba73",
      "metadata": {
        "papermill": {
          "duration": 0.006658,
          "end_time": "2022-08-04T04:32:38.504951",
          "exception": false,
          "start_time": "2022-08-04T04:32:38.498293",
          "status": "completed"
        },
        "tags": []
      },
      "source": [
        "## Loss"
      ]
    },
    {
      "cell_type": "code",
      "execution_count": 4,
      "id": "8ed30e0d1c66ac29",
      "metadata": {
        "execution": {
          "iopub.execute_input": "2022-08-04T04:32:38.521242Z",
          "iopub.status.busy": "2022-08-04T04:32:38.519765Z",
          "iopub.status.idle": "2022-08-04T04:32:38.997739Z",
          "shell.execute_reply": "2022-08-04T04:32:38.996878Z"
        },
        "papermill": {
          "duration": 0.486679,
          "end_time": "2022-08-04T04:32:38.997881",
          "exception": false,
          "start_time": "2022-08-04T04:32:38.511202",
          "status": "completed"
        },
        "tags": []
      },
      "outputs": [],
      "source": [
        "from __future__ import annotations\n",
        "\n",
        "from sax.nn.loss import huber_loss as huber_loss\n",
        "from sax.nn.loss import l2_reg as l2_reg\n",
        "from sax.nn.loss import mse as mse"
      ]
    },
    {
      "cell_type": "markdown",
      "id": "1a18faa2",
      "metadata": {
        "papermill": {
          "duration": 0.006386,
          "end_time": "2022-08-04T04:32:39.010888",
          "exception": false,
          "start_time": "2022-08-04T04:32:39.004502",
          "status": "completed"
        },
        "tags": []
      },
      "source": [
        "## Utils"
      ]
    },
    {
      "cell_type": "code",
      "execution_count": 5,
      "id": "f0fe11979cf9adff",
      "metadata": {
        "execution": {
          "iopub.execute_input": "2022-08-04T04:32:39.027888Z",
          "iopub.status.busy": "2022-08-04T04:32:39.026808Z",
          "iopub.status.idle": "2022-08-04T04:32:39.028441Z",
          "shell.execute_reply": "2022-08-04T04:32:39.028819Z"
        },
        "papermill": {
          "duration": 0.011816,
          "end_time": "2022-08-04T04:32:39.028944",
          "exception": false,
          "start_time": "2022-08-04T04:32:39.017128",
          "status": "completed"
        },
        "tags": []
      },
      "outputs": [],
      "source": [
        "\n",
        "from sax.nn.utils import (\n",
        "    cartesian_product as cartesian_product,\n",
        "    denormalize as denormalize,\n",
        "    get_normalization as get_normalization,\n",
        "    get_df_columns as get_df_columns,\n",
        "    normalize as normalize,\n",
        ")"
      ]
    },
    {
      "cell_type": "markdown",
      "id": "ef010b3c",
      "metadata": {
        "papermill": {
          "duration": 0.006292,
          "end_time": "2022-08-04T04:32:39.041800",
          "exception": false,
          "start_time": "2022-08-04T04:32:39.035508",
          "status": "completed"
        },
        "tags": []
      },
      "source": [
        "## Core"
      ]
    },
    {
      "cell_type": "code",
      "execution_count": 6,
      "id": "f9abc38078c3198b",
      "metadata": {
        "execution": {
          "iopub.execute_input": "2022-08-04T04:32:39.057574Z",
          "iopub.status.busy": "2022-08-04T04:32:39.057118Z",
          "iopub.status.idle": "2022-08-04T04:32:39.058530Z",
          "shell.execute_reply": "2022-08-04T04:32:39.058843Z"
        },
        "papermill": {
          "duration": 0.010857,
          "end_time": "2022-08-04T04:32:39.058953",
          "exception": false,
          "start_time": "2022-08-04T04:32:39.048096",
          "status": "completed"
        },
        "tags": []
      },
      "outputs": [],
      "source": [
        "\n",
        "from sax.nn.core import (\n",
        "    preprocess as preprocess,\n",
        "    dense as dense,\n",
        "    generate_dense_weights as generate_dense_weights,\n",
        ")"
      ]
    },
    {
      "cell_type": "markdown",
      "id": "5e96c647",
      "metadata": {
        "papermill": {
          "duration": 0.006266,
          "end_time": "2022-08-04T04:32:39.071527",
          "exception": false,
          "start_time": "2022-08-04T04:32:39.065261",
          "status": "completed"
        },
        "tags": []
      },
      "source": [
        "## IO"
      ]
    },
    {
      "cell_type": "code",
      "execution_count": 7,
      "id": "77f16a4dda7d6beb",
      "metadata": {
        "execution": {
          "iopub.execute_input": "2022-08-04T04:32:39.087672Z",
          "iopub.status.busy": "2022-08-04T04:32:39.087246Z",
          "iopub.status.idle": "2022-08-04T04:32:39.088912Z",
          "shell.execute_reply": "2022-08-04T04:32:39.088488Z"
        },
        "papermill": {
          "duration": 0.011154,
          "end_time": "2022-08-04T04:32:39.089001",
          "exception": false,
          "start_time": "2022-08-04T04:32:39.077847",
          "status": "completed"
        },
        "tags": []
      },
      "outputs": [],
      "source": [
        "\n",
        "from sax.nn.io import (\n",
        "    load_nn_weights_json as load_nn_weights_json,\n",
        "    save_nn_weights_json as save_nn_weights_json,\n",
        "    get_available_sizes as get_available_sizes,\n",
        "    get_dense_weights_path as get_dense_weights_path,\n",
        "    get_norm_path as get_norm_path,\n",
        "    load_nn_dense as load_nn_dense,\n",
        ")"
      ]
    }
  ],
  "metadata": {
    "kernelspec": {
      "display_name": "sax-np",
      "language": "python",
      "name": "sax-np"
    },
    "language_info": {
      "codemirror_mode": {
        "name": "ipython",
        "version": 3
      },
      "file_extension": ".py",
      "mimetype": "text/x-python",
      "name": "python",
      "nbconvert_exporter": "python",
      "pygments_lexer": "ipython3",
      "version": "3.9.0"
    },
    "papermill": {
      "default_parameters": {},
      "duration": 2.96652,
      "end_time": "2022-08-04T04:32:39.501411",
      "environment_variables": {},
      "exception": null,
      "input_path": "./nbs/09_nn.ipynb",
      "output_path": "./nbs/09_nn.ipynb",
      "parameters": {},
      "start_time": "2022-08-04T04:32:36.534891",
      "version": "2.3.4"
    }
  },
  "nbformat": 4,
  "nbformat_minor": 5
}
{
  "cells": [
    {
      "cell_type": "code",
      "execution_count": 1,
      "id": "4887c1986d861587",
      "metadata": {
        "execution": {
          "iopub.execute_input": "2022-08-17T03:22:45.301576Z",
          "iopub.status.busy": "2022-08-17T03:22:45.301119Z",
          "iopub.status.idle": "2022-08-17T03:22:45.304434Z",
          "shell.execute_reply": "2022-08-17T03:22:45.304055Z"
        },
        "papermill": {
          "duration": 0.014018,
          "end_time": "2022-08-17T03:22:45.304539",
          "exception": false,
          "start_time": "2022-08-17T03:22:45.290521",
          "status": "completed"
        },
        "tags": [
          "remove-cell"
        ]
      },
      "outputs": [],
      "source": []
    },
    {
      "cell_type": "markdown",
      "id": "36903b9f",
      "metadata": {
        "papermill": {
          "duration": 0.005887,
          "end_time": "2022-08-17T03:22:45.316898",
          "exception": false,
          "start_time": "2022-08-17T03:22:45.311011",
          "status": "completed"
        },
        "tags": []
      },
      "source": [
        "# Neural Networks\n",
        "\n",
        "> Utilitites for creating advanced neural network SAX Models"
      ]
    },
    {
      "cell_type": "code",
      "execution_count": 2,
      "id": "3cfa9f90c1040b0a",
      "metadata": {
        "execution": {
          "iopub.execute_input": "2022-08-17T03:22:45.330680Z",
          "iopub.status.busy": "2022-08-17T03:22:45.330280Z",
          "iopub.status.idle": "2022-08-17T03:22:45.337193Z",
          "shell.execute_reply": "2022-08-17T03:22:45.336871Z"
        },
        "papermill": {
          "duration": 0.014524,
          "end_time": "2022-08-17T03:22:45.337282",
          "exception": false,
          "start_time": "2022-08-17T03:22:45.322758",
          "status": "completed"
        },
        "tags": [
          "hide-input"
        ]
      },
      "outputs": [],
      "source": [
        "from __future__ import annotations"
      ]
    },
    {
      "cell_type": "code",
      "execution_count": 3,
      "id": "bf6cd867b7a80286",
      "metadata": {
        "execution": {
          "iopub.execute_input": "2022-08-17T03:22:45.351997Z",
          "iopub.status.busy": "2022-08-17T03:22:45.351592Z",
          "iopub.status.idle": "2022-08-17T03:22:45.353105Z",
          "shell.execute_reply": "2022-08-17T03:22:45.352782Z"
        },
        "papermill": {
          "duration": 0.010041,
          "end_time": "2022-08-17T03:22:45.353196",
          "exception": false,
          "start_time": "2022-08-17T03:22:45.343155",
          "status": "completed"
        },
        "tags": [
          "remove-cell"
        ]
      },
      "outputs": [],
      "source": [
        "import os, sys; sys.stderr = open(os.devnull, \"w\")"
      ]
    },
    {
      "cell_type": "markdown",
      "id": "24790eed-f741-4d07-91c9-a731ebcfc3f0",
      "metadata": {
        "papermill": {
          "duration": 0.005933,
          "end_time": "2022-08-17T03:22:45.365077",
          "exception": false,
          "start_time": "2022-08-17T03:22:45.359144",
          "status": "completed"
        },
        "tags": []
      },
      "source": [
        "## Check"
      ]
    },
    {
      "cell_type": "code",
      "execution_count": 4,
      "id": "71ee14ba-949f-4025-8813-5a6bf01b8464",
      "metadata": {
        "execution": {
          "iopub.execute_input": "2022-08-17T03:22:45.380136Z",
          "iopub.status.busy": "2022-08-17T03:22:45.379723Z",
          "iopub.status.idle": "2022-08-17T03:22:45.890462Z",
          "shell.execute_reply": "2022-08-17T03:22:45.890099Z"
        },
        "papermill": {
          "duration": 0.519506,
          "end_time": "2022-08-17T03:22:45.890567",
          "exception": false,
          "start_time": "2022-08-17T03:22:45.371061",
          "status": "completed"
        },
        "tags": []
      },
      "outputs": [],
      "source": [
        "try:\n",
        "    import jax\n",
        "except ImportError:\n",
        "    raise ImportError(\"[NO JAX] Cannot import sax.nn. Please install JAX first!\")"
      ]
    },
    {
      "cell_type": "markdown",
      "id": "75fbba73",
      "metadata": {
        "papermill": {
          "duration": 0.006629,
          "end_time": "2022-08-17T03:22:45.903523",
          "exception": false,
          "start_time": "2022-08-17T03:22:45.896894",
          "status": "completed"
        },
        "tags": []
      },
      "source": [
        "## Loss"
      ]
    },
    {
      "cell_type": "code",
      "execution_count": 5,
      "id": "62c8463617c40391",
      "metadata": {
        "execution": {
          "iopub.execute_input": "2022-08-17T03:22:45.918190Z",
          "iopub.status.busy": "2022-08-17T03:22:45.917758Z",
          "iopub.status.idle": "2022-08-17T03:22:46.490582Z",
          "shell.execute_reply": "2022-08-17T03:22:46.489848Z"
        },
        "papermill": {
          "duration": 0.581076,
          "end_time": "2022-08-17T03:22:46.490696",
          "exception": false,
          "start_time": "2022-08-17T03:22:45.909620",
          "status": "completed"
        },
        "tags": []
      },
      "outputs": [],
      "source": [
        "\n",
        "from sax.nn.loss import huber_loss as huber_loss\n",
        "from sax.nn.loss import l2_reg as l2_reg\n",
        "from sax.nn.loss import mse as mse"
      ]
    },
    {
      "cell_type": "markdown",
      "id": "1a18faa2",
      "metadata": {
        "papermill": {
          "duration": 0.006253,
          "end_time": "2022-08-17T03:22:46.503378",
          "exception": false,
          "start_time": "2022-08-17T03:22:46.497125",
          "status": "completed"
        },
        "tags": []
      },
      "source": [
        "## Utils"
      ]
    },
    {
      "cell_type": "code",
      "execution_count": 6,
      "id": "4551db3b7899bab8",
      "metadata": {
        "execution": {
          "iopub.execute_input": "2022-08-17T03:22:46.519668Z",
          "iopub.status.busy": "2022-08-17T03:22:46.518979Z",
          "iopub.status.idle": "2022-08-17T03:22:46.520355Z",
          "shell.execute_reply": "2022-08-17T03:22:46.520680Z"
        },
        "papermill": {
          "duration": 0.01122,
          "end_time": "2022-08-17T03:22:46.520792",
          "exception": false,
          "start_time": "2022-08-17T03:22:46.509572",
          "status": "completed"
        },
        "tags": []
      },
      "outputs": [],
      "source": [
        "\n",
        "from sax.nn.utils import (\n",
        "    cartesian_product as cartesian_product,\n",
        "    denormalize as denormalize,\n",
        "    get_normalization as get_normalization,\n",
        "    get_df_columns as get_df_columns,\n",
        "    normalize as normalize,\n",
        ")"
      ]
    },
    {
      "cell_type": "markdown",
      "id": "ef010b3c",
      "metadata": {
        "papermill": {
          "duration": 0.006553,
          "end_time": "2022-08-17T03:22:46.533609",
          "exception": false,
          "start_time": "2022-08-17T03:22:46.527056",
          "status": "completed"
        },
        "tags": []
      },
      "source": [
        "## Core"
      ]
    },
    {
      "cell_type": "code",
      "execution_count": 7,
      "id": "c4721ac403f0edc1",
      "metadata": {
        "execution": {
          "iopub.execute_input": "2022-08-17T03:22:46.549235Z",
          "iopub.status.busy": "2022-08-17T03:22:46.548826Z",
          "iopub.status.idle": "2022-08-17T03:22:46.550030Z",
          "shell.execute_reply": "2022-08-17T03:22:46.550343Z"
        },
        "papermill": {
          "duration": 0.010632,
          "end_time": "2022-08-17T03:22:46.550452",
          "exception": false,
          "start_time": "2022-08-17T03:22:46.539820",
          "status": "completed"
        },
        "tags": []
      },
      "outputs": [],
      "source": [
        "\n",
        "from sax.nn.core import (\n",
        "    preprocess as preprocess,\n",
        "    dense as dense,\n",
        "    generate_dense_weights as generate_dense_weights,\n",
        ")"
      ]
    },
    {
      "cell_type": "markdown",
      "id": "5e96c647",
      "metadata": {
        "papermill": {
          "duration": 0.00624,
          "end_time": "2022-08-17T03:22:46.562961",
          "exception": false,
          "start_time": "2022-08-17T03:22:46.556721",
          "status": "completed"
        },
        "tags": []
      },
      "source": [
        "## IO"
      ]
    },
    {
      "cell_type": "code",
      "execution_count": 8,
      "id": "139ef3da5a52e667",
      "metadata": {
        "execution": {
          "iopub.execute_input": "2022-08-17T03:22:46.578664Z",
          "iopub.status.busy": "2022-08-17T03:22:46.578244Z",
          "iopub.status.idle": "2022-08-17T03:22:46.579870Z",
          "shell.execute_reply": "2022-08-17T03:22:46.579466Z"
        },
        "papermill": {
          "duration": 0.010759,
          "end_time": "2022-08-17T03:22:46.579961",
          "exception": false,
          "start_time": "2022-08-17T03:22:46.569202",
          "status": "completed"
        },
        "tags": []
      },
      "outputs": [],
      "source": [
        "\n",
        "from sax.nn.io import (\n",
        "    load_nn_weights_json as load_nn_weights_json,\n",
        "    save_nn_weights_json as save_nn_weights_json,\n",
        "    get_available_sizes as get_available_sizes,\n",
        "    get_dense_weights_path as get_dense_weights_path,\n",
        "    get_norm_path as get_norm_path,\n",
        "    load_nn_dense as load_nn_dense,\n",
        ")"
      ]
    }
  ],
  "metadata": {
    "kernelspec": {
      "display_name": "sax",
      "language": "python",
      "name": "sax"
    },
    "language_info": {
      "codemirror_mode": {
        "name": "ipython",
        "version": 3
      },
      "file_extension": ".py",
      "mimetype": "text/x-python",
      "name": "python",
      "nbconvert_exporter": "python",
      "pygments_lexer": "ipython3",
      "version": "3.9.0"
    },
    "papermill": {
      "default_parameters": {},
      "duration": 2.732847,
      "end_time": "2022-08-17T03:22:46.890974",
      "environment_variables": {},
      "exception": null,
      "input_path": "./nbs/09_nn.ipynb",
      "output_path": "./nbs/09_nn.ipynb",
      "parameters": {},
      "start_time": "2022-08-17T03:22:44.158127",
      "version": "2.3.4"
    }
  },
  "nbformat": 4,
  "nbformat_minor": 5
}
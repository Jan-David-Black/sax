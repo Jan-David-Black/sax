{
  "cells": [
    {
      "cell_type": "code",
      "execution_count": 1,
      "id": "5ad275d0642c965a",
      "metadata": {
        "execution": {
          "iopub.execute_input": "2022-08-07T05:30:29.738492Z",
          "iopub.status.busy": "2022-08-07T05:30:29.738023Z",
          "iopub.status.idle": "2022-08-07T05:30:29.740421Z",
          "shell.execute_reply": "2022-08-07T05:30:29.740870Z"
        },
        "papermill": {
          "duration": 0.015871,
          "end_time": "2022-08-07T05:30:29.741077",
          "exception": false,
          "start_time": "2022-08-07T05:30:29.725206",
          "status": "completed"
        },
        "tags": [
          "remove-cell"
        ]
      },
      "outputs": [],
      "source": []
    },
    {
      "cell_type": "markdown",
      "id": "36903b9f",
      "metadata": {
        "papermill": {
          "duration": 0.006281,
          "end_time": "2022-08-07T05:30:29.754086",
          "exception": false,
          "start_time": "2022-08-07T05:30:29.747805",
          "status": "completed"
        },
        "tags": []
      },
      "source": [
        "# NN - Neural Networks\n",
        "\n",
        "> Utilitites for creating advanced neural network SAX Models"
      ]
    },
    {
      "cell_type": "code",
      "execution_count": 2,
      "id": "8535c6d3f4051543",
      "metadata": {
        "execution": {
          "iopub.execute_input": "2022-08-07T05:30:29.774249Z",
          "iopub.status.busy": "2022-08-07T05:30:29.773818Z",
          "iopub.status.idle": "2022-08-07T05:30:29.775869Z",
          "shell.execute_reply": "2022-08-07T05:30:29.775525Z"
        },
        "papermill": {
          "duration": 0.015776,
          "end_time": "2022-08-07T05:30:29.775970",
          "exception": false,
          "start_time": "2022-08-07T05:30:29.760194",
          "status": "completed"
        },
        "tags": [
          "remove-cell"
        ]
      },
      "outputs": [],
      "source": [
        "import os, sys; sys.stderr = open(os.devnull, \"w\")"
      ]
    },
    {
      "cell_type": "markdown",
      "id": "24790eed-f741-4d07-91c9-a731ebcfc3f0",
      "metadata": {
        "papermill": {
          "duration": 0.00606,
          "end_time": "2022-08-07T05:30:29.788117",
          "exception": false,
          "start_time": "2022-08-07T05:30:29.782057",
          "status": "completed"
        },
        "tags": []
      },
      "source": [
        "## Check"
      ]
    },
    {
      "cell_type": "code",
      "execution_count": 3,
      "id": "71ee14ba-949f-4025-8813-5a6bf01b8464",
      "metadata": {
        "execution": {
          "iopub.execute_input": "2022-08-07T05:30:29.803748Z",
          "iopub.status.busy": "2022-08-07T05:30:29.803323Z",
          "iopub.status.idle": "2022-08-07T05:30:30.346305Z",
          "shell.execute_reply": "2022-08-07T05:30:30.345848Z"
        },
        "papermill": {
          "duration": 0.552235,
          "end_time": "2022-08-07T05:30:30.346439",
          "exception": false,
          "start_time": "2022-08-07T05:30:29.794204",
          "status": "completed"
        },
        "tags": []
      },
      "outputs": [],
      "source": [
        "try:\n",
        "    import jax\n",
        "except ImportError:\n",
        "    raise ImportError(\"[NO JAX] Cannot import sax.nn. Please install JAX first!\")"
      ]
    },
    {
      "cell_type": "markdown",
      "id": "75fbba73",
      "metadata": {
        "papermill": {
          "duration": 0.006369,
          "end_time": "2022-08-07T05:30:30.360093",
          "exception": false,
          "start_time": "2022-08-07T05:30:30.353724",
          "status": "completed"
        },
        "tags": []
      },
      "source": [
        "## Loss"
      ]
    },
    {
      "cell_type": "code",
      "execution_count": 4,
      "id": "92cf5e7a47697ccc",
      "metadata": {
        "execution": {
          "iopub.execute_input": "2022-08-07T05:30:30.376686Z",
          "iopub.status.busy": "2022-08-07T05:30:30.376214Z",
          "iopub.status.idle": "2022-08-07T05:30:30.843245Z",
          "shell.execute_reply": "2022-08-07T05:30:30.842400Z"
        },
        "papermill": {
          "duration": 0.477102,
          "end_time": "2022-08-07T05:30:30.843383",
          "exception": false,
          "start_time": "2022-08-07T05:30:30.366281",
          "status": "completed"
        },
        "tags": []
      },
      "outputs": [],
      "source": [
        "from __future__ import annotations\n",
        "\n",
        "from sax.nn.loss import huber_loss as huber_loss\n",
        "from sax.nn.loss import l2_reg as l2_reg\n",
        "from sax.nn.loss import mse as mse"
      ]
    },
    {
      "cell_type": "markdown",
      "id": "1a18faa2",
      "metadata": {
        "papermill": {
          "duration": 0.006499,
          "end_time": "2022-08-07T05:30:30.856571",
          "exception": false,
          "start_time": "2022-08-07T05:30:30.850072",
          "status": "completed"
        },
        "tags": []
      },
      "source": [
        "## Utils"
      ]
    },
    {
      "cell_type": "code",
      "execution_count": 5,
      "id": "a378d4ec44a181b7",
      "metadata": {
        "execution": {
          "iopub.execute_input": "2022-08-07T05:30:30.873646Z",
          "iopub.status.busy": "2022-08-07T05:30:30.872635Z",
          "iopub.status.idle": "2022-08-07T05:30:30.874226Z",
          "shell.execute_reply": "2022-08-07T05:30:30.874605Z"
        },
        "papermill": {
          "duration": 0.011908,
          "end_time": "2022-08-07T05:30:30.874734",
          "exception": false,
          "start_time": "2022-08-07T05:30:30.862826",
          "status": "completed"
        },
        "tags": []
      },
      "outputs": [],
      "source": [
        "\n",
        "from sax.nn.utils import (\n",
        "    cartesian_product as cartesian_product,\n",
        "    denormalize as denormalize,\n",
        "    get_normalization as get_normalization,\n",
        "    get_df_columns as get_df_columns,\n",
        "    normalize as normalize,\n",
        ")"
      ]
    },
    {
      "cell_type": "markdown",
      "id": "ef010b3c",
      "metadata": {
        "papermill": {
          "duration": 0.006314,
          "end_time": "2022-08-07T05:30:30.888009",
          "exception": false,
          "start_time": "2022-08-07T05:30:30.881695",
          "status": "completed"
        },
        "tags": []
      },
      "source": [
        "## Core"
      ]
    },
    {
      "cell_type": "code",
      "execution_count": 6,
      "id": "d18b1e34ebead59c",
      "metadata": {
        "execution": {
          "iopub.execute_input": "2022-08-07T05:30:30.904346Z",
          "iopub.status.busy": "2022-08-07T05:30:30.903925Z",
          "iopub.status.idle": "2022-08-07T05:30:30.905627Z",
          "shell.execute_reply": "2022-08-07T05:30:30.905291Z"
        },
        "papermill": {
          "duration": 0.011347,
          "end_time": "2022-08-07T05:30:30.905725",
          "exception": false,
          "start_time": "2022-08-07T05:30:30.894378",
          "status": "completed"
        },
        "tags": []
      },
      "outputs": [],
      "source": [
        "\n",
        "from sax.nn.core import (\n",
        "    preprocess as preprocess,\n",
        "    dense as dense,\n",
        "    generate_dense_weights as generate_dense_weights,\n",
        ")"
      ]
    },
    {
      "cell_type": "markdown",
      "id": "5e96c647",
      "metadata": {
        "papermill": {
          "duration": 0.006309,
          "end_time": "2022-08-07T05:30:30.918381",
          "exception": false,
          "start_time": "2022-08-07T05:30:30.912072",
          "status": "completed"
        },
        "tags": []
      },
      "source": [
        "## IO"
      ]
    },
    {
      "cell_type": "code",
      "execution_count": 7,
      "id": "23182100ddd14dc3",
      "metadata": {
        "execution": {
          "iopub.execute_input": "2022-08-07T05:30:30.933338Z",
          "iopub.status.busy": "2022-08-07T05:30:30.932917Z",
          "iopub.status.idle": "2022-08-07T05:30:30.935891Z",
          "shell.execute_reply": "2022-08-07T05:30:30.936286Z"
        },
        "papermill": {
          "duration": 0.011678,
          "end_time": "2022-08-07T05:30:30.936395",
          "exception": false,
          "start_time": "2022-08-07T05:30:30.924717",
          "status": "completed"
        },
        "tags": []
      },
      "outputs": [],
      "source": [
        "\n",
        "from sax.nn.io import (\n",
        "    load_nn_weights_json as load_nn_weights_json,\n",
        "    save_nn_weights_json as save_nn_weights_json,\n",
        "    get_available_sizes as get_available_sizes,\n",
        "    get_dense_weights_path as get_dense_weights_path,\n",
        "    get_norm_path as get_norm_path,\n",
        "    load_nn_dense as load_nn_dense,\n",
        ")"
      ]
    }
  ],
  "metadata": {
    "kernelspec": {
      "display_name": "sax-np",
      "language": "python",
      "name": "sax-np"
    },
    "language_info": {
      "codemirror_mode": {
        "name": "ipython",
        "version": 3
      },
      "file_extension": ".py",
      "mimetype": "text/x-python",
      "name": "python",
      "nbconvert_exporter": "python",
      "pygments_lexer": "ipython3",
      "version": "3.9.0"
    },
    "papermill": {
      "default_parameters": {},
      "duration": 2.765074,
      "end_time": "2022-08-07T05:30:31.349144",
      "environment_variables": {},
      "exception": null,
      "input_path": "./nbs/09_nn.ipynb",
      "output_path": "./nbs/09_nn.ipynb",
      "parameters": {},
      "start_time": "2022-08-07T05:30:28.584070",
      "version": "2.3.4"
    }
  },
  "nbformat": 4,
  "nbformat_minor": 5
}
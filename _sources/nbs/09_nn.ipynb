{
  "cells": [
    {
      "cell_type": "code",
      "execution_count": 1,
      "id": "a55e06412836ed3b",
      "metadata": {
        "execution": {
          "iopub.execute_input": "2022-08-16T04:18:39.249930Z",
          "iopub.status.busy": "2022-08-16T04:18:39.249484Z",
          "iopub.status.idle": "2022-08-16T04:18:39.252821Z",
          "shell.execute_reply": "2022-08-16T04:18:39.252415Z"
        },
        "papermill": {
          "duration": 0.013799,
          "end_time": "2022-08-16T04:18:39.252929",
          "exception": false,
          "start_time": "2022-08-16T04:18:39.239130",
          "status": "completed"
        },
        "tags": [
          "remove-cell"
        ]
      },
      "outputs": [],
      "source": []
    },
    {
      "cell_type": "markdown",
      "id": "36903b9f",
      "metadata": {
        "papermill": {
          "duration": 0.005629,
          "end_time": "2022-08-16T04:18:39.264674",
          "exception": false,
          "start_time": "2022-08-16T04:18:39.259045",
          "status": "completed"
        },
        "tags": []
      },
      "source": [
        "# Neural Networks\n",
        "\n",
        "> Utilitites for creating advanced neural network SAX Models"
      ]
    },
    {
      "cell_type": "code",
      "execution_count": 2,
      "id": "38cec5d762775fd8",
      "metadata": {
        "execution": {
          "iopub.execute_input": "2022-08-16T04:18:39.282699Z",
          "iopub.status.busy": "2022-08-16T04:18:39.282286Z",
          "iopub.status.idle": "2022-08-16T04:18:39.284145Z",
          "shell.execute_reply": "2022-08-16T04:18:39.283793Z"
        },
        "papermill": {
          "duration": 0.01398,
          "end_time": "2022-08-16T04:18:39.284229",
          "exception": false,
          "start_time": "2022-08-16T04:18:39.270249",
          "status": "completed"
        },
        "tags": [
          "hide-input"
        ]
      },
      "outputs": [],
      "source": [
        "from __future__ import annotations"
      ]
    },
    {
      "cell_type": "code",
      "execution_count": 3,
      "id": "944957278173d753",
      "metadata": {
        "execution": {
          "iopub.execute_input": "2022-08-16T04:18:39.298247Z",
          "iopub.status.busy": "2022-08-16T04:18:39.297837Z",
          "iopub.status.idle": "2022-08-16T04:18:39.299840Z",
          "shell.execute_reply": "2022-08-16T04:18:39.299475Z"
        },
        "papermill": {
          "duration": 0.010089,
          "end_time": "2022-08-16T04:18:39.299930",
          "exception": false,
          "start_time": "2022-08-16T04:18:39.289841",
          "status": "completed"
        },
        "tags": [
          "remove-cell"
        ]
      },
      "outputs": [],
      "source": [
        "import os, sys; sys.stderr = open(os.devnull, \"w\")"
      ]
    },
    {
      "cell_type": "markdown",
      "id": "24790eed-f741-4d07-91c9-a731ebcfc3f0",
      "metadata": {
        "papermill": {
          "duration": 0.005684,
          "end_time": "2022-08-16T04:18:39.311335",
          "exception": false,
          "start_time": "2022-08-16T04:18:39.305651",
          "status": "completed"
        },
        "tags": []
      },
      "source": [
        "## Check"
      ]
    },
    {
      "cell_type": "code",
      "execution_count": 4,
      "id": "71ee14ba-949f-4025-8813-5a6bf01b8464",
      "metadata": {
        "execution": {
          "iopub.execute_input": "2022-08-16T04:18:39.325900Z",
          "iopub.status.busy": "2022-08-16T04:18:39.325487Z",
          "iopub.status.idle": "2022-08-16T04:18:39.849578Z",
          "shell.execute_reply": "2022-08-16T04:18:39.849134Z"
        },
        "papermill": {
          "duration": 0.532649,
          "end_time": "2022-08-16T04:18:39.849701",
          "exception": false,
          "start_time": "2022-08-16T04:18:39.317052",
          "status": "completed"
        },
        "tags": []
      },
      "outputs": [],
      "source": [
        "try:\n",
        "    import jax\n",
        "except ImportError:\n",
        "    raise ImportError(\"[NO JAX] Cannot import sax.nn. Please install JAX first!\")"
      ]
    },
    {
      "cell_type": "markdown",
      "id": "75fbba73",
      "metadata": {
        "papermill": {
          "duration": 0.006405,
          "end_time": "2022-08-16T04:18:39.863163",
          "exception": false,
          "start_time": "2022-08-16T04:18:39.856758",
          "status": "completed"
        },
        "tags": []
      },
      "source": [
        "## Loss"
      ]
    },
    {
      "cell_type": "code",
      "execution_count": 5,
      "id": "e31d5fb86485c5b0",
      "metadata": {
        "execution": {
          "iopub.execute_input": "2022-08-16T04:18:39.878047Z",
          "iopub.status.busy": "2022-08-16T04:18:39.876719Z",
          "iopub.status.idle": "2022-08-16T04:18:40.459701Z",
          "shell.execute_reply": "2022-08-16T04:18:40.458795Z"
        },
        "papermill": {
          "duration": 0.590858,
          "end_time": "2022-08-16T04:18:40.459826",
          "exception": false,
          "start_time": "2022-08-16T04:18:39.868968",
          "status": "completed"
        },
        "tags": []
      },
      "outputs": [],
      "source": [
        "\n",
        "from sax.nn.loss import huber_loss as huber_loss\n",
        "from sax.nn.loss import l2_reg as l2_reg\n",
        "from sax.nn.loss import mse as mse"
      ]
    },
    {
      "cell_type": "markdown",
      "id": "1a18faa2",
      "metadata": {
        "papermill": {
          "duration": 0.005938,
          "end_time": "2022-08-16T04:18:40.472033",
          "exception": false,
          "start_time": "2022-08-16T04:18:40.466095",
          "status": "completed"
        },
        "tags": []
      },
      "source": [
        "## Utils"
      ]
    },
    {
      "cell_type": "code",
      "execution_count": 6,
      "id": "b776fdb930395459",
      "metadata": {
        "execution": {
          "iopub.execute_input": "2022-08-16T04:18:40.488166Z",
          "iopub.status.busy": "2022-08-16T04:18:40.487213Z",
          "iopub.status.idle": "2022-08-16T04:18:40.488663Z",
          "shell.execute_reply": "2022-08-16T04:18:40.488990Z"
        },
        "papermill": {
          "duration": 0.010953,
          "end_time": "2022-08-16T04:18:40.489102",
          "exception": false,
          "start_time": "2022-08-16T04:18:40.478149",
          "status": "completed"
        },
        "tags": []
      },
      "outputs": [],
      "source": [
        "\n",
        "from sax.nn.utils import (\n",
        "    cartesian_product as cartesian_product,\n",
        "    denormalize as denormalize,\n",
        "    get_normalization as get_normalization,\n",
        "    get_df_columns as get_df_columns,\n",
        "    normalize as normalize,\n",
        ")"
      ]
    },
    {
      "cell_type": "markdown",
      "id": "ef010b3c",
      "metadata": {
        "papermill": {
          "duration": 0.005936,
          "end_time": "2022-08-16T04:18:40.500969",
          "exception": false,
          "start_time": "2022-08-16T04:18:40.495033",
          "status": "completed"
        },
        "tags": []
      },
      "source": [
        "## Core"
      ]
    },
    {
      "cell_type": "code",
      "execution_count": 7,
      "id": "4d19e0a97891c504",
      "metadata": {
        "execution": {
          "iopub.execute_input": "2022-08-16T04:18:40.515987Z",
          "iopub.status.busy": "2022-08-16T04:18:40.514767Z",
          "iopub.status.idle": "2022-08-16T04:18:40.517278Z",
          "shell.execute_reply": "2022-08-16T04:18:40.517682Z"
        },
        "papermill": {
          "duration": 0.010844,
          "end_time": "2022-08-16T04:18:40.517805",
          "exception": false,
          "start_time": "2022-08-16T04:18:40.506961",
          "status": "completed"
        },
        "tags": []
      },
      "outputs": [],
      "source": [
        "\n",
        "from sax.nn.core import (\n",
        "    preprocess as preprocess,\n",
        "    dense as dense,\n",
        "    generate_dense_weights as generate_dense_weights,\n",
        ")"
      ]
    },
    {
      "cell_type": "markdown",
      "id": "5e96c647",
      "metadata": {
        "papermill": {
          "duration": 0.00606,
          "end_time": "2022-08-16T04:18:40.530140",
          "exception": false,
          "start_time": "2022-08-16T04:18:40.524080",
          "status": "completed"
        },
        "tags": []
      },
      "source": [
        "## IO"
      ]
    },
    {
      "cell_type": "code",
      "execution_count": 8,
      "id": "8411da95c7ab493d",
      "metadata": {
        "execution": {
          "iopub.execute_input": "2022-08-16T04:18:40.546130Z",
          "iopub.status.busy": "2022-08-16T04:18:40.545700Z",
          "iopub.status.idle": "2022-08-16T04:18:40.547076Z",
          "shell.execute_reply": "2022-08-16T04:18:40.547461Z"
        },
        "papermill": {
          "duration": 0.011435,
          "end_time": "2022-08-16T04:18:40.547595",
          "exception": false,
          "start_time": "2022-08-16T04:18:40.536160",
          "status": "completed"
        },
        "tags": []
      },
      "outputs": [],
      "source": [
        "\n",
        "from sax.nn.io import (\n",
        "    load_nn_weights_json as load_nn_weights_json,\n",
        "    save_nn_weights_json as save_nn_weights_json,\n",
        "    get_available_sizes as get_available_sizes,\n",
        "    get_dense_weights_path as get_dense_weights_path,\n",
        "    get_norm_path as get_norm_path,\n",
        "    load_nn_dense as load_nn_dense,\n",
        ")"
      ]
    }
  ],
  "metadata": {
    "kernelspec": {
      "display_name": "sax",
      "language": "python",
      "name": "sax"
    },
    "language_info": {
      "codemirror_mode": {
        "name": "ipython",
        "version": 3
      },
      "file_extension": ".py",
      "mimetype": "text/x-python",
      "name": "python",
      "nbconvert_exporter": "python",
      "pygments_lexer": "ipython3",
      "version": "3.9.0"
    },
    "papermill": {
      "default_parameters": {},
      "duration": 2.752077,
      "end_time": "2022-08-16T04:18:40.859062",
      "environment_variables": {},
      "exception": null,
      "input_path": "./nbs/09_nn.ipynb",
      "output_path": "./nbs/09_nn.ipynb",
      "parameters": {},
      "start_time": "2022-08-16T04:18:38.106985",
      "version": "2.3.4"
    }
  },
  "nbformat": 4,
  "nbformat_minor": 5
}
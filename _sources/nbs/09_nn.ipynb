{
  "cells": [
    {
      "cell_type": "code",
      "execution_count": 1,
      "id": "1fbbf273591c8f16",
      "metadata": {
        "execution": {
          "iopub.execute_input": "2022-08-04T05:48:32.242412Z",
          "iopub.status.busy": "2022-08-04T05:48:32.241891Z",
          "iopub.status.idle": "2022-08-04T05:48:32.244684Z",
          "shell.execute_reply": "2022-08-04T05:48:32.244191Z"
        },
        "papermill": {
          "duration": 0.017809,
          "end_time": "2022-08-04T05:48:32.244818",
          "exception": false,
          "start_time": "2022-08-04T05:48:32.227009",
          "status": "completed"
        },
        "tags": [
          "remove-cell"
        ]
      },
      "outputs": [],
      "source": []
    },
    {
      "cell_type": "markdown",
      "id": "36903b9f",
      "metadata": {
        "papermill": {
          "duration": 0.007126,
          "end_time": "2022-08-04T05:48:32.259619",
          "exception": false,
          "start_time": "2022-08-04T05:48:32.252493",
          "status": "completed"
        },
        "tags": []
      },
      "source": [
        "# NN - Neural Networks\n",
        "\n",
        "> Utilitites for creating advanced neural network SAX Models"
      ]
    },
    {
      "cell_type": "code",
      "execution_count": 2,
      "id": "f4d69cd592b456aa",
      "metadata": {
        "execution": {
          "iopub.execute_input": "2022-08-04T05:48:32.283315Z",
          "iopub.status.busy": "2022-08-04T05:48:32.282776Z",
          "iopub.status.idle": "2022-08-04T05:48:32.285015Z",
          "shell.execute_reply": "2022-08-04T05:48:32.284573Z"
        },
        "papermill": {
          "duration": 0.018423,
          "end_time": "2022-08-04T05:48:32.285128",
          "exception": false,
          "start_time": "2022-08-04T05:48:32.266705",
          "status": "completed"
        },
        "tags": [
          "remove-cell"
        ]
      },
      "outputs": [],
      "source": [
        "import os, sys; sys.stderr = open(os.devnull, \"w\")"
      ]
    },
    {
      "cell_type": "markdown",
      "id": "24790eed-f741-4d07-91c9-a731ebcfc3f0",
      "metadata": {
        "papermill": {
          "duration": 0.00708,
          "end_time": "2022-08-04T05:48:32.299352",
          "exception": false,
          "start_time": "2022-08-04T05:48:32.292272",
          "status": "completed"
        },
        "tags": []
      },
      "source": [
        "## Check"
      ]
    },
    {
      "cell_type": "code",
      "execution_count": 3,
      "id": "71ee14ba-949f-4025-8813-5a6bf01b8464",
      "metadata": {
        "execution": {
          "iopub.execute_input": "2022-08-04T05:48:32.318187Z",
          "iopub.status.busy": "2022-08-04T05:48:32.317676Z",
          "iopub.status.idle": "2022-08-04T05:48:32.972414Z",
          "shell.execute_reply": "2022-08-04T05:48:32.971588Z"
        },
        "papermill": {
          "duration": 0.666107,
          "end_time": "2022-08-04T05:48:32.972551",
          "exception": false,
          "start_time": "2022-08-04T05:48:32.306444",
          "status": "completed"
        },
        "tags": []
      },
      "outputs": [],
      "source": [
        "try:\n",
        "    import jax\n",
        "except ImportError:\n",
        "    raise ImportError(\"[NO JAX] Cannot import sax.nn. Please install JAX first!\")"
      ]
    },
    {
      "cell_type": "markdown",
      "id": "75fbba73",
      "metadata": {
        "papermill": {
          "duration": 0.009086,
          "end_time": "2022-08-04T05:48:32.991001",
          "exception": false,
          "start_time": "2022-08-04T05:48:32.981915",
          "status": "completed"
        },
        "tags": []
      },
      "source": [
        "## Loss"
      ]
    },
    {
      "cell_type": "code",
      "execution_count": 4,
      "id": "ac337e112c25fac9",
      "metadata": {
        "execution": {
          "iopub.execute_input": "2022-08-04T05:48:33.013846Z",
          "iopub.status.busy": "2022-08-04T05:48:33.013024Z",
          "iopub.status.idle": "2022-08-04T05:48:33.571587Z",
          "shell.execute_reply": "2022-08-04T05:48:33.571010Z"
        },
        "papermill": {
          "duration": 0.572094,
          "end_time": "2022-08-04T05:48:33.571712",
          "exception": false,
          "start_time": "2022-08-04T05:48:32.999618",
          "status": "completed"
        },
        "tags": []
      },
      "outputs": [],
      "source": [
        "from __future__ import annotations\n",
        "\n",
        "from sax.nn.loss import huber_loss as huber_loss\n",
        "from sax.nn.loss import l2_reg as l2_reg\n",
        "from sax.nn.loss import mse as mse"
      ]
    },
    {
      "cell_type": "markdown",
      "id": "1a18faa2",
      "metadata": {
        "papermill": {
          "duration": 0.00757,
          "end_time": "2022-08-04T05:48:33.586988",
          "exception": false,
          "start_time": "2022-08-04T05:48:33.579418",
          "status": "completed"
        },
        "tags": []
      },
      "source": [
        "## Utils"
      ]
    },
    {
      "cell_type": "code",
      "execution_count": 5,
      "id": "ae623f77f9d26cbc",
      "metadata": {
        "execution": {
          "iopub.execute_input": "2022-08-04T05:48:33.607755Z",
          "iopub.status.busy": "2022-08-04T05:48:33.606616Z",
          "iopub.status.idle": "2022-08-04T05:48:33.608320Z",
          "shell.execute_reply": "2022-08-04T05:48:33.608703Z"
        },
        "papermill": {
          "duration": 0.014415,
          "end_time": "2022-08-04T05:48:33.608847",
          "exception": false,
          "start_time": "2022-08-04T05:48:33.594432",
          "status": "completed"
        },
        "tags": []
      },
      "outputs": [],
      "source": [
        "\n",
        "from sax.nn.utils import (\n",
        "    cartesian_product as cartesian_product,\n",
        "    denormalize as denormalize,\n",
        "    get_normalization as get_normalization,\n",
        "    get_df_columns as get_df_columns,\n",
        "    normalize as normalize,\n",
        ")"
      ]
    },
    {
      "cell_type": "markdown",
      "id": "ef010b3c",
      "metadata": {
        "papermill": {
          "duration": 0.007509,
          "end_time": "2022-08-04T05:48:33.623813",
          "exception": false,
          "start_time": "2022-08-04T05:48:33.616304",
          "status": "completed"
        },
        "tags": []
      },
      "source": [
        "## Core"
      ]
    },
    {
      "cell_type": "code",
      "execution_count": 6,
      "id": "e25cd092918c44ca",
      "metadata": {
        "execution": {
          "iopub.execute_input": "2022-08-04T05:48:33.643447Z",
          "iopub.status.busy": "2022-08-04T05:48:33.642918Z",
          "iopub.status.idle": "2022-08-04T05:48:33.643954Z",
          "shell.execute_reply": "2022-08-04T05:48:33.644422Z"
        },
        "papermill": {
          "duration": 0.013248,
          "end_time": "2022-08-04T05:48:33.644565",
          "exception": false,
          "start_time": "2022-08-04T05:48:33.631317",
          "status": "completed"
        },
        "tags": []
      },
      "outputs": [],
      "source": [
        "\n",
        "from sax.nn.core import (\n",
        "    preprocess as preprocess,\n",
        "    dense as dense,\n",
        "    generate_dense_weights as generate_dense_weights,\n",
        ")"
      ]
    },
    {
      "cell_type": "markdown",
      "id": "5e96c647",
      "metadata": {
        "papermill": {
          "duration": 0.007455,
          "end_time": "2022-08-04T05:48:33.659590",
          "exception": false,
          "start_time": "2022-08-04T05:48:33.652135",
          "status": "completed"
        },
        "tags": []
      },
      "source": [
        "## IO"
      ]
    },
    {
      "cell_type": "code",
      "execution_count": 7,
      "id": "9c623efe739e5c9d",
      "metadata": {
        "execution": {
          "iopub.execute_input": "2022-08-04T05:48:33.679664Z",
          "iopub.status.busy": "2022-08-04T05:48:33.679148Z",
          "iopub.status.idle": "2022-08-04T05:48:33.680923Z",
          "shell.execute_reply": "2022-08-04T05:48:33.681392Z"
        },
        "papermill": {
          "duration": 0.014168,
          "end_time": "2022-08-04T05:48:33.681530",
          "exception": false,
          "start_time": "2022-08-04T05:48:33.667362",
          "status": "completed"
        },
        "tags": []
      },
      "outputs": [],
      "source": [
        "\n",
        "from sax.nn.io import (\n",
        "    load_nn_weights_json as load_nn_weights_json,\n",
        "    save_nn_weights_json as save_nn_weights_json,\n",
        "    get_available_sizes as get_available_sizes,\n",
        "    get_dense_weights_path as get_dense_weights_path,\n",
        "    get_norm_path as get_norm_path,\n",
        "    load_nn_dense as load_nn_dense,\n",
        ")"
      ]
    }
  ],
  "metadata": {
    "kernelspec": {
      "display_name": "sax-np",
      "language": "python",
      "name": "sax-np"
    },
    "language_info": {
      "codemirror_mode": {
        "name": "ipython",
        "version": 3
      },
      "file_extension": ".py",
      "mimetype": "text/x-python",
      "name": "python",
      "nbconvert_exporter": "python",
      "pygments_lexer": "ipython3",
      "version": "3.9.0"
    },
    "papermill": {
      "default_parameters": {},
      "duration": 3.389639,
      "end_time": "2022-08-04T05:48:34.097108",
      "environment_variables": {},
      "exception": null,
      "input_path": "./nbs/09_nn.ipynb",
      "output_path": "./nbs/09_nn.ipynb",
      "parameters": {},
      "start_time": "2022-08-04T05:48:30.707469",
      "version": "2.3.4"
    }
  },
  "nbformat": 4,
  "nbformat_minor": 5
}
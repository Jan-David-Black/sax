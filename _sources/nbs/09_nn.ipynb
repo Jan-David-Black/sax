{
  "cells": [
    {
      "cell_type": "code",
      "execution_count": 1,
      "id": "7596612897f973e1",
      "metadata": {
        "execution": {
          "iopub.execute_input": "2022-08-10T14:57:47.511332Z",
          "iopub.status.busy": "2022-08-10T14:57:47.510899Z",
          "iopub.status.idle": "2022-08-10T14:57:47.512956Z",
          "shell.execute_reply": "2022-08-10T14:57:47.512573Z"
        },
        "papermill": {
          "duration": 0.013191,
          "end_time": "2022-08-10T14:57:47.513059",
          "exception": false,
          "start_time": "2022-08-10T14:57:47.499868",
          "status": "completed"
        },
        "tags": [
          "remove-cell"
        ]
      },
      "outputs": [],
      "source": []
    },
    {
      "cell_type": "markdown",
      "id": "36903b9f",
      "metadata": {
        "papermill": {
          "duration": 0.006244,
          "end_time": "2022-08-10T14:57:47.526105",
          "exception": false,
          "start_time": "2022-08-10T14:57:47.519861",
          "status": "completed"
        },
        "tags": []
      },
      "source": [
        "# NN - Neural Networks\n",
        "\n",
        "> Utilitites for creating advanced neural network SAX Models"
      ]
    },
    {
      "cell_type": "code",
      "execution_count": 2,
      "id": "2f2df1b02f05daa5",
      "metadata": {
        "execution": {
          "iopub.execute_input": "2022-08-10T14:57:47.545137Z",
          "iopub.status.busy": "2022-08-10T14:57:47.544734Z",
          "iopub.status.idle": "2022-08-10T14:57:47.546627Z",
          "shell.execute_reply": "2022-08-10T14:57:47.546295Z"
        },
        "papermill": {
          "duration": 0.014399,
          "end_time": "2022-08-10T14:57:47.546732",
          "exception": false,
          "start_time": "2022-08-10T14:57:47.532333",
          "status": "completed"
        },
        "tags": [
          "remove-cell"
        ]
      },
      "outputs": [],
      "source": [
        "import os, sys; sys.stderr = open(os.devnull, \"w\")"
      ]
    },
    {
      "cell_type": "markdown",
      "id": "24790eed-f741-4d07-91c9-a731ebcfc3f0",
      "metadata": {
        "papermill": {
          "duration": 0.006163,
          "end_time": "2022-08-10T14:57:47.559130",
          "exception": false,
          "start_time": "2022-08-10T14:57:47.552967",
          "status": "completed"
        },
        "tags": []
      },
      "source": [
        "## Check"
      ]
    },
    {
      "cell_type": "code",
      "execution_count": 3,
      "id": "71ee14ba-949f-4025-8813-5a6bf01b8464",
      "metadata": {
        "execution": {
          "iopub.execute_input": "2022-08-10T14:57:47.574786Z",
          "iopub.status.busy": "2022-08-10T14:57:47.574366Z",
          "iopub.status.idle": "2022-08-10T14:57:48.076186Z",
          "shell.execute_reply": "2022-08-10T14:57:48.075807Z"
        },
        "papermill": {
          "duration": 0.51056,
          "end_time": "2022-08-10T14:57:48.076292",
          "exception": false,
          "start_time": "2022-08-10T14:57:47.565732",
          "status": "completed"
        },
        "tags": []
      },
      "outputs": [],
      "source": [
        "try:\n",
        "    import jax\n",
        "except ImportError:\n",
        "    raise ImportError(\"[NO JAX] Cannot import sax.nn. Please install JAX first!\")"
      ]
    },
    {
      "cell_type": "markdown",
      "id": "75fbba73",
      "metadata": {
        "papermill": {
          "duration": 0.006526,
          "end_time": "2022-08-10T14:57:48.089400",
          "exception": false,
          "start_time": "2022-08-10T14:57:48.082874",
          "status": "completed"
        },
        "tags": []
      },
      "source": [
        "## Loss"
      ]
    },
    {
      "cell_type": "code",
      "execution_count": 4,
      "id": "8049d43cf1d12e27",
      "metadata": {
        "execution": {
          "iopub.execute_input": "2022-08-10T14:57:48.105153Z",
          "iopub.status.busy": "2022-08-10T14:57:48.103817Z",
          "iopub.status.idle": "2022-08-10T14:57:48.534910Z",
          "shell.execute_reply": "2022-08-10T14:57:48.534132Z"
        },
        "papermill": {
          "duration": 0.439246,
          "end_time": "2022-08-10T14:57:48.535033",
          "exception": false,
          "start_time": "2022-08-10T14:57:48.095787",
          "status": "completed"
        },
        "tags": []
      },
      "outputs": [],
      "source": [
        "from __future__ import annotations\n",
        "\n",
        "from sax.nn.loss import huber_loss as huber_loss\n",
        "from sax.nn.loss import l2_reg as l2_reg\n",
        "from sax.nn.loss import mse as mse"
      ]
    },
    {
      "cell_type": "markdown",
      "id": "1a18faa2",
      "metadata": {
        "papermill": {
          "duration": 0.006705,
          "end_time": "2022-08-10T14:57:48.548523",
          "exception": false,
          "start_time": "2022-08-10T14:57:48.541818",
          "status": "completed"
        },
        "tags": []
      },
      "source": [
        "## Utils"
      ]
    },
    {
      "cell_type": "code",
      "execution_count": 5,
      "id": "c6c2de4c206c9a6d",
      "metadata": {
        "execution": {
          "iopub.execute_input": "2022-08-10T14:57:48.565655Z",
          "iopub.status.busy": "2022-08-10T14:57:48.564965Z",
          "iopub.status.idle": "2022-08-10T14:57:48.566218Z",
          "shell.execute_reply": "2022-08-10T14:57:48.566533Z"
        },
        "papermill": {
          "duration": 0.011562,
          "end_time": "2022-08-10T14:57:48.566648",
          "exception": false,
          "start_time": "2022-08-10T14:57:48.555086",
          "status": "completed"
        },
        "tags": []
      },
      "outputs": [],
      "source": [
        "\n",
        "from sax.nn.utils import (\n",
        "    cartesian_product as cartesian_product,\n",
        "    denormalize as denormalize,\n",
        "    get_normalization as get_normalization,\n",
        "    get_df_columns as get_df_columns,\n",
        "    normalize as normalize,\n",
        ")"
      ]
    },
    {
      "cell_type": "markdown",
      "id": "ef010b3c",
      "metadata": {
        "papermill": {
          "duration": 0.006532,
          "end_time": "2022-08-10T14:57:48.579836",
          "exception": false,
          "start_time": "2022-08-10T14:57:48.573304",
          "status": "completed"
        },
        "tags": []
      },
      "source": [
        "## Core"
      ]
    },
    {
      "cell_type": "code",
      "execution_count": 6,
      "id": "190db28a734481eb",
      "metadata": {
        "execution": {
          "iopub.execute_input": "2022-08-10T14:57:48.596493Z",
          "iopub.status.busy": "2022-08-10T14:57:48.596080Z",
          "iopub.status.idle": "2022-08-10T14:57:48.597607Z",
          "shell.execute_reply": "2022-08-10T14:57:48.597220Z"
        },
        "papermill": {
          "duration": 0.011246,
          "end_time": "2022-08-10T14:57:48.597699",
          "exception": false,
          "start_time": "2022-08-10T14:57:48.586453",
          "status": "completed"
        },
        "tags": []
      },
      "outputs": [],
      "source": [
        "\n",
        "from sax.nn.core import (\n",
        "    preprocess as preprocess,\n",
        "    dense as dense,\n",
        "    generate_dense_weights as generate_dense_weights,\n",
        ")"
      ]
    },
    {
      "cell_type": "markdown",
      "id": "5e96c647",
      "metadata": {
        "papermill": {
          "duration": 0.00655,
          "end_time": "2022-08-10T14:57:48.610911",
          "exception": false,
          "start_time": "2022-08-10T14:57:48.604361",
          "status": "completed"
        },
        "tags": []
      },
      "source": [
        "## IO"
      ]
    },
    {
      "cell_type": "code",
      "execution_count": 7,
      "id": "b3e3a14708f777f3",
      "metadata": {
        "execution": {
          "iopub.execute_input": "2022-08-10T14:57:48.627637Z",
          "iopub.status.busy": "2022-08-10T14:57:48.627214Z",
          "iopub.status.idle": "2022-08-10T14:57:48.628734Z",
          "shell.execute_reply": "2022-08-10T14:57:48.628414Z"
        },
        "papermill": {
          "duration": 0.011323,
          "end_time": "2022-08-10T14:57:48.628826",
          "exception": false,
          "start_time": "2022-08-10T14:57:48.617503",
          "status": "completed"
        },
        "tags": []
      },
      "outputs": [],
      "source": [
        "\n",
        "from sax.nn.io import (\n",
        "    load_nn_weights_json as load_nn_weights_json,\n",
        "    save_nn_weights_json as save_nn_weights_json,\n",
        "    get_available_sizes as get_available_sizes,\n",
        "    get_dense_weights_path as get_dense_weights_path,\n",
        "    get_norm_path as get_norm_path,\n",
        "    load_nn_dense as load_nn_dense,\n",
        ")"
      ]
    }
  ],
  "metadata": {
    "kernelspec": {
      "display_name": "sax-np",
      "language": "python",
      "name": "sax-np"
    },
    "language_info": {
      "codemirror_mode": {
        "name": "ipython",
        "version": 3
      },
      "file_extension": ".py",
      "mimetype": "text/x-python",
      "name": "python",
      "nbconvert_exporter": "python",
      "pygments_lexer": "ipython3",
      "version": "3.9.0"
    },
    "papermill": {
      "default_parameters": {},
      "duration": 3.35655,
      "end_time": "2022-08-10T14:57:49.739407",
      "environment_variables": {},
      "exception": null,
      "input_path": "./nbs/09_nn.ipynb",
      "output_path": "./nbs/09_nn.ipynb",
      "parameters": {},
      "start_time": "2022-08-10T14:57:46.382857",
      "version": "2.3.4"
    }
  },
  "nbformat": 4,
  "nbformat_minor": 5
}
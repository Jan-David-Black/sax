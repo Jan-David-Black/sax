{
  "cells": [
    {
      "cell_type": "code",
      "execution_count": 1,
      "id": "6e5c8600ec26ccb4",
      "metadata": {
        "execution": {
          "iopub.execute_input": "2022-08-10T16:01:19.602836Z",
          "iopub.status.busy": "2022-08-10T16:01:19.602386Z",
          "iopub.status.idle": "2022-08-10T16:01:19.604961Z",
          "shell.execute_reply": "2022-08-10T16:01:19.605282Z"
        },
        "papermill": {
          "duration": 0.015021,
          "end_time": "2022-08-10T16:01:19.605473",
          "exception": false,
          "start_time": "2022-08-10T16:01:19.590452",
          "status": "completed"
        },
        "tags": [
          "remove-cell"
        ]
      },
      "outputs": [],
      "source": []
    },
    {
      "cell_type": "markdown",
      "id": "36903b9f",
      "metadata": {
        "papermill": {
          "duration": 0.006505,
          "end_time": "2022-08-10T16:01:19.619013",
          "exception": false,
          "start_time": "2022-08-10T16:01:19.612508",
          "status": "completed"
        },
        "tags": []
      },
      "source": [
        "# Neural Networks\n",
        "\n",
        "> Utilitites for creating advanced neural network SAX Models"
      ]
    },
    {
      "cell_type": "code",
      "execution_count": 2,
      "id": "9d7a24c8bcd77e04",
      "metadata": {
        "execution": {
          "iopub.execute_input": "2022-08-10T16:01:19.638935Z",
          "iopub.status.busy": "2022-08-10T16:01:19.636266Z",
          "iopub.status.idle": "2022-08-10T16:01:19.640832Z",
          "shell.execute_reply": "2022-08-10T16:01:19.640489Z"
        },
        "papermill": {
          "duration": 0.015525,
          "end_time": "2022-08-10T16:01:19.640926",
          "exception": false,
          "start_time": "2022-08-10T16:01:19.625401",
          "status": "completed"
        },
        "tags": [
          "hide-input"
        ]
      },
      "outputs": [],
      "source": [
        "from __future__ import annotations"
      ]
    },
    {
      "cell_type": "code",
      "execution_count": 3,
      "id": "e6d3409875cfe41f",
      "metadata": {
        "execution": {
          "iopub.execute_input": "2022-08-10T16:01:19.656861Z",
          "iopub.status.busy": "2022-08-10T16:01:19.656438Z",
          "iopub.status.idle": "2022-08-10T16:01:19.658002Z",
          "shell.execute_reply": "2022-08-10T16:01:19.657671Z"
        },
        "papermill": {
          "duration": 0.010738,
          "end_time": "2022-08-10T16:01:19.658094",
          "exception": false,
          "start_time": "2022-08-10T16:01:19.647356",
          "status": "completed"
        },
        "tags": [
          "remove-cell"
        ]
      },
      "outputs": [],
      "source": [
        "import os, sys; sys.stderr = open(os.devnull, \"w\")"
      ]
    },
    {
      "cell_type": "markdown",
      "id": "24790eed-f741-4d07-91c9-a731ebcfc3f0",
      "metadata": {
        "papermill": {
          "duration": 0.006432,
          "end_time": "2022-08-10T16:01:19.670942",
          "exception": false,
          "start_time": "2022-08-10T16:01:19.664510",
          "status": "completed"
        },
        "tags": []
      },
      "source": [
        "## Check"
      ]
    },
    {
      "cell_type": "code",
      "execution_count": 4,
      "id": "71ee14ba-949f-4025-8813-5a6bf01b8464",
      "metadata": {
        "execution": {
          "iopub.execute_input": "2022-08-10T16:01:19.686738Z",
          "iopub.status.busy": "2022-08-10T16:01:19.686322Z",
          "iopub.status.idle": "2022-08-10T16:01:20.222366Z",
          "shell.execute_reply": "2022-08-10T16:01:20.221906Z"
        },
        "papermill": {
          "duration": 0.545059,
          "end_time": "2022-08-10T16:01:20.222498",
          "exception": false,
          "start_time": "2022-08-10T16:01:19.677439",
          "status": "completed"
        },
        "tags": []
      },
      "outputs": [],
      "source": [
        "try:\n",
        "    import jax\n",
        "except ImportError:\n",
        "    raise ImportError(\"[NO JAX] Cannot import sax.nn. Please install JAX first!\")"
      ]
    },
    {
      "cell_type": "markdown",
      "id": "75fbba73",
      "metadata": {
        "papermill": {
          "duration": 0.006964,
          "end_time": "2022-08-10T16:01:20.236928",
          "exception": false,
          "start_time": "2022-08-10T16:01:20.229964",
          "status": "completed"
        },
        "tags": []
      },
      "source": [
        "## Loss"
      ]
    },
    {
      "cell_type": "code",
      "execution_count": 5,
      "id": "e898e94cdf36cecd",
      "metadata": {
        "execution": {
          "iopub.execute_input": "2022-08-10T16:01:20.253958Z",
          "iopub.status.busy": "2022-08-10T16:01:20.253523Z",
          "iopub.status.idle": "2022-08-10T16:01:20.712460Z",
          "shell.execute_reply": "2022-08-10T16:01:20.711986Z"
        },
        "papermill": {
          "duration": 0.469023,
          "end_time": "2022-08-10T16:01:20.712603",
          "exception": false,
          "start_time": "2022-08-10T16:01:20.243580",
          "status": "completed"
        },
        "tags": []
      },
      "outputs": [],
      "source": [
        "\n",
        "from sax.nn.loss import huber_loss as huber_loss\n",
        "from sax.nn.loss import l2_reg as l2_reg\n",
        "from sax.nn.loss import mse as mse"
      ]
    },
    {
      "cell_type": "markdown",
      "id": "1a18faa2",
      "metadata": {
        "papermill": {
          "duration": 0.007038,
          "end_time": "2022-08-10T16:01:20.727083",
          "exception": false,
          "start_time": "2022-08-10T16:01:20.720045",
          "status": "completed"
        },
        "tags": []
      },
      "source": [
        "## Utils"
      ]
    },
    {
      "cell_type": "code",
      "execution_count": 6,
      "id": "4643b0067730f4b7",
      "metadata": {
        "execution": {
          "iopub.execute_input": "2022-08-10T16:01:20.744625Z",
          "iopub.status.busy": "2022-08-10T16:01:20.744173Z",
          "iopub.status.idle": "2022-08-10T16:01:20.745223Z",
          "shell.execute_reply": "2022-08-10T16:01:20.745576Z"
        },
        "papermill": {
          "duration": 0.011889,
          "end_time": "2022-08-10T16:01:20.745693",
          "exception": false,
          "start_time": "2022-08-10T16:01:20.733804",
          "status": "completed"
        },
        "tags": []
      },
      "outputs": [],
      "source": [
        "\n",
        "from sax.nn.utils import (\n",
        "    cartesian_product as cartesian_product,\n",
        "    denormalize as denormalize,\n",
        "    get_normalization as get_normalization,\n",
        "    get_df_columns as get_df_columns,\n",
        "    normalize as normalize,\n",
        ")"
      ]
    },
    {
      "cell_type": "markdown",
      "id": "ef010b3c",
      "metadata": {
        "papermill": {
          "duration": 0.006723,
          "end_time": "2022-08-10T16:01:20.759191",
          "exception": false,
          "start_time": "2022-08-10T16:01:20.752468",
          "status": "completed"
        },
        "tags": []
      },
      "source": [
        "## Core"
      ]
    },
    {
      "cell_type": "code",
      "execution_count": 7,
      "id": "e5c41058f2a0f7d5",
      "metadata": {
        "execution": {
          "iopub.execute_input": "2022-08-10T16:01:20.775999Z",
          "iopub.status.busy": "2022-08-10T16:01:20.775542Z",
          "iopub.status.idle": "2022-08-10T16:01:20.776651Z",
          "shell.execute_reply": "2022-08-10T16:01:20.777003Z"
        },
        "papermill": {
          "duration": 0.011157,
          "end_time": "2022-08-10T16:01:20.777108",
          "exception": false,
          "start_time": "2022-08-10T16:01:20.765951",
          "status": "completed"
        },
        "tags": []
      },
      "outputs": [],
      "source": [
        "\n",
        "from sax.nn.core import (\n",
        "    preprocess as preprocess,\n",
        "    dense as dense,\n",
        "    generate_dense_weights as generate_dense_weights,\n",
        ")"
      ]
    },
    {
      "cell_type": "markdown",
      "id": "5e96c647",
      "metadata": {
        "papermill": {
          "duration": 0.006765,
          "end_time": "2022-08-10T16:01:20.790636",
          "exception": false,
          "start_time": "2022-08-10T16:01:20.783871",
          "status": "completed"
        },
        "tags": []
      },
      "source": [
        "## IO"
      ]
    },
    {
      "cell_type": "code",
      "execution_count": 8,
      "id": "0d5d47db911382de",
      "metadata": {
        "execution": {
          "iopub.execute_input": "2022-08-10T16:01:20.807697Z",
          "iopub.status.busy": "2022-08-10T16:01:20.807241Z",
          "iopub.status.idle": "2022-08-10T16:01:20.808341Z",
          "shell.execute_reply": "2022-08-10T16:01:20.808696Z"
        },
        "papermill": {
          "duration": 0.01134,
          "end_time": "2022-08-10T16:01:20.808799",
          "exception": false,
          "start_time": "2022-08-10T16:01:20.797459",
          "status": "completed"
        },
        "tags": []
      },
      "outputs": [],
      "source": [
        "\n",
        "from sax.nn.io import (\n",
        "    load_nn_weights_json as load_nn_weights_json,\n",
        "    save_nn_weights_json as save_nn_weights_json,\n",
        "    get_available_sizes as get_available_sizes,\n",
        "    get_dense_weights_path as get_dense_weights_path,\n",
        "    get_norm_path as get_norm_path,\n",
        "    load_nn_dense as load_nn_dense,\n",
        ")"
      ]
    }
  ],
  "metadata": {
    "kernelspec": {
      "display_name": "sax",
      "language": "python",
      "name": "sax"
    },
    "language_info": {
      "codemirror_mode": {
        "name": "ipython",
        "version": 3
      },
      "file_extension": ".py",
      "mimetype": "text/x-python",
      "name": "python",
      "nbconvert_exporter": "python",
      "pygments_lexer": "ipython3",
      "version": "3.9.0"
    },
    "papermill": {
      "default_parameters": {},
      "duration": 2.663039,
      "end_time": "2022-08-10T16:01:21.121539",
      "environment_variables": {},
      "exception": null,
      "input_path": "./nbs/09_nn.ipynb",
      "output_path": "./nbs/09_nn.ipynb",
      "parameters": {},
      "start_time": "2022-08-10T16:01:18.458500",
      "version": "2.3.4"
    }
  },
  "nbformat": 4,
  "nbformat_minor": 5
}
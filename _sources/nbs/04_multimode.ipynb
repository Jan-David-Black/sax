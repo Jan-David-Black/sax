{
  "cells": [
    {
      "cell_type": "code",
      "execution_count": 1,
      "id": "978b433d0bffb92b",
      "metadata": {
        "execution": {
          "iopub.execute_input": "2022-08-16T04:18:24.737974Z",
          "iopub.status.busy": "2022-08-16T04:18:24.737540Z",
          "iopub.status.idle": "2022-08-16T04:18:24.740134Z",
          "shell.execute_reply": "2022-08-16T04:18:24.740473Z"
        },
        "papermill": {
          "duration": 0.015065,
          "end_time": "2022-08-16T04:18:24.740651",
          "exception": false,
          "start_time": "2022-08-16T04:18:24.725586",
          "status": "completed"
        },
        "tags": [
          "remove-cell"
        ]
      },
      "outputs": [],
      "source": []
    },
    {
      "cell_type": "markdown",
      "id": "60e8c162",
      "metadata": {
        "papermill": {
          "duration": 0.006536,
          "end_time": "2022-08-16T04:18:24.754237",
          "exception": false,
          "start_time": "2022-08-16T04:18:24.747701",
          "status": "completed"
        },
        "tags": []
      },
      "source": [
        "# Multimode\n",
        "\n",
        "> SAX Multimode utils"
      ]
    },
    {
      "cell_type": "code",
      "execution_count": 2,
      "id": "a51955f67926543d",
      "metadata": {
        "execution": {
          "iopub.execute_input": "2022-08-16T04:18:24.775341Z",
          "iopub.status.busy": "2022-08-16T04:18:24.774923Z",
          "iopub.status.idle": "2022-08-16T04:18:24.777842Z",
          "shell.execute_reply": "2022-08-16T04:18:24.777508Z"
        },
        "papermill": {
          "duration": 0.017195,
          "end_time": "2022-08-16T04:18:24.777931",
          "exception": false,
          "start_time": "2022-08-16T04:18:24.760736",
          "status": "completed"
        },
        "tags": [
          "remove-cell"
        ]
      },
      "outputs": [],
      "source": [
        "from fastcore.test import test_eq\n",
        "\n",
        "import os, sys; sys.stderr = open(os.devnull, \"w\")"
      ]
    },
    {
      "cell_type": "code",
      "execution_count": 3,
      "id": "2253bfbb1f406289",
      "metadata": {
        "execution": {
          "iopub.execute_input": "2022-08-16T04:18:24.793158Z",
          "iopub.status.busy": "2022-08-16T04:18:24.792738Z",
          "iopub.status.idle": "2022-08-16T04:18:25.573090Z",
          "shell.execute_reply": "2022-08-16T04:18:25.572642Z"
        },
        "papermill": {
          "duration": 0.788769,
          "end_time": "2022-08-16T04:18:25.573216",
          "exception": false,
          "start_time": "2022-08-16T04:18:24.784447",
          "status": "completed"
        },
        "tags": [
          "hide-input"
        ]
      },
      "outputs": [],
      "source": [
        "from __future__ import annotations\n",
        "\n",
        "from functools import wraps\n",
        "from typing import Dict, Tuple, Union, cast, overload\n",
        "\n",
        "from sax.typing_ import (\n",
        "    Model,\n",
        "    SCoo,\n",
        "    SDense,\n",
        "    SDict,\n",
        "    SType,\n",
        "    is_model,\n",
        "    is_multimode,\n",
        "    is_scoo,\n",
        "    is_sdense,\n",
        "    is_sdict,\n",
        "    is_singlemode,\n",
        ")\n",
        "from sax.utils import (\n",
        "    block_diag,\n",
        "    mode_combinations,\n",
        "    validate_multimode,\n",
        "    validate_not_mixedmode,\n",
        ")\n",
        "\n",
        "try:\n",
        "    import jax.numpy as jnp\n",
        "    JAX_AVAILABLE = True\n",
        "except ImportError:\n",
        "    import numpy as jnp\n",
        "    JAX_AVAILABLE = False"
      ]
    },
    {
      "cell_type": "code",
      "execution_count": 4,
      "id": "ab52f67003bb7be2",
      "metadata": {
        "execution": {
          "iopub.execute_input": "2022-08-16T04:18:25.593062Z",
          "iopub.status.busy": "2022-08-16T04:18:25.592624Z",
          "iopub.status.idle": "2022-08-16T04:18:25.593927Z",
          "shell.execute_reply": "2022-08-16T04:18:25.594238Z"
        },
        "papermill": {
          "duration": 0.013225,
          "end_time": "2022-08-16T04:18:25.594352",
          "exception": false,
          "start_time": "2022-08-16T04:18:25.581127",
          "status": "completed"
        },
        "tags": [
          "remove-cell"
        ]
      },
      "outputs": [],
      "source": [
        "\n",
        "@overload\n",
        "def multimode(S: Model, modes: Tuple[str, ...] = (\"te\", \"tm\")) -> Model:\n",
        "    ...\n",
        "\n",
        "\n",
        "@overload\n",
        "def multimode(S: SDict, modes: Tuple[str, ...] = (\"te\", \"tm\")) -> SDict:\n",
        "    ...\n",
        "\n",
        "\n",
        "@overload\n",
        "def multimode(S: SCoo, modes: Tuple[str, ...] = (\"te\", \"tm\")) -> SCoo:\n",
        "    ...\n",
        "\n",
        "\n",
        "@overload\n",
        "def multimode(S: SDense, modes: Tuple[str, ...] = (\"te\", \"tm\")) -> SDense:\n",
        "    ..."
      ]
    },
    {
      "cell_type": "markdown",
      "id": "86bc8d26843bceec",
      "metadata": {},
      "source": [
        ":::{eval-rst}\n",
        ".. autofunction:: sax.multimode.multimode\n",
        ":::\n"
      ]
    },
    {
      "cell_type": "code",
      "execution_count": 5,
      "id": "593512b6eed7ffd8",
      "metadata": {
        "execution": {
          "iopub.execute_input": "2022-08-16T04:18:25.619008Z",
          "iopub.status.busy": "2022-08-16T04:18:25.614705Z",
          "iopub.status.idle": "2022-08-16T04:18:25.620776Z",
          "shell.execute_reply": "2022-08-16T04:18:25.620396Z"
        },
        "papermill": {
          "duration": 0.019766,
          "end_time": "2022-08-16T04:18:25.620861",
          "exception": false,
          "start_time": "2022-08-16T04:18:25.601095",
          "status": "completed"
        },
        "tags": [
          "hide-input"
        ]
      },
      "outputs": [],
      "source": [
        "\n",
        "def multimode(\n",
        "    S: Union[SType, Model], modes: Tuple[str, ...] = (\"te\", \"tm\")\n",
        ") -> Union[SType, Model]:\n",
        "    \"\"\"Convert a single mode model to a multimode model\"\"\"\n",
        "    if is_model(S):\n",
        "        model = cast(Model, S)\n",
        "\n",
        "        @wraps(model)\n",
        "        def new_model(**params):\n",
        "            return multimode(model(**params), modes=modes)\n",
        "\n",
        "        return cast(Model, new_model)\n",
        "\n",
        "    S = cast(SType, S)\n",
        "\n",
        "    validate_not_mixedmode(S)\n",
        "    if is_multimode(S):\n",
        "        validate_multimode(S, modes=modes)\n",
        "        return S\n",
        "\n",
        "    if is_sdict(S):\n",
        "        return _multimode_sdict(cast(SDict, S), modes=modes)\n",
        "    elif is_scoo(S):\n",
        "        return _multimode_scoo(cast(SCoo, S), modes=modes)\n",
        "    elif is_sdense(S):\n",
        "        return _multimode_sdense(cast(SDense, S), modes=modes)\n",
        "    else:\n",
        "        raise ValueError(\"cannot convert to multimode. Unknown stype.\")\n",
        "\n",
        "\n",
        "def _multimode_sdict(sdict: SDict, modes: Tuple[str, ...] = (\"te\", \"tm\")) -> SDict:\n",
        "    multimode_sdict = {}\n",
        "    _mode_combinations = mode_combinations(modes)\n",
        "    for (p1, p2), value in sdict.items():\n",
        "        for (m1, m2) in _mode_combinations:\n",
        "            multimode_sdict[f\"{p1}@{m1}\", f\"{p2}@{m2}\"] = value\n",
        "    return multimode_sdict\n",
        "\n",
        "\n",
        "def _multimode_scoo(scoo: SCoo, modes: Tuple[str, ...] = (\"te\", \"tm\")) -> SCoo:\n",
        "\n",
        "    Si, Sj, Sx, port_map = scoo\n",
        "    num_ports = len(port_map)\n",
        "    mode_map = (\n",
        "        {mode: i for i, mode in enumerate(modes)}\n",
        "        if not isinstance(modes, dict)\n",
        "        else cast(Dict, modes)\n",
        "    )\n",
        "\n",
        "    _mode_combinations = mode_combinations(modes)\n",
        "\n",
        "    Si_m = jnp.concatenate(\n",
        "        [Si + mode_map[m] * num_ports for m, _ in _mode_combinations], -1\n",
        "    )\n",
        "    Sj_m = jnp.concatenate(\n",
        "        [Sj + mode_map[m] * num_ports for _, m in _mode_combinations], -1\n",
        "    )\n",
        "    Sx_m = jnp.concatenate([Sx for _ in _mode_combinations], -1)\n",
        "    port_map_m = {\n",
        "        f\"{port}@{mode}\": idx + mode_map[mode] * num_ports\n",
        "        for mode in modes\n",
        "        for port, idx in port_map.items()\n",
        "    }\n",
        "\n",
        "    return Si_m, Sj_m, Sx_m, port_map_m\n",
        "\n",
        "\n",
        "def _multimode_sdense(sdense, modes=(\"te\", \"tm\")):\n",
        "\n",
        "    Sx, port_map = sdense\n",
        "    num_ports = len(port_map)\n",
        "    mode_map = (\n",
        "        {mode: i for i, mode in enumerate(modes)}\n",
        "        if not isinstance(modes, dict)\n",
        "        else modes\n",
        "    )\n",
        "\n",
        "    Sx_m = block_diag(*(Sx for _ in modes))\n",
        "\n",
        "    port_map_m = {\n",
        "        f\"{port}@{mode}\": idx + mode_map[mode] * num_ports\n",
        "        for mode in modes\n",
        "        for port, idx in port_map.items()\n",
        "    }\n",
        "\n",
        "    return Sx_m, port_map_m"
      ]
    },
    {
      "cell_type": "code",
      "execution_count": 6,
      "id": "e4547870",
      "metadata": {
        "execution": {
          "iopub.execute_input": "2022-08-16T04:18:25.636336Z",
          "iopub.status.busy": "2022-08-16T04:18:25.635914Z",
          "iopub.status.idle": "2022-08-16T04:18:25.639365Z",
          "shell.execute_reply": "2022-08-16T04:18:25.639011Z"
        },
        "papermill": {
          "duration": 0.011838,
          "end_time": "2022-08-16T04:18:25.639450",
          "exception": false,
          "start_time": "2022-08-16T04:18:25.627612",
          "status": "completed"
        },
        "tags": []
      },
      "outputs": [],
      "source": [
        "sdict_s = {(\"in0\", \"out0\"): 1.0}\n",
        "sdict_m = multimode(sdict_s)\n",
        "assert sdict_m == {(\"in0@te\", \"out0@te\"): 1.0, (\"in0@tm\", \"out0@tm\"): 1.0}"
      ]
    },
    {
      "cell_type": "code",
      "execution_count": 7,
      "id": "95dab5a3",
      "metadata": {
        "execution": {
          "iopub.execute_input": "2022-08-16T04:18:25.657466Z",
          "iopub.status.busy": "2022-08-16T04:18:25.657045Z",
          "iopub.status.idle": "2022-08-16T04:18:25.771736Z",
          "shell.execute_reply": "2022-08-16T04:18:25.770951Z"
        },
        "papermill": {
          "duration": 0.125578,
          "end_time": "2022-08-16T04:18:25.771866",
          "exception": false,
          "start_time": "2022-08-16T04:18:25.646288",
          "status": "completed"
        },
        "tags": []
      },
      "outputs": [],
      "source": [
        "from sax.typing_ import scoo\n",
        "scoo_s = scoo(sdict_s)\n",
        "scoo_m = multimode(scoo_s)\n",
        "test_eq(scoo_m[0], jnp.array([0, 2], dtype=int))\n",
        "test_eq(scoo_m[1], jnp.array([1, 3], dtype=int))\n",
        "test_eq(scoo_m[2], jnp.array([1.0, 1.0], dtype=float))\n",
        "test_eq(scoo_m[3], {\"in0@te\": 0, \"out0@te\": 1, \"in0@tm\": 2, \"out0@tm\": 3})"
      ]
    },
    {
      "cell_type": "code",
      "execution_count": 8,
      "id": "3e5474e1",
      "metadata": {
        "execution": {
          "iopub.execute_input": "2022-08-16T04:18:25.791648Z",
          "iopub.status.busy": "2022-08-16T04:18:25.791159Z",
          "iopub.status.idle": "2022-08-16T04:18:25.990703Z",
          "shell.execute_reply": "2022-08-16T04:18:25.991092Z"
        },
        "papermill": {
          "duration": 0.212108,
          "end_time": "2022-08-16T04:18:25.991253",
          "exception": false,
          "start_time": "2022-08-16T04:18:25.779145",
          "status": "completed"
        },
        "tags": []
      },
      "outputs": [],
      "source": [
        "from sax.typing_ import sdense\n",
        "sdense_s = sdense(sdict_s)\n",
        "sdense_m = multimode(sdense_s)\n",
        "test_eq(\n",
        "    sdense_m[0],\n",
        "    [[0.0 + 0.0j, 1.0 + 0.0j, 0.0 + 0.0j, 0.0 + 0.0j],\n",
        "     [0.0 + 0.0j, 0.0 + 0.0j, 0.0 + 0.0j, 0.0 + 0.0j],\n",
        "     [0.0 + 0.0j, 0.0 + 0.0j, 0.0 + 0.0j, 1.0 + 0.0j],\n",
        "     [0.0 + 0.0j, 0.0 + 0.0j, 0.0 + 0.0j, 0.0 + 0.0j]],\n",
        ")\n",
        "test_eq(sdense_m[1], {\"in0@te\": 0, \"out0@te\": 1, \"in0@tm\": 2, \"out0@tm\": 3})"
      ]
    },
    {
      "cell_type": "code",
      "execution_count": 9,
      "id": "95f0a2272112b377",
      "metadata": {
        "execution": {
          "iopub.execute_input": "2022-08-16T04:18:26.011477Z",
          "iopub.status.busy": "2022-08-16T04:18:26.010678Z",
          "iopub.status.idle": "2022-08-16T04:18:26.012091Z",
          "shell.execute_reply": "2022-08-16T04:18:26.012420Z"
        },
        "papermill": {
          "duration": 0.013341,
          "end_time": "2022-08-16T04:18:26.012537",
          "exception": false,
          "start_time": "2022-08-16T04:18:25.999196",
          "status": "completed"
        },
        "tags": [
          "remove-cell"
        ]
      },
      "outputs": [],
      "source": [
        "\n",
        "@overload\n",
        "def singlemode(S: Model, mode: str = \"te\") -> Model:\n",
        "    ...\n",
        "\n",
        "\n",
        "@overload\n",
        "def singlemode(S: SDict, mode: str = \"te\") -> SDict:\n",
        "    ...\n",
        "\n",
        "\n",
        "@overload\n",
        "def singlemode(S: SCoo, mode: str = \"te\") -> SCoo:\n",
        "    ...\n",
        "\n",
        "\n",
        "@overload\n",
        "def singlemode(S: SDense, mode: str = \"te\") -> SDense:\n",
        "    ..."
      ]
    },
    {
      "cell_type": "markdown",
      "id": "4af12798d35c5d1d",
      "metadata": {},
      "source": [
        ":::{eval-rst}\n",
        ".. autofunction:: sax.multimode.singlemode\n",
        ":::\n"
      ]
    },
    {
      "cell_type": "code",
      "execution_count": 10,
      "id": "6321a8ff3470df48",
      "metadata": {
        "execution": {
          "iopub.execute_input": "2022-08-16T04:18:26.035449Z",
          "iopub.status.busy": "2022-08-16T04:18:26.034111Z",
          "iopub.status.idle": "2022-08-16T04:18:26.037057Z",
          "shell.execute_reply": "2022-08-16T04:18:26.036723Z"
        },
        "papermill": {
          "duration": 0.017153,
          "end_time": "2022-08-16T04:18:26.037149",
          "exception": false,
          "start_time": "2022-08-16T04:18:26.019996",
          "status": "completed"
        },
        "tags": [
          "hide-input"
        ]
      },
      "outputs": [],
      "source": [
        "\n",
        "def singlemode(S: Union[SType, Model], mode: str = \"te\") -> Union[SType, Model]:\n",
        "    \"\"\"Convert multimode model to a singlemode model\"\"\"\n",
        "    if is_model(S):\n",
        "        model = cast(Model, S)\n",
        "\n",
        "        @wraps(model)\n",
        "        def new_model(**params):\n",
        "            return singlemode(model(**params), mode=mode)\n",
        "\n",
        "        return cast(Model, new_model)\n",
        "\n",
        "    S = cast(SType, S)\n",
        "\n",
        "    validate_not_mixedmode(S)\n",
        "    if is_singlemode(S):\n",
        "        return S\n",
        "    if is_sdict(S):\n",
        "        return _singlemode_sdict(cast(SDict, S), mode=mode)\n",
        "    elif is_scoo(S):\n",
        "        return _singlemode_scoo(cast(SCoo, S), mode=mode)\n",
        "    elif is_sdense(S):\n",
        "        return _singlemode_sdense(cast(SDense, S), mode=mode)\n",
        "    else:\n",
        "        raise ValueError(\"cannot convert to multimode. Unknown stype.\")\n",
        "\n",
        "\n",
        "def _singlemode_sdict(sdict: SDict, mode: str = \"te\") -> SDict:\n",
        "    singlemode_sdict = {}\n",
        "    for (p1, p2), value in sdict.items():\n",
        "        if p1.endswith(f\"@{mode}\") and p2.endswith(f\"@{mode}\"):\n",
        "            p1, _ = p1.split(\"@\")\n",
        "            p2, _ = p2.split(\"@\")\n",
        "            singlemode_sdict[p1, p2] = value\n",
        "    return singlemode_sdict\n",
        "\n",
        "\n",
        "def _singlemode_scoo(scoo: SCoo, mode: str = \"te\") -> SCoo:\n",
        "    Si, Sj, Sx, port_map = scoo\n",
        "    # no need to touch the data...\n",
        "    # just removing some ports from the port map should be enough\n",
        "    port_map = {\n",
        "        port.split(\"@\")[0]: idx\n",
        "        for port, idx in port_map.items()\n",
        "        if port.endswith(f\"@{mode}\")\n",
        "    }\n",
        "    return Si, Sj, Sx, port_map\n",
        "\n",
        "\n",
        "def _singlemode_sdense(sdense: SDense, mode: str = \"te\") -> SDense:\n",
        "    Sx, port_map = sdense\n",
        "    # no need to touch the data...\n",
        "    # just removing some ports from the port map should be enough\n",
        "    port_map = {\n",
        "        port.split(\"@\")[0]: idx\n",
        "        for port, idx in port_map.items()\n",
        "        if port.endswith(f\"@{mode}\")\n",
        "    }\n",
        "    return Sx, port_map"
      ]
    },
    {
      "cell_type": "code",
      "execution_count": 11,
      "id": "2215f7c9",
      "metadata": {
        "execution": {
          "iopub.execute_input": "2022-08-16T04:18:26.053520Z",
          "iopub.status.busy": "2022-08-16T04:18:26.053094Z",
          "iopub.status.idle": "2022-08-16T04:18:26.056184Z",
          "shell.execute_reply": "2022-08-16T04:18:26.056539Z"
        },
        "papermill": {
          "duration": 0.01234,
          "end_time": "2022-08-16T04:18:26.056640",
          "exception": false,
          "start_time": "2022-08-16T04:18:26.044300",
          "status": "completed"
        },
        "tags": []
      },
      "outputs": [],
      "source": [
        "sdict_s = singlemode(sdict_m)\n",
        "assert sdict_s == {(\"in0\", \"out0\"): 1.0}"
      ]
    },
    {
      "cell_type": "code",
      "execution_count": 12,
      "id": "3f57f37b",
      "metadata": {
        "execution": {
          "iopub.execute_input": "2022-08-16T04:18:26.079526Z",
          "iopub.status.busy": "2022-08-16T04:18:26.076170Z",
          "iopub.status.idle": "2022-08-16T04:18:26.113441Z",
          "shell.execute_reply": "2022-08-16T04:18:26.112999Z"
        },
        "papermill": {
          "duration": 0.049648,
          "end_time": "2022-08-16T04:18:26.113551",
          "exception": false,
          "start_time": "2022-08-16T04:18:26.063903",
          "status": "completed"
        },
        "tags": []
      },
      "outputs": [],
      "source": [
        "scoo_s = singlemode(scoo_s)\n",
        "test_eq(scoo_s[0], jnp.array([0], dtype=int))\n",
        "test_eq(scoo_s[1], jnp.array([1], dtype=int))\n",
        "test_eq(scoo_s[2], jnp.array([1.0], dtype=float))\n",
        "test_eq(scoo_s[3], {'in0': 0, 'out0': 1})"
      ]
    },
    {
      "cell_type": "code",
      "execution_count": 13,
      "id": "94bc44fb",
      "metadata": {
        "execution": {
          "iopub.execute_input": "2022-08-16T04:18:26.134295Z",
          "iopub.status.busy": "2022-08-16T04:18:26.131399Z",
          "iopub.status.idle": "2022-08-16T04:18:26.136602Z",
          "shell.execute_reply": "2022-08-16T04:18:26.136214Z"
        },
        "papermill": {
          "duration": 0.014936,
          "end_time": "2022-08-16T04:18:26.136695",
          "exception": false,
          "start_time": "2022-08-16T04:18:26.121759",
          "status": "completed"
        },
        "tags": []
      },
      "outputs": [],
      "source": [
        "sdense_s = singlemode(sdense_m)\n",
        "test_eq(\n",
        "    sdense_s[0],\n",
        "    [[0.0 + 0.0j, 1.0 + 0.0j, 0.0 + 0.0j, 0.0 + 0.0j],\n",
        "     [0.0 + 0.0j, 0.0 + 0.0j, 0.0 + 0.0j, 0.0 + 0.0j],\n",
        "     [0.0 + 0.0j, 0.0 + 0.0j, 0.0 + 0.0j, 1.0 + 0.0j],\n",
        "     [0.0 + 0.0j, 0.0 + 0.0j, 0.0 + 0.0j, 0.0 + 0.0j]],\n",
        ")\n",
        "test_eq(sdense_s[1], {'in0': 0, 'out0': 1})"
      ]
    }
  ],
  "metadata": {
    "kernelspec": {
      "display_name": "sax",
      "language": "python",
      "name": "sax"
    },
    "language_info": {
      "codemirror_mode": {
        "name": "ipython",
        "version": 3
      },
      "file_extension": ".py",
      "mimetype": "text/x-python",
      "name": "python",
      "nbconvert_exporter": "python",
      "pygments_lexer": "ipython3",
      "version": "3.9.0"
    },
    "papermill": {
      "default_parameters": {},
      "duration": 3.067034,
      "end_time": "2022-08-16T04:18:26.451518",
      "environment_variables": {},
      "exception": null,
      "input_path": "./nbs/04_multimode.ipynb",
      "output_path": "./nbs/04_multimode.ipynb",
      "parameters": {},
      "start_time": "2022-08-16T04:18:23.384484",
      "version": "2.3.4"
    }
  },
  "nbformat": 4,
  "nbformat_minor": 5
}
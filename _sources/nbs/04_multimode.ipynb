{
  "cells": [
    {
      "cell_type": "code",
      "execution_count": 1,
      "id": "506be4dde7fa8e62",
      "metadata": {
        "execution": {
          "iopub.execute_input": "2022-08-04T04:32:22.309976Z",
          "iopub.status.busy": "2022-08-04T04:32:22.309495Z",
          "iopub.status.idle": "2022-08-04T04:32:22.311984Z",
          "shell.execute_reply": "2022-08-04T04:32:22.312409Z"
        },
        "papermill": {
          "duration": 0.017036,
          "end_time": "2022-08-04T04:32:22.312626",
          "exception": false,
          "start_time": "2022-08-04T04:32:22.295590",
          "status": "completed"
        },
        "tags": [
          "remove-cell"
        ]
      },
      "outputs": [],
      "source": []
    },
    {
      "cell_type": "markdown",
      "id": "60e8c162",
      "metadata": {
        "papermill": {
          "duration": 0.007456,
          "end_time": "2022-08-04T04:32:22.328222",
          "exception": false,
          "start_time": "2022-08-04T04:32:22.320766",
          "status": "completed"
        },
        "tags": []
      },
      "source": [
        "# Multimode\n",
        "\n",
        "> SAX Multimode utils"
      ]
    },
    {
      "cell_type": "code",
      "execution_count": 2,
      "id": "00a93a3be18e6c03",
      "metadata": {
        "execution": {
          "iopub.execute_input": "2022-08-04T04:32:22.351016Z",
          "iopub.status.busy": "2022-08-04T04:32:22.350583Z",
          "iopub.status.idle": "2022-08-04T04:32:22.353337Z",
          "shell.execute_reply": "2022-08-04T04:32:22.353657Z"
        },
        "papermill": {
          "duration": 0.01819,
          "end_time": "2022-08-04T04:32:22.353786",
          "exception": false,
          "start_time": "2022-08-04T04:32:22.335596",
          "status": "completed"
        },
        "tags": [
          "remove-cell"
        ]
      },
      "outputs": [],
      "source": [
        "from fastcore.test import test_eq\n",
        "\n",
        "import os, sys; sys.stderr = open(os.devnull, \"w\")"
      ]
    },
    {
      "cell_type": "code",
      "execution_count": 3,
      "id": "158154725235a6c5",
      "metadata": {
        "execution": {
          "iopub.execute_input": "2022-08-04T04:32:22.373259Z",
          "iopub.status.busy": "2022-08-04T04:32:22.372828Z",
          "iopub.status.idle": "2022-08-04T04:32:23.135112Z",
          "shell.execute_reply": "2022-08-04T04:32:23.134608Z"
        },
        "papermill": {
          "duration": 0.774078,
          "end_time": "2022-08-04T04:32:23.135254",
          "exception": false,
          "start_time": "2022-08-04T04:32:22.361176",
          "status": "completed"
        },
        "tags": [
          "hide-input"
        ]
      },
      "outputs": [],
      "source": [
        "from __future__ import annotations\n",
        "\n",
        "from functools import wraps\n",
        "from typing import Dict, Tuple, Union, cast, overload\n",
        "\n",
        "from sax.typing_ import (\n",
        "    Model,\n",
        "    SCoo,\n",
        "    SDense,\n",
        "    SDict,\n",
        "    SType,\n",
        "    is_model,\n",
        "    is_multimode,\n",
        "    is_scoo,\n",
        "    is_sdense,\n",
        "    is_sdict,\n",
        "    is_singlemode,\n",
        ")\n",
        "from sax.utils import (\n",
        "    block_diag,\n",
        "    mode_combinations,\n",
        "    validate_multimode,\n",
        "    validate_not_mixedmode,\n",
        ")\n",
        "\n",
        "try:\n",
        "    import jax.numpy as jnp\n",
        "    JAX_AVAILABLE = True\n",
        "except ImportError:\n",
        "    import numpy as jnp\n",
        "    JAX_AVAILABLE = False"
      ]
    },
    {
      "cell_type": "code",
      "execution_count": 4,
      "id": "fccc7e17331af08e",
      "metadata": {
        "execution": {
          "iopub.execute_input": "2022-08-04T04:32:23.157248Z",
          "iopub.status.busy": "2022-08-04T04:32:23.156766Z",
          "iopub.status.idle": "2022-08-04T04:32:23.158635Z",
          "shell.execute_reply": "2022-08-04T04:32:23.158264Z"
        },
        "papermill": {
          "duration": 0.015296,
          "end_time": "2022-08-04T04:32:23.158740",
          "exception": false,
          "start_time": "2022-08-04T04:32:23.143444",
          "status": "completed"
        },
        "tags": [
          "remove-cell"
        ]
      },
      "outputs": [],
      "source": [
        "\n",
        "@overload\n",
        "def multimode(S: Model, modes: Tuple[str, ...] = (\"te\", \"tm\")) -> Model:\n",
        "    ...\n",
        "\n",
        "\n",
        "@overload\n",
        "def multimode(S: SDict, modes: Tuple[str, ...] = (\"te\", \"tm\")) -> SDict:\n",
        "    ...\n",
        "\n",
        "\n",
        "@overload\n",
        "def multimode(S: SCoo, modes: Tuple[str, ...] = (\"te\", \"tm\")) -> SCoo:\n",
        "    ...\n",
        "\n",
        "\n",
        "@overload\n",
        "def multimode(S: SDense, modes: Tuple[str, ...] = (\"te\", \"tm\")) -> SDense:\n",
        "    ..."
      ]
    },
    {
      "cell_type": "markdown",
      "id": "0db9a8e3f23a6236",
      "metadata": {},
      "source": [
        ":::{eval-rst}\n",
        ".. autofunction:: sax.multimode.multimode\n",
        ":::\n"
      ]
    },
    {
      "cell_type": "code",
      "execution_count": 5,
      "id": "c62557d7d69207c2",
      "metadata": {
        "execution": {
          "iopub.execute_input": "2022-08-04T04:32:23.186813Z",
          "iopub.status.busy": "2022-08-04T04:32:23.176597Z",
          "iopub.status.idle": "2022-08-04T04:32:23.188477Z",
          "shell.execute_reply": "2022-08-04T04:32:23.188109Z"
        },
        "papermill": {
          "duration": 0.022149,
          "end_time": "2022-08-04T04:32:23.188596",
          "exception": false,
          "start_time": "2022-08-04T04:32:23.166447",
          "status": "completed"
        },
        "tags": [
          "hide-input"
        ]
      },
      "outputs": [],
      "source": [
        "\n",
        "def multimode(\n",
        "    S: Union[SType, Model], modes: Tuple[str, ...] = (\"te\", \"tm\")\n",
        ") -> Union[SType, Model]:\n",
        "    \"\"\"Convert a single mode model to a multimode model\"\"\"\n",
        "    if is_model(S):\n",
        "        model = cast(Model, S)\n",
        "\n",
        "        @wraps(model)\n",
        "        def new_model(**params):\n",
        "            return multimode(model(**params), modes=modes)\n",
        "\n",
        "        return cast(Model, new_model)\n",
        "\n",
        "    S = cast(SType, S)\n",
        "\n",
        "    validate_not_mixedmode(S)\n",
        "    if is_multimode(S):\n",
        "        validate_multimode(S, modes=modes)\n",
        "        return S\n",
        "\n",
        "    if is_sdict(S):\n",
        "        return _multimode_sdict(cast(SDict, S), modes=modes)\n",
        "    elif is_scoo(S):\n",
        "        return _multimode_scoo(cast(SCoo, S), modes=modes)\n",
        "    elif is_sdense(S):\n",
        "        return _multimode_sdense(cast(SDense, S), modes=modes)\n",
        "    else:\n",
        "        raise ValueError(\"cannot convert to multimode. Unknown stype.\")\n",
        "\n",
        "\n",
        "def _multimode_sdict(sdict: SDict, modes: Tuple[str, ...] = (\"te\", \"tm\")) -> SDict:\n",
        "    multimode_sdict = {}\n",
        "    _mode_combinations = mode_combinations(modes)\n",
        "    for (p1, p2), value in sdict.items():\n",
        "        for (m1, m2) in _mode_combinations:\n",
        "            multimode_sdict[f\"{p1}@{m1}\", f\"{p2}@{m2}\"] = value\n",
        "    return multimode_sdict\n",
        "\n",
        "\n",
        "def _multimode_scoo(scoo: SCoo, modes: Tuple[str, ...] = (\"te\", \"tm\")) -> SCoo:\n",
        "\n",
        "    Si, Sj, Sx, port_map = scoo\n",
        "    num_ports = len(port_map)\n",
        "    mode_map = (\n",
        "        {mode: i for i, mode in enumerate(modes)}\n",
        "        if not isinstance(modes, dict)\n",
        "        else cast(Dict, modes)\n",
        "    )\n",
        "\n",
        "    _mode_combinations = mode_combinations(modes)\n",
        "\n",
        "    Si_m = jnp.concatenate(\n",
        "        [Si + mode_map[m] * num_ports for m, _ in _mode_combinations], -1\n",
        "    )\n",
        "    Sj_m = jnp.concatenate(\n",
        "        [Sj + mode_map[m] * num_ports for _, m in _mode_combinations], -1\n",
        "    )\n",
        "    Sx_m = jnp.concatenate([Sx for _ in _mode_combinations], -1)\n",
        "    port_map_m = {\n",
        "        f\"{port}@{mode}\": idx + mode_map[mode] * num_ports\n",
        "        for mode in modes\n",
        "        for port, idx in port_map.items()\n",
        "    }\n",
        "\n",
        "    return Si_m, Sj_m, Sx_m, port_map_m\n",
        "\n",
        "\n",
        "def _multimode_sdense(sdense, modes=(\"te\", \"tm\")):\n",
        "\n",
        "    Sx, port_map = sdense\n",
        "    num_ports = len(port_map)\n",
        "    mode_map = (\n",
        "        {mode: i for i, mode in enumerate(modes)}\n",
        "        if not isinstance(modes, dict)\n",
        "        else modes\n",
        "    )\n",
        "\n",
        "    Sx_m = block_diag(*(Sx for _ in modes))\n",
        "\n",
        "    port_map_m = {\n",
        "        f\"{port}@{mode}\": idx + mode_map[mode] * num_ports\n",
        "        for mode in modes\n",
        "        for port, idx in port_map.items()\n",
        "    }\n",
        "\n",
        "    return Sx_m, port_map_m"
      ]
    },
    {
      "cell_type": "code",
      "execution_count": 6,
      "id": "e4547870",
      "metadata": {
        "execution": {
          "iopub.execute_input": "2022-08-04T04:32:23.209039Z",
          "iopub.status.busy": "2022-08-04T04:32:23.208601Z",
          "iopub.status.idle": "2022-08-04T04:32:23.209854Z",
          "shell.execute_reply": "2022-08-04T04:32:23.210216Z"
        },
        "papermill": {
          "duration": 0.013836,
          "end_time": "2022-08-04T04:32:23.210346",
          "exception": false,
          "start_time": "2022-08-04T04:32:23.196510",
          "status": "completed"
        },
        "tags": []
      },
      "outputs": [],
      "source": [
        "sdict_s = {(\"in0\", \"out0\"): 1.0}\n",
        "sdict_m = multimode(sdict_s)\n",
        "assert sdict_m == {(\"in0@te\", \"out0@te\"): 1.0, (\"in0@tm\", \"out0@tm\"): 1.0}"
      ]
    },
    {
      "cell_type": "code",
      "execution_count": 7,
      "id": "95dab5a3",
      "metadata": {
        "execution": {
          "iopub.execute_input": "2022-08-04T04:32:23.230798Z",
          "iopub.status.busy": "2022-08-04T04:32:23.230340Z",
          "iopub.status.idle": "2022-08-04T04:32:23.364282Z",
          "shell.execute_reply": "2022-08-04T04:32:23.363820Z"
        },
        "papermill": {
          "duration": 0.146182,
          "end_time": "2022-08-04T04:32:23.364415",
          "exception": false,
          "start_time": "2022-08-04T04:32:23.218233",
          "status": "completed"
        },
        "tags": []
      },
      "outputs": [],
      "source": [
        "from sax.typing_ import scoo\n",
        "scoo_s = scoo(sdict_s)\n",
        "scoo_m = multimode(scoo_s)\n",
        "test_eq(scoo_m[0], jnp.array([0, 2], dtype=int))\n",
        "test_eq(scoo_m[1], jnp.array([1, 3], dtype=int))\n",
        "test_eq(scoo_m[2], jnp.array([1.0, 1.0], dtype=float))\n",
        "test_eq(scoo_m[3], {\"in0@te\": 0, \"out0@te\": 1, \"in0@tm\": 2, \"out0@tm\": 3})"
      ]
    },
    {
      "cell_type": "code",
      "execution_count": 8,
      "id": "3e5474e1",
      "metadata": {
        "execution": {
          "iopub.execute_input": "2022-08-04T04:32:23.387905Z",
          "iopub.status.busy": "2022-08-04T04:32:23.387388Z",
          "iopub.status.idle": "2022-08-04T04:32:23.623045Z",
          "shell.execute_reply": "2022-08-04T04:32:23.622175Z"
        },
        "papermill": {
          "duration": 0.249557,
          "end_time": "2022-08-04T04:32:23.623184",
          "exception": false,
          "start_time": "2022-08-04T04:32:23.373627",
          "status": "completed"
        },
        "tags": []
      },
      "outputs": [],
      "source": [
        "from sax.typing_ import sdense\n",
        "sdense_s = sdense(sdict_s)\n",
        "sdense_m = multimode(sdense_s)\n",
        "test_eq(\n",
        "    sdense_m[0],\n",
        "    [[0.0 + 0.0j, 1.0 + 0.0j, 0.0 + 0.0j, 0.0 + 0.0j],\n",
        "     [0.0 + 0.0j, 0.0 + 0.0j, 0.0 + 0.0j, 0.0 + 0.0j],\n",
        "     [0.0 + 0.0j, 0.0 + 0.0j, 0.0 + 0.0j, 1.0 + 0.0j],\n",
        "     [0.0 + 0.0j, 0.0 + 0.0j, 0.0 + 0.0j, 0.0 + 0.0j]],\n",
        ")\n",
        "test_eq(sdense_m[1], {\"in0@te\": 0, \"out0@te\": 1, \"in0@tm\": 2, \"out0@tm\": 3})"
      ]
    },
    {
      "cell_type": "code",
      "execution_count": 9,
      "id": "c3434e7d85df889d",
      "metadata": {
        "execution": {
          "iopub.execute_input": "2022-08-04T04:32:23.645219Z",
          "iopub.status.busy": "2022-08-04T04:32:23.644741Z",
          "iopub.status.idle": "2022-08-04T04:32:23.646524Z",
          "shell.execute_reply": "2022-08-04T04:32:23.646172Z"
        },
        "papermill": {
          "duration": 0.014969,
          "end_time": "2022-08-04T04:32:23.646630",
          "exception": false,
          "start_time": "2022-08-04T04:32:23.631661",
          "status": "completed"
        },
        "tags": [
          "remove-cell"
        ]
      },
      "outputs": [],
      "source": [
        "\n",
        "@overload\n",
        "def singlemode(S: Model, mode: str = \"te\") -> Model:\n",
        "    ...\n",
        "\n",
        "\n",
        "@overload\n",
        "def singlemode(S: SDict, mode: str = \"te\") -> SDict:\n",
        "    ...\n",
        "\n",
        "\n",
        "@overload\n",
        "def singlemode(S: SCoo, mode: str = \"te\") -> SCoo:\n",
        "    ...\n",
        "\n",
        "\n",
        "@overload\n",
        "def singlemode(S: SDense, mode: str = \"te\") -> SDense:\n",
        "    ..."
      ]
    },
    {
      "cell_type": "markdown",
      "id": "4801a6de6543100d",
      "metadata": {},
      "source": [
        ":::{eval-rst}\n",
        ".. autofunction:: sax.multimode.singlemode\n",
        ":::\n"
      ]
    },
    {
      "cell_type": "code",
      "execution_count": 10,
      "id": "91dfb1ab521d9a8f",
      "metadata": {
        "execution": {
          "iopub.execute_input": "2022-08-04T04:32:23.672007Z",
          "iopub.status.busy": "2022-08-04T04:32:23.671567Z",
          "iopub.status.idle": "2022-08-04T04:32:23.674392Z",
          "shell.execute_reply": "2022-08-04T04:32:23.673974Z"
        },
        "papermill": {
          "duration": 0.019802,
          "end_time": "2022-08-04T04:32:23.674491",
          "exception": false,
          "start_time": "2022-08-04T04:32:23.654689",
          "status": "completed"
        },
        "tags": [
          "hide-input"
        ]
      },
      "outputs": [],
      "source": [
        "\n",
        "def singlemode(S: Union[SType, Model], mode: str = \"te\") -> Union[SType, Model]:\n",
        "    \"\"\"Convert multimode model to a singlemode model\"\"\"\n",
        "    if is_model(S):\n",
        "        model = cast(Model, S)\n",
        "\n",
        "        @wraps(model)\n",
        "        def new_model(**params):\n",
        "            return singlemode(model(**params), mode=mode)\n",
        "\n",
        "        return cast(Model, new_model)\n",
        "\n",
        "    S = cast(SType, S)\n",
        "\n",
        "    validate_not_mixedmode(S)\n",
        "    if is_singlemode(S):\n",
        "        return S\n",
        "    if is_sdict(S):\n",
        "        return _singlemode_sdict(cast(SDict, S), mode=mode)\n",
        "    elif is_scoo(S):\n",
        "        return _singlemode_scoo(cast(SCoo, S), mode=mode)\n",
        "    elif is_sdense(S):\n",
        "        return _singlemode_sdense(cast(SDense, S), mode=mode)\n",
        "    else:\n",
        "        raise ValueError(\"cannot convert to multimode. Unknown stype.\")\n",
        "\n",
        "\n",
        "def _singlemode_sdict(sdict: SDict, mode: str = \"te\") -> SDict:\n",
        "    singlemode_sdict = {}\n",
        "    for (p1, p2), value in sdict.items():\n",
        "        if p1.endswith(f\"@{mode}\") and p2.endswith(f\"@{mode}\"):\n",
        "            p1, _ = p1.split(\"@\")\n",
        "            p2, _ = p2.split(\"@\")\n",
        "            singlemode_sdict[p1, p2] = value\n",
        "    return singlemode_sdict\n",
        "\n",
        "\n",
        "def _singlemode_scoo(scoo: SCoo, mode: str = \"te\") -> SCoo:\n",
        "    Si, Sj, Sx, port_map = scoo\n",
        "    # no need to touch the data...\n",
        "    # just removing some ports from the port map should be enough\n",
        "    port_map = {\n",
        "        port.split(\"@\")[0]: idx\n",
        "        for port, idx in port_map.items()\n",
        "        if port.endswith(f\"@{mode}\")\n",
        "    }\n",
        "    return Si, Sj, Sx, port_map\n",
        "\n",
        "\n",
        "def _singlemode_sdense(sdense: SDense, mode: str = \"te\") -> SDense:\n",
        "    Sx, port_map = sdense\n",
        "    # no need to touch the data...\n",
        "    # just removing some ports from the port map should be enough\n",
        "    port_map = {\n",
        "        port.split(\"@\")[0]: idx\n",
        "        for port, idx in port_map.items()\n",
        "        if port.endswith(f\"@{mode}\")\n",
        "    }\n",
        "    return Sx, port_map"
      ]
    },
    {
      "cell_type": "code",
      "execution_count": 11,
      "id": "2215f7c9",
      "metadata": {
        "execution": {
          "iopub.execute_input": "2022-08-04T04:32:23.694764Z",
          "iopub.status.busy": "2022-08-04T04:32:23.694151Z",
          "iopub.status.idle": "2022-08-04T04:32:23.695832Z",
          "shell.execute_reply": "2022-08-04T04:32:23.695493Z"
        },
        "papermill": {
          "duration": 0.013326,
          "end_time": "2022-08-04T04:32:23.695929",
          "exception": false,
          "start_time": "2022-08-04T04:32:23.682603",
          "status": "completed"
        },
        "tags": []
      },
      "outputs": [],
      "source": [
        "sdict_s = singlemode(sdict_m)\n",
        "assert sdict_s == {(\"in0\", \"out0\"): 1.0}"
      ]
    },
    {
      "cell_type": "code",
      "execution_count": 12,
      "id": "3f57f37b",
      "metadata": {
        "execution": {
          "iopub.execute_input": "2022-08-04T04:32:23.722366Z",
          "iopub.status.busy": "2022-08-04T04:32:23.721902Z",
          "iopub.status.idle": "2022-08-04T04:32:23.760689Z",
          "shell.execute_reply": "2022-08-04T04:32:23.761095Z"
        },
        "papermill": {
          "duration": 0.057233,
          "end_time": "2022-08-04T04:32:23.761249",
          "exception": false,
          "start_time": "2022-08-04T04:32:23.704016",
          "status": "completed"
        },
        "tags": []
      },
      "outputs": [],
      "source": [
        "scoo_s = singlemode(scoo_s)\n",
        "test_eq(scoo_s[0], jnp.array([0], dtype=int))\n",
        "test_eq(scoo_s[1], jnp.array([1], dtype=int))\n",
        "test_eq(scoo_s[2], jnp.array([1.0], dtype=float))\n",
        "test_eq(scoo_s[3], {'in0': 0, 'out0': 1})"
      ]
    },
    {
      "cell_type": "code",
      "execution_count": 13,
      "id": "94bc44fb",
      "metadata": {
        "execution": {
          "iopub.execute_input": "2022-08-04T04:32:23.785067Z",
          "iopub.status.busy": "2022-08-04T04:32:23.784552Z",
          "iopub.status.idle": "2022-08-04T04:32:23.786904Z",
          "shell.execute_reply": "2022-08-04T04:32:23.786523Z"
        },
        "papermill": {
          "duration": 0.016955,
          "end_time": "2022-08-04T04:32:23.787008",
          "exception": false,
          "start_time": "2022-08-04T04:32:23.770053",
          "status": "completed"
        },
        "tags": []
      },
      "outputs": [],
      "source": [
        "sdense_s = singlemode(sdense_m)\n",
        "test_eq(\n",
        "    sdense_s[0],\n",
        "    [[0.0 + 0.0j, 1.0 + 0.0j, 0.0 + 0.0j, 0.0 + 0.0j],\n",
        "     [0.0 + 0.0j, 0.0 + 0.0j, 0.0 + 0.0j, 0.0 + 0.0j],\n",
        "     [0.0 + 0.0j, 0.0 + 0.0j, 0.0 + 0.0j, 1.0 + 0.0j],\n",
        "     [0.0 + 0.0j, 0.0 + 0.0j, 0.0 + 0.0j, 0.0 + 0.0j]],\n",
        ")\n",
        "test_eq(sdense_s[1], {'in0': 0, 'out0': 1})"
      ]
    }
  ],
  "metadata": {
    "kernelspec": {
      "display_name": "sax",
      "language": "python",
      "name": "sax"
    },
    "language_info": {
      "codemirror_mode": {
        "name": "ipython",
        "version": 3
      },
      "file_extension": ".py",
      "mimetype": "text/x-python",
      "name": "python",
      "nbconvert_exporter": "python",
      "pygments_lexer": "ipython3",
      "version": "3.9.0"
    },
    "papermill": {
      "default_parameters": {},
      "duration": 3.054776,
      "end_time": "2022-08-04T04:32:24.203537",
      "environment_variables": {},
      "exception": null,
      "input_path": "./nbs/04_multimode.ipynb",
      "output_path": "./nbs/04_multimode.ipynb",
      "parameters": {},
      "start_time": "2022-08-04T04:32:21.148761",
      "version": "2.3.4"
    }
  },
  "nbformat": 4,
  "nbformat_minor": 5
}
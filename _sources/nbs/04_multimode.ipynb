{
  "cells": [
    {
      "cell_type": "code",
      "execution_count": 1,
      "id": "ad301e3d60f458d6",
      "metadata": {
        "execution": {
          "iopub.execute_input": "2022-08-17T03:22:18.745909Z",
          "iopub.status.busy": "2022-08-17T03:22:18.745432Z",
          "iopub.status.idle": "2022-08-17T03:22:18.747954Z",
          "shell.execute_reply": "2022-08-17T03:22:18.747539Z"
        },
        "papermill": {
          "duration": 0.013674,
          "end_time": "2022-08-17T03:22:18.748062",
          "exception": false,
          "start_time": "2022-08-17T03:22:18.734388",
          "status": "completed"
        },
        "tags": [
          "remove-cell"
        ]
      },
      "outputs": [],
      "source": []
    },
    {
      "cell_type": "markdown",
      "id": "60e8c162",
      "metadata": {
        "papermill": {
          "duration": 0.006811,
          "end_time": "2022-08-17T03:22:18.762250",
          "exception": false,
          "start_time": "2022-08-17T03:22:18.755439",
          "status": "completed"
        },
        "tags": []
      },
      "source": [
        "# Multimode\n",
        "\n",
        "> SAX Multimode utils"
      ]
    },
    {
      "cell_type": "code",
      "execution_count": 2,
      "id": "e0fb5b651852f280",
      "metadata": {
        "execution": {
          "iopub.execute_input": "2022-08-17T03:22:18.782896Z",
          "iopub.status.busy": "2022-08-17T03:22:18.782473Z",
          "iopub.status.idle": "2022-08-17T03:22:18.785381Z",
          "shell.execute_reply": "2022-08-17T03:22:18.785045Z"
        },
        "papermill": {
          "duration": 0.016572,
          "end_time": "2022-08-17T03:22:18.785493",
          "exception": false,
          "start_time": "2022-08-17T03:22:18.768921",
          "status": "completed"
        },
        "tags": [
          "remove-cell"
        ]
      },
      "outputs": [],
      "source": [
        "from fastcore.test import test_eq\n",
        "\n",
        "import os, sys; sys.stderr = open(os.devnull, \"w\")"
      ]
    },
    {
      "cell_type": "code",
      "execution_count": 3,
      "id": "3852918df5dc1621",
      "metadata": {
        "execution": {
          "iopub.execute_input": "2022-08-17T03:22:18.803183Z",
          "iopub.status.busy": "2022-08-17T03:22:18.802764Z",
          "iopub.status.idle": "2022-08-17T03:22:19.558599Z",
          "shell.execute_reply": "2022-08-17T03:22:19.558225Z"
        },
        "papermill": {
          "duration": 0.766439,
          "end_time": "2022-08-17T03:22:19.558704",
          "exception": false,
          "start_time": "2022-08-17T03:22:18.792265",
          "status": "completed"
        },
        "tags": [
          "hide-input"
        ]
      },
      "outputs": [],
      "source": [
        "from __future__ import annotations\n",
        "\n",
        "from functools import wraps\n",
        "from typing import Dict, Tuple, Union, cast, overload\n",
        "\n",
        "from sax.typing_ import (\n",
        "    Model,\n",
        "    SCoo,\n",
        "    SDense,\n",
        "    SDict,\n",
        "    SType,\n",
        "    is_model,\n",
        "    is_multimode,\n",
        "    is_scoo,\n",
        "    is_sdense,\n",
        "    is_sdict,\n",
        "    is_singlemode,\n",
        ")\n",
        "from sax.utils import (\n",
        "    block_diag,\n",
        "    mode_combinations,\n",
        "    validate_multimode,\n",
        "    validate_not_mixedmode,\n",
        ")\n",
        "\n",
        "try:\n",
        "    import jax.numpy as jnp\n",
        "    JAX_AVAILABLE = True\n",
        "except ImportError:\n",
        "    import numpy as jnp\n",
        "    JAX_AVAILABLE = False"
      ]
    },
    {
      "cell_type": "code",
      "execution_count": 4,
      "id": "12d953e947d090f8",
      "metadata": {
        "execution": {
          "iopub.execute_input": "2022-08-17T03:22:19.578451Z",
          "iopub.status.busy": "2022-08-17T03:22:19.578033Z",
          "iopub.status.idle": "2022-08-17T03:22:19.579027Z",
          "shell.execute_reply": "2022-08-17T03:22:19.579326Z"
        },
        "papermill": {
          "duration": 0.013226,
          "end_time": "2022-08-17T03:22:19.579435",
          "exception": false,
          "start_time": "2022-08-17T03:22:19.566209",
          "status": "completed"
        },
        "tags": [
          "remove-cell"
        ]
      },
      "outputs": [],
      "source": [
        "\n",
        "@overload\n",
        "def multimode(S: Model, modes: Tuple[str, ...] = (\"te\", \"tm\")) -> Model:\n",
        "    ...\n",
        "\n",
        "\n",
        "@overload\n",
        "def multimode(S: SDict, modes: Tuple[str, ...] = (\"te\", \"tm\")) -> SDict:\n",
        "    ...\n",
        "\n",
        "\n",
        "@overload\n",
        "def multimode(S: SCoo, modes: Tuple[str, ...] = (\"te\", \"tm\")) -> SCoo:\n",
        "    ...\n",
        "\n",
        "\n",
        "@overload\n",
        "def multimode(S: SDense, modes: Tuple[str, ...] = (\"te\", \"tm\")) -> SDense:\n",
        "    ..."
      ]
    },
    {
      "cell_type": "markdown",
      "id": "360673dd4284e604",
      "metadata": {},
      "source": [
        ":::{eval-rst}\n",
        ".. autofunction:: sax.multimode.multimode\n",
        ":::\n"
      ]
    },
    {
      "cell_type": "code",
      "execution_count": 5,
      "id": "9835cfb4536e09de",
      "metadata": {
        "execution": {
          "iopub.execute_input": "2022-08-17T03:22:19.595573Z",
          "iopub.status.busy": "2022-08-17T03:22:19.595139Z",
          "iopub.status.idle": "2022-08-17T03:22:19.606249Z",
          "shell.execute_reply": "2022-08-17T03:22:19.605903Z"
        },
        "papermill": {
          "duration": 0.019918,
          "end_time": "2022-08-17T03:22:19.606340",
          "exception": false,
          "start_time": "2022-08-17T03:22:19.586422",
          "status": "completed"
        },
        "tags": [
          "hide-input"
        ]
      },
      "outputs": [],
      "source": [
        "\n",
        "def multimode(\n",
        "    S: Union[SType, Model], modes: Tuple[str, ...] = (\"te\", \"tm\")\n",
        ") -> Union[SType, Model]:\n",
        "    \"\"\"Convert a single mode model to a multimode model\"\"\"\n",
        "    if is_model(S):\n",
        "        model = cast(Model, S)\n",
        "\n",
        "        @wraps(model)\n",
        "        def new_model(**params):\n",
        "            return multimode(model(**params), modes=modes)\n",
        "\n",
        "        return cast(Model, new_model)\n",
        "\n",
        "    S = cast(SType, S)\n",
        "\n",
        "    validate_not_mixedmode(S)\n",
        "    if is_multimode(S):\n",
        "        validate_multimode(S, modes=modes)\n",
        "        return S\n",
        "\n",
        "    if is_sdict(S):\n",
        "        return _multimode_sdict(cast(SDict, S), modes=modes)\n",
        "    elif is_scoo(S):\n",
        "        return _multimode_scoo(cast(SCoo, S), modes=modes)\n",
        "    elif is_sdense(S):\n",
        "        return _multimode_sdense(cast(SDense, S), modes=modes)\n",
        "    else:\n",
        "        raise ValueError(\"cannot convert to multimode. Unknown stype.\")\n",
        "\n",
        "\n",
        "def _multimode_sdict(sdict: SDict, modes: Tuple[str, ...] = (\"te\", \"tm\")) -> SDict:\n",
        "    multimode_sdict = {}\n",
        "    _mode_combinations = mode_combinations(modes)\n",
        "    for (p1, p2), value in sdict.items():\n",
        "        for (m1, m2) in _mode_combinations:\n",
        "            multimode_sdict[f\"{p1}@{m1}\", f\"{p2}@{m2}\"] = value\n",
        "    return multimode_sdict\n",
        "\n",
        "\n",
        "def _multimode_scoo(scoo: SCoo, modes: Tuple[str, ...] = (\"te\", \"tm\")) -> SCoo:\n",
        "\n",
        "    Si, Sj, Sx, port_map = scoo\n",
        "    num_ports = len(port_map)\n",
        "    mode_map = (\n",
        "        {mode: i for i, mode in enumerate(modes)}\n",
        "        if not isinstance(modes, dict)\n",
        "        else cast(Dict, modes)\n",
        "    )\n",
        "\n",
        "    _mode_combinations = mode_combinations(modes)\n",
        "\n",
        "    Si_m = jnp.concatenate(\n",
        "        [Si + mode_map[m] * num_ports for m, _ in _mode_combinations], -1\n",
        "    )\n",
        "    Sj_m = jnp.concatenate(\n",
        "        [Sj + mode_map[m] * num_ports for _, m in _mode_combinations], -1\n",
        "    )\n",
        "    Sx_m = jnp.concatenate([Sx for _ in _mode_combinations], -1)\n",
        "    port_map_m = {\n",
        "        f\"{port}@{mode}\": idx + mode_map[mode] * num_ports\n",
        "        for mode in modes\n",
        "        for port, idx in port_map.items()\n",
        "    }\n",
        "\n",
        "    return Si_m, Sj_m, Sx_m, port_map_m\n",
        "\n",
        "\n",
        "def _multimode_sdense(sdense, modes=(\"te\", \"tm\")):\n",
        "\n",
        "    Sx, port_map = sdense\n",
        "    num_ports = len(port_map)\n",
        "    mode_map = (\n",
        "        {mode: i for i, mode in enumerate(modes)}\n",
        "        if not isinstance(modes, dict)\n",
        "        else modes\n",
        "    )\n",
        "\n",
        "    Sx_m = block_diag(*(Sx for _ in modes))\n",
        "\n",
        "    port_map_m = {\n",
        "        f\"{port}@{mode}\": idx + mode_map[mode] * num_ports\n",
        "        for mode in modes\n",
        "        for port, idx in port_map.items()\n",
        "    }\n",
        "\n",
        "    return Sx_m, port_map_m"
      ]
    },
    {
      "cell_type": "code",
      "execution_count": 6,
      "id": "e4547870",
      "metadata": {
        "execution": {
          "iopub.execute_input": "2022-08-17T03:22:19.624115Z",
          "iopub.status.busy": "2022-08-17T03:22:19.623676Z",
          "iopub.status.idle": "2022-08-17T03:22:19.625406Z",
          "shell.execute_reply": "2022-08-17T03:22:19.625083Z"
        },
        "papermill": {
          "duration": 0.012165,
          "end_time": "2022-08-17T03:22:19.625515",
          "exception": false,
          "start_time": "2022-08-17T03:22:19.613350",
          "status": "completed"
        },
        "tags": []
      },
      "outputs": [],
      "source": [
        "sdict_s = {(\"in0\", \"out0\"): 1.0}\n",
        "sdict_m = multimode(sdict_s)\n",
        "assert sdict_m == {(\"in0@te\", \"out0@te\"): 1.0, (\"in0@tm\", \"out0@tm\"): 1.0}"
      ]
    },
    {
      "cell_type": "code",
      "execution_count": 7,
      "id": "95dab5a3",
      "metadata": {
        "execution": {
          "iopub.execute_input": "2022-08-17T03:22:19.643461Z",
          "iopub.status.busy": "2022-08-17T03:22:19.643042Z",
          "iopub.status.idle": "2022-08-17T03:22:19.767187Z",
          "shell.execute_reply": "2022-08-17T03:22:19.766812Z"
        },
        "papermill": {
          "duration": 0.134766,
          "end_time": "2022-08-17T03:22:19.767291",
          "exception": false,
          "start_time": "2022-08-17T03:22:19.632525",
          "status": "completed"
        },
        "tags": []
      },
      "outputs": [],
      "source": [
        "from sax.typing_ import scoo\n",
        "scoo_s = scoo(sdict_s)\n",
        "scoo_m = multimode(scoo_s)\n",
        "test_eq(scoo_m[0], jnp.array([0, 2], dtype=int))\n",
        "test_eq(scoo_m[1], jnp.array([1, 3], dtype=int))\n",
        "test_eq(scoo_m[2], jnp.array([1.0, 1.0], dtype=float))\n",
        "test_eq(scoo_m[3], {\"in0@te\": 0, \"out0@te\": 1, \"in0@tm\": 2, \"out0@tm\": 3})"
      ]
    },
    {
      "cell_type": "code",
      "execution_count": 8,
      "id": "3e5474e1",
      "metadata": {
        "execution": {
          "iopub.execute_input": "2022-08-17T03:22:19.793105Z",
          "iopub.status.busy": "2022-08-17T03:22:19.788080Z",
          "iopub.status.idle": "2022-08-17T03:22:20.007115Z",
          "shell.execute_reply": "2022-08-17T03:22:20.006330Z"
        },
        "papermill": {
          "duration": 0.232092,
          "end_time": "2022-08-17T03:22:20.007234",
          "exception": false,
          "start_time": "2022-08-17T03:22:19.775142",
          "status": "completed"
        },
        "tags": []
      },
      "outputs": [],
      "source": [
        "from sax.typing_ import sdense\n",
        "sdense_s = sdense(sdict_s)\n",
        "sdense_m = multimode(sdense_s)\n",
        "test_eq(\n",
        "    sdense_m[0],\n",
        "    [[0.0 + 0.0j, 1.0 + 0.0j, 0.0 + 0.0j, 0.0 + 0.0j],\n",
        "     [0.0 + 0.0j, 0.0 + 0.0j, 0.0 + 0.0j, 0.0 + 0.0j],\n",
        "     [0.0 + 0.0j, 0.0 + 0.0j, 0.0 + 0.0j, 1.0 + 0.0j],\n",
        "     [0.0 + 0.0j, 0.0 + 0.0j, 0.0 + 0.0j, 0.0 + 0.0j]],\n",
        ")\n",
        "test_eq(sdense_m[1], {\"in0@te\": 0, \"out0@te\": 1, \"in0@tm\": 2, \"out0@tm\": 3})"
      ]
    },
    {
      "cell_type": "code",
      "execution_count": 9,
      "id": "783a66a410e6b111",
      "metadata": {
        "execution": {
          "iopub.execute_input": "2022-08-17T03:22:20.026815Z",
          "iopub.status.busy": "2022-08-17T03:22:20.026149Z",
          "iopub.status.idle": "2022-08-17T03:22:20.027480Z",
          "shell.execute_reply": "2022-08-17T03:22:20.027800Z"
        },
        "papermill": {
          "duration": 0.01316,
          "end_time": "2022-08-17T03:22:20.027908",
          "exception": false,
          "start_time": "2022-08-17T03:22:20.014748",
          "status": "completed"
        },
        "tags": [
          "remove-cell"
        ]
      },
      "outputs": [],
      "source": [
        "\n",
        "@overload\n",
        "def singlemode(S: Model, mode: str = \"te\") -> Model:\n",
        "    ...\n",
        "\n",
        "\n",
        "@overload\n",
        "def singlemode(S: SDict, mode: str = \"te\") -> SDict:\n",
        "    ...\n",
        "\n",
        "\n",
        "@overload\n",
        "def singlemode(S: SCoo, mode: str = \"te\") -> SCoo:\n",
        "    ...\n",
        "\n",
        "\n",
        "@overload\n",
        "def singlemode(S: SDense, mode: str = \"te\") -> SDense:\n",
        "    ..."
      ]
    },
    {
      "cell_type": "markdown",
      "id": "a6f14745648736c3",
      "metadata": {},
      "source": [
        ":::{eval-rst}\n",
        ".. autofunction:: sax.multimode.singlemode\n",
        ":::\n"
      ]
    },
    {
      "cell_type": "code",
      "execution_count": 10,
      "id": "b00e1594a0d8ac90",
      "metadata": {
        "execution": {
          "iopub.execute_input": "2022-08-17T03:22:20.051947Z",
          "iopub.status.busy": "2022-08-17T03:22:20.051510Z",
          "iopub.status.idle": "2022-08-17T03:22:20.053100Z",
          "shell.execute_reply": "2022-08-17T03:22:20.052772Z"
        },
        "papermill": {
          "duration": 0.017828,
          "end_time": "2022-08-17T03:22:20.053193",
          "exception": false,
          "start_time": "2022-08-17T03:22:20.035365",
          "status": "completed"
        },
        "tags": [
          "hide-input"
        ]
      },
      "outputs": [],
      "source": [
        "\n",
        "def singlemode(S: Union[SType, Model], mode: str = \"te\") -> Union[SType, Model]:\n",
        "    \"\"\"Convert multimode model to a singlemode model\"\"\"\n",
        "    if is_model(S):\n",
        "        model = cast(Model, S)\n",
        "\n",
        "        @wraps(model)\n",
        "        def new_model(**params):\n",
        "            return singlemode(model(**params), mode=mode)\n",
        "\n",
        "        return cast(Model, new_model)\n",
        "\n",
        "    S = cast(SType, S)\n",
        "\n",
        "    validate_not_mixedmode(S)\n",
        "    if is_singlemode(S):\n",
        "        return S\n",
        "    if is_sdict(S):\n",
        "        return _singlemode_sdict(cast(SDict, S), mode=mode)\n",
        "    elif is_scoo(S):\n",
        "        return _singlemode_scoo(cast(SCoo, S), mode=mode)\n",
        "    elif is_sdense(S):\n",
        "        return _singlemode_sdense(cast(SDense, S), mode=mode)\n",
        "    else:\n",
        "        raise ValueError(\"cannot convert to multimode. Unknown stype.\")\n",
        "\n",
        "\n",
        "def _singlemode_sdict(sdict: SDict, mode: str = \"te\") -> SDict:\n",
        "    singlemode_sdict = {}\n",
        "    for (p1, p2), value in sdict.items():\n",
        "        if p1.endswith(f\"@{mode}\") and p2.endswith(f\"@{mode}\"):\n",
        "            p1, _ = p1.split(\"@\")\n",
        "            p2, _ = p2.split(\"@\")\n",
        "            singlemode_sdict[p1, p2] = value\n",
        "    return singlemode_sdict\n",
        "\n",
        "\n",
        "def _singlemode_scoo(scoo: SCoo, mode: str = \"te\") -> SCoo:\n",
        "    Si, Sj, Sx, port_map = scoo\n",
        "    # no need to touch the data...\n",
        "    # just removing some ports from the port map should be enough\n",
        "    port_map = {\n",
        "        port.split(\"@\")[0]: idx\n",
        "        for port, idx in port_map.items()\n",
        "        if port.endswith(f\"@{mode}\")\n",
        "    }\n",
        "    return Si, Sj, Sx, port_map\n",
        "\n",
        "\n",
        "def _singlemode_sdense(sdense: SDense, mode: str = \"te\") -> SDense:\n",
        "    Sx, port_map = sdense\n",
        "    # no need to touch the data...\n",
        "    # just removing some ports from the port map should be enough\n",
        "    port_map = {\n",
        "        port.split(\"@\")[0]: idx\n",
        "        for port, idx in port_map.items()\n",
        "        if port.endswith(f\"@{mode}\")\n",
        "    }\n",
        "    return Sx, port_map"
      ]
    },
    {
      "cell_type": "code",
      "execution_count": 11,
      "id": "2215f7c9",
      "metadata": {
        "execution": {
          "iopub.execute_input": "2022-08-17T03:22:20.071829Z",
          "iopub.status.busy": "2022-08-17T03:22:20.071394Z",
          "iopub.status.idle": "2022-08-17T03:22:20.072468Z",
          "shell.execute_reply": "2022-08-17T03:22:20.072786Z"
        },
        "papermill": {
          "duration": 0.012277,
          "end_time": "2022-08-17T03:22:20.072889",
          "exception": false,
          "start_time": "2022-08-17T03:22:20.060612",
          "status": "completed"
        },
        "tags": []
      },
      "outputs": [],
      "source": [
        "sdict_s = singlemode(sdict_m)\n",
        "assert sdict_s == {(\"in0\", \"out0\"): 1.0}"
      ]
    },
    {
      "cell_type": "code",
      "execution_count": 12,
      "id": "3f57f37b",
      "metadata": {
        "execution": {
          "iopub.execute_input": "2022-08-17T03:22:20.095224Z",
          "iopub.status.busy": "2022-08-17T03:22:20.089178Z",
          "iopub.status.idle": "2022-08-17T03:22:20.132186Z",
          "shell.execute_reply": "2022-08-17T03:22:20.131777Z"
        },
        "papermill": {
          "duration": 0.051917,
          "end_time": "2022-08-17T03:22:20.132285",
          "exception": false,
          "start_time": "2022-08-17T03:22:20.080368",
          "status": "completed"
        },
        "tags": []
      },
      "outputs": [],
      "source": [
        "scoo_s = singlemode(scoo_s)\n",
        "test_eq(scoo_s[0], jnp.array([0], dtype=int))\n",
        "test_eq(scoo_s[1], jnp.array([1], dtype=int))\n",
        "test_eq(scoo_s[2], jnp.array([1.0], dtype=float))\n",
        "test_eq(scoo_s[3], {'in0': 0, 'out0': 1})"
      ]
    },
    {
      "cell_type": "code",
      "execution_count": 13,
      "id": "94bc44fb",
      "metadata": {
        "execution": {
          "iopub.execute_input": "2022-08-17T03:22:20.154005Z",
          "iopub.status.busy": "2022-08-17T03:22:20.153156Z",
          "iopub.status.idle": "2022-08-17T03:22:20.154578Z",
          "shell.execute_reply": "2022-08-17T03:22:20.154903Z"
        },
        "papermill": {
          "duration": 0.014888,
          "end_time": "2022-08-17T03:22:20.155012",
          "exception": false,
          "start_time": "2022-08-17T03:22:20.140124",
          "status": "completed"
        },
        "tags": []
      },
      "outputs": [],
      "source": [
        "sdense_s = singlemode(sdense_m)\n",
        "test_eq(\n",
        "    sdense_s[0],\n",
        "    [[0.0 + 0.0j, 1.0 + 0.0j, 0.0 + 0.0j, 0.0 + 0.0j],\n",
        "     [0.0 + 0.0j, 0.0 + 0.0j, 0.0 + 0.0j, 0.0 + 0.0j],\n",
        "     [0.0 + 0.0j, 0.0 + 0.0j, 0.0 + 0.0j, 1.0 + 0.0j],\n",
        "     [0.0 + 0.0j, 0.0 + 0.0j, 0.0 + 0.0j, 0.0 + 0.0j]],\n",
        ")\n",
        "test_eq(sdense_s[1], {'in0': 0, 'out0': 1})"
      ]
    }
  ],
  "metadata": {
    "kernelspec": {
      "display_name": "sax",
      "language": "python",
      "name": "sax"
    },
    "language_info": {
      "codemirror_mode": {
        "name": "ipython",
        "version": 3
      },
      "file_extension": ".py",
      "mimetype": "text/x-python",
      "name": "python",
      "nbconvert_exporter": "python",
      "pygments_lexer": "ipython3",
      "version": "3.9.0"
    },
    "papermill": {
      "default_parameters": {},
      "duration": 2.765512,
      "end_time": "2022-08-17T03:22:20.369267",
      "environment_variables": {},
      "exception": null,
      "input_path": "./nbs/04_multimode.ipynb",
      "output_path": "./nbs/04_multimode.ipynb",
      "parameters": {},
      "start_time": "2022-08-17T03:22:17.603755",
      "version": "2.3.4"
    }
  },
  "nbformat": 4,
  "nbformat_minor": 5
}
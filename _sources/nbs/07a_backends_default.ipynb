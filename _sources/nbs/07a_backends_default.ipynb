{
  "cells": [
    {
      "cell_type": "code",
      "execution_count": 1,
      "id": "11546950016497ad",
      "metadata": {
        "execution": {
          "iopub.execute_input": "2022-08-04T04:33:04.016968Z",
          "iopub.status.busy": "2022-08-04T04:33:04.016513Z",
          "iopub.status.idle": "2022-08-04T04:33:04.019383Z",
          "shell.execute_reply": "2022-08-04T04:33:04.019752Z"
        },
        "papermill": {
          "duration": 0.028522,
          "end_time": "2022-08-04T04:33:04.019943",
          "exception": false,
          "start_time": "2022-08-04T04:33:03.991421",
          "status": "completed"
        },
        "tags": [
          "remove-cell"
        ]
      },
      "outputs": [],
      "source": []
    },
    {
      "cell_type": "markdown",
      "id": "41e0d311",
      "metadata": {
        "papermill": {
          "duration": 0.019593,
          "end_time": "2022-08-04T04:33:04.059532",
          "exception": false,
          "start_time": "2022-08-04T04:33:04.039939",
          "status": "completed"
        },
        "tags": []
      },
      "source": [
        "# Backend - default\n",
        "\n",
        "> Default SAX Backend"
      ]
    },
    {
      "cell_type": "code",
      "execution_count": 2,
      "id": "5a3f679b30c46ec8",
      "metadata": {
        "execution": {
          "iopub.execute_input": "2022-08-04T04:33:04.108153Z",
          "iopub.status.busy": "2022-08-04T04:33:04.102404Z",
          "iopub.status.idle": "2022-08-04T04:33:04.109751Z",
          "shell.execute_reply": "2022-08-04T04:33:04.110084Z"
        },
        "papermill": {
          "duration": 0.031174,
          "end_time": "2022-08-04T04:33:04.110198",
          "exception": false,
          "start_time": "2022-08-04T04:33:04.079024",
          "status": "completed"
        },
        "tags": [
          "remove-cell"
        ]
      },
      "outputs": [],
      "source": [
        "import os, sys; sys.stderr = open(os.devnull, \"w\")"
      ]
    },
    {
      "cell_type": "code",
      "execution_count": 3,
      "id": "e7f3eab974f2a2a4",
      "metadata": {
        "execution": {
          "iopub.execute_input": "2022-08-04T04:33:04.154100Z",
          "iopub.status.busy": "2022-08-04T04:33:04.153671Z",
          "iopub.status.idle": "2022-08-04T04:33:04.881344Z",
          "shell.execute_reply": "2022-08-04T04:33:04.880856Z"
        },
        "papermill": {
          "duration": 0.751798,
          "end_time": "2022-08-04T04:33:04.881487",
          "exception": false,
          "start_time": "2022-08-04T04:33:04.129689",
          "status": "completed"
        },
        "tags": [
          "hide-input"
        ]
      },
      "outputs": [],
      "source": [
        "from __future__ import annotations\n",
        "\n",
        "import warnings\n",
        "from types import SimpleNamespace\n",
        "from typing import Dict\n",
        "\n",
        "try:\n",
        "    import jax\n",
        "    import jax.numpy as jnp\n",
        "    JAX_AVAILABLE = True\n",
        "except ImportError:\n",
        "    import numpy as jnp\n",
        "    def jit(func, *args, **kwargs):\n",
        "        warnings.warn(\"[NO JAX] skipping jit! Please install JAX!\")\n",
        "        return func\n",
        "    \n",
        "    jax = SimpleNamespace(jit=jit)\n",
        "    JAX_AVAILABLE = False\n",
        "    \n",
        "from sax.typing_ import SDict, SType, sdict"
      ]
    },
    {
      "cell_type": "markdown",
      "id": "d8369d2f-9109-4375-8cb4-6d7ccabbd356",
      "metadata": {
        "papermill": {
          "duration": 0.020132,
          "end_time": "2022-08-04T04:33:04.922425",
          "exception": false,
          "start_time": "2022-08-04T04:33:04.902293",
          "status": "completed"
        },
        "tags": []
      },
      "source": [
        "## Citation\n",
        "The default SAX backend is based on the following paper:\n",
        "\n",
        "> Filipsson, Gunnar. \"*A new general computer algorithm for S-matrix calculation of interconnected multiports.*\" 11th European Microwave Conference. IEEE, 1981."
      ]
    },
    {
      "cell_type": "markdown",
      "id": "feea9c4f-0528-44e0-8e87-91234c6d29cc",
      "metadata": {
        "papermill": {
          "duration": 0.019948,
          "end_time": "2022-08-04T04:33:04.962271",
          "exception": false,
          "start_time": "2022-08-04T04:33:04.942323",
          "status": "completed"
        },
        "tags": []
      },
      "source": [
        "## Circuit Evaluation"
      ]
    },
    {
      "cell_type": "markdown",
      "id": "2d79c8b959f36d5a",
      "metadata": {},
      "source": [
        ":::{eval-rst}\n",
        ".. autofunction:: sax.backends.default.evaluate_circuit\n",
        ":::\n"
      ]
    },
    {
      "cell_type": "code",
      "execution_count": 4,
      "id": "a1c3136c6e0567a9",
      "metadata": {
        "execution": {
          "iopub.execute_input": "2022-08-04T04:33:05.004665Z",
          "iopub.status.busy": "2022-08-04T04:33:05.004189Z",
          "iopub.status.idle": "2022-08-04T04:33:05.018973Z",
          "shell.execute_reply": "2022-08-04T04:33:05.018612Z"
        },
        "papermill": {
          "duration": 0.037141,
          "end_time": "2022-08-04T04:33:05.019088",
          "exception": false,
          "start_time": "2022-08-04T04:33:04.981947",
          "status": "completed"
        },
        "tags": [
          "hide-input"
        ]
      },
      "outputs": [],
      "source": [
        "\n",
        "def evaluate_circuit(\n",
        "    instances: Dict[str, SType],\n",
        "    connections: Dict[str, str],\n",
        "    ports: Dict[str, str],\n",
        ") -> SDict:\n",
        "    \"\"\"evaluate a circuit for the given sdicts.\"\"\"\n",
        "    \n",
        "    # it's actually easier working w reverse:\n",
        "    reversed_ports = {v: k for k, v in ports.items()}\n",
        "\n",
        "    block_diag = {}\n",
        "    for name, S in instances.items():\n",
        "        block_diag.update(\n",
        "            {(f\"{name},{p1}\", f\"{name},{p2}\"): v for (p1, p2), v in sdict(S).items()}\n",
        "        )\n",
        "\n",
        "    sorted_connections = sorted(connections.items(), key=_connections_sort_key)\n",
        "    all_connected_instances = {k: {k} for k in instances}\n",
        "\n",
        "    for k, l in sorted_connections:\n",
        "        name1, _ = k.split(\",\")\n",
        "        name2, _ = l.split(\",\")\n",
        "\n",
        "        connected_instances = (\n",
        "            all_connected_instances[name1] | all_connected_instances[name2]\n",
        "        )\n",
        "        for name in connected_instances:\n",
        "            all_connected_instances[name] = connected_instances\n",
        "\n",
        "        current_ports = tuple(\n",
        "            p\n",
        "            for instance in connected_instances\n",
        "            for p in set([p for p, _ in block_diag] + [p for _, p in block_diag])\n",
        "            if p.startswith(f\"{instance},\")\n",
        "        )\n",
        "\n",
        "        block_diag.update(_interconnect_ports(block_diag, current_ports, k, l))\n",
        "\n",
        "        for i, j in list(block_diag.keys()):\n",
        "            is_connected = i == k or i == l or j == k or j == l\n",
        "            is_in_output_ports = i in reversed_ports and j in reversed_ports\n",
        "            if is_connected and not is_in_output_ports:\n",
        "                del block_diag[i, j]  # we're no longer interested in these port combinations\n",
        "\n",
        "    circuit_sdict: SDict = {\n",
        "        (reversed_ports[i], reversed_ports[j]): v\n",
        "        for (i, j), v in block_diag.items()\n",
        "        if i in reversed_ports and j in reversed_ports\n",
        "    }\n",
        "    return circuit_sdict\n",
        "\n",
        "\n",
        "def _connections_sort_key(connection):\n",
        "    \"\"\"sort key for sorting a connection dictionary \"\"\"\n",
        "    part1, part2 = connection\n",
        "    name1, _ = part1.split(\",\")\n",
        "    name2, _ = part2.split(\",\")\n",
        "    return (min(name1, name2), max(name1, name2))\n",
        "\n",
        "\n",
        "def _interconnect_ports(block_diag, current_ports, k, l):\n",
        "    \"\"\"interconnect two ports in a given model\n",
        "\n",
        "    > Note: the interconnect algorithm is based on equation 6 of 'Filipsson, Gunnar. \n",
        "      \"A new general computer algorithm for S-matrix calculation of interconnected \n",
        "      multiports.\" 11th European Microwave Conference. IEEE, 1981.'\n",
        "    \"\"\"\n",
        "    current_block_diag = {}\n",
        "    for i in current_ports:\n",
        "        for j in current_ports:\n",
        "            vij = _calculate_interconnected_value(\n",
        "                vij=block_diag.get((i, j), 0.0),\n",
        "                vik=block_diag.get((i, k), 0.0),\n",
        "                vil=block_diag.get((i, l), 0.0),\n",
        "                vkj=block_diag.get((k, j), 0.0),\n",
        "                vkk=block_diag.get((k, k), 0.0),\n",
        "                vkl=block_diag.get((k, l), 0.0),\n",
        "                vlj=block_diag.get((l, j), 0.0),\n",
        "                vlk=block_diag.get((l, k), 0.0),\n",
        "                vll=block_diag.get((l, l), 0.0),\n",
        "            )\n",
        "            current_block_diag[i, j] = vij\n",
        "    return current_block_diag\n",
        "\n",
        "\n",
        "@jax.jit\n",
        "def _calculate_interconnected_value(vij, vik, vil, vkj, vkk, vkl, vlj, vlk, vll):\n",
        "    \"\"\"Calculate an interconnected S-parameter value\n",
        "\n",
        "    Note:\n",
        "        The interconnect algorithm is based on equation 6 in the paper below::\n",
        "\n",
        "          Filipsson, Gunnar. \"A new general computer algorithm for S-matrix calculation\n",
        "          of interconnected multiports.\" 11th European Microwave Conference. IEEE, 1981.\n",
        "    \"\"\"\n",
        "    result = vij + (\n",
        "        vkj * vil * (1 - vlk)\n",
        "        + vlj * vik * (1 - vkl)\n",
        "        + vkj * vll * vik\n",
        "        + vlj * vkk * vil\n",
        "    ) / ((1 - vkl) * (1 - vlk) - vkk * vll)\n",
        "    return result"
      ]
    },
    {
      "cell_type": "markdown",
      "id": "9dabee38",
      "metadata": {
        "papermill": {
          "duration": 0.019581,
          "end_time": "2022-08-04T04:33:05.058719",
          "exception": false,
          "start_time": "2022-08-04T04:33:05.039138",
          "status": "completed"
        },
        "tags": []
      },
      "source": [
        "## Example"
      ]
    },
    {
      "cell_type": "code",
      "execution_count": 5,
      "id": "5ab7ea6c",
      "metadata": {
        "execution": {
          "iopub.execute_input": "2022-08-04T04:33:05.105296Z",
          "iopub.status.busy": "2022-08-04T04:33:05.104810Z",
          "iopub.status.idle": "2022-08-04T04:33:05.971247Z",
          "shell.execute_reply": "2022-08-04T04:33:05.971598Z"
        },
        "papermill": {
          "duration": 0.893493,
          "end_time": "2022-08-04T04:33:05.971749",
          "exception": false,
          "start_time": "2022-08-04T04:33:05.078256",
          "status": "completed"
        },
        "tags": []
      },
      "outputs": [
        {
          "data": {
            "text/plain": [
              "{('in0', 'in0'): 0j,\n",
              " ('in0', 'in1'): 0j,\n",
              " ('in1', 'in0'): 0j,\n",
              " ('in1', 'in1'): 0j,\n",
              " ('out0', 'out0'): 0j,\n",
              " ('out0', 'out1'): 0j,\n",
              " ('out1', 'out0'): 0j,\n",
              " ('out1', 'out1'): 0j,\n",
              " ('in1', 'out0'): -0.43301+0.75j,\n",
              " ('in1', 'out1'): 0.25-0.43301j,\n",
              " ('in0', 'out0'): -0.25+0.43301j,\n",
              " ('in0', 'out1'): -0.43301+0.75j,\n",
              " ('out0', 'in1'): -0.43301+0.75j,\n",
              " ('out0', 'in0'): -0.25+0.43301j,\n",
              " ('out1', 'in1'): 0.25-0.43301j,\n",
              " ('out1', 'in0'): -0.43301+0.75j}"
            ]
          },
          "execution_count": 5,
          "metadata": {},
          "output_type": "execute_result"
        }
      ],
      "source": [
        "wg_sdict: SDict = {\n",
        "    (\"in0\", \"out0\"): 0.5 + 0.86603j,\n",
        "    (\"out0\", \"in0\"): 0.5 + 0.86603j,\n",
        "}\n",
        "\n",
        "\u03c4, \u03ba = 0.5 ** 0.5, 1j * 0.5 ** 0.5\n",
        "dc_sdense: SDense = (\n",
        "    jnp.array([[0, 0, \u03c4, \u03ba], \n",
        "               [0, 0, \u03ba, \u03c4], \n",
        "               [\u03c4, \u03ba, 0, 0], \n",
        "               [\u03ba, \u03c4, 0, 0]]),\n",
        "    {\"in0\": 0, \"in1\": 1, \"out0\": 2, \"out1\": 3},\n",
        ")\n",
        "\n",
        "mzi_sdict: SDict = evaluate_circuit(\n",
        "    instances={\n",
        "        \"dc1\": dc_sdense,\n",
        "        \"wg\": wg_sdict,\n",
        "        \"dc2\": dc_sdense,\n",
        "    },\n",
        "    connections={\n",
        "        \"dc1,out0\": \"wg,in0\",\n",
        "        \"wg,out0\": \"dc2,in0\",\n",
        "        \"dc1,out1\": \"dc2,in1\",\n",
        "    },\n",
        "    ports={\n",
        "        \"in0\": \"dc1,in0\",\n",
        "        \"in1\": \"dc1,in1\",\n",
        "        \"out0\": \"dc2,out0\",\n",
        "        \"out1\": \"dc2,out1\",\n",
        "    }\n",
        ")\n",
        "\n",
        "mzi_sdict"
      ]
    },
    {
      "cell_type": "markdown",
      "id": "48950a3d",
      "metadata": {
        "papermill": {
          "duration": 0.020199,
          "end_time": "2022-08-04T04:33:06.012684",
          "exception": false,
          "start_time": "2022-08-04T04:33:05.992485",
          "status": "completed"
        },
        "tags": []
      },
      "source": [
        "## Algorithm Walkthrough\n",
        "\n",
        "> Note: This algorithm gets pretty slow for large circuits. I'd be [very interested in any improvements](#Algorithm-Improvements) that can be made here, especially because - as opposed to the currently faster [KLU backend](./07b_backends_klu.ipynb) - the algorithm discussed here is jittable, differentiable and can be used on GPUs."
      ]
    },
    {
      "cell_type": "markdown",
      "id": "81e28766",
      "metadata": {
        "papermill": {
          "duration": 0.020843,
          "end_time": "2022-08-04T04:33:06.053755",
          "exception": false,
          "start_time": "2022-08-04T04:33:06.032912",
          "status": "completed"
        },
        "tags": []
      },
      "source": [
        "Let's walk through all the steps of this algorithm. We'll do this for a simple MZI circuit, given by two directional couplers characterised by `dc_sdense` with a phase shifting waveguide in between `wg_sdict`:"
      ]
    },
    {
      "cell_type": "code",
      "execution_count": 6,
      "id": "e2bdfbf4",
      "metadata": {
        "execution": {
          "iopub.execute_input": "2022-08-04T04:33:06.098875Z",
          "iopub.status.busy": "2022-08-04T04:33:06.098404Z",
          "iopub.status.idle": "2022-08-04T04:33:06.099480Z",
          "shell.execute_reply": "2022-08-04T04:33:06.099886Z"
        },
        "papermill": {
          "duration": 0.026301,
          "end_time": "2022-08-04T04:33:06.100016",
          "exception": false,
          "start_time": "2022-08-04T04:33:06.073715",
          "status": "completed"
        },
        "tags": []
      },
      "outputs": [],
      "source": [
        "instances={\n",
        "    \"dc1\": dc_sdense,\n",
        "    \"wg\": wg_sdict,\n",
        "    \"dc2\": dc_sdense,\n",
        "}\n",
        "connections={\n",
        "    \"dc1,out0\": \"wg,in0\",\n",
        "    \"wg,out0\": \"dc2,in0\",\n",
        "    \"dc1,out1\": \"dc2,in1\",\n",
        "}\n",
        "ports={\n",
        "    \"in0\": \"dc1,in0\",\n",
        "    \"in1\": \"dc1,in1\",\n",
        "    \"out0\": \"dc2,out0\",\n",
        "    \"out1\": \"dc2,out1\",\n",
        "}"
      ]
    },
    {
      "cell_type": "markdown",
      "id": "6ef72161",
      "metadata": {
        "papermill": {
          "duration": 0.020325,
          "end_time": "2022-08-04T04:33:06.140932",
          "exception": false,
          "start_time": "2022-08-04T04:33:06.120607",
          "status": "completed"
        },
        "tags": []
      },
      "source": [
        "as a first step, we construct the `reversed_ports`, it's actually easier to work with `reversed_ports` (we chose the opposite convention in the netlist definition to adhere to the GDSFactory netlist convention):"
      ]
    },
    {
      "cell_type": "code",
      "execution_count": 7,
      "id": "70302612",
      "metadata": {
        "execution": {
          "iopub.execute_input": "2022-08-04T04:33:06.185991Z",
          "iopub.status.busy": "2022-08-04T04:33:06.185531Z",
          "iopub.status.idle": "2022-08-04T04:33:06.187237Z",
          "shell.execute_reply": "2022-08-04T04:33:06.186861Z"
        },
        "papermill": {
          "duration": 0.026184,
          "end_time": "2022-08-04T04:33:06.187344",
          "exception": false,
          "start_time": "2022-08-04T04:33:06.161160",
          "status": "completed"
        },
        "tags": []
      },
      "outputs": [],
      "source": [
        "reversed_ports = {v: k for k, v in ports.items()}"
      ]
    },
    {
      "cell_type": "markdown",
      "id": "78676045",
      "metadata": {
        "papermill": {
          "duration": 0.020529,
          "end_time": "2022-08-04T04:33:06.228272",
          "exception": false,
          "start_time": "2022-08-04T04:33:06.207743",
          "status": "completed"
        },
        "tags": []
      },
      "source": [
        "The first real step of the algorithm is to create the 'block diagonal sdict`:"
      ]
    },
    {
      "cell_type": "code",
      "execution_count": 8,
      "id": "0ff6149f",
      "metadata": {
        "execution": {
          "iopub.execute_input": "2022-08-04T04:33:06.274919Z",
          "iopub.status.busy": "2022-08-04T04:33:06.274468Z",
          "iopub.status.idle": "2022-08-04T04:33:06.315127Z",
          "shell.execute_reply": "2022-08-04T04:33:06.314709Z"
        },
        "papermill": {
          "duration": 0.066235,
          "end_time": "2022-08-04T04:33:06.315251",
          "exception": false,
          "start_time": "2022-08-04T04:33:06.249016",
          "status": "completed"
        },
        "tags": []
      },
      "outputs": [],
      "source": [
        "block_diag = {}\n",
        "for name, S in instances.items():\n",
        "    block_diag.update(\n",
        "        {(f\"{name},{p1}\", f\"{name},{p2}\"): v for (p1, p2), v in sdict(S).items()}\n",
        "    )\n"
      ]
    },
    {
      "cell_type": "markdown",
      "id": "c4721548",
      "metadata": {
        "papermill": {
          "duration": 0.020189,
          "end_time": "2022-08-04T04:33:06.356268",
          "exception": false,
          "start_time": "2022-08-04T04:33:06.336079",
          "status": "completed"
        },
        "tags": []
      },
      "source": [
        "we can optionally filter out zeros from the resulting block_diag representation. Just note that this will make the resuling function unjittable (the resulting 'shape' (i.e. keys) of the dictionary would depend on the data itself, which is not allowed in JAX jit). We're doing it here to avoid printing zeros but **internally this is not done by default**."
      ]
    },
    {
      "cell_type": "code",
      "execution_count": 9,
      "id": "cfce53c1",
      "metadata": {
        "execution": {
          "iopub.execute_input": "2022-08-04T04:33:06.400320Z",
          "iopub.status.busy": "2022-08-04T04:33:06.399876Z",
          "iopub.status.idle": "2022-08-04T04:33:06.482631Z",
          "shell.execute_reply": "2022-08-04T04:33:06.482248Z"
        },
        "papermill": {
          "duration": 0.105947,
          "end_time": "2022-08-04T04:33:06.482746",
          "exception": false,
          "start_time": "2022-08-04T04:33:06.376799",
          "status": "completed"
        },
        "tags": []
      },
      "outputs": [
        {
          "name": "stdout",
          "output_type": "stream",
          "text": [
            "18\n"
          ]
        },
        {
          "data": {
            "text/plain": [
              "{('dc1,in0', 'dc1,out0'): 0.70711+0j,\n",
              " ('dc1,in0', 'dc1,out1'): 0.70711j,\n",
              " ('dc1,in1', 'dc1,out0'): 0.70711j,\n",
              " ('dc1,in1', 'dc1,out1'): 0.70711+0j,\n",
              " ('dc1,out0', 'dc1,in0'): 0.70711+0j,\n",
              " ('dc1,out0', 'dc1,in1'): 0.70711j,\n",
              " ('dc1,out1', 'dc1,in0'): 0.70711j,\n",
              " ('dc1,out1', 'dc1,in1'): 0.70711+0j,\n",
              " ('wg,in0', 'wg,out0'): (0.5+0.86603j),\n",
              " ('wg,out0', 'wg,in0'): (0.5+0.86603j),\n",
              " ('dc2,in0', 'dc2,out0'): 0.70711+0j,\n",
              " ('dc2,in0', 'dc2,out1'): 0.70711j,\n",
              " ('dc2,in1', 'dc2,out0'): 0.70711j,\n",
              " ('dc2,in1', 'dc2,out1'): 0.70711+0j,\n",
              " ('dc2,out0', 'dc2,in0'): 0.70711+0j,\n",
              " ('dc2,out0', 'dc2,in1'): 0.70711j,\n",
              " ('dc2,out1', 'dc2,in0'): 0.70711j,\n",
              " ('dc2,out1', 'dc2,in1'): 0.70711+0j}"
            ]
          },
          "execution_count": 9,
          "metadata": {},
          "output_type": "execute_result"
        }
      ],
      "source": [
        "block_diag = {k: v for k, v in block_diag.items() if jnp.abs(v) > 1e-10}\n",
        "print(len(block_diag))\n",
        "block_diag"
      ]
    },
    {
      "cell_type": "markdown",
      "id": "1963694a",
      "metadata": {
        "papermill": {
          "duration": 0.020936,
          "end_time": "2022-08-04T04:33:06.524791",
          "exception": false,
          "start_time": "2022-08-04T04:33:06.503855",
          "status": "completed"
        },
        "tags": []
      },
      "source": [
        "next, we sort the connections such that similar components are grouped together:"
      ]
    },
    {
      "cell_type": "code",
      "execution_count": 10,
      "id": "9859c2d4",
      "metadata": {
        "execution": {
          "iopub.execute_input": "2022-08-04T04:33:06.572510Z",
          "iopub.status.busy": "2022-08-04T04:33:06.572060Z",
          "iopub.status.idle": "2022-08-04T04:33:06.573655Z",
          "shell.execute_reply": "2022-08-04T04:33:06.574072Z"
        },
        "papermill": {
          "duration": 0.027966,
          "end_time": "2022-08-04T04:33:06.574206",
          "exception": false,
          "start_time": "2022-08-04T04:33:06.546240",
          "status": "completed"
        },
        "tags": []
      },
      "outputs": [
        {
          "data": {
            "text/plain": [
              "[('dc1,out1', 'dc2,in1'), ('dc1,out0', 'wg,in0'), ('wg,out0', 'dc2,in0')]"
            ]
          },
          "execution_count": 10,
          "metadata": {},
          "output_type": "execute_result"
        }
      ],
      "source": [
        "sorted_connections = sorted(connections.items(), key=_connections_sort_key)\n",
        "sorted_connections"
      ]
    },
    {
      "cell_type": "markdown",
      "id": "c75fbf65",
      "metadata": {
        "papermill": {
          "duration": 0.021517,
          "end_time": "2022-08-04T04:33:06.617141",
          "exception": false,
          "start_time": "2022-08-04T04:33:06.595624",
          "status": "completed"
        },
        "tags": []
      },
      "source": [
        "Now we iterate over the sorted connections and connect components as they come in. Connected components take over the name of the first component in the connection, but we keep a set of components belonging to that key in `all_connected_instances`.\n",
        "\n",
        "This is how this `all_connected_instances` dictionary looks initially."
      ]
    },
    {
      "cell_type": "code",
      "execution_count": 11,
      "id": "cf30668c",
      "metadata": {
        "execution": {
          "iopub.execute_input": "2022-08-04T04:33:06.665405Z",
          "iopub.status.busy": "2022-08-04T04:33:06.664919Z",
          "iopub.status.idle": "2022-08-04T04:33:06.666616Z",
          "shell.execute_reply": "2022-08-04T04:33:06.666971Z"
        },
        "papermill": {
          "duration": 0.02859,
          "end_time": "2022-08-04T04:33:06.667112",
          "exception": false,
          "start_time": "2022-08-04T04:33:06.638522",
          "status": "completed"
        },
        "tags": []
      },
      "outputs": [
        {
          "data": {
            "text/plain": [
              "{'dc1': {'dc1'}, 'wg': {'wg'}, 'dc2': {'dc2'}}"
            ]
          },
          "execution_count": 11,
          "metadata": {},
          "output_type": "execute_result"
        }
      ],
      "source": [
        "all_connected_instances = {k: {k} for k in instances}\n",
        "all_connected_instances"
      ]
    },
    {
      "cell_type": "markdown",
      "id": "1152056b",
      "metadata": {
        "papermill": {
          "duration": 0.021747,
          "end_time": "2022-08-04T04:33:06.711039",
          "exception": false,
          "start_time": "2022-08-04T04:33:06.689292",
          "status": "completed"
        },
        "tags": []
      },
      "source": [
        "Normally we would loop over every connection in `sorted_connections` now, but let's just go through it once at first:"
      ]
    },
    {
      "cell_type": "code",
      "execution_count": 12,
      "id": "4406cbb2a1253733",
      "metadata": {
        "execution": {
          "iopub.execute_input": "2022-08-04T04:33:06.759482Z",
          "iopub.status.busy": "2022-08-04T04:33:06.759035Z",
          "iopub.status.idle": "2022-08-04T04:33:06.761522Z",
          "shell.execute_reply": "2022-08-04T04:33:06.761139Z"
        },
        "papermill": {
          "duration": 0.028719,
          "end_time": "2022-08-04T04:33:06.761637",
          "exception": false,
          "start_time": "2022-08-04T04:33:06.732918",
          "status": "completed"
        },
        "tags": []
      },
      "outputs": [
        {
          "data": {
            "text/plain": [
              "('dc1,out1', 'dc2,in1')"
            ]
          },
          "execution_count": 12,
          "metadata": {},
          "output_type": "execute_result"
        }
      ],
      "source": [
        "# for k, l in sorted_connections:\n",
        "k, l = sorted_connections[0]\n",
        "k, l"
      ]
    },
    {
      "cell_type": "markdown",
      "id": "16a2266c",
      "metadata": {
        "papermill": {
          "duration": 0.022003,
          "end_time": "2022-08-04T04:33:06.805623",
          "exception": false,
          "start_time": "2022-08-04T04:33:06.783620",
          "status": "completed"
        },
        "tags": []
      },
      "source": [
        "`k` and `l` are the S-matrix indices we're trying to connect. Note that in our sparse `SDict` notation these S-matrix indices are in fact equivalent with the port names `('dc1,out1', 'dc2,in1')`!"
      ]
    },
    {
      "cell_type": "markdown",
      "id": "0eaf4add",
      "metadata": {
        "papermill": {
          "duration": 0.022068,
          "end_time": "2022-08-04T04:33:06.849952",
          "exception": false,
          "start_time": "2022-08-04T04:33:06.827884",
          "status": "completed"
        },
        "tags": []
      },
      "source": [
        "first we split the connection string into an instance name and a port name (we don't use the port name yet):"
      ]
    },
    {
      "cell_type": "code",
      "execution_count": 13,
      "id": "667d1a3c",
      "metadata": {
        "execution": {
          "iopub.execute_input": "2022-08-04T04:33:06.898586Z",
          "iopub.status.busy": "2022-08-04T04:33:06.898120Z",
          "iopub.status.idle": "2022-08-04T04:33:06.901171Z",
          "shell.execute_reply": "2022-08-04T04:33:06.900759Z"
        },
        "papermill": {
          "duration": 0.029317,
          "end_time": "2022-08-04T04:33:06.901297",
          "exception": false,
          "start_time": "2022-08-04T04:33:06.871980",
          "status": "completed"
        },
        "tags": []
      },
      "outputs": [],
      "source": [
        "name1, _ = k.split(\",\")\n",
        "name2, _ = l.split(\",\")"
      ]
    },
    {
      "cell_type": "markdown",
      "id": "16e8bbe8",
      "metadata": {
        "papermill": {
          "duration": 0.022347,
          "end_time": "2022-08-04T04:33:06.945949",
          "exception": false,
          "start_time": "2022-08-04T04:33:06.923602",
          "status": "completed"
        },
        "tags": []
      },
      "source": [
        "We then obtain the new set of connected instances."
      ]
    },
    {
      "cell_type": "code",
      "execution_count": 14,
      "id": "51bf8615",
      "metadata": {
        "execution": {
          "iopub.execute_input": "2022-08-04T04:33:06.995297Z",
          "iopub.status.busy": "2022-08-04T04:33:06.993921Z",
          "iopub.status.idle": "2022-08-04T04:33:06.997148Z",
          "shell.execute_reply": "2022-08-04T04:33:06.997562Z"
        },
        "papermill": {
          "duration": 0.029161,
          "end_time": "2022-08-04T04:33:06.997717",
          "exception": false,
          "start_time": "2022-08-04T04:33:06.968556",
          "status": "completed"
        },
        "tags": []
      },
      "outputs": [
        {
          "data": {
            "text/plain": [
              "{'dc1', 'dc2'}"
            ]
          },
          "execution_count": 14,
          "metadata": {},
          "output_type": "execute_result"
        }
      ],
      "source": [
        "connected_instances = all_connected_instances[name1] | all_connected_instances[name2]\n",
        "connected_instances"
      ]
    },
    {
      "cell_type": "markdown",
      "id": "676c8d61",
      "metadata": {
        "papermill": {
          "duration": 0.02247,
          "end_time": "2022-08-04T04:33:07.042872",
          "exception": false,
          "start_time": "2022-08-04T04:33:07.020402",
          "status": "completed"
        },
        "tags": []
      },
      "source": [
        "We then iterate over each of the components in this set and make sure each of the component names in that set maps to that set (yes, I know... confusing). We do this to be able to keep track with which components each of the components in the circuit is currently already connected to."
      ]
    },
    {
      "cell_type": "code",
      "execution_count": 15,
      "id": "d322e86c",
      "metadata": {
        "execution": {
          "iopub.execute_input": "2022-08-04T04:33:07.093359Z",
          "iopub.status.busy": "2022-08-04T04:33:07.092868Z",
          "iopub.status.idle": "2022-08-04T04:33:07.094614Z",
          "shell.execute_reply": "2022-08-04T04:33:07.094947Z"
        },
        "papermill": {
          "duration": 0.029621,
          "end_time": "2022-08-04T04:33:07.095080",
          "exception": false,
          "start_time": "2022-08-04T04:33:07.065459",
          "status": "completed"
        },
        "tags": []
      },
      "outputs": [
        {
          "data": {
            "text/plain": [
              "{'dc1': {'dc1', 'dc2'}, 'wg': {'wg'}, 'dc2': {'dc1', 'dc2'}}"
            ]
          },
          "execution_count": 15,
          "metadata": {},
          "output_type": "execute_result"
        }
      ],
      "source": [
        "for name in connected_instances:\n",
        "    all_connected_instances[name] = connected_instances\n",
        "    \n",
        "all_connected_instances"
      ]
    },
    {
      "cell_type": "markdown",
      "id": "b79f49f8",
      "metadata": {
        "papermill": {
          "duration": 0.023722,
          "end_time": "2022-08-04T04:33:07.141626",
          "exception": false,
          "start_time": "2022-08-04T04:33:07.117904",
          "status": "completed"
        },
        "tags": []
      },
      "source": [
        "now we need to obtain all the ports of the currently connected instances."
      ]
    },
    {
      "cell_type": "code",
      "execution_count": 16,
      "id": "61b3cfab",
      "metadata": {
        "execution": {
          "iopub.execute_input": "2022-08-04T04:33:07.193363Z",
          "iopub.status.busy": "2022-08-04T04:33:07.192879Z",
          "iopub.status.idle": "2022-08-04T04:33:07.194543Z",
          "shell.execute_reply": "2022-08-04T04:33:07.194919Z"
        },
        "papermill": {
          "duration": 0.030526,
          "end_time": "2022-08-04T04:33:07.195052",
          "exception": false,
          "start_time": "2022-08-04T04:33:07.164526",
          "status": "completed"
        },
        "tags": []
      },
      "outputs": [
        {
          "data": {
            "text/plain": [
              "('dc1,in1',\n",
              " 'dc1,out1',\n",
              " 'dc1,in0',\n",
              " 'dc1,out0',\n",
              " 'dc2,out0',\n",
              " 'dc2,out1',\n",
              " 'dc2,in1',\n",
              " 'dc2,in0')"
            ]
          },
          "execution_count": 16,
          "metadata": {},
          "output_type": "execute_result"
        }
      ],
      "source": [
        "current_ports = tuple(\n",
        "    p\n",
        "    for instance in connected_instances\n",
        "    for p in set([p for p, _ in block_diag] + [p for _, p in block_diag])\n",
        "    if p.startswith(f\"{instance},\")\n",
        ")\n",
        "\n",
        "current_ports"
      ]
    },
    {
      "cell_type": "markdown",
      "id": "d0e87449",
      "metadata": {
        "papermill": {
          "duration": 0.023747,
          "end_time": "2022-08-04T04:33:07.242086",
          "exception": false,
          "start_time": "2022-08-04T04:33:07.218339",
          "status": "completed"
        },
        "tags": []
      },
      "source": [
        "Now the [Gunnar Algorithm](#citation) is used. Given a (block-diagonal) 'S-matrix' `block_diag` and a 'connection matrix' `current_ports` we can interconnect port `k` and `l` as follows:\n",
        "\n",
        "> Note: some creative freedom is used here. In SAX, the matrices we're talking about are in fact represented by a sparse dictionary (an `SDict`), i.e. similar to a COO sparse matrix for which the indices are the port names."
      ]
    },
    {
      "cell_type": "code",
      "execution_count": 17,
      "id": "431649e5",
      "metadata": {
        "execution": {
          "iopub.execute_input": "2022-08-04T04:33:07.301672Z",
          "iopub.status.busy": "2022-08-04T04:33:07.296612Z",
          "iopub.status.idle": "2022-08-04T04:33:07.897118Z",
          "shell.execute_reply": "2022-08-04T04:33:07.896653Z"
        },
        "papermill": {
          "duration": 0.631813,
          "end_time": "2022-08-04T04:33:07.897257",
          "exception": false,
          "start_time": "2022-08-04T04:33:07.265444",
          "status": "completed"
        },
        "tags": []
      },
      "outputs": [],
      "source": [
        "def _interconnect_ports(block_diag, current_ports, k, l):\n",
        "    current_block_diag = {}\n",
        "    for i in current_ports:\n",
        "        for j in current_ports:\n",
        "            vij = _calculate_interconnected_value(\n",
        "                vij=block_diag.get((i, j), 0.0),\n",
        "                vik=block_diag.get((i, k), 0.0),\n",
        "                vil=block_diag.get((i, l), 0.0),\n",
        "                vkj=block_diag.get((k, j), 0.0),\n",
        "                vkk=block_diag.get((k, k), 0.0),\n",
        "                vkl=block_diag.get((k, l), 0.0),\n",
        "                vlj=block_diag.get((l, j), 0.0),\n",
        "                vlk=block_diag.get((l, k), 0.0),\n",
        "                vll=block_diag.get((l, l), 0.0),\n",
        "            )\n",
        "            current_block_diag[i, j] = vij\n",
        "    return current_block_diag\n",
        "\n",
        "@jax.jit\n",
        "def _calculate_interconnected_value(vij, vik, vil, vkj, vkk, vkl, vlj, vlk, vll):\n",
        "    result = vij + (\n",
        "        vkj * vil * (1 - vlk)\n",
        "        + vlj * vik * (1 - vkl)\n",
        "        + vkj * vll * vik\n",
        "        + vlj * vkk * vil\n",
        "    ) / ((1 - vkl) * (1 - vlk) - vkk * vll)\n",
        "    return result\n",
        "\n",
        "block_diag.update(_interconnect_ports(block_diag, current_ports, k, l))"
      ]
    },
    {
      "cell_type": "markdown",
      "id": "988c08d9",
      "metadata": {
        "papermill": {
          "duration": 0.026353,
          "end_time": "2022-08-04T04:33:07.948345",
          "exception": false,
          "start_time": "2022-08-04T04:33:07.921992",
          "status": "completed"
        },
        "tags": []
      },
      "source": [
        "Just as before, we're filtering the zeros from the sparse representation (remember, internally this is **not done by default**)."
      ]
    },
    {
      "cell_type": "code",
      "execution_count": 18,
      "id": "e9ac8164",
      "metadata": {
        "execution": {
          "iopub.execute_input": "2022-08-04T04:33:08.001484Z",
          "iopub.status.busy": "2022-08-04T04:33:08.000988Z",
          "iopub.status.idle": "2022-08-04T04:33:08.036554Z",
          "shell.execute_reply": "2022-08-04T04:33:08.036939Z"
        },
        "papermill": {
          "duration": 0.063561,
          "end_time": "2022-08-04T04:33:08.037099",
          "exception": false,
          "start_time": "2022-08-04T04:33:07.973538",
          "status": "completed"
        },
        "tags": []
      },
      "outputs": [
        {
          "name": "stdout",
          "output_type": "stream",
          "text": [
            "26\n"
          ]
        },
        {
          "data": {
            "text/plain": [
              "{('dc1,in0', 'dc1,out0'): 0.70711+0j,\n",
              " ('dc1,in0', 'dc1,out1'): 0.70711j,\n",
              " ('dc1,in1', 'dc1,out0'): 0.70711j,\n",
              " ('dc1,in1', 'dc1,out1'): 0.70711+0j,\n",
              " ('dc1,out0', 'dc1,in0'): 0.70711+0j,\n",
              " ('dc1,out0', 'dc1,in1'): 0.70711j,\n",
              " ('dc1,out1', 'dc1,in0'): 0.70711j,\n",
              " ('dc1,out1', 'dc1,in1'): 0.70711+0j,\n",
              " ('wg,in0', 'wg,out0'): (0.5+0.86603j),\n",
              " ('wg,out0', 'wg,in0'): (0.5+0.86603j),\n",
              " ('dc2,in0', 'dc2,out0'): 0.70711+0j,\n",
              " ('dc2,in0', 'dc2,out1'): 0.70711j,\n",
              " ('dc2,in1', 'dc2,out0'): 0.70711j,\n",
              " ('dc2,in1', 'dc2,out1'): 0.70711+0j,\n",
              " ('dc2,out0', 'dc2,in0'): 0.70711+0j,\n",
              " ('dc2,out0', 'dc2,in1'): 0.70711j,\n",
              " ('dc2,out1', 'dc2,in0'): 0.70711j,\n",
              " ('dc2,out1', 'dc2,in1'): 0.70711+0j,\n",
              " ('dc1,in1', 'dc2,out0'): 0.5j,\n",
              " ('dc1,in1', 'dc2,out1'): 0.5+0j,\n",
              " ('dc1,in0', 'dc2,out0'): -0.5+0j,\n",
              " ('dc1,in0', 'dc2,out1'): 0.5j,\n",
              " ('dc2,out0', 'dc1,in1'): 0.5j,\n",
              " ('dc2,out0', 'dc1,in0'): -0.5+0j,\n",
              " ('dc2,out1', 'dc1,in1'): 0.5+0j,\n",
              " ('dc2,out1', 'dc1,in0'): 0.5j}"
            ]
          },
          "execution_count": 18,
          "metadata": {},
          "output_type": "execute_result"
        }
      ],
      "source": [
        "block_diag = {k: v for k, v in block_diag.items() if jnp.abs(v) > 1e-10}\n",
        "print(len(block_diag))\n",
        "block_diag"
      ]
    },
    {
      "cell_type": "markdown",
      "id": "db0cd151",
      "metadata": {
        "papermill": {
          "duration": 0.023651,
          "end_time": "2022-08-04T04:33:08.084977",
          "exception": false,
          "start_time": "2022-08-04T04:33:08.061326",
          "status": "completed"
        },
        "tags": []
      },
      "source": [
        "This is the resulting block-diagonal matrix after interconnecting two ports (i.e. basically saying that those two ports are the same port). Because these ports are now connected we should actually remove them from the S-matrix representation (they are integrated into the S-parameters of the other connections):"
      ]
    },
    {
      "cell_type": "code",
      "execution_count": 19,
      "id": "311b034f",
      "metadata": {
        "execution": {
          "iopub.execute_input": "2022-08-04T04:33:08.138370Z",
          "iopub.status.busy": "2022-08-04T04:33:08.137920Z",
          "iopub.status.idle": "2022-08-04T04:33:08.142168Z",
          "shell.execute_reply": "2022-08-04T04:33:08.142498Z"
        },
        "papermill": {
          "duration": 0.033767,
          "end_time": "2022-08-04T04:33:08.142623",
          "exception": false,
          "start_time": "2022-08-04T04:33:08.108856",
          "status": "completed"
        },
        "tags": []
      },
      "outputs": [
        {
          "name": "stdout",
          "output_type": "stream",
          "text": [
            "18\n"
          ]
        },
        {
          "data": {
            "text/plain": [
              "{('dc1,in0', 'dc1,out0'): 0.70711+0j,\n",
              " ('dc1,in1', 'dc1,out0'): 0.70711j,\n",
              " ('dc1,out0', 'dc1,in0'): 0.70711+0j,\n",
              " ('dc1,out0', 'dc1,in1'): 0.70711j,\n",
              " ('wg,in0', 'wg,out0'): (0.5+0.86603j),\n",
              " ('wg,out0', 'wg,in0'): (0.5+0.86603j),\n",
              " ('dc2,in0', 'dc2,out0'): 0.70711+0j,\n",
              " ('dc2,in0', 'dc2,out1'): 0.70711j,\n",
              " ('dc2,out0', 'dc2,in0'): 0.70711+0j,\n",
              " ('dc2,out1', 'dc2,in0'): 0.70711j,\n",
              " ('dc1,in1', 'dc2,out0'): 0.5j,\n",
              " ('dc1,in1', 'dc2,out1'): 0.5+0j,\n",
              " ('dc1,in0', 'dc2,out0'): -0.5+0j,\n",
              " ('dc1,in0', 'dc2,out1'): 0.5j,\n",
              " ('dc2,out0', 'dc1,in1'): 0.5j,\n",
              " ('dc2,out0', 'dc1,in0'): -0.5+0j,\n",
              " ('dc2,out1', 'dc1,in1'): 0.5+0j,\n",
              " ('dc2,out1', 'dc1,in0'): 0.5j}"
            ]
          },
          "execution_count": 19,
          "metadata": {},
          "output_type": "execute_result"
        }
      ],
      "source": [
        "for i, j in list(block_diag.keys()):\n",
        "    is_connected = i == k or i == l or j == k or j == l\n",
        "    is_in_output_ports = i in reversed_ports and j in reversed_ports\n",
        "    if is_connected and not is_in_output_ports:\n",
        "        del block_diag[i, j]  # we're no longer interested in these port combinations\n",
        "        \n",
        "print(len(block_diag))\n",
        "block_diag"
      ]
    },
    {
      "cell_type": "markdown",
      "id": "b6badcb7",
      "metadata": {
        "papermill": {
          "duration": 0.024436,
          "end_time": "2022-08-04T04:33:08.191546",
          "exception": false,
          "start_time": "2022-08-04T04:33:08.167110",
          "status": "completed"
        },
        "tags": []
      },
      "source": [
        "Note that this deletion of values **does NOT** make this operation un-jittable. The deletion depends on the ports of the dictionary (i.e. on the dictionary 'shape'), not on the values."
      ]
    },
    {
      "cell_type": "markdown",
      "id": "89e775cd",
      "metadata": {
        "papermill": {
          "duration": 0.024231,
          "end_time": "2022-08-04T04:33:08.240214",
          "exception": false,
          "start_time": "2022-08-04T04:33:08.215983",
          "status": "completed"
        },
        "tags": []
      },
      "source": [
        "We now basically have to do those steps again for all other connections:"
      ]
    },
    {
      "cell_type": "code",
      "execution_count": 20,
      "id": "1aa649c30c72515c",
      "metadata": {
        "execution": {
          "iopub.execute_input": "2022-08-04T04:33:08.305528Z",
          "iopub.status.busy": "2022-08-04T04:33:08.295355Z",
          "iopub.status.idle": "2022-08-04T04:33:09.602741Z",
          "shell.execute_reply": "2022-08-04T04:33:09.602279Z"
        },
        "papermill": {
          "duration": 1.337931,
          "end_time": "2022-08-04T04:33:09.602880",
          "exception": false,
          "start_time": "2022-08-04T04:33:08.264949",
          "status": "completed"
        },
        "tags": []
      },
      "outputs": [],
      "source": [
        "#for k, l in sorted_connections: \n",
        "for k, l in sorted_connections[1:]: # we just did the first iteration of this loop above...\n",
        "    name1, _ = k.split(\",\")\n",
        "    name2, _ = l.split(\",\")\n",
        "    connected_instances = all_connected_instances[name1] | all_connected_instances[name2]\n",
        "    for name in connected_instances:\n",
        "        all_connected_instances[name] = connected_instances\n",
        "    current_ports = tuple(\n",
        "        p\n",
        "        for instance in connected_instances\n",
        "        for p in set([p for p, _ in block_diag] + [p for _, p in block_diag])\n",
        "        if p.startswith(f\"{instance},\")\n",
        "    )\n",
        "    block_diag.update(_interconnect_ports(block_diag, current_ports, k, l))\n",
        "    for i, j in list(block_diag.keys()):\n",
        "        is_connected = i == k or i == l or j == k or j == l\n",
        "        is_in_output_ports = i in reversed_ports and j in reversed_ports\n",
        "        if is_connected and not is_in_output_ports:\n",
        "            del block_diag[i, j]  # we're no longer interested in these port combinations"
      ]
    },
    {
      "cell_type": "markdown",
      "id": "36eb82fc",
      "metadata": {
        "papermill": {
          "duration": 0.024737,
          "end_time": "2022-08-04T04:33:09.653112",
          "exception": false,
          "start_time": "2022-08-04T04:33:09.628375",
          "status": "completed"
        },
        "tags": []
      },
      "source": [
        "This is the final MZI matrix we're getting:"
      ]
    },
    {
      "cell_type": "code",
      "execution_count": 21,
      "id": "d1c0367e",
      "metadata": {
        "execution": {
          "iopub.execute_input": "2022-08-04T04:33:09.706310Z",
          "iopub.status.busy": "2022-08-04T04:33:09.705865Z",
          "iopub.status.idle": "2022-08-04T04:33:09.709928Z",
          "shell.execute_reply": "2022-08-04T04:33:09.709582Z"
        },
        "papermill": {
          "duration": 0.03264,
          "end_time": "2022-08-04T04:33:09.710035",
          "exception": false,
          "start_time": "2022-08-04T04:33:09.677395",
          "status": "completed"
        },
        "tags": []
      },
      "outputs": [
        {
          "data": {
            "text/plain": [
              "{('dc1,in1', 'dc2,out0'): -0.43301+0.75j,\n",
              " ('dc1,in1', 'dc2,out1'): 0.25-0.43301j,\n",
              " ('dc1,in0', 'dc2,out0'): -0.25+0.43301j,\n",
              " ('dc1,in0', 'dc2,out1'): -0.43301+0.75j,\n",
              " ('dc2,out0', 'dc1,in1'): -0.43301+0.75j,\n",
              " ('dc2,out0', 'dc1,in0'): -0.25+0.43301j,\n",
              " ('dc2,out1', 'dc1,in1'): 0.25-0.43301j,\n",
              " ('dc2,out1', 'dc1,in0'): -0.43301+0.75j,\n",
              " ('dc1,in1', 'dc1,in1'): 0j,\n",
              " ('dc1,in1', 'dc1,in0'): 0j,\n",
              " ('dc1,in0', 'dc1,in1'): 0j,\n",
              " ('dc1,in0', 'dc1,in0'): 0j,\n",
              " ('dc2,out0', 'dc2,out0'): 0j,\n",
              " ('dc2,out0', 'dc2,out1'): 0j,\n",
              " ('dc2,out1', 'dc2,out0'): 0j,\n",
              " ('dc2,out1', 'dc2,out1'): 0j}"
            ]
          },
          "execution_count": 21,
          "metadata": {},
          "output_type": "execute_result"
        }
      ],
      "source": [
        "block_diag"
      ]
    },
    {
      "cell_type": "markdown",
      "id": "03f67ec6",
      "metadata": {
        "papermill": {
          "duration": 0.024922,
          "end_time": "2022-08-04T04:33:09.759637",
          "exception": false,
          "start_time": "2022-08-04T04:33:09.734715",
          "status": "completed"
        },
        "tags": []
      },
      "source": [
        "All that's left is to rename these internal ports of the format `{instance},{port}` into output ports of the resulting circuit:"
      ]
    },
    {
      "cell_type": "code",
      "execution_count": 22,
      "id": "cf5ea4af",
      "metadata": {
        "execution": {
          "iopub.execute_input": "2022-08-04T04:33:09.813534Z",
          "iopub.status.busy": "2022-08-04T04:33:09.813069Z",
          "iopub.status.idle": "2022-08-04T04:33:09.817171Z",
          "shell.execute_reply": "2022-08-04T04:33:09.816826Z"
        },
        "papermill": {
          "duration": 0.033299,
          "end_time": "2022-08-04T04:33:09.817296",
          "exception": false,
          "start_time": "2022-08-04T04:33:09.783997",
          "status": "completed"
        },
        "tags": []
      },
      "outputs": [
        {
          "data": {
            "text/plain": [
              "{('in1', 'out0'): -0.43301+0.75j,\n",
              " ('in1', 'out1'): 0.25-0.43301j,\n",
              " ('in0', 'out0'): -0.25+0.43301j,\n",
              " ('in0', 'out1'): -0.43301+0.75j,\n",
              " ('out0', 'in1'): -0.43301+0.75j,\n",
              " ('out0', 'in0'): -0.25+0.43301j,\n",
              " ('out1', 'in1'): 0.25-0.43301j,\n",
              " ('out1', 'in0'): -0.43301+0.75j,\n",
              " ('in1', 'in1'): 0j,\n",
              " ('in1', 'in0'): 0j,\n",
              " ('in0', 'in1'): 0j,\n",
              " ('in0', 'in0'): 0j,\n",
              " ('out0', 'out0'): 0j,\n",
              " ('out0', 'out1'): 0j,\n",
              " ('out1', 'out0'): 0j,\n",
              " ('out1', 'out1'): 0j}"
            ]
          },
          "execution_count": 22,
          "metadata": {},
          "output_type": "execute_result"
        }
      ],
      "source": [
        "circuit_sdict: SDict = {\n",
        "    (reversed_ports[i], reversed_ports[j]): v\n",
        "    for (i, j), v in block_diag.items()\n",
        "    if i in reversed_ports and j in reversed_ports\n",
        "}\n",
        "circuit_sdict"
      ]
    },
    {
      "cell_type": "markdown",
      "id": "7dc6505e",
      "metadata": {
        "papermill": {
          "duration": 0.025036,
          "end_time": "2022-08-04T04:33:09.867366",
          "exception": false,
          "start_time": "2022-08-04T04:33:09.842330",
          "status": "completed"
        },
        "tags": []
      },
      "source": [
        "And that's it. We evaluated the `SDict` of the full circuit."
      ]
    },
    {
      "cell_type": "markdown",
      "id": "170db10b",
      "metadata": {
        "papermill": {
          "duration": 0.024973,
          "end_time": "2022-08-04T04:33:09.917383",
          "exception": false,
          "start_time": "2022-08-04T04:33:09.892410",
          "status": "completed"
        },
        "tags": []
      },
      "source": [
        "## Algorithm Improvements"
      ]
    },
    {
      "cell_type": "markdown",
      "id": "4ed0e69a",
      "metadata": {
        "papermill": {
          "duration": 0.025028,
          "end_time": "2022-08-04T04:33:09.967519",
          "exception": false,
          "start_time": "2022-08-04T04:33:09.942491",
          "status": "completed"
        },
        "tags": []
      },
      "source": [
        "This algorithm is \n",
        "\n",
        "* pretty fast for small circuits \ud83d\ude42\n",
        "* jittable \ud83d\ude42\n",
        "* differentiable \ud83d\ude42\n",
        "* GPU-compatible \ud83d\ude42\n",
        "\n",
        "This algorithm is however:\n",
        "\n",
        "* **really slow** for large circuits \ud83d\ude25\n",
        "* **pretty slow** to jit the resulting circuit function \ud83d\ude25\n",
        "* **pretty slow** to differentiate the resulting circuit function \ud83d\ude25\n",
        "\n",
        "There are probably still plenty of improvements possible for this algorithm:\n",
        "\n",
        "* **\u00bf** Network analysis (ft. NetworkX ?) to obtain which ports of the block diagonal representation are relevant to obtain the output connection **?**\n",
        "* **\u00bf** Smarter ordering of connections to always have the minimum amount of ports in the intermediate block-diagonal representation **?**\n",
        "* **\u00bf** Using `jax.lax.scan` in stead of python native for-loops in `_interconnect_ports` **?**\n",
        "* **\u00bf** ... **?**\n",
        "\n",
        "Bottom line is... Do you know how to improve this algorithm or how to implement the above suggestions? Please open a Merge Request!"
      ]
    }
  ],
  "metadata": {
    "kernelspec": {
      "display_name": "sax",
      "language": "python",
      "name": "sax"
    },
    "language_info": {
      "codemirror_mode": {
        "name": "ipython",
        "version": 3
      },
      "file_extension": ".py",
      "mimetype": "text/x-python",
      "name": "python",
      "nbconvert_exporter": "python",
      "pygments_lexer": "ipython3",
      "version": "3.9.0"
    },
    "papermill": {
      "default_parameters": {},
      "duration": 8.408814,
      "end_time": "2022-08-04T04:33:11.253909",
      "environment_variables": {},
      "exception": null,
      "input_path": "./nbs/07a_backends_default.ipynb",
      "output_path": "./nbs/07a_backends_default.ipynb",
      "parameters": {},
      "start_time": "2022-08-04T04:33:02.845095",
      "version": "2.3.4"
    }
  },
  "nbformat": 4,
  "nbformat_minor": 5
}
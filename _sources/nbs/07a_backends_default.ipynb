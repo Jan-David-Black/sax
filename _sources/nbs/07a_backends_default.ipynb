{
  "cells": [
    {
      "cell_type": "code",
      "execution_count": 1,
      "id": "686f81d786b0b01d",
      "metadata": {
        "execution": {
          "iopub.execute_input": "2022-08-04T05:49:01.068761Z",
          "iopub.status.busy": "2022-08-04T05:49:01.068231Z",
          "iopub.status.idle": "2022-08-04T05:49:01.071299Z",
          "shell.execute_reply": "2022-08-04T05:49:01.070800Z"
        },
        "papermill": {
          "duration": 0.03338,
          "end_time": "2022-08-04T05:49:01.071436",
          "exception": false,
          "start_time": "2022-08-04T05:49:01.038056",
          "status": "completed"
        },
        "tags": [
          "remove-cell"
        ]
      },
      "outputs": [],
      "source": []
    },
    {
      "cell_type": "markdown",
      "id": "41e0d311",
      "metadata": {
        "papermill": {
          "duration": 0.024084,
          "end_time": "2022-08-04T05:49:01.119973",
          "exception": false,
          "start_time": "2022-08-04T05:49:01.095889",
          "status": "completed"
        },
        "tags": []
      },
      "source": [
        "# Backend - default\n",
        "\n",
        "> Default SAX Backend"
      ]
    },
    {
      "cell_type": "code",
      "execution_count": 2,
      "id": "3ab7fb634db90964",
      "metadata": {
        "execution": {
          "iopub.execute_input": "2022-08-04T05:49:01.176627Z",
          "iopub.status.busy": "2022-08-04T05:49:01.171222Z",
          "iopub.status.idle": "2022-08-04T05:49:01.178897Z",
          "shell.execute_reply": "2022-08-04T05:49:01.178432Z"
        },
        "papermill": {
          "duration": 0.035104,
          "end_time": "2022-08-04T05:49:01.179022",
          "exception": false,
          "start_time": "2022-08-04T05:49:01.143918",
          "status": "completed"
        },
        "tags": [
          "remove-cell"
        ]
      },
      "outputs": [],
      "source": [
        "import os, sys; sys.stderr = open(os.devnull, \"w\")"
      ]
    },
    {
      "cell_type": "code",
      "execution_count": 3,
      "id": "e1a23dd76418dc5c",
      "metadata": {
        "execution": {
          "iopub.execute_input": "2022-08-04T05:49:01.235447Z",
          "iopub.status.busy": "2022-08-04T05:49:01.234719Z",
          "iopub.status.idle": "2022-08-04T05:49:02.133372Z",
          "shell.execute_reply": "2022-08-04T05:49:02.132923Z"
        },
        "papermill": {
          "duration": 0.930398,
          "end_time": "2022-08-04T05:49:02.133499",
          "exception": false,
          "start_time": "2022-08-04T05:49:01.203101",
          "status": "completed"
        },
        "tags": [
          "hide-input"
        ]
      },
      "outputs": [],
      "source": [
        "from __future__ import annotations\n",
        "\n",
        "import warnings\n",
        "from types import SimpleNamespace\n",
        "from typing import Dict\n",
        "\n",
        "try:\n",
        "    import jax\n",
        "    import jax.numpy as jnp\n",
        "    JAX_AVAILABLE = True\n",
        "except ImportError:\n",
        "    import numpy as jnp\n",
        "    def jit(func, *args, **kwargs):\n",
        "        warnings.warn(\"[NO JAX] skipping jit! Please install JAX!\")\n",
        "        return func\n",
        "    \n",
        "    jax = SimpleNamespace(jit=jit)\n",
        "    JAX_AVAILABLE = False\n",
        "    \n",
        "from sax.typing_ import SDict, SType, sdict"
      ]
    },
    {
      "cell_type": "markdown",
      "id": "d8369d2f-9109-4375-8cb4-6d7ccabbd356",
      "metadata": {
        "papermill": {
          "duration": 0.026614,
          "end_time": "2022-08-04T05:49:02.187272",
          "exception": false,
          "start_time": "2022-08-04T05:49:02.160658",
          "status": "completed"
        },
        "tags": []
      },
      "source": [
        "## Citation\n",
        "The default SAX backend is based on the following paper:\n",
        "\n",
        "> Filipsson, Gunnar. \"*A new general computer algorithm for S-matrix calculation of interconnected multiports.*\" 11th European Microwave Conference. IEEE, 1981."
      ]
    },
    {
      "cell_type": "markdown",
      "id": "feea9c4f-0528-44e0-8e87-91234c6d29cc",
      "metadata": {
        "papermill": {
          "duration": 0.024528,
          "end_time": "2022-08-04T05:49:02.236162",
          "exception": false,
          "start_time": "2022-08-04T05:49:02.211634",
          "status": "completed"
        },
        "tags": []
      },
      "source": [
        "## Circuit Evaluation"
      ]
    },
    {
      "cell_type": "markdown",
      "id": "a1063ee3f360c981",
      "metadata": {},
      "source": [
        ":::{eval-rst}\n",
        ".. autofunction:: sax.backends.default.evaluate_circuit\n",
        ":::\n"
      ]
    },
    {
      "cell_type": "code",
      "execution_count": 4,
      "id": "8ac8546cdd155102",
      "metadata": {
        "execution": {
          "iopub.execute_input": "2022-08-04T05:49:02.297382Z",
          "iopub.status.busy": "2022-08-04T05:49:02.291442Z",
          "iopub.status.idle": "2022-08-04T05:49:02.308645Z",
          "shell.execute_reply": "2022-08-04T05:49:02.307968Z"
        },
        "papermill": {
          "duration": 0.048248,
          "end_time": "2022-08-04T05:49:02.308787",
          "exception": false,
          "start_time": "2022-08-04T05:49:02.260539",
          "status": "completed"
        },
        "tags": [
          "hide-input"
        ]
      },
      "outputs": [],
      "source": [
        "\n",
        "def evaluate_circuit(\n",
        "    instances: Dict[str, SType],\n",
        "    connections: Dict[str, str],\n",
        "    ports: Dict[str, str],\n",
        ") -> SDict:\n",
        "    \"\"\"evaluate a circuit for the given sdicts.\"\"\"\n",
        "    \n",
        "    # it's actually easier working w reverse:\n",
        "    reversed_ports = {v: k for k, v in ports.items()}\n",
        "\n",
        "    block_diag = {}\n",
        "    for name, S in instances.items():\n",
        "        block_diag.update(\n",
        "            {(f\"{name},{p1}\", f\"{name},{p2}\"): v for (p1, p2), v in sdict(S).items()}\n",
        "        )\n",
        "\n",
        "    sorted_connections = sorted(connections.items(), key=_connections_sort_key)\n",
        "    all_connected_instances = {k: {k} for k in instances}\n",
        "\n",
        "    for k, l in sorted_connections:\n",
        "        name1, _ = k.split(\",\")\n",
        "        name2, _ = l.split(\",\")\n",
        "\n",
        "        connected_instances = (\n",
        "            all_connected_instances[name1] | all_connected_instances[name2]\n",
        "        )\n",
        "        for name in connected_instances:\n",
        "            all_connected_instances[name] = connected_instances\n",
        "\n",
        "        current_ports = tuple(\n",
        "            p\n",
        "            for instance in connected_instances\n",
        "            for p in set([p for p, _ in block_diag] + [p for _, p in block_diag])\n",
        "            if p.startswith(f\"{instance},\")\n",
        "        )\n",
        "\n",
        "        block_diag.update(_interconnect_ports(block_diag, current_ports, k, l))\n",
        "\n",
        "        for i, j in list(block_diag.keys()):\n",
        "            is_connected = i == k or i == l or j == k or j == l\n",
        "            is_in_output_ports = i in reversed_ports and j in reversed_ports\n",
        "            if is_connected and not is_in_output_ports:\n",
        "                del block_diag[i, j]  # we're no longer interested in these port combinations\n",
        "\n",
        "    circuit_sdict: SDict = {\n",
        "        (reversed_ports[i], reversed_ports[j]): v\n",
        "        for (i, j), v in block_diag.items()\n",
        "        if i in reversed_ports and j in reversed_ports\n",
        "    }\n",
        "    return circuit_sdict\n",
        "\n",
        "\n",
        "def _connections_sort_key(connection):\n",
        "    \"\"\"sort key for sorting a connection dictionary \"\"\"\n",
        "    part1, part2 = connection\n",
        "    name1, _ = part1.split(\",\")\n",
        "    name2, _ = part2.split(\",\")\n",
        "    return (min(name1, name2), max(name1, name2))\n",
        "\n",
        "\n",
        "def _interconnect_ports(block_diag, current_ports, k, l):\n",
        "    \"\"\"interconnect two ports in a given model\n",
        "\n",
        "    > Note: the interconnect algorithm is based on equation 6 of 'Filipsson, Gunnar. \n",
        "      \"A new general computer algorithm for S-matrix calculation of interconnected \n",
        "      multiports.\" 11th European Microwave Conference. IEEE, 1981.'\n",
        "    \"\"\"\n",
        "    current_block_diag = {}\n",
        "    for i in current_ports:\n",
        "        for j in current_ports:\n",
        "            vij = _calculate_interconnected_value(\n",
        "                vij=block_diag.get((i, j), 0.0),\n",
        "                vik=block_diag.get((i, k), 0.0),\n",
        "                vil=block_diag.get((i, l), 0.0),\n",
        "                vkj=block_diag.get((k, j), 0.0),\n",
        "                vkk=block_diag.get((k, k), 0.0),\n",
        "                vkl=block_diag.get((k, l), 0.0),\n",
        "                vlj=block_diag.get((l, j), 0.0),\n",
        "                vlk=block_diag.get((l, k), 0.0),\n",
        "                vll=block_diag.get((l, l), 0.0),\n",
        "            )\n",
        "            current_block_diag[i, j] = vij\n",
        "    return current_block_diag\n",
        "\n",
        "\n",
        "@jax.jit\n",
        "def _calculate_interconnected_value(vij, vik, vil, vkj, vkk, vkl, vlj, vlk, vll):\n",
        "    \"\"\"Calculate an interconnected S-parameter value\n",
        "\n",
        "    Note:\n",
        "        The interconnect algorithm is based on equation 6 in the paper below::\n",
        "\n",
        "          Filipsson, Gunnar. \"A new general computer algorithm for S-matrix calculation\n",
        "          of interconnected multiports.\" 11th European Microwave Conference. IEEE, 1981.\n",
        "    \"\"\"\n",
        "    result = vij + (\n",
        "        vkj * vil * (1 - vlk)\n",
        "        + vlj * vik * (1 - vkl)\n",
        "        + vkj * vll * vik\n",
        "        + vlj * vkk * vil\n",
        "    ) / ((1 - vkl) * (1 - vlk) - vkk * vll)\n",
        "    return result"
      ]
    },
    {
      "cell_type": "markdown",
      "id": "9dabee38",
      "metadata": {
        "papermill": {
          "duration": 0.024706,
          "end_time": "2022-08-04T05:49:02.358301",
          "exception": false,
          "start_time": "2022-08-04T05:49:02.333595",
          "status": "completed"
        },
        "tags": []
      },
      "source": [
        "## Example"
      ]
    },
    {
      "cell_type": "code",
      "execution_count": 5,
      "id": "5ab7ea6c",
      "metadata": {
        "execution": {
          "iopub.execute_input": "2022-08-04T05:49:02.414253Z",
          "iopub.status.busy": "2022-08-04T05:49:02.411412Z",
          "iopub.status.idle": "2022-08-04T05:49:03.437563Z",
          "shell.execute_reply": "2022-08-04T05:49:03.438063Z"
        },
        "papermill": {
          "duration": 1.055888,
          "end_time": "2022-08-04T05:49:03.438215",
          "exception": false,
          "start_time": "2022-08-04T05:49:02.382327",
          "status": "completed"
        },
        "tags": []
      },
      "outputs": [
        {
          "data": {
            "text/plain": [
              "{('in0', 'in0'): 0j,\n",
              " ('in0', 'in1'): 0j,\n",
              " ('in1', 'in0'): 0j,\n",
              " ('in1', 'in1'): 0j,\n",
              " ('out0', 'out0'): 0j,\n",
              " ('out0', 'out1'): 0j,\n",
              " ('out1', 'out0'): 0j,\n",
              " ('out1', 'out1'): 0j,\n",
              " ('out0', 'in0'): -0.25+0.43301j,\n",
              " ('out0', 'in1'): -0.43301+0.75j,\n",
              " ('out1', 'in0'): -0.43301+0.75j,\n",
              " ('out1', 'in1'): 0.25-0.43301j,\n",
              " ('in0', 'out0'): -0.25+0.43301j,\n",
              " ('in0', 'out1'): -0.43301+0.75j,\n",
              " ('in1', 'out0'): -0.43301+0.75j,\n",
              " ('in1', 'out1'): 0.25-0.43301j}"
            ]
          },
          "execution_count": 5,
          "metadata": {},
          "output_type": "execute_result"
        }
      ],
      "source": [
        "wg_sdict: SDict = {\n",
        "    (\"in0\", \"out0\"): 0.5 + 0.86603j,\n",
        "    (\"out0\", \"in0\"): 0.5 + 0.86603j,\n",
        "}\n",
        "\n",
        "\u03c4, \u03ba = 0.5 ** 0.5, 1j * 0.5 ** 0.5\n",
        "dc_sdense: SDense = (\n",
        "    jnp.array([[0, 0, \u03c4, \u03ba], \n",
        "               [0, 0, \u03ba, \u03c4], \n",
        "               [\u03c4, \u03ba, 0, 0], \n",
        "               [\u03ba, \u03c4, 0, 0]]),\n",
        "    {\"in0\": 0, \"in1\": 1, \"out0\": 2, \"out1\": 3},\n",
        ")\n",
        "\n",
        "mzi_sdict: SDict = evaluate_circuit(\n",
        "    instances={\n",
        "        \"dc1\": dc_sdense,\n",
        "        \"wg\": wg_sdict,\n",
        "        \"dc2\": dc_sdense,\n",
        "    },\n",
        "    connections={\n",
        "        \"dc1,out0\": \"wg,in0\",\n",
        "        \"wg,out0\": \"dc2,in0\",\n",
        "        \"dc1,out1\": \"dc2,in1\",\n",
        "    },\n",
        "    ports={\n",
        "        \"in0\": \"dc1,in0\",\n",
        "        \"in1\": \"dc1,in1\",\n",
        "        \"out0\": \"dc2,out0\",\n",
        "        \"out1\": \"dc2,out1\",\n",
        "    }\n",
        ")\n",
        "\n",
        "mzi_sdict"
      ]
    },
    {
      "cell_type": "markdown",
      "id": "48950a3d",
      "metadata": {
        "papermill": {
          "duration": 0.024907,
          "end_time": "2022-08-04T05:49:03.488691",
          "exception": false,
          "start_time": "2022-08-04T05:49:03.463784",
          "status": "completed"
        },
        "tags": []
      },
      "source": [
        "## Algorithm Walkthrough\n",
        "\n",
        "> Note: This algorithm gets pretty slow for large circuits. I'd be [very interested in any improvements](#Algorithm-Improvements) that can be made here, especially because - as opposed to the currently faster [KLU backend](./07b_backends_klu.ipynb) - the algorithm discussed here is jittable, differentiable and can be used on GPUs."
      ]
    },
    {
      "cell_type": "markdown",
      "id": "81e28766",
      "metadata": {
        "papermill": {
          "duration": 0.025776,
          "end_time": "2022-08-04T05:49:03.539266",
          "exception": false,
          "start_time": "2022-08-04T05:49:03.513490",
          "status": "completed"
        },
        "tags": []
      },
      "source": [
        "Let's walk through all the steps of this algorithm. We'll do this for a simple MZI circuit, given by two directional couplers characterised by `dc_sdense` with a phase shifting waveguide in between `wg_sdict`:"
      ]
    },
    {
      "cell_type": "code",
      "execution_count": 6,
      "id": "e2bdfbf4",
      "metadata": {
        "execution": {
          "iopub.execute_input": "2022-08-04T05:49:03.595355Z",
          "iopub.status.busy": "2022-08-04T05:49:03.594290Z",
          "iopub.status.idle": "2022-08-04T05:49:03.595936Z",
          "shell.execute_reply": "2022-08-04T05:49:03.596326Z"
        },
        "papermill": {
          "duration": 0.032309,
          "end_time": "2022-08-04T05:49:03.596474",
          "exception": false,
          "start_time": "2022-08-04T05:49:03.564165",
          "status": "completed"
        },
        "tags": []
      },
      "outputs": [],
      "source": [
        "instances={\n",
        "    \"dc1\": dc_sdense,\n",
        "    \"wg\": wg_sdict,\n",
        "    \"dc2\": dc_sdense,\n",
        "}\n",
        "connections={\n",
        "    \"dc1,out0\": \"wg,in0\",\n",
        "    \"wg,out0\": \"dc2,in0\",\n",
        "    \"dc1,out1\": \"dc2,in1\",\n",
        "}\n",
        "ports={\n",
        "    \"in0\": \"dc1,in0\",\n",
        "    \"in1\": \"dc1,in1\",\n",
        "    \"out0\": \"dc2,out0\",\n",
        "    \"out1\": \"dc2,out1\",\n",
        "}"
      ]
    },
    {
      "cell_type": "markdown",
      "id": "6ef72161",
      "metadata": {
        "papermill": {
          "duration": 0.02483,
          "end_time": "2022-08-04T05:49:03.646000",
          "exception": false,
          "start_time": "2022-08-04T05:49:03.621170",
          "status": "completed"
        },
        "tags": []
      },
      "source": [
        "as a first step, we construct the `reversed_ports`, it's actually easier to work with `reversed_ports` (we chose the opposite convention in the netlist definition to adhere to the GDSFactory netlist convention):"
      ]
    },
    {
      "cell_type": "code",
      "execution_count": 7,
      "id": "70302612",
      "metadata": {
        "execution": {
          "iopub.execute_input": "2022-08-04T05:49:03.701947Z",
          "iopub.status.busy": "2022-08-04T05:49:03.700933Z",
          "iopub.status.idle": "2022-08-04T05:49:03.702549Z",
          "shell.execute_reply": "2022-08-04T05:49:03.702989Z"
        },
        "papermill": {
          "duration": 0.031987,
          "end_time": "2022-08-04T05:49:03.703137",
          "exception": false,
          "start_time": "2022-08-04T05:49:03.671150",
          "status": "completed"
        },
        "tags": []
      },
      "outputs": [],
      "source": [
        "reversed_ports = {v: k for k, v in ports.items()}"
      ]
    },
    {
      "cell_type": "markdown",
      "id": "78676045",
      "metadata": {
        "papermill": {
          "duration": 0.025099,
          "end_time": "2022-08-04T05:49:03.753038",
          "exception": false,
          "start_time": "2022-08-04T05:49:03.727939",
          "status": "completed"
        },
        "tags": []
      },
      "source": [
        "The first real step of the algorithm is to create the 'block diagonal sdict`:"
      ]
    },
    {
      "cell_type": "code",
      "execution_count": 8,
      "id": "0ff6149f",
      "metadata": {
        "execution": {
          "iopub.execute_input": "2022-08-04T05:49:03.813752Z",
          "iopub.status.busy": "2022-08-04T05:49:03.812258Z",
          "iopub.status.idle": "2022-08-04T05:49:03.859874Z",
          "shell.execute_reply": "2022-08-04T05:49:03.858456Z"
        },
        "papermill": {
          "duration": 0.081507,
          "end_time": "2022-08-04T05:49:03.860091",
          "exception": false,
          "start_time": "2022-08-04T05:49:03.778584",
          "status": "completed"
        },
        "tags": []
      },
      "outputs": [],
      "source": [
        "block_diag = {}\n",
        "for name, S in instances.items():\n",
        "    block_diag.update(\n",
        "        {(f\"{name},{p1}\", f\"{name},{p2}\"): v for (p1, p2), v in sdict(S).items()}\n",
        "    )\n"
      ]
    },
    {
      "cell_type": "markdown",
      "id": "c4721548",
      "metadata": {
        "papermill": {
          "duration": 0.024849,
          "end_time": "2022-08-04T05:49:03.910387",
          "exception": false,
          "start_time": "2022-08-04T05:49:03.885538",
          "status": "completed"
        },
        "tags": []
      },
      "source": [
        "we can optionally filter out zeros from the resulting block_diag representation. Just note that this will make the resuling function unjittable (the resulting 'shape' (i.e. keys) of the dictionary would depend on the data itself, which is not allowed in JAX jit). We're doing it here to avoid printing zeros but **internally this is not done by default**."
      ]
    },
    {
      "cell_type": "code",
      "execution_count": 9,
      "id": "cfce53c1",
      "metadata": {
        "execution": {
          "iopub.execute_input": "2022-08-04T05:49:03.968803Z",
          "iopub.status.busy": "2022-08-04T05:49:03.968266Z",
          "iopub.status.idle": "2022-08-04T05:49:04.054620Z",
          "shell.execute_reply": "2022-08-04T05:49:04.054079Z"
        },
        "papermill": {
          "duration": 0.119479,
          "end_time": "2022-08-04T05:49:04.054747",
          "exception": false,
          "start_time": "2022-08-04T05:49:03.935268",
          "status": "completed"
        },
        "tags": []
      },
      "outputs": [
        {
          "name": "stdout",
          "output_type": "stream",
          "text": [
            "18\n"
          ]
        },
        {
          "data": {
            "text/plain": [
              "{('dc1,in0', 'dc1,out0'): 0.70711+0j,\n",
              " ('dc1,in0', 'dc1,out1'): 0.70711j,\n",
              " ('dc1,in1', 'dc1,out0'): 0.70711j,\n",
              " ('dc1,in1', 'dc1,out1'): 0.70711+0j,\n",
              " ('dc1,out0', 'dc1,in0'): 0.70711+0j,\n",
              " ('dc1,out0', 'dc1,in1'): 0.70711j,\n",
              " ('dc1,out1', 'dc1,in0'): 0.70711j,\n",
              " ('dc1,out1', 'dc1,in1'): 0.70711+0j,\n",
              " ('wg,in0', 'wg,out0'): (0.5+0.86603j),\n",
              " ('wg,out0', 'wg,in0'): (0.5+0.86603j),\n",
              " ('dc2,in0', 'dc2,out0'): 0.70711+0j,\n",
              " ('dc2,in0', 'dc2,out1'): 0.70711j,\n",
              " ('dc2,in1', 'dc2,out0'): 0.70711j,\n",
              " ('dc2,in1', 'dc2,out1'): 0.70711+0j,\n",
              " ('dc2,out0', 'dc2,in0'): 0.70711+0j,\n",
              " ('dc2,out0', 'dc2,in1'): 0.70711j,\n",
              " ('dc2,out1', 'dc2,in0'): 0.70711j,\n",
              " ('dc2,out1', 'dc2,in1'): 0.70711+0j}"
            ]
          },
          "execution_count": 9,
          "metadata": {},
          "output_type": "execute_result"
        }
      ],
      "source": [
        "block_diag = {k: v for k, v in block_diag.items() if jnp.abs(v) > 1e-10}\n",
        "print(len(block_diag))\n",
        "block_diag"
      ]
    },
    {
      "cell_type": "markdown",
      "id": "1963694a",
      "metadata": {
        "papermill": {
          "duration": 0.025365,
          "end_time": "2022-08-04T05:49:04.105775",
          "exception": false,
          "start_time": "2022-08-04T05:49:04.080410",
          "status": "completed"
        },
        "tags": []
      },
      "source": [
        "next, we sort the connections such that similar components are grouped together:"
      ]
    },
    {
      "cell_type": "code",
      "execution_count": 10,
      "id": "9859c2d4",
      "metadata": {
        "execution": {
          "iopub.execute_input": "2022-08-04T05:49:04.162947Z",
          "iopub.status.busy": "2022-08-04T05:49:04.162347Z",
          "iopub.status.idle": "2022-08-04T05:49:04.165768Z",
          "shell.execute_reply": "2022-08-04T05:49:04.166142Z"
        },
        "papermill": {
          "duration": 0.034936,
          "end_time": "2022-08-04T05:49:04.166296",
          "exception": false,
          "start_time": "2022-08-04T05:49:04.131360",
          "status": "completed"
        },
        "tags": []
      },
      "outputs": [
        {
          "data": {
            "text/plain": [
              "[('dc1,out1', 'dc2,in1'), ('dc1,out0', 'wg,in0'), ('wg,out0', 'dc2,in0')]"
            ]
          },
          "execution_count": 10,
          "metadata": {},
          "output_type": "execute_result"
        }
      ],
      "source": [
        "sorted_connections = sorted(connections.items(), key=_connections_sort_key)\n",
        "sorted_connections"
      ]
    },
    {
      "cell_type": "markdown",
      "id": "c75fbf65",
      "metadata": {
        "papermill": {
          "duration": 0.025855,
          "end_time": "2022-08-04T05:49:04.217893",
          "exception": false,
          "start_time": "2022-08-04T05:49:04.192038",
          "status": "completed"
        },
        "tags": []
      },
      "source": [
        "Now we iterate over the sorted connections and connect components as they come in. Connected components take over the name of the first component in the connection, but we keep a set of components belonging to that key in `all_connected_instances`.\n",
        "\n",
        "This is how this `all_connected_instances` dictionary looks initially."
      ]
    },
    {
      "cell_type": "code",
      "execution_count": 11,
      "id": "cf30668c",
      "metadata": {
        "execution": {
          "iopub.execute_input": "2022-08-04T05:49:04.275730Z",
          "iopub.status.busy": "2022-08-04T05:49:04.275185Z",
          "iopub.status.idle": "2022-08-04T05:49:04.277102Z",
          "shell.execute_reply": "2022-08-04T05:49:04.277571Z"
        },
        "papermill": {
          "duration": 0.033814,
          "end_time": "2022-08-04T05:49:04.277721",
          "exception": false,
          "start_time": "2022-08-04T05:49:04.243907",
          "status": "completed"
        },
        "tags": []
      },
      "outputs": [
        {
          "data": {
            "text/plain": [
              "{'dc1': {'dc1'}, 'wg': {'wg'}, 'dc2': {'dc2'}}"
            ]
          },
          "execution_count": 11,
          "metadata": {},
          "output_type": "execute_result"
        }
      ],
      "source": [
        "all_connected_instances = {k: {k} for k in instances}\n",
        "all_connected_instances"
      ]
    },
    {
      "cell_type": "markdown",
      "id": "1152056b",
      "metadata": {
        "papermill": {
          "duration": 0.026445,
          "end_time": "2022-08-04T05:49:04.330631",
          "exception": false,
          "start_time": "2022-08-04T05:49:04.304186",
          "status": "completed"
        },
        "tags": []
      },
      "source": [
        "Normally we would loop over every connection in `sorted_connections` now, but let's just go through it once at first:"
      ]
    },
    {
      "cell_type": "code",
      "execution_count": 12,
      "id": "8dbf23ca07b34ad3",
      "metadata": {
        "execution": {
          "iopub.execute_input": "2022-08-04T05:49:04.389893Z",
          "iopub.status.busy": "2022-08-04T05:49:04.389371Z",
          "iopub.status.idle": "2022-08-04T05:49:04.391504Z",
          "shell.execute_reply": "2022-08-04T05:49:04.391983Z"
        },
        "papermill": {
          "duration": 0.034829,
          "end_time": "2022-08-04T05:49:04.392131",
          "exception": false,
          "start_time": "2022-08-04T05:49:04.357302",
          "status": "completed"
        },
        "tags": []
      },
      "outputs": [
        {
          "data": {
            "text/plain": [
              "('dc1,out1', 'dc2,in1')"
            ]
          },
          "execution_count": 12,
          "metadata": {},
          "output_type": "execute_result"
        }
      ],
      "source": [
        "# for k, l in sorted_connections:\n",
        "k, l = sorted_connections[0]\n",
        "k, l"
      ]
    },
    {
      "cell_type": "markdown",
      "id": "16a2266c",
      "metadata": {
        "papermill": {
          "duration": 0.026719,
          "end_time": "2022-08-04T05:49:04.445516",
          "exception": false,
          "start_time": "2022-08-04T05:49:04.418797",
          "status": "completed"
        },
        "tags": []
      },
      "source": [
        "`k` and `l` are the S-matrix indices we're trying to connect. Note that in our sparse `SDict` notation these S-matrix indices are in fact equivalent with the port names `('dc1,out1', 'dc2,in1')`!"
      ]
    },
    {
      "cell_type": "markdown",
      "id": "0eaf4add",
      "metadata": {
        "papermill": {
          "duration": 0.026803,
          "end_time": "2022-08-04T05:49:04.499230",
          "exception": false,
          "start_time": "2022-08-04T05:49:04.472427",
          "status": "completed"
        },
        "tags": []
      },
      "source": [
        "first we split the connection string into an instance name and a port name (we don't use the port name yet):"
      ]
    },
    {
      "cell_type": "code",
      "execution_count": 13,
      "id": "667d1a3c",
      "metadata": {
        "execution": {
          "iopub.execute_input": "2022-08-04T05:49:04.557064Z",
          "iopub.status.busy": "2022-08-04T05:49:04.556542Z",
          "iopub.status.idle": "2022-08-04T05:49:04.557629Z",
          "shell.execute_reply": "2022-08-04T05:49:04.558102Z"
        },
        "papermill": {
          "duration": 0.032356,
          "end_time": "2022-08-04T05:49:04.558244",
          "exception": false,
          "start_time": "2022-08-04T05:49:04.525888",
          "status": "completed"
        },
        "tags": []
      },
      "outputs": [],
      "source": [
        "name1, _ = k.split(\",\")\n",
        "name2, _ = l.split(\",\")"
      ]
    },
    {
      "cell_type": "markdown",
      "id": "16e8bbe8",
      "metadata": {
        "papermill": {
          "duration": 0.027066,
          "end_time": "2022-08-04T05:49:04.612155",
          "exception": false,
          "start_time": "2022-08-04T05:49:04.585089",
          "status": "completed"
        },
        "tags": []
      },
      "source": [
        "We then obtain the new set of connected instances."
      ]
    },
    {
      "cell_type": "code",
      "execution_count": 14,
      "id": "51bf8615",
      "metadata": {
        "execution": {
          "iopub.execute_input": "2022-08-04T05:49:04.670640Z",
          "iopub.status.busy": "2022-08-04T05:49:04.670099Z",
          "iopub.status.idle": "2022-08-04T05:49:04.671964Z",
          "shell.execute_reply": "2022-08-04T05:49:04.672354Z"
        },
        "papermill": {
          "duration": 0.033604,
          "end_time": "2022-08-04T05:49:04.672492",
          "exception": false,
          "start_time": "2022-08-04T05:49:04.638888",
          "status": "completed"
        },
        "tags": []
      },
      "outputs": [
        {
          "data": {
            "text/plain": [
              "{'dc1', 'dc2'}"
            ]
          },
          "execution_count": 14,
          "metadata": {},
          "output_type": "execute_result"
        }
      ],
      "source": [
        "connected_instances = all_connected_instances[name1] | all_connected_instances[name2]\n",
        "connected_instances"
      ]
    },
    {
      "cell_type": "markdown",
      "id": "676c8d61",
      "metadata": {
        "papermill": {
          "duration": 0.02749,
          "end_time": "2022-08-04T05:49:04.727421",
          "exception": false,
          "start_time": "2022-08-04T05:49:04.699931",
          "status": "completed"
        },
        "tags": []
      },
      "source": [
        "We then iterate over each of the components in this set and make sure each of the component names in that set maps to that set (yes, I know... confusing). We do this to be able to keep track with which components each of the components in the circuit is currently already connected to."
      ]
    },
    {
      "cell_type": "code",
      "execution_count": 15,
      "id": "d322e86c",
      "metadata": {
        "execution": {
          "iopub.execute_input": "2022-08-04T05:49:04.787284Z",
          "iopub.status.busy": "2022-08-04T05:49:04.786760Z",
          "iopub.status.idle": "2022-08-04T05:49:04.788618Z",
          "shell.execute_reply": "2022-08-04T05:49:04.789013Z"
        },
        "papermill": {
          "duration": 0.034497,
          "end_time": "2022-08-04T05:49:04.789152",
          "exception": false,
          "start_time": "2022-08-04T05:49:04.754655",
          "status": "completed"
        },
        "tags": []
      },
      "outputs": [
        {
          "data": {
            "text/plain": [
              "{'dc1': {'dc1', 'dc2'}, 'wg': {'wg'}, 'dc2': {'dc1', 'dc2'}}"
            ]
          },
          "execution_count": 15,
          "metadata": {},
          "output_type": "execute_result"
        }
      ],
      "source": [
        "for name in connected_instances:\n",
        "    all_connected_instances[name] = connected_instances\n",
        "    \n",
        "all_connected_instances"
      ]
    },
    {
      "cell_type": "markdown",
      "id": "b79f49f8",
      "metadata": {
        "papermill": {
          "duration": 0.027481,
          "end_time": "2022-08-04T05:49:04.843685",
          "exception": false,
          "start_time": "2022-08-04T05:49:04.816204",
          "status": "completed"
        },
        "tags": []
      },
      "source": [
        "now we need to obtain all the ports of the currently connected instances."
      ]
    },
    {
      "cell_type": "code",
      "execution_count": 16,
      "id": "61b3cfab",
      "metadata": {
        "execution": {
          "iopub.execute_input": "2022-08-04T05:49:04.904627Z",
          "iopub.status.busy": "2022-08-04T05:49:04.904104Z",
          "iopub.status.idle": "2022-08-04T05:49:04.905983Z",
          "shell.execute_reply": "2022-08-04T05:49:04.906461Z"
        },
        "papermill": {
          "duration": 0.035789,
          "end_time": "2022-08-04T05:49:04.906639",
          "exception": false,
          "start_time": "2022-08-04T05:49:04.870850",
          "status": "completed"
        },
        "tags": []
      },
      "outputs": [
        {
          "data": {
            "text/plain": [
              "('dc2,out0',\n",
              " 'dc2,in0',\n",
              " 'dc2,out1',\n",
              " 'dc2,in1',\n",
              " 'dc1,out1',\n",
              " 'dc1,in0',\n",
              " 'dc1,in1',\n",
              " 'dc1,out0')"
            ]
          },
          "execution_count": 16,
          "metadata": {},
          "output_type": "execute_result"
        }
      ],
      "source": [
        "current_ports = tuple(\n",
        "    p\n",
        "    for instance in connected_instances\n",
        "    for p in set([p for p, _ in block_diag] + [p for _, p in block_diag])\n",
        "    if p.startswith(f\"{instance},\")\n",
        ")\n",
        "\n",
        "current_ports"
      ]
    },
    {
      "cell_type": "markdown",
      "id": "d0e87449",
      "metadata": {
        "papermill": {
          "duration": 0.027629,
          "end_time": "2022-08-04T05:49:04.961931",
          "exception": false,
          "start_time": "2022-08-04T05:49:04.934302",
          "status": "completed"
        },
        "tags": []
      },
      "source": [
        "Now the [Gunnar Algorithm](#citation) is used. Given a (block-diagonal) 'S-matrix' `block_diag` and a 'connection matrix' `current_ports` we can interconnect port `k` and `l` as follows:\n",
        "\n",
        "> Note: some creative freedom is used here. In SAX, the matrices we're talking about are in fact represented by a sparse dictionary (an `SDict`), i.e. similar to a COO sparse matrix for which the indices are the port names."
      ]
    },
    {
      "cell_type": "code",
      "execution_count": 17,
      "id": "431649e5",
      "metadata": {
        "execution": {
          "iopub.execute_input": "2022-08-04T05:49:05.052384Z",
          "iopub.status.busy": "2022-08-04T05:49:05.031816Z",
          "iopub.status.idle": "2022-08-04T05:49:05.705542Z",
          "shell.execute_reply": "2022-08-04T05:49:05.704833Z"
        },
        "papermill": {
          "duration": 0.715366,
          "end_time": "2022-08-04T05:49:05.705753",
          "exception": false,
          "start_time": "2022-08-04T05:49:04.990387",
          "status": "completed"
        },
        "tags": []
      },
      "outputs": [],
      "source": [
        "def _interconnect_ports(block_diag, current_ports, k, l):\n",
        "    current_block_diag = {}\n",
        "    for i in current_ports:\n",
        "        for j in current_ports:\n",
        "            vij = _calculate_interconnected_value(\n",
        "                vij=block_diag.get((i, j), 0.0),\n",
        "                vik=block_diag.get((i, k), 0.0),\n",
        "                vil=block_diag.get((i, l), 0.0),\n",
        "                vkj=block_diag.get((k, j), 0.0),\n",
        "                vkk=block_diag.get((k, k), 0.0),\n",
        "                vkl=block_diag.get((k, l), 0.0),\n",
        "                vlj=block_diag.get((l, j), 0.0),\n",
        "                vlk=block_diag.get((l, k), 0.0),\n",
        "                vll=block_diag.get((l, l), 0.0),\n",
        "            )\n",
        "            current_block_diag[i, j] = vij\n",
        "    return current_block_diag\n",
        "\n",
        "@jax.jit\n",
        "def _calculate_interconnected_value(vij, vik, vil, vkj, vkk, vkl, vlj, vlk, vll):\n",
        "    result = vij + (\n",
        "        vkj * vil * (1 - vlk)\n",
        "        + vlj * vik * (1 - vkl)\n",
        "        + vkj * vll * vik\n",
        "        + vlj * vkk * vil\n",
        "    ) / ((1 - vkl) * (1 - vlk) - vkk * vll)\n",
        "    return result\n",
        "\n",
        "block_diag.update(_interconnect_ports(block_diag, current_ports, k, l))"
      ]
    },
    {
      "cell_type": "markdown",
      "id": "988c08d9",
      "metadata": {
        "papermill": {
          "duration": 0.028927,
          "end_time": "2022-08-04T05:49:05.765692",
          "exception": false,
          "start_time": "2022-08-04T05:49:05.736765",
          "status": "completed"
        },
        "tags": []
      },
      "source": [
        "Just as before, we're filtering the zeros from the sparse representation (remember, internally this is **not done by default**)."
      ]
    },
    {
      "cell_type": "code",
      "execution_count": 18,
      "id": "e9ac8164",
      "metadata": {
        "execution": {
          "iopub.execute_input": "2022-08-04T05:49:05.826567Z",
          "iopub.status.busy": "2022-08-04T05:49:05.826005Z",
          "iopub.status.idle": "2022-08-04T05:49:05.881345Z",
          "shell.execute_reply": "2022-08-04T05:49:05.880686Z"
        },
        "papermill": {
          "duration": 0.087653,
          "end_time": "2022-08-04T05:49:05.881518",
          "exception": false,
          "start_time": "2022-08-04T05:49:05.793865",
          "status": "completed"
        },
        "tags": []
      },
      "outputs": [
        {
          "name": "stdout",
          "output_type": "stream",
          "text": [
            "26\n"
          ]
        },
        {
          "data": {
            "text/plain": [
              "{('dc1,in0', 'dc1,out0'): 0.70711+0j,\n",
              " ('dc1,in0', 'dc1,out1'): 0.70711j,\n",
              " ('dc1,in1', 'dc1,out0'): 0.70711j,\n",
              " ('dc1,in1', 'dc1,out1'): 0.70711+0j,\n",
              " ('dc1,out0', 'dc1,in0'): 0.70711+0j,\n",
              " ('dc1,out0', 'dc1,in1'): 0.70711j,\n",
              " ('dc1,out1', 'dc1,in0'): 0.70711j,\n",
              " ('dc1,out1', 'dc1,in1'): 0.70711+0j,\n",
              " ('wg,in0', 'wg,out0'): (0.5+0.86603j),\n",
              " ('wg,out0', 'wg,in0'): (0.5+0.86603j),\n",
              " ('dc2,in0', 'dc2,out0'): 0.70711+0j,\n",
              " ('dc2,in0', 'dc2,out1'): 0.70711j,\n",
              " ('dc2,in1', 'dc2,out0'): 0.70711j,\n",
              " ('dc2,in1', 'dc2,out1'): 0.70711+0j,\n",
              " ('dc2,out0', 'dc2,in0'): 0.70711+0j,\n",
              " ('dc2,out0', 'dc2,in1'): 0.70711j,\n",
              " ('dc2,out1', 'dc2,in0'): 0.70711j,\n",
              " ('dc2,out1', 'dc2,in1'): 0.70711+0j,\n",
              " ('dc2,out0', 'dc1,in0'): -0.5+0j,\n",
              " ('dc2,out0', 'dc1,in1'): 0.5j,\n",
              " ('dc2,out1', 'dc1,in0'): 0.5j,\n",
              " ('dc2,out1', 'dc1,in1'): 0.5+0j,\n",
              " ('dc1,in0', 'dc2,out0'): -0.5+0j,\n",
              " ('dc1,in0', 'dc2,out1'): 0.5j,\n",
              " ('dc1,in1', 'dc2,out0'): 0.5j,\n",
              " ('dc1,in1', 'dc2,out1'): 0.5+0j}"
            ]
          },
          "execution_count": 18,
          "metadata": {},
          "output_type": "execute_result"
        }
      ],
      "source": [
        "block_diag = {k: v for k, v in block_diag.items() if jnp.abs(v) > 1e-10}\n",
        "print(len(block_diag))\n",
        "block_diag"
      ]
    },
    {
      "cell_type": "markdown",
      "id": "db0cd151",
      "metadata": {
        "papermill": {
          "duration": 0.029024,
          "end_time": "2022-08-04T05:49:05.940733",
          "exception": false,
          "start_time": "2022-08-04T05:49:05.911709",
          "status": "completed"
        },
        "tags": []
      },
      "source": [
        "This is the resulting block-diagonal matrix after interconnecting two ports (i.e. basically saying that those two ports are the same port). Because these ports are now connected we should actually remove them from the S-matrix representation (they are integrated into the S-parameters of the other connections):"
      ]
    },
    {
      "cell_type": "code",
      "execution_count": 19,
      "id": "311b034f",
      "metadata": {
        "execution": {
          "iopub.execute_input": "2022-08-04T05:49:06.002596Z",
          "iopub.status.busy": "2022-08-04T05:49:06.002030Z",
          "iopub.status.idle": "2022-08-04T05:49:06.012029Z",
          "shell.execute_reply": "2022-08-04T05:49:06.011579Z"
        },
        "papermill": {
          "duration": 0.04274,
          "end_time": "2022-08-04T05:49:06.012149",
          "exception": false,
          "start_time": "2022-08-04T05:49:05.969409",
          "status": "completed"
        },
        "tags": []
      },
      "outputs": [
        {
          "name": "stdout",
          "output_type": "stream",
          "text": [
            "18\n"
          ]
        },
        {
          "data": {
            "text/plain": [
              "{('dc1,in0', 'dc1,out0'): 0.70711+0j,\n",
              " ('dc1,in1', 'dc1,out0'): 0.70711j,\n",
              " ('dc1,out0', 'dc1,in0'): 0.70711+0j,\n",
              " ('dc1,out0', 'dc1,in1'): 0.70711j,\n",
              " ('wg,in0', 'wg,out0'): (0.5+0.86603j),\n",
              " ('wg,out0', 'wg,in0'): (0.5+0.86603j),\n",
              " ('dc2,in0', 'dc2,out0'): 0.70711+0j,\n",
              " ('dc2,in0', 'dc2,out1'): 0.70711j,\n",
              " ('dc2,out0', 'dc2,in0'): 0.70711+0j,\n",
              " ('dc2,out1', 'dc2,in0'): 0.70711j,\n",
              " ('dc2,out0', 'dc1,in0'): -0.5+0j,\n",
              " ('dc2,out0', 'dc1,in1'): 0.5j,\n",
              " ('dc2,out1', 'dc1,in0'): 0.5j,\n",
              " ('dc2,out1', 'dc1,in1'): 0.5+0j,\n",
              " ('dc1,in0', 'dc2,out0'): -0.5+0j,\n",
              " ('dc1,in0', 'dc2,out1'): 0.5j,\n",
              " ('dc1,in1', 'dc2,out0'): 0.5j,\n",
              " ('dc1,in1', 'dc2,out1'): 0.5+0j}"
            ]
          },
          "execution_count": 19,
          "metadata": {},
          "output_type": "execute_result"
        }
      ],
      "source": [
        "for i, j in list(block_diag.keys()):\n",
        "    is_connected = i == k or i == l or j == k or j == l\n",
        "    is_in_output_ports = i in reversed_ports and j in reversed_ports\n",
        "    if is_connected and not is_in_output_ports:\n",
        "        del block_diag[i, j]  # we're no longer interested in these port combinations\n",
        "        \n",
        "print(len(block_diag))\n",
        "block_diag"
      ]
    },
    {
      "cell_type": "markdown",
      "id": "b6badcb7",
      "metadata": {
        "papermill": {
          "duration": 0.029972,
          "end_time": "2022-08-04T05:49:06.071715",
          "exception": false,
          "start_time": "2022-08-04T05:49:06.041743",
          "status": "completed"
        },
        "tags": []
      },
      "source": [
        "Note that this deletion of values **does NOT** make this operation un-jittable. The deletion depends on the ports of the dictionary (i.e. on the dictionary 'shape'), not on the values."
      ]
    },
    {
      "cell_type": "markdown",
      "id": "89e775cd",
      "metadata": {
        "papermill": {
          "duration": 0.029783,
          "end_time": "2022-08-04T05:49:06.131471",
          "exception": false,
          "start_time": "2022-08-04T05:49:06.101688",
          "status": "completed"
        },
        "tags": []
      },
      "source": [
        "We now basically have to do those steps again for all other connections:"
      ]
    },
    {
      "cell_type": "code",
      "execution_count": 20,
      "id": "549a85da9ddfeeb1",
      "metadata": {
        "execution": {
          "iopub.execute_input": "2022-08-04T05:49:06.214603Z",
          "iopub.status.busy": "2022-08-04T05:49:06.209537Z",
          "iopub.status.idle": "2022-08-04T05:49:07.763159Z",
          "shell.execute_reply": "2022-08-04T05:49:07.762358Z"
        },
        "papermill": {
          "duration": 1.601887,
          "end_time": "2022-08-04T05:49:07.763376",
          "exception": false,
          "start_time": "2022-08-04T05:49:06.161489",
          "status": "completed"
        },
        "tags": []
      },
      "outputs": [],
      "source": [
        "#for k, l in sorted_connections: \n",
        "for k, l in sorted_connections[1:]: # we just did the first iteration of this loop above...\n",
        "    name1, _ = k.split(\",\")\n",
        "    name2, _ = l.split(\",\")\n",
        "    connected_instances = all_connected_instances[name1] | all_connected_instances[name2]\n",
        "    for name in connected_instances:\n",
        "        all_connected_instances[name] = connected_instances\n",
        "    current_ports = tuple(\n",
        "        p\n",
        "        for instance in connected_instances\n",
        "        for p in set([p for p, _ in block_diag] + [p for _, p in block_diag])\n",
        "        if p.startswith(f\"{instance},\")\n",
        "    )\n",
        "    block_diag.update(_interconnect_ports(block_diag, current_ports, k, l))\n",
        "    for i, j in list(block_diag.keys()):\n",
        "        is_connected = i == k or i == l or j == k or j == l\n",
        "        is_in_output_ports = i in reversed_ports and j in reversed_ports\n",
        "        if is_connected and not is_in_output_ports:\n",
        "            del block_diag[i, j]  # we're no longer interested in these port combinations"
      ]
    },
    {
      "cell_type": "markdown",
      "id": "36eb82fc",
      "metadata": {
        "papermill": {
          "duration": 0.0302,
          "end_time": "2022-08-04T05:49:07.825193",
          "exception": false,
          "start_time": "2022-08-04T05:49:07.794993",
          "status": "completed"
        },
        "tags": []
      },
      "source": [
        "This is the final MZI matrix we're getting:"
      ]
    },
    {
      "cell_type": "code",
      "execution_count": 21,
      "id": "d1c0367e",
      "metadata": {
        "execution": {
          "iopub.execute_input": "2022-08-04T05:49:07.890428Z",
          "iopub.status.busy": "2022-08-04T05:49:07.889901Z",
          "iopub.status.idle": "2022-08-04T05:49:07.896099Z",
          "shell.execute_reply": "2022-08-04T05:49:07.895661Z"
        },
        "papermill": {
          "duration": 0.04064,
          "end_time": "2022-08-04T05:49:07.896219",
          "exception": false,
          "start_time": "2022-08-04T05:49:07.855579",
          "status": "completed"
        },
        "tags": []
      },
      "outputs": [
        {
          "data": {
            "text/plain": [
              "{('dc2,out0', 'dc1,in0'): -0.25+0.43301j,\n",
              " ('dc2,out0', 'dc1,in1'): -0.43301+0.75j,\n",
              " ('dc2,out1', 'dc1,in0'): -0.43301+0.75j,\n",
              " ('dc2,out1', 'dc1,in1'): 0.25-0.43301j,\n",
              " ('dc1,in0', 'dc2,out0'): -0.25+0.43301j,\n",
              " ('dc1,in0', 'dc2,out1'): -0.43301+0.75j,\n",
              " ('dc1,in1', 'dc2,out0'): -0.43301+0.75j,\n",
              " ('dc1,in1', 'dc2,out1'): 0.25-0.43301j,\n",
              " ('dc2,out0', 'dc2,out0'): 0j,\n",
              " ('dc2,out0', 'dc2,out1'): 0j,\n",
              " ('dc2,out1', 'dc2,out0'): 0j,\n",
              " ('dc2,out1', 'dc2,out1'): 0j,\n",
              " ('dc1,in0', 'dc1,in0'): 0j,\n",
              " ('dc1,in0', 'dc1,in1'): 0j,\n",
              " ('dc1,in1', 'dc1,in0'): 0j,\n",
              " ('dc1,in1', 'dc1,in1'): 0j}"
            ]
          },
          "execution_count": 21,
          "metadata": {},
          "output_type": "execute_result"
        }
      ],
      "source": [
        "block_diag"
      ]
    },
    {
      "cell_type": "markdown",
      "id": "03f67ec6",
      "metadata": {
        "papermill": {
          "duration": 0.031068,
          "end_time": "2022-08-04T05:49:07.957529",
          "exception": false,
          "start_time": "2022-08-04T05:49:07.926461",
          "status": "completed"
        },
        "tags": []
      },
      "source": [
        "All that's left is to rename these internal ports of the format `{instance},{port}` into output ports of the resulting circuit:"
      ]
    },
    {
      "cell_type": "code",
      "execution_count": 22,
      "id": "cf5ea4af",
      "metadata": {
        "execution": {
          "iopub.execute_input": "2022-08-04T05:49:08.024699Z",
          "iopub.status.busy": "2022-08-04T05:49:08.024188Z",
          "iopub.status.idle": "2022-08-04T05:49:08.028779Z",
          "shell.execute_reply": "2022-08-04T05:49:08.028368Z"
        },
        "papermill": {
          "duration": 0.0409,
          "end_time": "2022-08-04T05:49:08.028900",
          "exception": false,
          "start_time": "2022-08-04T05:49:07.988000",
          "status": "completed"
        },
        "tags": []
      },
      "outputs": [
        {
          "data": {
            "text/plain": [
              "{('out0', 'in0'): -0.25+0.43301j,\n",
              " ('out0', 'in1'): -0.43301+0.75j,\n",
              " ('out1', 'in0'): -0.43301+0.75j,\n",
              " ('out1', 'in1'): 0.25-0.43301j,\n",
              " ('in0', 'out0'): -0.25+0.43301j,\n",
              " ('in0', 'out1'): -0.43301+0.75j,\n",
              " ('in1', 'out0'): -0.43301+0.75j,\n",
              " ('in1', 'out1'): 0.25-0.43301j,\n",
              " ('out0', 'out0'): 0j,\n",
              " ('out0', 'out1'): 0j,\n",
              " ('out1', 'out0'): 0j,\n",
              " ('out1', 'out1'): 0j,\n",
              " ('in0', 'in0'): 0j,\n",
              " ('in0', 'in1'): 0j,\n",
              " ('in1', 'in0'): 0j,\n",
              " ('in1', 'in1'): 0j}"
            ]
          },
          "execution_count": 22,
          "metadata": {},
          "output_type": "execute_result"
        }
      ],
      "source": [
        "circuit_sdict: SDict = {\n",
        "    (reversed_ports[i], reversed_ports[j]): v\n",
        "    for (i, j), v in block_diag.items()\n",
        "    if i in reversed_ports and j in reversed_ports\n",
        "}\n",
        "circuit_sdict"
      ]
    },
    {
      "cell_type": "markdown",
      "id": "7dc6505e",
      "metadata": {
        "papermill": {
          "duration": 0.030347,
          "end_time": "2022-08-04T05:49:08.089616",
          "exception": false,
          "start_time": "2022-08-04T05:49:08.059269",
          "status": "completed"
        },
        "tags": []
      },
      "source": [
        "And that's it. We evaluated the `SDict` of the full circuit."
      ]
    },
    {
      "cell_type": "markdown",
      "id": "170db10b",
      "metadata": {
        "papermill": {
          "duration": 0.030748,
          "end_time": "2022-08-04T05:49:08.151208",
          "exception": false,
          "start_time": "2022-08-04T05:49:08.120460",
          "status": "completed"
        },
        "tags": []
      },
      "source": [
        "## Algorithm Improvements"
      ]
    },
    {
      "cell_type": "markdown",
      "id": "4ed0e69a",
      "metadata": {
        "papermill": {
          "duration": 0.030495,
          "end_time": "2022-08-04T05:49:08.212314",
          "exception": false,
          "start_time": "2022-08-04T05:49:08.181819",
          "status": "completed"
        },
        "tags": []
      },
      "source": [
        "This algorithm is \n",
        "\n",
        "* pretty fast for small circuits \ud83d\ude42\n",
        "* jittable \ud83d\ude42\n",
        "* differentiable \ud83d\ude42\n",
        "* GPU-compatible \ud83d\ude42\n",
        "\n",
        "This algorithm is however:\n",
        "\n",
        "* **really slow** for large circuits \ud83d\ude25\n",
        "* **pretty slow** to jit the resulting circuit function \ud83d\ude25\n",
        "* **pretty slow** to differentiate the resulting circuit function \ud83d\ude25\n",
        "\n",
        "There are probably still plenty of improvements possible for this algorithm:\n",
        "\n",
        "* **\u00bf** Network analysis (ft. NetworkX ?) to obtain which ports of the block diagonal representation are relevant to obtain the output connection **?**\n",
        "* **\u00bf** Smarter ordering of connections to always have the minimum amount of ports in the intermediate block-diagonal representation **?**\n",
        "* **\u00bf** Using `jax.lax.scan` in stead of python native for-loops in `_interconnect_ports` **?**\n",
        "* **\u00bf** ... **?**\n",
        "\n",
        "Bottom line is... Do you know how to improve this algorithm or how to implement the above suggestions? Please open a Merge Request!"
      ]
    }
  ],
  "metadata": {
    "kernelspec": {
      "display_name": "sax",
      "language": "python",
      "name": "sax"
    },
    "language_info": {
      "codemirror_mode": {
        "name": "ipython",
        "version": 3
      },
      "file_extension": ".py",
      "mimetype": "text/x-python",
      "name": "python",
      "nbconvert_exporter": "python",
      "pygments_lexer": "ipython3",
      "version": "3.9.0"
    },
    "papermill": {
      "default_parameters": {},
      "duration": 9.15482,
      "end_time": "2022-08-04T05:49:08.652080",
      "environment_variables": {},
      "exception": null,
      "input_path": "./nbs/07a_backends_default.ipynb",
      "output_path": "./nbs/07a_backends_default.ipynb",
      "parameters": {},
      "start_time": "2022-08-04T05:48:59.497260",
      "version": "2.3.4"
    }
  },
  "nbformat": 4,
  "nbformat_minor": 5
}
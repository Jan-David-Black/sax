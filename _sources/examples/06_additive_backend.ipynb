{
  "cells": [
    {
      "cell_type": "markdown",
      "id": "6f097557",
      "metadata": {
        "papermill": {
          "duration": 0.006649,
          "end_time": "2022-08-07T05:37:03.901578",
          "exception": false,
          "start_time": "2022-08-07T05:37:03.894929",
          "status": "completed"
        },
        "tags": []
      },
      "source": [
        "# Additive Backend"
      ]
    },
    {
      "cell_type": "markdown",
      "id": "56868383",
      "metadata": {
        "papermill": {
          "duration": 0.004502,
          "end_time": "2022-08-07T05:37:03.911493",
          "exception": false,
          "start_time": "2022-08-07T05:37:03.906991",
          "status": "completed"
        },
        "tags": []
      },
      "source": [
        "> The additive backend can be used to obtain pathlengths and group delays."
      ]
    },
    {
      "cell_type": "code",
      "execution_count": 1,
      "id": "79c98bc0",
      "metadata": {
        "execution": {
          "iopub.execute_input": "2022-08-07T05:37:03.929470Z",
          "iopub.status.busy": "2022-08-07T05:37:03.929008Z",
          "iopub.status.idle": "2022-08-07T05:37:05.279902Z",
          "shell.execute_reply": "2022-08-07T05:37:05.278975Z"
        },
        "papermill": {
          "duration": 1.364261,
          "end_time": "2022-08-07T05:37:05.280054",
          "exception": false,
          "start_time": "2022-08-07T05:37:03.915793",
          "status": "completed"
        },
        "tags": []
      },
      "outputs": [],
      "source": [
        "from functools import partial\n",
        "\n",
        "import jax\n",
        "import jax.example_libraries.optimizers as opt\n",
        "import jax.numpy as jnp\n",
        "import matplotlib.pyplot as plt  # plotting\n",
        "import sax\n",
        "import tqdm  # progress bars"
      ]
    },
    {
      "cell_type": "markdown",
      "id": "6a42b9d9",
      "metadata": {
        "papermill": {
          "duration": 0.004563,
          "end_time": "2022-08-07T05:37:05.289712",
          "exception": false,
          "start_time": "2022-08-07T05:37:05.285149",
          "status": "completed"
        },
        "tags": []
      },
      "source": [
        "## Parametrized Models"
      ]
    },
    {
      "cell_type": "code",
      "execution_count": 2,
      "id": "79e7e40e",
      "metadata": {
        "execution": {
          "iopub.execute_input": "2022-08-07T05:37:05.303795Z",
          "iopub.status.busy": "2022-08-07T05:37:05.302617Z",
          "iopub.status.idle": "2022-08-07T05:37:05.304357Z",
          "shell.execute_reply": "2022-08-07T05:37:05.304777Z"
        },
        "papermill": {
          "duration": 0.010826,
          "end_time": "2022-08-07T05:37:05.304906",
          "exception": false,
          "start_time": "2022-08-07T05:37:05.294080",
          "status": "completed"
        },
        "tags": []
      },
      "outputs": [],
      "source": [
        "def coupler(length=50.0) -> sax.SDict:\n",
        "    sdict =  {\n",
        "        (\"in0\", \"out0\"): length,\n",
        "        (\"in0\", \"out1\"): length,\n",
        "        (\"in1\", \"out0\"): length,\n",
        "        (\"in1\", \"out1\"): length,\n",
        "    }\n",
        "    return sax.reciprocal(sdict)"
      ]
    },
    {
      "cell_type": "code",
      "execution_count": 3,
      "id": "3248838c",
      "metadata": {
        "execution": {
          "iopub.execute_input": "2022-08-07T05:37:05.317571Z",
          "iopub.status.busy": "2022-08-07T05:37:05.317156Z",
          "iopub.status.idle": "2022-08-07T05:37:05.320154Z",
          "shell.execute_reply": "2022-08-07T05:37:05.319791Z"
        },
        "papermill": {
          "duration": 0.010385,
          "end_time": "2022-08-07T05:37:05.320245",
          "exception": false,
          "start_time": "2022-08-07T05:37:05.309860",
          "status": "completed"
        },
        "tags": []
      },
      "outputs": [],
      "source": [
        "def waveguide(length=100.0) -> sax.SDict:\n",
        "    sdict = {\n",
        "        (\"in0\", \"out0\"): length,\n",
        "    }\n",
        "    return sax.reciprocal(sdict)"
      ]
    },
    {
      "cell_type": "markdown",
      "id": "d650fb8d",
      "metadata": {
        "papermill": {
          "duration": 0.004464,
          "end_time": "2022-08-07T05:37:05.329164",
          "exception": false,
          "start_time": "2022-08-07T05:37:05.324700",
          "status": "completed"
        },
        "tags": []
      },
      "source": [
        "## Circuit with additive backend"
      ]
    },
    {
      "cell_type": "code",
      "execution_count": 4,
      "id": "56e035d0",
      "metadata": {
        "execution": {
          "iopub.execute_input": "2022-08-07T05:37:05.343120Z",
          "iopub.status.busy": "2022-08-07T05:37:05.342685Z",
          "iopub.status.idle": "2022-08-07T05:37:05.353557Z",
          "shell.execute_reply": "2022-08-07T05:37:05.352958Z"
        },
        "papermill": {
          "duration": 0.020033,
          "end_time": "2022-08-07T05:37:05.353654",
          "exception": false,
          "start_time": "2022-08-07T05:37:05.333621",
          "status": "completed"
        },
        "tags": []
      },
      "outputs": [
        {
          "name": "stderr",
          "output_type": "stream",
          "text": [
            "WARNING:absl:No GPU/TPU found, falling back to CPU. (Set TF_CPP_MIN_LOG_LEVEL=0 and rerun for more info.)\n"
          ]
        }
      ],
      "source": [
        "mzi = sax.circuit(\n",
        "    instances={\n",
        "        \"lft\": coupler,\n",
        "        \"top\": partial(waveguide, length=500),\n",
        "        \"btm\": partial(waveguide, length=100),\n",
        "        \"rgt\": coupler,\n",
        "    },\n",
        "    connections={\n",
        "        \"lft,out0\": \"btm,in0\",\n",
        "        \"btm,out0\": \"rgt,in0\",\n",
        "        \"lft,out1\": \"top,in0\",\n",
        "        \"top,out0\": \"rgt,in1\",\n",
        "    },\n",
        "    ports={\n",
        "        \"in0\": \"lft,in0\",\n",
        "        \"in1\": \"lft,in1\",\n",
        "        \"out0\": \"rgt,out0\",\n",
        "        \"out1\": \"rgt,out1\",\n",
        "    },\n",
        "    backend=\"additive\"\n",
        ")"
      ]
    },
    {
      "cell_type": "code",
      "execution_count": 5,
      "id": "c1f245fd",
      "metadata": {
        "execution": {
          "iopub.execute_input": "2022-08-07T05:37:05.372729Z",
          "iopub.status.busy": "2022-08-07T05:37:05.372278Z",
          "iopub.status.idle": "2022-08-07T05:37:05.486795Z",
          "shell.execute_reply": "2022-08-07T05:37:05.487169Z"
        },
        "papermill": {
          "duration": 0.128584,
          "end_time": "2022-08-07T05:37:05.487321",
          "exception": false,
          "start_time": "2022-08-07T05:37:05.358737",
          "status": "completed"
        },
        "tags": []
      },
      "outputs": [
        {
          "data": {
            "text/plain": [
              "{('in0', 'out0'): [array([200.]), array([600.])],\n",
              " ('in0', 'out1'): [array([200.]), array([600.])],\n",
              " ('in1', 'out0'): [array([200.]), array([600.])],\n",
              " ('in1', 'out1'): [array([200.]), array([600.])],\n",
              " ('out0', 'in0'): [array([200.]), array([600.])],\n",
              " ('out0', 'in1'): [array([200.]), array([600.])],\n",
              " ('out1', 'in0'): [array([200.]), array([600.])],\n",
              " ('out1', 'in1'): [array([200.]), array([600.])]}"
            ]
          },
          "execution_count": 5,
          "metadata": {},
          "output_type": "execute_result"
        }
      ],
      "source": [
        "mzi()"
      ]
    }
  ],
  "metadata": {
    "kernelspec": {
      "display_name": "sax",
      "language": "python",
      "name": "sax"
    },
    "language_info": {
      "codemirror_mode": {
        "name": "ipython",
        "version": 3
      },
      "file_extension": ".py",
      "mimetype": "text/x-python",
      "name": "python",
      "nbconvert_exporter": "python",
      "pygments_lexer": "ipython3",
      "version": "3.9.0"
    },
    "papermill": {
      "default_parameters": {},
      "duration": 5.376487,
      "end_time": "2022-08-07T05:37:08.133645",
      "environment_variables": {},
      "exception": null,
      "input_path": "./examples/06_additive_backend.ipynb",
      "output_path": "./examples/06_additive_backend.ipynb",
      "parameters": {},
      "start_time": "2022-08-07T05:37:02.757158",
      "version": "2.3.4"
    }
  },
  "nbformat": 4,
  "nbformat_minor": 5
}
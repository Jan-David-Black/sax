{
  "cells": [
    {
      "cell_type": "markdown",
      "id": "6f097557",
      "metadata": {
        "papermill": {
          "duration": 0.005915,
          "end_time": "2022-08-10T15:03:51.291049",
          "exception": false,
          "start_time": "2022-08-10T15:03:51.285134",
          "status": "completed"
        },
        "tags": []
      },
      "source": [
        "# Additive Backend"
      ]
    },
    {
      "cell_type": "markdown",
      "id": "56868383",
      "metadata": {
        "papermill": {
          "duration": 0.004563,
          "end_time": "2022-08-10T15:03:51.300602",
          "exception": false,
          "start_time": "2022-08-10T15:03:51.296039",
          "status": "completed"
        },
        "tags": []
      },
      "source": [
        "> The additive backend can be used to obtain pathlengths and group delays."
      ]
    },
    {
      "cell_type": "code",
      "execution_count": 1,
      "id": "79c98bc0",
      "metadata": {
        "execution": {
          "iopub.execute_input": "2022-08-10T15:03:51.317504Z",
          "iopub.status.busy": "2022-08-10T15:03:51.317071Z",
          "iopub.status.idle": "2022-08-10T15:03:52.571225Z",
          "shell.execute_reply": "2022-08-10T15:03:52.570364Z"
        },
        "papermill": {
          "duration": 1.266355,
          "end_time": "2022-08-10T15:03:52.571353",
          "exception": false,
          "start_time": "2022-08-10T15:03:51.304998",
          "status": "completed"
        },
        "tags": []
      },
      "outputs": [],
      "source": [
        "from functools import partial\n",
        "\n",
        "import jax\n",
        "import jax.example_libraries.optimizers as opt\n",
        "import jax.numpy as jnp\n",
        "import matplotlib.pyplot as plt  # plotting\n",
        "import sax\n",
        "import tqdm  # progress bars"
      ]
    },
    {
      "cell_type": "markdown",
      "id": "6a42b9d9",
      "metadata": {
        "papermill": {
          "duration": 0.004615,
          "end_time": "2022-08-10T15:03:52.581009",
          "exception": false,
          "start_time": "2022-08-10T15:03:52.576394",
          "status": "completed"
        },
        "tags": []
      },
      "source": [
        "## Parametrized Models"
      ]
    },
    {
      "cell_type": "code",
      "execution_count": 2,
      "id": "79e7e40e",
      "metadata": {
        "execution": {
          "iopub.execute_input": "2022-08-10T15:03:52.594517Z",
          "iopub.status.busy": "2022-08-10T15:03:52.593676Z",
          "iopub.status.idle": "2022-08-10T15:03:52.595483Z",
          "shell.execute_reply": "2022-08-10T15:03:52.595147Z"
        },
        "papermill": {
          "duration": 0.010029,
          "end_time": "2022-08-10T15:03:52.595569",
          "exception": false,
          "start_time": "2022-08-10T15:03:52.585540",
          "status": "completed"
        },
        "tags": []
      },
      "outputs": [],
      "source": [
        "def coupler(length=50.0) -> sax.SDict:\n",
        "    sdict =  {\n",
        "        (\"in0\", \"out0\"): length,\n",
        "        (\"in0\", \"out1\"): length,\n",
        "        (\"in1\", \"out0\"): length,\n",
        "        (\"in1\", \"out1\"): length,\n",
        "    }\n",
        "    return sax.reciprocal(sdict)"
      ]
    },
    {
      "cell_type": "code",
      "execution_count": 3,
      "id": "3248838c",
      "metadata": {
        "execution": {
          "iopub.execute_input": "2022-08-10T15:03:52.607799Z",
          "iopub.status.busy": "2022-08-10T15:03:52.607395Z",
          "iopub.status.idle": "2022-08-10T15:03:52.609905Z",
          "shell.execute_reply": "2022-08-10T15:03:52.610218Z"
        },
        "papermill": {
          "duration": 0.010152,
          "end_time": "2022-08-10T15:03:52.610323",
          "exception": false,
          "start_time": "2022-08-10T15:03:52.600171",
          "status": "completed"
        },
        "tags": []
      },
      "outputs": [],
      "source": [
        "def waveguide(length=100.0) -> sax.SDict:\n",
        "    sdict = {\n",
        "        (\"in0\", \"out0\"): length,\n",
        "    }\n",
        "    return sax.reciprocal(sdict)"
      ]
    },
    {
      "cell_type": "markdown",
      "id": "d650fb8d",
      "metadata": {
        "papermill": {
          "duration": 0.004621,
          "end_time": "2022-08-10T15:03:52.619679",
          "exception": false,
          "start_time": "2022-08-10T15:03:52.615058",
          "status": "completed"
        },
        "tags": []
      },
      "source": [
        "## Circuit with additive backend"
      ]
    },
    {
      "cell_type": "code",
      "execution_count": 4,
      "id": "56e035d0",
      "metadata": {
        "execution": {
          "iopub.execute_input": "2022-08-10T15:03:52.633742Z",
          "iopub.status.busy": "2022-08-10T15:03:52.633327Z",
          "iopub.status.idle": "2022-08-10T15:03:52.643216Z",
          "shell.execute_reply": "2022-08-10T15:03:52.643824Z"
        },
        "papermill": {
          "duration": 0.019593,
          "end_time": "2022-08-10T15:03:52.643936",
          "exception": false,
          "start_time": "2022-08-10T15:03:52.624343",
          "status": "completed"
        },
        "tags": []
      },
      "outputs": [
        {
          "name": "stderr",
          "output_type": "stream",
          "text": [
            "WARNING:absl:No GPU/TPU found, falling back to CPU. (Set TF_CPP_MIN_LOG_LEVEL=0 and rerun for more info.)\n"
          ]
        }
      ],
      "source": [
        "mzi = sax.circuit(\n",
        "    instances={\n",
        "        \"lft\": coupler,\n",
        "        \"top\": partial(waveguide, length=500),\n",
        "        \"btm\": partial(waveguide, length=100),\n",
        "        \"rgt\": coupler,\n",
        "    },\n",
        "    connections={\n",
        "        \"lft,out0\": \"btm,in0\",\n",
        "        \"btm,out0\": \"rgt,in0\",\n",
        "        \"lft,out1\": \"top,in0\",\n",
        "        \"top,out0\": \"rgt,in1\",\n",
        "    },\n",
        "    ports={\n",
        "        \"in0\": \"lft,in0\",\n",
        "        \"in1\": \"lft,in1\",\n",
        "        \"out0\": \"rgt,out0\",\n",
        "        \"out1\": \"rgt,out1\",\n",
        "    },\n",
        "    backend=\"additive\"\n",
        ")"
      ]
    },
    {
      "cell_type": "code",
      "execution_count": 5,
      "id": "c1f245fd",
      "metadata": {
        "execution": {
          "iopub.execute_input": "2022-08-10T15:03:52.663034Z",
          "iopub.status.busy": "2022-08-10T15:03:52.662590Z",
          "iopub.status.idle": "2022-08-10T15:03:52.772716Z",
          "shell.execute_reply": "2022-08-10T15:03:52.772361Z"
        },
        "papermill": {
          "duration": 0.123556,
          "end_time": "2022-08-10T15:03:52.772819",
          "exception": false,
          "start_time": "2022-08-10T15:03:52.649263",
          "status": "completed"
        },
        "tags": []
      },
      "outputs": [
        {
          "data": {
            "text/plain": [
              "{('in0', 'out0'): [array([200.]), array([600.])],\n",
              " ('in0', 'out1'): [array([200.]), array([600.])],\n",
              " ('in1', 'out0'): [array([200.]), array([600.])],\n",
              " ('in1', 'out1'): [array([200.]), array([600.])],\n",
              " ('out0', 'in0'): [array([200.]), array([600.])],\n",
              " ('out0', 'in1'): [array([200.]), array([600.])],\n",
              " ('out1', 'in0'): [array([200.]), array([600.])],\n",
              " ('out1', 'in1'): [array([200.]), array([600.])]}"
            ]
          },
          "execution_count": 5,
          "metadata": {},
          "output_type": "execute_result"
        }
      ],
      "source": [
        "mzi()"
      ]
    }
  ],
  "metadata": {
    "kernelspec": {
      "display_name": "sax",
      "language": "python",
      "name": "sax"
    },
    "language_info": {
      "codemirror_mode": {
        "name": "ipython",
        "version": 3
      },
      "file_extension": ".py",
      "mimetype": "text/x-python",
      "name": "python",
      "nbconvert_exporter": "python",
      "pygments_lexer": "ipython3",
      "version": "3.9.0"
    },
    "papermill": {
      "default_parameters": {},
      "duration": 5.358705,
      "end_time": "2022-08-10T15:03:55.525010",
      "environment_variables": {},
      "exception": null,
      "input_path": "./examples/06_additive_backend.ipynb",
      "output_path": "./examples/06_additive_backend.ipynb",
      "parameters": {},
      "start_time": "2022-08-10T15:03:50.166305",
      "version": "2.3.4"
    }
  },
  "nbformat": 4,
  "nbformat_minor": 5
}
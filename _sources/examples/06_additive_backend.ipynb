{
  "cells": [
    {
      "cell_type": "markdown",
      "id": "6f097557",
      "metadata": {
        "papermill": {
          "duration": 0.00587,
          "end_time": "2022-08-16T04:25:05.548340",
          "exception": false,
          "start_time": "2022-08-16T04:25:05.542470",
          "status": "completed"
        },
        "tags": []
      },
      "source": [
        "# Additive Backend"
      ]
    },
    {
      "cell_type": "markdown",
      "id": "56868383",
      "metadata": {
        "papermill": {
          "duration": 0.003789,
          "end_time": "2022-08-16T04:25:05.556493",
          "exception": false,
          "start_time": "2022-08-16T04:25:05.552704",
          "status": "completed"
        },
        "tags": []
      },
      "source": [
        "> The additive backend can be used to obtain pathlengths and group delays."
      ]
    },
    {
      "cell_type": "code",
      "execution_count": 1,
      "id": "79c98bc0",
      "metadata": {
        "execution": {
          "iopub.execute_input": "2022-08-16T04:25:05.572513Z",
          "iopub.status.busy": "2022-08-16T04:25:05.572072Z",
          "iopub.status.idle": "2022-08-16T04:25:06.951743Z",
          "shell.execute_reply": "2022-08-16T04:25:06.951201Z"
        },
        "papermill": {
          "duration": 1.391597,
          "end_time": "2022-08-16T04:25:06.951884",
          "exception": false,
          "start_time": "2022-08-16T04:25:05.560287",
          "status": "completed"
        },
        "tags": []
      },
      "outputs": [],
      "source": [
        "from functools import partial\n",
        "\n",
        "import jax\n",
        "import jax.example_libraries.optimizers as opt\n",
        "import jax.numpy as jnp\n",
        "import matplotlib.pyplot as plt  # plotting\n",
        "import sax\n",
        "import tqdm  # progress bars"
      ]
    },
    {
      "cell_type": "markdown",
      "id": "6a42b9d9",
      "metadata": {
        "papermill": {
          "duration": 0.00471,
          "end_time": "2022-08-16T04:25:06.961460",
          "exception": false,
          "start_time": "2022-08-16T04:25:06.956750",
          "status": "completed"
        },
        "tags": []
      },
      "source": [
        "## Parametrized Models"
      ]
    },
    {
      "cell_type": "code",
      "execution_count": 2,
      "id": "79e7e40e",
      "metadata": {
        "execution": {
          "iopub.execute_input": "2022-08-16T04:25:06.974052Z",
          "iopub.status.busy": "2022-08-16T04:25:06.973073Z",
          "iopub.status.idle": "2022-08-16T04:25:06.974545Z",
          "shell.execute_reply": "2022-08-16T04:25:06.974876Z"
        },
        "papermill": {
          "duration": 0.009577,
          "end_time": "2022-08-16T04:25:06.974983",
          "exception": false,
          "start_time": "2022-08-16T04:25:06.965406",
          "status": "completed"
        },
        "tags": []
      },
      "outputs": [],
      "source": [
        "def coupler(length=50.0) -> sax.SDict:\n",
        "    sdict =  {\n",
        "        (\"in0\", \"out0\"): length,\n",
        "        (\"in0\", \"out1\"): length,\n",
        "        (\"in1\", \"out0\"): length,\n",
        "        (\"in1\", \"out1\"): length,\n",
        "    }\n",
        "    return sax.reciprocal(sdict)"
      ]
    },
    {
      "cell_type": "code",
      "execution_count": 3,
      "id": "3248838c",
      "metadata": {
        "execution": {
          "iopub.execute_input": "2022-08-16T04:25:06.986045Z",
          "iopub.status.busy": "2022-08-16T04:25:06.985627Z",
          "iopub.status.idle": "2022-08-16T04:25:06.988693Z",
          "shell.execute_reply": "2022-08-16T04:25:06.988329Z"
        },
        "papermill": {
          "duration": 0.009873,
          "end_time": "2022-08-16T04:25:06.988781",
          "exception": false,
          "start_time": "2022-08-16T04:25:06.978908",
          "status": "completed"
        },
        "tags": []
      },
      "outputs": [],
      "source": [
        "def waveguide(length=100.0) -> sax.SDict:\n",
        "    sdict = {\n",
        "        (\"in0\", \"out0\"): length,\n",
        "    }\n",
        "    return sax.reciprocal(sdict)"
      ]
    },
    {
      "cell_type": "markdown",
      "id": "d650fb8d",
      "metadata": {
        "papermill": {
          "duration": 0.00421,
          "end_time": "2022-08-16T04:25:06.997033",
          "exception": false,
          "start_time": "2022-08-16T04:25:06.992823",
          "status": "completed"
        },
        "tags": []
      },
      "source": [
        "## Circuit with additive backend"
      ]
    },
    {
      "cell_type": "code",
      "execution_count": 4,
      "id": "56e035d0",
      "metadata": {
        "execution": {
          "iopub.execute_input": "2022-08-16T04:25:07.010302Z",
          "iopub.status.busy": "2022-08-16T04:25:07.009874Z",
          "iopub.status.idle": "2022-08-16T04:25:07.019830Z",
          "shell.execute_reply": "2022-08-16T04:25:07.020168Z"
        },
        "papermill": {
          "duration": 0.019235,
          "end_time": "2022-08-16T04:25:07.020275",
          "exception": false,
          "start_time": "2022-08-16T04:25:07.001040",
          "status": "completed"
        },
        "tags": []
      },
      "outputs": [
        {
          "name": "stderr",
          "output_type": "stream",
          "text": [
            "WARNING:absl:No GPU/TPU found, falling back to CPU. (Set TF_CPP_MIN_LOG_LEVEL=0 and rerun for more info.)\n"
          ]
        }
      ],
      "source": [
        "mzi, _ = sax.circuit(\n",
        "    netlist={\n",
        "        \"instances\": {\n",
        "            \"lft\": coupler,\n",
        "            \"top\": partial(waveguide, length=500),\n",
        "            \"btm\": partial(waveguide, length=100),\n",
        "            \"rgt\": coupler,\n",
        "        },\n",
        "        \"connections\": {\n",
        "            \"lft,out0\": \"btm,in0\",\n",
        "            \"btm,out0\": \"rgt,in0\",\n",
        "            \"lft,out1\": \"top,in0\",\n",
        "            \"top,out0\": \"rgt,in1\",\n",
        "        },\n",
        "        \"ports\": {\n",
        "            \"in0\": \"lft,in0\",\n",
        "            \"in1\": \"lft,in1\",\n",
        "            \"out0\": \"rgt,out0\",\n",
        "            \"out1\": \"rgt,out1\",\n",
        "        },\n",
        "    },\n",
        "    backend=\"additive\",\n",
        ")"
      ]
    },
    {
      "cell_type": "code",
      "execution_count": 5,
      "id": "c1f245fd",
      "metadata": {
        "execution": {
          "iopub.execute_input": "2022-08-16T04:25:07.038184Z",
          "iopub.status.busy": "2022-08-16T04:25:07.037758Z",
          "iopub.status.idle": "2022-08-16T04:25:07.151381Z",
          "shell.execute_reply": "2022-08-16T04:25:07.151966Z"
        },
        "papermill": {
          "duration": 0.127331,
          "end_time": "2022-08-16T04:25:07.152104",
          "exception": false,
          "start_time": "2022-08-16T04:25:07.024773",
          "status": "completed"
        },
        "tags": []
      },
      "outputs": [
        {
          "data": {
            "text/plain": [
              "{('in0', 'out0'): [array([200.]), array([600.])],\n",
              " ('in0', 'out1'): [array([200.]), array([600.])],\n",
              " ('in1', 'out0'): [array([200.]), array([600.])],\n",
              " ('in1', 'out1'): [array([200.]), array([600.])],\n",
              " ('out0', 'in0'): [array([200.]), array([600.])],\n",
              " ('out0', 'in1'): [array([200.]), array([600.])],\n",
              " ('out1', 'in0'): [array([200.]), array([600.])],\n",
              " ('out1', 'in1'): [array([200.]), array([600.])]}"
            ]
          },
          "execution_count": 5,
          "metadata": {},
          "output_type": "execute_result"
        }
      ],
      "source": [
        "mzi()"
      ]
    }
  ],
  "metadata": {
    "kernelspec": {
      "display_name": "sax",
      "language": "python",
      "name": "sax"
    },
    "language_info": {
      "codemirror_mode": {
        "name": "ipython",
        "version": 3
      },
      "file_extension": ".py",
      "mimetype": "text/x-python",
      "name": "python",
      "nbconvert_exporter": "python",
      "pygments_lexer": "ipython3",
      "version": "3.9.0"
    },
    "papermill": {
      "default_parameters": {},
      "duration": 5.371035,
      "end_time": "2022-08-16T04:25:09.782115",
      "environment_variables": {},
      "exception": null,
      "input_path": "./examples/06_additive_backend.ipynb",
      "output_path": "./examples/06_additive_backend.ipynb",
      "parameters": {},
      "start_time": "2022-08-16T04:25:04.411080",
      "version": "2.3.4"
    }
  },
  "nbformat": 4,
  "nbformat_minor": 5
}
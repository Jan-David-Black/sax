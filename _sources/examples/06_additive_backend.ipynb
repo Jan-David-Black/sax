{
  "cells": [
    {
      "cell_type": "markdown",
      "id": "6f097557",
      "metadata": {
        "papermill": {
          "duration": 0.006258,
          "end_time": "2022-08-10T16:07:50.261182",
          "exception": false,
          "start_time": "2022-08-10T16:07:50.254924",
          "status": "completed"
        },
        "tags": []
      },
      "source": [
        "# Additive Backend"
      ]
    },
    {
      "cell_type": "markdown",
      "id": "56868383",
      "metadata": {
        "papermill": {
          "duration": 0.004361,
          "end_time": "2022-08-10T16:07:50.270362",
          "exception": false,
          "start_time": "2022-08-10T16:07:50.266001",
          "status": "completed"
        },
        "tags": []
      },
      "source": [
        "> The additive backend can be used to obtain pathlengths and group delays."
      ]
    },
    {
      "cell_type": "code",
      "execution_count": 1,
      "id": "79c98bc0",
      "metadata": {
        "execution": {
          "iopub.execute_input": "2022-08-10T16:07:50.288335Z",
          "iopub.status.busy": "2022-08-10T16:07:50.287875Z",
          "iopub.status.idle": "2022-08-10T16:07:51.625527Z",
          "shell.execute_reply": "2022-08-10T16:07:51.624578Z"
        },
        "papermill": {
          "duration": 1.351016,
          "end_time": "2022-08-10T16:07:51.625679",
          "exception": false,
          "start_time": "2022-08-10T16:07:50.274663",
          "status": "completed"
        },
        "tags": []
      },
      "outputs": [],
      "source": [
        "from functools import partial\n",
        "\n",
        "import jax\n",
        "import jax.example_libraries.optimizers as opt\n",
        "import jax.numpy as jnp\n",
        "import matplotlib.pyplot as plt  # plotting\n",
        "import sax\n",
        "import tqdm  # progress bars"
      ]
    },
    {
      "cell_type": "markdown",
      "id": "6a42b9d9",
      "metadata": {
        "papermill": {
          "duration": 0.004649,
          "end_time": "2022-08-10T16:07:51.635353",
          "exception": false,
          "start_time": "2022-08-10T16:07:51.630704",
          "status": "completed"
        },
        "tags": []
      },
      "source": [
        "## Parametrized Models"
      ]
    },
    {
      "cell_type": "code",
      "execution_count": 2,
      "id": "79e7e40e",
      "metadata": {
        "execution": {
          "iopub.execute_input": "2022-08-10T16:07:51.648551Z",
          "iopub.status.busy": "2022-08-10T16:07:51.648105Z",
          "iopub.status.idle": "2022-08-10T16:07:51.649765Z",
          "shell.execute_reply": "2022-08-10T16:07:51.650081Z"
        },
        "papermill": {
          "duration": 0.010406,
          "end_time": "2022-08-10T16:07:51.650203",
          "exception": false,
          "start_time": "2022-08-10T16:07:51.639797",
          "status": "completed"
        },
        "tags": []
      },
      "outputs": [],
      "source": [
        "def coupler(length=50.0) -> sax.SDict:\n",
        "    sdict =  {\n",
        "        (\"in0\", \"out0\"): length,\n",
        "        (\"in0\", \"out1\"): length,\n",
        "        (\"in1\", \"out0\"): length,\n",
        "        (\"in1\", \"out1\"): length,\n",
        "    }\n",
        "    return sax.reciprocal(sdict)"
      ]
    },
    {
      "cell_type": "code",
      "execution_count": 3,
      "id": "3248838c",
      "metadata": {
        "execution": {
          "iopub.execute_input": "2022-08-10T16:07:51.662454Z",
          "iopub.status.busy": "2022-08-10T16:07:51.662033Z",
          "iopub.status.idle": "2022-08-10T16:07:51.663900Z",
          "shell.execute_reply": "2022-08-10T16:07:51.663530Z"
        },
        "papermill": {
          "duration": 0.009363,
          "end_time": "2022-08-10T16:07:51.663996",
          "exception": false,
          "start_time": "2022-08-10T16:07:51.654633",
          "status": "completed"
        },
        "tags": []
      },
      "outputs": [],
      "source": [
        "def waveguide(length=100.0) -> sax.SDict:\n",
        "    sdict = {\n",
        "        (\"in0\", \"out0\"): length,\n",
        "    }\n",
        "    return sax.reciprocal(sdict)"
      ]
    },
    {
      "cell_type": "markdown",
      "id": "d650fb8d",
      "metadata": {
        "papermill": {
          "duration": 0.00451,
          "end_time": "2022-08-10T16:07:51.672968",
          "exception": false,
          "start_time": "2022-08-10T16:07:51.668458",
          "status": "completed"
        },
        "tags": []
      },
      "source": [
        "## Circuit with additive backend"
      ]
    },
    {
      "cell_type": "code",
      "execution_count": 4,
      "id": "56e035d0",
      "metadata": {
        "execution": {
          "iopub.execute_input": "2022-08-10T16:07:51.687289Z",
          "iopub.status.busy": "2022-08-10T16:07:51.686861Z",
          "iopub.status.idle": "2022-08-10T16:07:51.698856Z",
          "shell.execute_reply": "2022-08-10T16:07:51.698487Z"
        },
        "papermill": {
          "duration": 0.021478,
          "end_time": "2022-08-10T16:07:51.698949",
          "exception": false,
          "start_time": "2022-08-10T16:07:51.677471",
          "status": "completed"
        },
        "tags": []
      },
      "outputs": [
        {
          "name": "stderr",
          "output_type": "stream",
          "text": [
            "WARNING:absl:No GPU/TPU found, falling back to CPU. (Set TF_CPP_MIN_LOG_LEVEL=0 and rerun for more info.)\n"
          ]
        }
      ],
      "source": [
        "mzi = sax.circuit(\n",
        "    instances={\n",
        "        \"lft\": coupler,\n",
        "        \"top\": partial(waveguide, length=500),\n",
        "        \"btm\": partial(waveguide, length=100),\n",
        "        \"rgt\": coupler,\n",
        "    },\n",
        "    connections={\n",
        "        \"lft,out0\": \"btm,in0\",\n",
        "        \"btm,out0\": \"rgt,in0\",\n",
        "        \"lft,out1\": \"top,in0\",\n",
        "        \"top,out0\": \"rgt,in1\",\n",
        "    },\n",
        "    ports={\n",
        "        \"in0\": \"lft,in0\",\n",
        "        \"in1\": \"lft,in1\",\n",
        "        \"out0\": \"rgt,out0\",\n",
        "        \"out1\": \"rgt,out1\",\n",
        "    },\n",
        "    backend=\"additive\"\n",
        ")"
      ]
    },
    {
      "cell_type": "code",
      "execution_count": 5,
      "id": "c1f245fd",
      "metadata": {
        "execution": {
          "iopub.execute_input": "2022-08-10T16:07:51.716707Z",
          "iopub.status.busy": "2022-08-10T16:07:51.716117Z",
          "iopub.status.idle": "2022-08-10T16:07:51.838955Z",
          "shell.execute_reply": "2022-08-10T16:07:51.838511Z"
        },
        "papermill": {
          "duration": 0.134953,
          "end_time": "2022-08-10T16:07:51.839088",
          "exception": false,
          "start_time": "2022-08-10T16:07:51.704135",
          "status": "completed"
        },
        "tags": []
      },
      "outputs": [
        {
          "data": {
            "text/plain": [
              "{('in0', 'out0'): [array([200.]), array([600.])],\n",
              " ('in0', 'out1'): [array([200.]), array([600.])],\n",
              " ('in1', 'out0'): [array([200.]), array([600.])],\n",
              " ('in1', 'out1'): [array([200.]), array([600.])],\n",
              " ('out0', 'in0'): [array([200.]), array([600.])],\n",
              " ('out0', 'in1'): [array([200.]), array([600.])],\n",
              " ('out1', 'in0'): [array([200.]), array([600.])],\n",
              " ('out1', 'in1'): [array([200.]), array([600.])]}"
            ]
          },
          "execution_count": 5,
          "metadata": {},
          "output_type": "execute_result"
        }
      ],
      "source": [
        "mzi()"
      ]
    }
  ],
  "metadata": {
    "kernelspec": {
      "display_name": "sax",
      "language": "python",
      "name": "sax"
    },
    "language_info": {
      "codemirror_mode": {
        "name": "ipython",
        "version": 3
      },
      "file_extension": ".py",
      "mimetype": "text/x-python",
      "name": "python",
      "nbconvert_exporter": "python",
      "pygments_lexer": "ipython3",
      "version": "3.9.0"
    },
    "papermill": {
      "default_parameters": {},
      "duration": 5.374101,
      "end_time": "2022-08-10T16:07:54.493429",
      "environment_variables": {},
      "exception": null,
      "input_path": "./examples/06_additive_backend.ipynb",
      "output_path": "./examples/06_additive_backend.ipynb",
      "parameters": {},
      "start_time": "2022-08-10T16:07:49.119328",
      "version": "2.3.4"
    }
  },
  "nbformat": 4,
  "nbformat_minor": 5
}
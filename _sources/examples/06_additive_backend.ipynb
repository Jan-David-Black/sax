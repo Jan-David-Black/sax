{
  "cells": [
    {
      "cell_type": "markdown",
      "id": "6f097557",
      "metadata": {
        "papermill": {
          "duration": 0.005129,
          "end_time": "2022-08-17T03:24:03.829137",
          "exception": false,
          "start_time": "2022-08-17T03:24:03.824008",
          "status": "completed"
        },
        "tags": []
      },
      "source": [
        "# Additive Backend"
      ]
    },
    {
      "cell_type": "markdown",
      "id": "56868383",
      "metadata": {
        "papermill": {
          "duration": 0.003978,
          "end_time": "2022-08-17T03:24:03.837758",
          "exception": false,
          "start_time": "2022-08-17T03:24:03.833780",
          "status": "completed"
        },
        "tags": []
      },
      "source": [
        "> The additive backend can be used to obtain pathlengths and group delays."
      ]
    },
    {
      "cell_type": "code",
      "execution_count": 1,
      "id": "79c98bc0",
      "metadata": {
        "execution": {
          "iopub.execute_input": "2022-08-17T03:24:03.853976Z",
          "iopub.status.busy": "2022-08-17T03:24:03.853290Z",
          "iopub.status.idle": "2022-08-17T03:24:05.201588Z",
          "shell.execute_reply": "2022-08-17T03:24:05.201071Z"
        },
        "papermill": {
          "duration": 1.36005,
          "end_time": "2022-08-17T03:24:05.201715",
          "exception": false,
          "start_time": "2022-08-17T03:24:03.841665",
          "status": "completed"
        },
        "tags": []
      },
      "outputs": [],
      "source": [
        "from functools import partial\n",
        "\n",
        "import jax\n",
        "import jax.example_libraries.optimizers as opt\n",
        "import jax.numpy as jnp\n",
        "import matplotlib.pyplot as plt  # plotting\n",
        "import sax\n",
        "import tqdm  # progress bars"
      ]
    },
    {
      "cell_type": "markdown",
      "id": "6a42b9d9",
      "metadata": {
        "papermill": {
          "duration": 0.0046,
          "end_time": "2022-08-17T03:24:05.210826",
          "exception": false,
          "start_time": "2022-08-17T03:24:05.206226",
          "status": "completed"
        },
        "tags": []
      },
      "source": [
        "## Parametrized Models"
      ]
    },
    {
      "cell_type": "code",
      "execution_count": 2,
      "id": "79e7e40e",
      "metadata": {
        "execution": {
          "iopub.execute_input": "2022-08-17T03:24:05.223139Z",
          "iopub.status.busy": "2022-08-17T03:24:05.222338Z",
          "iopub.status.idle": "2022-08-17T03:24:05.223787Z",
          "shell.execute_reply": "2022-08-17T03:24:05.224103Z"
        },
        "papermill": {
          "duration": 0.009396,
          "end_time": "2022-08-17T03:24:05.224208",
          "exception": false,
          "start_time": "2022-08-17T03:24:05.214812",
          "status": "completed"
        },
        "tags": []
      },
      "outputs": [],
      "source": [
        "def coupler(length=50.0) -> sax.SDict:\n",
        "    sdict =  {\n",
        "        (\"in0\", \"out0\"): length,\n",
        "        (\"in0\", \"out1\"): length,\n",
        "        (\"in1\", \"out0\"): length,\n",
        "        (\"in1\", \"out1\"): length,\n",
        "    }\n",
        "    return sax.reciprocal(sdict)"
      ]
    },
    {
      "cell_type": "code",
      "execution_count": 3,
      "id": "3248838c",
      "metadata": {
        "execution": {
          "iopub.execute_input": "2022-08-17T03:24:05.235394Z",
          "iopub.status.busy": "2022-08-17T03:24:05.234960Z",
          "iopub.status.idle": "2022-08-17T03:24:05.236838Z",
          "shell.execute_reply": "2022-08-17T03:24:05.236499Z"
        },
        "papermill": {
          "duration": 0.008675,
          "end_time": "2022-08-17T03:24:05.236921",
          "exception": false,
          "start_time": "2022-08-17T03:24:05.228246",
          "status": "completed"
        },
        "tags": []
      },
      "outputs": [],
      "source": [
        "def waveguide(length=100.0) -> sax.SDict:\n",
        "    sdict = {\n",
        "        (\"in0\", \"out0\"): length,\n",
        "    }\n",
        "    return sax.reciprocal(sdict)"
      ]
    },
    {
      "cell_type": "markdown",
      "id": "d650fb8d",
      "metadata": {
        "papermill": {
          "duration": 0.004069,
          "end_time": "2022-08-17T03:24:05.245172",
          "exception": false,
          "start_time": "2022-08-17T03:24:05.241103",
          "status": "completed"
        },
        "tags": []
      },
      "source": [
        "## Circuit with additive backend"
      ]
    },
    {
      "cell_type": "code",
      "execution_count": 4,
      "id": "56e035d0",
      "metadata": {
        "execution": {
          "iopub.execute_input": "2022-08-17T03:24:05.258139Z",
          "iopub.status.busy": "2022-08-17T03:24:05.257720Z",
          "iopub.status.idle": "2022-08-17T03:24:05.266932Z",
          "shell.execute_reply": "2022-08-17T03:24:05.267245Z"
        },
        "papermill": {
          "duration": 0.018119,
          "end_time": "2022-08-17T03:24:05.267351",
          "exception": false,
          "start_time": "2022-08-17T03:24:05.249232",
          "status": "completed"
        },
        "tags": []
      },
      "outputs": [
        {
          "name": "stderr",
          "output_type": "stream",
          "text": [
            "WARNING:absl:No GPU/TPU found, falling back to CPU. (Set TF_CPP_MIN_LOG_LEVEL=0 and rerun for more info.)\n"
          ]
        }
      ],
      "source": [
        "mzi, _ = sax.circuit(\n",
        "    netlist={\n",
        "        \"instances\": {\n",
        "            \"lft\": coupler,\n",
        "            \"top\": partial(waveguide, length=500),\n",
        "            \"btm\": partial(waveguide, length=100),\n",
        "            \"rgt\": coupler,\n",
        "        },\n",
        "        \"connections\": {\n",
        "            \"lft,out0\": \"btm,in0\",\n",
        "            \"btm,out0\": \"rgt,in0\",\n",
        "            \"lft,out1\": \"top,in0\",\n",
        "            \"top,out0\": \"rgt,in1\",\n",
        "        },\n",
        "        \"ports\": {\n",
        "            \"in0\": \"lft,in0\",\n",
        "            \"in1\": \"lft,in1\",\n",
        "            \"out0\": \"rgt,out0\",\n",
        "            \"out1\": \"rgt,out1\",\n",
        "        },\n",
        "    },\n",
        "    backend=\"additive\",\n",
        ")"
      ]
    },
    {
      "cell_type": "code",
      "execution_count": 5,
      "id": "c1f245fd",
      "metadata": {
        "execution": {
          "iopub.execute_input": "2022-08-17T03:24:05.285517Z",
          "iopub.status.busy": "2022-08-17T03:24:05.285085Z",
          "iopub.status.idle": "2022-08-17T03:24:05.396912Z",
          "shell.execute_reply": "2022-08-17T03:24:05.397228Z"
        },
        "papermill": {
          "duration": 0.125375,
          "end_time": "2022-08-17T03:24:05.397356",
          "exception": false,
          "start_time": "2022-08-17T03:24:05.271981",
          "status": "completed"
        },
        "tags": []
      },
      "outputs": [
        {
          "data": {
            "text/plain": [
              "{('in0', 'out0'): [array([200.]), array([600.])],\n",
              " ('in0', 'out1'): [array([200.]), array([600.])],\n",
              " ('in1', 'out0'): [array([200.]), array([600.])],\n",
              " ('in1', 'out1'): [array([200.]), array([600.])],\n",
              " ('out0', 'in0'): [array([200.]), array([600.])],\n",
              " ('out0', 'in1'): [array([200.]), array([600.])],\n",
              " ('out1', 'in0'): [array([200.]), array([600.])],\n",
              " ('out1', 'in1'): [array([200.]), array([600.])]}"
            ]
          },
          "execution_count": 5,
          "metadata": {},
          "output_type": "execute_result"
        }
      ],
      "source": [
        "mzi()"
      ]
    }
  ],
  "metadata": {
    "kernelspec": {
      "display_name": "sax",
      "language": "python",
      "name": "sax"
    },
    "language_info": {
      "codemirror_mode": {
        "name": "ipython",
        "version": 3
      },
      "file_extension": ".py",
      "mimetype": "text/x-python",
      "name": "python",
      "nbconvert_exporter": "python",
      "pygments_lexer": "ipython3",
      "version": "3.9.0"
    },
    "papermill": {
      "default_parameters": {},
      "duration": 5.367385,
      "end_time": "2022-08-17T03:24:08.064845",
      "environment_variables": {},
      "exception": null,
      "input_path": "./examples/06_additive_backend.ipynb",
      "output_path": "./examples/06_additive_backend.ipynb",
      "parameters": {},
      "start_time": "2022-08-17T03:24:02.697460",
      "version": "2.3.4"
    }
  },
  "nbformat": 4,
  "nbformat_minor": 5
}
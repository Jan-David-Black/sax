{
  "cells": [
    {
      "cell_type": "markdown",
      "id": "6f097557",
      "metadata": {
        "papermill": {
          "duration": 0.007622,
          "end_time": "2022-08-04T05:56:08.677876",
          "exception": false,
          "start_time": "2022-08-04T05:56:08.670254",
          "status": "completed"
        },
        "tags": []
      },
      "source": [
        "# Additive Backend"
      ]
    },
    {
      "cell_type": "markdown",
      "id": "56868383",
      "metadata": {
        "papermill": {
          "duration": 0.005242,
          "end_time": "2022-08-04T05:56:08.688728",
          "exception": false,
          "start_time": "2022-08-04T05:56:08.683486",
          "status": "completed"
        },
        "tags": []
      },
      "source": [
        "> The additive backend can be used to obtain pathlengths and group delays."
      ]
    },
    {
      "cell_type": "code",
      "execution_count": 1,
      "id": "79c98bc0",
      "metadata": {
        "execution": {
          "iopub.execute_input": "2022-08-04T05:56:08.711022Z",
          "iopub.status.busy": "2022-08-04T05:56:08.710440Z",
          "iopub.status.idle": "2022-08-04T05:56:10.283551Z",
          "shell.execute_reply": "2022-08-04T05:56:10.282946Z"
        },
        "papermill": {
          "duration": 1.589918,
          "end_time": "2022-08-04T05:56:10.283711",
          "exception": false,
          "start_time": "2022-08-04T05:56:08.693793",
          "status": "completed"
        },
        "tags": []
      },
      "outputs": [],
      "source": [
        "from functools import partial\n",
        "\n",
        "import jax\n",
        "import jax.example_libraries.optimizers as opt\n",
        "import jax.numpy as jnp\n",
        "import matplotlib.pyplot as plt  # plotting\n",
        "import sax\n",
        "import tqdm  # progress bars"
      ]
    },
    {
      "cell_type": "markdown",
      "id": "6a42b9d9",
      "metadata": {
        "papermill": {
          "duration": 0.005611,
          "end_time": "2022-08-04T05:56:10.295244",
          "exception": false,
          "start_time": "2022-08-04T05:56:10.289633",
          "status": "completed"
        },
        "tags": []
      },
      "source": [
        "## Parametrized Models"
      ]
    },
    {
      "cell_type": "code",
      "execution_count": 2,
      "id": "79e7e40e",
      "metadata": {
        "execution": {
          "iopub.execute_input": "2022-08-04T05:56:10.312041Z",
          "iopub.status.busy": "2022-08-04T05:56:10.311090Z",
          "iopub.status.idle": "2022-08-04T05:56:10.313011Z",
          "shell.execute_reply": "2022-08-04T05:56:10.313380Z"
        },
        "papermill": {
          "duration": 0.013059,
          "end_time": "2022-08-04T05:56:10.313518",
          "exception": false,
          "start_time": "2022-08-04T05:56:10.300459",
          "status": "completed"
        },
        "tags": []
      },
      "outputs": [],
      "source": [
        "def coupler(length=50.0) -> sax.SDict:\n",
        "    sdict =  {\n",
        "        (\"in0\", \"out0\"): length,\n",
        "        (\"in0\", \"out1\"): length,\n",
        "        (\"in1\", \"out0\"): length,\n",
        "        (\"in1\", \"out1\"): length,\n",
        "    }\n",
        "    return sax.reciprocal(sdict)"
      ]
    },
    {
      "cell_type": "code",
      "execution_count": 3,
      "id": "3248838c",
      "metadata": {
        "execution": {
          "iopub.execute_input": "2022-08-04T05:56:10.327800Z",
          "iopub.status.busy": "2022-08-04T05:56:10.326129Z",
          "iopub.status.idle": "2022-08-04T05:56:10.331519Z",
          "shell.execute_reply": "2022-08-04T05:56:10.331111Z"
        },
        "papermill": {
          "duration": 0.012902,
          "end_time": "2022-08-04T05:56:10.331633",
          "exception": false,
          "start_time": "2022-08-04T05:56:10.318731",
          "status": "completed"
        },
        "tags": []
      },
      "outputs": [],
      "source": [
        "def waveguide(length=100.0) -> sax.SDict:\n",
        "    sdict = {\n",
        "        (\"in0\", \"out0\"): length,\n",
        "    }\n",
        "    return sax.reciprocal(sdict)"
      ]
    },
    {
      "cell_type": "markdown",
      "id": "d650fb8d",
      "metadata": {
        "papermill": {
          "duration": 0.005433,
          "end_time": "2022-08-04T05:56:10.342903",
          "exception": false,
          "start_time": "2022-08-04T05:56:10.337470",
          "status": "completed"
        },
        "tags": []
      },
      "source": [
        "## Circuit with additive backend"
      ]
    },
    {
      "cell_type": "code",
      "execution_count": 4,
      "id": "56e035d0",
      "metadata": {
        "execution": {
          "iopub.execute_input": "2022-08-04T05:56:10.360371Z",
          "iopub.status.busy": "2022-08-04T05:56:10.359838Z",
          "iopub.status.idle": "2022-08-04T05:56:10.372923Z",
          "shell.execute_reply": "2022-08-04T05:56:10.373299Z"
        },
        "papermill": {
          "duration": 0.025172,
          "end_time": "2022-08-04T05:56:10.373443",
          "exception": false,
          "start_time": "2022-08-04T05:56:10.348271",
          "status": "completed"
        },
        "tags": []
      },
      "outputs": [
        {
          "name": "stderr",
          "output_type": "stream",
          "text": [
            "WARNING:absl:No GPU/TPU found, falling back to CPU. (Set TF_CPP_MIN_LOG_LEVEL=0 and rerun for more info.)\n"
          ]
        }
      ],
      "source": [
        "mzi = sax.circuit(\n",
        "    instances={\n",
        "        \"lft\": coupler,\n",
        "        \"top\": partial(waveguide, length=500),\n",
        "        \"btm\": partial(waveguide, length=100),\n",
        "        \"rgt\": coupler,\n",
        "    },\n",
        "    connections={\n",
        "        \"lft,out0\": \"btm,in0\",\n",
        "        \"btm,out0\": \"rgt,in0\",\n",
        "        \"lft,out1\": \"top,in0\",\n",
        "        \"top,out0\": \"rgt,in1\",\n",
        "    },\n",
        "    ports={\n",
        "        \"in0\": \"lft,in0\",\n",
        "        \"in1\": \"lft,in1\",\n",
        "        \"out0\": \"rgt,out0\",\n",
        "        \"out1\": \"rgt,out1\",\n",
        "    },\n",
        "    backend=\"additive\"\n",
        ")"
      ]
    },
    {
      "cell_type": "code",
      "execution_count": 5,
      "id": "c1f245fd",
      "metadata": {
        "execution": {
          "iopub.execute_input": "2022-08-04T05:56:10.388059Z",
          "iopub.status.busy": "2022-08-04T05:56:10.387567Z",
          "iopub.status.idle": "2022-08-04T05:56:10.532260Z",
          "shell.execute_reply": "2022-08-04T05:56:10.531781Z"
        },
        "papermill": {
          "duration": 0.15277,
          "end_time": "2022-08-04T05:56:10.532399",
          "exception": false,
          "start_time": "2022-08-04T05:56:10.379629",
          "status": "completed"
        },
        "tags": []
      },
      "outputs": [
        {
          "data": {
            "text/plain": [
              "{('in0', 'out0'): [array([200.]), array([600.])],\n",
              " ('in0', 'out1'): [array([200.]), array([600.])],\n",
              " ('in1', 'out0'): [array([200.]), array([600.])],\n",
              " ('in1', 'out1'): [array([200.]), array([600.])],\n",
              " ('out0', 'in0'): [array([200.]), array([600.])],\n",
              " ('out0', 'in1'): [array([200.]), array([600.])],\n",
              " ('out1', 'in0'): [array([200.]), array([600.])],\n",
              " ('out1', 'in1'): [array([200.]), array([600.])]}"
            ]
          },
          "execution_count": 5,
          "metadata": {},
          "output_type": "execute_result"
        }
      ],
      "source": [
        "mzi()"
      ]
    }
  ],
  "metadata": {
    "kernelspec": {
      "display_name": "sax",
      "language": "python",
      "name": "sax"
    },
    "language_info": {
      "codemirror_mode": {
        "name": "ipython",
        "version": 3
      },
      "file_extension": ".py",
      "mimetype": "text/x-python",
      "name": "python",
      "nbconvert_exporter": "python",
      "pygments_lexer": "ipython3",
      "version": "3.9.0"
    },
    "papermill": {
      "default_parameters": {},
      "duration": 6.433502,
      "end_time": "2022-08-04T05:56:13.600713",
      "environment_variables": {},
      "exception": null,
      "input_path": "./examples/06_additive_backend.ipynb",
      "output_path": "./examples/06_additive_backend.ipynb",
      "parameters": {},
      "start_time": "2022-08-04T05:56:07.167211",
      "version": "2.3.4"
    }
  },
  "nbformat": 4,
  "nbformat_minor": 5
}
{
  "cells": [
    {
      "cell_type": "markdown",
      "id": "6f097557",
      "metadata": {
        "papermill": {
          "duration": 0.00639,
          "end_time": "2022-08-04T04:39:18.359638",
          "exception": false,
          "start_time": "2022-08-04T04:39:18.353248",
          "status": "completed"
        },
        "tags": []
      },
      "source": [
        "# Additive Backend"
      ]
    },
    {
      "cell_type": "markdown",
      "id": "56868383",
      "metadata": {
        "papermill": {
          "duration": 0.004396,
          "end_time": "2022-08-04T04:39:18.369108",
          "exception": false,
          "start_time": "2022-08-04T04:39:18.364712",
          "status": "completed"
        },
        "tags": []
      },
      "source": [
        "> The additive backend can be used to obtain pathlengths and group delays."
      ]
    },
    {
      "cell_type": "code",
      "execution_count": 1,
      "id": "79c98bc0",
      "metadata": {
        "execution": {
          "iopub.execute_input": "2022-08-04T04:39:18.386787Z",
          "iopub.status.busy": "2022-08-04T04:39:18.386309Z",
          "iopub.status.idle": "2022-08-04T04:39:19.745148Z",
          "shell.execute_reply": "2022-08-04T04:39:19.744594Z"
        },
        "papermill": {
          "duration": 1.371929,
          "end_time": "2022-08-04T04:39:19.745330",
          "exception": false,
          "start_time": "2022-08-04T04:39:18.373401",
          "status": "completed"
        },
        "tags": []
      },
      "outputs": [],
      "source": [
        "from functools import partial\n",
        "\n",
        "import jax\n",
        "import jax.example_libraries.optimizers as opt\n",
        "import jax.numpy as jnp\n",
        "import matplotlib.pyplot as plt  # plotting\n",
        "import sax\n",
        "import tqdm  # progress bars"
      ]
    },
    {
      "cell_type": "markdown",
      "id": "6a42b9d9",
      "metadata": {
        "papermill": {
          "duration": 0.004998,
          "end_time": "2022-08-04T04:39:19.755992",
          "exception": false,
          "start_time": "2022-08-04T04:39:19.750994",
          "status": "completed"
        },
        "tags": []
      },
      "source": [
        "## Parametrized Models"
      ]
    },
    {
      "cell_type": "code",
      "execution_count": 2,
      "id": "79e7e40e",
      "metadata": {
        "execution": {
          "iopub.execute_input": "2022-08-04T04:39:19.769079Z",
          "iopub.status.busy": "2022-08-04T04:39:19.768632Z",
          "iopub.status.idle": "2022-08-04T04:39:19.770364Z",
          "shell.execute_reply": "2022-08-04T04:39:19.770679Z"
        },
        "papermill": {
          "duration": 0.010466,
          "end_time": "2022-08-04T04:39:19.770797",
          "exception": false,
          "start_time": "2022-08-04T04:39:19.760331",
          "status": "completed"
        },
        "tags": []
      },
      "outputs": [],
      "source": [
        "def coupler(length=50.0) -> sax.SDict:\n",
        "    sdict =  {\n",
        "        (\"in0\", \"out0\"): length,\n",
        "        (\"in0\", \"out1\"): length,\n",
        "        (\"in1\", \"out0\"): length,\n",
        "        (\"in1\", \"out1\"): length,\n",
        "    }\n",
        "    return sax.reciprocal(sdict)"
      ]
    },
    {
      "cell_type": "code",
      "execution_count": 3,
      "id": "3248838c",
      "metadata": {
        "execution": {
          "iopub.execute_input": "2022-08-04T04:39:19.784062Z",
          "iopub.status.busy": "2022-08-04T04:39:19.783064Z",
          "iopub.status.idle": "2022-08-04T04:39:19.784565Z",
          "shell.execute_reply": "2022-08-04T04:39:19.784892Z"
        },
        "papermill": {
          "duration": 0.009837,
          "end_time": "2022-08-04T04:39:19.785008",
          "exception": false,
          "start_time": "2022-08-04T04:39:19.775171",
          "status": "completed"
        },
        "tags": []
      },
      "outputs": [],
      "source": [
        "def waveguide(length=100.0) -> sax.SDict:\n",
        "    sdict = {\n",
        "        (\"in0\", \"out0\"): length,\n",
        "    }\n",
        "    return sax.reciprocal(sdict)"
      ]
    },
    {
      "cell_type": "markdown",
      "id": "d650fb8d",
      "metadata": {
        "papermill": {
          "duration": 0.004469,
          "end_time": "2022-08-04T04:39:19.794035",
          "exception": false,
          "start_time": "2022-08-04T04:39:19.789566",
          "status": "completed"
        },
        "tags": []
      },
      "source": [
        "## Circuit with additive backend"
      ]
    },
    {
      "cell_type": "code",
      "execution_count": 4,
      "id": "56e035d0",
      "metadata": {
        "execution": {
          "iopub.execute_input": "2022-08-04T04:39:19.809075Z",
          "iopub.status.busy": "2022-08-04T04:39:19.808643Z",
          "iopub.status.idle": "2022-08-04T04:39:19.821775Z",
          "shell.execute_reply": "2022-08-04T04:39:19.821389Z"
        },
        "papermill": {
          "duration": 0.023359,
          "end_time": "2022-08-04T04:39:19.821882",
          "exception": false,
          "start_time": "2022-08-04T04:39:19.798523",
          "status": "completed"
        },
        "tags": []
      },
      "outputs": [
        {
          "name": "stderr",
          "output_type": "stream",
          "text": [
            "WARNING:absl:No GPU/TPU found, falling back to CPU. (Set TF_CPP_MIN_LOG_LEVEL=0 and rerun for more info.)\n"
          ]
        }
      ],
      "source": [
        "mzi = sax.circuit(\n",
        "    instances={\n",
        "        \"lft\": coupler,\n",
        "        \"top\": partial(waveguide, length=500),\n",
        "        \"btm\": partial(waveguide, length=100),\n",
        "        \"rgt\": coupler,\n",
        "    },\n",
        "    connections={\n",
        "        \"lft,out0\": \"btm,in0\",\n",
        "        \"btm,out0\": \"rgt,in0\",\n",
        "        \"lft,out1\": \"top,in0\",\n",
        "        \"top,out0\": \"rgt,in1\",\n",
        "    },\n",
        "    ports={\n",
        "        \"in0\": \"lft,in0\",\n",
        "        \"in1\": \"lft,in1\",\n",
        "        \"out0\": \"rgt,out0\",\n",
        "        \"out1\": \"rgt,out1\",\n",
        "    },\n",
        "    backend=\"additive\"\n",
        ")"
      ]
    },
    {
      "cell_type": "code",
      "execution_count": 5,
      "id": "c1f245fd",
      "metadata": {
        "execution": {
          "iopub.execute_input": "2022-08-04T04:39:19.841875Z",
          "iopub.status.busy": "2022-08-04T04:39:19.841433Z",
          "iopub.status.idle": "2022-08-04T04:39:19.960605Z",
          "shell.execute_reply": "2022-08-04T04:39:19.960929Z"
        },
        "papermill": {
          "duration": 0.133936,
          "end_time": "2022-08-04T04:39:19.961075",
          "exception": false,
          "start_time": "2022-08-04T04:39:19.827139",
          "status": "completed"
        },
        "tags": []
      },
      "outputs": [
        {
          "data": {
            "text/plain": [
              "{('in0', 'out0'): [array([200.]), array([600.])],\n",
              " ('in0', 'out1'): [array([200.]), array([600.])],\n",
              " ('in1', 'out0'): [array([200.]), array([600.])],\n",
              " ('in1', 'out1'): [array([200.]), array([600.])],\n",
              " ('out0', 'in0'): [array([200.]), array([600.])],\n",
              " ('out0', 'in1'): [array([200.]), array([600.])],\n",
              " ('out1', 'in0'): [array([200.]), array([600.])],\n",
              " ('out1', 'in1'): [array([200.]), array([600.])]}"
            ]
          },
          "execution_count": 5,
          "metadata": {},
          "output_type": "execute_result"
        }
      ],
      "source": [
        "mzi()"
      ]
    }
  ],
  "metadata": {
    "kernelspec": {
      "display_name": "sax",
      "language": "python",
      "name": "sax"
    },
    "language_info": {
      "codemirror_mode": {
        "name": "ipython",
        "version": 3
      },
      "file_extension": ".py",
      "mimetype": "text/x-python",
      "name": "python",
      "nbconvert_exporter": "python",
      "pygments_lexer": "ipython3",
      "version": "3.9.0"
    },
    "papermill": {
      "default_parameters": {},
      "duration": 5.373967,
      "end_time": "2022-08-04T04:39:22.594595",
      "environment_variables": {},
      "exception": null,
      "input_path": "./examples/06_additive_backend.ipynb",
      "output_path": "./examples/06_additive_backend.ipynb",
      "parameters": {},
      "start_time": "2022-08-04T04:39:17.220628",
      "version": "2.3.4"
    }
  },
  "nbformat": 4,
  "nbformat_minor": 5
}
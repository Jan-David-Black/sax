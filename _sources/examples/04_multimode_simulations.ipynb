{
  "cells": [
    {
      "cell_type": "markdown",
      "id": "textile-panel",
      "metadata": {
        "papermill": {
          "duration": 0.008326,
          "end_time": "2022-08-17T03:24:09.590640",
          "exception": false,
          "start_time": "2022-08-17T03:24:09.582314",
          "status": "completed"
        },
        "tags": []
      },
      "source": [
        "# Multimode simulations\n",
        "> SAX can handle multiple modes too!"
      ]
    },
    {
      "cell_type": "code",
      "execution_count": 1,
      "id": "prescribed-plant",
      "metadata": {
        "execution": {
          "iopub.execute_input": "2022-08-17T03:24:09.607466Z",
          "iopub.status.busy": "2022-08-17T03:24:09.607049Z",
          "iopub.status.idle": "2022-08-17T03:24:10.370996Z",
          "shell.execute_reply": "2022-08-17T03:24:10.371352Z"
        },
        "papermill": {
          "duration": 0.773668,
          "end_time": "2022-08-17T03:24:10.371567",
          "exception": false,
          "start_time": "2022-08-17T03:24:09.597899",
          "status": "completed"
        },
        "tags": []
      },
      "outputs": [],
      "source": [
        "from itertools import combinations_with_replacement, product\n",
        "\n",
        "import jax\n",
        "import jax.numpy as jnp\n",
        "import sax"
      ]
    },
    {
      "cell_type": "markdown",
      "id": "requested-calvin",
      "metadata": {
        "papermill": {
          "duration": 0.007216,
          "end_time": "2022-08-17T03:24:10.386250",
          "exception": false,
          "start_time": "2022-08-17T03:24:10.379034",
          "status": "completed"
        },
        "tags": []
      },
      "source": [
        "## Ports and modes per port"
      ]
    },
    {
      "cell_type": "markdown",
      "id": "grateful-programming",
      "metadata": {
        "papermill": {
          "duration": 0.006886,
          "end_time": "2022-08-17T03:24:10.400064",
          "exception": false,
          "start_time": "2022-08-17T03:24:10.393178",
          "status": "completed"
        },
        "tags": []
      },
      "source": [
        "Let's denote a combination of a port and a mode by a string of the following format: `\"{port}@{mode}\"`. We can obtain all possible port-mode combinations with some magic itertools functions:"
      ]
    },
    {
      "cell_type": "code",
      "execution_count": 2,
      "id": "going-entity",
      "metadata": {
        "execution": {
          "iopub.execute_input": "2022-08-17T03:24:10.416302Z",
          "iopub.status.busy": "2022-08-17T03:24:10.415887Z",
          "iopub.status.idle": "2022-08-17T03:24:10.424995Z",
          "shell.execute_reply": "2022-08-17T03:24:10.425324Z"
        },
        "papermill": {
          "duration": 0.018439,
          "end_time": "2022-08-17T03:24:10.425431",
          "exception": false,
          "start_time": "2022-08-17T03:24:10.406992",
          "status": "completed"
        },
        "tags": []
      },
      "outputs": [
        {
          "data": {
            "text/plain": [
              "[('in0@te', 'in0@te'),\n",
              " ('in0@te', 'in0@tm'),\n",
              " ('in0@te', 'out0@te'),\n",
              " ('in0@te', 'out0@tm'),\n",
              " ('in0@tm', 'in0@tm'),\n",
              " ('in0@tm', 'out0@te'),\n",
              " ('in0@tm', 'out0@tm'),\n",
              " ('out0@te', 'out0@te'),\n",
              " ('out0@te', 'out0@tm'),\n",
              " ('out0@tm', 'out0@tm')]"
            ]
          },
          "execution_count": 2,
          "metadata": {},
          "output_type": "execute_result"
        }
      ],
      "source": [
        "ports = [\"in0\", \"out0\"]\n",
        "modes = [\"te\", \"tm\"]\n",
        "portmodes = [\n",
        "    (f\"{p1}@{m1}\", f\"{p2}@{m2}\")\n",
        "    for (p1, m1), (p2, m2) in combinations_with_replacement(product(ports, modes), 2)\n",
        "]\n",
        "portmodes"
      ]
    },
    {
      "cell_type": "markdown",
      "id": "passive-selling",
      "metadata": {
        "papermill": {
          "duration": 0.007186,
          "end_time": "2022-08-17T03:24:10.440037",
          "exception": false,
          "start_time": "2022-08-17T03:24:10.432851",
          "status": "completed"
        },
        "tags": []
      },
      "source": [
        "If we would disregard any backreflection, this can be further simplified:"
      ]
    },
    {
      "cell_type": "code",
      "execution_count": 3,
      "id": "numerical-novel",
      "metadata": {
        "execution": {
          "iopub.execute_input": "2022-08-17T03:24:10.458565Z",
          "iopub.status.busy": "2022-08-17T03:24:10.458139Z",
          "iopub.status.idle": "2022-08-17T03:24:10.460271Z",
          "shell.execute_reply": "2022-08-17T03:24:10.459936Z"
        },
        "papermill": {
          "duration": 0.013105,
          "end_time": "2022-08-17T03:24:10.460359",
          "exception": false,
          "start_time": "2022-08-17T03:24:10.447254",
          "status": "completed"
        },
        "tags": []
      },
      "outputs": [
        {
          "data": {
            "text/plain": [
              "[('in0@te', 'out0@te'),\n",
              " ('in0@te', 'out0@tm'),\n",
              " ('in0@tm', 'out0@te'),\n",
              " ('in0@tm', 'out0@tm')]"
            ]
          },
          "execution_count": 3,
          "metadata": {},
          "output_type": "execute_result"
        }
      ],
      "source": [
        "portmodes_without_backreflection = [\n",
        "    (p1, p2) for p1, p2 in portmodes if p1.split(\"@\")[0] != p2.split(\"@\")[0]\n",
        "]\n",
        "portmodes_without_backreflection"
      ]
    },
    {
      "cell_type": "markdown",
      "id": "hindu-application",
      "metadata": {
        "papermill": {
          "duration": 0.007468,
          "end_time": "2022-08-17T03:24:10.475363",
          "exception": false,
          "start_time": "2022-08-17T03:24:10.467895",
          "status": "completed"
        },
        "tags": []
      },
      "source": [
        "Sometimes cross-polarization terms can also be ignored:"
      ]
    },
    {
      "cell_type": "code",
      "execution_count": 4,
      "id": "encouraging-territory",
      "metadata": {
        "execution": {
          "iopub.execute_input": "2022-08-17T03:24:10.494773Z",
          "iopub.status.busy": "2022-08-17T03:24:10.494353Z",
          "iopub.status.idle": "2022-08-17T03:24:10.496329Z",
          "shell.execute_reply": "2022-08-17T03:24:10.496663Z"
        },
        "papermill": {
          "duration": 0.013787,
          "end_time": "2022-08-17T03:24:10.496765",
          "exception": false,
          "start_time": "2022-08-17T03:24:10.482978",
          "status": "completed"
        },
        "tags": []
      },
      "outputs": [
        {
          "data": {
            "text/plain": [
              "[('in0@te', 'in0@te'),\n",
              " ('in0@te', 'out0@te'),\n",
              " ('in0@tm', 'in0@tm'),\n",
              " ('in0@tm', 'out0@tm'),\n",
              " ('out0@te', 'out0@te'),\n",
              " ('out0@tm', 'out0@tm')]"
            ]
          },
          "execution_count": 4,
          "metadata": {},
          "output_type": "execute_result"
        }
      ],
      "source": [
        "portmodes_without_crosspolarization = [\n",
        "    (p1, p2) for p1, p2 in portmodes if p1.split(\"@\")[1] == p2.split(\"@\")[1]\n",
        "]\n",
        "portmodes_without_crosspolarization"
      ]
    },
    {
      "cell_type": "markdown",
      "id": "mathematical-default",
      "metadata": {
        "papermill": {
          "duration": 0.007731,
          "end_time": "2022-08-17T03:24:10.512286",
          "exception": false,
          "start_time": "2022-08-17T03:24:10.504555",
          "status": "completed"
        },
        "tags": []
      },
      "source": [
        "## Multimode waveguide"
      ]
    },
    {
      "cell_type": "markdown",
      "id": "asian-noise",
      "metadata": {
        "papermill": {
          "duration": 0.007775,
          "end_time": "2022-08-17T03:24:10.527891",
          "exception": false,
          "start_time": "2022-08-17T03:24:10.520116",
          "status": "completed"
        },
        "tags": []
      },
      "source": [
        "Let's create a waveguide with two ports (`\"in\"`, `\"out\"`) and two modes (`\"te\"`, `\"tm\"`) without backreflection. Let's assume there is 5% cross-polarization and that the `\"tm\"`->`\"tm\"` transmission is 10% worse than the `\"te\"`->`\"te\"` transmission. Naturally in more realisic waveguide models these percentages will be length-dependent, but this is just a dummy model serving as an example."
      ]
    },
    {
      "cell_type": "code",
      "execution_count": 5,
      "id": "patient-wealth",
      "metadata": {
        "execution": {
          "iopub.execute_input": "2022-08-17T03:24:10.548839Z",
          "iopub.status.busy": "2022-08-17T03:24:10.548410Z",
          "iopub.status.idle": "2022-08-17T03:24:10.611755Z",
          "shell.execute_reply": "2022-08-17T03:24:10.611160Z"
        },
        "papermill": {
          "duration": 0.076203,
          "end_time": "2022-08-17T03:24:10.611859",
          "exception": false,
          "start_time": "2022-08-17T03:24:10.535656",
          "status": "completed"
        },
        "tags": []
      },
      "outputs": [
        {
          "name": "stderr",
          "output_type": "stream",
          "text": [
            "WARNING:absl:No GPU/TPU found, falling back to CPU. (Set TF_CPP_MIN_LOG_LEVEL=0 and rerun for more info.)\n"
          ]
        },
        {
          "data": {
            "text/plain": [
              "{('in0@te', 'out0@te'): 0.77973+0.5427j,\n",
              " ('in0@te', 'out0@tm'): 0.04104+0.02856j,\n",
              " ('in0@tm', 'out0@tm'): 0.69765+0.48558j,\n",
              " ('in0@tm', 'out0@te'): 0.04104+0.02856j,\n",
              " ('out0@te', 'in0@te'): 0.77973+0.5427j,\n",
              " ('out0@tm', 'in0@te'): 0.04104+0.02856j,\n",
              " ('out0@tm', 'in0@tm'): 0.69765+0.48558j,\n",
              " ('out0@te', 'in0@tm'): 0.04104+0.02856j}"
            ]
          },
          "execution_count": 5,
          "metadata": {},
          "output_type": "execute_result"
        }
      ],
      "source": [
        "def waveguide(wl=1.55, wl0=1.55, neff=2.34, ng=3.4, length=10.0, loss=0.0):\n",
        "    \"\"\"a simple straight waveguide model\n",
        "\n",
        "    Args:\n",
        "        wl: wavelength\n",
        "        neff: waveguide effective index\n",
        "        ng: waveguide group index (used for linear neff dispersion)\n",
        "        wl0: center wavelength at which neff is defined\n",
        "        length: [m] wavelength length\n",
        "        loss: [dB/m] waveguide loss\n",
        "    \"\"\"\n",
        "    dwl = wl - wl0\n",
        "    dneff_dwl = (ng - neff) / wl0\n",
        "    neff = neff - dwl * dneff_dwl\n",
        "    phase = 2 * jnp.pi * neff * length / wl\n",
        "    transmission = 10 ** (-loss * length / 20) * jnp.exp(1j * phase)\n",
        "    sdict = sax.reciprocal(\n",
        "        {\n",
        "            (\"in0@te\", \"out0@te\"): 0.95 * transmission,  # 5% lost to cross-polarization\n",
        "            (\"in0@te\", \"out0@tm\"): 0.05 * transmission,  # 5% cross-polarization\n",
        "            (\"in0@tm\", \"out0@tm\"): 0.85 * transmission,  # 10% worse tm->tm than te->te\n",
        "            (\"in0@tm\", \"out0@te\"): 0.05 * transmission,  # 5% cross-polarization\n",
        "        }\n",
        "    )\n",
        "    return sdict\n",
        "\n",
        "\n",
        "waveguide()"
      ]
    },
    {
      "cell_type": "markdown",
      "id": "accessory-sheep",
      "metadata": {
        "papermill": {
          "duration": 0.00899,
          "end_time": "2022-08-17T03:24:10.629626",
          "exception": false,
          "start_time": "2022-08-17T03:24:10.620636",
          "status": "completed"
        },
        "tags": []
      },
      "source": [
        "## Multimode MZI"
      ]
    },
    {
      "cell_type": "markdown",
      "id": "joint-semiconductor",
      "metadata": {
        "papermill": {
          "duration": 0.008431,
          "end_time": "2022-08-17T03:24:10.646494",
          "exception": false,
          "start_time": "2022-08-17T03:24:10.638063",
          "status": "completed"
        },
        "tags": []
      },
      "source": [
        "We can now combine these models into a circuit in much the same way as before. We just need to add the `modes=` keyword:"
      ]
    },
    {
      "cell_type": "code",
      "execution_count": 6,
      "id": "suffering-judges",
      "metadata": {
        "execution": {
          "iopub.execute_input": "2022-08-17T03:24:10.671111Z",
          "iopub.status.busy": "2022-08-17T03:24:10.665514Z",
          "iopub.status.idle": "2022-08-17T03:24:10.673687Z",
          "shell.execute_reply": "2022-08-17T03:24:10.673318Z"
        },
        "papermill": {
          "duration": 0.018863,
          "end_time": "2022-08-17T03:24:10.673791",
          "exception": false,
          "start_time": "2022-08-17T03:24:10.654928",
          "status": "completed"
        },
        "tags": []
      },
      "outputs": [],
      "source": [
        "mzi, _ = sax.circuit(\n",
        "    netlist={\n",
        "        \"instances\": {\n",
        "            \"lft\": \"coupler\",  # single mode models will be automatically converted to multimode models without cross polarization.\n",
        "            \"top\": {\"component\": \"straight\", \"settings\": {\"length\": 25.0}},\n",
        "            \"btm\": {\"component\": \"straight\", \"settings\": {\"length\": 15.0}},\n",
        "            \"rgt\": \"coupler\",  # single mode models will be automatically converted to multimode models without cross polarization.\n",
        "        },\n",
        "        \"connections\": {\n",
        "            \"lft,out0\": \"btm,in0\",\n",
        "            \"btm,out0\": \"rgt,in0\",\n",
        "            \"lft,out1\": \"top,in0\",\n",
        "            \"top,out0\": \"rgt,in1\",\n",
        "        },\n",
        "        \"ports\": {\n",
        "            \"in0\": \"lft,in0\",\n",
        "            \"in1\": \"lft,in1\",\n",
        "            \"out0\": \"rgt,out0\",\n",
        "            \"out1\": \"rgt,out1\",\n",
        "        },\n",
        "    },\n",
        "    models=sax.get_models(),\n",
        "    modes=(\"te\", \"tm\"),\n",
        ")"
      ]
    },
    {
      "cell_type": "code",
      "execution_count": 7,
      "id": "bridal-insider",
      "metadata": {
        "execution": {
          "iopub.execute_input": "2022-08-17T03:24:10.699263Z",
          "iopub.status.busy": "2022-08-17T03:24:10.693029Z",
          "iopub.status.idle": "2022-08-17T03:24:14.247685Z",
          "shell.execute_reply": "2022-08-17T03:24:14.247326Z"
        },
        "papermill": {
          "duration": 3.565335,
          "end_time": "2022-08-17T03:24:14.247786",
          "exception": false,
          "start_time": "2022-08-17T03:24:10.682451",
          "status": "completed"
        },
        "tags": []
      },
      "outputs": [
        {
          "name": "stderr",
          "output_type": "stream",
          "text": [
            "/opt/conda/lib/python3.9/site-packages/jax/_src/numpy/lax_numpy.py:3658: UserWarning: Explicitly requested dtype <class 'complex'> requested in asarray is not available, and will be truncated to dtype complex64. To enable more dtypes, set the jax_enable_x64 configuration option or the JAX_ENABLE_X64 shell environment variable. See https://github.com/google/jax#current-gotchas for more.\n",
            "  lax._check_user_dtype_supported(dtype, \"asarray\")\n"
          ]
        },
        {
          "data": {
            "text/plain": [
              "{('in1@te', 'in1@te'): 0j,\n",
              " ('in1@te', 'in0@tm'): 0j,\n",
              " ('in1@te', 'in0@te'): 0j,\n",
              " ('in1@te', 'in1@tm'): 0j,\n",
              " ('in0@tm', 'in1@te'): 0j,\n",
              " ('in0@tm', 'in0@tm'): 0j,\n",
              " ('in0@tm', 'in0@te'): 0j,\n",
              " ('in0@tm', 'in1@tm'): 0j,\n",
              " ('in0@te', 'in1@te'): 0j,\n",
              " ('in0@te', 'in0@tm'): 0j,\n",
              " ('in0@te', 'in0@te'): 0j,\n",
              " ('in0@te', 'in1@tm'): 0j,\n",
              " ('in1@tm', 'in1@te'): 0j,\n",
              " ('in1@tm', 'in0@tm'): 0j,\n",
              " ('in1@tm', 'in0@te'): 0j,\n",
              " ('in1@tm', 'in1@tm'): 0j,\n",
              " ('out1@te', 'out1@te'): 0j,\n",
              " ('out1@te', 'out1@tm'): 0j,\n",
              " ('out1@te', 'out0@tm'): 0j,\n",
              " ('out1@te', 'out0@te'): 0j,\n",
              " ('out1@te', 'in1@te'): 0.28073-0.10397j,\n",
              " ('out1@te', 'in0@tm'): 0j,\n",
              " ('out1@te', 'in0@te'): 0.89475-0.33137j,\n",
              " ('out1@te', 'in1@tm'): 0j,\n",
              " ('out1@tm', 'out1@te'): 0j,\n",
              " ('out1@tm', 'out1@tm'): 0j,\n",
              " ('out1@tm', 'out0@tm'): 0j,\n",
              " ('out1@tm', 'out0@te'): 0j,\n",
              " ('out1@tm', 'in1@te'): 0j,\n",
              " ('out1@tm', 'in0@tm'): 0.89475-0.33137j,\n",
              " ('out1@tm', 'in0@te'): 0j,\n",
              " ('out1@tm', 'in1@tm'): 0.28073-0.10397j,\n",
              " ('out0@tm', 'out1@te'): 0j,\n",
              " ('out0@tm', 'out1@tm'): 0j,\n",
              " ('out0@tm', 'out0@tm'): 0j,\n",
              " ('out0@tm', 'out0@te'): 0j,\n",
              " ('out0@tm', 'in1@te'): 0j,\n",
              " ('out0@tm', 'in0@tm'): -0.28073+0.10397j,\n",
              " ('out0@tm', 'in0@te'): 0j,\n",
              " ('out0@tm', 'in1@tm'): 0.89475-0.33137j,\n",
              " ('out0@te', 'out1@te'): 0j,\n",
              " ('out0@te', 'out1@tm'): 0j,\n",
              " ('out0@te', 'out0@tm'): 0j,\n",
              " ('out0@te', 'out0@te'): 0j,\n",
              " ('out0@te', 'in1@te'): 0.89475-0.33137j,\n",
              " ('out0@te', 'in0@tm'): 0j,\n",
              " ('out0@te', 'in0@te'): -0.28073+0.10397j,\n",
              " ('out0@te', 'in1@tm'): 0j,\n",
              " ('in1@te', 'out1@te'): 0.28073-0.10397j,\n",
              " ('in1@te', 'out1@tm'): 0j,\n",
              " ('in1@te', 'out0@tm'): 0j,\n",
              " ('in1@te', 'out0@te'): 0.89475-0.33137j,\n",
              " ('in0@tm', 'out1@te'): 0j,\n",
              " ('in0@tm', 'out1@tm'): 0.89475-0.33137j,\n",
              " ('in0@tm', 'out0@tm'): -0.28073+0.10397j,\n",
              " ('in0@tm', 'out0@te'): 0j,\n",
              " ('in0@te', 'out1@te'): 0.89475-0.33137j,\n",
              " ('in0@te', 'out1@tm'): 0j,\n",
              " ('in0@te', 'out0@tm'): 0j,\n",
              " ('in0@te', 'out0@te'): -0.28073+0.10397j,\n",
              " ('in1@tm', 'out1@te'): 0j,\n",
              " ('in1@tm', 'out1@tm'): 0.28073-0.10397j,\n",
              " ('in1@tm', 'out0@tm'): 0.89475-0.33137j,\n",
              " ('in1@tm', 'out0@te'): 0j}"
            ]
          },
          "execution_count": 7,
          "metadata": {},
          "output_type": "execute_result"
        }
      ],
      "source": [
        "mzi()"
      ]
    },
    {
      "cell_type": "markdown",
      "id": "cellular-contemporary",
      "metadata": {
        "papermill": {
          "duration": 0.009447,
          "end_time": "2022-08-17T03:24:14.266595",
          "exception": false,
          "start_time": "2022-08-17T03:24:14.257148",
          "status": "completed"
        },
        "tags": []
      },
      "source": [
        "we can convert this model back to a singlemode `SDict` as follows:"
      ]
    },
    {
      "cell_type": "code",
      "execution_count": 8,
      "id": "aggregate-lemon",
      "metadata": {
        "execution": {
          "iopub.execute_input": "2022-08-17T03:24:14.288718Z",
          "iopub.status.busy": "2022-08-17T03:24:14.288300Z",
          "iopub.status.idle": "2022-08-17T03:24:14.312347Z",
          "shell.execute_reply": "2022-08-17T03:24:14.312002Z"
        },
        "papermill": {
          "duration": 0.036748,
          "end_time": "2022-08-17T03:24:14.312443",
          "exception": false,
          "start_time": "2022-08-17T03:24:14.275695",
          "status": "completed"
        },
        "tags": []
      },
      "outputs": [
        {
          "data": {
            "text/plain": [
              "{('in1', 'in1'): 0j,\n",
              " ('in1', 'in0'): 0j,\n",
              " ('in0', 'in1'): 0j,\n",
              " ('in0', 'in0'): 0j,\n",
              " ('out1', 'out1'): 0j,\n",
              " ('out1', 'out0'): 0j,\n",
              " ('out1', 'in1'): 0.28073-0.10397j,\n",
              " ('out1', 'in0'): 0.89475-0.33137j,\n",
              " ('out0', 'out1'): 0j,\n",
              " ('out0', 'out0'): 0j,\n",
              " ('out0', 'in1'): 0.89475-0.33137j,\n",
              " ('out0', 'in0'): -0.28073+0.10397j,\n",
              " ('in1', 'out1'): 0.28073-0.10397j,\n",
              " ('in1', 'out0'): 0.89475-0.33137j,\n",
              " ('in0', 'out1'): 0.89475-0.33137j,\n",
              " ('in0', 'out0'): -0.28073+0.10397j}"
            ]
          },
          "execution_count": 8,
          "metadata": {},
          "output_type": "execute_result"
        }
      ],
      "source": [
        "mzi_te = sax.singlemode(mzi, mode=\"te\")\n",
        "mzi_te()"
      ]
    }
  ],
  "metadata": {
    "kernelspec": {
      "display_name": "sax",
      "language": "python",
      "name": "sax"
    },
    "language_info": {
      "codemirror_mode": {
        "name": "ipython",
        "version": 3
      },
      "file_extension": ".py",
      "mimetype": "text/x-python",
      "name": "python",
      "nbconvert_exporter": "python",
      "pygments_lexer": "ipython3",
      "version": "3.9.0"
    },
    "papermill": {
      "default_parameters": {},
      "duration": 9.371064,
      "end_time": "2022-08-17T03:24:17.822760",
      "environment_variables": {},
      "exception": null,
      "input_path": "./examples/04_multimode_simulations.ipynb",
      "output_path": "./examples/04_multimode_simulations.ipynb",
      "parameters": {},
      "start_time": "2022-08-17T03:24:08.451696",
      "version": "2.3.4"
    }
  },
  "nbformat": 4,
  "nbformat_minor": 5
}
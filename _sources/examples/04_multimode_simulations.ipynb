{
  "cells": [
    {
      "cell_type": "markdown",
      "id": "textile-panel",
      "metadata": {
        "papermill": {
          "duration": 0.008528,
          "end_time": "2022-08-16T04:26:14.225267",
          "exception": false,
          "start_time": "2022-08-16T04:26:14.216739",
          "status": "completed"
        },
        "tags": []
      },
      "source": [
        "# Multimode simulations\n",
        "> SAX can handle multiple modes too!"
      ]
    },
    {
      "cell_type": "code",
      "execution_count": 1,
      "id": "prescribed-plant",
      "metadata": {
        "execution": {
          "iopub.execute_input": "2022-08-16T04:26:14.248444Z",
          "iopub.status.busy": "2022-08-16T04:26:14.248011Z",
          "iopub.status.idle": "2022-08-16T04:26:15.042795Z",
          "shell.execute_reply": "2022-08-16T04:26:15.042233Z"
        },
        "papermill": {
          "duration": 0.81041,
          "end_time": "2022-08-16T04:26:15.042946",
          "exception": false,
          "start_time": "2022-08-16T04:26:14.232536",
          "status": "completed"
        },
        "tags": []
      },
      "outputs": [],
      "source": [
        "from itertools import combinations_with_replacement, product\n",
        "\n",
        "import jax\n",
        "import jax.numpy as jnp\n",
        "import sax"
      ]
    },
    {
      "cell_type": "markdown",
      "id": "requested-calvin",
      "metadata": {
        "papermill": {
          "duration": 0.007349,
          "end_time": "2022-08-16T04:26:15.058000",
          "exception": false,
          "start_time": "2022-08-16T04:26:15.050651",
          "status": "completed"
        },
        "tags": []
      },
      "source": [
        "## Ports and modes per port"
      ]
    },
    {
      "cell_type": "markdown",
      "id": "grateful-programming",
      "metadata": {
        "papermill": {
          "duration": 0.006864,
          "end_time": "2022-08-16T04:26:15.071797",
          "exception": false,
          "start_time": "2022-08-16T04:26:15.064933",
          "status": "completed"
        },
        "tags": []
      },
      "source": [
        "Let's denote a combination of a port and a mode by a string of the following format: `\"{port}@{mode}\"`. We can obtain all possible port-mode combinations with some magic itertools functions:"
      ]
    },
    {
      "cell_type": "code",
      "execution_count": 2,
      "id": "going-entity",
      "metadata": {
        "execution": {
          "iopub.execute_input": "2022-08-16T04:26:15.095349Z",
          "iopub.status.busy": "2022-08-16T04:26:15.094903Z",
          "iopub.status.idle": "2022-08-16T04:26:15.096887Z",
          "shell.execute_reply": "2022-08-16T04:26:15.097219Z"
        },
        "papermill": {
          "duration": 0.018651,
          "end_time": "2022-08-16T04:26:15.097328",
          "exception": false,
          "start_time": "2022-08-16T04:26:15.078677",
          "status": "completed"
        },
        "tags": []
      },
      "outputs": [
        {
          "data": {
            "text/plain": [
              "[('in0@te', 'in0@te'),\n",
              " ('in0@te', 'in0@tm'),\n",
              " ('in0@te', 'out0@te'),\n",
              " ('in0@te', 'out0@tm'),\n",
              " ('in0@tm', 'in0@tm'),\n",
              " ('in0@tm', 'out0@te'),\n",
              " ('in0@tm', 'out0@tm'),\n",
              " ('out0@te', 'out0@te'),\n",
              " ('out0@te', 'out0@tm'),\n",
              " ('out0@tm', 'out0@tm')]"
            ]
          },
          "execution_count": 2,
          "metadata": {},
          "output_type": "execute_result"
        }
      ],
      "source": [
        "ports = [\"in0\", \"out0\"]\n",
        "modes = [\"te\", \"tm\"]\n",
        "portmodes = [\n",
        "    (f\"{p1}@{m1}\", f\"{p2}@{m2}\")\n",
        "    for (p1, m1), (p2, m2) in combinations_with_replacement(product(ports, modes), 2)\n",
        "]\n",
        "portmodes"
      ]
    },
    {
      "cell_type": "markdown",
      "id": "passive-selling",
      "metadata": {
        "papermill": {
          "duration": 0.007138,
          "end_time": "2022-08-16T04:26:15.111880",
          "exception": false,
          "start_time": "2022-08-16T04:26:15.104742",
          "status": "completed"
        },
        "tags": []
      },
      "source": [
        "If we would disregard any backreflection, this can be further simplified:"
      ]
    },
    {
      "cell_type": "code",
      "execution_count": 3,
      "id": "numerical-novel",
      "metadata": {
        "execution": {
          "iopub.execute_input": "2022-08-16T04:26:15.130819Z",
          "iopub.status.busy": "2022-08-16T04:26:15.130397Z",
          "iopub.status.idle": "2022-08-16T04:26:15.132609Z",
          "shell.execute_reply": "2022-08-16T04:26:15.133003Z"
        },
        "papermill": {
          "duration": 0.014053,
          "end_time": "2022-08-16T04:26:15.133113",
          "exception": false,
          "start_time": "2022-08-16T04:26:15.119060",
          "status": "completed"
        },
        "tags": []
      },
      "outputs": [
        {
          "data": {
            "text/plain": [
              "[('in0@te', 'out0@te'),\n",
              " ('in0@te', 'out0@tm'),\n",
              " ('in0@tm', 'out0@te'),\n",
              " ('in0@tm', 'out0@tm')]"
            ]
          },
          "execution_count": 3,
          "metadata": {},
          "output_type": "execute_result"
        }
      ],
      "source": [
        "portmodes_without_backreflection = [\n",
        "    (p1, p2) for p1, p2 in portmodes if p1.split(\"@\")[0] != p2.split(\"@\")[0]\n",
        "]\n",
        "portmodes_without_backreflection"
      ]
    },
    {
      "cell_type": "markdown",
      "id": "hindu-application",
      "metadata": {
        "papermill": {
          "duration": 0.007459,
          "end_time": "2022-08-16T04:26:15.148001",
          "exception": false,
          "start_time": "2022-08-16T04:26:15.140542",
          "status": "completed"
        },
        "tags": []
      },
      "source": [
        "Sometimes cross-polarization terms can also be ignored:"
      ]
    },
    {
      "cell_type": "code",
      "execution_count": 4,
      "id": "encouraging-territory",
      "metadata": {
        "execution": {
          "iopub.execute_input": "2022-08-16T04:26:15.165156Z",
          "iopub.status.busy": "2022-08-16T04:26:15.164722Z",
          "iopub.status.idle": "2022-08-16T04:26:15.168991Z",
          "shell.execute_reply": "2022-08-16T04:26:15.169356Z"
        },
        "papermill": {
          "duration": 0.013926,
          "end_time": "2022-08-16T04:26:15.169465",
          "exception": false,
          "start_time": "2022-08-16T04:26:15.155539",
          "status": "completed"
        },
        "tags": []
      },
      "outputs": [
        {
          "data": {
            "text/plain": [
              "[('in0@te', 'in0@te'),\n",
              " ('in0@te', 'out0@te'),\n",
              " ('in0@tm', 'in0@tm'),\n",
              " ('in0@tm', 'out0@tm'),\n",
              " ('out0@te', 'out0@te'),\n",
              " ('out0@tm', 'out0@tm')]"
            ]
          },
          "execution_count": 4,
          "metadata": {},
          "output_type": "execute_result"
        }
      ],
      "source": [
        "portmodes_without_crosspolarization = [\n",
        "    (p1, p2) for p1, p2 in portmodes if p1.split(\"@\")[1] == p2.split(\"@\")[1]\n",
        "]\n",
        "portmodes_without_crosspolarization"
      ]
    },
    {
      "cell_type": "markdown",
      "id": "mathematical-default",
      "metadata": {
        "papermill": {
          "duration": 0.007725,
          "end_time": "2022-08-16T04:26:15.185476",
          "exception": false,
          "start_time": "2022-08-16T04:26:15.177751",
          "status": "completed"
        },
        "tags": []
      },
      "source": [
        "## Multimode waveguide"
      ]
    },
    {
      "cell_type": "markdown",
      "id": "asian-noise",
      "metadata": {
        "papermill": {
          "duration": 0.00768,
          "end_time": "2022-08-16T04:26:15.200839",
          "exception": false,
          "start_time": "2022-08-16T04:26:15.193159",
          "status": "completed"
        },
        "tags": []
      },
      "source": [
        "Let's create a waveguide with two ports (`\"in\"`, `\"out\"`) and two modes (`\"te\"`, `\"tm\"`) without backreflection. Let's assume there is 5% cross-polarization and that the `\"tm\"`->`\"tm\"` transmission is 10% worse than the `\"te\"`->`\"te\"` transmission. Naturally in more realisic waveguide models these percentages will be length-dependent, but this is just a dummy model serving as an example."
      ]
    },
    {
      "cell_type": "code",
      "execution_count": 5,
      "id": "patient-wealth",
      "metadata": {
        "execution": {
          "iopub.execute_input": "2022-08-16T04:26:15.222133Z",
          "iopub.status.busy": "2022-08-16T04:26:15.221696Z",
          "iopub.status.idle": "2022-08-16T04:26:15.284424Z",
          "shell.execute_reply": "2022-08-16T04:26:15.284756Z"
        },
        "papermill": {
          "duration": 0.076316,
          "end_time": "2022-08-16T04:26:15.284900",
          "exception": false,
          "start_time": "2022-08-16T04:26:15.208584",
          "status": "completed"
        },
        "tags": []
      },
      "outputs": [
        {
          "name": "stderr",
          "output_type": "stream",
          "text": [
            "WARNING:absl:No GPU/TPU found, falling back to CPU. (Set TF_CPP_MIN_LOG_LEVEL=0 and rerun for more info.)\n"
          ]
        },
        {
          "data": {
            "text/plain": [
              "{('in0@te', 'out0@te'): 0.77973+0.5427j,\n",
              " ('in0@te', 'out0@tm'): 0.04104+0.02856j,\n",
              " ('in0@tm', 'out0@tm'): 0.69765+0.48558j,\n",
              " ('in0@tm', 'out0@te'): 0.04104+0.02856j,\n",
              " ('out0@te', 'in0@te'): 0.77973+0.5427j,\n",
              " ('out0@tm', 'in0@te'): 0.04104+0.02856j,\n",
              " ('out0@tm', 'in0@tm'): 0.69765+0.48558j,\n",
              " ('out0@te', 'in0@tm'): 0.04104+0.02856j}"
            ]
          },
          "execution_count": 5,
          "metadata": {},
          "output_type": "execute_result"
        }
      ],
      "source": [
        "def waveguide(wl=1.55, wl0=1.55, neff=2.34, ng=3.4, length=10.0, loss=0.0):\n",
        "    \"\"\"a simple straight waveguide model\n",
        "\n",
        "    Args:\n",
        "        wl: wavelength\n",
        "        neff: waveguide effective index\n",
        "        ng: waveguide group index (used for linear neff dispersion)\n",
        "        wl0: center wavelength at which neff is defined\n",
        "        length: [m] wavelength length\n",
        "        loss: [dB/m] waveguide loss\n",
        "    \"\"\"\n",
        "    dwl = wl - wl0\n",
        "    dneff_dwl = (ng - neff) / wl0\n",
        "    neff = neff - dwl * dneff_dwl\n",
        "    phase = 2 * jnp.pi * neff * length / wl\n",
        "    transmission = 10 ** (-loss * length / 20) * jnp.exp(1j * phase)\n",
        "    sdict = sax.reciprocal(\n",
        "        {\n",
        "            (\"in0@te\", \"out0@te\"): 0.95 * transmission,  # 5% lost to cross-polarization\n",
        "            (\"in0@te\", \"out0@tm\"): 0.05 * transmission,  # 5% cross-polarization\n",
        "            (\"in0@tm\", \"out0@tm\"): 0.85 * transmission,  # 10% worse tm->tm than te->te\n",
        "            (\"in0@tm\", \"out0@te\"): 0.05 * transmission,  # 5% cross-polarization\n",
        "        }\n",
        "    )\n",
        "    return sdict\n",
        "\n",
        "\n",
        "waveguide()"
      ]
    },
    {
      "cell_type": "markdown",
      "id": "accessory-sheep",
      "metadata": {
        "papermill": {
          "duration": 0.00873,
          "end_time": "2022-08-16T04:26:15.302413",
          "exception": false,
          "start_time": "2022-08-16T04:26:15.293683",
          "status": "completed"
        },
        "tags": []
      },
      "source": [
        "## Multimode MZI"
      ]
    },
    {
      "cell_type": "markdown",
      "id": "joint-semiconductor",
      "metadata": {
        "papermill": {
          "duration": 0.008112,
          "end_time": "2022-08-16T04:26:15.318767",
          "exception": false,
          "start_time": "2022-08-16T04:26:15.310655",
          "status": "completed"
        },
        "tags": []
      },
      "source": [
        "We can now combine these models into a circuit in much the same way as before. We just need to add the `modes=` keyword:"
      ]
    },
    {
      "cell_type": "code",
      "execution_count": 6,
      "id": "suffering-judges",
      "metadata": {
        "execution": {
          "iopub.execute_input": "2022-08-16T04:26:15.343409Z",
          "iopub.status.busy": "2022-08-16T04:26:15.342962Z",
          "iopub.status.idle": "2022-08-16T04:26:15.344802Z",
          "shell.execute_reply": "2022-08-16T04:26:15.345161Z"
        },
        "papermill": {
          "duration": 0.018284,
          "end_time": "2022-08-16T04:26:15.345279",
          "exception": false,
          "start_time": "2022-08-16T04:26:15.326995",
          "status": "completed"
        },
        "tags": []
      },
      "outputs": [],
      "source": [
        "mzi, _ = sax.circuit(\n",
        "    netlist={\n",
        "        \"instances\": {\n",
        "            \"lft\": \"coupler\",  # single mode models will be automatically converted to multimode models without cross polarization.\n",
        "            \"top\": {\"component\": \"straight\", \"settings\": {\"length\": 25.0}},\n",
        "            \"btm\": {\"component\": \"straight\", \"settings\": {\"length\": 15.0}},\n",
        "            \"rgt\": \"coupler\",  # single mode models will be automatically converted to multimode models without cross polarization.\n",
        "        },\n",
        "        \"connections\": {\n",
        "            \"lft,out0\": \"btm,in0\",\n",
        "            \"btm,out0\": \"rgt,in0\",\n",
        "            \"lft,out1\": \"top,in0\",\n",
        "            \"top,out0\": \"rgt,in1\",\n",
        "        },\n",
        "        \"ports\": {\n",
        "            \"in0\": \"lft,in0\",\n",
        "            \"in1\": \"lft,in1\",\n",
        "            \"out0\": \"rgt,out0\",\n",
        "            \"out1\": \"rgt,out1\",\n",
        "        },\n",
        "    },\n",
        "    models=sax.get_models(),\n",
        "    modes=(\"te\", \"tm\"),\n",
        ")"
      ]
    },
    {
      "cell_type": "code",
      "execution_count": 7,
      "id": "bridal-insider",
      "metadata": {
        "execution": {
          "iopub.execute_input": "2022-08-16T04:26:15.364429Z",
          "iopub.status.busy": "2022-08-16T04:26:15.363921Z",
          "iopub.status.idle": "2022-08-16T04:26:18.948410Z",
          "shell.execute_reply": "2022-08-16T04:26:18.948734Z"
        },
        "papermill": {
          "duration": 3.595266,
          "end_time": "2022-08-16T04:26:18.948875",
          "exception": false,
          "start_time": "2022-08-16T04:26:15.353609",
          "status": "completed"
        },
        "tags": []
      },
      "outputs": [
        {
          "name": "stderr",
          "output_type": "stream",
          "text": [
            "/opt/conda/lib/python3.9/site-packages/jax/_src/numpy/lax_numpy.py:3658: UserWarning: Explicitly requested dtype <class 'complex'> requested in asarray is not available, and will be truncated to dtype complex64. To enable more dtypes, set the jax_enable_x64 configuration option or the JAX_ENABLE_X64 shell environment variable. See https://github.com/google/jax#current-gotchas for more.\n",
            "  lax._check_user_dtype_supported(dtype, \"asarray\")\n"
          ]
        },
        {
          "data": {
            "text/plain": [
              "{('in0@tm', 'in0@tm'): 0j,\n",
              " ('in0@tm', 'in0@te'): 0j,\n",
              " ('in0@tm', 'in1@tm'): 0j,\n",
              " ('in0@tm', 'in1@te'): 0j,\n",
              " ('in0@te', 'in0@tm'): 0j,\n",
              " ('in0@te', 'in0@te'): 0j,\n",
              " ('in0@te', 'in1@tm'): 0j,\n",
              " ('in0@te', 'in1@te'): 0j,\n",
              " ('in1@tm', 'in0@tm'): 0j,\n",
              " ('in1@tm', 'in0@te'): 0j,\n",
              " ('in1@tm', 'in1@tm'): 0j,\n",
              " ('in1@tm', 'in1@te'): 0j,\n",
              " ('in1@te', 'in0@tm'): 0j,\n",
              " ('in1@te', 'in0@te'): 0j,\n",
              " ('in1@te', 'in1@tm'): 0j,\n",
              " ('in1@te', 'in1@te'): 0j,\n",
              " ('out0@tm', 'out0@tm'): 0j,\n",
              " ('out0@tm', 'out1@te'): 0j,\n",
              " ('out0@tm', 'out0@te'): 0j,\n",
              " ('out0@tm', 'out1@tm'): 0j,\n",
              " ('out0@tm', 'in0@tm'): -0.28073+0.10397j,\n",
              " ('out0@tm', 'in0@te'): 0j,\n",
              " ('out0@tm', 'in1@tm'): 0.89475-0.33137j,\n",
              " ('out0@tm', 'in1@te'): 0j,\n",
              " ('out1@te', 'out0@tm'): 0j,\n",
              " ('out1@te', 'out1@te'): 0j,\n",
              " ('out1@te', 'out0@te'): 0j,\n",
              " ('out1@te', 'out1@tm'): 0j,\n",
              " ('out1@te', 'in0@tm'): 0j,\n",
              " ('out1@te', 'in0@te'): 0.89475-0.33137j,\n",
              " ('out1@te', 'in1@tm'): 0j,\n",
              " ('out1@te', 'in1@te'): 0.28073-0.10397j,\n",
              " ('out0@te', 'out0@tm'): 0j,\n",
              " ('out0@te', 'out1@te'): 0j,\n",
              " ('out0@te', 'out0@te'): 0j,\n",
              " ('out0@te', 'out1@tm'): 0j,\n",
              " ('out0@te', 'in0@tm'): 0j,\n",
              " ('out0@te', 'in0@te'): -0.28073+0.10397j,\n",
              " ('out0@te', 'in1@tm'): 0j,\n",
              " ('out0@te', 'in1@te'): 0.89475-0.33137j,\n",
              " ('out1@tm', 'out0@tm'): 0j,\n",
              " ('out1@tm', 'out1@te'): 0j,\n",
              " ('out1@tm', 'out0@te'): 0j,\n",
              " ('out1@tm', 'out1@tm'): 0j,\n",
              " ('out1@tm', 'in0@tm'): 0.89475-0.33137j,\n",
              " ('out1@tm', 'in0@te'): 0j,\n",
              " ('out1@tm', 'in1@tm'): 0.28073-0.10397j,\n",
              " ('out1@tm', 'in1@te'): 0j,\n",
              " ('in0@tm', 'out0@tm'): -0.28073+0.10397j,\n",
              " ('in0@tm', 'out1@te'): 0j,\n",
              " ('in0@tm', 'out0@te'): 0j,\n",
              " ('in0@tm', 'out1@tm'): 0.89475-0.33137j,\n",
              " ('in0@te', 'out0@tm'): 0j,\n",
              " ('in0@te', 'out1@te'): 0.89475-0.33137j,\n",
              " ('in0@te', 'out0@te'): -0.28073+0.10397j,\n",
              " ('in0@te', 'out1@tm'): 0j,\n",
              " ('in1@tm', 'out0@tm'): 0.89475-0.33137j,\n",
              " ('in1@tm', 'out1@te'): 0j,\n",
              " ('in1@tm', 'out0@te'): 0j,\n",
              " ('in1@tm', 'out1@tm'): 0.28073-0.10397j,\n",
              " ('in1@te', 'out0@tm'): 0j,\n",
              " ('in1@te', 'out1@te'): 0.28073-0.10397j,\n",
              " ('in1@te', 'out0@te'): 0.89475-0.33137j,\n",
              " ('in1@te', 'out1@tm'): 0j}"
            ]
          },
          "execution_count": 7,
          "metadata": {},
          "output_type": "execute_result"
        }
      ],
      "source": [
        "mzi()"
      ]
    },
    {
      "cell_type": "markdown",
      "id": "cellular-contemporary",
      "metadata": {
        "papermill": {
          "duration": 0.009519,
          "end_time": "2022-08-16T04:26:18.967678",
          "exception": false,
          "start_time": "2022-08-16T04:26:18.958159",
          "status": "completed"
        },
        "tags": []
      },
      "source": [
        "we can convert this model back to a singlemode `SDict` as follows:"
      ]
    },
    {
      "cell_type": "code",
      "execution_count": 8,
      "id": "aggregate-lemon",
      "metadata": {
        "execution": {
          "iopub.execute_input": "2022-08-16T04:26:18.989793Z",
          "iopub.status.busy": "2022-08-16T04:26:18.989365Z",
          "iopub.status.idle": "2022-08-16T04:26:19.013324Z",
          "shell.execute_reply": "2022-08-16T04:26:19.012931Z"
        },
        "papermill": {
          "duration": 0.036728,
          "end_time": "2022-08-16T04:26:19.013433",
          "exception": false,
          "start_time": "2022-08-16T04:26:18.976705",
          "status": "completed"
        },
        "tags": []
      },
      "outputs": [
        {
          "data": {
            "text/plain": [
              "{('in0', 'in0'): 0j,\n",
              " ('in0', 'in1'): 0j,\n",
              " ('in1', 'in0'): 0j,\n",
              " ('in1', 'in1'): 0j,\n",
              " ('out1', 'out1'): 0j,\n",
              " ('out1', 'out0'): 0j,\n",
              " ('out1', 'in0'): 0.89475-0.33137j,\n",
              " ('out1', 'in1'): 0.28073-0.10397j,\n",
              " ('out0', 'out1'): 0j,\n",
              " ('out0', 'out0'): 0j,\n",
              " ('out0', 'in0'): -0.28073+0.10397j,\n",
              " ('out0', 'in1'): 0.89475-0.33137j,\n",
              " ('in0', 'out1'): 0.89475-0.33137j,\n",
              " ('in0', 'out0'): -0.28073+0.10397j,\n",
              " ('in1', 'out1'): 0.28073-0.10397j,\n",
              " ('in1', 'out0'): 0.89475-0.33137j}"
            ]
          },
          "execution_count": 8,
          "metadata": {},
          "output_type": "execute_result"
        }
      ],
      "source": [
        "mzi_te = sax.singlemode(mzi, mode=\"te\")\n",
        "mzi_te()"
      ]
    }
  ],
  "metadata": {
    "kernelspec": {
      "display_name": "sax",
      "language": "python",
      "name": "sax"
    },
    "language_info": {
      "codemirror_mode": {
        "name": "ipython",
        "version": 3
      },
      "file_extension": ".py",
      "mimetype": "text/x-python",
      "name": "python",
      "nbconvert_exporter": "python",
      "pygments_lexer": "ipython3",
      "version": "3.9.0"
    },
    "papermill": {
      "default_parameters": {},
      "duration": 9.37516,
      "end_time": "2022-08-16T04:26:22.456725",
      "environment_variables": {},
      "exception": null,
      "input_path": "./examples/04_multimode_simulations.ipynb",
      "output_path": "./examples/04_multimode_simulations.ipynb",
      "parameters": {},
      "start_time": "2022-08-16T04:26:13.081565",
      "version": "2.3.4"
    }
  },
  "nbformat": 4,
  "nbformat_minor": 5
}
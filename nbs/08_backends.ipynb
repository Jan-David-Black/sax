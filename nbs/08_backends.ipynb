{
 "cells": [
  {
   "cell_type": "code",
   "execution_count": null,
   "id": "04d466c4",
   "metadata": {},
   "outputs": [],
   "source": [
    "# default_exp backends.__init__"
   ]
  },
  {
   "cell_type": "markdown",
   "id": "079604be",
   "metadata": {},
   "source": [
    "# Backend\n",
    "\n",
    "> SAX Backends"
   ]
  },
  {
   "cell_type": "code",
   "execution_count": null,
   "id": "5382439e",
   "metadata": {},
   "outputs": [],
   "source": [
    "# hide\n",
    "import jax.numpy as jnp\n",
    "from nbdev import show_doc\n",
    "from sax.typing_ import SDense, SDict, sdict\n",
    "\n",
    "import os, sys; sys.stderr = open(os.devnull, \"w\")"
   ]
  },
  {
   "cell_type": "code",
   "execution_count": null,
   "id": "5c359d6e",
   "metadata": {},
   "outputs": [],
   "source": [
    "# exporti\n",
    "from __future__ import annotations\n",
    "\n",
    "try:\n",
    "    import jax\n",
    "    JAX_AVAILABLE = True\n",
    "except ImportError:\n",
    "    JAX_AVAILABLE = False\n",
    "    \n",
    "try:\n",
    "    import klujax\n",
    "    KLUJAX_AVAILABLE = True\n",
    "except ImportError:\n",
    "    KLUJAX_AVAILABLE = False\n",
    "\n",
    "from sax.backends.default import analyze_circuit, evaluate_circuit\n",
    "from sax.backends.klu import analyze_circuit_klu, evaluate_circuit_klu\n",
    "from sax.backends.additive import analyze_circuit_additive, evaluate_circuit_additive"
   ]
  },
  {
   "cell_type": "markdown",
   "id": "a39b2084",
   "metadata": {},
   "source": [
    "#### circuit_backends"
   ]
  },
  {
   "cell_type": "code",
   "execution_count": null,
   "id": "dca841f0",
   "metadata": {},
   "outputs": [],
   "source": [
    "# exports\n",
    "\n",
    "circuit_backends = {\n",
    "    \"default\": (analyze_circuit, evaluate_circuit),\n",
    "    \"klu\": (analyze_circuit_klu, evaluate_circuit_klu),\n",
    "    \"additive\": (analyze_circuit_additive, evaluate_circuit_additive),\n",
    "}\n",
    "\n",
    "if (not JAX_AVAILABLE) or (not KLUJAX_AVAILABLE):\n",
    "    del circuit_backends[\"klu\"]"
   ]
  },
  {
   "cell_type": "markdown",
   "id": "b23a8349",
   "metadata": {},
   "source": [
    "SAX allows to easily interchange the backend of a circuit. A SAX backend consists of a static analysis step and an evaluation step:"
   ]
  },
  {
   "cell_type": "code",
   "execution_count": null,
   "id": "f5153759",
   "metadata": {},
   "outputs": [],
   "source": [
    "# hide_input\n",
    "from sax.backends.default import evaluate_circuit\n",
    "show_doc(analyze_circuit, doc_string=False)\n",
    "show_doc(evaluate_circuit, doc_string=False)"
   ]
  },
  {
   "cell_type": "markdown",
   "id": "df66e846",
   "metadata": {},
   "source": [
    "The `analyze_circuit` step should statically analyze the connections and ports and should return an `analyzed` object. This object contains all the static objects that are needed for circuit computation but won't be needed to be recalculated when any parameters of the circuit change.\n",
    "\n",
    "The `evaluate_circuit` step evaluates the circuit for given `SType` instances."
   ]
  },
  {
   "cell_type": "markdown",
   "id": "835a521a",
   "metadata": {},
   "source": [
    "> Example\n",
    "\n",
    "Let's create an MZI `SDict` using the default backend's `evaluate_circuit`:"
   ]
  },
  {
   "cell_type": "code",
   "execution_count": null,
   "id": "b1219c35-7673-4887-9f1a-ce3aa0ff4e4d",
   "metadata": {},
   "outputs": [],
   "source": [
    "wg_sdict: SDict = {\n",
    "    (\"in0\", \"out0\"): 0.5 + 0.86603j,\n",
    "    (\"out0\", \"in0\"): 0.5 + 0.86603j,\n",
    "}\n",
    "\n",
    "τ, κ = 0.5 ** 0.5, 1j * 0.5 ** 0.5\n",
    "dc_sdense: SDense = (\n",
    "    jnp.array([[0, 0, τ, κ], \n",
    "               [0, 0, κ, τ], \n",
    "               [τ, κ, 0, 0], \n",
    "               [κ, τ, 0, 0]]),\n",
    "    {\"in0\": 0, \"in1\": 1, \"out0\": 2, \"out1\": 3},\n",
    ")\n",
    "\n",
    "instances={\n",
    "    \"dc1\": dc_sdense,\n",
    "    \"wg\": wg_sdict,\n",
    "    \"dc2\": dc_sdense,\n",
    "}\n",
    "connections={\n",
    "    \"dc1,out0\": \"wg,in0\",\n",
    "    \"wg,out0\": \"dc2,in0\",\n",
    "    \"dc1,out1\": \"dc2,in1\",\n",
    "}\n",
    "ports={\n",
    "    \"in0\": \"dc1,in0\",\n",
    "    \"in1\": \"dc1,in1\",\n",
    "    \"out0\": \"dc2,out0\",\n",
    "    \"out1\": \"dc2,out1\",\n",
    "}\n",
    "\n",
    "analyzed = analyze_circuit(connections, ports)\n",
    "mzi_sdict = evaluate_circuit(analyzed, instances)\n",
    "display(mzi_sdict)"
   ]
  },
  {
   "cell_type": "code",
   "execution_count": null,
   "id": "69525c7b-acb7-4f05-82ec-c404cf80d02a",
   "metadata": {},
   "outputs": [],
   "source": [
    "analyzed = analyze_circuit_klu(connections, ports)\n",
    "mzi_sdict_klu = sdict(evaluate_circuit_klu(analyzed, instances))\n",
    "display(mzi_sdict_klu)"
   ]
  },
  {
   "cell_type": "code",
   "execution_count": null,
   "id": "f443f1d6-d093-4d9f-9200-1b2148790960",
   "metadata": {},
   "outputs": [],
   "source": [
    "# hide\n",
    "for k in mzi_sdict:\n",
    "    print(k, abs(mzi_sdict[k]-mzi_sdict_klu[k]))"
   ]
  }
 ],
 "metadata": {
  "kernelspec": {
   "display_name": "sax",
   "language": "python",
   "name": "sax"
  }
 },
 "nbformat": 4,
 "nbformat_minor": 5
}

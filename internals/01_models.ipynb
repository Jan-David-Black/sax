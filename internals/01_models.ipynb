{
 "cells": [
  {
   "cell_type": "markdown",
   "id": "986cb864",
   "metadata": {
    "papermill": {
     "duration": 0.04285,
     "end_time": "2024-06-17T18:16:22.537882",
     "exception": false,
     "start_time": "2024-06-17T18:16:22.495032",
     "status": "completed"
    },
    "tags": []
   },
   "source": [
    "# Models and Model Factories\n",
    "\n",
    "> Default SAX Models"
   ]
  },
  {
   "cell_type": "code",
   "execution_count": null,
   "id": "3f208d18-cef7-4668-b532-6487912ecd17",
   "metadata": {
    "papermill": {
     "duration": 1.567648,
     "end_time": "2024-06-17T18:16:24.135297",
     "exception": false,
     "start_time": "2024-06-17T18:16:22.567649",
     "status": "completed"
    },
    "tags": []
   },
   "outputs": [],
   "source": [
    "import sax"
   ]
  },
  {
   "cell_type": "markdown",
   "id": "6905a550-61ed-4557-8cd5-d8a6e6ca5c0f",
   "metadata": {
    "papermill": {
     "duration": 0.006041,
     "end_time": "2024-06-17T18:16:24.147431",
     "exception": false,
     "start_time": "2024-06-17T18:16:24.141390",
     "status": "completed"
    },
    "tags": []
   },
   "source": [
    "## Simple Models"
   ]
  },
  {
   "cell_type": "code",
   "execution_count": null,
   "id": "a99cec57",
   "metadata": {
    "papermill": {
     "duration": 0.119855,
     "end_time": "2024-06-17T18:16:24.272965",
     "exception": false,
     "start_time": "2024-06-17T18:16:24.153110",
     "status": "completed"
    },
    "tags": []
   },
   "outputs": [],
   "source": [
    "sax.models.straight()"
   ]
  },
  {
   "cell_type": "code",
   "execution_count": null,
   "id": "5fd87a22",
   "metadata": {
    "papermill": {
     "duration": 0.018852,
     "end_time": "2024-06-17T18:16:24.300278",
     "exception": false,
     "start_time": "2024-06-17T18:16:24.281426",
     "status": "completed"
    },
    "tags": []
   },
   "outputs": [],
   "source": [
    "sax.models.coupler()"
   ]
  },
  {
   "cell_type": "markdown",
   "id": "ca06c12f",
   "metadata": {
    "papermill": {
     "duration": 0.049498,
     "end_time": "2024-06-17T18:16:24.356067",
     "exception": false,
     "start_time": "2024-06-17T18:16:24.306569",
     "status": "completed"
    },
    "tags": []
   },
   "source": [
    "## Model Factories"
   ]
  },
  {
   "cell_type": "markdown",
   "id": "327febf2-70d5-48ed-8b39-bac2d9727db5",
   "metadata": {
    "papermill": {
     "duration": 0.00617,
     "end_time": "2024-06-17T18:16:24.368721",
     "exception": false,
     "start_time": "2024-06-17T18:16:24.362551",
     "status": "completed"
    },
    "tags": []
   },
   "source": [
    "A unitary model returns an `SCoo` by default:"
   ]
  },
  {
   "cell_type": "code",
   "execution_count": null,
   "id": "e95bacdd",
   "metadata": {
    "papermill": {
     "duration": 1.478745,
     "end_time": "2024-06-17T18:16:25.853753",
     "exception": false,
     "start_time": "2024-06-17T18:16:24.375008",
     "status": "completed"
    },
    "tags": []
   },
   "outputs": [],
   "source": [
    "unitary_model = sax.models.unitary(2, 2)\n",
    "unitary_model()  # a unitary model returns an SCoo by default"
   ]
  },
  {
   "cell_type": "markdown",
   "id": "01ff2567-9b0e-4686-acb4-47cfb11b06ce",
   "metadata": {
    "papermill": {
     "duration": 0.00665,
     "end_time": "2024-06-17T18:16:25.867455",
     "exception": false,
     "start_time": "2024-06-17T18:16:25.860805",
     "status": "completed"
    },
    "tags": []
   },
   "source": [
    "As you probably already know, it's very easy to convert a model returning any `Stype` into a model returning an `SDict` as follows:"
   ]
  },
  {
   "cell_type": "code",
   "execution_count": null,
   "id": "260dda8c-7e44-4f3f-b96c-e742daaf2885",
   "metadata": {
    "papermill": {
     "duration": 0.077684,
     "end_time": "2024-06-17T18:16:25.951490",
     "exception": false,
     "start_time": "2024-06-17T18:16:25.873806",
     "status": "completed"
    },
    "tags": []
   },
   "outputs": [],
   "source": [
    "unitary_sdict_model = sax.sdict(unitary_model)\n",
    "unitary_sdict_model()"
   ]
  },
  {
   "cell_type": "markdown",
   "id": "e9a1a46b-b10a-471b-b835-7b6d8d49175a",
   "metadata": {
    "papermill": {
     "duration": 0.006807,
     "end_time": "2024-06-17T18:16:25.965400",
     "exception": false,
     "start_time": "2024-06-17T18:16:25.958593",
     "status": "completed"
    },
    "tags": []
   },
   "source": [
    "If we need custom port names, we can also just specify them explicitly:"
   ]
  },
  {
   "cell_type": "code",
   "execution_count": null,
   "id": "66abe9b0",
   "metadata": {
    "papermill": {
     "duration": 0.057925,
     "end_time": "2024-06-17T18:16:26.030599",
     "exception": false,
     "start_time": "2024-06-17T18:16:25.972674",
     "status": "completed"
    },
    "tags": []
   },
   "outputs": [],
   "source": [
    "unitary_model = sax.models.unitary(ports=(\"in0\", \"in1\", \"out0\", \"out1\"))\n",
    "unitary_model()"
   ]
  },
  {
   "cell_type": "markdown",
   "id": "ebf14c1c-ccfb-44e6-8572-18b366ffab91",
   "metadata": {
    "papermill": {
     "duration": 0.007926,
     "end_time": "2024-06-17T18:16:26.046661",
     "exception": false,
     "start_time": "2024-06-17T18:16:26.038735",
     "status": "completed"
    },
    "tags": []
   },
   "source": [
    "A unitary model will by default split a signal at an input port equally over all output ports. However, if there are an equal number of input ports as output ports we can in stead create a passthru by setting the `diagonal` flag to `True`:"
   ]
  },
  {
   "cell_type": "code",
   "execution_count": null,
   "id": "7c1d61a3",
   "metadata": {
    "papermill": {
     "duration": 0.604834,
     "end_time": "2024-06-17T18:16:26.659498",
     "exception": false,
     "start_time": "2024-06-17T18:16:26.054664",
     "status": "completed"
    },
    "tags": []
   },
   "outputs": [],
   "source": [
    "passthru_model = sax.models.unitary(2, 2, diagonal=True)\n",
    "sax.sdict(passthru_model())"
   ]
  },
  {
   "cell_type": "code",
   "execution_count": null,
   "id": "7f93b145",
   "metadata": {
    "papermill": {
     "duration": 1.561426,
     "end_time": "2024-06-17T18:16:28.230248",
     "exception": false,
     "start_time": "2024-06-17T18:16:26.668822",
     "status": "completed"
    },
    "tags": []
   },
   "outputs": [],
   "source": [
    "ports_in = [\"in0\"]\n",
    "ports_out = [\"out0\", \"out1\", \"out2\", \"out3\", \"out4\"]\n",
    "model = sax.models.unitary(ports=tuple(ports_in + ports_out), jit=True, reciprocal=True)\n",
    "model = sax.sdict(model)\n",
    "model()"
   ]
  },
  {
   "cell_type": "markdown",
   "id": "8b149d44-5487-4e50-a2f2-1ad0aca99dac",
   "metadata": {
    "papermill": {
     "duration": 0.008123,
     "end_time": "2024-06-17T18:16:28.246800",
     "exception": false,
     "start_time": "2024-06-17T18:16:28.238677",
     "status": "completed"
    },
    "tags": []
   },
   "source": [
    "Because this is a pretty common usecase we have a dedicated model factory for this as well. This passthru component just takes the number of links (`'in{i}' -> 'out{i]'`) as input. Alternatively, as before, one can also specify the port names directly but one needs to ensure that `len(ports) == 2*num_links`."
   ]
  },
  {
   "cell_type": "code",
   "execution_count": null,
   "id": "9e8b6cd7-56d4-4697-9a6e-33c929f3d853",
   "metadata": {
    "papermill": {
     "duration": 1.075509,
     "end_time": "2024-06-17T18:16:29.330593",
     "exception": false,
     "start_time": "2024-06-17T18:16:28.255084",
     "status": "completed"
    },
    "tags": []
   },
   "outputs": [],
   "source": [
    "passthru_model = sax.passthru(3)\n",
    "passthru_sdict_model = sax.sdict(passthru_model)\n",
    "passthru_sdict_model()"
   ]
  },
  {
   "cell_type": "code",
   "execution_count": null,
   "id": "690e718c-2d84-4177-b8ad-ff39cf8c4691",
   "metadata": {
    "papermill": {
     "duration": 2.643796,
     "end_time": "2024-06-17T18:16:31.987120",
     "exception": false,
     "start_time": "2024-06-17T18:16:29.343324",
     "status": "completed"
    },
    "tags": []
   },
   "outputs": [],
   "source": [
    "mzi, _ = sax.circuit(\n",
    "    netlist={\n",
    "        \"instances\": {\n",
    "            \"lft\": \"u12\",\n",
    "            \"top\": \"u11\",\n",
    "            \"rgt\": \"u12\",\n",
    "        },\n",
    "        \"connections\": {\n",
    "            \"lft,out0\": \"rgt,out0\",\n",
    "            \"lft,out1\": \"top,in0\",\n",
    "            \"top,out0\": \"rgt,out1\",\n",
    "        },\n",
    "        \"ports\": {\n",
    "            \"in0\": \"lft,in0\",\n",
    "            \"out0\": \"rgt,in0\",\n",
    "        },\n",
    "    },\n",
    "    models={\n",
    "        \"u12\": sax.models.unitary(1, 2),\n",
    "        \"u11\": sax.models.unitary(1, 1),\n",
    "    },\n",
    ")\n",
    "mzi()"
   ]
  },
  {
   "cell_type": "markdown",
   "id": "77014d0f-1a08-4b4b-a011-cf11cd9684b8",
   "metadata": {
    "papermill": {
     "duration": 0.008756,
     "end_time": "2024-06-17T18:16:32.004701",
     "exception": false,
     "start_time": "2024-06-17T18:16:31.995945",
     "status": "completed"
    },
    "tags": []
   },
   "source": [
    "A copier model is like a unitary model, but copies the input signal over all output signals. Hence, if the model has multiple output ports, this model can be considered to introduce gain. That said, it can sometimes be a useful component."
   ]
  },
  {
   "cell_type": "code",
   "execution_count": null,
   "id": "c2a61a9f-51ea-455f-a66f-94719b43520e",
   "metadata": {
    "papermill": {
     "duration": 0.055226,
     "end_time": "2024-06-17T18:16:32.068418",
     "exception": false,
     "start_time": "2024-06-17T18:16:32.013192",
     "status": "completed"
    },
    "tags": []
   },
   "outputs": [],
   "source": [
    "copier_model = sax.models.copier(2, 2)\n",
    "copier_model()  # a copier model returns an SCoo by default"
   ]
  },
  {
   "cell_type": "markdown",
   "id": "fbd51c6c-c059-4717-9dae-447becc7e8d5",
   "metadata": {
    "papermill": {
     "duration": 0.008366,
     "end_time": "2024-06-17T18:16:32.085538",
     "exception": false,
     "start_time": "2024-06-17T18:16:32.077172",
     "status": "completed"
    },
    "tags": []
   },
   "source": [
    "As you probably already know, it's very easy to convert a model returning any `Stype` into a model returning an `SDict` as follows:"
   ]
  },
  {
   "cell_type": "code",
   "execution_count": null,
   "id": "becda099-b5d9-494c-a6b2-9828be10c4a5",
   "metadata": {
    "papermill": {
     "duration": 0.025521,
     "end_time": "2024-06-17T18:16:32.119387",
     "exception": false,
     "start_time": "2024-06-17T18:16:32.093866",
     "status": "completed"
    },
    "tags": []
   },
   "outputs": [],
   "source": [
    "copier_sdict_model = sax.sdict(copier_model)\n",
    "copier_sdict_model()"
   ]
  },
  {
   "cell_type": "markdown",
   "id": "1ad16d1b-f685-4ab9-a8c4-41efbbdae4fa",
   "metadata": {
    "papermill": {
     "duration": 0.008951,
     "end_time": "2024-06-17T18:16:32.137052",
     "exception": false,
     "start_time": "2024-06-17T18:16:32.128101",
     "status": "completed"
    },
    "tags": []
   },
   "source": [
    "If we need custom port names, we can also just specify them explicitly:"
   ]
  },
  {
   "cell_type": "code",
   "execution_count": null,
   "id": "297d1e45-b881-440b-b887-b38c5517596e",
   "metadata": {
    "papermill": {
     "duration": 0.081423,
     "end_time": "2024-06-17T18:16:32.229980",
     "exception": false,
     "start_time": "2024-06-17T18:16:32.148557",
     "status": "completed"
    },
    "tags": []
   },
   "outputs": [],
   "source": [
    "copier_model = sax.models.copier(ports=(\"in0\", \"in1\", \"out0\", \"out1\"))\n",
    "copier_model()"
   ]
  },
  {
   "cell_type": "code",
   "execution_count": null,
   "id": "608d7114-03ac-4f5f-9790-cf65379d81dd",
   "metadata": {
    "papermill": {
     "duration": 0.060441,
     "end_time": "2024-06-17T18:16:32.309808",
     "exception": false,
     "start_time": "2024-06-17T18:16:32.249367",
     "status": "completed"
    },
    "tags": []
   },
   "outputs": [],
   "source": [
    "ports_in = [\"in0\"]\n",
    "ports_out = [\"out0\", \"out1\", \"out2\", \"out3\", \"out4\"]\n",
    "model = sax.models.unitary(ports=tuple(ports_in + ports_out), jit=True, reciprocal=True)\n",
    "model = sax.sdict(model)\n",
    "model()"
   ]
  },
  {
   "cell_type": "markdown",
   "id": "6d024e5b-95a9-44e5-9dbc-4980249e73a7",
   "metadata": {
    "papermill": {
     "duration": 0.014507,
     "end_time": "2024-06-17T18:16:32.338616",
     "exception": false,
     "start_time": "2024-06-17T18:16:32.324109",
     "status": "completed"
    },
    "tags": []
   },
   "source": [
    "Because this is a pretty common usecase we have a dedicated model factory for this as well. This passthru component just takes the number of links (`'in{i}' -> 'out{i]'`) as input. Alternatively, as before, one can also specify the port names directly but one needs to ensure that `len(ports) == 2*num_links`."
   ]
  },
  {
   "cell_type": "code",
   "execution_count": null,
   "id": "4a063810-224b-446c-a59d-12a20b56e82e",
   "metadata": {
    "papermill": {
     "duration": 0.050541,
     "end_time": "2024-06-17T18:16:32.403756",
     "exception": false,
     "start_time": "2024-06-17T18:16:32.353215",
     "status": "completed"
    },
    "tags": []
   },
   "outputs": [],
   "source": [
    "passthru_model = sax.models.passthru(3)\n",
    "passthru_sdict_model = sax.sdict(passthru_model)\n",
    "passthru_sdict_model()"
   ]
  },
  {
   "cell_type": "markdown",
   "id": "e56f2f41-776f-4b53-98c3-dee702326093",
   "metadata": {
    "papermill": {
     "duration": 0.00977,
     "end_time": "2024-06-17T18:16:32.425481",
     "exception": false,
     "start_time": "2024-06-17T18:16:32.415711",
     "status": "completed"
    },
    "tags": []
   },
   "source": [
    "## All Models"
   ]
  },
  {
   "cell_type": "code",
   "execution_count": null,
   "id": "52ae2f93-6190-4c24-9120-f95f3f61baa8",
   "metadata": {
    "papermill": {
     "duration": 0.026641,
     "end_time": "2024-06-17T18:16:32.462166",
     "exception": false,
     "start_time": "2024-06-17T18:16:32.435525",
     "status": "completed"
    },
    "tags": []
   },
   "outputs": [],
   "source": [
    "sax.models.models"
   ]
  }
 ],
 "metadata": {
  "kernelspec": {
   "display_name": "Python 3 (ipykernel)",
   "language": "python",
   "name": "python3"
  },
  "language_info": {
   "codemirror_mode": {
    "name": "ipython",
    "version": 3
   },
   "file_extension": ".py",
   "mimetype": "text/x-python",
   "name": "python",
   "nbconvert_exporter": "python",
   "pygments_lexer": "ipython3",
   "version": "3.11.9"
  }
 },
 "nbformat": 4,
 "nbformat_minor": 5
}

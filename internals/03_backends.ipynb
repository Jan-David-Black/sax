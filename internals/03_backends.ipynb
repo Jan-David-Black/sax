{
 "cells": [
  {
   "cell_type": "markdown",
   "id": "41e0d311",
   "metadata": {
    "papermill": {
     "duration": 0.107764,
     "end_time": "2024-06-17T18:16:22.589408",
     "exception": false,
     "start_time": "2024-06-17T18:16:22.481644",
     "status": "completed"
    },
    "tags": []
   },
   "source": [
    "# Backends\n",
    "\n",
    "> SAX Backends"
   ]
  },
  {
   "cell_type": "code",
   "execution_count": null,
   "id": "38d7e3b6-83cb-4768-8401-075260456fc9",
   "metadata": {
    "papermill": {
     "duration": 1.497866,
     "end_time": "2024-06-17T18:16:24.131332",
     "exception": false,
     "start_time": "2024-06-17T18:16:22.633466",
     "status": "completed"
    },
    "tags": []
   },
   "outputs": [],
   "source": [
    "import jax\n",
    "import jax.numpy as jnp\n",
    "import klujax\n",
    "import networkx as nx\n",
    "import sax"
   ]
  },
  {
   "cell_type": "markdown",
   "id": "ac34f260-6473-4484-a2ad-dc38e3f37c46",
   "metadata": {
    "papermill": {
     "duration": 0.028168,
     "end_time": "2024-06-17T18:16:24.186826",
     "exception": false,
     "start_time": "2024-06-17T18:16:24.158658",
     "status": "completed"
    },
    "tags": []
   },
   "source": [
    "## Introduction"
   ]
  },
  {
   "cell_type": "markdown",
   "id": "fbb157f0-f28b-47fc-a734-fb7181207487",
   "metadata": {
    "papermill": {
     "duration": 0.025834,
     "end_time": "2024-06-17T18:16:24.240736",
     "exception": false,
     "start_time": "2024-06-17T18:16:24.214902",
     "status": "completed"
    },
    "tags": []
   },
   "source": [
    "SAX allows to easily interchange the backend of a circuit. A SAX backend consists of two static analysis steps and an evaluation step:\n",
    "\n",
    "```{eval-rst}\n",
    ".. autofunction:: sax.backends.analyze_instances\n",
    "```\n",
    "\n",
    "```{eval-rst}\n",
    ".. autofunction:: sax.backends.analyze_circuit\n",
    "```\n",
    "\n",
    "```{eval-rst}\n",
    ".. autofunction:: sax.backends.evaluate_circuit\n",
    "```"
   ]
  },
  {
   "cell_type": "markdown",
   "id": "26efaa95-54e4-4f31-8ea8-0139a470fa74",
   "metadata": {
    "papermill": {
     "duration": 0.026642,
     "end_time": "2024-06-17T18:16:24.293203",
     "exception": false,
     "start_time": "2024-06-17T18:16:24.266561",
     "status": "completed"
    },
    "tags": []
   },
   "source": [
    "The `analyze_instances` step analyzes the 'shape' of the instances by running each model with default parameters. By shape we mean which port-combinations are present in the sparse S-matrix.\n",
    "\n",
    ":::{warning}\n",
    "QUESTION: can we do this more efficiently in a functional way?\n",
    ":::\n",
    "\n",
    "After analyzing the instances, it is assumed that the shape of the instance won't change any more. **It is therefore important that you write your model functions in such a way that the port combinations present in your s-matrix *never* changes!**\n",
    "\n",
    ":::{note}\n",
    "we used to do this analysis step in `analyze_circuit` by just looking at the connections present. However, this inherently assumed dense connectivity within the model. This is pretty inefficient for large sparse models with many ports. Ideally, however, we should be able to analyze the shape of our instances without running their models with default parameters...\n",
    ":::"
   ]
  },
  {
   "cell_type": "markdown",
   "id": "25d158f3-941f-44bb-bcfd-c90344bb3778",
   "metadata": {
    "papermill": {
     "duration": 0.025307,
     "end_time": "2024-06-17T18:16:24.345371",
     "exception": false,
     "start_time": "2024-06-17T18:16:24.320064",
     "status": "completed"
    },
    "tags": []
   },
   "source": [
    "The `analyze_circuit` step should statically analyze the connections and ports and should return an `analyzed` object. This object contains all the static objects that are needed for circuit computation but won't be recalculated when any parameters of the circuit change. See KLU Backend (below) for a non-trivial implementation of the circuit analyzation.\n",
    "\n",
    "The `evaluate_circuit` step evaluates the circuit for given `SType` instances, given whatever analysis object was returned from the `analyze_circuit` step and the instance `SType`s."
   ]
  },
  {
   "cell_type": "markdown",
   "id": "fbeef854-b3a4-4f39-9ffb-238f5d331c03",
   "metadata": {
    "papermill": {
     "duration": 0.025515,
     "end_time": "2024-06-17T18:16:24.398663",
     "exception": false,
     "start_time": "2024-06-17T18:16:24.373148",
     "status": "completed"
    },
    "tags": []
   },
   "source": [
    "## Example"
   ]
  },
  {
   "cell_type": "code",
   "execution_count": null,
   "id": "e52daa7d-e73c-4bb3-8051-ae8836337a6a",
   "metadata": {
    "papermill": {
     "duration": 2.057128,
     "end_time": "2024-06-17T18:16:26.482044",
     "exception": false,
     "start_time": "2024-06-17T18:16:24.424916",
     "status": "completed"
    },
    "tags": []
   },
   "outputs": [],
   "source": [
    "wg_sdict: sax.SDict = {\n",
    "    (\"in0\", \"out0\"): 0.5 + 0.86603j,\n",
    "    (\"out0\", \"in0\"): 0.5 + 0.86603j,\n",
    "}\n",
    "\n",
    "τ, κ = 0.5**0.5, 1j * 0.5**0.5\n",
    "dc_sdense: sax.SDense = (\n",
    "    jnp.array([[0, 0, τ, κ], [0, 0, κ, τ], [τ, κ, 0, 0], [κ, τ, 0, 0]]),\n",
    "    {\"in0\": 0, \"in1\": 1, \"out0\": 2, \"out1\": 3},\n",
    ")\n",
    "\n",
    "instances = {\n",
    "    \"dc1\": {\"component\": \"dc\"},\n",
    "    \"wg\": {\"component\": \"wg\"},\n",
    "    \"dc2\": {\"component\": \"dc\"},\n",
    "}\n",
    "connections = {\n",
    "    \"dc1,out0\": \"wg,in0\",\n",
    "    \"wg,out0\": \"dc2,in0\",\n",
    "    \"dc1,out1\": \"dc2,in1\",\n",
    "}\n",
    "ports = {\n",
    "    \"in0\": \"dc1,in0\",\n",
    "    \"in1\": \"dc1,in1\",\n",
    "    \"out0\": \"dc2,out0\",\n",
    "    \"out1\": \"dc2,out1\",\n",
    "}\n",
    "models = {\n",
    "    \"wg\": lambda: wg_sdict,\n",
    "    \"dc\": lambda: dc_sdense,\n",
    "}\n",
    "\n",
    "analyzed_instances = sax.backends.analyze_instances(instances, models)\n",
    "analyzed_circuit = sax.backends.analyze_circuit(analyzed_instances, connections, ports)\n",
    "mzi_sdict = sax.sdict(\n",
    "    sax.backends.evaluate_circuit(\n",
    "        analyzed_circuit, {k: models[v[\"component\"]]() for k, v in instances.items()}\n",
    "    )\n",
    ")\n",
    "mzi_sdict"
   ]
  },
  {
   "cell_type": "markdown",
   "id": "691fd6a9-fd55-4e83-bb9e-aa93e9a23378",
   "metadata": {
    "papermill": {
     "duration": 0.027988,
     "end_time": "2024-06-17T18:16:26.540124",
     "exception": false,
     "start_time": "2024-06-17T18:16:26.512136",
     "status": "completed"
    },
    "tags": []
   },
   "source": [
    "## Filipsson-Gunnar Backend"
   ]
  },
  {
   "cell_type": "markdown",
   "id": "b5426e1b-2179-4a1c-b796-c96155575f17",
   "metadata": {
    "papermill": {
     "duration": 0.026359,
     "end_time": "2024-06-17T18:16:26.593914",
     "exception": false,
     "start_time": "2024-06-17T18:16:26.567555",
     "status": "completed"
    },
    "tags": []
   },
   "source": [
    ":::{note}\n",
    "Since The KLU Backend (see below) is Superior to the Filipsson-Gunnar backend, SAX will default (since v0.10.0) to the KLU backend if `klujax` is installed.name1\n",
    ":::"
   ]
  },
  {
   "cell_type": "markdown",
   "id": "024f9283-15fa-46b6-80c8-c594f6437da7",
   "metadata": {
    "papermill": {
     "duration": 0.028776,
     "end_time": "2024-06-17T18:16:26.649308",
     "exception": false,
     "start_time": "2024-06-17T18:16:26.620532",
     "status": "completed"
    },
    "tags": []
   },
   "source": [
    "The Filipsson-Gunnar backend is based on the following paper:\n",
    "\n",
    "> Filipsson, Gunnar. \"*A new general computer algorithm for S-matrix calculation of interconnected multiports.*\" 11th European Microwave Conference. IEEE, 1981.\n",
    "\n",
    "```{eval-rst}\n",
    ".. autofunction:: sax.backends.analyze_circuit_fg\n",
    "```\n",
    "\n",
    "```{eval-rst}\n",
    ".. autofunction:: sax.backends.evaluate_circuit_fg\n",
    "```"
   ]
  },
  {
   "cell_type": "markdown",
   "id": "9d4585be-7692-491f-8de6-9802435bec5c",
   "metadata": {
    "papermill": {
     "duration": 0.032033,
     "end_time": "2024-06-17T18:16:26.712489",
     "exception": false,
     "start_time": "2024-06-17T18:16:26.680456",
     "status": "completed"
    },
    "tags": []
   },
   "source": [
    "### Algorithm Walkthrough"
   ]
  },
  {
   "cell_type": "markdown",
   "id": "48950a3d",
   "metadata": {
    "papermill": {
     "duration": 0.0336,
     "end_time": "2024-06-17T18:16:26.779350",
     "exception": false,
     "start_time": "2024-06-17T18:16:26.745750",
     "status": "completed"
    },
    "tags": []
   },
   "source": [
    ":::{note}\n",
    "This algorithm gets pretty slow for large circuits. Since SAX v0.10.0 we will default to the superior KLU backend as the KLU backend is now also jittable.\n",
    ":::"
   ]
  },
  {
   "cell_type": "markdown",
   "id": "81e28766",
   "metadata": {
    "papermill": {
     "duration": 0.029262,
     "end_time": "2024-06-17T18:16:26.838611",
     "exception": false,
     "start_time": "2024-06-17T18:16:26.809349",
     "status": "completed"
    },
    "tags": []
   },
   "source": [
    "Let's walk through all the steps of this algorithm. We'll do this for a simple MZI circuit, given by two directional couplers characterised by `dc_sdense` with a phase shifting waveguide in between `wg_sdict`:"
   ]
  },
  {
   "cell_type": "code",
   "execution_count": null,
   "id": "e2bdfbf4",
   "metadata": {
    "papermill": {
     "duration": 0.042919,
     "end_time": "2024-06-17T18:16:26.909796",
     "exception": false,
     "start_time": "2024-06-17T18:16:26.866877",
     "status": "completed"
    },
    "tags": []
   },
   "outputs": [],
   "source": [
    "instances = {\n",
    "    \"dc1\": dc_sdense,\n",
    "    \"wg\": wg_sdict,\n",
    "    \"dc2\": dc_sdense,\n",
    "}\n",
    "connections = {\n",
    "    \"dc1,out0\": \"wg,in0\",\n",
    "    \"wg,out0\": \"dc2,in0\",\n",
    "    \"dc1,out1\": \"dc2,in1\",\n",
    "}\n",
    "ports = {\n",
    "    \"in0\": \"dc1,in0\",\n",
    "    \"in1\": \"dc1,in1\",\n",
    "    \"out0\": \"dc2,out0\",\n",
    "    \"out1\": \"dc2,out1\",\n",
    "}"
   ]
  },
  {
   "cell_type": "markdown",
   "id": "6ef72161",
   "metadata": {
    "papermill": {
     "duration": 0.026212,
     "end_time": "2024-06-17T18:16:26.963683",
     "exception": false,
     "start_time": "2024-06-17T18:16:26.937471",
     "status": "completed"
    },
    "tags": []
   },
   "source": [
    "as a first step, we construct the `reversed_ports`, it's actually easier to work with `reversed_ports` (we chose the opposite convention in the netlist definition to adhere to the GDSFactory netlist convention):"
   ]
  },
  {
   "cell_type": "code",
   "execution_count": null,
   "id": "70302612",
   "metadata": {
    "papermill": {
     "duration": 0.036133,
     "end_time": "2024-06-17T18:16:27.026955",
     "exception": false,
     "start_time": "2024-06-17T18:16:26.990822",
     "status": "completed"
    },
    "tags": []
   },
   "outputs": [],
   "source": [
    "reversed_ports = {v: k for k, v in ports.items()}"
   ]
  },
  {
   "cell_type": "markdown",
   "id": "78676045",
   "metadata": {
    "papermill": {
     "duration": 0.025455,
     "end_time": "2024-06-17T18:16:27.079256",
     "exception": false,
     "start_time": "2024-06-17T18:16:27.053801",
     "status": "completed"
    },
    "tags": []
   },
   "source": [
    "The first real step of the algorithm is to create the 'block diagonal sdict`:"
   ]
  },
  {
   "cell_type": "code",
   "execution_count": null,
   "id": "0ff6149f",
   "metadata": {
    "papermill": {
     "duration": 0.066023,
     "end_time": "2024-06-17T18:16:27.169377",
     "exception": false,
     "start_time": "2024-06-17T18:16:27.103354",
     "status": "completed"
    },
    "tags": []
   },
   "outputs": [],
   "source": [
    "block_diag = {}\n",
    "for name, S in instances.items():\n",
    "    block_diag.update(\n",
    "        {(f\"{name},{p1}\", f\"{name},{p2}\"): v for (p1, p2), v in sax.sdict(S).items()}\n",
    "    )"
   ]
  },
  {
   "cell_type": "markdown",
   "id": "c4721548",
   "metadata": {
    "papermill": {
     "duration": 0.026419,
     "end_time": "2024-06-17T18:16:27.223904",
     "exception": false,
     "start_time": "2024-06-17T18:16:27.197485",
     "status": "completed"
    },
    "tags": []
   },
   "source": [
    "we can optionally filter out zeros from the resulting block_diag representation. Just note that this will make the resuling function unjittable (the resulting 'shape' (i.e. keys) of the dictionary would depend on the data itself, which is not allowed in JAX jit). We're doing it here to avoid printing zeros but **internally this is not done by default**."
   ]
  },
  {
   "cell_type": "code",
   "execution_count": null,
   "id": "cfce53c1",
   "metadata": {
    "papermill": {
     "duration": 0.128214,
     "end_time": "2024-06-17T18:16:27.379684",
     "exception": false,
     "start_time": "2024-06-17T18:16:27.251470",
     "status": "completed"
    },
    "tags": []
   },
   "outputs": [],
   "source": [
    "block_diag = {k: v for k, v in block_diag.items() if jnp.abs(v) > 1e-10}\n",
    "print(len(block_diag))\n",
    "block_diag"
   ]
  },
  {
   "cell_type": "markdown",
   "id": "1963694a",
   "metadata": {
    "papermill": {
     "duration": 0.028307,
     "end_time": "2024-06-17T18:16:27.437636",
     "exception": false,
     "start_time": "2024-06-17T18:16:27.409329",
     "status": "completed"
    },
    "tags": []
   },
   "source": [
    "next, we sort the connections such that similar components are grouped together:"
   ]
  },
  {
   "cell_type": "code",
   "execution_count": null,
   "id": "9859c2d4",
   "metadata": {
    "papermill": {
     "duration": 0.043276,
     "end_time": "2024-06-17T18:16:27.508861",
     "exception": false,
     "start_time": "2024-06-17T18:16:27.465585",
     "status": "completed"
    },
    "tags": []
   },
   "outputs": [],
   "source": [
    "from sax.backends.filipsson_gunnar import _connections_sort_key\n",
    "\n",
    "sorted_connections = sorted(connections.items(), key=_connections_sort_key)\n",
    "sorted_connections"
   ]
  },
  {
   "cell_type": "markdown",
   "id": "c75fbf65",
   "metadata": {
    "papermill": {
     "duration": 0.028919,
     "end_time": "2024-06-17T18:16:27.567952",
     "exception": false,
     "start_time": "2024-06-17T18:16:27.539033",
     "status": "completed"
    },
    "tags": []
   },
   "source": [
    "Now we iterate over the sorted connections and connect components as they come in. Connected components take over the name of the first component in the connection, but we keep a set of components belonging to that key in `all_connected_instances`.\n",
    "\n",
    "This is how this `all_connected_instances` dictionary looks initially."
   ]
  },
  {
   "cell_type": "code",
   "execution_count": null,
   "id": "cf30668c",
   "metadata": {
    "papermill": {
     "duration": 0.039529,
     "end_time": "2024-06-17T18:16:27.637209",
     "exception": false,
     "start_time": "2024-06-17T18:16:27.597680",
     "status": "completed"
    },
    "tags": []
   },
   "outputs": [],
   "source": [
    "all_connected_instances = {k: {k} for k in instances}\n",
    "all_connected_instances"
   ]
  },
  {
   "cell_type": "markdown",
   "id": "1152056b",
   "metadata": {
    "papermill": {
     "duration": 0.068981,
     "end_time": "2024-06-17T18:16:27.735635",
     "exception": false,
     "start_time": "2024-06-17T18:16:27.666654",
     "status": "completed"
    },
    "tags": []
   },
   "source": [
    "Normally we would loop over every connection in `sorted_connections` now, but let's just go through it once at first:"
   ]
  },
  {
   "cell_type": "code",
   "execution_count": null,
   "id": "faebbe5f",
   "metadata": {
    "papermill": {
     "duration": 0.043537,
     "end_time": "2024-06-17T18:16:27.838973",
     "exception": false,
     "start_time": "2024-06-17T18:16:27.795436",
     "status": "completed"
    },
    "tags": []
   },
   "outputs": [],
   "source": [
    "# for k, l in sorted_connections:\n",
    "k, l = sorted_connections[0]\n",
    "k, l"
   ]
  },
  {
   "cell_type": "markdown",
   "id": "16a2266c",
   "metadata": {
    "papermill": {
     "duration": 0.028444,
     "end_time": "2024-06-17T18:16:27.896660",
     "exception": false,
     "start_time": "2024-06-17T18:16:27.868216",
     "status": "completed"
    },
    "tags": []
   },
   "source": [
    "`k` and `l` are the S-matrix indices we're trying to connect. Note that in our sparse `SDict` notation these S-matrix indices are in fact equivalent with the port names `('dc1,out1', 'dc2,in1')`!"
   ]
  },
  {
   "cell_type": "markdown",
   "id": "0eaf4add",
   "metadata": {
    "papermill": {
     "duration": 0.027916,
     "end_time": "2024-06-17T18:16:27.952797",
     "exception": false,
     "start_time": "2024-06-17T18:16:27.924881",
     "status": "completed"
    },
    "tags": []
   },
   "source": [
    "first we split the connection string into an instance name and a port name (we don't use the port name yet):"
   ]
  },
  {
   "cell_type": "code",
   "execution_count": null,
   "id": "667d1a3c",
   "metadata": {
    "papermill": {
     "duration": 0.054093,
     "end_time": "2024-06-17T18:16:28.032016",
     "exception": false,
     "start_time": "2024-06-17T18:16:27.977923",
     "status": "completed"
    },
    "tags": []
   },
   "outputs": [],
   "source": [
    "name1, _ = k.split(\",\")\n",
    "name2, _ = l.split(\",\")"
   ]
  },
  {
   "cell_type": "markdown",
   "id": "16e8bbe8",
   "metadata": {
    "papermill": {
     "duration": 0.028477,
     "end_time": "2024-06-17T18:16:28.111078",
     "exception": false,
     "start_time": "2024-06-17T18:16:28.082601",
     "status": "completed"
    },
    "tags": []
   },
   "source": [
    "We then obtain the new set of connected instances."
   ]
  },
  {
   "cell_type": "code",
   "execution_count": null,
   "id": "51bf8615",
   "metadata": {
    "papermill": {
     "duration": 0.040193,
     "end_time": "2024-06-17T18:16:28.181657",
     "exception": false,
     "start_time": "2024-06-17T18:16:28.141464",
     "status": "completed"
    },
    "tags": []
   },
   "outputs": [],
   "source": [
    "connected_instances = all_connected_instances[name1] | all_connected_instances[name2]\n",
    "connected_instances"
   ]
  },
  {
   "cell_type": "markdown",
   "id": "676c8d61",
   "metadata": {
    "papermill": {
     "duration": 0.028894,
     "end_time": "2024-06-17T18:16:28.240659",
     "exception": false,
     "start_time": "2024-06-17T18:16:28.211765",
     "status": "completed"
    },
    "tags": []
   },
   "source": [
    "We then iterate over each of the components in this set and make sure each of the component names in that set maps to that set (yes, I know... confusing). We do this to be able to keep track with which components each of the components in the circuit is currently already connected to."
   ]
  },
  {
   "cell_type": "code",
   "execution_count": null,
   "id": "d322e86c",
   "metadata": {
    "papermill": {
     "duration": 0.045835,
     "end_time": "2024-06-17T18:16:28.314720",
     "exception": false,
     "start_time": "2024-06-17T18:16:28.268885",
     "status": "completed"
    },
    "tags": []
   },
   "outputs": [],
   "source": [
    "for name in connected_instances:\n",
    "    all_connected_instances[name] = connected_instances\n",
    "\n",
    "all_connected_instances"
   ]
  },
  {
   "cell_type": "markdown",
   "id": "b79f49f8",
   "metadata": {
    "papermill": {
     "duration": 0.029002,
     "end_time": "2024-06-17T18:16:28.372901",
     "exception": false,
     "start_time": "2024-06-17T18:16:28.343899",
     "status": "completed"
    },
    "tags": []
   },
   "source": [
    "now we need to obtain all the ports of the currently connected instances."
   ]
  },
  {
   "cell_type": "code",
   "execution_count": null,
   "id": "61b3cfab",
   "metadata": {
    "papermill": {
     "duration": 0.051165,
     "end_time": "2024-06-17T18:16:28.453959",
     "exception": false,
     "start_time": "2024-06-17T18:16:28.402794",
     "status": "completed"
    },
    "tags": []
   },
   "outputs": [],
   "source": [
    "current_ports = tuple(\n",
    "    p\n",
    "    for instance in connected_instances\n",
    "    for p in set([p for p, _ in block_diag] + [p for _, p in block_diag])\n",
    "    if p.startswith(f\"{instance},\")\n",
    ")\n",
    "\n",
    "current_ports"
   ]
  },
  {
   "cell_type": "markdown",
   "id": "d0e87449",
   "metadata": {
    "papermill": {
     "duration": 0.033488,
     "end_time": "2024-06-17T18:16:28.523243",
     "exception": false,
     "start_time": "2024-06-17T18:16:28.489755",
     "status": "completed"
    },
    "tags": []
   },
   "source": [
    "Now the Gunnar Algorithm is used. Given a (block-diagonal) 'S-matrix' `block_diag` and a 'connection matrix' `current_ports` we can interconnect port `k` and `l` as follows:\n",
    "\n",
    "> Note: some creative freedom is used here. In SAX, the matrices we're talking about are in fact represented by a sparse dictionary (an `SDict`), i.e. similar to a COO sparse matrix for which the indices are the port names."
   ]
  },
  {
   "cell_type": "markdown",
   "id": "988c08d9",
   "metadata": {
    "papermill": {
     "duration": 0.035312,
     "end_time": "2024-06-17T18:16:28.593867",
     "exception": false,
     "start_time": "2024-06-17T18:16:28.558555",
     "status": "completed"
    },
    "tags": []
   },
   "source": [
    "Just as before, we're filtering the zeros from the sparse representation (remember, internally this is **not done by default**)."
   ]
  },
  {
   "cell_type": "code",
   "execution_count": null,
   "id": "e9ac8164",
   "metadata": {
    "papermill": {
     "duration": 0.06148,
     "end_time": "2024-06-17T18:16:28.691038",
     "exception": false,
     "start_time": "2024-06-17T18:16:28.629558",
     "status": "completed"
    },
    "tags": []
   },
   "outputs": [],
   "source": [
    "block_diag = {k: v for k, v in block_diag.items() if jnp.abs(v) > 1e-10}\n",
    "print(len(block_diag))\n",
    "block_diag"
   ]
  },
  {
   "cell_type": "markdown",
   "id": "db0cd151",
   "metadata": {
    "papermill": {
     "duration": 0.034279,
     "end_time": "2024-06-17T18:16:28.759438",
     "exception": false,
     "start_time": "2024-06-17T18:16:28.725159",
     "status": "completed"
    },
    "tags": []
   },
   "source": [
    "This is the resulting block-diagonal matrix after interconnecting two ports (i.e. basically saying that those two ports are the same port). Because these ports are now connected we should actually remove them from the S-matrix representation (they are integrated into the S-parameters of the other connections):"
   ]
  },
  {
   "cell_type": "code",
   "execution_count": null,
   "id": "311b034f",
   "metadata": {
    "papermill": {
     "duration": 0.059805,
     "end_time": "2024-06-17T18:16:28.855102",
     "exception": false,
     "start_time": "2024-06-17T18:16:28.795297",
     "status": "completed"
    },
    "tags": []
   },
   "outputs": [],
   "source": [
    "for i, j in list(block_diag.keys()):\n",
    "    is_connected = i == k or i == l or j == k or j == l\n",
    "    is_in_output_ports = i in reversed_ports and j in reversed_ports\n",
    "    if is_connected and not is_in_output_ports:\n",
    "        del block_diag[i, j]  # we're no longer interested in these port combinations\n",
    "\n",
    "print(len(block_diag))\n",
    "block_diag"
   ]
  },
  {
   "cell_type": "markdown",
   "id": "b6badcb7",
   "metadata": {
    "papermill": {
     "duration": 0.037337,
     "end_time": "2024-06-17T18:16:28.929864",
     "exception": false,
     "start_time": "2024-06-17T18:16:28.892527",
     "status": "completed"
    },
    "tags": []
   },
   "source": [
    "Note that this deletion of values **does NOT** make this operation un-jittable. The deletion depends on the ports of the dictionary (i.e. on the dictionary 'shape'), not on the values."
   ]
  },
  {
   "cell_type": "markdown",
   "id": "89e775cd",
   "metadata": {
    "papermill": {
     "duration": 0.035715,
     "end_time": "2024-06-17T18:16:29.002829",
     "exception": false,
     "start_time": "2024-06-17T18:16:28.967114",
     "status": "completed"
    },
    "tags": []
   },
   "source": [
    "We now basically have to do those steps again for all other connections:"
   ]
  },
  {
   "cell_type": "code",
   "execution_count": null,
   "id": "25eac933",
   "metadata": {
    "papermill": {
     "duration": 2.06891,
     "end_time": "2024-06-17T18:16:31.105228",
     "exception": false,
     "start_time": "2024-06-17T18:16:29.036318",
     "status": "completed"
    },
    "tags": []
   },
   "outputs": [],
   "source": [
    "from sax.backends.filipsson_gunnar import _interconnect_ports\n",
    "\n",
    "# for k, l in sorted_connections:\n",
    "for k, l in sorted_connections[\n",
    "    1:\n",
    "]:  # we just did the first iteration of this loop above...\n",
    "    name1, _ = k.split(\",\")\n",
    "    name2, _ = l.split(\",\")\n",
    "    connected_instances = (\n",
    "        all_connected_instances[name1] | all_connected_instances[name2]\n",
    "    )\n",
    "    for name in connected_instances:\n",
    "        all_connected_instances[name] = connected_instances\n",
    "    current_ports = tuple(\n",
    "        p\n",
    "        for instance in connected_instances\n",
    "        for p in set([p for p, _ in block_diag] + [p for _, p in block_diag])\n",
    "        if p.startswith(f\"{instance},\")\n",
    "    )\n",
    "    block_diag.update(_interconnect_ports(block_diag, current_ports, k, l))\n",
    "    for i, j in list(block_diag.keys()):\n",
    "        is_connected = i == k or i == l or j == k or j == l\n",
    "        is_in_output_ports = i in reversed_ports and j in reversed_ports\n",
    "        if is_connected and not is_in_output_ports:\n",
    "            del block_diag[\n",
    "                i, j\n",
    "            ]  # we're no longer interested in these port combinations"
   ]
  },
  {
   "cell_type": "markdown",
   "id": "36eb82fc",
   "metadata": {
    "papermill": {
     "duration": 0.030624,
     "end_time": "2024-06-17T18:16:31.167302",
     "exception": false,
     "start_time": "2024-06-17T18:16:31.136678",
     "status": "completed"
    },
    "tags": []
   },
   "source": [
    "This is the final MZI matrix we're getting:"
   ]
  },
  {
   "cell_type": "code",
   "execution_count": null,
   "id": "d1c0367e",
   "metadata": {
    "papermill": {
     "duration": 0.071794,
     "end_time": "2024-06-17T18:16:31.286372",
     "exception": false,
     "start_time": "2024-06-17T18:16:31.214578",
     "status": "completed"
    },
    "tags": []
   },
   "outputs": [],
   "source": [
    "block_diag"
   ]
  },
  {
   "cell_type": "markdown",
   "id": "03f67ec6",
   "metadata": {
    "papermill": {
     "duration": 0.032669,
     "end_time": "2024-06-17T18:16:31.353529",
     "exception": false,
     "start_time": "2024-06-17T18:16:31.320860",
     "status": "completed"
    },
    "tags": []
   },
   "source": [
    "All that's left is to rename these internal ports of the format `{instance},{port}` into output ports of the resulting circuit:"
   ]
  },
  {
   "cell_type": "code",
   "execution_count": null,
   "id": "cf5ea4af",
   "metadata": {
    "papermill": {
     "duration": 0.056653,
     "end_time": "2024-06-17T18:16:31.441614",
     "exception": false,
     "start_time": "2024-06-17T18:16:31.384961",
     "status": "completed"
    },
    "tags": []
   },
   "outputs": [],
   "source": [
    "circuit_sdict: sax.SDict = {\n",
    "    (reversed_ports[i], reversed_ports[j]): v\n",
    "    for (i, j), v in block_diag.items()\n",
    "    if i in reversed_ports and j in reversed_ports\n",
    "}\n",
    "circuit_sdict"
   ]
  },
  {
   "cell_type": "markdown",
   "id": "7dc6505e",
   "metadata": {
    "papermill": {
     "duration": 0.030419,
     "end_time": "2024-06-17T18:16:31.505014",
     "exception": false,
     "start_time": "2024-06-17T18:16:31.474595",
     "status": "completed"
    },
    "tags": []
   },
   "source": [
    "And that's it. We evaluated the `SDict` of the full circuit."
   ]
  },
  {
   "cell_type": "markdown",
   "id": "170db10b",
   "metadata": {
    "papermill": {
     "duration": 0.032158,
     "end_time": "2024-06-17T18:16:31.567610",
     "exception": false,
     "start_time": "2024-06-17T18:16:31.535452",
     "status": "completed"
    },
    "tags": []
   },
   "source": [
    "### Algorithm Improvements"
   ]
  },
  {
   "cell_type": "markdown",
   "id": "4ed0e69a",
   "metadata": {
    "papermill": {
     "duration": 0.036167,
     "end_time": "2024-06-17T18:16:31.635554",
     "exception": false,
     "start_time": "2024-06-17T18:16:31.599387",
     "status": "completed"
    },
    "tags": []
   },
   "source": [
    "The Filipsson-Gunar algorithm is \n",
    "\n",
    "* pretty fast for small circuits 🙂\n",
    "* jittable 🙂\n",
    "* differentiable 🙂\n",
    "* GPU-compatible 🙂\n",
    "\n",
    "This algorithm is however:\n",
    "\n",
    "* **really slow** for large circuits 😥\n",
    "* **pretty slow** to jit the resulting circuit function 😥\n",
    "* **pretty slow** to differentiate the resulting circuit function 😥\n",
    "\n",
    "There are probably still plenty of improvements possible for this algorithm:\n",
    "\n",
    "* **¿** Network analysis (ft. NetworkX ?) to obtain which ports of the block diagonal representation are relevant to obtain the output connection **?**\n",
    "* **¿** Smarter ordering of connections to always have the minimum amount of ports in the intermediate block-diagonal representation **?**\n",
    "* **¿** Using `jax.lax.scan` in stead of python native for-loops in `_interconnect_ports` **?**\n",
    "* **¿** ... **?**\n",
    "\n",
    "Bottom line is... Do you know how to improve this algorithm or how to implement the above suggestions? Please open a Merge Request!"
   ]
  },
  {
   "cell_type": "markdown",
   "id": "8ac28523-e792-4c9a-a23f-252ae91a4a7d",
   "metadata": {
    "papermill": {
     "duration": 0.033017,
     "end_time": "2024-06-17T18:16:31.702982",
     "exception": false,
     "start_time": "2024-06-17T18:16:31.669965",
     "status": "completed"
    },
    "tags": []
   },
   "source": [
    "## KLU Backend\n",
    "\n",
    "The KLU backend is using `klujax`, which uses the [SuiteSparse](https://github.com/DrTimothyAldenDavis/SuiteSparse) C++ libraries for sparse matrix evaluations to evaluate the circuit insanely fast on a CPU. The specific algorith being used in question is the KLU algorithm:\n",
    "\n",
    "> Ekanathan Palamadai Natariajan. \"*KLU - A high performance sparse linear solver for circuit simulation problems.*\"\n",
    "\n",
    "```{eval-rst}\n",
    ".. autofunction:: sax.backends.analyze_circuit_klu\n",
    "```\n",
    "\n",
    "```{eval-rst}\n",
    ".. autofunction:: sax.backends.evaluate_circuit_klu\n",
    "```"
   ]
  },
  {
   "cell_type": "markdown",
   "id": "8804e6fd-3dda-4770-a312-434ddc00446f",
   "metadata": {
    "papermill": {
     "duration": 0.031824,
     "end_time": "2024-06-17T18:16:31.767026",
     "exception": false,
     "start_time": "2024-06-17T18:16:31.735202",
     "status": "completed"
    },
    "tags": []
   },
   "source": [
    "### Theoretical Background"
   ]
  },
  {
   "cell_type": "markdown",
   "id": "b31bb0c6-6ffe-47a7-8458-cf555d5c0579",
   "metadata": {
    "papermill": {
     "duration": 0.032197,
     "end_time": "2024-06-17T18:16:31.831905",
     "exception": false,
     "start_time": "2024-06-17T18:16:31.799708",
     "status": "completed"
    },
    "tags": []
   },
   "source": [
    "The core of the KLU algorithm is supported by `klujax`, which internally uses the Suitesparse libraries to solve the sparse system `Ax = b`, in which A is a sparse matrix."
   ]
  },
  {
   "cell_type": "markdown",
   "id": "68f22fec-2d16-4d94-be9d-a02b1c85efa8",
   "metadata": {
    "papermill": {
     "duration": 0.034197,
     "end_time": "2024-06-17T18:16:31.900294",
     "exception": false,
     "start_time": "2024-06-17T18:16:31.866097",
     "status": "completed"
    },
    "tags": []
   },
   "source": [
    "Now it only comes down to shoehorn our circuit evaluation into a sparse linear system of equations $Ax=b$ where we need to solve for $x$ using `klujax`. \n",
    "Consider the block diagonal matrix $S_{bd}$ of all components in the circuit acting on the fields $x_{in}$ at each of the individual ports of each of the component integrated in $S^{bd}$. The output fields $x^{out}$ at each of those ports is then given by:\n",
    "\n",
    "$$\n",
    "x^{out} = S_{bd} x^{in}\n",
    "$$"
   ]
  },
  {
   "cell_type": "markdown",
   "id": "b023a7b2-8ba4-4d46-98c2-82f2ac4c68d4",
   "metadata": {
    "papermill": {
     "duration": 0.020835,
     "end_time": "2024-06-17T18:16:31.947092",
     "exception": false,
     "start_time": "2024-06-17T18:16:31.926257",
     "status": "completed"
    },
    "tags": []
   },
   "source": [
    "However, $S_{bd}$ is not the S-matrix of the circuit as it does not encode any connectivity *between* the components. Connecting two component ports basically comes down to enforcing equality between the output fields at one port of a component with the input fields at another port of another (or maybe even the same) component. This equality can be enforced by creating an internal connection matrix, connecting all internal ports of the circuit:\n",
    "\n",
    "$$\n",
    "x^{in} = C_{int} x^{out}\n",
    "$$"
   ]
  },
  {
   "cell_type": "markdown",
   "id": "10a61bbc-39ca-4b09-8071-61554fbb49f8",
   "metadata": {
    "papermill": {
     "duration": 0.029811,
     "end_time": "2024-06-17T18:16:32.009449",
     "exception": false,
     "start_time": "2024-06-17T18:16:31.979638",
     "status": "completed"
    },
    "tags": []
   },
   "source": [
    "We can thus write the following combined equation:\n",
    "\n",
    "$$\n",
    "x^{in} = C_{int} S_{bd} x^{in}\n",
    "$$"
   ]
  },
  {
   "cell_type": "markdown",
   "id": "8f99e680-c57a-4baf-8ff2-a35b63ea29af",
   "metadata": {
    "papermill": {
     "duration": 0.020699,
     "end_time": "2024-06-17T18:16:32.047131",
     "exception": false,
     "start_time": "2024-06-17T18:16:32.026432",
     "status": "completed"
    },
    "tags": []
   },
   "source": [
    "But this is not the complete story... Some component ports will *not* be *interconnected* with other ports: they will become the new *external ports* (or output ports) of the combined circuit. We can include those external ports into the above equation as follows:\n",
    "\n",
    "$$\n",
    "\\begin{pmatrix} x^{in} \\\\ x^{out}_{ext} \\end{pmatrix} = \\begin{pmatrix} C_{int} & C_{ext} \\\\ C_{ext}^T & 0 \\end{pmatrix} \\begin{pmatrix} S_{bd} x^{in} \\\\ x_{ext}^{in} \\end{pmatrix} \n",
    "$$"
   ]
  },
  {
   "cell_type": "markdown",
   "id": "a3f77604-0f3a-4371-a4d5-42ce667587c0",
   "metadata": {
    "papermill": {
     "duration": 0.032259,
     "end_time": "2024-06-17T18:16:32.098588",
     "exception": false,
     "start_time": "2024-06-17T18:16:32.066329",
     "status": "completed"
    },
    "tags": []
   },
   "source": [
    "Note that $C_{ext}$ is obviously **not** a square matrix. Eliminating $x^{in}$ from the equation above finally yields:\n",
    "\n",
    "$$\n",
    "x^{out}_{ext} = C^T_{ext} S_{bd} (I - C_{int}S_{bd})^{-1} C_{ext}x_{ext}^{in}\n",
    "$$"
   ]
  },
  {
   "cell_type": "markdown",
   "id": "4cfb5f22-67d3-4c7e-b6c6-994fd4add6a4",
   "metadata": {
    "papermill": {
     "duration": 0.032586,
     "end_time": "2024-06-17T18:16:32.153659",
     "exception": false,
     "start_time": "2024-06-17T18:16:32.121073",
     "status": "completed"
    },
    "tags": []
   },
   "source": [
    "We basically found a representation of the circuit S-matrix:\n",
    "\n",
    "$$\n",
    "S = C^T_{ext} S_{bd} (I - C_{int}S_{bd})^{-1} C_{ext}\n",
    "$$"
   ]
  },
  {
   "cell_type": "markdown",
   "id": "cdd9c503-f057-4b99-a6f6-61a8f71bc71d",
   "metadata": {
    "papermill": {
     "duration": 0.038062,
     "end_time": "2024-06-17T18:16:32.221007",
     "exception": false,
     "start_time": "2024-06-17T18:16:32.182945",
     "status": "completed"
    },
    "tags": []
   },
   "source": [
    "Obviously, we won't want to calculate the inverse $(I - C_{int}S_{bd})^{-1}$, which is the inverse of a very sparse matrix (a connection matrix only has a single 1 per line), which very often is not even sparse itself. In stead we'll use the `solve_klu` function:\n",
    "\n",
    "$$\n",
    "S = C^T_{ext} S_{bd} \\texttt{solve}\\_\\texttt{klu}\\left((I - C_{int}S_{bd}), C_{ext}\\right)\n",
    "$$"
   ]
  },
  {
   "cell_type": "markdown",
   "id": "45811209-f2bd-4bd4-a531-2956e6bd3293",
   "metadata": {
    "papermill": {
     "duration": 0.04331,
     "end_time": "2024-06-17T18:16:32.318604",
     "exception": false,
     "start_time": "2024-06-17T18:16:32.275294",
     "status": "completed"
    },
    "tags": []
   },
   "source": [
    "Moreover, $C_{ext}^TS_{bd}$ is also a sparse matrix, therefore we'll also need a `mul_coo` routine:\n",
    "\n",
    "$$\n",
    "S = C^T_{ext} \\texttt{mul}\\_\\texttt{coo}\\left(S_{bd},~~\\texttt{solve}\\_\\texttt{klu}\\left((I - C_{int}S_{bd}),~C_{ext}\\right)\\right)\n",
    "$$"
   ]
  },
  {
   "cell_type": "markdown",
   "id": "03256ad3-4d45-4113-9d38-f08d36593b21",
   "metadata": {
    "papermill": {
     "duration": 0.031594,
     "end_time": "2024-06-17T18:16:32.383594",
     "exception": false,
     "start_time": "2024-06-17T18:16:32.352000",
     "status": "completed"
    },
    "tags": []
   },
   "source": [
    "### Sparse Helper Functions\n",
    "\n",
    "```{eval-rst}\n",
    ".. autofunction:: klujax.solve\n",
    "```\n",
    "\n",
    "```{eval-rst}\n",
    ".. autofunction:: klujax.coo_mul_vec\n",
    "```"
   ]
  },
  {
   "cell_type": "markdown",
   "id": "3e54a061-8846-4a23-8431-18cfe0d2bc9d",
   "metadata": {
    "papermill": {
     "duration": 0.030939,
     "end_time": "2024-06-17T18:16:32.444946",
     "exception": false,
     "start_time": "2024-06-17T18:16:32.414007",
     "status": "completed"
    },
    "tags": []
   },
   "source": [
    "`klujax.solve` solves the sparse system of equations `Ax=b` for `x`. Where `A` is represented by in [COO-format](https://en.wikipedia.org/wiki/Sparse_matrix#Coordinate_list_(COO)) as (`Ai`, `Aj`, `Ax`).\n",
    "\n",
    "> Example"
   ]
  },
  {
   "cell_type": "code",
   "execution_count": null,
   "id": "63e7977a",
   "metadata": {
    "papermill": {
     "duration": 0.172579,
     "end_time": "2024-06-17T18:16:32.663740",
     "exception": false,
     "start_time": "2024-06-17T18:16:32.491161",
     "status": "completed"
    },
    "tags": []
   },
   "outputs": [],
   "source": [
    "Ai = jnp.array([0, 1, 2, 3, 4])\n",
    "Aj = jnp.array([1, 3, 4, 0, 2])\n",
    "Ax = jnp.array([5, 6, 1, 1, 2])\n",
    "b = jnp.array([5, 3, 2, 6, 1])\n",
    "x = klujax.solve(Ai, Aj, Ax, b)\n",
    "x"
   ]
  },
  {
   "cell_type": "markdown",
   "id": "d54bfd5f-0799-493f-8677-d086b5b05b56",
   "metadata": {
    "papermill": {
     "duration": 0.085288,
     "end_time": "2024-06-17T18:16:32.807765",
     "exception": false,
     "start_time": "2024-06-17T18:16:32.722477",
     "status": "completed"
    },
    "tags": []
   },
   "source": [
    "This result is indeed correct:"
   ]
  },
  {
   "cell_type": "code",
   "execution_count": null,
   "id": "629bbc71",
   "metadata": {
    "papermill": {
     "duration": 0.513163,
     "end_time": "2024-06-17T18:16:33.375140",
     "exception": false,
     "start_time": "2024-06-17T18:16:32.861977",
     "status": "completed"
    },
    "tags": []
   },
   "outputs": [],
   "source": [
    "A = jnp.zeros((5, 5)).at[Ai, Aj].set(Ax)\n",
    "print(A)\n",
    "print(A @ x)"
   ]
  },
  {
   "cell_type": "markdown",
   "id": "9c6d0b95-1224-4c7f-8855-99b84f2d6163",
   "metadata": {
    "papermill": {
     "duration": 0.032068,
     "end_time": "2024-06-17T18:16:33.438446",
     "exception": false,
     "start_time": "2024-06-17T18:16:33.406378",
     "status": "completed"
    },
    "tags": []
   },
   "source": [
    "However, to use this function effectively, we probably need an extra dimension for `Ax`. Indeed, we would like to solve this equation for multiple wavelengths (or more general, for multiple circuit configurations) at once. For this we can use `jax.vmap` to expose `klujax.solve` to more dimensions for `Ax`:"
   ]
  },
  {
   "cell_type": "code",
   "execution_count": null,
   "id": "6f9686a0",
   "metadata": {
    "papermill": {
     "duration": 0.041534,
     "end_time": "2024-06-17T18:16:33.511658",
     "exception": false,
     "start_time": "2024-06-17T18:16:33.470124",
     "status": "completed"
    },
    "tags": []
   },
   "outputs": [],
   "source": [
    "# exports\n",
    "solve_klu = jax.vmap(klujax.solve, (None, None, 0, None), 0)"
   ]
  },
  {
   "cell_type": "markdown",
   "id": "c6f7b28c-cd7b-4136-b450-097225f2c3ba",
   "metadata": {
    "papermill": {
     "duration": 0.032975,
     "end_time": "2024-06-17T18:16:33.582975",
     "exception": false,
     "start_time": "2024-06-17T18:16:33.550000",
     "status": "completed"
    },
    "tags": []
   },
   "source": [
    "Let's now redefine `Ax` and see what it gives:"
   ]
  },
  {
   "cell_type": "code",
   "execution_count": null,
   "id": "d4d7b6f9",
   "metadata": {
    "papermill": {
     "duration": 0.118508,
     "end_time": "2024-06-17T18:16:33.733788",
     "exception": false,
     "start_time": "2024-06-17T18:16:33.615280",
     "status": "completed"
    },
    "tags": []
   },
   "outputs": [],
   "source": [
    "Ai = jnp.array([0, 1, 2, 3, 4])\n",
    "Aj = jnp.array([1, 3, 4, 0, 2])\n",
    "Ax = jnp.array([[5, 6, 1, 1, 2], [5, 4, 3, 2, 1], [1, 2, 3, 4, 5]])\n",
    "b = jnp.array([5, 3, 2, 6, 1])\n",
    "x = solve_klu(Ai, Aj, Ax, b)\n",
    "x"
   ]
  },
  {
   "cell_type": "markdown",
   "id": "2bc1db8c-335b-43f0-b515-04c948f66745",
   "metadata": {
    "papermill": {
     "duration": 0.039789,
     "end_time": "2024-06-17T18:16:33.812091",
     "exception": false,
     "start_time": "2024-06-17T18:16:33.772302",
     "status": "completed"
    },
    "tags": []
   },
   "source": [
    "This result is indeed correct:"
   ]
  },
  {
   "cell_type": "code",
   "execution_count": null,
   "id": "0afefaa6",
   "metadata": {
    "papermill": {
     "duration": 0.201775,
     "end_time": "2024-06-17T18:16:34.047646",
     "exception": false,
     "start_time": "2024-06-17T18:16:33.845871",
     "status": "completed"
    },
    "tags": []
   },
   "outputs": [],
   "source": [
    "A = jnp.zeros((3, 5, 5)).at[:, Ai, Aj].set(Ax)\n",
    "jnp.einsum(\"ijk,ik->ij\", A, x)"
   ]
  },
  {
   "cell_type": "markdown",
   "id": "788f79e7-4f88-4e78-ac51-a91e8ebdfd4f",
   "metadata": {
    "papermill": {
     "duration": 0.037746,
     "end_time": "2024-06-17T18:16:34.120120",
     "exception": false,
     "start_time": "2024-06-17T18:16:34.082374",
     "status": "completed"
    },
    "tags": []
   },
   "source": [
    "Additionally, we need a way to multiply a sparse COO-matrix with a dense vector. This can be done with `klujax.coo_mul_vec`:"
   ]
  },
  {
   "cell_type": "markdown",
   "id": "2b096666-e29e-40a1-a86d-e151e89c7599",
   "metadata": {
    "papermill": {
     "duration": 0.039027,
     "end_time": "2024-06-17T18:16:34.194473",
     "exception": false,
     "start_time": "2024-06-17T18:16:34.155446",
     "status": "completed"
    },
    "tags": []
   },
   "source": [
    "However, it's useful to allow a batch dimension, this time *both* in `Ax` and in `b`:"
   ]
  },
  {
   "cell_type": "code",
   "execution_count": null,
   "id": "f2f56966",
   "metadata": {
    "papermill": {
     "duration": 0.043254,
     "end_time": "2024-06-17T18:16:34.275061",
     "exception": false,
     "start_time": "2024-06-17T18:16:34.231807",
     "status": "completed"
    },
    "tags": []
   },
   "outputs": [],
   "source": [
    "# exports\n",
    "mul_coo = None\n",
    "mul_coo = jax.vmap(klujax.coo_mul_vec, (None, None, 0, 0), 0)"
   ]
  },
  {
   "cell_type": "markdown",
   "id": "5df6d174-6ada-4118-bbf7-7fd5d2ec35c9",
   "metadata": {
    "papermill": {
     "duration": 0.031646,
     "end_time": "2024-06-17T18:16:34.337813",
     "exception": false,
     "start_time": "2024-06-17T18:16:34.306167",
     "status": "completed"
    },
    "tags": []
   },
   "source": [
    "Let's confirm this does the right thing:"
   ]
  },
  {
   "cell_type": "code",
   "execution_count": null,
   "id": "bd868973",
   "metadata": {
    "papermill": {
     "duration": 0.092951,
     "end_time": "2024-06-17T18:16:34.463054",
     "exception": false,
     "start_time": "2024-06-17T18:16:34.370103",
     "status": "completed"
    },
    "tags": []
   },
   "outputs": [],
   "source": [
    "result = mul_coo(Ai, Aj, Ax, x)\n",
    "result"
   ]
  },
  {
   "cell_type": "markdown",
   "id": "e2c47d85-38fc-4132-9d8d-593c25307ebe",
   "metadata": {
    "papermill": {
     "duration": 0.051348,
     "end_time": "2024-06-17T18:16:34.570965",
     "exception": false,
     "start_time": "2024-06-17T18:16:34.519617",
     "status": "completed"
    },
    "tags": []
   },
   "source": [
    "### Example"
   ]
  },
  {
   "cell_type": "code",
   "execution_count": null,
   "id": "665c856d",
   "metadata": {
    "papermill": {
     "duration": 0.080985,
     "end_time": "2024-06-17T18:16:34.696406",
     "exception": false,
     "start_time": "2024-06-17T18:16:34.615421",
     "status": "completed"
    },
    "tags": []
   },
   "outputs": [],
   "source": [
    "wg_sdict: sax.SDict = {\n",
    "    (\"in0\", \"out0\"): 0.5 + 0.86603j,\n",
    "    (\"out0\", \"in0\"): 0.5 + 0.86603j,\n",
    "}\n",
    "\n",
    "τ, κ = 0.5**0.5, 1j * 0.5**0.5\n",
    "dc_sdense: sax.SDense = (\n",
    "    jnp.array([[0, 0, τ, κ], [0, 0, κ, τ], [τ, κ, 0, 0], [κ, τ, 0, 0]]),\n",
    "    {\"out0\": 0, \"out1\": 1, \"in0\": 2, \"in1\": 3},\n",
    ")\n",
    "\n",
    "instances = {\n",
    "    \"dc1\": {\"component\": \"dc\"},\n",
    "    \"wg\": {\"component\": \"wg\"},\n",
    "    \"dc2\": {\"component\": \"dc\"},\n",
    "}\n",
    "connections = {\n",
    "    \"dc1,out0\": \"wg,in0\",\n",
    "    \"wg,out0\": \"dc2,in0\",\n",
    "    \"dc1,out1\": \"dc2,in1\",\n",
    "}\n",
    "ports = {\n",
    "    \"in0\": \"dc1,in0\",\n",
    "    \"in1\": \"dc1,in1\",\n",
    "    \"out0\": \"dc2,out0\",\n",
    "    \"out1\": \"dc2,out1\",\n",
    "}\n",
    "models = {\n",
    "    \"wg\": lambda: wg_sdict,\n",
    "    \"dc\": lambda: dc_sdense,\n",
    "}\n",
    "\n",
    "\n",
    "analyzed_instances = sax.backends.analyze_instances_klu(instances, models)\n",
    "analyzed_circuit = sax.backends.analyze_circuit_klu(\n",
    "    analyzed_instances, connections, ports\n",
    ")\n",
    "S, pm = sax.backends.evaluate_circuit_klu(\n",
    "    analyzed_circuit, {k: models[v[\"component\"]]() for k, v in instances.items()}\n",
    ")\n",
    "\n",
    "print(S)\n",
    "print(pm)"
   ]
  },
  {
   "cell_type": "markdown",
   "id": "2561e780-23a1-46ae-8c7b-17ccb1c80f2b",
   "metadata": {
    "papermill": {
     "duration": 0.032866,
     "end_time": "2024-06-17T18:16:34.762245",
     "exception": false,
     "start_time": "2024-06-17T18:16:34.729379",
     "status": "completed"
    },
    "tags": []
   },
   "source": [
    "the KLU backend yields `SDense` results by default:"
   ]
  },
  {
   "cell_type": "code",
   "execution_count": null,
   "id": "ecc3115e",
   "metadata": {
    "papermill": {
     "duration": 0.049802,
     "end_time": "2024-06-17T18:16:34.845372",
     "exception": false,
     "start_time": "2024-06-17T18:16:34.795570",
     "status": "completed"
    },
    "tags": []
   },
   "outputs": [],
   "source": [
    "mzi_sdense = (S, pm)\n",
    "mzi_sdense"
   ]
  },
  {
   "cell_type": "markdown",
   "id": "ccf222e3-b0a9-4732-8c5b-f449ab0217ba",
   "metadata": {
    "papermill": {
     "duration": 0.039711,
     "end_time": "2024-06-17T18:16:34.920117",
     "exception": false,
     "start_time": "2024-06-17T18:16:34.880406",
     "status": "completed"
    },
    "tags": []
   },
   "source": [
    "An `SDense` is returned for perfomance reasons. By returning an `SDense` by default we prevent any internal `SDict -> SDense` conversions in deeply hierarchical circuits. It's however very easy to convert `SDense` to `SDict` as a final step. To do this, wrap the result (or the function generating the result) with `sdict`:"
   ]
  },
  {
   "cell_type": "code",
   "execution_count": null,
   "id": "7202ab1e",
   "metadata": {
    "papermill": {
     "duration": 0.083111,
     "end_time": "2024-06-17T18:16:35.094114",
     "exception": false,
     "start_time": "2024-06-17T18:16:35.011003",
     "status": "completed"
    },
    "tags": []
   },
   "outputs": [],
   "source": [
    "sax.sdict(mzi_sdense)"
   ]
  },
  {
   "cell_type": "markdown",
   "id": "e84bdb3f-c9cc-46fb-9fad-09924bbce67b",
   "metadata": {
    "papermill": {
     "duration": 0.0338,
     "end_time": "2024-06-17T18:16:35.161797",
     "exception": false,
     "start_time": "2024-06-17T18:16:35.127997",
     "status": "completed"
    },
    "tags": []
   },
   "source": [
    "### Algorithm Walkthrough"
   ]
  },
  {
   "cell_type": "markdown",
   "id": "d79a8927-1d29-416a-84a6-1963b40cbd41",
   "metadata": {
    "papermill": {
     "duration": 0.033064,
     "end_time": "2024-06-17T18:16:35.228761",
     "exception": false,
     "start_time": "2024-06-17T18:16:35.195697",
     "status": "completed"
    },
    "tags": []
   },
   "source": [
    "Let's first enforce $C^T = C$:"
   ]
  },
  {
   "cell_type": "code",
   "execution_count": null,
   "id": "6d7d4c39",
   "metadata": {
    "papermill": {
     "duration": 0.048258,
     "end_time": "2024-06-17T18:16:35.310692",
     "exception": false,
     "start_time": "2024-06-17T18:16:35.262434",
     "status": "completed"
    },
    "tags": []
   },
   "outputs": [],
   "source": [
    "connections = {**connections, **{v: k for k, v in connections.items()}}\n",
    "connections"
   ]
  },
  {
   "cell_type": "markdown",
   "id": "e7b667e3-a932-4689-b7cf-39c9609377b2",
   "metadata": {
    "papermill": {
     "duration": 0.035477,
     "end_time": "2024-06-17T18:16:35.380954",
     "exception": false,
     "start_time": "2024-06-17T18:16:35.345477",
     "status": "completed"
    },
    "tags": []
   },
   "source": [
    "We'll also need the reversed ports:"
   ]
  },
  {
   "cell_type": "code",
   "execution_count": null,
   "id": "9a70463f",
   "metadata": {
    "papermill": {
     "duration": 0.047917,
     "end_time": "2024-06-17T18:16:35.462828",
     "exception": false,
     "start_time": "2024-06-17T18:16:35.414911",
     "status": "completed"
    },
    "tags": []
   },
   "outputs": [],
   "source": [
    "inverse_ports = {v: k for k, v in ports.items()}\n",
    "inverse_ports"
   ]
  },
  {
   "cell_type": "markdown",
   "id": "12b5afd1-85e3-4633-af9a-1ed4c7214c1b",
   "metadata": {
    "papermill": {
     "duration": 0.034098,
     "end_time": "2024-06-17T18:16:35.534172",
     "exception": false,
     "start_time": "2024-06-17T18:16:35.500074",
     "status": "completed"
    },
    "tags": []
   },
   "source": [
    "An the port indices"
   ]
  },
  {
   "cell_type": "code",
   "execution_count": null,
   "id": "8e18d182",
   "metadata": {
    "papermill": {
     "duration": 0.049417,
     "end_time": "2024-06-17T18:16:35.622271",
     "exception": false,
     "start_time": "2024-06-17T18:16:35.572854",
     "status": "completed"
    },
    "tags": []
   },
   "outputs": [],
   "source": [
    "port_map = {k: i for i, k in enumerate(ports)}\n",
    "port_map"
   ]
  },
  {
   "cell_type": "markdown",
   "id": "5b2f18ae-af08-4482-8b0f-a72c1fee13d5",
   "metadata": {
    "papermill": {
     "duration": 0.035153,
     "end_time": "2024-06-17T18:16:35.695073",
     "exception": false,
     "start_time": "2024-06-17T18:16:35.659920",
     "status": "completed"
    },
    "tags": []
   },
   "source": [
    "Let's now create the COO-representation of our block diagonal S-matrix $S_{bd}$:"
   ]
  },
  {
   "cell_type": "code",
   "execution_count": null,
   "id": "835deb8f",
   "metadata": {
    "papermill": {
     "duration": 0.064504,
     "end_time": "2024-06-17T18:16:35.795305",
     "exception": false,
     "start_time": "2024-06-17T18:16:35.730801",
     "status": "completed"
    },
    "tags": []
   },
   "outputs": [],
   "source": [
    "idx, Si, Sj, Sx, instance_ports = 0, [], [], [], {}\n",
    "batch_shape = ()\n",
    "for name, instance in instances.items():\n",
    "    s = models[instance[\"component\"]]()\n",
    "    si, sj, sx, ports_map = sax.scoo(s)\n",
    "    Si.append(si + idx)\n",
    "    Sj.append(sj + idx)\n",
    "    Sx.append(sx)\n",
    "    if len(sx.shape[:-1]) > len(batch_shape):\n",
    "        batch_shape = sx.shape[:-1]\n",
    "    instance_ports.update({f\"{name},{p}\": i + idx for p, i in ports_map.items()})\n",
    "    idx += len(ports_map)\n",
    "Si = jnp.concatenate(Si, -1)\n",
    "Sj = jnp.concatenate(Sj, -1)\n",
    "Sx = jnp.concatenate(\n",
    "    [jnp.broadcast_to(sx, (*batch_shape, sx.shape[-1])) for sx in Sx], -1\n",
    ")\n",
    "\n",
    "print(Si)\n",
    "print(Sj)\n",
    "print(Sx)"
   ]
  },
  {
   "cell_type": "markdown",
   "id": "9b98486a-f99a-4284-89ee-302049fb6e0d",
   "metadata": {
    "papermill": {
     "duration": 0.036825,
     "end_time": "2024-06-17T18:16:35.867362",
     "exception": false,
     "start_time": "2024-06-17T18:16:35.830537",
     "status": "completed"
    },
    "tags": []
   },
   "source": [
    "note that we also kept track of the `batch_shape`, i.e. the number of independent simulations (usually number of wavelengths). In the example being used here we don't have a batch dimension (all elements of the `SDict` are `0D`):"
   ]
  },
  {
   "cell_type": "code",
   "execution_count": null,
   "id": "7513759a",
   "metadata": {
    "papermill": {
     "duration": 0.050463,
     "end_time": "2024-06-17T18:16:35.955935",
     "exception": false,
     "start_time": "2024-06-17T18:16:35.905472",
     "status": "completed"
    },
    "tags": []
   },
   "outputs": [],
   "source": [
    "batch_shape"
   ]
  },
  {
   "cell_type": "markdown",
   "id": "183f6113-0f54-47f9-87c4-c3ec2ec3ec85",
   "metadata": {
    "papermill": {
     "duration": 0.039019,
     "end_time": "2024-06-17T18:16:36.033432",
     "exception": false,
     "start_time": "2024-06-17T18:16:35.994413",
     "status": "completed"
    },
    "tags": []
   },
   "source": [
    "We'll also keep track of the number of columns"
   ]
  },
  {
   "cell_type": "code",
   "execution_count": null,
   "id": "89000432",
   "metadata": {
    "papermill": {
     "duration": 0.104538,
     "end_time": "2024-06-17T18:16:36.176025",
     "exception": false,
     "start_time": "2024-06-17T18:16:36.071487",
     "status": "completed"
    },
    "tags": []
   },
   "outputs": [],
   "source": [
    "n_col = idx\n",
    "n_col"
   ]
  },
  {
   "cell_type": "markdown",
   "id": "ed6ec22f-4bb6-4a84-9143-435ca8dddb8b",
   "metadata": {
    "papermill": {
     "duration": 0.040259,
     "end_time": "2024-06-17T18:16:36.257136",
     "exception": false,
     "start_time": "2024-06-17T18:16:36.216877",
     "status": "completed"
    },
    "tags": []
   },
   "source": [
    "And we'll need to solve the circuit for each output port, i.e. we need to solve `n_rhs` number of equations:"
   ]
  },
  {
   "cell_type": "code",
   "execution_count": null,
   "id": "27902354",
   "metadata": {
    "papermill": {
     "duration": 0.04778,
     "end_time": "2024-06-17T18:16:36.344329",
     "exception": false,
     "start_time": "2024-06-17T18:16:36.296549",
     "status": "completed"
    },
    "tags": []
   },
   "outputs": [],
   "source": [
    "n_rhs = len(port_map)\n",
    "n_rhs"
   ]
  },
  {
   "cell_type": "markdown",
   "id": "e6eb8aaa-0e61-4080-9e86-544167a58e46",
   "metadata": {
    "papermill": {
     "duration": 0.036232,
     "end_time": "2024-06-17T18:16:36.418441",
     "exception": false,
     "start_time": "2024-06-17T18:16:36.382209",
     "status": "completed"
    },
    "tags": []
   },
   "source": [
    "We can represent the internal connection matrix $C_{int}$ as a mapping between port indices:"
   ]
  },
  {
   "cell_type": "code",
   "execution_count": null,
   "id": "f3ff1fa7",
   "metadata": {
    "papermill": {
     "duration": 0.032713,
     "end_time": "2024-06-17T18:16:36.480879",
     "exception": false,
     "start_time": "2024-06-17T18:16:36.448166",
     "status": "completed"
    },
    "tags": []
   },
   "outputs": [],
   "source": [
    "Cmap = {int(instance_ports[k]): int(instance_ports[v]) for k, v in connections.items()}\n",
    "Cmap"
   ]
  },
  {
   "cell_type": "markdown",
   "id": "b9db7990-fe17-4cca-907a-cca94b06f03b",
   "metadata": {
    "papermill": {
     "duration": 0.040265,
     "end_time": "2024-06-17T18:16:36.561282",
     "exception": false,
     "start_time": "2024-06-17T18:16:36.521017",
     "status": "completed"
    },
    "tags": []
   },
   "source": [
    "Therefore, the COO-representation of this connection matrix can be obtained as follows (note that an array of values Cx is not necessary, all non-zero elements in a connection matrix are 1)"
   ]
  },
  {
   "cell_type": "code",
   "execution_count": null,
   "id": "9e4f1728",
   "metadata": {
    "papermill": {
     "duration": 0.052193,
     "end_time": "2024-06-17T18:16:36.654993",
     "exception": false,
     "start_time": "2024-06-17T18:16:36.602800",
     "status": "completed"
    },
    "tags": []
   },
   "outputs": [],
   "source": [
    "Ci = jnp.array(list(Cmap.keys()), dtype=jnp.int32)\n",
    "Cj = jnp.array(list(Cmap.values()), dtype=jnp.int32)\n",
    "print(Ci)\n",
    "print(Cj)"
   ]
  },
  {
   "cell_type": "markdown",
   "id": "0fc2572d-3af5-4ab9-a12d-d7b8487ca84f",
   "metadata": {
    "papermill": {
     "duration": 0.082606,
     "end_time": "2024-06-17T18:16:36.821082",
     "exception": false,
     "start_time": "2024-06-17T18:16:36.738476",
     "status": "completed"
    },
    "tags": []
   },
   "source": [
    "We can represent the external connection matrix $C_{ext}$ as a map between internal port indices and external port indices:"
   ]
  },
  {
   "cell_type": "code",
   "execution_count": null,
   "id": "f56ae166",
   "metadata": {
    "papermill": {
     "duration": 0.050537,
     "end_time": "2024-06-17T18:16:36.905286",
     "exception": false,
     "start_time": "2024-06-17T18:16:36.854749",
     "status": "completed"
    },
    "tags": []
   },
   "outputs": [],
   "source": [
    "Cextmap = {int(instance_ports[k]): int(port_map[v]) for k, v in inverse_ports.items()}\n",
    "Cextmap"
   ]
  },
  {
   "cell_type": "markdown",
   "id": "0e406982-d2c9-426e-ac46-fa4650e2f7dc",
   "metadata": {
    "papermill": {
     "duration": 0.036073,
     "end_time": "2024-06-17T18:16:36.978830",
     "exception": false,
     "start_time": "2024-06-17T18:16:36.942757",
     "status": "completed"
    },
    "tags": []
   },
   "source": [
    "Just as for the internal matrix we can represent this external connection matrix in COO-format:"
   ]
  },
  {
   "cell_type": "code",
   "execution_count": null,
   "id": "cfb419ac",
   "metadata": {
    "papermill": {
     "duration": 0.049854,
     "end_time": "2024-06-17T18:16:37.065371",
     "exception": false,
     "start_time": "2024-06-17T18:16:37.015517",
     "status": "completed"
    },
    "tags": []
   },
   "outputs": [],
   "source": [
    "Cexti = jnp.stack(list(Cextmap.keys()), 0)\n",
    "Cextj = jnp.stack(list(Cextmap.values()), 0)\n",
    "print(Cexti)\n",
    "print(Cextj)"
   ]
  },
  {
   "cell_type": "markdown",
   "id": "933aab49-ec05-4690-8caf-adbc93f0f715",
   "metadata": {
    "papermill": {
     "duration": 0.02711,
     "end_time": "2024-06-17T18:16:37.124685",
     "exception": false,
     "start_time": "2024-06-17T18:16:37.097575",
     "status": "completed"
    },
    "tags": []
   },
   "source": [
    "However, we actually need it as a dense representation:\n",
    "\n",
    "> help needed: can we find a way later on to keep this sparse?"
   ]
  },
  {
   "cell_type": "code",
   "execution_count": null,
   "id": "25c4ec6e",
   "metadata": {
    "papermill": {
     "duration": 0.055723,
     "end_time": "2024-06-17T18:16:37.217973",
     "exception": false,
     "start_time": "2024-06-17T18:16:37.162250",
     "status": "completed"
    },
    "tags": []
   },
   "outputs": [],
   "source": [
    "Cext = jnp.zeros((n_col, n_rhs), dtype=complex).at[Cexti, Cextj].set(1.0)\n",
    "Cext"
   ]
  },
  {
   "cell_type": "markdown",
   "id": "ee0e1a8b-21cd-4a81-a3e9-e312cc94ae6e",
   "metadata": {
    "papermill": {
     "duration": 0.036988,
     "end_time": "2024-06-17T18:16:37.291520",
     "exception": false,
     "start_time": "2024-06-17T18:16:37.254532",
     "status": "completed"
    },
    "tags": []
   },
   "source": [
    "We'll now calculate the row index `CSi` of $C_{int}S_{bd}$ in COO-format:"
   ]
  },
  {
   "cell_type": "code",
   "execution_count": null,
   "id": "1a7e87d1",
   "metadata": {
    "papermill": {
     "duration": 0.068128,
     "end_time": "2024-06-17T18:16:37.396413",
     "exception": false,
     "start_time": "2024-06-17T18:16:37.328285",
     "status": "completed"
    },
    "tags": []
   },
   "outputs": [],
   "source": [
    "# TODO: make this block jittable...\n",
    "Ix = jnp.ones((*batch_shape, n_col))\n",
    "Ii = Ij = jnp.arange(n_col)\n",
    "mask = Cj[None, :] == Si[:, None]\n",
    "CSi = jnp.broadcast_to(Ci[None, :], mask.shape)[mask]\n",
    "CSi"
   ]
  },
  {
   "cell_type": "markdown",
   "id": "48d97ac6-ec8b-4040-9310-b49de1d69810",
   "metadata": {
    "papermill": {
     "duration": 0.09557,
     "end_time": "2024-06-17T18:16:37.582196",
     "exception": false,
     "start_time": "2024-06-17T18:16:37.486626",
     "status": "completed"
    },
    "tags": []
   },
   "source": [
    "> `CSi`: possible jittable alternative? how do we remove the zeros?"
   ]
  },
  {
   "cell_type": "code",
   "execution_count": null,
   "id": "d4ea2cb5",
   "metadata": {
    "papermill": {
     "duration": 0.097381,
     "end_time": "2024-06-17T18:16:37.717827",
     "exception": false,
     "start_time": "2024-06-17T18:16:37.620446",
     "status": "completed"
    },
    "tags": []
   },
   "outputs": [],
   "source": [
    "CSi_ = jnp.where(Cj[None, :] == Si[:, None], Ci[None, :], 0).sum(1)  # not used\n",
    "CSi_  # not used"
   ]
  },
  {
   "cell_type": "markdown",
   "id": "40923193-6a18-479f-9bc6-63a32fdf1f0a",
   "metadata": {
    "papermill": {
     "duration": 0.047265,
     "end_time": "2024-06-17T18:16:37.803154",
     "exception": false,
     "start_time": "2024-06-17T18:16:37.755889",
     "status": "completed"
    },
    "tags": []
   },
   "source": [
    "The column index `CSj` of $C_{int}S_{bd}$ can more easily be obtained:"
   ]
  },
  {
   "cell_type": "code",
   "execution_count": null,
   "id": "f71fdd7c",
   "metadata": {
    "papermill": {
     "duration": 0.072736,
     "end_time": "2024-06-17T18:16:37.943300",
     "exception": false,
     "start_time": "2024-06-17T18:16:37.870564",
     "status": "completed"
    },
    "tags": []
   },
   "outputs": [],
   "source": [
    "mask = (Cj[:, None] == Si[None, :]).any(0)\n",
    "CSj = Sj[mask]\n",
    "CSj"
   ]
  },
  {
   "cell_type": "markdown",
   "id": "86928ec4-0935-4876-b0eb-bb25945e2e6b",
   "metadata": {
    "papermill": {
     "duration": 0.037714,
     "end_time": "2024-06-17T18:16:38.018723",
     "exception": false,
     "start_time": "2024-06-17T18:16:37.981009",
     "status": "completed"
    },
    "tags": []
   },
   "source": [
    "Finally, the values `CSx` of $C_{int}S_{bd}$ can be obtained as follows:"
   ]
  },
  {
   "cell_type": "code",
   "execution_count": null,
   "id": "59d2e1b2",
   "metadata": {
    "papermill": {
     "duration": 0.051052,
     "end_time": "2024-06-17T18:16:38.107911",
     "exception": false,
     "start_time": "2024-06-17T18:16:38.056859",
     "status": "completed"
    },
    "tags": []
   },
   "outputs": [],
   "source": [
    "CSx = Sx[..., mask]\n",
    "CSx"
   ]
  },
  {
   "cell_type": "markdown",
   "id": "85689511-e580-4e8c-93b6-3c4744624889",
   "metadata": {
    "papermill": {
     "duration": 0.039204,
     "end_time": "2024-06-17T18:16:38.184419",
     "exception": false,
     "start_time": "2024-06-17T18:16:38.145215",
     "status": "completed"
    },
    "tags": []
   },
   "source": [
    "Now we calculate $I - C_{int}S_{bd}$ in an *uncoalesced* way (we might have duplicate indices on the diagonal):\n",
    "\n",
    "> **uncoalesced**: having duplicate index combinations (i, j) in the representation possibly with different corresponding values. This is usually not a problem as in linear operations these values will end up to be summed, usually the behavior you want:"
   ]
  },
  {
   "cell_type": "code",
   "execution_count": null,
   "id": "53c3f4ab",
   "metadata": {
    "papermill": {
     "duration": 0.052437,
     "end_time": "2024-06-17T18:16:38.277444",
     "exception": false,
     "start_time": "2024-06-17T18:16:38.225007",
     "status": "completed"
    },
    "tags": []
   },
   "outputs": [],
   "source": [
    "I_CSi = jnp.concatenate([CSi, Ii], -1)\n",
    "I_CSj = jnp.concatenate([CSj, Ij], -1)\n",
    "I_CSx = jnp.concatenate([-CSx, Ix], -1)\n",
    "print(I_CSi)\n",
    "print(I_CSj)\n",
    "print(I_CSx)"
   ]
  },
  {
   "cell_type": "code",
   "execution_count": null,
   "id": "188e4606",
   "metadata": {
    "papermill": {
     "duration": 0.050185,
     "end_time": "2024-06-17T18:16:38.368592",
     "exception": false,
     "start_time": "2024-06-17T18:16:38.318407",
     "status": "completed"
    },
    "tags": []
   },
   "outputs": [],
   "source": [
    "n_col, n_rhs = Cext.shape\n",
    "print(n_col, n_rhs)"
   ]
  },
  {
   "cell_type": "markdown",
   "id": "f39b59a8-d495-433f-92bc-2396fb0b28f9",
   "metadata": {
    "papermill": {
     "duration": 0.022085,
     "end_time": "2024-06-17T18:16:38.428079",
     "exception": false,
     "start_time": "2024-06-17T18:16:38.405994",
     "status": "completed"
    },
    "tags": []
   },
   "source": [
    "The batch shape dimension can generally speaking be anything (in the example here 0D). We need to do the necessary reshapings to make the batch shape 1D:"
   ]
  },
  {
   "cell_type": "code",
   "execution_count": null,
   "id": "dad259e7",
   "metadata": {
    "papermill": {
     "duration": 0.055225,
     "end_time": "2024-06-17T18:16:38.506617",
     "exception": false,
     "start_time": "2024-06-17T18:16:38.451392",
     "status": "completed"
    },
    "tags": []
   },
   "outputs": [],
   "source": [
    "n_lhs = jnp.prod(jnp.array(batch_shape, dtype=jnp.int32))\n",
    "print(n_lhs)"
   ]
  },
  {
   "cell_type": "code",
   "execution_count": null,
   "id": "9cf69da7",
   "metadata": {
    "papermill": {
     "duration": 0.033956,
     "end_time": "2024-06-17T18:16:38.567060",
     "exception": false,
     "start_time": "2024-06-17T18:16:38.533104",
     "status": "completed"
    },
    "tags": []
   },
   "outputs": [],
   "source": [
    "Sx = Sx.reshape(n_lhs, -1)\n",
    "Sx.shape"
   ]
  },
  {
   "cell_type": "code",
   "execution_count": null,
   "id": "788294fa",
   "metadata": {
    "papermill": {
     "duration": 0.03182,
     "end_time": "2024-06-17T18:16:38.622427",
     "exception": false,
     "start_time": "2024-06-17T18:16:38.590607",
     "status": "completed"
    },
    "tags": []
   },
   "outputs": [],
   "source": [
    "I_CSx = I_CSx.reshape(n_lhs, -1)\n",
    "I_CSx.shape"
   ]
  },
  {
   "cell_type": "markdown",
   "id": "fface8e7-ccd3-4dd9-aa88-532c91fd34d3",
   "metadata": {
    "papermill": {
     "duration": 0.021511,
     "end_time": "2024-06-17T18:16:38.667816",
     "exception": false,
     "start_time": "2024-06-17T18:16:38.646305",
     "status": "completed"
    },
    "tags": []
   },
   "source": [
    "We're finally ready to do the most important part of the calculation, which we conveniently leave to `klujax` and `SuiteSparse`:"
   ]
  },
  {
   "cell_type": "code",
   "execution_count": null,
   "id": "9c1d8644",
   "metadata": {
    "papermill": {
     "duration": 0.0328,
     "end_time": "2024-06-17T18:16:38.721970",
     "exception": false,
     "start_time": "2024-06-17T18:16:38.689170",
     "status": "completed"
    },
    "tags": []
   },
   "outputs": [],
   "source": [
    "inv_I_CS_Cext = solve_klu(I_CSi, I_CSj, I_CSx, Cext)"
   ]
  },
  {
   "cell_type": "markdown",
   "id": "0c63faff-930d-4006-aaa1-4809396f6aff",
   "metadata": {
    "papermill": {
     "duration": 0.022018,
     "end_time": "2024-06-17T18:16:38.767325",
     "exception": false,
     "start_time": "2024-06-17T18:16:38.745307",
     "status": "completed"
    },
    "tags": []
   },
   "source": [
    "one more sparse multiplication:"
   ]
  },
  {
   "cell_type": "code",
   "execution_count": null,
   "id": "cccda072",
   "metadata": {
    "papermill": {
     "duration": 0.030834,
     "end_time": "2024-06-17T18:16:38.824253",
     "exception": false,
     "start_time": "2024-06-17T18:16:38.793419",
     "status": "completed"
    },
    "tags": []
   },
   "outputs": [],
   "source": [
    "S_inv_I_CS_Cext = mul_coo(Si, Sj, Sx, inv_I_CS_Cext)"
   ]
  },
  {
   "cell_type": "markdown",
   "id": "6cb6b730-eef1-41ea-a190-83be5f631dec",
   "metadata": {
    "papermill": {
     "duration": 0.039155,
     "end_time": "2024-06-17T18:16:38.899081",
     "exception": false,
     "start_time": "2024-06-17T18:16:38.859926",
     "status": "completed"
    },
    "tags": []
   },
   "source": [
    "And one more $C_{ext}$ multiplication which we do by clever indexing:"
   ]
  },
  {
   "cell_type": "code",
   "execution_count": null,
   "id": "12ff877c",
   "metadata": {
    "papermill": {
     "duration": 0.050529,
     "end_time": "2024-06-17T18:16:38.987743",
     "exception": false,
     "start_time": "2024-06-17T18:16:38.937214",
     "status": "completed"
    },
    "tags": []
   },
   "outputs": [],
   "source": [
    "CextT_S_inv_I_CS_Cext = S_inv_I_CS_Cext[..., Cexti, :][..., :, Cextj]\n",
    "CextT_S_inv_I_CS_Cext"
   ]
  },
  {
   "cell_type": "markdown",
   "id": "9b046892-0c5e-466f-ae44-8c5d04763317",
   "metadata": {
    "papermill": {
     "duration": 0.022892,
     "end_time": "2024-06-17T18:16:39.034633",
     "exception": false,
     "start_time": "2024-06-17T18:16:39.011741",
     "status": "completed"
    },
    "tags": []
   },
   "source": [
    "That's it! We found the S-matrix of the circuit. We just need to reshape the batch dimension back into the matrix:"
   ]
  },
  {
   "cell_type": "code",
   "execution_count": null,
   "id": "cbf962af",
   "metadata": {
    "papermill": {
     "duration": 0.039839,
     "end_time": "2024-06-17T18:16:39.098447",
     "exception": false,
     "start_time": "2024-06-17T18:16:39.058608",
     "status": "completed"
    },
    "tags": []
   },
   "outputs": [],
   "source": [
    "_, n, _ = CextT_S_inv_I_CS_Cext.shape\n",
    "S = CextT_S_inv_I_CS_Cext.reshape(*batch_shape, n, n)\n",
    "S"
   ]
  },
  {
   "cell_type": "markdown",
   "id": "ebc6d33d-49fe-4dfb-b166-41051a64b9fd",
   "metadata": {
    "papermill": {
     "duration": 0.053733,
     "end_time": "2024-06-17T18:16:39.194989",
     "exception": false,
     "start_time": "2024-06-17T18:16:39.141256",
     "status": "completed"
    },
    "tags": []
   },
   "source": [
    "Oh and to complete the `SDense` representation we need to specify the port map as well:"
   ]
  },
  {
   "cell_type": "code",
   "execution_count": null,
   "id": "21098a45",
   "metadata": {
    "papermill": {
     "duration": 0.058504,
     "end_time": "2024-06-17T18:16:39.286413",
     "exception": false,
     "start_time": "2024-06-17T18:16:39.227909",
     "status": "completed"
    },
    "tags": []
   },
   "outputs": [],
   "source": [
    "port_map"
   ]
  },
  {
   "cell_type": "markdown",
   "id": "4297d283-33c5-4c7b-902c-cec838b90fbb",
   "metadata": {
    "papermill": {
     "duration": 0.041824,
     "end_time": "2024-06-17T18:16:39.368037",
     "exception": false,
     "start_time": "2024-06-17T18:16:39.326213",
     "status": "completed"
    },
    "tags": []
   },
   "source": [
    "### Algorithm Improvements"
   ]
  },
  {
   "cell_type": "markdown",
   "id": "94154f27-1b9a-40b2-bb24-edd357cb081d",
   "metadata": {
    "papermill": {
     "duration": 0.040947,
     "end_time": "2024-06-17T18:16:39.447561",
     "exception": false,
     "start_time": "2024-06-17T18:16:39.406614",
     "status": "completed"
    },
    "tags": []
   },
   "source": [
    "This algorithm is \n",
    "\n",
    "* very fast for large circuits 🙂\n",
    "* jittable 🙂\n",
    "* differentiable 🙂\n",
    "\n",
    "This algorithm is however:\n",
    "\n",
    "* **not** GPU-compatible 🙂\n",
    "\n",
    "There are probably still plenty of improvements possible for this algorithm:\n",
    "\n",
    "* **¿** make it GPU compatible (requires making suitesparse GPU compatible... probably not gonna happen)**?**\n"
   ]
  },
  {
   "cell_type": "markdown",
   "id": "af865f32-a6a3-44c5-b4cf-08859c99c6f1",
   "metadata": {
    "papermill": {
     "duration": 0.042211,
     "end_time": "2024-06-17T18:16:39.526747",
     "exception": false,
     "start_time": "2024-06-17T18:16:39.484536",
     "status": "completed"
    },
    "tags": []
   },
   "source": [
    ":::{note}\n",
    "Since The KLU Backend is Superior to the Filipsson-Gunnar backend, SAX will default (since v0.10.0) to the KLU backend if `klujax` is installed.name1\n",
    ":::"
   ]
  },
  {
   "cell_type": "code",
   "execution_count": null,
   "id": "6673c7db-7f25-4121-b441-f379fc3bf09c",
   "metadata": {
    "papermill": {
     "duration": 0.0429,
     "end_time": "2024-06-17T18:16:39.607749",
     "exception": false,
     "start_time": "2024-06-17T18:16:39.564849",
     "status": "completed"
    },
    "tags": []
   },
   "outputs": [],
   "source": [
    "# default_exp backends.additive"
   ]
  },
  {
   "cell_type": "markdown",
   "id": "32d1b715-7b0e-4f00-b61f-939e931178bc",
   "metadata": {
    "papermill": {
     "duration": 0.036923,
     "end_time": "2024-06-17T18:16:39.680667",
     "exception": false,
     "start_time": "2024-06-17T18:16:39.643744",
     "status": "completed"
    },
    "tags": []
   },
   "source": [
    "## Additive Backend\n",
    "\n",
    "```{eval-rst}\n",
    ".. autofunction:: sax.backends.analyze_circuit_additive\n",
    "```\n",
    "\n",
    "```{eval-rst}\n",
    ".. autofunction:: sax.backends.evaluate_circuit_additive\n",
    "```\n",
    "\n",
    "Sometimes we would like to calculate circuit path lengths or time delays within a circuit. We could obviously simulate these things with a time domain simulator, but in many cases a simple additive backend (as opposed to the default multiplicative backend) can suffice."
   ]
  },
  {
   "cell_type": "markdown",
   "id": "ab5eac26-7c71-446c-8e66-547a064f9192",
   "metadata": {
    "papermill": {
     "duration": 0.038337,
     "end_time": "2024-06-17T18:16:39.756683",
     "exception": false,
     "start_time": "2024-06-17T18:16:39.718346",
     "status": "completed"
    },
    "tags": []
   },
   "source": [
    "### Example\n",
    "\n",
    ":::{note}\n",
    "in stead of S-parameters the stypes need to contain *additive* parameters, such as length or time delay.\n",
    ":::"
   ]
  },
  {
   "cell_type": "code",
   "execution_count": null,
   "id": "1ddc3a12-be7f-4327-be60-2a46c51bb21f",
   "metadata": {
    "papermill": {
     "duration": 0.091154,
     "end_time": "2024-06-17T18:16:39.889436",
     "exception": false,
     "start_time": "2024-06-17T18:16:39.798282",
     "status": "completed"
    },
    "tags": []
   },
   "outputs": [],
   "source": [
    "wg_sdict = {\n",
    "    (\"in0\", \"out0\"): jnp.array(\n",
    "        [100.0, 200.0, 300.0]\n",
    "    ),  # assume for now there are three possible paths between these two ports.\n",
    "    (\"out0\", \"in0\"): jnp.array(\n",
    "        [100.0, 200.0, 300.0]\n",
    "    ),  # assume for now there are three possible paths between these two ports.\n",
    "}\n",
    "\n",
    "dc_sdict = {\n",
    "    (\"in0\", \"out0\"): jnp.array(\n",
    "        [10.0, 20.0]\n",
    "    ),  # assume for now there are two possible paths between these two ports.\n",
    "    (\"in0\", \"out1\"): 15.0,\n",
    "    (\"in1\", \"out0\"): 15.0,\n",
    "    (\"in1\", \"out1\"): jnp.array(\n",
    "        [10.0, 20.0]\n",
    "    ),  # assume for now there are two possible paths between these two ports.\n",
    "}\n",
    "\n",
    "instances = {\n",
    "    \"dc1\": {\"component\": \"dc\"},\n",
    "    \"wg\": {\"component\": \"wg\"},\n",
    "    \"dc2\": {\"component\": \"dc\"},\n",
    "}\n",
    "connections = {\n",
    "    \"dc1,out0\": \"wg,in0\",\n",
    "    \"wg,out0\": \"dc2,in0\",\n",
    "    \"dc1,out1\": \"dc2,in1\",\n",
    "}\n",
    "ports = {\n",
    "    \"in0\": \"dc1,in0\",\n",
    "    \"in1\": \"dc1,in1\",\n",
    "    \"out0\": \"dc2,out0\",\n",
    "    \"out1\": \"dc2,out1\",\n",
    "}\n",
    "models = {\n",
    "    \"wg\": lambda: wg_sdict,\n",
    "    \"dc\": lambda: dc_sdense,\n",
    "}"
   ]
  },
  {
   "cell_type": "markdown",
   "id": "c6847c46-6c4a-4b55-899c-55925dfe6538",
   "metadata": {
    "papermill": {
     "duration": 0.038993,
     "end_time": "2024-06-17T18:16:39.967069",
     "exception": false,
     "start_time": "2024-06-17T18:16:39.928076",
     "status": "completed"
    },
    "tags": []
   },
   "source": [
    ":::{note}\n",
    "it is recommended to **not** use an `SDense` representation for the additive backend. Very often an `SDense` representation will introduce **zeros** which will be interpreted as an **existing connection with zero length**. Conversely, in a sparse representation like `SDict` or `SCoo`, non-existing elements will be just that: they will not be present in the internal graph.\n",
    ":::"
   ]
  },
  {
   "cell_type": "code",
   "execution_count": null,
   "id": "e9cecb32-f18f-4c48-a2cb-ed92102c9fdc",
   "metadata": {
    "papermill": {
     "duration": 0.157847,
     "end_time": "2024-06-17T18:16:40.166713",
     "exception": false,
     "start_time": "2024-06-17T18:16:40.008866",
     "status": "completed"
    },
    "tags": []
   },
   "outputs": [],
   "source": [
    "edges = sax.backends.additive._graph_edges(\n",
    "    {k: models[v[\"component\"]]() for k, v in instances.items()}, connections, ports\n",
    ")\n",
    "edges"
   ]
  },
  {
   "cell_type": "markdown",
   "id": "5dee9ce2-8ca6-4f7e-b5a3-f68f20e88adc",
   "metadata": {
    "papermill": {
     "duration": 0.022793,
     "end_time": "2024-06-17T18:16:40.216809",
     "exception": false,
     "start_time": "2024-06-17T18:16:40.194016",
     "status": "completed"
    },
    "tags": []
   },
   "source": [
    "We made a difference here between edges of 'S'-type (connections through the S-matrix) and edges of 'C'-type (connections through the connection matrix). Connections of 'C'-type obviously always have length zero as they signify per definition the equality of two ports."
   ]
  },
  {
   "cell_type": "markdown",
   "id": "23f444b0-a52b-433a-8548-4a9955dfb4fb",
   "metadata": {
    "papermill": {
     "duration": 0.024633,
     "end_time": "2024-06-17T18:16:40.265290",
     "exception": false,
     "start_time": "2024-06-17T18:16:40.240657",
     "status": "completed"
    },
    "tags": []
   },
   "source": [
    "We can create a NetworkX graph from these edges:"
   ]
  },
  {
   "cell_type": "code",
   "execution_count": null,
   "id": "b0191057-9499-475e-a770-34e393554a94",
   "metadata": {
    "papermill": {
     "duration": 1.055692,
     "end_time": "2024-06-17T18:16:41.349043",
     "exception": false,
     "start_time": "2024-06-17T18:16:40.293351",
     "status": "completed"
    },
    "tags": []
   },
   "outputs": [],
   "source": [
    "graph = nx.Graph()\n",
    "graph.add_edges_from(edges)\n",
    "nx.draw_kamada_kawai(graph, with_labels=True)"
   ]
  },
  {
   "cell_type": "code",
   "execution_count": null,
   "id": "035b450d-54aa-43c5-8cc6-2b9e5e2e5021",
   "metadata": {
    "papermill": {
     "duration": 0.416144,
     "end_time": "2024-06-17T18:16:41.806804",
     "exception": false,
     "start_time": "2024-06-17T18:16:41.390660",
     "status": "completed"
    },
    "tags": []
   },
   "outputs": [],
   "source": [
    "graph = sax.backends.additive._prune_internal_output_nodes(graph)\n",
    "nx.draw_kamada_kawai(graph, with_labels=True)"
   ]
  },
  {
   "cell_type": "markdown",
   "id": "32b7daf2-c374-4c8d-bbe5-ad39c0f9af44",
   "metadata": {
    "papermill": {
     "duration": 0.086404,
     "end_time": "2024-06-17T18:16:41.955604",
     "exception": false,
     "start_time": "2024-06-17T18:16:41.869200",
     "status": "completed"
    },
    "tags": []
   },
   "source": [
    "We can now get a list of all possible paths in the network. Note that these paths **must** alternate between an S-edge and a C-edge:"
   ]
  },
  {
   "cell_type": "code",
   "execution_count": null,
   "id": "176ea6a5-bb16-4232-8a42-6da2371de2fe",
   "metadata": {
    "papermill": {
     "duration": 0.129404,
     "end_time": "2024-06-17T18:16:42.187967",
     "exception": false,
     "start_time": "2024-06-17T18:16:42.058563",
     "status": "completed"
    },
    "tags": []
   },
   "outputs": [],
   "source": [
    "paths = sax.backends.additive._get_possible_paths(graph, (\"\", \"in0\"), (\"\", \"out0\"))\n",
    "paths"
   ]
  },
  {
   "cell_type": "markdown",
   "id": "68766ba9-0991-45f5-aa7d-1bcca8db332d",
   "metadata": {
    "papermill": {
     "duration": 0.079768,
     "end_time": "2024-06-17T18:16:42.365287",
     "exception": false,
     "start_time": "2024-06-17T18:16:42.285519",
     "status": "completed"
    },
    "tags": []
   },
   "source": [
    "And the path lengths of those paths can be calculated as follows:"
   ]
  },
  {
   "cell_type": "code",
   "execution_count": null,
   "id": "c3063587-c9aa-4b26-ae70-4b9b770f33ae",
   "metadata": {
    "papermill": {
     "duration": 0.30181,
     "end_time": "2024-06-17T18:16:42.721299",
     "exception": false,
     "start_time": "2024-06-17T18:16:42.419489",
     "status": "completed"
    },
    "tags": []
   },
   "outputs": [],
   "source": [
    "sax.backends.additive._path_lengths(graph, paths)"
   ]
  },
  {
   "cell_type": "markdown",
   "id": "95f6d1e0-ef8f-4394-a9b1-b8cbdfb6051e",
   "metadata": {
    "papermill": {
     "duration": 0.035497,
     "end_time": "2024-06-17T18:16:42.788485",
     "exception": false,
     "start_time": "2024-06-17T18:16:42.752988",
     "status": "completed"
    },
    "tags": []
   },
   "source": [
    "This is all brought together in the additive KLU backend:"
   ]
  },
  {
   "cell_type": "code",
   "execution_count": null,
   "id": "72f14aaa-a682-4734-beb9-5e0e89b960c3",
   "metadata": {
    "papermill": {
     "duration": 0.309492,
     "end_time": "2024-06-17T18:16:43.126559",
     "exception": false,
     "start_time": "2024-06-17T18:16:42.817067",
     "status": "completed"
    },
    "tags": []
   },
   "outputs": [],
   "source": [
    "analyzed_instances = sax.backends.analyze_instances_additive(instances, models)\n",
    "analyzed_circuit = sax.backends.analyze_circuit_additive(\n",
    "    analyzed_instances, connections, ports\n",
    ")\n",
    "sax.backends.evaluate_circuit_additive(\n",
    "    analyzed_circuit, {k: models[v[\"component\"]]() for k, v in instances.items()}\n",
    ")"
   ]
  }
 ],
 "metadata": {
  "kernelspec": {
   "display_name": "Python 3 (ipykernel)",
   "language": "python",
   "name": "python3"
  },
  "language_info": {
   "codemirror_mode": {
    "name": "ipython",
    "version": 3
   },
   "file_extension": ".py",
   "mimetype": "text/x-python",
   "name": "python",
   "nbconvert_exporter": "python",
   "pygments_lexer": "ipython3",
   "version": "3.11.9"
  }
 },
 "nbformat": 4,
 "nbformat_minor": 5
}
